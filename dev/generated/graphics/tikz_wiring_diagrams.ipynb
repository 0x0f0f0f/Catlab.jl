{
 "cells": [
  {
   "outputs": [],
   "cell_type": "markdown",
   "source": [
    "# Wiring diagrams in TikZ\n",
    "\n",
    "\n",
    "Catlab can draw morphism expressions as TikZ pictures. To use this feature,\n",
    "LaTeX must be installed and the Julia package\n",
    "[TikzPictures.jl](https://github.com/sisl/TikzPictures.jl) must be imported\n",
    "before Catlab is loaded."
   ],
   "metadata": {}
  },
  {
   "outputs": [],
   "cell_type": "code",
   "source": [
    "import TikzPictures\n",
    "using Catlab.WiringDiagrams, Catlab.Graphics"
   ],
   "metadata": {},
   "execution_count": 1
  },
  {
   "outputs": [],
   "cell_type": "markdown",
   "source": [
    "## Examples"
   ],
   "metadata": {}
  },
  {
   "outputs": [],
   "cell_type": "markdown",
   "source": [
    "### Symmetric monoidal category"
   ],
   "metadata": {}
  },
  {
   "outputs": [],
   "cell_type": "code",
   "source": [
    "using Catlab.Doctrines\n",
    "\n",
    "A, B, C, D = Ob(FreeSymmetricMonoidalCategory, :A, :B, :C, :D)\n",
    "f, g = Hom(:f, A, B), Hom(:g, B, A);"
   ],
   "metadata": {},
   "execution_count": 2
  },
  {
   "outputs": [],
   "cell_type": "markdown",
   "source": [
    "To start, here are a few very simple examples."
   ],
   "metadata": {}
  },
  {
   "outputs": [
    {
     "output_type": "execute_result",
     "data": {
      "text/plain": "Catlab.Graphics.TikZ.Document(Catlab.Graphics.TikZ.Picture(Catlab.Graphics.TikZ.Statement[Catlab.Graphics.TikZ.Node(\"root\", Catlab.Graphics.TikZ.Property[Catlab.Graphics.TikZ.Property(\"outer box\", nothing), Catlab.Graphics.TikZ.Property(\"minimum width\", \"6em\"), Catlab.Graphics.TikZ.Property(\"minimum height\", \"4em\")], Catlab.Graphics.TikZ.Coordinate(\"0\", \"0\"), \"\"), Catlab.Graphics.TikZ.Node(\"n3\", Catlab.Graphics.TikZ.Property[Catlab.Graphics.TikZ.Property(\"box\", nothing), Catlab.Graphics.TikZ.Property(\"minimum size\", \"2em\")], Catlab.Graphics.TikZ.Coordinate(\"0\", \"0\"), \"\\$f\\$\"), Catlab.Graphics.TikZ.Edge(Catlab.Graphics.TikZ.PathExpression[Catlab.Graphics.TikZ.NodeCoordinate(\"root.west\"), Catlab.Graphics.TikZ.PathOperation(\"to\", Catlab.Graphics.TikZ.Property[Catlab.Graphics.TikZ.Property(\"out\", \"0\"), Catlab.Graphics.TikZ.Property(\"in\", \"-180\")]), Catlab.Graphics.TikZ.NodeCoordinate(\"n3.west\")], Catlab.Graphics.TikZ.Property[Catlab.Graphics.TikZ.Property(\"wire\", \"\\$A\\$\")]), Catlab.Graphics.TikZ.Edge(Catlab.Graphics.TikZ.PathExpression[Catlab.Graphics.TikZ.NodeCoordinate(\"n3.east\"), Catlab.Graphics.TikZ.PathOperation(\"to\", Catlab.Graphics.TikZ.Property[Catlab.Graphics.TikZ.Property(\"out\", \"0\"), Catlab.Graphics.TikZ.Property(\"in\", \"180\")]), Catlab.Graphics.TikZ.NodeCoordinate(\"root.east\")], Catlab.Graphics.TikZ.Property[Catlab.Graphics.TikZ.Property(\"wire\", \"\\$B\\$\")])], Catlab.Graphics.TikZ.Property[Catlab.Graphics.TikZ.Property(\"x\", \"1em\"), Catlab.Graphics.TikZ.Property(\"y\", \"1em\"), Catlab.Graphics.TikZ.Property(\"outer box/.style\", Catlab.Graphics.TikZ.Property[Catlab.Graphics.TikZ.Property(\"draw\", \"none\")]), Catlab.Graphics.TikZ.Property(\"box/.style\", Catlab.Graphics.TikZ.Property[Catlab.Graphics.TikZ.Property(\"rectangle\", nothing), Catlab.Graphics.TikZ.Property(\"draw\", nothing), Catlab.Graphics.TikZ.Property(\"solid\", nothing), Catlab.Graphics.TikZ.Property(\"rounded corners\", nothing)]), Catlab.Graphics.TikZ.Property(\"circular box/.style\", Catlab.Graphics.TikZ.Property[Catlab.Graphics.TikZ.Property(\"circle\", nothing), Catlab.Graphics.TikZ.Property(\"draw\", nothing), Catlab.Graphics.TikZ.Property(\"solid\", nothing)]), Catlab.Graphics.TikZ.Property(\"junction/.style\", Catlab.Graphics.TikZ.Property[Catlab.Graphics.TikZ.Property(\"circle\", nothing), Catlab.Graphics.TikZ.Property(\"draw\", nothing), Catlab.Graphics.TikZ.Property(\"fill\", nothing), Catlab.Graphics.TikZ.Property(\"inner sep\", \"0\")]), Catlab.Graphics.TikZ.Property(\"variant junction/.style\", Catlab.Graphics.TikZ.Property[Catlab.Graphics.TikZ.Property(\"circle\", nothing), Catlab.Graphics.TikZ.Property(\"draw\", nothing), Catlab.Graphics.TikZ.Property(\"solid\", nothing), Catlab.Graphics.TikZ.Property(\"inner sep\", \"0\")]), Catlab.Graphics.TikZ.Property(\"invisible/.style\", Catlab.Graphics.TikZ.Property[Catlab.Graphics.TikZ.Property(\"draw\", \"none\"), Catlab.Graphics.TikZ.Property(\"inner sep\", \"0\")]), Catlab.Graphics.TikZ.Property(\"wire/.style\", Catlab.Graphics.TikZ.Property[Catlab.Graphics.TikZ.Property(\"draw\", nothing), Catlab.Graphics.TikZ.Property(\"postaction\", Catlab.Graphics.TikZ.Property[Catlab.Graphics.TikZ.Property(\"decorate\", nothing)]), Catlab.Graphics.TikZ.Property(\"decoration\", Catlab.Graphics.TikZ.Property[Catlab.Graphics.TikZ.Property(\"markings\", nothing), Catlab.Graphics.TikZ.Property(\"mark\", \"at position 0.5 with {\\\\node[anchor=south] {#1};}\")])])]), [\"calc\", \"decorations.markings\"])",
      "image/svg+xml": [
       "<?xml version=\"1.0\" encoding=\"UTF-8\"?>\n",
       "<svg xmlns=\"http://www.w3.org/2000/svg\" xmlns:xlink=\"http://www.w3.org/1999/xlink\" width=\"60.573pt\" height=\"39.851pt\" viewBox=\"0 0 60.573 39.851\" version=\"1.1\">\n",
       "<defs>\n",
       "<g>\n",
       "<symbol overflow=\"visible\" id=\"glyph-1579379542894850-0-0\">\n",
       "<path style=\"stroke:none;\" d=\"\"/>\n",
       "</symbol>\n",
       "<symbol overflow=\"visible\" id=\"glyph-1579379542894850-0-1\">\n",
       "<path style=\"stroke:none;\" d=\"M 3.65625 -3.984375 L 4.515625 -3.984375 C 4.71875 -3.984375 4.8125 -3.984375 4.8125 -4.1875 C 4.8125 -4.296875 4.71875 -4.296875 4.546875 -4.296875 L 3.71875 -4.296875 L 3.921875 -5.4375 C 3.96875 -5.640625 4.109375 -6.34375 4.171875 -6.46875 C 4.25 -6.65625 4.421875 -6.8125 4.640625 -6.8125 C 4.671875 -6.8125 4.9375 -6.8125 5.125 -6.625 C 4.6875 -6.59375 4.578125 -6.234375 4.578125 -6.09375 C 4.578125 -5.859375 4.765625 -5.734375 4.953125 -5.734375 C 5.21875 -5.734375 5.5 -5.96875 5.5 -6.34375 C 5.5 -6.796875 5.046875 -7.03125 4.640625 -7.03125 C 4.296875 -7.03125 3.671875 -6.84375 3.375 -5.859375 C 3.3125 -5.65625 3.28125 -5.546875 3.046875 -4.296875 L 2.359375 -4.296875 C 2.15625 -4.296875 2.046875 -4.296875 2.046875 -4.109375 C 2.046875 -3.984375 2.140625 -3.984375 2.328125 -3.984375 L 2.984375 -3.984375 L 2.25 -0.046875 C 2.0625 0.921875 1.890625 1.828125 1.375 1.828125 C 1.328125 1.828125 1.09375 1.828125 0.890625 1.640625 C 1.359375 1.609375 1.453125 1.25 1.453125 1.109375 C 1.453125 0.875 1.265625 0.75 1.078125 0.75 C 0.8125 0.75 0.53125 0.984375 0.53125 1.359375 C 0.53125 1.796875 0.96875 2.046875 1.375 2.046875 C 1.921875 2.046875 2.328125 1.453125 2.5 1.078125 C 2.828125 0.453125 3.046875 -0.75 3.0625 -0.828125 Z M 3.65625 -3.984375 \"/>\n",
       "</symbol>\n",
       "<symbol overflow=\"visible\" id=\"glyph-1579379542894850-0-2\">\n",
       "<path style=\"stroke:none;\" d=\"M 1.78125 -1.140625 C 1.390625 -0.484375 1 -0.34375 0.5625 -0.3125 C 0.4375 -0.296875 0.34375 -0.296875 0.34375 -0.109375 C 0.34375 -0.046875 0.40625 0 0.484375 0 C 0.75 0 1.0625 -0.03125 1.328125 -0.03125 C 1.671875 -0.03125 2.015625 0 2.328125 0 C 2.390625 0 2.515625 0 2.515625 -0.1875 C 2.515625 -0.296875 2.4375 -0.3125 2.359375 -0.3125 C 2.140625 -0.328125 1.890625 -0.40625 1.890625 -0.65625 C 1.890625 -0.78125 1.953125 -0.890625 2.03125 -1.03125 L 2.796875 -2.296875 L 5.296875 -2.296875 C 5.3125 -2.09375 5.453125 -0.734375 5.453125 -0.640625 C 5.453125 -0.34375 4.9375 -0.3125 4.734375 -0.3125 C 4.59375 -0.3125 4.5 -0.3125 4.5 -0.109375 C 4.5 0 4.609375 0 4.640625 0 C 5.046875 0 5.46875 -0.03125 5.875 -0.03125 C 6.125 -0.03125 6.765625 0 7.015625 0 C 7.0625 0 7.1875 0 7.1875 -0.203125 C 7.1875 -0.3125 7.09375 -0.3125 6.953125 -0.3125 C 6.34375 -0.3125 6.34375 -0.375 6.3125 -0.671875 L 5.703125 -6.890625 C 5.6875 -7.09375 5.6875 -7.140625 5.515625 -7.140625 C 5.359375 -7.140625 5.3125 -7.0625 5.25 -6.96875 Z M 2.984375 -2.609375 L 4.9375 -5.90625 L 5.265625 -2.609375 Z M 2.984375 -2.609375 \"/>\n",
       "</symbol>\n",
       "<symbol overflow=\"visible\" id=\"glyph-1579379542894850-0-3\">\n",
       "<path style=\"stroke:none;\" d=\"M 1.59375 -0.78125 C 1.5 -0.390625 1.46875 -0.3125 0.6875 -0.3125 C 0.515625 -0.3125 0.421875 -0.3125 0.421875 -0.109375 C 0.421875 0 0.515625 0 0.6875 0 L 4.25 0 C 5.828125 0 7 -1.171875 7 -2.15625 C 7 -2.875 6.421875 -3.453125 5.453125 -3.5625 C 6.484375 -3.75 7.53125 -4.484375 7.53125 -5.4375 C 7.53125 -6.171875 6.875 -6.8125 5.6875 -6.8125 L 2.328125 -6.8125 C 2.140625 -6.8125 2.046875 -6.8125 2.046875 -6.609375 C 2.046875 -6.5 2.140625 -6.5 2.328125 -6.5 C 2.34375 -6.5 2.53125 -6.5 2.703125 -6.484375 C 2.875 -6.453125 2.96875 -6.453125 2.96875 -6.3125 C 2.96875 -6.28125 2.953125 -6.25 2.9375 -6.125 Z M 3.09375 -3.65625 L 3.71875 -6.125 C 3.8125 -6.46875 3.828125 -6.5 4.25 -6.5 L 5.546875 -6.5 C 6.421875 -6.5 6.625 -5.90625 6.625 -5.46875 C 6.625 -4.59375 5.765625 -3.65625 4.5625 -3.65625 Z M 2.65625 -0.3125 C 2.515625 -0.3125 2.5 -0.3125 2.4375 -0.3125 C 2.328125 -0.328125 2.296875 -0.34375 2.296875 -0.421875 C 2.296875 -0.453125 2.296875 -0.46875 2.359375 -0.640625 L 3.046875 -3.421875 L 4.921875 -3.421875 C 5.875 -3.421875 6.078125 -2.6875 6.078125 -2.265625 C 6.078125 -1.28125 5.1875 -0.3125 4 -0.3125 Z M 2.65625 -0.3125 \"/>\n",
       "</symbol>\n",
       "</g>\n",
       "<clipPath id=\"clip-1579379542894850-1\">\n",
       "  <path d=\"M 34 14 L 60.574219 14 L 60.574219 26 L 34 26 Z M 34 14 \"/>\n",
       "</clipPath>\n",
       "</defs>\n",
       "<g id=\"surface1\">\n",
       "<path style=\"fill:none;stroke-width:0.3985;stroke-linecap:butt;stroke-linejoin:miter;stroke:rgb(0%,0%,0%);stroke-opacity:1;stroke-miterlimit:10;\" d=\"M 5.975719 9.961156 L -5.977406 9.961156 C -8.180531 9.961156 -9.961781 8.179906 -9.961781 5.976781 L -9.961781 -5.976344 C -9.961781 -8.179469 -8.180531 -9.964625 -5.977406 -9.964625 L 5.975719 -9.964625 C 8.178844 -9.964625 9.964 -8.179469 9.964 -5.976344 L 9.964 5.976781 C 9.964 8.179906 8.178844 9.961156 5.975719 9.961156 Z M 5.975719 9.961156 \" transform=\"matrix(1,0,0,-1,30.286,19.926)\"/>\n",
       "<g style=\"fill:rgb(0%,0%,0%);fill-opacity:1;\">\n",
       "  <use xlink:href=\"#glyph-1579379542894850-0-1\" x=\"27.311\" y=\"22.416\"/>\n",
       "</g>\n",
       "<path style=\"fill:none;stroke-width:0.3985;stroke-linecap:butt;stroke-linejoin:miter;stroke:rgb(0%,0%,0%);stroke-opacity:1;stroke-miterlimit:10;\" d=\"M -30.086781 0.00021875 C -22.31725 0.00021875 -17.930531 0.00021875 -10.161 0.00021875 \" transform=\"matrix(1,0,0,-1,30.286,19.926)\"/>\n",
       "<g style=\"fill:rgb(0%,0%,0%);fill-opacity:1;\">\n",
       "  <use xlink:href=\"#glyph-1579379542894850-0-2\" x=\"6.426\" y=\"16.406\"/>\n",
       "</g>\n",
       "<g clip-path=\"url(#clip-1579379542894850-1)\" clip-rule=\"nonzero\">\n",
       "<path style=\"fill:none;stroke-width:0.3985;stroke-linecap:butt;stroke-linejoin:miter;stroke:rgb(0%,0%,0%);stroke-opacity:1;stroke-miterlimit:10;\" d=\"M 10.163219 0.00021875 C 17.93275 0.00021875 22.315563 0.00021875 30.089 0.00021875 \" transform=\"matrix(1,0,0,-1,30.286,19.926)\"/>\n",
       "</g>\n",
       "<g style=\"fill:rgb(0%,0%,0%);fill-opacity:1;\">\n",
       "  <use xlink:href=\"#glyph-1579379542894850-0-3\" x=\"46.383\" y=\"16.406\"/>\n",
       "</g>\n",
       "</g>\n",
       "</svg>\n",
       "\n"
      ]
     },
     "metadata": {},
     "execution_count": 3
    }
   ],
   "cell_type": "code",
   "source": [
    "to_tikz(f, labels=true)"
   ],
   "metadata": {},
   "execution_count": 3
  },
  {
   "outputs": [
    {
     "output_type": "execute_result",
     "data": {
      "text/plain": "Catlab.Graphics.TikZ.Document(Catlab.Graphics.TikZ.Picture(Catlab.Graphics.TikZ.Statement[Catlab.Graphics.TikZ.Node(\"root\", Catlab.Graphics.TikZ.Property[Catlab.Graphics.TikZ.Property(\"outer box\", nothing), Catlab.Graphics.TikZ.Property(\"minimum width\", \"10em\"), Catlab.Graphics.TikZ.Property(\"minimum height\", \"4em\")], Catlab.Graphics.TikZ.Coordinate(\"0\", \"0\"), \"\"), Catlab.Graphics.TikZ.Node(\"n3\", Catlab.Graphics.TikZ.Property[Catlab.Graphics.TikZ.Property(\"box\", nothing), Catlab.Graphics.TikZ.Property(\"minimum size\", \"2em\")], Catlab.Graphics.TikZ.Coordinate(\"-2\", \"0\"), \"\\$f\\$\"), Catlab.Graphics.TikZ.Node(\"n4\", Catlab.Graphics.TikZ.Property[Catlab.Graphics.TikZ.Property(\"box\", nothing), Catlab.Graphics.TikZ.Property(\"minimum size\", \"2em\")], Catlab.Graphics.TikZ.Coordinate(\"2\", \"0\"), \"\\$g\\$\"), Catlab.Graphics.TikZ.Edge(Catlab.Graphics.TikZ.PathExpression[Catlab.Graphics.TikZ.NodeCoordinate(\"root.west\"), Catlab.Graphics.TikZ.PathOperation(\"to\", Catlab.Graphics.TikZ.Property[Catlab.Graphics.TikZ.Property(\"out\", \"0\"), Catlab.Graphics.TikZ.Property(\"in\", \"-180\")]), Catlab.Graphics.TikZ.NodeCoordinate(\"n3.west\")], Catlab.Graphics.TikZ.Property[Catlab.Graphics.TikZ.Property(\"wire\", \"\\$A\\$\")]), Catlab.Graphics.TikZ.Edge(Catlab.Graphics.TikZ.PathExpression[Catlab.Graphics.TikZ.NodeCoordinate(\"n3.east\"), Catlab.Graphics.TikZ.PathOperation(\"to\", Catlab.Graphics.TikZ.Property[Catlab.Graphics.TikZ.Property(\"out\", \"0\"), Catlab.Graphics.TikZ.Property(\"in\", \"-180\")]), Catlab.Graphics.TikZ.NodeCoordinate(\"n4.west\")], Catlab.Graphics.TikZ.Property[Catlab.Graphics.TikZ.Property(\"wire\", \"\\$B\\$\")]), Catlab.Graphics.TikZ.Edge(Catlab.Graphics.TikZ.PathExpression[Catlab.Graphics.TikZ.NodeCoordinate(\"n4.east\"), Catlab.Graphics.TikZ.PathOperation(\"to\", Catlab.Graphics.TikZ.Property[Catlab.Graphics.TikZ.Property(\"out\", \"0\"), Catlab.Graphics.TikZ.Property(\"in\", \"180\")]), Catlab.Graphics.TikZ.NodeCoordinate(\"root.east\")], Catlab.Graphics.TikZ.Property[Catlab.Graphics.TikZ.Property(\"wire\", \"\\$A\\$\")])], Catlab.Graphics.TikZ.Property[Catlab.Graphics.TikZ.Property(\"x\", \"1em\"), Catlab.Graphics.TikZ.Property(\"y\", \"1em\"), Catlab.Graphics.TikZ.Property(\"outer box/.style\", Catlab.Graphics.TikZ.Property[Catlab.Graphics.TikZ.Property(\"draw\", \"none\")]), Catlab.Graphics.TikZ.Property(\"box/.style\", Catlab.Graphics.TikZ.Property[Catlab.Graphics.TikZ.Property(\"rectangle\", nothing), Catlab.Graphics.TikZ.Property(\"draw\", nothing), Catlab.Graphics.TikZ.Property(\"solid\", nothing), Catlab.Graphics.TikZ.Property(\"rounded corners\", nothing)]), Catlab.Graphics.TikZ.Property(\"circular box/.style\", Catlab.Graphics.TikZ.Property[Catlab.Graphics.TikZ.Property(\"circle\", nothing), Catlab.Graphics.TikZ.Property(\"draw\", nothing), Catlab.Graphics.TikZ.Property(\"solid\", nothing)]), Catlab.Graphics.TikZ.Property(\"junction/.style\", Catlab.Graphics.TikZ.Property[Catlab.Graphics.TikZ.Property(\"circle\", nothing), Catlab.Graphics.TikZ.Property(\"draw\", nothing), Catlab.Graphics.TikZ.Property(\"fill\", nothing), Catlab.Graphics.TikZ.Property(\"inner sep\", \"0\")]), Catlab.Graphics.TikZ.Property(\"variant junction/.style\", Catlab.Graphics.TikZ.Property[Catlab.Graphics.TikZ.Property(\"circle\", nothing), Catlab.Graphics.TikZ.Property(\"draw\", nothing), Catlab.Graphics.TikZ.Property(\"solid\", nothing), Catlab.Graphics.TikZ.Property(\"inner sep\", \"0\")]), Catlab.Graphics.TikZ.Property(\"invisible/.style\", Catlab.Graphics.TikZ.Property[Catlab.Graphics.TikZ.Property(\"draw\", \"none\"), Catlab.Graphics.TikZ.Property(\"inner sep\", \"0\")]), Catlab.Graphics.TikZ.Property(\"wire/.style\", Catlab.Graphics.TikZ.Property[Catlab.Graphics.TikZ.Property(\"draw\", nothing), Catlab.Graphics.TikZ.Property(\"postaction\", Catlab.Graphics.TikZ.Property[Catlab.Graphics.TikZ.Property(\"decorate\", nothing)]), Catlab.Graphics.TikZ.Property(\"decoration\", Catlab.Graphics.TikZ.Property[Catlab.Graphics.TikZ.Property(\"markings\", nothing), Catlab.Graphics.TikZ.Property(\"mark\", \"at position 0.5 with {\\\\node[anchor=south] {#1};}\")])])]), [\"calc\", \"decorations.markings\"])",
      "image/svg+xml": [
       "<?xml version=\"1.0\" encoding=\"UTF-8\"?>\n",
       "<svg xmlns=\"http://www.w3.org/2000/svg\" xmlns:xlink=\"http://www.w3.org/1999/xlink\" width=\"100.423pt\" height=\"39.851pt\" viewBox=\"0 0 100.423 39.851\" version=\"1.1\">\n",
       "<defs>\n",
       "<g>\n",
       "<symbol overflow=\"visible\" id=\"glyph-1579379542894851-0-0\">\n",
       "<path style=\"stroke:none;\" d=\"\"/>\n",
       "</symbol>\n",
       "<symbol overflow=\"visible\" id=\"glyph-1579379542894851-0-1\">\n",
       "<path style=\"stroke:none;\" d=\"M 3.65625 -3.984375 L 4.515625 -3.984375 C 4.71875 -3.984375 4.8125 -3.984375 4.8125 -4.1875 C 4.8125 -4.296875 4.71875 -4.296875 4.546875 -4.296875 L 3.71875 -4.296875 L 3.921875 -5.4375 C 3.96875 -5.640625 4.109375 -6.34375 4.171875 -6.46875 C 4.25 -6.65625 4.421875 -6.8125 4.640625 -6.8125 C 4.671875 -6.8125 4.9375 -6.8125 5.125 -6.625 C 4.6875 -6.59375 4.578125 -6.234375 4.578125 -6.09375 C 4.578125 -5.859375 4.765625 -5.734375 4.953125 -5.734375 C 5.21875 -5.734375 5.5 -5.96875 5.5 -6.34375 C 5.5 -6.796875 5.046875 -7.03125 4.640625 -7.03125 C 4.296875 -7.03125 3.671875 -6.84375 3.375 -5.859375 C 3.3125 -5.65625 3.28125 -5.546875 3.046875 -4.296875 L 2.359375 -4.296875 C 2.15625 -4.296875 2.046875 -4.296875 2.046875 -4.109375 C 2.046875 -3.984375 2.140625 -3.984375 2.328125 -3.984375 L 2.984375 -3.984375 L 2.25 -0.046875 C 2.0625 0.921875 1.890625 1.828125 1.375 1.828125 C 1.328125 1.828125 1.09375 1.828125 0.890625 1.640625 C 1.359375 1.609375 1.453125 1.25 1.453125 1.109375 C 1.453125 0.875 1.265625 0.75 1.078125 0.75 C 0.8125 0.75 0.53125 0.984375 0.53125 1.359375 C 0.53125 1.796875 0.96875 2.046875 1.375 2.046875 C 1.921875 2.046875 2.328125 1.453125 2.5 1.078125 C 2.828125 0.453125 3.046875 -0.75 3.0625 -0.828125 Z M 3.65625 -3.984375 \"/>\n",
       "</symbol>\n",
       "<symbol overflow=\"visible\" id=\"glyph-1579379542894851-0-2\">\n",
       "<path style=\"stroke:none;\" d=\"M 4.6875 -3.765625 C 4.703125 -3.8125 4.71875 -3.875 4.71875 -3.9375 C 4.71875 -4.109375 4.609375 -4.203125 4.4375 -4.203125 C 4.34375 -4.203125 4.0625 -4.140625 4.03125 -3.78125 C 3.84375 -4.140625 3.5 -4.40625 3.09375 -4.40625 C 1.96875 -4.40625 0.734375 -3.015625 0.734375 -1.578125 C 0.734375 -0.59375 1.328125 0 2.046875 0 C 2.640625 0 3.109375 -0.46875 3.203125 -0.578125 L 3.21875 -0.5625 C 3.015625 0.3125 2.890625 0.734375 2.890625 0.75 C 2.84375 0.84375 2.515625 1.828125 1.453125 1.828125 C 1.265625 1.828125 0.9375 1.8125 0.65625 1.71875 C 0.953125 1.640625 1.0625 1.375 1.0625 1.203125 C 1.0625 1.046875 0.953125 0.859375 0.6875 0.859375 C 0.46875 0.859375 0.15625 1.03125 0.15625 1.4375 C 0.15625 1.84375 0.515625 2.046875 1.46875 2.046875 C 2.71875 2.046875 3.4375 1.265625 3.59375 0.671875 Z M 3.40625 -1.28125 C 3.34375 -1.015625 3.109375 -0.765625 2.890625 -0.578125 C 2.6875 -0.40625 2.375 -0.21875 2.078125 -0.21875 C 1.578125 -0.21875 1.4375 -0.734375 1.4375 -1.140625 C 1.4375 -1.609375 1.71875 -2.796875 2 -3.296875 C 2.265625 -3.78125 2.6875 -4.1875 3.109375 -4.1875 C 3.765625 -4.1875 3.90625 -3.375 3.90625 -3.328125 C 3.90625 -3.28125 3.890625 -3.21875 3.875 -3.1875 Z M 3.40625 -1.28125 \"/>\n",
       "</symbol>\n",
       "<symbol overflow=\"visible\" id=\"glyph-1579379542894851-0-3\">\n",
       "<path style=\"stroke:none;\" d=\"M 1.78125 -1.140625 C 1.390625 -0.484375 1 -0.34375 0.5625 -0.3125 C 0.4375 -0.296875 0.34375 -0.296875 0.34375 -0.109375 C 0.34375 -0.046875 0.40625 0 0.484375 0 C 0.75 0 1.0625 -0.03125 1.328125 -0.03125 C 1.671875 -0.03125 2.015625 0 2.328125 0 C 2.390625 0 2.515625 0 2.515625 -0.1875 C 2.515625 -0.296875 2.4375 -0.3125 2.359375 -0.3125 C 2.140625 -0.328125 1.890625 -0.40625 1.890625 -0.65625 C 1.890625 -0.78125 1.953125 -0.890625 2.03125 -1.03125 L 2.796875 -2.296875 L 5.296875 -2.296875 C 5.3125 -2.09375 5.453125 -0.734375 5.453125 -0.640625 C 5.453125 -0.34375 4.9375 -0.3125 4.734375 -0.3125 C 4.59375 -0.3125 4.5 -0.3125 4.5 -0.109375 C 4.5 0 4.609375 0 4.640625 0 C 5.046875 0 5.46875 -0.03125 5.875 -0.03125 C 6.125 -0.03125 6.765625 0 7.015625 0 C 7.0625 0 7.1875 0 7.1875 -0.203125 C 7.1875 -0.3125 7.09375 -0.3125 6.953125 -0.3125 C 6.34375 -0.3125 6.34375 -0.375 6.3125 -0.671875 L 5.703125 -6.890625 C 5.6875 -7.09375 5.6875 -7.140625 5.515625 -7.140625 C 5.359375 -7.140625 5.3125 -7.0625 5.25 -6.96875 Z M 2.984375 -2.609375 L 4.9375 -5.90625 L 5.265625 -2.609375 Z M 2.984375 -2.609375 \"/>\n",
       "</symbol>\n",
       "<symbol overflow=\"visible\" id=\"glyph-1579379542894851-0-4\">\n",
       "<path style=\"stroke:none;\" d=\"M 1.59375 -0.78125 C 1.5 -0.390625 1.46875 -0.3125 0.6875 -0.3125 C 0.515625 -0.3125 0.421875 -0.3125 0.421875 -0.109375 C 0.421875 0 0.515625 0 0.6875 0 L 4.25 0 C 5.828125 0 7 -1.171875 7 -2.15625 C 7 -2.875 6.421875 -3.453125 5.453125 -3.5625 C 6.484375 -3.75 7.53125 -4.484375 7.53125 -5.4375 C 7.53125 -6.171875 6.875 -6.8125 5.6875 -6.8125 L 2.328125 -6.8125 C 2.140625 -6.8125 2.046875 -6.8125 2.046875 -6.609375 C 2.046875 -6.5 2.140625 -6.5 2.328125 -6.5 C 2.34375 -6.5 2.53125 -6.5 2.703125 -6.484375 C 2.875 -6.453125 2.96875 -6.453125 2.96875 -6.3125 C 2.96875 -6.28125 2.953125 -6.25 2.9375 -6.125 Z M 3.09375 -3.65625 L 3.71875 -6.125 C 3.8125 -6.46875 3.828125 -6.5 4.25 -6.5 L 5.546875 -6.5 C 6.421875 -6.5 6.625 -5.90625 6.625 -5.46875 C 6.625 -4.59375 5.765625 -3.65625 4.5625 -3.65625 Z M 2.65625 -0.3125 C 2.515625 -0.3125 2.5 -0.3125 2.4375 -0.3125 C 2.328125 -0.328125 2.296875 -0.34375 2.296875 -0.421875 C 2.296875 -0.453125 2.296875 -0.46875 2.359375 -0.640625 L 3.046875 -3.421875 L 4.921875 -3.421875 C 5.875 -3.421875 6.078125 -2.6875 6.078125 -2.265625 C 6.078125 -1.28125 5.1875 -0.3125 4 -0.3125 Z M 2.65625 -0.3125 \"/>\n",
       "</symbol>\n",
       "</g>\n",
       "<clipPath id=\"clip-1579379542894851-1\">\n",
       "  <path d=\"M 74 14 L 100.421875 14 L 100.421875 26 L 74 26 Z M 74 14 \"/>\n",
       "</clipPath>\n",
       "</defs>\n",
       "<g id=\"surface1\">\n",
       "<path style=\"fill:none;stroke-width:0.3985;stroke-linecap:butt;stroke-linejoin:miter;stroke:rgb(0%,0%,0%);stroke-opacity:1;stroke-miterlimit:10;\" d=\"M -13.946375 9.961156 L -25.903406 9.961156 C -28.102625 9.961156 -29.887781 8.179906 -29.887781 5.976781 L -29.887781 -5.976344 C -29.887781 -8.179469 -28.102625 -9.964625 -25.903406 -9.964625 L -13.946375 -9.964625 C -11.747156 -9.964625 -9.962 -8.179469 -9.962 -5.976344 L -9.962 5.976781 C -9.962 8.179906 -11.747156 9.961156 -13.946375 9.961156 Z M -13.946375 9.961156 \" transform=\"matrix(1,0,0,-1,50.212,19.926)\"/>\n",
       "<g style=\"fill:rgb(0%,0%,0%);fill-opacity:1;\">\n",
       "  <use xlink:href=\"#glyph-1579379542894851-0-1\" x=\"27.311\" y=\"22.416\"/>\n",
       "</g>\n",
       "<path style=\"fill:none;stroke-width:0.3985;stroke-linecap:butt;stroke-linejoin:miter;stroke:rgb(0%,0%,0%);stroke-opacity:1;stroke-miterlimit:10;\" d=\"M 25.901281 9.961156 L 13.948156 9.961156 C 11.745031 9.961156 9.963781 8.179906 9.963781 5.976781 L 9.963781 -5.976344 C 9.963781 -8.179469 11.745031 -9.964625 13.948156 -9.964625 L 25.901281 -9.964625 C 28.104406 -9.964625 29.889562 -8.179469 29.889562 -5.976344 L 29.889562 5.976781 C 29.889562 8.179906 28.104406 9.961156 25.901281 9.961156 Z M 25.901281 9.961156 \" transform=\"matrix(1,0,0,-1,50.212,19.926)\"/>\n",
       "<g style=\"fill:rgb(0%,0%,0%);fill-opacity:1;\">\n",
       "  <use xlink:href=\"#glyph-1579379542894851-0-2\" x=\"67.582\" y=\"21.102\"/>\n",
       "</g>\n",
       "<path style=\"fill:none;stroke-width:0.3985;stroke-linecap:butt;stroke-linejoin:miter;stroke:rgb(0%,0%,0%);stroke-opacity:1;stroke-miterlimit:10;\" d=\"M -50.012781 0.00021875 C -42.24325 0.00021875 -37.856531 0.00021875 -30.087 0.00021875 \" transform=\"matrix(1,0,0,-1,50.212,19.926)\"/>\n",
       "<g style=\"fill:rgb(0%,0%,0%);fill-opacity:1;\">\n",
       "  <use xlink:href=\"#glyph-1579379542894851-0-3\" x=\"6.426\" y=\"16.406\"/>\n",
       "</g>\n",
       "<path style=\"fill:none;stroke-width:0.3985;stroke-linecap:butt;stroke-linejoin:miter;stroke:rgb(0%,0%,0%);stroke-opacity:1;stroke-miterlimit:10;\" d=\"M -9.762781 0.00021875 C -2.1495 0.00021875 2.147375 0.00021875 9.764562 0.00021875 \" transform=\"matrix(1,0,0,-1,50.212,19.926)\"/>\n",
       "<g style=\"fill:rgb(0%,0%,0%);fill-opacity:1;\">\n",
       "  <use xlink:href=\"#glyph-1579379542894851-0-4\" x=\"46.183\" y=\"16.406\"/>\n",
       "</g>\n",
       "<g clip-path=\"url(#clip-1579379542894851-1)\" clip-rule=\"nonzero\">\n",
       "<path style=\"fill:none;stroke-width:0.3985;stroke-linecap:butt;stroke-linejoin:miter;stroke:rgb(0%,0%,0%);stroke-opacity:1;stroke-miterlimit:10;\" d=\"M 30.088781 0.00021875 C 37.858312 0.00021875 42.241125 0.00021875 50.014562 0.00021875 \" transform=\"matrix(1,0,0,-1,50.212,19.926)\"/>\n",
       "</g>\n",
       "<g style=\"fill:rgb(0%,0%,0%);fill-opacity:1;\">\n",
       "  <use xlink:href=\"#glyph-1579379542894851-0-3\" x=\"86.525\" y=\"16.406\"/>\n",
       "</g>\n",
       "</g>\n",
       "</svg>\n",
       "\n"
      ]
     },
     "metadata": {},
     "execution_count": 4
    }
   ],
   "cell_type": "code",
   "source": [
    "to_tikz(f⋅g, labels=true)"
   ],
   "metadata": {},
   "execution_count": 4
  },
  {
   "outputs": [
    {
     "output_type": "execute_result",
     "data": {
      "text/plain": "Catlab.Graphics.TikZ.Document(Catlab.Graphics.TikZ.Picture(Catlab.Graphics.TikZ.Statement[Catlab.Graphics.TikZ.Node(\"root\", Catlab.Graphics.TikZ.Property[Catlab.Graphics.TikZ.Property(\"outer box\", nothing), Catlab.Graphics.TikZ.Property(\"minimum width\", \"7em\"), Catlab.Graphics.TikZ.Property(\"minimum height\", \"6em\")], Catlab.Graphics.TikZ.Coordinate(\"0\", \"0\"), \"\"), Catlab.Graphics.TikZ.Node(\"n3\", Catlab.Graphics.TikZ.Property[Catlab.Graphics.TikZ.Property(\"box\", nothing), Catlab.Graphics.TikZ.Property(\"minimum size\", \"2em\")], Catlab.Graphics.TikZ.Coordinate(\"-1.5\", \"0\"), \"\\$f\\$\"), Catlab.Graphics.TikZ.Node(\"n4\", Catlab.Graphics.TikZ.Property[Catlab.Graphics.TikZ.Property(\"box\", nothing), Catlab.Graphics.TikZ.Property(\"minimum size\", \"2em\")], Catlab.Graphics.TikZ.Coordinate(\"1.5\", \"0\"), \"\\$g\\$\"), Catlab.Graphics.TikZ.Edge(Catlab.Graphics.TikZ.PathExpression[Catlab.Graphics.TikZ.NodeCoordinate(\"\\$(root.north)+(-1.5em,0em)\\$\"), Catlab.Graphics.TikZ.PathOperation(\"to\", Catlab.Graphics.TikZ.Property[Catlab.Graphics.TikZ.Property(\"out\", \"-90\"), Catlab.Graphics.TikZ.Property(\"in\", \"90\")]), Catlab.Graphics.TikZ.NodeCoordinate(\"n3.north\")], Catlab.Graphics.TikZ.Property[Catlab.Graphics.TikZ.Property(\"wire\", \"\\$A\\$\")]), Catlab.Graphics.TikZ.Edge(Catlab.Graphics.TikZ.PathExpression[Catlab.Graphics.TikZ.NodeCoordinate(\"\\$(root.north)+(1.5em,0em)\\$\"), Catlab.Graphics.TikZ.PathOperation(\"to\", Catlab.Graphics.TikZ.Property[Catlab.Graphics.TikZ.Property(\"out\", \"-90\"), Catlab.Graphics.TikZ.Property(\"in\", \"90\")]), Catlab.Graphics.TikZ.NodeCoordinate(\"n4.north\")], Catlab.Graphics.TikZ.Property[Catlab.Graphics.TikZ.Property(\"wire\", \"\\$B\\$\")]), Catlab.Graphics.TikZ.Edge(Catlab.Graphics.TikZ.PathExpression[Catlab.Graphics.TikZ.NodeCoordinate(\"n3.south\"), Catlab.Graphics.TikZ.PathOperation(\"to\", Catlab.Graphics.TikZ.Property[Catlab.Graphics.TikZ.Property(\"out\", \"-90\"), Catlab.Graphics.TikZ.Property(\"in\", \"90\")]), Catlab.Graphics.TikZ.NodeCoordinate(\"\\$(root.south)+(-1.5em,0em)\\$\")], Catlab.Graphics.TikZ.Property[Catlab.Graphics.TikZ.Property(\"wire\", \"\\$B\\$\")]), Catlab.Graphics.TikZ.Edge(Catlab.Graphics.TikZ.PathExpression[Catlab.Graphics.TikZ.NodeCoordinate(\"n4.south\"), Catlab.Graphics.TikZ.PathOperation(\"to\", Catlab.Graphics.TikZ.Property[Catlab.Graphics.TikZ.Property(\"out\", \"-90\"), Catlab.Graphics.TikZ.Property(\"in\", \"90\")]), Catlab.Graphics.TikZ.NodeCoordinate(\"\\$(root.south)+(1.5em,0em)\\$\")], Catlab.Graphics.TikZ.Property[Catlab.Graphics.TikZ.Property(\"wire\", \"\\$A\\$\")])], Catlab.Graphics.TikZ.Property[Catlab.Graphics.TikZ.Property(\"x\", \"1em\"), Catlab.Graphics.TikZ.Property(\"y\", \"1em\"), Catlab.Graphics.TikZ.Property(\"outer box/.style\", Catlab.Graphics.TikZ.Property[Catlab.Graphics.TikZ.Property(\"draw\", \"none\")]), Catlab.Graphics.TikZ.Property(\"box/.style\", Catlab.Graphics.TikZ.Property[Catlab.Graphics.TikZ.Property(\"rectangle\", nothing), Catlab.Graphics.TikZ.Property(\"draw\", nothing), Catlab.Graphics.TikZ.Property(\"solid\", nothing), Catlab.Graphics.TikZ.Property(\"rounded corners\", nothing)]), Catlab.Graphics.TikZ.Property(\"circular box/.style\", Catlab.Graphics.TikZ.Property[Catlab.Graphics.TikZ.Property(\"circle\", nothing), Catlab.Graphics.TikZ.Property(\"draw\", nothing), Catlab.Graphics.TikZ.Property(\"solid\", nothing)]), Catlab.Graphics.TikZ.Property(\"junction/.style\", Catlab.Graphics.TikZ.Property[Catlab.Graphics.TikZ.Property(\"circle\", nothing), Catlab.Graphics.TikZ.Property(\"draw\", nothing), Catlab.Graphics.TikZ.Property(\"fill\", nothing), Catlab.Graphics.TikZ.Property(\"inner sep\", \"0\")]), Catlab.Graphics.TikZ.Property(\"variant junction/.style\", Catlab.Graphics.TikZ.Property[Catlab.Graphics.TikZ.Property(\"circle\", nothing), Catlab.Graphics.TikZ.Property(\"draw\", nothing), Catlab.Graphics.TikZ.Property(\"solid\", nothing), Catlab.Graphics.TikZ.Property(\"inner sep\", \"0\")]), Catlab.Graphics.TikZ.Property(\"invisible/.style\", Catlab.Graphics.TikZ.Property[Catlab.Graphics.TikZ.Property(\"draw\", \"none\"), Catlab.Graphics.TikZ.Property(\"inner sep\", \"0\")]), Catlab.Graphics.TikZ.Property(\"wire/.style\", Catlab.Graphics.TikZ.Property[Catlab.Graphics.TikZ.Property(\"draw\", nothing), Catlab.Graphics.TikZ.Property(\"postaction\", Catlab.Graphics.TikZ.Property[Catlab.Graphics.TikZ.Property(\"decorate\", nothing)]), Catlab.Graphics.TikZ.Property(\"decoration\", Catlab.Graphics.TikZ.Property[Catlab.Graphics.TikZ.Property(\"markings\", nothing), Catlab.Graphics.TikZ.Property(\"mark\", \"at position 0.5 with {\\\\node[anchor=east] {#1};}\")])])]), [\"calc\", \"decorations.markings\"])",
      "image/svg+xml": [
       "<?xml version=\"1.0\" encoding=\"UTF-8\"?>\n",
       "<svg xmlns=\"http://www.w3.org/2000/svg\" xmlns:xlink=\"http://www.w3.org/1999/xlink\" width=\"69.738pt\" height=\"60.573pt\" viewBox=\"0 0 69.738 60.573\" version=\"1.1\">\n",
       "<defs>\n",
       "<g>\n",
       "<symbol overflow=\"visible\" id=\"glyph-1579379542894852-0-0\">\n",
       "<path style=\"stroke:none;\" d=\"\"/>\n",
       "</symbol>\n",
       "<symbol overflow=\"visible\" id=\"glyph-1579379542894852-0-1\">\n",
       "<path style=\"stroke:none;\" d=\"M 3.65625 -3.984375 L 4.515625 -3.984375 C 4.71875 -3.984375 4.8125 -3.984375 4.8125 -4.1875 C 4.8125 -4.296875 4.71875 -4.296875 4.546875 -4.296875 L 3.71875 -4.296875 L 3.921875 -5.4375 C 3.96875 -5.640625 4.109375 -6.34375 4.171875 -6.46875 C 4.25 -6.65625 4.421875 -6.8125 4.640625 -6.8125 C 4.671875 -6.8125 4.9375 -6.8125 5.125 -6.625 C 4.6875 -6.59375 4.578125 -6.234375 4.578125 -6.09375 C 4.578125 -5.859375 4.765625 -5.734375 4.953125 -5.734375 C 5.21875 -5.734375 5.5 -5.96875 5.5 -6.34375 C 5.5 -6.796875 5.046875 -7.03125 4.640625 -7.03125 C 4.296875 -7.03125 3.671875 -6.84375 3.375 -5.859375 C 3.3125 -5.65625 3.28125 -5.546875 3.046875 -4.296875 L 2.359375 -4.296875 C 2.15625 -4.296875 2.046875 -4.296875 2.046875 -4.109375 C 2.046875 -3.984375 2.140625 -3.984375 2.328125 -3.984375 L 2.984375 -3.984375 L 2.25 -0.046875 C 2.0625 0.921875 1.890625 1.828125 1.375 1.828125 C 1.328125 1.828125 1.09375 1.828125 0.890625 1.640625 C 1.359375 1.609375 1.453125 1.25 1.453125 1.109375 C 1.453125 0.875 1.265625 0.75 1.078125 0.75 C 0.8125 0.75 0.53125 0.984375 0.53125 1.359375 C 0.53125 1.796875 0.96875 2.046875 1.375 2.046875 C 1.921875 2.046875 2.328125 1.453125 2.5 1.078125 C 2.828125 0.453125 3.046875 -0.75 3.0625 -0.828125 Z M 3.65625 -3.984375 \"/>\n",
       "</symbol>\n",
       "<symbol overflow=\"visible\" id=\"glyph-1579379542894852-0-2\">\n",
       "<path style=\"stroke:none;\" d=\"M 4.6875 -3.765625 C 4.703125 -3.8125 4.71875 -3.875 4.71875 -3.9375 C 4.71875 -4.109375 4.609375 -4.203125 4.4375 -4.203125 C 4.34375 -4.203125 4.0625 -4.140625 4.03125 -3.78125 C 3.84375 -4.140625 3.5 -4.40625 3.09375 -4.40625 C 1.96875 -4.40625 0.734375 -3.015625 0.734375 -1.578125 C 0.734375 -0.59375 1.328125 0 2.046875 0 C 2.640625 0 3.109375 -0.46875 3.203125 -0.578125 L 3.21875 -0.5625 C 3.015625 0.3125 2.890625 0.734375 2.890625 0.75 C 2.84375 0.84375 2.515625 1.828125 1.453125 1.828125 C 1.265625 1.828125 0.9375 1.8125 0.65625 1.71875 C 0.953125 1.640625 1.0625 1.375 1.0625 1.203125 C 1.0625 1.046875 0.953125 0.859375 0.6875 0.859375 C 0.46875 0.859375 0.15625 1.03125 0.15625 1.4375 C 0.15625 1.84375 0.515625 2.046875 1.46875 2.046875 C 2.71875 2.046875 3.4375 1.265625 3.59375 0.671875 Z M 3.40625 -1.28125 C 3.34375 -1.015625 3.109375 -0.765625 2.890625 -0.578125 C 2.6875 -0.40625 2.375 -0.21875 2.078125 -0.21875 C 1.578125 -0.21875 1.4375 -0.734375 1.4375 -1.140625 C 1.4375 -1.609375 1.71875 -2.796875 2 -3.296875 C 2.265625 -3.78125 2.6875 -4.1875 3.109375 -4.1875 C 3.765625 -4.1875 3.90625 -3.375 3.90625 -3.328125 C 3.90625 -3.28125 3.890625 -3.21875 3.875 -3.1875 Z M 3.40625 -1.28125 \"/>\n",
       "</symbol>\n",
       "<symbol overflow=\"visible\" id=\"glyph-1579379542894852-0-3\">\n",
       "<path style=\"stroke:none;\" d=\"M 1.78125 -1.140625 C 1.390625 -0.484375 1 -0.34375 0.5625 -0.3125 C 0.4375 -0.296875 0.34375 -0.296875 0.34375 -0.109375 C 0.34375 -0.046875 0.40625 0 0.484375 0 C 0.75 0 1.0625 -0.03125 1.328125 -0.03125 C 1.671875 -0.03125 2.015625 0 2.328125 0 C 2.390625 0 2.515625 0 2.515625 -0.1875 C 2.515625 -0.296875 2.4375 -0.3125 2.359375 -0.3125 C 2.140625 -0.328125 1.890625 -0.40625 1.890625 -0.65625 C 1.890625 -0.78125 1.953125 -0.890625 2.03125 -1.03125 L 2.796875 -2.296875 L 5.296875 -2.296875 C 5.3125 -2.09375 5.453125 -0.734375 5.453125 -0.640625 C 5.453125 -0.34375 4.9375 -0.3125 4.734375 -0.3125 C 4.59375 -0.3125 4.5 -0.3125 4.5 -0.109375 C 4.5 0 4.609375 0 4.640625 0 C 5.046875 0 5.46875 -0.03125 5.875 -0.03125 C 6.125 -0.03125 6.765625 0 7.015625 0 C 7.0625 0 7.1875 0 7.1875 -0.203125 C 7.1875 -0.3125 7.09375 -0.3125 6.953125 -0.3125 C 6.34375 -0.3125 6.34375 -0.375 6.3125 -0.671875 L 5.703125 -6.890625 C 5.6875 -7.09375 5.6875 -7.140625 5.515625 -7.140625 C 5.359375 -7.140625 5.3125 -7.0625 5.25 -6.96875 Z M 2.984375 -2.609375 L 4.9375 -5.90625 L 5.265625 -2.609375 Z M 2.984375 -2.609375 \"/>\n",
       "</symbol>\n",
       "<symbol overflow=\"visible\" id=\"glyph-1579379542894852-0-4\">\n",
       "<path style=\"stroke:none;\" d=\"M 1.59375 -0.78125 C 1.5 -0.390625 1.46875 -0.3125 0.6875 -0.3125 C 0.515625 -0.3125 0.421875 -0.3125 0.421875 -0.109375 C 0.421875 0 0.515625 0 0.6875 0 L 4.25 0 C 5.828125 0 7 -1.171875 7 -2.15625 C 7 -2.875 6.421875 -3.453125 5.453125 -3.5625 C 6.484375 -3.75 7.53125 -4.484375 7.53125 -5.4375 C 7.53125 -6.171875 6.875 -6.8125 5.6875 -6.8125 L 2.328125 -6.8125 C 2.140625 -6.8125 2.046875 -6.8125 2.046875 -6.609375 C 2.046875 -6.5 2.140625 -6.5 2.328125 -6.5 C 2.34375 -6.5 2.53125 -6.5 2.703125 -6.484375 C 2.875 -6.453125 2.96875 -6.453125 2.96875 -6.3125 C 2.96875 -6.28125 2.953125 -6.25 2.9375 -6.125 Z M 3.09375 -3.65625 L 3.71875 -6.125 C 3.8125 -6.46875 3.828125 -6.5 4.25 -6.5 L 5.546875 -6.5 C 6.421875 -6.5 6.625 -5.90625 6.625 -5.46875 C 6.625 -4.59375 5.765625 -3.65625 4.5625 -3.65625 Z M 2.65625 -0.3125 C 2.515625 -0.3125 2.5 -0.3125 2.4375 -0.3125 C 2.328125 -0.328125 2.296875 -0.34375 2.296875 -0.421875 C 2.296875 -0.453125 2.296875 -0.46875 2.359375 -0.640625 L 3.046875 -3.421875 L 4.921875 -3.421875 C 5.875 -3.421875 6.078125 -2.6875 6.078125 -2.265625 C 6.078125 -1.28125 5.1875 -0.3125 4 -0.3125 Z M 2.65625 -0.3125 \"/>\n",
       "</symbol>\n",
       "</g>\n",
       "<clipPath id=\"clip-1579379542894852-1\">\n",
       "  <path d=\"M 14 34 L 26 34 L 26 60.574219 L 14 60.574219 Z M 14 34 \"/>\n",
       "</clipPath>\n",
       "<clipPath id=\"clip-1579379542894852-2\">\n",
       "  <path d=\"M 44 34 L 56 34 L 56 60.574219 L 44 60.574219 Z M 44 34 \"/>\n",
       "</clipPath>\n",
       "</defs>\n",
       "<g id=\"surface1\">\n",
       "<path style=\"fill:none;stroke-width:0.3985;stroke-linecap:butt;stroke-linejoin:miter;stroke:rgb(0%,0%,0%);stroke-opacity:1;stroke-miterlimit:10;\" d=\"M -8.966656 9.962781 L -20.923687 9.962781 C -23.122906 9.962781 -24.908062 8.177625 -24.908062 5.978406 L -24.908062 -5.978625 C -24.908062 -8.177844 -23.122906 -9.963 -20.923687 -9.963 L -8.966656 -9.963 C -6.767437 -9.963 -4.982281 -8.177844 -4.982281 -5.978625 L -4.982281 5.978406 C -4.982281 8.177625 -6.767437 9.962781 -8.966656 9.962781 Z M -8.966656 9.962781 \" transform=\"matrix(1,0,0,-1,34.869,30.287)\"/>\n",
       "<g style=\"fill:rgb(0%,0%,0%);fill-opacity:1;\">\n",
       "  <use xlink:href=\"#glyph-1579379542894852-0-1\" x=\"16.95\" y=\"32.777\"/>\n",
       "</g>\n",
       "<path style=\"fill:none;stroke-width:0.3985;stroke-linecap:butt;stroke-linejoin:miter;stroke:rgb(0%,0%,0%);stroke-opacity:1;stroke-miterlimit:10;\" d=\"M 20.920063 9.962781 L 8.966938 9.962781 C 6.763813 9.962781 4.982563 8.177625 4.982563 5.978406 L 4.982563 -5.978625 C 4.982563 -8.177844 6.763813 -9.963 8.966938 -9.963 L 20.920063 -9.963 C 23.123188 -9.963 24.908344 -8.177844 24.908344 -5.978625 L 24.908344 5.978406 C 24.908344 8.177625 23.123188 9.962781 20.920063 9.962781 Z M 20.920063 9.962781 \" transform=\"matrix(1,0,0,-1,34.869,30.287)\"/>\n",
       "<g style=\"fill:rgb(0%,0%,0%);fill-opacity:1;\">\n",
       "  <use xlink:href=\"#glyph-1579379542894852-0-2\" x=\"47.259\" y=\"31.463\"/>\n",
       "</g>\n",
       "<path style=\"fill:none;stroke-width:0.3985;stroke-linecap:butt;stroke-linejoin:miter;stroke:rgb(0%,0%,0%);stroke-opacity:1;stroke-miterlimit:10;\" d=\"M -14.943219 30.087781 C -14.943219 22.31825 -14.943219 17.931531 -14.943219 10.162 \" transform=\"matrix(1,0,0,-1,34.869,30.287)\"/>\n",
       "<g style=\"fill:rgb(0%,0%,0%);fill-opacity:1;\">\n",
       "  <use xlink:href=\"#glyph-1579379542894852-0-3\" x=\"8.934\" y=\"13.566\"/>\n",
       "</g>\n",
       "<path style=\"fill:none;stroke-width:0.3985;stroke-linecap:butt;stroke-linejoin:miter;stroke:rgb(0%,0%,0%);stroke-opacity:1;stroke-miterlimit:10;\" d=\"M 14.9435 30.087781 C 14.9435 22.31825 14.9435 17.931531 14.9435 10.162 \" transform=\"matrix(1,0,0,-1,34.869,30.287)\"/>\n",
       "<g style=\"fill:rgb(0%,0%,0%);fill-opacity:1;\">\n",
       "  <use xlink:href=\"#glyph-1579379542894852-0-4\" x=\"38.237\" y=\"13.566\"/>\n",
       "</g>\n",
       "<g clip-path=\"url(#clip-1579379542894852-1)\" clip-rule=\"nonzero\">\n",
       "<path style=\"fill:none;stroke-width:0.3985;stroke-linecap:butt;stroke-linejoin:miter;stroke:rgb(0%,0%,0%);stroke-opacity:1;stroke-miterlimit:10;\" d=\"M -14.943219 -10.162219 C -14.943219 -17.93175 -14.943219 -22.318469 -14.943219 -30.088 \" transform=\"matrix(1,0,0,-1,34.869,30.287)\"/>\n",
       "</g>\n",
       "<g style=\"fill:rgb(0%,0%,0%);fill-opacity:1;\">\n",
       "  <use xlink:href=\"#glyph-1579379542894852-0-4\" x=\"8.349\" y=\"53.815\"/>\n",
       "</g>\n",
       "<g clip-path=\"url(#clip-1579379542894852-2)\" clip-rule=\"nonzero\">\n",
       "<path style=\"fill:none;stroke-width:0.3985;stroke-linecap:butt;stroke-linejoin:miter;stroke:rgb(0%,0%,0%);stroke-opacity:1;stroke-miterlimit:10;\" d=\"M 14.9435 -10.162219 C 14.9435 -17.93175 14.9435 -22.318469 14.9435 -30.088 \" transform=\"matrix(1,0,0,-1,34.869,30.287)\"/>\n",
       "</g>\n",
       "<g style=\"fill:rgb(0%,0%,0%);fill-opacity:1;\">\n",
       "  <use xlink:href=\"#glyph-1579379542894852-0-3\" x=\"38.821\" y=\"53.815\"/>\n",
       "</g>\n",
       "</g>\n",
       "</svg>\n",
       "\n"
      ]
     },
     "metadata": {},
     "execution_count": 5
    }
   ],
   "cell_type": "code",
   "source": [
    "to_tikz(f⊗g, labels=true, orientation=TopToBottom)"
   ],
   "metadata": {},
   "execution_count": 5
  },
  {
   "outputs": [],
   "cell_type": "markdown",
   "source": [
    "Here is a more complex example, involving generators with compound domains and\n",
    "codomains."
   ],
   "metadata": {}
  },
  {
   "outputs": [
    {
     "output_type": "execute_result",
     "data": {
      "text/plain": "Catlab.Graphics.TikZ.Document(Catlab.Graphics.TikZ.Picture(Catlab.Graphics.TikZ.Statement[Catlab.Graphics.TikZ.Node(\"root\", Catlab.Graphics.TikZ.Property[Catlab.Graphics.TikZ.Property(\"outer box\", nothing), Catlab.Graphics.TikZ.Property(\"minimum width\", \"22em\"), Catlab.Graphics.TikZ.Property(\"minimum height\", \"13em\")], Catlab.Graphics.TikZ.Coordinate(\"0\", \"0\"), \"\"), Catlab.Graphics.TikZ.Node(\"n3\", Catlab.Graphics.TikZ.Property[Catlab.Graphics.TikZ.Property(\"box\", nothing), Catlab.Graphics.TikZ.Property(\"minimum size\", \"2em\")], Catlab.Graphics.TikZ.Coordinate(\"-8\", \"4.5\"), \"\\$f\\$\"), Catlab.Graphics.TikZ.Node(\"n4\", Catlab.Graphics.TikZ.Property[Catlab.Graphics.TikZ.Property(\"box\", nothing), Catlab.Graphics.TikZ.Property(\"minimum size\", \"2em\")], Catlab.Graphics.TikZ.Coordinate(\"-8\", \"1.5\"), \"\\$g\\$\"), Catlab.Graphics.TikZ.Node(\"n5\", Catlab.Graphics.TikZ.Property[Catlab.Graphics.TikZ.Property(\"box\", nothing), Catlab.Graphics.TikZ.Property(\"minimum size\", \"2em\")], Catlab.Graphics.TikZ.Coordinate(\"-8\", \"-1.5\"), \"\\$h\\$\"), Catlab.Graphics.TikZ.Node(\"n6\", Catlab.Graphics.TikZ.Property[Catlab.Graphics.TikZ.Property(\"box\", nothing), Catlab.Graphics.TikZ.Property(\"minimum size\", \"2em\")], Catlab.Graphics.TikZ.Coordinate(\"-8\", \"-4.5\"), \"\\$k\\$\"), Catlab.Graphics.TikZ.Node(\"n7\", Catlab.Graphics.TikZ.Property[Catlab.Graphics.TikZ.Property(\"box\", nothing), Catlab.Graphics.TikZ.Property(\"minimum width\", \"2em\"), Catlab.Graphics.TikZ.Property(\"minimum height\", \"5em\")], Catlab.Graphics.TikZ.Coordinate(\"-4\", \"3\"), \"\\$m\\$\"), Catlab.Graphics.TikZ.Node(\"n8\", Catlab.Graphics.TikZ.Property[Catlab.Graphics.TikZ.Property(\"box\", nothing), Catlab.Graphics.TikZ.Property(\"minimum width\", \"2em\"), Catlab.Graphics.TikZ.Property(\"minimum height\", \"5em\")], Catlab.Graphics.TikZ.Coordinate(\"-4\", \"-3\"), \"\\$n\\$\"), Catlab.Graphics.TikZ.Node(\"n9\", Catlab.Graphics.TikZ.Property[Catlab.Graphics.TikZ.Property(\"box\", nothing), Catlab.Graphics.TikZ.Property(\"minimum width\", \"2em\"), Catlab.Graphics.TikZ.Property(\"minimum height\", \"11em\")], Catlab.Graphics.TikZ.Coordinate(\"0\", \"0\"), \"\\$l\\$\"), Catlab.Graphics.TikZ.Node(\"n10\", Catlab.Graphics.TikZ.Property[Catlab.Graphics.TikZ.Property(\"box\", nothing), Catlab.Graphics.TikZ.Property(\"minimum width\", \"2em\"), Catlab.Graphics.TikZ.Property(\"minimum height\", \"5em\")], Catlab.Graphics.TikZ.Coordinate(\"4\", \"3\"), \"\\$n\\$\"), Catlab.Graphics.TikZ.Node(\"n11\", Catlab.Graphics.TikZ.Property[Catlab.Graphics.TikZ.Property(\"box\", nothing), Catlab.Graphics.TikZ.Property(\"minimum width\", \"2em\"), Catlab.Graphics.TikZ.Property(\"minimum height\", \"5em\")], Catlab.Graphics.TikZ.Coordinate(\"4\", \"-3\"), \"\\$m\\$\")  …  Catlab.Graphics.TikZ.Edge(Catlab.Graphics.TikZ.PathExpression[Catlab.Graphics.TikZ.NodeCoordinate(\"\\$(n9.east)+(0em,-1.5em)\\$\"), Catlab.Graphics.TikZ.PathOperation(\"to\", Catlab.Graphics.TikZ.Property[Catlab.Graphics.TikZ.Property(\"out\", \"0\"), Catlab.Graphics.TikZ.Property(\"in\", \"-180\")]), Catlab.Graphics.TikZ.NodeCoordinate(\"\\$(n11.west)+(0em,1.5em)\\$\")], Catlab.Graphics.TikZ.Property[Catlab.Graphics.TikZ.Property(\"wire\", nothing)]), Catlab.Graphics.TikZ.Edge(Catlab.Graphics.TikZ.PathExpression[Catlab.Graphics.TikZ.NodeCoordinate(\"\\$(n9.east)+(0em,-4.5em)\\$\"), Catlab.Graphics.TikZ.PathOperation(\"to\", Catlab.Graphics.TikZ.Property[Catlab.Graphics.TikZ.Property(\"out\", \"0\"), Catlab.Graphics.TikZ.Property(\"in\", \"-180\")]), Catlab.Graphics.TikZ.NodeCoordinate(\"\\$(n11.west)+(0em,-1.5em)\\$\")], Catlab.Graphics.TikZ.Property[Catlab.Graphics.TikZ.Property(\"wire\", nothing)]), Catlab.Graphics.TikZ.Edge(Catlab.Graphics.TikZ.PathExpression[Catlab.Graphics.TikZ.NodeCoordinate(\"\\$(n10.east)+(0em,1.5em)\\$\"), Catlab.Graphics.TikZ.PathOperation(\"to\", Catlab.Graphics.TikZ.Property[Catlab.Graphics.TikZ.Property(\"out\", \"0\"), Catlab.Graphics.TikZ.Property(\"in\", \"-180\")]), Catlab.Graphics.TikZ.NodeCoordinate(\"n12.west\")], Catlab.Graphics.TikZ.Property[Catlab.Graphics.TikZ.Property(\"wire\", nothing)]), Catlab.Graphics.TikZ.Edge(Catlab.Graphics.TikZ.PathExpression[Catlab.Graphics.TikZ.NodeCoordinate(\"\\$(n10.east)+(0em,-1.5em)\\$\"), Catlab.Graphics.TikZ.PathOperation(\"to\", Catlab.Graphics.TikZ.Property[Catlab.Graphics.TikZ.Property(\"out\", \"0\"), Catlab.Graphics.TikZ.Property(\"in\", \"-180\")]), Catlab.Graphics.TikZ.NodeCoordinate(\"n13.west\")], Catlab.Graphics.TikZ.Property[Catlab.Graphics.TikZ.Property(\"wire\", nothing)]), Catlab.Graphics.TikZ.Edge(Catlab.Graphics.TikZ.PathExpression[Catlab.Graphics.TikZ.NodeCoordinate(\"\\$(n11.east)+(0em,1.5em)\\$\"), Catlab.Graphics.TikZ.PathOperation(\"to\", Catlab.Graphics.TikZ.Property[Catlab.Graphics.TikZ.Property(\"out\", \"0\"), Catlab.Graphics.TikZ.Property(\"in\", \"-180\")]), Catlab.Graphics.TikZ.NodeCoordinate(\"n14.west\")], Catlab.Graphics.TikZ.Property[Catlab.Graphics.TikZ.Property(\"wire\", nothing)]), Catlab.Graphics.TikZ.Edge(Catlab.Graphics.TikZ.PathExpression[Catlab.Graphics.TikZ.NodeCoordinate(\"\\$(n11.east)+(0em,-1.5em)\\$\"), Catlab.Graphics.TikZ.PathOperation(\"to\", Catlab.Graphics.TikZ.Property[Catlab.Graphics.TikZ.Property(\"out\", \"0\"), Catlab.Graphics.TikZ.Property(\"in\", \"-180\")]), Catlab.Graphics.TikZ.NodeCoordinate(\"n15.west\")], Catlab.Graphics.TikZ.Property[Catlab.Graphics.TikZ.Property(\"wire\", nothing)]), Catlab.Graphics.TikZ.Edge(Catlab.Graphics.TikZ.PathExpression[Catlab.Graphics.TikZ.NodeCoordinate(\"n12.east\"), Catlab.Graphics.TikZ.PathOperation(\"to\", Catlab.Graphics.TikZ.Property[Catlab.Graphics.TikZ.Property(\"out\", \"0\"), Catlab.Graphics.TikZ.Property(\"in\", \"180\")]), Catlab.Graphics.TikZ.NodeCoordinate(\"\\$(root.east)+(0em,4.5em)\\$\")], Catlab.Graphics.TikZ.Property[Catlab.Graphics.TikZ.Property(\"wire\", nothing)]), Catlab.Graphics.TikZ.Edge(Catlab.Graphics.TikZ.PathExpression[Catlab.Graphics.TikZ.NodeCoordinate(\"n13.east\"), Catlab.Graphics.TikZ.PathOperation(\"to\", Catlab.Graphics.TikZ.Property[Catlab.Graphics.TikZ.Property(\"out\", \"0\"), Catlab.Graphics.TikZ.Property(\"in\", \"180\")]), Catlab.Graphics.TikZ.NodeCoordinate(\"\\$(root.east)+(0em,1.5em)\\$\")], Catlab.Graphics.TikZ.Property[Catlab.Graphics.TikZ.Property(\"wire\", nothing)]), Catlab.Graphics.TikZ.Edge(Catlab.Graphics.TikZ.PathExpression[Catlab.Graphics.TikZ.NodeCoordinate(\"n14.east\"), Catlab.Graphics.TikZ.PathOperation(\"to\", Catlab.Graphics.TikZ.Property[Catlab.Graphics.TikZ.Property(\"out\", \"0\"), Catlab.Graphics.TikZ.Property(\"in\", \"180\")]), Catlab.Graphics.TikZ.NodeCoordinate(\"\\$(root.east)+(0em,-1.5em)\\$\")], Catlab.Graphics.TikZ.Property[Catlab.Graphics.TikZ.Property(\"wire\", nothing)]), Catlab.Graphics.TikZ.Edge(Catlab.Graphics.TikZ.PathExpression[Catlab.Graphics.TikZ.NodeCoordinate(\"n15.east\"), Catlab.Graphics.TikZ.PathOperation(\"to\", Catlab.Graphics.TikZ.Property[Catlab.Graphics.TikZ.Property(\"out\", \"0\"), Catlab.Graphics.TikZ.Property(\"in\", \"180\")]), Catlab.Graphics.TikZ.NodeCoordinate(\"\\$(root.east)+(0em,-4.5em)\\$\")], Catlab.Graphics.TikZ.Property[Catlab.Graphics.TikZ.Property(\"wire\", nothing)])], Catlab.Graphics.TikZ.Property[Catlab.Graphics.TikZ.Property(\"x\", \"1em\"), Catlab.Graphics.TikZ.Property(\"y\", \"1em\"), Catlab.Graphics.TikZ.Property(\"outer box/.style\", Catlab.Graphics.TikZ.Property[Catlab.Graphics.TikZ.Property(\"draw\", \"none\")]), Catlab.Graphics.TikZ.Property(\"box/.style\", Catlab.Graphics.TikZ.Property[Catlab.Graphics.TikZ.Property(\"rectangle\", nothing), Catlab.Graphics.TikZ.Property(\"draw\", nothing), Catlab.Graphics.TikZ.Property(\"solid\", nothing), Catlab.Graphics.TikZ.Property(\"rounded corners\", nothing)]), Catlab.Graphics.TikZ.Property(\"circular box/.style\", Catlab.Graphics.TikZ.Property[Catlab.Graphics.TikZ.Property(\"circle\", nothing), Catlab.Graphics.TikZ.Property(\"draw\", nothing), Catlab.Graphics.TikZ.Property(\"solid\", nothing)]), Catlab.Graphics.TikZ.Property(\"junction/.style\", Catlab.Graphics.TikZ.Property[Catlab.Graphics.TikZ.Property(\"circle\", nothing), Catlab.Graphics.TikZ.Property(\"draw\", nothing), Catlab.Graphics.TikZ.Property(\"fill\", nothing), Catlab.Graphics.TikZ.Property(\"inner sep\", \"0\")]), Catlab.Graphics.TikZ.Property(\"variant junction/.style\", Catlab.Graphics.TikZ.Property[Catlab.Graphics.TikZ.Property(\"circle\", nothing), Catlab.Graphics.TikZ.Property(\"draw\", nothing), Catlab.Graphics.TikZ.Property(\"solid\", nothing), Catlab.Graphics.TikZ.Property(\"inner sep\", \"0\")]), Catlab.Graphics.TikZ.Property(\"invisible/.style\", Catlab.Graphics.TikZ.Property[Catlab.Graphics.TikZ.Property(\"draw\", \"none\"), Catlab.Graphics.TikZ.Property(\"inner sep\", \"0\")]), Catlab.Graphics.TikZ.Property(\"wire/.style\", Catlab.Graphics.TikZ.Property[Catlab.Graphics.TikZ.Property(\"draw\", nothing)])]), [\"calc\"])",
      "image/svg+xml": [
       "<?xml version=\"1.0\" encoding=\"UTF-8\"?>\n",
       "<svg xmlns=\"http://www.w3.org/2000/svg\" xmlns:xlink=\"http://www.w3.org/1999/xlink\" width=\"219.975pt\" height=\"129.514pt\" viewBox=\"0 0 219.975 129.514\" version=\"1.1\">\n",
       "<defs>\n",
       "<g>\n",
       "<symbol overflow=\"visible\" id=\"glyph-1579379542894853-0-0\">\n",
       "<path style=\"stroke:none;\" d=\"\"/>\n",
       "</symbol>\n",
       "<symbol overflow=\"visible\" id=\"glyph-1579379542894853-0-1\">\n",
       "<path style=\"stroke:none;\" d=\"M 3.65625 -3.984375 L 4.515625 -3.984375 C 4.71875 -3.984375 4.8125 -3.984375 4.8125 -4.1875 C 4.8125 -4.296875 4.71875 -4.296875 4.546875 -4.296875 L 3.71875 -4.296875 L 3.921875 -5.4375 C 3.96875 -5.640625 4.109375 -6.34375 4.171875 -6.46875 C 4.25 -6.65625 4.421875 -6.8125 4.640625 -6.8125 C 4.671875 -6.8125 4.9375 -6.8125 5.125 -6.625 C 4.6875 -6.59375 4.578125 -6.234375 4.578125 -6.09375 C 4.578125 -5.859375 4.765625 -5.734375 4.953125 -5.734375 C 5.21875 -5.734375 5.5 -5.96875 5.5 -6.34375 C 5.5 -6.796875 5.046875 -7.03125 4.640625 -7.03125 C 4.296875 -7.03125 3.671875 -6.84375 3.375 -5.859375 C 3.3125 -5.65625 3.28125 -5.546875 3.046875 -4.296875 L 2.359375 -4.296875 C 2.15625 -4.296875 2.046875 -4.296875 2.046875 -4.109375 C 2.046875 -3.984375 2.140625 -3.984375 2.328125 -3.984375 L 2.984375 -3.984375 L 2.25 -0.046875 C 2.0625 0.921875 1.890625 1.828125 1.375 1.828125 C 1.328125 1.828125 1.09375 1.828125 0.890625 1.640625 C 1.359375 1.609375 1.453125 1.25 1.453125 1.109375 C 1.453125 0.875 1.265625 0.75 1.078125 0.75 C 0.8125 0.75 0.53125 0.984375 0.53125 1.359375 C 0.53125 1.796875 0.96875 2.046875 1.375 2.046875 C 1.921875 2.046875 2.328125 1.453125 2.5 1.078125 C 2.828125 0.453125 3.046875 -0.75 3.0625 -0.828125 Z M 3.65625 -3.984375 \"/>\n",
       "</symbol>\n",
       "<symbol overflow=\"visible\" id=\"glyph-1579379542894853-0-2\">\n",
       "<path style=\"stroke:none;\" d=\"M 4.6875 -3.765625 C 4.703125 -3.8125 4.71875 -3.875 4.71875 -3.9375 C 4.71875 -4.109375 4.609375 -4.203125 4.4375 -4.203125 C 4.34375 -4.203125 4.0625 -4.140625 4.03125 -3.78125 C 3.84375 -4.140625 3.5 -4.40625 3.09375 -4.40625 C 1.96875 -4.40625 0.734375 -3.015625 0.734375 -1.578125 C 0.734375 -0.59375 1.328125 0 2.046875 0 C 2.640625 0 3.109375 -0.46875 3.203125 -0.578125 L 3.21875 -0.5625 C 3.015625 0.3125 2.890625 0.734375 2.890625 0.75 C 2.84375 0.84375 2.515625 1.828125 1.453125 1.828125 C 1.265625 1.828125 0.9375 1.8125 0.65625 1.71875 C 0.953125 1.640625 1.0625 1.375 1.0625 1.203125 C 1.0625 1.046875 0.953125 0.859375 0.6875 0.859375 C 0.46875 0.859375 0.15625 1.03125 0.15625 1.4375 C 0.15625 1.84375 0.515625 2.046875 1.46875 2.046875 C 2.71875 2.046875 3.4375 1.265625 3.59375 0.671875 Z M 3.40625 -1.28125 C 3.34375 -1.015625 3.109375 -0.765625 2.890625 -0.578125 C 2.6875 -0.40625 2.375 -0.21875 2.078125 -0.21875 C 1.578125 -0.21875 1.4375 -0.734375 1.4375 -1.140625 C 1.4375 -1.609375 1.71875 -2.796875 2 -3.296875 C 2.265625 -3.78125 2.6875 -4.1875 3.109375 -4.1875 C 3.765625 -4.1875 3.90625 -3.375 3.90625 -3.328125 C 3.90625 -3.28125 3.890625 -3.21875 3.875 -3.1875 Z M 3.40625 -1.28125 \"/>\n",
       "</symbol>\n",
       "<symbol overflow=\"visible\" id=\"glyph-1579379542894853-0-3\">\n",
       "<path style=\"stroke:none;\" d=\"M 2.859375 -6.8125 C 2.859375 -6.8125 2.859375 -6.921875 2.734375 -6.921875 C 2.5 -6.921875 1.78125 -6.84375 1.515625 -6.8125 C 1.4375 -6.8125 1.328125 -6.796875 1.328125 -6.625 C 1.328125 -6.5 1.421875 -6.5 1.5625 -6.5 C 2.046875 -6.5 2.0625 -6.4375 2.0625 -6.328125 L 2.03125 -6.125 L 0.59375 -0.390625 C 0.546875 -0.25 0.546875 -0.234375 0.546875 -0.171875 C 0.546875 0.0625 0.75 0.109375 0.84375 0.109375 C 1 0.109375 1.15625 -0.015625 1.203125 -0.15625 L 1.390625 -0.90625 L 1.609375 -1.796875 C 1.671875 -2.03125 1.734375 -2.25 1.78125 -2.46875 C 1.796875 -2.53125 1.890625 -2.859375 1.890625 -2.921875 C 1.921875 -3.015625 2.234375 -3.5625 2.578125 -3.84375 C 2.796875 -4 3.09375 -4.1875 3.53125 -4.1875 C 3.953125 -4.1875 4.0625 -3.84375 4.0625 -3.484375 C 4.0625 -2.953125 3.6875 -1.859375 3.453125 -1.25 C 3.375 -1.03125 3.3125 -0.90625 3.3125 -0.703125 C 3.3125 -0.234375 3.671875 0.109375 4.140625 0.109375 C 5.078125 0.109375 5.4375 -1.34375 5.4375 -1.421875 C 5.4375 -1.53125 5.359375 -1.53125 5.328125 -1.53125 C 5.21875 -1.53125 5.21875 -1.5 5.171875 -1.34375 C 5.03125 -0.8125 4.703125 -0.109375 4.15625 -0.109375 C 3.984375 -0.109375 3.921875 -0.203125 3.921875 -0.4375 C 3.921875 -0.6875 4 -0.921875 4.09375 -1.140625 C 4.25 -1.578125 4.703125 -2.765625 4.703125 -3.34375 C 4.703125 -3.984375 4.3125 -4.40625 3.5625 -4.40625 C 2.9375 -4.40625 2.453125 -4.09375 2.078125 -3.640625 Z M 2.859375 -6.8125 \"/>\n",
       "</symbol>\n",
       "<symbol overflow=\"visible\" id=\"glyph-1579379542894853-0-4\">\n",
       "<path style=\"stroke:none;\" d=\"M 2.859375 -6.8125 C 2.859375 -6.8125 2.859375 -6.921875 2.734375 -6.921875 C 2.5 -6.921875 1.78125 -6.84375 1.515625 -6.8125 C 1.4375 -6.8125 1.328125 -6.796875 1.328125 -6.625 C 1.328125 -6.5 1.421875 -6.5 1.5625 -6.5 C 2.046875 -6.5 2.0625 -6.4375 2.0625 -6.328125 L 2.03125 -6.125 L 0.59375 -0.390625 C 0.546875 -0.25 0.546875 -0.234375 0.546875 -0.171875 C 0.546875 0.0625 0.75 0.109375 0.84375 0.109375 C 0.96875 0.109375 1.109375 0.015625 1.171875 -0.09375 C 1.21875 -0.1875 1.671875 -2.03125 1.734375 -2.28125 C 2.078125 -2.25 2.890625 -2.09375 2.890625 -1.4375 C 2.890625 -1.359375 2.890625 -1.328125 2.859375 -1.21875 C 2.84375 -1.109375 2.828125 -0.984375 2.828125 -0.875 C 2.828125 -0.296875 3.21875 0.109375 3.734375 0.109375 C 4.03125 0.109375 4.3125 -0.046875 4.53125 -0.421875 C 4.78125 -0.859375 4.890625 -1.40625 4.890625 -1.421875 C 4.890625 -1.53125 4.796875 -1.53125 4.765625 -1.53125 C 4.671875 -1.53125 4.65625 -1.484375 4.625 -1.34375 C 4.421875 -0.625 4.203125 -0.109375 3.765625 -0.109375 C 3.5625 -0.109375 3.4375 -0.21875 3.4375 -0.578125 C 3.4375 -0.75 3.484375 -0.984375 3.515625 -1.140625 C 3.5625 -1.3125 3.5625 -1.34375 3.5625 -1.453125 C 3.5625 -2.09375 2.9375 -2.375 2.078125 -2.5 C 2.390625 -2.671875 2.71875 -2.984375 2.9375 -3.234375 C 3.421875 -3.765625 3.875 -4.1875 4.359375 -4.1875 C 4.421875 -4.1875 4.4375 -4.1875 4.453125 -4.171875 C 4.578125 -4.15625 4.578125 -4.15625 4.671875 -4.09375 C 4.6875 -4.09375 4.6875 -4.078125 4.703125 -4.0625 C 4.234375 -4.03125 4.140625 -3.640625 4.140625 -3.515625 C 4.140625 -3.359375 4.25 -3.171875 4.515625 -3.171875 C 4.78125 -3.171875 5.0625 -3.390625 5.0625 -3.78125 C 5.0625 -4.078125 4.828125 -4.40625 4.390625 -4.40625 C 4.109375 -4.40625 3.65625 -4.328125 2.9375 -3.53125 C 2.59375 -3.15625 2.203125 -2.75 1.828125 -2.609375 Z M 2.859375 -6.8125 \"/>\n",
       "</symbol>\n",
       "<symbol overflow=\"visible\" id=\"glyph-1579379542894853-0-5\">\n",
       "<path style=\"stroke:none;\" d=\"M 0.875 -0.59375 C 0.84375 -0.4375 0.78125 -0.203125 0.78125 -0.15625 C 0.78125 0.015625 0.921875 0.109375 1.078125 0.109375 C 1.203125 0.109375 1.375 0.03125 1.453125 -0.171875 C 1.453125 -0.1875 1.578125 -0.65625 1.640625 -0.90625 L 1.859375 -1.796875 C 1.90625 -2.03125 1.96875 -2.25 2.03125 -2.46875 C 2.0625 -2.640625 2.140625 -2.9375 2.15625 -2.96875 C 2.296875 -3.28125 2.828125 -4.1875 3.78125 -4.1875 C 4.234375 -4.1875 4.3125 -3.8125 4.3125 -3.484375 C 4.3125 -3.234375 4.25 -2.953125 4.171875 -2.65625 L 3.890625 -1.5 L 3.6875 -0.75 C 3.65625 -0.546875 3.5625 -0.203125 3.5625 -0.15625 C 3.5625 0.015625 3.703125 0.109375 3.84375 0.109375 C 4.15625 0.109375 4.21875 -0.140625 4.296875 -0.453125 C 4.4375 -1.015625 4.8125 -2.46875 4.890625 -2.859375 C 4.921875 -2.984375 5.453125 -4.1875 6.546875 -4.1875 C 6.96875 -4.1875 7.078125 -3.84375 7.078125 -3.484375 C 7.078125 -2.921875 6.65625 -1.78125 6.453125 -1.25 C 6.375 -1.015625 6.328125 -0.90625 6.328125 -0.703125 C 6.328125 -0.234375 6.671875 0.109375 7.140625 0.109375 C 8.078125 0.109375 8.453125 -1.34375 8.453125 -1.421875 C 8.453125 -1.53125 8.359375 -1.53125 8.328125 -1.53125 C 8.234375 -1.53125 8.234375 -1.5 8.1875 -1.34375 C 8.03125 -0.8125 7.71875 -0.109375 7.171875 -0.109375 C 7 -0.109375 6.921875 -0.203125 6.921875 -0.4375 C 6.921875 -0.6875 7.015625 -0.921875 7.109375 -1.140625 C 7.296875 -1.671875 7.71875 -2.765625 7.71875 -3.34375 C 7.71875 -3.984375 7.3125 -4.40625 6.5625 -4.40625 C 5.828125 -4.40625 5.3125 -3.96875 4.9375 -3.4375 C 4.9375 -3.5625 4.90625 -3.90625 4.625 -4.140625 C 4.375 -4.359375 4.0625 -4.40625 3.8125 -4.40625 C 2.90625 -4.40625 2.421875 -3.765625 2.25 -3.53125 C 2.203125 -4.109375 1.78125 -4.40625 1.328125 -4.40625 C 0.875 -4.40625 0.6875 -4.015625 0.59375 -3.84375 C 0.421875 -3.484375 0.296875 -2.90625 0.296875 -2.875 C 0.296875 -2.765625 0.390625 -2.765625 0.40625 -2.765625 C 0.515625 -2.765625 0.515625 -2.78125 0.578125 -3 C 0.75 -3.703125 0.953125 -4.1875 1.3125 -4.1875 C 1.46875 -4.1875 1.609375 -4.109375 1.609375 -3.734375 C 1.609375 -3.515625 1.578125 -3.40625 1.453125 -2.890625 Z M 0.875 -0.59375 \"/>\n",
       "</symbol>\n",
       "<symbol overflow=\"visible\" id=\"glyph-1579379542894853-0-6\">\n",
       "<path style=\"stroke:none;\" d=\"M 0.875 -0.59375 C 0.84375 -0.4375 0.78125 -0.203125 0.78125 -0.15625 C 0.78125 0.015625 0.921875 0.109375 1.078125 0.109375 C 1.203125 0.109375 1.375 0.03125 1.453125 -0.171875 C 1.453125 -0.1875 1.578125 -0.65625 1.640625 -0.90625 L 1.859375 -1.796875 C 1.90625 -2.03125 1.96875 -2.25 2.03125 -2.46875 C 2.0625 -2.640625 2.140625 -2.9375 2.15625 -2.96875 C 2.296875 -3.28125 2.828125 -4.1875 3.78125 -4.1875 C 4.234375 -4.1875 4.3125 -3.8125 4.3125 -3.484375 C 4.3125 -2.875 3.828125 -1.59375 3.671875 -1.171875 C 3.578125 -0.9375 3.5625 -0.8125 3.5625 -0.703125 C 3.5625 -0.234375 3.921875 0.109375 4.390625 0.109375 C 5.328125 0.109375 5.6875 -1.34375 5.6875 -1.421875 C 5.6875 -1.53125 5.609375 -1.53125 5.578125 -1.53125 C 5.46875 -1.53125 5.46875 -1.5 5.421875 -1.34375 C 5.21875 -0.671875 4.890625 -0.109375 4.40625 -0.109375 C 4.234375 -0.109375 4.171875 -0.203125 4.171875 -0.4375 C 4.171875 -0.6875 4.25 -0.921875 4.34375 -1.140625 C 4.53125 -1.671875 4.953125 -2.765625 4.953125 -3.34375 C 4.953125 -4 4.53125 -4.40625 3.8125 -4.40625 C 2.90625 -4.40625 2.421875 -3.765625 2.25 -3.53125 C 2.203125 -4.09375 1.796875 -4.40625 1.328125 -4.40625 C 0.875 -4.40625 0.6875 -4.015625 0.59375 -3.84375 C 0.421875 -3.5 0.296875 -2.90625 0.296875 -2.875 C 0.296875 -2.765625 0.390625 -2.765625 0.40625 -2.765625 C 0.515625 -2.765625 0.515625 -2.78125 0.578125 -3 C 0.75 -3.703125 0.953125 -4.1875 1.3125 -4.1875 C 1.5 -4.1875 1.609375 -4.0625 1.609375 -3.734375 C 1.609375 -3.515625 1.578125 -3.40625 1.453125 -2.890625 Z M 0.875 -0.59375 \"/>\n",
       "</symbol>\n",
       "<symbol overflow=\"visible\" id=\"glyph-1579379542894853-0-7\">\n",
       "<path style=\"stroke:none;\" d=\"M 2.578125 -6.8125 C 2.578125 -6.8125 2.578125 -6.921875 2.4375 -6.921875 C 2.21875 -6.921875 1.484375 -6.84375 1.21875 -6.8125 C 1.140625 -6.8125 1.03125 -6.796875 1.03125 -6.609375 C 1.03125 -6.5 1.140625 -6.5 1.28125 -6.5 C 1.765625 -6.5 1.78125 -6.40625 1.78125 -6.328125 L 1.75 -6.125 L 0.484375 -1.140625 C 0.453125 -1.03125 0.4375 -0.96875 0.4375 -0.8125 C 0.4375 -0.234375 0.875 0.109375 1.34375 0.109375 C 1.671875 0.109375 1.921875 -0.09375 2.09375 -0.453125 C 2.265625 -0.828125 2.390625 -1.40625 2.390625 -1.421875 C 2.390625 -1.53125 2.296875 -1.53125 2.265625 -1.53125 C 2.171875 -1.53125 2.15625 -1.484375 2.140625 -1.34375 C 1.96875 -0.703125 1.78125 -0.109375 1.375 -0.109375 C 1.078125 -0.109375 1.078125 -0.421875 1.078125 -0.5625 C 1.078125 -0.8125 1.09375 -0.859375 1.140625 -1.046875 Z M 2.578125 -6.8125 \"/>\n",
       "</symbol>\n",
       "</g>\n",
       "<clipPath id=\"clip-1579379542894853-1\">\n",
       "  <path d=\"M 194 14 L 219.976562 14 L 219.976562 26 L 194 26 Z M 194 14 \"/>\n",
       "</clipPath>\n",
       "<clipPath id=\"clip-1579379542894853-2\">\n",
       "  <path d=\"M 194 44 L 219.976562 44 L 219.976562 56 L 194 56 Z M 194 44 \"/>\n",
       "</clipPath>\n",
       "<clipPath id=\"clip-1579379542894853-3\">\n",
       "  <path d=\"M 194 74 L 219.976562 74 L 219.976562 86 L 194 86 Z M 194 74 \"/>\n",
       "</clipPath>\n",
       "<clipPath id=\"clip-1579379542894853-4\">\n",
       "  <path d=\"M 194 103 L 219.976562 103 L 219.976562 116 L 194 116 Z M 194 103 \"/>\n",
       "</clipPath>\n",
       "</defs>\n",
       "<g id=\"surface1\">\n",
       "<path style=\"fill:none;stroke-width:0.3985;stroke-linecap:butt;stroke-linejoin:miter;stroke:rgb(0%,0%,0%);stroke-opacity:1;stroke-miterlimit:10;\" d=\"M -73.726281 54.796062 L -85.679406 54.796062 C -87.882531 54.796062 -89.663781 53.010906 -89.663781 50.811687 L -89.663781 38.854656 C -89.663781 36.655437 -87.882531 34.870281 -85.679406 34.870281 L -73.726281 34.870281 C -71.523156 34.870281 -69.738 36.655437 -69.738 38.854656 L -69.738 50.811687 C -69.738 53.010906 -71.523156 54.796062 -73.726281 54.796062 Z M -73.726281 54.796062 \" transform=\"matrix(1,0,0,-1,109.988,64.757)\"/>\n",
       "<g style=\"fill:rgb(0%,0%,0%);fill-opacity:1;\">\n",
       "  <use xlink:href=\"#glyph-1579379542894853-0-1\" x=\"27.311\" y=\"22.416\"/>\n",
       "</g>\n",
       "<path style=\"fill:none;stroke-width:0.3985;stroke-linecap:butt;stroke-linejoin:miter;stroke:rgb(0%,0%,0%);stroke-opacity:1;stroke-miterlimit:10;\" d=\"M -73.726281 24.905437 L -85.679406 24.905437 C -87.882531 24.905437 -89.663781 23.124187 -89.663781 20.921062 L -89.663781 8.967937 C -89.663781 6.764812 -87.882531 4.979656 -85.679406 4.979656 L -73.726281 4.979656 C -71.523156 4.979656 -69.738 6.764812 -69.738 8.967937 L -69.738 20.921062 C -69.738 23.124187 -71.523156 24.905437 -73.726281 24.905437 Z M -73.726281 24.905437 \" transform=\"matrix(1,0,0,-1,109.988,64.757)\"/>\n",
       "<g style=\"fill:rgb(0%,0%,0%);fill-opacity:1;\">\n",
       "  <use xlink:href=\"#glyph-1579379542894853-0-2\" x=\"27.732\" y=\"50.989\"/>\n",
       "</g>\n",
       "<path style=\"fill:none;stroke-width:0.3985;stroke-linecap:butt;stroke-linejoin:miter;stroke:rgb(0%,0%,0%);stroke-opacity:1;stroke-miterlimit:10;\" d=\"M -73.726281 -4.981281 L -85.679406 -4.981281 C -87.882531 -4.981281 -89.663781 -6.766438 -89.663781 -8.965656 L -89.663781 -20.922688 C -89.663781 -23.121906 -87.882531 -24.907063 -85.679406 -24.907063 L -73.726281 -24.907063 C -71.523156 -24.907063 -69.738 -23.121906 -69.738 -20.922688 L -69.738 -8.965656 C -69.738 -6.766438 -71.523156 -4.981281 -73.726281 -4.981281 Z M -73.726281 -4.981281 \" transform=\"matrix(1,0,0,-1,109.988,64.757)\"/>\n",
       "<g style=\"fill:rgb(0%,0%,0%);fill-opacity:1;\">\n",
       "  <use xlink:href=\"#glyph-1579379542894853-0-3\" x=\"27.416\" y=\"83.16\"/>\n",
       "</g>\n",
       "<path style=\"fill:none;stroke-width:0.3985;stroke-linecap:butt;stroke-linejoin:miter;stroke:rgb(0%,0%,0%);stroke-opacity:1;stroke-miterlimit:10;\" d=\"M -73.726281 -34.868 L -85.679406 -34.868 C -87.882531 -34.868 -89.663781 -36.653156 -89.663781 -38.856281 L -89.663781 -50.809406 C -89.663781 -53.012531 -87.882531 -54.793781 -85.679406 -54.793781 L -73.726281 -54.793781 C -71.523156 -54.793781 -69.738 -53.012531 -69.738 -50.809406 L -69.738 -38.856281 C -69.738 -36.653156 -71.523156 -34.868 -73.726281 -34.868 Z M -73.726281 -34.868 \" transform=\"matrix(1,0,0,-1,109.988,64.757)\"/>\n",
       "<g style=\"fill:rgb(0%,0%,0%);fill-opacity:1;\">\n",
       "  <use xlink:href=\"#glyph-1579379542894853-0-4\" x=\"27.536\" y=\"113.048\"/>\n",
       "</g>\n",
       "<path style=\"fill:none;stroke-width:0.3985;stroke-linecap:butt;stroke-linejoin:miter;stroke:rgb(0%,0%,0%);stroke-opacity:1;stroke-miterlimit:10;\" d=\"M -33.874719 54.796062 L -45.827844 54.796062 C -48.030969 54.796062 -49.812219 53.010906 -49.812219 50.811687 L -49.812219 8.967937 C -49.812219 6.764812 -48.030969 4.979656 -45.827844 4.979656 L -33.874719 4.979656 C -31.671594 4.979656 -29.886437 6.764812 -29.886437 8.967937 L -29.886437 50.811687 C -29.886437 53.010906 -31.671594 54.796062 -33.874719 54.796062 Z M -33.874719 54.796062 \" transform=\"matrix(1,0,0,-1,109.988,64.757)\"/>\n",
       "<g style=\"fill:rgb(0%,0%,0%);fill-opacity:1;\">\n",
       "  <use xlink:href=\"#glyph-1579379542894853-0-5\" x=\"65.763\" y=\"37.014\"/>\n",
       "</g>\n",
       "<path style=\"fill:none;stroke-width:0.3985;stroke-linecap:butt;stroke-linejoin:miter;stroke:rgb(0%,0%,0%);stroke-opacity:1;stroke-miterlimit:10;\" d=\"M -33.874719 -4.981281 L -45.827844 -4.981281 C -48.030969 -4.981281 -49.812219 -6.766438 -49.812219 -8.965656 L -49.812219 -50.809406 C -49.812219 -53.012531 -48.030969 -54.793781 -45.827844 -54.793781 L -33.874719 -54.793781 C -31.671594 -54.793781 -29.886437 -53.012531 -29.886437 -50.809406 L -29.886437 -8.965656 C -29.886437 -6.766438 -31.671594 -4.981281 -33.874719 -4.981281 Z M -33.874719 -4.981281 \" transform=\"matrix(1,0,0,-1,109.988,64.757)\"/>\n",
       "<g style=\"fill:rgb(0%,0%,0%);fill-opacity:1;\">\n",
       "  <use xlink:href=\"#glyph-1579379542894853-0-6\" x=\"67.147\" y=\"96.789\"/>\n",
       "</g>\n",
       "<path style=\"fill:none;stroke-width:0.3985;stroke-linecap:butt;stroke-linejoin:miter;stroke:rgb(0%,0%,0%);stroke-opacity:1;stroke-miterlimit:10;\" d=\"M 5.976844 54.796062 L -5.976281 54.796062 C -8.179406 54.796062 -9.964562 53.010906 -9.964562 50.811687 L -9.964562 -50.809406 C -9.964562 -53.012531 -8.179406 -54.793781 -5.976281 -54.793781 L 5.976844 -54.793781 C 8.179969 -54.793781 9.961219 -53.012531 9.961219 -50.809406 L 9.961219 50.811687 C 9.961219 53.010906 8.179969 54.796062 5.976844 54.796062 Z M 5.976844 54.796062 \" transform=\"matrix(1,0,0,-1,109.988,64.757)\"/>\n",
       "<g style=\"fill:rgb(0%,0%,0%);fill-opacity:1;\">\n",
       "  <use xlink:href=\"#glyph-1579379542894853-0-7\" x=\"108.403\" y=\"68.216\"/>\n",
       "</g>\n",
       "<path style=\"fill:none;stroke-width:0.3985;stroke-linecap:butt;stroke-linejoin:miter;stroke:rgb(0%,0%,0%);stroke-opacity:1;stroke-miterlimit:10;\" d=\"M 45.828406 54.796062 L 33.875281 54.796062 C 31.672156 54.796062 29.887 53.010906 29.887 50.811687 L 29.887 8.967937 C 29.887 6.764812 31.672156 4.979656 33.875281 4.979656 L 45.828406 4.979656 C 48.031531 4.979656 49.812781 6.764812 49.812781 8.967937 L 49.812781 50.811687 C 49.812781 53.010906 48.031531 54.796062 45.828406 54.796062 Z M 45.828406 54.796062 \" transform=\"matrix(1,0,0,-1,109.988,64.757)\"/>\n",
       "<g style=\"fill:rgb(0%,0%,0%);fill-opacity:1;\">\n",
       "  <use xlink:href=\"#glyph-1579379542894853-0-6\" x=\"146.848\" y=\"37.014\"/>\n",
       "</g>\n",
       "<path style=\"fill:none;stroke-width:0.3985;stroke-linecap:butt;stroke-linejoin:miter;stroke:rgb(0%,0%,0%);stroke-opacity:1;stroke-miterlimit:10;\" d=\"M 45.828406 -4.981281 L 33.875281 -4.981281 C 31.672156 -4.981281 29.887 -6.766438 29.887 -8.965656 L 29.887 -50.809406 C 29.887 -53.012531 31.672156 -54.793781 33.875281 -54.793781 L 45.828406 -54.793781 C 48.031531 -54.793781 49.812781 -53.012531 49.812781 -50.809406 L 49.812781 -8.965656 C 49.812781 -6.766438 48.031531 -4.981281 45.828406 -4.981281 Z M 45.828406 -4.981281 \" transform=\"matrix(1,0,0,-1,109.988,64.757)\"/>\n",
       "<g style=\"fill:rgb(0%,0%,0%);fill-opacity:1;\">\n",
       "  <use xlink:href=\"#glyph-1579379542894853-0-5\" x=\"145.464\" y=\"96.789\"/>\n",
       "</g>\n",
       "<path style=\"fill:none;stroke-width:0.3985;stroke-linecap:butt;stroke-linejoin:miter;stroke:rgb(0%,0%,0%);stroke-opacity:1;stroke-miterlimit:10;\" d=\"M 85.679969 54.796062 L 73.722938 54.796062 C 71.523719 54.796062 69.738563 53.010906 69.738563 50.811687 L 69.738563 38.854656 C 69.738563 36.655437 71.523719 34.870281 73.722938 34.870281 L 85.679969 34.870281 C 87.879188 34.870281 89.664344 36.655437 89.664344 38.854656 L 89.664344 50.811687 C 89.664344 53.010906 87.879188 54.796062 85.679969 54.796062 Z M 85.679969 54.796062 \" transform=\"matrix(1,0,0,-1,109.988,64.757)\"/>\n",
       "<g style=\"fill:rgb(0%,0%,0%);fill-opacity:1;\">\n",
       "  <use xlink:href=\"#glyph-1579379542894853-0-3\" x=\"186.819\" y=\"23.384\"/>\n",
       "</g>\n",
       "<path style=\"fill:none;stroke-width:0.3985;stroke-linecap:butt;stroke-linejoin:miter;stroke:rgb(0%,0%,0%);stroke-opacity:1;stroke-miterlimit:10;\" d=\"M 85.679969 24.905437 L 73.722938 24.905437 C 71.523719 24.905437 69.738563 23.124187 69.738563 20.921062 L 69.738563 8.967937 C 69.738563 6.764812 71.523719 4.979656 73.722938 4.979656 L 85.679969 4.979656 C 87.879188 4.979656 89.664344 6.764812 89.664344 8.967937 L 89.664344 20.921062 C 89.664344 23.124187 87.879188 24.905437 85.679969 24.905437 Z M 85.679969 24.905437 \" transform=\"matrix(1,0,0,-1,109.988,64.757)\"/>\n",
       "<g style=\"fill:rgb(0%,0%,0%);fill-opacity:1;\">\n",
       "  <use xlink:href=\"#glyph-1579379542894853-0-4\" x=\"186.939\" y=\"53.272\"/>\n",
       "</g>\n",
       "<path style=\"fill:none;stroke-width:0.3985;stroke-linecap:butt;stroke-linejoin:miter;stroke:rgb(0%,0%,0%);stroke-opacity:1;stroke-miterlimit:10;\" d=\"M 85.679969 -4.981281 L 73.722938 -4.981281 C 71.523719 -4.981281 69.738563 -6.766438 69.738563 -8.965656 L 69.738563 -20.922688 C 69.738563 -23.121906 71.523719 -24.907063 73.722938 -24.907063 L 85.679969 -24.907063 C 87.879188 -24.907063 89.664344 -23.121906 89.664344 -20.922688 L 89.664344 -8.965656 C 89.664344 -6.766438 87.879188 -4.981281 85.679969 -4.981281 Z M 85.679969 -4.981281 \" transform=\"matrix(1,0,0,-1,109.988,64.757)\"/>\n",
       "<g style=\"fill:rgb(0%,0%,0%);fill-opacity:1;\">\n",
       "  <use xlink:href=\"#glyph-1579379542894853-0-1\" x=\"186.714\" y=\"82.191\"/>\n",
       "</g>\n",
       "<path style=\"fill:none;stroke-width:0.3985;stroke-linecap:butt;stroke-linejoin:miter;stroke:rgb(0%,0%,0%);stroke-opacity:1;stroke-miterlimit:10;\" d=\"M 85.679969 -34.868 L 73.722938 -34.868 C 71.523719 -34.868 69.738563 -36.653156 69.738563 -38.856281 L 69.738563 -50.809406 C 69.738563 -53.012531 71.523719 -54.793781 73.722938 -54.793781 L 85.679969 -54.793781 C 87.879188 -54.793781 89.664344 -53.012531 89.664344 -50.809406 L 89.664344 -38.856281 C 89.664344 -36.653156 87.879188 -34.868 85.679969 -34.868 Z M 85.679969 -34.868 \" transform=\"matrix(1,0,0,-1,109.988,64.757)\"/>\n",
       "<g style=\"fill:rgb(0%,0%,0%);fill-opacity:1;\">\n",
       "  <use xlink:href=\"#glyph-1579379542894853-0-2\" x=\"187.134\" y=\"110.765\"/>\n",
       "</g>\n",
       "<path style=\"fill:none;stroke-width:0.3985;stroke-linecap:butt;stroke-linejoin:miter;stroke:rgb(0%,0%,0%);stroke-opacity:1;stroke-miterlimit:10;\" d=\"M -109.788781 44.831219 C -102.01925 44.831219 -97.636437 44.831219 -89.863 44.831219 \" transform=\"matrix(1,0,0,-1,109.988,64.757)\"/>\n",
       "<path style=\"fill:none;stroke-width:0.3985;stroke-linecap:butt;stroke-linejoin:miter;stroke:rgb(0%,0%,0%);stroke-opacity:1;stroke-miterlimit:10;\" d=\"M -109.788781 14.9445 C -102.01925 14.9445 -97.636437 14.9445 -89.863 14.9445 \" transform=\"matrix(1,0,0,-1,109.988,64.757)\"/>\n",
       "<path style=\"fill:none;stroke-width:0.3985;stroke-linecap:butt;stroke-linejoin:miter;stroke:rgb(0%,0%,0%);stroke-opacity:1;stroke-miterlimit:10;\" d=\"M -109.788781 -14.942219 C -102.01925 -14.942219 -97.636437 -14.942219 -89.863 -14.942219 \" transform=\"matrix(1,0,0,-1,109.988,64.757)\"/>\n",
       "<path style=\"fill:none;stroke-width:0.3985;stroke-linecap:butt;stroke-linejoin:miter;stroke:rgb(0%,0%,0%);stroke-opacity:1;stroke-miterlimit:10;\" d=\"M -109.788781 -44.832844 C -102.01925 -44.832844 -97.636437 -44.832844 -89.863 -44.832844 \" transform=\"matrix(1,0,0,-1,109.988,64.757)\"/>\n",
       "<path style=\"fill:none;stroke-width:0.3985;stroke-linecap:butt;stroke-linejoin:miter;stroke:rgb(0%,0%,0%);stroke-opacity:1;stroke-miterlimit:10;\" d=\"M -69.538781 44.831219 C -61.9255 44.831219 -57.628625 44.831219 -50.011437 44.831219 \" transform=\"matrix(1,0,0,-1,109.988,64.757)\"/>\n",
       "<path style=\"fill:none;stroke-width:0.3985;stroke-linecap:butt;stroke-linejoin:miter;stroke:rgb(0%,0%,0%);stroke-opacity:1;stroke-miterlimit:10;\" d=\"M -69.538781 14.9445 C -61.9255 14.9445 -57.628625 14.9445 -50.011437 14.9445 \" transform=\"matrix(1,0,0,-1,109.988,64.757)\"/>\n",
       "<path style=\"fill:none;stroke-width:0.3985;stroke-linecap:butt;stroke-linejoin:miter;stroke:rgb(0%,0%,0%);stroke-opacity:1;stroke-miterlimit:10;\" d=\"M -69.538781 -14.942219 C -61.9255 -14.942219 -57.628625 -14.942219 -50.011437 -14.942219 \" transform=\"matrix(1,0,0,-1,109.988,64.757)\"/>\n",
       "<path style=\"fill:none;stroke-width:0.3985;stroke-linecap:butt;stroke-linejoin:miter;stroke:rgb(0%,0%,0%);stroke-opacity:1;stroke-miterlimit:10;\" d=\"M -69.538781 -44.832844 C -61.9255 -44.832844 -57.628625 -44.832844 -50.011437 -44.832844 \" transform=\"matrix(1,0,0,-1,109.988,64.757)\"/>\n",
       "<path style=\"fill:none;stroke-width:0.3985;stroke-linecap:butt;stroke-linejoin:miter;stroke:rgb(0%,0%,0%);stroke-opacity:1;stroke-miterlimit:10;\" d=\"M -29.687219 44.831219 C -22.073937 44.831219 -17.777062 44.831219 -10.163781 44.831219 \" transform=\"matrix(1,0,0,-1,109.988,64.757)\"/>\n",
       "<path style=\"fill:none;stroke-width:0.3985;stroke-linecap:butt;stroke-linejoin:miter;stroke:rgb(0%,0%,0%);stroke-opacity:1;stroke-miterlimit:10;\" d=\"M -29.687219 14.9445 C -22.073937 14.9445 -17.777062 14.9445 -10.163781 14.9445 \" transform=\"matrix(1,0,0,-1,109.988,64.757)\"/>\n",
       "<path style=\"fill:none;stroke-width:0.3985;stroke-linecap:butt;stroke-linejoin:miter;stroke:rgb(0%,0%,0%);stroke-opacity:1;stroke-miterlimit:10;\" d=\"M -29.687219 -14.942219 C -22.073937 -14.942219 -17.777062 -14.942219 -10.163781 -14.942219 \" transform=\"matrix(1,0,0,-1,109.988,64.757)\"/>\n",
       "<path style=\"fill:none;stroke-width:0.3985;stroke-linecap:butt;stroke-linejoin:miter;stroke:rgb(0%,0%,0%);stroke-opacity:1;stroke-miterlimit:10;\" d=\"M -29.687219 -44.832844 C -22.073937 -44.832844 -17.777062 -44.832844 -10.163781 -44.832844 \" transform=\"matrix(1,0,0,-1,109.988,64.757)\"/>\n",
       "<path style=\"fill:none;stroke-width:0.3985;stroke-linecap:butt;stroke-linejoin:miter;stroke:rgb(0%,0%,0%);stroke-opacity:1;stroke-miterlimit:10;\" d=\"M 10.160438 44.831219 C 17.777625 44.831219 22.0745 44.831219 29.687781 44.831219 \" transform=\"matrix(1,0,0,-1,109.988,64.757)\"/>\n",
       "<path style=\"fill:none;stroke-width:0.3985;stroke-linecap:butt;stroke-linejoin:miter;stroke:rgb(0%,0%,0%);stroke-opacity:1;stroke-miterlimit:10;\" d=\"M 10.160438 14.9445 C 17.777625 14.9445 22.0745 14.9445 29.687781 14.9445 \" transform=\"matrix(1,0,0,-1,109.988,64.757)\"/>\n",
       "<path style=\"fill:none;stroke-width:0.3985;stroke-linecap:butt;stroke-linejoin:miter;stroke:rgb(0%,0%,0%);stroke-opacity:1;stroke-miterlimit:10;\" d=\"M 10.160438 -14.942219 C 17.777625 -14.942219 22.0745 -14.942219 29.687781 -14.942219 \" transform=\"matrix(1,0,0,-1,109.988,64.757)\"/>\n",
       "<path style=\"fill:none;stroke-width:0.3985;stroke-linecap:butt;stroke-linejoin:miter;stroke:rgb(0%,0%,0%);stroke-opacity:1;stroke-miterlimit:10;\" d=\"M 10.160438 -44.832844 C 17.777625 -44.832844 22.0745 -44.832844 29.687781 -44.832844 \" transform=\"matrix(1,0,0,-1,109.988,64.757)\"/>\n",
       "<path style=\"fill:none;stroke-width:0.3985;stroke-linecap:butt;stroke-linejoin:miter;stroke:rgb(0%,0%,0%);stroke-opacity:1;stroke-miterlimit:10;\" d=\"M 50.012 44.831219 C 57.629188 44.831219 61.926063 44.831219 69.539344 44.831219 \" transform=\"matrix(1,0,0,-1,109.988,64.757)\"/>\n",
       "<path style=\"fill:none;stroke-width:0.3985;stroke-linecap:butt;stroke-linejoin:miter;stroke:rgb(0%,0%,0%);stroke-opacity:1;stroke-miterlimit:10;\" d=\"M 50.012 14.9445 C 57.629188 14.9445 61.926063 14.9445 69.539344 14.9445 \" transform=\"matrix(1,0,0,-1,109.988,64.757)\"/>\n",
       "<path style=\"fill:none;stroke-width:0.3985;stroke-linecap:butt;stroke-linejoin:miter;stroke:rgb(0%,0%,0%);stroke-opacity:1;stroke-miterlimit:10;\" d=\"M 50.012 -14.942219 C 57.629188 -14.942219 61.926063 -14.942219 69.539344 -14.942219 \" transform=\"matrix(1,0,0,-1,109.988,64.757)\"/>\n",
       "<path style=\"fill:none;stroke-width:0.3985;stroke-linecap:butt;stroke-linejoin:miter;stroke:rgb(0%,0%,0%);stroke-opacity:1;stroke-miterlimit:10;\" d=\"M 50.012 -44.832844 C 57.629188 -44.832844 61.926063 -44.832844 69.539344 -44.832844 \" transform=\"matrix(1,0,0,-1,109.988,64.757)\"/>\n",
       "<g clip-path=\"url(#clip-1579379542894853-1)\" clip-rule=\"nonzero\">\n",
       "<path style=\"fill:none;stroke-width:0.3985;stroke-linecap:butt;stroke-linejoin:miter;stroke:rgb(0%,0%,0%);stroke-opacity:1;stroke-miterlimit:10;\" d=\"M 89.863563 44.831219 C 97.633094 44.831219 102.019813 44.831219 109.789344 44.831219 \" transform=\"matrix(1,0,0,-1,109.988,64.757)\"/>\n",
       "</g>\n",
       "<g clip-path=\"url(#clip-1579379542894853-2)\" clip-rule=\"nonzero\">\n",
       "<path style=\"fill:none;stroke-width:0.3985;stroke-linecap:butt;stroke-linejoin:miter;stroke:rgb(0%,0%,0%);stroke-opacity:1;stroke-miterlimit:10;\" d=\"M 89.863563 14.9445 C 97.633094 14.9445 102.019813 14.9445 109.789344 14.9445 \" transform=\"matrix(1,0,0,-1,109.988,64.757)\"/>\n",
       "</g>\n",
       "<g clip-path=\"url(#clip-1579379542894853-3)\" clip-rule=\"nonzero\">\n",
       "<path style=\"fill:none;stroke-width:0.3985;stroke-linecap:butt;stroke-linejoin:miter;stroke:rgb(0%,0%,0%);stroke-opacity:1;stroke-miterlimit:10;\" d=\"M 89.863563 -14.942219 C 97.633094 -14.942219 102.019813 -14.942219 109.789344 -14.942219 \" transform=\"matrix(1,0,0,-1,109.988,64.757)\"/>\n",
       "</g>\n",
       "<g clip-path=\"url(#clip-1579379542894853-4)\" clip-rule=\"nonzero\">\n",
       "<path style=\"fill:none;stroke-width:0.3985;stroke-linecap:butt;stroke-linejoin:miter;stroke:rgb(0%,0%,0%);stroke-opacity:1;stroke-miterlimit:10;\" d=\"M 89.863563 -44.832844 C 97.633094 -44.832844 102.019813 -44.832844 109.789344 -44.832844 \" transform=\"matrix(1,0,0,-1,109.988,64.757)\"/>\n",
       "</g>\n",
       "</g>\n",
       "</svg>\n",
       "\n"
      ]
     },
     "metadata": {},
     "execution_count": 6
    }
   ],
   "cell_type": "code",
   "source": [
    "h, k = Hom(:h, C, D),  Hom(:k, D, C)\n",
    "m, n = Hom(:m, B⊗A, A⊗B), Hom(:n, D⊗C, C⊗D)\n",
    "q = Hom(:l, A⊗B⊗C⊗D, D⊗C⊗B⊗A)\n",
    "\n",
    "to_tikz((f⊗g⊗h⊗k)⋅(m⊗n)⋅q⋅(n⊗m)⋅(h⊗k⊗f⊗g))"
   ],
   "metadata": {},
   "execution_count": 6
  },
  {
   "outputs": [],
   "cell_type": "markdown",
   "source": [
    "Identities and braidings appear as wires."
   ],
   "metadata": {}
  },
  {
   "outputs": [
    {
     "output_type": "execute_result",
     "data": {
      "text/plain": "Catlab.Graphics.TikZ.Document(Catlab.Graphics.TikZ.Picture(Catlab.Graphics.TikZ.Statement[Catlab.Graphics.TikZ.Node(\"root\", Catlab.Graphics.TikZ.Property[Catlab.Graphics.TikZ.Property(\"outer box\", nothing), Catlab.Graphics.TikZ.Property(\"minimum width\", \"6em\"), Catlab.Graphics.TikZ.Property(\"minimum height\", \"4em\")], Catlab.Graphics.TikZ.Coordinate(\"0\", \"0\"), \"\"), Catlab.Graphics.TikZ.Edge(Catlab.Graphics.TikZ.PathExpression[Catlab.Graphics.TikZ.NodeCoordinate(\"root.west\"), Catlab.Graphics.TikZ.PathOperation(\"to\", Catlab.Graphics.TikZ.Property[Catlab.Graphics.TikZ.Property(\"out\", \"0\"), Catlab.Graphics.TikZ.Property(\"in\", \"180\")]), Catlab.Graphics.TikZ.Coordinate(\"0\", \"0\"), Catlab.Graphics.TikZ.PathOperation(\"to\", Catlab.Graphics.TikZ.Property[Catlab.Graphics.TikZ.Property(\"out\", \"0\"), Catlab.Graphics.TikZ.Property(\"in\", \"180\")]), Catlab.Graphics.TikZ.NodeCoordinate(\"root.east\")], Catlab.Graphics.TikZ.Property[Catlab.Graphics.TikZ.Property(\"wire\", \"\\$A\\$\")])], Catlab.Graphics.TikZ.Property[Catlab.Graphics.TikZ.Property(\"x\", \"1em\"), Catlab.Graphics.TikZ.Property(\"y\", \"1em\"), Catlab.Graphics.TikZ.Property(\"outer box/.style\", Catlab.Graphics.TikZ.Property[Catlab.Graphics.TikZ.Property(\"draw\", \"none\")]), Catlab.Graphics.TikZ.Property(\"box/.style\", Catlab.Graphics.TikZ.Property[Catlab.Graphics.TikZ.Property(\"rectangle\", nothing), Catlab.Graphics.TikZ.Property(\"draw\", nothing), Catlab.Graphics.TikZ.Property(\"solid\", nothing), Catlab.Graphics.TikZ.Property(\"rounded corners\", nothing)]), Catlab.Graphics.TikZ.Property(\"circular box/.style\", Catlab.Graphics.TikZ.Property[Catlab.Graphics.TikZ.Property(\"circle\", nothing), Catlab.Graphics.TikZ.Property(\"draw\", nothing), Catlab.Graphics.TikZ.Property(\"solid\", nothing)]), Catlab.Graphics.TikZ.Property(\"junction/.style\", Catlab.Graphics.TikZ.Property[Catlab.Graphics.TikZ.Property(\"circle\", nothing), Catlab.Graphics.TikZ.Property(\"draw\", nothing), Catlab.Graphics.TikZ.Property(\"fill\", nothing), Catlab.Graphics.TikZ.Property(\"inner sep\", \"0\")]), Catlab.Graphics.TikZ.Property(\"variant junction/.style\", Catlab.Graphics.TikZ.Property[Catlab.Graphics.TikZ.Property(\"circle\", nothing), Catlab.Graphics.TikZ.Property(\"draw\", nothing), Catlab.Graphics.TikZ.Property(\"solid\", nothing), Catlab.Graphics.TikZ.Property(\"inner sep\", \"0\")]), Catlab.Graphics.TikZ.Property(\"invisible/.style\", Catlab.Graphics.TikZ.Property[Catlab.Graphics.TikZ.Property(\"draw\", \"none\"), Catlab.Graphics.TikZ.Property(\"inner sep\", \"0\")]), Catlab.Graphics.TikZ.Property(\"wire/.style\", Catlab.Graphics.TikZ.Property[Catlab.Graphics.TikZ.Property(\"draw\", nothing), Catlab.Graphics.TikZ.Property(\"postaction\", Catlab.Graphics.TikZ.Property[Catlab.Graphics.TikZ.Property(\"decorate\", nothing)]), Catlab.Graphics.TikZ.Property(\"decoration\", Catlab.Graphics.TikZ.Property[Catlab.Graphics.TikZ.Property(\"markings\", nothing), Catlab.Graphics.TikZ.Property(\"mark\", \"at position 0.5 with {\\\\node[anchor=south] {#1};}\")])])]), [\"calc\", \"decorations.markings\"])",
      "image/svg+xml": [
       "<?xml version=\"1.0\" encoding=\"UTF-8\"?>\n",
       "<svg xmlns=\"http://www.w3.org/2000/svg\" xmlns:xlink=\"http://www.w3.org/1999/xlink\" width=\"60.573pt\" height=\"39.851pt\" viewBox=\"0 0 60.573 39.851\" version=\"1.1\">\n",
       "<defs>\n",
       "<g>\n",
       "<symbol overflow=\"visible\" id=\"glyph-1579379542894854-0-0\">\n",
       "<path style=\"stroke:none;\" d=\"\"/>\n",
       "</symbol>\n",
       "<symbol overflow=\"visible\" id=\"glyph-1579379542894854-0-1\">\n",
       "<path style=\"stroke:none;\" d=\"M 1.78125 -1.140625 C 1.390625 -0.484375 1 -0.34375 0.5625 -0.3125 C 0.4375 -0.296875 0.34375 -0.296875 0.34375 -0.109375 C 0.34375 -0.046875 0.40625 0 0.484375 0 C 0.75 0 1.0625 -0.03125 1.328125 -0.03125 C 1.671875 -0.03125 2.015625 0 2.328125 0 C 2.390625 0 2.515625 0 2.515625 -0.1875 C 2.515625 -0.296875 2.4375 -0.3125 2.359375 -0.3125 C 2.140625 -0.328125 1.890625 -0.40625 1.890625 -0.65625 C 1.890625 -0.78125 1.953125 -0.890625 2.03125 -1.03125 L 2.796875 -2.296875 L 5.296875 -2.296875 C 5.3125 -2.09375 5.453125 -0.734375 5.453125 -0.640625 C 5.453125 -0.34375 4.9375 -0.3125 4.734375 -0.3125 C 4.59375 -0.3125 4.5 -0.3125 4.5 -0.109375 C 4.5 0 4.609375 0 4.640625 0 C 5.046875 0 5.46875 -0.03125 5.875 -0.03125 C 6.125 -0.03125 6.765625 0 7.015625 0 C 7.0625 0 7.1875 0 7.1875 -0.203125 C 7.1875 -0.3125 7.09375 -0.3125 6.953125 -0.3125 C 6.34375 -0.3125 6.34375 -0.375 6.3125 -0.671875 L 5.703125 -6.890625 C 5.6875 -7.09375 5.6875 -7.140625 5.515625 -7.140625 C 5.359375 -7.140625 5.3125 -7.0625 5.25 -6.96875 Z M 2.984375 -2.609375 L 4.9375 -5.90625 L 5.265625 -2.609375 Z M 2.984375 -2.609375 \"/>\n",
       "</symbol>\n",
       "</g>\n",
       "<clipPath id=\"clip-1579379542894854-1\">\n",
       "  <path d=\"M 0 14 L 60.574219 14 L 60.574219 26 L 0 26 Z M 0 14 \"/>\n",
       "</clipPath>\n",
       "</defs>\n",
       "<g id=\"surface1\">\n",
       "<g clip-path=\"url(#clip-1579379542894854-1)\" clip-rule=\"nonzero\">\n",
       "<path style=\"fill:none;stroke-width:0.3985;stroke-linecap:butt;stroke-linejoin:miter;stroke:rgb(0%,0%,0%);stroke-opacity:1;stroke-miterlimit:10;\" d=\"M -30.086781 0.00021875 C -18.352406 0.00021875 -11.731312 0.00021875 -0.00084375 0.00021875 C 11.733531 0.00021875 18.354625 0.00021875 30.089 0.00021875 \" transform=\"matrix(1,0,0,-1,30.286,19.926)\"/>\n",
       "</g>\n",
       "<g style=\"fill:rgb(0%,0%,0%);fill-opacity:1;\">\n",
       "  <use xlink:href=\"#glyph-1579379542894854-0-1\" x=\"26.55\" y=\"16.406\"/>\n",
       "</g>\n",
       "</g>\n",
       "</svg>\n",
       "\n"
      ]
     },
     "metadata": {},
     "execution_count": 7
    }
   ],
   "cell_type": "code",
   "source": [
    "to_tikz(id(A), labels=true)"
   ],
   "metadata": {},
   "execution_count": 7
  },
  {
   "outputs": [
    {
     "output_type": "execute_result",
     "data": {
      "text/plain": "Catlab.Graphics.TikZ.Document(Catlab.Graphics.TikZ.Picture(Catlab.Graphics.TikZ.Statement[Catlab.Graphics.TikZ.Node(\"root\", Catlab.Graphics.TikZ.Property[Catlab.Graphics.TikZ.Property(\"outer box\", nothing), Catlab.Graphics.TikZ.Property(\"minimum width\", \"6em\"), Catlab.Graphics.TikZ.Property(\"minimum height\", \"7em\")], Catlab.Graphics.TikZ.Coordinate(\"0\", \"0\"), \"\"), Catlab.Graphics.TikZ.Edge(Catlab.Graphics.TikZ.PathExpression[Catlab.Graphics.TikZ.NodeCoordinate(\"\\$(root.west)+(0em,1.5em)\\$\"), Catlab.Graphics.TikZ.PathOperation(\"to\", Catlab.Graphics.TikZ.Property[Catlab.Graphics.TikZ.Property(\"out\", \"0\"), Catlab.Graphics.TikZ.Property(\"in\", \"135\")]), Catlab.Graphics.TikZ.Coordinate(\"0\", \"0\"), Catlab.Graphics.TikZ.PathOperation(\"to\", Catlab.Graphics.TikZ.Property[Catlab.Graphics.TikZ.Property(\"out\", \"-45\"), Catlab.Graphics.TikZ.Property(\"in\", \"180\")]), Catlab.Graphics.TikZ.NodeCoordinate(\"\\$(root.east)+(0em,-1.5em)\\$\")], Catlab.Graphics.TikZ.Property[Catlab.Graphics.TikZ.Property(\"wire\", \"\\$A\\$\")]), Catlab.Graphics.TikZ.Edge(Catlab.Graphics.TikZ.PathExpression[Catlab.Graphics.TikZ.NodeCoordinate(\"\\$(root.west)+(0em,-1.5em)\\$\"), Catlab.Graphics.TikZ.PathOperation(\"to\", Catlab.Graphics.TikZ.Property[Catlab.Graphics.TikZ.Property(\"out\", \"0\"), Catlab.Graphics.TikZ.Property(\"in\", \"-135\")]), Catlab.Graphics.TikZ.Coordinate(\"0\", \"0\"), Catlab.Graphics.TikZ.PathOperation(\"to\", Catlab.Graphics.TikZ.Property[Catlab.Graphics.TikZ.Property(\"out\", \"45\"), Catlab.Graphics.TikZ.Property(\"in\", \"180\")]), Catlab.Graphics.TikZ.NodeCoordinate(\"\\$(root.east)+(0em,1.5em)\\$\")], Catlab.Graphics.TikZ.Property[Catlab.Graphics.TikZ.Property(\"wire\", \"\\$B\\$\")])], Catlab.Graphics.TikZ.Property[Catlab.Graphics.TikZ.Property(\"x\", \"1em\"), Catlab.Graphics.TikZ.Property(\"y\", \"1em\"), Catlab.Graphics.TikZ.Property(\"outer box/.style\", Catlab.Graphics.TikZ.Property[Catlab.Graphics.TikZ.Property(\"draw\", \"none\")]), Catlab.Graphics.TikZ.Property(\"box/.style\", Catlab.Graphics.TikZ.Property[Catlab.Graphics.TikZ.Property(\"rectangle\", nothing), Catlab.Graphics.TikZ.Property(\"draw\", nothing), Catlab.Graphics.TikZ.Property(\"solid\", nothing), Catlab.Graphics.TikZ.Property(\"rounded corners\", nothing)]), Catlab.Graphics.TikZ.Property(\"circular box/.style\", Catlab.Graphics.TikZ.Property[Catlab.Graphics.TikZ.Property(\"circle\", nothing), Catlab.Graphics.TikZ.Property(\"draw\", nothing), Catlab.Graphics.TikZ.Property(\"solid\", nothing)]), Catlab.Graphics.TikZ.Property(\"junction/.style\", Catlab.Graphics.TikZ.Property[Catlab.Graphics.TikZ.Property(\"circle\", nothing), Catlab.Graphics.TikZ.Property(\"draw\", nothing), Catlab.Graphics.TikZ.Property(\"fill\", nothing), Catlab.Graphics.TikZ.Property(\"inner sep\", \"0\")]), Catlab.Graphics.TikZ.Property(\"variant junction/.style\", Catlab.Graphics.TikZ.Property[Catlab.Graphics.TikZ.Property(\"circle\", nothing), Catlab.Graphics.TikZ.Property(\"draw\", nothing), Catlab.Graphics.TikZ.Property(\"solid\", nothing), Catlab.Graphics.TikZ.Property(\"inner sep\", \"0\")]), Catlab.Graphics.TikZ.Property(\"invisible/.style\", Catlab.Graphics.TikZ.Property[Catlab.Graphics.TikZ.Property(\"draw\", \"none\"), Catlab.Graphics.TikZ.Property(\"inner sep\", \"0\")]), Catlab.Graphics.TikZ.Property(\"wire/.style\", Catlab.Graphics.TikZ.Property[Catlab.Graphics.TikZ.Property(\"draw\", nothing), Catlab.Graphics.TikZ.Property(\"postaction\", Catlab.Graphics.TikZ.Property[Catlab.Graphics.TikZ.Property(\"decorate\", nothing)]), Catlab.Graphics.TikZ.Property(\"decoration\", Catlab.Graphics.TikZ.Property[Catlab.Graphics.TikZ.Property(\"markings\", nothing), Catlab.Graphics.TikZ.Property(\"mark\", \"at position 0.25 with {\\\\node[anchor=south] {#1};}\")])])]), [\"calc\", \"decorations.markings\"])",
      "image/svg+xml": [
       "<?xml version=\"1.0\" encoding=\"UTF-8\"?>\n",
       "<svg xmlns=\"http://www.w3.org/2000/svg\" xmlns:xlink=\"http://www.w3.org/1999/xlink\" width=\"60.573pt\" height=\"69.738pt\" viewBox=\"0 0 60.573 69.738\" version=\"1.1\">\n",
       "<defs>\n",
       "<g>\n",
       "<symbol overflow=\"visible\" id=\"glyph-1579379542894855-0-0\">\n",
       "<path style=\"stroke:none;\" d=\"\"/>\n",
       "</symbol>\n",
       "<symbol overflow=\"visible\" id=\"glyph-1579379542894855-0-1\">\n",
       "<path style=\"stroke:none;\" d=\"M 1.78125 -1.140625 C 1.390625 -0.484375 1 -0.34375 0.5625 -0.3125 C 0.4375 -0.296875 0.34375 -0.296875 0.34375 -0.109375 C 0.34375 -0.046875 0.40625 0 0.484375 0 C 0.75 0 1.0625 -0.03125 1.328125 -0.03125 C 1.671875 -0.03125 2.015625 0 2.328125 0 C 2.390625 0 2.515625 0 2.515625 -0.1875 C 2.515625 -0.296875 2.4375 -0.3125 2.359375 -0.3125 C 2.140625 -0.328125 1.890625 -0.40625 1.890625 -0.65625 C 1.890625 -0.78125 1.953125 -0.890625 2.03125 -1.03125 L 2.796875 -2.296875 L 5.296875 -2.296875 C 5.3125 -2.09375 5.453125 -0.734375 5.453125 -0.640625 C 5.453125 -0.34375 4.9375 -0.3125 4.734375 -0.3125 C 4.59375 -0.3125 4.5 -0.3125 4.5 -0.109375 C 4.5 0 4.609375 0 4.640625 0 C 5.046875 0 5.46875 -0.03125 5.875 -0.03125 C 6.125 -0.03125 6.765625 0 7.015625 0 C 7.0625 0 7.1875 0 7.1875 -0.203125 C 7.1875 -0.3125 7.09375 -0.3125 6.953125 -0.3125 C 6.34375 -0.3125 6.34375 -0.375 6.3125 -0.671875 L 5.703125 -6.890625 C 5.6875 -7.09375 5.6875 -7.140625 5.515625 -7.140625 C 5.359375 -7.140625 5.3125 -7.0625 5.25 -6.96875 Z M 2.984375 -2.609375 L 4.9375 -5.90625 L 5.265625 -2.609375 Z M 2.984375 -2.609375 \"/>\n",
       "</symbol>\n",
       "<symbol overflow=\"visible\" id=\"glyph-1579379542894855-0-2\">\n",
       "<path style=\"stroke:none;\" d=\"M 1.59375 -0.78125 C 1.5 -0.390625 1.46875 -0.3125 0.6875 -0.3125 C 0.515625 -0.3125 0.421875 -0.3125 0.421875 -0.109375 C 0.421875 0 0.515625 0 0.6875 0 L 4.25 0 C 5.828125 0 7 -1.171875 7 -2.15625 C 7 -2.875 6.421875 -3.453125 5.453125 -3.5625 C 6.484375 -3.75 7.53125 -4.484375 7.53125 -5.4375 C 7.53125 -6.171875 6.875 -6.8125 5.6875 -6.8125 L 2.328125 -6.8125 C 2.140625 -6.8125 2.046875 -6.8125 2.046875 -6.609375 C 2.046875 -6.5 2.140625 -6.5 2.328125 -6.5 C 2.34375 -6.5 2.53125 -6.5 2.703125 -6.484375 C 2.875 -6.453125 2.96875 -6.453125 2.96875 -6.3125 C 2.96875 -6.28125 2.953125 -6.25 2.9375 -6.125 Z M 3.09375 -3.65625 L 3.71875 -6.125 C 3.8125 -6.46875 3.828125 -6.5 4.25 -6.5 L 5.546875 -6.5 C 6.421875 -6.5 6.625 -5.90625 6.625 -5.46875 C 6.625 -4.59375 5.765625 -3.65625 4.5625 -3.65625 Z M 2.65625 -0.3125 C 2.515625 -0.3125 2.5 -0.3125 2.4375 -0.3125 C 2.328125 -0.328125 2.296875 -0.34375 2.296875 -0.421875 C 2.296875 -0.453125 2.296875 -0.46875 2.359375 -0.640625 L 3.046875 -3.421875 L 4.921875 -3.421875 C 5.875 -3.421875 6.078125 -2.6875 6.078125 -2.265625 C 6.078125 -1.28125 5.1875 -0.3125 4 -0.3125 Z M 2.65625 -0.3125 \"/>\n",
       "</symbol>\n",
       "</g>\n",
       "<clipPath id=\"clip-1579379542894855-1\">\n",
       "  <path d=\"M 0 14 L 60.574219 14 L 60.574219 56 L 0 56 Z M 0 14 \"/>\n",
       "</clipPath>\n",
       "<clipPath id=\"clip-1579379542894855-2\">\n",
       "  <path d=\"M 0 14 L 60.574219 14 L 60.574219 56 L 0 56 Z M 0 14 \"/>\n",
       "</clipPath>\n",
       "</defs>\n",
       "<g id=\"surface1\">\n",
       "<g clip-path=\"url(#clip-1579379542894855-1)\" clip-rule=\"nonzero\">\n",
       "<path style=\"fill:none;stroke-width:0.3985;stroke-linecap:butt;stroke-linejoin:miter;stroke:rgb(0%,0%,0%);stroke-opacity:1;stroke-miterlimit:10;\" d=\"M -30.086781 14.943219 C -16.977406 14.943219 -9.270375 9.271344 -0.00084375 0.0018125 C 9.268688 -9.271625 16.975719 -14.9435 30.089 -14.9435 \" transform=\"matrix(1,0,0,-1,30.286,34.869)\"/>\n",
       "</g>\n",
       "<g style=\"fill:rgb(0%,0%,0%);fill-opacity:1;\">\n",
       "  <use xlink:href=\"#glyph-1579379542894855-0-1\" x=\"13.111\" y=\"20.49\"/>\n",
       "</g>\n",
       "<g clip-path=\"url(#clip-1579379542894855-2)\" clip-rule=\"nonzero\">\n",
       "<path style=\"fill:none;stroke-width:0.3985;stroke-linecap:butt;stroke-linejoin:miter;stroke:rgb(0%,0%,0%);stroke-opacity:1;stroke-miterlimit:10;\" d=\"M -30.086781 -14.9435 C -16.977406 -14.9435 -9.270375 -9.271625 -0.00084375 0.0018125 C 9.268688 9.271344 16.975719 14.943219 30.089 14.943219 \" transform=\"matrix(1,0,0,-1,30.286,34.869)\"/>\n",
       "</g>\n",
       "<g style=\"fill:rgb(0%,0%,0%);fill-opacity:1;\">\n",
       "  <use xlink:href=\"#glyph-1579379542894855-0-2\" x=\"12.818\" y=\"42.207\"/>\n",
       "</g>\n",
       "</g>\n",
       "</svg>\n",
       "\n"
      ]
     },
     "metadata": {},
     "execution_count": 8
    }
   ],
   "cell_type": "code",
   "source": [
    "to_tikz(braid(A,B), labels=true, labels_pos=0.25)"
   ],
   "metadata": {},
   "execution_count": 8
  },
  {
   "outputs": [
    {
     "output_type": "execute_result",
     "data": {
      "text/plain": "Catlab.Graphics.TikZ.Document(Catlab.Graphics.TikZ.Picture(Catlab.Graphics.TikZ.Statement[Catlab.Graphics.TikZ.Node(\"root\", Catlab.Graphics.TikZ.Property[Catlab.Graphics.TikZ.Property(\"outer box\", nothing), Catlab.Graphics.TikZ.Property(\"minimum width\", \"14em\"), Catlab.Graphics.TikZ.Property(\"minimum height\", \"7em\")], Catlab.Graphics.TikZ.Coordinate(\"0\", \"0\"), \"\"), Catlab.Graphics.TikZ.Node(\"n3\", Catlab.Graphics.TikZ.Property[Catlab.Graphics.TikZ.Property(\"box\", nothing), Catlab.Graphics.TikZ.Property(\"minimum size\", \"2em\")], Catlab.Graphics.TikZ.Coordinate(\"0\", \"1.5\"), \"\\$g\\$\"), Catlab.Graphics.TikZ.Node(\"n4\", Catlab.Graphics.TikZ.Property[Catlab.Graphics.TikZ.Property(\"box\", nothing), Catlab.Graphics.TikZ.Property(\"minimum size\", \"2em\")], Catlab.Graphics.TikZ.Coordinate(\"0\", \"-1.5\"), \"\\$f\\$\"), Catlab.Graphics.TikZ.Edge(Catlab.Graphics.TikZ.PathExpression[Catlab.Graphics.TikZ.NodeCoordinate(\"\\$(root.west)+(0em,-1.5em)\\$\"), Catlab.Graphics.TikZ.PathOperation(\"to\", Catlab.Graphics.TikZ.Property[Catlab.Graphics.TikZ.Property(\"out\", \"0\"), Catlab.Graphics.TikZ.Property(\"in\", \"-135\")]), Catlab.Graphics.TikZ.Coordinate(\"-4\", \"0\"), Catlab.Graphics.TikZ.PathOperation(\"to\", Catlab.Graphics.TikZ.Property[Catlab.Graphics.TikZ.Property(\"out\", \"45\"), Catlab.Graphics.TikZ.Property(\"in\", \"-180\")]), Catlab.Graphics.TikZ.NodeCoordinate(\"n3.west\")], Catlab.Graphics.TikZ.Property[Catlab.Graphics.TikZ.Property(\"wire\", nothing)]), Catlab.Graphics.TikZ.Edge(Catlab.Graphics.TikZ.PathExpression[Catlab.Graphics.TikZ.NodeCoordinate(\"\\$(root.west)+(0em,1.5em)\\$\"), Catlab.Graphics.TikZ.PathOperation(\"to\", Catlab.Graphics.TikZ.Property[Catlab.Graphics.TikZ.Property(\"out\", \"0\"), Catlab.Graphics.TikZ.Property(\"in\", \"135\")]), Catlab.Graphics.TikZ.Coordinate(\"-4\", \"0\"), Catlab.Graphics.TikZ.PathOperation(\"to\", Catlab.Graphics.TikZ.Property[Catlab.Graphics.TikZ.Property(\"out\", \"-45\"), Catlab.Graphics.TikZ.Property(\"in\", \"-180\")]), Catlab.Graphics.TikZ.NodeCoordinate(\"n4.west\")], Catlab.Graphics.TikZ.Property[Catlab.Graphics.TikZ.Property(\"wire\", nothing)]), Catlab.Graphics.TikZ.Edge(Catlab.Graphics.TikZ.PathExpression[Catlab.Graphics.TikZ.NodeCoordinate(\"n3.east\"), Catlab.Graphics.TikZ.PathOperation(\"to\", Catlab.Graphics.TikZ.Property[Catlab.Graphics.TikZ.Property(\"out\", \"0\"), Catlab.Graphics.TikZ.Property(\"in\", \"135\")]), Catlab.Graphics.TikZ.Coordinate(\"4\", \"0\"), Catlab.Graphics.TikZ.PathOperation(\"to\", Catlab.Graphics.TikZ.Property[Catlab.Graphics.TikZ.Property(\"out\", \"-45\"), Catlab.Graphics.TikZ.Property(\"in\", \"180\")]), Catlab.Graphics.TikZ.NodeCoordinate(\"\\$(root.east)+(0em,-1.5em)\\$\")], Catlab.Graphics.TikZ.Property[Catlab.Graphics.TikZ.Property(\"wire\", nothing)]), Catlab.Graphics.TikZ.Edge(Catlab.Graphics.TikZ.PathExpression[Catlab.Graphics.TikZ.NodeCoordinate(\"n4.east\"), Catlab.Graphics.TikZ.PathOperation(\"to\", Catlab.Graphics.TikZ.Property[Catlab.Graphics.TikZ.Property(\"out\", \"0\"), Catlab.Graphics.TikZ.Property(\"in\", \"-135\")]), Catlab.Graphics.TikZ.Coordinate(\"4\", \"0\"), Catlab.Graphics.TikZ.PathOperation(\"to\", Catlab.Graphics.TikZ.Property[Catlab.Graphics.TikZ.Property(\"out\", \"45\"), Catlab.Graphics.TikZ.Property(\"in\", \"180\")]), Catlab.Graphics.TikZ.NodeCoordinate(\"\\$(root.east)+(0em,1.5em)\\$\")], Catlab.Graphics.TikZ.Property[Catlab.Graphics.TikZ.Property(\"wire\", nothing)])], Catlab.Graphics.TikZ.Property[Catlab.Graphics.TikZ.Property(\"x\", \"1em\"), Catlab.Graphics.TikZ.Property(\"y\", \"1em\"), Catlab.Graphics.TikZ.Property(\"outer box/.style\", Catlab.Graphics.TikZ.Property[Catlab.Graphics.TikZ.Property(\"draw\", \"none\")]), Catlab.Graphics.TikZ.Property(\"box/.style\", Catlab.Graphics.TikZ.Property[Catlab.Graphics.TikZ.Property(\"rectangle\", nothing), Catlab.Graphics.TikZ.Property(\"draw\", nothing), Catlab.Graphics.TikZ.Property(\"solid\", nothing), Catlab.Graphics.TikZ.Property(\"rounded corners\", nothing)]), Catlab.Graphics.TikZ.Property(\"circular box/.style\", Catlab.Graphics.TikZ.Property[Catlab.Graphics.TikZ.Property(\"circle\", nothing), Catlab.Graphics.TikZ.Property(\"draw\", nothing), Catlab.Graphics.TikZ.Property(\"solid\", nothing)]), Catlab.Graphics.TikZ.Property(\"junction/.style\", Catlab.Graphics.TikZ.Property[Catlab.Graphics.TikZ.Property(\"circle\", nothing), Catlab.Graphics.TikZ.Property(\"draw\", nothing), Catlab.Graphics.TikZ.Property(\"fill\", nothing), Catlab.Graphics.TikZ.Property(\"inner sep\", \"0\")]), Catlab.Graphics.TikZ.Property(\"variant junction/.style\", Catlab.Graphics.TikZ.Property[Catlab.Graphics.TikZ.Property(\"circle\", nothing), Catlab.Graphics.TikZ.Property(\"draw\", nothing), Catlab.Graphics.TikZ.Property(\"solid\", nothing), Catlab.Graphics.TikZ.Property(\"inner sep\", \"0\")]), Catlab.Graphics.TikZ.Property(\"invisible/.style\", Catlab.Graphics.TikZ.Property[Catlab.Graphics.TikZ.Property(\"draw\", \"none\"), Catlab.Graphics.TikZ.Property(\"inner sep\", \"0\")]), Catlab.Graphics.TikZ.Property(\"wire/.style\", Catlab.Graphics.TikZ.Property[Catlab.Graphics.TikZ.Property(\"draw\", nothing)])]), [\"calc\"])",
      "image/svg+xml": [
       "<?xml version=\"1.0\" encoding=\"UTF-8\"?>\n",
       "<svg xmlns=\"http://www.w3.org/2000/svg\" xmlns:xlink=\"http://www.w3.org/1999/xlink\" width=\"140.274pt\" height=\"69.738pt\" viewBox=\"0 0 140.274 69.738\" version=\"1.1\">\n",
       "<defs>\n",
       "<g>\n",
       "<symbol overflow=\"visible\" id=\"glyph-1579379542894856-0-0\">\n",
       "<path style=\"stroke:none;\" d=\"\"/>\n",
       "</symbol>\n",
       "<symbol overflow=\"visible\" id=\"glyph-1579379542894856-0-1\">\n",
       "<path style=\"stroke:none;\" d=\"M 4.6875 -3.765625 C 4.703125 -3.8125 4.71875 -3.875 4.71875 -3.9375 C 4.71875 -4.109375 4.609375 -4.203125 4.4375 -4.203125 C 4.34375 -4.203125 4.0625 -4.140625 4.03125 -3.78125 C 3.84375 -4.140625 3.5 -4.40625 3.09375 -4.40625 C 1.96875 -4.40625 0.734375 -3.015625 0.734375 -1.578125 C 0.734375 -0.59375 1.328125 0 2.046875 0 C 2.640625 0 3.109375 -0.46875 3.203125 -0.578125 L 3.21875 -0.5625 C 3.015625 0.3125 2.890625 0.734375 2.890625 0.75 C 2.84375 0.84375 2.515625 1.828125 1.453125 1.828125 C 1.265625 1.828125 0.9375 1.8125 0.65625 1.71875 C 0.953125 1.640625 1.0625 1.375 1.0625 1.203125 C 1.0625 1.046875 0.953125 0.859375 0.6875 0.859375 C 0.46875 0.859375 0.15625 1.03125 0.15625 1.4375 C 0.15625 1.84375 0.515625 2.046875 1.46875 2.046875 C 2.71875 2.046875 3.4375 1.265625 3.59375 0.671875 Z M 3.40625 -1.28125 C 3.34375 -1.015625 3.109375 -0.765625 2.890625 -0.578125 C 2.6875 -0.40625 2.375 -0.21875 2.078125 -0.21875 C 1.578125 -0.21875 1.4375 -0.734375 1.4375 -1.140625 C 1.4375 -1.609375 1.71875 -2.796875 2 -3.296875 C 2.265625 -3.78125 2.6875 -4.1875 3.109375 -4.1875 C 3.765625 -4.1875 3.90625 -3.375 3.90625 -3.328125 C 3.90625 -3.28125 3.890625 -3.21875 3.875 -3.1875 Z M 3.40625 -1.28125 \"/>\n",
       "</symbol>\n",
       "<symbol overflow=\"visible\" id=\"glyph-1579379542894856-0-2\">\n",
       "<path style=\"stroke:none;\" d=\"M 3.65625 -3.984375 L 4.515625 -3.984375 C 4.71875 -3.984375 4.8125 -3.984375 4.8125 -4.1875 C 4.8125 -4.296875 4.71875 -4.296875 4.546875 -4.296875 L 3.71875 -4.296875 L 3.921875 -5.4375 C 3.96875 -5.640625 4.109375 -6.34375 4.171875 -6.46875 C 4.25 -6.65625 4.421875 -6.8125 4.640625 -6.8125 C 4.671875 -6.8125 4.9375 -6.8125 5.125 -6.625 C 4.6875 -6.59375 4.578125 -6.234375 4.578125 -6.09375 C 4.578125 -5.859375 4.765625 -5.734375 4.953125 -5.734375 C 5.21875 -5.734375 5.5 -5.96875 5.5 -6.34375 C 5.5 -6.796875 5.046875 -7.03125 4.640625 -7.03125 C 4.296875 -7.03125 3.671875 -6.84375 3.375 -5.859375 C 3.3125 -5.65625 3.28125 -5.546875 3.046875 -4.296875 L 2.359375 -4.296875 C 2.15625 -4.296875 2.046875 -4.296875 2.046875 -4.109375 C 2.046875 -3.984375 2.140625 -3.984375 2.328125 -3.984375 L 2.984375 -3.984375 L 2.25 -0.046875 C 2.0625 0.921875 1.890625 1.828125 1.375 1.828125 C 1.328125 1.828125 1.09375 1.828125 0.890625 1.640625 C 1.359375 1.609375 1.453125 1.25 1.453125 1.109375 C 1.453125 0.875 1.265625 0.75 1.078125 0.75 C 0.8125 0.75 0.53125 0.984375 0.53125 1.359375 C 0.53125 1.796875 0.96875 2.046875 1.375 2.046875 C 1.921875 2.046875 2.328125 1.453125 2.5 1.078125 C 2.828125 0.453125 3.046875 -0.75 3.0625 -0.828125 Z M 3.65625 -3.984375 \"/>\n",
       "</symbol>\n",
       "</g>\n",
       "<clipPath id=\"clip-1579379542894856-1\">\n",
       "  <path d=\"M 74 14 L 140.273438 14 L 140.273438 56 L 74 56 Z M 74 14 \"/>\n",
       "</clipPath>\n",
       "</defs>\n",
       "<g id=\"surface1\">\n",
       "<path style=\"fill:none;stroke-width:0.3985;stroke-linecap:butt;stroke-linejoin:miter;stroke:rgb(0%,0%,0%);stroke-opacity:1;stroke-miterlimit:10;\" d=\"M 5.976281 24.908062 L -5.976844 24.908062 C -8.179969 24.908062 -9.961219 23.122906 -9.961219 20.923687 L -9.961219 8.966656 C -9.961219 6.767437 -8.179969 4.982281 -5.976844 4.982281 L 5.976281 4.982281 C 8.179406 4.982281 9.964562 6.767437 9.964562 8.966656 L 9.964562 20.923687 C 9.964562 23.122906 8.179406 24.908062 5.976281 24.908062 Z M 5.976281 24.908062 \" transform=\"matrix(1,0,0,-1,70.137,34.869)\"/>\n",
       "<g style=\"fill:rgb(0%,0%,0%);fill-opacity:1;\">\n",
       "  <use xlink:href=\"#glyph-1579379542894856-0-1\" x=\"67.582\" y=\"21.101\"/>\n",
       "</g>\n",
       "<path style=\"fill:none;stroke-width:0.3985;stroke-linecap:butt;stroke-linejoin:miter;stroke:rgb(0%,0%,0%);stroke-opacity:1;stroke-miterlimit:10;\" d=\"M 5.976281 -4.982563 L -5.976844 -4.982563 C -8.179969 -4.982563 -9.961219 -6.763813 -9.961219 -8.966938 L -9.961219 -20.920063 C -9.961219 -23.123188 -8.179969 -24.908344 -5.976844 -24.908344 L 5.976281 -24.908344 C 8.179406 -24.908344 9.964562 -23.123188 9.964562 -20.920063 L 9.964562 -8.966938 C 9.964562 -6.763813 8.179406 -4.982563 5.976281 -4.982563 Z M 5.976281 -4.982563 \" transform=\"matrix(1,0,0,-1,70.137,34.869)\"/>\n",
       "<g style=\"fill:rgb(0%,0%,0%);fill-opacity:1;\">\n",
       "  <use xlink:href=\"#glyph-1579379542894856-0-2\" x=\"67.162\" y=\"52.303\"/>\n",
       "</g>\n",
       "<path style=\"fill:none;stroke-width:0.3985;stroke-linecap:butt;stroke-linejoin:miter;stroke:rgb(0%,0%,0%);stroke-opacity:1;stroke-miterlimit:10;\" d=\"M -69.937781 -14.9435 C -56.828406 -14.9435 -49.121375 -9.271625 -39.851844 0.0018125 C -30.664344 9.189312 -23.156531 14.943219 -10.160438 14.943219 \" transform=\"matrix(1,0,0,-1,70.137,34.869)\"/>\n",
       "<path style=\"fill:none;stroke-width:0.3985;stroke-linecap:butt;stroke-linejoin:miter;stroke:rgb(0%,0%,0%);stroke-opacity:1;stroke-miterlimit:10;\" d=\"M -69.937781 14.943219 C -56.828406 14.943219 -49.121375 9.271344 -39.851844 0.0018125 C -30.664344 -9.189594 -23.156531 -14.9435 -10.160438 -14.9435 \" transform=\"matrix(1,0,0,-1,70.137,34.869)\"/>\n",
       "<g clip-path=\"url(#clip-1579379542894856-1)\" clip-rule=\"nonzero\">\n",
       "<path style=\"fill:none;stroke-width:0.3985;stroke-linecap:butt;stroke-linejoin:miter;stroke:rgb(0%,0%,0%);stroke-opacity:1;stroke-miterlimit:10;\" d=\"M 10.163781 14.943219 C 23.155969 14.943219 30.663781 9.189312 39.851281 0.0018125 C 49.120812 -9.271625 56.827844 -14.9435 69.937219 -14.9435 \" transform=\"matrix(1,0,0,-1,70.137,34.869)\"/>\n",
       "<path style=\"fill:none;stroke-width:0.3985;stroke-linecap:butt;stroke-linejoin:miter;stroke:rgb(0%,0%,0%);stroke-opacity:1;stroke-miterlimit:10;\" d=\"M 10.163781 -14.9435 C 23.155969 -14.9435 30.663781 -9.189594 39.851281 0.0018125 C 49.120812 9.271344 56.827844 14.943219 69.937219 14.943219 \" transform=\"matrix(1,0,0,-1,70.137,34.869)\"/>\n",
       "</g>\n",
       "</g>\n",
       "</svg>\n",
       "\n"
      ]
     },
     "metadata": {},
     "execution_count": 9
    }
   ],
   "cell_type": "code",
   "source": [
    "to_tikz(braid(A,B) ⋅ (g⊗f) ⋅ braid(A,B))"
   ],
   "metadata": {},
   "execution_count": 9
  },
  {
   "outputs": [],
   "cell_type": "markdown",
   "source": [
    "The isomorphism $A \\otimes B \\otimes C \\to C \\otimes B \\otimes A$ induced by\n",
    "the permutation $(3\\ 2\\ 1)$ is a composite of braidings and identities."
   ],
   "metadata": {}
  },
  {
   "outputs": [
    {
     "output_type": "execute_result",
     "data": {
      "text/plain": "Catlab.Graphics.TikZ.Document(Catlab.Graphics.TikZ.Picture(Catlab.Graphics.TikZ.Statement[Catlab.Graphics.TikZ.Node(\"root\", Catlab.Graphics.TikZ.Property[Catlab.Graphics.TikZ.Property(\"outer box\", nothing), Catlab.Graphics.TikZ.Property(\"minimum width\", \"14em\"), Catlab.Graphics.TikZ.Property(\"minimum height\", \"10em\")], Catlab.Graphics.TikZ.Coordinate(\"0\", \"0\"), \"\"), Catlab.Graphics.TikZ.Edge(Catlab.Graphics.TikZ.PathExpression[Catlab.Graphics.TikZ.NodeCoordinate(\"root.west\"), Catlab.Graphics.TikZ.PathOperation(\"to\", Catlab.Graphics.TikZ.Property[Catlab.Graphics.TikZ.Property(\"out\", \"0\"), Catlab.Graphics.TikZ.Property(\"in\", \"-135\")]), Catlab.Graphics.TikZ.Coordinate(\"-4\", \"1.5\"), Catlab.Graphics.TikZ.PathOperation(\"to\", Catlab.Graphics.TikZ.Property[Catlab.Graphics.TikZ.Property(\"out\", \"45\"), Catlab.Graphics.TikZ.Property(\"in\", \"180\")]), Catlab.Graphics.TikZ.Coordinate(\"0\", \"3\"), Catlab.Graphics.TikZ.PathOperation(\"to\", Catlab.Graphics.TikZ.Property[Catlab.Graphics.TikZ.Property(\"out\", \"0\"), Catlab.Graphics.TikZ.Property(\"in\", \"135\")]), Catlab.Graphics.TikZ.Coordinate(\"4\", \"1.5\"), Catlab.Graphics.TikZ.PathOperation(\"to\", Catlab.Graphics.TikZ.Property[Catlab.Graphics.TikZ.Property(\"out\", \"-45\"), Catlab.Graphics.TikZ.Property(\"in\", \"180\")]), Catlab.Graphics.TikZ.NodeCoordinate(\"root.east\")], Catlab.Graphics.TikZ.Property[Catlab.Graphics.TikZ.Property(\"wire\", \"\\$B\\$\"), Catlab.Graphics.TikZ.Property(\"->\", nothing)]), Catlab.Graphics.TikZ.Edge(Catlab.Graphics.TikZ.PathExpression[Catlab.Graphics.TikZ.NodeCoordinate(\"\\$(root.west)+(0em,-3em)\\$\"), Catlab.Graphics.TikZ.PathOperation(\"to\", Catlab.Graphics.TikZ.Property[Catlab.Graphics.TikZ.Property(\"out\", \"0\"), Catlab.Graphics.TikZ.Property(\"in\", \"180\")]), Catlab.Graphics.TikZ.Coordinate(\"-4\", \"-3\"), Catlab.Graphics.TikZ.PathOperation(\"to\", Catlab.Graphics.TikZ.Property[Catlab.Graphics.TikZ.Property(\"out\", \"0\"), Catlab.Graphics.TikZ.Property(\"in\", \"-135\")]), Catlab.Graphics.TikZ.Coordinate(\"0\", \"-1.5\"), Catlab.Graphics.TikZ.PathOperation(\"to\", Catlab.Graphics.TikZ.Property[Catlab.Graphics.TikZ.Property(\"out\", \"45\"), Catlab.Graphics.TikZ.Property(\"in\", \"-135\")]), Catlab.Graphics.TikZ.Coordinate(\"4\", \"1.5\"), Catlab.Graphics.TikZ.PathOperation(\"to\", Catlab.Graphics.TikZ.Property[Catlab.Graphics.TikZ.Property(\"out\", \"45\"), Catlab.Graphics.TikZ.Property(\"in\", \"180\")]), Catlab.Graphics.TikZ.NodeCoordinate(\"\\$(root.east)+(0em,3em)\\$\")], Catlab.Graphics.TikZ.Property[Catlab.Graphics.TikZ.Property(\"wire\", \"\\$C\\$\"), Catlab.Graphics.TikZ.Property(\"->\", nothing)]), Catlab.Graphics.TikZ.Edge(Catlab.Graphics.TikZ.PathExpression[Catlab.Graphics.TikZ.NodeCoordinate(\"\\$(root.west)+(0em,3em)\\$\"), Catlab.Graphics.TikZ.PathOperation(\"to\", Catlab.Graphics.TikZ.Property[Catlab.Graphics.TikZ.Property(\"out\", \"0\"), Catlab.Graphics.TikZ.Property(\"in\", \"135\")]), Catlab.Graphics.TikZ.Coordinate(\"-4\", \"1.5\"), Catlab.Graphics.TikZ.PathOperation(\"to\", Catlab.Graphics.TikZ.Property[Catlab.Graphics.TikZ.Property(\"out\", \"-45\"), Catlab.Graphics.TikZ.Property(\"in\", \"135\")]), Catlab.Graphics.TikZ.Coordinate(\"0\", \"-1.5\"), Catlab.Graphics.TikZ.PathOperation(\"to\", Catlab.Graphics.TikZ.Property[Catlab.Graphics.TikZ.Property(\"out\", \"-45\"), Catlab.Graphics.TikZ.Property(\"in\", \"180\")]), Catlab.Graphics.TikZ.Coordinate(\"4\", \"-3\"), Catlab.Graphics.TikZ.PathOperation(\"to\", Catlab.Graphics.TikZ.Property[Catlab.Graphics.TikZ.Property(\"out\", \"0\"), Catlab.Graphics.TikZ.Property(\"in\", \"180\")]), Catlab.Graphics.TikZ.NodeCoordinate(\"\\$(root.east)+(0em,-3em)\\$\")], Catlab.Graphics.TikZ.Property[Catlab.Graphics.TikZ.Property(\"wire\", \"\\$A\\$\"), Catlab.Graphics.TikZ.Property(\"->\", nothing)])], Catlab.Graphics.TikZ.Property[Catlab.Graphics.TikZ.Property(\"x\", \"1em\"), Catlab.Graphics.TikZ.Property(\"y\", \"1em\"), Catlab.Graphics.TikZ.Property(\"outer box/.style\", Catlab.Graphics.TikZ.Property[Catlab.Graphics.TikZ.Property(\"draw\", \"none\")]), Catlab.Graphics.TikZ.Property(\"box/.style\", Catlab.Graphics.TikZ.Property[Catlab.Graphics.TikZ.Property(\"rectangle\", nothing), Catlab.Graphics.TikZ.Property(\"draw\", nothing), Catlab.Graphics.TikZ.Property(\"solid\", nothing), Catlab.Graphics.TikZ.Property(\"rounded corners\", nothing)]), Catlab.Graphics.TikZ.Property(\"circular box/.style\", Catlab.Graphics.TikZ.Property[Catlab.Graphics.TikZ.Property(\"circle\", nothing), Catlab.Graphics.TikZ.Property(\"draw\", nothing), Catlab.Graphics.TikZ.Property(\"solid\", nothing)]), Catlab.Graphics.TikZ.Property(\"junction/.style\", Catlab.Graphics.TikZ.Property[Catlab.Graphics.TikZ.Property(\"circle\", nothing), Catlab.Graphics.TikZ.Property(\"draw\", nothing), Catlab.Graphics.TikZ.Property(\"fill\", nothing), Catlab.Graphics.TikZ.Property(\"inner sep\", \"0\")]), Catlab.Graphics.TikZ.Property(\"variant junction/.style\", Catlab.Graphics.TikZ.Property[Catlab.Graphics.TikZ.Property(\"circle\", nothing), Catlab.Graphics.TikZ.Property(\"draw\", nothing), Catlab.Graphics.TikZ.Property(\"solid\", nothing), Catlab.Graphics.TikZ.Property(\"inner sep\", \"0\")]), Catlab.Graphics.TikZ.Property(\"invisible/.style\", Catlab.Graphics.TikZ.Property[Catlab.Graphics.TikZ.Property(\"draw\", \"none\"), Catlab.Graphics.TikZ.Property(\"inner sep\", \"0\")]), Catlab.Graphics.TikZ.Property(\"wire/.style\", Catlab.Graphics.TikZ.Property[Catlab.Graphics.TikZ.Property(\"draw\", nothing), Catlab.Graphics.TikZ.Property(\"postaction\", Catlab.Graphics.TikZ.Property[Catlab.Graphics.TikZ.Property(\"decorate\", nothing)]), Catlab.Graphics.TikZ.Property(\"decoration\", Catlab.Graphics.TikZ.Property[Catlab.Graphics.TikZ.Property(\"markings\", nothing), Catlab.Graphics.TikZ.Property(\"mark\", \"at position 0.0 with {\\\\node[anchor=south] {#1};}\")])]), Catlab.Graphics.TikZ.Property(\"->/.style\", Catlab.Graphics.TikZ.Property[Catlab.Graphics.TikZ.Property(\"postaction\", Catlab.Graphics.TikZ.Property[Catlab.Graphics.TikZ.Property(\"decorate\", nothing)]), Catlab.Graphics.TikZ.Property(\"decoration\", Catlab.Graphics.TikZ.Property[Catlab.Graphics.TikZ.Property(\"markings\", nothing), Catlab.Graphics.TikZ.Property(\"mark\", \"at position 1.0 with {\\\\arrow{Stealth}}\")])]), Catlab.Graphics.TikZ.Property(\"<-/.style\", Catlab.Graphics.TikZ.Property[Catlab.Graphics.TikZ.Property(\"postaction\", Catlab.Graphics.TikZ.Property[Catlab.Graphics.TikZ.Property(\"decorate\", nothing)]), Catlab.Graphics.TikZ.Property(\"decoration\", Catlab.Graphics.TikZ.Property[Catlab.Graphics.TikZ.Property(\"markings\", nothing), Catlab.Graphics.TikZ.Property(\"mark\", \"at position 1.0 with {\\\\arrow{Stealth[reversed]}}\")])])]), [\"calc\", \"decorations.markings\", \"arrows.meta\"])",
      "image/svg+xml": [
       "<?xml version=\"1.0\" encoding=\"UTF-8\"?>\n",
       "<svg xmlns=\"http://www.w3.org/2000/svg\" xmlns:xlink=\"http://www.w3.org/1999/xlink\" width=\"147.424pt\" height=\"99.626pt\" viewBox=\"0 0 147.424 99.626\" version=\"1.1\">\n",
       "<defs>\n",
       "<g>\n",
       "<symbol overflow=\"visible\" id=\"glyph-1579379542894857-0-0\">\n",
       "<path style=\"stroke:none;\" d=\"\"/>\n",
       "</symbol>\n",
       "<symbol overflow=\"visible\" id=\"glyph-1579379542894857-0-1\">\n",
       "<path style=\"stroke:none;\" d=\"M 1.59375 -0.78125 C 1.5 -0.390625 1.46875 -0.3125 0.6875 -0.3125 C 0.515625 -0.3125 0.421875 -0.3125 0.421875 -0.109375 C 0.421875 0 0.515625 0 0.6875 0 L 4.25 0 C 5.828125 0 7 -1.171875 7 -2.15625 C 7 -2.875 6.421875 -3.453125 5.453125 -3.5625 C 6.484375 -3.75 7.53125 -4.484375 7.53125 -5.4375 C 7.53125 -6.171875 6.875 -6.8125 5.6875 -6.8125 L 2.328125 -6.8125 C 2.140625 -6.8125 2.046875 -6.8125 2.046875 -6.609375 C 2.046875 -6.5 2.140625 -6.5 2.328125 -6.5 C 2.34375 -6.5 2.53125 -6.5 2.703125 -6.484375 C 2.875 -6.453125 2.96875 -6.453125 2.96875 -6.3125 C 2.96875 -6.28125 2.953125 -6.25 2.9375 -6.125 Z M 3.09375 -3.65625 L 3.71875 -6.125 C 3.8125 -6.46875 3.828125 -6.5 4.25 -6.5 L 5.546875 -6.5 C 6.421875 -6.5 6.625 -5.90625 6.625 -5.46875 C 6.625 -4.59375 5.765625 -3.65625 4.5625 -3.65625 Z M 2.65625 -0.3125 C 2.515625 -0.3125 2.5 -0.3125 2.4375 -0.3125 C 2.328125 -0.328125 2.296875 -0.34375 2.296875 -0.421875 C 2.296875 -0.453125 2.296875 -0.46875 2.359375 -0.640625 L 3.046875 -3.421875 L 4.921875 -3.421875 C 5.875 -3.421875 6.078125 -2.6875 6.078125 -2.265625 C 6.078125 -1.28125 5.1875 -0.3125 4 -0.3125 Z M 2.65625 -0.3125 \"/>\n",
       "</symbol>\n",
       "<symbol overflow=\"visible\" id=\"glyph-1579379542894857-0-2\">\n",
       "<path style=\"stroke:none;\" d=\"M 7.578125 -6.921875 C 7.578125 -6.953125 7.5625 -7.03125 7.46875 -7.03125 C 7.4375 -7.03125 7.421875 -7.015625 7.3125 -6.90625 L 6.625 -6.140625 C 6.53125 -6.28125 6.078125 -7.03125 4.96875 -7.03125 C 2.734375 -7.03125 0.5 -4.828125 0.5 -2.515625 C 0.5 -0.875 1.671875 0.21875 3.203125 0.21875 C 4.0625 0.21875 4.828125 -0.171875 5.359375 -0.640625 C 6.28125 -1.453125 6.453125 -2.359375 6.453125 -2.390625 C 6.453125 -2.5 6.34375 -2.5 6.328125 -2.5 C 6.265625 -2.5 6.21875 -2.46875 6.203125 -2.390625 C 6.109375 -2.109375 5.875 -1.390625 5.1875 -0.8125 C 4.5 -0.265625 3.875 -0.09375 3.359375 -0.09375 C 2.46875 -0.09375 1.40625 -0.609375 1.40625 -2.15625 C 1.40625 -2.734375 1.609375 -4.34375 2.609375 -5.515625 C 3.21875 -6.21875 4.15625 -6.71875 5.046875 -6.71875 C 6.0625 -6.71875 6.65625 -5.953125 6.65625 -4.796875 C 6.65625 -4.390625 6.625 -4.390625 6.625 -4.28125 C 6.625 -4.1875 6.734375 -4.1875 6.765625 -4.1875 C 6.890625 -4.1875 6.890625 -4.203125 6.953125 -4.390625 Z M 7.578125 -6.921875 \"/>\n",
       "</symbol>\n",
       "<symbol overflow=\"visible\" id=\"glyph-1579379542894857-0-3\">\n",
       "<path style=\"stroke:none;\" d=\"M 1.78125 -1.140625 C 1.390625 -0.484375 1 -0.34375 0.5625 -0.3125 C 0.4375 -0.296875 0.34375 -0.296875 0.34375 -0.109375 C 0.34375 -0.046875 0.40625 0 0.484375 0 C 0.75 0 1.0625 -0.03125 1.328125 -0.03125 C 1.671875 -0.03125 2.015625 0 2.328125 0 C 2.390625 0 2.515625 0 2.515625 -0.1875 C 2.515625 -0.296875 2.4375 -0.3125 2.359375 -0.3125 C 2.140625 -0.328125 1.890625 -0.40625 1.890625 -0.65625 C 1.890625 -0.78125 1.953125 -0.890625 2.03125 -1.03125 L 2.796875 -2.296875 L 5.296875 -2.296875 C 5.3125 -2.09375 5.453125 -0.734375 5.453125 -0.640625 C 5.453125 -0.34375 4.9375 -0.3125 4.734375 -0.3125 C 4.59375 -0.3125 4.5 -0.3125 4.5 -0.109375 C 4.5 0 4.609375 0 4.640625 0 C 5.046875 0 5.46875 -0.03125 5.875 -0.03125 C 6.125 -0.03125 6.765625 0 7.015625 0 C 7.0625 0 7.1875 0 7.1875 -0.203125 C 7.1875 -0.3125 7.09375 -0.3125 6.953125 -0.3125 C 6.34375 -0.3125 6.34375 -0.375 6.3125 -0.671875 L 5.703125 -6.890625 C 5.6875 -7.09375 5.6875 -7.140625 5.515625 -7.140625 C 5.359375 -7.140625 5.3125 -7.0625 5.25 -6.96875 Z M 2.984375 -2.609375 L 4.9375 -5.90625 L 5.265625 -2.609375 Z M 2.984375 -2.609375 \"/>\n",
       "</symbol>\n",
       "</g>\n",
       "<clipPath id=\"clip-1579379542894857-1\">\n",
       "  <path d=\"M 1 14 L 147.425781 14 L 147.425781 56 L 1 56 Z M 1 14 \"/>\n",
       "</clipPath>\n",
       "<clipPath id=\"clip-1579379542894857-2\">\n",
       "  <path d=\"M 137 42 L 147.425781 42 L 147.425781 57 L 137 57 Z M 137 42 \"/>\n",
       "</clipPath>\n",
       "<clipPath id=\"clip-1579379542894857-3\">\n",
       "  <path d=\"M 137 42 L 147.425781 42 L 147.425781 57 L 137 57 Z M 137 42 \"/>\n",
       "</clipPath>\n",
       "<clipPath id=\"clip-1579379542894857-4\">\n",
       "  <path d=\"M 1 14 L 147.425781 14 L 147.425781 86 L 1 86 Z M 1 14 \"/>\n",
       "</clipPath>\n",
       "<clipPath id=\"clip-1579379542894857-5\">\n",
       "  <path d=\"M 137 12 L 147.425781 12 L 147.425781 27 L 137 27 Z M 137 12 \"/>\n",
       "</clipPath>\n",
       "<clipPath id=\"clip-1579379542894857-6\">\n",
       "  <path d=\"M 137 12 L 147.425781 12 L 147.425781 27 L 137 27 Z M 137 12 \"/>\n",
       "</clipPath>\n",
       "<clipPath id=\"clip-1579379542894857-7\">\n",
       "  <path d=\"M 1 14 L 147.425781 14 L 147.425781 86 L 1 86 Z M 1 14 \"/>\n",
       "</clipPath>\n",
       "<clipPath id=\"clip-1579379542894857-8\">\n",
       "  <path d=\"M 137 72 L 147.425781 72 L 147.425781 87 L 137 87 Z M 137 72 \"/>\n",
       "</clipPath>\n",
       "<clipPath id=\"clip-1579379542894857-9\">\n",
       "  <path d=\"M 137 72 L 147.425781 72 L 147.425781 87 L 137 87 Z M 137 72 \"/>\n",
       "</clipPath>\n",
       "</defs>\n",
       "<g id=\"surface1\">\n",
       "<g clip-path=\"url(#clip-1579379542894857-1)\" clip-rule=\"nonzero\">\n",
       "<path style=\"fill:none;stroke-width:0.3985;stroke-linecap:butt;stroke-linejoin:miter;stroke:rgb(0%,0%,0%);stroke-opacity:1;stroke-miterlimit:10;\" d=\"M -69.939344 0.0005 C -56.829969 0.0005 -49.122938 5.672375 -39.8495 14.945812 C -28.13075 26.664562 -16.572156 29.887219 -0.00184375 29.887219 C 16.572375 29.887219 28.130969 26.664562 39.849719 14.945812 C 49.123156 5.672375 56.826281 0.0005 69.939562 0.0005 \" transform=\"matrix(1,0,0,-1,77.287,49.813)\"/>\n",
       "</g>\n",
       "<g style=\"fill:rgb(0%,0%,0%);fill-opacity:1;\">\n",
       "  <use xlink:href=\"#glyph-1579379542894857-0-1\" x=\"3.321\" y=\"46.293\"/>\n",
       "</g>\n",
       "<path style=\" stroke:none;fill-rule:nonzero;fill:rgb(0%,0%,0%);fill-opacity:1;\" d=\"M 146.65625 49.8125 L 143.085938 48.46875 L 144.261719 49.8125 L 143.085938 51.160156 Z M 146.65625 49.8125 \"/>\n",
       "<g clip-path=\"url(#clip-1579379542894857-2)\" clip-rule=\"nonzero\">\n",
       "<path style=\"fill:none;stroke-width:0.3985;stroke-linecap:butt;stroke-linejoin:miter;stroke:rgb(0%,0%,0%);stroke-opacity:1;stroke-miterlimit:10;\" d=\"M 4.21273 0.0005 L 0.642417 1.34425 L 1.818199 0.0005 L 0.642417 -1.347156 Z M 4.21273 0.0005 \" transform=\"matrix(1,0,0,-1,142.44352,49.813)\"/>\n",
       "</g>\n",
       "<g style=\"fill:rgb(0%,0%,0%);fill-opacity:1;\">\n",
       "  <use xlink:href=\"#glyph-1579379542894857-0-1\" x=\"3.321\" y=\"46.293\"/>\n",
       "</g>\n",
       "<path style=\" stroke:none;fill-rule:nonzero;fill:rgb(0%,0%,0%);fill-opacity:1;\" d=\"M 146.65625 49.8125 L 143.085938 48.46875 L 144.261719 49.8125 L 143.085938 51.160156 Z M 146.65625 49.8125 \"/>\n",
       "<g clip-path=\"url(#clip-1579379542894857-3)\" clip-rule=\"nonzero\">\n",
       "<path style=\"fill:none;stroke-width:0.3985;stroke-linecap:butt;stroke-linejoin:miter;stroke:rgb(0%,0%,0%);stroke-opacity:1;stroke-miterlimit:10;\" d=\"M 4.21273 0.0005 L 0.642417 1.34425 L 1.818199 0.0005 L 0.642417 -1.347156 Z M 4.21273 0.0005 \" transform=\"matrix(1,0,0,-1,142.44352,49.813)\"/>\n",
       "</g>\n",
       "<g clip-path=\"url(#clip-1579379542894857-4)\" clip-rule=\"nonzero\">\n",
       "<path style=\"fill:none;stroke-width:0.3985;stroke-linecap:butt;stroke-linejoin:miter;stroke:rgb(0%,0%,0%);stroke-opacity:1;stroke-miterlimit:10;\" d=\"M -69.939344 -29.890125 C -58.204969 -29.890125 -51.583875 -29.890125 -39.8495 -29.890125 C -23.279188 -29.890125 -11.716688 -26.663563 -0.00184375 -14.944813 C 13.7755 -1.167469 26.076281 1.168469 39.849719 14.945812 C 49.123156 24.215344 56.826281 29.887219 69.939562 29.887219 \" transform=\"matrix(1,0,0,-1,77.287,49.813)\"/>\n",
       "</g>\n",
       "<g style=\"fill:rgb(0%,0%,0%);fill-opacity:1;\">\n",
       "  <use xlink:href=\"#glyph-1579379542894857-0-2\" x=\"3.432\" y=\"76.181\"/>\n",
       "</g>\n",
       "<path style=\" stroke:none;fill-rule:nonzero;fill:rgb(0%,0%,0%);fill-opacity:1;\" d=\"M 146.65625 19.925781 L 143.085938 18.578125 L 144.261719 19.925781 L 143.085938 21.269531 Z M 146.65625 19.925781 \"/>\n",
       "<g clip-path=\"url(#clip-1579379542894857-5)\" clip-rule=\"nonzero\">\n",
       "<path style=\"fill:none;stroke-width:0.3985;stroke-linecap:butt;stroke-linejoin:miter;stroke:rgb(0%,0%,0%);stroke-opacity:1;stroke-miterlimit:10;\" d=\"M 4.21273 -0.00108125 L 0.642417 1.346575 L 1.818199 -0.00108125 L 0.642417 -1.344831 Z M 4.21273 -0.00108125 \" transform=\"matrix(1,0,0,-1,142.44352,19.9247)\"/>\n",
       "</g>\n",
       "<g style=\"fill:rgb(0%,0%,0%);fill-opacity:1;\">\n",
       "  <use xlink:href=\"#glyph-1579379542894857-0-2\" x=\"3.432\" y=\"76.181\"/>\n",
       "</g>\n",
       "<path style=\" stroke:none;fill-rule:nonzero;fill:rgb(0%,0%,0%);fill-opacity:1;\" d=\"M 146.65625 19.925781 L 143.085938 18.578125 L 144.261719 19.925781 L 143.085938 21.269531 Z M 146.65625 19.925781 \"/>\n",
       "<g clip-path=\"url(#clip-1579379542894857-6)\" clip-rule=\"nonzero\">\n",
       "<path style=\"fill:none;stroke-width:0.3985;stroke-linecap:butt;stroke-linejoin:miter;stroke:rgb(0%,0%,0%);stroke-opacity:1;stroke-miterlimit:10;\" d=\"M 4.21273 -0.00108125 L 0.642417 1.346575 L 1.818199 -0.00108125 L 0.642417 -1.344831 Z M 4.21273 -0.00108125 \" transform=\"matrix(1,0,0,-1,142.44352,19.9247)\"/>\n",
       "</g>\n",
       "<g clip-path=\"url(#clip-1579379542894857-7)\" clip-rule=\"nonzero\">\n",
       "<path style=\"fill:none;stroke-width:0.3985;stroke-linecap:butt;stroke-linejoin:miter;stroke:rgb(0%,0%,0%);stroke-opacity:1;stroke-miterlimit:10;\" d=\"M -69.939344 29.887219 C -56.829969 29.887219 -49.122938 24.215344 -39.8495 14.945812 C -26.076063 1.168469 -13.775281 -1.167469 -0.00184375 -14.944813 C 11.716906 -26.663563 23.279406 -29.890125 39.849719 -29.890125 C 51.584094 -29.890125 58.205187 -29.890125 69.939562 -29.890125 \" transform=\"matrix(1,0,0,-1,77.287,49.813)\"/>\n",
       "</g>\n",
       "<g style=\"fill:rgb(0%,0%,0%);fill-opacity:1;\">\n",
       "  <use xlink:href=\"#glyph-1579379542894857-0-3\" x=\"3.613\" y=\"16.405\"/>\n",
       "</g>\n",
       "<path style=\" stroke:none;fill-rule:nonzero;fill:rgb(0%,0%,0%);fill-opacity:1;\" d=\"M 146.65625 79.703125 L 143.085938 78.355469 L 144.261719 79.703125 L 143.085938 81.046875 Z M 146.65625 79.703125 \"/>\n",
       "<g clip-path=\"url(#clip-1579379542894857-8)\" clip-rule=\"nonzero\">\n",
       "<path style=\"fill:none;stroke-width:0.3985;stroke-linecap:butt;stroke-linejoin:miter;stroke:rgb(0%,0%,0%);stroke-opacity:1;stroke-miterlimit:10;\" d=\"M 4.21273 -0.001825 L 0.642417 1.345831 L 1.818199 -0.001825 L 0.642417 -1.345575 Z M 4.21273 -0.001825 \" transform=\"matrix(1,0,0,-1,142.44352,79.7013)\"/>\n",
       "</g>\n",
       "<g style=\"fill:rgb(0%,0%,0%);fill-opacity:1;\">\n",
       "  <use xlink:href=\"#glyph-1579379542894857-0-3\" x=\"3.613\" y=\"16.405\"/>\n",
       "</g>\n",
       "<path style=\" stroke:none;fill-rule:nonzero;fill:rgb(0%,0%,0%);fill-opacity:1;\" d=\"M 146.65625 79.703125 L 143.085938 78.355469 L 144.261719 79.703125 L 143.085938 81.046875 Z M 146.65625 79.703125 \"/>\n",
       "<g clip-path=\"url(#clip-1579379542894857-9)\" clip-rule=\"nonzero\">\n",
       "<path style=\"fill:none;stroke-width:0.3985;stroke-linecap:butt;stroke-linejoin:miter;stroke:rgb(0%,0%,0%);stroke-opacity:1;stroke-miterlimit:10;\" d=\"M 4.21273 -0.001825 L 0.642417 1.345831 L 1.818199 -0.001825 L 0.642417 -1.345575 Z M 4.21273 -0.001825 \" transform=\"matrix(1,0,0,-1,142.44352,79.7013)\"/>\n",
       "</g>\n",
       "</g>\n",
       "</svg>\n",
       "\n"
      ]
     },
     "metadata": {},
     "execution_count": 10
    }
   ],
   "cell_type": "code",
   "source": [
    "to_tikz((braid(A,B) ⊗ id(C)) ⋅ (id(B) ⊗ braid(A,C) ⋅ (braid(B,C) ⊗ id(A))),\n",
    "        arrowtip=\"Stealth\", arrowtip_pos=1.0, labels=true, labels_pos=0.0)"
   ],
   "metadata": {},
   "execution_count": 10
  },
  {
   "outputs": [],
   "cell_type": "markdown",
   "source": [
    "### Biproduct category"
   ],
   "metadata": {}
  },
  {
   "outputs": [
    {
     "output_type": "execute_result",
     "data": {
      "text/plain": "Catlab.Graphics.TikZ.Document(Catlab.Graphics.TikZ.Picture(Catlab.Graphics.TikZ.Statement[Catlab.Graphics.TikZ.Node(\"root\", Catlab.Graphics.TikZ.Property[Catlab.Graphics.TikZ.Property(\"outer box\", nothing), Catlab.Graphics.TikZ.Property(\"minimum width\", \"6em\"), Catlab.Graphics.TikZ.Property(\"minimum height\", \"7em\")], Catlab.Graphics.TikZ.Coordinate(\"0\", \"0\"), \"\"), Catlab.Graphics.TikZ.Node(\"n3\", Catlab.Graphics.TikZ.Property[Catlab.Graphics.TikZ.Property(\"junction\", nothing), Catlab.Graphics.TikZ.Property(\"minimum size\", \"0.5em\")], Catlab.Graphics.TikZ.Coordinate(\"0\", \"0\"), \"\"), Catlab.Graphics.TikZ.Edge(Catlab.Graphics.TikZ.PathExpression[Catlab.Graphics.TikZ.NodeCoordinate(\"root.west\"), Catlab.Graphics.TikZ.PathOperation(\"to\", Catlab.Graphics.TikZ.Property[Catlab.Graphics.TikZ.Property(\"out\", \"0\"), Catlab.Graphics.TikZ.Property(\"in\", \"180\")]), Catlab.Graphics.TikZ.NodeCoordinate(\"n3.180\")], Catlab.Graphics.TikZ.Property[Catlab.Graphics.TikZ.Property(\"wire\", \"\\$A\\$\")]), Catlab.Graphics.TikZ.Edge(Catlab.Graphics.TikZ.PathExpression[Catlab.Graphics.TikZ.NodeCoordinate(\"n3.30\"), Catlab.Graphics.TikZ.PathOperation(\"to\", Catlab.Graphics.TikZ.Property[Catlab.Graphics.TikZ.Property(\"out\", \"30\"), Catlab.Graphics.TikZ.Property(\"in\", \"180\")]), Catlab.Graphics.TikZ.NodeCoordinate(\"\\$(root.east)+(0em,1.5em)\\$\")], Catlab.Graphics.TikZ.Property[Catlab.Graphics.TikZ.Property(\"wire\", nothing)]), Catlab.Graphics.TikZ.Edge(Catlab.Graphics.TikZ.PathExpression[Catlab.Graphics.TikZ.NodeCoordinate(\"n3.-30\"), Catlab.Graphics.TikZ.PathOperation(\"to\", Catlab.Graphics.TikZ.Property[Catlab.Graphics.TikZ.Property(\"out\", \"-30\"), Catlab.Graphics.TikZ.Property(\"in\", \"180\")]), Catlab.Graphics.TikZ.NodeCoordinate(\"\\$(root.east)+(0em,-1.5em)\\$\")], Catlab.Graphics.TikZ.Property[Catlab.Graphics.TikZ.Property(\"wire\", nothing)])], Catlab.Graphics.TikZ.Property[Catlab.Graphics.TikZ.Property(\"x\", \"1em\"), Catlab.Graphics.TikZ.Property(\"y\", \"1em\"), Catlab.Graphics.TikZ.Property(\"outer box/.style\", Catlab.Graphics.TikZ.Property[Catlab.Graphics.TikZ.Property(\"draw\", \"none\")]), Catlab.Graphics.TikZ.Property(\"box/.style\", Catlab.Graphics.TikZ.Property[Catlab.Graphics.TikZ.Property(\"rectangle\", nothing), Catlab.Graphics.TikZ.Property(\"draw\", nothing), Catlab.Graphics.TikZ.Property(\"solid\", nothing), Catlab.Graphics.TikZ.Property(\"rounded corners\", nothing)]), Catlab.Graphics.TikZ.Property(\"circular box/.style\", Catlab.Graphics.TikZ.Property[Catlab.Graphics.TikZ.Property(\"circle\", nothing), Catlab.Graphics.TikZ.Property(\"draw\", nothing), Catlab.Graphics.TikZ.Property(\"solid\", nothing)]), Catlab.Graphics.TikZ.Property(\"junction/.style\", Catlab.Graphics.TikZ.Property[Catlab.Graphics.TikZ.Property(\"circle\", nothing), Catlab.Graphics.TikZ.Property(\"draw\", nothing), Catlab.Graphics.TikZ.Property(\"fill\", nothing), Catlab.Graphics.TikZ.Property(\"inner sep\", \"0\")]), Catlab.Graphics.TikZ.Property(\"variant junction/.style\", Catlab.Graphics.TikZ.Property[Catlab.Graphics.TikZ.Property(\"circle\", nothing), Catlab.Graphics.TikZ.Property(\"draw\", nothing), Catlab.Graphics.TikZ.Property(\"solid\", nothing), Catlab.Graphics.TikZ.Property(\"inner sep\", \"0\")]), Catlab.Graphics.TikZ.Property(\"invisible/.style\", Catlab.Graphics.TikZ.Property[Catlab.Graphics.TikZ.Property(\"draw\", \"none\"), Catlab.Graphics.TikZ.Property(\"inner sep\", \"0\")]), Catlab.Graphics.TikZ.Property(\"wire/.style\", Catlab.Graphics.TikZ.Property[Catlab.Graphics.TikZ.Property(\"draw\", nothing), Catlab.Graphics.TikZ.Property(\"postaction\", Catlab.Graphics.TikZ.Property[Catlab.Graphics.TikZ.Property(\"decorate\", nothing)]), Catlab.Graphics.TikZ.Property(\"decoration\", Catlab.Graphics.TikZ.Property[Catlab.Graphics.TikZ.Property(\"markings\", nothing), Catlab.Graphics.TikZ.Property(\"mark\", \"at position 0.5 with {\\\\node[anchor=south] {#1};}\")])])]), [\"calc\", \"decorations.markings\"])",
      "image/svg+xml": [
       "<?xml version=\"1.0\" encoding=\"UTF-8\"?>\n",
       "<svg xmlns=\"http://www.w3.org/2000/svg\" xmlns:xlink=\"http://www.w3.org/1999/xlink\" width=\"60.573pt\" height=\"69.738pt\" viewBox=\"0 0 60.573 69.738\" version=\"1.1\">\n",
       "<defs>\n",
       "<g>\n",
       "<symbol overflow=\"visible\" id=\"glyph-1579379542894858-0-0\">\n",
       "<path style=\"stroke:none;\" d=\"\"/>\n",
       "</symbol>\n",
       "<symbol overflow=\"visible\" id=\"glyph-1579379542894858-0-1\">\n",
       "<path style=\"stroke:none;\" d=\"M 1.78125 -1.140625 C 1.390625 -0.484375 1 -0.34375 0.5625 -0.3125 C 0.4375 -0.296875 0.34375 -0.296875 0.34375 -0.109375 C 0.34375 -0.046875 0.40625 0 0.484375 0 C 0.75 0 1.0625 -0.03125 1.328125 -0.03125 C 1.671875 -0.03125 2.015625 0 2.328125 0 C 2.390625 0 2.515625 0 2.515625 -0.1875 C 2.515625 -0.296875 2.4375 -0.3125 2.359375 -0.3125 C 2.140625 -0.328125 1.890625 -0.40625 1.890625 -0.65625 C 1.890625 -0.78125 1.953125 -0.890625 2.03125 -1.03125 L 2.796875 -2.296875 L 5.296875 -2.296875 C 5.3125 -2.09375 5.453125 -0.734375 5.453125 -0.640625 C 5.453125 -0.34375 4.9375 -0.3125 4.734375 -0.3125 C 4.59375 -0.3125 4.5 -0.3125 4.5 -0.109375 C 4.5 0 4.609375 0 4.640625 0 C 5.046875 0 5.46875 -0.03125 5.875 -0.03125 C 6.125 -0.03125 6.765625 0 7.015625 0 C 7.0625 0 7.1875 0 7.1875 -0.203125 C 7.1875 -0.3125 7.09375 -0.3125 6.953125 -0.3125 C 6.34375 -0.3125 6.34375 -0.375 6.3125 -0.671875 L 5.703125 -6.890625 C 5.6875 -7.09375 5.6875 -7.140625 5.515625 -7.140625 C 5.359375 -7.140625 5.3125 -7.0625 5.25 -6.96875 Z M 2.984375 -2.609375 L 4.9375 -5.90625 L 5.265625 -2.609375 Z M 2.984375 -2.609375 \"/>\n",
       "</symbol>\n",
       "</g>\n",
       "<clipPath id=\"clip-1579379542894858-1\">\n",
       "  <path d=\"M 26 14 L 60.574219 14 L 60.574219 40 L 26 40 Z M 26 14 \"/>\n",
       "</clipPath>\n",
       "<clipPath id=\"clip-1579379542894858-2\">\n",
       "  <path d=\"M 26 30 L 60.574219 30 L 60.574219 56 L 26 56 Z M 26 30 \"/>\n",
       "</clipPath>\n",
       "</defs>\n",
       "<g id=\"surface1\">\n",
       "<path style=\"fill-rule:nonzero;fill:rgb(0%,0%,0%);fill-opacity:1;stroke-width:0.3985;stroke-linecap:butt;stroke-linejoin:miter;stroke:rgb(0%,0%,0%);stroke-opacity:1;stroke-miterlimit:10;\" d=\"M 2.491344 0.0018125 C 2.491344 1.376812 1.374156 2.490094 -0.00084375 2.490094 C -1.375844 2.490094 -2.489125 1.376812 -2.489125 0.0018125 C -2.489125 -1.377094 -1.375844 -2.490375 -0.00084375 -2.490375 C 1.374156 -2.490375 2.491344 -1.377094 2.491344 0.0018125 Z M 2.491344 0.0018125 \" transform=\"matrix(1,0,0,-1,30.286,34.869)\"/>\n",
       "<path style=\"fill:none;stroke-width:0.3985;stroke-linecap:butt;stroke-linejoin:miter;stroke:rgb(0%,0%,0%);stroke-opacity:1;stroke-miterlimit:10;\" d=\"M -30.086781 0.0018125 C -19.403187 0.0018125 -13.375844 0.0018125 -2.688344 0.0018125 \" transform=\"matrix(1,0,0,-1,30.286,34.869)\"/>\n",
       "<g style=\"fill:rgb(0%,0%,0%);fill-opacity:1;\">\n",
       "  <use xlink:href=\"#glyph-1579379542894858-0-1\" x=\"10.162\" y=\"31.349\"/>\n",
       "</g>\n",
       "<g clip-path=\"url(#clip-1579379542894858-1)\" clip-rule=\"nonzero\">\n",
       "<path style=\"fill:none;stroke-width:0.3985;stroke-linecap:butt;stroke-linejoin:miter;stroke:rgb(0%,0%,0%);stroke-opacity:1;stroke-miterlimit:10;\" d=\"M 2.335094 1.349469 C 12.764781 7.369 18.046031 14.943219 30.089 14.943219 \" transform=\"matrix(1,0,0,-1,30.286,34.869)\"/>\n",
       "</g>\n",
       "<g clip-path=\"url(#clip-1579379542894858-2)\" clip-rule=\"nonzero\">\n",
       "<path style=\"fill:none;stroke-width:0.3985;stroke-linecap:butt;stroke-linejoin:miter;stroke:rgb(0%,0%,0%);stroke-opacity:1;stroke-miterlimit:10;\" d=\"M 2.335094 -1.34975 C 12.764781 -7.369281 18.046031 -14.9435 30.089 -14.9435 \" transform=\"matrix(1,0,0,-1,30.286,34.869)\"/>\n",
       "</g>\n",
       "</g>\n",
       "</svg>\n",
       "\n"
      ]
     },
     "metadata": {},
     "execution_count": 11
    }
   ],
   "cell_type": "code",
   "source": [
    "A, B = Ob(FreeBiproductCategory, :A, :B)\n",
    "f = Hom(:f, A, B)\n",
    "\n",
    "to_tikz(mcopy(A), labels=true)"
   ],
   "metadata": {},
   "execution_count": 11
  },
  {
   "outputs": [
    {
     "output_type": "execute_result",
     "data": {
      "text/plain": "Catlab.Graphics.TikZ.Document(Catlab.Graphics.TikZ.Picture(Catlab.Graphics.TikZ.Statement[Catlab.Graphics.TikZ.Node(\"root\", Catlab.Graphics.TikZ.Property[Catlab.Graphics.TikZ.Property(\"outer box\", nothing), Catlab.Graphics.TikZ.Property(\"minimum width\", \"6em\"), Catlab.Graphics.TikZ.Property(\"minimum height\", \"4em\")], Catlab.Graphics.TikZ.Coordinate(\"0\", \"0\"), \"\"), Catlab.Graphics.TikZ.Node(\"n3\", Catlab.Graphics.TikZ.Property[Catlab.Graphics.TikZ.Property(\"junction\", nothing), Catlab.Graphics.TikZ.Property(\"minimum size\", \"0.5em\")], Catlab.Graphics.TikZ.Coordinate(\"0\", \"0\"), \"\"), Catlab.Graphics.TikZ.Edge(Catlab.Graphics.TikZ.PathExpression[Catlab.Graphics.TikZ.NodeCoordinate(\"root.west\"), Catlab.Graphics.TikZ.PathOperation(\"to\", Catlab.Graphics.TikZ.Property[Catlab.Graphics.TikZ.Property(\"out\", \"0\"), Catlab.Graphics.TikZ.Property(\"in\", \"180\")]), Catlab.Graphics.TikZ.NodeCoordinate(\"n3.180\")], Catlab.Graphics.TikZ.Property[Catlab.Graphics.TikZ.Property(\"wire\", \"\\$A\\$\")])], Catlab.Graphics.TikZ.Property[Catlab.Graphics.TikZ.Property(\"x\", \"1em\"), Catlab.Graphics.TikZ.Property(\"y\", \"1em\"), Catlab.Graphics.TikZ.Property(\"outer box/.style\", Catlab.Graphics.TikZ.Property[Catlab.Graphics.TikZ.Property(\"draw\", \"none\")]), Catlab.Graphics.TikZ.Property(\"box/.style\", Catlab.Graphics.TikZ.Property[Catlab.Graphics.TikZ.Property(\"rectangle\", nothing), Catlab.Graphics.TikZ.Property(\"draw\", nothing), Catlab.Graphics.TikZ.Property(\"solid\", nothing), Catlab.Graphics.TikZ.Property(\"rounded corners\", nothing)]), Catlab.Graphics.TikZ.Property(\"circular box/.style\", Catlab.Graphics.TikZ.Property[Catlab.Graphics.TikZ.Property(\"circle\", nothing), Catlab.Graphics.TikZ.Property(\"draw\", nothing), Catlab.Graphics.TikZ.Property(\"solid\", nothing)]), Catlab.Graphics.TikZ.Property(\"junction/.style\", Catlab.Graphics.TikZ.Property[Catlab.Graphics.TikZ.Property(\"circle\", nothing), Catlab.Graphics.TikZ.Property(\"draw\", nothing), Catlab.Graphics.TikZ.Property(\"fill\", nothing), Catlab.Graphics.TikZ.Property(\"inner sep\", \"0\")]), Catlab.Graphics.TikZ.Property(\"variant junction/.style\", Catlab.Graphics.TikZ.Property[Catlab.Graphics.TikZ.Property(\"circle\", nothing), Catlab.Graphics.TikZ.Property(\"draw\", nothing), Catlab.Graphics.TikZ.Property(\"solid\", nothing), Catlab.Graphics.TikZ.Property(\"inner sep\", \"0\")]), Catlab.Graphics.TikZ.Property(\"invisible/.style\", Catlab.Graphics.TikZ.Property[Catlab.Graphics.TikZ.Property(\"draw\", \"none\"), Catlab.Graphics.TikZ.Property(\"inner sep\", \"0\")]), Catlab.Graphics.TikZ.Property(\"wire/.style\", Catlab.Graphics.TikZ.Property[Catlab.Graphics.TikZ.Property(\"draw\", nothing), Catlab.Graphics.TikZ.Property(\"postaction\", Catlab.Graphics.TikZ.Property[Catlab.Graphics.TikZ.Property(\"decorate\", nothing)]), Catlab.Graphics.TikZ.Property(\"decoration\", Catlab.Graphics.TikZ.Property[Catlab.Graphics.TikZ.Property(\"markings\", nothing), Catlab.Graphics.TikZ.Property(\"mark\", \"at position 0.5 with {\\\\node[anchor=south] {#1};}\")])])]), [\"calc\", \"decorations.markings\"])",
      "image/svg+xml": [
       "<?xml version=\"1.0\" encoding=\"UTF-8\"?>\n",
       "<svg xmlns=\"http://www.w3.org/2000/svg\" xmlns:xlink=\"http://www.w3.org/1999/xlink\" width=\"60.174pt\" height=\"39.851pt\" viewBox=\"0 0 60.174 39.851\" version=\"1.1\">\n",
       "<defs>\n",
       "<g>\n",
       "<symbol overflow=\"visible\" id=\"glyph-1579379542894859-0-0\">\n",
       "<path style=\"stroke:none;\" d=\"\"/>\n",
       "</symbol>\n",
       "<symbol overflow=\"visible\" id=\"glyph-1579379542894859-0-1\">\n",
       "<path style=\"stroke:none;\" d=\"M 1.78125 -1.140625 C 1.390625 -0.484375 1 -0.34375 0.5625 -0.3125 C 0.4375 -0.296875 0.34375 -0.296875 0.34375 -0.109375 C 0.34375 -0.046875 0.40625 0 0.484375 0 C 0.75 0 1.0625 -0.03125 1.328125 -0.03125 C 1.671875 -0.03125 2.015625 0 2.328125 0 C 2.390625 0 2.515625 0 2.515625 -0.1875 C 2.515625 -0.296875 2.4375 -0.3125 2.359375 -0.3125 C 2.140625 -0.328125 1.890625 -0.40625 1.890625 -0.65625 C 1.890625 -0.78125 1.953125 -0.890625 2.03125 -1.03125 L 2.796875 -2.296875 L 5.296875 -2.296875 C 5.3125 -2.09375 5.453125 -0.734375 5.453125 -0.640625 C 5.453125 -0.34375 4.9375 -0.3125 4.734375 -0.3125 C 4.59375 -0.3125 4.5 -0.3125 4.5 -0.109375 C 4.5 0 4.609375 0 4.640625 0 C 5.046875 0 5.46875 -0.03125 5.875 -0.03125 C 6.125 -0.03125 6.765625 0 7.015625 0 C 7.0625 0 7.1875 0 7.1875 -0.203125 C 7.1875 -0.3125 7.09375 -0.3125 6.953125 -0.3125 C 6.34375 -0.3125 6.34375 -0.375 6.3125 -0.671875 L 5.703125 -6.890625 C 5.6875 -7.09375 5.6875 -7.140625 5.515625 -7.140625 C 5.359375 -7.140625 5.3125 -7.0625 5.25 -6.96875 Z M 2.984375 -2.609375 L 4.9375 -5.90625 L 5.265625 -2.609375 Z M 2.984375 -2.609375 \"/>\n",
       "</symbol>\n",
       "</g>\n",
       "</defs>\n",
       "<g id=\"surface1\">\n",
       "<path style=\"fill-rule:nonzero;fill:rgb(0%,0%,0%);fill-opacity:1;stroke-width:0.3985;stroke-linecap:butt;stroke-linejoin:miter;stroke:rgb(0%,0%,0%);stroke-opacity:1;stroke-miterlimit:10;\" d=\"M 2.491344 0.00021875 C 2.491344 1.375219 1.374156 2.492406 -0.00084375 2.492406 C -1.375844 2.492406 -2.489125 1.375219 -2.489125 0.00021875 C -2.489125 -1.374781 -1.375844 -2.491969 -0.00084375 -2.491969 C 1.374156 -2.491969 2.491344 -1.374781 2.491344 0.00021875 Z M 2.491344 0.00021875 \" transform=\"matrix(1,0,0,-1,30.286,19.926)\"/>\n",
       "<path style=\"fill:none;stroke-width:0.3985;stroke-linecap:butt;stroke-linejoin:miter;stroke:rgb(0%,0%,0%);stroke-opacity:1;stroke-miterlimit:10;\" d=\"M -30.086781 0.00021875 C -19.403187 0.00021875 -13.375844 0.00021875 -2.688344 0.00021875 \" transform=\"matrix(1,0,0,-1,30.286,19.926)\"/>\n",
       "<g style=\"fill:rgb(0%,0%,0%);fill-opacity:1;\">\n",
       "  <use xlink:href=\"#glyph-1579379542894859-0-1\" x=\"10.162\" y=\"16.406\"/>\n",
       "</g>\n",
       "</g>\n",
       "</svg>\n",
       "\n"
      ]
     },
     "metadata": {},
     "execution_count": 12
    }
   ],
   "cell_type": "code",
   "source": [
    "to_tikz(delete(A), labels=true)"
   ],
   "metadata": {},
   "execution_count": 12
  },
  {
   "outputs": [
    {
     "output_type": "execute_result",
     "data": {
      "text/plain": "Catlab.Graphics.TikZ.Document(Catlab.Graphics.TikZ.Picture(Catlab.Graphics.TikZ.Statement[Catlab.Graphics.TikZ.Node(\"root\", Catlab.Graphics.TikZ.Property[Catlab.Graphics.TikZ.Property(\"outer box\", nothing), Catlab.Graphics.TikZ.Property(\"minimum width\", \"14em\"), Catlab.Graphics.TikZ.Property(\"minimum height\", \"7em\")], Catlab.Graphics.TikZ.Coordinate(\"0\", \"0\"), \"\"), Catlab.Graphics.TikZ.Node(\"n3\", Catlab.Graphics.TikZ.Property[Catlab.Graphics.TikZ.Property(\"junction\", nothing), Catlab.Graphics.TikZ.Property(\"minimum size\", \"0.5em\")], Catlab.Graphics.TikZ.Coordinate(\"-4\", \"0\"), \"\"), Catlab.Graphics.TikZ.Node(\"n4\", Catlab.Graphics.TikZ.Property[Catlab.Graphics.TikZ.Property(\"box\", nothing), Catlab.Graphics.TikZ.Property(\"minimum size\", \"2em\")], Catlab.Graphics.TikZ.Coordinate(\"0\", \"1.5\"), \"\\$f\\$\"), Catlab.Graphics.TikZ.Node(\"n5\", Catlab.Graphics.TikZ.Property[Catlab.Graphics.TikZ.Property(\"box\", nothing), Catlab.Graphics.TikZ.Property(\"minimum size\", \"2em\")], Catlab.Graphics.TikZ.Coordinate(\"0\", \"-1.5\"), \"\\$f\\$\"), Catlab.Graphics.TikZ.Node(\"n6\", Catlab.Graphics.TikZ.Property[Catlab.Graphics.TikZ.Property(\"junction\", nothing), Catlab.Graphics.TikZ.Property(\"minimum size\", \"0.5em\")], Catlab.Graphics.TikZ.Coordinate(\"4\", \"0\"), \"\"), Catlab.Graphics.TikZ.Edge(Catlab.Graphics.TikZ.PathExpression[Catlab.Graphics.TikZ.NodeCoordinate(\"root.west\"), Catlab.Graphics.TikZ.PathOperation(\"to\", Catlab.Graphics.TikZ.Property[Catlab.Graphics.TikZ.Property(\"out\", \"0\"), Catlab.Graphics.TikZ.Property(\"in\", \"180\")]), Catlab.Graphics.TikZ.NodeCoordinate(\"n3.180\")], Catlab.Graphics.TikZ.Property[Catlab.Graphics.TikZ.Property(\"wire\", \"\\$A\\$\")]), Catlab.Graphics.TikZ.Edge(Catlab.Graphics.TikZ.PathExpression[Catlab.Graphics.TikZ.NodeCoordinate(\"n3.30\"), Catlab.Graphics.TikZ.PathOperation(\"to\", Catlab.Graphics.TikZ.Property[Catlab.Graphics.TikZ.Property(\"out\", \"30\"), Catlab.Graphics.TikZ.Property(\"in\", \"-180\")]), Catlab.Graphics.TikZ.NodeCoordinate(\"n4.west\")], Catlab.Graphics.TikZ.Property[Catlab.Graphics.TikZ.Property(\"wire\", nothing)]), Catlab.Graphics.TikZ.Edge(Catlab.Graphics.TikZ.PathExpression[Catlab.Graphics.TikZ.NodeCoordinate(\"n3.-30\"), Catlab.Graphics.TikZ.PathOperation(\"to\", Catlab.Graphics.TikZ.Property[Catlab.Graphics.TikZ.Property(\"out\", \"-30\"), Catlab.Graphics.TikZ.Property(\"in\", \"-180\")]), Catlab.Graphics.TikZ.NodeCoordinate(\"n5.west\")], Catlab.Graphics.TikZ.Property[Catlab.Graphics.TikZ.Property(\"wire\", nothing)]), Catlab.Graphics.TikZ.Edge(Catlab.Graphics.TikZ.PathExpression[Catlab.Graphics.TikZ.NodeCoordinate(\"n4.east\"), Catlab.Graphics.TikZ.PathOperation(\"to\", Catlab.Graphics.TikZ.Property[Catlab.Graphics.TikZ.Property(\"out\", \"0\"), Catlab.Graphics.TikZ.Property(\"in\", \"150\")]), Catlab.Graphics.TikZ.NodeCoordinate(\"n6.150\")], Catlab.Graphics.TikZ.Property[Catlab.Graphics.TikZ.Property(\"wire\", nothing)]), Catlab.Graphics.TikZ.Edge(Catlab.Graphics.TikZ.PathExpression[Catlab.Graphics.TikZ.NodeCoordinate(\"n5.east\"), Catlab.Graphics.TikZ.PathOperation(\"to\", Catlab.Graphics.TikZ.Property[Catlab.Graphics.TikZ.Property(\"out\", \"0\"), Catlab.Graphics.TikZ.Property(\"in\", \"-150\")]), Catlab.Graphics.TikZ.NodeCoordinate(\"n6.-150\")], Catlab.Graphics.TikZ.Property[Catlab.Graphics.TikZ.Property(\"wire\", nothing)]), Catlab.Graphics.TikZ.Edge(Catlab.Graphics.TikZ.PathExpression[Catlab.Graphics.TikZ.NodeCoordinate(\"n6.0\"), Catlab.Graphics.TikZ.PathOperation(\"to\", Catlab.Graphics.TikZ.Property[Catlab.Graphics.TikZ.Property(\"out\", \"0\"), Catlab.Graphics.TikZ.Property(\"in\", \"180\")]), Catlab.Graphics.TikZ.NodeCoordinate(\"root.east\")], Catlab.Graphics.TikZ.Property[Catlab.Graphics.TikZ.Property(\"wire\", \"\\$B\\$\")])], Catlab.Graphics.TikZ.Property[Catlab.Graphics.TikZ.Property(\"x\", \"1em\"), Catlab.Graphics.TikZ.Property(\"y\", \"1em\"), Catlab.Graphics.TikZ.Property(\"outer box/.style\", Catlab.Graphics.TikZ.Property[Catlab.Graphics.TikZ.Property(\"draw\", \"none\")]), Catlab.Graphics.TikZ.Property(\"box/.style\", Catlab.Graphics.TikZ.Property[Catlab.Graphics.TikZ.Property(\"rectangle\", nothing), Catlab.Graphics.TikZ.Property(\"draw\", nothing), Catlab.Graphics.TikZ.Property(\"solid\", nothing), Catlab.Graphics.TikZ.Property(\"rounded corners\", nothing)]), Catlab.Graphics.TikZ.Property(\"circular box/.style\", Catlab.Graphics.TikZ.Property[Catlab.Graphics.TikZ.Property(\"circle\", nothing), Catlab.Graphics.TikZ.Property(\"draw\", nothing), Catlab.Graphics.TikZ.Property(\"solid\", nothing)]), Catlab.Graphics.TikZ.Property(\"junction/.style\", Catlab.Graphics.TikZ.Property[Catlab.Graphics.TikZ.Property(\"circle\", nothing), Catlab.Graphics.TikZ.Property(\"draw\", nothing), Catlab.Graphics.TikZ.Property(\"fill\", nothing), Catlab.Graphics.TikZ.Property(\"inner sep\", \"0\")]), Catlab.Graphics.TikZ.Property(\"variant junction/.style\", Catlab.Graphics.TikZ.Property[Catlab.Graphics.TikZ.Property(\"circle\", nothing), Catlab.Graphics.TikZ.Property(\"draw\", nothing), Catlab.Graphics.TikZ.Property(\"solid\", nothing), Catlab.Graphics.TikZ.Property(\"inner sep\", \"0\")]), Catlab.Graphics.TikZ.Property(\"invisible/.style\", Catlab.Graphics.TikZ.Property[Catlab.Graphics.TikZ.Property(\"draw\", \"none\"), Catlab.Graphics.TikZ.Property(\"inner sep\", \"0\")]), Catlab.Graphics.TikZ.Property(\"wire/.style\", Catlab.Graphics.TikZ.Property[Catlab.Graphics.TikZ.Property(\"draw\", nothing), Catlab.Graphics.TikZ.Property(\"postaction\", Catlab.Graphics.TikZ.Property[Catlab.Graphics.TikZ.Property(\"decorate\", nothing)]), Catlab.Graphics.TikZ.Property(\"decoration\", Catlab.Graphics.TikZ.Property[Catlab.Graphics.TikZ.Property(\"markings\", nothing), Catlab.Graphics.TikZ.Property(\"mark\", \"at position 0.5 with {\\\\node[anchor=south] {#1};}\")])])]), [\"calc\", \"decorations.markings\"])",
      "image/svg+xml": [
       "<?xml version=\"1.0\" encoding=\"UTF-8\"?>\n",
       "<svg xmlns=\"http://www.w3.org/2000/svg\" xmlns:xlink=\"http://www.w3.org/1999/xlink\" width=\"140.274pt\" height=\"69.738pt\" viewBox=\"0 0 140.274 69.738\" version=\"1.1\">\n",
       "<defs>\n",
       "<g>\n",
       "<symbol overflow=\"visible\" id=\"glyph-1579379542894860-0-0\">\n",
       "<path style=\"stroke:none;\" d=\"\"/>\n",
       "</symbol>\n",
       "<symbol overflow=\"visible\" id=\"glyph-1579379542894860-0-1\">\n",
       "<path style=\"stroke:none;\" d=\"M 3.65625 -3.984375 L 4.515625 -3.984375 C 4.71875 -3.984375 4.8125 -3.984375 4.8125 -4.1875 C 4.8125 -4.296875 4.71875 -4.296875 4.546875 -4.296875 L 3.71875 -4.296875 L 3.921875 -5.4375 C 3.96875 -5.640625 4.109375 -6.34375 4.171875 -6.46875 C 4.25 -6.65625 4.421875 -6.8125 4.640625 -6.8125 C 4.671875 -6.8125 4.9375 -6.8125 5.125 -6.625 C 4.6875 -6.59375 4.578125 -6.234375 4.578125 -6.09375 C 4.578125 -5.859375 4.765625 -5.734375 4.953125 -5.734375 C 5.21875 -5.734375 5.5 -5.96875 5.5 -6.34375 C 5.5 -6.796875 5.046875 -7.03125 4.640625 -7.03125 C 4.296875 -7.03125 3.671875 -6.84375 3.375 -5.859375 C 3.3125 -5.65625 3.28125 -5.546875 3.046875 -4.296875 L 2.359375 -4.296875 C 2.15625 -4.296875 2.046875 -4.296875 2.046875 -4.109375 C 2.046875 -3.984375 2.140625 -3.984375 2.328125 -3.984375 L 2.984375 -3.984375 L 2.25 -0.046875 C 2.0625 0.921875 1.890625 1.828125 1.375 1.828125 C 1.328125 1.828125 1.09375 1.828125 0.890625 1.640625 C 1.359375 1.609375 1.453125 1.25 1.453125 1.109375 C 1.453125 0.875 1.265625 0.75 1.078125 0.75 C 0.8125 0.75 0.53125 0.984375 0.53125 1.359375 C 0.53125 1.796875 0.96875 2.046875 1.375 2.046875 C 1.921875 2.046875 2.328125 1.453125 2.5 1.078125 C 2.828125 0.453125 3.046875 -0.75 3.0625 -0.828125 Z M 3.65625 -3.984375 \"/>\n",
       "</symbol>\n",
       "<symbol overflow=\"visible\" id=\"glyph-1579379542894860-0-2\">\n",
       "<path style=\"stroke:none;\" d=\"M 1.78125 -1.140625 C 1.390625 -0.484375 1 -0.34375 0.5625 -0.3125 C 0.4375 -0.296875 0.34375 -0.296875 0.34375 -0.109375 C 0.34375 -0.046875 0.40625 0 0.484375 0 C 0.75 0 1.0625 -0.03125 1.328125 -0.03125 C 1.671875 -0.03125 2.015625 0 2.328125 0 C 2.390625 0 2.515625 0 2.515625 -0.1875 C 2.515625 -0.296875 2.4375 -0.3125 2.359375 -0.3125 C 2.140625 -0.328125 1.890625 -0.40625 1.890625 -0.65625 C 1.890625 -0.78125 1.953125 -0.890625 2.03125 -1.03125 L 2.796875 -2.296875 L 5.296875 -2.296875 C 5.3125 -2.09375 5.453125 -0.734375 5.453125 -0.640625 C 5.453125 -0.34375 4.9375 -0.3125 4.734375 -0.3125 C 4.59375 -0.3125 4.5 -0.3125 4.5 -0.109375 C 4.5 0 4.609375 0 4.640625 0 C 5.046875 0 5.46875 -0.03125 5.875 -0.03125 C 6.125 -0.03125 6.765625 0 7.015625 0 C 7.0625 0 7.1875 0 7.1875 -0.203125 C 7.1875 -0.3125 7.09375 -0.3125 6.953125 -0.3125 C 6.34375 -0.3125 6.34375 -0.375 6.3125 -0.671875 L 5.703125 -6.890625 C 5.6875 -7.09375 5.6875 -7.140625 5.515625 -7.140625 C 5.359375 -7.140625 5.3125 -7.0625 5.25 -6.96875 Z M 2.984375 -2.609375 L 4.9375 -5.90625 L 5.265625 -2.609375 Z M 2.984375 -2.609375 \"/>\n",
       "</symbol>\n",
       "<symbol overflow=\"visible\" id=\"glyph-1579379542894860-0-3\">\n",
       "<path style=\"stroke:none;\" d=\"M 1.59375 -0.78125 C 1.5 -0.390625 1.46875 -0.3125 0.6875 -0.3125 C 0.515625 -0.3125 0.421875 -0.3125 0.421875 -0.109375 C 0.421875 0 0.515625 0 0.6875 0 L 4.25 0 C 5.828125 0 7 -1.171875 7 -2.15625 C 7 -2.875 6.421875 -3.453125 5.453125 -3.5625 C 6.484375 -3.75 7.53125 -4.484375 7.53125 -5.4375 C 7.53125 -6.171875 6.875 -6.8125 5.6875 -6.8125 L 2.328125 -6.8125 C 2.140625 -6.8125 2.046875 -6.8125 2.046875 -6.609375 C 2.046875 -6.5 2.140625 -6.5 2.328125 -6.5 C 2.34375 -6.5 2.53125 -6.5 2.703125 -6.484375 C 2.875 -6.453125 2.96875 -6.453125 2.96875 -6.3125 C 2.96875 -6.28125 2.953125 -6.25 2.9375 -6.125 Z M 3.09375 -3.65625 L 3.71875 -6.125 C 3.8125 -6.46875 3.828125 -6.5 4.25 -6.5 L 5.546875 -6.5 C 6.421875 -6.5 6.625 -5.90625 6.625 -5.46875 C 6.625 -4.59375 5.765625 -3.65625 4.5625 -3.65625 Z M 2.65625 -0.3125 C 2.515625 -0.3125 2.5 -0.3125 2.4375 -0.3125 C 2.328125 -0.328125 2.296875 -0.34375 2.296875 -0.421875 C 2.296875 -0.453125 2.296875 -0.46875 2.359375 -0.640625 L 3.046875 -3.421875 L 4.921875 -3.421875 C 5.875 -3.421875 6.078125 -2.6875 6.078125 -2.265625 C 6.078125 -1.28125 5.1875 -0.3125 4 -0.3125 Z M 2.65625 -0.3125 \"/>\n",
       "</symbol>\n",
       "</g>\n",
       "<clipPath id=\"clip-1579379542894860-1\">\n",
       "  <path d=\"M 107 29 L 140.273438 29 L 140.273438 41 L 107 41 Z M 107 29 \"/>\n",
       "</clipPath>\n",
       "</defs>\n",
       "<g id=\"surface1\">\n",
       "<path style=\"fill-rule:nonzero;fill:rgb(0%,0%,0%);fill-opacity:1;stroke-width:0.3985;stroke-linecap:butt;stroke-linejoin:miter;stroke:rgb(0%,0%,0%);stroke-opacity:1;stroke-miterlimit:10;\" d=\"M -37.359656 0.0018125 C -37.359656 1.376812 -38.476844 2.490094 -39.851844 2.490094 C -41.226844 2.490094 -42.340125 1.376812 -42.340125 0.0018125 C -42.340125 -1.377094 -41.226844 -2.490375 -39.851844 -2.490375 C -38.476844 -2.490375 -37.359656 -1.377094 -37.359656 0.0018125 Z M -37.359656 0.0018125 \" transform=\"matrix(1,0,0,-1,70.137,34.869)\"/>\n",
       "<path style=\"fill:none;stroke-width:0.3985;stroke-linecap:butt;stroke-linejoin:miter;stroke:rgb(0%,0%,0%);stroke-opacity:1;stroke-miterlimit:10;\" d=\"M 5.976281 24.908062 L -5.976844 24.908062 C -8.179969 24.908062 -9.961219 23.122906 -9.961219 20.923687 L -9.961219 8.966656 C -9.961219 6.767437 -8.179969 4.982281 -5.976844 4.982281 L 5.976281 4.982281 C 8.179406 4.982281 9.964562 6.767437 9.964562 8.966656 L 9.964562 20.923687 C 9.964562 23.122906 8.179406 24.908062 5.976281 24.908062 Z M 5.976281 24.908062 \" transform=\"matrix(1,0,0,-1,70.137,34.869)\"/>\n",
       "<g style=\"fill:rgb(0%,0%,0%);fill-opacity:1;\">\n",
       "  <use xlink:href=\"#glyph-1579379542894860-0-1\" x=\"67.162\" y=\"22.415\"/>\n",
       "</g>\n",
       "<path style=\"fill:none;stroke-width:0.3985;stroke-linecap:butt;stroke-linejoin:miter;stroke:rgb(0%,0%,0%);stroke-opacity:1;stroke-miterlimit:10;\" d=\"M 5.976281 -4.982563 L -5.976844 -4.982563 C -8.179969 -4.982563 -9.961219 -6.763813 -9.961219 -8.966938 L -9.961219 -20.920063 C -9.961219 -23.123188 -8.179969 -24.908344 -5.976844 -24.908344 L 5.976281 -24.908344 C 8.179406 -24.908344 9.964562 -23.123188 9.964562 -20.920063 L 9.964562 -8.966938 C 9.964562 -6.763813 8.179406 -4.982563 5.976281 -4.982563 Z M 5.976281 -4.982563 \" transform=\"matrix(1,0,0,-1,70.137,34.869)\"/>\n",
       "<g style=\"fill:rgb(0%,0%,0%);fill-opacity:1;\">\n",
       "  <use xlink:href=\"#glyph-1579379542894860-0-1\" x=\"67.162\" y=\"52.303\"/>\n",
       "</g>\n",
       "<path style=\"fill-rule:nonzero;fill:rgb(0%,0%,0%);fill-opacity:1;stroke-width:0.3985;stroke-linecap:butt;stroke-linejoin:miter;stroke:rgb(0%,0%,0%);stroke-opacity:1;stroke-miterlimit:10;\" d=\"M 42.343469 0.0018125 C 42.343469 1.376812 41.226281 2.490094 39.851281 2.490094 C 38.476281 2.490094 37.359094 1.376812 37.359094 0.0018125 C 37.359094 -1.377094 38.476281 -2.490375 39.851281 -2.490375 C 41.226281 -2.490375 42.343469 -1.377094 42.343469 0.0018125 Z M 42.343469 0.0018125 \" transform=\"matrix(1,0,0,-1,70.137,34.869)\"/>\n",
       "<path style=\"fill:none;stroke-width:0.3985;stroke-linecap:butt;stroke-linejoin:miter;stroke:rgb(0%,0%,0%);stroke-opacity:1;stroke-miterlimit:10;\" d=\"M -69.937781 0.0018125 C -59.254188 0.0018125 -53.226844 0.0018125 -42.539344 0.0018125 \" transform=\"matrix(1,0,0,-1,70.137,34.869)\"/>\n",
       "<g style=\"fill:rgb(0%,0%,0%);fill-opacity:1;\">\n",
       "  <use xlink:href=\"#glyph-1579379542894860-0-2\" x=\"10.162\" y=\"31.349\"/>\n",
       "</g>\n",
       "<path style=\"fill:none;stroke-width:0.3985;stroke-linecap:butt;stroke-linejoin:miter;stroke:rgb(0%,0%,0%);stroke-opacity:1;stroke-miterlimit:10;\" d=\"M -37.515906 1.349469 C -27.191688 7.310406 -22.082313 14.943219 -10.160438 14.943219 \" transform=\"matrix(1,0,0,-1,70.137,34.869)\"/>\n",
       "<path style=\"fill:none;stroke-width:0.3985;stroke-linecap:butt;stroke-linejoin:miter;stroke:rgb(0%,0%,0%);stroke-opacity:1;stroke-miterlimit:10;\" d=\"M -37.515906 -1.34975 C -27.191688 -7.306781 -22.082313 -14.9435 -10.160438 -14.9435 \" transform=\"matrix(1,0,0,-1,70.137,34.869)\"/>\n",
       "<path style=\"fill:none;stroke-width:0.3985;stroke-linecap:butt;stroke-linejoin:miter;stroke:rgb(0%,0%,0%);stroke-opacity:1;stroke-miterlimit:10;\" d=\"M 10.163781 14.943219 C 22.08175 14.943219 27.191125 7.310406 37.515344 1.349469 \" transform=\"matrix(1,0,0,-1,70.137,34.869)\"/>\n",
       "<path style=\"fill:none;stroke-width:0.3985;stroke-linecap:butt;stroke-linejoin:miter;stroke:rgb(0%,0%,0%);stroke-opacity:1;stroke-miterlimit:10;\" d=\"M 10.163781 -14.9435 C 22.08175 -14.9435 27.191125 -7.306781 37.515344 -1.34975 \" transform=\"matrix(1,0,0,-1,70.137,34.869)\"/>\n",
       "<g clip-path=\"url(#clip-1579379542894860-1)\" clip-rule=\"nonzero\">\n",
       "<path style=\"fill:none;stroke-width:0.3985;stroke-linecap:butt;stroke-linejoin:miter;stroke:rgb(0%,0%,0%);stroke-opacity:1;stroke-miterlimit:10;\" d=\"M 42.542687 0.0018125 C 53.226281 0.0018125 59.253625 0.0018125 69.937219 0.0018125 \" transform=\"matrix(1,0,0,-1,70.137,34.869)\"/>\n",
       "</g>\n",
       "<g style=\"fill:rgb(0%,0%,0%);fill-opacity:1;\">\n",
       "  <use xlink:href=\"#glyph-1579379542894860-0-3\" x=\"122.347\" y=\"31.349\"/>\n",
       "</g>\n",
       "</g>\n",
       "</svg>\n",
       "\n"
      ]
     },
     "metadata": {},
     "execution_count": 13
    }
   ],
   "cell_type": "code",
   "source": [
    "to_tikz(mcopy(A)⋅(f⊗f)⋅mmerge(B), labels=true)"
   ],
   "metadata": {},
   "execution_count": 13
  },
  {
   "outputs": [],
   "cell_type": "markdown",
   "source": [
    "### Compact closed category"
   ],
   "metadata": {}
  },
  {
   "outputs": [],
   "cell_type": "markdown",
   "source": [
    "The unit and co-unit of a compact closed category appear as caps and cups."
   ],
   "metadata": {}
  },
  {
   "outputs": [
    {
     "output_type": "execute_result",
     "data": {
      "text/plain": "Catlab.Graphics.TikZ.Document(Catlab.Graphics.TikZ.Picture(Catlab.Graphics.TikZ.Statement[Catlab.Graphics.TikZ.Node(\"root\", Catlab.Graphics.TikZ.Property[Catlab.Graphics.TikZ.Property(\"outer box\", nothing), Catlab.Graphics.TikZ.Property(\"minimum width\", \"6em\"), Catlab.Graphics.TikZ.Property(\"minimum height\", \"7em\")], Catlab.Graphics.TikZ.Coordinate(\"0\", \"0\"), \"\"), Catlab.Graphics.TikZ.Node(\"n3\", Catlab.Graphics.TikZ.Property[Catlab.Graphics.TikZ.Property(\"invisible\", nothing)], Catlab.Graphics.TikZ.Coordinate(\"0\", \"0\"), \"\"), Catlab.Graphics.TikZ.Edge(Catlab.Graphics.TikZ.PathExpression[Catlab.Graphics.TikZ.NodeCoordinate(\"n3.center\"), Catlab.Graphics.TikZ.PathOperation(\"to\", Catlab.Graphics.TikZ.Property[Catlab.Graphics.TikZ.Property(\"out\", \"90\"), Catlab.Graphics.TikZ.Property(\"in\", \"180\")]), Catlab.Graphics.TikZ.NodeCoordinate(\"\\$(root.east)+(0em,1.5em)\\$\")], Catlab.Graphics.TikZ.Property[Catlab.Graphics.TikZ.Property(\"wire\", \"\\$A\\$\"), Catlab.Graphics.TikZ.Property(\"<-\", nothing)]), Catlab.Graphics.TikZ.Edge(Catlab.Graphics.TikZ.PathExpression[Catlab.Graphics.TikZ.NodeCoordinate(\"n3.center\"), Catlab.Graphics.TikZ.PathOperation(\"to\", Catlab.Graphics.TikZ.Property[Catlab.Graphics.TikZ.Property(\"out\", \"-90\"), Catlab.Graphics.TikZ.Property(\"in\", \"180\")]), Catlab.Graphics.TikZ.NodeCoordinate(\"\\$(root.east)+(0em,-1.5em)\\$\")], Catlab.Graphics.TikZ.Property[Catlab.Graphics.TikZ.Property(\"wire\", \"\\$A\\$\"), Catlab.Graphics.TikZ.Property(\"->\", nothing)])], Catlab.Graphics.TikZ.Property[Catlab.Graphics.TikZ.Property(\"x\", \"1em\"), Catlab.Graphics.TikZ.Property(\"y\", \"1em\"), Catlab.Graphics.TikZ.Property(\"outer box/.style\", Catlab.Graphics.TikZ.Property[Catlab.Graphics.TikZ.Property(\"draw\", \"none\")]), Catlab.Graphics.TikZ.Property(\"box/.style\", Catlab.Graphics.TikZ.Property[Catlab.Graphics.TikZ.Property(\"rectangle\", nothing), Catlab.Graphics.TikZ.Property(\"draw\", nothing), Catlab.Graphics.TikZ.Property(\"solid\", nothing), Catlab.Graphics.TikZ.Property(\"rounded corners\", nothing)]), Catlab.Graphics.TikZ.Property(\"circular box/.style\", Catlab.Graphics.TikZ.Property[Catlab.Graphics.TikZ.Property(\"circle\", nothing), Catlab.Graphics.TikZ.Property(\"draw\", nothing), Catlab.Graphics.TikZ.Property(\"solid\", nothing)]), Catlab.Graphics.TikZ.Property(\"junction/.style\", Catlab.Graphics.TikZ.Property[Catlab.Graphics.TikZ.Property(\"circle\", nothing), Catlab.Graphics.TikZ.Property(\"draw\", nothing), Catlab.Graphics.TikZ.Property(\"fill\", nothing), Catlab.Graphics.TikZ.Property(\"inner sep\", \"0\")]), Catlab.Graphics.TikZ.Property(\"variant junction/.style\", Catlab.Graphics.TikZ.Property[Catlab.Graphics.TikZ.Property(\"circle\", nothing), Catlab.Graphics.TikZ.Property(\"draw\", nothing), Catlab.Graphics.TikZ.Property(\"solid\", nothing), Catlab.Graphics.TikZ.Property(\"inner sep\", \"0\")]), Catlab.Graphics.TikZ.Property(\"invisible/.style\", Catlab.Graphics.TikZ.Property[Catlab.Graphics.TikZ.Property(\"draw\", \"none\"), Catlab.Graphics.TikZ.Property(\"inner sep\", \"0\")]), Catlab.Graphics.TikZ.Property(\"wire/.style\", Catlab.Graphics.TikZ.Property[Catlab.Graphics.TikZ.Property(\"draw\", nothing), Catlab.Graphics.TikZ.Property(\"postaction\", Catlab.Graphics.TikZ.Property[Catlab.Graphics.TikZ.Property(\"decorate\", nothing)]), Catlab.Graphics.TikZ.Property(\"decoration\", Catlab.Graphics.TikZ.Property[Catlab.Graphics.TikZ.Property(\"markings\", nothing), Catlab.Graphics.TikZ.Property(\"mark\", \"at position 0.5 with {\\\\node[anchor=south] {#1};}\")])]), Catlab.Graphics.TikZ.Property(\"->/.style\", Catlab.Graphics.TikZ.Property[Catlab.Graphics.TikZ.Property(\"postaction\", Catlab.Graphics.TikZ.Property[Catlab.Graphics.TikZ.Property(\"decorate\", nothing)]), Catlab.Graphics.TikZ.Property(\"decoration\", Catlab.Graphics.TikZ.Property[Catlab.Graphics.TikZ.Property(\"markings\", nothing), Catlab.Graphics.TikZ.Property(\"mark\", \"at position 0.5 with {\\\\arrow{Stealth}}\")])]), Catlab.Graphics.TikZ.Property(\"<-/.style\", Catlab.Graphics.TikZ.Property[Catlab.Graphics.TikZ.Property(\"postaction\", Catlab.Graphics.TikZ.Property[Catlab.Graphics.TikZ.Property(\"decorate\", nothing)]), Catlab.Graphics.TikZ.Property(\"decoration\", Catlab.Graphics.TikZ.Property[Catlab.Graphics.TikZ.Property(\"markings\", nothing), Catlab.Graphics.TikZ.Property(\"mark\", \"at position 0.5 with {\\\\arrow{Stealth[reversed]}}\")])])]), [\"calc\", \"decorations.markings\", \"arrows.meta\"])",
      "image/svg+xml": [
       "<?xml version=\"1.0\" encoding=\"UTF-8\"?>\n",
       "<svg xmlns=\"http://www.w3.org/2000/svg\" xmlns:xlink=\"http://www.w3.org/1999/xlink\" width=\"60.174pt\" height=\"69.738pt\" viewBox=\"0 0 60.174 69.738\" version=\"1.1\">\n",
       "<defs>\n",
       "<g>\n",
       "<symbol overflow=\"visible\" id=\"glyph-1579379542894861-0-0\">\n",
       "<path style=\"stroke:none;\" d=\"\"/>\n",
       "</symbol>\n",
       "<symbol overflow=\"visible\" id=\"glyph-1579379542894861-0-1\">\n",
       "<path style=\"stroke:none;\" d=\"M 1.78125 -1.140625 C 1.390625 -0.484375 1 -0.34375 0.5625 -0.3125 C 0.4375 -0.296875 0.34375 -0.296875 0.34375 -0.109375 C 0.34375 -0.046875 0.40625 0 0.484375 0 C 0.75 0 1.0625 -0.03125 1.328125 -0.03125 C 1.671875 -0.03125 2.015625 0 2.328125 0 C 2.390625 0 2.515625 0 2.515625 -0.1875 C 2.515625 -0.296875 2.4375 -0.3125 2.359375 -0.3125 C 2.140625 -0.328125 1.890625 -0.40625 1.890625 -0.65625 C 1.890625 -0.78125 1.953125 -0.890625 2.03125 -1.03125 L 2.796875 -2.296875 L 5.296875 -2.296875 C 5.3125 -2.09375 5.453125 -0.734375 5.453125 -0.640625 C 5.453125 -0.34375 4.9375 -0.3125 4.734375 -0.3125 C 4.59375 -0.3125 4.5 -0.3125 4.5 -0.109375 C 4.5 0 4.609375 0 4.640625 0 C 5.046875 0 5.46875 -0.03125 5.875 -0.03125 C 6.125 -0.03125 6.765625 0 7.015625 0 C 7.0625 0 7.1875 0 7.1875 -0.203125 C 7.1875 -0.3125 7.09375 -0.3125 6.953125 -0.3125 C 6.34375 -0.3125 6.34375 -0.375 6.3125 -0.671875 L 5.703125 -6.890625 C 5.6875 -7.09375 5.6875 -7.140625 5.515625 -7.140625 C 5.359375 -7.140625 5.3125 -7.0625 5.25 -6.96875 Z M 2.984375 -2.609375 L 4.9375 -5.90625 L 5.265625 -2.609375 Z M 2.984375 -2.609375 \"/>\n",
       "</symbol>\n",
       "</g>\n",
       "<clipPath id=\"clip-1579379542894861-1\">\n",
       "  <path d=\"M 24 14 L 60.175781 14 L 60.175781 41 L 24 41 Z M 24 14 \"/>\n",
       "</clipPath>\n",
       "<clipPath id=\"clip-1579379542894861-2\">\n",
       "  <path d=\"M 24 29 L 60.175781 29 L 60.175781 56 L 24 56 Z M 24 29 \"/>\n",
       "</clipPath>\n",
       "</defs>\n",
       "<g id=\"surface1\">\n",
       "<g clip-path=\"url(#clip-1579379542894861-1)\" clip-rule=\"nonzero\">\n",
       "<path style=\"fill:none;stroke-width:0.3985;stroke-linecap:butt;stroke-linejoin:miter;stroke:rgb(0%,0%,0%);stroke-opacity:1;stroke-miterlimit:10;\" d=\"M -0.00128125 0.0018125 C -0.00128125 13.111187 16.975281 14.943219 30.088563 14.943219 \" transform=\"matrix(1,0,0,-1,29.888,34.869)\"/>\n",
       "</g>\n",
       "<g style=\"fill:rgb(0%,0%,0%);fill-opacity:1;\">\n",
       "  <use xlink:href=\"#glyph-1579379542894861-0-1\" x=\"37.706\" y=\"18.493\"/>\n",
       "</g>\n",
       "<path style=\"fill-rule:nonzero;fill:rgb(0%,0%,0%);fill-opacity:1;stroke-width:0.3985;stroke-linecap:butt;stroke-linejoin:miter;stroke:rgb(0%,0%,0%);stroke-opacity:1;stroke-miterlimit:10;\" d=\"M -4.21661 -0.000996522 L -0.642393 1.344888 L -1.818716 -0.00142491 L -0.645392 -1.345868 Z M -4.21661 -0.000996522 \" transform=\"matrix(0.95782,-0.28851,-0.28851,-0.95782,41.44081,22.01298)\"/>\n",
       "<g style=\"fill:rgb(0%,0%,0%);fill-opacity:1;\">\n",
       "  <use xlink:href=\"#glyph-1579379542894861-0-1\" x=\"37.706\" y=\"18.493\"/>\n",
       "</g>\n",
       "<path style=\"fill-rule:nonzero;fill:rgb(0%,0%,0%);fill-opacity:1;stroke-width:0.3985;stroke-linecap:butt;stroke-linejoin:miter;stroke:rgb(0%,0%,0%);stroke-opacity:1;stroke-miterlimit:10;\" d=\"M -4.21661 -0.000996522 L -0.642393 1.344888 L -1.818716 -0.00142491 L -0.645392 -1.345868 Z M -4.21661 -0.000996522 \" transform=\"matrix(0.95782,-0.28851,-0.28851,-0.95782,41.44081,22.01298)\"/>\n",
       "<g clip-path=\"url(#clip-1579379542894861-2)\" clip-rule=\"nonzero\">\n",
       "<path style=\"fill:none;stroke-width:0.3985;stroke-linecap:butt;stroke-linejoin:miter;stroke:rgb(0%,0%,0%);stroke-opacity:1;stroke-miterlimit:10;\" d=\"M -0.00128125 0.0018125 C -0.00128125 -13.111469 16.975281 -14.9435 30.088563 -14.9435 \" transform=\"matrix(1,0,0,-1,29.888,34.869)\"/>\n",
       "</g>\n",
       "<g style=\"fill:rgb(0%,0%,0%);fill-opacity:1;\">\n",
       "  <use xlink:href=\"#glyph-1579379542894861-0-1\" x=\"37.706\" y=\"44.205\"/>\n",
       "</g>\n",
       "<path style=\"fill-rule:nonzero;fill:rgb(0%,0%,0%);fill-opacity:1;stroke-width:0.3985;stroke-linecap:butt;stroke-linejoin:miter;stroke:rgb(0%,0%,0%);stroke-opacity:1;stroke-miterlimit:10;\" d=\"M 4.216099 -0.000817918 L 0.641881 1.345066 L 1.818204 -0.00124631 L 0.64488 -1.345689 Z M 4.216099 -0.000817918 \" transform=\"matrix(0.95782,0.28851,0.28851,-0.95782,36.86041,46.34533)\"/>\n",
       "<g style=\"fill:rgb(0%,0%,0%);fill-opacity:1;\">\n",
       "  <use xlink:href=\"#glyph-1579379542894861-0-1\" x=\"37.706\" y=\"44.205\"/>\n",
       "</g>\n",
       "<path style=\"fill-rule:nonzero;fill:rgb(0%,0%,0%);fill-opacity:1;stroke-width:0.3985;stroke-linecap:butt;stroke-linejoin:miter;stroke:rgb(0%,0%,0%);stroke-opacity:1;stroke-miterlimit:10;\" d=\"M 4.216099 -0.000817918 L 0.641881 1.345066 L 1.818204 -0.00124631 L 0.64488 -1.345689 Z M 4.216099 -0.000817918 \" transform=\"matrix(0.95782,0.28851,0.28851,-0.95782,36.86041,46.34533)\"/>\n",
       "</g>\n",
       "</svg>\n",
       "\n"
      ]
     },
     "metadata": {},
     "execution_count": 14
    }
   ],
   "cell_type": "code",
   "source": [
    "A, B = Ob(FreeCompactClosedCategory, :A, :B)\n",
    "\n",
    "to_tikz(dunit(A), arrowtip=\"Stealth\", labels=true)"
   ],
   "metadata": {},
   "execution_count": 14
  },
  {
   "outputs": [
    {
     "output_type": "execute_result",
     "data": {
      "text/plain": "Catlab.Graphics.TikZ.Document(Catlab.Graphics.TikZ.Picture(Catlab.Graphics.TikZ.Statement[Catlab.Graphics.TikZ.Node(\"root\", Catlab.Graphics.TikZ.Property[Catlab.Graphics.TikZ.Property(\"outer box\", nothing), Catlab.Graphics.TikZ.Property(\"minimum width\", \"6em\"), Catlab.Graphics.TikZ.Property(\"minimum height\", \"7em\")], Catlab.Graphics.TikZ.Coordinate(\"0\", \"0\"), \"\"), Catlab.Graphics.TikZ.Node(\"n3\", Catlab.Graphics.TikZ.Property[Catlab.Graphics.TikZ.Property(\"invisible\", nothing)], Catlab.Graphics.TikZ.Coordinate(\"0\", \"0\"), \"\"), Catlab.Graphics.TikZ.Edge(Catlab.Graphics.TikZ.PathExpression[Catlab.Graphics.TikZ.NodeCoordinate(\"\\$(root.west)+(0em,1.5em)\\$\"), Catlab.Graphics.TikZ.PathOperation(\"to\", Catlab.Graphics.TikZ.Property[Catlab.Graphics.TikZ.Property(\"out\", \"0\"), Catlab.Graphics.TikZ.Property(\"in\", \"90\")]), Catlab.Graphics.TikZ.NodeCoordinate(\"n3.center\")], Catlab.Graphics.TikZ.Property[Catlab.Graphics.TikZ.Property(\"wire\", \"\\$A\\$\"), Catlab.Graphics.TikZ.Property(\"->\", nothing)]), Catlab.Graphics.TikZ.Edge(Catlab.Graphics.TikZ.PathExpression[Catlab.Graphics.TikZ.NodeCoordinate(\"\\$(root.west)+(0em,-1.5em)\\$\"), Catlab.Graphics.TikZ.PathOperation(\"to\", Catlab.Graphics.TikZ.Property[Catlab.Graphics.TikZ.Property(\"out\", \"0\"), Catlab.Graphics.TikZ.Property(\"in\", \"-90\")]), Catlab.Graphics.TikZ.NodeCoordinate(\"n3.center\")], Catlab.Graphics.TikZ.Property[Catlab.Graphics.TikZ.Property(\"wire\", \"\\$A\\$\"), Catlab.Graphics.TikZ.Property(\"<-\", nothing)])], Catlab.Graphics.TikZ.Property[Catlab.Graphics.TikZ.Property(\"x\", \"1em\"), Catlab.Graphics.TikZ.Property(\"y\", \"1em\"), Catlab.Graphics.TikZ.Property(\"outer box/.style\", Catlab.Graphics.TikZ.Property[Catlab.Graphics.TikZ.Property(\"draw\", \"none\")]), Catlab.Graphics.TikZ.Property(\"box/.style\", Catlab.Graphics.TikZ.Property[Catlab.Graphics.TikZ.Property(\"rectangle\", nothing), Catlab.Graphics.TikZ.Property(\"draw\", nothing), Catlab.Graphics.TikZ.Property(\"solid\", nothing), Catlab.Graphics.TikZ.Property(\"rounded corners\", nothing)]), Catlab.Graphics.TikZ.Property(\"circular box/.style\", Catlab.Graphics.TikZ.Property[Catlab.Graphics.TikZ.Property(\"circle\", nothing), Catlab.Graphics.TikZ.Property(\"draw\", nothing), Catlab.Graphics.TikZ.Property(\"solid\", nothing)]), Catlab.Graphics.TikZ.Property(\"junction/.style\", Catlab.Graphics.TikZ.Property[Catlab.Graphics.TikZ.Property(\"circle\", nothing), Catlab.Graphics.TikZ.Property(\"draw\", nothing), Catlab.Graphics.TikZ.Property(\"fill\", nothing), Catlab.Graphics.TikZ.Property(\"inner sep\", \"0\")]), Catlab.Graphics.TikZ.Property(\"variant junction/.style\", Catlab.Graphics.TikZ.Property[Catlab.Graphics.TikZ.Property(\"circle\", nothing), Catlab.Graphics.TikZ.Property(\"draw\", nothing), Catlab.Graphics.TikZ.Property(\"solid\", nothing), Catlab.Graphics.TikZ.Property(\"inner sep\", \"0\")]), Catlab.Graphics.TikZ.Property(\"invisible/.style\", Catlab.Graphics.TikZ.Property[Catlab.Graphics.TikZ.Property(\"draw\", \"none\"), Catlab.Graphics.TikZ.Property(\"inner sep\", \"0\")]), Catlab.Graphics.TikZ.Property(\"wire/.style\", Catlab.Graphics.TikZ.Property[Catlab.Graphics.TikZ.Property(\"draw\", nothing), Catlab.Graphics.TikZ.Property(\"postaction\", Catlab.Graphics.TikZ.Property[Catlab.Graphics.TikZ.Property(\"decorate\", nothing)]), Catlab.Graphics.TikZ.Property(\"decoration\", Catlab.Graphics.TikZ.Property[Catlab.Graphics.TikZ.Property(\"markings\", nothing), Catlab.Graphics.TikZ.Property(\"mark\", \"at position 0.5 with {\\\\node[anchor=south] {#1};}\")])]), Catlab.Graphics.TikZ.Property(\"->/.style\", Catlab.Graphics.TikZ.Property[Catlab.Graphics.TikZ.Property(\"postaction\", Catlab.Graphics.TikZ.Property[Catlab.Graphics.TikZ.Property(\"decorate\", nothing)]), Catlab.Graphics.TikZ.Property(\"decoration\", Catlab.Graphics.TikZ.Property[Catlab.Graphics.TikZ.Property(\"markings\", nothing), Catlab.Graphics.TikZ.Property(\"mark\", \"at position 0.5 with {\\\\arrow{Stealth}}\")])]), Catlab.Graphics.TikZ.Property(\"<-/.style\", Catlab.Graphics.TikZ.Property[Catlab.Graphics.TikZ.Property(\"postaction\", Catlab.Graphics.TikZ.Property[Catlab.Graphics.TikZ.Property(\"decorate\", nothing)]), Catlab.Graphics.TikZ.Property(\"decoration\", Catlab.Graphics.TikZ.Property[Catlab.Graphics.TikZ.Property(\"markings\", nothing), Catlab.Graphics.TikZ.Property(\"mark\", \"at position 0.5 with {\\\\arrow{Stealth[reversed]}}\")])])]), [\"calc\", \"decorations.markings\", \"arrows.meta\"])",
      "image/svg+xml": [
       "<?xml version=\"1.0\" encoding=\"UTF-8\"?>\n",
       "<svg xmlns=\"http://www.w3.org/2000/svg\" xmlns:xlink=\"http://www.w3.org/1999/xlink\" width=\"60.174pt\" height=\"69.738pt\" viewBox=\"0 0 60.174 69.738\" version=\"1.1\">\n",
       "<defs>\n",
       "<g>\n",
       "<symbol overflow=\"visible\" id=\"glyph-1579379542894862-0-0\">\n",
       "<path style=\"stroke:none;\" d=\"\"/>\n",
       "</symbol>\n",
       "<symbol overflow=\"visible\" id=\"glyph-1579379542894862-0-1\">\n",
       "<path style=\"stroke:none;\" d=\"M 1.78125 -1.140625 C 1.390625 -0.484375 1 -0.34375 0.5625 -0.3125 C 0.4375 -0.296875 0.34375 -0.296875 0.34375 -0.109375 C 0.34375 -0.046875 0.40625 0 0.484375 0 C 0.75 0 1.0625 -0.03125 1.328125 -0.03125 C 1.671875 -0.03125 2.015625 0 2.328125 0 C 2.390625 0 2.515625 0 2.515625 -0.1875 C 2.515625 -0.296875 2.4375 -0.3125 2.359375 -0.3125 C 2.140625 -0.328125 1.890625 -0.40625 1.890625 -0.65625 C 1.890625 -0.78125 1.953125 -0.890625 2.03125 -1.03125 L 2.796875 -2.296875 L 5.296875 -2.296875 C 5.3125 -2.09375 5.453125 -0.734375 5.453125 -0.640625 C 5.453125 -0.34375 4.9375 -0.3125 4.734375 -0.3125 C 4.59375 -0.3125 4.5 -0.3125 4.5 -0.109375 C 4.5 0 4.609375 0 4.640625 0 C 5.046875 0 5.46875 -0.03125 5.875 -0.03125 C 6.125 -0.03125 6.765625 0 7.015625 0 C 7.0625 0 7.1875 0 7.1875 -0.203125 C 7.1875 -0.3125 7.09375 -0.3125 6.953125 -0.3125 C 6.34375 -0.3125 6.34375 -0.375 6.3125 -0.671875 L 5.703125 -6.890625 C 5.6875 -7.09375 5.6875 -7.140625 5.515625 -7.140625 C 5.359375 -7.140625 5.3125 -7.0625 5.25 -6.96875 Z M 2.984375 -2.609375 L 4.9375 -5.90625 L 5.265625 -2.609375 Z M 2.984375 -2.609375 \"/>\n",
       "</symbol>\n",
       "</g>\n",
       "</defs>\n",
       "<g id=\"surface1\">\n",
       "<path style=\"fill:none;stroke-width:0.3985;stroke-linecap:butt;stroke-linejoin:miter;stroke:rgb(0%,0%,0%);stroke-opacity:1;stroke-miterlimit:10;\" d=\"M -30.086781 14.943219 C -16.977406 14.943219 -0.00084375 13.111187 -0.00084375 0.0018125 \" transform=\"matrix(1,0,0,-1,30.286,34.869)\"/>\n",
       "<g style=\"fill:rgb(0%,0%,0%);fill-opacity:1;\">\n",
       "  <use xlink:href=\"#glyph-1579379542894862-0-1\" x=\"14.998\" y=\"18.493\"/>\n",
       "</g>\n",
       "<path style=\"fill-rule:nonzero;fill:rgb(0%,0%,0%);fill-opacity:1;stroke-width:0.3985;stroke-linecap:butt;stroke-linejoin:miter;stroke:rgb(0%,0%,0%);stroke-opacity:1;stroke-miterlimit:10;\" d=\"M 4.212692 0.000934723 L 0.643342 1.344244 L 1.818529 0.0016555 L 0.642576 -1.347646 Z M 4.212692 0.000934723 \" transform=\"matrix(0.95782,0.2885,0.2885,-0.95782,14.15223,20.63319)\"/>\n",
       "<g style=\"fill:rgb(0%,0%,0%);fill-opacity:1;\">\n",
       "  <use xlink:href=\"#glyph-1579379542894862-0-1\" x=\"14.998\" y=\"18.493\"/>\n",
       "</g>\n",
       "<path style=\"fill-rule:nonzero;fill:rgb(0%,0%,0%);fill-opacity:1;stroke-width:0.3985;stroke-linecap:butt;stroke-linejoin:miter;stroke:rgb(0%,0%,0%);stroke-opacity:1;stroke-miterlimit:10;\" d=\"M 4.212692 0.000934723 L 0.643342 1.344244 L 1.818529 0.0016555 L 0.642576 -1.347646 Z M 4.212692 0.000934723 \" transform=\"matrix(0.95782,0.2885,0.2885,-0.95782,14.15223,20.63319)\"/>\n",
       "<path style=\"fill:none;stroke-width:0.3985;stroke-linecap:butt;stroke-linejoin:miter;stroke:rgb(0%,0%,0%);stroke-opacity:1;stroke-miterlimit:10;\" d=\"M -30.086781 -14.9435 C -16.977406 -14.9435 -0.00084375 -13.111469 -0.00084375 0.0018125 \" transform=\"matrix(1,0,0,-1,30.286,34.869)\"/>\n",
       "<g style=\"fill:rgb(0%,0%,0%);fill-opacity:1;\">\n",
       "  <use xlink:href=\"#glyph-1579379542894862-0-1\" x=\"14.998\" y=\"44.205\"/>\n",
       "</g>\n",
       "<path style=\"fill-rule:nonzero;fill:rgb(0%,0%,0%);fill-opacity:1;stroke-width:0.3985;stroke-linecap:butt;stroke-linejoin:miter;stroke:rgb(0%,0%,0%);stroke-opacity:1;stroke-miterlimit:10;\" d=\"M -4.215147 -0.000152935 L -0.64467 1.346896 L -1.817245 -0.000558374 L -0.643904 -1.344994 Z M -4.215147 -0.000152935 \" transform=\"matrix(0.95782,-0.2885,-0.2885,-0.95782,18.73262,47.72519)\"/>\n",
       "<g style=\"fill:rgb(0%,0%,0%);fill-opacity:1;\">\n",
       "  <use xlink:href=\"#glyph-1579379542894862-0-1\" x=\"14.998\" y=\"44.205\"/>\n",
       "</g>\n",
       "<path style=\"fill-rule:nonzero;fill:rgb(0%,0%,0%);fill-opacity:1;stroke-width:0.3985;stroke-linecap:butt;stroke-linejoin:miter;stroke:rgb(0%,0%,0%);stroke-opacity:1;stroke-miterlimit:10;\" d=\"M -4.215147 -0.000152935 L -0.64467 1.346896 L -1.817245 -0.000558374 L -0.643904 -1.344994 Z M -4.215147 -0.000152935 \" transform=\"matrix(0.95782,-0.2885,-0.2885,-0.95782,18.73262,47.72519)\"/>\n",
       "</g>\n",
       "</svg>\n",
       "\n"
      ]
     },
     "metadata": {},
     "execution_count": 15
    }
   ],
   "cell_type": "code",
   "source": [
    "to_tikz(dcounit(A), arrowtip=\"Stealth\", labels=true)"
   ],
   "metadata": {},
   "execution_count": 15
  },
  {
   "outputs": [],
   "cell_type": "markdown",
   "source": [
    "In a self-dual compact closed category, such as a bicategory of relations,\n",
    "every morphism $f: A \\to B$ has a transpose $f^\\dagger: B \\to A$ given by\n",
    "bending wires:"
   ],
   "metadata": {}
  },
  {
   "outputs": [
    {
     "output_type": "execute_result",
     "data": {
      "text/plain": "Catlab.Graphics.TikZ.Document(Catlab.Graphics.TikZ.Picture(Catlab.Graphics.TikZ.Statement[Catlab.Graphics.TikZ.Node(\"root\", Catlab.Graphics.TikZ.Property[Catlab.Graphics.TikZ.Property(\"outer box\", nothing), Catlab.Graphics.TikZ.Property(\"minimum width\", \"14em\"), Catlab.Graphics.TikZ.Property(\"minimum height\", \"10em\")], Catlab.Graphics.TikZ.Coordinate(\"0\", \"0\"), \"\"), Catlab.Graphics.TikZ.Node(\"n3\", Catlab.Graphics.TikZ.Property[Catlab.Graphics.TikZ.Property(\"invisible\", nothing)], Catlab.Graphics.TikZ.Coordinate(\"-4\", \"1.5\"), \"\"), Catlab.Graphics.TikZ.Node(\"n4\", Catlab.Graphics.TikZ.Property[Catlab.Graphics.TikZ.Property(\"box\", nothing), Catlab.Graphics.TikZ.Property(\"minimum size\", \"2em\")], Catlab.Graphics.TikZ.Coordinate(\"0\", \"0\"), \"\\$f\\$\"), Catlab.Graphics.TikZ.Node(\"n5\", Catlab.Graphics.TikZ.Property[Catlab.Graphics.TikZ.Property(\"invisible\", nothing)], Catlab.Graphics.TikZ.Coordinate(\"4\", \"-1.5\"), \"\"), Catlab.Graphics.TikZ.Edge(Catlab.Graphics.TikZ.PathExpression[Catlab.Graphics.TikZ.NodeCoordinate(\"root.west\"), Catlab.Graphics.TikZ.PathOperation(\"to\", Catlab.Graphics.TikZ.Property[Catlab.Graphics.TikZ.Property(\"out\", \"0\"), Catlab.Graphics.TikZ.Property(\"in\", \"180\")]), Catlab.Graphics.TikZ.Coordinate(\"-4\", \"-3\"), Catlab.Graphics.TikZ.PathOperation(\"to\", Catlab.Graphics.TikZ.Property[Catlab.Graphics.TikZ.Property(\"out\", \"0\"), Catlab.Graphics.TikZ.Property(\"in\", \"180\")]), Catlab.Graphics.TikZ.Coordinate(\"0\", \"-3\"), Catlab.Graphics.TikZ.PathOperation(\"to\", Catlab.Graphics.TikZ.Property[Catlab.Graphics.TikZ.Property(\"out\", \"0\"), Catlab.Graphics.TikZ.Property(\"in\", \"-90\")]), Catlab.Graphics.TikZ.NodeCoordinate(\"n5.center\")], Catlab.Graphics.TikZ.Property[Catlab.Graphics.TikZ.Property(\"wire\", nothing)]), Catlab.Graphics.TikZ.Edge(Catlab.Graphics.TikZ.PathExpression[Catlab.Graphics.TikZ.NodeCoordinate(\"n3.center\"), Catlab.Graphics.TikZ.PathOperation(\"to\", Catlab.Graphics.TikZ.Property[Catlab.Graphics.TikZ.Property(\"out\", \"90\"), Catlab.Graphics.TikZ.Property(\"in\", \"180\")]), Catlab.Graphics.TikZ.Coordinate(\"0\", \"3\"), Catlab.Graphics.TikZ.PathOperation(\"to\", Catlab.Graphics.TikZ.Property[Catlab.Graphics.TikZ.Property(\"out\", \"0\"), Catlab.Graphics.TikZ.Property(\"in\", \"180\")]), Catlab.Graphics.TikZ.Coordinate(\"4\", \"3\"), Catlab.Graphics.TikZ.PathOperation(\"to\", Catlab.Graphics.TikZ.Property[Catlab.Graphics.TikZ.Property(\"out\", \"0\"), Catlab.Graphics.TikZ.Property(\"in\", \"180\")]), Catlab.Graphics.TikZ.NodeCoordinate(\"root.east\")], Catlab.Graphics.TikZ.Property[Catlab.Graphics.TikZ.Property(\"wire\", nothing)]), Catlab.Graphics.TikZ.Edge(Catlab.Graphics.TikZ.PathExpression[Catlab.Graphics.TikZ.NodeCoordinate(\"n3.center\"), Catlab.Graphics.TikZ.PathOperation(\"to\", Catlab.Graphics.TikZ.Property[Catlab.Graphics.TikZ.Property(\"out\", \"-90\"), Catlab.Graphics.TikZ.Property(\"in\", \"-180\")]), Catlab.Graphics.TikZ.NodeCoordinate(\"n4.west\")], Catlab.Graphics.TikZ.Property[Catlab.Graphics.TikZ.Property(\"wire\", nothing)]), Catlab.Graphics.TikZ.Edge(Catlab.Graphics.TikZ.PathExpression[Catlab.Graphics.TikZ.NodeCoordinate(\"n4.east\"), Catlab.Graphics.TikZ.PathOperation(\"to\", Catlab.Graphics.TikZ.Property[Catlab.Graphics.TikZ.Property(\"out\", \"0\"), Catlab.Graphics.TikZ.Property(\"in\", \"90\")]), Catlab.Graphics.TikZ.NodeCoordinate(\"n5.center\")], Catlab.Graphics.TikZ.Property[Catlab.Graphics.TikZ.Property(\"wire\", nothing)])], Catlab.Graphics.TikZ.Property[Catlab.Graphics.TikZ.Property(\"x\", \"1em\"), Catlab.Graphics.TikZ.Property(\"y\", \"1em\"), Catlab.Graphics.TikZ.Property(\"outer box/.style\", Catlab.Graphics.TikZ.Property[Catlab.Graphics.TikZ.Property(\"draw\", \"none\")]), Catlab.Graphics.TikZ.Property(\"box/.style\", Catlab.Graphics.TikZ.Property[Catlab.Graphics.TikZ.Property(\"rectangle\", nothing), Catlab.Graphics.TikZ.Property(\"draw\", nothing), Catlab.Graphics.TikZ.Property(\"solid\", nothing), Catlab.Graphics.TikZ.Property(\"rounded corners\", nothing)]), Catlab.Graphics.TikZ.Property(\"circular box/.style\", Catlab.Graphics.TikZ.Property[Catlab.Graphics.TikZ.Property(\"circle\", nothing), Catlab.Graphics.TikZ.Property(\"draw\", nothing), Catlab.Graphics.TikZ.Property(\"solid\", nothing)]), Catlab.Graphics.TikZ.Property(\"junction/.style\", Catlab.Graphics.TikZ.Property[Catlab.Graphics.TikZ.Property(\"circle\", nothing), Catlab.Graphics.TikZ.Property(\"draw\", nothing), Catlab.Graphics.TikZ.Property(\"fill\", nothing), Catlab.Graphics.TikZ.Property(\"inner sep\", \"0\")]), Catlab.Graphics.TikZ.Property(\"variant junction/.style\", Catlab.Graphics.TikZ.Property[Catlab.Graphics.TikZ.Property(\"circle\", nothing), Catlab.Graphics.TikZ.Property(\"draw\", nothing), Catlab.Graphics.TikZ.Property(\"solid\", nothing), Catlab.Graphics.TikZ.Property(\"inner sep\", \"0\")]), Catlab.Graphics.TikZ.Property(\"invisible/.style\", Catlab.Graphics.TikZ.Property[Catlab.Graphics.TikZ.Property(\"draw\", \"none\"), Catlab.Graphics.TikZ.Property(\"inner sep\", \"0\")]), Catlab.Graphics.TikZ.Property(\"wire/.style\", Catlab.Graphics.TikZ.Property[Catlab.Graphics.TikZ.Property(\"draw\", nothing)])]), [\"calc\"])",
      "image/svg+xml": [
       "<?xml version=\"1.0\" encoding=\"UTF-8\"?>\n",
       "<svg xmlns=\"http://www.w3.org/2000/svg\" xmlns:xlink=\"http://www.w3.org/1999/xlink\" width=\"140.274pt\" height=\"99.626pt\" viewBox=\"0 0 140.274 99.626\" version=\"1.1\">\n",
       "<defs>\n",
       "<g>\n",
       "<symbol overflow=\"visible\" id=\"glyph-1579379542894863-0-0\">\n",
       "<path style=\"stroke:none;\" d=\"\"/>\n",
       "</symbol>\n",
       "<symbol overflow=\"visible\" id=\"glyph-1579379542894863-0-1\">\n",
       "<path style=\"stroke:none;\" d=\"M 3.65625 -3.984375 L 4.515625 -3.984375 C 4.71875 -3.984375 4.8125 -3.984375 4.8125 -4.1875 C 4.8125 -4.296875 4.71875 -4.296875 4.546875 -4.296875 L 3.71875 -4.296875 L 3.921875 -5.4375 C 3.96875 -5.640625 4.109375 -6.34375 4.171875 -6.46875 C 4.25 -6.65625 4.421875 -6.8125 4.640625 -6.8125 C 4.671875 -6.8125 4.9375 -6.8125 5.125 -6.625 C 4.6875 -6.59375 4.578125 -6.234375 4.578125 -6.09375 C 4.578125 -5.859375 4.765625 -5.734375 4.953125 -5.734375 C 5.21875 -5.734375 5.5 -5.96875 5.5 -6.34375 C 5.5 -6.796875 5.046875 -7.03125 4.640625 -7.03125 C 4.296875 -7.03125 3.671875 -6.84375 3.375 -5.859375 C 3.3125 -5.65625 3.28125 -5.546875 3.046875 -4.296875 L 2.359375 -4.296875 C 2.15625 -4.296875 2.046875 -4.296875 2.046875 -4.109375 C 2.046875 -3.984375 2.140625 -3.984375 2.328125 -3.984375 L 2.984375 -3.984375 L 2.25 -0.046875 C 2.0625 0.921875 1.890625 1.828125 1.375 1.828125 C 1.328125 1.828125 1.09375 1.828125 0.890625 1.640625 C 1.359375 1.609375 1.453125 1.25 1.453125 1.109375 C 1.453125 0.875 1.265625 0.75 1.078125 0.75 C 0.8125 0.75 0.53125 0.984375 0.53125 1.359375 C 0.53125 1.796875 0.96875 2.046875 1.375 2.046875 C 1.921875 2.046875 2.328125 1.453125 2.5 1.078125 C 2.828125 0.453125 3.046875 -0.75 3.0625 -0.828125 Z M 3.65625 -3.984375 \"/>\n",
       "</symbol>\n",
       "</g>\n",
       "<clipPath id=\"clip-1579379542894863-1\">\n",
       "  <path d=\"M 24 14 L 140.273438 14 L 140.273438 56 L 24 56 Z M 24 14 \"/>\n",
       "</clipPath>\n",
       "</defs>\n",
       "<g id=\"surface1\">\n",
       "<path style=\"fill:none;stroke-width:0.3985;stroke-linecap:butt;stroke-linejoin:miter;stroke:rgb(0%,0%,0%);stroke-opacity:1;stroke-miterlimit:10;\" d=\"M 5.976281 9.961437 L -5.976844 9.961437 C -8.179969 9.961437 -9.961219 8.180187 -9.961219 5.977062 L -9.961219 -5.976063 C -9.961219 -8.179188 -8.179969 -9.964344 -5.976844 -9.964344 L 5.976281 -9.964344 C 8.179406 -9.964344 9.964562 -8.179188 9.964562 -5.976063 L 9.964562 5.977062 C 9.964562 8.180187 8.179406 9.961437 5.976281 9.961437 Z M 5.976281 9.961437 \" transform=\"matrix(1,0,0,-1,70.137,49.813)\"/>\n",
       "<g style=\"fill:rgb(0%,0%,0%);fill-opacity:1;\">\n",
       "  <use xlink:href=\"#glyph-1579379542894863-0-1\" x=\"67.162\" y=\"52.303\"/>\n",
       "</g>\n",
       "<path style=\"fill:none;stroke-width:0.3985;stroke-linecap:butt;stroke-linejoin:miter;stroke:rgb(0%,0%,0%);stroke-opacity:1;stroke-miterlimit:10;\" d=\"M -69.937781 0.0005 C -53.371375 0.0005 -56.41825 -29.890125 -39.851844 -29.890125 C -24.308875 -29.890125 -15.539344 -29.890125 -0.00028125 -29.890125 C 16.573937 -29.890125 39.851281 -31.515125 39.851281 -14.944813 \" transform=\"matrix(1,0,0,-1,70.137,49.813)\"/>\n",
       "<g clip-path=\"url(#clip-1579379542894863-1)\" clip-rule=\"nonzero\">\n",
       "<path style=\"fill:none;stroke-width:0.3985;stroke-linecap:butt;stroke-linejoin:miter;stroke:rgb(0%,0%,0%);stroke-opacity:1;stroke-miterlimit:10;\" d=\"M -39.851844 14.945812 C -39.851844 31.516125 -16.570594 29.887219 -0.00028125 29.887219 C 15.538781 29.887219 24.312219 29.887219 39.851281 29.887219 C 56.417687 29.887219 53.370812 0.0005 69.937219 0.0005 \" transform=\"matrix(1,0,0,-1,70.137,49.813)\"/>\n",
       "</g>\n",
       "<path style=\"fill:none;stroke-width:0.3985;stroke-linecap:butt;stroke-linejoin:miter;stroke:rgb(0%,0%,0%);stroke-opacity:1;stroke-miterlimit:10;\" d=\"M -39.851844 14.945812 C -39.851844 1.949719 -23.156531 0.0005 -10.160438 0.0005 \" transform=\"matrix(1,0,0,-1,70.137,49.813)\"/>\n",
       "<path style=\"fill:none;stroke-width:0.3985;stroke-linecap:butt;stroke-linejoin:miter;stroke:rgb(0%,0%,0%);stroke-opacity:1;stroke-miterlimit:10;\" d=\"M 10.163781 0.0005 C 23.155969 0.0005 39.851281 -1.948719 39.851281 -14.944813 \" transform=\"matrix(1,0,0,-1,70.137,49.813)\"/>\n",
       "</g>\n",
       "</svg>\n",
       "\n"
      ]
     },
     "metadata": {},
     "execution_count": 16
    }
   ],
   "cell_type": "code",
   "source": [
    "A, B = Ob(FreeBicategoryRelations, :A, :B)\n",
    "f = Hom(:f, A, B)\n",
    "\n",
    "to_tikz((dunit(A) ⊗ id(B)) ⋅ (id(A) ⊗ f ⊗ id(B)) ⋅ (id(A) ⊗ dcounit(B)))"
   ],
   "metadata": {},
   "execution_count": 16
  },
  {
   "outputs": [],
   "cell_type": "markdown",
   "source": [
    "### Abelian bicategory of relations"
   ],
   "metadata": {}
  },
  {
   "outputs": [],
   "cell_type": "markdown",
   "source": [
    "In an abelian bicategory of relations, such as the category of linear\n",
    "relations, the duplication morphisms $\\Delta_X: X \\to X \\otimes X$ and\n",
    "addition morphisms $\\blacktriangledown_X: X \\otimes X \\to X$ belong to a\n",
    "bimonoid. Among other things, this means that the following two morphisms are\n",
    "equal."
   ],
   "metadata": {}
  },
  {
   "outputs": [
    {
     "output_type": "execute_result",
     "data": {
      "text/plain": "Catlab.Graphics.TikZ.Document(Catlab.Graphics.TikZ.Picture(Catlab.Graphics.TikZ.Statement[Catlab.Graphics.TikZ.Node(\"root\", Catlab.Graphics.TikZ.Property[Catlab.Graphics.TikZ.Property(\"outer box\", nothing), Catlab.Graphics.TikZ.Property(\"minimum width\", \"10em\"), Catlab.Graphics.TikZ.Property(\"minimum height\", \"7em\")], Catlab.Graphics.TikZ.Coordinate(\"0\", \"0\"), \"\"), Catlab.Graphics.TikZ.Node(\"n3\", Catlab.Graphics.TikZ.Property[Catlab.Graphics.TikZ.Property(\"variant junction\", nothing), Catlab.Graphics.TikZ.Property(\"minimum size\", \"0.5em\")], Catlab.Graphics.TikZ.Coordinate(\"-2\", \"0\"), \"\"), Catlab.Graphics.TikZ.Node(\"n4\", Catlab.Graphics.TikZ.Property[Catlab.Graphics.TikZ.Property(\"junction\", nothing), Catlab.Graphics.TikZ.Property(\"minimum size\", \"0.5em\")], Catlab.Graphics.TikZ.Coordinate(\"2\", \"0\"), \"\"), Catlab.Graphics.TikZ.Edge(Catlab.Graphics.TikZ.PathExpression[Catlab.Graphics.TikZ.NodeCoordinate(\"\\$(root.west)+(0em,1.5em)\\$\"), Catlab.Graphics.TikZ.PathOperation(\"to\", Catlab.Graphics.TikZ.Property[Catlab.Graphics.TikZ.Property(\"out\", \"0\"), Catlab.Graphics.TikZ.Property(\"in\", \"150\")]), Catlab.Graphics.TikZ.NodeCoordinate(\"n3.150\")], Catlab.Graphics.TikZ.Property[Catlab.Graphics.TikZ.Property(\"wire\", nothing)]), Catlab.Graphics.TikZ.Edge(Catlab.Graphics.TikZ.PathExpression[Catlab.Graphics.TikZ.NodeCoordinate(\"\\$(root.west)+(0em,-1.5em)\\$\"), Catlab.Graphics.TikZ.PathOperation(\"to\", Catlab.Graphics.TikZ.Property[Catlab.Graphics.TikZ.Property(\"out\", \"0\"), Catlab.Graphics.TikZ.Property(\"in\", \"-150\")]), Catlab.Graphics.TikZ.NodeCoordinate(\"n3.-150\")], Catlab.Graphics.TikZ.Property[Catlab.Graphics.TikZ.Property(\"wire\", nothing)]), Catlab.Graphics.TikZ.Edge(Catlab.Graphics.TikZ.PathExpression[Catlab.Graphics.TikZ.NodeCoordinate(\"n3.0\"), Catlab.Graphics.TikZ.PathOperation(\"to\", Catlab.Graphics.TikZ.Property[Catlab.Graphics.TikZ.Property(\"out\", \"0\"), Catlab.Graphics.TikZ.Property(\"in\", \"180\")]), Catlab.Graphics.TikZ.NodeCoordinate(\"n4.180\")], Catlab.Graphics.TikZ.Property[Catlab.Graphics.TikZ.Property(\"wire\", nothing)]), Catlab.Graphics.TikZ.Edge(Catlab.Graphics.TikZ.PathExpression[Catlab.Graphics.TikZ.NodeCoordinate(\"n4.30\"), Catlab.Graphics.TikZ.PathOperation(\"to\", Catlab.Graphics.TikZ.Property[Catlab.Graphics.TikZ.Property(\"out\", \"30\"), Catlab.Graphics.TikZ.Property(\"in\", \"180\")]), Catlab.Graphics.TikZ.NodeCoordinate(\"\\$(root.east)+(0em,1.5em)\\$\")], Catlab.Graphics.TikZ.Property[Catlab.Graphics.TikZ.Property(\"wire\", nothing)]), Catlab.Graphics.TikZ.Edge(Catlab.Graphics.TikZ.PathExpression[Catlab.Graphics.TikZ.NodeCoordinate(\"n4.-30\"), Catlab.Graphics.TikZ.PathOperation(\"to\", Catlab.Graphics.TikZ.Property[Catlab.Graphics.TikZ.Property(\"out\", \"-30\"), Catlab.Graphics.TikZ.Property(\"in\", \"180\")]), Catlab.Graphics.TikZ.NodeCoordinate(\"\\$(root.east)+(0em,-1.5em)\\$\")], Catlab.Graphics.TikZ.Property[Catlab.Graphics.TikZ.Property(\"wire\", nothing)])], Catlab.Graphics.TikZ.Property[Catlab.Graphics.TikZ.Property(\"x\", \"1em\"), Catlab.Graphics.TikZ.Property(\"y\", \"1em\"), Catlab.Graphics.TikZ.Property(\"outer box/.style\", Catlab.Graphics.TikZ.Property[Catlab.Graphics.TikZ.Property(\"draw\", \"none\")]), Catlab.Graphics.TikZ.Property(\"box/.style\", Catlab.Graphics.TikZ.Property[Catlab.Graphics.TikZ.Property(\"rectangle\", nothing), Catlab.Graphics.TikZ.Property(\"draw\", nothing), Catlab.Graphics.TikZ.Property(\"solid\", nothing), Catlab.Graphics.TikZ.Property(\"rounded corners\", nothing)]), Catlab.Graphics.TikZ.Property(\"circular box/.style\", Catlab.Graphics.TikZ.Property[Catlab.Graphics.TikZ.Property(\"circle\", nothing), Catlab.Graphics.TikZ.Property(\"draw\", nothing), Catlab.Graphics.TikZ.Property(\"solid\", nothing)]), Catlab.Graphics.TikZ.Property(\"junction/.style\", Catlab.Graphics.TikZ.Property[Catlab.Graphics.TikZ.Property(\"circle\", nothing), Catlab.Graphics.TikZ.Property(\"draw\", nothing), Catlab.Graphics.TikZ.Property(\"fill\", nothing), Catlab.Graphics.TikZ.Property(\"inner sep\", \"0\")]), Catlab.Graphics.TikZ.Property(\"variant junction/.style\", Catlab.Graphics.TikZ.Property[Catlab.Graphics.TikZ.Property(\"circle\", nothing), Catlab.Graphics.TikZ.Property(\"draw\", nothing), Catlab.Graphics.TikZ.Property(\"solid\", nothing), Catlab.Graphics.TikZ.Property(\"inner sep\", \"0\")]), Catlab.Graphics.TikZ.Property(\"invisible/.style\", Catlab.Graphics.TikZ.Property[Catlab.Graphics.TikZ.Property(\"draw\", \"none\"), Catlab.Graphics.TikZ.Property(\"inner sep\", \"0\")]), Catlab.Graphics.TikZ.Property(\"wire/.style\", Catlab.Graphics.TikZ.Property[Catlab.Graphics.TikZ.Property(\"draw\", nothing)])]), [\"calc\"])",
      "image/svg+xml": [
       "<?xml version=\"1.0\" encoding=\"UTF-8\"?>\n",
       "<svg xmlns=\"http://www.w3.org/2000/svg\" xmlns:xlink=\"http://www.w3.org/1999/xlink\" width=\"100.423pt\" height=\"69.738pt\" viewBox=\"0 0 100.423 69.738\" version=\"1.1\">\n",
       "<defs>\n",
       "<clipPath id=\"clip-1579379542894864-1\">\n",
       "  <path d=\"M 66 14 L 100.421875 14 L 100.421875 40 L 66 40 Z M 66 14 \"/>\n",
       "</clipPath>\n",
       "<clipPath id=\"clip-1579379542894864-2\">\n",
       "  <path d=\"M 66 30 L 100.421875 30 L 100.421875 56 L 66 56 Z M 66 30 \"/>\n",
       "</clipPath>\n",
       "</defs>\n",
       "<g id=\"surface1\">\n",
       "<path style=\"fill:none;stroke-width:0.3985;stroke-linecap:butt;stroke-linejoin:miter;stroke:rgb(0%,0%,0%);stroke-opacity:1;stroke-miterlimit:10;\" d=\"M -17.434656 0.0018125 C -17.434656 1.376812 -18.551844 2.490094 -19.926844 2.490094 C -21.301844 2.490094 -22.415125 1.376812 -22.415125 0.0018125 C -22.415125 -1.377094 -21.301844 -2.490375 -19.926844 -2.490375 C -18.551844 -2.490375 -17.434656 -1.377094 -17.434656 0.0018125 Z M -17.434656 0.0018125 \" transform=\"matrix(1,0,0,-1,50.212,34.869)\"/>\n",
       "<path style=\"fill-rule:nonzero;fill:rgb(0%,0%,0%);fill-opacity:1;stroke-width:0.3985;stroke-linecap:butt;stroke-linejoin:miter;stroke:rgb(0%,0%,0%);stroke-opacity:1;stroke-miterlimit:10;\" d=\"M 22.416906 0.0018125 C 22.416906 1.376812 21.299719 2.490094 19.924719 2.490094 C 18.549719 2.490094 17.436437 1.376812 17.436437 0.0018125 C 17.436437 -1.377094 18.549719 -2.490375 19.924719 -2.490375 C 21.299719 -2.490375 22.416906 -1.377094 22.416906 0.0018125 Z M 22.416906 0.0018125 \" transform=\"matrix(1,0,0,-1,50.212,34.869)\"/>\n",
       "<path style=\"fill:none;stroke-width:0.3985;stroke-linecap:butt;stroke-linejoin:miter;stroke:rgb(0%,0%,0%);stroke-opacity:1;stroke-miterlimit:10;\" d=\"M -50.012781 14.943219 C -37.973719 14.943219 -32.688563 7.369 -22.262781 1.349469 \" transform=\"matrix(1,0,0,-1,50.212,34.869)\"/>\n",
       "<path style=\"fill:none;stroke-width:0.3985;stroke-linecap:butt;stroke-linejoin:miter;stroke:rgb(0%,0%,0%);stroke-opacity:1;stroke-miterlimit:10;\" d=\"M -50.012781 -14.9435 C -37.973719 -14.9435 -32.688563 -7.369281 -22.262781 -1.34975 \" transform=\"matrix(1,0,0,-1,50.212,34.869)\"/>\n",
       "<path style=\"fill:none;stroke-width:0.3985;stroke-linecap:butt;stroke-linejoin:miter;stroke:rgb(0%,0%,0%);stroke-opacity:1;stroke-miterlimit:10;\" d=\"M -17.235438 0.0018125 C -3.794031 0.0018125 3.791906 0.0018125 17.237219 0.0018125 \" transform=\"matrix(1,0,0,-1,50.212,34.869)\"/>\n",
       "<g clip-path=\"url(#clip-1579379542894864-1)\" clip-rule=\"nonzero\">\n",
       "<path style=\"fill:none;stroke-width:0.3985;stroke-linecap:butt;stroke-linejoin:miter;stroke:rgb(0%,0%,0%);stroke-opacity:1;stroke-miterlimit:10;\" d=\"M 22.260656 1.349469 C 32.690344 7.369 37.971594 14.943219 50.014562 14.943219 \" transform=\"matrix(1,0,0,-1,50.212,34.869)\"/>\n",
       "</g>\n",
       "<g clip-path=\"url(#clip-1579379542894864-2)\" clip-rule=\"nonzero\">\n",
       "<path style=\"fill:none;stroke-width:0.3985;stroke-linecap:butt;stroke-linejoin:miter;stroke:rgb(0%,0%,0%);stroke-opacity:1;stroke-miterlimit:10;\" d=\"M 22.260656 -1.34975 C 32.690344 -7.369281 37.971594 -14.9435 50.014562 -14.9435 \" transform=\"matrix(1,0,0,-1,50.212,34.869)\"/>\n",
       "</g>\n",
       "</g>\n",
       "</svg>\n",
       "\n"
      ]
     },
     "metadata": {},
     "execution_count": 17
    }
   ],
   "cell_type": "code",
   "source": [
    "X = Ob(FreeAbelianBicategoryRelations, :X)\n",
    "\n",
    "to_tikz(mplus(X) ⋅ mcopy(X))"
   ],
   "metadata": {},
   "execution_count": 17
  },
  {
   "outputs": [
    {
     "output_type": "execute_result",
     "data": {
      "text/plain": "Catlab.Graphics.TikZ.Document(Catlab.Graphics.TikZ.Picture(Catlab.Graphics.TikZ.Statement[Catlab.Graphics.TikZ.Node(\"root\", Catlab.Graphics.TikZ.Property[Catlab.Graphics.TikZ.Property(\"outer box\", nothing), Catlab.Graphics.TikZ.Property(\"minimum width\", \"14em\"), Catlab.Graphics.TikZ.Property(\"minimum height\", \"13em\")], Catlab.Graphics.TikZ.Coordinate(\"0\", \"0\"), \"\"), Catlab.Graphics.TikZ.Node(\"n3\", Catlab.Graphics.TikZ.Property[Catlab.Graphics.TikZ.Property(\"junction\", nothing), Catlab.Graphics.TikZ.Property(\"minimum size\", \"0.5em\")], Catlab.Graphics.TikZ.Coordinate(\"-4\", \"3\"), \"\"), Catlab.Graphics.TikZ.Node(\"n4\", Catlab.Graphics.TikZ.Property[Catlab.Graphics.TikZ.Property(\"junction\", nothing), Catlab.Graphics.TikZ.Property(\"minimum size\", \"0.5em\")], Catlab.Graphics.TikZ.Coordinate(\"-4\", \"-3\"), \"\"), Catlab.Graphics.TikZ.Node(\"n5\", Catlab.Graphics.TikZ.Property[Catlab.Graphics.TikZ.Property(\"variant junction\", nothing), Catlab.Graphics.TikZ.Property(\"minimum size\", \"0.5em\")], Catlab.Graphics.TikZ.Coordinate(\"4\", \"3\"), \"\"), Catlab.Graphics.TikZ.Node(\"n6\", Catlab.Graphics.TikZ.Property[Catlab.Graphics.TikZ.Property(\"variant junction\", nothing), Catlab.Graphics.TikZ.Property(\"minimum size\", \"0.5em\")], Catlab.Graphics.TikZ.Coordinate(\"4\", \"-3\"), \"\"), Catlab.Graphics.TikZ.Edge(Catlab.Graphics.TikZ.PathExpression[Catlab.Graphics.TikZ.NodeCoordinate(\"\\$(root.west)+(0em,1.5em)\\$\"), Catlab.Graphics.TikZ.PathOperation(\"to\", Catlab.Graphics.TikZ.Property[Catlab.Graphics.TikZ.Property(\"out\", \"0\"), Catlab.Graphics.TikZ.Property(\"in\", \"180\")]), Catlab.Graphics.TikZ.NodeCoordinate(\"n3.180\")], Catlab.Graphics.TikZ.Property[Catlab.Graphics.TikZ.Property(\"wire\", nothing)]), Catlab.Graphics.TikZ.Edge(Catlab.Graphics.TikZ.PathExpression[Catlab.Graphics.TikZ.NodeCoordinate(\"\\$(root.west)+(0em,-1.5em)\\$\"), Catlab.Graphics.TikZ.PathOperation(\"to\", Catlab.Graphics.TikZ.Property[Catlab.Graphics.TikZ.Property(\"out\", \"0\"), Catlab.Graphics.TikZ.Property(\"in\", \"180\")]), Catlab.Graphics.TikZ.NodeCoordinate(\"n4.180\")], Catlab.Graphics.TikZ.Property[Catlab.Graphics.TikZ.Property(\"wire\", nothing)]), Catlab.Graphics.TikZ.Edge(Catlab.Graphics.TikZ.PathExpression[Catlab.Graphics.TikZ.NodeCoordinate(\"n3.30\"), Catlab.Graphics.TikZ.PathOperation(\"to\", Catlab.Graphics.TikZ.Property[Catlab.Graphics.TikZ.Property(\"out\", \"30\"), Catlab.Graphics.TikZ.Property(\"in\", \"180\")]), Catlab.Graphics.TikZ.Coordinate(\"0\", \"4.5\"), Catlab.Graphics.TikZ.PathOperation(\"to\", Catlab.Graphics.TikZ.Property[Catlab.Graphics.TikZ.Property(\"out\", \"0\"), Catlab.Graphics.TikZ.Property(\"in\", \"150\")]), Catlab.Graphics.TikZ.NodeCoordinate(\"n5.150\")], Catlab.Graphics.TikZ.Property[Catlab.Graphics.TikZ.Property(\"wire\", nothing)]), Catlab.Graphics.TikZ.Edge(Catlab.Graphics.TikZ.PathExpression[Catlab.Graphics.TikZ.NodeCoordinate(\"n3.-30\"), Catlab.Graphics.TikZ.PathOperation(\"to\", Catlab.Graphics.TikZ.Property[Catlab.Graphics.TikZ.Property(\"out\", \"-30\"), Catlab.Graphics.TikZ.Property(\"in\", \"135\")]), Catlab.Graphics.TikZ.Coordinate(\"0\", \"0\"), Catlab.Graphics.TikZ.PathOperation(\"to\", Catlab.Graphics.TikZ.Property[Catlab.Graphics.TikZ.Property(\"out\", \"-45\"), Catlab.Graphics.TikZ.Property(\"in\", \"150\")]), Catlab.Graphics.TikZ.NodeCoordinate(\"n6.150\")], Catlab.Graphics.TikZ.Property[Catlab.Graphics.TikZ.Property(\"wire\", nothing)]), Catlab.Graphics.TikZ.Edge(Catlab.Graphics.TikZ.PathExpression[Catlab.Graphics.TikZ.NodeCoordinate(\"n4.30\"), Catlab.Graphics.TikZ.PathOperation(\"to\", Catlab.Graphics.TikZ.Property[Catlab.Graphics.TikZ.Property(\"out\", \"30\"), Catlab.Graphics.TikZ.Property(\"in\", \"-135\")]), Catlab.Graphics.TikZ.Coordinate(\"0\", \"0\"), Catlab.Graphics.TikZ.PathOperation(\"to\", Catlab.Graphics.TikZ.Property[Catlab.Graphics.TikZ.Property(\"out\", \"45\"), Catlab.Graphics.TikZ.Property(\"in\", \"-150\")]), Catlab.Graphics.TikZ.NodeCoordinate(\"n5.-150\")], Catlab.Graphics.TikZ.Property[Catlab.Graphics.TikZ.Property(\"wire\", nothing)]), Catlab.Graphics.TikZ.Edge(Catlab.Graphics.TikZ.PathExpression[Catlab.Graphics.TikZ.NodeCoordinate(\"n4.-30\"), Catlab.Graphics.TikZ.PathOperation(\"to\", Catlab.Graphics.TikZ.Property[Catlab.Graphics.TikZ.Property(\"out\", \"-30\"), Catlab.Graphics.TikZ.Property(\"in\", \"180\")]), Catlab.Graphics.TikZ.Coordinate(\"0\", \"-4.5\"), Catlab.Graphics.TikZ.PathOperation(\"to\", Catlab.Graphics.TikZ.Property[Catlab.Graphics.TikZ.Property(\"out\", \"0\"), Catlab.Graphics.TikZ.Property(\"in\", \"-150\")]), Catlab.Graphics.TikZ.NodeCoordinate(\"n6.-150\")], Catlab.Graphics.TikZ.Property[Catlab.Graphics.TikZ.Property(\"wire\", nothing)]), Catlab.Graphics.TikZ.Edge(Catlab.Graphics.TikZ.PathExpression[Catlab.Graphics.TikZ.NodeCoordinate(\"n5.0\"), Catlab.Graphics.TikZ.PathOperation(\"to\", Catlab.Graphics.TikZ.Property[Catlab.Graphics.TikZ.Property(\"out\", \"0\"), Catlab.Graphics.TikZ.Property(\"in\", \"180\")]), Catlab.Graphics.TikZ.NodeCoordinate(\"\\$(root.east)+(0em,1.5em)\\$\")], Catlab.Graphics.TikZ.Property[Catlab.Graphics.TikZ.Property(\"wire\", nothing)]), Catlab.Graphics.TikZ.Edge(Catlab.Graphics.TikZ.PathExpression[Catlab.Graphics.TikZ.NodeCoordinate(\"n6.0\"), Catlab.Graphics.TikZ.PathOperation(\"to\", Catlab.Graphics.TikZ.Property[Catlab.Graphics.TikZ.Property(\"out\", \"0\"), Catlab.Graphics.TikZ.Property(\"in\", \"180\")]), Catlab.Graphics.TikZ.NodeCoordinate(\"\\$(root.east)+(0em,-1.5em)\\$\")], Catlab.Graphics.TikZ.Property[Catlab.Graphics.TikZ.Property(\"wire\", nothing)])], Catlab.Graphics.TikZ.Property[Catlab.Graphics.TikZ.Property(\"x\", \"1em\"), Catlab.Graphics.TikZ.Property(\"y\", \"1em\"), Catlab.Graphics.TikZ.Property(\"outer box/.style\", Catlab.Graphics.TikZ.Property[Catlab.Graphics.TikZ.Property(\"draw\", \"none\")]), Catlab.Graphics.TikZ.Property(\"box/.style\", Catlab.Graphics.TikZ.Property[Catlab.Graphics.TikZ.Property(\"rectangle\", nothing), Catlab.Graphics.TikZ.Property(\"draw\", nothing), Catlab.Graphics.TikZ.Property(\"solid\", nothing), Catlab.Graphics.TikZ.Property(\"rounded corners\", nothing)]), Catlab.Graphics.TikZ.Property(\"circular box/.style\", Catlab.Graphics.TikZ.Property[Catlab.Graphics.TikZ.Property(\"circle\", nothing), Catlab.Graphics.TikZ.Property(\"draw\", nothing), Catlab.Graphics.TikZ.Property(\"solid\", nothing)]), Catlab.Graphics.TikZ.Property(\"junction/.style\", Catlab.Graphics.TikZ.Property[Catlab.Graphics.TikZ.Property(\"circle\", nothing), Catlab.Graphics.TikZ.Property(\"draw\", nothing), Catlab.Graphics.TikZ.Property(\"fill\", nothing), Catlab.Graphics.TikZ.Property(\"inner sep\", \"0\")]), Catlab.Graphics.TikZ.Property(\"variant junction/.style\", Catlab.Graphics.TikZ.Property[Catlab.Graphics.TikZ.Property(\"circle\", nothing), Catlab.Graphics.TikZ.Property(\"draw\", nothing), Catlab.Graphics.TikZ.Property(\"solid\", nothing), Catlab.Graphics.TikZ.Property(\"inner sep\", \"0\")]), Catlab.Graphics.TikZ.Property(\"invisible/.style\", Catlab.Graphics.TikZ.Property[Catlab.Graphics.TikZ.Property(\"draw\", \"none\"), Catlab.Graphics.TikZ.Property(\"inner sep\", \"0\")]), Catlab.Graphics.TikZ.Property(\"wire/.style\", Catlab.Graphics.TikZ.Property[Catlab.Graphics.TikZ.Property(\"draw\", nothing)])]), [\"calc\"])",
      "image/svg+xml": [
       "<?xml version=\"1.0\" encoding=\"UTF-8\"?>\n",
       "<svg xmlns=\"http://www.w3.org/2000/svg\" xmlns:xlink=\"http://www.w3.org/1999/xlink\" width=\"140.274pt\" height=\"129.514pt\" viewBox=\"0 0 140.274 129.514\" version=\"1.1\">\n",
       "<defs>\n",
       "<clipPath id=\"clip-1579379542894865-1\">\n",
       "  <path d=\"M 107 29 L 140.273438 29 L 140.273438 56 L 107 56 Z M 107 29 \"/>\n",
       "</clipPath>\n",
       "<clipPath id=\"clip-1579379542894865-2\">\n",
       "  <path d=\"M 107 74 L 140.273438 74 L 140.273438 101 L 107 101 Z M 107 74 \"/>\n",
       "</clipPath>\n",
       "</defs>\n",
       "<g id=\"surface1\">\n",
       "<path style=\"fill-rule:nonzero;fill:rgb(0%,0%,0%);fill-opacity:1;stroke-width:0.3985;stroke-linecap:butt;stroke-linejoin:miter;stroke:rgb(0%,0%,0%);stroke-opacity:1;stroke-miterlimit:10;\" d=\"M -37.359656 29.889812 C -37.359656 31.264812 -38.476844 32.378094 -39.851844 32.378094 C -41.226844 32.378094 -42.340125 31.264812 -42.340125 29.889812 C -42.340125 28.510906 -41.226844 27.397625 -39.851844 27.397625 C -38.476844 27.397625 -37.359656 28.510906 -37.359656 29.889812 Z M -37.359656 29.889812 \" transform=\"matrix(1,0,0,-1,70.137,64.757)\"/>\n",
       "<path style=\"fill-rule:nonzero;fill:rgb(0%,0%,0%);fill-opacity:1;stroke-width:0.3985;stroke-linecap:butt;stroke-linejoin:miter;stroke:rgb(0%,0%,0%);stroke-opacity:1;stroke-miterlimit:10;\" d=\"M -37.359656 -29.887531 C -37.359656 -28.512531 -38.476844 -27.39925 -39.851844 -27.39925 C -41.226844 -27.39925 -42.340125 -28.512531 -42.340125 -29.887531 C -42.340125 -31.262531 -41.226844 -32.379719 -39.851844 -32.379719 C -38.476844 -32.379719 -37.359656 -31.262531 -37.359656 -29.887531 Z M -37.359656 -29.887531 \" transform=\"matrix(1,0,0,-1,70.137,64.757)\"/>\n",
       "<path style=\"fill:none;stroke-width:0.3985;stroke-linecap:butt;stroke-linejoin:miter;stroke:rgb(0%,0%,0%);stroke-opacity:1;stroke-miterlimit:10;\" d=\"M 42.343469 29.889812 C 42.343469 31.264812 41.226281 32.378094 39.851281 32.378094 C 38.476281 32.378094 37.359094 31.264812 37.359094 29.889812 C 37.359094 28.510906 38.476281 27.397625 39.851281 27.397625 C 41.226281 27.397625 42.343469 28.510906 42.343469 29.889812 Z M 42.343469 29.889812 \" transform=\"matrix(1,0,0,-1,70.137,64.757)\"/>\n",
       "<path style=\"fill:none;stroke-width:0.3985;stroke-linecap:butt;stroke-linejoin:miter;stroke:rgb(0%,0%,0%);stroke-opacity:1;stroke-miterlimit:10;\" d=\"M 42.343469 -29.887531 C 42.343469 -28.512531 41.226281 -27.39925 39.851281 -27.39925 C 38.476281 -27.39925 37.359094 -28.512531 37.359094 -29.887531 C 37.359094 -31.262531 38.476281 -32.379719 39.851281 -32.379719 C 41.226281 -32.379719 42.343469 -31.262531 42.343469 -29.887531 Z M 42.343469 -29.887531 \" transform=\"matrix(1,0,0,-1,70.137,64.757)\"/>\n",
       "<path style=\"fill:none;stroke-width:0.3985;stroke-linecap:butt;stroke-linejoin:miter;stroke:rgb(0%,0%,0%);stroke-opacity:1;stroke-miterlimit:10;\" d=\"M -69.937781 14.9445 C -57.789344 14.9445 -54.691688 29.889812 -42.539344 29.889812 \" transform=\"matrix(1,0,0,-1,70.137,64.757)\"/>\n",
       "<path style=\"fill:none;stroke-width:0.3985;stroke-linecap:butt;stroke-linejoin:miter;stroke:rgb(0%,0%,0%);stroke-opacity:1;stroke-miterlimit:10;\" d=\"M -69.937781 -14.942219 C -57.789344 -14.942219 -54.691688 -29.887531 -42.539344 -29.887531 \" transform=\"matrix(1,0,0,-1,70.137,64.757)\"/>\n",
       "<path style=\"fill:none;stroke-width:0.3985;stroke-linecap:butt;stroke-linejoin:miter;stroke:rgb(0%,0%,0%);stroke-opacity:1;stroke-miterlimit:10;\" d=\"M -37.515906 31.237469 C -24.004188 39.03825 -15.601844 44.831219 -0.00028125 44.831219 C 15.601281 44.831219 24.003625 39.03825 37.515344 31.237469 \" transform=\"matrix(1,0,0,-1,70.137,64.757)\"/>\n",
       "<path style=\"fill:none;stroke-width:0.3985;stroke-linecap:butt;stroke-linejoin:miter;stroke:rgb(0%,0%,0%);stroke-opacity:1;stroke-miterlimit:10;\" d=\"M -37.515906 28.53825 C -21.554969 19.323406 -13.031531 13.030437 -0.00028125 -0.0008125 C 13.030969 -13.032063 21.554406 -19.325031 37.515344 -28.539875 \" transform=\"matrix(1,0,0,-1,70.137,64.757)\"/>\n",
       "<path style=\"fill:none;stroke-width:0.3985;stroke-linecap:butt;stroke-linejoin:miter;stroke:rgb(0%,0%,0%);stroke-opacity:1;stroke-miterlimit:10;\" d=\"M -37.515906 -28.539875 C -21.554969 -19.325031 -13.031531 -13.032063 -0.00028125 -0.0008125 C 13.030969 13.030437 21.554406 19.323406 37.515344 28.53825 \" transform=\"matrix(1,0,0,-1,70.137,64.757)\"/>\n",
       "<path style=\"fill:none;stroke-width:0.3985;stroke-linecap:butt;stroke-linejoin:miter;stroke:rgb(0%,0%,0%);stroke-opacity:1;stroke-miterlimit:10;\" d=\"M -37.515906 -31.239094 C -24.004188 -39.035969 -15.601844 -44.832844 -0.00028125 -44.832844 C 15.601281 -44.832844 24.003625 -39.035969 37.515344 -31.239094 \" transform=\"matrix(1,0,0,-1,70.137,64.757)\"/>\n",
       "<g clip-path=\"url(#clip-1579379542894865-1)\" clip-rule=\"nonzero\">\n",
       "<path style=\"fill:none;stroke-width:0.3985;stroke-linecap:butt;stroke-linejoin:miter;stroke:rgb(0%,0%,0%);stroke-opacity:1;stroke-miterlimit:10;\" d=\"M 42.542687 29.889812 C 54.691125 29.889812 57.788781 14.9445 69.937219 14.9445 \" transform=\"matrix(1,0,0,-1,70.137,64.757)\"/>\n",
       "</g>\n",
       "<g clip-path=\"url(#clip-1579379542894865-2)\" clip-rule=\"nonzero\">\n",
       "<path style=\"fill:none;stroke-width:0.3985;stroke-linecap:butt;stroke-linejoin:miter;stroke:rgb(0%,0%,0%);stroke-opacity:1;stroke-miterlimit:10;\" d=\"M 42.542687 -29.887531 C 54.691125 -29.887531 57.788781 -14.942219 69.937219 -14.942219 \" transform=\"matrix(1,0,0,-1,70.137,64.757)\"/>\n",
       "</g>\n",
       "</g>\n",
       "</svg>\n",
       "\n"
      ]
     },
     "metadata": {},
     "execution_count": 18
    }
   ],
   "cell_type": "code",
   "source": [
    "to_tikz((mcopy(X)⊗mcopy(X)) ⋅ (id(X)⊗braid(X,X)⊗id(X)) ⋅ (mplus(X)⊗mplus(X)))"
   ],
   "metadata": {},
   "execution_count": 18
  },
  {
   "outputs": [],
   "cell_type": "markdown",
   "source": [
    "## Custom styles"
   ],
   "metadata": {}
  },
  {
   "outputs": [],
   "cell_type": "markdown",
   "source": [
    "The visual appearance of wiring diagrams can be customized using the builtin\n",
    "options or by redefining the TikZ styles for the boxes or wires."
   ],
   "metadata": {}
  },
  {
   "outputs": [
    {
     "output_type": "execute_result",
     "data": {
      "text/plain": "Catlab.Graphics.TikZ.Document(Catlab.Graphics.TikZ.Picture(Catlab.Graphics.TikZ.Statement[Catlab.Graphics.TikZ.Node(\"root\", Catlab.Graphics.TikZ.Property[Catlab.Graphics.TikZ.Property(\"outer box\", nothing), Catlab.Graphics.TikZ.Property(\"minimum width\", \"10em\"), Catlab.Graphics.TikZ.Property(\"minimum height\", \"4em\")], Catlab.Graphics.TikZ.Coordinate(\"0\", \"0\"), \"\"), Catlab.Graphics.TikZ.Node(\"n3\", Catlab.Graphics.TikZ.Property[Catlab.Graphics.TikZ.Property(\"box\", nothing), Catlab.Graphics.TikZ.Property(\"minimum size\", \"2em\")], Catlab.Graphics.TikZ.Coordinate(\"-2\", \"0\"), \"\\$f\\$\"), Catlab.Graphics.TikZ.Node(\"n4\", Catlab.Graphics.TikZ.Property[Catlab.Graphics.TikZ.Property(\"box\", nothing), Catlab.Graphics.TikZ.Property(\"minimum size\", \"2em\")], Catlab.Graphics.TikZ.Coordinate(\"2\", \"0\"), \"\\$g\\$\"), Catlab.Graphics.TikZ.Edge(Catlab.Graphics.TikZ.PathExpression[Catlab.Graphics.TikZ.NodeCoordinate(\"root.west\"), Catlab.Graphics.TikZ.PathOperation(\"to\", Catlab.Graphics.TikZ.Property[Catlab.Graphics.TikZ.Property(\"out\", \"0\"), Catlab.Graphics.TikZ.Property(\"in\", \"-180\")]), Catlab.Graphics.TikZ.NodeCoordinate(\"n3.west\")], Catlab.Graphics.TikZ.Property[Catlab.Graphics.TikZ.Property(\"wire\", nothing)]), Catlab.Graphics.TikZ.Edge(Catlab.Graphics.TikZ.PathExpression[Catlab.Graphics.TikZ.NodeCoordinate(\"n3.east\"), Catlab.Graphics.TikZ.PathOperation(\"to\", Catlab.Graphics.TikZ.Property[Catlab.Graphics.TikZ.Property(\"out\", \"0\"), Catlab.Graphics.TikZ.Property(\"in\", \"-180\")]), Catlab.Graphics.TikZ.NodeCoordinate(\"n4.west\")], Catlab.Graphics.TikZ.Property[Catlab.Graphics.TikZ.Property(\"wire\", nothing)]), Catlab.Graphics.TikZ.Edge(Catlab.Graphics.TikZ.PathExpression[Catlab.Graphics.TikZ.NodeCoordinate(\"n4.east\"), Catlab.Graphics.TikZ.PathOperation(\"to\", Catlab.Graphics.TikZ.Property[Catlab.Graphics.TikZ.Property(\"out\", \"0\"), Catlab.Graphics.TikZ.Property(\"in\", \"180\")]), Catlab.Graphics.TikZ.NodeCoordinate(\"root.east\")], Catlab.Graphics.TikZ.Property[Catlab.Graphics.TikZ.Property(\"wire\", nothing)])], Catlab.Graphics.TikZ.Property[Catlab.Graphics.TikZ.Property(\"x\", \"1em\"), Catlab.Graphics.TikZ.Property(\"y\", \"1em\"), Catlab.Graphics.TikZ.Property(\"outer box/.style\", Catlab.Graphics.TikZ.Property[Catlab.Graphics.TikZ.Property(\"draw\", \"none\")]), Catlab.Graphics.TikZ.Property(\"box/.style\", Catlab.Graphics.TikZ.Property[Catlab.Graphics.TikZ.Property(\"draw\", nothing), Catlab.Graphics.TikZ.Property(\"fill\", \"{rgb,255: red,230; green,230; blue,250}\")]), Catlab.Graphics.TikZ.Property(\"circular box/.style\", Catlab.Graphics.TikZ.Property[Catlab.Graphics.TikZ.Property(\"circle\", nothing), Catlab.Graphics.TikZ.Property(\"draw\", nothing), Catlab.Graphics.TikZ.Property(\"solid\", nothing)]), Catlab.Graphics.TikZ.Property(\"junction/.style\", Catlab.Graphics.TikZ.Property[Catlab.Graphics.TikZ.Property(\"circle\", nothing), Catlab.Graphics.TikZ.Property(\"draw\", nothing), Catlab.Graphics.TikZ.Property(\"fill\", nothing), Catlab.Graphics.TikZ.Property(\"inner sep\", \"0\")]), Catlab.Graphics.TikZ.Property(\"variant junction/.style\", Catlab.Graphics.TikZ.Property[Catlab.Graphics.TikZ.Property(\"circle\", nothing), Catlab.Graphics.TikZ.Property(\"draw\", nothing), Catlab.Graphics.TikZ.Property(\"solid\", nothing), Catlab.Graphics.TikZ.Property(\"inner sep\", \"0\")]), Catlab.Graphics.TikZ.Property(\"invisible/.style\", Catlab.Graphics.TikZ.Property[Catlab.Graphics.TikZ.Property(\"draw\", \"none\"), Catlab.Graphics.TikZ.Property(\"inner sep\", \"0\")]), Catlab.Graphics.TikZ.Property(\"wire/.style\", Catlab.Graphics.TikZ.Property[Catlab.Graphics.TikZ.Property(\"draw\", nothing)])]), [\"calc\"])",
      "image/svg+xml": [
       "<?xml version=\"1.0\" encoding=\"UTF-8\"?>\n",
       "<svg xmlns=\"http://www.w3.org/2000/svg\" xmlns:xlink=\"http://www.w3.org/1999/xlink\" width=\"100.423pt\" height=\"39.851pt\" viewBox=\"0 0 100.423 39.851\" version=\"1.1\">\n",
       "<defs>\n",
       "<g>\n",
       "<symbol overflow=\"visible\" id=\"glyph-1579379542894866-0-0\">\n",
       "<path style=\"stroke:none;\" d=\"\"/>\n",
       "</symbol>\n",
       "<symbol overflow=\"visible\" id=\"glyph-1579379542894866-0-1\">\n",
       "<path style=\"stroke:none;\" d=\"M 3.65625 -3.984375 L 4.515625 -3.984375 C 4.71875 -3.984375 4.8125 -3.984375 4.8125 -4.1875 C 4.8125 -4.296875 4.71875 -4.296875 4.546875 -4.296875 L 3.71875 -4.296875 L 3.921875 -5.4375 C 3.96875 -5.640625 4.109375 -6.34375 4.171875 -6.46875 C 4.25 -6.65625 4.421875 -6.8125 4.640625 -6.8125 C 4.671875 -6.8125 4.9375 -6.8125 5.125 -6.625 C 4.6875 -6.59375 4.578125 -6.234375 4.578125 -6.09375 C 4.578125 -5.859375 4.765625 -5.734375 4.953125 -5.734375 C 5.21875 -5.734375 5.5 -5.96875 5.5 -6.34375 C 5.5 -6.796875 5.046875 -7.03125 4.640625 -7.03125 C 4.296875 -7.03125 3.671875 -6.84375 3.375 -5.859375 C 3.3125 -5.65625 3.28125 -5.546875 3.046875 -4.296875 L 2.359375 -4.296875 C 2.15625 -4.296875 2.046875 -4.296875 2.046875 -4.109375 C 2.046875 -3.984375 2.140625 -3.984375 2.328125 -3.984375 L 2.984375 -3.984375 L 2.25 -0.046875 C 2.0625 0.921875 1.890625 1.828125 1.375 1.828125 C 1.328125 1.828125 1.09375 1.828125 0.890625 1.640625 C 1.359375 1.609375 1.453125 1.25 1.453125 1.109375 C 1.453125 0.875 1.265625 0.75 1.078125 0.75 C 0.8125 0.75 0.53125 0.984375 0.53125 1.359375 C 0.53125 1.796875 0.96875 2.046875 1.375 2.046875 C 1.921875 2.046875 2.328125 1.453125 2.5 1.078125 C 2.828125 0.453125 3.046875 -0.75 3.0625 -0.828125 Z M 3.65625 -3.984375 \"/>\n",
       "</symbol>\n",
       "<symbol overflow=\"visible\" id=\"glyph-1579379542894866-0-2\">\n",
       "<path style=\"stroke:none;\" d=\"M 4.6875 -3.765625 C 4.703125 -3.8125 4.71875 -3.875 4.71875 -3.9375 C 4.71875 -4.109375 4.609375 -4.203125 4.4375 -4.203125 C 4.34375 -4.203125 4.0625 -4.140625 4.03125 -3.78125 C 3.84375 -4.140625 3.5 -4.40625 3.09375 -4.40625 C 1.96875 -4.40625 0.734375 -3.015625 0.734375 -1.578125 C 0.734375 -0.59375 1.328125 0 2.046875 0 C 2.640625 0 3.109375 -0.46875 3.203125 -0.578125 L 3.21875 -0.5625 C 3.015625 0.3125 2.890625 0.734375 2.890625 0.75 C 2.84375 0.84375 2.515625 1.828125 1.453125 1.828125 C 1.265625 1.828125 0.9375 1.8125 0.65625 1.71875 C 0.953125 1.640625 1.0625 1.375 1.0625 1.203125 C 1.0625 1.046875 0.953125 0.859375 0.6875 0.859375 C 0.46875 0.859375 0.15625 1.03125 0.15625 1.4375 C 0.15625 1.84375 0.515625 2.046875 1.46875 2.046875 C 2.71875 2.046875 3.4375 1.265625 3.59375 0.671875 Z M 3.40625 -1.28125 C 3.34375 -1.015625 3.109375 -0.765625 2.890625 -0.578125 C 2.6875 -0.40625 2.375 -0.21875 2.078125 -0.21875 C 1.578125 -0.21875 1.4375 -0.734375 1.4375 -1.140625 C 1.4375 -1.609375 1.71875 -2.796875 2 -3.296875 C 2.265625 -3.78125 2.6875 -4.1875 3.109375 -4.1875 C 3.765625 -4.1875 3.90625 -3.375 3.90625 -3.328125 C 3.90625 -3.28125 3.890625 -3.21875 3.875 -3.1875 Z M 3.40625 -1.28125 \"/>\n",
       "</symbol>\n",
       "</g>\n",
       "<clipPath id=\"clip-1579379542894866-1\">\n",
       "  <path d=\"M 74 14 L 100.421875 14 L 100.421875 26 L 74 26 Z M 74 14 \"/>\n",
       "</clipPath>\n",
       "</defs>\n",
       "<g id=\"surface1\">\n",
       "<path style=\"fill-rule:nonzero;fill:rgb(90.194702%,90.194702%,98.039246%);fill-opacity:1;stroke-width:0.3985;stroke-linecap:butt;stroke-linejoin:miter;stroke:rgb(0%,0%,0%);stroke-opacity:1;stroke-miterlimit:10;\" d=\"M -29.887781 -9.964625 L -9.962 -9.964625 L -9.962 9.961156 L -29.887781 9.961156 Z M -29.887781 -9.964625 \" transform=\"matrix(1,0,0,-1,50.212,19.926)\"/>\n",
       "<g style=\"fill:rgb(0%,0%,0%);fill-opacity:1;\">\n",
       "  <use xlink:href=\"#glyph-1579379542894866-0-1\" x=\"27.311\" y=\"22.416\"/>\n",
       "</g>\n",
       "<path style=\"fill-rule:nonzero;fill:rgb(90.194702%,90.194702%,98.039246%);fill-opacity:1;stroke-width:0.3985;stroke-linecap:butt;stroke-linejoin:miter;stroke:rgb(0%,0%,0%);stroke-opacity:1;stroke-miterlimit:10;\" d=\"M 9.963781 -9.964625 L 29.889562 -9.964625 L 29.889562 9.961156 L 9.963781 9.961156 Z M 9.963781 -9.964625 \" transform=\"matrix(1,0,0,-1,50.212,19.926)\"/>\n",
       "<g style=\"fill:rgb(0%,0%,0%);fill-opacity:1;\">\n",
       "  <use xlink:href=\"#glyph-1579379542894866-0-2\" x=\"67.582\" y=\"21.102\"/>\n",
       "</g>\n",
       "<path style=\"fill:none;stroke-width:0.3985;stroke-linecap:butt;stroke-linejoin:miter;stroke:rgb(0%,0%,0%);stroke-opacity:1;stroke-miterlimit:10;\" d=\"M -50.012781 0.00021875 C -42.24325 0.00021875 -37.856531 0.00021875 -30.087 0.00021875 \" transform=\"matrix(1,0,0,-1,50.212,19.926)\"/>\n",
       "<path style=\"fill:none;stroke-width:0.3985;stroke-linecap:butt;stroke-linejoin:miter;stroke:rgb(0%,0%,0%);stroke-opacity:1;stroke-miterlimit:10;\" d=\"M -9.762781 0.00021875 C -2.1495 0.00021875 2.147375 0.00021875 9.764562 0.00021875 \" transform=\"matrix(1,0,0,-1,50.212,19.926)\"/>\n",
       "<g clip-path=\"url(#clip-1579379542894866-1)\" clip-rule=\"nonzero\">\n",
       "<path style=\"fill:none;stroke-width:0.3985;stroke-linecap:butt;stroke-linejoin:miter;stroke:rgb(0%,0%,0%);stroke-opacity:1;stroke-miterlimit:10;\" d=\"M 30.088781 0.00021875 C 37.858312 0.00021875 42.241125 0.00021875 50.014562 0.00021875 \" transform=\"matrix(1,0,0,-1,50.212,19.926)\"/>\n",
       "</g>\n",
       "</g>\n",
       "</svg>\n",
       "\n"
      ]
     },
     "metadata": {},
     "execution_count": 19
    }
   ],
   "cell_type": "code",
   "source": [
    "A, B, = Ob(FreeSymmetricMonoidalCategory, :A, :B)\n",
    "f, g = Hom(:f, A, B), Hom(:g, B, A)\n",
    "\n",
    "pic = to_tikz(f⋅g, styles=Dict(\n",
    "  \"box\" => [\"draw\", \"fill\"=>\"{rgb,255: red,230; green,230; blue,250}\"],\n",
    "))"
   ],
   "metadata": {},
   "execution_count": 19
  },
  {
   "outputs": [
    {
     "output_type": "execute_result",
     "data": {
      "text/plain": "Catlab.Graphics.TikZ.Document(Catlab.Graphics.TikZ.Picture(Catlab.Graphics.TikZ.Statement[Catlab.Graphics.TikZ.Node(\"root\", Catlab.Graphics.TikZ.Property[Catlab.Graphics.TikZ.Property(\"outer box\", nothing), Catlab.Graphics.TikZ.Property(\"minimum width\", \"10em\"), Catlab.Graphics.TikZ.Property(\"minimum height\", \"7em\")], Catlab.Graphics.TikZ.Coordinate(\"0\", \"0\"), \"\"), Catlab.Graphics.TikZ.Node(\"n3\", Catlab.Graphics.TikZ.Property[Catlab.Graphics.TikZ.Property(\"variant junction\", nothing), Catlab.Graphics.TikZ.Property(\"minimum size\", \"0.5em\")], Catlab.Graphics.TikZ.Coordinate(\"-2\", \"0\"), \"\"), Catlab.Graphics.TikZ.Node(\"n4\", Catlab.Graphics.TikZ.Property[Catlab.Graphics.TikZ.Property(\"junction\", nothing), Catlab.Graphics.TikZ.Property(\"minimum size\", \"0.5em\")], Catlab.Graphics.TikZ.Coordinate(\"2\", \"0\"), \"\"), Catlab.Graphics.TikZ.Edge(Catlab.Graphics.TikZ.PathExpression[Catlab.Graphics.TikZ.NodeCoordinate(\"\\$(root.west)+(0em,1.5em)\\$\"), Catlab.Graphics.TikZ.PathOperation(\"to\", Catlab.Graphics.TikZ.Property[Catlab.Graphics.TikZ.Property(\"out\", \"0\"), Catlab.Graphics.TikZ.Property(\"in\", \"150\")]), Catlab.Graphics.TikZ.NodeCoordinate(\"n3.150\")], Catlab.Graphics.TikZ.Property[Catlab.Graphics.TikZ.Property(\"wire\", nothing)]), Catlab.Graphics.TikZ.Edge(Catlab.Graphics.TikZ.PathExpression[Catlab.Graphics.TikZ.NodeCoordinate(\"\\$(root.west)+(0em,-1.5em)\\$\"), Catlab.Graphics.TikZ.PathOperation(\"to\", Catlab.Graphics.TikZ.Property[Catlab.Graphics.TikZ.Property(\"out\", \"0\"), Catlab.Graphics.TikZ.Property(\"in\", \"-150\")]), Catlab.Graphics.TikZ.NodeCoordinate(\"n3.-150\")], Catlab.Graphics.TikZ.Property[Catlab.Graphics.TikZ.Property(\"wire\", nothing)]), Catlab.Graphics.TikZ.Edge(Catlab.Graphics.TikZ.PathExpression[Catlab.Graphics.TikZ.NodeCoordinate(\"n3.0\"), Catlab.Graphics.TikZ.PathOperation(\"to\", Catlab.Graphics.TikZ.Property[Catlab.Graphics.TikZ.Property(\"out\", \"0\"), Catlab.Graphics.TikZ.Property(\"in\", \"180\")]), Catlab.Graphics.TikZ.NodeCoordinate(\"n4.180\")], Catlab.Graphics.TikZ.Property[Catlab.Graphics.TikZ.Property(\"wire\", nothing)]), Catlab.Graphics.TikZ.Edge(Catlab.Graphics.TikZ.PathExpression[Catlab.Graphics.TikZ.NodeCoordinate(\"n4.30\"), Catlab.Graphics.TikZ.PathOperation(\"to\", Catlab.Graphics.TikZ.Property[Catlab.Graphics.TikZ.Property(\"out\", \"30\"), Catlab.Graphics.TikZ.Property(\"in\", \"180\")]), Catlab.Graphics.TikZ.NodeCoordinate(\"\\$(root.east)+(0em,1.5em)\\$\")], Catlab.Graphics.TikZ.Property[Catlab.Graphics.TikZ.Property(\"wire\", nothing)]), Catlab.Graphics.TikZ.Edge(Catlab.Graphics.TikZ.PathExpression[Catlab.Graphics.TikZ.NodeCoordinate(\"n4.-30\"), Catlab.Graphics.TikZ.PathOperation(\"to\", Catlab.Graphics.TikZ.Property[Catlab.Graphics.TikZ.Property(\"out\", \"-30\"), Catlab.Graphics.TikZ.Property(\"in\", \"180\")]), Catlab.Graphics.TikZ.NodeCoordinate(\"\\$(root.east)+(0em,-1.5em)\\$\")], Catlab.Graphics.TikZ.Property[Catlab.Graphics.TikZ.Property(\"wire\", nothing)])], Catlab.Graphics.TikZ.Property[Catlab.Graphics.TikZ.Property(\"x\", \"1em\"), Catlab.Graphics.TikZ.Property(\"y\", \"1em\"), Catlab.Graphics.TikZ.Property(\"outer box/.style\", Catlab.Graphics.TikZ.Property[Catlab.Graphics.TikZ.Property(\"draw\", \"none\")]), Catlab.Graphics.TikZ.Property(\"box/.style\", Catlab.Graphics.TikZ.Property[Catlab.Graphics.TikZ.Property(\"rectangle\", nothing), Catlab.Graphics.TikZ.Property(\"draw\", nothing), Catlab.Graphics.TikZ.Property(\"solid\", nothing), Catlab.Graphics.TikZ.Property(\"rounded corners\", nothing)]), Catlab.Graphics.TikZ.Property(\"circular box/.style\", Catlab.Graphics.TikZ.Property[Catlab.Graphics.TikZ.Property(\"circle\", nothing), Catlab.Graphics.TikZ.Property(\"draw\", nothing), Catlab.Graphics.TikZ.Property(\"solid\", nothing)]), Catlab.Graphics.TikZ.Property(\"junction/.style\", Catlab.Graphics.TikZ.Property[Catlab.Graphics.TikZ.Property(\"circle\", nothing), Catlab.Graphics.TikZ.Property(\"draw\", nothing), Catlab.Graphics.TikZ.Property(\"fill\", \"red\"), Catlab.Graphics.TikZ.Property(\"inner sep\", \"0\")]), Catlab.Graphics.TikZ.Property(\"variant junction/.style\", Catlab.Graphics.TikZ.Property[Catlab.Graphics.TikZ.Property(\"circle\", nothing), Catlab.Graphics.TikZ.Property(\"draw\", nothing), Catlab.Graphics.TikZ.Property(\"fill\", \"blue\"), Catlab.Graphics.TikZ.Property(\"inner sep\", \"0\")]), Catlab.Graphics.TikZ.Property(\"invisible/.style\", Catlab.Graphics.TikZ.Property[Catlab.Graphics.TikZ.Property(\"draw\", \"none\"), Catlab.Graphics.TikZ.Property(\"inner sep\", \"0\")]), Catlab.Graphics.TikZ.Property(\"wire/.style\", Catlab.Graphics.TikZ.Property[Catlab.Graphics.TikZ.Property(\"draw\", nothing)])]), [\"calc\"])",
      "image/svg+xml": [
       "<?xml version=\"1.0\" encoding=\"UTF-8\"?>\n",
       "<svg xmlns=\"http://www.w3.org/2000/svg\" xmlns:xlink=\"http://www.w3.org/1999/xlink\" width=\"100.423pt\" height=\"69.738pt\" viewBox=\"0 0 100.423 69.738\" version=\"1.1\">\n",
       "<defs>\n",
       "<clipPath id=\"clip-1579379542894867-1\">\n",
       "  <path d=\"M 66 14 L 100.421875 14 L 100.421875 40 L 66 40 Z M 66 14 \"/>\n",
       "</clipPath>\n",
       "<clipPath id=\"clip-1579379542894867-2\">\n",
       "  <path d=\"M 66 30 L 100.421875 30 L 100.421875 56 L 66 56 Z M 66 30 \"/>\n",
       "</clipPath>\n",
       "</defs>\n",
       "<g id=\"surface1\">\n",
       "<path style=\"fill-rule:nonzero;fill:rgb(0%,0%,100%);fill-opacity:1;stroke-width:0.3985;stroke-linecap:butt;stroke-linejoin:miter;stroke:rgb(0%,0%,0%);stroke-opacity:1;stroke-miterlimit:10;\" d=\"M -17.434656 0.0018125 C -17.434656 1.376812 -18.551844 2.490094 -19.926844 2.490094 C -21.301844 2.490094 -22.415125 1.376812 -22.415125 0.0018125 C -22.415125 -1.377094 -21.301844 -2.490375 -19.926844 -2.490375 C -18.551844 -2.490375 -17.434656 -1.377094 -17.434656 0.0018125 Z M -17.434656 0.0018125 \" transform=\"matrix(1,0,0,-1,50.212,34.869)\"/>\n",
       "<path style=\"fill-rule:nonzero;fill:rgb(100%,0%,0%);fill-opacity:1;stroke-width:0.3985;stroke-linecap:butt;stroke-linejoin:miter;stroke:rgb(0%,0%,0%);stroke-opacity:1;stroke-miterlimit:10;\" d=\"M 22.416906 0.0018125 C 22.416906 1.376812 21.299719 2.490094 19.924719 2.490094 C 18.549719 2.490094 17.436437 1.376812 17.436437 0.0018125 C 17.436437 -1.377094 18.549719 -2.490375 19.924719 -2.490375 C 21.299719 -2.490375 22.416906 -1.377094 22.416906 0.0018125 Z M 22.416906 0.0018125 \" transform=\"matrix(1,0,0,-1,50.212,34.869)\"/>\n",
       "<path style=\"fill:none;stroke-width:0.3985;stroke-linecap:butt;stroke-linejoin:miter;stroke:rgb(0%,0%,0%);stroke-opacity:1;stroke-miterlimit:10;\" d=\"M -50.012781 14.943219 C -37.973719 14.943219 -32.688563 7.369 -22.262781 1.349469 \" transform=\"matrix(1,0,0,-1,50.212,34.869)\"/>\n",
       "<path style=\"fill:none;stroke-width:0.3985;stroke-linecap:butt;stroke-linejoin:miter;stroke:rgb(0%,0%,0%);stroke-opacity:1;stroke-miterlimit:10;\" d=\"M -50.012781 -14.9435 C -37.973719 -14.9435 -32.688563 -7.369281 -22.262781 -1.34975 \" transform=\"matrix(1,0,0,-1,50.212,34.869)\"/>\n",
       "<path style=\"fill:none;stroke-width:0.3985;stroke-linecap:butt;stroke-linejoin:miter;stroke:rgb(0%,0%,0%);stroke-opacity:1;stroke-miterlimit:10;\" d=\"M -17.235438 0.0018125 C -3.794031 0.0018125 3.791906 0.0018125 17.237219 0.0018125 \" transform=\"matrix(1,0,0,-1,50.212,34.869)\"/>\n",
       "<g clip-path=\"url(#clip-1579379542894867-1)\" clip-rule=\"nonzero\">\n",
       "<path style=\"fill:none;stroke-width:0.3985;stroke-linecap:butt;stroke-linejoin:miter;stroke:rgb(0%,0%,0%);stroke-opacity:1;stroke-miterlimit:10;\" d=\"M 22.260656 1.349469 C 32.690344 7.369 37.971594 14.943219 50.014562 14.943219 \" transform=\"matrix(1,0,0,-1,50.212,34.869)\"/>\n",
       "</g>\n",
       "<g clip-path=\"url(#clip-1579379542894867-2)\" clip-rule=\"nonzero\">\n",
       "<path style=\"fill:none;stroke-width:0.3985;stroke-linecap:butt;stroke-linejoin:miter;stroke:rgb(0%,0%,0%);stroke-opacity:1;stroke-miterlimit:10;\" d=\"M 22.260656 -1.34975 C 32.690344 -7.369281 37.971594 -14.9435 50.014562 -14.9435 \" transform=\"matrix(1,0,0,-1,50.212,34.869)\"/>\n",
       "</g>\n",
       "</g>\n",
       "</svg>\n",
       "\n"
      ]
     },
     "metadata": {},
     "execution_count": 20
    }
   ],
   "cell_type": "code",
   "source": [
    "X = Ob(FreeAbelianBicategoryRelations, :X)\n",
    "\n",
    "to_tikz(mplus(X) ⋅ mcopy(X), styles=Dict(\n",
    "  \"junction\" => [\"circle\", \"draw\", \"fill\"=>\"red\", \"inner sep\"=>\"0\"],\n",
    "  \"variant junction\" => [\"circle\", \"draw\", \"fill\"=>\"blue\", \"inner sep\"=>\"0\"],\n",
    "))"
   ],
   "metadata": {},
   "execution_count": 20
  },
  {
   "outputs": [],
   "cell_type": "markdown",
   "source": [
    "## Output formats"
   ],
   "metadata": {}
  },
  {
   "outputs": [],
   "cell_type": "markdown",
   "source": [
    "The function `to_tikz` returns an object of type `TikZ.Document`, representing\n",
    "a TikZ picture and its TikZ library dependencies as an abstract syntax tree.\n",
    "When displayed interactively, this object is compiled by LaTeX to PDF and then\n",
    "converted to SVG."
   ],
   "metadata": {}
  },
  {
   "outputs": [],
   "cell_type": "markdown",
   "source": [
    "To generate the LaTeX source code, use the builtin pretty-printer. This\n",
    "feature does not require LaTeX or TikzPictures.jl to be installed."
   ],
   "metadata": {}
  },
  {
   "outputs": [
    {
     "name": "stdout",
     "output_type": "stream",
     "text": [
      "\\usetikzlibrary{calc}\n",
      "\\begin{tikzpicture}[x=1em,y=1em,outer box/.style={draw=none},box/.style={rectangle,draw,solid,rounded corners},circular box/.style={circle,draw,solid},junction/.style={circle,draw,fill,inner sep=0},variant junction/.style={circle,draw,solid,inner sep=0},invisible/.style={draw=none,inner sep=0},wire/.style={draw}]\n",
      "  \\node[outer box,minimum width=10em,minimum height=4em] (root) at (0,0) {};\n",
      "  \\node[box,minimum size=2em] (n3) at (-2,0) {$f$};\n",
      "  \\node[box,minimum size=2em] (n4) at (2,0) {$g$};\n",
      "  \\path[wire] (root.west) to[out=0,in=-180] (n3.west);\n",
      "  \\path[wire] (n3.east) to[out=0,in=-180] (n4.west);\n",
      "  \\path[wire] (n4.east) to[out=0,in=180] (root.east);\n",
      "\\end{tikzpicture}"
     ]
    }
   ],
   "cell_type": "code",
   "source": [
    "import Catlab.Graphics: TikZ\n",
    "\n",
    "doc = to_tikz(f⋅g)\n",
    "TikZ.pprint(doc)"
   ],
   "metadata": {},
   "execution_count": 21
  }
 ],
 "nbformat_minor": 3,
 "metadata": {
  "language_info": {
   "file_extension": ".jl",
   "mimetype": "application/julia",
   "name": "julia",
   "version": "1.3.1"
  },
  "kernelspec": {
   "name": "julia-1.3",
   "display_name": "Julia 1.3.1",
   "language": "julia"
  }
 },
 "nbformat": 4
}
