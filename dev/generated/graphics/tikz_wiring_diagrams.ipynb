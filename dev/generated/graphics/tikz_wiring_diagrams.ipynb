{
 "cells": [
  {
   "outputs": [],
   "cell_type": "markdown",
   "source": [
    "# Wiring diagrams in TikZ\n",
    "\n",
    "\n",
    "Catlab can draw morphism expressions as TikZ pictures. To use this feature,\n",
    "you must import the [TikzPictures.jl](https://github.com/sisl/TikzPictures.jl)\n",
    "package before loading `Catlab.Graphics`."
   ],
   "metadata": {}
  },
  {
   "outputs": [],
   "cell_type": "code",
   "source": [
    "import TikzPictures\n",
    "using Catlab.Graphics"
   ],
   "metadata": {},
   "execution_count": 1
  },
  {
   "outputs": [],
   "cell_type": "markdown",
   "source": [
    "### Symmetric monoidal category"
   ],
   "metadata": {}
  },
  {
   "outputs": [],
   "cell_type": "code",
   "source": [
    "using Catlab.Doctrines\n",
    "\n",
    "A, B = Ob(FreeSymmetricMonoidalCategory, :A, :B)\n",
    "f = Hom(:f, A, B)\n",
    "g = Hom(:g, B, A)\n",
    "h = Hom(:h, otimes(A,B), otimes(A,B));"
   ],
   "metadata": {},
   "execution_count": 2
  },
  {
   "outputs": [
    {
     "output_type": "execute_result",
     "data": {
      "text/plain": "Catlab.Graphics.TikZ.Picture(Catlab.Graphics.TikZ.Statement[Catlab.Graphics.TikZ.Node(\"n\", Catlab.Graphics.TikZ.Property[Catlab.Graphics.TikZ.Property(\"container\", nothing)], nothing, Catlab.Graphics.TikZ.Picture(Catlab.Graphics.TikZ.Statement[Catlab.Graphics.TikZ.Node(\"n1\", Catlab.Graphics.TikZ.Property[Catlab.Graphics.TikZ.Property(\"minimum height\", \"2.0em\")], nothing, \"\"), Catlab.Graphics.TikZ.Node(\"n2\", Catlab.Graphics.TikZ.Property[Catlab.Graphics.TikZ.Property(\"draw\", nothing), Catlab.Graphics.TikZ.Property(\"solid\", nothing), Catlab.Graphics.TikZ.Property(\"inner sep\", \"0.333em\"), Catlab.Graphics.TikZ.Property(\"rectangle\", nothing), Catlab.Graphics.TikZ.Property(\"rounded corners\", nothing), Catlab.Graphics.TikZ.Property(\"minimum height\", \"2.0em\"), Catlab.Graphics.TikZ.Property(\"right=2em of n1)\", nothing)], nothing, \"f\"), Catlab.Graphics.TikZ.Edge(\"n1.center\", \"n2.west\", Catlab.Graphics.TikZ.PathOperation(\"to\", Catlab.Graphics.TikZ.Property[Catlab.Graphics.TikZ.Property(\"out\", \"0\"), Catlab.Graphics.TikZ.Property(\"in\", \"180\")]), Catlab.Graphics.TikZ.Property[Catlab.Graphics.TikZ.Property(\"postaction\", \"{decorate}\")], Catlab.Graphics.TikZ.EdgeNode(Catlab.Graphics.TikZ.Property[Catlab.Graphics.TikZ.Property(\"above\", \"0.25em\"), Catlab.Graphics.TikZ.Property(\"midway\", nothing)], \"A\")), Catlab.Graphics.TikZ.Node(\"n3\", Catlab.Graphics.TikZ.Property[Catlab.Graphics.TikZ.Property(\"minimum height\", \"2.0em\"), Catlab.Graphics.TikZ.Property(\"right=2em of n2)\", nothing)], nothing, \"\"), Catlab.Graphics.TikZ.Edge(\"n2.east\", \"n3.center\", Catlab.Graphics.TikZ.PathOperation(\"to\", Catlab.Graphics.TikZ.Property[Catlab.Graphics.TikZ.Property(\"out\", \"0\"), Catlab.Graphics.TikZ.Property(\"in\", \"180\")]), Catlab.Graphics.TikZ.Property[Catlab.Graphics.TikZ.Property(\"postaction\", \"{decorate}\")], Catlab.Graphics.TikZ.EdgeNode(Catlab.Graphics.TikZ.Property[Catlab.Graphics.TikZ.Property(\"above\", \"0.25em\"), Catlab.Graphics.TikZ.Property(\"midway\", nothing)], \"B\"))], Catlab.Graphics.TikZ.Property[]))], Catlab.Graphics.TikZ.Property[Catlab.Graphics.TikZ.Property(\"remember picture\", nothing), Catlab.Graphics.TikZ.Property(\"font\", \"{\\\\fontsize{12}{14.4}}\"), Catlab.Graphics.TikZ.Property(\"container/.style\", \"{inner sep=0}\"), Catlab.Graphics.TikZ.Property(\"every path/.style\", \"{solid, line width=0.4pt}\"), Catlab.Graphics.TikZ.Property(\"decoration\", \"{markings, mark=at position 0.5 with {\\\\arrow{Stealth}}}\"), Catlab.Graphics.TikZ.Property(\"execute at begin node\", \"\\$\"), Catlab.Graphics.TikZ.Property(\"execute at end node\", \"\\$\")])",
      "image/svg+xml": [
       "<?xml version=\"1.0\" encoding=\"UTF-8\"?>\n",
       "<svg xmlns=\"http://www.w3.org/2000/svg\" xmlns:xlink=\"http://www.w3.org/1999/xlink\" width=\"64.456pt\" height=\"23.81pt\" viewBox=\"0 0 64.456 23.81\" version=\"1.1\">\n",
       "<defs>\n",
       "<g>\n",
       "<symbol overflow=\"visible\" id=\"glyph-1569618377231954-0-0\">\n",
       "<path style=\"stroke:none;\" d=\"\"/>\n",
       "</symbol>\n",
       "<symbol overflow=\"visible\" id=\"glyph-1569618377231954-0-1\">\n",
       "<path style=\"stroke:none;\" d=\"M 5.328125 -4.8125 C 5.5625 -4.8125 5.671875 -4.8125 5.671875 -5.03125 C 5.671875 -5.15625 5.5625 -5.15625 5.359375 -5.15625 L 4.390625 -5.15625 C 4.609375 -6.390625 4.78125 -7.234375 4.875 -7.609375 C 4.953125 -7.90625 5.203125 -8.171875 5.515625 -8.171875 C 5.765625 -8.171875 6.015625 -8.0625 6.125 -7.953125 C 5.671875 -7.90625 5.515625 -7.5625 5.515625 -7.359375 C 5.515625 -7.125 5.703125 -6.984375 5.921875 -6.984375 C 6.171875 -6.984375 6.53125 -7.1875 6.53125 -7.640625 C 6.53125 -8.140625 6.03125 -8.421875 5.5 -8.421875 C 4.984375 -8.421875 4.484375 -8.03125 4.25 -7.5625 C 4.03125 -7.140625 3.90625 -6.71875 3.640625 -5.15625 L 2.828125 -5.15625 C 2.609375 -5.15625 2.484375 -5.15625 2.484375 -4.9375 C 2.484375 -4.8125 2.5625 -4.8125 2.796875 -4.8125 L 3.5625 -4.8125 C 3.34375 -3.6875 2.859375 -0.984375 2.578125 0.28125 C 2.375 1.328125 2.203125 2.203125 1.609375 2.203125 C 1.5625 2.203125 1.21875 2.203125 1 1.96875 C 1.609375 1.921875 1.609375 1.40625 1.609375 1.390625 C 1.609375 1.140625 1.4375 1 1.203125 1 C 0.96875 1 0.609375 1.203125 0.609375 1.65625 C 0.609375 2.171875 1.140625 2.4375 1.609375 2.4375 C 2.828125 2.4375 3.328125 0.25 3.453125 -0.34375 C 3.671875 -1.265625 4.25 -4.453125 4.3125 -4.8125 Z M 5.328125 -4.8125 \"/>\n",
       "</symbol>\n",
       "<symbol overflow=\"visible\" id=\"glyph-1569618377231954-0-2\">\n",
       "<path style=\"stroke:none;\" d=\"M 2.03125 -1.328125 C 1.609375 -0.625 1.203125 -0.375 0.640625 -0.34375 C 0.5 -0.328125 0.40625 -0.328125 0.40625 -0.125 C 0.40625 -0.046875 0.46875 0 0.546875 0 C 0.765625 0 1.296875 -0.03125 1.515625 -0.03125 C 1.859375 -0.03125 2.25 0 2.578125 0 C 2.65625 0 2.796875 0 2.796875 -0.234375 C 2.796875 -0.328125 2.703125 -0.34375 2.625 -0.34375 C 2.359375 -0.375 2.125 -0.46875 2.125 -0.75 C 2.125 -0.921875 2.203125 -1.046875 2.359375 -1.3125 L 3.265625 -2.828125 L 6.3125 -2.828125 C 6.328125 -2.71875 6.328125 -2.625 6.328125 -2.515625 C 6.375 -2.203125 6.515625 -0.953125 6.515625 -0.734375 C 6.515625 -0.375 5.90625 -0.34375 5.71875 -0.34375 C 5.578125 -0.34375 5.453125 -0.34375 5.453125 -0.125 C 5.453125 0 5.5625 0 5.625 0 C 5.828125 0 6.078125 -0.03125 6.28125 -0.03125 L 6.953125 -0.03125 C 7.6875 -0.03125 8.21875 0 8.21875 0 C 8.3125 0 8.4375 0 8.4375 -0.234375 C 8.4375 -0.34375 8.328125 -0.34375 8.15625 -0.34375 C 7.5 -0.34375 7.484375 -0.453125 7.453125 -0.8125 L 6.71875 -8.265625 C 6.6875 -8.515625 6.640625 -8.53125 6.515625 -8.53125 C 6.390625 -8.53125 6.328125 -8.515625 6.21875 -8.328125 Z M 3.46875 -3.171875 L 5.875 -7.1875 L 6.28125 -3.171875 Z M 3.46875 -3.171875 \"/>\n",
       "</symbol>\n",
       "<symbol overflow=\"visible\" id=\"glyph-1569618377231954-0-3\">\n",
       "<path style=\"stroke:none;\" d=\"M 4.375 -7.34375 C 4.484375 -7.796875 4.53125 -7.8125 5 -7.8125 L 6.546875 -7.8125 C 7.90625 -7.8125 7.90625 -6.671875 7.90625 -6.5625 C 7.90625 -5.59375 6.9375 -4.359375 5.359375 -4.359375 L 3.640625 -4.359375 Z M 6.390625 -4.265625 C 7.703125 -4.5 8.875 -5.421875 8.875 -6.515625 C 8.875 -7.453125 8.0625 -8.15625 6.703125 -8.15625 L 2.875 -8.15625 C 2.640625 -8.15625 2.53125 -8.15625 2.53125 -7.9375 C 2.53125 -7.8125 2.640625 -7.8125 2.828125 -7.8125 C 3.546875 -7.8125 3.546875 -7.71875 3.546875 -7.59375 C 3.546875 -7.5625 3.546875 -7.5 3.5 -7.3125 L 1.890625 -0.890625 C 1.78125 -0.46875 1.75 -0.34375 0.921875 -0.34375 C 0.6875 -0.34375 0.578125 -0.34375 0.578125 -0.125 C 0.578125 0 0.640625 0 0.890625 0 L 4.984375 0 C 6.8125 0 8.21875 -1.390625 8.21875 -2.59375 C 8.21875 -3.578125 7.359375 -4.171875 6.390625 -4.265625 Z M 4.703125 -0.34375 L 3.078125 -0.34375 C 2.921875 -0.34375 2.890625 -0.34375 2.828125 -0.359375 C 2.6875 -0.375 2.671875 -0.390625 2.671875 -0.484375 C 2.671875 -0.578125 2.703125 -0.640625 2.71875 -0.75 L 3.5625 -4.125 L 5.8125 -4.125 C 7.21875 -4.125 7.21875 -2.8125 7.21875 -2.71875 C 7.21875 -1.5625 6.1875 -0.34375 4.703125 -0.34375 Z M 4.703125 -0.34375 \"/>\n",
       "</symbol>\n",
       "</g>\n",
       "<clipPath id=\"clip-1569618377231954-1\">\n",
       "  <path d=\"M 19 0 L 46 0 L 46 23.808594 L 19 23.808594 Z M 19 0 \"/>\n",
       "</clipPath>\n",
       "<clipPath id=\"clip-1569618377231954-2\">\n",
       "  <path d=\"M 34 6 L 64.457031 6 L 64.457031 18 L 34 18 Z M 34 6 \"/>\n",
       "</clipPath>\n",
       "</defs>\n",
       "<g id=\"surface1\">\n",
       "<g clip-path=\"url(#clip-1569618377231954-1)\" clip-rule=\"nonzero\">\n",
       "<path style=\"fill:none;stroke-width:0.3985;stroke-linecap:butt;stroke-linejoin:miter;stroke:rgb(0%,0%,0%);stroke-opacity:1;stroke-miterlimit:10;\" d=\"M 35.166063 11.705781 L 28.294969 11.705781 C 26.091844 11.705781 24.310594 9.920625 24.310594 7.721406 L 24.310594 -7.72 C 24.310594 -9.923125 26.091844 -11.704375 28.294969 -11.704375 L 35.166063 -11.704375 C 37.369188 -11.704375 39.150438 -9.923125 39.150438 -7.72 L 39.150438 7.721406 C 39.150438 9.920625 37.369188 11.705781 35.166063 11.705781 Z M 35.166063 11.705781 \" transform=\"matrix(1,0,0,-1,0.498,11.905)\"/>\n",
       "</g>\n",
       "<g style=\"fill:rgb(0%,0%,0%);fill-opacity:1;\">\n",
       "  <use xlink:href=\"#glyph-1569618377231954-0-1\" x=\"28.705\" y=\"14.894\"/>\n",
       "</g>\n",
       "<path style=\"fill:none;stroke-width:0.3985;stroke-linecap:butt;stroke-linejoin:miter;stroke:rgb(0%,0%,0%);stroke-opacity:1;stroke-miterlimit:10;\" d=\"M -0.00190625 -0.00125 C 9.400438 -0.00125 14.709031 -0.00125 24.111375 -0.00125 \" transform=\"matrix(1,0,0,-1,0.498,11.905)\"/>\n",
       "<path style=\"fill-rule:nonzero;fill:rgb(0%,0%,0%);fill-opacity:1;stroke-width:0.3985;stroke-linecap:butt;stroke-linejoin:miter;stroke:rgb(0%,0%,0%);stroke-opacity:1;stroke-miterlimit:10;\" d=\"M 4.214055 -0.00125 L 0.643742 1.346406 L 1.819524 -0.00125 L 0.643742 -1.345 Z M 4.214055 -0.00125 \" transform=\"matrix(1,0,0,-1,7.77032,11.905)\"/>\n",
       "<g style=\"fill:rgb(0%,0%,0%);fill-opacity:1;\">\n",
       "  <use xlink:href=\"#glyph-1569618377231954-0-2\" x=\"8.165\" y=\"8.779\"/>\n",
       "</g>\n",
       "<g clip-path=\"url(#clip-1569618377231954-2)\" clip-rule=\"nonzero\">\n",
       "<path style=\"fill:none;stroke-width:0.3985;stroke-linecap:butt;stroke-linejoin:miter;stroke:rgb(0%,0%,0%);stroke-opacity:1;stroke-miterlimit:10;\" d=\"M 39.349656 -0.00125 C 48.752 -0.00125 54.056688 -0.00125 63.459031 -0.00125 \" transform=\"matrix(1,0,0,-1,0.498,11.905)\"/>\n",
       "</g>\n",
       "<path style=\"fill-rule:nonzero;fill:rgb(0%,0%,0%);fill-opacity:1;stroke-width:0.3985;stroke-linecap:butt;stroke-linejoin:miter;stroke:rgb(0%,0%,0%);stroke-opacity:1;stroke-miterlimit:10;\" d=\"M 4.214837 -0.00125 L 0.644525 1.346406 L 1.8164 -0.00125 L 0.644525 -1.345 Z M 4.214837 -0.00125 \" transform=\"matrix(1,0,0,-1,47.1211,11.905)\"/>\n",
       "<g style=\"fill:rgb(0%,0%,0%);fill-opacity:1;\">\n",
       "  <use xlink:href=\"#glyph-1569618377231954-0-3\" x=\"47.155\" y=\"8.779\"/>\n",
       "</g>\n",
       "</g>\n",
       "</svg>\n",
       "\n"
      ]
     },
     "metadata": {},
     "execution_count": 3
    }
   ],
   "cell_type": "code",
   "source": [
    "to_tikz(f; arrowtip=\"Stealth\", labels=true)"
   ],
   "metadata": {},
   "execution_count": 3
  },
  {
   "outputs": [
    {
     "output_type": "execute_result",
     "data": {
      "text/plain": "Catlab.Graphics.TikZ.Picture(Catlab.Graphics.TikZ.Statement[Catlab.Graphics.TikZ.Node(\"n\", Catlab.Graphics.TikZ.Property[Catlab.Graphics.TikZ.Property(\"container\", nothing)], nothing, Catlab.Graphics.TikZ.Picture(Catlab.Graphics.TikZ.Statement[Catlab.Graphics.TikZ.Node(\"n1\", Catlab.Graphics.TikZ.Property[Catlab.Graphics.TikZ.Property(\"minimum height\", \"2.0em\")], nothing, \"\"), Catlab.Graphics.TikZ.Node(\"n2\", Catlab.Graphics.TikZ.Property[Catlab.Graphics.TikZ.Property(\"draw\", nothing), Catlab.Graphics.TikZ.Property(\"solid\", nothing), Catlab.Graphics.TikZ.Property(\"inner sep\", \"0.333em\"), Catlab.Graphics.TikZ.Property(\"rectangle\", nothing), Catlab.Graphics.TikZ.Property(\"rounded corners\", nothing), Catlab.Graphics.TikZ.Property(\"minimum height\", \"2.0em\"), Catlab.Graphics.TikZ.Property(\"right=2em of n1)\", nothing)], nothing, \"f\"), Catlab.Graphics.TikZ.Edge(\"n1.center\", \"n2.west\", Catlab.Graphics.TikZ.PathOperation(\"to\", Catlab.Graphics.TikZ.Property[Catlab.Graphics.TikZ.Property(\"out\", \"0\"), Catlab.Graphics.TikZ.Property(\"in\", \"180\")]), Catlab.Graphics.TikZ.Property[Catlab.Graphics.TikZ.Property(\"postaction\", \"{decorate}\")], Catlab.Graphics.TikZ.EdgeNode(Catlab.Graphics.TikZ.Property[Catlab.Graphics.TikZ.Property(\"above\", \"0.25em\"), Catlab.Graphics.TikZ.Property(\"midway\", nothing)], \"A\")), Catlab.Graphics.TikZ.Node(\"n3\", Catlab.Graphics.TikZ.Property[Catlab.Graphics.TikZ.Property(\"draw\", nothing), Catlab.Graphics.TikZ.Property(\"solid\", nothing), Catlab.Graphics.TikZ.Property(\"inner sep\", \"0.333em\"), Catlab.Graphics.TikZ.Property(\"rectangle\", nothing), Catlab.Graphics.TikZ.Property(\"rounded corners\", nothing), Catlab.Graphics.TikZ.Property(\"minimum height\", \"2.0em\"), Catlab.Graphics.TikZ.Property(\"right=2em of n2)\", nothing)], nothing, \"g\"), Catlab.Graphics.TikZ.Edge(\"n2.east\", \"n3.west\", Catlab.Graphics.TikZ.PathOperation(\"to\", Catlab.Graphics.TikZ.Property[Catlab.Graphics.TikZ.Property(\"out\", \"0\"), Catlab.Graphics.TikZ.Property(\"in\", \"180\")]), Catlab.Graphics.TikZ.Property[Catlab.Graphics.TikZ.Property(\"postaction\", \"{decorate}\")], Catlab.Graphics.TikZ.EdgeNode(Catlab.Graphics.TikZ.Property[Catlab.Graphics.TikZ.Property(\"above\", \"0.25em\"), Catlab.Graphics.TikZ.Property(\"midway\", nothing)], \"B\")), Catlab.Graphics.TikZ.Node(\"n4\", Catlab.Graphics.TikZ.Property[Catlab.Graphics.TikZ.Property(\"minimum height\", \"2.0em\"), Catlab.Graphics.TikZ.Property(\"right=2em of n3)\", nothing)], nothing, \"\"), Catlab.Graphics.TikZ.Edge(\"n3.east\", \"n4.center\", Catlab.Graphics.TikZ.PathOperation(\"to\", Catlab.Graphics.TikZ.Property[Catlab.Graphics.TikZ.Property(\"out\", \"0\"), Catlab.Graphics.TikZ.Property(\"in\", \"180\")]), Catlab.Graphics.TikZ.Property[Catlab.Graphics.TikZ.Property(\"postaction\", \"{decorate}\")], Catlab.Graphics.TikZ.EdgeNode(Catlab.Graphics.TikZ.Property[Catlab.Graphics.TikZ.Property(\"above\", \"0.25em\"), Catlab.Graphics.TikZ.Property(\"midway\", nothing)], \"A\"))], Catlab.Graphics.TikZ.Property[]))], Catlab.Graphics.TikZ.Property[Catlab.Graphics.TikZ.Property(\"remember picture\", nothing), Catlab.Graphics.TikZ.Property(\"font\", \"{\\\\fontsize{12}{14.4}}\"), Catlab.Graphics.TikZ.Property(\"container/.style\", \"{inner sep=0}\"), Catlab.Graphics.TikZ.Property(\"every path/.style\", \"{solid, line width=0.4pt}\"), Catlab.Graphics.TikZ.Property(\"decoration\", \"{markings, mark=at position 0.5 with {\\\\arrow{Stealth}}}\"), Catlab.Graphics.TikZ.Property(\"execute at begin node\", \"\\$\"), Catlab.Graphics.TikZ.Property(\"execute at end node\", \"\\$\")])",
      "image/svg+xml": [
       "<?xml version=\"1.0\" encoding=\"UTF-8\"?>\n",
       "<svg xmlns=\"http://www.w3.org/2000/svg\" xmlns:xlink=\"http://www.w3.org/1999/xlink\" width=\"102.097pt\" height=\"23.81pt\" viewBox=\"0 0 102.097 23.81\" version=\"1.1\">\n",
       "<defs>\n",
       "<g>\n",
       "<symbol overflow=\"visible\" id=\"glyph-1569618377231955-0-0\">\n",
       "<path style=\"stroke:none;\" d=\"\"/>\n",
       "</symbol>\n",
       "<symbol overflow=\"visible\" id=\"glyph-1569618377231955-0-1\">\n",
       "<path style=\"stroke:none;\" d=\"M 5.328125 -4.8125 C 5.5625 -4.8125 5.671875 -4.8125 5.671875 -5.03125 C 5.671875 -5.15625 5.5625 -5.15625 5.359375 -5.15625 L 4.390625 -5.15625 C 4.609375 -6.390625 4.78125 -7.234375 4.875 -7.609375 C 4.953125 -7.90625 5.203125 -8.171875 5.515625 -8.171875 C 5.765625 -8.171875 6.015625 -8.0625 6.125 -7.953125 C 5.671875 -7.90625 5.515625 -7.5625 5.515625 -7.359375 C 5.515625 -7.125 5.703125 -6.984375 5.921875 -6.984375 C 6.171875 -6.984375 6.53125 -7.1875 6.53125 -7.640625 C 6.53125 -8.140625 6.03125 -8.421875 5.5 -8.421875 C 4.984375 -8.421875 4.484375 -8.03125 4.25 -7.5625 C 4.03125 -7.140625 3.90625 -6.71875 3.640625 -5.15625 L 2.828125 -5.15625 C 2.609375 -5.15625 2.484375 -5.15625 2.484375 -4.9375 C 2.484375 -4.8125 2.5625 -4.8125 2.796875 -4.8125 L 3.5625 -4.8125 C 3.34375 -3.6875 2.859375 -0.984375 2.578125 0.28125 C 2.375 1.328125 2.203125 2.203125 1.609375 2.203125 C 1.5625 2.203125 1.21875 2.203125 1 1.96875 C 1.609375 1.921875 1.609375 1.40625 1.609375 1.390625 C 1.609375 1.140625 1.4375 1 1.203125 1 C 0.96875 1 0.609375 1.203125 0.609375 1.65625 C 0.609375 2.171875 1.140625 2.4375 1.609375 2.4375 C 2.828125 2.4375 3.328125 0.25 3.453125 -0.34375 C 3.671875 -1.265625 4.25 -4.453125 4.3125 -4.8125 Z M 5.328125 -4.8125 \"/>\n",
       "</symbol>\n",
       "<symbol overflow=\"visible\" id=\"glyph-1569618377231955-0-2\">\n",
       "<path style=\"stroke:none;\" d=\"M 2.03125 -1.328125 C 1.609375 -0.625 1.203125 -0.375 0.640625 -0.34375 C 0.5 -0.328125 0.40625 -0.328125 0.40625 -0.125 C 0.40625 -0.046875 0.46875 0 0.546875 0 C 0.765625 0 1.296875 -0.03125 1.515625 -0.03125 C 1.859375 -0.03125 2.25 0 2.578125 0 C 2.65625 0 2.796875 0 2.796875 -0.234375 C 2.796875 -0.328125 2.703125 -0.34375 2.625 -0.34375 C 2.359375 -0.375 2.125 -0.46875 2.125 -0.75 C 2.125 -0.921875 2.203125 -1.046875 2.359375 -1.3125 L 3.265625 -2.828125 L 6.3125 -2.828125 C 6.328125 -2.71875 6.328125 -2.625 6.328125 -2.515625 C 6.375 -2.203125 6.515625 -0.953125 6.515625 -0.734375 C 6.515625 -0.375 5.90625 -0.34375 5.71875 -0.34375 C 5.578125 -0.34375 5.453125 -0.34375 5.453125 -0.125 C 5.453125 0 5.5625 0 5.625 0 C 5.828125 0 6.078125 -0.03125 6.28125 -0.03125 L 6.953125 -0.03125 C 7.6875 -0.03125 8.21875 0 8.21875 0 C 8.3125 0 8.4375 0 8.4375 -0.234375 C 8.4375 -0.34375 8.328125 -0.34375 8.15625 -0.34375 C 7.5 -0.34375 7.484375 -0.453125 7.453125 -0.8125 L 6.71875 -8.265625 C 6.6875 -8.515625 6.640625 -8.53125 6.515625 -8.53125 C 6.390625 -8.53125 6.328125 -8.515625 6.21875 -8.328125 Z M 3.46875 -3.171875 L 5.875 -7.1875 L 6.28125 -3.171875 Z M 3.46875 -3.171875 \"/>\n",
       "</symbol>\n",
       "<symbol overflow=\"visible\" id=\"glyph-1569618377231955-0-3\">\n",
       "<path style=\"stroke:none;\" d=\"M 4.046875 -1.515625 C 4 -1.328125 3.96875 -1.28125 3.8125 -1.09375 C 3.328125 -0.46875 2.828125 -0.234375 2.453125 -0.234375 C 2.0625 -0.234375 1.6875 -0.546875 1.6875 -1.375 C 1.6875 -2.015625 2.046875 -3.34375 2.3125 -3.890625 C 2.65625 -4.546875 3.1875 -5.03125 3.6875 -5.03125 C 4.484375 -5.03125 4.640625 -4.046875 4.640625 -3.984375 L 4.609375 -3.8125 Z M 4.78125 -4.484375 C 4.625 -4.828125 4.296875 -5.265625 3.6875 -5.265625 C 2.390625 -5.265625 0.90625 -3.640625 0.90625 -1.859375 C 0.90625 -0.609375 1.65625 0 2.421875 0 C 3.0625 0 3.625 -0.5 3.84375 -0.734375 L 3.578125 0.328125 C 3.40625 0.984375 3.328125 1.296875 2.90625 1.703125 C 2.421875 2.203125 1.953125 2.203125 1.703125 2.203125 C 1.34375 2.203125 1.046875 2.171875 0.734375 2.078125 C 1.125 1.96875 1.21875 1.640625 1.21875 1.5 C 1.21875 1.3125 1.078125 1.125 0.8125 1.125 C 0.53125 1.125 0.21875 1.359375 0.21875 1.75 C 0.21875 2.25 0.703125 2.4375 1.71875 2.4375 C 3.265625 2.4375 4.0625 1.453125 4.21875 0.796875 L 5.546875 -4.546875 C 5.578125 -4.703125 5.578125 -4.71875 5.578125 -4.75 C 5.578125 -4.90625 5.453125 -5.046875 5.265625 -5.046875 C 4.984375 -5.046875 4.8125 -4.8125 4.78125 -4.484375 Z M 4.78125 -4.484375 \"/>\n",
       "</symbol>\n",
       "<symbol overflow=\"visible\" id=\"glyph-1569618377231955-0-4\">\n",
       "<path style=\"stroke:none;\" d=\"M 4.375 -7.34375 C 4.484375 -7.796875 4.53125 -7.8125 5 -7.8125 L 6.546875 -7.8125 C 7.90625 -7.8125 7.90625 -6.671875 7.90625 -6.5625 C 7.90625 -5.59375 6.9375 -4.359375 5.359375 -4.359375 L 3.640625 -4.359375 Z M 6.390625 -4.265625 C 7.703125 -4.5 8.875 -5.421875 8.875 -6.515625 C 8.875 -7.453125 8.0625 -8.15625 6.703125 -8.15625 L 2.875 -8.15625 C 2.640625 -8.15625 2.53125 -8.15625 2.53125 -7.9375 C 2.53125 -7.8125 2.640625 -7.8125 2.828125 -7.8125 C 3.546875 -7.8125 3.546875 -7.71875 3.546875 -7.59375 C 3.546875 -7.5625 3.546875 -7.5 3.5 -7.3125 L 1.890625 -0.890625 C 1.78125 -0.46875 1.75 -0.34375 0.921875 -0.34375 C 0.6875 -0.34375 0.578125 -0.34375 0.578125 -0.125 C 0.578125 0 0.640625 0 0.890625 0 L 4.984375 0 C 6.8125 0 8.21875 -1.390625 8.21875 -2.59375 C 8.21875 -3.578125 7.359375 -4.171875 6.390625 -4.265625 Z M 4.703125 -0.34375 L 3.078125 -0.34375 C 2.921875 -0.34375 2.890625 -0.34375 2.828125 -0.359375 C 2.6875 -0.375 2.671875 -0.390625 2.671875 -0.484375 C 2.671875 -0.578125 2.703125 -0.640625 2.71875 -0.75 L 3.5625 -4.125 L 5.8125 -4.125 C 7.21875 -4.125 7.21875 -2.8125 7.21875 -2.71875 C 7.21875 -1.5625 6.1875 -0.34375 4.703125 -0.34375 Z M 4.703125 -0.34375 \"/>\n",
       "</symbol>\n",
       "</g>\n",
       "<clipPath id=\"clip-1569618377231955-1\">\n",
       "  <path d=\"M 19 0 L 46 0 L 46 23.808594 L 19 23.808594 Z M 19 0 \"/>\n",
       "</clipPath>\n",
       "<clipPath id=\"clip-1569618377231955-2\">\n",
       "  <path d=\"M 57 0 L 83 0 L 83 23.808594 L 57 23.808594 Z M 57 0 \"/>\n",
       "</clipPath>\n",
       "<clipPath id=\"clip-1569618377231955-3\">\n",
       "  <path d=\"M 71 6 L 102.097656 6 L 102.097656 18 L 71 18 Z M 71 6 \"/>\n",
       "</clipPath>\n",
       "</defs>\n",
       "<g id=\"surface1\">\n",
       "<g clip-path=\"url(#clip-1569618377231955-1)\" clip-rule=\"nonzero\">\n",
       "<path style=\"fill:none;stroke-width:0.3985;stroke-linecap:butt;stroke-linejoin:miter;stroke:rgb(0%,0%,0%);stroke-opacity:1;stroke-miterlimit:10;\" d=\"M 35.166063 11.705781 L 28.294969 11.705781 C 26.091844 11.705781 24.310594 9.920625 24.310594 7.721406 L 24.310594 -7.72 C 24.310594 -9.923125 26.091844 -11.704375 28.294969 -11.704375 L 35.166063 -11.704375 C 37.369188 -11.704375 39.150438 -9.923125 39.150438 -7.72 L 39.150438 7.721406 C 39.150438 9.920625 37.369188 11.705781 35.166063 11.705781 Z M 35.166063 11.705781 \" transform=\"matrix(1,0,0,-1,0.498,11.905)\"/>\n",
       "</g>\n",
       "<g style=\"fill:rgb(0%,0%,0%);fill-opacity:1;\">\n",
       "  <use xlink:href=\"#glyph-1569618377231955-0-1\" x=\"28.705\" y=\"14.894\"/>\n",
       "</g>\n",
       "<path style=\"fill:none;stroke-width:0.3985;stroke-linecap:butt;stroke-linejoin:miter;stroke:rgb(0%,0%,0%);stroke-opacity:1;stroke-miterlimit:10;\" d=\"M -0.00190625 -0.00125 C 9.400438 -0.00125 14.709031 -0.00125 24.111375 -0.00125 \" transform=\"matrix(1,0,0,-1,0.498,11.905)\"/>\n",
       "<path style=\"fill-rule:nonzero;fill:rgb(0%,0%,0%);fill-opacity:1;stroke-width:0.3985;stroke-linecap:butt;stroke-linejoin:miter;stroke:rgb(0%,0%,0%);stroke-opacity:1;stroke-miterlimit:10;\" d=\"M 4.214055 -0.00125 L 0.643742 1.346406 L 1.819524 -0.00125 L 0.643742 -1.345 Z M 4.214055 -0.00125 \" transform=\"matrix(1,0,0,-1,7.77032,11.905)\"/>\n",
       "<g style=\"fill:rgb(0%,0%,0%);fill-opacity:1;\">\n",
       "  <use xlink:href=\"#glyph-1569618377231955-0-2\" x=\"8.165\" y=\"8.779\"/>\n",
       "</g>\n",
       "<g clip-path=\"url(#clip-1569618377231955-2)\" clip-rule=\"nonzero\">\n",
       "<path style=\"fill:none;stroke-width:0.3985;stroke-linecap:butt;stroke-linejoin:miter;stroke:rgb(0%,0%,0%);stroke-opacity:1;stroke-miterlimit:10;\" d=\"M 72.806687 11.705781 L 66.947312 11.705781 C 64.748094 11.705781 62.962938 9.920625 62.962938 7.721406 L 62.962938 -7.72 C 62.962938 -9.923125 64.748094 -11.704375 66.947312 -11.704375 L 72.806687 -11.704375 C 75.009812 -11.704375 76.791062 -9.923125 76.791062 -7.72 L 76.791062 7.721406 C 76.791062 9.920625 75.009812 11.705781 72.806687 11.705781 Z M 72.806687 11.705781 \" transform=\"matrix(1,0,0,-1,0.498,11.905)\"/>\n",
       "</g>\n",
       "<g style=\"fill:rgb(0%,0%,0%);fill-opacity:1;\">\n",
       "  <use xlink:href=\"#glyph-1569618377231955-0-3\" x=\"67.358\" y=\"13.316\"/>\n",
       "</g>\n",
       "<path style=\"fill:none;stroke-width:0.3985;stroke-linecap:butt;stroke-linejoin:miter;stroke:rgb(0%,0%,0%);stroke-opacity:1;stroke-miterlimit:10;\" d=\"M 39.349656 -0.00125 C 48.482469 -0.00125 53.634813 -0.00125 62.763719 -0.00125 \" transform=\"matrix(1,0,0,-1,0.498,11.905)\"/>\n",
       "<path style=\"fill-rule:nonzero;fill:rgb(0%,0%,0%);fill-opacity:1;stroke-width:0.3985;stroke-linecap:butt;stroke-linejoin:miter;stroke:rgb(0%,0%,0%);stroke-opacity:1;stroke-miterlimit:10;\" d=\"M 4.215871 -0.00125 L 0.641652 1.346406 L 1.817434 -0.00125 L 0.641652 -1.345 Z M 4.215871 -0.00125 \" transform=\"matrix(1,0,0,-1,46.77241,11.905)\"/>\n",
       "<g style=\"fill:rgb(0%,0%,0%);fill-opacity:1;\">\n",
       "  <use xlink:href=\"#glyph-1569618377231955-0-4\" x=\"46.806\" y=\"8.779\"/>\n",
       "</g>\n",
       "<g clip-path=\"url(#clip-1569618377231955-3)\" clip-rule=\"nonzero\">\n",
       "<path style=\"fill:none;stroke-width:0.3985;stroke-linecap:butt;stroke-linejoin:miter;stroke:rgb(0%,0%,0%);stroke-opacity:1;stroke-miterlimit:10;\" d=\"M 76.990281 -0.00125 C 86.392625 -0.00125 91.701219 -0.00125 101.103562 -0.00125 \" transform=\"matrix(1,0,0,-1,0.498,11.905)\"/>\n",
       "</g>\n",
       "<path style=\"fill-rule:nonzero;fill:rgb(0%,0%,0%);fill-opacity:1;stroke-width:0.3985;stroke-linecap:butt;stroke-linejoin:miter;stroke:rgb(0%,0%,0%);stroke-opacity:1;stroke-miterlimit:10;\" d=\"M 4.214282 -0.00125 L 0.64397 1.346406 L 1.819751 -0.00125 L 0.64397 -1.345 Z M 4.214282 -0.00125 \" transform=\"matrix(1,0,0,-1,84.76228,11.905)\"/>\n",
       "<g style=\"fill:rgb(0%,0%,0%);fill-opacity:1;\">\n",
       "  <use xlink:href=\"#glyph-1569618377231955-0-2\" x=\"85.156\" y=\"8.779\"/>\n",
       "</g>\n",
       "</g>\n",
       "</svg>\n",
       "\n"
      ]
     },
     "metadata": {},
     "execution_count": 4
    }
   ],
   "cell_type": "code",
   "source": [
    "to_tikz(compose(f,g); arrowtip=\"Stealth\", labels=true)"
   ],
   "metadata": {},
   "execution_count": 4
  },
  {
   "outputs": [
    {
     "output_type": "execute_result",
     "data": {
      "text/plain": "compose(otimes(g,f),h,otimes(f,g))",
      "text/latex": "$\\left(g \\otimes f\\right) \\cdot h \\cdot \\left(f \\otimes g\\right) : B \\otimes A \\to B \\otimes A$"
     },
     "metadata": {},
     "execution_count": 5
    }
   ],
   "cell_type": "code",
   "source": [
    "comp1 = compose(otimes(g,f), h, otimes(f,g))"
   ],
   "metadata": {},
   "execution_count": 5
  },
  {
   "outputs": [
    {
     "output_type": "execute_result",
     "data": {
      "text/plain": "Catlab.Graphics.TikZ.Picture(Catlab.Graphics.TikZ.Statement[Catlab.Graphics.TikZ.Node(\"n\", Catlab.Graphics.TikZ.Property[Catlab.Graphics.TikZ.Property(\"container\", nothing)], nothing, Catlab.Graphics.TikZ.Picture(Catlab.Graphics.TikZ.Statement[Catlab.Graphics.TikZ.Node(\"n1\", Catlab.Graphics.TikZ.Property[Catlab.Graphics.TikZ.Property(\"minimum height\", \"4.5em\")], nothing, \"\"), Catlab.Graphics.TikZ.Node(\"n2\", Catlab.Graphics.TikZ.Property[Catlab.Graphics.TikZ.Property(\"container\", nothing), Catlab.Graphics.TikZ.Property(\"right=2em of n1)\", nothing)], nothing, Catlab.Graphics.TikZ.Picture(Catlab.Graphics.TikZ.Statement[Catlab.Graphics.TikZ.Node(\"n21\", Catlab.Graphics.TikZ.Property[Catlab.Graphics.TikZ.Property(\"draw\", nothing), Catlab.Graphics.TikZ.Property(\"solid\", nothing), Catlab.Graphics.TikZ.Property(\"inner sep\", \"0.333em\"), Catlab.Graphics.TikZ.Property(\"rectangle\", nothing), Catlab.Graphics.TikZ.Property(\"rounded corners\", nothing), Catlab.Graphics.TikZ.Property(\"minimum height\", \"2.0em\")], nothing, \"g\"), Catlab.Graphics.TikZ.Node(\"n22\", Catlab.Graphics.TikZ.Property[Catlab.Graphics.TikZ.Property(\"draw\", nothing), Catlab.Graphics.TikZ.Property(\"solid\", nothing), Catlab.Graphics.TikZ.Property(\"inner sep\", \"0.333em\"), Catlab.Graphics.TikZ.Property(\"rectangle\", nothing), Catlab.Graphics.TikZ.Property(\"rounded corners\", nothing), Catlab.Graphics.TikZ.Property(\"minimum height\", \"2.0em\"), Catlab.Graphics.TikZ.Property(\"below=0.5em of n21\", nothing)], nothing, \"f\")], Catlab.Graphics.TikZ.Property[])), Catlab.Graphics.TikZ.Edge(\"\\$(n1.center)+(0,1.25em)\\$\", \"n21.west\", Catlab.Graphics.TikZ.PathOperation(\"to\", Catlab.Graphics.TikZ.Property[Catlab.Graphics.TikZ.Property(\"out\", \"0\"), Catlab.Graphics.TikZ.Property(\"in\", \"180\")]), Catlab.Graphics.TikZ.Property[], nothing), Catlab.Graphics.TikZ.Edge(\"\\$(n1.center)+(0,-1.25em)\\$\", \"n22.west\", Catlab.Graphics.TikZ.PathOperation(\"to\", Catlab.Graphics.TikZ.Property[Catlab.Graphics.TikZ.Property(\"out\", \"0\"), Catlab.Graphics.TikZ.Property(\"in\", \"180\")]), Catlab.Graphics.TikZ.Property[], nothing), Catlab.Graphics.TikZ.Node(\"n3\", Catlab.Graphics.TikZ.Property[Catlab.Graphics.TikZ.Property(\"draw\", nothing), Catlab.Graphics.TikZ.Property(\"solid\", nothing), Catlab.Graphics.TikZ.Property(\"inner sep\", \"0.333em\"), Catlab.Graphics.TikZ.Property(\"rectangle\", nothing), Catlab.Graphics.TikZ.Property(\"rounded corners\", nothing), Catlab.Graphics.TikZ.Property(\"minimum height\", \"4.5em\"), Catlab.Graphics.TikZ.Property(\"right=2em of n2)\", nothing)], nothing, \"h\"), Catlab.Graphics.TikZ.Edge(\"n21.east\", \"\\$(n3.west)+(0,1.25em)\\$\", Catlab.Graphics.TikZ.PathOperation(\"to\", Catlab.Graphics.TikZ.Property[Catlab.Graphics.TikZ.Property(\"out\", \"0\"), Catlab.Graphics.TikZ.Property(\"in\", \"180\")]), Catlab.Graphics.TikZ.Property[], nothing), Catlab.Graphics.TikZ.Edge(\"n22.east\", \"\\$(n3.west)+(0,-1.25em)\\$\", Catlab.Graphics.TikZ.PathOperation(\"to\", Catlab.Graphics.TikZ.Property[Catlab.Graphics.TikZ.Property(\"out\", \"0\"), Catlab.Graphics.TikZ.Property(\"in\", \"180\")]), Catlab.Graphics.TikZ.Property[], nothing), Catlab.Graphics.TikZ.Node(\"n4\", Catlab.Graphics.TikZ.Property[Catlab.Graphics.TikZ.Property(\"container\", nothing), Catlab.Graphics.TikZ.Property(\"right=2em of n3)\", nothing)], nothing, Catlab.Graphics.TikZ.Picture(Catlab.Graphics.TikZ.Statement[Catlab.Graphics.TikZ.Node(\"n41\", Catlab.Graphics.TikZ.Property[Catlab.Graphics.TikZ.Property(\"draw\", nothing), Catlab.Graphics.TikZ.Property(\"solid\", nothing), Catlab.Graphics.TikZ.Property(\"inner sep\", \"0.333em\"), Catlab.Graphics.TikZ.Property(\"rectangle\", nothing), Catlab.Graphics.TikZ.Property(\"rounded corners\", nothing), Catlab.Graphics.TikZ.Property(\"minimum height\", \"2.0em\")], nothing, \"f\"), Catlab.Graphics.TikZ.Node(\"n42\", Catlab.Graphics.TikZ.Property[Catlab.Graphics.TikZ.Property(\"draw\", nothing), Catlab.Graphics.TikZ.Property(\"solid\", nothing), Catlab.Graphics.TikZ.Property(\"inner sep\", \"0.333em\"), Catlab.Graphics.TikZ.Property(\"rectangle\", nothing), Catlab.Graphics.TikZ.Property(\"rounded corners\", nothing), Catlab.Graphics.TikZ.Property(\"minimum height\", \"2.0em\"), Catlab.Graphics.TikZ.Property(\"below=0.5em of n41\", nothing)], nothing, \"g\")], Catlab.Graphics.TikZ.Property[])), Catlab.Graphics.TikZ.Edge(\"\\$(n3.east)+(0,1.25em)\\$\", \"n41.west\", Catlab.Graphics.TikZ.PathOperation(\"to\", Catlab.Graphics.TikZ.Property[Catlab.Graphics.TikZ.Property(\"out\", \"0\"), Catlab.Graphics.TikZ.Property(\"in\", \"180\")]), Catlab.Graphics.TikZ.Property[], nothing), Catlab.Graphics.TikZ.Edge(\"\\$(n3.east)+(0,-1.25em)\\$\", \"n42.west\", Catlab.Graphics.TikZ.PathOperation(\"to\", Catlab.Graphics.TikZ.Property[Catlab.Graphics.TikZ.Property(\"out\", \"0\"), Catlab.Graphics.TikZ.Property(\"in\", \"180\")]), Catlab.Graphics.TikZ.Property[], nothing), Catlab.Graphics.TikZ.Node(\"n5\", Catlab.Graphics.TikZ.Property[Catlab.Graphics.TikZ.Property(\"minimum height\", \"4.5em\"), Catlab.Graphics.TikZ.Property(\"right=2em of n4)\", nothing)], nothing, \"\"), Catlab.Graphics.TikZ.Edge(\"n41.east\", \"\\$(n5.center)+(0,1.25em)\\$\", Catlab.Graphics.TikZ.PathOperation(\"to\", Catlab.Graphics.TikZ.Property[Catlab.Graphics.TikZ.Property(\"out\", \"0\"), Catlab.Graphics.TikZ.Property(\"in\", \"180\")]), Catlab.Graphics.TikZ.Property[], nothing), Catlab.Graphics.TikZ.Edge(\"n42.east\", \"\\$(n5.center)+(0,-1.25em)\\$\", Catlab.Graphics.TikZ.PathOperation(\"to\", Catlab.Graphics.TikZ.Property[Catlab.Graphics.TikZ.Property(\"out\", \"0\"), Catlab.Graphics.TikZ.Property(\"in\", \"180\")]), Catlab.Graphics.TikZ.Property[], nothing)], Catlab.Graphics.TikZ.Property[]))], Catlab.Graphics.TikZ.Property[Catlab.Graphics.TikZ.Property(\"remember picture\", nothing), Catlab.Graphics.TikZ.Property(\"font\", \"{\\\\fontsize{12}{14.4}}\"), Catlab.Graphics.TikZ.Property(\"container/.style\", \"{inner sep=0}\"), Catlab.Graphics.TikZ.Property(\"every path/.style\", \"{solid, line width=0.4pt}\"), Catlab.Graphics.TikZ.Property(\"execute at begin node\", \"\\$\"), Catlab.Graphics.TikZ.Property(\"execute at end node\", \"\\$\")])",
      "image/svg+xml": [
       "<?xml version=\"1.0\" encoding=\"UTF-8\"?>\n",
       "<svg xmlns=\"http://www.w3.org/2000/svg\" xmlns:xlink=\"http://www.w3.org/1999/xlink\" width=\"142.251pt\" height=\"53.474pt\" viewBox=\"0 0 142.251 53.474\" version=\"1.1\">\n",
       "<defs>\n",
       "<g>\n",
       "<symbol overflow=\"visible\" id=\"glyph-1569618377231956-0-0\">\n",
       "<path style=\"stroke:none;\" d=\"\"/>\n",
       "</symbol>\n",
       "<symbol overflow=\"visible\" id=\"glyph-1569618377231956-0-1\">\n",
       "<path style=\"stroke:none;\" d=\"M 4.046875 -1.515625 C 4 -1.328125 3.96875 -1.28125 3.8125 -1.09375 C 3.328125 -0.46875 2.828125 -0.234375 2.453125 -0.234375 C 2.0625 -0.234375 1.6875 -0.546875 1.6875 -1.375 C 1.6875 -2.015625 2.046875 -3.34375 2.3125 -3.890625 C 2.65625 -4.546875 3.1875 -5.03125 3.6875 -5.03125 C 4.484375 -5.03125 4.640625 -4.046875 4.640625 -3.984375 L 4.609375 -3.8125 Z M 4.78125 -4.484375 C 4.625 -4.828125 4.296875 -5.265625 3.6875 -5.265625 C 2.390625 -5.265625 0.90625 -3.640625 0.90625 -1.859375 C 0.90625 -0.609375 1.65625 0 2.421875 0 C 3.0625 0 3.625 -0.5 3.84375 -0.734375 L 3.578125 0.328125 C 3.40625 0.984375 3.328125 1.296875 2.90625 1.703125 C 2.421875 2.203125 1.953125 2.203125 1.703125 2.203125 C 1.34375 2.203125 1.046875 2.171875 0.734375 2.078125 C 1.125 1.96875 1.21875 1.640625 1.21875 1.5 C 1.21875 1.3125 1.078125 1.125 0.8125 1.125 C 0.53125 1.125 0.21875 1.359375 0.21875 1.75 C 0.21875 2.25 0.703125 2.4375 1.71875 2.4375 C 3.265625 2.4375 4.0625 1.453125 4.21875 0.796875 L 5.546875 -4.546875 C 5.578125 -4.703125 5.578125 -4.71875 5.578125 -4.75 C 5.578125 -4.90625 5.453125 -5.046875 5.265625 -5.046875 C 4.984375 -5.046875 4.8125 -4.8125 4.78125 -4.484375 Z M 4.78125 -4.484375 \"/>\n",
       "</symbol>\n",
       "<symbol overflow=\"visible\" id=\"glyph-1569618377231956-0-2\">\n",
       "<path style=\"stroke:none;\" d=\"M 5.328125 -4.8125 C 5.5625 -4.8125 5.671875 -4.8125 5.671875 -5.03125 C 5.671875 -5.15625 5.5625 -5.15625 5.359375 -5.15625 L 4.390625 -5.15625 C 4.609375 -6.390625 4.78125 -7.234375 4.875 -7.609375 C 4.953125 -7.90625 5.203125 -8.171875 5.515625 -8.171875 C 5.765625 -8.171875 6.015625 -8.0625 6.125 -7.953125 C 5.671875 -7.90625 5.515625 -7.5625 5.515625 -7.359375 C 5.515625 -7.125 5.703125 -6.984375 5.921875 -6.984375 C 6.171875 -6.984375 6.53125 -7.1875 6.53125 -7.640625 C 6.53125 -8.140625 6.03125 -8.421875 5.5 -8.421875 C 4.984375 -8.421875 4.484375 -8.03125 4.25 -7.5625 C 4.03125 -7.140625 3.90625 -6.71875 3.640625 -5.15625 L 2.828125 -5.15625 C 2.609375 -5.15625 2.484375 -5.15625 2.484375 -4.9375 C 2.484375 -4.8125 2.5625 -4.8125 2.796875 -4.8125 L 3.5625 -4.8125 C 3.34375 -3.6875 2.859375 -0.984375 2.578125 0.28125 C 2.375 1.328125 2.203125 2.203125 1.609375 2.203125 C 1.5625 2.203125 1.21875 2.203125 1 1.96875 C 1.609375 1.921875 1.609375 1.40625 1.609375 1.390625 C 1.609375 1.140625 1.4375 1 1.203125 1 C 0.96875 1 0.609375 1.203125 0.609375 1.65625 C 0.609375 2.171875 1.140625 2.4375 1.609375 2.4375 C 2.828125 2.4375 3.328125 0.25 3.453125 -0.34375 C 3.671875 -1.265625 4.25 -4.453125 4.3125 -4.8125 Z M 5.328125 -4.8125 \"/>\n",
       "</symbol>\n",
       "<symbol overflow=\"visible\" id=\"glyph-1569618377231956-0-3\">\n",
       "<path style=\"stroke:none;\" d=\"M 3.359375 -8 C 3.375 -8.046875 3.390625 -8.109375 3.390625 -8.171875 C 3.390625 -8.296875 3.28125 -8.296875 3.25 -8.296875 C 3.234375 -8.296875 2.65625 -8.25 2.59375 -8.234375 C 2.390625 -8.21875 2.21875 -8.203125 2 -8.1875 C 1.703125 -8.15625 1.609375 -8.15625 1.609375 -7.9375 C 1.609375 -7.8125 1.703125 -7.8125 1.875 -7.8125 C 2.46875 -7.8125 2.46875 -7.703125 2.46875 -7.59375 C 2.46875 -7.515625 2.453125 -7.421875 2.4375 -7.390625 L 0.703125 -0.46875 C 0.65625 -0.28125 0.65625 -0.265625 0.65625 -0.1875 C 0.65625 0.078125 0.859375 0.125 0.984375 0.125 C 1.1875 0.125 1.34375 -0.03125 1.40625 -0.171875 L 1.9375 -2.328125 C 2 -2.59375 2.0625 -2.84375 2.125 -3.109375 C 2.265625 -3.609375 2.265625 -3.625 2.484375 -3.96875 C 2.71875 -4.3125 3.25 -5.03125 4.171875 -5.03125 C 4.65625 -5.03125 4.8125 -4.671875 4.8125 -4.203125 C 4.8125 -3.53125 4.34375 -2.21875 4.09375 -1.5 C 3.984375 -1.21875 3.921875 -1.0625 3.921875 -0.84375 C 3.921875 -0.3125 4.296875 0.125 4.859375 0.125 C 5.96875 0.125 6.390625 -1.640625 6.390625 -1.703125 C 6.390625 -1.765625 6.34375 -1.8125 6.28125 -1.8125 C 6.171875 -1.8125 6.15625 -1.78125 6.09375 -1.578125 C 5.828125 -0.625 5.375 -0.125 4.90625 -0.125 C 4.78125 -0.125 4.59375 -0.125 4.59375 -0.515625 C 4.59375 -0.828125 4.734375 -1.203125 4.78125 -1.34375 C 5 -1.90625 5.53125 -3.328125 5.53125 -4.015625 C 5.53125 -4.734375 5.109375 -5.265625 4.203125 -5.265625 C 3.53125 -5.265625 2.921875 -4.953125 2.4375 -4.328125 Z M 3.359375 -8 \"/>\n",
       "</symbol>\n",
       "</g>\n",
       "<clipPath id=\"clip-1569618377231956-1\">\n",
       "  <path d=\"M 19 24 L 46 24 L 46 53.472656 L 19 53.472656 Z M 19 24 \"/>\n",
       "</clipPath>\n",
       "<clipPath id=\"clip-1569618377231956-2\">\n",
       "  <path d=\"M 58 0 L 85 0 L 85 53.472656 L 58 53.472656 Z M 58 0 \"/>\n",
       "</clipPath>\n",
       "<clipPath id=\"clip-1569618377231956-3\">\n",
       "  <path d=\"M 97 24 L 123 24 L 123 53.472656 L 97 53.472656 Z M 97 24 \"/>\n",
       "</clipPath>\n",
       "<clipPath id=\"clip-1569618377231956-4\">\n",
       "  <path d=\"M 111 6 L 142.25 6 L 142.25 18 L 111 18 Z M 111 6 \"/>\n",
       "</clipPath>\n",
       "<clipPath id=\"clip-1569618377231956-5\">\n",
       "  <path d=\"M 111 35 L 142.25 35 L 142.25 48 L 111 48 Z M 111 35 \"/>\n",
       "</clipPath>\n",
       "</defs>\n",
       "<g id=\"surface1\">\n",
       "<path style=\"fill:none;stroke-width:0.3985;stroke-linecap:butt;stroke-linejoin:miter;stroke:rgb(0%,0%,0%);stroke-opacity:1;stroke-miterlimit:10;\" d=\"M 10.046375 11.705781 L 4.183094 11.705781 C 1.983875 11.705781 0.198719 9.920625 0.198719 7.721406 L 0.198719 -7.72 C 0.198719 -9.923125 1.983875 -11.704375 4.183094 -11.704375 L 10.046375 -11.704375 C 12.245594 -11.704375 14.03075 -9.923125 14.03075 -7.72 L 14.03075 7.721406 C 14.03075 9.920625 12.245594 11.705781 10.046375 11.705781 Z M 10.046375 11.705781 \" transform=\"matrix(1,0,0,-1,25.313,11.905)\"/>\n",
       "<g style=\"fill:rgb(0%,0%,0%);fill-opacity:1;\">\n",
       "  <use xlink:href=\"#glyph-1569618377231956-0-1\" x=\"29.41\" y=\"13.317\"/>\n",
       "</g>\n",
       "<g clip-path=\"url(#clip-1569618377231956-1)\" clip-rule=\"nonzero\">\n",
       "<path style=\"fill:none;stroke-width:0.3985;stroke-linecap:butt;stroke-linejoin:miter;stroke:rgb(0%,0%,0%);stroke-opacity:1;stroke-miterlimit:10;\" d=\"M 10.550281 -17.958281 L 3.679187 -17.958281 C 1.476062 -17.958281 -0.305188 -19.743438 -0.305188 -21.942656 L -0.305188 -37.384063 C -0.305188 -39.587188 1.476062 -41.368438 3.679187 -41.368438 L 10.550281 -41.368438 C 12.753406 -41.368438 14.534656 -39.587188 14.534656 -37.384063 L 14.534656 -21.942656 C 14.534656 -19.743438 12.753406 -17.958281 10.550281 -17.958281 Z M 10.550281 -17.958281 \" transform=\"matrix(1,0,0,-1,25.313,11.905)\"/>\n",
       "</g>\n",
       "<g style=\"fill:rgb(0%,0%,0%);fill-opacity:1;\">\n",
       "  <use xlink:href=\"#glyph-1569618377231956-0-2\" x=\"28.904\" y=\"44.558\"/>\n",
       "</g>\n",
       "<path style=\"fill:none;stroke-width:0.3985;stroke-linecap:butt;stroke-linejoin:miter;stroke:rgb(0%,0%,0%);stroke-opacity:1;stroke-miterlimit:10;\" d=\"M -0.00190625 14.631531 C 9.677781 14.631531 15.138719 14.83075 24.8145 14.83075 \" transform=\"matrix(1,0,0,-1,0.498,26.737)\"/>\n",
       "<path style=\"fill:none;stroke-width:0.3985;stroke-linecap:butt;stroke-linejoin:miter;stroke:rgb(0%,0%,0%);stroke-opacity:1;stroke-miterlimit:10;\" d=\"M -0.00190625 -14.634094 C 9.478563 -14.634094 14.830125 -14.833313 24.310594 -14.833313 \" transform=\"matrix(1,0,0,-1,0.498,26.737)\"/>\n",
       "<g clip-path=\"url(#clip-1569618377231956-2)\" clip-rule=\"nonzero\">\n",
       "<path style=\"fill:none;stroke-width:0.3985;stroke-linecap:butt;stroke-linejoin:miter;stroke:rgb(0%,0%,0%);stroke-opacity:1;stroke-miterlimit:10;\" d=\"M 73.912156 26.338562 L 67.34575 26.338562 C 65.146531 26.338562 63.361375 24.553406 63.361375 22.354187 L 63.361375 -22.352844 C 63.361375 -24.555969 65.146531 -26.337219 67.34575 -26.337219 L 73.912156 -26.337219 C 76.111375 -26.337219 77.896531 -24.555969 77.896531 -22.352844 L 77.896531 22.354187 C 77.896531 24.553406 76.111375 26.338562 73.912156 26.338562 Z M 73.912156 26.338562 \" transform=\"matrix(1,0,0,-1,0.498,26.737)\"/>\n",
       "</g>\n",
       "<g style=\"fill:rgb(0%,0%,0%);fill-opacity:1;\">\n",
       "  <use xlink:href=\"#glyph-1569618377231956-0-3\" x=\"67.756\" y=\"30.888\"/>\n",
       "</g>\n",
       "<path style=\"fill:none;stroke-width:0.3985;stroke-linecap:butt;stroke-linejoin:miter;stroke:rgb(0%,0%,0%);stroke-opacity:1;stroke-miterlimit:10;\" d=\"M 39.044969 14.83075 C 48.447313 14.83075 53.755906 14.631531 63.162156 14.631531 \" transform=\"matrix(1,0,0,-1,0.498,26.737)\"/>\n",
       "<path style=\"fill:none;stroke-width:0.3985;stroke-linecap:butt;stroke-linejoin:miter;stroke:rgb(0%,0%,0%);stroke-opacity:1;stroke-miterlimit:10;\" d=\"M 39.548875 -14.833313 C 48.755906 -14.833313 53.955125 -14.634094 63.162156 -14.634094 \" transform=\"matrix(1,0,0,-1,0.498,26.737)\"/>\n",
       "<path style=\"fill:none;stroke-width:0.3985;stroke-linecap:butt;stroke-linejoin:miter;stroke:rgb(0%,0%,0%);stroke-opacity:1;stroke-miterlimit:10;\" d=\"M 11.054812 11.705781 L 4.183719 11.705781 C 1.9845 11.705781 0.199344 9.920625 0.199344 7.721406 L 0.199344 -7.72 C 0.199344 -9.923125 1.9845 -11.704375 4.183719 -11.704375 L 11.054812 -11.704375 C 13.257937 -11.704375 15.043094 -9.923125 15.043094 -7.72 L 15.043094 7.721406 C 15.043094 9.920625 13.257937 11.705781 11.054812 11.705781 Z M 11.054812 11.705781 \" transform=\"matrix(1,0,0,-1,102.203,11.905)\"/>\n",
       "<g style=\"fill:rgb(0%,0%,0%);fill-opacity:1;\">\n",
       "  <use xlink:href=\"#glyph-1569618377231956-0-2\" x=\"106.3\" y=\"14.894\"/>\n",
       "</g>\n",
       "<g clip-path=\"url(#clip-1569618377231956-3)\" clip-rule=\"nonzero\">\n",
       "<path style=\"fill:none;stroke-width:0.3985;stroke-linecap:butt;stroke-linejoin:miter;stroke:rgb(0%,0%,0%);stroke-opacity:1;stroke-miterlimit:10;\" d=\"M 10.550906 -17.958281 L 4.691531 -17.958281 C 2.488406 -17.958281 0.707156 -19.743438 0.707156 -21.942656 L 0.707156 -37.384063 C 0.707156 -39.587188 2.488406 -41.368438 4.691531 -41.368438 L 10.550906 -41.368438 C 12.750125 -41.368438 14.535281 -39.587188 14.535281 -37.384063 L 14.535281 -21.942656 C 14.535281 -19.743438 12.750125 -17.958281 10.550906 -17.958281 Z M 10.550906 -17.958281 \" transform=\"matrix(1,0,0,-1,102.203,11.905)\"/>\n",
       "</g>\n",
       "<g style=\"fill:rgb(0%,0%,0%);fill-opacity:1;\">\n",
       "  <use xlink:href=\"#glyph-1569618377231956-0-1\" x=\"106.806\" y=\"42.98\"/>\n",
       "</g>\n",
       "<path style=\"fill:none;stroke-width:0.3985;stroke-linecap:butt;stroke-linejoin:miter;stroke:rgb(0%,0%,0%);stroke-opacity:1;stroke-miterlimit:10;\" d=\"M 78.09575 14.631531 C 87.302781 14.631531 92.498094 14.83075 101.705125 14.83075 \" transform=\"matrix(1,0,0,-1,0.498,26.737)\"/>\n",
       "<path style=\"fill:none;stroke-width:0.3985;stroke-linecap:butt;stroke-linejoin:miter;stroke:rgb(0%,0%,0%);stroke-opacity:1;stroke-miterlimit:10;\" d=\"M 78.09575 -14.634094 C 87.498094 -14.634094 92.806687 -14.833313 102.212937 -14.833313 \" transform=\"matrix(1,0,0,-1,0.498,26.737)\"/>\n",
       "<g clip-path=\"url(#clip-1569618377231956-4)\" clip-rule=\"nonzero\">\n",
       "<path style=\"fill:none;stroke-width:0.3985;stroke-linecap:butt;stroke-linejoin:miter;stroke:rgb(0%,0%,0%);stroke-opacity:1;stroke-miterlimit:10;\" d=\"M 116.947312 14.83075 C 126.427781 14.83075 131.775438 14.631531 141.255906 14.631531 \" transform=\"matrix(1,0,0,-1,0.498,26.737)\"/>\n",
       "</g>\n",
       "<g clip-path=\"url(#clip-1569618377231956-5)\" clip-rule=\"nonzero\">\n",
       "<path style=\"fill:none;stroke-width:0.3985;stroke-linecap:butt;stroke-linejoin:miter;stroke:rgb(0%,0%,0%);stroke-opacity:1;stroke-miterlimit:10;\" d=\"M 116.4395 -14.833313 C 126.119187 -14.833313 131.580125 -14.634094 141.255906 -14.634094 \" transform=\"matrix(1,0,0,-1,0.498,26.737)\"/>\n",
       "</g>\n",
       "</g>\n",
       "</svg>\n",
       "\n"
      ]
     },
     "metadata": {},
     "execution_count": 6
    }
   ],
   "cell_type": "code",
   "source": [
    "to_tikz(comp1)"
   ],
   "metadata": {},
   "execution_count": 6
  },
  {
   "outputs": [
    {
     "output_type": "execute_result",
     "data": {
      "text/plain": "compose(otimes(id(A),f),h,otimes(id(A),g))",
      "text/latex": "$\\left(\\mathrm{id}_{A} \\otimes f\\right) \\cdot h \\cdot \\left(\\mathrm{id}_{A} \\otimes g\\right) : A \\otimes A \\to A \\otimes A$"
     },
     "metadata": {},
     "execution_count": 7
    }
   ],
   "cell_type": "code",
   "source": [
    "comp2 = compose(otimes(id(A),f), h, otimes(id(A),g))"
   ],
   "metadata": {},
   "execution_count": 7
  },
  {
   "outputs": [
    {
     "output_type": "execute_result",
     "data": {
      "text/plain": "Catlab.Graphics.TikZ.Picture(Catlab.Graphics.TikZ.Statement[Catlab.Graphics.TikZ.Node(\"n\", Catlab.Graphics.TikZ.Property[Catlab.Graphics.TikZ.Property(\"container\", nothing)], nothing, Catlab.Graphics.TikZ.Picture(Catlab.Graphics.TikZ.Statement[Catlab.Graphics.TikZ.Node(\"n1\", Catlab.Graphics.TikZ.Property[Catlab.Graphics.TikZ.Property(\"minimum height\", \"4.5em\")], nothing, \"\"), Catlab.Graphics.TikZ.Node(\"n2\", Catlab.Graphics.TikZ.Property[Catlab.Graphics.TikZ.Property(\"container\", nothing), Catlab.Graphics.TikZ.Property(\"right=2em of n1)\", nothing)], nothing, Catlab.Graphics.TikZ.Picture(Catlab.Graphics.TikZ.Statement[Catlab.Graphics.TikZ.Node(\"n21\", Catlab.Graphics.TikZ.Property[Catlab.Graphics.TikZ.Property(\"minimum height\", \"2.0em\")], nothing, \"\"), Catlab.Graphics.TikZ.Node(\"n22\", Catlab.Graphics.TikZ.Property[Catlab.Graphics.TikZ.Property(\"draw\", nothing), Catlab.Graphics.TikZ.Property(\"solid\", nothing), Catlab.Graphics.TikZ.Property(\"inner sep\", \"0.333em\"), Catlab.Graphics.TikZ.Property(\"rectangle\", nothing), Catlab.Graphics.TikZ.Property(\"rounded corners\", nothing), Catlab.Graphics.TikZ.Property(\"minimum height\", \"2.0em\"), Catlab.Graphics.TikZ.Property(\"below=0.5em of n21\", nothing)], nothing, \"f\")], Catlab.Graphics.TikZ.Property[])), Catlab.Graphics.TikZ.Edge(\"\\$(n1.center)+(0,1.25em)\\$\", \"n21.center\", Catlab.Graphics.TikZ.PathOperation(\"to\", Catlab.Graphics.TikZ.Property[Catlab.Graphics.TikZ.Property(\"out\", \"0\"), Catlab.Graphics.TikZ.Property(\"in\", \"180\")]), Catlab.Graphics.TikZ.Property[], nothing), Catlab.Graphics.TikZ.Edge(\"\\$(n1.center)+(0,-1.25em)\\$\", \"n22.west\", Catlab.Graphics.TikZ.PathOperation(\"to\", Catlab.Graphics.TikZ.Property[Catlab.Graphics.TikZ.Property(\"out\", \"0\"), Catlab.Graphics.TikZ.Property(\"in\", \"180\")]), Catlab.Graphics.TikZ.Property[], nothing), Catlab.Graphics.TikZ.Node(\"n3\", Catlab.Graphics.TikZ.Property[Catlab.Graphics.TikZ.Property(\"draw\", nothing), Catlab.Graphics.TikZ.Property(\"solid\", nothing), Catlab.Graphics.TikZ.Property(\"inner sep\", \"0.333em\"), Catlab.Graphics.TikZ.Property(\"rectangle\", nothing), Catlab.Graphics.TikZ.Property(\"rounded corners\", nothing), Catlab.Graphics.TikZ.Property(\"minimum height\", \"4.5em\"), Catlab.Graphics.TikZ.Property(\"right=2em of n2)\", nothing)], nothing, \"h\"), Catlab.Graphics.TikZ.Edge(\"n21.center\", \"\\$(n3.west)+(0,1.25em)\\$\", Catlab.Graphics.TikZ.PathOperation(\"to\", Catlab.Graphics.TikZ.Property[Catlab.Graphics.TikZ.Property(\"out\", \"0\"), Catlab.Graphics.TikZ.Property(\"in\", \"180\")]), Catlab.Graphics.TikZ.Property[], nothing), Catlab.Graphics.TikZ.Edge(\"n22.east\", \"\\$(n3.west)+(0,-1.25em)\\$\", Catlab.Graphics.TikZ.PathOperation(\"to\", Catlab.Graphics.TikZ.Property[Catlab.Graphics.TikZ.Property(\"out\", \"0\"), Catlab.Graphics.TikZ.Property(\"in\", \"180\")]), Catlab.Graphics.TikZ.Property[], nothing), Catlab.Graphics.TikZ.Node(\"n4\", Catlab.Graphics.TikZ.Property[Catlab.Graphics.TikZ.Property(\"container\", nothing), Catlab.Graphics.TikZ.Property(\"right=2em of n3)\", nothing)], nothing, Catlab.Graphics.TikZ.Picture(Catlab.Graphics.TikZ.Statement[Catlab.Graphics.TikZ.Node(\"n41\", Catlab.Graphics.TikZ.Property[Catlab.Graphics.TikZ.Property(\"minimum height\", \"2.0em\")], nothing, \"\"), Catlab.Graphics.TikZ.Node(\"n42\", Catlab.Graphics.TikZ.Property[Catlab.Graphics.TikZ.Property(\"draw\", nothing), Catlab.Graphics.TikZ.Property(\"solid\", nothing), Catlab.Graphics.TikZ.Property(\"inner sep\", \"0.333em\"), Catlab.Graphics.TikZ.Property(\"rectangle\", nothing), Catlab.Graphics.TikZ.Property(\"rounded corners\", nothing), Catlab.Graphics.TikZ.Property(\"minimum height\", \"2.0em\"), Catlab.Graphics.TikZ.Property(\"below=0.5em of n41\", nothing)], nothing, \"g\")], Catlab.Graphics.TikZ.Property[])), Catlab.Graphics.TikZ.Edge(\"\\$(n3.east)+(0,1.25em)\\$\", \"n41.center\", Catlab.Graphics.TikZ.PathOperation(\"to\", Catlab.Graphics.TikZ.Property[Catlab.Graphics.TikZ.Property(\"out\", \"0\"), Catlab.Graphics.TikZ.Property(\"in\", \"180\")]), Catlab.Graphics.TikZ.Property[], nothing), Catlab.Graphics.TikZ.Edge(\"\\$(n3.east)+(0,-1.25em)\\$\", \"n42.west\", Catlab.Graphics.TikZ.PathOperation(\"to\", Catlab.Graphics.TikZ.Property[Catlab.Graphics.TikZ.Property(\"out\", \"0\"), Catlab.Graphics.TikZ.Property(\"in\", \"180\")]), Catlab.Graphics.TikZ.Property[], nothing), Catlab.Graphics.TikZ.Node(\"n5\", Catlab.Graphics.TikZ.Property[Catlab.Graphics.TikZ.Property(\"minimum height\", \"4.5em\"), Catlab.Graphics.TikZ.Property(\"right=2em of n4)\", nothing)], nothing, \"\"), Catlab.Graphics.TikZ.Edge(\"n41.center\", \"\\$(n5.center)+(0,1.25em)\\$\", Catlab.Graphics.TikZ.PathOperation(\"to\", Catlab.Graphics.TikZ.Property[Catlab.Graphics.TikZ.Property(\"out\", \"0\"), Catlab.Graphics.TikZ.Property(\"in\", \"180\")]), Catlab.Graphics.TikZ.Property[], nothing), Catlab.Graphics.TikZ.Edge(\"n42.east\", \"\\$(n5.center)+(0,-1.25em)\\$\", Catlab.Graphics.TikZ.PathOperation(\"to\", Catlab.Graphics.TikZ.Property[Catlab.Graphics.TikZ.Property(\"out\", \"0\"), Catlab.Graphics.TikZ.Property(\"in\", \"180\")]), Catlab.Graphics.TikZ.Property[], nothing)], Catlab.Graphics.TikZ.Property[]))], Catlab.Graphics.TikZ.Property[Catlab.Graphics.TikZ.Property(\"remember picture\", nothing), Catlab.Graphics.TikZ.Property(\"font\", \"{\\\\fontsize{12}{14.4}}\"), Catlab.Graphics.TikZ.Property(\"container/.style\", \"{inner sep=0}\"), Catlab.Graphics.TikZ.Property(\"every path/.style\", \"{solid, line width=0.4pt}\"), Catlab.Graphics.TikZ.Property(\"execute at begin node\", \"\\$\"), Catlab.Graphics.TikZ.Property(\"execute at end node\", \"\\$\")])",
      "image/svg+xml": [
       "<?xml version=\"1.0\" encoding=\"UTF-8\"?>\n",
       "<svg xmlns=\"http://www.w3.org/2000/svg\" xmlns:xlink=\"http://www.w3.org/1999/xlink\" width=\"141.239pt\" height=\"53.275pt\" viewBox=\"0 0 141.239 53.275\" version=\"1.1\">\n",
       "<defs>\n",
       "<g>\n",
       "<symbol overflow=\"visible\" id=\"glyph-1569618377231957-0-0\">\n",
       "<path style=\"stroke:none;\" d=\"\"/>\n",
       "</symbol>\n",
       "<symbol overflow=\"visible\" id=\"glyph-1569618377231957-0-1\">\n",
       "<path style=\"stroke:none;\" d=\"M 5.328125 -4.8125 C 5.5625 -4.8125 5.671875 -4.8125 5.671875 -5.03125 C 5.671875 -5.15625 5.5625 -5.15625 5.359375 -5.15625 L 4.390625 -5.15625 C 4.609375 -6.390625 4.78125 -7.234375 4.875 -7.609375 C 4.953125 -7.90625 5.203125 -8.171875 5.515625 -8.171875 C 5.765625 -8.171875 6.015625 -8.0625 6.125 -7.953125 C 5.671875 -7.90625 5.515625 -7.5625 5.515625 -7.359375 C 5.515625 -7.125 5.703125 -6.984375 5.921875 -6.984375 C 6.171875 -6.984375 6.53125 -7.1875 6.53125 -7.640625 C 6.53125 -8.140625 6.03125 -8.421875 5.5 -8.421875 C 4.984375 -8.421875 4.484375 -8.03125 4.25 -7.5625 C 4.03125 -7.140625 3.90625 -6.71875 3.640625 -5.15625 L 2.828125 -5.15625 C 2.609375 -5.15625 2.484375 -5.15625 2.484375 -4.9375 C 2.484375 -4.8125 2.5625 -4.8125 2.796875 -4.8125 L 3.5625 -4.8125 C 3.34375 -3.6875 2.859375 -0.984375 2.578125 0.28125 C 2.375 1.328125 2.203125 2.203125 1.609375 2.203125 C 1.5625 2.203125 1.21875 2.203125 1 1.96875 C 1.609375 1.921875 1.609375 1.40625 1.609375 1.390625 C 1.609375 1.140625 1.4375 1 1.203125 1 C 0.96875 1 0.609375 1.203125 0.609375 1.65625 C 0.609375 2.171875 1.140625 2.4375 1.609375 2.4375 C 2.828125 2.4375 3.328125 0.25 3.453125 -0.34375 C 3.671875 -1.265625 4.25 -4.453125 4.3125 -4.8125 Z M 5.328125 -4.8125 \"/>\n",
       "</symbol>\n",
       "<symbol overflow=\"visible\" id=\"glyph-1569618377231957-0-2\">\n",
       "<path style=\"stroke:none;\" d=\"M 3.359375 -8 C 3.375 -8.046875 3.390625 -8.109375 3.390625 -8.171875 C 3.390625 -8.296875 3.28125 -8.296875 3.25 -8.296875 C 3.234375 -8.296875 2.65625 -8.25 2.59375 -8.234375 C 2.390625 -8.21875 2.21875 -8.203125 2 -8.1875 C 1.703125 -8.15625 1.609375 -8.15625 1.609375 -7.9375 C 1.609375 -7.8125 1.703125 -7.8125 1.875 -7.8125 C 2.46875 -7.8125 2.46875 -7.703125 2.46875 -7.59375 C 2.46875 -7.515625 2.453125 -7.421875 2.4375 -7.390625 L 0.703125 -0.46875 C 0.65625 -0.28125 0.65625 -0.265625 0.65625 -0.1875 C 0.65625 0.078125 0.859375 0.125 0.984375 0.125 C 1.1875 0.125 1.34375 -0.03125 1.40625 -0.171875 L 1.9375 -2.328125 C 2 -2.59375 2.0625 -2.84375 2.125 -3.109375 C 2.265625 -3.609375 2.265625 -3.625 2.484375 -3.96875 C 2.71875 -4.3125 3.25 -5.03125 4.171875 -5.03125 C 4.65625 -5.03125 4.8125 -4.671875 4.8125 -4.203125 C 4.8125 -3.53125 4.34375 -2.21875 4.09375 -1.5 C 3.984375 -1.21875 3.921875 -1.0625 3.921875 -0.84375 C 3.921875 -0.3125 4.296875 0.125 4.859375 0.125 C 5.96875 0.125 6.390625 -1.640625 6.390625 -1.703125 C 6.390625 -1.765625 6.34375 -1.8125 6.28125 -1.8125 C 6.171875 -1.8125 6.15625 -1.78125 6.09375 -1.578125 C 5.828125 -0.625 5.375 -0.125 4.90625 -0.125 C 4.78125 -0.125 4.59375 -0.125 4.59375 -0.515625 C 4.59375 -0.828125 4.734375 -1.203125 4.78125 -1.34375 C 5 -1.90625 5.53125 -3.328125 5.53125 -4.015625 C 5.53125 -4.734375 5.109375 -5.265625 4.203125 -5.265625 C 3.53125 -5.265625 2.921875 -4.953125 2.4375 -4.328125 Z M 3.359375 -8 \"/>\n",
       "</symbol>\n",
       "<symbol overflow=\"visible\" id=\"glyph-1569618377231957-0-3\">\n",
       "<path style=\"stroke:none;\" d=\"M 4.046875 -1.515625 C 4 -1.328125 3.96875 -1.28125 3.8125 -1.09375 C 3.328125 -0.46875 2.828125 -0.234375 2.453125 -0.234375 C 2.0625 -0.234375 1.6875 -0.546875 1.6875 -1.375 C 1.6875 -2.015625 2.046875 -3.34375 2.3125 -3.890625 C 2.65625 -4.546875 3.1875 -5.03125 3.6875 -5.03125 C 4.484375 -5.03125 4.640625 -4.046875 4.640625 -3.984375 L 4.609375 -3.8125 Z M 4.78125 -4.484375 C 4.625 -4.828125 4.296875 -5.265625 3.6875 -5.265625 C 2.390625 -5.265625 0.90625 -3.640625 0.90625 -1.859375 C 0.90625 -0.609375 1.65625 0 2.421875 0 C 3.0625 0 3.625 -0.5 3.84375 -0.734375 L 3.578125 0.328125 C 3.40625 0.984375 3.328125 1.296875 2.90625 1.703125 C 2.421875 2.203125 1.953125 2.203125 1.703125 2.203125 C 1.34375 2.203125 1.046875 2.171875 0.734375 2.078125 C 1.125 1.96875 1.21875 1.640625 1.21875 1.5 C 1.21875 1.3125 1.078125 1.125 0.8125 1.125 C 0.53125 1.125 0.21875 1.359375 0.21875 1.75 C 0.21875 2.25 0.703125 2.4375 1.71875 2.4375 C 3.265625 2.4375 4.0625 1.453125 4.21875 0.796875 L 5.546875 -4.546875 C 5.578125 -4.703125 5.578125 -4.71875 5.578125 -4.75 C 5.578125 -4.90625 5.453125 -5.046875 5.265625 -5.046875 C 4.984375 -5.046875 4.8125 -4.8125 4.78125 -4.484375 Z M 4.78125 -4.484375 \"/>\n",
       "</symbol>\n",
       "</g>\n",
       "<clipPath id=\"clip-1569618377231957-1\">\n",
       "  <path d=\"M 19 24 L 46 24 L 46 53.273438 L 19 53.273438 Z M 19 24 \"/>\n",
       "</clipPath>\n",
       "<clipPath id=\"clip-1569618377231957-2\">\n",
       "  <path d=\"M 58 0 L 85 0 L 85 53.273438 L 58 53.273438 Z M 58 0 \"/>\n",
       "</clipPath>\n",
       "<clipPath id=\"clip-1569618377231957-3\">\n",
       "  <path d=\"M 96 24 L 122 24 L 122 53.273438 L 96 53.273438 Z M 96 24 \"/>\n",
       "</clipPath>\n",
       "<clipPath id=\"clip-1569618377231957-4\">\n",
       "  <path d=\"M 103 6 L 141.238281 6 L 141.238281 18 L 103 18 Z M 103 6 \"/>\n",
       "</clipPath>\n",
       "<clipPath id=\"clip-1569618377231957-5\">\n",
       "  <path d=\"M 110 35 L 141.238281 35 L 141.238281 48 L 110 48 Z M 110 35 \"/>\n",
       "</clipPath>\n",
       "</defs>\n",
       "<g id=\"surface1\">\n",
       "<g clip-path=\"url(#clip-1569618377231957-1)\" clip-rule=\"nonzero\">\n",
       "<path style=\"fill:none;stroke-width:0.3985;stroke-linecap:butt;stroke-linejoin:miter;stroke:rgb(0%,0%,0%);stroke-opacity:1;stroke-miterlimit:10;\" d=\"M 4.133281 -17.958062 L -2.737813 -17.958062 C -4.940938 -17.958062 -6.722188 -19.743219 -6.722188 -21.942437 L -6.722188 -37.383844 C -6.722188 -39.586969 -4.940938 -41.368219 -2.737813 -41.368219 L 4.133281 -41.368219 C 6.336406 -41.368219 8.117656 -39.586969 8.117656 -37.383844 L 8.117656 -21.942437 C 8.117656 -19.743219 6.336406 -17.958062 4.133281 -17.958062 Z M 4.133281 -17.958062 \" transform=\"matrix(1,0,0,-1,31.73,11.706)\"/>\n",
       "</g>\n",
       "<g style=\"fill:rgb(0%,0%,0%);fill-opacity:1;\">\n",
       "  <use xlink:href=\"#glyph-1569618377231957-0-1\" x=\"28.904\" y=\"44.359\"/>\n",
       "</g>\n",
       "<path style=\"fill:none;stroke-width:0.3985;stroke-linecap:butt;stroke-linejoin:miter;stroke:rgb(0%,0%,0%);stroke-opacity:1;stroke-miterlimit:10;\" d=\"M -0.00190625 14.634094 C 12.451219 14.634094 19.478562 14.930969 31.927781 14.930969 \" transform=\"matrix(1,0,0,-1,0.498,26.638)\"/>\n",
       "<path style=\"fill:none;stroke-width:0.3985;stroke-linecap:butt;stroke-linejoin:miter;stroke:rgb(0%,0%,0%);stroke-opacity:1;stroke-miterlimit:10;\" d=\"M -0.00190625 -14.631531 C 9.478563 -14.631531 14.830125 -14.733094 24.310594 -14.733094 \" transform=\"matrix(1,0,0,-1,0.498,26.638)\"/>\n",
       "<g clip-path=\"url(#clip-1569618377231957-2)\" clip-rule=\"nonzero\">\n",
       "<path style=\"fill:none;stroke-width:0.3985;stroke-linecap:butt;stroke-linejoin:miter;stroke:rgb(0%,0%,0%);stroke-opacity:1;stroke-miterlimit:10;\" d=\"M 73.912156 26.337219 L 67.34575 26.337219 C 65.146531 26.337219 63.361375 24.555969 63.361375 22.352844 L 63.361375 -22.354187 C 63.361375 -24.553406 65.146531 -26.338562 67.34575 -26.338562 L 73.912156 -26.338562 C 76.111375 -26.338562 77.896531 -24.553406 77.896531 -22.354187 L 77.896531 22.352844 C 77.896531 24.555969 76.111375 26.337219 73.912156 26.337219 Z M 73.912156 26.337219 \" transform=\"matrix(1,0,0,-1,0.498,26.638)\"/>\n",
       "</g>\n",
       "<g style=\"fill:rgb(0%,0%,0%);fill-opacity:1;\">\n",
       "  <use xlink:href=\"#glyph-1569618377231957-0-2\" x=\"67.756\" y=\"30.789\"/>\n",
       "</g>\n",
       "<path style=\"fill:none;stroke-width:0.3985;stroke-linecap:butt;stroke-linejoin:miter;stroke:rgb(0%,0%,0%);stroke-opacity:1;stroke-miterlimit:10;\" d=\"M 31.927781 14.930969 C 44.107469 14.930969 50.982469 14.634094 63.162156 14.634094 \" transform=\"matrix(1,0,0,-1,0.498,26.638)\"/>\n",
       "<path style=\"fill:none;stroke-width:0.3985;stroke-linecap:butt;stroke-linejoin:miter;stroke:rgb(0%,0%,0%);stroke-opacity:1;stroke-miterlimit:10;\" d=\"M 39.548875 -14.733094 C 48.755906 -14.733094 53.955125 -14.631531 63.162156 -14.631531 \" transform=\"matrix(1,0,0,-1,0.498,26.638)\"/>\n",
       "<g clip-path=\"url(#clip-1569618377231957-3)\" clip-rule=\"nonzero\">\n",
       "<path style=\"fill:none;stroke-width:0.3985;stroke-linecap:butt;stroke-linejoin:miter;stroke:rgb(0%,0%,0%);stroke-opacity:1;stroke-miterlimit:10;\" d=\"M 3.626094 -17.958062 L -2.233281 -17.958062 C -4.4325 -17.958062 -6.217656 -19.743219 -6.217656 -21.942437 L -6.217656 -37.383844 C -6.217656 -39.586969 -4.4325 -41.368219 -2.233281 -41.368219 L 3.626094 -41.368219 C 5.829219 -41.368219 7.614375 -39.586969 7.614375 -37.383844 L 7.614375 -21.942437 C 7.614375 -19.743219 5.829219 -17.958062 3.626094 -17.958062 Z M 3.626094 -17.958062 \" transform=\"matrix(1,0,0,-1,108.62,11.706)\"/>\n",
       "</g>\n",
       "<g style=\"fill:rgb(0%,0%,0%);fill-opacity:1;\">\n",
       "  <use xlink:href=\"#glyph-1569618377231957-0-3\" x=\"106.3\" y=\"42.781\"/>\n",
       "</g>\n",
       "<path style=\"fill:none;stroke-width:0.3985;stroke-linecap:butt;stroke-linejoin:miter;stroke:rgb(0%,0%,0%);stroke-opacity:1;stroke-miterlimit:10;\" d=\"M 78.09575 14.634094 C 90.076219 14.634094 96.837937 14.930969 108.822312 14.930969 \" transform=\"matrix(1,0,0,-1,0.498,26.638)\"/>\n",
       "<path style=\"fill:none;stroke-width:0.3985;stroke-linecap:butt;stroke-linejoin:miter;stroke:rgb(0%,0%,0%);stroke-opacity:1;stroke-miterlimit:10;\" d=\"M 78.09575 -14.631531 C 87.302781 -14.631531 92.498094 -14.733094 101.705125 -14.733094 \" transform=\"matrix(1,0,0,-1,0.498,26.638)\"/>\n",
       "<g clip-path=\"url(#clip-1569618377231957-4)\" clip-rule=\"nonzero\">\n",
       "<path style=\"fill:none;stroke-width:0.3985;stroke-linecap:butt;stroke-linejoin:miter;stroke:rgb(0%,0%,0%);stroke-opacity:1;stroke-miterlimit:10;\" d=\"M 108.822312 14.930969 C 121.076219 14.930969 127.990281 14.634094 140.244188 14.634094 \" transform=\"matrix(1,0,0,-1,0.498,26.638)\"/>\n",
       "</g>\n",
       "<g clip-path=\"url(#clip-1569618377231957-5)\" clip-rule=\"nonzero\">\n",
       "<path style=\"fill:none;stroke-width:0.3985;stroke-linecap:butt;stroke-linejoin:miter;stroke:rgb(0%,0%,0%);stroke-opacity:1;stroke-miterlimit:10;\" d=\"M 115.935594 -14.733094 C 125.416062 -14.733094 130.763719 -14.631531 140.244188 -14.631531 \" transform=\"matrix(1,0,0,-1,0.498,26.638)\"/>\n",
       "</g>\n",
       "</g>\n",
       "</svg>\n",
       "\n"
      ]
     },
     "metadata": {},
     "execution_count": 8
    }
   ],
   "cell_type": "code",
   "source": [
    "to_tikz(comp2)"
   ],
   "metadata": {},
   "execution_count": 8
  },
  {
   "outputs": [
    {
     "output_type": "execute_result",
     "data": {
      "text/plain": "Catlab.Graphics.TikZ.Picture(Catlab.Graphics.TikZ.Statement[Catlab.Graphics.TikZ.Node(\"n\", Catlab.Graphics.TikZ.Property[Catlab.Graphics.TikZ.Property(\"container\", nothing)], nothing, Catlab.Graphics.TikZ.Picture(Catlab.Graphics.TikZ.Statement[Catlab.Graphics.TikZ.Node(\"n1\", Catlab.Graphics.TikZ.Property[Catlab.Graphics.TikZ.Property(\"minimum height\", \"4.5em\")], nothing, \"\"), Catlab.Graphics.TikZ.Node(\"n2\", Catlab.Graphics.TikZ.Property[Catlab.Graphics.TikZ.Property(\"draw\", nothing), Catlab.Graphics.TikZ.Property(\"solid\", nothing), Catlab.Graphics.TikZ.Property(\"inner sep\", \"0.333em\"), Catlab.Graphics.TikZ.Property(\"rectangle\", nothing), Catlab.Graphics.TikZ.Property(\"rounded corners\", nothing), Catlab.Graphics.TikZ.Property(\"minimum height\", \"7.0em\"), Catlab.Graphics.TikZ.Property(\"right=2em of n1)\", nothing)], nothing, \"H\"), Catlab.Graphics.TikZ.Edge(\"\\$(n1.center)+(0,1.25em)\\$\", \"\\$(n2.west)+(0,1.25em)\\$\", Catlab.Graphics.TikZ.PathOperation(\"to\", Catlab.Graphics.TikZ.Property[Catlab.Graphics.TikZ.Property(\"out\", \"0\"), Catlab.Graphics.TikZ.Property(\"in\", \"180\")]), Catlab.Graphics.TikZ.Property[], nothing), Catlab.Graphics.TikZ.Edge(\"\\$(n1.center)+(0,-1.25em)\\$\", \"\\$(n2.west)+(0,-1.25em)\\$\", Catlab.Graphics.TikZ.PathOperation(\"to\", Catlab.Graphics.TikZ.Property[Catlab.Graphics.TikZ.Property(\"out\", \"0\"), Catlab.Graphics.TikZ.Property(\"in\", \"180\")]), Catlab.Graphics.TikZ.Property[], nothing), Catlab.Graphics.TikZ.Node(\"n3\", Catlab.Graphics.TikZ.Property[Catlab.Graphics.TikZ.Property(\"minimum height\", \"7.0em\"), Catlab.Graphics.TikZ.Property(\"right=2em of n2)\", nothing)], nothing, \"\"), Catlab.Graphics.TikZ.Edge(\"\\$(n2.east)+(0,2.5em)\\$\", \"\\$(n3.center)+(0,2.5em)\\$\", Catlab.Graphics.TikZ.PathOperation(\"to\", Catlab.Graphics.TikZ.Property[Catlab.Graphics.TikZ.Property(\"out\", \"0\"), Catlab.Graphics.TikZ.Property(\"in\", \"180\")]), Catlab.Graphics.TikZ.Property[], nothing), Catlab.Graphics.TikZ.Edge(\"\\$(n2.east)+(0,0.0em)\\$\", \"\\$(n3.center)+(0,0.0em)\\$\", Catlab.Graphics.TikZ.PathOperation(\"to\", Catlab.Graphics.TikZ.Property[Catlab.Graphics.TikZ.Property(\"out\", \"0\"), Catlab.Graphics.TikZ.Property(\"in\", \"180\")]), Catlab.Graphics.TikZ.Property[], nothing), Catlab.Graphics.TikZ.Edge(\"\\$(n2.east)+(0,-2.5em)\\$\", \"\\$(n3.center)+(0,-2.5em)\\$\", Catlab.Graphics.TikZ.PathOperation(\"to\", Catlab.Graphics.TikZ.Property[Catlab.Graphics.TikZ.Property(\"out\", \"0\"), Catlab.Graphics.TikZ.Property(\"in\", \"180\")]), Catlab.Graphics.TikZ.Property[], nothing)], Catlab.Graphics.TikZ.Property[]))], Catlab.Graphics.TikZ.Property[Catlab.Graphics.TikZ.Property(\"remember picture\", nothing), Catlab.Graphics.TikZ.Property(\"font\", \"{\\\\fontsize{12}{14.4}}\"), Catlab.Graphics.TikZ.Property(\"container/.style\", \"{inner sep=0}\"), Catlab.Graphics.TikZ.Property(\"every path/.style\", \"{solid, line width=0.4pt}\"), Catlab.Graphics.TikZ.Property(\"execute at begin node\", \"\\$\"), Catlab.Graphics.TikZ.Property(\"execute at end node\", \"\\$\")])",
      "image/svg+xml": [
       "<?xml version=\"1.0\" encoding=\"UTF-8\"?>\n",
       "<svg xmlns=\"http://www.w3.org/2000/svg\" xmlns:xlink=\"http://www.w3.org/1999/xlink\" width=\"68.032pt\" height=\"82.34pt\" viewBox=\"0 0 68.032 82.34\" version=\"1.1\">\n",
       "<defs>\n",
       "<g>\n",
       "<symbol overflow=\"visible\" id=\"glyph-1569618377231958-0-0\">\n",
       "<path style=\"stroke:none;\" d=\"\"/>\n",
       "</symbol>\n",
       "<symbol overflow=\"visible\" id=\"glyph-1569618377231958-0-1\">\n",
       "<path style=\"stroke:none;\" d=\"M 8.9375 -7.296875 C 9.046875 -7.703125 9.078125 -7.8125 9.921875 -7.8125 C 10.140625 -7.8125 10.25 -7.8125 10.25 -8.03125 C 10.25 -8.15625 10.140625 -8.15625 10.078125 -8.15625 C 9.859375 -8.15625 9.609375 -8.140625 9.390625 -8.140625 L 7.96875 -8.140625 C 7.75 -8.140625 7.5 -8.15625 7.265625 -8.15625 C 7.1875 -8.15625 7.046875 -8.15625 7.046875 -7.9375 C 7.046875 -7.8125 7.125 -7.8125 7.34375 -7.8125 C 8.0625 -7.8125 8.0625 -7.71875 8.0625 -7.59375 C 8.0625 -7.5625 8.0625 -7.5 8.015625 -7.3125 L 7.296875 -4.421875 L 3.6875 -4.421875 L 4.40625 -7.296875 C 4.5 -7.703125 4.53125 -7.8125 5.375 -7.8125 C 5.59375 -7.8125 5.71875 -7.8125 5.71875 -8.03125 C 5.71875 -8.15625 5.609375 -8.15625 5.53125 -8.15625 C 5.3125 -8.15625 5.0625 -8.140625 4.84375 -8.140625 L 3.4375 -8.140625 C 3.203125 -8.140625 2.953125 -8.15625 2.71875 -8.15625 C 2.640625 -8.15625 2.5 -8.15625 2.5 -7.9375 C 2.5 -7.8125 2.578125 -7.8125 2.8125 -7.8125 C 3.53125 -7.8125 3.53125 -7.71875 3.53125 -7.59375 C 3.53125 -7.5625 3.53125 -7.5 3.484375 -7.3125 L 1.859375 -0.890625 C 1.75 -0.46875 1.734375 -0.34375 0.90625 -0.34375 C 0.640625 -0.34375 0.546875 -0.34375 0.546875 -0.125 C 0.546875 0 0.6875 0 0.71875 0 C 0.9375 0 1.1875 -0.03125 1.40625 -0.03125 L 2.828125 -0.03125 C 3.046875 -0.03125 3.296875 0 3.53125 0 C 3.625 0 3.75 0 3.75 -0.234375 C 3.75 -0.34375 3.640625 -0.34375 3.46875 -0.34375 C 2.734375 -0.34375 2.734375 -0.4375 2.734375 -0.5625 C 2.734375 -0.578125 2.734375 -0.65625 2.765625 -0.75 L 3.578125 -4.078125 L 7.203125 -4.078125 C 7 -3.28125 6.390625 -0.78125 6.375 -0.71875 C 6.234375 -0.359375 6.046875 -0.359375 5.34375 -0.34375 C 5.203125 -0.34375 5.09375 -0.34375 5.09375 -0.125 C 5.09375 0 5.21875 0 5.265625 0 C 5.46875 0 5.71875 -0.03125 5.953125 -0.03125 L 7.359375 -0.03125 C 7.59375 -0.03125 7.84375 0 8.0625 0 C 8.15625 0 8.296875 0 8.296875 -0.234375 C 8.296875 -0.34375 8.1875 -0.34375 8.015625 -0.34375 C 7.28125 -0.34375 7.28125 -0.4375 7.28125 -0.5625 C 7.28125 -0.578125 7.28125 -0.65625 7.296875 -0.75 Z M 8.9375 -7.296875 \"/>\n",
       "</symbol>\n",
       "</g>\n",
       "<clipPath id=\"clip-1569618377231958-1\">\n",
       "  <path d=\"M 19 0 L 49 0 L 49 82.339844 L 19 82.339844 Z M 19 0 \"/>\n",
       "</clipPath>\n",
       "<clipPath id=\"clip-1569618377231958-2\">\n",
       "  <path d=\"M 37 6 L 68.03125 6 L 68.03125 18 L 37 18 Z M 37 6 \"/>\n",
       "</clipPath>\n",
       "<clipPath id=\"clip-1569618377231958-3\">\n",
       "  <path d=\"M 37 35 L 68.03125 35 L 68.03125 47 L 37 47 Z M 37 35 \"/>\n",
       "</clipPath>\n",
       "<clipPath id=\"clip-1569618377231958-4\">\n",
       "  <path d=\"M 37 64 L 68.03125 64 L 68.03125 77 L 37 77 Z M 37 64 \"/>\n",
       "</clipPath>\n",
       "</defs>\n",
       "<g id=\"surface1\">\n",
       "<g clip-path=\"url(#clip-1569618377231958-1)\" clip-rule=\"nonzero\">\n",
       "<path style=\"fill:none;stroke-width:0.3985;stroke-linecap:butt;stroke-linejoin:miter;stroke:rgb(0%,0%,0%);stroke-opacity:1;stroke-miterlimit:10;\" d=\"M 38.744188 40.970781 L 28.294969 40.970781 C 26.091844 40.970781 24.310594 39.185625 24.310594 36.986406 L 24.310594 -36.98625 C 24.310594 -39.185469 26.091844 -40.970625 28.294969 -40.970625 L 38.744188 -40.970625 C 40.943406 -40.970625 42.728563 -39.185469 42.728563 -36.98625 L 42.728563 36.986406 C 42.728563 39.185625 40.943406 40.970781 38.744188 40.970781 Z M 38.744188 40.970781 \" transform=\"matrix(1,0,0,-1,0.498,41.17)\"/>\n",
       "</g>\n",
       "<g style=\"fill:rgb(0%,0%,0%);fill-opacity:1;\">\n",
       "  <use xlink:href=\"#glyph-1569618377231958-0-1\" x=\"28.705\" y=\"45.254\"/>\n",
       "</g>\n",
       "<path style=\"fill:none;stroke-width:0.3985;stroke-linecap:butt;stroke-linejoin:miter;stroke:rgb(0%,0%,0%);stroke-opacity:1;stroke-miterlimit:10;\" d=\"M -0.00190625 14.630938 C 9.400438 14.630938 14.709031 14.630938 24.111375 14.630938 \" transform=\"matrix(1,0,0,-1,0.498,41.17)\"/>\n",
       "<path style=\"fill:none;stroke-width:0.3985;stroke-linecap:butt;stroke-linejoin:miter;stroke:rgb(0%,0%,0%);stroke-opacity:1;stroke-miterlimit:10;\" d=\"M -0.00190625 -14.630781 C 9.400438 -14.630781 14.709031 -14.630781 24.111375 -14.630781 \" transform=\"matrix(1,0,0,-1,0.498,41.17)\"/>\n",
       "<g clip-path=\"url(#clip-1569618377231958-2)\" clip-rule=\"nonzero\">\n",
       "<path style=\"fill:none;stroke-width:0.3985;stroke-linecap:butt;stroke-linejoin:miter;stroke:rgb(0%,0%,0%);stroke-opacity:1;stroke-miterlimit:10;\" d=\"M 42.927781 29.26375 C 52.330125 29.26375 57.634813 29.26375 67.037156 29.26375 \" transform=\"matrix(1,0,0,-1,0.498,41.17)\"/>\n",
       "</g>\n",
       "<g clip-path=\"url(#clip-1569618377231958-3)\" clip-rule=\"nonzero\">\n",
       "<path style=\"fill:none;stroke-width:0.3985;stroke-linecap:butt;stroke-linejoin:miter;stroke:rgb(0%,0%,0%);stroke-opacity:1;stroke-miterlimit:10;\" d=\"M 42.927781 -0.001875 C 52.330125 -0.001875 57.634813 -0.001875 67.037156 -0.001875 \" transform=\"matrix(1,0,0,-1,0.498,41.17)\"/>\n",
       "</g>\n",
       "<g clip-path=\"url(#clip-1569618377231958-4)\" clip-rule=\"nonzero\">\n",
       "<path style=\"fill:none;stroke-width:0.3985;stroke-linecap:butt;stroke-linejoin:miter;stroke:rgb(0%,0%,0%);stroke-opacity:1;stroke-miterlimit:10;\" d=\"M 42.927781 -29.263594 C 52.330125 -29.263594 57.634813 -29.263594 67.037156 -29.263594 \" transform=\"matrix(1,0,0,-1,0.498,41.17)\"/>\n",
       "</g>\n",
       "</g>\n",
       "</svg>\n",
       "\n"
      ]
     },
     "metadata": {},
     "execution_count": 9
    }
   ],
   "cell_type": "code",
   "source": [
    "to_tikz(Hom(:H, otimes(A,A), otimes(B,B,B)))"
   ],
   "metadata": {},
   "execution_count": 9
  },
  {
   "outputs": [
    {
     "output_type": "execute_result",
     "data": {
      "text/plain": "compose(braid(A,A),otimes(f,f),braid(B,B))",
      "text/latex": "$\\sigma_{A,A} \\cdot \\left(f \\otimes f\\right) \\cdot \\sigma_{B,B} : A \\otimes A \\to B \\otimes B$"
     },
     "metadata": {},
     "execution_count": 10
    }
   ],
   "cell_type": "code",
   "source": [
    "twist = compose(braid(A,A), otimes(f,f), braid(B,B))"
   ],
   "metadata": {},
   "execution_count": 10
  },
  {
   "outputs": [
    {
     "output_type": "execute_result",
     "data": {
      "text/plain": "Catlab.Graphics.TikZ.Picture(Catlab.Graphics.TikZ.Statement[Catlab.Graphics.TikZ.Node(\"n\", Catlab.Graphics.TikZ.Property[Catlab.Graphics.TikZ.Property(\"container\", nothing)], nothing, Catlab.Graphics.TikZ.Picture(Catlab.Graphics.TikZ.Statement[Catlab.Graphics.TikZ.Node(\"n1\", Catlab.Graphics.TikZ.Property[Catlab.Graphics.TikZ.Property(\"minimum height\", \"4.5em\")], nothing, \"\"), Catlab.Graphics.TikZ.Node(\"n2\", Catlab.Graphics.TikZ.Property[Catlab.Graphics.TikZ.Property(\"minimum height\", \"4.5em\"), Catlab.Graphics.TikZ.Property(\"right=2em of n1)\", nothing)], nothing, \"\"), Catlab.Graphics.TikZ.Edge(\"\\$(n1.center)+(0,1.25em)\\$\", \"n2.center\", Catlab.Graphics.TikZ.PathOperation(\"to\", Catlab.Graphics.TikZ.Property[Catlab.Graphics.TikZ.Property(\"out\", \"0\"), Catlab.Graphics.TikZ.Property(\"in\", \"135\")]), Catlab.Graphics.TikZ.Property[], nothing), Catlab.Graphics.TikZ.Edge(\"\\$(n1.center)+(0,-1.25em)\\$\", \"n2.center\", Catlab.Graphics.TikZ.PathOperation(\"to\", Catlab.Graphics.TikZ.Property[Catlab.Graphics.TikZ.Property(\"out\", \"0\"), Catlab.Graphics.TikZ.Property(\"in\", \"225\")]), Catlab.Graphics.TikZ.Property[], nothing), Catlab.Graphics.TikZ.Node(\"n3\", Catlab.Graphics.TikZ.Property[Catlab.Graphics.TikZ.Property(\"container\", nothing), Catlab.Graphics.TikZ.Property(\"right=2em of n2)\", nothing)], nothing, Catlab.Graphics.TikZ.Picture(Catlab.Graphics.TikZ.Statement[Catlab.Graphics.TikZ.Node(\"n31\", Catlab.Graphics.TikZ.Property[Catlab.Graphics.TikZ.Property(\"draw\", nothing), Catlab.Graphics.TikZ.Property(\"solid\", nothing), Catlab.Graphics.TikZ.Property(\"inner sep\", \"0.333em\"), Catlab.Graphics.TikZ.Property(\"rectangle\", nothing), Catlab.Graphics.TikZ.Property(\"rounded corners\", nothing), Catlab.Graphics.TikZ.Property(\"minimum height\", \"2.0em\")], nothing, \"f\"), Catlab.Graphics.TikZ.Node(\"n32\", Catlab.Graphics.TikZ.Property[Catlab.Graphics.TikZ.Property(\"draw\", nothing), Catlab.Graphics.TikZ.Property(\"solid\", nothing), Catlab.Graphics.TikZ.Property(\"inner sep\", \"0.333em\"), Catlab.Graphics.TikZ.Property(\"rectangle\", nothing), Catlab.Graphics.TikZ.Property(\"rounded corners\", nothing), Catlab.Graphics.TikZ.Property(\"minimum height\", \"2.0em\"), Catlab.Graphics.TikZ.Property(\"below=0.5em of n31\", nothing)], nothing, \"f\")], Catlab.Graphics.TikZ.Property[])), Catlab.Graphics.TikZ.Edge(\"n2.center\", \"n31.west\", Catlab.Graphics.TikZ.PathOperation(\"to\", Catlab.Graphics.TikZ.Property[Catlab.Graphics.TikZ.Property(\"out\", \"45\"), Catlab.Graphics.TikZ.Property(\"in\", \"180\")]), Catlab.Graphics.TikZ.Property[], nothing), Catlab.Graphics.TikZ.Edge(\"n2.center\", \"n32.west\", Catlab.Graphics.TikZ.PathOperation(\"to\", Catlab.Graphics.TikZ.Property[Catlab.Graphics.TikZ.Property(\"out\", \"315\"), Catlab.Graphics.TikZ.Property(\"in\", \"180\")]), Catlab.Graphics.TikZ.Property[], nothing), Catlab.Graphics.TikZ.Node(\"n4\", Catlab.Graphics.TikZ.Property[Catlab.Graphics.TikZ.Property(\"minimum height\", \"4.5em\"), Catlab.Graphics.TikZ.Property(\"right=2em of n3)\", nothing)], nothing, \"\"), Catlab.Graphics.TikZ.Edge(\"n31.east\", \"n4.center\", Catlab.Graphics.TikZ.PathOperation(\"to\", Catlab.Graphics.TikZ.Property[Catlab.Graphics.TikZ.Property(\"out\", \"0\"), Catlab.Graphics.TikZ.Property(\"in\", \"135\")]), Catlab.Graphics.TikZ.Property[], nothing), Catlab.Graphics.TikZ.Edge(\"n32.east\", \"n4.center\", Catlab.Graphics.TikZ.PathOperation(\"to\", Catlab.Graphics.TikZ.Property[Catlab.Graphics.TikZ.Property(\"out\", \"0\"), Catlab.Graphics.TikZ.Property(\"in\", \"225\")]), Catlab.Graphics.TikZ.Property[], nothing), Catlab.Graphics.TikZ.Node(\"n5\", Catlab.Graphics.TikZ.Property[Catlab.Graphics.TikZ.Property(\"minimum height\", \"4.5em\"), Catlab.Graphics.TikZ.Property(\"right=2em of n4)\", nothing)], nothing, \"\"), Catlab.Graphics.TikZ.Edge(\"n4.center\", \"\\$(n5.center)+(0,1.25em)\\$\", Catlab.Graphics.TikZ.PathOperation(\"to\", Catlab.Graphics.TikZ.Property[Catlab.Graphics.TikZ.Property(\"out\", \"45\"), Catlab.Graphics.TikZ.Property(\"in\", \"180\")]), Catlab.Graphics.TikZ.Property[], nothing), Catlab.Graphics.TikZ.Edge(\"n4.center\", \"\\$(n5.center)+(0,-1.25em)\\$\", Catlab.Graphics.TikZ.PathOperation(\"to\", Catlab.Graphics.TikZ.Property[Catlab.Graphics.TikZ.Property(\"out\", \"315\"), Catlab.Graphics.TikZ.Property(\"in\", \"180\")]), Catlab.Graphics.TikZ.Property[], nothing)], Catlab.Graphics.TikZ.Property[]))], Catlab.Graphics.TikZ.Property[Catlab.Graphics.TikZ.Property(\"remember picture\", nothing), Catlab.Graphics.TikZ.Property(\"font\", \"{\\\\fontsize{12}{14.4}}\"), Catlab.Graphics.TikZ.Property(\"container/.style\", \"{inner sep=0}\"), Catlab.Graphics.TikZ.Property(\"every path/.style\", \"{solid, line width=0.4pt}\"), Catlab.Graphics.TikZ.Property(\"execute at begin node\", \"\\$\"), Catlab.Graphics.TikZ.Property(\"execute at end node\", \"\\$\")])",
      "image/svg+xml": [
       "<?xml version=\"1.0\" encoding=\"UTF-8\"?>\n",
       "<svg xmlns=\"http://www.w3.org/2000/svg\" xmlns:xlink=\"http://www.w3.org/1999/xlink\" width=\"114.468pt\" height=\"53.474pt\" viewBox=\"0 0 114.468 53.474\" version=\"1.1\">\n",
       "<defs>\n",
       "<g>\n",
       "<symbol overflow=\"visible\" id=\"glyph-1569618377231959-0-0\">\n",
       "<path style=\"stroke:none;\" d=\"\"/>\n",
       "</symbol>\n",
       "<symbol overflow=\"visible\" id=\"glyph-1569618377231959-0-1\">\n",
       "<path style=\"stroke:none;\" d=\"M 5.328125 -4.8125 C 5.5625 -4.8125 5.671875 -4.8125 5.671875 -5.03125 C 5.671875 -5.15625 5.5625 -5.15625 5.359375 -5.15625 L 4.390625 -5.15625 C 4.609375 -6.390625 4.78125 -7.234375 4.875 -7.609375 C 4.953125 -7.90625 5.203125 -8.171875 5.515625 -8.171875 C 5.765625 -8.171875 6.015625 -8.0625 6.125 -7.953125 C 5.671875 -7.90625 5.515625 -7.5625 5.515625 -7.359375 C 5.515625 -7.125 5.703125 -6.984375 5.921875 -6.984375 C 6.171875 -6.984375 6.53125 -7.1875 6.53125 -7.640625 C 6.53125 -8.140625 6.03125 -8.421875 5.5 -8.421875 C 4.984375 -8.421875 4.484375 -8.03125 4.25 -7.5625 C 4.03125 -7.140625 3.90625 -6.71875 3.640625 -5.15625 L 2.828125 -5.15625 C 2.609375 -5.15625 2.484375 -5.15625 2.484375 -4.9375 C 2.484375 -4.8125 2.5625 -4.8125 2.796875 -4.8125 L 3.5625 -4.8125 C 3.34375 -3.6875 2.859375 -0.984375 2.578125 0.28125 C 2.375 1.328125 2.203125 2.203125 1.609375 2.203125 C 1.5625 2.203125 1.21875 2.203125 1 1.96875 C 1.609375 1.921875 1.609375 1.40625 1.609375 1.390625 C 1.609375 1.140625 1.4375 1 1.203125 1 C 0.96875 1 0.609375 1.203125 0.609375 1.65625 C 0.609375 2.171875 1.140625 2.4375 1.609375 2.4375 C 2.828125 2.4375 3.328125 0.25 3.453125 -0.34375 C 3.671875 -1.265625 4.25 -4.453125 4.3125 -4.8125 Z M 5.328125 -4.8125 \"/>\n",
       "</symbol>\n",
       "</g>\n",
       "<clipPath id=\"clip-1569618377231959-1\">\n",
       "  <path d=\"M 44 24 L 71 24 L 71 53.472656 L 44 53.472656 Z M 44 24 \"/>\n",
       "</clipPath>\n",
       "<clipPath id=\"clip-1569618377231959-2\">\n",
       "  <path d=\"M 83 6 L 114.46875 6 L 114.46875 33 L 83 33 Z M 83 6 \"/>\n",
       "</clipPath>\n",
       "<clipPath id=\"clip-1569618377231959-3\">\n",
       "  <path d=\"M 83 21 L 114.46875 21 L 114.46875 48 L 83 48 Z M 83 21 \"/>\n",
       "</clipPath>\n",
       "</defs>\n",
       "<g id=\"surface1\">\n",
       "<path style=\"fill:none;stroke-width:0.3985;stroke-linecap:butt;stroke-linejoin:miter;stroke:rgb(0%,0%,0%);stroke-opacity:1;stroke-miterlimit:10;\" d=\"M -0.00190625 14.631531 C 11.197313 14.631531 16.888719 7.920594 24.806687 -0.00128125 \" transform=\"matrix(1,0,0,-1,0.498,26.737)\"/>\n",
       "<path style=\"fill:none;stroke-width:0.3985;stroke-linecap:butt;stroke-linejoin:miter;stroke:rgb(0%,0%,0%);stroke-opacity:1;stroke-miterlimit:10;\" d=\"M -0.00190625 -14.634094 C 11.197313 -14.634094 16.888719 -7.91925 24.806687 -0.00128125 \" transform=\"matrix(1,0,0,-1,0.498,26.737)\"/>\n",
       "<path style=\"fill:none;stroke-width:0.3985;stroke-linecap:butt;stroke-linejoin:miter;stroke:rgb(0%,0%,0%);stroke-opacity:1;stroke-miterlimit:10;\" d=\"M 11.054969 11.705781 L 4.183875 11.705781 C 1.984656 11.705781 0.1995 9.920625 0.1995 7.721406 L 0.1995 -7.72 C 0.1995 -9.923125 1.984656 -11.704375 4.183875 -11.704375 L 11.054969 -11.704375 C 13.258094 -11.704375 15.04325 -9.923125 15.04325 -7.72 L 15.04325 7.721406 C 15.04325 9.920625 13.258094 11.705781 11.054969 11.705781 Z M 11.054969 11.705781 \" transform=\"matrix(1,0,0,-1,49.613,11.905)\"/>\n",
       "<g style=\"fill:rgb(0%,0%,0%);fill-opacity:1;\">\n",
       "  <use xlink:href=\"#glyph-1569618377231959-0-1\" x=\"53.711\" y=\"14.894\"/>\n",
       "</g>\n",
       "<g clip-path=\"url(#clip-1569618377231959-1)\" clip-rule=\"nonzero\">\n",
       "<path style=\"fill:none;stroke-width:0.3985;stroke-linecap:butt;stroke-linejoin:miter;stroke:rgb(0%,0%,0%);stroke-opacity:1;stroke-miterlimit:10;\" d=\"M 11.054969 -17.958281 L 4.183875 -17.958281 C 1.984656 -17.958281 0.1995 -19.743438 0.1995 -21.942656 L 0.1995 -37.384063 C 0.1995 -39.587188 1.984656 -41.368438 4.183875 -41.368438 L 11.054969 -41.368438 C 13.258094 -41.368438 15.04325 -39.587188 15.04325 -37.384063 L 15.04325 -21.942656 C 15.04325 -19.743438 13.258094 -17.958281 11.054969 -17.958281 Z M 11.054969 -17.958281 \" transform=\"matrix(1,0,0,-1,49.613,11.905)\"/>\n",
       "</g>\n",
       "<g style=\"fill:rgb(0%,0%,0%);fill-opacity:1;\">\n",
       "  <use xlink:href=\"#glyph-1569618377231959-0-1\" x=\"53.711\" y=\"44.558\"/>\n",
       "</g>\n",
       "<path style=\"fill:none;stroke-width:0.3985;stroke-linecap:butt;stroke-linejoin:miter;stroke:rgb(0%,0%,0%);stroke-opacity:1;stroke-miterlimit:10;\" d=\"M 24.806687 -0.00128125 C 32.673875 7.865906 37.990281 14.83075 49.115281 14.83075 \" transform=\"matrix(1,0,0,-1,0.498,26.737)\"/>\n",
       "<path style=\"fill:none;stroke-width:0.3985;stroke-linecap:butt;stroke-linejoin:miter;stroke:rgb(0%,0%,0%);stroke-opacity:1;stroke-miterlimit:10;\" d=\"M 24.806687 -0.00128125 C 32.673875 -7.864563 37.990281 -14.833313 49.115281 -14.833313 \" transform=\"matrix(1,0,0,-1,0.498,26.737)\"/>\n",
       "<path style=\"fill:none;stroke-width:0.3985;stroke-linecap:butt;stroke-linejoin:miter;stroke:rgb(0%,0%,0%);stroke-opacity:1;stroke-miterlimit:10;\" d=\"M 64.357469 14.83075 C 75.482469 14.83075 80.798875 7.865906 88.666062 -0.00128125 \" transform=\"matrix(1,0,0,-1,0.498,26.737)\"/>\n",
       "<path style=\"fill:none;stroke-width:0.3985;stroke-linecap:butt;stroke-linejoin:miter;stroke:rgb(0%,0%,0%);stroke-opacity:1;stroke-miterlimit:10;\" d=\"M 64.357469 -14.833313 C 75.482469 -14.833313 80.798875 -7.864563 88.666062 -0.00128125 \" transform=\"matrix(1,0,0,-1,0.498,26.737)\"/>\n",
       "<g clip-path=\"url(#clip-1569618377231959-2)\" clip-rule=\"nonzero\">\n",
       "<path style=\"fill:none;stroke-width:0.3985;stroke-linecap:butt;stroke-linejoin:miter;stroke:rgb(0%,0%,0%);stroke-opacity:1;stroke-miterlimit:10;\" d=\"M 88.666062 -0.00128125 C 96.584031 7.920594 102.275437 14.631531 113.474656 14.631531 \" transform=\"matrix(1,0,0,-1,0.498,26.737)\"/>\n",
       "</g>\n",
       "<g clip-path=\"url(#clip-1569618377231959-3)\" clip-rule=\"nonzero\">\n",
       "<path style=\"fill:none;stroke-width:0.3985;stroke-linecap:butt;stroke-linejoin:miter;stroke:rgb(0%,0%,0%);stroke-opacity:1;stroke-miterlimit:10;\" d=\"M 88.666062 -0.00128125 C 96.584031 -7.91925 102.275437 -14.634094 113.474656 -14.634094 \" transform=\"matrix(1,0,0,-1,0.498,26.737)\"/>\n",
       "</g>\n",
       "</g>\n",
       "</svg>\n",
       "\n"
      ]
     },
     "metadata": {},
     "execution_count": 11
    }
   ],
   "cell_type": "code",
   "source": [
    "to_tikz(twist)"
   ],
   "metadata": {},
   "execution_count": 11
  },
  {
   "outputs": [],
   "cell_type": "markdown",
   "source": [
    "### Biproduct category"
   ],
   "metadata": {}
  },
  {
   "outputs": [],
   "cell_type": "code",
   "source": [
    "A, B = Ob(FreeBiproductCategory, :A, :B)\n",
    "f = Hom(:f, A, B)\n",
    "g = Hom(:g, B, A);"
   ],
   "metadata": {},
   "execution_count": 12
  },
  {
   "outputs": [
    {
     "output_type": "execute_result",
     "data": {
      "text/plain": "compose(mcopy(A),otimes(f,f))",
      "text/latex": "$\\Delta_{A} \\cdot \\left(f \\otimes f\\right) : A \\to B \\otimes B$"
     },
     "metadata": {},
     "execution_count": 13
    }
   ],
   "cell_type": "code",
   "source": [
    "split = compose(mcopy(A), otimes(f,f))"
   ],
   "metadata": {},
   "execution_count": 13
  },
  {
   "outputs": [
    {
     "output_type": "execute_result",
     "data": {
      "text/plain": "Catlab.Graphics.TikZ.Picture(Catlab.Graphics.TikZ.Statement[Catlab.Graphics.TikZ.Node(\"n\", Catlab.Graphics.TikZ.Property[Catlab.Graphics.TikZ.Property(\"container\", nothing)], nothing, Catlab.Graphics.TikZ.Picture(Catlab.Graphics.TikZ.Statement[Catlab.Graphics.TikZ.Node(\"n1\", Catlab.Graphics.TikZ.Property[Catlab.Graphics.TikZ.Property(\"minimum height\", \"2.0em\")], nothing, \"\"), Catlab.Graphics.TikZ.Node(\"n2\", Catlab.Graphics.TikZ.Property[Catlab.Graphics.TikZ.Property(\"container\", nothing), Catlab.Graphics.TikZ.Property(\"right=2em of n1)\", nothing)], nothing, Catlab.Graphics.TikZ.Picture(Catlab.Graphics.TikZ.Statement[Catlab.Graphics.TikZ.Node(\"n2 box\", Catlab.Graphics.TikZ.Property[Catlab.Graphics.TikZ.Property(\"minimum height\", \"4.5em\")], nothing, \"\"), Catlab.Graphics.TikZ.Node(\"n2 point\", Catlab.Graphics.TikZ.Property[Catlab.Graphics.TikZ.Property(\"draw\", nothing), Catlab.Graphics.TikZ.Property(\"fill\", nothing), Catlab.Graphics.TikZ.Property(\"circle\", nothing), Catlab.Graphics.TikZ.Property(\"minimum size\", \"0.333em\"), Catlab.Graphics.TikZ.Property(\"above\", \"0 of n2 box.center\"), Catlab.Graphics.TikZ.Property(\"anchor\", \"center\")], nothing, \"\")], Catlab.Graphics.TikZ.Property[])), Catlab.Graphics.TikZ.Edge(\"n1.center\", \"n2 point.180\", Catlab.Graphics.TikZ.PathOperation(\"to\", Catlab.Graphics.TikZ.Property[Catlab.Graphics.TikZ.Property(\"out\", \"0\"), Catlab.Graphics.TikZ.Property(\"in\", \"180\")]), Catlab.Graphics.TikZ.Property[], nothing), Catlab.Graphics.TikZ.Node(\"n3\", Catlab.Graphics.TikZ.Property[Catlab.Graphics.TikZ.Property(\"container\", nothing), Catlab.Graphics.TikZ.Property(\"right=2em of n2)\", nothing)], nothing, Catlab.Graphics.TikZ.Picture(Catlab.Graphics.TikZ.Statement[Catlab.Graphics.TikZ.Node(\"n31\", Catlab.Graphics.TikZ.Property[Catlab.Graphics.TikZ.Property(\"draw\", nothing), Catlab.Graphics.TikZ.Property(\"solid\", nothing), Catlab.Graphics.TikZ.Property(\"inner sep\", \"0.333em\"), Catlab.Graphics.TikZ.Property(\"rectangle\", nothing), Catlab.Graphics.TikZ.Property(\"rounded corners\", nothing), Catlab.Graphics.TikZ.Property(\"minimum height\", \"2.0em\")], nothing, \"f\"), Catlab.Graphics.TikZ.Node(\"n32\", Catlab.Graphics.TikZ.Property[Catlab.Graphics.TikZ.Property(\"draw\", nothing), Catlab.Graphics.TikZ.Property(\"solid\", nothing), Catlab.Graphics.TikZ.Property(\"inner sep\", \"0.333em\"), Catlab.Graphics.TikZ.Property(\"rectangle\", nothing), Catlab.Graphics.TikZ.Property(\"rounded corners\", nothing), Catlab.Graphics.TikZ.Property(\"minimum height\", \"2.0em\"), Catlab.Graphics.TikZ.Property(\"below=0.5em of n31\", nothing)], nothing, \"f\")], Catlab.Graphics.TikZ.Property[])), Catlab.Graphics.TikZ.Edge(\"n2 point.30\", \"n31.west\", Catlab.Graphics.TikZ.PathOperation(\"to\", Catlab.Graphics.TikZ.Property[Catlab.Graphics.TikZ.Property(\"out\", \"30\"), Catlab.Graphics.TikZ.Property(\"in\", \"180\")]), Catlab.Graphics.TikZ.Property[], nothing), Catlab.Graphics.TikZ.Edge(\"n2 point.330\", \"n32.west\", Catlab.Graphics.TikZ.PathOperation(\"to\", Catlab.Graphics.TikZ.Property[Catlab.Graphics.TikZ.Property(\"out\", \"330\"), Catlab.Graphics.TikZ.Property(\"in\", \"180\")]), Catlab.Graphics.TikZ.Property[], nothing), Catlab.Graphics.TikZ.Node(\"n4\", Catlab.Graphics.TikZ.Property[Catlab.Graphics.TikZ.Property(\"minimum height\", \"4.5em\"), Catlab.Graphics.TikZ.Property(\"right=2em of n3)\", nothing)], nothing, \"\"), Catlab.Graphics.TikZ.Edge(\"n31.east\", \"\\$(n4.center)+(0,1.25em)\\$\", Catlab.Graphics.TikZ.PathOperation(\"to\", Catlab.Graphics.TikZ.Property[Catlab.Graphics.TikZ.Property(\"out\", \"0\"), Catlab.Graphics.TikZ.Property(\"in\", \"180\")]), Catlab.Graphics.TikZ.Property[], nothing), Catlab.Graphics.TikZ.Edge(\"n32.east\", \"\\$(n4.center)+(0,-1.25em)\\$\", Catlab.Graphics.TikZ.PathOperation(\"to\", Catlab.Graphics.TikZ.Property[Catlab.Graphics.TikZ.Property(\"out\", \"0\"), Catlab.Graphics.TikZ.Property(\"in\", \"180\")]), Catlab.Graphics.TikZ.Property[], nothing)], Catlab.Graphics.TikZ.Property[]))], Catlab.Graphics.TikZ.Property[Catlab.Graphics.TikZ.Property(\"remember picture\", nothing), Catlab.Graphics.TikZ.Property(\"font\", \"{\\\\fontsize{12}{14.4}}\"), Catlab.Graphics.TikZ.Property(\"container/.style\", \"{inner sep=0}\"), Catlab.Graphics.TikZ.Property(\"every path/.style\", \"{solid, line width=0.4pt}\"), Catlab.Graphics.TikZ.Property(\"execute at begin node\", \"\\$\"), Catlab.Graphics.TikZ.Property(\"execute at end node\", \"\\$\")])",
      "image/svg+xml": [
       "<?xml version=\"1.0\" encoding=\"UTF-8\"?>\n",
       "<svg xmlns=\"http://www.w3.org/2000/svg\" xmlns:xlink=\"http://www.w3.org/1999/xlink\" width=\"92.961pt\" height=\"53.474pt\" viewBox=\"0 0 92.961 53.474\" version=\"1.1\">\n",
       "<defs>\n",
       "<g>\n",
       "<symbol overflow=\"visible\" id=\"glyph-1569618377231960-0-0\">\n",
       "<path style=\"stroke:none;\" d=\"\"/>\n",
       "</symbol>\n",
       "<symbol overflow=\"visible\" id=\"glyph-1569618377231960-0-1\">\n",
       "<path style=\"stroke:none;\" d=\"M 5.328125 -4.8125 C 5.5625 -4.8125 5.671875 -4.8125 5.671875 -5.03125 C 5.671875 -5.15625 5.5625 -5.15625 5.359375 -5.15625 L 4.390625 -5.15625 C 4.609375 -6.390625 4.78125 -7.234375 4.875 -7.609375 C 4.953125 -7.90625 5.203125 -8.171875 5.515625 -8.171875 C 5.765625 -8.171875 6.015625 -8.0625 6.125 -7.953125 C 5.671875 -7.90625 5.515625 -7.5625 5.515625 -7.359375 C 5.515625 -7.125 5.703125 -6.984375 5.921875 -6.984375 C 6.171875 -6.984375 6.53125 -7.1875 6.53125 -7.640625 C 6.53125 -8.140625 6.03125 -8.421875 5.5 -8.421875 C 4.984375 -8.421875 4.484375 -8.03125 4.25 -7.5625 C 4.03125 -7.140625 3.90625 -6.71875 3.640625 -5.15625 L 2.828125 -5.15625 C 2.609375 -5.15625 2.484375 -5.15625 2.484375 -4.9375 C 2.484375 -4.8125 2.5625 -4.8125 2.796875 -4.8125 L 3.5625 -4.8125 C 3.34375 -3.6875 2.859375 -0.984375 2.578125 0.28125 C 2.375 1.328125 2.203125 2.203125 1.609375 2.203125 C 1.5625 2.203125 1.21875 2.203125 1 1.96875 C 1.609375 1.921875 1.609375 1.40625 1.609375 1.390625 C 1.609375 1.140625 1.4375 1 1.203125 1 C 0.96875 1 0.609375 1.203125 0.609375 1.65625 C 0.609375 2.171875 1.140625 2.4375 1.609375 2.4375 C 2.828125 2.4375 3.328125 0.25 3.453125 -0.34375 C 3.671875 -1.265625 4.25 -4.453125 4.3125 -4.8125 Z M 5.328125 -4.8125 \"/>\n",
       "</symbol>\n",
       "</g>\n",
       "<clipPath id=\"clip-1569618377231960-1\">\n",
       "  <path d=\"M 47 24 L 74 24 L 74 53.472656 L 47 53.472656 Z M 47 24 \"/>\n",
       "</clipPath>\n",
       "<clipPath id=\"clip-1569618377231960-2\">\n",
       "  <path d=\"M 62 6 L 92.960938 6 L 92.960938 18 L 62 18 Z M 62 6 \"/>\n",
       "</clipPath>\n",
       "<clipPath id=\"clip-1569618377231960-3\">\n",
       "  <path d=\"M 62 35 L 92.960938 35 L 92.960938 48 L 62 48 Z M 62 35 \"/>\n",
       "</clipPath>\n",
       "</defs>\n",
       "<g id=\"surface1\">\n",
       "<path style=\"fill-rule:nonzero;fill:rgb(0%,0%,0%);fill-opacity:1;stroke-width:0.3985;stroke-linecap:butt;stroke-linejoin:miter;stroke:rgb(0%,0%,0%);stroke-opacity:1;stroke-miterlimit:10;\" d=\"M 2.64825 -0.00128125 C 2.64825 1.076844 1.77325 1.947937 0.699031 1.947937 C -0.379094 1.947937 -1.250188 1.076844 -1.250188 -0.00128125 C -1.250188 -1.0755 -0.379094 -1.9505 0.699031 -1.9505 C 1.77325 -1.9505 2.64825 -1.0755 2.64825 -0.00128125 Z M 2.64825 -0.00128125 \" transform=\"matrix(1,0,0,-1,26.258,26.737)\"/>\n",
       "<path style=\"fill:none;stroke-width:0.3985;stroke-linecap:butt;stroke-linejoin:miter;stroke:rgb(0%,0%,0%);stroke-opacity:1;stroke-miterlimit:10;\" d=\"M -0.00190625 -0.00128125 C 9.478563 -0.00128125 14.830125 -0.00128125 24.310594 -0.00128125 \" transform=\"matrix(1,0,0,-1,0.498,26.737)\"/>\n",
       "<path style=\"fill:none;stroke-width:0.3985;stroke-linecap:butt;stroke-linejoin:miter;stroke:rgb(0%,0%,0%);stroke-opacity:1;stroke-miterlimit:10;\" d=\"M 11.058656 11.705781 L 4.183656 11.705781 C 1.984438 11.705781 0.199281 9.920625 0.199281 7.721406 L 0.199281 -7.72 C 0.199281 -9.923125 1.984438 -11.704375 4.183656 -11.704375 L 11.058656 -11.704375 C 13.257875 -11.704375 15.043031 -9.923125 15.043031 -7.72 L 15.043031 7.721406 C 15.043031 9.920625 13.257875 11.705781 11.058656 11.705781 Z M 11.058656 11.705781 \" transform=\"matrix(1,0,0,-1,52.914,11.905)\"/>\n",
       "<g style=\"fill:rgb(0%,0%,0%);fill-opacity:1;\">\n",
       "  <use xlink:href=\"#glyph-1569618377231960-0-1\" x=\"57.011\" y=\"14.894\"/>\n",
       "</g>\n",
       "<g clip-path=\"url(#clip-1569618377231960-1)\" clip-rule=\"nonzero\">\n",
       "<path style=\"fill:none;stroke-width:0.3985;stroke-linecap:butt;stroke-linejoin:miter;stroke:rgb(0%,0%,0%);stroke-opacity:1;stroke-miterlimit:10;\" d=\"M 11.058656 -17.958281 L 4.183656 -17.958281 C 1.984438 -17.958281 0.199281 -19.743438 0.199281 -21.942656 L 0.199281 -37.384063 C 0.199281 -39.587188 1.984438 -41.368438 4.183656 -41.368438 L 11.058656 -41.368438 C 13.257875 -41.368438 15.043031 -39.587188 15.043031 -37.384063 L 15.043031 -21.942656 C 15.043031 -19.743438 13.257875 -17.958281 11.058656 -17.958281 Z M 11.058656 -17.958281 \" transform=\"matrix(1,0,0,-1,52.914,11.905)\"/>\n",
       "</g>\n",
       "<g style=\"fill:rgb(0%,0%,0%);fill-opacity:1;\">\n",
       "  <use xlink:href=\"#glyph-1569618377231960-0-1\" x=\"57.011\" y=\"44.558\"/>\n",
       "</g>\n",
       "<path style=\"fill:none;stroke-width:0.3985;stroke-linecap:butt;stroke-linejoin:miter;stroke:rgb(0%,0%,0%);stroke-opacity:1;stroke-miterlimit:10;\" d=\"M 28.322312 1.076844 C 37.701219 6.490906 41.587938 14.83075 52.416063 14.83075 \" transform=\"matrix(1,0,0,-1,0.498,26.737)\"/>\n",
       "<path style=\"fill:none;stroke-width:0.3985;stroke-linecap:butt;stroke-linejoin:miter;stroke:rgb(0%,0%,0%);stroke-opacity:1;stroke-miterlimit:10;\" d=\"M 28.322312 -1.079406 C 37.701219 -6.489563 41.587938 -14.833313 52.416063 -14.833313 \" transform=\"matrix(1,0,0,-1,0.498,26.737)\"/>\n",
       "<g clip-path=\"url(#clip-1569618377231960-2)\" clip-rule=\"nonzero\">\n",
       "<path style=\"fill:none;stroke-width:0.3985;stroke-linecap:butt;stroke-linejoin:miter;stroke:rgb(0%,0%,0%);stroke-opacity:1;stroke-miterlimit:10;\" d=\"M 67.65825 14.83075 C 77.138719 14.83075 82.486375 14.631531 91.966844 14.631531 \" transform=\"matrix(1,0,0,-1,0.498,26.737)\"/>\n",
       "</g>\n",
       "<g clip-path=\"url(#clip-1569618377231960-3)\" clip-rule=\"nonzero\">\n",
       "<path style=\"fill:none;stroke-width:0.3985;stroke-linecap:butt;stroke-linejoin:miter;stroke:rgb(0%,0%,0%);stroke-opacity:1;stroke-miterlimit:10;\" d=\"M 67.65825 -14.833313 C 77.138719 -14.833313 82.486375 -14.634094 91.966844 -14.634094 \" transform=\"matrix(1,0,0,-1,0.498,26.737)\"/>\n",
       "</g>\n",
       "</g>\n",
       "</svg>\n",
       "\n"
      ]
     },
     "metadata": {},
     "execution_count": 14
    }
   ],
   "cell_type": "code",
   "source": [
    "to_tikz(split)"
   ],
   "metadata": {},
   "execution_count": 14
  },
  {
   "outputs": [
    {
     "output_type": "execute_result",
     "data": {
      "text/plain": "compose(mcopy(A),otimes(f,f),mmerge(B))",
      "text/latex": "$\\Delta_{A} \\cdot \\left(f \\otimes f\\right) \\cdot \\nabla_{B} : A \\to B$"
     },
     "metadata": {},
     "execution_count": 15
    }
   ],
   "cell_type": "code",
   "source": [
    "combine = compose(split, mmerge(B))"
   ],
   "metadata": {},
   "execution_count": 15
  },
  {
   "outputs": [
    {
     "output_type": "execute_result",
     "data": {
      "text/plain": "Catlab.Graphics.TikZ.Picture(Catlab.Graphics.TikZ.Statement[Catlab.Graphics.TikZ.Node(\"n\", Catlab.Graphics.TikZ.Property[Catlab.Graphics.TikZ.Property(\"container\", nothing)], nothing, Catlab.Graphics.TikZ.Picture(Catlab.Graphics.TikZ.Statement[Catlab.Graphics.TikZ.Node(\"n1\", Catlab.Graphics.TikZ.Property[Catlab.Graphics.TikZ.Property(\"minimum height\", \"2.0em\")], nothing, \"\"), Catlab.Graphics.TikZ.Node(\"n2\", Catlab.Graphics.TikZ.Property[Catlab.Graphics.TikZ.Property(\"container\", nothing), Catlab.Graphics.TikZ.Property(\"right=2em of n1)\", nothing)], nothing, Catlab.Graphics.TikZ.Picture(Catlab.Graphics.TikZ.Statement[Catlab.Graphics.TikZ.Node(\"n2 box\", Catlab.Graphics.TikZ.Property[Catlab.Graphics.TikZ.Property(\"minimum height\", \"4.5em\")], nothing, \"\"), Catlab.Graphics.TikZ.Node(\"n2 point\", Catlab.Graphics.TikZ.Property[Catlab.Graphics.TikZ.Property(\"draw\", nothing), Catlab.Graphics.TikZ.Property(\"fill\", nothing), Catlab.Graphics.TikZ.Property(\"circle\", nothing), Catlab.Graphics.TikZ.Property(\"minimum size\", \"0.333em\"), Catlab.Graphics.TikZ.Property(\"above\", \"0 of n2 box.center\"), Catlab.Graphics.TikZ.Property(\"anchor\", \"center\")], nothing, \"\")], Catlab.Graphics.TikZ.Property[])), Catlab.Graphics.TikZ.Edge(\"n1.center\", \"n2 point.180\", Catlab.Graphics.TikZ.PathOperation(\"to\", Catlab.Graphics.TikZ.Property[Catlab.Graphics.TikZ.Property(\"out\", \"0\"), Catlab.Graphics.TikZ.Property(\"in\", \"180\")]), Catlab.Graphics.TikZ.Property[], Catlab.Graphics.TikZ.EdgeNode(Catlab.Graphics.TikZ.Property[Catlab.Graphics.TikZ.Property(\"above\", \"0.25em\"), Catlab.Graphics.TikZ.Property(\"midway\", nothing)], \"A\")), Catlab.Graphics.TikZ.Node(\"n3\", Catlab.Graphics.TikZ.Property[Catlab.Graphics.TikZ.Property(\"container\", nothing), Catlab.Graphics.TikZ.Property(\"right=2em of n2)\", nothing)], nothing, Catlab.Graphics.TikZ.Picture(Catlab.Graphics.TikZ.Statement[Catlab.Graphics.TikZ.Node(\"n31\", Catlab.Graphics.TikZ.Property[Catlab.Graphics.TikZ.Property(\"draw\", nothing), Catlab.Graphics.TikZ.Property(\"solid\", nothing), Catlab.Graphics.TikZ.Property(\"inner sep\", \"0.333em\"), Catlab.Graphics.TikZ.Property(\"rectangle\", nothing), Catlab.Graphics.TikZ.Property(\"rounded corners\", nothing), Catlab.Graphics.TikZ.Property(\"minimum height\", \"2.0em\")], nothing, \"f\"), Catlab.Graphics.TikZ.Node(\"n32\", Catlab.Graphics.TikZ.Property[Catlab.Graphics.TikZ.Property(\"draw\", nothing), Catlab.Graphics.TikZ.Property(\"solid\", nothing), Catlab.Graphics.TikZ.Property(\"inner sep\", \"0.333em\"), Catlab.Graphics.TikZ.Property(\"rectangle\", nothing), Catlab.Graphics.TikZ.Property(\"rounded corners\", nothing), Catlab.Graphics.TikZ.Property(\"minimum height\", \"2.0em\"), Catlab.Graphics.TikZ.Property(\"below=0.5em of n31\", nothing)], nothing, \"f\")], Catlab.Graphics.TikZ.Property[])), Catlab.Graphics.TikZ.Edge(\"n2 point.30\", \"n31.west\", Catlab.Graphics.TikZ.PathOperation(\"to\", Catlab.Graphics.TikZ.Property[Catlab.Graphics.TikZ.Property(\"out\", \"30\"), Catlab.Graphics.TikZ.Property(\"in\", \"180\")]), Catlab.Graphics.TikZ.Property[], nothing), Catlab.Graphics.TikZ.Edge(\"n2 point.330\", \"n32.west\", Catlab.Graphics.TikZ.PathOperation(\"to\", Catlab.Graphics.TikZ.Property[Catlab.Graphics.TikZ.Property(\"out\", \"330\"), Catlab.Graphics.TikZ.Property(\"in\", \"180\")]), Catlab.Graphics.TikZ.Property[], nothing), Catlab.Graphics.TikZ.Node(\"n4\", Catlab.Graphics.TikZ.Property[Catlab.Graphics.TikZ.Property(\"container\", nothing), Catlab.Graphics.TikZ.Property(\"right=2em of n3)\", nothing)], nothing, Catlab.Graphics.TikZ.Picture(Catlab.Graphics.TikZ.Statement[Catlab.Graphics.TikZ.Node(\"n4 box\", Catlab.Graphics.TikZ.Property[Catlab.Graphics.TikZ.Property(\"minimum height\", \"4.5em\")], nothing, \"\"), Catlab.Graphics.TikZ.Node(\"n4 point\", Catlab.Graphics.TikZ.Property[Catlab.Graphics.TikZ.Property(\"draw\", nothing), Catlab.Graphics.TikZ.Property(\"fill\", nothing), Catlab.Graphics.TikZ.Property(\"circle\", nothing), Catlab.Graphics.TikZ.Property(\"minimum size\", \"0.333em\"), Catlab.Graphics.TikZ.Property(\"above\", \"0 of n4 box.center\"), Catlab.Graphics.TikZ.Property(\"anchor\", \"center\")], nothing, \"\")], Catlab.Graphics.TikZ.Property[])), Catlab.Graphics.TikZ.Edge(\"n31.east\", \"n4 point.150\", Catlab.Graphics.TikZ.PathOperation(\"to\", Catlab.Graphics.TikZ.Property[Catlab.Graphics.TikZ.Property(\"out\", \"0\"), Catlab.Graphics.TikZ.Property(\"in\", \"150\")]), Catlab.Graphics.TikZ.Property[], nothing), Catlab.Graphics.TikZ.Edge(\"n32.east\", \"n4 point.210\", Catlab.Graphics.TikZ.PathOperation(\"to\", Catlab.Graphics.TikZ.Property[Catlab.Graphics.TikZ.Property(\"out\", \"0\"), Catlab.Graphics.TikZ.Property(\"in\", \"210\")]), Catlab.Graphics.TikZ.Property[], nothing), Catlab.Graphics.TikZ.Node(\"n5\", Catlab.Graphics.TikZ.Property[Catlab.Graphics.TikZ.Property(\"minimum height\", \"2.0em\"), Catlab.Graphics.TikZ.Property(\"right=2em of n4)\", nothing)], nothing, \"\"), Catlab.Graphics.TikZ.Edge(\"n4 point.0\", \"n5.center\", Catlab.Graphics.TikZ.PathOperation(\"to\", Catlab.Graphics.TikZ.Property[Catlab.Graphics.TikZ.Property(\"out\", \"0\"), Catlab.Graphics.TikZ.Property(\"in\", \"180\")]), Catlab.Graphics.TikZ.Property[], Catlab.Graphics.TikZ.EdgeNode(Catlab.Graphics.TikZ.Property[Catlab.Graphics.TikZ.Property(\"above\", \"0.25em\"), Catlab.Graphics.TikZ.Property(\"midway\", nothing)], \"B\"))], Catlab.Graphics.TikZ.Property[]))], Catlab.Graphics.TikZ.Property[Catlab.Graphics.TikZ.Property(\"remember picture\", nothing), Catlab.Graphics.TikZ.Property(\"font\", \"{\\\\fontsize{12}{14.4}}\"), Catlab.Graphics.TikZ.Property(\"container/.style\", \"{inner sep=0}\"), Catlab.Graphics.TikZ.Property(\"every path/.style\", \"{solid, line width=0.4pt}\"), Catlab.Graphics.TikZ.Property(\"execute at begin node\", \"\\$\"), Catlab.Graphics.TikZ.Property(\"execute at end node\", \"\\$\")])",
      "image/svg+xml": [
       "<?xml version=\"1.0\" encoding=\"UTF-8\"?>\n",
       "<svg xmlns=\"http://www.w3.org/2000/svg\" xmlns:xlink=\"http://www.w3.org/1999/xlink\" width=\"121.068pt\" height=\"53.474pt\" viewBox=\"0 0 121.068 53.474\" version=\"1.1\">\n",
       "<defs>\n",
       "<g>\n",
       "<symbol overflow=\"visible\" id=\"glyph-1569618377231961-0-0\">\n",
       "<path style=\"stroke:none;\" d=\"\"/>\n",
       "</symbol>\n",
       "<symbol overflow=\"visible\" id=\"glyph-1569618377231961-0-1\">\n",
       "<path style=\"stroke:none;\" d=\"M 2.03125 -1.328125 C 1.609375 -0.625 1.203125 -0.375 0.640625 -0.34375 C 0.5 -0.328125 0.40625 -0.328125 0.40625 -0.125 C 0.40625 -0.046875 0.46875 0 0.546875 0 C 0.765625 0 1.296875 -0.03125 1.515625 -0.03125 C 1.859375 -0.03125 2.25 0 2.578125 0 C 2.65625 0 2.796875 0 2.796875 -0.234375 C 2.796875 -0.328125 2.703125 -0.34375 2.625 -0.34375 C 2.359375 -0.375 2.125 -0.46875 2.125 -0.75 C 2.125 -0.921875 2.203125 -1.046875 2.359375 -1.3125 L 3.265625 -2.828125 L 6.3125 -2.828125 C 6.328125 -2.71875 6.328125 -2.625 6.328125 -2.515625 C 6.375 -2.203125 6.515625 -0.953125 6.515625 -0.734375 C 6.515625 -0.375 5.90625 -0.34375 5.71875 -0.34375 C 5.578125 -0.34375 5.453125 -0.34375 5.453125 -0.125 C 5.453125 0 5.5625 0 5.625 0 C 5.828125 0 6.078125 -0.03125 6.28125 -0.03125 L 6.953125 -0.03125 C 7.6875 -0.03125 8.21875 0 8.21875 0 C 8.3125 0 8.4375 0 8.4375 -0.234375 C 8.4375 -0.34375 8.328125 -0.34375 8.15625 -0.34375 C 7.5 -0.34375 7.484375 -0.453125 7.453125 -0.8125 L 6.71875 -8.265625 C 6.6875 -8.515625 6.640625 -8.53125 6.515625 -8.53125 C 6.390625 -8.53125 6.328125 -8.515625 6.21875 -8.328125 Z M 3.46875 -3.171875 L 5.875 -7.1875 L 6.28125 -3.171875 Z M 3.46875 -3.171875 \"/>\n",
       "</symbol>\n",
       "<symbol overflow=\"visible\" id=\"glyph-1569618377231961-0-2\">\n",
       "<path style=\"stroke:none;\" d=\"M 5.328125 -4.8125 C 5.5625 -4.8125 5.671875 -4.8125 5.671875 -5.03125 C 5.671875 -5.15625 5.5625 -5.15625 5.359375 -5.15625 L 4.390625 -5.15625 C 4.609375 -6.390625 4.78125 -7.234375 4.875 -7.609375 C 4.953125 -7.90625 5.203125 -8.171875 5.515625 -8.171875 C 5.765625 -8.171875 6.015625 -8.0625 6.125 -7.953125 C 5.671875 -7.90625 5.515625 -7.5625 5.515625 -7.359375 C 5.515625 -7.125 5.703125 -6.984375 5.921875 -6.984375 C 6.171875 -6.984375 6.53125 -7.1875 6.53125 -7.640625 C 6.53125 -8.140625 6.03125 -8.421875 5.5 -8.421875 C 4.984375 -8.421875 4.484375 -8.03125 4.25 -7.5625 C 4.03125 -7.140625 3.90625 -6.71875 3.640625 -5.15625 L 2.828125 -5.15625 C 2.609375 -5.15625 2.484375 -5.15625 2.484375 -4.9375 C 2.484375 -4.8125 2.5625 -4.8125 2.796875 -4.8125 L 3.5625 -4.8125 C 3.34375 -3.6875 2.859375 -0.984375 2.578125 0.28125 C 2.375 1.328125 2.203125 2.203125 1.609375 2.203125 C 1.5625 2.203125 1.21875 2.203125 1 1.96875 C 1.609375 1.921875 1.609375 1.40625 1.609375 1.390625 C 1.609375 1.140625 1.4375 1 1.203125 1 C 0.96875 1 0.609375 1.203125 0.609375 1.65625 C 0.609375 2.171875 1.140625 2.4375 1.609375 2.4375 C 2.828125 2.4375 3.328125 0.25 3.453125 -0.34375 C 3.671875 -1.265625 4.25 -4.453125 4.3125 -4.8125 Z M 5.328125 -4.8125 \"/>\n",
       "</symbol>\n",
       "<symbol overflow=\"visible\" id=\"glyph-1569618377231961-0-3\">\n",
       "<path style=\"stroke:none;\" d=\"M 4.375 -7.34375 C 4.484375 -7.796875 4.53125 -7.8125 5 -7.8125 L 6.546875 -7.8125 C 7.90625 -7.8125 7.90625 -6.671875 7.90625 -6.5625 C 7.90625 -5.59375 6.9375 -4.359375 5.359375 -4.359375 L 3.640625 -4.359375 Z M 6.390625 -4.265625 C 7.703125 -4.5 8.875 -5.421875 8.875 -6.515625 C 8.875 -7.453125 8.0625 -8.15625 6.703125 -8.15625 L 2.875 -8.15625 C 2.640625 -8.15625 2.53125 -8.15625 2.53125 -7.9375 C 2.53125 -7.8125 2.640625 -7.8125 2.828125 -7.8125 C 3.546875 -7.8125 3.546875 -7.71875 3.546875 -7.59375 C 3.546875 -7.5625 3.546875 -7.5 3.5 -7.3125 L 1.890625 -0.890625 C 1.78125 -0.46875 1.75 -0.34375 0.921875 -0.34375 C 0.6875 -0.34375 0.578125 -0.34375 0.578125 -0.125 C 0.578125 0 0.640625 0 0.890625 0 L 4.984375 0 C 6.8125 0 8.21875 -1.390625 8.21875 -2.59375 C 8.21875 -3.578125 7.359375 -4.171875 6.390625 -4.265625 Z M 4.703125 -0.34375 L 3.078125 -0.34375 C 2.921875 -0.34375 2.890625 -0.34375 2.828125 -0.359375 C 2.6875 -0.375 2.671875 -0.390625 2.671875 -0.484375 C 2.671875 -0.578125 2.703125 -0.640625 2.71875 -0.75 L 3.5625 -4.125 L 5.8125 -4.125 C 7.21875 -4.125 7.21875 -2.8125 7.21875 -2.71875 C 7.21875 -1.5625 6.1875 -0.34375 4.703125 -0.34375 Z M 4.703125 -0.34375 \"/>\n",
       "</symbol>\n",
       "</g>\n",
       "<clipPath id=\"clip-1569618377231961-1\">\n",
       "  <path d=\"M 47 24 L 74 24 L 74 53.472656 L 47 53.472656 Z M 47 24 \"/>\n",
       "</clipPath>\n",
       "<clipPath id=\"clip-1569618377231961-2\">\n",
       "  <path d=\"M 90 21 L 121.066406 21 L 121.066406 33 L 90 33 Z M 90 21 \"/>\n",
       "</clipPath>\n",
       "</defs>\n",
       "<g id=\"surface1\">\n",
       "<path style=\"fill-rule:nonzero;fill:rgb(0%,0%,0%);fill-opacity:1;stroke-width:0.3985;stroke-linecap:butt;stroke-linejoin:miter;stroke:rgb(0%,0%,0%);stroke-opacity:1;stroke-miterlimit:10;\" d=\"M 2.64825 -0.00128125 C 2.64825 1.076844 1.77325 1.947937 0.699031 1.947937 C -0.379094 1.947937 -1.250188 1.076844 -1.250188 -0.00128125 C -1.250188 -1.0755 -0.379094 -1.9505 0.699031 -1.9505 C 1.77325 -1.9505 2.64825 -1.0755 2.64825 -0.00128125 Z M 2.64825 -0.00128125 \" transform=\"matrix(1,0,0,-1,26.258,26.737)\"/>\n",
       "<path style=\"fill:none;stroke-width:0.3985;stroke-linecap:butt;stroke-linejoin:miter;stroke:rgb(0%,0%,0%);stroke-opacity:1;stroke-miterlimit:10;\" d=\"M -0.00190625 -0.00128125 C 9.478563 -0.00128125 14.830125 -0.00128125 24.310594 -0.00128125 \" transform=\"matrix(1,0,0,-1,0.498,26.737)\"/>\n",
       "<g style=\"fill:rgb(0%,0%,0%);fill-opacity:1;\">\n",
       "  <use xlink:href=\"#glyph-1569618377231961-0-1\" x=\"8.265\" y=\"23.611\"/>\n",
       "</g>\n",
       "<path style=\"fill:none;stroke-width:0.3985;stroke-linecap:butt;stroke-linejoin:miter;stroke:rgb(0%,0%,0%);stroke-opacity:1;stroke-miterlimit:10;\" d=\"M 11.058656 11.705781 L 4.183656 11.705781 C 1.984438 11.705781 0.199281 9.920625 0.199281 7.721406 L 0.199281 -7.72 C 0.199281 -9.923125 1.984438 -11.704375 4.183656 -11.704375 L 11.058656 -11.704375 C 13.257875 -11.704375 15.043031 -9.923125 15.043031 -7.72 L 15.043031 7.721406 C 15.043031 9.920625 13.257875 11.705781 11.058656 11.705781 Z M 11.058656 11.705781 \" transform=\"matrix(1,0,0,-1,52.914,11.905)\"/>\n",
       "<g style=\"fill:rgb(0%,0%,0%);fill-opacity:1;\">\n",
       "  <use xlink:href=\"#glyph-1569618377231961-0-2\" x=\"57.011\" y=\"14.894\"/>\n",
       "</g>\n",
       "<g clip-path=\"url(#clip-1569618377231961-1)\" clip-rule=\"nonzero\">\n",
       "<path style=\"fill:none;stroke-width:0.3985;stroke-linecap:butt;stroke-linejoin:miter;stroke:rgb(0%,0%,0%);stroke-opacity:1;stroke-miterlimit:10;\" d=\"M 11.058656 -17.958281 L 4.183656 -17.958281 C 1.984438 -17.958281 0.199281 -19.743438 0.199281 -21.942656 L 0.199281 -37.384063 C 0.199281 -39.587188 1.984438 -41.368438 4.183656 -41.368438 L 11.058656 -41.368438 C 13.257875 -41.368438 15.043031 -39.587188 15.043031 -37.384063 L 15.043031 -21.942656 C 15.043031 -19.743438 13.257875 -17.958281 11.058656 -17.958281 Z M 11.058656 -17.958281 \" transform=\"matrix(1,0,0,-1,52.914,11.905)\"/>\n",
       "</g>\n",
       "<g style=\"fill:rgb(0%,0%,0%);fill-opacity:1;\">\n",
       "  <use xlink:href=\"#glyph-1569618377231961-0-2\" x=\"57.011\" y=\"44.558\"/>\n",
       "</g>\n",
       "<path style=\"fill:none;stroke-width:0.3985;stroke-linecap:butt;stroke-linejoin:miter;stroke:rgb(0%,0%,0%);stroke-opacity:1;stroke-miterlimit:10;\" d=\"M 28.322312 1.076844 C 37.701219 6.490906 41.587938 14.83075 52.416063 14.83075 \" transform=\"matrix(1,0,0,-1,0.498,26.737)\"/>\n",
       "<path style=\"fill:none;stroke-width:0.3985;stroke-linecap:butt;stroke-linejoin:miter;stroke:rgb(0%,0%,0%);stroke-opacity:1;stroke-miterlimit:10;\" d=\"M 28.322312 -1.079406 C 37.701219 -6.489563 41.587938 -14.833313 52.416063 -14.833313 \" transform=\"matrix(1,0,0,-1,0.498,26.737)\"/>\n",
       "<path style=\"fill-rule:nonzero;fill:rgb(0%,0%,0%);fill-opacity:1;stroke-width:0.3985;stroke-linecap:butt;stroke-linejoin:miter;stroke:rgb(0%,0%,0%);stroke-opacity:1;stroke-miterlimit:10;\" d=\"M 2.6465 -0.00128125 C 2.6465 1.076844 1.775406 1.947937 0.697281 1.947937 C -0.380844 1.947937 -1.251938 1.076844 -1.251938 -0.00128125 C -1.251938 -1.0755 -0.380844 -1.9505 0.697281 -1.9505 C 1.775406 -1.9505 2.6465 -1.0755 2.6465 -0.00128125 Z M 2.6465 -0.00128125 \" transform=\"matrix(1,0,0,-1,93.416,26.737)\"/>\n",
       "<path style=\"fill:none;stroke-width:0.3985;stroke-linecap:butt;stroke-linejoin:miter;stroke:rgb(0%,0%,0%);stroke-opacity:1;stroke-miterlimit:10;\" d=\"M 67.65825 14.83075 C 78.486375 14.83075 82.373094 6.490906 91.748094 1.076844 \" transform=\"matrix(1,0,0,-1,0.498,26.737)\"/>\n",
       "<path style=\"fill:none;stroke-width:0.3985;stroke-linecap:butt;stroke-linejoin:miter;stroke:rgb(0%,0%,0%);stroke-opacity:1;stroke-miterlimit:10;\" d=\"M 67.65825 -14.833313 C 78.486375 -14.833313 82.373094 -6.489563 91.748094 -1.079406 \" transform=\"matrix(1,0,0,-1,0.498,26.737)\"/>\n",
       "<g clip-path=\"url(#clip-1569618377231961-2)\" clip-rule=\"nonzero\">\n",
       "<path style=\"fill:none;stroke-width:0.3985;stroke-linecap:butt;stroke-linejoin:miter;stroke:rgb(0%,0%,0%);stroke-opacity:1;stroke-miterlimit:10;\" d=\"M 95.763719 -0.00128125 C 105.244187 -0.00128125 110.59575 -0.00128125 120.072312 -0.00128125 \" transform=\"matrix(1,0,0,-1,0.498,26.737)\"/>\n",
       "</g>\n",
       "<g style=\"fill:rgb(0%,0%,0%);fill-opacity:1;\">\n",
       "  <use xlink:href=\"#glyph-1569618377231961-0-3\" x=\"103.668\" y=\"23.611\"/>\n",
       "</g>\n",
       "</g>\n",
       "</svg>\n",
       "\n"
      ]
     },
     "metadata": {},
     "execution_count": 16
    }
   ],
   "cell_type": "code",
   "source": [
    "to_tikz(combine, labels=true)"
   ],
   "metadata": {},
   "execution_count": 16
  },
  {
   "outputs": [
    {
     "output_type": "execute_result",
     "data": {
      "text/plain": "Catlab.Graphics.TikZ.Picture(Catlab.Graphics.TikZ.Statement[Catlab.Graphics.TikZ.Node(\"n\", Catlab.Graphics.TikZ.Property[Catlab.Graphics.TikZ.Property(\"container\", nothing)], nothing, Catlab.Graphics.TikZ.Picture(Catlab.Graphics.TikZ.Statement[Catlab.Graphics.TikZ.Node(\"n1\", Catlab.Graphics.TikZ.Property[Catlab.Graphics.TikZ.Property(\"container\", nothing)], nothing, Catlab.Graphics.TikZ.Picture(Catlab.Graphics.TikZ.Statement[Catlab.Graphics.TikZ.Node(\"n1 box\", Catlab.Graphics.TikZ.Property[Catlab.Graphics.TikZ.Property(\"minimum height\", \"2.0em\")], nothing, \"\"), Catlab.Graphics.TikZ.Node(\"n1 point\", Catlab.Graphics.TikZ.Property[Catlab.Graphics.TikZ.Property(\"draw\", nothing), Catlab.Graphics.TikZ.Property(\"fill\", nothing), Catlab.Graphics.TikZ.Property(\"circle\", nothing), Catlab.Graphics.TikZ.Property(\"minimum size\", \"0.333em\"), Catlab.Graphics.TikZ.Property(\"above\", \"0 of n1 box.center\"), Catlab.Graphics.TikZ.Property(\"anchor\", \"center\")], nothing, \"\")], Catlab.Graphics.TikZ.Property[])), Catlab.Graphics.TikZ.Node(\"n2\", Catlab.Graphics.TikZ.Property[Catlab.Graphics.TikZ.Property(\"draw\", nothing), Catlab.Graphics.TikZ.Property(\"solid\", nothing), Catlab.Graphics.TikZ.Property(\"inner sep\", \"0.333em\"), Catlab.Graphics.TikZ.Property(\"rectangle\", nothing), Catlab.Graphics.TikZ.Property(\"rounded corners\", nothing), Catlab.Graphics.TikZ.Property(\"minimum height\", \"2.0em\"), Catlab.Graphics.TikZ.Property(\"right=2em of n1)\", nothing)], nothing, \"f\"), Catlab.Graphics.TikZ.Edge(\"n1 point.0\", \"n2.west\", Catlab.Graphics.TikZ.PathOperation(\"to\", Catlab.Graphics.TikZ.Property[Catlab.Graphics.TikZ.Property(\"out\", \"0\"), Catlab.Graphics.TikZ.Property(\"in\", \"180\")]), Catlab.Graphics.TikZ.Property[], nothing), Catlab.Graphics.TikZ.Node(\"n3\", Catlab.Graphics.TikZ.Property[Catlab.Graphics.TikZ.Property(\"draw\", nothing), Catlab.Graphics.TikZ.Property(\"solid\", nothing), Catlab.Graphics.TikZ.Property(\"inner sep\", \"0.333em\"), Catlab.Graphics.TikZ.Property(\"rectangle\", nothing), Catlab.Graphics.TikZ.Property(\"rounded corners\", nothing), Catlab.Graphics.TikZ.Property(\"minimum height\", \"2.0em\"), Catlab.Graphics.TikZ.Property(\"right=2em of n2)\", nothing)], nothing, \"g\"), Catlab.Graphics.TikZ.Edge(\"n2.east\", \"n3.west\", Catlab.Graphics.TikZ.PathOperation(\"to\", Catlab.Graphics.TikZ.Property[Catlab.Graphics.TikZ.Property(\"out\", \"0\"), Catlab.Graphics.TikZ.Property(\"in\", \"180\")]), Catlab.Graphics.TikZ.Property[], nothing), Catlab.Graphics.TikZ.Node(\"n4\", Catlab.Graphics.TikZ.Property[Catlab.Graphics.TikZ.Property(\"container\", nothing), Catlab.Graphics.TikZ.Property(\"right=2em of n3)\", nothing)], nothing, Catlab.Graphics.TikZ.Picture(Catlab.Graphics.TikZ.Statement[Catlab.Graphics.TikZ.Node(\"n4 box\", Catlab.Graphics.TikZ.Property[Catlab.Graphics.TikZ.Property(\"minimum height\", \"2.0em\")], nothing, \"\"), Catlab.Graphics.TikZ.Node(\"n4 point\", Catlab.Graphics.TikZ.Property[Catlab.Graphics.TikZ.Property(\"draw\", nothing), Catlab.Graphics.TikZ.Property(\"fill\", nothing), Catlab.Graphics.TikZ.Property(\"circle\", nothing), Catlab.Graphics.TikZ.Property(\"minimum size\", \"0.333em\"), Catlab.Graphics.TikZ.Property(\"above\", \"0 of n4 box.center\"), Catlab.Graphics.TikZ.Property(\"anchor\", \"center\")], nothing, \"\")], Catlab.Graphics.TikZ.Property[])), Catlab.Graphics.TikZ.Edge(\"n3.east\", \"n4 point.180\", Catlab.Graphics.TikZ.PathOperation(\"to\", Catlab.Graphics.TikZ.Property[Catlab.Graphics.TikZ.Property(\"out\", \"0\"), Catlab.Graphics.TikZ.Property(\"in\", \"180\")]), Catlab.Graphics.TikZ.Property[], nothing)], Catlab.Graphics.TikZ.Property[]))], Catlab.Graphics.TikZ.Property[Catlab.Graphics.TikZ.Property(\"remember picture\", nothing), Catlab.Graphics.TikZ.Property(\"font\", \"{\\\\fontsize{12}{14.4}}\"), Catlab.Graphics.TikZ.Property(\"container/.style\", \"{inner sep=0}\"), Catlab.Graphics.TikZ.Property(\"every path/.style\", \"{solid, line width=0.4pt}\"), Catlab.Graphics.TikZ.Property(\"execute at begin node\", \"\\$\"), Catlab.Graphics.TikZ.Property(\"execute at end node\", \"\\$\")])",
      "image/svg+xml": [
       "<?xml version=\"1.0\" encoding=\"UTF-8\"?>\n",
       "<svg xmlns=\"http://www.w3.org/2000/svg\" xmlns:xlink=\"http://www.w3.org/1999/xlink\" width=\"108.697pt\" height=\"23.81pt\" viewBox=\"0 0 108.697 23.81\" version=\"1.1\">\n",
       "<defs>\n",
       "<g>\n",
       "<symbol overflow=\"visible\" id=\"glyph-1569618377231962-0-0\">\n",
       "<path style=\"stroke:none;\" d=\"\"/>\n",
       "</symbol>\n",
       "<symbol overflow=\"visible\" id=\"glyph-1569618377231962-0-1\">\n",
       "<path style=\"stroke:none;\" d=\"M 5.328125 -4.8125 C 5.5625 -4.8125 5.671875 -4.8125 5.671875 -5.03125 C 5.671875 -5.15625 5.5625 -5.15625 5.359375 -5.15625 L 4.390625 -5.15625 C 4.609375 -6.390625 4.78125 -7.234375 4.875 -7.609375 C 4.953125 -7.90625 5.203125 -8.171875 5.515625 -8.171875 C 5.765625 -8.171875 6.015625 -8.0625 6.125 -7.953125 C 5.671875 -7.90625 5.515625 -7.5625 5.515625 -7.359375 C 5.515625 -7.125 5.703125 -6.984375 5.921875 -6.984375 C 6.171875 -6.984375 6.53125 -7.1875 6.53125 -7.640625 C 6.53125 -8.140625 6.03125 -8.421875 5.5 -8.421875 C 4.984375 -8.421875 4.484375 -8.03125 4.25 -7.5625 C 4.03125 -7.140625 3.90625 -6.71875 3.640625 -5.15625 L 2.828125 -5.15625 C 2.609375 -5.15625 2.484375 -5.15625 2.484375 -4.9375 C 2.484375 -4.8125 2.5625 -4.8125 2.796875 -4.8125 L 3.5625 -4.8125 C 3.34375 -3.6875 2.859375 -0.984375 2.578125 0.28125 C 2.375 1.328125 2.203125 2.203125 1.609375 2.203125 C 1.5625 2.203125 1.21875 2.203125 1 1.96875 C 1.609375 1.921875 1.609375 1.40625 1.609375 1.390625 C 1.609375 1.140625 1.4375 1 1.203125 1 C 0.96875 1 0.609375 1.203125 0.609375 1.65625 C 0.609375 2.171875 1.140625 2.4375 1.609375 2.4375 C 2.828125 2.4375 3.328125 0.25 3.453125 -0.34375 C 3.671875 -1.265625 4.25 -4.453125 4.3125 -4.8125 Z M 5.328125 -4.8125 \"/>\n",
       "</symbol>\n",
       "<symbol overflow=\"visible\" id=\"glyph-1569618377231962-0-2\">\n",
       "<path style=\"stroke:none;\" d=\"M 4.046875 -1.515625 C 4 -1.328125 3.96875 -1.28125 3.8125 -1.09375 C 3.328125 -0.46875 2.828125 -0.234375 2.453125 -0.234375 C 2.0625 -0.234375 1.6875 -0.546875 1.6875 -1.375 C 1.6875 -2.015625 2.046875 -3.34375 2.3125 -3.890625 C 2.65625 -4.546875 3.1875 -5.03125 3.6875 -5.03125 C 4.484375 -5.03125 4.640625 -4.046875 4.640625 -3.984375 L 4.609375 -3.8125 Z M 4.78125 -4.484375 C 4.625 -4.828125 4.296875 -5.265625 3.6875 -5.265625 C 2.390625 -5.265625 0.90625 -3.640625 0.90625 -1.859375 C 0.90625 -0.609375 1.65625 0 2.421875 0 C 3.0625 0 3.625 -0.5 3.84375 -0.734375 L 3.578125 0.328125 C 3.40625 0.984375 3.328125 1.296875 2.90625 1.703125 C 2.421875 2.203125 1.953125 2.203125 1.703125 2.203125 C 1.34375 2.203125 1.046875 2.171875 0.734375 2.078125 C 1.125 1.96875 1.21875 1.640625 1.21875 1.5 C 1.21875 1.3125 1.078125 1.125 0.8125 1.125 C 0.53125 1.125 0.21875 1.359375 0.21875 1.75 C 0.21875 2.25 0.703125 2.4375 1.71875 2.4375 C 3.265625 2.4375 4.0625 1.453125 4.21875 0.796875 L 5.546875 -4.546875 C 5.578125 -4.703125 5.578125 -4.71875 5.578125 -4.75 C 5.578125 -4.90625 5.453125 -5.046875 5.265625 -5.046875 C 4.984375 -5.046875 4.8125 -4.8125 4.78125 -4.484375 Z M 4.78125 -4.484375 \"/>\n",
       "</symbol>\n",
       "</g>\n",
       "<clipPath id=\"clip-1569618377231962-1\">\n",
       "  <path d=\"M 22 0 L 49 0 L 49 23.808594 L 22 23.808594 Z M 22 0 \"/>\n",
       "</clipPath>\n",
       "<clipPath id=\"clip-1569618377231962-2\">\n",
       "  <path d=\"M 61 0 L 87 0 L 87 23.808594 L 61 23.808594 Z M 61 0 \"/>\n",
       "</clipPath>\n",
       "<clipPath id=\"clip-1569618377231962-3\">\n",
       "  <path d=\"M 104 9 L 108.695312 9 L 108.695312 14 L 104 14 Z M 104 9 \"/>\n",
       "</clipPath>\n",
       "<clipPath id=\"clip-1569618377231962-4\">\n",
       "  <path d=\"M 98 4 L 108.695312 4 L 108.695312 20 L 98 20 Z M 98 4 \"/>\n",
       "</clipPath>\n",
       "<clipPath id=\"clip-1569618377231962-5\">\n",
       "  <path d=\"M 75 6 L 108.695312 6 L 108.695312 18 L 75 18 Z M 75 6 \"/>\n",
       "</clipPath>\n",
       "</defs>\n",
       "<g id=\"surface1\">\n",
       "<path style=\"fill-rule:nonzero;fill:rgb(0%,0%,0%);fill-opacity:1;stroke-width:0.3985;stroke-linecap:butt;stroke-linejoin:miter;stroke:rgb(0%,0%,0%);stroke-opacity:1;stroke-miterlimit:10;\" d=\"M 1.949656 -0.00125 C 1.949656 1.076875 1.074656 1.947969 0.0004375 1.947969 C -1.077688 1.947969 -1.948781 1.076875 -1.948781 -0.00125 C -1.948781 -1.075469 -1.077688 -1.950469 0.0004375 -1.950469 C 1.074656 -1.950469 1.949656 -1.075469 1.949656 -0.00125 Z M 1.949656 -0.00125 \" transform=\"matrix(1,0,0,-1,2.148,11.905)\"/>\n",
       "<g clip-path=\"url(#clip-1569618377231962-1)\" clip-rule=\"nonzero\">\n",
       "<path style=\"fill:none;stroke-width:0.3985;stroke-linecap:butt;stroke-linejoin:miter;stroke:rgb(0%,0%,0%);stroke-opacity:1;stroke-miterlimit:10;\" d=\"M 36.816844 11.705781 L 29.94575 11.705781 C 27.742625 11.705781 25.957469 9.920625 25.957469 7.721406 L 25.957469 -7.72 C 25.957469 -9.923125 27.742625 -11.704375 29.94575 -11.704375 L 36.816844 -11.704375 C 39.016062 -11.704375 40.801219 -9.923125 40.801219 -7.72 L 40.801219 7.721406 C 40.801219 9.920625 39.016062 11.705781 36.816844 11.705781 Z M 36.816844 11.705781 \" transform=\"matrix(1,0,0,-1,2.148,11.905)\"/>\n",
       "</g>\n",
       "<g style=\"fill:rgb(0%,0%,0%);fill-opacity:1;\">\n",
       "  <use xlink:href=\"#glyph-1569618377231962-0-1\" x=\"32.005\" y=\"14.894\"/>\n",
       "</g>\n",
       "<path style=\"fill:none;stroke-width:0.3985;stroke-linecap:butt;stroke-linejoin:miter;stroke:rgb(0%,0%,0%);stroke-opacity:1;stroke-miterlimit:10;\" d=\"M 2.148875 -0.00125 C 11.355906 -0.00125 16.551219 -0.00125 25.75825 -0.00125 \" transform=\"matrix(1,0,0,-1,2.148,11.905)\"/>\n",
       "<g clip-path=\"url(#clip-1569618377231962-2)\" clip-rule=\"nonzero\">\n",
       "<path style=\"fill:none;stroke-width:0.3985;stroke-linecap:butt;stroke-linejoin:miter;stroke:rgb(0%,0%,0%);stroke-opacity:1;stroke-miterlimit:10;\" d=\"M 74.457469 11.705781 L 68.598094 11.705781 C 66.394969 11.705781 64.613719 9.920625 64.613719 7.721406 L 64.613719 -7.72 C 64.613719 -9.923125 66.394969 -11.704375 68.598094 -11.704375 L 74.457469 -11.704375 C 76.660594 -11.704375 78.441844 -9.923125 78.441844 -7.72 L 78.441844 7.721406 C 78.441844 9.920625 76.660594 11.705781 74.457469 11.705781 Z M 74.457469 11.705781 \" transform=\"matrix(1,0,0,-1,2.148,11.905)\"/>\n",
       "</g>\n",
       "<g style=\"fill:rgb(0%,0%,0%);fill-opacity:1;\">\n",
       "  <use xlink:href=\"#glyph-1569618377231962-0-2\" x=\"70.658\" y=\"13.316\"/>\n",
       "</g>\n",
       "<path style=\"fill:none;stroke-width:0.3985;stroke-linecap:butt;stroke-linejoin:miter;stroke:rgb(0%,0%,0%);stroke-opacity:1;stroke-miterlimit:10;\" d=\"M 41.000437 -0.00125 C 50.129344 -0.00125 55.281687 -0.00125 64.4145 -0.00125 \" transform=\"matrix(1,0,0,-1,2.148,11.905)\"/>\n",
       "<g clip-path=\"url(#clip-1569618377231962-3)\" clip-rule=\"nonzero\">\n",
       "<path style=\" stroke:none;fill-rule:nonzero;fill:rgb(0%,0%,0%);fill-opacity:1;\" d=\"M 108.496094 11.90625 C 108.496094 10.828125 107.625 9.957031 106.546875 9.957031 C 105.472656 9.957031 104.597656 10.828125 104.597656 11.90625 C 104.597656 12.980469 105.472656 13.855469 106.546875 13.855469 C 107.625 13.855469 108.496094 12.980469 108.496094 11.90625 Z M 108.496094 11.90625 \"/>\n",
       "</g>\n",
       "<g clip-path=\"url(#clip-1569618377231962-4)\" clip-rule=\"nonzero\">\n",
       "<path style=\"fill:none;stroke-width:0.3985;stroke-linecap:butt;stroke-linejoin:miter;stroke:rgb(0%,0%,0%);stroke-opacity:1;stroke-miterlimit:10;\" d=\"M 2.645094 -0.00125 C 2.645094 1.076875 1.774 1.947969 0.695875 1.947969 C -0.378344 1.947969 -1.253344 1.076875 -1.253344 -0.00125 C -1.253344 -1.075469 -0.378344 -1.950469 0.695875 -1.950469 C 1.774 -1.950469 2.645094 -1.075469 2.645094 -0.00125 Z M 2.645094 -0.00125 \" transform=\"matrix(1,0,0,-1,105.851,11.905)\"/>\n",
       "</g>\n",
       "<g clip-path=\"url(#clip-1569618377231962-5)\" clip-rule=\"nonzero\">\n",
       "<path style=\"fill:none;stroke-width:0.3985;stroke-linecap:butt;stroke-linejoin:miter;stroke:rgb(0%,0%,0%);stroke-opacity:1;stroke-miterlimit:10;\" d=\"M 78.641063 -0.00125 C 87.848094 -0.00125 93.047313 -0.00125 102.254344 -0.00125 \" transform=\"matrix(1,0,0,-1,2.148,11.905)\"/>\n",
       "</g>\n",
       "</g>\n",
       "</svg>\n",
       "\n"
      ]
     },
     "metadata": {},
     "execution_count": 17
    }
   ],
   "cell_type": "code",
   "source": [
    "to_tikz(compose(create(A), f, g, delete(A)))"
   ],
   "metadata": {},
   "execution_count": 17
  },
  {
   "outputs": [],
   "cell_type": "markdown",
   "source": [
    "### Compact closed category"
   ],
   "metadata": {}
  },
  {
   "outputs": [],
   "cell_type": "code",
   "source": [
    "A, B = Ob(FreeCompactClosedCategory, :A, :B)\n",
    "f = Hom(:f, A, B)\n",
    "g = Hom(:g, B, A)\n",
    "h = Hom(:h, otimes(A,B), otimes(A,B));"
   ],
   "metadata": {},
   "execution_count": 18
  },
  {
   "outputs": [
    {
     "output_type": "execute_result",
     "data": {
      "text/plain": "Catlab.Graphics.TikZ.Picture(Catlab.Graphics.TikZ.Statement[Catlab.Graphics.TikZ.Node(\"n\", Catlab.Graphics.TikZ.Property[Catlab.Graphics.TikZ.Property(\"container\", nothing)], nothing, Catlab.Graphics.TikZ.Picture(Catlab.Graphics.TikZ.Statement[Catlab.Graphics.TikZ.Node(\"n1\", Catlab.Graphics.TikZ.Property[Catlab.Graphics.TikZ.Property(\"minimum height\", \"4.5em\")], nothing, \"\"), Catlab.Graphics.TikZ.Node(\"n2\", Catlab.Graphics.TikZ.Property[Catlab.Graphics.TikZ.Property(\"minimum height\", \"4.5em\"), Catlab.Graphics.TikZ.Property(\"right=2em of n1)\", nothing)], nothing, \"\"), Catlab.Graphics.TikZ.Edge(\"\\$(n1.center)+(0,1.25em)\\$\", \"n2.center\", Catlab.Graphics.TikZ.PathOperation(\"to\", Catlab.Graphics.TikZ.Property[Catlab.Graphics.TikZ.Property(\"out\", \"0\"), Catlab.Graphics.TikZ.Property(\"in\", \"90\")]), Catlab.Graphics.TikZ.Property[Catlab.Graphics.TikZ.Property(\"postaction\", \"{decorate}\")], nothing), Catlab.Graphics.TikZ.Edge(\"n2.center\", \"\\$(n1.center)+(0,-1.25em)\\$\", Catlab.Graphics.TikZ.PathOperation(\"to\", Catlab.Graphics.TikZ.Property[Catlab.Graphics.TikZ.Property(\"out\", \"270\"), Catlab.Graphics.TikZ.Property(\"in\", \"0\")]), Catlab.Graphics.TikZ.Property[Catlab.Graphics.TikZ.Property(\"postaction\", \"{decorate}\")], nothing)], Catlab.Graphics.TikZ.Property[]))], Catlab.Graphics.TikZ.Property[Catlab.Graphics.TikZ.Property(\"remember picture\", nothing), Catlab.Graphics.TikZ.Property(\"font\", \"{\\\\fontsize{12}{14.4}}\"), Catlab.Graphics.TikZ.Property(\"container/.style\", \"{inner sep=0}\"), Catlab.Graphics.TikZ.Property(\"every path/.style\", \"{solid, line width=0.4pt}\"), Catlab.Graphics.TikZ.Property(\"decoration\", \"{markings, mark=at position 0.5 with {\\\\arrow{Stealth}}}\"), Catlab.Graphics.TikZ.Property(\"execute at begin node\", \"\\$\"), Catlab.Graphics.TikZ.Property(\"execute at end node\", \"\\$\")])",
      "image/svg+xml": [
       "<?xml version=\"1.0\" encoding=\"UTF-8\"?>\n",
       "<svg xmlns=\"http://www.w3.org/2000/svg\" xmlns:xlink=\"http://www.w3.org/1999/xlink\" width=\"25.803pt\" height=\"52.677pt\" viewBox=\"0 0 25.803 52.677\" version=\"1.1\">\n",
       "<defs>\n",
       "<clipPath id=\"clip-1569618377231963-1\">\n",
       "  <path d=\"M 0 6 L 25.804688 6 L 25.804688 32 L 0 32 Z M 0 6 \"/>\n",
       "</clipPath>\n",
       "<clipPath id=\"clip-1569618377231963-2\">\n",
       "  <path d=\"M 0 20 L 25.804688 20 L 25.804688 47 L 0 47 Z M 0 20 \"/>\n",
       "</clipPath>\n",
       "<clipPath id=\"clip-1569618377231963-3\">\n",
       "  <path d=\"M 11 29 L 25.804688 29 L 25.804688 44 L 11 44 Z M 11 29 \"/>\n",
       "</clipPath>\n",
       "</defs>\n",
       "<g id=\"surface1\">\n",
       "<g clip-path=\"url(#clip-1569618377231963-1)\" clip-rule=\"nonzero\">\n",
       "<path style=\"fill:none;stroke-width:0.3985;stroke-linecap:butt;stroke-linejoin:miter;stroke:rgb(0%,0%,0%);stroke-opacity:1;stroke-miterlimit:10;\" d=\"M -0.00190625 14.631969 C 11.197313 14.631969 24.806687 11.198375 24.806687 -0.00084375 \" transform=\"matrix(1,0,0,-1,0.498,26.339)\"/>\n",
       "</g>\n",
       "<path style=\"fill-rule:nonzero;fill:rgb(0%,0%,0%);fill-opacity:1;stroke-width:0.3985;stroke-linecap:butt;stroke-linejoin:miter;stroke:rgb(0%,0%,0%);stroke-opacity:1;stroke-miterlimit:10;\" d=\"M 4.213658 -0.0011509 L 0.642482 1.346111 L 1.819698 -0.000718512 L 0.644877 -1.346414 Z M 4.213658 -0.0011509 \" transform=\"matrix(0.92525,0.38818,0.38818,-0.92525,11.75801,12.55859)\"/>\n",
       "<g clip-path=\"url(#clip-1569618377231963-2)\" clip-rule=\"nonzero\">\n",
       "<path style=\"fill:none;stroke-width:0.3985;stroke-linecap:butt;stroke-linejoin:miter;stroke:rgb(0%,0%,0%);stroke-opacity:1;stroke-miterlimit:10;\" d=\"M 24.806687 -0.00084375 C 24.806687 -11.200063 11.197313 -14.633656 -0.00190625 -14.633656 \" transform=\"matrix(1,0,0,-1,0.498,26.339)\"/>\n",
       "</g>\n",
       "<path style=\" stroke:none;fill-rule:nonzero;fill:rgb(0%,0%,0%);fill-opacity:1;\" d=\"M 16.707031 38.042969 L 20.535156 37.902344 L 18.925781 37.113281 L 19.488281 35.410156 Z M 16.707031 38.042969 \"/>\n",
       "<g clip-path=\"url(#clip-1569618377231963-3)\" clip-rule=\"nonzero\">\n",
       "<path style=\"fill:none;stroke-width:0.3985;stroke-linecap:butt;stroke-linejoin:miter;stroke:rgb(0%,0%,0%);stroke-opacity:1;stroke-miterlimit:10;\" d=\"M 4.215273 -0.0000711523 L 0.642902 1.346698 L 1.817723 0.00100259 L 0.644097 -1.347333 Z M 4.215273 -0.0000711523 \" transform=\"matrix(-0.92525,0.38818,0.38818,0.92525,20.60724,36.40675)\"/>\n",
       "</g>\n",
       "</g>\n",
       "</svg>\n",
       "\n"
      ]
     },
     "metadata": {},
     "execution_count": 19
    }
   ],
   "cell_type": "code",
   "source": [
    "to_tikz(dcounit(A); arrowtip=\"Stealth\", labels=true)"
   ],
   "metadata": {},
   "execution_count": 19
  },
  {
   "outputs": [
    {
     "output_type": "execute_result",
     "data": {
      "text/plain": "Catlab.Graphics.TikZ.Picture(Catlab.Graphics.TikZ.Statement[Catlab.Graphics.TikZ.Node(\"n\", Catlab.Graphics.TikZ.Property[Catlab.Graphics.TikZ.Property(\"container\", nothing)], nothing, Catlab.Graphics.TikZ.Picture(Catlab.Graphics.TikZ.Statement[Catlab.Graphics.TikZ.Node(\"n1\", Catlab.Graphics.TikZ.Property[Catlab.Graphics.TikZ.Property(\"minimum height\", \"4.5em\")], nothing, \"\"), Catlab.Graphics.TikZ.Node(\"n2\", Catlab.Graphics.TikZ.Property[Catlab.Graphics.TikZ.Property(\"minimum height\", \"4.5em\"), Catlab.Graphics.TikZ.Property(\"right=2em of n1)\", nothing)], nothing, \"\"), Catlab.Graphics.TikZ.Edge(\"\\$(n2.center)+(0,1.25em)\\$\", \"n1.center\", Catlab.Graphics.TikZ.PathOperation(\"to\", Catlab.Graphics.TikZ.Property[Catlab.Graphics.TikZ.Property(\"out\", \"180\"), Catlab.Graphics.TikZ.Property(\"in\", \"90\")]), Catlab.Graphics.TikZ.Property[Catlab.Graphics.TikZ.Property(\"postaction\", \"{decorate}\")], nothing), Catlab.Graphics.TikZ.Edge(\"n1.center\", \"\\$(n2.center)+(0,-1.25em)\\$\", Catlab.Graphics.TikZ.PathOperation(\"to\", Catlab.Graphics.TikZ.Property[Catlab.Graphics.TikZ.Property(\"out\", \"270\"), Catlab.Graphics.TikZ.Property(\"in\", \"180\")]), Catlab.Graphics.TikZ.Property[Catlab.Graphics.TikZ.Property(\"postaction\", \"{decorate}\")], nothing)], Catlab.Graphics.TikZ.Property[]))], Catlab.Graphics.TikZ.Property[Catlab.Graphics.TikZ.Property(\"remember picture\", nothing), Catlab.Graphics.TikZ.Property(\"font\", \"{\\\\fontsize{12}{14.4}}\"), Catlab.Graphics.TikZ.Property(\"container/.style\", \"{inner sep=0}\"), Catlab.Graphics.TikZ.Property(\"every path/.style\", \"{solid, line width=0.4pt}\"), Catlab.Graphics.TikZ.Property(\"decoration\", \"{markings, mark=at position 0.5 with {\\\\arrow{Stealth}}}\"), Catlab.Graphics.TikZ.Property(\"execute at begin node\", \"\\$\"), Catlab.Graphics.TikZ.Property(\"execute at end node\", \"\\$\")])",
      "image/svg+xml": [
       "<?xml version=\"1.0\" encoding=\"UTF-8\"?>\n",
       "<svg xmlns=\"http://www.w3.org/2000/svg\" xmlns:xlink=\"http://www.w3.org/1999/xlink\" width=\"25.803pt\" height=\"52.677pt\" viewBox=\"0 0 25.803 52.677\" version=\"1.1\">\n",
       "<defs>\n",
       "<clipPath id=\"clip-1569618377231964-1\">\n",
       "  <path d=\"M 0 6 L 25.804688 6 L 25.804688 32 L 0 32 Z M 0 6 \"/>\n",
       "</clipPath>\n",
       "<clipPath id=\"clip-1569618377231964-2\">\n",
       "  <path d=\"M 0 20 L 25.804688 20 L 25.804688 47 L 0 47 Z M 0 20 \"/>\n",
       "</clipPath>\n",
       "</defs>\n",
       "<g id=\"surface1\">\n",
       "<g clip-path=\"url(#clip-1569618377231964-1)\" clip-rule=\"nonzero\">\n",
       "<path style=\"fill:none;stroke-width:0.3985;stroke-linecap:butt;stroke-linejoin:miter;stroke:rgb(0%,0%,0%);stroke-opacity:1;stroke-miterlimit:10;\" d=\"M 24.806687 14.631969 C 13.607469 14.631969 -0.00190625 11.198375 -0.00190625 -0.00084375 \" transform=\"matrix(1,0,0,-1,0.498,26.339)\"/>\n",
       "</g>\n",
       "<path style=\"fill-rule:nonzero;fill:rgb(0%,0%,0%);fill-opacity:1;stroke-width:0.3985;stroke-linecap:butt;stroke-linejoin:miter;stroke:rgb(0%,0%,0%);stroke-opacity:1;stroke-miterlimit:10;\" d=\"M 4.215651 0.000314694 L 0.64328 1.347084 L 1.818101 0.00138844 L 0.644475 -1.346947 Z M 4.215651 0.000314694 \" transform=\"matrix(-0.92525,0.38818,0.38818,0.92525,14.04494,12.55859)\"/>\n",
       "<g clip-path=\"url(#clip-1569618377231964-2)\" clip-rule=\"nonzero\">\n",
       "<path style=\"fill:none;stroke-width:0.3985;stroke-linecap:butt;stroke-linejoin:miter;stroke:rgb(0%,0%,0%);stroke-opacity:1;stroke-miterlimit:10;\" d=\"M -0.00190625 -0.00084375 C -0.00190625 -11.200063 13.607469 -14.633656 24.806687 -14.633656 \" transform=\"matrix(1,0,0,-1,0.498,26.339)\"/>\n",
       "</g>\n",
       "<path style=\"fill-rule:nonzero;fill:rgb(0%,0%,0%);fill-opacity:1;stroke-width:0.3985;stroke-linecap:butt;stroke-linejoin:miter;stroke:rgb(0%,0%,0%);stroke-opacity:1;stroke-miterlimit:10;\" d=\"M 4.21328 -0.000765051 L 0.642104 1.346496 L 1.81932 -0.000332666 L 0.644499 -1.346028 Z M 4.21328 -0.000765051 \" transform=\"matrix(0.92525,0.38818,0.38818,-0.92525,5.19571,36.40675)\"/>\n",
       "</g>\n",
       "</svg>\n",
       "\n"
      ]
     },
     "metadata": {},
     "execution_count": 20
    }
   ],
   "cell_type": "code",
   "source": [
    "to_tikz(dunit(A); arrowtip=\"Stealth\", labels=true)"
   ],
   "metadata": {},
   "execution_count": 20
  },
  {
   "outputs": [
    {
     "output_type": "execute_result",
     "data": {
      "text/plain": "compose(otimes(dunit(A),id(dual(B))),otimes(id(dual(A)),f,id(dual(B))),otimes(id(dual(A)),dcounit(B)))",
      "text/latex": "$\\left(\\eta_{A} \\otimes \\mathrm{id}_{B^*}\\right) \\cdot \\left(\\mathrm{id}_{A^*} \\otimes f \\otimes \\mathrm{id}_{B^*}\\right) \\cdot \\left(\\mathrm{id}_{A^*} \\otimes \\varepsilon_{B}\\right) : B^* \\to A^*$"
     },
     "metadata": {},
     "execution_count": 21
    }
   ],
   "cell_type": "code",
   "source": [
    "transpose = compose(\n",
    "  otimes(dunit(A), id(dual(B))),\n",
    "  otimes(id(dual(A)), f, id(dual(B))),\n",
    "  otimes(id(dual(A)), dcounit(B)),\n",
    ")"
   ],
   "metadata": {},
   "execution_count": 21
  },
  {
   "outputs": [
    {
     "output_type": "execute_result",
     "data": {
      "text/plain": "Catlab.Graphics.TikZ.Picture(Catlab.Graphics.TikZ.Statement[Catlab.Graphics.TikZ.Node(\"n\", Catlab.Graphics.TikZ.Property[Catlab.Graphics.TikZ.Property(\"container\", nothing)], nothing, Catlab.Graphics.TikZ.Picture(Catlab.Graphics.TikZ.Statement[Catlab.Graphics.TikZ.Node(\"n1\", Catlab.Graphics.TikZ.Property[Catlab.Graphics.TikZ.Property(\"minimum height\", \"2.0em\")], nothing, \"\"), Catlab.Graphics.TikZ.Node(\"n2\", Catlab.Graphics.TikZ.Property[Catlab.Graphics.TikZ.Property(\"container\", nothing), Catlab.Graphics.TikZ.Property(\"right=2em of n1)\", nothing)], nothing, Catlab.Graphics.TikZ.Picture(Catlab.Graphics.TikZ.Statement[Catlab.Graphics.TikZ.Node(\"n21\", Catlab.Graphics.TikZ.Property[Catlab.Graphics.TikZ.Property(\"minimum height\", \"4.5em\")], nothing, \"\"), Catlab.Graphics.TikZ.Node(\"n22\", Catlab.Graphics.TikZ.Property[Catlab.Graphics.TikZ.Property(\"minimum height\", \"2.0em\"), Catlab.Graphics.TikZ.Property(\"below=0.5em of n21\", nothing)], nothing, \"\")], Catlab.Graphics.TikZ.Property[])), Catlab.Graphics.TikZ.Edge(\"n22.center\", \"n1.center\", Catlab.Graphics.TikZ.PathOperation(\"to\", Catlab.Graphics.TikZ.Property[Catlab.Graphics.TikZ.Property(\"out\", \"180\"), Catlab.Graphics.TikZ.Property(\"in\", \"0\")]), Catlab.Graphics.TikZ.Property[], nothing), Catlab.Graphics.TikZ.Node(\"n3\", Catlab.Graphics.TikZ.Property[Catlab.Graphics.TikZ.Property(\"container\", nothing), Catlab.Graphics.TikZ.Property(\"right=2em of n2)\", nothing)], nothing, Catlab.Graphics.TikZ.Picture(Catlab.Graphics.TikZ.Statement[Catlab.Graphics.TikZ.Node(\"n31\", Catlab.Graphics.TikZ.Property[Catlab.Graphics.TikZ.Property(\"minimum height\", \"2.0em\")], nothing, \"\"), Catlab.Graphics.TikZ.Node(\"n32\", Catlab.Graphics.TikZ.Property[Catlab.Graphics.TikZ.Property(\"draw\", nothing), Catlab.Graphics.TikZ.Property(\"solid\", nothing), Catlab.Graphics.TikZ.Property(\"inner sep\", \"0.333em\"), Catlab.Graphics.TikZ.Property(\"rectangle\", nothing), Catlab.Graphics.TikZ.Property(\"rounded corners\", nothing), Catlab.Graphics.TikZ.Property(\"minimum height\", \"2.0em\"), Catlab.Graphics.TikZ.Property(\"below=0.5em of n31\", nothing)], nothing, \"f\"), Catlab.Graphics.TikZ.Node(\"n33\", Catlab.Graphics.TikZ.Property[Catlab.Graphics.TikZ.Property(\"minimum height\", \"2.0em\"), Catlab.Graphics.TikZ.Property(\"below=0.5em of n32\", nothing)], nothing, \"\")], Catlab.Graphics.TikZ.Property[])), Catlab.Graphics.TikZ.Edge(\"n31.center\", \"n21.center\", Catlab.Graphics.TikZ.PathOperation(\"to\", Catlab.Graphics.TikZ.Property[Catlab.Graphics.TikZ.Property(\"out\", \"180\"), Catlab.Graphics.TikZ.Property(\"in\", \"90\")]), Catlab.Graphics.TikZ.Property[], nothing), Catlab.Graphics.TikZ.Edge(\"n21.center\", \"n32.west\", Catlab.Graphics.TikZ.PathOperation(\"to\", Catlab.Graphics.TikZ.Property[Catlab.Graphics.TikZ.Property(\"out\", \"270\"), Catlab.Graphics.TikZ.Property(\"in\", \"180\")]), Catlab.Graphics.TikZ.Property[], nothing), Catlab.Graphics.TikZ.Edge(\"n33.center\", \"n22.center\", Catlab.Graphics.TikZ.PathOperation(\"to\", Catlab.Graphics.TikZ.Property[Catlab.Graphics.TikZ.Property(\"out\", \"180\"), Catlab.Graphics.TikZ.Property(\"in\", \"0\")]), Catlab.Graphics.TikZ.Property[], nothing), Catlab.Graphics.TikZ.Node(\"n4\", Catlab.Graphics.TikZ.Property[Catlab.Graphics.TikZ.Property(\"container\", nothing), Catlab.Graphics.TikZ.Property(\"right=2em of n3)\", nothing)], nothing, Catlab.Graphics.TikZ.Picture(Catlab.Graphics.TikZ.Statement[Catlab.Graphics.TikZ.Node(\"n41\", Catlab.Graphics.TikZ.Property[Catlab.Graphics.TikZ.Property(\"minimum height\", \"2.0em\")], nothing, \"\"), Catlab.Graphics.TikZ.Node(\"n42\", Catlab.Graphics.TikZ.Property[Catlab.Graphics.TikZ.Property(\"minimum height\", \"4.5em\"), Catlab.Graphics.TikZ.Property(\"below=0.5em of n41\", nothing)], nothing, \"\")], Catlab.Graphics.TikZ.Property[])), Catlab.Graphics.TikZ.Edge(\"n41.center\", \"n31.center\", Catlab.Graphics.TikZ.PathOperation(\"to\", Catlab.Graphics.TikZ.Property[Catlab.Graphics.TikZ.Property(\"out\", \"180\"), Catlab.Graphics.TikZ.Property(\"in\", \"0\")]), Catlab.Graphics.TikZ.Property[], nothing), Catlab.Graphics.TikZ.Edge(\"n32.east\", \"n42.center\", Catlab.Graphics.TikZ.PathOperation(\"to\", Catlab.Graphics.TikZ.Property[Catlab.Graphics.TikZ.Property(\"out\", \"0\"), Catlab.Graphics.TikZ.Property(\"in\", \"90\")]), Catlab.Graphics.TikZ.Property[], nothing), Catlab.Graphics.TikZ.Edge(\"n42.center\", \"n33.center\", Catlab.Graphics.TikZ.PathOperation(\"to\", Catlab.Graphics.TikZ.Property[Catlab.Graphics.TikZ.Property(\"out\", \"270\"), Catlab.Graphics.TikZ.Property(\"in\", \"0\")]), Catlab.Graphics.TikZ.Property[], nothing), Catlab.Graphics.TikZ.Node(\"n5\", Catlab.Graphics.TikZ.Property[Catlab.Graphics.TikZ.Property(\"minimum height\", \"2.0em\"), Catlab.Graphics.TikZ.Property(\"right=2em of n4)\", nothing)], nothing, \"\"), Catlab.Graphics.TikZ.Edge(\"n5.center\", \"n41.center\", Catlab.Graphics.TikZ.PathOperation(\"to\", Catlab.Graphics.TikZ.Property[Catlab.Graphics.TikZ.Property(\"out\", \"180\"), Catlab.Graphics.TikZ.Property(\"in\", \"0\")]), Catlab.Graphics.TikZ.Property[], nothing)], Catlab.Graphics.TikZ.Property[]))], Catlab.Graphics.TikZ.Property[Catlab.Graphics.TikZ.Property(\"remember picture\", nothing), Catlab.Graphics.TikZ.Property(\"font\", \"{\\\\fontsize{12}{14.4}}\"), Catlab.Graphics.TikZ.Property(\"container/.style\", \"{inner sep=0}\"), Catlab.Graphics.TikZ.Property(\"every path/.style\", \"{solid, line width=0.4pt}\"), Catlab.Graphics.TikZ.Property(\"execute at begin node\", \"\\$\"), Catlab.Graphics.TikZ.Property(\"execute at end node\", \"\\$\")])",
      "image/svg+xml": [
       "<?xml version=\"1.0\" encoding=\"UTF-8\"?>\n",
       "<svg xmlns=\"http://www.w3.org/2000/svg\" xmlns:xlink=\"http://www.w3.org/1999/xlink\" width=\"114.468pt\" height=\"82.739pt\" viewBox=\"0 0 114.468 82.739\" version=\"1.1\">\n",
       "<defs>\n",
       "<g>\n",
       "<symbol overflow=\"visible\" id=\"glyph-1569618377231965-0-0\">\n",
       "<path style=\"stroke:none;\" d=\"\"/>\n",
       "</symbol>\n",
       "<symbol overflow=\"visible\" id=\"glyph-1569618377231965-0-1\">\n",
       "<path style=\"stroke:none;\" d=\"M 5.328125 -4.8125 C 5.5625 -4.8125 5.671875 -4.8125 5.671875 -5.03125 C 5.671875 -5.15625 5.5625 -5.15625 5.359375 -5.15625 L 4.390625 -5.15625 C 4.609375 -6.390625 4.78125 -7.234375 4.875 -7.609375 C 4.953125 -7.90625 5.203125 -8.171875 5.515625 -8.171875 C 5.765625 -8.171875 6.015625 -8.0625 6.125 -7.953125 C 5.671875 -7.90625 5.515625 -7.5625 5.515625 -7.359375 C 5.515625 -7.125 5.703125 -6.984375 5.921875 -6.984375 C 6.171875 -6.984375 6.53125 -7.1875 6.53125 -7.640625 C 6.53125 -8.140625 6.03125 -8.421875 5.5 -8.421875 C 4.984375 -8.421875 4.484375 -8.03125 4.25 -7.5625 C 4.03125 -7.140625 3.90625 -6.71875 3.640625 -5.15625 L 2.828125 -5.15625 C 2.609375 -5.15625 2.484375 -5.15625 2.484375 -4.9375 C 2.484375 -4.8125 2.5625 -4.8125 2.796875 -4.8125 L 3.5625 -4.8125 C 3.34375 -3.6875 2.859375 -0.984375 2.578125 0.28125 C 2.375 1.328125 2.203125 2.203125 1.609375 2.203125 C 1.5625 2.203125 1.21875 2.203125 1 1.96875 C 1.609375 1.921875 1.609375 1.40625 1.609375 1.390625 C 1.609375 1.140625 1.4375 1 1.203125 1 C 0.96875 1 0.609375 1.203125 0.609375 1.65625 C 0.609375 2.171875 1.140625 2.4375 1.609375 2.4375 C 2.828125 2.4375 3.328125 0.25 3.453125 -0.34375 C 3.671875 -1.265625 4.25 -4.453125 4.3125 -4.8125 Z M 5.328125 -4.8125 \"/>\n",
       "</symbol>\n",
       "</g>\n",
       "<clipPath id=\"clip-1569618377231965-1\">\n",
       "  <path d=\"M 83 6 L 114.46875 6 L 114.46875 48 L 83 48 Z M 83 6 \"/>\n",
       "</clipPath>\n",
       "</defs>\n",
       "<g id=\"surface1\">\n",
       "<path style=\"fill:none;stroke-width:0.3985;stroke-linecap:butt;stroke-linejoin:miter;stroke:rgb(0%,0%,0%);stroke-opacity:1;stroke-miterlimit:10;\" d=\"M 24.806687 -29.465937 C 9.740281 -29.465937 15.0645 -0.00109375 -0.00190625 -0.00109375 \" transform=\"matrix(1,0,0,-1,0.498,41.37)\"/>\n",
       "<path style=\"fill:none;stroke-width:0.3985;stroke-linecap:butt;stroke-linejoin:miter;stroke:rgb(0%,0%,0%);stroke-opacity:1;stroke-miterlimit:10;\" d=\"M 4.134875 -17.958062 L -2.740125 -17.958062 C -4.939344 -17.958062 -6.7245 -19.743219 -6.7245 -21.942437 L -6.7245 -37.383844 C -6.7245 -39.586969 -4.939344 -41.368219 -2.740125 -41.368219 L 4.134875 -41.368219 C 6.334094 -41.368219 8.11925 -39.586969 8.11925 -37.383844 L 8.11925 -21.942437 C 8.11925 -19.743219 6.334094 -17.958062 4.134875 -17.958062 Z M 4.134875 -17.958062 \" transform=\"matrix(1,0,0,-1,56.537,11.706)\"/>\n",
       "<g style=\"fill:rgb(0%,0%,0%);fill-opacity:1;\">\n",
       "  <use xlink:href=\"#glyph-1569618377231965-0-1\" x=\"53.711\" y=\"44.358\"/>\n",
       "</g>\n",
       "<path style=\"fill:none;stroke-width:0.3985;stroke-linecap:butt;stroke-linejoin:miter;stroke:rgb(0%,0%,0%);stroke-opacity:1;stroke-miterlimit:10;\" d=\"M 56.736375 29.662969 C 43.002 29.662969 24.806687 28.565313 24.806687 14.830938 \" transform=\"matrix(1,0,0,-1,0.498,41.37)\"/>\n",
       "<path style=\"fill:none;stroke-width:0.3985;stroke-linecap:butt;stroke-linejoin:miter;stroke:rgb(0%,0%,0%);stroke-opacity:1;stroke-miterlimit:10;\" d=\"M 24.806687 14.830938 C 24.806687 3.705938 37.990281 -0.00109375 49.115281 -0.00109375 \" transform=\"matrix(1,0,0,-1,0.498,41.37)\"/>\n",
       "<path style=\"fill:none;stroke-width:0.3985;stroke-linecap:butt;stroke-linejoin:miter;stroke:rgb(0%,0%,0%);stroke-opacity:1;stroke-miterlimit:10;\" d=\"M 56.736375 -29.665156 C 44.28325 -29.665156 37.259813 -29.465937 24.806687 -29.465937 \" transform=\"matrix(1,0,0,-1,0.498,41.37)\"/>\n",
       "<path style=\"fill:none;stroke-width:0.3985;stroke-linecap:butt;stroke-linejoin:miter;stroke:rgb(0%,0%,0%);stroke-opacity:1;stroke-miterlimit:10;\" d=\"M 88.666062 29.46375 C 76.212937 29.46375 69.1895 29.662969 56.736375 29.662969 \" transform=\"matrix(1,0,0,-1,0.498,41.37)\"/>\n",
       "<path style=\"fill:none;stroke-width:0.3985;stroke-linecap:butt;stroke-linejoin:miter;stroke:rgb(0%,0%,0%);stroke-opacity:1;stroke-miterlimit:10;\" d=\"M 64.357469 -0.00109375 C 75.482469 -0.00109375 88.666062 -3.708125 88.666062 -14.833125 \" transform=\"matrix(1,0,0,-1,0.498,41.37)\"/>\n",
       "<path style=\"fill:none;stroke-width:0.3985;stroke-linecap:butt;stroke-linejoin:miter;stroke:rgb(0%,0%,0%);stroke-opacity:1;stroke-miterlimit:10;\" d=\"M 88.666062 -14.833125 C 88.666062 -28.5675 70.47075 -29.665156 56.736375 -29.665156 \" transform=\"matrix(1,0,0,-1,0.498,41.37)\"/>\n",
       "<g clip-path=\"url(#clip-1569618377231965-1)\" clip-rule=\"nonzero\">\n",
       "<path style=\"fill:none;stroke-width:0.3985;stroke-linecap:butt;stroke-linejoin:miter;stroke:rgb(0%,0%,0%);stroke-opacity:1;stroke-miterlimit:10;\" d=\"M 113.474656 -0.00109375 C 98.40825 -0.00109375 103.732469 29.46375 88.666062 29.46375 \" transform=\"matrix(1,0,0,-1,0.498,41.37)\"/>\n",
       "</g>\n",
       "</g>\n",
       "</svg>\n",
       "\n"
      ]
     },
     "metadata": {},
     "execution_count": 22
    }
   ],
   "cell_type": "code",
   "source": [
    "to_tikz(transpose)"
   ],
   "metadata": {},
   "execution_count": 22
  },
  {
   "outputs": [
    {
     "output_type": "execute_result",
     "data": {
      "text/plain": "compose(f,otimes(dunit(A),id(B)),otimes(id(dual(A)),h),otimes(braid(dual(A),A),id(B)),otimes(dcounit(A),id(B)),g)",
      "text/latex": "$f \\cdot \\left(\\eta_{A} \\otimes \\mathrm{id}_{B}\\right) \\cdot \\left(\\mathrm{id}_{A^*} \\otimes h\\right) \\cdot \\left(\\sigma_{A^*,A} \\otimes \\mathrm{id}_{B}\\right) \\cdot \\left(\\varepsilon_{A} \\otimes \\mathrm{id}_{B}\\right) \\cdot g : A \\to A$"
     },
     "metadata": {},
     "execution_count": 23
    }
   ],
   "cell_type": "code",
   "source": [
    "trace = compose(\n",
    "  f,\n",
    "  otimes(dunit(A), id(B)),\n",
    "  otimes(id(dual(A)), h),\n",
    "  otimes(braid(dual(A),A), id(B)),\n",
    "  otimes(dcounit(A), id(B)),\n",
    "  g\n",
    ")"
   ],
   "metadata": {},
   "execution_count": 23
  },
  {
   "outputs": [
    {
     "output_type": "execute_result",
     "data": {
      "text/plain": "Catlab.Graphics.TikZ.Picture(Catlab.Graphics.TikZ.Statement[Catlab.Graphics.TikZ.Node(\"n\", Catlab.Graphics.TikZ.Property[Catlab.Graphics.TikZ.Property(\"container\", nothing)], nothing, Catlab.Graphics.TikZ.Picture(Catlab.Graphics.TikZ.Statement[Catlab.Graphics.TikZ.Node(\"n1\", Catlab.Graphics.TikZ.Property[Catlab.Graphics.TikZ.Property(\"minimum height\", \"2.0em\")], nothing, \"\"), Catlab.Graphics.TikZ.Node(\"n2\", Catlab.Graphics.TikZ.Property[Catlab.Graphics.TikZ.Property(\"draw\", nothing), Catlab.Graphics.TikZ.Property(\"solid\", nothing), Catlab.Graphics.TikZ.Property(\"inner sep\", \"0.333em\"), Catlab.Graphics.TikZ.Property(\"rectangle\", nothing), Catlab.Graphics.TikZ.Property(\"rounded corners\", nothing), Catlab.Graphics.TikZ.Property(\"minimum height\", \"2.0em\"), Catlab.Graphics.TikZ.Property(\"right=2em of n1)\", nothing)], nothing, \"f\"), Catlab.Graphics.TikZ.Edge(\"n1.center\", \"n2.west\", Catlab.Graphics.TikZ.PathOperation(\"to\", Catlab.Graphics.TikZ.Property[Catlab.Graphics.TikZ.Property(\"out\", \"0\"), Catlab.Graphics.TikZ.Property(\"in\", \"180\")]), Catlab.Graphics.TikZ.Property[], nothing), Catlab.Graphics.TikZ.Node(\"n3\", Catlab.Graphics.TikZ.Property[Catlab.Graphics.TikZ.Property(\"container\", nothing), Catlab.Graphics.TikZ.Property(\"right=2em of n2)\", nothing)], nothing, Catlab.Graphics.TikZ.Picture(Catlab.Graphics.TikZ.Statement[Catlab.Graphics.TikZ.Node(\"n31\", Catlab.Graphics.TikZ.Property[Catlab.Graphics.TikZ.Property(\"minimum height\", \"4.5em\")], nothing, \"\"), Catlab.Graphics.TikZ.Node(\"n32\", Catlab.Graphics.TikZ.Property[Catlab.Graphics.TikZ.Property(\"minimum height\", \"2.0em\"), Catlab.Graphics.TikZ.Property(\"below=0.5em of n31\", nothing)], nothing, \"\")], Catlab.Graphics.TikZ.Property[])), Catlab.Graphics.TikZ.Edge(\"n2.east\", \"n32.center\", Catlab.Graphics.TikZ.PathOperation(\"to\", Catlab.Graphics.TikZ.Property[Catlab.Graphics.TikZ.Property(\"out\", \"0\"), Catlab.Graphics.TikZ.Property(\"in\", \"180\")]), Catlab.Graphics.TikZ.Property[], nothing), Catlab.Graphics.TikZ.Node(\"n4\", Catlab.Graphics.TikZ.Property[Catlab.Graphics.TikZ.Property(\"container\", nothing), Catlab.Graphics.TikZ.Property(\"right=2em of n3)\", nothing)], nothing, Catlab.Graphics.TikZ.Picture(Catlab.Graphics.TikZ.Statement[Catlab.Graphics.TikZ.Node(\"n41\", Catlab.Graphics.TikZ.Property[Catlab.Graphics.TikZ.Property(\"minimum height\", \"2.0em\")], nothing, \"\"), Catlab.Graphics.TikZ.Node(\"n42\", Catlab.Graphics.TikZ.Property[Catlab.Graphics.TikZ.Property(\"draw\", nothing), Catlab.Graphics.TikZ.Property(\"solid\", nothing), Catlab.Graphics.TikZ.Property(\"inner sep\", \"0.333em\"), Catlab.Graphics.TikZ.Property(\"rectangle\", nothing), Catlab.Graphics.TikZ.Property(\"rounded corners\", nothing), Catlab.Graphics.TikZ.Property(\"minimum height\", \"4.5em\"), Catlab.Graphics.TikZ.Property(\"below=0.5em of n41\", nothing)], nothing, \"h\")], Catlab.Graphics.TikZ.Property[])), Catlab.Graphics.TikZ.Edge(\"n41.center\", \"n31.center\", Catlab.Graphics.TikZ.PathOperation(\"to\", Catlab.Graphics.TikZ.Property[Catlab.Graphics.TikZ.Property(\"out\", \"180\"), Catlab.Graphics.TikZ.Property(\"in\", \"90\")]), Catlab.Graphics.TikZ.Property[], nothing), Catlab.Graphics.TikZ.Edge(\"n31.center\", \"\\$(n42.west)+(0,1.25em)\\$\", Catlab.Graphics.TikZ.PathOperation(\"to\", Catlab.Graphics.TikZ.Property[Catlab.Graphics.TikZ.Property(\"out\", \"270\"), Catlab.Graphics.TikZ.Property(\"in\", \"180\")]), Catlab.Graphics.TikZ.Property[], nothing), Catlab.Graphics.TikZ.Edge(\"n32.center\", \"\\$(n42.west)+(0,-1.25em)\\$\", Catlab.Graphics.TikZ.PathOperation(\"to\", Catlab.Graphics.TikZ.Property[Catlab.Graphics.TikZ.Property(\"out\", \"0\"), Catlab.Graphics.TikZ.Property(\"in\", \"180\")]), Catlab.Graphics.TikZ.Property[], nothing), Catlab.Graphics.TikZ.Node(\"n5\", Catlab.Graphics.TikZ.Property[Catlab.Graphics.TikZ.Property(\"container\", nothing), Catlab.Graphics.TikZ.Property(\"right=2em of n4)\", nothing)], nothing, Catlab.Graphics.TikZ.Picture(Catlab.Graphics.TikZ.Statement[Catlab.Graphics.TikZ.Node(\"n51\", Catlab.Graphics.TikZ.Property[Catlab.Graphics.TikZ.Property(\"minimum height\", \"4.5em\")], nothing, \"\"), Catlab.Graphics.TikZ.Node(\"n52\", Catlab.Graphics.TikZ.Property[Catlab.Graphics.TikZ.Property(\"minimum height\", \"2.0em\"), Catlab.Graphics.TikZ.Property(\"below=0.5em of n51\", nothing)], nothing, \"\")], Catlab.Graphics.TikZ.Property[]))  …  Catlab.Graphics.TikZ.Edge(\"\\$(n42.east)+(0,1.25em)\\$\", \"n51.center\", Catlab.Graphics.TikZ.PathOperation(\"to\", Catlab.Graphics.TikZ.Property[Catlab.Graphics.TikZ.Property(\"out\", \"0\"), Catlab.Graphics.TikZ.Property(\"in\", \"225\")]), Catlab.Graphics.TikZ.Property[], nothing), Catlab.Graphics.TikZ.Edge(\"\\$(n42.east)+(0,-1.25em)\\$\", \"n52.center\", Catlab.Graphics.TikZ.PathOperation(\"to\", Catlab.Graphics.TikZ.Property[Catlab.Graphics.TikZ.Property(\"out\", \"0\"), Catlab.Graphics.TikZ.Property(\"in\", \"180\")]), Catlab.Graphics.TikZ.Property[], nothing), Catlab.Graphics.TikZ.Node(\"n6\", Catlab.Graphics.TikZ.Property[Catlab.Graphics.TikZ.Property(\"container\", nothing), Catlab.Graphics.TikZ.Property(\"right=2em of n5)\", nothing)], nothing, Catlab.Graphics.TikZ.Picture(Catlab.Graphics.TikZ.Statement[Catlab.Graphics.TikZ.Node(\"n61\", Catlab.Graphics.TikZ.Property[Catlab.Graphics.TikZ.Property(\"minimum height\", \"4.5em\")], nothing, \"\"), Catlab.Graphics.TikZ.Node(\"n62\", Catlab.Graphics.TikZ.Property[Catlab.Graphics.TikZ.Property(\"minimum height\", \"2.0em\"), Catlab.Graphics.TikZ.Property(\"below=0.5em of n61\", nothing)], nothing, \"\")], Catlab.Graphics.TikZ.Property[])), Catlab.Graphics.TikZ.Edge(\"n51.center\", \"n61.center\", Catlab.Graphics.TikZ.PathOperation(\"to\", Catlab.Graphics.TikZ.Property[Catlab.Graphics.TikZ.Property(\"out\", \"45\"), Catlab.Graphics.TikZ.Property(\"in\", \"90\")]), Catlab.Graphics.TikZ.Property[], nothing), Catlab.Graphics.TikZ.Edge(\"n61.center\", \"n51.center\", Catlab.Graphics.TikZ.PathOperation(\"to\", Catlab.Graphics.TikZ.Property[Catlab.Graphics.TikZ.Property(\"out\", \"270\"), Catlab.Graphics.TikZ.Property(\"in\", \"315\")]), Catlab.Graphics.TikZ.Property[], nothing), Catlab.Graphics.TikZ.Edge(\"n52.center\", \"n62.center\", Catlab.Graphics.TikZ.PathOperation(\"to\", Catlab.Graphics.TikZ.Property[Catlab.Graphics.TikZ.Property(\"out\", \"0\"), Catlab.Graphics.TikZ.Property(\"in\", \"180\")]), Catlab.Graphics.TikZ.Property[], nothing), Catlab.Graphics.TikZ.Node(\"n7\", Catlab.Graphics.TikZ.Property[Catlab.Graphics.TikZ.Property(\"draw\", nothing), Catlab.Graphics.TikZ.Property(\"solid\", nothing), Catlab.Graphics.TikZ.Property(\"inner sep\", \"0.333em\"), Catlab.Graphics.TikZ.Property(\"rectangle\", nothing), Catlab.Graphics.TikZ.Property(\"rounded corners\", nothing), Catlab.Graphics.TikZ.Property(\"minimum height\", \"2.0em\"), Catlab.Graphics.TikZ.Property(\"right=2em of n6)\", nothing)], nothing, \"g\"), Catlab.Graphics.TikZ.Edge(\"n62.center\", \"n7.west\", Catlab.Graphics.TikZ.PathOperation(\"to\", Catlab.Graphics.TikZ.Property[Catlab.Graphics.TikZ.Property(\"out\", \"0\"), Catlab.Graphics.TikZ.Property(\"in\", \"180\")]), Catlab.Graphics.TikZ.Property[], nothing), Catlab.Graphics.TikZ.Node(\"n8\", Catlab.Graphics.TikZ.Property[Catlab.Graphics.TikZ.Property(\"minimum height\", \"2.0em\"), Catlab.Graphics.TikZ.Property(\"right=2em of n7)\", nothing)], nothing, \"\"), Catlab.Graphics.TikZ.Edge(\"n7.east\", \"n8.center\", Catlab.Graphics.TikZ.PathOperation(\"to\", Catlab.Graphics.TikZ.Property[Catlab.Graphics.TikZ.Property(\"out\", \"0\"), Catlab.Graphics.TikZ.Property(\"in\", \"180\")]), Catlab.Graphics.TikZ.Property[], nothing)], Catlab.Graphics.TikZ.Property[]))], Catlab.Graphics.TikZ.Property[Catlab.Graphics.TikZ.Property(\"remember picture\", nothing), Catlab.Graphics.TikZ.Property(\"font\", \"{\\\\fontsize{12}{14.4}}\"), Catlab.Graphics.TikZ.Property(\"container/.style\", \"{inner sep=0}\"), Catlab.Graphics.TikZ.Property(\"every path/.style\", \"{solid, line width=0.4pt}\"), Catlab.Graphics.TikZ.Property(\"execute at begin node\", \"\\$\"), Catlab.Graphics.TikZ.Property(\"execute at end node\", \"\\$\")])",
      "image/svg+xml": [
       "<?xml version=\"1.0\" encoding=\"UTF-8\"?>\n",
       "<svg xmlns=\"http://www.w3.org/2000/svg\" xmlns:xlink=\"http://www.w3.org/1999/xlink\" width=\"215.26pt\" height=\"82.54pt\" viewBox=\"0 0 215.26 82.54\" version=\"1.1\">\n",
       "<defs>\n",
       "<g>\n",
       "<symbol overflow=\"visible\" id=\"glyph-1569618377231966-0-0\">\n",
       "<path style=\"stroke:none;\" d=\"\"/>\n",
       "</symbol>\n",
       "<symbol overflow=\"visible\" id=\"glyph-1569618377231966-0-1\">\n",
       "<path style=\"stroke:none;\" d=\"M 5.328125 -4.8125 C 5.5625 -4.8125 5.671875 -4.8125 5.671875 -5.03125 C 5.671875 -5.15625 5.5625 -5.15625 5.359375 -5.15625 L 4.390625 -5.15625 C 4.609375 -6.390625 4.78125 -7.234375 4.875 -7.609375 C 4.953125 -7.90625 5.203125 -8.171875 5.515625 -8.171875 C 5.765625 -8.171875 6.015625 -8.0625 6.125 -7.953125 C 5.671875 -7.90625 5.515625 -7.5625 5.515625 -7.359375 C 5.515625 -7.125 5.703125 -6.984375 5.921875 -6.984375 C 6.171875 -6.984375 6.53125 -7.1875 6.53125 -7.640625 C 6.53125 -8.140625 6.03125 -8.421875 5.5 -8.421875 C 4.984375 -8.421875 4.484375 -8.03125 4.25 -7.5625 C 4.03125 -7.140625 3.90625 -6.71875 3.640625 -5.15625 L 2.828125 -5.15625 C 2.609375 -5.15625 2.484375 -5.15625 2.484375 -4.9375 C 2.484375 -4.8125 2.5625 -4.8125 2.796875 -4.8125 L 3.5625 -4.8125 C 3.34375 -3.6875 2.859375 -0.984375 2.578125 0.28125 C 2.375 1.328125 2.203125 2.203125 1.609375 2.203125 C 1.5625 2.203125 1.21875 2.203125 1 1.96875 C 1.609375 1.921875 1.609375 1.40625 1.609375 1.390625 C 1.609375 1.140625 1.4375 1 1.203125 1 C 0.96875 1 0.609375 1.203125 0.609375 1.65625 C 0.609375 2.171875 1.140625 2.4375 1.609375 2.4375 C 2.828125 2.4375 3.328125 0.25 3.453125 -0.34375 C 3.671875 -1.265625 4.25 -4.453125 4.3125 -4.8125 Z M 5.328125 -4.8125 \"/>\n",
       "</symbol>\n",
       "<symbol overflow=\"visible\" id=\"glyph-1569618377231966-0-2\">\n",
       "<path style=\"stroke:none;\" d=\"M 3.359375 -8 C 3.375 -8.046875 3.390625 -8.109375 3.390625 -8.171875 C 3.390625 -8.296875 3.28125 -8.296875 3.25 -8.296875 C 3.234375 -8.296875 2.65625 -8.25 2.59375 -8.234375 C 2.390625 -8.21875 2.21875 -8.203125 2 -8.1875 C 1.703125 -8.15625 1.609375 -8.15625 1.609375 -7.9375 C 1.609375 -7.8125 1.703125 -7.8125 1.875 -7.8125 C 2.46875 -7.8125 2.46875 -7.703125 2.46875 -7.59375 C 2.46875 -7.515625 2.453125 -7.421875 2.4375 -7.390625 L 0.703125 -0.46875 C 0.65625 -0.28125 0.65625 -0.265625 0.65625 -0.1875 C 0.65625 0.078125 0.859375 0.125 0.984375 0.125 C 1.1875 0.125 1.34375 -0.03125 1.40625 -0.171875 L 1.9375 -2.328125 C 2 -2.59375 2.0625 -2.84375 2.125 -3.109375 C 2.265625 -3.609375 2.265625 -3.625 2.484375 -3.96875 C 2.71875 -4.3125 3.25 -5.03125 4.171875 -5.03125 C 4.65625 -5.03125 4.8125 -4.671875 4.8125 -4.203125 C 4.8125 -3.53125 4.34375 -2.21875 4.09375 -1.5 C 3.984375 -1.21875 3.921875 -1.0625 3.921875 -0.84375 C 3.921875 -0.3125 4.296875 0.125 4.859375 0.125 C 5.96875 0.125 6.390625 -1.640625 6.390625 -1.703125 C 6.390625 -1.765625 6.34375 -1.8125 6.28125 -1.8125 C 6.171875 -1.8125 6.15625 -1.78125 6.09375 -1.578125 C 5.828125 -0.625 5.375 -0.125 4.90625 -0.125 C 4.78125 -0.125 4.59375 -0.125 4.59375 -0.515625 C 4.59375 -0.828125 4.734375 -1.203125 4.78125 -1.34375 C 5 -1.90625 5.53125 -3.328125 5.53125 -4.015625 C 5.53125 -4.734375 5.109375 -5.265625 4.203125 -5.265625 C 3.53125 -5.265625 2.921875 -4.953125 2.4375 -4.328125 Z M 3.359375 -8 \"/>\n",
       "</symbol>\n",
       "<symbol overflow=\"visible\" id=\"glyph-1569618377231966-0-3\">\n",
       "<path style=\"stroke:none;\" d=\"M 4.046875 -1.515625 C 4 -1.328125 3.96875 -1.28125 3.8125 -1.09375 C 3.328125 -0.46875 2.828125 -0.234375 2.453125 -0.234375 C 2.0625 -0.234375 1.6875 -0.546875 1.6875 -1.375 C 1.6875 -2.015625 2.046875 -3.34375 2.3125 -3.890625 C 2.65625 -4.546875 3.1875 -5.03125 3.6875 -5.03125 C 4.484375 -5.03125 4.640625 -4.046875 4.640625 -3.984375 L 4.609375 -3.8125 Z M 4.78125 -4.484375 C 4.625 -4.828125 4.296875 -5.265625 3.6875 -5.265625 C 2.390625 -5.265625 0.90625 -3.640625 0.90625 -1.859375 C 0.90625 -0.609375 1.65625 0 2.421875 0 C 3.0625 0 3.625 -0.5 3.84375 -0.734375 L 3.578125 0.328125 C 3.40625 0.984375 3.328125 1.296875 2.90625 1.703125 C 2.421875 2.203125 1.953125 2.203125 1.703125 2.203125 C 1.34375 2.203125 1.046875 2.171875 0.734375 2.078125 C 1.125 1.96875 1.21875 1.640625 1.21875 1.5 C 1.21875 1.3125 1.078125 1.125 0.8125 1.125 C 0.53125 1.125 0.21875 1.359375 0.21875 1.75 C 0.21875 2.25 0.703125 2.4375 1.71875 2.4375 C 3.265625 2.4375 4.0625 1.453125 4.21875 0.796875 L 5.546875 -4.546875 C 5.578125 -4.703125 5.578125 -4.71875 5.578125 -4.75 C 5.578125 -4.90625 5.453125 -5.046875 5.265625 -5.046875 C 4.984375 -5.046875 4.8125 -4.8125 4.78125 -4.484375 Z M 4.78125 -4.484375 \"/>\n",
       "</symbol>\n",
       "</g>\n",
       "<clipPath id=\"clip-1569618377231966-1\">\n",
       "  <path d=\"M 82 24 L 109 24 L 109 82.539062 L 82 82.539062 Z M 82 24 \"/>\n",
       "</clipPath>\n",
       "<clipPath id=\"clip-1569618377231966-2\">\n",
       "  <path d=\"M 185 35 L 215.261719 35 L 215.261719 47 L 185 47 Z M 185 35 \"/>\n",
       "</clipPath>\n",
       "</defs>\n",
       "<g id=\"surface1\">\n",
       "<path style=\"fill:none;stroke-width:0.3985;stroke-linecap:butt;stroke-linejoin:miter;stroke:rgb(0%,0%,0%);stroke-opacity:1;stroke-miterlimit:10;\" d=\"M 35.166063 11.7075 L 28.294969 11.7075 C 26.091844 11.7075 24.310594 9.922344 24.310594 7.719219 L 24.310594 -7.722187 C 24.310594 -9.921406 26.091844 -11.706562 28.294969 -11.706562 L 35.166063 -11.706562 C 37.369188 -11.706562 39.150438 -9.921406 39.150438 -7.722187 L 39.150438 7.719219 C 39.150438 9.922344 37.369188 11.7075 35.166063 11.7075 Z M 35.166063 11.7075 \" transform=\"matrix(1,0,0,-1,0.498,41.27)\"/>\n",
       "<g style=\"fill:rgb(0%,0%,0%);fill-opacity:1;\">\n",
       "  <use xlink:href=\"#glyph-1569618377231966-0-1\" x=\"28.705\" y=\"44.259\"/>\n",
       "</g>\n",
       "<path style=\"fill:none;stroke-width:0.3985;stroke-linecap:butt;stroke-linejoin:miter;stroke:rgb(0%,0%,0%);stroke-opacity:1;stroke-miterlimit:10;\" d=\"M -0.00190625 0.00046875 C 9.400438 0.00046875 14.709031 0.00046875 24.111375 0.00046875 \" transform=\"matrix(1,0,0,-1,0.498,41.27)\"/>\n",
       "<path style=\"fill:none;stroke-width:0.3985;stroke-linecap:butt;stroke-linejoin:miter;stroke:rgb(0%,0%,0%);stroke-opacity:1;stroke-miterlimit:10;\" d=\"M 39.349656 0.00046875 C 54.1895 0.00046875 48.623094 -29.464375 63.459031 -29.464375 \" transform=\"matrix(1,0,0,-1,0.498,41.27)\"/>\n",
       "<g clip-path=\"url(#clip-1569618377231966-1)\" clip-rule=\"nonzero\">\n",
       "<path style=\"fill:none;stroke-width:0.3985;stroke-linecap:butt;stroke-linejoin:miter;stroke:rgb(0%,0%,0%);stroke-opacity:1;stroke-miterlimit:10;\" d=\"M 3.980625 -17.958062 L -2.585781 -17.958062 C -4.785 -17.958062 -6.570156 -19.743219 -6.570156 -21.942437 L -6.570156 -66.649469 C -6.570156 -68.852594 -4.785 -70.633844 -2.585781 -70.633844 L 3.980625 -70.633844 C 6.179844 -70.633844 7.965 -68.852594 7.965 -66.649469 L 7.965 -21.942437 C 7.965 -19.743219 6.179844 -17.958062 3.980625 -17.958062 Z M 3.980625 -17.958062 \" transform=\"matrix(1,0,0,-1,95.035,11.706)\"/>\n",
       "</g>\n",
       "<g style=\"fill:rgb(0%,0%,0%);fill-opacity:1;\">\n",
       "  <use xlink:href=\"#glyph-1569618377231966-0-2\" x=\"92.364\" y=\"60.153\"/>\n",
       "</g>\n",
       "<path style=\"fill:none;stroke-width:0.3985;stroke-linecap:butt;stroke-linejoin:miter;stroke:rgb(0%,0%,0%);stroke-opacity:1;stroke-miterlimit:10;\" d=\"M 95.236375 29.562969 C 81.568406 29.562969 63.459031 28.500469 63.459031 14.8325 \" transform=\"matrix(1,0,0,-1,0.498,41.27)\"/>\n",
       "<path style=\"fill:none;stroke-width:0.3985;stroke-linecap:butt;stroke-linejoin:miter;stroke:rgb(0%,0%,0%);stroke-opacity:1;stroke-miterlimit:10;\" d=\"M 63.459031 14.8325 C 63.459031 3.7075 76.646531 -0.101094 87.767625 -0.101094 \" transform=\"matrix(1,0,0,-1,0.498,41.27)\"/>\n",
       "<path style=\"fill:none;stroke-width:0.3985;stroke-linecap:butt;stroke-linejoin:miter;stroke:rgb(0%,0%,0%);stroke-opacity:1;stroke-miterlimit:10;\" d=\"M 63.459031 -29.464375 C 72.9395 -29.464375 78.291062 -29.366719 87.767625 -29.366719 \" transform=\"matrix(1,0,0,-1,0.498,41.27)\"/>\n",
       "<path style=\"fill:none;stroke-width:0.3985;stroke-linecap:butt;stroke-linejoin:miter;stroke:rgb(0%,0%,0%);stroke-opacity:1;stroke-miterlimit:10;\" d=\"M 127.009812 14.8325 C 117.34575 24.496563 108.904344 29.562969 95.236375 29.562969 \" transform=\"matrix(1,0,0,-1,0.498,41.27)\"/>\n",
       "<path style=\"fill:none;stroke-width:0.3985;stroke-linecap:butt;stroke-linejoin:miter;stroke:rgb(0%,0%,0%);stroke-opacity:1;stroke-miterlimit:10;\" d=\"M 102.701219 -0.101094 C 113.826219 -0.101094 119.146531 6.965313 127.009812 14.8325 \" transform=\"matrix(1,0,0,-1,0.498,41.27)\"/>\n",
       "<path style=\"fill:none;stroke-width:0.3985;stroke-linecap:butt;stroke-linejoin:miter;stroke:rgb(0%,0%,0%);stroke-opacity:1;stroke-miterlimit:10;\" d=\"M 102.701219 -29.366719 C 112.181687 -29.366719 117.53325 -29.464375 127.009812 -29.464375 \" transform=\"matrix(1,0,0,-1,0.498,41.27)\"/>\n",
       "<path style=\"fill:none;stroke-width:0.3985;stroke-linecap:butt;stroke-linejoin:miter;stroke:rgb(0%,0%,0%);stroke-opacity:1;stroke-miterlimit:10;\" d=\"M 127.009812 14.8325 C 133.853563 21.672344 151.818406 24.504375 151.818406 14.8325 \" transform=\"matrix(1,0,0,-1,0.498,41.27)\"/>\n",
       "<path style=\"fill:none;stroke-width:0.3985;stroke-linecap:butt;stroke-linejoin:miter;stroke:rgb(0%,0%,0%);stroke-opacity:1;stroke-miterlimit:10;\" d=\"M 151.818406 14.8325 C 151.818406 5.156719 133.853563 7.992656 127.009812 14.8325 \" transform=\"matrix(1,0,0,-1,0.498,41.27)\"/>\n",
       "<path style=\"fill:none;stroke-width:0.3985;stroke-linecap:butt;stroke-linejoin:miter;stroke:rgb(0%,0%,0%);stroke-opacity:1;stroke-miterlimit:10;\" d=\"M 127.009812 -29.464375 C 136.685594 -29.464375 142.142625 -29.464375 151.818406 -29.464375 \" transform=\"matrix(1,0,0,-1,0.498,41.27)\"/>\n",
       "<path style=\"fill:none;stroke-width:0.3985;stroke-linecap:butt;stroke-linejoin:miter;stroke:rgb(0%,0%,0%);stroke-opacity:1;stroke-miterlimit:10;\" d=\"M 185.974656 11.7075 L 180.111375 11.7075 C 177.912156 11.7075 176.127 9.922344 176.127 7.719219 L 176.127 -7.722187 C 176.127 -9.921406 177.912156 -11.706562 180.111375 -11.706562 L 185.974656 -11.706562 C 188.173875 -11.706562 189.959031 -9.921406 189.959031 -7.722187 L 189.959031 7.719219 C 189.959031 9.922344 188.173875 11.7075 185.974656 11.7075 Z M 185.974656 11.7075 \" transform=\"matrix(1,0,0,-1,0.498,41.27)\"/>\n",
       "<g style=\"fill:rgb(0%,0%,0%);fill-opacity:1;\">\n",
       "  <use xlink:href=\"#glyph-1569618377231966-0-3\" x=\"180.521\" y=\"42.682\"/>\n",
       "</g>\n",
       "<path style=\"fill:none;stroke-width:0.3985;stroke-linecap:butt;stroke-linejoin:miter;stroke:rgb(0%,0%,0%);stroke-opacity:1;stroke-miterlimit:10;\" d=\"M 151.818406 -29.464375 C 166.65825 -29.464375 161.087938 0.00046875 175.927781 0.00046875 \" transform=\"matrix(1,0,0,-1,0.498,41.27)\"/>\n",
       "<g clip-path=\"url(#clip-1569618377231966-2)\" clip-rule=\"nonzero\">\n",
       "<path style=\"fill:none;stroke-width:0.3985;stroke-linecap:butt;stroke-linejoin:miter;stroke:rgb(0%,0%,0%);stroke-opacity:1;stroke-miterlimit:10;\" d=\"M 190.15825 0.00046875 C 199.560594 0.00046875 204.865281 0.00046875 214.267625 0.00046875 \" transform=\"matrix(1,0,0,-1,0.498,41.27)\"/>\n",
       "</g>\n",
       "</g>\n",
       "</svg>\n",
       "\n"
      ]
     },
     "metadata": {},
     "execution_count": 24
    }
   ],
   "cell_type": "code",
   "source": [
    "to_tikz(trace)"
   ],
   "metadata": {},
   "execution_count": 24
  }
 ],
 "nbformat_minor": 3,
 "metadata": {
  "language_info": {
   "file_extension": ".jl",
   "mimetype": "application/julia",
   "name": "julia",
   "version": "1.2.0"
  },
  "kernelspec": {
   "name": "julia-1.2",
   "display_name": "Julia 1.2.0",
   "language": "julia"
  }
 },
 "nbformat": 4
}
