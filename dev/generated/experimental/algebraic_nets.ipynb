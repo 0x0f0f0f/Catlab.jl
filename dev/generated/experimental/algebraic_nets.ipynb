{
 "cells": [
  {
   "outputs": [],
   "cell_type": "markdown",
   "source": [
    "# Algebraic networks"
   ],
   "metadata": {}
  },
  {
   "outputs": [],
   "cell_type": "code",
   "source": [
    "using Catlab.Experimental.AlgebraicNets\n",
    "using Catlab.Experimental.MathFormulas\n",
    "\n",
    "import TikzPictures\n",
    "using Catlab.Graphics"
   ],
   "metadata": {},
   "execution_count": 1
  },
  {
   "outputs": [],
   "cell_type": "code",
   "source": [
    "R = Ob(AlgebraicNet, \"\\\\mathbb{R}\")\n",
    "f_sin = Hom(:sin, R, R)\n",
    "f_cos = Hom(:cos, R, R)\n",
    "display(f_sin)\n",
    "display(f_cos)"
   ],
   "metadata": {},
   "execution_count": 2
  },
  {
   "outputs": [
    {
     "output_type": "execute_result",
     "data": {
      "text/plain": "compose(mcopy(\\mathbb{R},2),otimes(sin,cos),mmerge(\\mathbb{R},2))",
      "text/latex": "$\\Delta_{\\mathbb{R},2} ; \\left(\\mathrm{sin} \\otimes \\mathrm{cos}\\right) ; \\nabla_{\\mathbb{R},2} : \\mathbb{R} \\to \\mathbb{R}$"
     },
     "metadata": {},
     "execution_count": 3
    }
   ],
   "cell_type": "code",
   "source": [
    "f = compose(mcopy(R),otimes(f_sin,f_cos),mmerge(R))"
   ],
   "metadata": {},
   "execution_count": 3
  },
  {
   "outputs": [
    {
     "name": "stdout",
     "output_type": "stream",
     "text": [
      "┌ Warning: Both Convex.jl and SCS.jl must be loaded to use isotonic\n",
      "│ regression for port layout. Falling back to fixed layout.\n",
      "└ @ Catlab.Graphics.WiringDiagramLayouts /home/runner/.julia/packages/Catlab/bEZNj/src/graphics/WiringDiagramLayouts.jl:438\n"
     ]
    },
    {
     "output_type": "execute_result",
     "data": {
      "text/plain": "Catlab.Graphics.TikZ.Document(Catlab.Graphics.TikZ.Picture(Catlab.Graphics.TikZ.Statement[Catlab.Graphics.TikZ.Node(\"root\", Catlab.Graphics.TikZ.Property[Catlab.Graphics.TikZ.Property(\"outer box\", nothing), Catlab.Graphics.TikZ.Property(\"minimum width\", \"11\\\\tikzunit\"), Catlab.Graphics.TikZ.Property(\"minimum height\", \"7\\\\tikzunit\")], Catlab.Graphics.TikZ.Coordinate(\"0\", \"0\"), \"\"), Catlab.Graphics.TikZ.Node(\"n3\", Catlab.Graphics.TikZ.Property[Catlab.Graphics.TikZ.Property(\"junction\", nothing), Catlab.Graphics.TikZ.Property(\"minimum size\", \"0.5\\\\tikzunit\")], Catlab.Graphics.TikZ.Coordinate(\"-3.25\", \"0\"), \"\"), Catlab.Graphics.TikZ.Node(\"n4\", Catlab.Graphics.TikZ.Property[Catlab.Graphics.TikZ.Property(\"box\", nothing), Catlab.Graphics.TikZ.Property(\"minimum size\", \"2\\\\tikzunit\")], Catlab.Graphics.TikZ.Coordinate(\"0\", \"1.5\"), \"\\$\\\\mathrm{sin}\\$\"), Catlab.Graphics.TikZ.Node(\"n5\", Catlab.Graphics.TikZ.Property[Catlab.Graphics.TikZ.Property(\"box\", nothing), Catlab.Graphics.TikZ.Property(\"minimum size\", \"2\\\\tikzunit\")], Catlab.Graphics.TikZ.Coordinate(\"0\", \"-1.5\"), \"\\$\\\\mathrm{cos}\\$\"), Catlab.Graphics.TikZ.Node(\"n6\", Catlab.Graphics.TikZ.Property[Catlab.Graphics.TikZ.Property(\"junction\", nothing), Catlab.Graphics.TikZ.Property(\"minimum size\", \"0.5\\\\tikzunit\")], Catlab.Graphics.TikZ.Coordinate(\"3.25\", \"0\"), \"\"), Catlab.Graphics.TikZ.Edge(Catlab.Graphics.TikZ.PathExpression[Catlab.Graphics.TikZ.NodeCoordinate(\"root.west\"), Catlab.Graphics.TikZ.PathOperation(\"to\", Catlab.Graphics.TikZ.Property[Catlab.Graphics.TikZ.Property(\"out\", \"0\"), Catlab.Graphics.TikZ.Property(\"in\", \"180\")]), Catlab.Graphics.TikZ.NodeCoordinate(\"n3.180\")], Catlab.Graphics.TikZ.Property[Catlab.Graphics.TikZ.Property(\"wire\", \"\\$\\\\mathbb{R}\\$\")]), Catlab.Graphics.TikZ.Edge(Catlab.Graphics.TikZ.PathExpression[Catlab.Graphics.TikZ.NodeCoordinate(\"n3.30\"), Catlab.Graphics.TikZ.PathOperation(\"to\", Catlab.Graphics.TikZ.Property[Catlab.Graphics.TikZ.Property(\"out\", \"30\"), Catlab.Graphics.TikZ.Property(\"in\", \"-180\")]), Catlab.Graphics.TikZ.NodeCoordinate(\"n4.west\")], Catlab.Graphics.TikZ.Property[Catlab.Graphics.TikZ.Property(\"wire\", nothing)]), Catlab.Graphics.TikZ.Edge(Catlab.Graphics.TikZ.PathExpression[Catlab.Graphics.TikZ.NodeCoordinate(\"n3.-30\"), Catlab.Graphics.TikZ.PathOperation(\"to\", Catlab.Graphics.TikZ.Property[Catlab.Graphics.TikZ.Property(\"out\", \"-30\"), Catlab.Graphics.TikZ.Property(\"in\", \"-180\")]), Catlab.Graphics.TikZ.NodeCoordinate(\"n5.west\")], Catlab.Graphics.TikZ.Property[Catlab.Graphics.TikZ.Property(\"wire\", nothing)]), Catlab.Graphics.TikZ.Edge(Catlab.Graphics.TikZ.PathExpression[Catlab.Graphics.TikZ.NodeCoordinate(\"n4.east\"), Catlab.Graphics.TikZ.PathOperation(\"to\", Catlab.Graphics.TikZ.Property[Catlab.Graphics.TikZ.Property(\"out\", \"0\"), Catlab.Graphics.TikZ.Property(\"in\", \"150\")]), Catlab.Graphics.TikZ.NodeCoordinate(\"n6.150\")], Catlab.Graphics.TikZ.Property[Catlab.Graphics.TikZ.Property(\"wire\", nothing)]), Catlab.Graphics.TikZ.Edge(Catlab.Graphics.TikZ.PathExpression[Catlab.Graphics.TikZ.NodeCoordinate(\"n5.east\"), Catlab.Graphics.TikZ.PathOperation(\"to\", Catlab.Graphics.TikZ.Property[Catlab.Graphics.TikZ.Property(\"out\", \"0\"), Catlab.Graphics.TikZ.Property(\"in\", \"-150\")]), Catlab.Graphics.TikZ.NodeCoordinate(\"n6.-150\")], Catlab.Graphics.TikZ.Property[Catlab.Graphics.TikZ.Property(\"wire\", nothing)]), Catlab.Graphics.TikZ.Edge(Catlab.Graphics.TikZ.PathExpression[Catlab.Graphics.TikZ.NodeCoordinate(\"n6.0\"), Catlab.Graphics.TikZ.PathOperation(\"to\", Catlab.Graphics.TikZ.Property[Catlab.Graphics.TikZ.Property(\"out\", \"0\"), Catlab.Graphics.TikZ.Property(\"in\", \"180\")]), Catlab.Graphics.TikZ.NodeCoordinate(\"root.east\")], Catlab.Graphics.TikZ.Property[Catlab.Graphics.TikZ.Property(\"wire\", \"\\$\\\\mathbb{R}\\$\")])], Catlab.Graphics.TikZ.Property[Catlab.Graphics.TikZ.Property(\"unit length/.code\", \"{{\\\\newdimen\\\\tikzunit}\\\\setlength{\\\\tikzunit}{#1}}\"), Catlab.Graphics.TikZ.Property(\"unit length\", \"4mm\"), Catlab.Graphics.TikZ.Property(\"x\", \"\\\\tikzunit\"), Catlab.Graphics.TikZ.Property(\"y\", \"\\\\tikzunit\"), Catlab.Graphics.TikZ.Property(\"semithick\", nothing), Catlab.Graphics.TikZ.Property(\"box/.style\", Catlab.Graphics.TikZ.Property[Catlab.Graphics.TikZ.Property(\"rectangle\", nothing), Catlab.Graphics.TikZ.Property(\"draw\", nothing), Catlab.Graphics.TikZ.Property(\"solid\", nothing), Catlab.Graphics.TikZ.Property(\"rounded corners\", nothing)]), Catlab.Graphics.TikZ.Property(\"junction/.style\", Catlab.Graphics.TikZ.Property[Catlab.Graphics.TikZ.Property(\"circle\", nothing), Catlab.Graphics.TikZ.Property(\"draw\", nothing), Catlab.Graphics.TikZ.Property(\"fill\", nothing), Catlab.Graphics.TikZ.Property(\"inner sep\", \"0\")]), Catlab.Graphics.TikZ.Property(\"outer box/.style\", Catlab.Graphics.TikZ.Property[Catlab.Graphics.TikZ.Property(\"draw\", \"none\")]), Catlab.Graphics.TikZ.Property(\"wire/.style\", Catlab.Graphics.TikZ.Property[Catlab.Graphics.TikZ.Property(\"draw\", nothing), Catlab.Graphics.TikZ.Property(\"postaction\", Catlab.Graphics.TikZ.Property[Catlab.Graphics.TikZ.Property(\"decorate\", nothing)]), Catlab.Graphics.TikZ.Property(\"decoration\", Catlab.Graphics.TikZ.Property[Catlab.Graphics.TikZ.Property(\"markings\", nothing), Catlab.Graphics.TikZ.Property(\"mark\", \"at position 0.5 with {\\\\node[anchor=south] {#1};}\")])])]), [\"calc\", \"decorations.markings\"])",
      "image/svg+xml": [
       "<?xml version=\"1.0\" encoding=\"UTF-8\"?>\n",
       "<svg xmlns=\"http://www.w3.org/2000/svg\" xmlns:xlink=\"http://www.w3.org/1999/xlink\" width=\"125.92pt\" height=\"79.37pt\" viewBox=\"0 0 125.92 79.37\" version=\"1.1\">\n",
       "<defs>\n",
       "<g>\n",
       "<symbol overflow=\"visible\" id=\"glyph-1583423741060065-0-0\">\n",
       "<path style=\"stroke:none;\" d=\"\"/>\n",
       "</symbol>\n",
       "<symbol overflow=\"visible\" id=\"glyph-1583423741060065-0-1\">\n",
       "<path style=\"stroke:none;\" d=\"M 2.078125 -1.9375 C 2.296875 -1.890625 3.109375 -1.734375 3.109375 -1.015625 C 3.109375 -0.515625 2.765625 -0.109375 1.984375 -0.109375 C 1.140625 -0.109375 0.78125 -0.671875 0.59375 -1.53125 C 0.5625 -1.65625 0.5625 -1.6875 0.453125 -1.6875 C 0.328125 -1.6875 0.328125 -1.625 0.328125 -1.453125 L 0.328125 -0.125 C 0.328125 0.046875 0.328125 0.109375 0.4375 0.109375 C 0.484375 0.109375 0.5 0.09375 0.6875 -0.09375 C 0.703125 -0.109375 0.703125 -0.125 0.890625 -0.3125 C 1.328125 0.09375 1.78125 0.109375 1.984375 0.109375 C 3.125 0.109375 3.59375 -0.5625 3.59375 -1.28125 C 3.59375 -1.796875 3.296875 -2.109375 3.171875 -2.21875 C 2.84375 -2.546875 2.453125 -2.625 2.03125 -2.703125 C 1.46875 -2.8125 0.8125 -2.9375 0.8125 -3.515625 C 0.8125 -3.875 1.0625 -4.28125 1.921875 -4.28125 C 3.015625 -4.28125 3.078125 -3.375 3.09375 -3.078125 C 3.09375 -2.984375 3.1875 -2.984375 3.203125 -2.984375 C 3.34375 -2.984375 3.34375 -3.03125 3.34375 -3.21875 L 3.34375 -4.234375 C 3.34375 -4.390625 3.34375 -4.46875 3.234375 -4.46875 C 3.1875 -4.46875 3.15625 -4.46875 3.03125 -4.34375 C 3 -4.3125 2.90625 -4.21875 2.859375 -4.1875 C 2.484375 -4.46875 2.078125 -4.46875 1.921875 -4.46875 C 0.703125 -4.46875 0.328125 -3.796875 0.328125 -3.234375 C 0.328125 -2.890625 0.484375 -2.609375 0.75 -2.390625 C 1.078125 -2.140625 1.359375 -2.078125 2.078125 -1.9375 Z M 2.078125 -1.9375 \"/>\n",
       "</symbol>\n",
       "<symbol overflow=\"visible\" id=\"glyph-1583423741060065-0-2\">\n",
       "<path style=\"stroke:none;\" d=\"M 1.765625 -4.40625 L 0.375 -4.296875 L 0.375 -3.984375 C 1.015625 -3.984375 1.109375 -3.921875 1.109375 -3.4375 L 1.109375 -0.75 C 1.109375 -0.3125 1 -0.3125 0.328125 -0.3125 L 0.328125 0 C 0.640625 -0.015625 1.1875 -0.03125 1.421875 -0.03125 C 1.78125 -0.03125 2.125 -0.015625 2.46875 0 L 2.46875 -0.3125 C 1.796875 -0.3125 1.765625 -0.359375 1.765625 -0.75 Z M 1.796875 -6.140625 C 1.796875 -6.453125 1.5625 -6.671875 1.28125 -6.671875 C 0.96875 -6.671875 0.75 -6.40625 0.75 -6.140625 C 0.75 -5.875 0.96875 -5.609375 1.28125 -5.609375 C 1.5625 -5.609375 1.796875 -5.828125 1.796875 -6.140625 Z M 1.796875 -6.140625 \"/>\n",
       "</symbol>\n",
       "<symbol overflow=\"visible\" id=\"glyph-1583423741060065-0-3\">\n",
       "<path style=\"stroke:none;\" d=\"M 1.09375 -3.421875 L 1.09375 -0.75 C 1.09375 -0.3125 0.984375 -0.3125 0.3125 -0.3125 L 0.3125 0 C 0.671875 -0.015625 1.171875 -0.03125 1.453125 -0.03125 C 1.703125 -0.03125 2.21875 -0.015625 2.5625 0 L 2.5625 -0.3125 C 1.890625 -0.3125 1.78125 -0.3125 1.78125 -0.75 L 1.78125 -2.59375 C 1.78125 -3.625 2.5 -4.1875 3.125 -4.1875 C 3.765625 -4.1875 3.875 -3.65625 3.875 -3.078125 L 3.875 -0.75 C 3.875 -0.3125 3.765625 -0.3125 3.09375 -0.3125 L 3.09375 0 C 3.4375 -0.015625 3.953125 -0.03125 4.21875 -0.03125 C 4.46875 -0.03125 5 -0.015625 5.328125 0 L 5.328125 -0.3125 C 4.8125 -0.3125 4.5625 -0.3125 4.5625 -0.609375 L 4.5625 -2.515625 C 4.5625 -3.375 4.5625 -3.671875 4.25 -4.03125 C 4.109375 -4.203125 3.78125 -4.40625 3.203125 -4.40625 C 2.46875 -4.40625 2 -3.984375 1.71875 -3.359375 L 1.71875 -4.40625 L 0.3125 -4.296875 L 0.3125 -3.984375 C 1.015625 -3.984375 1.09375 -3.921875 1.09375 -3.421875 Z M 1.09375 -3.421875 \"/>\n",
       "</symbol>\n",
       "<symbol overflow=\"visible\" id=\"glyph-1583423741060065-0-4\">\n",
       "<path style=\"stroke:none;\" d=\"M 1.171875 -2.171875 C 1.171875 -3.796875 1.984375 -4.21875 2.515625 -4.21875 C 2.609375 -4.21875 3.234375 -4.203125 3.578125 -3.84375 C 3.171875 -3.8125 3.109375 -3.515625 3.109375 -3.390625 C 3.109375 -3.125 3.296875 -2.9375 3.5625 -2.9375 C 3.828125 -2.9375 4.03125 -3.09375 4.03125 -3.40625 C 4.03125 -4.078125 3.265625 -4.46875 2.5 -4.46875 C 1.25 -4.46875 0.34375 -3.390625 0.34375 -2.15625 C 0.34375 -0.875 1.328125 0.109375 2.484375 0.109375 C 3.8125 0.109375 4.140625 -1.09375 4.140625 -1.1875 C 4.140625 -1.28125 4.03125 -1.28125 4 -1.28125 C 3.921875 -1.28125 3.890625 -1.25 3.875 -1.1875 C 3.59375 -0.265625 2.9375 -0.140625 2.578125 -0.140625 C 2.046875 -0.140625 1.171875 -0.5625 1.171875 -2.171875 Z M 1.171875 -2.171875 \"/>\n",
       "</symbol>\n",
       "<symbol overflow=\"visible\" id=\"glyph-1583423741060065-0-5\">\n",
       "<path style=\"stroke:none;\" d=\"M 4.6875 -2.140625 C 4.6875 -3.40625 3.703125 -4.46875 2.5 -4.46875 C 1.25 -4.46875 0.28125 -3.375 0.28125 -2.140625 C 0.28125 -0.84375 1.3125 0.109375 2.484375 0.109375 C 3.6875 0.109375 4.6875 -0.875 4.6875 -2.140625 Z M 2.5 -0.140625 C 2.0625 -0.140625 1.625 -0.34375 1.359375 -0.8125 C 1.109375 -1.25 1.109375 -1.859375 1.109375 -2.21875 C 1.109375 -2.609375 1.109375 -3.140625 1.34375 -3.578125 C 1.609375 -4.03125 2.078125 -4.25 2.484375 -4.25 C 2.921875 -4.25 3.34375 -4.03125 3.609375 -3.59375 C 3.875 -3.171875 3.875 -2.59375 3.875 -2.21875 C 3.875 -1.859375 3.875 -1.3125 3.65625 -0.875 C 3.421875 -0.421875 2.984375 -0.140625 2.5 -0.140625 Z M 2.5 -0.140625 \"/>\n",
       "</symbol>\n",
       "<symbol overflow=\"visible\" id=\"glyph-1583423741060065-1-0\">\n",
       "<path style=\"stroke:none;\" d=\"\"/>\n",
       "</symbol>\n",
       "<symbol overflow=\"visible\" id=\"glyph-1583423741060065-1-1\">\n",
       "<path style=\"stroke:none;\" d=\"M 2.671875 -3.125 L 3.03125 -3.125 L 4.53125 -0.8125 C 4.625 -0.65625 4.859375 -0.265625 4.96875 -0.125 C 5.046875 0 5.078125 0 5.296875 0 L 6.671875 0 C 6.859375 0 7.015625 0 7.015625 -0.171875 C 7.015625 -0.265625 6.953125 -0.328125 6.859375 -0.34375 C 6.484375 -0.421875 6 -1.09375 5.765625 -1.40625 C 5.6875 -1.5 5.1875 -2.15625 4.53125 -3.234375 C 5.40625 -3.40625 6.265625 -3.78125 6.265625 -4.96875 C 6.265625 -6.34375 4.8125 -6.828125 3.625 -6.828125 L 0.5 -6.828125 C 0.3125 -6.828125 0.15625 -6.828125 0.15625 -6.65625 C 0.15625 -6.484375 0.34375 -6.484375 0.421875 -6.484375 C 1 -6.484375 1.046875 -6.40625 1.046875 -5.90625 L 1.046875 -0.921875 C 1.046875 -0.421875 1 -0.34375 0.421875 -0.34375 C 0.34375 -0.34375 0.15625 -0.34375 0.15625 -0.171875 C 0.15625 0 0.3125 0 0.5 0 L 3.234375 0 C 3.40625 0 3.5625 0 3.5625 -0.171875 C 3.5625 -0.34375 3.390625 -0.34375 3.28125 -0.34375 C 2.71875 -0.34375 2.671875 -0.421875 2.671875 -0.921875 Z M 4.59375 -3.625 C 4.875 -3.984375 4.90625 -4.515625 4.90625 -4.953125 C 4.90625 -5.4375 4.84375 -5.96875 4.53125 -6.375 C 4.9375 -6.28125 5.921875 -5.96875 5.921875 -4.96875 C 5.921875 -4.3125 5.625 -3.8125 4.59375 -3.625 Z M 2.671875 -5.9375 C 2.671875 -6.15625 2.671875 -6.484375 3.296875 -6.484375 C 4.140625 -6.484375 4.5625 -6.125 4.5625 -4.953125 C 4.5625 -3.671875 4.25 -3.484375 2.671875 -3.484375 Z M 1.3125 -0.34375 C 1.390625 -0.53125 1.390625 -0.8125 1.390625 -0.890625 L 1.390625 -5.9375 C 1.390625 -6.03125 1.390625 -6.296875 1.3125 -6.484375 L 2.453125 -6.484375 C 2.328125 -6.3125 2.328125 -6.125 2.328125 -5.96875 L 2.328125 -0.890625 C 2.328125 -0.796875 2.328125 -0.53125 2.40625 -0.34375 Z M 3.4375 -3.125 C 3.515625 -3.140625 3.546875 -3.15625 3.625 -3.15625 C 3.78125 -3.15625 4 -3.171875 4.140625 -3.1875 C 4.296875 -2.953125 5.375 -1.171875 6.203125 -0.34375 L 5.234375 -0.34375 Z M 3.4375 -3.125 \"/>\n",
       "</symbol>\n",
       "</g>\n",
       "<clipPath id=\"clip-1583423741060065-1\">\n",
       "  <path d=\"M 94 31 L 125.921875 31 L 125.921875 49 L 94 49 Z M 94 31 \"/>\n",
       "</clipPath>\n",
       "</defs>\n",
       "<g id=\"surface1\">\n",
       "<path style=\"fill-rule:nonzero;fill:rgb(0%,0%,0%);fill-opacity:1;stroke-width:0.59776;stroke-linecap:butt;stroke-linejoin:miter;stroke:rgb(0%,0%,0%);stroke-opacity:1;stroke-miterlimit:10;\" d=\"M -34.014688 0.00140625 C -34.014688 1.563906 -35.284219 2.833437 -36.850625 2.833437 C -38.417031 2.833437 -39.686563 1.563906 -39.686563 0.00140625 C -39.686563 -1.565 -38.417031 -2.834531 -36.850625 -2.834531 C -35.284219 -2.834531 -34.014688 -1.565 -34.014688 0.00140625 Z M -34.014688 0.00140625 \" transform=\"matrix(1,0,0,-1,62.96,39.685)\"/>\n",
       "<path style=\"fill:none;stroke-width:0.59776;stroke-linecap:butt;stroke-linejoin:miter;stroke:rgb(0%,0%,0%);stroke-opacity:1;stroke-miterlimit:10;\" d=\"M 7.3525 28.345156 L -7.354531 28.345156 C -9.55375 28.345156 -11.338906 26.563906 -11.338906 24.360781 L -11.338906 9.65375 C -11.338906 7.454531 -9.55375 5.669375 -7.354531 5.669375 L 7.3525 5.669375 C 9.555625 5.669375 11.336875 7.454531 11.336875 9.65375 L 11.336875 24.360781 C 11.336875 26.563906 9.555625 28.345156 7.3525 28.345156 Z M 7.3525 28.345156 \" transform=\"matrix(1,0,0,-1,62.96,39.685)\"/>\n",
       "<g style=\"fill:rgb(0%,0%,0%);fill-opacity:1;\">\n",
       "  <use xlink:href=\"#glyph-1583423741060065-0-1\" x=\"56.844\" y=\"26.004\"/>\n",
       "  <use xlink:href=\"#glyph-1583423741060065-0-2\" x=\"60.773265\" y=\"26.004\"/>\n",
       "  <use xlink:href=\"#glyph-1583423741060065-0-3\" x=\"63.540887\" y=\"26.004\"/>\n",
       "</g>\n",
       "<path style=\"fill:none;stroke-width:0.59776;stroke-linecap:butt;stroke-linejoin:miter;stroke:rgb(0%,0%,0%);stroke-opacity:1;stroke-miterlimit:10;\" d=\"M 7.3525 -5.670469 L -7.354531 -5.670469 C -9.55375 -5.670469 -11.338906 -7.451719 -11.338906 -9.654844 L -11.338906 -24.361875 C -11.338906 -26.561094 -9.55375 -28.34625 -7.354531 -28.34625 L 7.3525 -28.34625 C 9.555625 -28.34625 11.336875 -26.561094 11.336875 -24.361875 L 11.336875 -9.654844 C 11.336875 -7.451719 9.555625 -5.670469 7.3525 -5.670469 Z M 7.3525 -5.670469 \" transform=\"matrix(1,0,0,-1,62.96,39.685)\"/>\n",
       "<g style=\"fill:rgb(0%,0%,0%);fill-opacity:1;\">\n",
       "  <use xlink:href=\"#glyph-1583423741060065-0-4\" x=\"56.29\" y=\"58.838\"/>\n",
       "  <use xlink:href=\"#glyph-1583423741060065-0-5\" x=\"60.717397\" y=\"58.838\"/>\n",
       "  <use xlink:href=\"#glyph-1583423741060065-0-1\" x=\"65.698717\" y=\"58.838\"/>\n",
       "</g>\n",
       "<path style=\"fill-rule:nonzero;fill:rgb(0%,0%,0%);fill-opacity:1;stroke-width:0.59776;stroke-linecap:butt;stroke-linejoin:miter;stroke:rgb(0%,0%,0%);stroke-opacity:1;stroke-miterlimit:10;\" d=\"M 39.684531 0.00140625 C 39.684531 1.563906 38.415 2.833437 36.8525 2.833437 C 35.286094 2.833437 34.016562 1.563906 34.016562 0.00140625 C 34.016562 -1.565 35.286094 -2.834531 36.8525 -2.834531 C 38.415 -2.834531 39.684531 -1.565 39.684531 0.00140625 Z M 39.684531 0.00140625 \" transform=\"matrix(1,0,0,-1,62.96,39.685)\"/>\n",
       "<path style=\"fill:none;stroke-width:0.59776;stroke-linecap:butt;stroke-linejoin:miter;stroke:rgb(0%,0%,0%);stroke-opacity:1;stroke-miterlimit:10;\" d=\"M -62.663125 0.00140625 C -53.819375 0.00140625 -48.827188 0.00140625 -39.983438 0.00140625 \" transform=\"matrix(1,0,0,-1,62.96,39.685)\"/>\n",
       "<g style=\"fill:rgb(0%,0%,0%);fill-opacity:1;\">\n",
       "  <use xlink:href=\"#glyph-1583423741060065-1-1\" x=\"8.04\" y=\"36.066\"/>\n",
       "</g>\n",
       "<path style=\"fill:none;stroke-width:0.59776;stroke-linecap:butt;stroke-linejoin:miter;stroke:rgb(0%,0%,0%);stroke-opacity:1;stroke-miterlimit:10;\" d=\"M -34.127969 1.571719 C -24.920938 6.888125 -22.268594 17.009219 -11.635781 17.009219 \" transform=\"matrix(1,0,0,-1,62.96,39.685)\"/>\n",
       "<path style=\"fill:none;stroke-width:0.59776;stroke-linecap:butt;stroke-linejoin:miter;stroke:rgb(0%,0%,0%);stroke-opacity:1;stroke-miterlimit:10;\" d=\"M -34.127969 -1.572813 C -24.920938 -6.889219 -22.268594 -17.006406 -11.635781 -17.006406 \" transform=\"matrix(1,0,0,-1,62.96,39.685)\"/>\n",
       "<path style=\"fill:none;stroke-width:0.59776;stroke-linecap:butt;stroke-linejoin:miter;stroke:rgb(0%,0%,0%);stroke-opacity:1;stroke-miterlimit:10;\" d=\"M 11.637656 17.009219 C 22.270469 17.009219 24.918906 6.888125 34.129844 1.571719 \" transform=\"matrix(1,0,0,-1,62.96,39.685)\"/>\n",
       "<path style=\"fill:none;stroke-width:0.59776;stroke-linecap:butt;stroke-linejoin:miter;stroke:rgb(0%,0%,0%);stroke-opacity:1;stroke-miterlimit:10;\" d=\"M 11.637656 -17.006406 C 22.270469 -17.006406 24.918906 -6.889219 34.129844 -1.572813 \" transform=\"matrix(1,0,0,-1,62.96,39.685)\"/>\n",
       "<g clip-path=\"url(#clip-1583423741060065-1)\" clip-rule=\"nonzero\">\n",
       "<path style=\"fill:none;stroke-width:0.59776;stroke-linecap:butt;stroke-linejoin:miter;stroke:rgb(0%,0%,0%);stroke-opacity:1;stroke-miterlimit:10;\" d=\"M 39.985312 0.00140625 C 48.829062 0.00140625 53.817344 0.00140625 62.661094 0.00140625 \" transform=\"matrix(1,0,0,-1,62.96,39.685)\"/>\n",
       "</g>\n",
       "<g style=\"fill:rgb(0%,0%,0%);fill-opacity:1;\">\n",
       "  <use xlink:href=\"#glyph-1583423741060065-1-1\" x=\"110.684\" y=\"36.066\"/>\n",
       "</g>\n",
       "</g>\n",
       "</svg>\n",
       "\n"
      ]
     },
     "metadata": {},
     "execution_count": 4
    }
   ],
   "cell_type": "code",
   "source": [
    "to_tikz(f, labels=true)"
   ],
   "metadata": {},
   "execution_count": 4
  },
  {
   "outputs": [
    {
     "output_type": "execute_result",
     "data": {
      "text/plain": "(:(function (x,)\n      v1 = sin.(x)\n      v2 = cos.(x)\n      v3 = v1 .+ v2\n      return v3\n  end), Symbol[])"
     },
     "metadata": {},
     "execution_count": 5
    }
   ],
   "cell_type": "code",
   "source": [
    "compile_expr(f; args=[:x])"
   ],
   "metadata": {},
   "execution_count": 5
  },
  {
   "outputs": [
    {
     "output_type": "execute_result",
     "data": {
      "text/plain": "Formula(:+, Formula(:sin, :x), Formula(:cos, :x))",
      "text/latex": "$\\sin\\left(x\\right) + \\cos\\left(x\\right)$"
     },
     "metadata": {},
     "execution_count": 6
    }
   ],
   "cell_type": "code",
   "source": [
    "to_formula(f, [:x])"
   ],
   "metadata": {},
   "execution_count": 6
  },
  {
   "outputs": [
    {
     "output_type": "execute_result",
     "data": {
      "text/plain": "compose(mcopy(\\mathbb{R},3),otimes(sin,cos,sin))",
      "text/latex": "$\\Delta_{\\mathbb{R},3} ; \\left(\\mathrm{sin} \\otimes \\mathrm{cos} \\otimes \\mathrm{sin}\\right) : \\mathbb{R} \\to \\mathbb{R} \\otimes \\mathbb{R} \\otimes \\mathbb{R}$"
     },
     "metadata": {},
     "execution_count": 7
    }
   ],
   "cell_type": "code",
   "source": [
    "f = compose(mcopy(R,3), otimes(f_sin, f_cos, f_sin))"
   ],
   "metadata": {},
   "execution_count": 7
  },
  {
   "outputs": [
    {
     "name": "stdout",
     "output_type": "stream",
     "text": [
      "┌ Warning: Both Convex.jl and SCS.jl must be loaded to use isotonic\n",
      "│ regression for port layout. Falling back to fixed layout.\n",
      "└ @ Catlab.Graphics.WiringDiagramLayouts /home/runner/.julia/packages/Catlab/bEZNj/src/graphics/WiringDiagramLayouts.jl:438\n"
     ]
    },
    {
     "output_type": "execute_result",
     "data": {
      "text/plain": "Catlab.Graphics.TikZ.Document(Catlab.Graphics.TikZ.Picture(Catlab.Graphics.TikZ.Statement[Catlab.Graphics.TikZ.Node(\"root\", Catlab.Graphics.TikZ.Property[Catlab.Graphics.TikZ.Property(\"outer box\", nothing), Catlab.Graphics.TikZ.Property(\"minimum width\", \"8.5\\\\tikzunit\"), Catlab.Graphics.TikZ.Property(\"minimum height\", \"10\\\\tikzunit\")], Catlab.Graphics.TikZ.Coordinate(\"0\", \"0\"), \"\"), Catlab.Graphics.TikZ.Node(\"n3\", Catlab.Graphics.TikZ.Property[Catlab.Graphics.TikZ.Property(\"junction\", nothing), Catlab.Graphics.TikZ.Property(\"minimum size\", \"0.5\\\\tikzunit\")], Catlab.Graphics.TikZ.Coordinate(\"-2\", \"0\"), \"\"), Catlab.Graphics.TikZ.Node(\"n4\", Catlab.Graphics.TikZ.Property[Catlab.Graphics.TikZ.Property(\"box\", nothing), Catlab.Graphics.TikZ.Property(\"minimum size\", \"2\\\\tikzunit\")], Catlab.Graphics.TikZ.Coordinate(\"1.25\", \"3\"), \"\\$\\\\mathrm{sin}\\$\"), Catlab.Graphics.TikZ.Node(\"n5\", Catlab.Graphics.TikZ.Property[Catlab.Graphics.TikZ.Property(\"box\", nothing), Catlab.Graphics.TikZ.Property(\"minimum size\", \"2\\\\tikzunit\")], Catlab.Graphics.TikZ.Coordinate(\"1.25\", \"0\"), \"\\$\\\\mathrm{cos}\\$\"), Catlab.Graphics.TikZ.Node(\"n6\", Catlab.Graphics.TikZ.Property[Catlab.Graphics.TikZ.Property(\"box\", nothing), Catlab.Graphics.TikZ.Property(\"minimum size\", \"2\\\\tikzunit\")], Catlab.Graphics.TikZ.Coordinate(\"1.25\", \"-3\"), \"\\$\\\\mathrm{sin}\\$\"), Catlab.Graphics.TikZ.Edge(Catlab.Graphics.TikZ.PathExpression[Catlab.Graphics.TikZ.NodeCoordinate(\"root.west\"), Catlab.Graphics.TikZ.PathOperation(\"to\", Catlab.Graphics.TikZ.Property[Catlab.Graphics.TikZ.Property(\"out\", \"0\"), Catlab.Graphics.TikZ.Property(\"in\", \"180\")]), Catlab.Graphics.TikZ.NodeCoordinate(\"n3.180\")], Catlab.Graphics.TikZ.Property[Catlab.Graphics.TikZ.Property(\"wire\", nothing)]), Catlab.Graphics.TikZ.Edge(Catlab.Graphics.TikZ.PathExpression[Catlab.Graphics.TikZ.NodeCoordinate(\"n3.45\"), Catlab.Graphics.TikZ.PathOperation(\"to\", Catlab.Graphics.TikZ.Property[Catlab.Graphics.TikZ.Property(\"out\", \"45\"), Catlab.Graphics.TikZ.Property(\"in\", \"-180\")]), Catlab.Graphics.TikZ.NodeCoordinate(\"n4.west\")], Catlab.Graphics.TikZ.Property[Catlab.Graphics.TikZ.Property(\"wire\", nothing)]), Catlab.Graphics.TikZ.Edge(Catlab.Graphics.TikZ.PathExpression[Catlab.Graphics.TikZ.NodeCoordinate(\"n3.0\"), Catlab.Graphics.TikZ.PathOperation(\"to\", Catlab.Graphics.TikZ.Property[Catlab.Graphics.TikZ.Property(\"out\", \"0\"), Catlab.Graphics.TikZ.Property(\"in\", \"-180\")]), Catlab.Graphics.TikZ.NodeCoordinate(\"n5.west\")], Catlab.Graphics.TikZ.Property[Catlab.Graphics.TikZ.Property(\"wire\", nothing)]), Catlab.Graphics.TikZ.Edge(Catlab.Graphics.TikZ.PathExpression[Catlab.Graphics.TikZ.NodeCoordinate(\"n3.-45\"), Catlab.Graphics.TikZ.PathOperation(\"to\", Catlab.Graphics.TikZ.Property[Catlab.Graphics.TikZ.Property(\"out\", \"-45\"), Catlab.Graphics.TikZ.Property(\"in\", \"-180\")]), Catlab.Graphics.TikZ.NodeCoordinate(\"n6.west\")], Catlab.Graphics.TikZ.Property[Catlab.Graphics.TikZ.Property(\"wire\", nothing)]), Catlab.Graphics.TikZ.Edge(Catlab.Graphics.TikZ.PathExpression[Catlab.Graphics.TikZ.NodeCoordinate(\"n4.east\"), Catlab.Graphics.TikZ.PathOperation(\"to\", Catlab.Graphics.TikZ.Property[Catlab.Graphics.TikZ.Property(\"out\", \"0\"), Catlab.Graphics.TikZ.Property(\"in\", \"180\")]), Catlab.Graphics.TikZ.NodeCoordinate(\"\\$(root.east)+(0.0,3)\\$\")], Catlab.Graphics.TikZ.Property[Catlab.Graphics.TikZ.Property(\"wire\", nothing)]), Catlab.Graphics.TikZ.Edge(Catlab.Graphics.TikZ.PathExpression[Catlab.Graphics.TikZ.NodeCoordinate(\"n5.east\"), Catlab.Graphics.TikZ.PathOperation(\"to\", Catlab.Graphics.TikZ.Property[Catlab.Graphics.TikZ.Property(\"out\", \"0\"), Catlab.Graphics.TikZ.Property(\"in\", \"180\")]), Catlab.Graphics.TikZ.NodeCoordinate(\"root.east\")], Catlab.Graphics.TikZ.Property[Catlab.Graphics.TikZ.Property(\"wire\", nothing)]), Catlab.Graphics.TikZ.Edge(Catlab.Graphics.TikZ.PathExpression[Catlab.Graphics.TikZ.NodeCoordinate(\"n6.east\"), Catlab.Graphics.TikZ.PathOperation(\"to\", Catlab.Graphics.TikZ.Property[Catlab.Graphics.TikZ.Property(\"out\", \"0\"), Catlab.Graphics.TikZ.Property(\"in\", \"180\")]), Catlab.Graphics.TikZ.NodeCoordinate(\"\\$(root.east)+(0.0,-3)\\$\")], Catlab.Graphics.TikZ.Property[Catlab.Graphics.TikZ.Property(\"wire\", nothing)])], Catlab.Graphics.TikZ.Property[Catlab.Graphics.TikZ.Property(\"unit length/.code\", \"{{\\\\newdimen\\\\tikzunit}\\\\setlength{\\\\tikzunit}{#1}}\"), Catlab.Graphics.TikZ.Property(\"unit length\", \"4mm\"), Catlab.Graphics.TikZ.Property(\"x\", \"\\\\tikzunit\"), Catlab.Graphics.TikZ.Property(\"y\", \"\\\\tikzunit\"), Catlab.Graphics.TikZ.Property(\"semithick\", nothing), Catlab.Graphics.TikZ.Property(\"box/.style\", Catlab.Graphics.TikZ.Property[Catlab.Graphics.TikZ.Property(\"rectangle\", nothing), Catlab.Graphics.TikZ.Property(\"draw\", nothing), Catlab.Graphics.TikZ.Property(\"solid\", nothing), Catlab.Graphics.TikZ.Property(\"rounded corners\", nothing)]), Catlab.Graphics.TikZ.Property(\"junction/.style\", Catlab.Graphics.TikZ.Property[Catlab.Graphics.TikZ.Property(\"circle\", nothing), Catlab.Graphics.TikZ.Property(\"draw\", nothing), Catlab.Graphics.TikZ.Property(\"fill\", nothing), Catlab.Graphics.TikZ.Property(\"inner sep\", \"0\")]), Catlab.Graphics.TikZ.Property(\"outer box/.style\", Catlab.Graphics.TikZ.Property[Catlab.Graphics.TikZ.Property(\"draw\", \"none\")]), Catlab.Graphics.TikZ.Property(\"wire/.style\", Catlab.Graphics.TikZ.Property[Catlab.Graphics.TikZ.Property(\"draw\", nothing)])]), [\"calc\"])",
      "image/svg+xml": [
       "<?xml version=\"1.0\" encoding=\"UTF-8\"?>\n",
       "<svg xmlns=\"http://www.w3.org/2000/svg\" xmlns:xlink=\"http://www.w3.org/1999/xlink\" width=\"97.573pt\" height=\"113.386pt\" viewBox=\"0 0 97.573 113.386\" version=\"1.1\">\n",
       "<defs>\n",
       "<g>\n",
       "<symbol overflow=\"visible\" id=\"glyph-1583423741060066-0-0\">\n",
       "<path style=\"stroke:none;\" d=\"\"/>\n",
       "</symbol>\n",
       "<symbol overflow=\"visible\" id=\"glyph-1583423741060066-0-1\">\n",
       "<path style=\"stroke:none;\" d=\"M 2.078125 -1.9375 C 2.296875 -1.890625 3.109375 -1.734375 3.109375 -1.015625 C 3.109375 -0.515625 2.765625 -0.109375 1.984375 -0.109375 C 1.140625 -0.109375 0.78125 -0.671875 0.59375 -1.53125 C 0.5625 -1.65625 0.5625 -1.6875 0.453125 -1.6875 C 0.328125 -1.6875 0.328125 -1.625 0.328125 -1.453125 L 0.328125 -0.125 C 0.328125 0.046875 0.328125 0.109375 0.4375 0.109375 C 0.484375 0.109375 0.5 0.09375 0.6875 -0.09375 C 0.703125 -0.109375 0.703125 -0.125 0.890625 -0.3125 C 1.328125 0.09375 1.78125 0.109375 1.984375 0.109375 C 3.125 0.109375 3.59375 -0.5625 3.59375 -1.28125 C 3.59375 -1.796875 3.296875 -2.109375 3.171875 -2.21875 C 2.84375 -2.546875 2.453125 -2.625 2.03125 -2.703125 C 1.46875 -2.8125 0.8125 -2.9375 0.8125 -3.515625 C 0.8125 -3.875 1.0625 -4.28125 1.921875 -4.28125 C 3.015625 -4.28125 3.078125 -3.375 3.09375 -3.078125 C 3.09375 -2.984375 3.1875 -2.984375 3.203125 -2.984375 C 3.34375 -2.984375 3.34375 -3.03125 3.34375 -3.21875 L 3.34375 -4.234375 C 3.34375 -4.390625 3.34375 -4.46875 3.234375 -4.46875 C 3.1875 -4.46875 3.15625 -4.46875 3.03125 -4.34375 C 3 -4.3125 2.90625 -4.21875 2.859375 -4.1875 C 2.484375 -4.46875 2.078125 -4.46875 1.921875 -4.46875 C 0.703125 -4.46875 0.328125 -3.796875 0.328125 -3.234375 C 0.328125 -2.890625 0.484375 -2.609375 0.75 -2.390625 C 1.078125 -2.140625 1.359375 -2.078125 2.078125 -1.9375 Z M 2.078125 -1.9375 \"/>\n",
       "</symbol>\n",
       "<symbol overflow=\"visible\" id=\"glyph-1583423741060066-0-2\">\n",
       "<path style=\"stroke:none;\" d=\"M 1.765625 -4.40625 L 0.375 -4.296875 L 0.375 -3.984375 C 1.015625 -3.984375 1.109375 -3.921875 1.109375 -3.4375 L 1.109375 -0.75 C 1.109375 -0.3125 1 -0.3125 0.328125 -0.3125 L 0.328125 0 C 0.640625 -0.015625 1.1875 -0.03125 1.421875 -0.03125 C 1.78125 -0.03125 2.125 -0.015625 2.46875 0 L 2.46875 -0.3125 C 1.796875 -0.3125 1.765625 -0.359375 1.765625 -0.75 Z M 1.796875 -6.140625 C 1.796875 -6.453125 1.5625 -6.671875 1.28125 -6.671875 C 0.96875 -6.671875 0.75 -6.40625 0.75 -6.140625 C 0.75 -5.875 0.96875 -5.609375 1.28125 -5.609375 C 1.5625 -5.609375 1.796875 -5.828125 1.796875 -6.140625 Z M 1.796875 -6.140625 \"/>\n",
       "</symbol>\n",
       "<symbol overflow=\"visible\" id=\"glyph-1583423741060066-0-3\">\n",
       "<path style=\"stroke:none;\" d=\"M 1.09375 -3.421875 L 1.09375 -0.75 C 1.09375 -0.3125 0.984375 -0.3125 0.3125 -0.3125 L 0.3125 0 C 0.671875 -0.015625 1.171875 -0.03125 1.453125 -0.03125 C 1.703125 -0.03125 2.21875 -0.015625 2.5625 0 L 2.5625 -0.3125 C 1.890625 -0.3125 1.78125 -0.3125 1.78125 -0.75 L 1.78125 -2.59375 C 1.78125 -3.625 2.5 -4.1875 3.125 -4.1875 C 3.765625 -4.1875 3.875 -3.65625 3.875 -3.078125 L 3.875 -0.75 C 3.875 -0.3125 3.765625 -0.3125 3.09375 -0.3125 L 3.09375 0 C 3.4375 -0.015625 3.953125 -0.03125 4.21875 -0.03125 C 4.46875 -0.03125 5 -0.015625 5.328125 0 L 5.328125 -0.3125 C 4.8125 -0.3125 4.5625 -0.3125 4.5625 -0.609375 L 4.5625 -2.515625 C 4.5625 -3.375 4.5625 -3.671875 4.25 -4.03125 C 4.109375 -4.203125 3.78125 -4.40625 3.203125 -4.40625 C 2.46875 -4.40625 2 -3.984375 1.71875 -3.359375 L 1.71875 -4.40625 L 0.3125 -4.296875 L 0.3125 -3.984375 C 1.015625 -3.984375 1.09375 -3.921875 1.09375 -3.421875 Z M 1.09375 -3.421875 \"/>\n",
       "</symbol>\n",
       "<symbol overflow=\"visible\" id=\"glyph-1583423741060066-0-4\">\n",
       "<path style=\"stroke:none;\" d=\"M 1.171875 -2.171875 C 1.171875 -3.796875 1.984375 -4.21875 2.515625 -4.21875 C 2.609375 -4.21875 3.234375 -4.203125 3.578125 -3.84375 C 3.171875 -3.8125 3.109375 -3.515625 3.109375 -3.390625 C 3.109375 -3.125 3.296875 -2.9375 3.5625 -2.9375 C 3.828125 -2.9375 4.03125 -3.09375 4.03125 -3.40625 C 4.03125 -4.078125 3.265625 -4.46875 2.5 -4.46875 C 1.25 -4.46875 0.34375 -3.390625 0.34375 -2.15625 C 0.34375 -0.875 1.328125 0.109375 2.484375 0.109375 C 3.8125 0.109375 4.140625 -1.09375 4.140625 -1.1875 C 4.140625 -1.28125 4.03125 -1.28125 4 -1.28125 C 3.921875 -1.28125 3.890625 -1.25 3.875 -1.1875 C 3.59375 -0.265625 2.9375 -0.140625 2.578125 -0.140625 C 2.046875 -0.140625 1.171875 -0.5625 1.171875 -2.171875 Z M 1.171875 -2.171875 \"/>\n",
       "</symbol>\n",
       "<symbol overflow=\"visible\" id=\"glyph-1583423741060066-0-5\">\n",
       "<path style=\"stroke:none;\" d=\"M 4.6875 -2.140625 C 4.6875 -3.40625 3.703125 -4.46875 2.5 -4.46875 C 1.25 -4.46875 0.28125 -3.375 0.28125 -2.140625 C 0.28125 -0.84375 1.3125 0.109375 2.484375 0.109375 C 3.6875 0.109375 4.6875 -0.875 4.6875 -2.140625 Z M 2.5 -0.140625 C 2.0625 -0.140625 1.625 -0.34375 1.359375 -0.8125 C 1.109375 -1.25 1.109375 -1.859375 1.109375 -2.21875 C 1.109375 -2.609375 1.109375 -3.140625 1.34375 -3.578125 C 1.609375 -4.03125 2.078125 -4.25 2.484375 -4.25 C 2.921875 -4.25 3.34375 -4.03125 3.609375 -3.59375 C 3.875 -3.171875 3.875 -2.59375 3.875 -2.21875 C 3.875 -1.859375 3.875 -1.3125 3.65625 -0.875 C 3.421875 -0.421875 2.984375 -0.140625 2.5 -0.140625 Z M 2.5 -0.140625 \"/>\n",
       "</symbol>\n",
       "</g>\n",
       "<clipPath id=\"clip-1583423741060066-1\">\n",
       "  <path d=\"M 66 14 L 97.574219 14 L 97.574219 32 L 66 32 Z M 66 14 \"/>\n",
       "</clipPath>\n",
       "<clipPath id=\"clip-1583423741060066-2\">\n",
       "  <path d=\"M 66 48 L 97.574219 48 L 97.574219 66 L 66 66 Z M 66 48 \"/>\n",
       "</clipPath>\n",
       "<clipPath id=\"clip-1583423741060066-3\">\n",
       "  <path d=\"M 66 82 L 97.574219 82 L 97.574219 100 L 66 100 Z M 66 82 \"/>\n",
       "</clipPath>\n",
       "</defs>\n",
       "<g id=\"surface1\">\n",
       "<path style=\"fill-rule:nonzero;fill:rgb(0%,0%,0%);fill-opacity:1;stroke-width:0.59776;stroke-linecap:butt;stroke-linejoin:miter;stroke:rgb(0%,0%,0%);stroke-opacity:1;stroke-miterlimit:10;\" d=\"M -19.841687 0.00159375 C -19.841687 1.564094 -21.111219 2.833625 -22.677625 2.833625 C -24.244031 2.833625 -25.513562 1.564094 -25.513562 0.00159375 C -25.513562 -1.564813 -24.244031 -2.834344 -22.677625 -2.834344 C -21.111219 -2.834344 -19.841687 -1.564813 -19.841687 0.00159375 Z M -19.841687 0.00159375 \" transform=\"matrix(1,0,0,-1,48.787,56.693)\"/>\n",
       "<path style=\"fill:none;stroke-width:0.59776;stroke-linecap:butt;stroke-linejoin:miter;stroke:rgb(0%,0%,0%);stroke-opacity:1;stroke-miterlimit:10;\" d=\"M 21.5255 45.353156 L 6.818469 45.353156 C 4.61925 45.353156 2.834094 43.571906 2.834094 41.368781 L 2.834094 26.66175 C 2.834094 24.462531 4.61925 22.677375 6.818469 22.677375 L 21.5255 22.677375 C 23.728625 22.677375 25.513781 24.462531 25.513781 26.66175 L 25.513781 41.368781 C 25.513781 43.571906 23.728625 45.353156 21.5255 45.353156 Z M 21.5255 45.353156 \" transform=\"matrix(1,0,0,-1,48.787,56.693)\"/>\n",
       "<g style=\"fill:rgb(0%,0%,0%);fill-opacity:1;\">\n",
       "  <use xlink:href=\"#glyph-1583423741060066-0-1\" x=\"56.844\" y=\"26.004\"/>\n",
       "  <use xlink:href=\"#glyph-1583423741060066-0-2\" x=\"60.773265\" y=\"26.004\"/>\n",
       "  <use xlink:href=\"#glyph-1583423741060066-0-3\" x=\"63.540887\" y=\"26.004\"/>\n",
       "</g>\n",
       "<path style=\"fill:none;stroke-width:0.59776;stroke-linecap:butt;stroke-linejoin:miter;stroke:rgb(0%,0%,0%);stroke-opacity:1;stroke-miterlimit:10;\" d=\"M 21.5255 11.337531 L 6.818469 11.337531 C 4.61925 11.337531 2.834094 9.556281 2.834094 7.353156 L 2.834094 -7.353875 C 2.834094 -9.553094 4.61925 -11.33825 6.818469 -11.33825 L 21.5255 -11.33825 C 23.728625 -11.33825 25.513781 -9.553094 25.513781 -7.353875 L 25.513781 7.353156 C 25.513781 9.556281 23.728625 11.337531 21.5255 11.337531 Z M 21.5255 11.337531 \" transform=\"matrix(1,0,0,-1,48.787,56.693)\"/>\n",
       "<g style=\"fill:rgb(0%,0%,0%);fill-opacity:1;\">\n",
       "  <use xlink:href=\"#glyph-1583423741060066-0-4\" x=\"56.29\" y=\"58.838\"/>\n",
       "  <use xlink:href=\"#glyph-1583423741060066-0-5\" x=\"60.717397\" y=\"58.838\"/>\n",
       "  <use xlink:href=\"#glyph-1583423741060066-0-1\" x=\"65.698717\" y=\"58.838\"/>\n",
       "</g>\n",
       "<path style=\"fill:none;stroke-width:0.59776;stroke-linecap:butt;stroke-linejoin:miter;stroke:rgb(0%,0%,0%);stroke-opacity:1;stroke-miterlimit:10;\" d=\"M 21.5255 -22.678094 L 6.818469 -22.678094 C 4.61925 -22.678094 2.834094 -24.46325 2.834094 -26.662469 L 2.834094 -41.3695 C 2.834094 -43.572625 4.61925 -45.353875 6.818469 -45.353875 L 21.5255 -45.353875 C 23.728625 -45.353875 25.513781 -43.572625 25.513781 -41.3695 L 25.513781 -26.662469 C 25.513781 -24.46325 23.728625 -22.678094 21.5255 -22.678094 Z M 21.5255 -22.678094 \" transform=\"matrix(1,0,0,-1,48.787,56.693)\"/>\n",
       "<g style=\"fill:rgb(0%,0%,0%);fill-opacity:1;\">\n",
       "  <use xlink:href=\"#glyph-1583423741060066-0-1\" x=\"56.844\" y=\"94.036\"/>\n",
       "  <use xlink:href=\"#glyph-1583423741060066-0-2\" x=\"60.773265\" y=\"94.036\"/>\n",
       "  <use xlink:href=\"#glyph-1583423741060066-0-3\" x=\"63.540887\" y=\"94.036\"/>\n",
       "</g>\n",
       "<path style=\"fill:none;stroke-width:0.59776;stroke-linecap:butt;stroke-linejoin:miter;stroke:rgb(0%,0%,0%);stroke-opacity:1;stroke-miterlimit:10;\" d=\"M -48.490125 0.00159375 C -39.646375 0.00159375 -34.654187 0.00159375 -25.810437 0.00159375 \" transform=\"matrix(1,0,0,-1,48.787,56.693)\"/>\n",
       "<path style=\"fill:none;stroke-width:0.59776;stroke-linecap:butt;stroke-linejoin:miter;stroke:rgb(0%,0%,0%);stroke-opacity:1;stroke-miterlimit:10;\" d=\"M -20.462781 2.216437 C -9.626844 13.052375 -12.787 34.017219 2.537219 34.017219 \" transform=\"matrix(1,0,0,-1,48.787,56.693)\"/>\n",
       "<path style=\"fill:none;stroke-width:0.59776;stroke-linecap:butt;stroke-linejoin:miter;stroke:rgb(0%,0%,0%);stroke-opacity:1;stroke-miterlimit:10;\" d=\"M -19.544812 0.00159375 C -10.931531 0.00159375 -6.076062 0.00159375 2.537219 0.00159375 \" transform=\"matrix(1,0,0,-1,48.787,56.693)\"/>\n",
       "<path style=\"fill:none;stroke-width:0.59776;stroke-linecap:butt;stroke-linejoin:miter;stroke:rgb(0%,0%,0%);stroke-opacity:1;stroke-miterlimit:10;\" d=\"M -20.462781 -2.217156 C -9.626844 -13.049188 -12.787 -34.017938 2.537219 -34.017938 \" transform=\"matrix(1,0,0,-1,48.787,56.693)\"/>\n",
       "<g clip-path=\"url(#clip-1583423741060066-1)\" clip-rule=\"nonzero\">\n",
       "<path style=\"fill:none;stroke-width:0.59776;stroke-linecap:butt;stroke-linejoin:miter;stroke:rgb(0%,0%,0%);stroke-opacity:1;stroke-miterlimit:10;\" d=\"M 25.810656 34.017219 C 34.654406 34.017219 39.646594 34.017219 48.490344 34.017219 \" transform=\"matrix(1,0,0,-1,48.787,56.693)\"/>\n",
       "</g>\n",
       "<g clip-path=\"url(#clip-1583423741060066-2)\" clip-rule=\"nonzero\">\n",
       "<path style=\"fill:none;stroke-width:0.59776;stroke-linecap:butt;stroke-linejoin:miter;stroke:rgb(0%,0%,0%);stroke-opacity:1;stroke-miterlimit:10;\" d=\"M 25.810656 0.00159375 C 34.654406 0.00159375 39.646594 0.00159375 48.490344 0.00159375 \" transform=\"matrix(1,0,0,-1,48.787,56.693)\"/>\n",
       "</g>\n",
       "<g clip-path=\"url(#clip-1583423741060066-3)\" clip-rule=\"nonzero\">\n",
       "<path style=\"fill:none;stroke-width:0.59776;stroke-linecap:butt;stroke-linejoin:miter;stroke:rgb(0%,0%,0%);stroke-opacity:1;stroke-miterlimit:10;\" d=\"M 25.810656 -34.017938 C 34.654406 -34.017938 39.646594 -34.017938 48.490344 -34.017938 \" transform=\"matrix(1,0,0,-1,48.787,56.693)\"/>\n",
       "</g>\n",
       "</g>\n",
       "</svg>\n",
       "\n"
      ]
     },
     "metadata": {},
     "execution_count": 8
    }
   ],
   "cell_type": "code",
   "source": [
    "to_tikz(f)"
   ],
   "metadata": {},
   "execution_count": 8
  },
  {
   "outputs": [
    {
     "output_type": "execute_result",
     "data": {
      "text/plain": "(:(function (x,)\n      v1 = sin.(x)\n      v2 = cos.(x)\n      v3 = sin.(x)\n      return (v1, v2, v3)\n  end), Symbol[])"
     },
     "metadata": {},
     "execution_count": 9
    }
   ],
   "cell_type": "code",
   "source": [
    "compile_expr(f; args=[:x])"
   ],
   "metadata": {},
   "execution_count": 9
  },
  {
   "outputs": [
    {
     "output_type": "execute_result",
     "data": {
      "text/plain": "compose(linear(2,\\mathbb{R},\\mathbb{R}),sin,linear(2,\\mathbb{R},\\mathbb{R}))",
      "text/latex": "$\\mathop{\\mathrm{linear}}\\left[2\\right] ; \\mathrm{sin} ; \\mathop{\\mathrm{linear}}\\left[2\\right] : \\mathbb{R} \\to \\mathbb{R}$"
     },
     "metadata": {},
     "execution_count": 10
    }
   ],
   "cell_type": "code",
   "source": [
    "f = compose(linear(2,R,R), f_sin, linear(2,R,R))"
   ],
   "metadata": {},
   "execution_count": 10
  },
  {
   "outputs": [
    {
     "name": "stdout",
     "output_type": "stream",
     "text": [
      "┌ Warning: Both Convex.jl and SCS.jl must be loaded to use isotonic\n",
      "│ regression for port layout. Falling back to fixed layout.\n",
      "└ @ Catlab.Graphics.WiringDiagramLayouts /home/runner/.julia/packages/Catlab/bEZNj/src/graphics/WiringDiagramLayouts.jl:438\n"
     ]
    },
    {
     "output_type": "execute_result",
     "data": {
      "text/plain": "Catlab.Graphics.TikZ.Document(Catlab.Graphics.TikZ.Picture(Catlab.Graphics.TikZ.Statement[Catlab.Graphics.TikZ.Node(\"root\", Catlab.Graphics.TikZ.Property[Catlab.Graphics.TikZ.Property(\"outer box\", nothing), Catlab.Graphics.TikZ.Property(\"minimum width\", \"14\\\\tikzunit\"), Catlab.Graphics.TikZ.Property(\"minimum height\", \"4\\\\tikzunit\")], Catlab.Graphics.TikZ.Coordinate(\"0\", \"0\"), \"\"), Catlab.Graphics.TikZ.Node(\"n3\", Catlab.Graphics.TikZ.Property[Catlab.Graphics.TikZ.Property(\"box\", nothing), Catlab.Graphics.TikZ.Property(\"minimum size\", \"2\\\\tikzunit\")], Catlab.Graphics.TikZ.Coordinate(\"-4\", \"0\"), \"\\$\\\\mathop{\\\\mathrm{linear}}\\\\left[2\\\\right]\\$\"), Catlab.Graphics.TikZ.Node(\"n4\", Catlab.Graphics.TikZ.Property[Catlab.Graphics.TikZ.Property(\"box\", nothing), Catlab.Graphics.TikZ.Property(\"minimum size\", \"2\\\\tikzunit\")], Catlab.Graphics.TikZ.Coordinate(\"0\", \"0\"), \"\\$\\\\mathrm{sin}\\$\"), Catlab.Graphics.TikZ.Node(\"n5\", Catlab.Graphics.TikZ.Property[Catlab.Graphics.TikZ.Property(\"box\", nothing), Catlab.Graphics.TikZ.Property(\"minimum size\", \"2\\\\tikzunit\")], Catlab.Graphics.TikZ.Coordinate(\"4\", \"0\"), \"\\$\\\\mathop{\\\\mathrm{linear}}\\\\left[2\\\\right]\\$\"), Catlab.Graphics.TikZ.Edge(Catlab.Graphics.TikZ.PathExpression[Catlab.Graphics.TikZ.NodeCoordinate(\"root.west\"), Catlab.Graphics.TikZ.PathOperation(\"to\", Catlab.Graphics.TikZ.Property[Catlab.Graphics.TikZ.Property(\"out\", \"0\"), Catlab.Graphics.TikZ.Property(\"in\", \"-180\")]), Catlab.Graphics.TikZ.NodeCoordinate(\"n3.west\")], Catlab.Graphics.TikZ.Property[Catlab.Graphics.TikZ.Property(\"wire\", nothing)]), Catlab.Graphics.TikZ.Edge(Catlab.Graphics.TikZ.PathExpression[Catlab.Graphics.TikZ.NodeCoordinate(\"n3.east\"), Catlab.Graphics.TikZ.PathOperation(\"to\", Catlab.Graphics.TikZ.Property[Catlab.Graphics.TikZ.Property(\"out\", \"0\"), Catlab.Graphics.TikZ.Property(\"in\", \"-180\")]), Catlab.Graphics.TikZ.NodeCoordinate(\"n4.west\")], Catlab.Graphics.TikZ.Property[Catlab.Graphics.TikZ.Property(\"wire\", nothing)]), Catlab.Graphics.TikZ.Edge(Catlab.Graphics.TikZ.PathExpression[Catlab.Graphics.TikZ.NodeCoordinate(\"n4.east\"), Catlab.Graphics.TikZ.PathOperation(\"to\", Catlab.Graphics.TikZ.Property[Catlab.Graphics.TikZ.Property(\"out\", \"0\"), Catlab.Graphics.TikZ.Property(\"in\", \"-180\")]), Catlab.Graphics.TikZ.NodeCoordinate(\"n5.west\")], Catlab.Graphics.TikZ.Property[Catlab.Graphics.TikZ.Property(\"wire\", nothing)]), Catlab.Graphics.TikZ.Edge(Catlab.Graphics.TikZ.PathExpression[Catlab.Graphics.TikZ.NodeCoordinate(\"n5.east\"), Catlab.Graphics.TikZ.PathOperation(\"to\", Catlab.Graphics.TikZ.Property[Catlab.Graphics.TikZ.Property(\"out\", \"0\"), Catlab.Graphics.TikZ.Property(\"in\", \"180\")]), Catlab.Graphics.TikZ.NodeCoordinate(\"root.east\")], Catlab.Graphics.TikZ.Property[Catlab.Graphics.TikZ.Property(\"wire\", nothing)])], Catlab.Graphics.TikZ.Property[Catlab.Graphics.TikZ.Property(\"unit length/.code\", \"{{\\\\newdimen\\\\tikzunit}\\\\setlength{\\\\tikzunit}{#1}}\"), Catlab.Graphics.TikZ.Property(\"unit length\", \"4mm\"), Catlab.Graphics.TikZ.Property(\"x\", \"\\\\tikzunit\"), Catlab.Graphics.TikZ.Property(\"y\", \"\\\\tikzunit\"), Catlab.Graphics.TikZ.Property(\"semithick\", nothing), Catlab.Graphics.TikZ.Property(\"box/.style\", Catlab.Graphics.TikZ.Property[Catlab.Graphics.TikZ.Property(\"rectangle\", nothing), Catlab.Graphics.TikZ.Property(\"draw\", nothing), Catlab.Graphics.TikZ.Property(\"solid\", nothing), Catlab.Graphics.TikZ.Property(\"rounded corners\", nothing)]), Catlab.Graphics.TikZ.Property(\"outer box/.style\", Catlab.Graphics.TikZ.Property[Catlab.Graphics.TikZ.Property(\"draw\", \"none\")]), Catlab.Graphics.TikZ.Property(\"wire/.style\", Catlab.Graphics.TikZ.Property[Catlab.Graphics.TikZ.Property(\"draw\", nothing)])]), [\"calc\"])",
      "image/svg+xml": [
       "<?xml version=\"1.0\" encoding=\"UTF-8\"?>\n",
       "<svg xmlns=\"http://www.w3.org/2000/svg\" xmlns:xlink=\"http://www.w3.org/1999/xlink\" width=\"159.935pt\" height=\"45.354pt\" viewBox=\"0 0 159.935 45.354\" version=\"1.1\">\n",
       "<defs>\n",
       "<g>\n",
       "<symbol overflow=\"visible\" id=\"glyph-1583423741060067-0-0\">\n",
       "<path style=\"stroke:none;\" d=\"\"/>\n",
       "</symbol>\n",
       "<symbol overflow=\"visible\" id=\"glyph-1583423741060067-0-1\">\n",
       "<path style=\"stroke:none;\" d=\"M 1.765625 -6.921875 L 0.328125 -6.8125 L 0.328125 -6.5 C 1.03125 -6.5 1.109375 -6.4375 1.109375 -5.9375 L 1.109375 -0.75 C 1.109375 -0.3125 1 -0.3125 0.328125 -0.3125 L 0.328125 0 C 0.65625 -0.015625 1.1875 -0.03125 1.4375 -0.03125 C 1.6875 -0.03125 2.171875 -0.015625 2.546875 0 L 2.546875 -0.3125 C 1.875 -0.3125 1.765625 -0.3125 1.765625 -0.75 Z M 1.765625 -6.921875 \"/>\n",
       "</symbol>\n",
       "<symbol overflow=\"visible\" id=\"glyph-1583423741060067-0-2\">\n",
       "<path style=\"stroke:none;\" d=\"M 1.765625 -4.40625 L 0.375 -4.296875 L 0.375 -3.984375 C 1.015625 -3.984375 1.109375 -3.921875 1.109375 -3.4375 L 1.109375 -0.75 C 1.109375 -0.3125 1 -0.3125 0.328125 -0.3125 L 0.328125 0 C 0.640625 -0.015625 1.1875 -0.03125 1.421875 -0.03125 C 1.78125 -0.03125 2.125 -0.015625 2.46875 0 L 2.46875 -0.3125 C 1.796875 -0.3125 1.765625 -0.359375 1.765625 -0.75 Z M 1.796875 -6.140625 C 1.796875 -6.453125 1.5625 -6.671875 1.28125 -6.671875 C 0.96875 -6.671875 0.75 -6.40625 0.75 -6.140625 C 0.75 -5.875 0.96875 -5.609375 1.28125 -5.609375 C 1.5625 -5.609375 1.796875 -5.828125 1.796875 -6.140625 Z M 1.796875 -6.140625 \"/>\n",
       "</symbol>\n",
       "<symbol overflow=\"visible\" id=\"glyph-1583423741060067-0-3\">\n",
       "<path style=\"stroke:none;\" d=\"M 1.09375 -3.421875 L 1.09375 -0.75 C 1.09375 -0.3125 0.984375 -0.3125 0.3125 -0.3125 L 0.3125 0 C 0.671875 -0.015625 1.171875 -0.03125 1.453125 -0.03125 C 1.703125 -0.03125 2.21875 -0.015625 2.5625 0 L 2.5625 -0.3125 C 1.890625 -0.3125 1.78125 -0.3125 1.78125 -0.75 L 1.78125 -2.59375 C 1.78125 -3.625 2.5 -4.1875 3.125 -4.1875 C 3.765625 -4.1875 3.875 -3.65625 3.875 -3.078125 L 3.875 -0.75 C 3.875 -0.3125 3.765625 -0.3125 3.09375 -0.3125 L 3.09375 0 C 3.4375 -0.015625 3.953125 -0.03125 4.21875 -0.03125 C 4.46875 -0.03125 5 -0.015625 5.328125 0 L 5.328125 -0.3125 C 4.8125 -0.3125 4.5625 -0.3125 4.5625 -0.609375 L 4.5625 -2.515625 C 4.5625 -3.375 4.5625 -3.671875 4.25 -4.03125 C 4.109375 -4.203125 3.78125 -4.40625 3.203125 -4.40625 C 2.46875 -4.40625 2 -3.984375 1.71875 -3.359375 L 1.71875 -4.40625 L 0.3125 -4.296875 L 0.3125 -3.984375 C 1.015625 -3.984375 1.09375 -3.921875 1.09375 -3.421875 Z M 1.09375 -3.421875 \"/>\n",
       "</symbol>\n",
       "<symbol overflow=\"visible\" id=\"glyph-1583423741060067-0-4\">\n",
       "<path style=\"stroke:none;\" d=\"M 1.109375 -2.515625 C 1.171875 -4 2.015625 -4.25 2.359375 -4.25 C 3.375 -4.25 3.484375 -2.90625 3.484375 -2.515625 Z M 1.109375 -2.296875 L 3.890625 -2.296875 C 4.109375 -2.296875 4.140625 -2.296875 4.140625 -2.515625 C 4.140625 -3.5 3.59375 -4.46875 2.359375 -4.46875 C 1.203125 -4.46875 0.28125 -3.4375 0.28125 -2.1875 C 0.28125 -0.859375 1.328125 0.109375 2.46875 0.109375 C 3.6875 0.109375 4.140625 -1 4.140625 -1.1875 C 4.140625 -1.28125 4.0625 -1.3125 4 -1.3125 C 3.921875 -1.3125 3.890625 -1.25 3.875 -1.171875 C 3.53125 -0.140625 2.625 -0.140625 2.53125 -0.140625 C 2.03125 -0.140625 1.640625 -0.4375 1.40625 -0.8125 C 1.109375 -1.28125 1.109375 -1.9375 1.109375 -2.296875 Z M 1.109375 -2.296875 \"/>\n",
       "</symbol>\n",
       "<symbol overflow=\"visible\" id=\"glyph-1583423741060067-0-5\">\n",
       "<path style=\"stroke:none;\" d=\"M 3.3125 -0.75 C 3.359375 -0.359375 3.625 0.0625 4.09375 0.0625 C 4.3125 0.0625 4.921875 -0.078125 4.921875 -0.890625 L 4.921875 -1.453125 L 4.671875 -1.453125 L 4.671875 -0.890625 C 4.671875 -0.3125 4.421875 -0.25 4.3125 -0.25 C 3.984375 -0.25 3.9375 -0.703125 3.9375 -0.75 L 3.9375 -2.734375 C 3.9375 -3.15625 3.9375 -3.546875 3.578125 -3.921875 C 3.1875 -4.3125 2.6875 -4.46875 2.21875 -4.46875 C 1.390625 -4.46875 0.703125 -4 0.703125 -3.34375 C 0.703125 -3.046875 0.90625 -2.875 1.171875 -2.875 C 1.453125 -2.875 1.625 -3.078125 1.625 -3.328125 C 1.625 -3.453125 1.578125 -3.78125 1.109375 -3.78125 C 1.390625 -4.140625 1.875 -4.25 2.1875 -4.25 C 2.6875 -4.25 3.25 -3.859375 3.25 -2.96875 L 3.25 -2.609375 C 2.734375 -2.578125 2.046875 -2.546875 1.421875 -2.25 C 0.671875 -1.90625 0.421875 -1.390625 0.421875 -0.953125 C 0.421875 -0.140625 1.390625 0.109375 2.015625 0.109375 C 2.671875 0.109375 3.125 -0.296875 3.3125 -0.75 Z M 3.25 -2.390625 L 3.25 -1.390625 C 3.25 -0.453125 2.53125 -0.109375 2.078125 -0.109375 C 1.59375 -0.109375 1.1875 -0.453125 1.1875 -0.953125 C 1.1875 -1.5 1.609375 -2.328125 3.25 -2.390625 Z M 3.25 -2.390625 \"/>\n",
       "</symbol>\n",
       "<symbol overflow=\"visible\" id=\"glyph-1583423741060067-0-6\">\n",
       "<path style=\"stroke:none;\" d=\"M 1.671875 -3.3125 L 1.671875 -4.40625 L 0.28125 -4.296875 L 0.28125 -3.984375 C 0.984375 -3.984375 1.0625 -3.921875 1.0625 -3.421875 L 1.0625 -0.75 C 1.0625 -0.3125 0.953125 -0.3125 0.28125 -0.3125 L 0.28125 0 C 0.671875 -0.015625 1.140625 -0.03125 1.421875 -0.03125 C 1.8125 -0.03125 2.28125 -0.03125 2.6875 0 L 2.6875 -0.3125 L 2.46875 -0.3125 C 1.734375 -0.3125 1.71875 -0.421875 1.71875 -0.78125 L 1.71875 -2.3125 C 1.71875 -3.296875 2.140625 -4.1875 2.890625 -4.1875 C 2.953125 -4.1875 2.984375 -4.1875 3 -4.171875 C 2.96875 -4.171875 2.765625 -4.046875 2.765625 -3.78125 C 2.765625 -3.515625 2.984375 -3.359375 3.203125 -3.359375 C 3.375 -3.359375 3.625 -3.484375 3.625 -3.796875 C 3.625 -4.109375 3.3125 -4.40625 2.890625 -4.40625 C 2.15625 -4.40625 1.796875 -3.734375 1.671875 -3.3125 Z M 1.671875 -3.3125 \"/>\n",
       "</symbol>\n",
       "<symbol overflow=\"visible\" id=\"glyph-1583423741060067-0-7\">\n",
       "<path style=\"stroke:none;\" d=\"M 2.546875 2.5 L 2.546875 2.09375 L 1.578125 2.09375 L 1.578125 -7.078125 L 2.546875 -7.078125 L 2.546875 -7.484375 L 1.171875 -7.484375 L 1.171875 2.5 Z M 2.546875 2.5 \"/>\n",
       "</symbol>\n",
       "<symbol overflow=\"visible\" id=\"glyph-1583423741060067-0-8\">\n",
       "<path style=\"stroke:none;\" d=\"M 1.265625 -0.765625 L 2.328125 -1.796875 C 3.875 -3.171875 4.46875 -3.703125 4.46875 -4.703125 C 4.46875 -5.84375 3.578125 -6.640625 2.359375 -6.640625 C 1.234375 -6.640625 0.5 -5.71875 0.5 -4.828125 C 0.5 -4.28125 1 -4.28125 1.03125 -4.28125 C 1.203125 -4.28125 1.546875 -4.390625 1.546875 -4.8125 C 1.546875 -5.0625 1.359375 -5.328125 1.015625 -5.328125 C 0.9375 -5.328125 0.921875 -5.328125 0.890625 -5.3125 C 1.109375 -5.96875 1.65625 -6.328125 2.234375 -6.328125 C 3.140625 -6.328125 3.5625 -5.515625 3.5625 -4.703125 C 3.5625 -3.90625 3.078125 -3.125 2.515625 -2.5 L 0.609375 -0.375 C 0.5 -0.265625 0.5 -0.234375 0.5 0 L 4.203125 0 L 4.46875 -1.734375 L 4.234375 -1.734375 C 4.171875 -1.4375 4.109375 -1 4 -0.84375 C 3.9375 -0.765625 3.28125 -0.765625 3.0625 -0.765625 Z M 1.265625 -0.765625 \"/>\n",
       "</symbol>\n",
       "<symbol overflow=\"visible\" id=\"glyph-1583423741060067-0-9\">\n",
       "<path style=\"stroke:none;\" d=\"M 1.578125 -7.484375 L 0.21875 -7.484375 L 0.21875 -7.078125 L 1.1875 -7.078125 L 1.1875 2.09375 L 0.21875 2.09375 L 0.21875 2.5 L 1.578125 2.5 Z M 1.578125 -7.484375 \"/>\n",
       "</symbol>\n",
       "<symbol overflow=\"visible\" id=\"glyph-1583423741060067-0-10\">\n",
       "<path style=\"stroke:none;\" d=\"M 2.078125 -1.9375 C 2.296875 -1.890625 3.109375 -1.734375 3.109375 -1.015625 C 3.109375 -0.515625 2.765625 -0.109375 1.984375 -0.109375 C 1.140625 -0.109375 0.78125 -0.671875 0.59375 -1.53125 C 0.5625 -1.65625 0.5625 -1.6875 0.453125 -1.6875 C 0.328125 -1.6875 0.328125 -1.625 0.328125 -1.453125 L 0.328125 -0.125 C 0.328125 0.046875 0.328125 0.109375 0.4375 0.109375 C 0.484375 0.109375 0.5 0.09375 0.6875 -0.09375 C 0.703125 -0.109375 0.703125 -0.125 0.890625 -0.3125 C 1.328125 0.09375 1.78125 0.109375 1.984375 0.109375 C 3.125 0.109375 3.59375 -0.5625 3.59375 -1.28125 C 3.59375 -1.796875 3.296875 -2.109375 3.171875 -2.21875 C 2.84375 -2.546875 2.453125 -2.625 2.03125 -2.703125 C 1.46875 -2.8125 0.8125 -2.9375 0.8125 -3.515625 C 0.8125 -3.875 1.0625 -4.28125 1.921875 -4.28125 C 3.015625 -4.28125 3.078125 -3.375 3.09375 -3.078125 C 3.09375 -2.984375 3.1875 -2.984375 3.203125 -2.984375 C 3.34375 -2.984375 3.34375 -3.03125 3.34375 -3.21875 L 3.34375 -4.234375 C 3.34375 -4.390625 3.34375 -4.46875 3.234375 -4.46875 C 3.1875 -4.46875 3.15625 -4.46875 3.03125 -4.34375 C 3 -4.3125 2.90625 -4.21875 2.859375 -4.1875 C 2.484375 -4.46875 2.078125 -4.46875 1.921875 -4.46875 C 0.703125 -4.46875 0.328125 -3.796875 0.328125 -3.234375 C 0.328125 -2.890625 0.484375 -2.609375 0.75 -2.390625 C 1.078125 -2.140625 1.359375 -2.078125 2.078125 -1.9375 Z M 2.078125 -1.9375 \"/>\n",
       "</symbol>\n",
       "</g>\n",
       "<clipPath id=\"clip-1583423741060067-1\">\n",
       "  <path d=\"M 138 14 L 159.933594 14 L 159.933594 32 L 138 32 Z M 138 14 \"/>\n",
       "</clipPath>\n",
       "</defs>\n",
       "<g id=\"surface1\">\n",
       "<path style=\"fill:none;stroke-width:0.59776;stroke-linecap:butt;stroke-linejoin:miter;stroke:rgb(0%,0%,0%);stroke-opacity:1;stroke-miterlimit:10;\" d=\"M -27.741438 11.337156 L -62.968 11.337156 C -65.171125 11.337156 -66.956281 9.555906 -66.956281 7.352781 L -66.956281 -7.35425 C -66.956281 -9.553469 -65.171125 -11.338625 -62.968 -11.338625 L -27.741438 -11.338625 C -25.538313 -11.338625 -23.757063 -9.553469 -23.757063 -7.35425 L -23.757063 7.352781 C -23.757063 9.555906 -25.538313 11.337156 -27.741438 11.337156 Z M -27.741438 11.337156 \" transform=\"matrix(1,0,0,-1,79.968,22.677)\"/>\n",
       "<g style=\"fill:rgb(0%,0%,0%);fill-opacity:1;\">\n",
       "  <use xlink:href=\"#glyph-1583423741060067-0-1\" x=\"16.335\" y=\"25.168\"/>\n",
       "  <use xlink:href=\"#glyph-1583423741060067-0-2\" x=\"19.102621\" y=\"25.168\"/>\n",
       "  <use xlink:href=\"#glyph-1583423741060067-0-3\" x=\"21.870243\" y=\"25.168\"/>\n",
       "  <use xlink:href=\"#glyph-1583423741060067-0-4\" x=\"27.405486\" y=\"25.168\"/>\n",
       "  <use xlink:href=\"#glyph-1583423741060067-0-5\" x=\"31.832883\" y=\"25.168\"/>\n",
       "  <use xlink:href=\"#glyph-1583423741060067-0-6\" x=\"36.814203\" y=\"25.168\"/>\n",
       "</g>\n",
       "<g style=\"fill:rgb(0%,0%,0%);fill-opacity:1;\">\n",
       "  <use xlink:href=\"#glyph-1583423741060067-0-7\" x=\"42.370367\" y=\"25.168\"/>\n",
       "  <use xlink:href=\"#glyph-1583423741060067-0-8\" x=\"45.137989\" y=\"25.168\"/>\n",
       "  <use xlink:href=\"#glyph-1583423741060067-0-9\" x=\"50.119309\" y=\"25.168\"/>\n",
       "</g>\n",
       "<path style=\"fill:none;stroke-width:0.59776;stroke-linecap:butt;stroke-linejoin:miter;stroke:rgb(0%,0%,0%);stroke-opacity:1;stroke-miterlimit:10;\" d=\"M 7.352312 11.337156 L -7.354719 11.337156 C -9.553938 11.337156 -11.339094 9.555906 -11.339094 7.352781 L -11.339094 -7.35425 C -11.339094 -9.553469 -9.553938 -11.338625 -7.354719 -11.338625 L 7.352312 -11.338625 C 9.555437 -11.338625 11.340594 -9.553469 11.340594 -7.35425 L 11.340594 7.352781 C 11.340594 9.555906 9.555437 11.337156 7.352312 11.337156 Z M 7.352312 11.337156 \" transform=\"matrix(1,0,0,-1,79.968,22.677)\"/>\n",
       "<g style=\"fill:rgb(0%,0%,0%);fill-opacity:1;\">\n",
       "  <use xlink:href=\"#glyph-1583423741060067-0-10\" x=\"73.852\" y=\"26.004\"/>\n",
       "  <use xlink:href=\"#glyph-1583423741060067-0-2\" x=\"77.781265\" y=\"26.004\"/>\n",
       "  <use xlink:href=\"#glyph-1583423741060067-0-3\" x=\"80.548887\" y=\"26.004\"/>\n",
       "</g>\n",
       "<path style=\"fill:none;stroke-width:0.59776;stroke-linecap:butt;stroke-linejoin:miter;stroke:rgb(0%,0%,0%);stroke-opacity:1;stroke-miterlimit:10;\" d=\"M 62.9695 11.337156 L 27.739031 11.337156 C 25.539812 11.337156 23.754656 9.555906 23.754656 7.352781 L 23.754656 -7.35425 C 23.754656 -9.553469 25.539812 -11.338625 27.739031 -11.338625 L 62.9695 -11.338625 C 65.168719 -11.338625 66.953875 -9.553469 66.953875 -7.35425 L 66.953875 7.352781 C 66.953875 9.555906 65.168719 11.337156 62.9695 11.337156 Z M 62.9695 11.337156 \" transform=\"matrix(1,0,0,-1,79.968,22.677)\"/>\n",
       "<g style=\"fill:rgb(0%,0%,0%);fill-opacity:1;\">\n",
       "  <use xlink:href=\"#glyph-1583423741060067-0-1\" x=\"107.043\" y=\"25.168\"/>\n",
       "  <use xlink:href=\"#glyph-1583423741060067-0-2\" x=\"109.810621\" y=\"25.168\"/>\n",
       "  <use xlink:href=\"#glyph-1583423741060067-0-3\" x=\"112.578243\" y=\"25.168\"/>\n",
       "  <use xlink:href=\"#glyph-1583423741060067-0-4\" x=\"118.113486\" y=\"25.168\"/>\n",
       "  <use xlink:href=\"#glyph-1583423741060067-0-5\" x=\"122.540883\" y=\"25.168\"/>\n",
       "  <use xlink:href=\"#glyph-1583423741060067-0-6\" x=\"127.522203\" y=\"25.168\"/>\n",
       "</g>\n",
       "<g style=\"fill:rgb(0%,0%,0%);fill-opacity:1;\">\n",
       "  <use xlink:href=\"#glyph-1583423741060067-0-7\" x=\"133.078367\" y=\"25.168\"/>\n",
       "  <use xlink:href=\"#glyph-1583423741060067-0-8\" x=\"135.845989\" y=\"25.168\"/>\n",
       "  <use xlink:href=\"#glyph-1583423741060067-0-9\" x=\"140.827309\" y=\"25.168\"/>\n",
       "</g>\n",
       "<path style=\"fill:none;stroke-width:0.59776;stroke-linecap:butt;stroke-linejoin:miter;stroke:rgb(0%,0%,0%);stroke-opacity:1;stroke-miterlimit:10;\" d=\"M -79.671125 0.00121875 C -74.827375 0.00121875 -72.096906 0.00121875 -67.253156 0.00121875 \" transform=\"matrix(1,0,0,-1,79.968,22.677)\"/>\n",
       "<path style=\"fill:none;stroke-width:0.59776;stroke-linecap:butt;stroke-linejoin:miter;stroke:rgb(0%,0%,0%);stroke-opacity:1;stroke-miterlimit:10;\" d=\"M -23.456281 0.00121875 C -18.846906 0.00121875 -16.245344 0.00121875 -11.635969 0.00121875 \" transform=\"matrix(1,0,0,-1,79.968,22.677)\"/>\n",
       "<path style=\"fill:none;stroke-width:0.59776;stroke-linecap:butt;stroke-linejoin:miter;stroke:rgb(0%,0%,0%);stroke-opacity:1;stroke-miterlimit:10;\" d=\"M 11.637469 0.00121875 C 16.246844 0.00121875 18.848406 0.00121875 23.457781 0.00121875 \" transform=\"matrix(1,0,0,-1,79.968,22.677)\"/>\n",
       "<g clip-path=\"url(#clip-1583423741060067-1)\" clip-rule=\"nonzero\">\n",
       "<path style=\"fill:none;stroke-width:0.59776;stroke-linecap:butt;stroke-linejoin:miter;stroke:rgb(0%,0%,0%);stroke-opacity:1;stroke-miterlimit:10;\" d=\"M 67.254656 0.00121875 C 72.0945 0.00121875 74.828875 0.00121875 79.668719 0.00121875 \" transform=\"matrix(1,0,0,-1,79.968,22.677)\"/>\n",
       "</g>\n",
       "</g>\n",
       "</svg>\n",
       "\n"
      ]
     },
     "metadata": {},
     "execution_count": 11
    }
   ],
   "cell_type": "code",
   "source": [
    "to_tikz(f)"
   ],
   "metadata": {},
   "execution_count": 11
  },
  {
   "outputs": [
    {
     "output_type": "execute_result",
     "data": {
      "text/plain": "(:(function (x,)\n      v1 = 2x\n      v2 = sin.(v1)\n      v3 = 2v2\n      return v3\n  end), Symbol[])"
     },
     "metadata": {},
     "execution_count": 12
    }
   ],
   "cell_type": "code",
   "source": [
    "compile_expr(f; args=[:x])"
   ],
   "metadata": {},
   "execution_count": 12
  },
  {
   "outputs": [
    {
     "output_type": "execute_result",
     "data": {
      "text/plain": "Formula(:*, 2, Formula(:sin, Formula(:*, 2, :x)))",
      "text/latex": "$2 \\sin\\left(2 x\\right)$"
     },
     "metadata": {},
     "execution_count": 13
    }
   ],
   "cell_type": "code",
   "source": [
    "to_formula(f, [:x])"
   ],
   "metadata": {},
   "execution_count": 13
  },
  {
   "outputs": [
    {
     "output_type": "execute_result",
     "data": {
      "text/plain": "compose(mcopy(\\mathbb{R},2),otimes(id(\\mathbb{R}),cos),*)",
      "text/latex": "$\\Delta_{\\mathbb{R},2} ; \\left(\\mathrm{id}_{\\mathbb{R}} \\otimes \\mathrm{cos}\\right) ; * : \\mathbb{R} \\to \\mathbb{R}$"
     },
     "metadata": {},
     "execution_count": 14
    }
   ],
   "cell_type": "code",
   "source": [
    "f = compose(mcopy(R), otimes(id(R),Hom(:cos,R,R)), Hom(:*,otimes(R,R),R))"
   ],
   "metadata": {},
   "execution_count": 14
  },
  {
   "outputs": [
    {
     "name": "stdout",
     "output_type": "stream",
     "text": [
      "┌ Warning: Both Convex.jl and SCS.jl must be loaded to use isotonic\n",
      "│ regression for port layout. Falling back to fixed layout.\n",
      "└ @ Catlab.Graphics.WiringDiagramLayouts /home/runner/.julia/packages/Catlab/bEZNj/src/graphics/WiringDiagramLayouts.jl:438\n"
     ]
    },
    {
     "output_type": "execute_result",
     "data": {
      "text/plain": "Catlab.Graphics.TikZ.Document(Catlab.Graphics.TikZ.Picture(Catlab.Graphics.TikZ.Statement[Catlab.Graphics.TikZ.Node(\"root\", Catlab.Graphics.TikZ.Property[Catlab.Graphics.TikZ.Property(\"outer box\", nothing), Catlab.Graphics.TikZ.Property(\"minimum width\", \"12.5\\\\tikzunit\"), Catlab.Graphics.TikZ.Property(\"minimum height\", \"7\\\\tikzunit\")], Catlab.Graphics.TikZ.Coordinate(\"0\", \"0\"), \"\"), Catlab.Graphics.TikZ.Node(\"n3\", Catlab.Graphics.TikZ.Property[Catlab.Graphics.TikZ.Property(\"junction\", nothing), Catlab.Graphics.TikZ.Property(\"minimum size\", \"0.5\\\\tikzunit\")], Catlab.Graphics.TikZ.Coordinate(\"-4\", \"0\"), \"\"), Catlab.Graphics.TikZ.Node(\"n4\", Catlab.Graphics.TikZ.Property[Catlab.Graphics.TikZ.Property(\"box\", nothing), Catlab.Graphics.TikZ.Property(\"minimum size\", \"2\\\\tikzunit\")], Catlab.Graphics.TikZ.Coordinate(\"-0.75\", \"-1.5\"), \"\\$\\\\mathrm{cos}\\$\"), Catlab.Graphics.TikZ.Node(\"n5\", Catlab.Graphics.TikZ.Property[Catlab.Graphics.TikZ.Property(\"box\", nothing), Catlab.Graphics.TikZ.Property(\"minimum width\", \"2\\\\tikzunit\"), Catlab.Graphics.TikZ.Property(\"minimum height\", \"5\\\\tikzunit\")], Catlab.Graphics.TikZ.Coordinate(\"3.25\", \"0\"), \"\\$*\\$\"), Catlab.Graphics.TikZ.Edge(Catlab.Graphics.TikZ.PathExpression[Catlab.Graphics.TikZ.NodeCoordinate(\"root.west\"), Catlab.Graphics.TikZ.PathOperation(\"to\", Catlab.Graphics.TikZ.Property[Catlab.Graphics.TikZ.Property(\"out\", \"0\"), Catlab.Graphics.TikZ.Property(\"in\", \"180\")]), Catlab.Graphics.TikZ.NodeCoordinate(\"n3.180\")], Catlab.Graphics.TikZ.Property[Catlab.Graphics.TikZ.Property(\"wire\", nothing)]), Catlab.Graphics.TikZ.Edge(Catlab.Graphics.TikZ.PathExpression[Catlab.Graphics.TikZ.NodeCoordinate(\"n3.-30\"), Catlab.Graphics.TikZ.PathOperation(\"to\", Catlab.Graphics.TikZ.Property[Catlab.Graphics.TikZ.Property(\"out\", \"-30\"), Catlab.Graphics.TikZ.Property(\"in\", \"-180\")]), Catlab.Graphics.TikZ.NodeCoordinate(\"n4.west\")], Catlab.Graphics.TikZ.Property[Catlab.Graphics.TikZ.Property(\"wire\", nothing)]), Catlab.Graphics.TikZ.Edge(Catlab.Graphics.TikZ.PathExpression[Catlab.Graphics.TikZ.NodeCoordinate(\"n3.30\"), Catlab.Graphics.TikZ.PathOperation(\"to\", Catlab.Graphics.TikZ.Property[Catlab.Graphics.TikZ.Property(\"out\", \"30\"), Catlab.Graphics.TikZ.Property(\"in\", \"180\")]), Catlab.Graphics.TikZ.Coordinate(\"-0.75\", \"1.5\"), Catlab.Graphics.TikZ.PathOperation(\"to\", Catlab.Graphics.TikZ.Property[Catlab.Graphics.TikZ.Property(\"out\", \"0\"), Catlab.Graphics.TikZ.Property(\"in\", \"-180\")]), Catlab.Graphics.TikZ.NodeCoordinate(\"\\$(n5.west)+(0,1.5)\\$\")], Catlab.Graphics.TikZ.Property[Catlab.Graphics.TikZ.Property(\"wire\", nothing)]), Catlab.Graphics.TikZ.Edge(Catlab.Graphics.TikZ.PathExpression[Catlab.Graphics.TikZ.NodeCoordinate(\"n4.east\"), Catlab.Graphics.TikZ.PathOperation(\"to\", Catlab.Graphics.TikZ.Property[Catlab.Graphics.TikZ.Property(\"out\", \"0\"), Catlab.Graphics.TikZ.Property(\"in\", \"-180\")]), Catlab.Graphics.TikZ.NodeCoordinate(\"\\$(n5.west)+(0,-1.5)\\$\")], Catlab.Graphics.TikZ.Property[Catlab.Graphics.TikZ.Property(\"wire\", nothing)]), Catlab.Graphics.TikZ.Edge(Catlab.Graphics.TikZ.PathExpression[Catlab.Graphics.TikZ.NodeCoordinate(\"n5.east\"), Catlab.Graphics.TikZ.PathOperation(\"to\", Catlab.Graphics.TikZ.Property[Catlab.Graphics.TikZ.Property(\"out\", \"0\"), Catlab.Graphics.TikZ.Property(\"in\", \"180\")]), Catlab.Graphics.TikZ.NodeCoordinate(\"root.east\")], Catlab.Graphics.TikZ.Property[Catlab.Graphics.TikZ.Property(\"wire\", nothing)])], Catlab.Graphics.TikZ.Property[Catlab.Graphics.TikZ.Property(\"unit length/.code\", \"{{\\\\newdimen\\\\tikzunit}\\\\setlength{\\\\tikzunit}{#1}}\"), Catlab.Graphics.TikZ.Property(\"unit length\", \"4mm\"), Catlab.Graphics.TikZ.Property(\"x\", \"\\\\tikzunit\"), Catlab.Graphics.TikZ.Property(\"y\", \"\\\\tikzunit\"), Catlab.Graphics.TikZ.Property(\"semithick\", nothing), Catlab.Graphics.TikZ.Property(\"box/.style\", Catlab.Graphics.TikZ.Property[Catlab.Graphics.TikZ.Property(\"rectangle\", nothing), Catlab.Graphics.TikZ.Property(\"draw\", nothing), Catlab.Graphics.TikZ.Property(\"solid\", nothing), Catlab.Graphics.TikZ.Property(\"rounded corners\", nothing)]), Catlab.Graphics.TikZ.Property(\"junction/.style\", Catlab.Graphics.TikZ.Property[Catlab.Graphics.TikZ.Property(\"circle\", nothing), Catlab.Graphics.TikZ.Property(\"draw\", nothing), Catlab.Graphics.TikZ.Property(\"fill\", nothing), Catlab.Graphics.TikZ.Property(\"inner sep\", \"0\")]), Catlab.Graphics.TikZ.Property(\"outer box/.style\", Catlab.Graphics.TikZ.Property[Catlab.Graphics.TikZ.Property(\"draw\", \"none\")]), Catlab.Graphics.TikZ.Property(\"wire/.style\", Catlab.Graphics.TikZ.Property[Catlab.Graphics.TikZ.Property(\"draw\", nothing)])]), [\"calc\"])",
      "image/svg+xml": [
       "<?xml version=\"1.0\" encoding=\"UTF-8\"?>\n",
       "<svg xmlns=\"http://www.w3.org/2000/svg\" xmlns:xlink=\"http://www.w3.org/1999/xlink\" width=\"142.928pt\" height=\"79.37pt\" viewBox=\"0 0 142.928 79.37\" version=\"1.1\">\n",
       "<defs>\n",
       "<g>\n",
       "<symbol overflow=\"visible\" id=\"glyph-1583423741060068-0-0\">\n",
       "<path style=\"stroke:none;\" d=\"\"/>\n",
       "</symbol>\n",
       "<symbol overflow=\"visible\" id=\"glyph-1583423741060068-0-1\">\n",
       "<path style=\"stroke:none;\" d=\"M 1.171875 -2.171875 C 1.171875 -3.796875 1.984375 -4.21875 2.515625 -4.21875 C 2.609375 -4.21875 3.234375 -4.203125 3.578125 -3.84375 C 3.171875 -3.8125 3.109375 -3.515625 3.109375 -3.390625 C 3.109375 -3.125 3.296875 -2.9375 3.5625 -2.9375 C 3.828125 -2.9375 4.03125 -3.09375 4.03125 -3.40625 C 4.03125 -4.078125 3.265625 -4.46875 2.5 -4.46875 C 1.25 -4.46875 0.34375 -3.390625 0.34375 -2.15625 C 0.34375 -0.875 1.328125 0.109375 2.484375 0.109375 C 3.8125 0.109375 4.140625 -1.09375 4.140625 -1.1875 C 4.140625 -1.28125 4.03125 -1.28125 4 -1.28125 C 3.921875 -1.28125 3.890625 -1.25 3.875 -1.1875 C 3.59375 -0.265625 2.9375 -0.140625 2.578125 -0.140625 C 2.046875 -0.140625 1.171875 -0.5625 1.171875 -2.171875 Z M 1.171875 -2.171875 \"/>\n",
       "</symbol>\n",
       "<symbol overflow=\"visible\" id=\"glyph-1583423741060068-0-2\">\n",
       "<path style=\"stroke:none;\" d=\"M 4.6875 -2.140625 C 4.6875 -3.40625 3.703125 -4.46875 2.5 -4.46875 C 1.25 -4.46875 0.28125 -3.375 0.28125 -2.140625 C 0.28125 -0.84375 1.3125 0.109375 2.484375 0.109375 C 3.6875 0.109375 4.6875 -0.875 4.6875 -2.140625 Z M 2.5 -0.140625 C 2.0625 -0.140625 1.625 -0.34375 1.359375 -0.8125 C 1.109375 -1.25 1.109375 -1.859375 1.109375 -2.21875 C 1.109375 -2.609375 1.109375 -3.140625 1.34375 -3.578125 C 1.609375 -4.03125 2.078125 -4.25 2.484375 -4.25 C 2.921875 -4.25 3.34375 -4.03125 3.609375 -3.59375 C 3.875 -3.171875 3.875 -2.59375 3.875 -2.21875 C 3.875 -1.859375 3.875 -1.3125 3.65625 -0.875 C 3.421875 -0.421875 2.984375 -0.140625 2.5 -0.140625 Z M 2.5 -0.140625 \"/>\n",
       "</symbol>\n",
       "<symbol overflow=\"visible\" id=\"glyph-1583423741060068-0-3\">\n",
       "<path style=\"stroke:none;\" d=\"M 2.078125 -1.9375 C 2.296875 -1.890625 3.109375 -1.734375 3.109375 -1.015625 C 3.109375 -0.515625 2.765625 -0.109375 1.984375 -0.109375 C 1.140625 -0.109375 0.78125 -0.671875 0.59375 -1.53125 C 0.5625 -1.65625 0.5625 -1.6875 0.453125 -1.6875 C 0.328125 -1.6875 0.328125 -1.625 0.328125 -1.453125 L 0.328125 -0.125 C 0.328125 0.046875 0.328125 0.109375 0.4375 0.109375 C 0.484375 0.109375 0.5 0.09375 0.6875 -0.09375 C 0.703125 -0.109375 0.703125 -0.125 0.890625 -0.3125 C 1.328125 0.09375 1.78125 0.109375 1.984375 0.109375 C 3.125 0.109375 3.59375 -0.5625 3.59375 -1.28125 C 3.59375 -1.796875 3.296875 -2.109375 3.171875 -2.21875 C 2.84375 -2.546875 2.453125 -2.625 2.03125 -2.703125 C 1.46875 -2.8125 0.8125 -2.9375 0.8125 -3.515625 C 0.8125 -3.875 1.0625 -4.28125 1.921875 -4.28125 C 3.015625 -4.28125 3.078125 -3.375 3.09375 -3.078125 C 3.09375 -2.984375 3.1875 -2.984375 3.203125 -2.984375 C 3.34375 -2.984375 3.34375 -3.03125 3.34375 -3.21875 L 3.34375 -4.234375 C 3.34375 -4.390625 3.34375 -4.46875 3.234375 -4.46875 C 3.1875 -4.46875 3.15625 -4.46875 3.03125 -4.34375 C 3 -4.3125 2.90625 -4.21875 2.859375 -4.1875 C 2.484375 -4.46875 2.078125 -4.46875 1.921875 -4.46875 C 0.703125 -4.46875 0.328125 -3.796875 0.328125 -3.234375 C 0.328125 -2.890625 0.484375 -2.609375 0.75 -2.390625 C 1.078125 -2.140625 1.359375 -2.078125 2.078125 -1.9375 Z M 2.078125 -1.9375 \"/>\n",
       "</symbol>\n",
       "<symbol overflow=\"visible\" id=\"glyph-1583423741060068-1-0\">\n",
       "<path style=\"stroke:none;\" d=\"\"/>\n",
       "</symbol>\n",
       "<symbol overflow=\"visible\" id=\"glyph-1583423741060068-1-1\">\n",
       "<path style=\"stroke:none;\" d=\"M 2.734375 -4.25 C 2.75 -4.390625 2.75 -4.640625 2.5 -4.640625 C 2.328125 -4.640625 2.203125 -4.5 2.234375 -4.375 L 2.234375 -4.25 L 2.375 -2.703125 L 1.09375 -3.625 C 1 -3.671875 0.984375 -3.703125 0.921875 -3.703125 C 0.78125 -3.703125 0.640625 -3.5625 0.640625 -3.421875 C 0.640625 -3.265625 0.75 -3.21875 0.84375 -3.171875 L 2.265625 -2.5 L 0.890625 -1.828125 C 0.734375 -1.75 0.640625 -1.703125 0.640625 -1.5625 C 0.640625 -1.40625 0.78125 -1.28125 0.921875 -1.28125 C 0.984375 -1.28125 1 -1.28125 1.25 -1.46875 L 2.375 -2.265625 L 2.21875 -0.59375 C 2.21875 -0.390625 2.40625 -0.34375 2.484375 -0.34375 C 2.609375 -0.34375 2.75 -0.40625 2.75 -0.59375 L 2.609375 -2.265625 L 3.875 -1.34375 C 3.96875 -1.296875 3.984375 -1.28125 4.0625 -1.28125 C 4.203125 -1.28125 4.328125 -1.421875 4.328125 -1.5625 C 4.328125 -1.703125 4.234375 -1.75 4.109375 -1.8125 C 3.515625 -2.109375 3.5 -2.109375 2.71875 -2.484375 L 4.09375 -3.15625 C 4.25 -3.234375 4.328125 -3.265625 4.328125 -3.421875 C 4.328125 -3.5625 4.203125 -3.703125 4.0625 -3.703125 C 3.984375 -3.703125 3.96875 -3.703125 3.71875 -3.515625 L 2.609375 -2.703125 Z M 2.734375 -4.25 \"/>\n",
       "</symbol>\n",
       "</g>\n",
       "<clipPath id=\"clip-1583423741060068-1\">\n",
       "  <path d=\"M 111 31 L 142.929688 31 L 142.929688 49 L 111 49 Z M 111 31 \"/>\n",
       "</clipPath>\n",
       "</defs>\n",
       "<g id=\"surface1\">\n",
       "<path style=\"fill-rule:nonzero;fill:rgb(0%,0%,0%);fill-opacity:1;stroke-width:0.59776;stroke-linecap:butt;stroke-linejoin:miter;stroke:rgb(0%,0%,0%);stroke-opacity:1;stroke-miterlimit:10;\" d=\"M -42.518688 0.00140625 C -42.518688 1.563906 -43.788219 2.833437 -45.354625 2.833437 C -46.921031 2.833437 -48.190563 1.563906 -48.190563 0.00140625 C -48.190563 -1.565 -46.921031 -2.834531 -45.354625 -2.834531 C -43.788219 -2.834531 -42.518688 -1.565 -42.518688 0.00140625 Z M -42.518688 0.00140625 \" transform=\"matrix(1,0,0,-1,71.464,39.685)\"/>\n",
       "<path style=\"fill:none;stroke-width:0.59776;stroke-linecap:butt;stroke-linejoin:miter;stroke:rgb(0%,0%,0%);stroke-opacity:1;stroke-miterlimit:10;\" d=\"M -1.1515 -5.670469 L -15.858531 -5.670469 C -18.05775 -5.670469 -19.842906 -7.451719 -19.842906 -9.654844 L -19.842906 -24.361875 C -19.842906 -26.561094 -18.05775 -28.34625 -15.858531 -28.34625 L -1.1515 -28.34625 C 1.051625 -28.34625 2.832875 -26.561094 2.832875 -24.361875 L 2.832875 -9.654844 C 2.832875 -7.451719 1.051625 -5.670469 -1.1515 -5.670469 Z M -1.1515 -5.670469 \" transform=\"matrix(1,0,0,-1,71.464,39.685)\"/>\n",
       "<g style=\"fill:rgb(0%,0%,0%);fill-opacity:1;\">\n",
       "  <use xlink:href=\"#glyph-1583423741060068-0-1\" x=\"56.29\" y=\"58.838\"/>\n",
       "  <use xlink:href=\"#glyph-1583423741060068-0-2\" x=\"60.717397\" y=\"58.838\"/>\n",
       "  <use xlink:href=\"#glyph-1583423741060068-0-3\" x=\"65.698717\" y=\"58.838\"/>\n",
       "</g>\n",
       "<path style=\"fill:none;stroke-width:0.59776;stroke-linecap:butt;stroke-linejoin:miter;stroke:rgb(0%,0%,0%);stroke-opacity:1;stroke-miterlimit:10;\" d=\"M 44.203969 28.345156 L 29.496937 28.345156 C 27.297719 28.345156 25.512562 26.563906 25.512562 24.360781 L 25.512562 -24.361875 C 25.512562 -26.561094 27.297719 -28.34625 29.496937 -28.34625 L 44.203969 -28.34625 C 46.407094 -28.34625 48.188344 -26.561094 48.188344 -24.361875 L 48.188344 24.360781 C 48.188344 26.563906 46.407094 28.345156 44.203969 28.345156 Z M 44.203969 28.345156 \" transform=\"matrix(1,0,0,-1,71.464,39.685)\"/>\n",
       "<g style=\"fill:rgb(0%,0%,0%);fill-opacity:1;\">\n",
       "  <use xlink:href=\"#glyph-1583423741060068-1-1\" x=\"105.823\" y=\"42.003\"/>\n",
       "</g>\n",
       "<path style=\"fill:none;stroke-width:0.59776;stroke-linecap:butt;stroke-linejoin:miter;stroke:rgb(0%,0%,0%);stroke-opacity:1;stroke-miterlimit:10;\" d=\"M -71.167125 0.00140625 C -62.323375 0.00140625 -57.331188 0.00140625 -48.487438 0.00140625 \" transform=\"matrix(1,0,0,-1,71.464,39.685)\"/>\n",
       "<path style=\"fill:none;stroke-width:0.59776;stroke-linecap:butt;stroke-linejoin:miter;stroke:rgb(0%,0%,0%);stroke-opacity:1;stroke-miterlimit:10;\" d=\"M -42.631969 -1.572813 C -33.424938 -6.889219 -30.772594 -17.006406 -20.139781 -17.006406 \" transform=\"matrix(1,0,0,-1,71.464,39.685)\"/>\n",
       "<path style=\"fill:none;stroke-width:0.59776;stroke-linecap:butt;stroke-linejoin:miter;stroke:rgb(0%,0%,0%);stroke-opacity:1;stroke-miterlimit:10;\" d=\"M -42.631969 1.571719 C -29.971813 8.880312 -23.12025 17.009219 -8.503063 17.009219 C 4.645375 17.009219 12.063344 17.009219 25.211781 17.009219 \" transform=\"matrix(1,0,0,-1,71.464,39.685)\"/>\n",
       "<path style=\"fill:none;stroke-width:0.59776;stroke-linecap:butt;stroke-linejoin:miter;stroke:rgb(0%,0%,0%);stroke-opacity:1;stroke-miterlimit:10;\" d=\"M 3.133656 -17.006406 C 11.743031 -17.006406 16.602406 -17.006406 25.211781 -17.006406 \" transform=\"matrix(1,0,0,-1,71.464,39.685)\"/>\n",
       "<g clip-path=\"url(#clip-1583423741060068-1)\" clip-rule=\"nonzero\">\n",
       "<path style=\"fill:none;stroke-width:0.59776;stroke-linecap:butt;stroke-linejoin:miter;stroke:rgb(0%,0%,0%);stroke-opacity:1;stroke-miterlimit:10;\" d=\"M 48.489125 0.00140625 C 57.332875 0.00140625 62.321156 0.00140625 71.164906 0.00140625 \" transform=\"matrix(1,0,0,-1,71.464,39.685)\"/>\n",
       "</g>\n",
       "</g>\n",
       "</svg>\n",
       "\n"
      ]
     },
     "metadata": {},
     "execution_count": 15
    }
   ],
   "cell_type": "code",
   "source": [
    "to_tikz(f)"
   ],
   "metadata": {},
   "execution_count": 15
  },
  {
   "outputs": [
    {
     "output_type": "execute_result",
     "data": {
      "text/plain": "(:(function (x,)\n      v1 = cos.(x)\n      v2 = (*).(x, v1)\n      return v2\n  end), Symbol[])"
     },
     "metadata": {},
     "execution_count": 16
    }
   ],
   "cell_type": "code",
   "source": [
    "compile_expr(f; args=[:x])"
   ],
   "metadata": {},
   "execution_count": 16
  },
  {
   "outputs": [
    {
     "output_type": "execute_result",
     "data": {
      "text/plain": "Formula(:*, :x, Formula(:cos, :x))",
      "text/latex": "$x \\cos\\left(x\\right)$"
     },
     "metadata": {},
     "execution_count": 17
    }
   ],
   "cell_type": "code",
   "source": [
    "to_formula(f, [:x])"
   ],
   "metadata": {},
   "execution_count": 17
  }
 ],
 "nbformat_minor": 3,
 "metadata": {
  "language_info": {
   "file_extension": ".jl",
   "mimetype": "application/julia",
   "name": "julia",
   "version": "1.3.1"
  },
  "kernelspec": {
   "name": "julia-1.3",
   "display_name": "Julia 1.3.1",
   "language": "julia"
  }
 },
 "nbformat": 4
}
