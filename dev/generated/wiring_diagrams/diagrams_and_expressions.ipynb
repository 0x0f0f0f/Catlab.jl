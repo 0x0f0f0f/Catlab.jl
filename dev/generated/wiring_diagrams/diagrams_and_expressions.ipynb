{
 "cells": [
  {
   "cell_type": "markdown",
   "source": [
    "# Wiring diagrams and syntactic expressions\n",
    "\n",
    "\n",
    "Morphisms in a monoidal category can be represented as syntactic expressions,\n",
    "such as $f \\cdot g$ and $f \\otimes g$, and also as [wiring\n",
    "diagrams](@ref wiring_diagram_basics), aka *string diagrams*. Catlab provides\n",
    "facilities for transforming between these two representations."
   ],
   "metadata": {}
  },
  {
   "outputs": [
    {
     "output_type": "execute_result",
     "data": {
      "text/plain": "show_diagram (generic function with 1 method)"
     },
     "metadata": {},
     "execution_count": 1
    }
   ],
   "cell_type": "code",
   "source": [
    "using Catlab.Theories, Catlab.WiringDiagrams\n",
    "using Catlab.Graphics\n",
    "\n",
    "function show_diagram(d::WiringDiagram)\n",
    "  to_graphviz(d, orientation=LeftToRight, labels=false)\n",
    "end"
   ],
   "metadata": {},
   "execution_count": 1
  },
  {
   "cell_type": "markdown",
   "source": [
    "## Expressions to diagrams\n",
    "\n",
    "Converting a morphism expression to a wiring diagram is conceptually and\n",
    "algorithmically simple, because every expression determines a unique diagram.\n",
    "\n",
    "As a simple example, here is the monoidal product of two generators, $f$ and\n",
    "$g$, first as an expression (displayed using LaTeX) and then as a wiring\n",
    "diagram (displayed using Graphviz)."
   ],
   "metadata": {}
  },
  {
   "outputs": [
    {
     "output_type": "execute_result",
     "data": {
      "text/plain": "otimes(f,g)",
      "text/latex": "$f \\otimes g : A \\otimes B \\to B \\otimes C$"
     },
     "metadata": {},
     "execution_count": 2
    }
   ],
   "cell_type": "code",
   "source": [
    "A, B, C, D, E = Ob(FreeCartesianCategory, :A, :B, :C, :D, :E)\n",
    "f = Hom(:f, A, B)\n",
    "g = Hom(:g, B, C)\n",
    "\n",
    "expr = f ⊗ g"
   ],
   "metadata": {},
   "execution_count": 2
  },
  {
   "outputs": [
    {
     "output_type": "execute_result",
     "data": {
      "text/plain": "Catlab.Graphics.Graphviz.Graph(\"G\", true, Catlab.Graphics.Graphviz.Statement[Catlab.Graphics.Graphviz.Subgraph(\"\", Catlab.Graphics.Graphviz.Statement[Catlab.Graphics.Graphviz.Node(\"n1p1\", OrderedCollections.OrderedDict{Symbol,Union{String, Catlab.Graphics.Graphviz.Html}}(:id => \"in1\")), Catlab.Graphics.Graphviz.Node(\"n1p2\", OrderedCollections.OrderedDict{Symbol,Union{String, Catlab.Graphics.Graphviz.Html}}(:id => \"in2\")), Catlab.Graphics.Graphviz.Edge(Catlab.Graphics.Graphviz.NodeID[Catlab.Graphics.Graphviz.NodeID(\"n1p1\", \"\", \"\"), Catlab.Graphics.Graphviz.NodeID(\"n1p2\", \"\", \"\")], OrderedCollections.OrderedDict{Symbol,Union{String, Catlab.Graphics.Graphviz.Html}}())], OrderedCollections.OrderedDict{Symbol,Union{String, Catlab.Graphics.Graphviz.Html}}(:rank => \"source\",:rankdir => \"TB\"), OrderedCollections.OrderedDict{Symbol,Union{String, Catlab.Graphics.Graphviz.Html}}(:style => \"invis\",:shape => \"none\",:label => \"\",:width => \"0\",:height => \"0.333\"), OrderedCollections.OrderedDict{Symbol,Union{String, Catlab.Graphics.Graphviz.Html}}(:style => \"invis\")), Catlab.Graphics.Graphviz.Subgraph(\"\", Catlab.Graphics.Graphviz.Statement[Catlab.Graphics.Graphviz.Node(\"n2p1\", OrderedCollections.OrderedDict{Symbol,Union{String, Catlab.Graphics.Graphviz.Html}}(:id => \"out1\")), Catlab.Graphics.Graphviz.Node(\"n2p2\", OrderedCollections.OrderedDict{Symbol,Union{String, Catlab.Graphics.Graphviz.Html}}(:id => \"out2\")), Catlab.Graphics.Graphviz.Edge(Catlab.Graphics.Graphviz.NodeID[Catlab.Graphics.Graphviz.NodeID(\"n2p1\", \"\", \"\"), Catlab.Graphics.Graphviz.NodeID(\"n2p2\", \"\", \"\")], OrderedCollections.OrderedDict{Symbol,Union{String, Catlab.Graphics.Graphviz.Html}}())], OrderedCollections.OrderedDict{Symbol,Union{String, Catlab.Graphics.Graphviz.Html}}(:rank => \"sink\",:rankdir => \"TB\"), OrderedCollections.OrderedDict{Symbol,Union{String, Catlab.Graphics.Graphviz.Html}}(:style => \"invis\",:shape => \"none\",:label => \"\",:width => \"0\",:height => \"0.333\"), OrderedCollections.OrderedDict{Symbol,Union{String, Catlab.Graphics.Graphviz.Html}}(:style => \"invis\")), Catlab.Graphics.Graphviz.Node(\"n3\", OrderedCollections.OrderedDict{Symbol,Union{String, Catlab.Graphics.Graphviz.Html}}(:comment => \"f\",:id => \"n3\",:label => Catlab.Graphics.Graphviz.Html(\"<TABLE BORDER=\\\"0\\\" CELLPADDING=\\\"0\\\" CELLSPACING=\\\"0\\\">\\n<TR>\\n<TD><TABLE BORDER=\\\"0\\\" CELLPADDING=\\\"0\\\" CELLSPACING=\\\"0\\\"><TR><TD HEIGHT=\\\"24\\\" WIDTH=\\\"0\\\" PORT=\\\"in1\\\"></TD></TR></TABLE></TD>\\n<TD BORDER=\\\"1\\\" CELLPADDING=\\\"4\\\">f</TD>\\n<TD><TABLE BORDER=\\\"0\\\" CELLPADDING=\\\"0\\\" CELLSPACING=\\\"0\\\"><TR><TD HEIGHT=\\\"24\\\" WIDTH=\\\"0\\\" PORT=\\\"out1\\\"></TD></TR></TABLE></TD>\\n</TR>\\n</TABLE>\"))), Catlab.Graphics.Graphviz.Node(\"n4\", OrderedCollections.OrderedDict{Symbol,Union{String, Catlab.Graphics.Graphviz.Html}}(:comment => \"g\",:id => \"n4\",:label => Catlab.Graphics.Graphviz.Html(\"<TABLE BORDER=\\\"0\\\" CELLPADDING=\\\"0\\\" CELLSPACING=\\\"0\\\">\\n<TR>\\n<TD><TABLE BORDER=\\\"0\\\" CELLPADDING=\\\"0\\\" CELLSPACING=\\\"0\\\"><TR><TD HEIGHT=\\\"24\\\" WIDTH=\\\"0\\\" PORT=\\\"in1\\\"></TD></TR></TABLE></TD>\\n<TD BORDER=\\\"1\\\" CELLPADDING=\\\"4\\\">g</TD>\\n<TD><TABLE BORDER=\\\"0\\\" CELLPADDING=\\\"0\\\" CELLSPACING=\\\"0\\\"><TR><TD HEIGHT=\\\"24\\\" WIDTH=\\\"0\\\" PORT=\\\"out1\\\"></TD></TR></TABLE></TD>\\n</TR>\\n</TABLE>\"))), Catlab.Graphics.Graphviz.Edge(Catlab.Graphics.Graphviz.NodeID[Catlab.Graphics.Graphviz.NodeID(\"n1p1\", \"e\", \"\"), Catlab.Graphics.Graphviz.NodeID(\"n3\", \"in1\", \"w\")], OrderedCollections.OrderedDict{Symbol,Union{String, Catlab.Graphics.Graphviz.Html}}(:comment => \"A\",:id => \"e1\")), Catlab.Graphics.Graphviz.Edge(Catlab.Graphics.Graphviz.NodeID[Catlab.Graphics.Graphviz.NodeID(\"n1p2\", \"e\", \"\"), Catlab.Graphics.Graphviz.NodeID(\"n4\", \"in1\", \"w\")], OrderedCollections.OrderedDict{Symbol,Union{String, Catlab.Graphics.Graphviz.Html}}(:comment => \"B\",:id => \"e2\")), Catlab.Graphics.Graphviz.Edge(Catlab.Graphics.Graphviz.NodeID[Catlab.Graphics.Graphviz.NodeID(\"n3\", \"out1\", \"e\"), Catlab.Graphics.Graphviz.NodeID(\"n2p1\", \"w\", \"\")], OrderedCollections.OrderedDict{Symbol,Union{String, Catlab.Graphics.Graphviz.Html}}(:comment => \"B\",:id => \"e3\")), Catlab.Graphics.Graphviz.Edge(Catlab.Graphics.Graphviz.NodeID[Catlab.Graphics.Graphviz.NodeID(\"n4\", \"out1\", \"e\"), Catlab.Graphics.Graphviz.NodeID(\"n2p2\", \"w\", \"\")], OrderedCollections.OrderedDict{Symbol,Union{String, Catlab.Graphics.Graphviz.Html}}(:comment => \"C\",:id => \"e4\"))], OrderedCollections.OrderedDict{Symbol,Union{String, Catlab.Graphics.Graphviz.Html}}(:fontname => \"Serif\",:rankdir => \"LR\"), OrderedCollections.OrderedDict{Symbol,Union{String, Catlab.Graphics.Graphviz.Html}}(:fontname => \"Serif\",:shape => \"none\",:width => \"0\",:height => \"0\",:margin => \"0\"), OrderedCollections.OrderedDict{Symbol,Union{String, Catlab.Graphics.Graphviz.Html}}(:arrowsize => \"0.5\",:fontname => \"Serif\"))",
      "image/svg+xml": [
       "<?xml version=\"1.0\" encoding=\"UTF-8\" standalone=\"no\"?>\n",
       "<!DOCTYPE svg PUBLIC \"-//W3C//DTD SVG 1.1//EN\"\n",
       " \"http://www.w3.org/Graphics/SVG/1.1/DTD/svg11.dtd\">\n",
       "<!-- Generated by graphviz version 2.40.1 (20161225.0304)\n",
       " -->\n",
       "<!-- Title: G Pages: 1 -->\n",
       "<svg width=\"102pt\" height=\"76pt\"\n",
       " viewBox=\"0.00 0.00 102.00 76.00\" xmlns=\"http://www.w3.org/2000/svg\" xmlns:xlink=\"http://www.w3.org/1999/xlink\">\n",
       "<g id=\"graph0\" class=\"graph\" transform=\"scale(1 1) rotate(0) translate(4 72)\">\n",
       "<title>G</title>\n",
       "<polygon fill=\"#ffffff\" stroke=\"transparent\" points=\"-4,4 -4,-72 98,-72 98,4 -4,4\"/>\n",
       "<!-- n1p1 -->\n",
       "<!-- n1p2 -->\n",
       "<!-- n1p1&#45;&gt;n1p2 -->\n",
       "<!-- n3 -->\n",
       "<!-- f -->\n",
       "<g id=\"n3\" class=\"node\">\n",
       "<title>n3</title>\n",
       "<polygon fill=\"none\" stroke=\"#000000\" points=\"39,-42.5 39,-67.5 55,-67.5 55,-42.5 39,-42.5\"/>\n",
       "<text text-anchor=\"start\" x=\"44\" y=\"-51.3\" font-family=\"Serif\" font-size=\"14.00\" fill=\"#000000\">f</text>\n",
       "</g>\n",
       "<!-- n1p1&#45;&gt;n3 -->\n",
       "<!-- A -->\n",
       "<g id=\"e1\" class=\"edge\">\n",
       "<title>n1p1:e&#45;&gt;n3:w</title>\n",
       "<path fill=\"none\" stroke=\"#000000\" d=\"M1,-54.5C16.0417,-54.5 21.036,-54.5 33.8798,-54.5\"/>\n",
       "<polygon fill=\"#000000\" stroke=\"#000000\" points=\"34,-56.2501 39,-54.5 34,-52.7501 34,-56.2501\"/>\n",
       "</g>\n",
       "<!-- n4 -->\n",
       "<!-- g -->\n",
       "<g id=\"n4\" class=\"node\">\n",
       "<title>n4</title>\n",
       "<polygon fill=\"none\" stroke=\"#000000\" points=\"37,.5 37,-24.5 57,-24.5 57,.5 37,.5\"/>\n",
       "<text text-anchor=\"start\" x=\"42\" y=\"-8.3\" font-family=\"Serif\" font-size=\"14.00\" fill=\"#000000\">g</text>\n",
       "</g>\n",
       "<!-- n1p2&#45;&gt;n4 -->\n",
       "<!-- B -->\n",
       "<g id=\"e2\" class=\"edge\">\n",
       "<title>n1p2:e&#45;&gt;n4:w</title>\n",
       "<path fill=\"none\" stroke=\"#000000\" d=\"M1,-12.5C15.1304,-12.5 19.8942,-11.7206 31.8293,-11.538\"/>\n",
       "<polygon fill=\"#000000\" stroke=\"#000000\" points=\"32.013,-13.2868 37,-11.5 31.9872,-9.7869 32.013,-13.2868\"/>\n",
       "</g>\n",
       "<!-- n2p1 -->\n",
       "<!-- n2p2 -->\n",
       "<!-- n2p1&#45;&gt;n2p2 -->\n",
       "<!-- n3&#45;&gt;n2p1 -->\n",
       "<!-- B -->\n",
       "<g id=\"e3\" class=\"edge\">\n",
       "<title>n3:e&#45;&gt;n2p1:w</title>\n",
       "<path fill=\"none\" stroke=\"#000000\" d=\"M55,-54.5C70.0417,-54.5 75.036,-54.5 87.8798,-54.5\"/>\n",
       "<polygon fill=\"#000000\" stroke=\"#000000\" points=\"88,-56.2501 93,-54.5 88,-52.7501 88,-56.2501\"/>\n",
       "</g>\n",
       "<!-- n4&#45;&gt;n2p2 -->\n",
       "<!-- C -->\n",
       "<g id=\"e4\" class=\"edge\">\n",
       "<title>n4:e&#45;&gt;n2p2:w</title>\n",
       "<path fill=\"none\" stroke=\"#000000\" d=\"M57,-11.5C71.1304,-11.5 75.8942,-12.2794 87.8293,-12.462\"/>\n",
       "<polygon fill=\"#000000\" stroke=\"#000000\" points=\"87.9872,-14.2131 93,-12.5 88.013,-10.7132 87.9872,-14.2131\"/>\n",
       "</g>\n",
       "</g>\n",
       "</svg>\n"
      ]
     },
     "metadata": {},
     "execution_count": 3
    }
   ],
   "cell_type": "code",
   "source": [
    "show_diagram(to_wiring_diagram(expr))"
   ],
   "metadata": {},
   "execution_count": 3
  },
  {
   "cell_type": "markdown",
   "source": [
    "Here is a monoidal product of compositions:"
   ],
   "metadata": {}
  },
  {
   "outputs": [
    {
     "output_type": "execute_result",
     "data": {
      "text/plain": "otimes(compose(f,g),compose(h,k))",
      "text/latex": "$\\left(f \\cdot g\\right) \\otimes \\left(h \\cdot k\\right) : A \\otimes C \\to C \\otimes E$"
     },
     "metadata": {},
     "execution_count": 4
    }
   ],
   "cell_type": "code",
   "source": [
    "h = Hom(:h, C, D)\n",
    "k = Hom(:k, D, E)\n",
    "\n",
    "expr = (f ⋅ g) ⊗ (h ⋅ k)"
   ],
   "metadata": {},
   "execution_count": 4
  },
  {
   "outputs": [
    {
     "output_type": "execute_result",
     "data": {
      "text/plain": "Catlab.Graphics.Graphviz.Graph(\"G\", true, Catlab.Graphics.Graphviz.Statement[Catlab.Graphics.Graphviz.Subgraph(\"\", Catlab.Graphics.Graphviz.Statement[Catlab.Graphics.Graphviz.Node(\"n1p1\", OrderedCollections.OrderedDict{Symbol,Union{String, Catlab.Graphics.Graphviz.Html}}(:id => \"in1\")), Catlab.Graphics.Graphviz.Node(\"n1p2\", OrderedCollections.OrderedDict{Symbol,Union{String, Catlab.Graphics.Graphviz.Html}}(:id => \"in2\")), Catlab.Graphics.Graphviz.Edge(Catlab.Graphics.Graphviz.NodeID[Catlab.Graphics.Graphviz.NodeID(\"n1p1\", \"\", \"\"), Catlab.Graphics.Graphviz.NodeID(\"n1p2\", \"\", \"\")], OrderedCollections.OrderedDict{Symbol,Union{String, Catlab.Graphics.Graphviz.Html}}())], OrderedCollections.OrderedDict{Symbol,Union{String, Catlab.Graphics.Graphviz.Html}}(:rank => \"source\",:rankdir => \"TB\"), OrderedCollections.OrderedDict{Symbol,Union{String, Catlab.Graphics.Graphviz.Html}}(:style => \"invis\",:shape => \"none\",:label => \"\",:width => \"0\",:height => \"0.333\"), OrderedCollections.OrderedDict{Symbol,Union{String, Catlab.Graphics.Graphviz.Html}}(:style => \"invis\")), Catlab.Graphics.Graphviz.Subgraph(\"\", Catlab.Graphics.Graphviz.Statement[Catlab.Graphics.Graphviz.Node(\"n2p1\", OrderedCollections.OrderedDict{Symbol,Union{String, Catlab.Graphics.Graphviz.Html}}(:id => \"out1\")), Catlab.Graphics.Graphviz.Node(\"n2p2\", OrderedCollections.OrderedDict{Symbol,Union{String, Catlab.Graphics.Graphviz.Html}}(:id => \"out2\")), Catlab.Graphics.Graphviz.Edge(Catlab.Graphics.Graphviz.NodeID[Catlab.Graphics.Graphviz.NodeID(\"n2p1\", \"\", \"\"), Catlab.Graphics.Graphviz.NodeID(\"n2p2\", \"\", \"\")], OrderedCollections.OrderedDict{Symbol,Union{String, Catlab.Graphics.Graphviz.Html}}())], OrderedCollections.OrderedDict{Symbol,Union{String, Catlab.Graphics.Graphviz.Html}}(:rank => \"sink\",:rankdir => \"TB\"), OrderedCollections.OrderedDict{Symbol,Union{String, Catlab.Graphics.Graphviz.Html}}(:style => \"invis\",:shape => \"none\",:label => \"\",:width => \"0\",:height => \"0.333\"), OrderedCollections.OrderedDict{Symbol,Union{String, Catlab.Graphics.Graphviz.Html}}(:style => \"invis\")), Catlab.Graphics.Graphviz.Node(\"n3\", OrderedCollections.OrderedDict{Symbol,Union{String, Catlab.Graphics.Graphviz.Html}}(:comment => \"f\",:id => \"n3\",:label => Catlab.Graphics.Graphviz.Html(\"<TABLE BORDER=\\\"0\\\" CELLPADDING=\\\"0\\\" CELLSPACING=\\\"0\\\">\\n<TR>\\n<TD><TABLE BORDER=\\\"0\\\" CELLPADDING=\\\"0\\\" CELLSPACING=\\\"0\\\"><TR><TD HEIGHT=\\\"24\\\" WIDTH=\\\"0\\\" PORT=\\\"in1\\\"></TD></TR></TABLE></TD>\\n<TD BORDER=\\\"1\\\" CELLPADDING=\\\"4\\\">f</TD>\\n<TD><TABLE BORDER=\\\"0\\\" CELLPADDING=\\\"0\\\" CELLSPACING=\\\"0\\\"><TR><TD HEIGHT=\\\"24\\\" WIDTH=\\\"0\\\" PORT=\\\"out1\\\"></TD></TR></TABLE></TD>\\n</TR>\\n</TABLE>\"))), Catlab.Graphics.Graphviz.Node(\"n4\", OrderedCollections.OrderedDict{Symbol,Union{String, Catlab.Graphics.Graphviz.Html}}(:comment => \"g\",:id => \"n4\",:label => Catlab.Graphics.Graphviz.Html(\"<TABLE BORDER=\\\"0\\\" CELLPADDING=\\\"0\\\" CELLSPACING=\\\"0\\\">\\n<TR>\\n<TD><TABLE BORDER=\\\"0\\\" CELLPADDING=\\\"0\\\" CELLSPACING=\\\"0\\\"><TR><TD HEIGHT=\\\"24\\\" WIDTH=\\\"0\\\" PORT=\\\"in1\\\"></TD></TR></TABLE></TD>\\n<TD BORDER=\\\"1\\\" CELLPADDING=\\\"4\\\">g</TD>\\n<TD><TABLE BORDER=\\\"0\\\" CELLPADDING=\\\"0\\\" CELLSPACING=\\\"0\\\"><TR><TD HEIGHT=\\\"24\\\" WIDTH=\\\"0\\\" PORT=\\\"out1\\\"></TD></TR></TABLE></TD>\\n</TR>\\n</TABLE>\"))), Catlab.Graphics.Graphviz.Node(\"n5\", OrderedCollections.OrderedDict{Symbol,Union{String, Catlab.Graphics.Graphviz.Html}}(:comment => \"h\",:id => \"n5\",:label => Catlab.Graphics.Graphviz.Html(\"<TABLE BORDER=\\\"0\\\" CELLPADDING=\\\"0\\\" CELLSPACING=\\\"0\\\">\\n<TR>\\n<TD><TABLE BORDER=\\\"0\\\" CELLPADDING=\\\"0\\\" CELLSPACING=\\\"0\\\"><TR><TD HEIGHT=\\\"24\\\" WIDTH=\\\"0\\\" PORT=\\\"in1\\\"></TD></TR></TABLE></TD>\\n<TD BORDER=\\\"1\\\" CELLPADDING=\\\"4\\\">h</TD>\\n<TD><TABLE BORDER=\\\"0\\\" CELLPADDING=\\\"0\\\" CELLSPACING=\\\"0\\\"><TR><TD HEIGHT=\\\"24\\\" WIDTH=\\\"0\\\" PORT=\\\"out1\\\"></TD></TR></TABLE></TD>\\n</TR>\\n</TABLE>\"))), Catlab.Graphics.Graphviz.Node(\"n6\", OrderedCollections.OrderedDict{Symbol,Union{String, Catlab.Graphics.Graphviz.Html}}(:comment => \"k\",:id => \"n6\",:label => Catlab.Graphics.Graphviz.Html(\"<TABLE BORDER=\\\"0\\\" CELLPADDING=\\\"0\\\" CELLSPACING=\\\"0\\\">\\n<TR>\\n<TD><TABLE BORDER=\\\"0\\\" CELLPADDING=\\\"0\\\" CELLSPACING=\\\"0\\\"><TR><TD HEIGHT=\\\"24\\\" WIDTH=\\\"0\\\" PORT=\\\"in1\\\"></TD></TR></TABLE></TD>\\n<TD BORDER=\\\"1\\\" CELLPADDING=\\\"4\\\">k</TD>\\n<TD><TABLE BORDER=\\\"0\\\" CELLPADDING=\\\"0\\\" CELLSPACING=\\\"0\\\"><TR><TD HEIGHT=\\\"24\\\" WIDTH=\\\"0\\\" PORT=\\\"out1\\\"></TD></TR></TABLE></TD>\\n</TR>\\n</TABLE>\"))), Catlab.Graphics.Graphviz.Edge(Catlab.Graphics.Graphviz.NodeID[Catlab.Graphics.Graphviz.NodeID(\"n1p1\", \"e\", \"\"), Catlab.Graphics.Graphviz.NodeID(\"n3\", \"in1\", \"w\")], OrderedCollections.OrderedDict{Symbol,Union{String, Catlab.Graphics.Graphviz.Html}}(:comment => \"A\",:id => \"e1\")), Catlab.Graphics.Graphviz.Edge(Catlab.Graphics.Graphviz.NodeID[Catlab.Graphics.Graphviz.NodeID(\"n1p2\", \"e\", \"\"), Catlab.Graphics.Graphviz.NodeID(\"n5\", \"in1\", \"w\")], OrderedCollections.OrderedDict{Symbol,Union{String, Catlab.Graphics.Graphviz.Html}}(:comment => \"C\",:id => \"e2\")), Catlab.Graphics.Graphviz.Edge(Catlab.Graphics.Graphviz.NodeID[Catlab.Graphics.Graphviz.NodeID(\"n3\", \"out1\", \"e\"), Catlab.Graphics.Graphviz.NodeID(\"n4\", \"in1\", \"w\")], OrderedCollections.OrderedDict{Symbol,Union{String, Catlab.Graphics.Graphviz.Html}}(:comment => \"B\",:id => \"e3\")), Catlab.Graphics.Graphviz.Edge(Catlab.Graphics.Graphviz.NodeID[Catlab.Graphics.Graphviz.NodeID(\"n4\", \"out1\", \"e\"), Catlab.Graphics.Graphviz.NodeID(\"n2p1\", \"w\", \"\")], OrderedCollections.OrderedDict{Symbol,Union{String, Catlab.Graphics.Graphviz.Html}}(:comment => \"C\",:id => \"e4\")), Catlab.Graphics.Graphviz.Edge(Catlab.Graphics.Graphviz.NodeID[Catlab.Graphics.Graphviz.NodeID(\"n5\", \"out1\", \"e\"), Catlab.Graphics.Graphviz.NodeID(\"n6\", \"in1\", \"w\")], OrderedCollections.OrderedDict{Symbol,Union{String, Catlab.Graphics.Graphviz.Html}}(:comment => \"D\",:id => \"e5\")), Catlab.Graphics.Graphviz.Edge(Catlab.Graphics.Graphviz.NodeID[Catlab.Graphics.Graphviz.NodeID(\"n6\", \"out1\", \"e\"), Catlab.Graphics.Graphviz.NodeID(\"n2p2\", \"w\", \"\")], OrderedCollections.OrderedDict{Symbol,Union{String, Catlab.Graphics.Graphviz.Html}}(:comment => \"E\",:id => \"e6\"))], OrderedCollections.OrderedDict{Symbol,Union{String, Catlab.Graphics.Graphviz.Html}}(:fontname => \"Serif\",:rankdir => \"LR\"), OrderedCollections.OrderedDict{Symbol,Union{String, Catlab.Graphics.Graphviz.Html}}(:fontname => \"Serif\",:shape => \"none\",:width => \"0\",:height => \"0\",:margin => \"0\"), OrderedCollections.OrderedDict{Symbol,Union{String, Catlab.Graphics.Graphviz.Html}}(:arrowsize => \"0.5\",:fontname => \"Serif\"))",
      "image/svg+xml": [
       "<?xml version=\"1.0\" encoding=\"UTF-8\" standalone=\"no\"?>\n",
       "<!DOCTYPE svg PUBLIC \"-//W3C//DTD SVG 1.1//EN\"\n",
       " \"http://www.w3.org/Graphics/SVG/1.1/DTD/svg11.dtd\">\n",
       "<!-- Generated by graphviz version 2.40.1 (20161225.0304)\n",
       " -->\n",
       "<!-- Title: G Pages: 1 -->\n",
       "<svg width=\"158pt\" height=\"76pt\"\n",
       " viewBox=\"0.00 0.00 158.00 76.00\" xmlns=\"http://www.w3.org/2000/svg\" xmlns:xlink=\"http://www.w3.org/1999/xlink\">\n",
       "<g id=\"graph0\" class=\"graph\" transform=\"scale(1 1) rotate(0) translate(4 72)\">\n",
       "<title>G</title>\n",
       "<polygon fill=\"#ffffff\" stroke=\"transparent\" points=\"-4,4 -4,-72 154,-72 154,4 -4,4\"/>\n",
       "<!-- n1p1 -->\n",
       "<!-- n1p2 -->\n",
       "<!-- n1p1&#45;&gt;n1p2 -->\n",
       "<!-- n3 -->\n",
       "<!-- f -->\n",
       "<g id=\"n3\" class=\"node\">\n",
       "<title>n3</title>\n",
       "<polygon fill=\"none\" stroke=\"#000000\" points=\"39,-42.5 39,-67.5 55,-67.5 55,-42.5 39,-42.5\"/>\n",
       "<text text-anchor=\"start\" x=\"44\" y=\"-51.3\" font-family=\"Serif\" font-size=\"14.00\" fill=\"#000000\">f</text>\n",
       "</g>\n",
       "<!-- n1p1&#45;&gt;n3 -->\n",
       "<!-- A -->\n",
       "<g id=\"e1\" class=\"edge\">\n",
       "<title>n1p1:e&#45;&gt;n3:w</title>\n",
       "<path fill=\"none\" stroke=\"#000000\" d=\"M1,-54.5C16.0417,-54.5 21.036,-54.5 33.8798,-54.5\"/>\n",
       "<polygon fill=\"#000000\" stroke=\"#000000\" points=\"34,-56.2501 39,-54.5 34,-52.7501 34,-56.2501\"/>\n",
       "</g>\n",
       "<!-- n5 -->\n",
       "<!-- h -->\n",
       "<g id=\"n5\" class=\"node\">\n",
       "<title>n5</title>\n",
       "<polygon fill=\"none\" stroke=\"#000000\" points=\"37,.5 37,-24.5 57,-24.5 57,.5 37,.5\"/>\n",
       "<text text-anchor=\"start\" x=\"42\" y=\"-8.3\" font-family=\"Serif\" font-size=\"14.00\" fill=\"#000000\">h</text>\n",
       "</g>\n",
       "<!-- n1p2&#45;&gt;n5 -->\n",
       "<!-- C -->\n",
       "<g id=\"e2\" class=\"edge\">\n",
       "<title>n1p2:e&#45;&gt;n5:w</title>\n",
       "<path fill=\"none\" stroke=\"#000000\" d=\"M1,-12.5C15.1304,-12.5 19.8942,-11.7206 31.8293,-11.538\"/>\n",
       "<polygon fill=\"#000000\" stroke=\"#000000\" points=\"32.013,-13.2868 37,-11.5 31.9872,-9.7869 32.013,-13.2868\"/>\n",
       "</g>\n",
       "<!-- n2p1 -->\n",
       "<!-- n2p2 -->\n",
       "<!-- n2p1&#45;&gt;n2p2 -->\n",
       "<!-- n4 -->\n",
       "<!-- g -->\n",
       "<g id=\"n4\" class=\"node\">\n",
       "<title>n4</title>\n",
       "<polygon fill=\"none\" stroke=\"#000000\" points=\"93,-42.5 93,-67.5 113,-67.5 113,-42.5 93,-42.5\"/>\n",
       "<text text-anchor=\"start\" x=\"98\" y=\"-51.3\" font-family=\"Serif\" font-size=\"14.00\" fill=\"#000000\">g</text>\n",
       "</g>\n",
       "<!-- n3&#45;&gt;n4 -->\n",
       "<!-- B -->\n",
       "<g id=\"e3\" class=\"edge\">\n",
       "<title>n3:e&#45;&gt;n4:w</title>\n",
       "<path fill=\"none\" stroke=\"#000000\" d=\"M55,-54.5C70.0417,-54.5 75.036,-54.5 87.8798,-54.5\"/>\n",
       "<polygon fill=\"#000000\" stroke=\"#000000\" points=\"88,-56.2501 93,-54.5 88,-52.7501 88,-56.2501\"/>\n",
       "</g>\n",
       "<!-- n4&#45;&gt;n2p1 -->\n",
       "<!-- C -->\n",
       "<g id=\"e4\" class=\"edge\">\n",
       "<title>n4:e&#45;&gt;n2p1:w</title>\n",
       "<path fill=\"none\" stroke=\"#000000\" d=\"M113,-54.5C127.125,-54.5 131.8977,-54.5 143.8308,-54.5\"/>\n",
       "<polygon fill=\"#000000\" stroke=\"#000000\" points=\"144,-56.2501 149,-54.5 144,-52.7501 144,-56.2501\"/>\n",
       "</g>\n",
       "<!-- n6 -->\n",
       "<!-- k -->\n",
       "<g id=\"n6\" class=\"node\">\n",
       "<title>n6</title>\n",
       "<polygon fill=\"none\" stroke=\"#000000\" points=\"93,.5 93,-24.5 113,-24.5 113,.5 93,.5\"/>\n",
       "<text text-anchor=\"start\" x=\"98\" y=\"-8.3\" font-family=\"Serif\" font-size=\"14.00\" fill=\"#000000\">k</text>\n",
       "</g>\n",
       "<!-- n5&#45;&gt;n6 -->\n",
       "<!-- D -->\n",
       "<g id=\"e5\" class=\"edge\">\n",
       "<title>n5:e&#45;&gt;n6:w</title>\n",
       "<path fill=\"none\" stroke=\"#000000\" d=\"M57,-11.5C71.125,-11.5 75.8977,-11.5 87.8308,-11.5\"/>\n",
       "<polygon fill=\"#000000\" stroke=\"#000000\" points=\"88,-13.2501 93,-11.5 88,-9.7501 88,-13.2501\"/>\n",
       "</g>\n",
       "<!-- n6&#45;&gt;n2p2 -->\n",
       "<!-- E -->\n",
       "<g id=\"e6\" class=\"edge\">\n",
       "<title>n6:e&#45;&gt;n2p2:w</title>\n",
       "<path fill=\"none\" stroke=\"#000000\" d=\"M113,-11.5C127.1304,-11.5 131.8942,-12.2794 143.8293,-12.462\"/>\n",
       "<polygon fill=\"#000000\" stroke=\"#000000\" points=\"143.9872,-14.2131 149,-12.5 144.013,-10.7132 143.9872,-14.2131\"/>\n",
       "</g>\n",
       "</g>\n",
       "</svg>\n"
      ]
     },
     "metadata": {},
     "execution_count": 5
    }
   ],
   "cell_type": "code",
   "source": [
    "show_diagram(to_wiring_diagram(expr))"
   ],
   "metadata": {},
   "execution_count": 5
  },
  {
   "cell_type": "markdown",
   "source": [
    "## Diagrams to expressions\n",
    "\n",
    "Converting a wiring diagram to a syntactic expression is algorithmically more\n",
    "challenging, due to the fact that a single wiring diagram generally admits\n",
    "many different representations as an expression. Thus, a particular expression\n",
    "must be singled out.\n",
    "\n",
    "To bring this out, we define a function that round-trips a morphism expression\n",
    "to a wiring diagram and then back to an expression."
   ],
   "metadata": {}
  },
  {
   "outputs": [
    {
     "output_type": "execute_result",
     "data": {
      "text/plain": "roundtrip_expr (generic function with 1 method)"
     },
     "metadata": {},
     "execution_count": 6
    }
   ],
   "cell_type": "code",
   "source": [
    "function roundtrip_expr(expr::FreeCartesianCategory.Hom)\n",
    "  d = to_wiring_diagram(expr)\n",
    "  to_hom_expr(FreeCartesianCategory, d)\n",
    "end"
   ],
   "metadata": {},
   "execution_count": 6
  },
  {
   "cell_type": "markdown",
   "source": [
    "We can recover the expression just considered above:"
   ],
   "metadata": {}
  },
  {
   "outputs": [
    {
     "output_type": "execute_result",
     "data": {
      "text/plain": "otimes(compose(f,g),compose(h,k))",
      "text/latex": "$\\left(f \\cdot g\\right) \\otimes \\left(h \\cdot k\\right) : A \\otimes C \\to C \\otimes E$"
     },
     "metadata": {},
     "execution_count": 7
    }
   ],
   "cell_type": "code",
   "source": [
    "roundtrip_expr((f ⋅ g) ⊗ (h ⋅ k))"
   ],
   "metadata": {},
   "execution_count": 7
  },
  {
   "cell_type": "markdown",
   "source": [
    "But here is a different expression that round-trips to the same thing:"
   ],
   "metadata": {}
  },
  {
   "outputs": [
    {
     "output_type": "execute_result",
     "data": {
      "text/plain": "otimes(compose(f,g),compose(h,k))",
      "text/latex": "$\\left(f \\cdot g\\right) \\otimes \\left(h \\cdot k\\right) : A \\otimes C \\to C \\otimes E$"
     },
     "metadata": {},
     "execution_count": 8
    }
   ],
   "cell_type": "code",
   "source": [
    "roundtrip_expr((f ⊗ h) ⋅ (g ⊗ k))"
   ],
   "metadata": {},
   "execution_count": 8
  },
  {
   "cell_type": "markdown",
   "source": [
    "The equality of these two expressions,\n",
    "\n",
    "$$\n",
    "(f \\cdot g) \\otimes (h \\cdot k) = (f \\otimes h) \\cdot (g \\otimes k),\n",
    "$$\n",
    "\n",
    "is the *interchange law* in a monoidal category. It says that composition and\n",
    "monoidal products can be interchanged. As this example shows, the conversion\n",
    "algorithm in Catlab favors products over composition, placing products towards\n",
    "the root of the expression tree wherever possible.\n",
    "Other laws can be discovered by this procedure. Since we are working in a\n",
    "[cartesian monoidal\n",
    "category](https://ncatlab.org/nlab/show/cartesian+monoidal+category),\n",
    "operations of copying, $\\Delta_A: A \\to A \\otimes A$, and deleting,\n",
    "$\\lozenge_A: A \\to I$, are available.\n",
    "\n",
    "Consider the operation of copying the product $A \\otimes B$."
   ],
   "metadata": {}
  },
  {
   "outputs": [
    {
     "output_type": "execute_result",
     "data": {
      "text/plain": "mcopy(otimes(A,B))",
      "text/latex": "$\\Delta_{A \\otimes B} : A \\otimes B \\to A \\otimes B \\otimes A \\otimes B$"
     },
     "metadata": {},
     "execution_count": 9
    }
   ],
   "cell_type": "code",
   "source": [
    "expr = mcopy(A ⊗ B)"
   ],
   "metadata": {},
   "execution_count": 9
  },
  {
   "outputs": [
    {
     "output_type": "execute_result",
     "data": {
      "text/plain": "Catlab.Graphics.Graphviz.Graph(\"G\", true, Catlab.Graphics.Graphviz.Statement[Catlab.Graphics.Graphviz.Subgraph(\"\", Catlab.Graphics.Graphviz.Statement[Catlab.Graphics.Graphviz.Node(\"n1p1\", OrderedCollections.OrderedDict{Symbol,Union{String, Catlab.Graphics.Graphviz.Html}}(:id => \"in1\")), Catlab.Graphics.Graphviz.Node(\"n1p2\", OrderedCollections.OrderedDict{Symbol,Union{String, Catlab.Graphics.Graphviz.Html}}(:id => \"in2\")), Catlab.Graphics.Graphviz.Edge(Catlab.Graphics.Graphviz.NodeID[Catlab.Graphics.Graphviz.NodeID(\"n1p1\", \"\", \"\"), Catlab.Graphics.Graphviz.NodeID(\"n1p2\", \"\", \"\")], OrderedCollections.OrderedDict{Symbol,Union{String, Catlab.Graphics.Graphviz.Html}}())], OrderedCollections.OrderedDict{Symbol,Union{String, Catlab.Graphics.Graphviz.Html}}(:rank => \"source\",:rankdir => \"TB\"), OrderedCollections.OrderedDict{Symbol,Union{String, Catlab.Graphics.Graphviz.Html}}(:style => \"invis\",:shape => \"none\",:label => \"\",:width => \"0\",:height => \"0.333\"), OrderedCollections.OrderedDict{Symbol,Union{String, Catlab.Graphics.Graphviz.Html}}(:style => \"invis\")), Catlab.Graphics.Graphviz.Subgraph(\"\", Catlab.Graphics.Graphviz.Statement[Catlab.Graphics.Graphviz.Node(\"n2p1\", OrderedCollections.OrderedDict{Symbol,Union{String, Catlab.Graphics.Graphviz.Html}}(:id => \"out1\")), Catlab.Graphics.Graphviz.Node(\"n2p2\", OrderedCollections.OrderedDict{Symbol,Union{String, Catlab.Graphics.Graphviz.Html}}(:id => \"out2\")), Catlab.Graphics.Graphviz.Node(\"n2p3\", OrderedCollections.OrderedDict{Symbol,Union{String, Catlab.Graphics.Graphviz.Html}}(:id => \"out3\")), Catlab.Graphics.Graphviz.Node(\"n2p4\", OrderedCollections.OrderedDict{Symbol,Union{String, Catlab.Graphics.Graphviz.Html}}(:id => \"out4\")), Catlab.Graphics.Graphviz.Edge(Catlab.Graphics.Graphviz.NodeID[Catlab.Graphics.Graphviz.NodeID(\"n2p1\", \"\", \"\"), Catlab.Graphics.Graphviz.NodeID(\"n2p2\", \"\", \"\"), Catlab.Graphics.Graphviz.NodeID(\"n2p3\", \"\", \"\"), Catlab.Graphics.Graphviz.NodeID(\"n2p4\", \"\", \"\")], OrderedCollections.OrderedDict{Symbol,Union{String, Catlab.Graphics.Graphviz.Html}}())], OrderedCollections.OrderedDict{Symbol,Union{String, Catlab.Graphics.Graphviz.Html}}(:rank => \"sink\",:rankdir => \"TB\"), OrderedCollections.OrderedDict{Symbol,Union{String, Catlab.Graphics.Graphviz.Html}}(:style => \"invis\",:shape => \"none\",:label => \"\",:width => \"0\",:height => \"0.333\"), OrderedCollections.OrderedDict{Symbol,Union{String, Catlab.Graphics.Graphviz.Html}}(:style => \"invis\")), Catlab.Graphics.Graphviz.Node(\"n3\", OrderedCollections.OrderedDict{Symbol,Union{String, Catlab.Graphics.Graphviz.Html}}(:comment => \"junction\",:fillcolor => \"black\",:height => \"0.05\",:id => \"n3\",:label => \"\",:shape => \"circle\",:style => \"filled\",:width => \"0.05\")), Catlab.Graphics.Graphviz.Node(\"n4\", OrderedCollections.OrderedDict{Symbol,Union{String, Catlab.Graphics.Graphviz.Html}}(:comment => \"junction\",:fillcolor => \"black\",:height => \"0.05\",:id => \"n4\",:label => \"\",:shape => \"circle\",:style => \"filled\",:width => \"0.05\")), Catlab.Graphics.Graphviz.Edge(Catlab.Graphics.Graphviz.NodeID[Catlab.Graphics.Graphviz.NodeID(\"n1p1\", \"e\", \"\"), Catlab.Graphics.Graphviz.NodeID(\"n3\", \"\", \"\")], OrderedCollections.OrderedDict{Symbol,Union{String, Catlab.Graphics.Graphviz.Html}}(:comment => \"A\",:id => \"e1\")), Catlab.Graphics.Graphviz.Edge(Catlab.Graphics.Graphviz.NodeID[Catlab.Graphics.Graphviz.NodeID(\"n1p2\", \"e\", \"\"), Catlab.Graphics.Graphviz.NodeID(\"n4\", \"\", \"\")], OrderedCollections.OrderedDict{Symbol,Union{String, Catlab.Graphics.Graphviz.Html}}(:comment => \"B\",:id => \"e2\")), Catlab.Graphics.Graphviz.Edge(Catlab.Graphics.Graphviz.NodeID[Catlab.Graphics.Graphviz.NodeID(\"n3\", \"\", \"\"), Catlab.Graphics.Graphviz.NodeID(\"n2p1\", \"w\", \"\")], OrderedCollections.OrderedDict{Symbol,Union{String, Catlab.Graphics.Graphviz.Html}}(:comment => \"A\",:id => \"e3\")), Catlab.Graphics.Graphviz.Edge(Catlab.Graphics.Graphviz.NodeID[Catlab.Graphics.Graphviz.NodeID(\"n3\", \"\", \"\"), Catlab.Graphics.Graphviz.NodeID(\"n2p3\", \"w\", \"\")], OrderedCollections.OrderedDict{Symbol,Union{String, Catlab.Graphics.Graphviz.Html}}(:comment => \"A\",:id => \"e4\")), Catlab.Graphics.Graphviz.Edge(Catlab.Graphics.Graphviz.NodeID[Catlab.Graphics.Graphviz.NodeID(\"n4\", \"\", \"\"), Catlab.Graphics.Graphviz.NodeID(\"n2p2\", \"w\", \"\")], OrderedCollections.OrderedDict{Symbol,Union{String, Catlab.Graphics.Graphviz.Html}}(:comment => \"B\",:id => \"e5\")), Catlab.Graphics.Graphviz.Edge(Catlab.Graphics.Graphviz.NodeID[Catlab.Graphics.Graphviz.NodeID(\"n4\", \"\", \"\"), Catlab.Graphics.Graphviz.NodeID(\"n2p4\", \"w\", \"\")], OrderedCollections.OrderedDict{Symbol,Union{String, Catlab.Graphics.Graphviz.Html}}(:comment => \"B\",:id => \"e6\"))], OrderedCollections.OrderedDict{Symbol,Union{String, Catlab.Graphics.Graphviz.Html}}(:fontname => \"Serif\",:rankdir => \"LR\"), OrderedCollections.OrderedDict{Symbol,Union{String, Catlab.Graphics.Graphviz.Html}}(:fontname => \"Serif\",:shape => \"none\",:width => \"0\",:height => \"0\",:margin => \"0\"), OrderedCollections.OrderedDict{Symbol,Union{String, Catlab.Graphics.Graphviz.Html}}(:arrowsize => \"0.5\",:fontname => \"Serif\"))",
      "image/svg+xml": [
       "<?xml version=\"1.0\" encoding=\"UTF-8\" standalone=\"no\"?>\n",
       "<!DOCTYPE svg PUBLIC \"-//W3C//DTD SVG 1.1//EN\"\n",
       " \"http://www.w3.org/Graphics/SVG/1.1/DTD/svg11.dtd\">\n",
       "<!-- Generated by graphviz version 2.40.1 (20161225.0304)\n",
       " -->\n",
       "<!-- Title: G Pages: 1 -->\n",
       "<svg width=\"86pt\" height=\"158pt\"\n",
       " viewBox=\"0.00 0.00 86.00 158.00\" xmlns=\"http://www.w3.org/2000/svg\" xmlns:xlink=\"http://www.w3.org/1999/xlink\">\n",
       "<g id=\"graph0\" class=\"graph\" transform=\"scale(1 1) rotate(0) translate(4 154)\">\n",
       "<title>G</title>\n",
       "<polygon fill=\"#ffffff\" stroke=\"transparent\" points=\"-4,4 -4,-154 82,-154 82,4 -4,4\"/>\n",
       "<!-- n1p1 -->\n",
       "<!-- n1p2 -->\n",
       "<!-- n1p1&#45;&gt;n1p2 -->\n",
       "<!-- n3 -->\n",
       "<!-- junction -->\n",
       "<g id=\"n3\" class=\"node\">\n",
       "<title>n3</title>\n",
       "<ellipse fill=\"#000000\" stroke=\"#000000\" cx=\"39\" cy=\"-96\" rx=\"2\" ry=\"2\"/>\n",
       "</g>\n",
       "<!-- n1p1&#45;&gt;n3 -->\n",
       "<!-- A -->\n",
       "<g id=\"e1\" class=\"edge\">\n",
       "<title>n1p1:e&#45;&gt;n3</title>\n",
       "<path fill=\"none\" stroke=\"#000000\" d=\"M1,-96C11.7205,-96 24.1422,-96 31.7858,-96\"/>\n",
       "<polygon fill=\"#000000\" stroke=\"#000000\" points=\"31.9405,-97.7501 36.9404,-96 31.9404,-94.2501 31.9405,-97.7501\"/>\n",
       "</g>\n",
       "<!-- n4 -->\n",
       "<!-- junction -->\n",
       "<g id=\"n4\" class=\"node\">\n",
       "<title>n4</title>\n",
       "<ellipse fill=\"#000000\" stroke=\"#000000\" cx=\"39\" cy=\"-54\" rx=\"2\" ry=\"2\"/>\n",
       "</g>\n",
       "<!-- n1p2&#45;&gt;n4 -->\n",
       "<!-- B -->\n",
       "<g id=\"e2\" class=\"edge\">\n",
       "<title>n1p2:e&#45;&gt;n4</title>\n",
       "<path fill=\"none\" stroke=\"#000000\" d=\"M1,-54C11.7205,-54 24.1422,-54 31.7858,-54\"/>\n",
       "<polygon fill=\"#000000\" stroke=\"#000000\" points=\"31.9405,-55.7501 36.9404,-54 31.9404,-52.2501 31.9405,-55.7501\"/>\n",
       "</g>\n",
       "<!-- n2p1 -->\n",
       "<!-- n2p2 -->\n",
       "<!-- n2p1&#45;&gt;n2p2 -->\n",
       "<!-- n2p3 -->\n",
       "<!-- n2p2&#45;&gt;n2p3 -->\n",
       "<!-- n2p4 -->\n",
       "<!-- n2p3&#45;&gt;n2p4 -->\n",
       "<!-- n3&#45;&gt;n2p1 -->\n",
       "<!-- A -->\n",
       "<g id=\"e3\" class=\"edge\">\n",
       "<title>n3&#45;&gt;n2p1:w</title>\n",
       "<path fill=\"none\" stroke=\"#000000\" d=\"M39.7596,-98.2581C42.586,-106.2322 53.2855,-132.8334 71.6249,-137.3466\"/>\n",
       "<polygon fill=\"#000000\" stroke=\"#000000\" points=\"71.8253,-139.1338 77,-138 72.2477,-135.6593 71.8253,-139.1338\"/>\n",
       "</g>\n",
       "<!-- n3&#45;&gt;n2p3 -->\n",
       "<!-- A -->\n",
       "<g id=\"e4\" class=\"edge\">\n",
       "<title>n3&#45;&gt;n2p3:w</title>\n",
       "<path fill=\"none\" stroke=\"#000000\" d=\"M39.7596,-93.7419C42.586,-85.7678 53.2855,-59.1666 71.6249,-54.6534\"/>\n",
       "<polygon fill=\"#000000\" stroke=\"#000000\" points=\"72.2477,-56.3407 77,-54 71.8253,-52.8662 72.2477,-56.3407\"/>\n",
       "</g>\n",
       "<!-- n4&#45;&gt;n2p2 -->\n",
       "<!-- B -->\n",
       "<g id=\"e5\" class=\"edge\">\n",
       "<title>n4&#45;&gt;n2p2:w</title>\n",
       "<path fill=\"none\" stroke=\"#000000\" d=\"M39.7596,-56.2581C42.586,-64.2322 53.2855,-90.8334 71.6249,-95.3466\"/>\n",
       "<polygon fill=\"#000000\" stroke=\"#000000\" points=\"71.8253,-97.1338 77,-96 72.2477,-93.6593 71.8253,-97.1338\"/>\n",
       "</g>\n",
       "<!-- n4&#45;&gt;n2p4 -->\n",
       "<!-- B -->\n",
       "<g id=\"e6\" class=\"edge\">\n",
       "<title>n4&#45;&gt;n2p4:w</title>\n",
       "<path fill=\"none\" stroke=\"#000000\" d=\"M39.7596,-51.7419C42.586,-43.7678 53.2855,-17.1666 71.6249,-12.6534\"/>\n",
       "<polygon fill=\"#000000\" stroke=\"#000000\" points=\"72.2477,-14.3407 77,-12 71.8253,-10.8662 72.2477,-14.3407\"/>\n",
       "</g>\n",
       "</g>\n",
       "</svg>\n"
      ]
     },
     "metadata": {},
     "execution_count": 10
    }
   ],
   "cell_type": "code",
   "source": [
    "show_diagram(add_junctions!(to_wiring_diagram(expr)))"
   ],
   "metadata": {},
   "execution_count": 10
  },
  {
   "outputs": [
    {
     "output_type": "execute_result",
     "data": {
      "text/plain": "compose(otimes(mcopy(A),mcopy(B)),otimes(id(A),braid(A,B),id(B)))",
      "text/latex": "$\\left(\\Delta_{A} \\otimes \\Delta_{B}\\right) \\cdot \\left(\\mathrm{id}_{A} \\otimes \\sigma_{A,B} \\otimes \\mathrm{id}_{B}\\right) : A \\otimes B \\to A \\otimes B \\otimes A \\otimes B$"
     },
     "metadata": {},
     "execution_count": 11
    }
   ],
   "cell_type": "code",
   "source": [
    "roundtrip_expr(expr)"
   ],
   "metadata": {},
   "execution_count": 11
  },
  {
   "cell_type": "markdown",
   "source": [
    "The equation just witnessed,\n",
    "\n",
    "$$\n",
    "\\Delta_{A \\otimes B} = (\\Delta_A \\otimes \\Delta_B) \\cdot (1_A \\otimes \\sigma_{A,B} \\otimes 1_B),\n",
    "$$\n",
    "\n",
    "is one of the *coherence laws* for cartesian products\n",
    "([arXiv:0908.3347](https://arxiv.org/abs/0908.3347), Table 7). Another\n",
    "coherence law for products is\n",
    "\n",
    "$$\n",
    "\\lozenge_{A \\otimes B} = \\lozenge_A \\otimes \\lozenge_B.\n",
    "$$"
   ],
   "metadata": {}
  },
  {
   "outputs": [
    {
     "output_type": "execute_result",
     "data": {
      "text/plain": "delete(otimes(A,B))",
      "text/latex": "$\\lozenge_{A \\otimes B} : A \\otimes B \\to I$"
     },
     "metadata": {},
     "execution_count": 12
    }
   ],
   "cell_type": "code",
   "source": [
    "expr = delete(A ⊗ B)"
   ],
   "metadata": {},
   "execution_count": 12
  },
  {
   "outputs": [
    {
     "output_type": "execute_result",
     "data": {
      "text/plain": "otimes(delete(A),delete(B))",
      "text/latex": "$\\lozenge_{A} \\otimes \\lozenge_{B} : A \\otimes B \\to I$"
     },
     "metadata": {},
     "execution_count": 13
    }
   ],
   "cell_type": "code",
   "source": [
    "roundtrip_expr(expr)"
   ],
   "metadata": {},
   "execution_count": 13
  }
 ],
 "nbformat_minor": 3,
 "metadata": {
  "language_info": {
   "file_extension": ".jl",
   "mimetype": "application/julia",
   "name": "julia",
   "version": "1.4.2"
  },
  "kernelspec": {
   "name": "julia-1.4",
   "display_name": "Julia 1.4.2",
   "language": "julia"
  }
 },
 "nbformat": 4
}
