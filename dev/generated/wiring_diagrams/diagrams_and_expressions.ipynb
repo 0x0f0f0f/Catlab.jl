{
 "cells": [
  {
   "outputs": [],
   "cell_type": "markdown",
   "source": [
    "# Wiring diagrams and syntactic expressions\n",
    "\n",
    "\n",
    "Morphisms in a monoidal category can be represented as syntactic expressions,\n",
    "such as $f \\cdot g$ and $f \\otimes g$, and also as [wiring\n",
    "diagrams](wiring_basics.ipynb), aka *string diagrams*. Catlab provides\n",
    "facilities for transforming between these two representations."
   ],
   "metadata": {}
  },
  {
   "outputs": [
    {
     "output_type": "execute_result",
     "data": {
      "text/plain": "show_diagram (generic function with 1 method)"
     },
     "metadata": {},
     "execution_count": 1
    }
   ],
   "cell_type": "code",
   "source": [
    "using Catlab.Doctrines, Catlab.WiringDiagrams\n",
    "using Catlab.Graphics\n",
    "\n",
    "function show_diagram(d::WiringDiagram)\n",
    "  to_graphviz(d, direction=:horizontal, labels=false)\n",
    "end"
   ],
   "metadata": {},
   "execution_count": 1
  },
  {
   "outputs": [],
   "cell_type": "markdown",
   "source": [
    "## Expressions to diagrams\n",
    "\n",
    "Converting a morphism expression to a wiring diagram is conceptually and\n",
    "algorithmically simple, because every expression determines a unique diagram.\n",
    "\n",
    "As a simple example, here is the monoidal product of two generators, $f$ and\n",
    "$g$, first as an expression (displayed using LaTeX) and then as a wiring\n",
    "diagram (displayed using Graphviz)."
   ],
   "metadata": {}
  },
  {
   "outputs": [
    {
     "output_type": "execute_result",
     "data": {
      "text/plain": "otimes(f,g)",
      "text/latex": "$f \\otimes g : A \\otimes B \\to B \\otimes C$"
     },
     "metadata": {},
     "execution_count": 2
    }
   ],
   "cell_type": "code",
   "source": [
    "A, B, C, D, E = Ob(FreeCartesianCategory, :A, :B, :C, :D, :E)\n",
    "f = Hom(:f, A, B)\n",
    "g = Hom(:g, B, C)\n",
    "\n",
    "expr = f ⊗ g"
   ],
   "metadata": {},
   "execution_count": 2
  },
  {
   "outputs": [
    {
     "output_type": "execute_result",
     "data": {
      "text/plain": "Catlab.Graphics.Graphviz.Graph(\"G\", true, Catlab.Graphics.Graphviz.Statement[Catlab.Graphics.Graphviz.Subgraph(\"\", Catlab.Graphics.Graphviz.Statement[Catlab.Graphics.Graphviz.Node(\"n1p1\", OrderedCollections.OrderedDict{Symbol,Union{String, Catlab.Graphics.Graphviz.Html}}(:id => \"in1\")), Catlab.Graphics.Graphviz.Node(\"n1p2\", OrderedCollections.OrderedDict{Symbol,Union{String, Catlab.Graphics.Graphviz.Html}}(:id => \"in2\")), Catlab.Graphics.Graphviz.Edge(Catlab.Graphics.Graphviz.NodeID[Catlab.Graphics.Graphviz.NodeID(\"n1p1\", \"\", \"\"), Catlab.Graphics.Graphviz.NodeID(\"n1p2\", \"\", \"\")], OrderedCollections.OrderedDict{Symbol,Union{String, Catlab.Graphics.Graphviz.Html}}())], OrderedCollections.OrderedDict{Symbol,Union{String, Catlab.Graphics.Graphviz.Html}}(:rank => \"source\",:rankdir => \"TB\"), OrderedCollections.OrderedDict{Symbol,Union{String, Catlab.Graphics.Graphviz.Html}}(:style => \"invis\",:shape => \"none\",:label => \"\",:width => \"0\",:height => \"0.333\"), OrderedCollections.OrderedDict{Symbol,Union{String, Catlab.Graphics.Graphviz.Html}}(:style => \"invis\")), Catlab.Graphics.Graphviz.Subgraph(\"\", Catlab.Graphics.Graphviz.Statement[Catlab.Graphics.Graphviz.Node(\"n2p1\", OrderedCollections.OrderedDict{Symbol,Union{String, Catlab.Graphics.Graphviz.Html}}(:id => \"out1\")), Catlab.Graphics.Graphviz.Node(\"n2p2\", OrderedCollections.OrderedDict{Symbol,Union{String, Catlab.Graphics.Graphviz.Html}}(:id => \"out2\")), Catlab.Graphics.Graphviz.Edge(Catlab.Graphics.Graphviz.NodeID[Catlab.Graphics.Graphviz.NodeID(\"n2p1\", \"\", \"\"), Catlab.Graphics.Graphviz.NodeID(\"n2p2\", \"\", \"\")], OrderedCollections.OrderedDict{Symbol,Union{String, Catlab.Graphics.Graphviz.Html}}())], OrderedCollections.OrderedDict{Symbol,Union{String, Catlab.Graphics.Graphviz.Html}}(:rank => \"sink\",:rankdir => \"TB\"), OrderedCollections.OrderedDict{Symbol,Union{String, Catlab.Graphics.Graphviz.Html}}(:style => \"invis\",:shape => \"none\",:label => \"\",:width => \"0\",:height => \"0.333\"), OrderedCollections.OrderedDict{Symbol,Union{String, Catlab.Graphics.Graphviz.Html}}(:style => \"invis\")), Catlab.Graphics.Graphviz.Node(\"n3\", OrderedCollections.OrderedDict{Symbol,Union{String, Catlab.Graphics.Graphviz.Html}}(:id => \"n3\",:comment => \"f\",:label => Catlab.Graphics.Graphviz.Html(\"<TABLE BORDER=\\\"0\\\" CELLPADDING=\\\"0\\\" CELLSPACING=\\\"0\\\">\\n<TR>\\n<TD><TABLE BORDER=\\\"0\\\" CELLPADDING=\\\"0\\\" CELLSPACING=\\\"0\\\"><TR><TD HEIGHT=\\\"24\\\" WIDTH=\\\"0\\\" PORT=\\\"in1\\\"></TD></TR></TABLE></TD>\\n<TD BORDER=\\\"1\\\" CELLPADDING=\\\"4\\\">f</TD>\\n<TD><TABLE BORDER=\\\"0\\\" CELLPADDING=\\\"0\\\" CELLSPACING=\\\"0\\\"><TR><TD HEIGHT=\\\"24\\\" WIDTH=\\\"0\\\" PORT=\\\"out1\\\"></TD></TR></TABLE></TD>\\n</TR>\\n</TABLE>\"))), Catlab.Graphics.Graphviz.Node(\"n4\", OrderedCollections.OrderedDict{Symbol,Union{String, Catlab.Graphics.Graphviz.Html}}(:id => \"n4\",:comment => \"g\",:label => Catlab.Graphics.Graphviz.Html(\"<TABLE BORDER=\\\"0\\\" CELLPADDING=\\\"0\\\" CELLSPACING=\\\"0\\\">\\n<TR>\\n<TD><TABLE BORDER=\\\"0\\\" CELLPADDING=\\\"0\\\" CELLSPACING=\\\"0\\\"><TR><TD HEIGHT=\\\"24\\\" WIDTH=\\\"0\\\" PORT=\\\"in1\\\"></TD></TR></TABLE></TD>\\n<TD BORDER=\\\"1\\\" CELLPADDING=\\\"4\\\">g</TD>\\n<TD><TABLE BORDER=\\\"0\\\" CELLPADDING=\\\"0\\\" CELLSPACING=\\\"0\\\"><TR><TD HEIGHT=\\\"24\\\" WIDTH=\\\"0\\\" PORT=\\\"out1\\\"></TD></TR></TABLE></TD>\\n</TR>\\n</TABLE>\"))), Catlab.Graphics.Graphviz.Edge(Catlab.Graphics.Graphviz.NodeID[Catlab.Graphics.Graphviz.NodeID(\"n1p1\", \"e\", \"\"), Catlab.Graphics.Graphviz.NodeID(\"n3\", \"in1\", \"w\")], OrderedCollections.OrderedDict{Symbol,Union{String, Catlab.Graphics.Graphviz.Html}}(:id => \"e1\",:comment => \"A\")), Catlab.Graphics.Graphviz.Edge(Catlab.Graphics.Graphviz.NodeID[Catlab.Graphics.Graphviz.NodeID(\"n1p2\", \"e\", \"\"), Catlab.Graphics.Graphviz.NodeID(\"n4\", \"in1\", \"w\")], OrderedCollections.OrderedDict{Symbol,Union{String, Catlab.Graphics.Graphviz.Html}}(:id => \"e2\",:comment => \"B\")), Catlab.Graphics.Graphviz.Edge(Catlab.Graphics.Graphviz.NodeID[Catlab.Graphics.Graphviz.NodeID(\"n3\", \"out1\", \"e\"), Catlab.Graphics.Graphviz.NodeID(\"n2p1\", \"w\", \"\")], OrderedCollections.OrderedDict{Symbol,Union{String, Catlab.Graphics.Graphviz.Html}}(:id => \"e3\",:comment => \"B\")), Catlab.Graphics.Graphviz.Edge(Catlab.Graphics.Graphviz.NodeID[Catlab.Graphics.Graphviz.NodeID(\"n4\", \"out1\", \"e\"), Catlab.Graphics.Graphviz.NodeID(\"n2p2\", \"w\", \"\")], OrderedCollections.OrderedDict{Symbol,Union{String, Catlab.Graphics.Graphviz.Html}}(:id => \"e4\",:comment => \"C\"))], OrderedCollections.OrderedDict{Symbol,Union{String, Catlab.Graphics.Graphviz.Html}}(:fontname => \"Serif\",:rankdir => \"LR\"), OrderedCollections.OrderedDict{Symbol,Union{String, Catlab.Graphics.Graphviz.Html}}(:fontname => \"Serif\",:shape => \"none\",:width => \"0\",:height => \"0\",:margin => \"0\"), OrderedCollections.OrderedDict{Symbol,Union{String, Catlab.Graphics.Graphviz.Html}}(:arrowsize => \"0.5\",:fontname => \"Serif\"))",
      "image/svg+xml": [
       "<?xml version=\"1.0\" encoding=\"UTF-8\" standalone=\"no\"?>\n",
       "<!DOCTYPE svg PUBLIC \"-//W3C//DTD SVG 1.1//EN\"\n",
       " \"http://www.w3.org/Graphics/SVG/1.1/DTD/svg11.dtd\">\n",
       "<!-- Generated by graphviz version 2.38.0 (20140413.2041)\n",
       " -->\n",
       "<!-- Title: G Pages: 1 -->\n",
       "<svg width=\"102pt\" height=\"76pt\"\n",
       " viewBox=\"0.00 0.00 102.00 76.00\" xmlns=\"http://www.w3.org/2000/svg\" xmlns:xlink=\"http://www.w3.org/1999/xlink\">\n",
       "<g id=\"graph0\" class=\"graph\" transform=\"scale(1 1) rotate(0) translate(4 72)\">\n",
       "<title>G</title>\n",
       "<polygon fill=\"white\" stroke=\"none\" points=\"-4,4 -4,-72 98,-72 98,4 -4,4\"/>\n",
       "<!-- n1p1 -->\n",
       "<!-- n1p2 -->\n",
       "<!-- n1p1&#45;&gt;n1p2 -->\n",
       "<!-- n3 -->\n",
       "<!-- f -->\n",
       "<g id=\"n3\" class=\"node\"><title>n3</title>\n",
       "<polygon fill=\"none\" stroke=\"black\" points=\"39,-42.5 39,-67.5 55,-67.5 55,-42.5 39,-42.5\"/>\n",
       "<text text-anchor=\"start\" x=\"44\" y=\"-51.3\" font-family=\"Serif\" font-size=\"14.00\">f</text>\n",
       "</g>\n",
       "<!-- n1p1&#45;&gt;n3 -->\n",
       "<!-- A -->\n",
       "<g id=\"e1\" class=\"edge\"><title>n1p1:e&#45;&gt;n3:in1:w</title>\n",
       "<path fill=\"none\" stroke=\"black\" d=\"M1,-54.5C15.5174,-54.5 20.4226,-54.5 32.6872,-54.5\"/>\n",
       "<polygon fill=\"black\" stroke=\"black\" points=\"33,-56.2501 38,-54.5 33,-52.7501 33,-56.2501\"/>\n",
       "</g>\n",
       "<!-- n4 -->\n",
       "<!-- g -->\n",
       "<g id=\"n4\" class=\"node\"><title>n4</title>\n",
       "<polygon fill=\"none\" stroke=\"black\" points=\"37,0.5 37,-24.5 57,-24.5 57,0.5 37,0.5\"/>\n",
       "<text text-anchor=\"start\" x=\"42\" y=\"-8.3\" font-family=\"Serif\" font-size=\"14.00\">g</text>\n",
       "</g>\n",
       "<!-- n1p2&#45;&gt;n4 -->\n",
       "<!-- B -->\n",
       "<g id=\"e2\" class=\"edge\"><title>n1p2:e&#45;&gt;n4:in1:w</title>\n",
       "<path fill=\"none\" stroke=\"black\" d=\"M1,-12.5C15.1304,-12.5 19.8942,-11.7206 31.8293,-11.538\"/>\n",
       "<polygon fill=\"black\" stroke=\"black\" points=\"32.013,-13.2868 37,-11.5 31.9872,-9.78687 32.013,-13.2868\"/>\n",
       "</g>\n",
       "<!-- n2p1 -->\n",
       "<!-- n2p2 -->\n",
       "<!-- n2p1&#45;&gt;n2p2 -->\n",
       "<!-- n3&#45;&gt;n2p1 -->\n",
       "<!-- B -->\n",
       "<g id=\"e3\" class=\"edge\"><title>n3:out1:e&#45;&gt;n2p1:w</title>\n",
       "<path fill=\"none\" stroke=\"black\" d=\"M56,-54.5C70.5174,-54.5 75.4226,-54.5 87.6872,-54.5\"/>\n",
       "<polygon fill=\"black\" stroke=\"black\" points=\"88,-56.2501 93,-54.5 88,-52.7501 88,-56.2501\"/>\n",
       "</g>\n",
       "<!-- n4&#45;&gt;n2p2 -->\n",
       "<!-- C -->\n",
       "<g id=\"e4\" class=\"edge\"><title>n4:out1:e&#45;&gt;n2p2:w</title>\n",
       "<path fill=\"none\" stroke=\"black\" d=\"M57,-11.5C71.1304,-11.5 75.8942,-12.2794 87.8293,-12.462\"/>\n",
       "<polygon fill=\"black\" stroke=\"black\" points=\"87.9872,-14.2131 93,-12.5 88.013,-10.7132 87.9872,-14.2131\"/>\n",
       "</g>\n",
       "</g>\n",
       "</svg>\n",
       "\n"
      ]
     },
     "metadata": {},
     "execution_count": 3
    }
   ],
   "cell_type": "code",
   "source": [
    "show_diagram(to_wiring_diagram(expr))"
   ],
   "metadata": {},
   "execution_count": 3
  },
  {
   "outputs": [],
   "cell_type": "markdown",
   "source": [
    "Here is a monoidal product of compositions:"
   ],
   "metadata": {}
  },
  {
   "outputs": [
    {
     "output_type": "execute_result",
     "data": {
      "text/plain": "otimes(compose(f,g),compose(h,k))",
      "text/latex": "$\\left(f \\cdot g\\right) \\otimes \\left(h \\cdot k\\right) : A \\otimes C \\to C \\otimes E$"
     },
     "metadata": {},
     "execution_count": 4
    }
   ],
   "cell_type": "code",
   "source": [
    "h = Hom(:h, C, D)\n",
    "k = Hom(:k, D, E)\n",
    "\n",
    "expr = (f ⋅ g) ⊗ (h ⋅ k)"
   ],
   "metadata": {},
   "execution_count": 4
  },
  {
   "outputs": [
    {
     "output_type": "execute_result",
     "data": {
      "text/plain": "Catlab.Graphics.Graphviz.Graph(\"G\", true, Catlab.Graphics.Graphviz.Statement[Catlab.Graphics.Graphviz.Subgraph(\"\", Catlab.Graphics.Graphviz.Statement[Catlab.Graphics.Graphviz.Node(\"n1p1\", OrderedCollections.OrderedDict{Symbol,Union{String, Catlab.Graphics.Graphviz.Html}}(:id => \"in1\")), Catlab.Graphics.Graphviz.Node(\"n1p2\", OrderedCollections.OrderedDict{Symbol,Union{String, Catlab.Graphics.Graphviz.Html}}(:id => \"in2\")), Catlab.Graphics.Graphviz.Edge(Catlab.Graphics.Graphviz.NodeID[Catlab.Graphics.Graphviz.NodeID(\"n1p1\", \"\", \"\"), Catlab.Graphics.Graphviz.NodeID(\"n1p2\", \"\", \"\")], OrderedCollections.OrderedDict{Symbol,Union{String, Catlab.Graphics.Graphviz.Html}}())], OrderedCollections.OrderedDict{Symbol,Union{String, Catlab.Graphics.Graphviz.Html}}(:rank => \"source\",:rankdir => \"TB\"), OrderedCollections.OrderedDict{Symbol,Union{String, Catlab.Graphics.Graphviz.Html}}(:style => \"invis\",:shape => \"none\",:label => \"\",:width => \"0\",:height => \"0.333\"), OrderedCollections.OrderedDict{Symbol,Union{String, Catlab.Graphics.Graphviz.Html}}(:style => \"invis\")), Catlab.Graphics.Graphviz.Subgraph(\"\", Catlab.Graphics.Graphviz.Statement[Catlab.Graphics.Graphviz.Node(\"n2p1\", OrderedCollections.OrderedDict{Symbol,Union{String, Catlab.Graphics.Graphviz.Html}}(:id => \"out1\")), Catlab.Graphics.Graphviz.Node(\"n2p2\", OrderedCollections.OrderedDict{Symbol,Union{String, Catlab.Graphics.Graphviz.Html}}(:id => \"out2\")), Catlab.Graphics.Graphviz.Edge(Catlab.Graphics.Graphviz.NodeID[Catlab.Graphics.Graphviz.NodeID(\"n2p1\", \"\", \"\"), Catlab.Graphics.Graphviz.NodeID(\"n2p2\", \"\", \"\")], OrderedCollections.OrderedDict{Symbol,Union{String, Catlab.Graphics.Graphviz.Html}}())], OrderedCollections.OrderedDict{Symbol,Union{String, Catlab.Graphics.Graphviz.Html}}(:rank => \"sink\",:rankdir => \"TB\"), OrderedCollections.OrderedDict{Symbol,Union{String, Catlab.Graphics.Graphviz.Html}}(:style => \"invis\",:shape => \"none\",:label => \"\",:width => \"0\",:height => \"0.333\"), OrderedCollections.OrderedDict{Symbol,Union{String, Catlab.Graphics.Graphviz.Html}}(:style => \"invis\")), Catlab.Graphics.Graphviz.Node(\"n3\", OrderedCollections.OrderedDict{Symbol,Union{String, Catlab.Graphics.Graphviz.Html}}(:id => \"n3\",:comment => \"f\",:label => Catlab.Graphics.Graphviz.Html(\"<TABLE BORDER=\\\"0\\\" CELLPADDING=\\\"0\\\" CELLSPACING=\\\"0\\\">\\n<TR>\\n<TD><TABLE BORDER=\\\"0\\\" CELLPADDING=\\\"0\\\" CELLSPACING=\\\"0\\\"><TR><TD HEIGHT=\\\"24\\\" WIDTH=\\\"0\\\" PORT=\\\"in1\\\"></TD></TR></TABLE></TD>\\n<TD BORDER=\\\"1\\\" CELLPADDING=\\\"4\\\">f</TD>\\n<TD><TABLE BORDER=\\\"0\\\" CELLPADDING=\\\"0\\\" CELLSPACING=\\\"0\\\"><TR><TD HEIGHT=\\\"24\\\" WIDTH=\\\"0\\\" PORT=\\\"out1\\\"></TD></TR></TABLE></TD>\\n</TR>\\n</TABLE>\"))), Catlab.Graphics.Graphviz.Node(\"n4\", OrderedCollections.OrderedDict{Symbol,Union{String, Catlab.Graphics.Graphviz.Html}}(:id => \"n4\",:comment => \"g\",:label => Catlab.Graphics.Graphviz.Html(\"<TABLE BORDER=\\\"0\\\" CELLPADDING=\\\"0\\\" CELLSPACING=\\\"0\\\">\\n<TR>\\n<TD><TABLE BORDER=\\\"0\\\" CELLPADDING=\\\"0\\\" CELLSPACING=\\\"0\\\"><TR><TD HEIGHT=\\\"24\\\" WIDTH=\\\"0\\\" PORT=\\\"in1\\\"></TD></TR></TABLE></TD>\\n<TD BORDER=\\\"1\\\" CELLPADDING=\\\"4\\\">g</TD>\\n<TD><TABLE BORDER=\\\"0\\\" CELLPADDING=\\\"0\\\" CELLSPACING=\\\"0\\\"><TR><TD HEIGHT=\\\"24\\\" WIDTH=\\\"0\\\" PORT=\\\"out1\\\"></TD></TR></TABLE></TD>\\n</TR>\\n</TABLE>\"))), Catlab.Graphics.Graphviz.Node(\"n5\", OrderedCollections.OrderedDict{Symbol,Union{String, Catlab.Graphics.Graphviz.Html}}(:id => \"n5\",:comment => \"h\",:label => Catlab.Graphics.Graphviz.Html(\"<TABLE BORDER=\\\"0\\\" CELLPADDING=\\\"0\\\" CELLSPACING=\\\"0\\\">\\n<TR>\\n<TD><TABLE BORDER=\\\"0\\\" CELLPADDING=\\\"0\\\" CELLSPACING=\\\"0\\\"><TR><TD HEIGHT=\\\"24\\\" WIDTH=\\\"0\\\" PORT=\\\"in1\\\"></TD></TR></TABLE></TD>\\n<TD BORDER=\\\"1\\\" CELLPADDING=\\\"4\\\">h</TD>\\n<TD><TABLE BORDER=\\\"0\\\" CELLPADDING=\\\"0\\\" CELLSPACING=\\\"0\\\"><TR><TD HEIGHT=\\\"24\\\" WIDTH=\\\"0\\\" PORT=\\\"out1\\\"></TD></TR></TABLE></TD>\\n</TR>\\n</TABLE>\"))), Catlab.Graphics.Graphviz.Node(\"n6\", OrderedCollections.OrderedDict{Symbol,Union{String, Catlab.Graphics.Graphviz.Html}}(:id => \"n6\",:comment => \"k\",:label => Catlab.Graphics.Graphviz.Html(\"<TABLE BORDER=\\\"0\\\" CELLPADDING=\\\"0\\\" CELLSPACING=\\\"0\\\">\\n<TR>\\n<TD><TABLE BORDER=\\\"0\\\" CELLPADDING=\\\"0\\\" CELLSPACING=\\\"0\\\"><TR><TD HEIGHT=\\\"24\\\" WIDTH=\\\"0\\\" PORT=\\\"in1\\\"></TD></TR></TABLE></TD>\\n<TD BORDER=\\\"1\\\" CELLPADDING=\\\"4\\\">k</TD>\\n<TD><TABLE BORDER=\\\"0\\\" CELLPADDING=\\\"0\\\" CELLSPACING=\\\"0\\\"><TR><TD HEIGHT=\\\"24\\\" WIDTH=\\\"0\\\" PORT=\\\"out1\\\"></TD></TR></TABLE></TD>\\n</TR>\\n</TABLE>\"))), Catlab.Graphics.Graphviz.Edge(Catlab.Graphics.Graphviz.NodeID[Catlab.Graphics.Graphviz.NodeID(\"n1p1\", \"e\", \"\"), Catlab.Graphics.Graphviz.NodeID(\"n3\", \"in1\", \"w\")], OrderedCollections.OrderedDict{Symbol,Union{String, Catlab.Graphics.Graphviz.Html}}(:id => \"e1\",:comment => \"A\")), Catlab.Graphics.Graphviz.Edge(Catlab.Graphics.Graphviz.NodeID[Catlab.Graphics.Graphviz.NodeID(\"n1p2\", \"e\", \"\"), Catlab.Graphics.Graphviz.NodeID(\"n5\", \"in1\", \"w\")], OrderedCollections.OrderedDict{Symbol,Union{String, Catlab.Graphics.Graphviz.Html}}(:id => \"e2\",:comment => \"C\")), Catlab.Graphics.Graphviz.Edge(Catlab.Graphics.Graphviz.NodeID[Catlab.Graphics.Graphviz.NodeID(\"n3\", \"out1\", \"e\"), Catlab.Graphics.Graphviz.NodeID(\"n4\", \"in1\", \"w\")], OrderedCollections.OrderedDict{Symbol,Union{String, Catlab.Graphics.Graphviz.Html}}(:id => \"e3\",:comment => \"B\")), Catlab.Graphics.Graphviz.Edge(Catlab.Graphics.Graphviz.NodeID[Catlab.Graphics.Graphviz.NodeID(\"n4\", \"out1\", \"e\"), Catlab.Graphics.Graphviz.NodeID(\"n2p1\", \"w\", \"\")], OrderedCollections.OrderedDict{Symbol,Union{String, Catlab.Graphics.Graphviz.Html}}(:id => \"e4\",:comment => \"C\")), Catlab.Graphics.Graphviz.Edge(Catlab.Graphics.Graphviz.NodeID[Catlab.Graphics.Graphviz.NodeID(\"n5\", \"out1\", \"e\"), Catlab.Graphics.Graphviz.NodeID(\"n6\", \"in1\", \"w\")], OrderedCollections.OrderedDict{Symbol,Union{String, Catlab.Graphics.Graphviz.Html}}(:id => \"e5\",:comment => \"D\")), Catlab.Graphics.Graphviz.Edge(Catlab.Graphics.Graphviz.NodeID[Catlab.Graphics.Graphviz.NodeID(\"n6\", \"out1\", \"e\"), Catlab.Graphics.Graphviz.NodeID(\"n2p2\", \"w\", \"\")], OrderedCollections.OrderedDict{Symbol,Union{String, Catlab.Graphics.Graphviz.Html}}(:id => \"e6\",:comment => \"E\"))], OrderedCollections.OrderedDict{Symbol,Union{String, Catlab.Graphics.Graphviz.Html}}(:fontname => \"Serif\",:rankdir => \"LR\"), OrderedCollections.OrderedDict{Symbol,Union{String, Catlab.Graphics.Graphviz.Html}}(:fontname => \"Serif\",:shape => \"none\",:width => \"0\",:height => \"0\",:margin => \"0\"), OrderedCollections.OrderedDict{Symbol,Union{String, Catlab.Graphics.Graphviz.Html}}(:arrowsize => \"0.5\",:fontname => \"Serif\"))",
      "image/svg+xml": [
       "<?xml version=\"1.0\" encoding=\"UTF-8\" standalone=\"no\"?>\n",
       "<!DOCTYPE svg PUBLIC \"-//W3C//DTD SVG 1.1//EN\"\n",
       " \"http://www.w3.org/Graphics/SVG/1.1/DTD/svg11.dtd\">\n",
       "<!-- Generated by graphviz version 2.38.0 (20140413.2041)\n",
       " -->\n",
       "<!-- Title: G Pages: 1 -->\n",
       "<svg width=\"158pt\" height=\"76pt\"\n",
       " viewBox=\"0.00 0.00 158.00 76.00\" xmlns=\"http://www.w3.org/2000/svg\" xmlns:xlink=\"http://www.w3.org/1999/xlink\">\n",
       "<g id=\"graph0\" class=\"graph\" transform=\"scale(1 1) rotate(0) translate(4 72)\">\n",
       "<title>G</title>\n",
       "<polygon fill=\"white\" stroke=\"none\" points=\"-4,4 -4,-72 154,-72 154,4 -4,4\"/>\n",
       "<!-- n1p1 -->\n",
       "<!-- n1p2 -->\n",
       "<!-- n1p1&#45;&gt;n1p2 -->\n",
       "<!-- n3 -->\n",
       "<!-- f -->\n",
       "<g id=\"n3\" class=\"node\"><title>n3</title>\n",
       "<polygon fill=\"none\" stroke=\"black\" points=\"39,-42.5 39,-67.5 55,-67.5 55,-42.5 39,-42.5\"/>\n",
       "<text text-anchor=\"start\" x=\"44\" y=\"-51.3\" font-family=\"Serif\" font-size=\"14.00\">f</text>\n",
       "</g>\n",
       "<!-- n1p1&#45;&gt;n3 -->\n",
       "<!-- A -->\n",
       "<g id=\"e1\" class=\"edge\"><title>n1p1:e&#45;&gt;n3:in1:w</title>\n",
       "<path fill=\"none\" stroke=\"black\" d=\"M1,-54.5C15.5174,-54.5 20.4226,-54.5 32.6872,-54.5\"/>\n",
       "<polygon fill=\"black\" stroke=\"black\" points=\"33,-56.2501 38,-54.5 33,-52.7501 33,-56.2501\"/>\n",
       "</g>\n",
       "<!-- n5 -->\n",
       "<!-- h -->\n",
       "<g id=\"n5\" class=\"node\"><title>n5</title>\n",
       "<polygon fill=\"none\" stroke=\"black\" points=\"37,0.5 37,-24.5 57,-24.5 57,0.5 37,0.5\"/>\n",
       "<text text-anchor=\"start\" x=\"42\" y=\"-8.3\" font-family=\"Serif\" font-size=\"14.00\">h</text>\n",
       "</g>\n",
       "<!-- n1p2&#45;&gt;n5 -->\n",
       "<!-- C -->\n",
       "<g id=\"e2\" class=\"edge\"><title>n1p2:e&#45;&gt;n5:in1:w</title>\n",
       "<path fill=\"none\" stroke=\"black\" d=\"M1,-12.5C15.1304,-12.5 19.8942,-11.7206 31.8293,-11.538\"/>\n",
       "<polygon fill=\"black\" stroke=\"black\" points=\"32.013,-13.2868 37,-11.5 31.9872,-9.78687 32.013,-13.2868\"/>\n",
       "</g>\n",
       "<!-- n2p1 -->\n",
       "<!-- n2p2 -->\n",
       "<!-- n2p1&#45;&gt;n2p2 -->\n",
       "<!-- n4 -->\n",
       "<!-- g -->\n",
       "<g id=\"n4\" class=\"node\"><title>n4</title>\n",
       "<polygon fill=\"none\" stroke=\"black\" points=\"93,-42.5 93,-67.5 113,-67.5 113,-42.5 93,-42.5\"/>\n",
       "<text text-anchor=\"start\" x=\"98\" y=\"-51.3\" font-family=\"Serif\" font-size=\"14.00\">g</text>\n",
       "</g>\n",
       "<!-- n3&#45;&gt;n4 -->\n",
       "<!-- B -->\n",
       "<g id=\"e3\" class=\"edge\"><title>n3:out1:e&#45;&gt;n4:in1:w</title>\n",
       "<path fill=\"none\" stroke=\"black\" d=\"M56,-54.5C70.5174,-54.5 75.4226,-54.5 87.6872,-54.5\"/>\n",
       "<polygon fill=\"black\" stroke=\"black\" points=\"88,-56.2501 93,-54.5 88,-52.7501 88,-56.2501\"/>\n",
       "</g>\n",
       "<!-- n4&#45;&gt;n2p1 -->\n",
       "<!-- C -->\n",
       "<g id=\"e4\" class=\"edge\"><title>n4:out1:e&#45;&gt;n2p1:w</title>\n",
       "<path fill=\"none\" stroke=\"black\" d=\"M113,-54.5C127.125,-54.5 131.898,-54.5 143.831,-54.5\"/>\n",
       "<polygon fill=\"black\" stroke=\"black\" points=\"144,-56.2501 149,-54.5 144,-52.7501 144,-56.2501\"/>\n",
       "</g>\n",
       "<!-- n6 -->\n",
       "<!-- k -->\n",
       "<g id=\"n6\" class=\"node\"><title>n6</title>\n",
       "<polygon fill=\"none\" stroke=\"black\" points=\"93,0.5 93,-24.5 113,-24.5 113,0.5 93,0.5\"/>\n",
       "<text text-anchor=\"start\" x=\"98\" y=\"-8.3\" font-family=\"Serif\" font-size=\"14.00\">k</text>\n",
       "</g>\n",
       "<!-- n5&#45;&gt;n6 -->\n",
       "<!-- D -->\n",
       "<g id=\"e5\" class=\"edge\"><title>n5:out1:e&#45;&gt;n6:in1:w</title>\n",
       "<path fill=\"none\" stroke=\"black\" d=\"M57,-11.5C71.125,-11.5 75.8977,-11.5 87.8308,-11.5\"/>\n",
       "<polygon fill=\"black\" stroke=\"black\" points=\"88,-13.2501 93,-11.5 88,-9.7501 88,-13.2501\"/>\n",
       "</g>\n",
       "<!-- n6&#45;&gt;n2p2 -->\n",
       "<!-- E -->\n",
       "<g id=\"e6\" class=\"edge\"><title>n6:out1:e&#45;&gt;n2p2:w</title>\n",
       "<path fill=\"none\" stroke=\"black\" d=\"M113,-11.5C127.13,-11.5 131.894,-12.2794 143.829,-12.462\"/>\n",
       "<polygon fill=\"black\" stroke=\"black\" points=\"143.987,-14.2131 149,-12.5 144.013,-10.7132 143.987,-14.2131\"/>\n",
       "</g>\n",
       "</g>\n",
       "</svg>\n",
       "\n"
      ]
     },
     "metadata": {},
     "execution_count": 5
    }
   ],
   "cell_type": "code",
   "source": [
    "show_diagram(to_wiring_diagram(expr))"
   ],
   "metadata": {},
   "execution_count": 5
  },
  {
   "outputs": [],
   "cell_type": "markdown",
   "source": [
    "## Diagrams to expressions\n",
    "\n",
    "Converting a wiring diagram to a syntactic expression is algorithmically more\n",
    "challenging, due to the fact that a single wiring diagram generally admits\n",
    "many different representations as an expression. Thus, a particular expression\n",
    "must be singled out.\n",
    "\n",
    "To bring this out, we define a function that round-trips a morphism expression\n",
    "to a wiring diagram and then back to an expression."
   ],
   "metadata": {}
  },
  {
   "outputs": [
    {
     "output_type": "execute_result",
     "data": {
      "text/plain": "roundtrip_expr (generic function with 1 method)"
     },
     "metadata": {},
     "execution_count": 6
    }
   ],
   "cell_type": "code",
   "source": [
    "function roundtrip_expr(expr::FreeCartesianCategory.Hom)\n",
    "  d = to_wiring_diagram(expr)\n",
    "  to_hom_expr(FreeCartesianCategory, d)\n",
    "end"
   ],
   "metadata": {},
   "execution_count": 6
  },
  {
   "outputs": [],
   "cell_type": "markdown",
   "source": [
    "We can recover the expression just considered above:"
   ],
   "metadata": {}
  },
  {
   "outputs": [
    {
     "output_type": "execute_result",
     "data": {
      "text/plain": "otimes(compose(f,g),compose(h,k))",
      "text/latex": "$\\left(f \\cdot g\\right) \\otimes \\left(h \\cdot k\\right) : A \\otimes C \\to C \\otimes E$"
     },
     "metadata": {},
     "execution_count": 7
    }
   ],
   "cell_type": "code",
   "source": [
    "roundtrip_expr((f ⋅ g) ⊗ (h ⋅ k))"
   ],
   "metadata": {},
   "execution_count": 7
  },
  {
   "outputs": [],
   "cell_type": "markdown",
   "source": [
    "But here is a different expression that round-trips to the same thing:"
   ],
   "metadata": {}
  },
  {
   "outputs": [
    {
     "output_type": "execute_result",
     "data": {
      "text/plain": "otimes(compose(f,g),compose(h,k))",
      "text/latex": "$\\left(f \\cdot g\\right) \\otimes \\left(h \\cdot k\\right) : A \\otimes C \\to C \\otimes E$"
     },
     "metadata": {},
     "execution_count": 8
    }
   ],
   "cell_type": "code",
   "source": [
    "roundtrip_expr((f ⊗ h) ⋅ (g ⊗ k))"
   ],
   "metadata": {},
   "execution_count": 8
  },
  {
   "outputs": [],
   "cell_type": "markdown",
   "source": [
    "The equality of these two expressions,\n",
    "\n",
    "$$\n",
    "(f \\cdot g) \\otimes (h \\cdot k) = (f \\otimes h) \\cdot (g \\otimes k),\n",
    "$$\n",
    "\n",
    "is the *interchange law* in a monoidal category. It says that composition and\n",
    "monoidal products can be interchanged. As this example shows, the conversion\n",
    "algorithm in Catlab favors products over composition, placing products towards\n",
    "the root of the expression tree wherever possible.\n",
    "Other laws can be discovered by this procedure. Since we are working in a\n",
    "[cartesian monoidal\n",
    "category](https://ncatlab.org/nlab/show/cartesian+monoidal+category),\n",
    "operations of copying, $\\Delta_A: A \\to A \\otimes A$, and deleting,\n",
    "$\\lozenge_A: A \\to I$, are available.\n",
    "\n",
    "Consider the operation of copying the product $A \\otimes B$."
   ],
   "metadata": {}
  },
  {
   "outputs": [
    {
     "output_type": "execute_result",
     "data": {
      "text/plain": "mcopy(otimes(A,B))",
      "text/latex": "$\\Delta_{A \\otimes B} : A \\otimes B \\to A \\otimes B \\otimes A \\otimes B$"
     },
     "metadata": {},
     "execution_count": 9
    }
   ],
   "cell_type": "code",
   "source": [
    "expr = mcopy(A ⊗ B)"
   ],
   "metadata": {},
   "execution_count": 9
  },
  {
   "outputs": [
    {
     "output_type": "execute_result",
     "data": {
      "text/plain": "Catlab.Graphics.Graphviz.Graph(\"G\", true, Catlab.Graphics.Graphviz.Statement[Catlab.Graphics.Graphviz.Subgraph(\"\", Catlab.Graphics.Graphviz.Statement[Catlab.Graphics.Graphviz.Node(\"n1p1\", OrderedCollections.OrderedDict{Symbol,Union{String, Catlab.Graphics.Graphviz.Html}}(:id => \"in1\")), Catlab.Graphics.Graphviz.Node(\"n1p2\", OrderedCollections.OrderedDict{Symbol,Union{String, Catlab.Graphics.Graphviz.Html}}(:id => \"in2\")), Catlab.Graphics.Graphviz.Edge(Catlab.Graphics.Graphviz.NodeID[Catlab.Graphics.Graphviz.NodeID(\"n1p1\", \"\", \"\"), Catlab.Graphics.Graphviz.NodeID(\"n1p2\", \"\", \"\")], OrderedCollections.OrderedDict{Symbol,Union{String, Catlab.Graphics.Graphviz.Html}}())], OrderedCollections.OrderedDict{Symbol,Union{String, Catlab.Graphics.Graphviz.Html}}(:rank => \"source\",:rankdir => \"TB\"), OrderedCollections.OrderedDict{Symbol,Union{String, Catlab.Graphics.Graphviz.Html}}(:style => \"invis\",:shape => \"none\",:label => \"\",:width => \"0\",:height => \"0.333\"), OrderedCollections.OrderedDict{Symbol,Union{String, Catlab.Graphics.Graphviz.Html}}(:style => \"invis\")), Catlab.Graphics.Graphviz.Subgraph(\"\", Catlab.Graphics.Graphviz.Statement[Catlab.Graphics.Graphviz.Node(\"n2p1\", OrderedCollections.OrderedDict{Symbol,Union{String, Catlab.Graphics.Graphviz.Html}}(:id => \"out1\")), Catlab.Graphics.Graphviz.Node(\"n2p2\", OrderedCollections.OrderedDict{Symbol,Union{String, Catlab.Graphics.Graphviz.Html}}(:id => \"out2\")), Catlab.Graphics.Graphviz.Node(\"n2p3\", OrderedCollections.OrderedDict{Symbol,Union{String, Catlab.Graphics.Graphviz.Html}}(:id => \"out3\")), Catlab.Graphics.Graphviz.Node(\"n2p4\", OrderedCollections.OrderedDict{Symbol,Union{String, Catlab.Graphics.Graphviz.Html}}(:id => \"out4\")), Catlab.Graphics.Graphviz.Edge(Catlab.Graphics.Graphviz.NodeID[Catlab.Graphics.Graphviz.NodeID(\"n2p1\", \"\", \"\"), Catlab.Graphics.Graphviz.NodeID(\"n2p2\", \"\", \"\"), Catlab.Graphics.Graphviz.NodeID(\"n2p3\", \"\", \"\"), Catlab.Graphics.Graphviz.NodeID(\"n2p4\", \"\", \"\")], OrderedCollections.OrderedDict{Symbol,Union{String, Catlab.Graphics.Graphviz.Html}}())], OrderedCollections.OrderedDict{Symbol,Union{String, Catlab.Graphics.Graphviz.Html}}(:rank => \"sink\",:rankdir => \"TB\"), OrderedCollections.OrderedDict{Symbol,Union{String, Catlab.Graphics.Graphviz.Html}}(:style => \"invis\",:shape => \"none\",:label => \"\",:width => \"0\",:height => \"0.333\"), OrderedCollections.OrderedDict{Symbol,Union{String, Catlab.Graphics.Graphviz.Html}}(:style => \"invis\")), Catlab.Graphics.Graphviz.Node(\"n3\", OrderedCollections.OrderedDict{Symbol,Union{String, Catlab.Graphics.Graphviz.Html}}(:id => \"n3\",:comment => \"junction\",:label => \"\",:shape => \"circle\",:style => \"filled\",:fillcolor => \"black\",:width => \"0.05\",:height => \"0.05\")), Catlab.Graphics.Graphviz.Node(\"n4\", OrderedCollections.OrderedDict{Symbol,Union{String, Catlab.Graphics.Graphviz.Html}}(:id => \"n4\",:comment => \"junction\",:label => \"\",:shape => \"circle\",:style => \"filled\",:fillcolor => \"black\",:width => \"0.05\",:height => \"0.05\")), Catlab.Graphics.Graphviz.Edge(Catlab.Graphics.Graphviz.NodeID[Catlab.Graphics.Graphviz.NodeID(\"n1p1\", \"e\", \"\"), Catlab.Graphics.Graphviz.NodeID(\"n3\", \"\", \"\")], OrderedCollections.OrderedDict{Symbol,Union{String, Catlab.Graphics.Graphviz.Html}}(:id => \"e1\",:comment => \"A\")), Catlab.Graphics.Graphviz.Edge(Catlab.Graphics.Graphviz.NodeID[Catlab.Graphics.Graphviz.NodeID(\"n1p2\", \"e\", \"\"), Catlab.Graphics.Graphviz.NodeID(\"n4\", \"\", \"\")], OrderedCollections.OrderedDict{Symbol,Union{String, Catlab.Graphics.Graphviz.Html}}(:id => \"e2\",:comment => \"B\")), Catlab.Graphics.Graphviz.Edge(Catlab.Graphics.Graphviz.NodeID[Catlab.Graphics.Graphviz.NodeID(\"n3\", \"\", \"\"), Catlab.Graphics.Graphviz.NodeID(\"n2p1\", \"w\", \"\")], OrderedCollections.OrderedDict{Symbol,Union{String, Catlab.Graphics.Graphviz.Html}}(:id => \"e3\",:comment => \"A\")), Catlab.Graphics.Graphviz.Edge(Catlab.Graphics.Graphviz.NodeID[Catlab.Graphics.Graphviz.NodeID(\"n3\", \"\", \"\"), Catlab.Graphics.Graphviz.NodeID(\"n2p3\", \"w\", \"\")], OrderedCollections.OrderedDict{Symbol,Union{String, Catlab.Graphics.Graphviz.Html}}(:id => \"e4\",:comment => \"A\")), Catlab.Graphics.Graphviz.Edge(Catlab.Graphics.Graphviz.NodeID[Catlab.Graphics.Graphviz.NodeID(\"n4\", \"\", \"\"), Catlab.Graphics.Graphviz.NodeID(\"n2p2\", \"w\", \"\")], OrderedCollections.OrderedDict{Symbol,Union{String, Catlab.Graphics.Graphviz.Html}}(:id => \"e5\",:comment => \"B\")), Catlab.Graphics.Graphviz.Edge(Catlab.Graphics.Graphviz.NodeID[Catlab.Graphics.Graphviz.NodeID(\"n4\", \"\", \"\"), Catlab.Graphics.Graphviz.NodeID(\"n2p4\", \"w\", \"\")], OrderedCollections.OrderedDict{Symbol,Union{String, Catlab.Graphics.Graphviz.Html}}(:id => \"e6\",:comment => \"B\"))], OrderedCollections.OrderedDict{Symbol,Union{String, Catlab.Graphics.Graphviz.Html}}(:fontname => \"Serif\",:rankdir => \"LR\"), OrderedCollections.OrderedDict{Symbol,Union{String, Catlab.Graphics.Graphviz.Html}}(:fontname => \"Serif\",:shape => \"none\",:width => \"0\",:height => \"0\",:margin => \"0\"), OrderedCollections.OrderedDict{Symbol,Union{String, Catlab.Graphics.Graphviz.Html}}(:arrowsize => \"0.5\",:fontname => \"Serif\"))",
      "image/svg+xml": [
       "<?xml version=\"1.0\" encoding=\"UTF-8\" standalone=\"no\"?>\n",
       "<!DOCTYPE svg PUBLIC \"-//W3C//DTD SVG 1.1//EN\"\n",
       " \"http://www.w3.org/Graphics/SVG/1.1/DTD/svg11.dtd\">\n",
       "<!-- Generated by graphviz version 2.38.0 (20140413.2041)\n",
       " -->\n",
       "<!-- Title: G Pages: 1 -->\n",
       "<svg width=\"86pt\" height=\"158pt\"\n",
       " viewBox=\"0.00 0.00 86.00 158.00\" xmlns=\"http://www.w3.org/2000/svg\" xmlns:xlink=\"http://www.w3.org/1999/xlink\">\n",
       "<g id=\"graph0\" class=\"graph\" transform=\"scale(1 1) rotate(0) translate(4 154)\">\n",
       "<title>G</title>\n",
       "<polygon fill=\"white\" stroke=\"none\" points=\"-4,4 -4,-154 82,-154 82,4 -4,4\"/>\n",
       "<!-- n1p1 -->\n",
       "<!-- n1p2 -->\n",
       "<!-- n1p1&#45;&gt;n1p2 -->\n",
       "<!-- n3 -->\n",
       "<!-- junction -->\n",
       "<g id=\"n3\" class=\"node\"><title>n3</title>\n",
       "<ellipse fill=\"black\" stroke=\"black\" cx=\"39\" cy=\"-96\" rx=\"2\" ry=\"2\"/>\n",
       "</g>\n",
       "<!-- n1p1&#45;&gt;n3 -->\n",
       "<!-- A -->\n",
       "<g id=\"e1\" class=\"edge\"><title>n1p1:e&#45;&gt;n3</title>\n",
       "<path fill=\"none\" stroke=\"black\" d=\"M1,-96C11.8198,-96 24.4193,-96 31.7726,-96\"/>\n",
       "<polygon fill=\"black\" stroke=\"black\" points=\"31.8491,-97.7501 36.8491,-96 31.8491,-94.2501 31.8491,-97.7501\"/>\n",
       "</g>\n",
       "<!-- n4 -->\n",
       "<!-- junction -->\n",
       "<g id=\"n4\" class=\"node\"><title>n4</title>\n",
       "<ellipse fill=\"black\" stroke=\"black\" cx=\"39\" cy=\"-54\" rx=\"2\" ry=\"2\"/>\n",
       "</g>\n",
       "<!-- n1p2&#45;&gt;n4 -->\n",
       "<!-- B -->\n",
       "<g id=\"e2\" class=\"edge\"><title>n1p2:e&#45;&gt;n4</title>\n",
       "<path fill=\"none\" stroke=\"black\" d=\"M1,-54C11.8198,-54 24.4193,-54 31.7726,-54\"/>\n",
       "<polygon fill=\"black\" stroke=\"black\" points=\"31.8491,-55.7501 36.8491,-54 31.8491,-52.2501 31.8491,-55.7501\"/>\n",
       "</g>\n",
       "<!-- n2p1 -->\n",
       "<!-- n2p2 -->\n",
       "<!-- n2p1&#45;&gt;n2p2 -->\n",
       "<!-- n2p3 -->\n",
       "<!-- n2p2&#45;&gt;n2p3 -->\n",
       "<!-- n2p4 -->\n",
       "<!-- n2p3&#45;&gt;n2p4 -->\n",
       "<!-- n3&#45;&gt;n2p1 -->\n",
       "<!-- A -->\n",
       "<g id=\"e3\" class=\"edge\"><title>n3&#45;&gt;n2p1:w</title>\n",
       "<path fill=\"none\" stroke=\"black\" d=\"M40.4359,-97.3974C42.6194,-104.116 53.0218,-132.953 71.9922,-137.418\"/>\n",
       "<polygon fill=\"black\" stroke=\"black\" points=\"71.8314,-139.161 77,-138 72.2354,-135.685 71.8314,-139.161\"/>\n",
       "</g>\n",
       "<!-- n3&#45;&gt;n2p3 -->\n",
       "<!-- A -->\n",
       "<g id=\"e4\" class=\"edge\"><title>n3&#45;&gt;n2p3:w</title>\n",
       "<path fill=\"none\" stroke=\"black\" d=\"M40.4359,-94.6026C42.6194,-87.8843 53.0218,-59.0466 71.9922,-54.5817\"/>\n",
       "<polygon fill=\"black\" stroke=\"black\" points=\"72.2354,-56.3153 77,-54 71.8314,-52.8387 72.2354,-56.3153\"/>\n",
       "</g>\n",
       "<!-- n4&#45;&gt;n2p2 -->\n",
       "<!-- B -->\n",
       "<g id=\"e5\" class=\"edge\"><title>n4&#45;&gt;n2p2:w</title>\n",
       "<path fill=\"none\" stroke=\"black\" d=\"M40.4359,-55.3974C42.6194,-62.1157 53.0218,-90.9534 71.9922,-95.4183\"/>\n",
       "<polygon fill=\"black\" stroke=\"black\" points=\"71.8314,-97.1613 77,-96 72.2354,-93.6847 71.8314,-97.1613\"/>\n",
       "</g>\n",
       "<!-- n4&#45;&gt;n2p4 -->\n",
       "<!-- B -->\n",
       "<g id=\"e6\" class=\"edge\"><title>n4&#45;&gt;n2p4:w</title>\n",
       "<path fill=\"none\" stroke=\"black\" d=\"M40.4359,-52.6026C42.6194,-45.8843 53.0218,-17.0466 71.9922,-12.5817\"/>\n",
       "<polygon fill=\"black\" stroke=\"black\" points=\"72.2354,-14.3153 77,-12 71.8314,-10.8387 72.2354,-14.3153\"/>\n",
       "</g>\n",
       "</g>\n",
       "</svg>\n",
       "\n"
      ]
     },
     "metadata": {},
     "execution_count": 10
    }
   ],
   "cell_type": "code",
   "source": [
    "show_diagram(add_junctions!(to_wiring_diagram(expr)))"
   ],
   "metadata": {},
   "execution_count": 10
  },
  {
   "outputs": [
    {
     "output_type": "execute_result",
     "data": {
      "text/plain": "compose(otimes(mcopy(A),mcopy(B)),otimes(id(A),braid(A,B),id(B)))",
      "text/latex": "$\\left(\\Delta_{A} \\otimes \\Delta_{B}\\right) \\cdot \\left(\\mathrm{id}_{A} \\otimes \\sigma_{A,B} \\otimes \\mathrm{id}_{B}\\right) : A \\otimes B \\to A \\otimes B \\otimes A \\otimes B$"
     },
     "metadata": {},
     "execution_count": 11
    }
   ],
   "cell_type": "code",
   "source": [
    "roundtrip_expr(expr)"
   ],
   "metadata": {},
   "execution_count": 11
  },
  {
   "outputs": [],
   "cell_type": "markdown",
   "source": [
    "The equation just witnessed,\n",
    "\n",
    "$$\n",
    "\\Delta_{A \\otimes B} = (\\Delta_A \\otimes \\Delta_B) \\cdot (1_A \\otimes \\sigma_{A,B} \\otimes 1_B),\n",
    "$$\n",
    "\n",
    "is one of the *coherence laws* for cartesian products\n",
    "([arXiv:0908.3347](https://arxiv.org/abs/0908.3347), Table 7). Another\n",
    "coherence law for products is\n",
    "\n",
    "$$\n",
    "\\lozenge_{A \\otimes B} = \\lozenge_A \\otimes \\lozenge_B.\n",
    "$$"
   ],
   "metadata": {}
  },
  {
   "outputs": [
    {
     "output_type": "execute_result",
     "data": {
      "text/plain": "delete(otimes(A,B))",
      "text/latex": "$\\lozenge_{A \\otimes B} : A \\otimes B \\to I$"
     },
     "metadata": {},
     "execution_count": 12
    }
   ],
   "cell_type": "code",
   "source": [
    "expr = delete(A ⊗ B)"
   ],
   "metadata": {},
   "execution_count": 12
  },
  {
   "outputs": [
    {
     "output_type": "execute_result",
     "data": {
      "text/plain": "otimes(delete(A),delete(B))",
      "text/latex": "$\\lozenge_{A} \\otimes \\lozenge_{B} : A \\otimes B \\to I$"
     },
     "metadata": {},
     "execution_count": 13
    }
   ],
   "cell_type": "code",
   "source": [
    "roundtrip_expr(expr)"
   ],
   "metadata": {},
   "execution_count": 13
  }
 ],
 "nbformat_minor": 3,
 "metadata": {
  "language_info": {
   "file_extension": ".jl",
   "mimetype": "application/julia",
   "name": "julia",
   "version": "1.2.0"
  },
  "kernelspec": {
   "name": "julia-1.2",
   "display_name": "Julia 1.2.0",
   "language": "julia"
  }
 },
 "nbformat": 4
}
