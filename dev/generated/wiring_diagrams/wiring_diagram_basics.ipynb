{
 "cells": [
  {
   "outputs": [],
   "cell_type": "markdown",
   "source": [
    "# Basics of wiring diagrams\n",
    "\n",
    "\n",
    "Using Catlab, you can create, manipulate, serialize, and visualize *wiring\n",
    "diagrams*, also known as [string\n",
    "diagrams](https://ncatlab.org/nlab/show/string+diagram). The flexible data\n",
    "structure for wiring diagrams allows arbitrary data to be attached to boxes,\n",
    "ports, and wires, and supports recursively nested diagrams.\n",
    "\n",
    "You can interact with wiring diagrams using two different progamming\n",
    "interfaces:\n",
    "\n",
    "1. **Categorical**: A high-level, functional interface expressed in terms of\n",
    "   categorical concepts, such as composition (`compose`), monoidal products\n",
    "   (`otimes`), duplication (`mcopy`), and deletion (`delete`).\n",
    "\n",
    "2. **Imperative**: A lower-level, mutating interface to directly manipulate\n",
    "   boxes, ports, and wires, via operations like adding boxes (`add_box`) and\n",
    "   wires (`add_wire`).\n",
    "\n",
    "In this notebook, we introduce both interfaces. We do not explicitly cover the\n",
    "visualization API, although for illustrative purposes we will draw wiring\n",
    "diagrams using Graphviz. Thus, you should install\n",
    "[Graphviz](https://www.graphviz.org/) if you wish to run this notebook."
   ],
   "metadata": {}
  },
  {
   "outputs": [
    {
     "output_type": "execute_result",
     "data": {
      "text/plain": "show_diagram (generic function with 1 method)"
     },
     "metadata": {},
     "execution_count": 1
    }
   ],
   "cell_type": "code",
   "source": [
    "using Catlab.WiringDiagrams\n",
    "\n",
    "using Catlab.Graphics\n",
    "import Catlab.Graphics: Graphviz\n",
    "\n",
    "show_diagram(d::WiringDiagram) = to_graphviz(d,\n",
    "  orientation=LeftToRight,\n",
    "  labels=true, label_attr=:xlabel,\n",
    "  node_attrs=Graphviz.Attributes(\n",
    "    :fontname => \"Courier\",\n",
    "  ),\n",
    "  edge_attrs=Graphviz.Attributes(\n",
    "    :fontname => \"Courier\",\n",
    "  )\n",
    ")"
   ],
   "metadata": {},
   "execution_count": 1
  },
  {
   "outputs": [],
   "cell_type": "markdown",
   "source": [
    "## Data structures\n",
    "\n",
    "The basic building blocks of a wiring diagram are boxes, ports, and wires. The\n",
    "top-level data structure is `WiringDiagram`, defined in the module\n",
    "`Catlab.WiringDiagrams`. A wiring diagram consists of boxes (usually of type\n",
    "`Box`) connected by wires (of type `Wire`). Each box has a sequence of input\n",
    "ports and a sequence of output ports, as does the wiring diagram itself. The\n",
    "wires have sources and targets, both of which consist of a box and a port on\n",
    "that box.\n",
    "\n",
    "The boxes in a wiring diagram are indexed by integer IDs. Boxes can be\n",
    "retrieved by ID, and wires refer to boxes using their IDs. Two special IDs,\n",
    "obtained by `input_id` and `output_id` methods, refer to the inputs and\n",
    "outputs of the diagram itself. In this way, wires can connect the (inner)\n",
    "boxes of a diagram to the diagram's \"outer box\".\n",
    "\n",
    "The `WiringDiagram` data structure is an elaborate wrapper around a directed\n",
    "graph from [LightGraphs.jl](https://github.com/JuliaGraphs/LightGraphs.jl).\n",
    "The underlying `DiGraph` object can be accessed using the `graph` method. The\n",
    "vertices of this graph are exactly the box IDs. The graph should never be\n",
    "mutated directly, on pain of creating inconsistent state, but it does allow\n",
    "convenient access to the large array of [graph\n",
    "algorithms](https://juliagraphs.github.io/LightGraphs.jl/latest/) supported by\n",
    "LightGraphs.\n",
    "\n",
    "All this is somewhat abstract but should become clearer as we see concrete\n",
    "examples."
   ],
   "metadata": {}
  },
  {
   "outputs": [],
   "cell_type": "markdown",
   "source": [
    "## Categorical interface\n",
    "\n",
    "In this example, the wiring diagrams will carry symbolic expressions (of type\n",
    "`Catlab.ObExpr` and `Catlab.HomExpr`)."
   ],
   "metadata": {}
  },
  {
   "outputs": [
    {
     "output_type": "execute_result",
     "data": {
      "text/plain": "f",
      "text/latex": "$f : A \\to B$"
     },
     "metadata": {},
     "execution_count": 2
    }
   ],
   "cell_type": "code",
   "source": [
    "using Catlab.Doctrines\n",
    "\n",
    "A, B, C, D = Ob(FreeBiproductCategory, :A, :B, :C, :D)\n",
    "f = Hom(:f, A, B)\n",
    "g = Hom(:g, B, C)\n",
    "h = Hom(:h, C, D)\n",
    "\n",
    "f"
   ],
   "metadata": {},
   "execution_count": 2
  },
  {
   "outputs": [],
   "cell_type": "markdown",
   "source": [
    "### Generators\n",
    "\n",
    "Convert each of the morphism generators into a diagram with a single box."
   ],
   "metadata": {}
  },
  {
   "outputs": [
    {
     "output_type": "execute_result",
     "data": {
      "text/plain": "WiringDiagram{Catlab.Doctrines.BiproductCategory.Hom}([:A], [:B], \n[ 1 => {inputs},\n  2 => {outputs},\n  3 => Box(:f, [:A], [:B]) ],\n[ Wire((1,1) => (3,1)),\n  Wire((3,1) => (2,1)) ])"
     },
     "metadata": {},
     "execution_count": 3
    }
   ],
   "cell_type": "code",
   "source": [
    "f, g, h = to_wiring_diagram(f), to_wiring_diagram(g), to_wiring_diagram(h)\n",
    "f"
   ],
   "metadata": {},
   "execution_count": 3
  },
  {
   "outputs": [
    {
     "output_type": "execute_result",
     "data": {
      "text/plain": "Catlab.Graphics.Graphviz.Graph(\"G\", true, Catlab.Graphics.Graphviz.Statement[Catlab.Graphics.Graphviz.Subgraph(\"\", Catlab.Graphics.Graphviz.Statement[Catlab.Graphics.Graphviz.Node(\"n1p1\", OrderedCollections.OrderedDict{Symbol,Union{String, Catlab.Graphics.Graphviz.Html}}(:id => \"in1\")), Catlab.Graphics.Graphviz.Edge(Catlab.Graphics.Graphviz.NodeID[Catlab.Graphics.Graphviz.NodeID(\"n1p1\", \"\", \"\")], OrderedCollections.OrderedDict{Symbol,Union{String, Catlab.Graphics.Graphviz.Html}}())], OrderedCollections.OrderedDict{Symbol,Union{String, Catlab.Graphics.Graphviz.Html}}(:rank => \"source\",:rankdir => \"TB\"), OrderedCollections.OrderedDict{Symbol,Union{String, Catlab.Graphics.Graphviz.Html}}(:style => \"invis\",:shape => \"none\",:label => \"\",:width => \"0.333\",:height => \"0\"), OrderedCollections.OrderedDict{Symbol,Union{String, Catlab.Graphics.Graphviz.Html}}(:style => \"invis\")), Catlab.Graphics.Graphviz.Subgraph(\"\", Catlab.Graphics.Graphviz.Statement[Catlab.Graphics.Graphviz.Node(\"n2p1\", OrderedCollections.OrderedDict{Symbol,Union{String, Catlab.Graphics.Graphviz.Html}}(:id => \"out1\")), Catlab.Graphics.Graphviz.Edge(Catlab.Graphics.Graphviz.NodeID[Catlab.Graphics.Graphviz.NodeID(\"n2p1\", \"\", \"\")], OrderedCollections.OrderedDict{Symbol,Union{String, Catlab.Graphics.Graphviz.Html}}())], OrderedCollections.OrderedDict{Symbol,Union{String, Catlab.Graphics.Graphviz.Html}}(:rank => \"sink\",:rankdir => \"TB\"), OrderedCollections.OrderedDict{Symbol,Union{String, Catlab.Graphics.Graphviz.Html}}(:style => \"invis\",:shape => \"none\",:label => \"\",:width => \"0.333\",:height => \"0\"), OrderedCollections.OrderedDict{Symbol,Union{String, Catlab.Graphics.Graphviz.Html}}(:style => \"invis\")), Catlab.Graphics.Graphviz.Node(\"n3\", OrderedCollections.OrderedDict{Symbol,Union{String, Catlab.Graphics.Graphviz.Html}}(:comment => \"f\",:id => \"n3\",:label => Catlab.Graphics.Graphviz.Html(\"<TABLE BORDER=\\\"0\\\" CELLPADDING=\\\"0\\\" CELLSPACING=\\\"0\\\">\\n<TR>\\n<TD><TABLE BORDER=\\\"0\\\" CELLPADDING=\\\"0\\\" CELLSPACING=\\\"0\\\"><TR><TD HEIGHT=\\\"24\\\" WIDTH=\\\"0\\\" PORT=\\\"in1\\\"></TD></TR></TABLE></TD>\\n<TD BORDER=\\\"1\\\" CELLPADDING=\\\"4\\\">f</TD>\\n<TD><TABLE BORDER=\\\"0\\\" CELLPADDING=\\\"0\\\" CELLSPACING=\\\"0\\\"><TR><TD HEIGHT=\\\"24\\\" WIDTH=\\\"0\\\" PORT=\\\"out1\\\"></TD></TR></TABLE></TD>\\n</TR>\\n</TABLE>\"))), Catlab.Graphics.Graphviz.Edge(Catlab.Graphics.Graphviz.NodeID[Catlab.Graphics.Graphviz.NodeID(\"n1p1\", \"e\", \"\"), Catlab.Graphics.Graphviz.NodeID(\"n3\", \"in1\", \"w\")], OrderedCollections.OrderedDict{Symbol,Union{String, Catlab.Graphics.Graphviz.Html}}(:comment => \"A\",:id => \"e1\",:xlabel => \"A\")), Catlab.Graphics.Graphviz.Edge(Catlab.Graphics.Graphviz.NodeID[Catlab.Graphics.Graphviz.NodeID(\"n3\", \"out1\", \"e\"), Catlab.Graphics.Graphviz.NodeID(\"n2p1\", \"w\", \"\")], OrderedCollections.OrderedDict{Symbol,Union{String, Catlab.Graphics.Graphviz.Html}}(:comment => \"B\",:id => \"e2\",:xlabel => \"B\"))], OrderedCollections.OrderedDict{Symbol,Union{String, Catlab.Graphics.Graphviz.Html}}(:fontname => \"Serif\",:rankdir => \"LR\"), OrderedCollections.OrderedDict{Symbol,Union{String, Catlab.Graphics.Graphviz.Html}}(:fontname => \"Courier\",:shape => \"none\",:width => \"0\",:height => \"0\",:margin => \"0\"), OrderedCollections.OrderedDict{Symbol,Union{String, Catlab.Graphics.Graphviz.Html}}(:arrowsize => \"0.5\",:fontname => \"Courier\"))",
      "image/svg+xml": [
       "<?xml version=\"1.0\" encoding=\"UTF-8\" standalone=\"no\"?>\n",
       "<!DOCTYPE svg PUBLIC \"-//W3C//DTD SVG 1.1//EN\"\n",
       " \"http://www.w3.org/Graphics/SVG/1.1/DTD/svg11.dtd\">\n",
       "<!-- Generated by graphviz version 2.40.1 (20161225.0304)\n",
       " -->\n",
       "<!-- Title: G Pages: 1 -->\n",
       "<svg width=\"147pt\" height=\"37pt\"\n",
       " viewBox=\"0.00 0.00 147.00 36.50\" xmlns=\"http://www.w3.org/2000/svg\" xmlns:xlink=\"http://www.w3.org/1999/xlink\">\n",
       "<g id=\"graph0\" class=\"graph\" transform=\"scale(1 1) rotate(0) translate(4 32.5)\">\n",
       "<title>G</title>\n",
       "<polygon fill=\"#ffffff\" stroke=\"transparent\" points=\"-4,4 -4,-32.5 143,-32.5 143,4 -4,4\"/>\n",
       "<!-- n1p1 -->\n",
       "<!-- n3 -->\n",
       "<!-- f -->\n",
       "<g id=\"n3\" class=\"node\">\n",
       "<title>n3</title>\n",
       "<polygon fill=\"none\" stroke=\"#000000\" points=\"60.5,-3 60.5,-28 79.5,-28 79.5,-3 60.5,-3\"/>\n",
       "<text text-anchor=\"start\" x=\"65.5\" y=\"-11.8\" font-family=\"Courier,monospace\" font-size=\"14.00\" fill=\"#000000\">f</text>\n",
       "</g>\n",
       "<!-- n1p1&#45;&gt;n3 -->\n",
       "<!-- A -->\n",
       "<g id=\"e1\" class=\"edge\">\n",
       "<title>n1p1:e&#45;&gt;n3:w</title>\n",
       "<path fill=\"none\" stroke=\"#000000\" d=\"M24,-15C38.3212,-15 43.1602,-15 55.259,-15\"/>\n",
       "<polygon fill=\"#000000\" stroke=\"#000000\" points=\"55.5,-16.7501 60.5,-15 55.5,-13.2501 55.5,-16.7501\"/>\n",
       "<text text-anchor=\"middle\" x=\"37.646\" y=\"-3.8\" font-family=\"Courier,monospace\" font-size=\"14.00\" fill=\"#000000\">A</text>\n",
       "</g>\n",
       "<!-- n2p1 -->\n",
       "<!-- n3&#45;&gt;n2p1 -->\n",
       "<!-- B -->\n",
       "<g id=\"e2\" class=\"edge\">\n",
       "<title>n3:e&#45;&gt;n2p1:w</title>\n",
       "<path fill=\"none\" stroke=\"#000000\" d=\"M79,-15C93.125,-15 97.8977,-15 109.8308,-15\"/>\n",
       "<polygon fill=\"#000000\" stroke=\"#000000\" points=\"110,-16.7501 115,-15 110,-13.2501 110,-16.7501\"/>\n",
       "<text text-anchor=\"middle\" x=\"92.3975\" y=\"-3.8\" font-family=\"Courier,monospace\" font-size=\"14.00\" fill=\"#000000\">B</text>\n",
       "</g>\n",
       "</g>\n",
       "</svg>\n",
       "\n"
      ]
     },
     "metadata": {},
     "execution_count": 4
    }
   ],
   "cell_type": "code",
   "source": [
    "show_diagram(f)"
   ],
   "metadata": {},
   "execution_count": 4
  },
  {
   "outputs": [],
   "cell_type": "markdown",
   "source": [
    "### Composition"
   ],
   "metadata": {}
  },
  {
   "outputs": [
    {
     "output_type": "execute_result",
     "data": {
      "text/plain": "WiringDiagram{Catlab.Doctrines.BiproductCategory.Hom}([:A], [:C], \n[ 1 => {inputs},\n  2 => {outputs},\n  3 => Box(:f, [:A], [:B]),\n  4 => Box(:g, [:B], [:C]) ],\n[ Wire((1,1) => (3,1)),\n  Wire((3,1) => (4,1)),\n  Wire((4,1) => (2,1)) ])"
     },
     "metadata": {},
     "execution_count": 5
    }
   ],
   "cell_type": "code",
   "source": [
    "compose(f,g)"
   ],
   "metadata": {},
   "execution_count": 5
  },
  {
   "outputs": [
    {
     "output_type": "execute_result",
     "data": {
      "text/plain": "Catlab.Graphics.Graphviz.Graph(\"G\", true, Catlab.Graphics.Graphviz.Statement[Catlab.Graphics.Graphviz.Subgraph(\"\", Catlab.Graphics.Graphviz.Statement[Catlab.Graphics.Graphviz.Node(\"n1p1\", OrderedCollections.OrderedDict{Symbol,Union{String, Catlab.Graphics.Graphviz.Html}}(:id => \"in1\")), Catlab.Graphics.Graphviz.Edge(Catlab.Graphics.Graphviz.NodeID[Catlab.Graphics.Graphviz.NodeID(\"n1p1\", \"\", \"\")], OrderedCollections.OrderedDict{Symbol,Union{String, Catlab.Graphics.Graphviz.Html}}())], OrderedCollections.OrderedDict{Symbol,Union{String, Catlab.Graphics.Graphviz.Html}}(:rank => \"source\",:rankdir => \"TB\"), OrderedCollections.OrderedDict{Symbol,Union{String, Catlab.Graphics.Graphviz.Html}}(:style => \"invis\",:shape => \"none\",:label => \"\",:width => \"0.333\",:height => \"0\"), OrderedCollections.OrderedDict{Symbol,Union{String, Catlab.Graphics.Graphviz.Html}}(:style => \"invis\")), Catlab.Graphics.Graphviz.Subgraph(\"\", Catlab.Graphics.Graphviz.Statement[Catlab.Graphics.Graphviz.Node(\"n2p1\", OrderedCollections.OrderedDict{Symbol,Union{String, Catlab.Graphics.Graphviz.Html}}(:id => \"out1\")), Catlab.Graphics.Graphviz.Edge(Catlab.Graphics.Graphviz.NodeID[Catlab.Graphics.Graphviz.NodeID(\"n2p1\", \"\", \"\")], OrderedCollections.OrderedDict{Symbol,Union{String, Catlab.Graphics.Graphviz.Html}}())], OrderedCollections.OrderedDict{Symbol,Union{String, Catlab.Graphics.Graphviz.Html}}(:rank => \"sink\",:rankdir => \"TB\"), OrderedCollections.OrderedDict{Symbol,Union{String, Catlab.Graphics.Graphviz.Html}}(:style => \"invis\",:shape => \"none\",:label => \"\",:width => \"0.333\",:height => \"0\"), OrderedCollections.OrderedDict{Symbol,Union{String, Catlab.Graphics.Graphviz.Html}}(:style => \"invis\")), Catlab.Graphics.Graphviz.Node(\"n3\", OrderedCollections.OrderedDict{Symbol,Union{String, Catlab.Graphics.Graphviz.Html}}(:comment => \"f\",:id => \"n3\",:label => Catlab.Graphics.Graphviz.Html(\"<TABLE BORDER=\\\"0\\\" CELLPADDING=\\\"0\\\" CELLSPACING=\\\"0\\\">\\n<TR>\\n<TD><TABLE BORDER=\\\"0\\\" CELLPADDING=\\\"0\\\" CELLSPACING=\\\"0\\\"><TR><TD HEIGHT=\\\"24\\\" WIDTH=\\\"0\\\" PORT=\\\"in1\\\"></TD></TR></TABLE></TD>\\n<TD BORDER=\\\"1\\\" CELLPADDING=\\\"4\\\">f</TD>\\n<TD><TABLE BORDER=\\\"0\\\" CELLPADDING=\\\"0\\\" CELLSPACING=\\\"0\\\"><TR><TD HEIGHT=\\\"24\\\" WIDTH=\\\"0\\\" PORT=\\\"out1\\\"></TD></TR></TABLE></TD>\\n</TR>\\n</TABLE>\"))), Catlab.Graphics.Graphviz.Node(\"n4\", OrderedCollections.OrderedDict{Symbol,Union{String, Catlab.Graphics.Graphviz.Html}}(:comment => \"g\",:id => \"n4\",:label => Catlab.Graphics.Graphviz.Html(\"<TABLE BORDER=\\\"0\\\" CELLPADDING=\\\"0\\\" CELLSPACING=\\\"0\\\">\\n<TR>\\n<TD><TABLE BORDER=\\\"0\\\" CELLPADDING=\\\"0\\\" CELLSPACING=\\\"0\\\"><TR><TD HEIGHT=\\\"24\\\" WIDTH=\\\"0\\\" PORT=\\\"in1\\\"></TD></TR></TABLE></TD>\\n<TD BORDER=\\\"1\\\" CELLPADDING=\\\"4\\\">g</TD>\\n<TD><TABLE BORDER=\\\"0\\\" CELLPADDING=\\\"0\\\" CELLSPACING=\\\"0\\\"><TR><TD HEIGHT=\\\"24\\\" WIDTH=\\\"0\\\" PORT=\\\"out1\\\"></TD></TR></TABLE></TD>\\n</TR>\\n</TABLE>\"))), Catlab.Graphics.Graphviz.Edge(Catlab.Graphics.Graphviz.NodeID[Catlab.Graphics.Graphviz.NodeID(\"n1p1\", \"e\", \"\"), Catlab.Graphics.Graphviz.NodeID(\"n3\", \"in1\", \"w\")], OrderedCollections.OrderedDict{Symbol,Union{String, Catlab.Graphics.Graphviz.Html}}(:comment => \"A\",:id => \"e1\",:xlabel => \"A\")), Catlab.Graphics.Graphviz.Edge(Catlab.Graphics.Graphviz.NodeID[Catlab.Graphics.Graphviz.NodeID(\"n3\", \"out1\", \"e\"), Catlab.Graphics.Graphviz.NodeID(\"n4\", \"in1\", \"w\")], OrderedCollections.OrderedDict{Symbol,Union{String, Catlab.Graphics.Graphviz.Html}}(:comment => \"B\",:id => \"e2\",:xlabel => \"B\")), Catlab.Graphics.Graphviz.Edge(Catlab.Graphics.Graphviz.NodeID[Catlab.Graphics.Graphviz.NodeID(\"n4\", \"out1\", \"e\"), Catlab.Graphics.Graphviz.NodeID(\"n2p1\", \"w\", \"\")], OrderedCollections.OrderedDict{Symbol,Union{String, Catlab.Graphics.Graphviz.Html}}(:comment => \"C\",:id => \"e3\",:xlabel => \"C\"))], OrderedCollections.OrderedDict{Symbol,Union{String, Catlab.Graphics.Graphviz.Html}}(:fontname => \"Serif\",:rankdir => \"LR\"), OrderedCollections.OrderedDict{Symbol,Union{String, Catlab.Graphics.Graphviz.Html}}(:fontname => \"Courier\",:shape => \"none\",:width => \"0\",:height => \"0\",:margin => \"0\"), OrderedCollections.OrderedDict{Symbol,Union{String, Catlab.Graphics.Graphviz.Html}}(:arrowsize => \"0.5\",:fontname => \"Courier\"))",
      "image/svg+xml": [
       "<?xml version=\"1.0\" encoding=\"UTF-8\" standalone=\"no\"?>\n",
       "<!DOCTYPE svg PUBLIC \"-//W3C//DTD SVG 1.1//EN\"\n",
       " \"http://www.w3.org/Graphics/SVG/1.1/DTD/svg11.dtd\">\n",
       "<!-- Generated by graphviz version 2.40.1 (20161225.0304)\n",
       " -->\n",
       "<!-- Title: G Pages: 1 -->\n",
       "<svg width=\"202pt\" height=\"37pt\"\n",
       " viewBox=\"0.00 0.00 202.00 36.50\" xmlns=\"http://www.w3.org/2000/svg\" xmlns:xlink=\"http://www.w3.org/1999/xlink\">\n",
       "<g id=\"graph0\" class=\"graph\" transform=\"scale(1 1) rotate(0) translate(4 32.5)\">\n",
       "<title>G</title>\n",
       "<polygon fill=\"#ffffff\" stroke=\"transparent\" points=\"-4,4 -4,-32.5 198,-32.5 198,4 -4,4\"/>\n",
       "<!-- n1p1 -->\n",
       "<!-- n3 -->\n",
       "<!-- f -->\n",
       "<g id=\"n3\" class=\"node\">\n",
       "<title>n3</title>\n",
       "<polygon fill=\"none\" stroke=\"#000000\" points=\"60.5,-3 60.5,-28 79.5,-28 79.5,-3 60.5,-3\"/>\n",
       "<text text-anchor=\"start\" x=\"65.5\" y=\"-11.8\" font-family=\"Courier,monospace\" font-size=\"14.00\" fill=\"#000000\">f</text>\n",
       "</g>\n",
       "<!-- n1p1&#45;&gt;n3 -->\n",
       "<!-- A -->\n",
       "<g id=\"e1\" class=\"edge\">\n",
       "<title>n1p1:e&#45;&gt;n3:w</title>\n",
       "<path fill=\"none\" stroke=\"#000000\" d=\"M24,-15C38.3212,-15 43.1602,-15 55.259,-15\"/>\n",
       "<polygon fill=\"#000000\" stroke=\"#000000\" points=\"55.5,-16.7501 60.5,-15 55.5,-13.2501 55.5,-16.7501\"/>\n",
       "<text text-anchor=\"middle\" x=\"37.646\" y=\"-3.8\" font-family=\"Courier,monospace\" font-size=\"14.00\" fill=\"#000000\">A</text>\n",
       "</g>\n",
       "<!-- n2p1 -->\n",
       "<!-- n4 -->\n",
       "<!-- g -->\n",
       "<g id=\"n4\" class=\"node\">\n",
       "<title>n4</title>\n",
       "<polygon fill=\"none\" stroke=\"#000000\" points=\"115.5,-3 115.5,-28 134.5,-28 134.5,-3 115.5,-3\"/>\n",
       "<text text-anchor=\"start\" x=\"120.5\" y=\"-11.8\" font-family=\"Courier,monospace\" font-size=\"14.00\" fill=\"#000000\">g</text>\n",
       "</g>\n",
       "<!-- n3&#45;&gt;n4 -->\n",
       "<!-- B -->\n",
       "<g id=\"e2\" class=\"edge\">\n",
       "<title>n3:e&#45;&gt;n4:w</title>\n",
       "<path fill=\"none\" stroke=\"#000000\" d=\"M79,-15C93.3212,-15 98.1602,-15 110.259,-15\"/>\n",
       "<polygon fill=\"#000000\" stroke=\"#000000\" points=\"110.5,-16.7501 115.5,-15 110.5,-13.2501 110.5,-16.7501\"/>\n",
       "<text text-anchor=\"middle\" x=\"92.646\" y=\"-3.8\" font-family=\"Courier,monospace\" font-size=\"14.00\" fill=\"#000000\">B</text>\n",
       "</g>\n",
       "<!-- n4&#45;&gt;n2p1 -->\n",
       "<!-- C -->\n",
       "<g id=\"e3\" class=\"edge\">\n",
       "<title>n4:e&#45;&gt;n2p1:w</title>\n",
       "<path fill=\"none\" stroke=\"#000000\" d=\"M134,-15C148.125,-15 152.8977,-15 164.8308,-15\"/>\n",
       "<polygon fill=\"#000000\" stroke=\"#000000\" points=\"165,-16.7501 170,-15 165,-13.2501 165,-16.7501\"/>\n",
       "<text text-anchor=\"middle\" x=\"147.3975\" y=\"-3.8\" font-family=\"Courier,monospace\" font-size=\"14.00\" fill=\"#000000\">C</text>\n",
       "</g>\n",
       "</g>\n",
       "</svg>\n",
       "\n"
      ]
     },
     "metadata": {},
     "execution_count": 6
    }
   ],
   "cell_type": "code",
   "source": [
    "show_diagram(compose(f,g))"
   ],
   "metadata": {},
   "execution_count": 6
  },
  {
   "outputs": [],
   "cell_type": "markdown",
   "source": [
    "### Monoidal products"
   ],
   "metadata": {}
  },
  {
   "outputs": [
    {
     "output_type": "execute_result",
     "data": {
      "text/plain": "WiringDiagram{Catlab.Doctrines.BiproductCategory.Hom}([:A,:C], [:B,:D], \n[ 1 => {inputs},\n  2 => {outputs},\n  3 => Box(:f, [:A], [:B]),\n  4 => Box(:h, [:C], [:D]) ],\n[ Wire((1,1) => (3,1)),\n  Wire((1,2) => (4,1)),\n  Wire((3,1) => (2,1)),\n  Wire((4,1) => (2,2)) ])"
     },
     "metadata": {},
     "execution_count": 7
    }
   ],
   "cell_type": "code",
   "source": [
    "otimes(f,h)"
   ],
   "metadata": {},
   "execution_count": 7
  },
  {
   "outputs": [
    {
     "output_type": "execute_result",
     "data": {
      "text/plain": "Catlab.Graphics.Graphviz.Graph(\"G\", true, Catlab.Graphics.Graphviz.Statement[Catlab.Graphics.Graphviz.Subgraph(\"\", Catlab.Graphics.Graphviz.Statement[Catlab.Graphics.Graphviz.Node(\"n1p1\", OrderedCollections.OrderedDict{Symbol,Union{String, Catlab.Graphics.Graphviz.Html}}(:id => \"in1\")), Catlab.Graphics.Graphviz.Node(\"n1p2\", OrderedCollections.OrderedDict{Symbol,Union{String, Catlab.Graphics.Graphviz.Html}}(:id => \"in2\")), Catlab.Graphics.Graphviz.Edge(Catlab.Graphics.Graphviz.NodeID[Catlab.Graphics.Graphviz.NodeID(\"n1p1\", \"\", \"\"), Catlab.Graphics.Graphviz.NodeID(\"n1p2\", \"\", \"\")], OrderedCollections.OrderedDict{Symbol,Union{String, Catlab.Graphics.Graphviz.Html}}())], OrderedCollections.OrderedDict{Symbol,Union{String, Catlab.Graphics.Graphviz.Html}}(:rank => \"source\",:rankdir => \"TB\"), OrderedCollections.OrderedDict{Symbol,Union{String, Catlab.Graphics.Graphviz.Html}}(:style => \"invis\",:shape => \"none\",:label => \"\",:width => \"0.333\",:height => \"0\"), OrderedCollections.OrderedDict{Symbol,Union{String, Catlab.Graphics.Graphviz.Html}}(:style => \"invis\")), Catlab.Graphics.Graphviz.Subgraph(\"\", Catlab.Graphics.Graphviz.Statement[Catlab.Graphics.Graphviz.Node(\"n2p1\", OrderedCollections.OrderedDict{Symbol,Union{String, Catlab.Graphics.Graphviz.Html}}(:id => \"out1\")), Catlab.Graphics.Graphviz.Node(\"n2p2\", OrderedCollections.OrderedDict{Symbol,Union{String, Catlab.Graphics.Graphviz.Html}}(:id => \"out2\")), Catlab.Graphics.Graphviz.Edge(Catlab.Graphics.Graphviz.NodeID[Catlab.Graphics.Graphviz.NodeID(\"n2p1\", \"\", \"\"), Catlab.Graphics.Graphviz.NodeID(\"n2p2\", \"\", \"\")], OrderedCollections.OrderedDict{Symbol,Union{String, Catlab.Graphics.Graphviz.Html}}())], OrderedCollections.OrderedDict{Symbol,Union{String, Catlab.Graphics.Graphviz.Html}}(:rank => \"sink\",:rankdir => \"TB\"), OrderedCollections.OrderedDict{Symbol,Union{String, Catlab.Graphics.Graphviz.Html}}(:style => \"invis\",:shape => \"none\",:label => \"\",:width => \"0.333\",:height => \"0\"), OrderedCollections.OrderedDict{Symbol,Union{String, Catlab.Graphics.Graphviz.Html}}(:style => \"invis\")), Catlab.Graphics.Graphviz.Node(\"n3\", OrderedCollections.OrderedDict{Symbol,Union{String, Catlab.Graphics.Graphviz.Html}}(:comment => \"f\",:id => \"n3\",:label => Catlab.Graphics.Graphviz.Html(\"<TABLE BORDER=\\\"0\\\" CELLPADDING=\\\"0\\\" CELLSPACING=\\\"0\\\">\\n<TR>\\n<TD><TABLE BORDER=\\\"0\\\" CELLPADDING=\\\"0\\\" CELLSPACING=\\\"0\\\"><TR><TD HEIGHT=\\\"24\\\" WIDTH=\\\"0\\\" PORT=\\\"in1\\\"></TD></TR></TABLE></TD>\\n<TD BORDER=\\\"1\\\" CELLPADDING=\\\"4\\\">f</TD>\\n<TD><TABLE BORDER=\\\"0\\\" CELLPADDING=\\\"0\\\" CELLSPACING=\\\"0\\\"><TR><TD HEIGHT=\\\"24\\\" WIDTH=\\\"0\\\" PORT=\\\"out1\\\"></TD></TR></TABLE></TD>\\n</TR>\\n</TABLE>\"))), Catlab.Graphics.Graphviz.Node(\"n4\", OrderedCollections.OrderedDict{Symbol,Union{String, Catlab.Graphics.Graphviz.Html}}(:comment => \"h\",:id => \"n4\",:label => Catlab.Graphics.Graphviz.Html(\"<TABLE BORDER=\\\"0\\\" CELLPADDING=\\\"0\\\" CELLSPACING=\\\"0\\\">\\n<TR>\\n<TD><TABLE BORDER=\\\"0\\\" CELLPADDING=\\\"0\\\" CELLSPACING=\\\"0\\\"><TR><TD HEIGHT=\\\"24\\\" WIDTH=\\\"0\\\" PORT=\\\"in1\\\"></TD></TR></TABLE></TD>\\n<TD BORDER=\\\"1\\\" CELLPADDING=\\\"4\\\">h</TD>\\n<TD><TABLE BORDER=\\\"0\\\" CELLPADDING=\\\"0\\\" CELLSPACING=\\\"0\\\"><TR><TD HEIGHT=\\\"24\\\" WIDTH=\\\"0\\\" PORT=\\\"out1\\\"></TD></TR></TABLE></TD>\\n</TR>\\n</TABLE>\"))), Catlab.Graphics.Graphviz.Edge(Catlab.Graphics.Graphviz.NodeID[Catlab.Graphics.Graphviz.NodeID(\"n1p1\", \"e\", \"\"), Catlab.Graphics.Graphviz.NodeID(\"n3\", \"in1\", \"w\")], OrderedCollections.OrderedDict{Symbol,Union{String, Catlab.Graphics.Graphviz.Html}}(:comment => \"A\",:id => \"e1\",:xlabel => \"A\")), Catlab.Graphics.Graphviz.Edge(Catlab.Graphics.Graphviz.NodeID[Catlab.Graphics.Graphviz.NodeID(\"n1p2\", \"e\", \"\"), Catlab.Graphics.Graphviz.NodeID(\"n4\", \"in1\", \"w\")], OrderedCollections.OrderedDict{Symbol,Union{String, Catlab.Graphics.Graphviz.Html}}(:comment => \"C\",:id => \"e2\",:xlabel => \"C\")), Catlab.Graphics.Graphviz.Edge(Catlab.Graphics.Graphviz.NodeID[Catlab.Graphics.Graphviz.NodeID(\"n3\", \"out1\", \"e\"), Catlab.Graphics.Graphviz.NodeID(\"n2p1\", \"w\", \"\")], OrderedCollections.OrderedDict{Symbol,Union{String, Catlab.Graphics.Graphviz.Html}}(:comment => \"B\",:id => \"e3\",:xlabel => \"B\")), Catlab.Graphics.Graphviz.Edge(Catlab.Graphics.Graphviz.NodeID[Catlab.Graphics.Graphviz.NodeID(\"n4\", \"out1\", \"e\"), Catlab.Graphics.Graphviz.NodeID(\"n2p2\", \"w\", \"\")], OrderedCollections.OrderedDict{Symbol,Union{String, Catlab.Graphics.Graphviz.Html}}(:comment => \"D\",:id => \"e4\",:xlabel => \"D\"))], OrderedCollections.OrderedDict{Symbol,Union{String, Catlab.Graphics.Graphviz.Html}}(:fontname => \"Serif\",:rankdir => \"LR\"), OrderedCollections.OrderedDict{Symbol,Union{String, Catlab.Graphics.Graphviz.Html}}(:fontname => \"Courier\",:shape => \"none\",:width => \"0\",:height => \"0\",:margin => \"0\"), OrderedCollections.OrderedDict{Symbol,Union{String, Catlab.Graphics.Graphviz.Html}}(:arrowsize => \"0.5\",:fontname => \"Courier\"))",
      "image/svg+xml": [
       "<?xml version=\"1.0\" encoding=\"UTF-8\" standalone=\"no\"?>\n",
       "<!DOCTYPE svg PUBLIC \"-//W3C//DTD SVG 1.1//EN\"\n",
       " \"http://www.w3.org/Graphics/SVG/1.1/DTD/svg11.dtd\">\n",
       "<!-- Generated by graphviz version 2.40.1 (20161225.0304)\n",
       " -->\n",
       "<!-- Title: G Pages: 1 -->\n",
       "<svg width=\"147pt\" height=\"77pt\"\n",
       " viewBox=\"0.00 0.00 147.00 76.53\" xmlns=\"http://www.w3.org/2000/svg\" xmlns:xlink=\"http://www.w3.org/1999/xlink\">\n",
       "<g id=\"graph0\" class=\"graph\" transform=\"scale(1 1) rotate(0) translate(4 72.5308)\">\n",
       "<title>G</title>\n",
       "<polygon fill=\"#ffffff\" stroke=\"transparent\" points=\"-4,4 -4,-72.5308 143,-72.5308 143,4 -4,4\"/>\n",
       "<!-- n1p1 -->\n",
       "<!-- n1p2 -->\n",
       "<!-- n1p1&#45;&gt;n1p2 -->\n",
       "<!-- n3 -->\n",
       "<!-- f -->\n",
       "<g id=\"n3\" class=\"node\">\n",
       "<title>n3</title>\n",
       "<polygon fill=\"none\" stroke=\"#000000\" points=\"60.5,-43.0308 60.5,-68.0308 79.5,-68.0308 79.5,-43.0308 60.5,-43.0308\"/>\n",
       "<text text-anchor=\"start\" x=\"65.5\" y=\"-51.8308\" font-family=\"Courier,monospace\" font-size=\"14.00\" fill=\"#000000\">f</text>\n",
       "</g>\n",
       "<!-- n1p1&#45;&gt;n3 -->\n",
       "<!-- A -->\n",
       "<g id=\"e1\" class=\"edge\">\n",
       "<title>n1p1:e&#45;&gt;n3:w</title>\n",
       "<path fill=\"none\" stroke=\"#000000\" d=\"M24,-49.0308C38.5134,-49.0308 43.0355,-53.7069 55.2072,-54.8029\"/>\n",
       "<polygon fill=\"#000000\" stroke=\"#000000\" points=\"55.4293,-56.564 60.5,-55.0308 55.5799,-53.0672 55.4293,-56.564\"/>\n",
       "<text text-anchor=\"middle\" x=\"37.6472\" y=\"-40.8\" font-family=\"Courier,monospace\" font-size=\"14.00\" fill=\"#000000\">A</text>\n",
       "</g>\n",
       "<!-- n4 -->\n",
       "<!-- h -->\n",
       "<g id=\"n4\" class=\"node\">\n",
       "<title>n4</title>\n",
       "<polygon fill=\"none\" stroke=\"#000000\" points=\"60.5,-.0308 60.5,-25.0308 79.5,-25.0308 79.5,-.0308 60.5,-.0308\"/>\n",
       "<text text-anchor=\"start\" x=\"65.5\" y=\"-8.8308\" font-family=\"Courier,monospace\" font-size=\"14.00\" fill=\"#000000\">h</text>\n",
       "</g>\n",
       "<!-- n1p2&#45;&gt;n4 -->\n",
       "<!-- C -->\n",
       "<g id=\"e2\" class=\"edge\">\n",
       "<title>n1p2:e&#45;&gt;n4:w</title>\n",
       "<path fill=\"none\" stroke=\"#000000\" d=\"M24,-18.0308C38.5134,-18.0308 43.0355,-13.3546 55.2072,-12.2586\"/>\n",
       "<polygon fill=\"#000000\" stroke=\"#000000\" points=\"55.5799,-13.9943 60.5,-12.0308 55.4293,-10.4975 55.5799,-13.9943\"/>\n",
       "<text text-anchor=\"middle\" x=\"37.6472\" y=\"-3.8615\" font-family=\"Courier,monospace\" font-size=\"14.00\" fill=\"#000000\">C</text>\n",
       "</g>\n",
       "<!-- n2p1 -->\n",
       "<!-- n2p2 -->\n",
       "<!-- n2p1&#45;&gt;n2p2 -->\n",
       "<!-- n3&#45;&gt;n2p1 -->\n",
       "<!-- B -->\n",
       "<g id=\"e3\" class=\"edge\">\n",
       "<title>n3:e&#45;&gt;n2p1:w</title>\n",
       "<path fill=\"none\" stroke=\"#000000\" d=\"M79,-55.0308C93.3198,-55.0308 97.7714,-50.3546 109.7783,-49.2586\"/>\n",
       "<polygon fill=\"#000000\" stroke=\"#000000\" points=\"110.0811,-50.9972 115,-49.0308 109.9284,-47.5005 110.0811,-50.9972\"/>\n",
       "<text text-anchor=\"middle\" x=\"92.3986\" y=\"-40.8615\" font-family=\"Courier,monospace\" font-size=\"14.00\" fill=\"#000000\">B</text>\n",
       "</g>\n",
       "<!-- n4&#45;&gt;n2p2 -->\n",
       "<!-- D -->\n",
       "<g id=\"e4\" class=\"edge\">\n",
       "<title>n4:e&#45;&gt;n2p2:w</title>\n",
       "<path fill=\"none\" stroke=\"#000000\" d=\"M79,-12.0308C93.3198,-12.0308 97.7714,-16.7069 109.7783,-17.8029\"/>\n",
       "<polygon fill=\"#000000\" stroke=\"#000000\" points=\"109.9284,-19.561 115,-18.0308 110.0811,-16.0643 109.9284,-19.561\"/>\n",
       "<text text-anchor=\"middle\" x=\"92.3986\" y=\"-3.8\" font-family=\"Courier,monospace\" font-size=\"14.00\" fill=\"#000000\">D</text>\n",
       "</g>\n",
       "</g>\n",
       "</svg>\n",
       "\n"
      ]
     },
     "metadata": {},
     "execution_count": 8
    }
   ],
   "cell_type": "code",
   "source": [
    "show_diagram(otimes(f,h))"
   ],
   "metadata": {},
   "execution_count": 8
  },
  {
   "outputs": [],
   "cell_type": "markdown",
   "source": [
    "### Copy and merge, delete and create"
   ],
   "metadata": {}
  },
  {
   "outputs": [
    {
     "output_type": "execute_result",
     "data": {
      "text/plain": "WiringDiagram{Catlab.Doctrines.BiproductCategory.Hom}([:B], [:B,:B], \n[ 1 => {inputs},\n  2 => {outputs},\n   ],\n[ Wire((1,1) => (2,1)),\n  Wire((1,1) => (2,2)) ])"
     },
     "metadata": {},
     "execution_count": 9
    }
   ],
   "cell_type": "code",
   "source": [
    "mcopy(codom(f),2)"
   ],
   "metadata": {},
   "execution_count": 9
  },
  {
   "outputs": [
    {
     "output_type": "execute_result",
     "data": {
      "text/plain": "Catlab.Graphics.Graphviz.Graph(\"G\", true, Catlab.Graphics.Graphviz.Statement[Catlab.Graphics.Graphviz.Subgraph(\"\", Catlab.Graphics.Graphviz.Statement[Catlab.Graphics.Graphviz.Node(\"n1p1\", OrderedCollections.OrderedDict{Symbol,Union{String, Catlab.Graphics.Graphviz.Html}}(:id => \"in1\")), Catlab.Graphics.Graphviz.Edge(Catlab.Graphics.Graphviz.NodeID[Catlab.Graphics.Graphviz.NodeID(\"n1p1\", \"\", \"\")], OrderedCollections.OrderedDict{Symbol,Union{String, Catlab.Graphics.Graphviz.Html}}())], OrderedCollections.OrderedDict{Symbol,Union{String, Catlab.Graphics.Graphviz.Html}}(:rank => \"source\",:rankdir => \"TB\"), OrderedCollections.OrderedDict{Symbol,Union{String, Catlab.Graphics.Graphviz.Html}}(:style => \"invis\",:shape => \"none\",:label => \"\",:width => \"0.333\",:height => \"0\"), OrderedCollections.OrderedDict{Symbol,Union{String, Catlab.Graphics.Graphviz.Html}}(:style => \"invis\")), Catlab.Graphics.Graphviz.Subgraph(\"\", Catlab.Graphics.Graphviz.Statement[Catlab.Graphics.Graphviz.Node(\"n2p1\", OrderedCollections.OrderedDict{Symbol,Union{String, Catlab.Graphics.Graphviz.Html}}(:id => \"out1\")), Catlab.Graphics.Graphviz.Node(\"n2p2\", OrderedCollections.OrderedDict{Symbol,Union{String, Catlab.Graphics.Graphviz.Html}}(:id => \"out2\")), Catlab.Graphics.Graphviz.Edge(Catlab.Graphics.Graphviz.NodeID[Catlab.Graphics.Graphviz.NodeID(\"n2p1\", \"\", \"\"), Catlab.Graphics.Graphviz.NodeID(\"n2p2\", \"\", \"\")], OrderedCollections.OrderedDict{Symbol,Union{String, Catlab.Graphics.Graphviz.Html}}())], OrderedCollections.OrderedDict{Symbol,Union{String, Catlab.Graphics.Graphviz.Html}}(:rank => \"sink\",:rankdir => \"TB\"), OrderedCollections.OrderedDict{Symbol,Union{String, Catlab.Graphics.Graphviz.Html}}(:style => \"invis\",:shape => \"none\",:label => \"\",:width => \"0.333\",:height => \"0\"), OrderedCollections.OrderedDict{Symbol,Union{String, Catlab.Graphics.Graphviz.Html}}(:style => \"invis\")), Catlab.Graphics.Graphviz.Edge(Catlab.Graphics.Graphviz.NodeID[Catlab.Graphics.Graphviz.NodeID(\"n1p1\", \"e\", \"\"), Catlab.Graphics.Graphviz.NodeID(\"n2p1\", \"w\", \"\")], OrderedCollections.OrderedDict{Symbol,Union{String, Catlab.Graphics.Graphviz.Html}}(:comment => \"B\",:id => \"e1\",:xlabel => \"B\")), Catlab.Graphics.Graphviz.Edge(Catlab.Graphics.Graphviz.NodeID[Catlab.Graphics.Graphviz.NodeID(\"n1p1\", \"e\", \"\"), Catlab.Graphics.Graphviz.NodeID(\"n2p2\", \"w\", \"\")], OrderedCollections.OrderedDict{Symbol,Union{String, Catlab.Graphics.Graphviz.Html}}(:comment => \"B\",:id => \"e2\",:xlabel => \"B\"))], OrderedCollections.OrderedDict{Symbol,Union{String, Catlab.Graphics.Graphviz.Html}}(:fontname => \"Serif\",:rankdir => \"LR\"), OrderedCollections.OrderedDict{Symbol,Union{String, Catlab.Graphics.Graphviz.Html}}(:fontname => \"Courier\",:shape => \"none\",:width => \"0\",:height => \"0\",:margin => \"0\"), OrderedCollections.OrderedDict{Symbol,Union{String, Catlab.Graphics.Graphviz.Html}}(:arrowsize => \"0.5\",:fontname => \"Courier\"))",
      "image/svg+xml": [
       "<?xml version=\"1.0\" encoding=\"UTF-8\" standalone=\"no\"?>\n",
       "<!DOCTYPE svg PUBLIC \"-//W3C//DTD SVG 1.1//EN\"\n",
       " \"http://www.w3.org/Graphics/SVG/1.1/DTD/svg11.dtd\">\n",
       "<!-- Generated by graphviz version 2.40.1 (20161225.0304)\n",
       " -->\n",
       "<!-- Title: G Pages: 1 -->\n",
       "<svg width=\"92pt\" height=\"38pt\"\n",
       " viewBox=\"0.00 0.00 92.00 37.95\" xmlns=\"http://www.w3.org/2000/svg\" xmlns:xlink=\"http://www.w3.org/1999/xlink\">\n",
       "<g id=\"graph0\" class=\"graph\" transform=\"scale(1 1) rotate(0) translate(4 33.9539)\">\n",
       "<title>G</title>\n",
       "<polygon fill=\"#ffffff\" stroke=\"transparent\" points=\"-4,4 -4,-33.9539 88,-33.9539 88,4 -4,4\"/>\n",
       "<!-- n1p1 -->\n",
       "<!-- n2p1 -->\n",
       "<!-- n1p1&#45;&gt;n2p1 -->\n",
       "<!-- B -->\n",
       "<g id=\"e1\" class=\"edge\">\n",
       "<title>n1p1:e&#45;&gt;n2p1:w</title>\n",
       "<path fill=\"none\" stroke=\"#000000\" d=\"M24,-19.4539C38.7896,-19.4539 42.6189,-27.386 55.0109,-29.1211\"/>\n",
       "<polygon fill=\"#000000\" stroke=\"#000000\" points=\"54.8946,-30.8672 60,-29.4539 55.1276,-27.3749 54.8946,-30.8672\"/>\n",
       "<text text-anchor=\"middle\" x=\"46.5284\" y=\"-13.2685\" font-family=\"Courier,monospace\" font-size=\"14.00\" fill=\"#000000\">B</text>\n",
       "</g>\n",
       "<!-- n2p2 -->\n",
       "<!-- n1p1&#45;&gt;n2p2 -->\n",
       "<!-- B -->\n",
       "<g id=\"e2\" class=\"edge\">\n",
       "<title>n1p1:e&#45;&gt;n2p2:w</title>\n",
       "<path fill=\"none\" stroke=\"#000000\" d=\"M24,-19.4539C38.5597,-19.4539 42.6158,-12.4396 54.7138,-10.7957\"/>\n",
       "<polygon fill=\"#000000\" stroke=\"#000000\" points=\"55.1234,-12.5229 60,-10.4539 54.8975,-9.0302 55.1234,-12.5229\"/>\n",
       "<text text-anchor=\"middle\" x=\"37.4\" y=\"-3.8\" font-family=\"Courier,monospace\" font-size=\"14.00\" fill=\"#000000\">B</text>\n",
       "</g>\n",
       "<!-- n2p1&#45;&gt;n2p2 -->\n",
       "</g>\n",
       "</svg>\n",
       "\n"
      ]
     },
     "metadata": {},
     "execution_count": 10
    }
   ],
   "cell_type": "code",
   "source": [
    "show_diagram(mcopy(codom(f),2))"
   ],
   "metadata": {},
   "execution_count": 10
  },
  {
   "outputs": [
    {
     "output_type": "execute_result",
     "data": {
      "text/plain": "Catlab.Graphics.Graphviz.Graph(\"G\", true, Catlab.Graphics.Graphviz.Statement[Catlab.Graphics.Graphviz.Subgraph(\"\", Catlab.Graphics.Graphviz.Statement[Catlab.Graphics.Graphviz.Node(\"n1p1\", OrderedCollections.OrderedDict{Symbol,Union{String, Catlab.Graphics.Graphviz.Html}}(:id => \"in1\")), Catlab.Graphics.Graphviz.Edge(Catlab.Graphics.Graphviz.NodeID[Catlab.Graphics.Graphviz.NodeID(\"n1p1\", \"\", \"\")], OrderedCollections.OrderedDict{Symbol,Union{String, Catlab.Graphics.Graphviz.Html}}())], OrderedCollections.OrderedDict{Symbol,Union{String, Catlab.Graphics.Graphviz.Html}}(:rank => \"source\",:rankdir => \"TB\"), OrderedCollections.OrderedDict{Symbol,Union{String, Catlab.Graphics.Graphviz.Html}}(:style => \"invis\",:shape => \"none\",:label => \"\",:width => \"0.333\",:height => \"0\"), OrderedCollections.OrderedDict{Symbol,Union{String, Catlab.Graphics.Graphviz.Html}}(:style => \"invis\")), Catlab.Graphics.Graphviz.Subgraph(\"\", Catlab.Graphics.Graphviz.Statement[Catlab.Graphics.Graphviz.Node(\"n2p1\", OrderedCollections.OrderedDict{Symbol,Union{String, Catlab.Graphics.Graphviz.Html}}(:id => \"out1\")), Catlab.Graphics.Graphviz.Node(\"n2p2\", OrderedCollections.OrderedDict{Symbol,Union{String, Catlab.Graphics.Graphviz.Html}}(:id => \"out2\")), Catlab.Graphics.Graphviz.Edge(Catlab.Graphics.Graphviz.NodeID[Catlab.Graphics.Graphviz.NodeID(\"n2p1\", \"\", \"\"), Catlab.Graphics.Graphviz.NodeID(\"n2p2\", \"\", \"\")], OrderedCollections.OrderedDict{Symbol,Union{String, Catlab.Graphics.Graphviz.Html}}())], OrderedCollections.OrderedDict{Symbol,Union{String, Catlab.Graphics.Graphviz.Html}}(:rank => \"sink\",:rankdir => \"TB\"), OrderedCollections.OrderedDict{Symbol,Union{String, Catlab.Graphics.Graphviz.Html}}(:style => \"invis\",:shape => \"none\",:label => \"\",:width => \"0.333\",:height => \"0\"), OrderedCollections.OrderedDict{Symbol,Union{String, Catlab.Graphics.Graphviz.Html}}(:style => \"invis\")), Catlab.Graphics.Graphviz.Node(\"n3\", OrderedCollections.OrderedDict{Symbol,Union{String, Catlab.Graphics.Graphviz.Html}}(:comment => \"f\",:id => \"n3\",:label => Catlab.Graphics.Graphviz.Html(\"<TABLE BORDER=\\\"0\\\" CELLPADDING=\\\"0\\\" CELLSPACING=\\\"0\\\">\\n<TR>\\n<TD><TABLE BORDER=\\\"0\\\" CELLPADDING=\\\"0\\\" CELLSPACING=\\\"0\\\"><TR><TD HEIGHT=\\\"24\\\" WIDTH=\\\"0\\\" PORT=\\\"in1\\\"></TD></TR></TABLE></TD>\\n<TD BORDER=\\\"1\\\" CELLPADDING=\\\"4\\\">f</TD>\\n<TD><TABLE BORDER=\\\"0\\\" CELLPADDING=\\\"0\\\" CELLSPACING=\\\"0\\\"><TR><TD HEIGHT=\\\"24\\\" WIDTH=\\\"0\\\" PORT=\\\"out1\\\"></TD></TR></TABLE></TD>\\n</TR>\\n</TABLE>\"))), Catlab.Graphics.Graphviz.Edge(Catlab.Graphics.Graphviz.NodeID[Catlab.Graphics.Graphviz.NodeID(\"n1p1\", \"e\", \"\"), Catlab.Graphics.Graphviz.NodeID(\"n3\", \"in1\", \"w\")], OrderedCollections.OrderedDict{Symbol,Union{String, Catlab.Graphics.Graphviz.Html}}(:comment => \"A\",:id => \"e1\",:xlabel => \"A\")), Catlab.Graphics.Graphviz.Edge(Catlab.Graphics.Graphviz.NodeID[Catlab.Graphics.Graphviz.NodeID(\"n3\", \"out1\", \"e\"), Catlab.Graphics.Graphviz.NodeID(\"n2p1\", \"w\", \"\")], OrderedCollections.OrderedDict{Symbol,Union{String, Catlab.Graphics.Graphviz.Html}}(:comment => \"B\",:id => \"e2\",:xlabel => \"B\")), Catlab.Graphics.Graphviz.Edge(Catlab.Graphics.Graphviz.NodeID[Catlab.Graphics.Graphviz.NodeID(\"n3\", \"out1\", \"e\"), Catlab.Graphics.Graphviz.NodeID(\"n2p2\", \"w\", \"\")], OrderedCollections.OrderedDict{Symbol,Union{String, Catlab.Graphics.Graphviz.Html}}(:comment => \"B\",:id => \"e3\",:xlabel => \"B\"))], OrderedCollections.OrderedDict{Symbol,Union{String, Catlab.Graphics.Graphviz.Html}}(:fontname => \"Serif\",:rankdir => \"LR\"), OrderedCollections.OrderedDict{Symbol,Union{String, Catlab.Graphics.Graphviz.Html}}(:fontname => \"Courier\",:shape => \"none\",:width => \"0\",:height => \"0\",:margin => \"0\"), OrderedCollections.OrderedDict{Symbol,Union{String, Catlab.Graphics.Graphviz.Html}}(:arrowsize => \"0.5\",:fontname => \"Courier\"))",
      "image/svg+xml": [
       "<?xml version=\"1.0\" encoding=\"UTF-8\" standalone=\"no\"?>\n",
       "<!DOCTYPE svg PUBLIC \"-//W3C//DTD SVG 1.1//EN\"\n",
       " \"http://www.w3.org/Graphics/SVG/1.1/DTD/svg11.dtd\">\n",
       "<!-- Generated by graphviz version 2.40.1 (20161225.0304)\n",
       " -->\n",
       "<!-- Title: G Pages: 1 -->\n",
       "<svg width=\"147pt\" height=\"41pt\"\n",
       " viewBox=\"0.00 0.00 147.00 40.95\" xmlns=\"http://www.w3.org/2000/svg\" xmlns:xlink=\"http://www.w3.org/1999/xlink\">\n",
       "<g id=\"graph0\" class=\"graph\" transform=\"scale(1 1) rotate(0) translate(4 36.9539)\">\n",
       "<title>G</title>\n",
       "<polygon fill=\"#ffffff\" stroke=\"transparent\" points=\"-4,4 -4,-36.9539 143,-36.9539 143,4 -4,4\"/>\n",
       "<!-- n1p1 -->\n",
       "<!-- n3 -->\n",
       "<!-- f -->\n",
       "<g id=\"n3\" class=\"node\">\n",
       "<title>n3</title>\n",
       "<polygon fill=\"none\" stroke=\"#000000\" points=\"60.5,-7.4539 60.5,-32.4539 79.5,-32.4539 79.5,-7.4539 60.5,-7.4539\"/>\n",
       "<text text-anchor=\"start\" x=\"65.5\" y=\"-16.2539\" font-family=\"Courier,monospace\" font-size=\"14.00\" fill=\"#000000\">f</text>\n",
       "</g>\n",
       "<!-- n1p1&#45;&gt;n3 -->\n",
       "<!-- A -->\n",
       "<g id=\"e1\" class=\"edge\">\n",
       "<title>n1p1:e&#45;&gt;n3:w</title>\n",
       "<path fill=\"none\" stroke=\"#000000\" d=\"M24,-19.4539C38.3212,-19.4539 43.1602,-19.4539 55.259,-19.4539\"/>\n",
       "<polygon fill=\"#000000\" stroke=\"#000000\" points=\"55.5,-21.204 60.5,-19.4539 55.5,-17.704 55.5,-21.204\"/>\n",
       "<text text-anchor=\"middle\" x=\"37.646\" y=\"-8.2539\" font-family=\"Courier,monospace\" font-size=\"14.00\" fill=\"#000000\">A</text>\n",
       "</g>\n",
       "<!-- n2p1 -->\n",
       "<!-- n2p2 -->\n",
       "<!-- n2p1&#45;&gt;n2p2 -->\n",
       "<!-- n3&#45;&gt;n2p1 -->\n",
       "<!-- B -->\n",
       "<g id=\"e2\" class=\"edge\">\n",
       "<title>n3:e&#45;&gt;n2p1:w</title>\n",
       "<path fill=\"none\" stroke=\"#000000\" d=\"M79,-19.4539C93.7896,-19.4539 97.6189,-27.386 110.0109,-29.1211\"/>\n",
       "<polygon fill=\"#000000\" stroke=\"#000000\" points=\"109.8946,-30.8672 115,-29.4539 110.1276,-27.3749 109.8946,-30.8672\"/>\n",
       "<text text-anchor=\"middle\" x=\"101.5284\" y=\"-13.2685\" font-family=\"Courier,monospace\" font-size=\"14.00\" fill=\"#000000\">B</text>\n",
       "</g>\n",
       "<!-- n3&#45;&gt;n2p2 -->\n",
       "<!-- B -->\n",
       "<g id=\"e3\" class=\"edge\">\n",
       "<title>n3:e&#45;&gt;n2p2:w</title>\n",
       "<path fill=\"none\" stroke=\"#000000\" d=\"M79,-19.4539C93.5597,-19.4539 97.6158,-12.4396 109.7138,-10.7957\"/>\n",
       "<polygon fill=\"#000000\" stroke=\"#000000\" points=\"110.1234,-12.5229 115,-10.4539 109.8975,-9.0302 110.1234,-12.5229\"/>\n",
       "<text text-anchor=\"middle\" x=\"92.4\" y=\"-3.8\" font-family=\"Courier,monospace\" font-size=\"14.00\" fill=\"#000000\">B</text>\n",
       "</g>\n",
       "</g>\n",
       "</svg>\n",
       "\n"
      ]
     },
     "metadata": {},
     "execution_count": 11
    }
   ],
   "cell_type": "code",
   "source": [
    "show_diagram(compose(f, mcopy(codom(f),2)))"
   ],
   "metadata": {},
   "execution_count": 11
  },
  {
   "outputs": [
    {
     "output_type": "execute_result",
     "data": {
      "text/plain": "Catlab.Graphics.Graphviz.Graph(\"G\", true, Catlab.Graphics.Graphviz.Statement[Catlab.Graphics.Graphviz.Subgraph(\"\", Catlab.Graphics.Graphviz.Statement[Catlab.Graphics.Graphviz.Node(\"n1p1\", OrderedCollections.OrderedDict{Symbol,Union{String, Catlab.Graphics.Graphviz.Html}}(:id => \"in1\")), Catlab.Graphics.Graphviz.Edge(Catlab.Graphics.Graphviz.NodeID[Catlab.Graphics.Graphviz.NodeID(\"n1p1\", \"\", \"\")], OrderedCollections.OrderedDict{Symbol,Union{String, Catlab.Graphics.Graphviz.Html}}())], OrderedCollections.OrderedDict{Symbol,Union{String, Catlab.Graphics.Graphviz.Html}}(:rank => \"source\",:rankdir => \"TB\"), OrderedCollections.OrderedDict{Symbol,Union{String, Catlab.Graphics.Graphviz.Html}}(:style => \"invis\",:shape => \"none\",:label => \"\",:width => \"0.333\",:height => \"0\"), OrderedCollections.OrderedDict{Symbol,Union{String, Catlab.Graphics.Graphviz.Html}}(:style => \"invis\")), Catlab.Graphics.Graphviz.Subgraph(\"\", Catlab.Graphics.Graphviz.Statement[Catlab.Graphics.Graphviz.Node(\"n2p1\", OrderedCollections.OrderedDict{Symbol,Union{String, Catlab.Graphics.Graphviz.Html}}(:id => \"out1\")), Catlab.Graphics.Graphviz.Node(\"n2p2\", OrderedCollections.OrderedDict{Symbol,Union{String, Catlab.Graphics.Graphviz.Html}}(:id => \"out2\")), Catlab.Graphics.Graphviz.Edge(Catlab.Graphics.Graphviz.NodeID[Catlab.Graphics.Graphviz.NodeID(\"n2p1\", \"\", \"\"), Catlab.Graphics.Graphviz.NodeID(\"n2p2\", \"\", \"\")], OrderedCollections.OrderedDict{Symbol,Union{String, Catlab.Graphics.Graphviz.Html}}())], OrderedCollections.OrderedDict{Symbol,Union{String, Catlab.Graphics.Graphviz.Html}}(:rank => \"sink\",:rankdir => \"TB\"), OrderedCollections.OrderedDict{Symbol,Union{String, Catlab.Graphics.Graphviz.Html}}(:style => \"invis\",:shape => \"none\",:label => \"\",:width => \"0.333\",:height => \"0\"), OrderedCollections.OrderedDict{Symbol,Union{String, Catlab.Graphics.Graphviz.Html}}(:style => \"invis\")), Catlab.Graphics.Graphviz.Node(\"n3\", OrderedCollections.OrderedDict{Symbol,Union{String, Catlab.Graphics.Graphviz.Html}}(:comment => \"f\",:id => \"n3\",:label => Catlab.Graphics.Graphviz.Html(\"<TABLE BORDER=\\\"0\\\" CELLPADDING=\\\"0\\\" CELLSPACING=\\\"0\\\">\\n<TR>\\n<TD><TABLE BORDER=\\\"0\\\" CELLPADDING=\\\"0\\\" CELLSPACING=\\\"0\\\"><TR><TD HEIGHT=\\\"24\\\" WIDTH=\\\"0\\\" PORT=\\\"in1\\\"></TD></TR></TABLE></TD>\\n<TD BORDER=\\\"1\\\" CELLPADDING=\\\"4\\\">f</TD>\\n<TD><TABLE BORDER=\\\"0\\\" CELLPADDING=\\\"0\\\" CELLSPACING=\\\"0\\\"><TR><TD HEIGHT=\\\"24\\\" WIDTH=\\\"0\\\" PORT=\\\"out1\\\"></TD></TR></TABLE></TD>\\n</TR>\\n</TABLE>\"))), Catlab.Graphics.Graphviz.Node(\"n4\", OrderedCollections.OrderedDict{Symbol,Union{String, Catlab.Graphics.Graphviz.Html}}(:comment => \"f\",:id => \"n4\",:label => Catlab.Graphics.Graphviz.Html(\"<TABLE BORDER=\\\"0\\\" CELLPADDING=\\\"0\\\" CELLSPACING=\\\"0\\\">\\n<TR>\\n<TD><TABLE BORDER=\\\"0\\\" CELLPADDING=\\\"0\\\" CELLSPACING=\\\"0\\\"><TR><TD HEIGHT=\\\"24\\\" WIDTH=\\\"0\\\" PORT=\\\"in1\\\"></TD></TR></TABLE></TD>\\n<TD BORDER=\\\"1\\\" CELLPADDING=\\\"4\\\">f</TD>\\n<TD><TABLE BORDER=\\\"0\\\" CELLPADDING=\\\"0\\\" CELLSPACING=\\\"0\\\"><TR><TD HEIGHT=\\\"24\\\" WIDTH=\\\"0\\\" PORT=\\\"out1\\\"></TD></TR></TABLE></TD>\\n</TR>\\n</TABLE>\"))), Catlab.Graphics.Graphviz.Edge(Catlab.Graphics.Graphviz.NodeID[Catlab.Graphics.Graphviz.NodeID(\"n1p1\", \"e\", \"\"), Catlab.Graphics.Graphviz.NodeID(\"n3\", \"in1\", \"w\")], OrderedCollections.OrderedDict{Symbol,Union{String, Catlab.Graphics.Graphviz.Html}}(:comment => \"A\",:id => \"e1\",:xlabel => \"A\")), Catlab.Graphics.Graphviz.Edge(Catlab.Graphics.Graphviz.NodeID[Catlab.Graphics.Graphviz.NodeID(\"n1p1\", \"e\", \"\"), Catlab.Graphics.Graphviz.NodeID(\"n4\", \"in1\", \"w\")], OrderedCollections.OrderedDict{Symbol,Union{String, Catlab.Graphics.Graphviz.Html}}(:comment => \"A\",:id => \"e2\",:xlabel => \"A\")), Catlab.Graphics.Graphviz.Edge(Catlab.Graphics.Graphviz.NodeID[Catlab.Graphics.Graphviz.NodeID(\"n3\", \"out1\", \"e\"), Catlab.Graphics.Graphviz.NodeID(\"n2p1\", \"w\", \"\")], OrderedCollections.OrderedDict{Symbol,Union{String, Catlab.Graphics.Graphviz.Html}}(:comment => \"B\",:id => \"e3\",:xlabel => \"B\")), Catlab.Graphics.Graphviz.Edge(Catlab.Graphics.Graphviz.NodeID[Catlab.Graphics.Graphviz.NodeID(\"n4\", \"out1\", \"e\"), Catlab.Graphics.Graphviz.NodeID(\"n2p2\", \"w\", \"\")], OrderedCollections.OrderedDict{Symbol,Union{String, Catlab.Graphics.Graphviz.Html}}(:comment => \"B\",:id => \"e4\",:xlabel => \"B\"))], OrderedCollections.OrderedDict{Symbol,Union{String, Catlab.Graphics.Graphviz.Html}}(:fontname => \"Serif\",:rankdir => \"LR\"), OrderedCollections.OrderedDict{Symbol,Union{String, Catlab.Graphics.Graphviz.Html}}(:fontname => \"Courier\",:shape => \"none\",:width => \"0\",:height => \"0\",:margin => \"0\"), OrderedCollections.OrderedDict{Symbol,Union{String, Catlab.Graphics.Graphviz.Html}}(:arrowsize => \"0.5\",:fontname => \"Courier\"))",
      "image/svg+xml": [
       "<?xml version=\"1.0\" encoding=\"UTF-8\" standalone=\"no\"?>\n",
       "<!DOCTYPE svg PUBLIC \"-//W3C//DTD SVG 1.1//EN\"\n",
       " \"http://www.w3.org/Graphics/SVG/1.1/DTD/svg11.dtd\">\n",
       "<!-- Generated by graphviz version 2.40.1 (20161225.0304)\n",
       " -->\n",
       "<!-- Title: G Pages: 1 -->\n",
       "<svg width=\"147pt\" height=\"77pt\"\n",
       " viewBox=\"0.00 0.00 147.00 76.53\" xmlns=\"http://www.w3.org/2000/svg\" xmlns:xlink=\"http://www.w3.org/1999/xlink\">\n",
       "<g id=\"graph0\" class=\"graph\" transform=\"scale(1 1) rotate(0) translate(4 72.5308)\">\n",
       "<title>G</title>\n",
       "<polygon fill=\"#ffffff\" stroke=\"transparent\" points=\"-4,4 -4,-72.5308 143,-72.5308 143,4 -4,4\"/>\n",
       "<!-- n1p1 -->\n",
       "<!-- n3 -->\n",
       "<!-- f -->\n",
       "<g id=\"n3\" class=\"node\">\n",
       "<title>n3</title>\n",
       "<polygon fill=\"none\" stroke=\"#000000\" points=\"60.5,-43.0308 60.5,-68.0308 79.5,-68.0308 79.5,-43.0308 60.5,-43.0308\"/>\n",
       "<text text-anchor=\"start\" x=\"65.5\" y=\"-51.8308\" font-family=\"Courier,monospace\" font-size=\"14.00\" fill=\"#000000\">f</text>\n",
       "</g>\n",
       "<!-- n1p1&#45;&gt;n3 -->\n",
       "<!-- A -->\n",
       "<g id=\"e1\" class=\"edge\">\n",
       "<title>n1p1:e&#45;&gt;n3:w</title>\n",
       "<path fill=\"none\" stroke=\"#000000\" d=\"M24,-33.0308C41.0174,-33.0308 41.63,-50.7889 55.3152,-54.3961\"/>\n",
       "<polygon fill=\"#000000\" stroke=\"#000000\" points=\"55.3244,-56.1602 60.5,-55.0308 55.7497,-52.6861 55.3244,-56.1602\"/>\n",
       "<text text-anchor=\"middle\" x=\"37.5217\" y=\"-32.5448\" font-family=\"Courier,monospace\" font-size=\"14.00\" fill=\"#000000\">A</text>\n",
       "</g>\n",
       "<!-- n4 -->\n",
       "<!-- f -->\n",
       "<g id=\"n4\" class=\"node\">\n",
       "<title>n4</title>\n",
       "<polygon fill=\"none\" stroke=\"#000000\" points=\"60.5,-.0308 60.5,-25.0308 79.5,-25.0308 79.5,-.0308 60.5,-.0308\"/>\n",
       "<text text-anchor=\"start\" x=\"65.5\" y=\"-8.8308\" font-family=\"Courier,monospace\" font-size=\"14.00\" fill=\"#000000\">f</text>\n",
       "</g>\n",
       "<!-- n1p1&#45;&gt;n4 -->\n",
       "<!-- A -->\n",
       "<g id=\"e2\" class=\"edge\">\n",
       "<title>n1p1:e&#45;&gt;n4:w</title>\n",
       "<path fill=\"none\" stroke=\"#000000\" d=\"M24,-33.0308C40.8147,-33.0308 41.7709,-16.0798 55.3644,-12.6366\"/>\n",
       "<polygon fill=\"#000000\" stroke=\"#000000\" points=\"55.7395,-14.3546 60.5,-12.0308 55.3294,-10.8787 55.7395,-14.3546\"/>\n",
       "<text text-anchor=\"middle\" x=\"37.5188\" y=\"-11.6037\" font-family=\"Courier,monospace\" font-size=\"14.00\" fill=\"#000000\">A</text>\n",
       "</g>\n",
       "<!-- n2p1 -->\n",
       "<!-- n2p2 -->\n",
       "<!-- n2p1&#45;&gt;n2p2 -->\n",
       "<!-- n3&#45;&gt;n2p1 -->\n",
       "<!-- B -->\n",
       "<g id=\"e3\" class=\"edge\">\n",
       "<title>n3:e&#45;&gt;n2p1:w</title>\n",
       "<path fill=\"none\" stroke=\"#000000\" d=\"M79,-55.0308C93.3198,-55.0308 97.7714,-50.3546 109.7783,-49.2586\"/>\n",
       "<polygon fill=\"#000000\" stroke=\"#000000\" points=\"110.0811,-50.9972 115,-49.0308 109.9284,-47.5005 110.0811,-50.9972\"/>\n",
       "<text text-anchor=\"middle\" x=\"92.3986\" y=\"-40.8615\" font-family=\"Courier,monospace\" font-size=\"14.00\" fill=\"#000000\">B</text>\n",
       "</g>\n",
       "<!-- n4&#45;&gt;n2p2 -->\n",
       "<!-- B -->\n",
       "<g id=\"e4\" class=\"edge\">\n",
       "<title>n4:e&#45;&gt;n2p2:w</title>\n",
       "<path fill=\"none\" stroke=\"#000000\" d=\"M79,-12.0308C93.3198,-12.0308 97.7714,-16.7069 109.7783,-17.8029\"/>\n",
       "<polygon fill=\"#000000\" stroke=\"#000000\" points=\"109.9284,-19.561 115,-18.0308 110.0811,-16.0643 109.9284,-19.561\"/>\n",
       "<text text-anchor=\"middle\" x=\"92.3986\" y=\"-3.8\" font-family=\"Courier,monospace\" font-size=\"14.00\" fill=\"#000000\">B</text>\n",
       "</g>\n",
       "</g>\n",
       "</svg>\n",
       "\n"
      ]
     },
     "metadata": {},
     "execution_count": 12
    }
   ],
   "cell_type": "code",
   "source": [
    "show_diagram(compose(mcopy(dom(f),2), otimes(f,f)))"
   ],
   "metadata": {},
   "execution_count": 12
  },
  {
   "outputs": [],
   "cell_type": "markdown",
   "source": [
    "## Imperative interface\n",
    "\n",
    "We now show how to manipulate wiring diagrams using the low-level, imperative\n",
    "interface. The diagrams will carry Julia symbols."
   ],
   "metadata": {}
  },
  {
   "outputs": [
    {
     "output_type": "execute_result",
     "data": {
      "text/plain": "Box(:f, [:A], [:B])"
     },
     "metadata": {},
     "execution_count": 13
    }
   ],
   "cell_type": "code",
   "source": [
    "f = Box(:f, [:A], [:B])\n",
    "g = Box(:g, [:B], [:C])\n",
    "h = Box(:h, [:C], [:D])\n",
    "\n",
    "f"
   ],
   "metadata": {},
   "execution_count": 13
  },
  {
   "outputs": [],
   "cell_type": "markdown",
   "source": [
    "### Composition\n",
    "\n",
    "For example, here is how to manually construct a composition of two boxes.\n",
    "\n",
    "The `add_box!` method adds a box to a wiring diagrams and returns the ID\n",
    "assigned to the box. How the boxes are indexed is an implementation detail\n",
    "that you should not rely on; use the IDs that the system gives you."
   ],
   "metadata": {}
  },
  {
   "outputs": [
    {
     "output_type": "execute_result",
     "data": {
      "text/plain": "2"
     },
     "metadata": {},
     "execution_count": 14
    }
   ],
   "cell_type": "code",
   "source": [
    "d = WiringDiagram([:A], [:C])\n",
    "\n",
    "fv = add_box!(d, f)\n",
    "gv = add_box!(d, g)\n",
    "\n",
    "add_wires!(d, [\n",
    "  (input_id(d),1) => (fv,1),\n",
    "  (fv,1) => (gv,1),\n",
    "  (gv,1) => (output_id(d),1),\n",
    "])\n",
    "\n",
    "nboxes(d)"
   ],
   "metadata": {},
   "execution_count": 14
  },
  {
   "outputs": [
    {
     "output_type": "execute_result",
     "data": {
      "text/plain": "3"
     },
     "metadata": {},
     "execution_count": 15
    }
   ],
   "cell_type": "code",
   "source": [
    "nwires(d)"
   ],
   "metadata": {},
   "execution_count": 15
  },
  {
   "outputs": [
    {
     "output_type": "execute_result",
     "data": {
      "text/plain": "WiringDiagram([:A], [:C], \n[ 1 => {inputs},\n  2 => {outputs},\n  3 => Box(:f, [:A], [:B]),\n  4 => Box(:g, [:B], [:C]) ],\n[ Wire((1,1) => (3,1)),\n  Wire((3,1) => (4,1)),\n  Wire((4,1) => (2,1)) ])"
     },
     "metadata": {},
     "execution_count": 16
    }
   ],
   "cell_type": "code",
   "source": [
    "d"
   ],
   "metadata": {},
   "execution_count": 16
  },
  {
   "outputs": [
    {
     "output_type": "execute_result",
     "data": {
      "text/plain": "Catlab.Graphics.Graphviz.Graph(\"G\", true, Catlab.Graphics.Graphviz.Statement[Catlab.Graphics.Graphviz.Subgraph(\"\", Catlab.Graphics.Graphviz.Statement[Catlab.Graphics.Graphviz.Node(\"n1p1\", OrderedCollections.OrderedDict{Symbol,Union{String, Catlab.Graphics.Graphviz.Html}}(:id => \"in1\")), Catlab.Graphics.Graphviz.Edge(Catlab.Graphics.Graphviz.NodeID[Catlab.Graphics.Graphviz.NodeID(\"n1p1\", \"\", \"\")], OrderedCollections.OrderedDict{Symbol,Union{String, Catlab.Graphics.Graphviz.Html}}())], OrderedCollections.OrderedDict{Symbol,Union{String, Catlab.Graphics.Graphviz.Html}}(:rank => \"source\",:rankdir => \"TB\"), OrderedCollections.OrderedDict{Symbol,Union{String, Catlab.Graphics.Graphviz.Html}}(:style => \"invis\",:shape => \"none\",:label => \"\",:width => \"0.333\",:height => \"0\"), OrderedCollections.OrderedDict{Symbol,Union{String, Catlab.Graphics.Graphviz.Html}}(:style => \"invis\")), Catlab.Graphics.Graphviz.Subgraph(\"\", Catlab.Graphics.Graphviz.Statement[Catlab.Graphics.Graphviz.Node(\"n2p1\", OrderedCollections.OrderedDict{Symbol,Union{String, Catlab.Graphics.Graphviz.Html}}(:id => \"out1\")), Catlab.Graphics.Graphviz.Edge(Catlab.Graphics.Graphviz.NodeID[Catlab.Graphics.Graphviz.NodeID(\"n2p1\", \"\", \"\")], OrderedCollections.OrderedDict{Symbol,Union{String, Catlab.Graphics.Graphviz.Html}}())], OrderedCollections.OrderedDict{Symbol,Union{String, Catlab.Graphics.Graphviz.Html}}(:rank => \"sink\",:rankdir => \"TB\"), OrderedCollections.OrderedDict{Symbol,Union{String, Catlab.Graphics.Graphviz.Html}}(:style => \"invis\",:shape => \"none\",:label => \"\",:width => \"0.333\",:height => \"0\"), OrderedCollections.OrderedDict{Symbol,Union{String, Catlab.Graphics.Graphviz.Html}}(:style => \"invis\")), Catlab.Graphics.Graphviz.Node(\"n3\", OrderedCollections.OrderedDict{Symbol,Union{String, Catlab.Graphics.Graphviz.Html}}(:comment => \"f\",:id => \"n3\",:label => Catlab.Graphics.Graphviz.Html(\"<TABLE BORDER=\\\"0\\\" CELLPADDING=\\\"0\\\" CELLSPACING=\\\"0\\\">\\n<TR>\\n<TD><TABLE BORDER=\\\"0\\\" CELLPADDING=\\\"0\\\" CELLSPACING=\\\"0\\\"><TR><TD HEIGHT=\\\"24\\\" WIDTH=\\\"0\\\" PORT=\\\"in1\\\"></TD></TR></TABLE></TD>\\n<TD BORDER=\\\"1\\\" CELLPADDING=\\\"4\\\">f</TD>\\n<TD><TABLE BORDER=\\\"0\\\" CELLPADDING=\\\"0\\\" CELLSPACING=\\\"0\\\"><TR><TD HEIGHT=\\\"24\\\" WIDTH=\\\"0\\\" PORT=\\\"out1\\\"></TD></TR></TABLE></TD>\\n</TR>\\n</TABLE>\"))), Catlab.Graphics.Graphviz.Node(\"n4\", OrderedCollections.OrderedDict{Symbol,Union{String, Catlab.Graphics.Graphviz.Html}}(:comment => \"g\",:id => \"n4\",:label => Catlab.Graphics.Graphviz.Html(\"<TABLE BORDER=\\\"0\\\" CELLPADDING=\\\"0\\\" CELLSPACING=\\\"0\\\">\\n<TR>\\n<TD><TABLE BORDER=\\\"0\\\" CELLPADDING=\\\"0\\\" CELLSPACING=\\\"0\\\"><TR><TD HEIGHT=\\\"24\\\" WIDTH=\\\"0\\\" PORT=\\\"in1\\\"></TD></TR></TABLE></TD>\\n<TD BORDER=\\\"1\\\" CELLPADDING=\\\"4\\\">g</TD>\\n<TD><TABLE BORDER=\\\"0\\\" CELLPADDING=\\\"0\\\" CELLSPACING=\\\"0\\\"><TR><TD HEIGHT=\\\"24\\\" WIDTH=\\\"0\\\" PORT=\\\"out1\\\"></TD></TR></TABLE></TD>\\n</TR>\\n</TABLE>\"))), Catlab.Graphics.Graphviz.Edge(Catlab.Graphics.Graphviz.NodeID[Catlab.Graphics.Graphviz.NodeID(\"n1p1\", \"e\", \"\"), Catlab.Graphics.Graphviz.NodeID(\"n3\", \"in1\", \"w\")], OrderedCollections.OrderedDict{Symbol,Union{String, Catlab.Graphics.Graphviz.Html}}(:comment => \"A\",:id => \"e1\",:xlabel => \"A\")), Catlab.Graphics.Graphviz.Edge(Catlab.Graphics.Graphviz.NodeID[Catlab.Graphics.Graphviz.NodeID(\"n3\", \"out1\", \"e\"), Catlab.Graphics.Graphviz.NodeID(\"n4\", \"in1\", \"w\")], OrderedCollections.OrderedDict{Symbol,Union{String, Catlab.Graphics.Graphviz.Html}}(:comment => \"B\",:id => \"e2\",:xlabel => \"B\")), Catlab.Graphics.Graphviz.Edge(Catlab.Graphics.Graphviz.NodeID[Catlab.Graphics.Graphviz.NodeID(\"n4\", \"out1\", \"e\"), Catlab.Graphics.Graphviz.NodeID(\"n2p1\", \"w\", \"\")], OrderedCollections.OrderedDict{Symbol,Union{String, Catlab.Graphics.Graphviz.Html}}(:comment => \"C\",:id => \"e3\",:xlabel => \"C\"))], OrderedCollections.OrderedDict{Symbol,Union{String, Catlab.Graphics.Graphviz.Html}}(:fontname => \"Serif\",:rankdir => \"LR\"), OrderedCollections.OrderedDict{Symbol,Union{String, Catlab.Graphics.Graphviz.Html}}(:fontname => \"Courier\",:shape => \"none\",:width => \"0\",:height => \"0\",:margin => \"0\"), OrderedCollections.OrderedDict{Symbol,Union{String, Catlab.Graphics.Graphviz.Html}}(:arrowsize => \"0.5\",:fontname => \"Courier\"))",
      "image/svg+xml": [
       "<?xml version=\"1.0\" encoding=\"UTF-8\" standalone=\"no\"?>\n",
       "<!DOCTYPE svg PUBLIC \"-//W3C//DTD SVG 1.1//EN\"\n",
       " \"http://www.w3.org/Graphics/SVG/1.1/DTD/svg11.dtd\">\n",
       "<!-- Generated by graphviz version 2.40.1 (20161225.0304)\n",
       " -->\n",
       "<!-- Title: G Pages: 1 -->\n",
       "<svg width=\"202pt\" height=\"37pt\"\n",
       " viewBox=\"0.00 0.00 202.00 36.50\" xmlns=\"http://www.w3.org/2000/svg\" xmlns:xlink=\"http://www.w3.org/1999/xlink\">\n",
       "<g id=\"graph0\" class=\"graph\" transform=\"scale(1 1) rotate(0) translate(4 32.5)\">\n",
       "<title>G</title>\n",
       "<polygon fill=\"#ffffff\" stroke=\"transparent\" points=\"-4,4 -4,-32.5 198,-32.5 198,4 -4,4\"/>\n",
       "<!-- n1p1 -->\n",
       "<!-- n3 -->\n",
       "<!-- f -->\n",
       "<g id=\"n3\" class=\"node\">\n",
       "<title>n3</title>\n",
       "<polygon fill=\"none\" stroke=\"#000000\" points=\"60.5,-3 60.5,-28 79.5,-28 79.5,-3 60.5,-3\"/>\n",
       "<text text-anchor=\"start\" x=\"65.5\" y=\"-11.8\" font-family=\"Courier,monospace\" font-size=\"14.00\" fill=\"#000000\">f</text>\n",
       "</g>\n",
       "<!-- n1p1&#45;&gt;n3 -->\n",
       "<!-- A -->\n",
       "<g id=\"e1\" class=\"edge\">\n",
       "<title>n1p1:e&#45;&gt;n3:w</title>\n",
       "<path fill=\"none\" stroke=\"#000000\" d=\"M24,-15C38.3212,-15 43.1602,-15 55.259,-15\"/>\n",
       "<polygon fill=\"#000000\" stroke=\"#000000\" points=\"55.5,-16.7501 60.5,-15 55.5,-13.2501 55.5,-16.7501\"/>\n",
       "<text text-anchor=\"middle\" x=\"37.646\" y=\"-3.8\" font-family=\"Courier,monospace\" font-size=\"14.00\" fill=\"#000000\">A</text>\n",
       "</g>\n",
       "<!-- n2p1 -->\n",
       "<!-- n4 -->\n",
       "<!-- g -->\n",
       "<g id=\"n4\" class=\"node\">\n",
       "<title>n4</title>\n",
       "<polygon fill=\"none\" stroke=\"#000000\" points=\"115.5,-3 115.5,-28 134.5,-28 134.5,-3 115.5,-3\"/>\n",
       "<text text-anchor=\"start\" x=\"120.5\" y=\"-11.8\" font-family=\"Courier,monospace\" font-size=\"14.00\" fill=\"#000000\">g</text>\n",
       "</g>\n",
       "<!-- n3&#45;&gt;n4 -->\n",
       "<!-- B -->\n",
       "<g id=\"e2\" class=\"edge\">\n",
       "<title>n3:e&#45;&gt;n4:w</title>\n",
       "<path fill=\"none\" stroke=\"#000000\" d=\"M79,-15C93.3212,-15 98.1602,-15 110.259,-15\"/>\n",
       "<polygon fill=\"#000000\" stroke=\"#000000\" points=\"110.5,-16.7501 115.5,-15 110.5,-13.2501 110.5,-16.7501\"/>\n",
       "<text text-anchor=\"middle\" x=\"92.646\" y=\"-3.8\" font-family=\"Courier,monospace\" font-size=\"14.00\" fill=\"#000000\">B</text>\n",
       "</g>\n",
       "<!-- n4&#45;&gt;n2p1 -->\n",
       "<!-- C -->\n",
       "<g id=\"e3\" class=\"edge\">\n",
       "<title>n4:e&#45;&gt;n2p1:w</title>\n",
       "<path fill=\"none\" stroke=\"#000000\" d=\"M134,-15C148.125,-15 152.8977,-15 164.8308,-15\"/>\n",
       "<polygon fill=\"#000000\" stroke=\"#000000\" points=\"165,-16.7501 170,-15 165,-13.2501 165,-16.7501\"/>\n",
       "<text text-anchor=\"middle\" x=\"147.3975\" y=\"-3.8\" font-family=\"Courier,monospace\" font-size=\"14.00\" fill=\"#000000\">C</text>\n",
       "</g>\n",
       "</g>\n",
       "</svg>\n",
       "\n"
      ]
     },
     "metadata": {},
     "execution_count": 17
    }
   ],
   "cell_type": "code",
   "source": [
    "show_diagram(d)"
   ],
   "metadata": {},
   "execution_count": 17
  },
  {
   "outputs": [],
   "cell_type": "markdown",
   "source": [
    "### Products\n",
    "\n",
    "Here is how to manually construct a product of two boxes."
   ],
   "metadata": {}
  },
  {
   "outputs": [
    {
     "output_type": "execute_result",
     "data": {
      "text/plain": "WiringDiagram([:A,:C], [:B,:D], \n[ 1 => {inputs},\n  2 => {outputs},\n  3 => Box(:f, [:A], [:B]),\n  4 => Box(:h, [:C], [:D]) ],\n[ Wire((1,1) => (3,1)),\n  Wire((1,2) => (4,1)),\n  Wire((3,1) => (2,1)),\n  Wire((4,1) => (2,2)) ])"
     },
     "metadata": {},
     "execution_count": 18
    }
   ],
   "cell_type": "code",
   "source": [
    "d = WiringDiagram([:A,:C], [:B,:D])\n",
    "\n",
    "fv = add_box!(d, f)\n",
    "hv = add_box!(d, h)\n",
    "\n",
    "add_wires!(d, [\n",
    "  (input_id(d),1) => (fv,1),\n",
    "  (input_id(d),2) => (hv,1),\n",
    "  (fv,1) => (output_id(d),1),\n",
    "  (hv,1) => (output_id(d),2),\n",
    "])\n",
    "\n",
    "d"
   ],
   "metadata": {},
   "execution_count": 18
  },
  {
   "outputs": [
    {
     "output_type": "execute_result",
     "data": {
      "text/plain": "Catlab.Graphics.Graphviz.Graph(\"G\", true, Catlab.Graphics.Graphviz.Statement[Catlab.Graphics.Graphviz.Subgraph(\"\", Catlab.Graphics.Graphviz.Statement[Catlab.Graphics.Graphviz.Node(\"n1p1\", OrderedCollections.OrderedDict{Symbol,Union{String, Catlab.Graphics.Graphviz.Html}}(:id => \"in1\")), Catlab.Graphics.Graphviz.Node(\"n1p2\", OrderedCollections.OrderedDict{Symbol,Union{String, Catlab.Graphics.Graphviz.Html}}(:id => \"in2\")), Catlab.Graphics.Graphviz.Edge(Catlab.Graphics.Graphviz.NodeID[Catlab.Graphics.Graphviz.NodeID(\"n1p1\", \"\", \"\"), Catlab.Graphics.Graphviz.NodeID(\"n1p2\", \"\", \"\")], OrderedCollections.OrderedDict{Symbol,Union{String, Catlab.Graphics.Graphviz.Html}}())], OrderedCollections.OrderedDict{Symbol,Union{String, Catlab.Graphics.Graphviz.Html}}(:rank => \"source\",:rankdir => \"TB\"), OrderedCollections.OrderedDict{Symbol,Union{String, Catlab.Graphics.Graphviz.Html}}(:style => \"invis\",:shape => \"none\",:label => \"\",:width => \"0.333\",:height => \"0\"), OrderedCollections.OrderedDict{Symbol,Union{String, Catlab.Graphics.Graphviz.Html}}(:style => \"invis\")), Catlab.Graphics.Graphviz.Subgraph(\"\", Catlab.Graphics.Graphviz.Statement[Catlab.Graphics.Graphviz.Node(\"n2p1\", OrderedCollections.OrderedDict{Symbol,Union{String, Catlab.Graphics.Graphviz.Html}}(:id => \"out1\")), Catlab.Graphics.Graphviz.Node(\"n2p2\", OrderedCollections.OrderedDict{Symbol,Union{String, Catlab.Graphics.Graphviz.Html}}(:id => \"out2\")), Catlab.Graphics.Graphviz.Edge(Catlab.Graphics.Graphviz.NodeID[Catlab.Graphics.Graphviz.NodeID(\"n2p1\", \"\", \"\"), Catlab.Graphics.Graphviz.NodeID(\"n2p2\", \"\", \"\")], OrderedCollections.OrderedDict{Symbol,Union{String, Catlab.Graphics.Graphviz.Html}}())], OrderedCollections.OrderedDict{Symbol,Union{String, Catlab.Graphics.Graphviz.Html}}(:rank => \"sink\",:rankdir => \"TB\"), OrderedCollections.OrderedDict{Symbol,Union{String, Catlab.Graphics.Graphviz.Html}}(:style => \"invis\",:shape => \"none\",:label => \"\",:width => \"0.333\",:height => \"0\"), OrderedCollections.OrderedDict{Symbol,Union{String, Catlab.Graphics.Graphviz.Html}}(:style => \"invis\")), Catlab.Graphics.Graphviz.Node(\"n3\", OrderedCollections.OrderedDict{Symbol,Union{String, Catlab.Graphics.Graphviz.Html}}(:comment => \"f\",:id => \"n3\",:label => Catlab.Graphics.Graphviz.Html(\"<TABLE BORDER=\\\"0\\\" CELLPADDING=\\\"0\\\" CELLSPACING=\\\"0\\\">\\n<TR>\\n<TD><TABLE BORDER=\\\"0\\\" CELLPADDING=\\\"0\\\" CELLSPACING=\\\"0\\\"><TR><TD HEIGHT=\\\"24\\\" WIDTH=\\\"0\\\" PORT=\\\"in1\\\"></TD></TR></TABLE></TD>\\n<TD BORDER=\\\"1\\\" CELLPADDING=\\\"4\\\">f</TD>\\n<TD><TABLE BORDER=\\\"0\\\" CELLPADDING=\\\"0\\\" CELLSPACING=\\\"0\\\"><TR><TD HEIGHT=\\\"24\\\" WIDTH=\\\"0\\\" PORT=\\\"out1\\\"></TD></TR></TABLE></TD>\\n</TR>\\n</TABLE>\"))), Catlab.Graphics.Graphviz.Node(\"n4\", OrderedCollections.OrderedDict{Symbol,Union{String, Catlab.Graphics.Graphviz.Html}}(:comment => \"h\",:id => \"n4\",:label => Catlab.Graphics.Graphviz.Html(\"<TABLE BORDER=\\\"0\\\" CELLPADDING=\\\"0\\\" CELLSPACING=\\\"0\\\">\\n<TR>\\n<TD><TABLE BORDER=\\\"0\\\" CELLPADDING=\\\"0\\\" CELLSPACING=\\\"0\\\"><TR><TD HEIGHT=\\\"24\\\" WIDTH=\\\"0\\\" PORT=\\\"in1\\\"></TD></TR></TABLE></TD>\\n<TD BORDER=\\\"1\\\" CELLPADDING=\\\"4\\\">h</TD>\\n<TD><TABLE BORDER=\\\"0\\\" CELLPADDING=\\\"0\\\" CELLSPACING=\\\"0\\\"><TR><TD HEIGHT=\\\"24\\\" WIDTH=\\\"0\\\" PORT=\\\"out1\\\"></TD></TR></TABLE></TD>\\n</TR>\\n</TABLE>\"))), Catlab.Graphics.Graphviz.Edge(Catlab.Graphics.Graphviz.NodeID[Catlab.Graphics.Graphviz.NodeID(\"n1p1\", \"e\", \"\"), Catlab.Graphics.Graphviz.NodeID(\"n3\", \"in1\", \"w\")], OrderedCollections.OrderedDict{Symbol,Union{String, Catlab.Graphics.Graphviz.Html}}(:comment => \"A\",:id => \"e1\",:xlabel => \"A\")), Catlab.Graphics.Graphviz.Edge(Catlab.Graphics.Graphviz.NodeID[Catlab.Graphics.Graphviz.NodeID(\"n1p2\", \"e\", \"\"), Catlab.Graphics.Graphviz.NodeID(\"n4\", \"in1\", \"w\")], OrderedCollections.OrderedDict{Symbol,Union{String, Catlab.Graphics.Graphviz.Html}}(:comment => \"C\",:id => \"e2\",:xlabel => \"C\")), Catlab.Graphics.Graphviz.Edge(Catlab.Graphics.Graphviz.NodeID[Catlab.Graphics.Graphviz.NodeID(\"n3\", \"out1\", \"e\"), Catlab.Graphics.Graphviz.NodeID(\"n2p1\", \"w\", \"\")], OrderedCollections.OrderedDict{Symbol,Union{String, Catlab.Graphics.Graphviz.Html}}(:comment => \"B\",:id => \"e3\",:xlabel => \"B\")), Catlab.Graphics.Graphviz.Edge(Catlab.Graphics.Graphviz.NodeID[Catlab.Graphics.Graphviz.NodeID(\"n4\", \"out1\", \"e\"), Catlab.Graphics.Graphviz.NodeID(\"n2p2\", \"w\", \"\")], OrderedCollections.OrderedDict{Symbol,Union{String, Catlab.Graphics.Graphviz.Html}}(:comment => \"D\",:id => \"e4\",:xlabel => \"D\"))], OrderedCollections.OrderedDict{Symbol,Union{String, Catlab.Graphics.Graphviz.Html}}(:fontname => \"Serif\",:rankdir => \"LR\"), OrderedCollections.OrderedDict{Symbol,Union{String, Catlab.Graphics.Graphviz.Html}}(:fontname => \"Courier\",:shape => \"none\",:width => \"0\",:height => \"0\",:margin => \"0\"), OrderedCollections.OrderedDict{Symbol,Union{String, Catlab.Graphics.Graphviz.Html}}(:arrowsize => \"0.5\",:fontname => \"Courier\"))",
      "image/svg+xml": [
       "<?xml version=\"1.0\" encoding=\"UTF-8\" standalone=\"no\"?>\n",
       "<!DOCTYPE svg PUBLIC \"-//W3C//DTD SVG 1.1//EN\"\n",
       " \"http://www.w3.org/Graphics/SVG/1.1/DTD/svg11.dtd\">\n",
       "<!-- Generated by graphviz version 2.40.1 (20161225.0304)\n",
       " -->\n",
       "<!-- Title: G Pages: 1 -->\n",
       "<svg width=\"147pt\" height=\"77pt\"\n",
       " viewBox=\"0.00 0.00 147.00 76.53\" xmlns=\"http://www.w3.org/2000/svg\" xmlns:xlink=\"http://www.w3.org/1999/xlink\">\n",
       "<g id=\"graph0\" class=\"graph\" transform=\"scale(1 1) rotate(0) translate(4 72.5308)\">\n",
       "<title>G</title>\n",
       "<polygon fill=\"#ffffff\" stroke=\"transparent\" points=\"-4,4 -4,-72.5308 143,-72.5308 143,4 -4,4\"/>\n",
       "<!-- n1p1 -->\n",
       "<!-- n1p2 -->\n",
       "<!-- n1p1&#45;&gt;n1p2 -->\n",
       "<!-- n3 -->\n",
       "<!-- f -->\n",
       "<g id=\"n3\" class=\"node\">\n",
       "<title>n3</title>\n",
       "<polygon fill=\"none\" stroke=\"#000000\" points=\"60.5,-43.0308 60.5,-68.0308 79.5,-68.0308 79.5,-43.0308 60.5,-43.0308\"/>\n",
       "<text text-anchor=\"start\" x=\"65.5\" y=\"-51.8308\" font-family=\"Courier,monospace\" font-size=\"14.00\" fill=\"#000000\">f</text>\n",
       "</g>\n",
       "<!-- n1p1&#45;&gt;n3 -->\n",
       "<!-- A -->\n",
       "<g id=\"e1\" class=\"edge\">\n",
       "<title>n1p1:e&#45;&gt;n3:w</title>\n",
       "<path fill=\"none\" stroke=\"#000000\" d=\"M24,-49.0308C38.5134,-49.0308 43.0355,-53.7069 55.2072,-54.8029\"/>\n",
       "<polygon fill=\"#000000\" stroke=\"#000000\" points=\"55.4293,-56.564 60.5,-55.0308 55.5799,-53.0672 55.4293,-56.564\"/>\n",
       "<text text-anchor=\"middle\" x=\"37.6472\" y=\"-40.8\" font-family=\"Courier,monospace\" font-size=\"14.00\" fill=\"#000000\">A</text>\n",
       "</g>\n",
       "<!-- n4 -->\n",
       "<!-- h -->\n",
       "<g id=\"n4\" class=\"node\">\n",
       "<title>n4</title>\n",
       "<polygon fill=\"none\" stroke=\"#000000\" points=\"60.5,-.0308 60.5,-25.0308 79.5,-25.0308 79.5,-.0308 60.5,-.0308\"/>\n",
       "<text text-anchor=\"start\" x=\"65.5\" y=\"-8.8308\" font-family=\"Courier,monospace\" font-size=\"14.00\" fill=\"#000000\">h</text>\n",
       "</g>\n",
       "<!-- n1p2&#45;&gt;n4 -->\n",
       "<!-- C -->\n",
       "<g id=\"e2\" class=\"edge\">\n",
       "<title>n1p2:e&#45;&gt;n4:w</title>\n",
       "<path fill=\"none\" stroke=\"#000000\" d=\"M24,-18.0308C38.5134,-18.0308 43.0355,-13.3546 55.2072,-12.2586\"/>\n",
       "<polygon fill=\"#000000\" stroke=\"#000000\" points=\"55.5799,-13.9943 60.5,-12.0308 55.4293,-10.4975 55.5799,-13.9943\"/>\n",
       "<text text-anchor=\"middle\" x=\"37.6472\" y=\"-3.8615\" font-family=\"Courier,monospace\" font-size=\"14.00\" fill=\"#000000\">C</text>\n",
       "</g>\n",
       "<!-- n2p1 -->\n",
       "<!-- n2p2 -->\n",
       "<!-- n2p1&#45;&gt;n2p2 -->\n",
       "<!-- n3&#45;&gt;n2p1 -->\n",
       "<!-- B -->\n",
       "<g id=\"e3\" class=\"edge\">\n",
       "<title>n3:e&#45;&gt;n2p1:w</title>\n",
       "<path fill=\"none\" stroke=\"#000000\" d=\"M79,-55.0308C93.3198,-55.0308 97.7714,-50.3546 109.7783,-49.2586\"/>\n",
       "<polygon fill=\"#000000\" stroke=\"#000000\" points=\"110.0811,-50.9972 115,-49.0308 109.9284,-47.5005 110.0811,-50.9972\"/>\n",
       "<text text-anchor=\"middle\" x=\"92.3986\" y=\"-40.8615\" font-family=\"Courier,monospace\" font-size=\"14.00\" fill=\"#000000\">B</text>\n",
       "</g>\n",
       "<!-- n4&#45;&gt;n2p2 -->\n",
       "<!-- D -->\n",
       "<g id=\"e4\" class=\"edge\">\n",
       "<title>n4:e&#45;&gt;n2p2:w</title>\n",
       "<path fill=\"none\" stroke=\"#000000\" d=\"M79,-12.0308C93.3198,-12.0308 97.7714,-16.7069 109.7783,-17.8029\"/>\n",
       "<polygon fill=\"#000000\" stroke=\"#000000\" points=\"109.9284,-19.561 115,-18.0308 110.0811,-16.0643 109.9284,-19.561\"/>\n",
       "<text text-anchor=\"middle\" x=\"92.3986\" y=\"-3.8\" font-family=\"Courier,monospace\" font-size=\"14.00\" fill=\"#000000\">D</text>\n",
       "</g>\n",
       "</g>\n",
       "</svg>\n",
       "\n"
      ]
     },
     "metadata": {},
     "execution_count": 19
    }
   ],
   "cell_type": "code",
   "source": [
    "show_diagram(d)"
   ],
   "metadata": {},
   "execution_count": 19
  }
 ],
 "nbformat_minor": 3,
 "metadata": {
  "language_info": {
   "file_extension": ".jl",
   "mimetype": "application/julia",
   "name": "julia",
   "version": "1.3.1"
  },
  "kernelspec": {
   "name": "julia-1.3",
   "display_name": "Julia 1.3.1",
   "language": "julia"
  }
 },
 "nbformat": 4
}
