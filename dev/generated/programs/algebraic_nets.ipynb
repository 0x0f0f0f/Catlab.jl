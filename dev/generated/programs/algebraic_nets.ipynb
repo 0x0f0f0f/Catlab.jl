{
 "cells": [
  {
   "outputs": [],
   "cell_type": "markdown",
   "source": [
    "# Algebraic networks"
   ],
   "metadata": {}
  },
  {
   "outputs": [],
   "cell_type": "code",
   "source": [
    "using Catlab.Programs\n",
    "\n",
    "import TikzPictures\n",
    "using Catlab.Graphics"
   ],
   "metadata": {},
   "execution_count": 1
  },
  {
   "outputs": [],
   "cell_type": "code",
   "source": [
    "R = Ob(AlgebraicNet, \"\\\\mathbb{R}\")\n",
    "f_sin = Hom(:sin, R, R)\n",
    "f_cos = Hom(:cos, R, R)\n",
    "display(f_sin)\n",
    "display(f_cos)"
   ],
   "metadata": {},
   "execution_count": 2
  },
  {
   "outputs": [
    {
     "output_type": "execute_result",
     "data": {
      "text/plain": "compose(mcopy(\\mathbb{R},2),otimes(sin,cos),mmerge(\\mathbb{R},2))",
      "text/latex": "$\\Delta_{\\mathbb{R},2} ; \\left(\\mathrm{sin} \\otimes \\mathrm{cos}\\right) ; \\nabla_{\\mathbb{R},2} : \\mathbb{R} \\to \\mathbb{R}$"
     },
     "metadata": {},
     "execution_count": 3
    }
   ],
   "cell_type": "code",
   "source": [
    "f = compose(mcopy(R),otimes(f_sin,f_cos),mmerge(R))"
   ],
   "metadata": {},
   "execution_count": 3
  },
  {
   "outputs": [
    {
     "output_type": "execute_result",
     "data": {
      "text/plain": "Catlab.Graphics.TikZ.Document(Catlab.Graphics.TikZ.Picture(Catlab.Graphics.TikZ.Statement[Catlab.Graphics.TikZ.Node(\"root\", Catlab.Graphics.TikZ.Property[Catlab.Graphics.TikZ.Property(\"outer box\", nothing), Catlab.Graphics.TikZ.Property(\"minimum width\", \"14em\"), Catlab.Graphics.TikZ.Property(\"minimum height\", \"7em\")], Catlab.Graphics.TikZ.Coordinate(\"0\", \"0\"), \"\"), Catlab.Graphics.TikZ.Node(\"n3\", Catlab.Graphics.TikZ.Property[Catlab.Graphics.TikZ.Property(\"junction\", nothing), Catlab.Graphics.TikZ.Property(\"minimum size\", \"0.5em\")], Catlab.Graphics.TikZ.Coordinate(\"-4\", \"0\"), \"\"), Catlab.Graphics.TikZ.Node(\"n4\", Catlab.Graphics.TikZ.Property[Catlab.Graphics.TikZ.Property(\"box\", nothing), Catlab.Graphics.TikZ.Property(\"minimum size\", \"2em\")], Catlab.Graphics.TikZ.Coordinate(\"0\", \"1.5\"), \"\\$\\\\mathrm{sin}\\$\"), Catlab.Graphics.TikZ.Node(\"n5\", Catlab.Graphics.TikZ.Property[Catlab.Graphics.TikZ.Property(\"box\", nothing), Catlab.Graphics.TikZ.Property(\"minimum size\", \"2em\")], Catlab.Graphics.TikZ.Coordinate(\"0\", \"-1.5\"), \"\\$\\\\mathrm{cos}\\$\"), Catlab.Graphics.TikZ.Node(\"n6\", Catlab.Graphics.TikZ.Property[Catlab.Graphics.TikZ.Property(\"junction\", nothing), Catlab.Graphics.TikZ.Property(\"minimum size\", \"0.5em\")], Catlab.Graphics.TikZ.Coordinate(\"4\", \"0\"), \"\"), Catlab.Graphics.TikZ.Edge(Catlab.Graphics.TikZ.PathExpression[Catlab.Graphics.TikZ.NodeCoordinate(\"root.west\"), Catlab.Graphics.TikZ.PathOperation(\"to\", Catlab.Graphics.TikZ.Property[Catlab.Graphics.TikZ.Property(\"out\", \"0\"), Catlab.Graphics.TikZ.Property(\"in\", \"180\")]), Catlab.Graphics.TikZ.NodeCoordinate(\"n3.180\")], Catlab.Graphics.TikZ.Property[Catlab.Graphics.TikZ.Property(\"wire\", \"\\$\\\\mathbb{R}\\$\")]), Catlab.Graphics.TikZ.Edge(Catlab.Graphics.TikZ.PathExpression[Catlab.Graphics.TikZ.NodeCoordinate(\"n3.30\"), Catlab.Graphics.TikZ.PathOperation(\"to\", Catlab.Graphics.TikZ.Property[Catlab.Graphics.TikZ.Property(\"out\", \"30\"), Catlab.Graphics.TikZ.Property(\"in\", \"-180\")]), Catlab.Graphics.TikZ.NodeCoordinate(\"n4.west\")], Catlab.Graphics.TikZ.Property[Catlab.Graphics.TikZ.Property(\"wire\", nothing)]), Catlab.Graphics.TikZ.Edge(Catlab.Graphics.TikZ.PathExpression[Catlab.Graphics.TikZ.NodeCoordinate(\"n3.-30\"), Catlab.Graphics.TikZ.PathOperation(\"to\", Catlab.Graphics.TikZ.Property[Catlab.Graphics.TikZ.Property(\"out\", \"-30\"), Catlab.Graphics.TikZ.Property(\"in\", \"-180\")]), Catlab.Graphics.TikZ.NodeCoordinate(\"n5.west\")], Catlab.Graphics.TikZ.Property[Catlab.Graphics.TikZ.Property(\"wire\", nothing)]), Catlab.Graphics.TikZ.Edge(Catlab.Graphics.TikZ.PathExpression[Catlab.Graphics.TikZ.NodeCoordinate(\"n4.east\"), Catlab.Graphics.TikZ.PathOperation(\"to\", Catlab.Graphics.TikZ.Property[Catlab.Graphics.TikZ.Property(\"out\", \"0\"), Catlab.Graphics.TikZ.Property(\"in\", \"150\")]), Catlab.Graphics.TikZ.NodeCoordinate(\"n6.150\")], Catlab.Graphics.TikZ.Property[Catlab.Graphics.TikZ.Property(\"wire\", nothing)]), Catlab.Graphics.TikZ.Edge(Catlab.Graphics.TikZ.PathExpression[Catlab.Graphics.TikZ.NodeCoordinate(\"n5.east\"), Catlab.Graphics.TikZ.PathOperation(\"to\", Catlab.Graphics.TikZ.Property[Catlab.Graphics.TikZ.Property(\"out\", \"0\"), Catlab.Graphics.TikZ.Property(\"in\", \"-150\")]), Catlab.Graphics.TikZ.NodeCoordinate(\"n6.-150\")], Catlab.Graphics.TikZ.Property[Catlab.Graphics.TikZ.Property(\"wire\", nothing)]), Catlab.Graphics.TikZ.Edge(Catlab.Graphics.TikZ.PathExpression[Catlab.Graphics.TikZ.NodeCoordinate(\"n6.0\"), Catlab.Graphics.TikZ.PathOperation(\"to\", Catlab.Graphics.TikZ.Property[Catlab.Graphics.TikZ.Property(\"out\", \"0\"), Catlab.Graphics.TikZ.Property(\"in\", \"180\")]), Catlab.Graphics.TikZ.NodeCoordinate(\"root.east\")], Catlab.Graphics.TikZ.Property[Catlab.Graphics.TikZ.Property(\"wire\", \"\\$\\\\mathbb{R}\\$\")])], Catlab.Graphics.TikZ.Property[Catlab.Graphics.TikZ.Property(\"x\", \"1em\"), Catlab.Graphics.TikZ.Property(\"y\", \"1em\"), Catlab.Graphics.TikZ.Property(\"outer box/.style\", Catlab.Graphics.TikZ.Property[Catlab.Graphics.TikZ.Property(\"draw\", \"none\")]), Catlab.Graphics.TikZ.Property(\"box/.style\", Catlab.Graphics.TikZ.Property[Catlab.Graphics.TikZ.Property(\"rectangle\", nothing), Catlab.Graphics.TikZ.Property(\"draw\", nothing), Catlab.Graphics.TikZ.Property(\"solid\", nothing), Catlab.Graphics.TikZ.Property(\"rounded corners\", nothing)]), Catlab.Graphics.TikZ.Property(\"circular box/.style\", Catlab.Graphics.TikZ.Property[Catlab.Graphics.TikZ.Property(\"circle\", nothing), Catlab.Graphics.TikZ.Property(\"draw\", nothing), Catlab.Graphics.TikZ.Property(\"solid\", nothing)]), Catlab.Graphics.TikZ.Property(\"junction/.style\", Catlab.Graphics.TikZ.Property[Catlab.Graphics.TikZ.Property(\"circle\", nothing), Catlab.Graphics.TikZ.Property(\"draw\", nothing), Catlab.Graphics.TikZ.Property(\"fill\", nothing), Catlab.Graphics.TikZ.Property(\"inner sep\", \"0\")]), Catlab.Graphics.TikZ.Property(\"variant junction/.style\", Catlab.Graphics.TikZ.Property[Catlab.Graphics.TikZ.Property(\"circle\", nothing), Catlab.Graphics.TikZ.Property(\"draw\", nothing), Catlab.Graphics.TikZ.Property(\"solid\", nothing), Catlab.Graphics.TikZ.Property(\"inner sep\", \"0\")]), Catlab.Graphics.TikZ.Property(\"invisible/.style\", Catlab.Graphics.TikZ.Property[Catlab.Graphics.TikZ.Property(\"draw\", \"none\"), Catlab.Graphics.TikZ.Property(\"inner sep\", \"0\")]), Catlab.Graphics.TikZ.Property(\"wire/.style\", Catlab.Graphics.TikZ.Property[Catlab.Graphics.TikZ.Property(\"draw\", nothing), Catlab.Graphics.TikZ.Property(\"postaction\", Catlab.Graphics.TikZ.Property[Catlab.Graphics.TikZ.Property(\"decorate\", nothing)]), Catlab.Graphics.TikZ.Property(\"decoration\", Catlab.Graphics.TikZ.Property[Catlab.Graphics.TikZ.Property(\"markings\", nothing), Catlab.Graphics.TikZ.Property(\"mark\", \"at position 0.5 with {\\\\node[anchor=south] {#1};}\")])])]), [\"calc\", \"decorations.markings\"])",
      "image/svg+xml": [
       "<?xml version=\"1.0\" encoding=\"UTF-8\"?>\n",
       "<svg xmlns=\"http://www.w3.org/2000/svg\" xmlns:xlink=\"http://www.w3.org/1999/xlink\" width=\"140.274pt\" height=\"69.738pt\" viewBox=\"0 0 140.274 69.738\" version=\"1.1\">\n",
       "<defs>\n",
       "<g>\n",
       "<symbol overflow=\"visible\" id=\"glyph-1579380403673620-0-0\">\n",
       "<path style=\"stroke:none;\" d=\"\"/>\n",
       "</symbol>\n",
       "<symbol overflow=\"visible\" id=\"glyph-1579380403673620-0-1\">\n",
       "<path style=\"stroke:none;\" d=\"M 2.078125 -1.9375 C 2.296875 -1.890625 3.109375 -1.734375 3.109375 -1.015625 C 3.109375 -0.515625 2.765625 -0.109375 1.984375 -0.109375 C 1.140625 -0.109375 0.78125 -0.671875 0.59375 -1.53125 C 0.5625 -1.65625 0.5625 -1.6875 0.453125 -1.6875 C 0.328125 -1.6875 0.328125 -1.625 0.328125 -1.453125 L 0.328125 -0.125 C 0.328125 0.046875 0.328125 0.109375 0.4375 0.109375 C 0.484375 0.109375 0.5 0.09375 0.6875 -0.09375 C 0.703125 -0.109375 0.703125 -0.125 0.890625 -0.3125 C 1.328125 0.09375 1.78125 0.109375 1.984375 0.109375 C 3.125 0.109375 3.59375 -0.5625 3.59375 -1.28125 C 3.59375 -1.796875 3.296875 -2.109375 3.171875 -2.21875 C 2.84375 -2.546875 2.453125 -2.625 2.03125 -2.703125 C 1.46875 -2.8125 0.8125 -2.9375 0.8125 -3.515625 C 0.8125 -3.875 1.0625 -4.28125 1.921875 -4.28125 C 3.015625 -4.28125 3.078125 -3.375 3.09375 -3.078125 C 3.09375 -2.984375 3.1875 -2.984375 3.203125 -2.984375 C 3.34375 -2.984375 3.34375 -3.03125 3.34375 -3.21875 L 3.34375 -4.234375 C 3.34375 -4.390625 3.34375 -4.46875 3.234375 -4.46875 C 3.1875 -4.46875 3.15625 -4.46875 3.03125 -4.34375 C 3 -4.3125 2.90625 -4.21875 2.859375 -4.1875 C 2.484375 -4.46875 2.078125 -4.46875 1.921875 -4.46875 C 0.703125 -4.46875 0.328125 -3.796875 0.328125 -3.234375 C 0.328125 -2.890625 0.484375 -2.609375 0.75 -2.390625 C 1.078125 -2.140625 1.359375 -2.078125 2.078125 -1.9375 Z M 2.078125 -1.9375 \"/>\n",
       "</symbol>\n",
       "<symbol overflow=\"visible\" id=\"glyph-1579380403673620-0-2\">\n",
       "<path style=\"stroke:none;\" d=\"M 1.765625 -4.40625 L 0.375 -4.296875 L 0.375 -3.984375 C 1.015625 -3.984375 1.109375 -3.921875 1.109375 -3.4375 L 1.109375 -0.75 C 1.109375 -0.3125 1 -0.3125 0.328125 -0.3125 L 0.328125 0 C 0.640625 -0.015625 1.1875 -0.03125 1.421875 -0.03125 C 1.78125 -0.03125 2.125 -0.015625 2.46875 0 L 2.46875 -0.3125 C 1.796875 -0.3125 1.765625 -0.359375 1.765625 -0.75 Z M 1.796875 -6.140625 C 1.796875 -6.453125 1.5625 -6.671875 1.28125 -6.671875 C 0.96875 -6.671875 0.75 -6.40625 0.75 -6.140625 C 0.75 -5.875 0.96875 -5.609375 1.28125 -5.609375 C 1.5625 -5.609375 1.796875 -5.828125 1.796875 -6.140625 Z M 1.796875 -6.140625 \"/>\n",
       "</symbol>\n",
       "<symbol overflow=\"visible\" id=\"glyph-1579380403673620-0-3\">\n",
       "<path style=\"stroke:none;\" d=\"M 1.09375 -3.421875 L 1.09375 -0.75 C 1.09375 -0.3125 0.984375 -0.3125 0.3125 -0.3125 L 0.3125 0 C 0.671875 -0.015625 1.171875 -0.03125 1.453125 -0.03125 C 1.703125 -0.03125 2.21875 -0.015625 2.5625 0 L 2.5625 -0.3125 C 1.890625 -0.3125 1.78125 -0.3125 1.78125 -0.75 L 1.78125 -2.59375 C 1.78125 -3.625 2.5 -4.1875 3.125 -4.1875 C 3.765625 -4.1875 3.875 -3.65625 3.875 -3.078125 L 3.875 -0.75 C 3.875 -0.3125 3.765625 -0.3125 3.09375 -0.3125 L 3.09375 0 C 3.4375 -0.015625 3.953125 -0.03125 4.21875 -0.03125 C 4.46875 -0.03125 5 -0.015625 5.328125 0 L 5.328125 -0.3125 C 4.8125 -0.3125 4.5625 -0.3125 4.5625 -0.609375 L 4.5625 -2.515625 C 4.5625 -3.375 4.5625 -3.671875 4.25 -4.03125 C 4.109375 -4.203125 3.78125 -4.40625 3.203125 -4.40625 C 2.46875 -4.40625 2 -3.984375 1.71875 -3.359375 L 1.71875 -4.40625 L 0.3125 -4.296875 L 0.3125 -3.984375 C 1.015625 -3.984375 1.09375 -3.921875 1.09375 -3.421875 Z M 1.09375 -3.421875 \"/>\n",
       "</symbol>\n",
       "<symbol overflow=\"visible\" id=\"glyph-1579380403673620-0-4\">\n",
       "<path style=\"stroke:none;\" d=\"M 1.171875 -2.171875 C 1.171875 -3.796875 1.984375 -4.21875 2.515625 -4.21875 C 2.609375 -4.21875 3.234375 -4.203125 3.578125 -3.84375 C 3.171875 -3.8125 3.109375 -3.515625 3.109375 -3.390625 C 3.109375 -3.125 3.296875 -2.9375 3.5625 -2.9375 C 3.828125 -2.9375 4.03125 -3.09375 4.03125 -3.40625 C 4.03125 -4.078125 3.265625 -4.46875 2.5 -4.46875 C 1.25 -4.46875 0.34375 -3.390625 0.34375 -2.15625 C 0.34375 -0.875 1.328125 0.109375 2.484375 0.109375 C 3.8125 0.109375 4.140625 -1.09375 4.140625 -1.1875 C 4.140625 -1.28125 4.03125 -1.28125 4 -1.28125 C 3.921875 -1.28125 3.890625 -1.25 3.875 -1.1875 C 3.59375 -0.265625 2.9375 -0.140625 2.578125 -0.140625 C 2.046875 -0.140625 1.171875 -0.5625 1.171875 -2.171875 Z M 1.171875 -2.171875 \"/>\n",
       "</symbol>\n",
       "<symbol overflow=\"visible\" id=\"glyph-1579380403673620-0-5\">\n",
       "<path style=\"stroke:none;\" d=\"M 4.6875 -2.140625 C 4.6875 -3.40625 3.703125 -4.46875 2.5 -4.46875 C 1.25 -4.46875 0.28125 -3.375 0.28125 -2.140625 C 0.28125 -0.84375 1.3125 0.109375 2.484375 0.109375 C 3.6875 0.109375 4.6875 -0.875 4.6875 -2.140625 Z M 2.5 -0.140625 C 2.0625 -0.140625 1.625 -0.34375 1.359375 -0.8125 C 1.109375 -1.25 1.109375 -1.859375 1.109375 -2.21875 C 1.109375 -2.609375 1.109375 -3.140625 1.34375 -3.578125 C 1.609375 -4.03125 2.078125 -4.25 2.484375 -4.25 C 2.921875 -4.25 3.34375 -4.03125 3.609375 -3.59375 C 3.875 -3.171875 3.875 -2.59375 3.875 -2.21875 C 3.875 -1.859375 3.875 -1.3125 3.65625 -0.875 C 3.421875 -0.421875 2.984375 -0.140625 2.5 -0.140625 Z M 2.5 -0.140625 \"/>\n",
       "</symbol>\n",
       "<symbol overflow=\"visible\" id=\"glyph-1579380403673620-1-0\">\n",
       "<path style=\"stroke:none;\" d=\"\"/>\n",
       "</symbol>\n",
       "<symbol overflow=\"visible\" id=\"glyph-1579380403673620-1-1\">\n",
       "<path style=\"stroke:none;\" d=\"M 2.671875 -3.125 L 3.03125 -3.125 L 4.53125 -0.8125 C 4.625 -0.65625 4.859375 -0.265625 4.96875 -0.125 C 5.046875 0 5.078125 0 5.296875 0 L 6.671875 0 C 6.859375 0 7.015625 0 7.015625 -0.171875 C 7.015625 -0.265625 6.953125 -0.328125 6.859375 -0.34375 C 6.484375 -0.421875 6 -1.09375 5.765625 -1.40625 C 5.6875 -1.5 5.1875 -2.15625 4.53125 -3.234375 C 5.40625 -3.40625 6.265625 -3.78125 6.265625 -4.96875 C 6.265625 -6.34375 4.8125 -6.828125 3.625 -6.828125 L 0.5 -6.828125 C 0.3125 -6.828125 0.15625 -6.828125 0.15625 -6.65625 C 0.15625 -6.484375 0.34375 -6.484375 0.421875 -6.484375 C 1 -6.484375 1.046875 -6.40625 1.046875 -5.90625 L 1.046875 -0.921875 C 1.046875 -0.421875 1 -0.34375 0.421875 -0.34375 C 0.34375 -0.34375 0.15625 -0.34375 0.15625 -0.171875 C 0.15625 0 0.3125 0 0.5 0 L 3.234375 0 C 3.40625 0 3.5625 0 3.5625 -0.171875 C 3.5625 -0.34375 3.390625 -0.34375 3.28125 -0.34375 C 2.71875 -0.34375 2.671875 -0.421875 2.671875 -0.921875 Z M 4.59375 -3.625 C 4.875 -3.984375 4.90625 -4.515625 4.90625 -4.953125 C 4.90625 -5.4375 4.84375 -5.96875 4.53125 -6.375 C 4.9375 -6.28125 5.921875 -5.96875 5.921875 -4.96875 C 5.921875 -4.3125 5.625 -3.8125 4.59375 -3.625 Z M 2.671875 -5.9375 C 2.671875 -6.15625 2.671875 -6.484375 3.296875 -6.484375 C 4.140625 -6.484375 4.5625 -6.125 4.5625 -4.953125 C 4.5625 -3.671875 4.25 -3.484375 2.671875 -3.484375 Z M 1.3125 -0.34375 C 1.390625 -0.53125 1.390625 -0.8125 1.390625 -0.890625 L 1.390625 -5.9375 C 1.390625 -6.03125 1.390625 -6.296875 1.3125 -6.484375 L 2.453125 -6.484375 C 2.328125 -6.3125 2.328125 -6.125 2.328125 -5.96875 L 2.328125 -0.890625 C 2.328125 -0.796875 2.328125 -0.53125 2.40625 -0.34375 Z M 3.4375 -3.125 C 3.515625 -3.140625 3.546875 -3.15625 3.625 -3.15625 C 3.78125 -3.15625 4 -3.171875 4.140625 -3.1875 C 4.296875 -2.953125 5.375 -1.171875 6.203125 -0.34375 L 5.234375 -0.34375 Z M 3.4375 -3.125 \"/>\n",
       "</symbol>\n",
       "</g>\n",
       "<clipPath id=\"clip-1579380403673620-1\">\n",
       "  <path d=\"M 107 29 L 140.273438 29 L 140.273438 41 L 107 41 Z M 107 29 \"/>\n",
       "</clipPath>\n",
       "</defs>\n",
       "<g id=\"surface1\">\n",
       "<path style=\"fill-rule:nonzero;fill:rgb(0%,0%,0%);fill-opacity:1;stroke-width:0.3985;stroke-linecap:butt;stroke-linejoin:miter;stroke:rgb(0%,0%,0%);stroke-opacity:1;stroke-miterlimit:10;\" d=\"M -37.359656 0.0018125 C -37.359656 1.376812 -38.476844 2.490094 -39.851844 2.490094 C -41.226844 2.490094 -42.340125 1.376812 -42.340125 0.0018125 C -42.340125 -1.377094 -41.226844 -2.490375 -39.851844 -2.490375 C -38.476844 -2.490375 -37.359656 -1.377094 -37.359656 0.0018125 Z M -37.359656 0.0018125 \" transform=\"matrix(1,0,0,-1,70.137,34.869)\"/>\n",
       "<path style=\"fill:none;stroke-width:0.3985;stroke-linecap:butt;stroke-linejoin:miter;stroke:rgb(0%,0%,0%);stroke-opacity:1;stroke-miterlimit:10;\" d=\"M 5.976281 24.908062 L -5.976844 24.908062 C -8.179969 24.908062 -9.961219 23.122906 -9.961219 20.923687 L -9.961219 8.966656 C -9.961219 6.767437 -8.179969 4.982281 -5.976844 4.982281 L 5.976281 4.982281 C 8.179406 4.982281 9.964562 6.767437 9.964562 8.966656 L 9.964562 20.923687 C 9.964562 23.122906 8.179406 24.908062 5.976281 24.908062 Z M 5.976281 24.908062 \" transform=\"matrix(1,0,0,-1,70.137,34.869)\"/>\n",
       "<g style=\"fill:rgb(0%,0%,0%);fill-opacity:1;\">\n",
       "  <use xlink:href=\"#glyph-1579380403673620-0-1\" x=\"64.021\" y=\"23.252\"/>\n",
       "  <use xlink:href=\"#glyph-1579380403673620-0-2\" x=\"67.950265\" y=\"23.252\"/>\n",
       "  <use xlink:href=\"#glyph-1579380403673620-0-3\" x=\"70.717887\" y=\"23.252\"/>\n",
       "</g>\n",
       "<path style=\"fill:none;stroke-width:0.3985;stroke-linecap:butt;stroke-linejoin:miter;stroke:rgb(0%,0%,0%);stroke-opacity:1;stroke-miterlimit:10;\" d=\"M 6.003625 -4.982563 L -6.004188 -4.982563 C -8.207313 -4.982563 -9.988563 -6.763813 -9.988563 -8.966938 L -9.988563 -20.920063 C -9.988563 -23.123188 -8.207313 -24.908344 -6.004188 -24.908344 L 6.003625 -24.908344 C 8.20675 -24.908344 9.991906 -23.123188 9.991906 -20.920063 L 9.991906 -8.966938 C 9.991906 -6.763813 8.20675 -4.982563 6.003625 -4.982563 Z M 6.003625 -4.982563 \" transform=\"matrix(1,0,0,-1,70.137,34.869)\"/>\n",
       "<g style=\"fill:rgb(0%,0%,0%);fill-opacity:1;\">\n",
       "  <use xlink:href=\"#glyph-1579380403673620-0-4\" x=\"63.468\" y=\"51.957\"/>\n",
       "  <use xlink:href=\"#glyph-1579380403673620-0-5\" x=\"67.895397\" y=\"51.957\"/>\n",
       "  <use xlink:href=\"#glyph-1579380403673620-0-1\" x=\"72.876717\" y=\"51.957\"/>\n",
       "</g>\n",
       "<path style=\"fill-rule:nonzero;fill:rgb(0%,0%,0%);fill-opacity:1;stroke-width:0.3985;stroke-linecap:butt;stroke-linejoin:miter;stroke:rgb(0%,0%,0%);stroke-opacity:1;stroke-miterlimit:10;\" d=\"M 42.343469 0.0018125 C 42.343469 1.376812 41.226281 2.490094 39.851281 2.490094 C 38.476281 2.490094 37.359094 1.376812 37.359094 0.0018125 C 37.359094 -1.377094 38.476281 -2.490375 39.851281 -2.490375 C 41.226281 -2.490375 42.343469 -1.377094 42.343469 0.0018125 Z M 42.343469 0.0018125 \" transform=\"matrix(1,0,0,-1,70.137,34.869)\"/>\n",
       "<path style=\"fill:none;stroke-width:0.3985;stroke-linecap:butt;stroke-linejoin:miter;stroke:rgb(0%,0%,0%);stroke-opacity:1;stroke-miterlimit:10;\" d=\"M -69.937781 0.0018125 C -59.254188 0.0018125 -53.226844 0.0018125 -42.539344 0.0018125 \" transform=\"matrix(1,0,0,-1,70.137,34.869)\"/>\n",
       "<g style=\"fill:rgb(0%,0%,0%);fill-opacity:1;\">\n",
       "  <use xlink:href=\"#glyph-1579380403673620-1-1\" x=\"10.3\" y=\"31.349\"/>\n",
       "</g>\n",
       "<path style=\"fill:none;stroke-width:0.3985;stroke-linecap:butt;stroke-linejoin:miter;stroke:rgb(0%,0%,0%);stroke-opacity:1;stroke-miterlimit:10;\" d=\"M -37.515906 1.349469 C -27.191688 7.310406 -22.082313 14.943219 -10.160438 14.943219 \" transform=\"matrix(1,0,0,-1,70.137,34.869)\"/>\n",
       "<path style=\"fill:none;stroke-width:0.3985;stroke-linecap:butt;stroke-linejoin:miter;stroke:rgb(0%,0%,0%);stroke-opacity:1;stroke-miterlimit:10;\" d=\"M -37.515906 -1.34975 C -27.203406 -7.302875 -22.097938 -14.9435 -10.187781 -14.9435 \" transform=\"matrix(1,0,0,-1,70.137,34.869)\"/>\n",
       "<path style=\"fill:none;stroke-width:0.3985;stroke-linecap:butt;stroke-linejoin:miter;stroke:rgb(0%,0%,0%);stroke-opacity:1;stroke-miterlimit:10;\" d=\"M 10.163781 14.943219 C 22.08175 14.943219 27.191125 7.310406 37.515344 1.349469 \" transform=\"matrix(1,0,0,-1,70.137,34.869)\"/>\n",
       "<path style=\"fill:none;stroke-width:0.3985;stroke-linecap:butt;stroke-linejoin:miter;stroke:rgb(0%,0%,0%);stroke-opacity:1;stroke-miterlimit:10;\" d=\"M 10.191125 -14.9435 C 22.097375 -14.9435 27.202844 -7.302875 37.515344 -1.34975 \" transform=\"matrix(1,0,0,-1,70.137,34.869)\"/>\n",
       "<g clip-path=\"url(#clip-1579380403673620-1)\" clip-rule=\"nonzero\">\n",
       "<path style=\"fill:none;stroke-width:0.3985;stroke-linecap:butt;stroke-linejoin:miter;stroke:rgb(0%,0%,0%);stroke-opacity:1;stroke-miterlimit:10;\" d=\"M 42.542687 0.0018125 C 53.226281 0.0018125 59.253625 0.0018125 69.937219 0.0018125 \" transform=\"matrix(1,0,0,-1,70.137,34.869)\"/>\n",
       "</g>\n",
       "<g style=\"fill:rgb(0%,0%,0%);fill-opacity:1;\">\n",
       "  <use xlink:href=\"#glyph-1579380403673620-1-1\" x=\"122.778\" y=\"31.349\"/>\n",
       "</g>\n",
       "</g>\n",
       "</svg>\n",
       "\n"
      ]
     },
     "metadata": {},
     "execution_count": 4
    }
   ],
   "cell_type": "code",
   "source": [
    "to_tikz(f, labels=true)"
   ],
   "metadata": {},
   "execution_count": 4
  },
  {
   "outputs": [
    {
     "output_type": "execute_result",
     "data": {
      "text/plain": "(:(function (x,)\n      v1 = sin.(x)\n      v2 = cos.(x)\n      v3 = v1 .+ v2\n      return v3\n  end), Symbol[])"
     },
     "metadata": {},
     "execution_count": 5
    }
   ],
   "cell_type": "code",
   "source": [
    "compile_expr(f; args=[:x])"
   ],
   "metadata": {},
   "execution_count": 5
  },
  {
   "outputs": [
    {
     "output_type": "execute_result",
     "data": {
      "text/plain": "Formula(:+, Formula(:sin, :x), Formula(:cos, :x))",
      "text/latex": "$\\sin\\left(x\\right) + \\cos\\left(x\\right)$"
     },
     "metadata": {},
     "execution_count": 6
    }
   ],
   "cell_type": "code",
   "source": [
    "to_formula(f, [:x])"
   ],
   "metadata": {},
   "execution_count": 6
  },
  {
   "outputs": [
    {
     "output_type": "execute_result",
     "data": {
      "text/plain": "compose(mcopy(\\mathbb{R},3),otimes(sin,cos,sin))",
      "text/latex": "$\\Delta_{\\mathbb{R},3} ; \\left(\\mathrm{sin} \\otimes \\mathrm{cos} \\otimes \\mathrm{sin}\\right) : \\mathbb{R} \\to \\mathbb{R} \\otimes \\mathbb{R} \\otimes \\mathbb{R}$"
     },
     "metadata": {},
     "execution_count": 7
    }
   ],
   "cell_type": "code",
   "source": [
    "f = compose(mcopy(R,3), otimes(f_sin, f_cos, f_sin))"
   ],
   "metadata": {},
   "execution_count": 7
  },
  {
   "outputs": [
    {
     "output_type": "execute_result",
     "data": {
      "text/plain": "Catlab.Graphics.TikZ.Document(Catlab.Graphics.TikZ.Picture(Catlab.Graphics.TikZ.Statement[Catlab.Graphics.TikZ.Node(\"root\", Catlab.Graphics.TikZ.Property[Catlab.Graphics.TikZ.Property(\"outer box\", nothing), Catlab.Graphics.TikZ.Property(\"minimum size\", \"10em\")], Catlab.Graphics.TikZ.Coordinate(\"0\", \"0\"), \"\"), Catlab.Graphics.TikZ.Node(\"n3\", Catlab.Graphics.TikZ.Property[Catlab.Graphics.TikZ.Property(\"junction\", nothing), Catlab.Graphics.TikZ.Property(\"minimum size\", \"0.5em\")], Catlab.Graphics.TikZ.Coordinate(\"-2\", \"0\"), \"\"), Catlab.Graphics.TikZ.Node(\"n4\", Catlab.Graphics.TikZ.Property[Catlab.Graphics.TikZ.Property(\"box\", nothing), Catlab.Graphics.TikZ.Property(\"minimum size\", \"2em\")], Catlab.Graphics.TikZ.Coordinate(\"2\", \"3\"), \"\\$\\\\mathrm{sin}\\$\"), Catlab.Graphics.TikZ.Node(\"n5\", Catlab.Graphics.TikZ.Property[Catlab.Graphics.TikZ.Property(\"box\", nothing), Catlab.Graphics.TikZ.Property(\"minimum size\", \"2em\")], Catlab.Graphics.TikZ.Coordinate(\"2\", \"0\"), \"\\$\\\\mathrm{cos}\\$\"), Catlab.Graphics.TikZ.Node(\"n6\", Catlab.Graphics.TikZ.Property[Catlab.Graphics.TikZ.Property(\"box\", nothing), Catlab.Graphics.TikZ.Property(\"minimum size\", \"2em\")], Catlab.Graphics.TikZ.Coordinate(\"2\", \"-3\"), \"\\$\\\\mathrm{sin}\\$\"), Catlab.Graphics.TikZ.Edge(Catlab.Graphics.TikZ.PathExpression[Catlab.Graphics.TikZ.NodeCoordinate(\"root.west\"), Catlab.Graphics.TikZ.PathOperation(\"to\", Catlab.Graphics.TikZ.Property[Catlab.Graphics.TikZ.Property(\"out\", \"0\"), Catlab.Graphics.TikZ.Property(\"in\", \"180\")]), Catlab.Graphics.TikZ.NodeCoordinate(\"n3.180\")], Catlab.Graphics.TikZ.Property[Catlab.Graphics.TikZ.Property(\"wire\", nothing)]), Catlab.Graphics.TikZ.Edge(Catlab.Graphics.TikZ.PathExpression[Catlab.Graphics.TikZ.NodeCoordinate(\"n3.45\"), Catlab.Graphics.TikZ.PathOperation(\"to\", Catlab.Graphics.TikZ.Property[Catlab.Graphics.TikZ.Property(\"out\", \"45\"), Catlab.Graphics.TikZ.Property(\"in\", \"-180\")]), Catlab.Graphics.TikZ.NodeCoordinate(\"n4.west\")], Catlab.Graphics.TikZ.Property[Catlab.Graphics.TikZ.Property(\"wire\", nothing)]), Catlab.Graphics.TikZ.Edge(Catlab.Graphics.TikZ.PathExpression[Catlab.Graphics.TikZ.NodeCoordinate(\"n3.0\"), Catlab.Graphics.TikZ.PathOperation(\"to\", Catlab.Graphics.TikZ.Property[Catlab.Graphics.TikZ.Property(\"out\", \"0\"), Catlab.Graphics.TikZ.Property(\"in\", \"-180\")]), Catlab.Graphics.TikZ.NodeCoordinate(\"n5.west\")], Catlab.Graphics.TikZ.Property[Catlab.Graphics.TikZ.Property(\"wire\", nothing)]), Catlab.Graphics.TikZ.Edge(Catlab.Graphics.TikZ.PathExpression[Catlab.Graphics.TikZ.NodeCoordinate(\"n3.-45\"), Catlab.Graphics.TikZ.PathOperation(\"to\", Catlab.Graphics.TikZ.Property[Catlab.Graphics.TikZ.Property(\"out\", \"-45\"), Catlab.Graphics.TikZ.Property(\"in\", \"-180\")]), Catlab.Graphics.TikZ.NodeCoordinate(\"n6.west\")], Catlab.Graphics.TikZ.Property[Catlab.Graphics.TikZ.Property(\"wire\", nothing)]), Catlab.Graphics.TikZ.Edge(Catlab.Graphics.TikZ.PathExpression[Catlab.Graphics.TikZ.NodeCoordinate(\"n4.east\"), Catlab.Graphics.TikZ.PathOperation(\"to\", Catlab.Graphics.TikZ.Property[Catlab.Graphics.TikZ.Property(\"out\", \"0\"), Catlab.Graphics.TikZ.Property(\"in\", \"180\")]), Catlab.Graphics.TikZ.NodeCoordinate(\"\\$(root.east)+(0em,3em)\\$\")], Catlab.Graphics.TikZ.Property[Catlab.Graphics.TikZ.Property(\"wire\", nothing)]), Catlab.Graphics.TikZ.Edge(Catlab.Graphics.TikZ.PathExpression[Catlab.Graphics.TikZ.NodeCoordinate(\"n5.east\"), Catlab.Graphics.TikZ.PathOperation(\"to\", Catlab.Graphics.TikZ.Property[Catlab.Graphics.TikZ.Property(\"out\", \"0\"), Catlab.Graphics.TikZ.Property(\"in\", \"180\")]), Catlab.Graphics.TikZ.NodeCoordinate(\"root.east\")], Catlab.Graphics.TikZ.Property[Catlab.Graphics.TikZ.Property(\"wire\", nothing)]), Catlab.Graphics.TikZ.Edge(Catlab.Graphics.TikZ.PathExpression[Catlab.Graphics.TikZ.NodeCoordinate(\"n6.east\"), Catlab.Graphics.TikZ.PathOperation(\"to\", Catlab.Graphics.TikZ.Property[Catlab.Graphics.TikZ.Property(\"out\", \"0\"), Catlab.Graphics.TikZ.Property(\"in\", \"180\")]), Catlab.Graphics.TikZ.NodeCoordinate(\"\\$(root.east)+(0em,-3em)\\$\")], Catlab.Graphics.TikZ.Property[Catlab.Graphics.TikZ.Property(\"wire\", nothing)])], Catlab.Graphics.TikZ.Property[Catlab.Graphics.TikZ.Property(\"x\", \"1em\"), Catlab.Graphics.TikZ.Property(\"y\", \"1em\"), Catlab.Graphics.TikZ.Property(\"outer box/.style\", Catlab.Graphics.TikZ.Property[Catlab.Graphics.TikZ.Property(\"draw\", \"none\")]), Catlab.Graphics.TikZ.Property(\"box/.style\", Catlab.Graphics.TikZ.Property[Catlab.Graphics.TikZ.Property(\"rectangle\", nothing), Catlab.Graphics.TikZ.Property(\"draw\", nothing), Catlab.Graphics.TikZ.Property(\"solid\", nothing), Catlab.Graphics.TikZ.Property(\"rounded corners\", nothing)]), Catlab.Graphics.TikZ.Property(\"circular box/.style\", Catlab.Graphics.TikZ.Property[Catlab.Graphics.TikZ.Property(\"circle\", nothing), Catlab.Graphics.TikZ.Property(\"draw\", nothing), Catlab.Graphics.TikZ.Property(\"solid\", nothing)]), Catlab.Graphics.TikZ.Property(\"junction/.style\", Catlab.Graphics.TikZ.Property[Catlab.Graphics.TikZ.Property(\"circle\", nothing), Catlab.Graphics.TikZ.Property(\"draw\", nothing), Catlab.Graphics.TikZ.Property(\"fill\", nothing), Catlab.Graphics.TikZ.Property(\"inner sep\", \"0\")]), Catlab.Graphics.TikZ.Property(\"variant junction/.style\", Catlab.Graphics.TikZ.Property[Catlab.Graphics.TikZ.Property(\"circle\", nothing), Catlab.Graphics.TikZ.Property(\"draw\", nothing), Catlab.Graphics.TikZ.Property(\"solid\", nothing), Catlab.Graphics.TikZ.Property(\"inner sep\", \"0\")]), Catlab.Graphics.TikZ.Property(\"invisible/.style\", Catlab.Graphics.TikZ.Property[Catlab.Graphics.TikZ.Property(\"draw\", \"none\"), Catlab.Graphics.TikZ.Property(\"inner sep\", \"0\")]), Catlab.Graphics.TikZ.Property(\"wire/.style\", Catlab.Graphics.TikZ.Property[Catlab.Graphics.TikZ.Property(\"draw\", nothing)])]), [\"calc\"])",
      "image/svg+xml": [
       "<?xml version=\"1.0\" encoding=\"UTF-8\"?>\n",
       "<svg xmlns=\"http://www.w3.org/2000/svg\" xmlns:xlink=\"http://www.w3.org/1999/xlink\" width=\"100.423pt\" height=\"99.626pt\" viewBox=\"0 0 100.423 99.626\" version=\"1.1\">\n",
       "<defs>\n",
       "<g>\n",
       "<symbol overflow=\"visible\" id=\"glyph-1579380403673621-0-0\">\n",
       "<path style=\"stroke:none;\" d=\"\"/>\n",
       "</symbol>\n",
       "<symbol overflow=\"visible\" id=\"glyph-1579380403673621-0-1\">\n",
       "<path style=\"stroke:none;\" d=\"M 2.078125 -1.9375 C 2.296875 -1.890625 3.109375 -1.734375 3.109375 -1.015625 C 3.109375 -0.515625 2.765625 -0.109375 1.984375 -0.109375 C 1.140625 -0.109375 0.78125 -0.671875 0.59375 -1.53125 C 0.5625 -1.65625 0.5625 -1.6875 0.453125 -1.6875 C 0.328125 -1.6875 0.328125 -1.625 0.328125 -1.453125 L 0.328125 -0.125 C 0.328125 0.046875 0.328125 0.109375 0.4375 0.109375 C 0.484375 0.109375 0.5 0.09375 0.6875 -0.09375 C 0.703125 -0.109375 0.703125 -0.125 0.890625 -0.3125 C 1.328125 0.09375 1.78125 0.109375 1.984375 0.109375 C 3.125 0.109375 3.59375 -0.5625 3.59375 -1.28125 C 3.59375 -1.796875 3.296875 -2.109375 3.171875 -2.21875 C 2.84375 -2.546875 2.453125 -2.625 2.03125 -2.703125 C 1.46875 -2.8125 0.8125 -2.9375 0.8125 -3.515625 C 0.8125 -3.875 1.0625 -4.28125 1.921875 -4.28125 C 3.015625 -4.28125 3.078125 -3.375 3.09375 -3.078125 C 3.09375 -2.984375 3.1875 -2.984375 3.203125 -2.984375 C 3.34375 -2.984375 3.34375 -3.03125 3.34375 -3.21875 L 3.34375 -4.234375 C 3.34375 -4.390625 3.34375 -4.46875 3.234375 -4.46875 C 3.1875 -4.46875 3.15625 -4.46875 3.03125 -4.34375 C 3 -4.3125 2.90625 -4.21875 2.859375 -4.1875 C 2.484375 -4.46875 2.078125 -4.46875 1.921875 -4.46875 C 0.703125 -4.46875 0.328125 -3.796875 0.328125 -3.234375 C 0.328125 -2.890625 0.484375 -2.609375 0.75 -2.390625 C 1.078125 -2.140625 1.359375 -2.078125 2.078125 -1.9375 Z M 2.078125 -1.9375 \"/>\n",
       "</symbol>\n",
       "<symbol overflow=\"visible\" id=\"glyph-1579380403673621-0-2\">\n",
       "<path style=\"stroke:none;\" d=\"M 1.765625 -4.40625 L 0.375 -4.296875 L 0.375 -3.984375 C 1.015625 -3.984375 1.109375 -3.921875 1.109375 -3.4375 L 1.109375 -0.75 C 1.109375 -0.3125 1 -0.3125 0.328125 -0.3125 L 0.328125 0 C 0.640625 -0.015625 1.1875 -0.03125 1.421875 -0.03125 C 1.78125 -0.03125 2.125 -0.015625 2.46875 0 L 2.46875 -0.3125 C 1.796875 -0.3125 1.765625 -0.359375 1.765625 -0.75 Z M 1.796875 -6.140625 C 1.796875 -6.453125 1.5625 -6.671875 1.28125 -6.671875 C 0.96875 -6.671875 0.75 -6.40625 0.75 -6.140625 C 0.75 -5.875 0.96875 -5.609375 1.28125 -5.609375 C 1.5625 -5.609375 1.796875 -5.828125 1.796875 -6.140625 Z M 1.796875 -6.140625 \"/>\n",
       "</symbol>\n",
       "<symbol overflow=\"visible\" id=\"glyph-1579380403673621-0-3\">\n",
       "<path style=\"stroke:none;\" d=\"M 1.09375 -3.421875 L 1.09375 -0.75 C 1.09375 -0.3125 0.984375 -0.3125 0.3125 -0.3125 L 0.3125 0 C 0.671875 -0.015625 1.171875 -0.03125 1.453125 -0.03125 C 1.703125 -0.03125 2.21875 -0.015625 2.5625 0 L 2.5625 -0.3125 C 1.890625 -0.3125 1.78125 -0.3125 1.78125 -0.75 L 1.78125 -2.59375 C 1.78125 -3.625 2.5 -4.1875 3.125 -4.1875 C 3.765625 -4.1875 3.875 -3.65625 3.875 -3.078125 L 3.875 -0.75 C 3.875 -0.3125 3.765625 -0.3125 3.09375 -0.3125 L 3.09375 0 C 3.4375 -0.015625 3.953125 -0.03125 4.21875 -0.03125 C 4.46875 -0.03125 5 -0.015625 5.328125 0 L 5.328125 -0.3125 C 4.8125 -0.3125 4.5625 -0.3125 4.5625 -0.609375 L 4.5625 -2.515625 C 4.5625 -3.375 4.5625 -3.671875 4.25 -4.03125 C 4.109375 -4.203125 3.78125 -4.40625 3.203125 -4.40625 C 2.46875 -4.40625 2 -3.984375 1.71875 -3.359375 L 1.71875 -4.40625 L 0.3125 -4.296875 L 0.3125 -3.984375 C 1.015625 -3.984375 1.09375 -3.921875 1.09375 -3.421875 Z M 1.09375 -3.421875 \"/>\n",
       "</symbol>\n",
       "<symbol overflow=\"visible\" id=\"glyph-1579380403673621-0-4\">\n",
       "<path style=\"stroke:none;\" d=\"M 1.171875 -2.171875 C 1.171875 -3.796875 1.984375 -4.21875 2.515625 -4.21875 C 2.609375 -4.21875 3.234375 -4.203125 3.578125 -3.84375 C 3.171875 -3.8125 3.109375 -3.515625 3.109375 -3.390625 C 3.109375 -3.125 3.296875 -2.9375 3.5625 -2.9375 C 3.828125 -2.9375 4.03125 -3.09375 4.03125 -3.40625 C 4.03125 -4.078125 3.265625 -4.46875 2.5 -4.46875 C 1.25 -4.46875 0.34375 -3.390625 0.34375 -2.15625 C 0.34375 -0.875 1.328125 0.109375 2.484375 0.109375 C 3.8125 0.109375 4.140625 -1.09375 4.140625 -1.1875 C 4.140625 -1.28125 4.03125 -1.28125 4 -1.28125 C 3.921875 -1.28125 3.890625 -1.25 3.875 -1.1875 C 3.59375 -0.265625 2.9375 -0.140625 2.578125 -0.140625 C 2.046875 -0.140625 1.171875 -0.5625 1.171875 -2.171875 Z M 1.171875 -2.171875 \"/>\n",
       "</symbol>\n",
       "<symbol overflow=\"visible\" id=\"glyph-1579380403673621-0-5\">\n",
       "<path style=\"stroke:none;\" d=\"M 4.6875 -2.140625 C 4.6875 -3.40625 3.703125 -4.46875 2.5 -4.46875 C 1.25 -4.46875 0.28125 -3.375 0.28125 -2.140625 C 0.28125 -0.84375 1.3125 0.109375 2.484375 0.109375 C 3.6875 0.109375 4.6875 -0.875 4.6875 -2.140625 Z M 2.5 -0.140625 C 2.0625 -0.140625 1.625 -0.34375 1.359375 -0.8125 C 1.109375 -1.25 1.109375 -1.859375 1.109375 -2.21875 C 1.109375 -2.609375 1.109375 -3.140625 1.34375 -3.578125 C 1.609375 -4.03125 2.078125 -4.25 2.484375 -4.25 C 2.921875 -4.25 3.34375 -4.03125 3.609375 -3.59375 C 3.875 -3.171875 3.875 -2.59375 3.875 -2.21875 C 3.875 -1.859375 3.875 -1.3125 3.65625 -0.875 C 3.421875 -0.421875 2.984375 -0.140625 2.5 -0.140625 Z M 2.5 -0.140625 \"/>\n",
       "</symbol>\n",
       "</g>\n",
       "<clipPath id=\"clip-1579380403673621-1\">\n",
       "  <path d=\"M 74 14 L 100.421875 14 L 100.421875 26 L 74 26 Z M 74 14 \"/>\n",
       "</clipPath>\n",
       "<clipPath id=\"clip-1579380403673621-2\">\n",
       "  <path d=\"M 74 44 L 100.421875 44 L 100.421875 56 L 74 56 Z M 74 44 \"/>\n",
       "</clipPath>\n",
       "<clipPath id=\"clip-1579380403673621-3\">\n",
       "  <path d=\"M 74 74 L 100.421875 74 L 100.421875 86 L 74 86 Z M 74 74 \"/>\n",
       "</clipPath>\n",
       "</defs>\n",
       "<g id=\"surface1\">\n",
       "<path style=\"fill-rule:nonzero;fill:rgb(0%,0%,0%);fill-opacity:1;stroke-width:0.3985;stroke-linecap:butt;stroke-linejoin:miter;stroke:rgb(0%,0%,0%);stroke-opacity:1;stroke-miterlimit:10;\" d=\"M -17.434656 0.0005 C -17.434656 1.3755 -18.551844 2.488781 -19.926844 2.488781 C -21.301844 2.488781 -22.415125 1.3755 -22.415125 0.0005 C -22.415125 -1.3745 -21.301844 -2.491688 -19.926844 -2.491688 C -18.551844 -2.491688 -17.434656 -1.3745 -17.434656 0.0005 Z M -17.434656 0.0005 \" transform=\"matrix(1,0,0,-1,50.212,49.813)\"/>\n",
       "<path style=\"fill:none;stroke-width:0.3985;stroke-linecap:butt;stroke-linejoin:miter;stroke:rgb(0%,0%,0%);stroke-opacity:1;stroke-miterlimit:10;\" d=\"M 25.901281 39.852062 L 13.948156 39.852062 C 11.745031 39.852062 9.963781 38.066906 9.963781 35.867687 L 9.963781 23.910656 C 9.963781 21.711437 11.745031 19.926281 13.948156 19.926281 L 25.901281 19.926281 C 28.104406 19.926281 29.889562 21.711437 29.889562 23.910656 L 29.889562 35.867687 C 29.889562 38.066906 28.104406 39.852062 25.901281 39.852062 Z M 25.901281 39.852062 \" transform=\"matrix(1,0,0,-1,50.212,49.813)\"/>\n",
       "<g style=\"fill:rgb(0%,0%,0%);fill-opacity:1;\">\n",
       "  <use xlink:href=\"#glyph-1579380403673621-0-1\" x=\"64.021\" y=\"23.252\"/>\n",
       "  <use xlink:href=\"#glyph-1579380403673621-0-2\" x=\"67.950265\" y=\"23.252\"/>\n",
       "  <use xlink:href=\"#glyph-1579380403673621-0-3\" x=\"70.717887\" y=\"23.252\"/>\n",
       "</g>\n",
       "<path style=\"fill:none;stroke-width:0.3985;stroke-linecap:butt;stroke-linejoin:miter;stroke:rgb(0%,0%,0%);stroke-opacity:1;stroke-miterlimit:10;\" d=\"M 25.928625 9.961437 L 13.920812 9.961437 C 11.717687 9.961437 9.936437 8.180187 9.936437 5.977062 L 9.936437 -5.976063 C 9.936437 -8.179188 11.717687 -9.964344 13.920812 -9.964344 L 25.928625 -9.964344 C 28.13175 -9.964344 29.916906 -8.179188 29.916906 -5.976063 L 29.916906 5.977062 C 29.916906 8.180187 28.13175 9.961437 25.928625 9.961437 Z M 25.928625 9.961437 \" transform=\"matrix(1,0,0,-1,50.212,49.813)\"/>\n",
       "<g style=\"fill:rgb(0%,0%,0%);fill-opacity:1;\">\n",
       "  <use xlink:href=\"#glyph-1579380403673621-0-4\" x=\"63.468\" y=\"51.958\"/>\n",
       "  <use xlink:href=\"#glyph-1579380403673621-0-5\" x=\"67.895397\" y=\"51.958\"/>\n",
       "  <use xlink:href=\"#glyph-1579380403673621-0-1\" x=\"72.876717\" y=\"51.958\"/>\n",
       "</g>\n",
       "<path style=\"fill:none;stroke-width:0.3985;stroke-linecap:butt;stroke-linejoin:miter;stroke:rgb(0%,0%,0%);stroke-opacity:1;stroke-miterlimit:10;\" d=\"M 25.901281 -19.925281 L 13.948156 -19.925281 C 11.745031 -19.925281 9.963781 -21.710438 9.963781 -23.909656 L 9.963781 -35.866688 C 9.963781 -38.065906 11.745031 -39.851063 13.948156 -39.851063 L 25.901281 -39.851063 C 28.104406 -39.851063 29.889562 -38.065906 29.889562 -35.866688 L 29.889562 -23.909656 C 29.889562 -21.710438 28.104406 -19.925281 25.901281 -19.925281 Z M 25.901281 -19.925281 \" transform=\"matrix(1,0,0,-1,50.212,49.813)\"/>\n",
       "<g style=\"fill:rgb(0%,0%,0%);fill-opacity:1;\">\n",
       "  <use xlink:href=\"#glyph-1579380403673621-0-1\" x=\"64.021\" y=\"83.028\"/>\n",
       "  <use xlink:href=\"#glyph-1579380403673621-0-2\" x=\"67.950265\" y=\"83.028\"/>\n",
       "  <use xlink:href=\"#glyph-1579380403673621-0-3\" x=\"70.717887\" y=\"83.028\"/>\n",
       "</g>\n",
       "<path style=\"fill:none;stroke-width:0.3985;stroke-linecap:butt;stroke-linejoin:miter;stroke:rgb(0%,0%,0%);stroke-opacity:1;stroke-miterlimit:10;\" d=\"M -50.012781 0.0005 C -39.329188 0.0005 -33.297938 0.0005 -22.614344 0.0005 \" transform=\"matrix(1,0,0,-1,50.212,49.813)\"/>\n",
       "<path style=\"fill:none;stroke-width:0.3985;stroke-linecap:butt;stroke-linejoin:miter;stroke:rgb(0%,0%,0%);stroke-opacity:1;stroke-miterlimit:10;\" d=\"M -18.0245 1.902844 C -7.126063 12.801281 -5.6495 29.887219 9.764562 29.887219 \" transform=\"matrix(1,0,0,-1,50.212,49.813)\"/>\n",
       "<path style=\"fill:none;stroke-width:0.3985;stroke-linecap:butt;stroke-linejoin:miter;stroke:rgb(0%,0%,0%);stroke-opacity:1;stroke-miterlimit:10;\" d=\"M -17.235438 0.0005 C -6.715906 0.0005 -0.782313 0.0005 9.737219 0.0005 \" transform=\"matrix(1,0,0,-1,50.212,49.813)\"/>\n",
       "<path style=\"fill:none;stroke-width:0.3985;stroke-linecap:butt;stroke-linejoin:miter;stroke:rgb(0%,0%,0%);stroke-opacity:1;stroke-miterlimit:10;\" d=\"M -18.0245 -1.901844 C -7.126063 -12.800281 -5.6495 -29.890125 9.764562 -29.890125 \" transform=\"matrix(1,0,0,-1,50.212,49.813)\"/>\n",
       "<g clip-path=\"url(#clip-1579380403673621-1)\" clip-rule=\"nonzero\">\n",
       "<path style=\"fill:none;stroke-width:0.3985;stroke-linecap:butt;stroke-linejoin:miter;stroke:rgb(0%,0%,0%);stroke-opacity:1;stroke-miterlimit:10;\" d=\"M 30.088781 29.887219 C 37.858312 29.887219 42.241125 29.887219 50.014562 29.887219 \" transform=\"matrix(1,0,0,-1,50.212,49.813)\"/>\n",
       "</g>\n",
       "<g clip-path=\"url(#clip-1579380403673621-2)\" clip-rule=\"nonzero\">\n",
       "<path style=\"fill:none;stroke-width:0.3985;stroke-linecap:butt;stroke-linejoin:miter;stroke:rgb(0%,0%,0%);stroke-opacity:1;stroke-miterlimit:10;\" d=\"M 30.116125 0.0005 C 37.873937 0.0005 42.252844 0.0005 50.014562 0.0005 \" transform=\"matrix(1,0,0,-1,50.212,49.813)\"/>\n",
       "</g>\n",
       "<g clip-path=\"url(#clip-1579380403673621-3)\" clip-rule=\"nonzero\">\n",
       "<path style=\"fill:none;stroke-width:0.3985;stroke-linecap:butt;stroke-linejoin:miter;stroke:rgb(0%,0%,0%);stroke-opacity:1;stroke-miterlimit:10;\" d=\"M 30.088781 -29.890125 C 37.858312 -29.890125 42.241125 -29.890125 50.014562 -29.890125 \" transform=\"matrix(1,0,0,-1,50.212,49.813)\"/>\n",
       "</g>\n",
       "</g>\n",
       "</svg>\n",
       "\n"
      ]
     },
     "metadata": {},
     "execution_count": 8
    }
   ],
   "cell_type": "code",
   "source": [
    "to_tikz(f)"
   ],
   "metadata": {},
   "execution_count": 8
  },
  {
   "outputs": [
    {
     "output_type": "execute_result",
     "data": {
      "text/plain": "(:(function (x,)\n      v1 = sin.(x)\n      v2 = cos.(x)\n      v3 = sin.(x)\n      return (v1, v2, v3)\n  end), Symbol[])"
     },
     "metadata": {},
     "execution_count": 9
    }
   ],
   "cell_type": "code",
   "source": [
    "compile_expr(f; args=[:x])"
   ],
   "metadata": {},
   "execution_count": 9
  },
  {
   "outputs": [
    {
     "output_type": "execute_result",
     "data": {
      "text/plain": "compose(linear(2,\\mathbb{R},\\mathbb{R}),sin,linear(2,\\mathbb{R},\\mathbb{R}))",
      "text/latex": "$\\mathop{\\mathrm{linear}}\\left[2\\right] ; \\mathrm{sin} ; \\mathop{\\mathrm{linear}}\\left[2\\right] : \\mathbb{R} \\to \\mathbb{R}$"
     },
     "metadata": {},
     "execution_count": 10
    }
   ],
   "cell_type": "code",
   "source": [
    "f = compose(linear(2,R,R), f_sin, linear(2,R,R))"
   ],
   "metadata": {},
   "execution_count": 10
  },
  {
   "outputs": [
    {
     "output_type": "execute_result",
     "data": {
      "text/plain": "Catlab.Graphics.TikZ.Document(Catlab.Graphics.TikZ.Picture(Catlab.Graphics.TikZ.Statement[Catlab.Graphics.TikZ.Node(\"root\", Catlab.Graphics.TikZ.Property[Catlab.Graphics.TikZ.Property(\"outer box\", nothing), Catlab.Graphics.TikZ.Property(\"minimum width\", \"14em\"), Catlab.Graphics.TikZ.Property(\"minimum height\", \"4em\")], Catlab.Graphics.TikZ.Coordinate(\"0\", \"0\"), \"\"), Catlab.Graphics.TikZ.Node(\"n3\", Catlab.Graphics.TikZ.Property[Catlab.Graphics.TikZ.Property(\"box\", nothing), Catlab.Graphics.TikZ.Property(\"minimum size\", \"2em\")], Catlab.Graphics.TikZ.Coordinate(\"-4\", \"0\"), \"\\$\\\\mathop{\\\\mathrm{linear}}\\\\left[2\\\\right]\\$\"), Catlab.Graphics.TikZ.Node(\"n4\", Catlab.Graphics.TikZ.Property[Catlab.Graphics.TikZ.Property(\"box\", nothing), Catlab.Graphics.TikZ.Property(\"minimum size\", \"2em\")], Catlab.Graphics.TikZ.Coordinate(\"0\", \"0\"), \"\\$\\\\mathrm{sin}\\$\"), Catlab.Graphics.TikZ.Node(\"n5\", Catlab.Graphics.TikZ.Property[Catlab.Graphics.TikZ.Property(\"box\", nothing), Catlab.Graphics.TikZ.Property(\"minimum size\", \"2em\")], Catlab.Graphics.TikZ.Coordinate(\"4\", \"0\"), \"\\$\\\\mathop{\\\\mathrm{linear}}\\\\left[2\\\\right]\\$\"), Catlab.Graphics.TikZ.Edge(Catlab.Graphics.TikZ.PathExpression[Catlab.Graphics.TikZ.NodeCoordinate(\"root.west\"), Catlab.Graphics.TikZ.PathOperation(\"to\", Catlab.Graphics.TikZ.Property[Catlab.Graphics.TikZ.Property(\"out\", \"0\"), Catlab.Graphics.TikZ.Property(\"in\", \"-180\")]), Catlab.Graphics.TikZ.NodeCoordinate(\"n3.west\")], Catlab.Graphics.TikZ.Property[Catlab.Graphics.TikZ.Property(\"wire\", nothing)]), Catlab.Graphics.TikZ.Edge(Catlab.Graphics.TikZ.PathExpression[Catlab.Graphics.TikZ.NodeCoordinate(\"n3.east\"), Catlab.Graphics.TikZ.PathOperation(\"to\", Catlab.Graphics.TikZ.Property[Catlab.Graphics.TikZ.Property(\"out\", \"0\"), Catlab.Graphics.TikZ.Property(\"in\", \"-180\")]), Catlab.Graphics.TikZ.NodeCoordinate(\"n4.west\")], Catlab.Graphics.TikZ.Property[Catlab.Graphics.TikZ.Property(\"wire\", nothing)]), Catlab.Graphics.TikZ.Edge(Catlab.Graphics.TikZ.PathExpression[Catlab.Graphics.TikZ.NodeCoordinate(\"n4.east\"), Catlab.Graphics.TikZ.PathOperation(\"to\", Catlab.Graphics.TikZ.Property[Catlab.Graphics.TikZ.Property(\"out\", \"0\"), Catlab.Graphics.TikZ.Property(\"in\", \"-180\")]), Catlab.Graphics.TikZ.NodeCoordinate(\"n5.west\")], Catlab.Graphics.TikZ.Property[Catlab.Graphics.TikZ.Property(\"wire\", nothing)]), Catlab.Graphics.TikZ.Edge(Catlab.Graphics.TikZ.PathExpression[Catlab.Graphics.TikZ.NodeCoordinate(\"n5.east\"), Catlab.Graphics.TikZ.PathOperation(\"to\", Catlab.Graphics.TikZ.Property[Catlab.Graphics.TikZ.Property(\"out\", \"0\"), Catlab.Graphics.TikZ.Property(\"in\", \"180\")]), Catlab.Graphics.TikZ.NodeCoordinate(\"root.east\")], Catlab.Graphics.TikZ.Property[Catlab.Graphics.TikZ.Property(\"wire\", nothing)])], Catlab.Graphics.TikZ.Property[Catlab.Graphics.TikZ.Property(\"x\", \"1em\"), Catlab.Graphics.TikZ.Property(\"y\", \"1em\"), Catlab.Graphics.TikZ.Property(\"outer box/.style\", Catlab.Graphics.TikZ.Property[Catlab.Graphics.TikZ.Property(\"draw\", \"none\")]), Catlab.Graphics.TikZ.Property(\"box/.style\", Catlab.Graphics.TikZ.Property[Catlab.Graphics.TikZ.Property(\"rectangle\", nothing), Catlab.Graphics.TikZ.Property(\"draw\", nothing), Catlab.Graphics.TikZ.Property(\"solid\", nothing), Catlab.Graphics.TikZ.Property(\"rounded corners\", nothing)]), Catlab.Graphics.TikZ.Property(\"circular box/.style\", Catlab.Graphics.TikZ.Property[Catlab.Graphics.TikZ.Property(\"circle\", nothing), Catlab.Graphics.TikZ.Property(\"draw\", nothing), Catlab.Graphics.TikZ.Property(\"solid\", nothing)]), Catlab.Graphics.TikZ.Property(\"junction/.style\", Catlab.Graphics.TikZ.Property[Catlab.Graphics.TikZ.Property(\"circle\", nothing), Catlab.Graphics.TikZ.Property(\"draw\", nothing), Catlab.Graphics.TikZ.Property(\"fill\", nothing), Catlab.Graphics.TikZ.Property(\"inner sep\", \"0\")]), Catlab.Graphics.TikZ.Property(\"variant junction/.style\", Catlab.Graphics.TikZ.Property[Catlab.Graphics.TikZ.Property(\"circle\", nothing), Catlab.Graphics.TikZ.Property(\"draw\", nothing), Catlab.Graphics.TikZ.Property(\"solid\", nothing), Catlab.Graphics.TikZ.Property(\"inner sep\", \"0\")]), Catlab.Graphics.TikZ.Property(\"invisible/.style\", Catlab.Graphics.TikZ.Property[Catlab.Graphics.TikZ.Property(\"draw\", \"none\"), Catlab.Graphics.TikZ.Property(\"inner sep\", \"0\")]), Catlab.Graphics.TikZ.Property(\"wire/.style\", Catlab.Graphics.TikZ.Property[Catlab.Graphics.TikZ.Property(\"draw\", nothing)])]), [\"calc\"])",
      "image/svg+xml": [
       "<?xml version=\"1.0\" encoding=\"UTF-8\"?>\n",
       "<svg xmlns=\"http://www.w3.org/2000/svg\" xmlns:xlink=\"http://www.w3.org/1999/xlink\" width=\"140.274pt\" height=\"39.851pt\" viewBox=\"0 0 140.274 39.851\" version=\"1.1\">\n",
       "<defs>\n",
       "<g>\n",
       "<symbol overflow=\"visible\" id=\"glyph-1579380403673622-0-0\">\n",
       "<path style=\"stroke:none;\" d=\"\"/>\n",
       "</symbol>\n",
       "<symbol overflow=\"visible\" id=\"glyph-1579380403673622-0-1\">\n",
       "<path style=\"stroke:none;\" d=\"M 1.765625 -6.921875 L 0.328125 -6.8125 L 0.328125 -6.5 C 1.03125 -6.5 1.109375 -6.4375 1.109375 -5.9375 L 1.109375 -0.75 C 1.109375 -0.3125 1 -0.3125 0.328125 -0.3125 L 0.328125 0 C 0.65625 -0.015625 1.1875 -0.03125 1.4375 -0.03125 C 1.6875 -0.03125 2.171875 -0.015625 2.546875 0 L 2.546875 -0.3125 C 1.875 -0.3125 1.765625 -0.3125 1.765625 -0.75 Z M 1.765625 -6.921875 \"/>\n",
       "</symbol>\n",
       "<symbol overflow=\"visible\" id=\"glyph-1579380403673622-0-2\">\n",
       "<path style=\"stroke:none;\" d=\"M 1.765625 -4.40625 L 0.375 -4.296875 L 0.375 -3.984375 C 1.015625 -3.984375 1.109375 -3.921875 1.109375 -3.4375 L 1.109375 -0.75 C 1.109375 -0.3125 1 -0.3125 0.328125 -0.3125 L 0.328125 0 C 0.640625 -0.015625 1.1875 -0.03125 1.421875 -0.03125 C 1.78125 -0.03125 2.125 -0.015625 2.46875 0 L 2.46875 -0.3125 C 1.796875 -0.3125 1.765625 -0.359375 1.765625 -0.75 Z M 1.796875 -6.140625 C 1.796875 -6.453125 1.5625 -6.671875 1.28125 -6.671875 C 0.96875 -6.671875 0.75 -6.40625 0.75 -6.140625 C 0.75 -5.875 0.96875 -5.609375 1.28125 -5.609375 C 1.5625 -5.609375 1.796875 -5.828125 1.796875 -6.140625 Z M 1.796875 -6.140625 \"/>\n",
       "</symbol>\n",
       "<symbol overflow=\"visible\" id=\"glyph-1579380403673622-0-3\">\n",
       "<path style=\"stroke:none;\" d=\"M 1.09375 -3.421875 L 1.09375 -0.75 C 1.09375 -0.3125 0.984375 -0.3125 0.3125 -0.3125 L 0.3125 0 C 0.671875 -0.015625 1.171875 -0.03125 1.453125 -0.03125 C 1.703125 -0.03125 2.21875 -0.015625 2.5625 0 L 2.5625 -0.3125 C 1.890625 -0.3125 1.78125 -0.3125 1.78125 -0.75 L 1.78125 -2.59375 C 1.78125 -3.625 2.5 -4.1875 3.125 -4.1875 C 3.765625 -4.1875 3.875 -3.65625 3.875 -3.078125 L 3.875 -0.75 C 3.875 -0.3125 3.765625 -0.3125 3.09375 -0.3125 L 3.09375 0 C 3.4375 -0.015625 3.953125 -0.03125 4.21875 -0.03125 C 4.46875 -0.03125 5 -0.015625 5.328125 0 L 5.328125 -0.3125 C 4.8125 -0.3125 4.5625 -0.3125 4.5625 -0.609375 L 4.5625 -2.515625 C 4.5625 -3.375 4.5625 -3.671875 4.25 -4.03125 C 4.109375 -4.203125 3.78125 -4.40625 3.203125 -4.40625 C 2.46875 -4.40625 2 -3.984375 1.71875 -3.359375 L 1.71875 -4.40625 L 0.3125 -4.296875 L 0.3125 -3.984375 C 1.015625 -3.984375 1.09375 -3.921875 1.09375 -3.421875 Z M 1.09375 -3.421875 \"/>\n",
       "</symbol>\n",
       "<symbol overflow=\"visible\" id=\"glyph-1579380403673622-0-4\">\n",
       "<path style=\"stroke:none;\" d=\"M 1.109375 -2.515625 C 1.171875 -4 2.015625 -4.25 2.359375 -4.25 C 3.375 -4.25 3.484375 -2.90625 3.484375 -2.515625 Z M 1.109375 -2.296875 L 3.890625 -2.296875 C 4.109375 -2.296875 4.140625 -2.296875 4.140625 -2.515625 C 4.140625 -3.5 3.59375 -4.46875 2.359375 -4.46875 C 1.203125 -4.46875 0.28125 -3.4375 0.28125 -2.1875 C 0.28125 -0.859375 1.328125 0.109375 2.46875 0.109375 C 3.6875 0.109375 4.140625 -1 4.140625 -1.1875 C 4.140625 -1.28125 4.0625 -1.3125 4 -1.3125 C 3.921875 -1.3125 3.890625 -1.25 3.875 -1.171875 C 3.53125 -0.140625 2.625 -0.140625 2.53125 -0.140625 C 2.03125 -0.140625 1.640625 -0.4375 1.40625 -0.8125 C 1.109375 -1.28125 1.109375 -1.9375 1.109375 -2.296875 Z M 1.109375 -2.296875 \"/>\n",
       "</symbol>\n",
       "<symbol overflow=\"visible\" id=\"glyph-1579380403673622-0-5\">\n",
       "<path style=\"stroke:none;\" d=\"M 3.3125 -0.75 C 3.359375 -0.359375 3.625 0.0625 4.09375 0.0625 C 4.3125 0.0625 4.921875 -0.078125 4.921875 -0.890625 L 4.921875 -1.453125 L 4.671875 -1.453125 L 4.671875 -0.890625 C 4.671875 -0.3125 4.421875 -0.25 4.3125 -0.25 C 3.984375 -0.25 3.9375 -0.703125 3.9375 -0.75 L 3.9375 -2.734375 C 3.9375 -3.15625 3.9375 -3.546875 3.578125 -3.921875 C 3.1875 -4.3125 2.6875 -4.46875 2.21875 -4.46875 C 1.390625 -4.46875 0.703125 -4 0.703125 -3.34375 C 0.703125 -3.046875 0.90625 -2.875 1.171875 -2.875 C 1.453125 -2.875 1.625 -3.078125 1.625 -3.328125 C 1.625 -3.453125 1.578125 -3.78125 1.109375 -3.78125 C 1.390625 -4.140625 1.875 -4.25 2.1875 -4.25 C 2.6875 -4.25 3.25 -3.859375 3.25 -2.96875 L 3.25 -2.609375 C 2.734375 -2.578125 2.046875 -2.546875 1.421875 -2.25 C 0.671875 -1.90625 0.421875 -1.390625 0.421875 -0.953125 C 0.421875 -0.140625 1.390625 0.109375 2.015625 0.109375 C 2.671875 0.109375 3.125 -0.296875 3.3125 -0.75 Z M 3.25 -2.390625 L 3.25 -1.390625 C 3.25 -0.453125 2.53125 -0.109375 2.078125 -0.109375 C 1.59375 -0.109375 1.1875 -0.453125 1.1875 -0.953125 C 1.1875 -1.5 1.609375 -2.328125 3.25 -2.390625 Z M 3.25 -2.390625 \"/>\n",
       "</symbol>\n",
       "<symbol overflow=\"visible\" id=\"glyph-1579380403673622-0-6\">\n",
       "<path style=\"stroke:none;\" d=\"M 1.671875 -3.3125 L 1.671875 -4.40625 L 0.28125 -4.296875 L 0.28125 -3.984375 C 0.984375 -3.984375 1.0625 -3.921875 1.0625 -3.421875 L 1.0625 -0.75 C 1.0625 -0.3125 0.953125 -0.3125 0.28125 -0.3125 L 0.28125 0 C 0.671875 -0.015625 1.140625 -0.03125 1.421875 -0.03125 C 1.8125 -0.03125 2.28125 -0.03125 2.6875 0 L 2.6875 -0.3125 L 2.46875 -0.3125 C 1.734375 -0.3125 1.71875 -0.421875 1.71875 -0.78125 L 1.71875 -2.3125 C 1.71875 -3.296875 2.140625 -4.1875 2.890625 -4.1875 C 2.953125 -4.1875 2.984375 -4.1875 3 -4.171875 C 2.96875 -4.171875 2.765625 -4.046875 2.765625 -3.78125 C 2.765625 -3.515625 2.984375 -3.359375 3.203125 -3.359375 C 3.375 -3.359375 3.625 -3.484375 3.625 -3.796875 C 3.625 -4.109375 3.3125 -4.40625 2.890625 -4.40625 C 2.15625 -4.40625 1.796875 -3.734375 1.671875 -3.3125 Z M 1.671875 -3.3125 \"/>\n",
       "</symbol>\n",
       "<symbol overflow=\"visible\" id=\"glyph-1579380403673622-0-7\">\n",
       "<path style=\"stroke:none;\" d=\"M 2.546875 2.5 L 2.546875 2.09375 L 1.578125 2.09375 L 1.578125 -7.078125 L 2.546875 -7.078125 L 2.546875 -7.484375 L 1.171875 -7.484375 L 1.171875 2.5 Z M 2.546875 2.5 \"/>\n",
       "</symbol>\n",
       "<symbol overflow=\"visible\" id=\"glyph-1579380403673622-0-8\">\n",
       "<path style=\"stroke:none;\" d=\"M 1.265625 -0.765625 L 2.328125 -1.796875 C 3.875 -3.171875 4.46875 -3.703125 4.46875 -4.703125 C 4.46875 -5.84375 3.578125 -6.640625 2.359375 -6.640625 C 1.234375 -6.640625 0.5 -5.71875 0.5 -4.828125 C 0.5 -4.28125 1 -4.28125 1.03125 -4.28125 C 1.203125 -4.28125 1.546875 -4.390625 1.546875 -4.8125 C 1.546875 -5.0625 1.359375 -5.328125 1.015625 -5.328125 C 0.9375 -5.328125 0.921875 -5.328125 0.890625 -5.3125 C 1.109375 -5.96875 1.65625 -6.328125 2.234375 -6.328125 C 3.140625 -6.328125 3.5625 -5.515625 3.5625 -4.703125 C 3.5625 -3.90625 3.078125 -3.125 2.515625 -2.5 L 0.609375 -0.375 C 0.5 -0.265625 0.5 -0.234375 0.5 0 L 4.203125 0 L 4.46875 -1.734375 L 4.234375 -1.734375 C 4.171875 -1.4375 4.109375 -1 4 -0.84375 C 3.9375 -0.765625 3.28125 -0.765625 3.0625 -0.765625 Z M 1.265625 -0.765625 \"/>\n",
       "</symbol>\n",
       "<symbol overflow=\"visible\" id=\"glyph-1579380403673622-0-9\">\n",
       "<path style=\"stroke:none;\" d=\"M 1.578125 -7.484375 L 0.21875 -7.484375 L 0.21875 -7.078125 L 1.1875 -7.078125 L 1.1875 2.09375 L 0.21875 2.09375 L 0.21875 2.5 L 1.578125 2.5 Z M 1.578125 -7.484375 \"/>\n",
       "</symbol>\n",
       "<symbol overflow=\"visible\" id=\"glyph-1579380403673622-0-10\">\n",
       "<path style=\"stroke:none;\" d=\"M 2.078125 -1.9375 C 2.296875 -1.890625 3.109375 -1.734375 3.109375 -1.015625 C 3.109375 -0.515625 2.765625 -0.109375 1.984375 -0.109375 C 1.140625 -0.109375 0.78125 -0.671875 0.59375 -1.53125 C 0.5625 -1.65625 0.5625 -1.6875 0.453125 -1.6875 C 0.328125 -1.6875 0.328125 -1.625 0.328125 -1.453125 L 0.328125 -0.125 C 0.328125 0.046875 0.328125 0.109375 0.4375 0.109375 C 0.484375 0.109375 0.5 0.09375 0.6875 -0.09375 C 0.703125 -0.109375 0.703125 -0.125 0.890625 -0.3125 C 1.328125 0.09375 1.78125 0.109375 1.984375 0.109375 C 3.125 0.109375 3.59375 -0.5625 3.59375 -1.28125 C 3.59375 -1.796875 3.296875 -2.109375 3.171875 -2.21875 C 2.84375 -2.546875 2.453125 -2.625 2.03125 -2.703125 C 1.46875 -2.8125 0.8125 -2.9375 0.8125 -3.515625 C 0.8125 -3.875 1.0625 -4.28125 1.921875 -4.28125 C 3.015625 -4.28125 3.078125 -3.375 3.09375 -3.078125 C 3.09375 -2.984375 3.1875 -2.984375 3.203125 -2.984375 C 3.34375 -2.984375 3.34375 -3.03125 3.34375 -3.21875 L 3.34375 -4.234375 C 3.34375 -4.390625 3.34375 -4.46875 3.234375 -4.46875 C 3.1875 -4.46875 3.15625 -4.46875 3.03125 -4.34375 C 3 -4.3125 2.90625 -4.21875 2.859375 -4.1875 C 2.484375 -4.46875 2.078125 -4.46875 1.921875 -4.46875 C 0.703125 -4.46875 0.328125 -3.796875 0.328125 -3.234375 C 0.328125 -2.890625 0.484375 -2.609375 0.75 -2.390625 C 1.078125 -2.140625 1.359375 -2.078125 2.078125 -1.9375 Z M 2.078125 -1.9375 \"/>\n",
       "</symbol>\n",
       "</g>\n",
       "<clipPath id=\"clip-1579380403673622-1\">\n",
       "  <path d=\"M 126 14 L 140.273438 14 L 140.273438 26 L 126 26 Z M 126 14 \"/>\n",
       "</clipPath>\n",
       "</defs>\n",
       "<g id=\"surface1\">\n",
       "<path style=\"fill:none;stroke-width:0.3985;stroke-linecap:butt;stroke-linejoin:miter;stroke:rgb(0%,0%,0%);stroke-opacity:1;stroke-miterlimit:10;\" d=\"M -22.238563 9.961156 L -57.465125 9.961156 C -59.66825 9.961156 -61.4495 8.179906 -61.4495 5.976781 L -61.4495 -5.976344 C -61.4495 -8.179469 -59.66825 -9.964625 -57.465125 -9.964625 L -22.238563 -9.964625 C -20.035438 -9.964625 -18.250281 -8.179469 -18.250281 -5.976344 L -18.250281 5.976781 C -18.250281 8.179906 -20.035438 9.961156 -22.238563 9.961156 Z M -22.238563 9.961156 \" transform=\"matrix(1,0,0,-1,70.137,19.926)\"/>\n",
       "<g style=\"fill:rgb(0%,0%,0%);fill-opacity:1;\">\n",
       "  <use xlink:href=\"#glyph-1579380403673622-0-1\" x=\"12.008\" y=\"22.416\"/>\n",
       "  <use xlink:href=\"#glyph-1579380403673622-0-2\" x=\"14.775621\" y=\"22.416\"/>\n",
       "  <use xlink:href=\"#glyph-1579380403673622-0-3\" x=\"17.543243\" y=\"22.416\"/>\n",
       "  <use xlink:href=\"#glyph-1579380403673622-0-4\" x=\"23.078486\" y=\"22.416\"/>\n",
       "  <use xlink:href=\"#glyph-1579380403673622-0-5\" x=\"27.505883\" y=\"22.416\"/>\n",
       "  <use xlink:href=\"#glyph-1579380403673622-0-6\" x=\"32.487203\" y=\"22.416\"/>\n",
       "</g>\n",
       "<g style=\"fill:rgb(0%,0%,0%);fill-opacity:1;\">\n",
       "  <use xlink:href=\"#glyph-1579380403673622-0-7\" x=\"38.043367\" y=\"22.416\"/>\n",
       "  <use xlink:href=\"#glyph-1579380403673622-0-8\" x=\"40.810989\" y=\"22.416\"/>\n",
       "  <use xlink:href=\"#glyph-1579380403673622-0-9\" x=\"45.792309\" y=\"22.416\"/>\n",
       "</g>\n",
       "<path style=\"fill:none;stroke-width:0.3985;stroke-linecap:butt;stroke-linejoin:miter;stroke:rgb(0%,0%,0%);stroke-opacity:1;stroke-miterlimit:10;\" d=\"M 5.976281 9.961156 L -5.976844 9.961156 C -8.179969 9.961156 -9.961219 8.179906 -9.961219 5.976781 L -9.961219 -5.976344 C -9.961219 -8.179469 -8.179969 -9.964625 -5.976844 -9.964625 L 5.976281 -9.964625 C 8.179406 -9.964625 9.964562 -8.179469 9.964562 -5.976344 L 9.964562 5.976781 C 9.964562 8.179906 8.179406 9.961156 5.976281 9.961156 Z M 5.976281 9.961156 \" transform=\"matrix(1,0,0,-1,70.137,19.926)\"/>\n",
       "<g style=\"fill:rgb(0%,0%,0%);fill-opacity:1;\">\n",
       "  <use xlink:href=\"#glyph-1579380403673622-0-10\" x=\"64.021\" y=\"23.253\"/>\n",
       "  <use xlink:href=\"#glyph-1579380403673622-0-2\" x=\"67.950265\" y=\"23.253\"/>\n",
       "  <use xlink:href=\"#glyph-1579380403673622-0-3\" x=\"70.717887\" y=\"23.253\"/>\n",
       "</g>\n",
       "<path style=\"fill:none;stroke-width:0.3985;stroke-linecap:butt;stroke-linejoin:miter;stroke:rgb(0%,0%,0%);stroke-opacity:1;stroke-miterlimit:10;\" d=\"M 57.464562 9.961156 L 22.238 9.961156 C 20.034875 9.961156 18.249719 8.179906 18.249719 5.976781 L 18.249719 -5.976344 C 18.249719 -8.179469 20.034875 -9.964625 22.238 -9.964625 L 57.464562 -9.964625 C 59.667687 -9.964625 61.448937 -8.179469 61.448937 -5.976344 L 61.448937 5.976781 C 61.448937 8.179906 59.667687 9.961156 57.464562 9.961156 Z M 57.464562 9.961156 \" transform=\"matrix(1,0,0,-1,70.137,19.926)\"/>\n",
       "<g style=\"fill:rgb(0%,0%,0%);fill-opacity:1;\">\n",
       "  <use xlink:href=\"#glyph-1579380403673622-0-1\" x=\"91.709\" y=\"22.416\"/>\n",
       "  <use xlink:href=\"#glyph-1579380403673622-0-2\" x=\"94.476621\" y=\"22.416\"/>\n",
       "  <use xlink:href=\"#glyph-1579380403673622-0-3\" x=\"97.244243\" y=\"22.416\"/>\n",
       "  <use xlink:href=\"#glyph-1579380403673622-0-4\" x=\"102.779486\" y=\"22.416\"/>\n",
       "  <use xlink:href=\"#glyph-1579380403673622-0-5\" x=\"107.206883\" y=\"22.416\"/>\n",
       "  <use xlink:href=\"#glyph-1579380403673622-0-6\" x=\"112.188203\" y=\"22.416\"/>\n",
       "</g>\n",
       "<g style=\"fill:rgb(0%,0%,0%);fill-opacity:1;\">\n",
       "  <use xlink:href=\"#glyph-1579380403673622-0-7\" x=\"117.744367\" y=\"22.416\"/>\n",
       "  <use xlink:href=\"#glyph-1579380403673622-0-8\" x=\"120.511989\" y=\"22.416\"/>\n",
       "  <use xlink:href=\"#glyph-1579380403673622-0-9\" x=\"125.493309\" y=\"22.416\"/>\n",
       "</g>\n",
       "<path style=\"fill:none;stroke-width:0.3985;stroke-linecap:butt;stroke-linejoin:miter;stroke:rgb(0%,0%,0%);stroke-opacity:1;stroke-miterlimit:10;\" d=\"M -69.937781 0.00021875 C -66.707313 0.00021875 -64.883094 0.00021875 -61.648719 0.00021875 \" transform=\"matrix(1,0,0,-1,70.137,19.926)\"/>\n",
       "<path style=\"fill:none;stroke-width:0.3985;stroke-linecap:butt;stroke-linejoin:miter;stroke:rgb(0%,0%,0%);stroke-opacity:1;stroke-miterlimit:10;\" d=\"M -18.051063 0.00021875 C -14.976844 0.00021875 -13.238563 0.00021875 -10.160438 0.00021875 \" transform=\"matrix(1,0,0,-1,70.137,19.926)\"/>\n",
       "<path style=\"fill:none;stroke-width:0.3985;stroke-linecap:butt;stroke-linejoin:miter;stroke:rgb(0%,0%,0%);stroke-opacity:1;stroke-miterlimit:10;\" d=\"M 10.163781 0.00021875 C 13.238 0.00021875 14.976281 0.00021875 18.0505 0.00021875 \" transform=\"matrix(1,0,0,-1,70.137,19.926)\"/>\n",
       "<g clip-path=\"url(#clip-1579380403673622-1)\" clip-rule=\"nonzero\">\n",
       "<path style=\"fill:none;stroke-width:0.3985;stroke-linecap:butt;stroke-linejoin:miter;stroke:rgb(0%,0%,0%);stroke-opacity:1;stroke-miterlimit:10;\" d=\"M 61.648156 0.00021875 C 64.882531 0.00021875 66.70675 0.00021875 69.937219 0.00021875 \" transform=\"matrix(1,0,0,-1,70.137,19.926)\"/>\n",
       "</g>\n",
       "</g>\n",
       "</svg>\n",
       "\n"
      ]
     },
     "metadata": {},
     "execution_count": 11
    }
   ],
   "cell_type": "code",
   "source": [
    "to_tikz(f)"
   ],
   "metadata": {},
   "execution_count": 11
  },
  {
   "outputs": [
    {
     "output_type": "execute_result",
     "data": {
      "text/plain": "(:(function (x,)\n      v1 = 2x\n      v2 = sin.(v1)\n      v3 = 2v2\n      return v3\n  end), Symbol[])"
     },
     "metadata": {},
     "execution_count": 12
    }
   ],
   "cell_type": "code",
   "source": [
    "compile_expr(f; args=[:x])"
   ],
   "metadata": {},
   "execution_count": 12
  },
  {
   "outputs": [
    {
     "output_type": "execute_result",
     "data": {
      "text/plain": "Formula(:*, 2, Formula(:sin, Formula(:*, 2, :x)))",
      "text/latex": "$2 \\sin\\left(2 x\\right)$"
     },
     "metadata": {},
     "execution_count": 13
    }
   ],
   "cell_type": "code",
   "source": [
    "to_formula(f, [:x])"
   ],
   "metadata": {},
   "execution_count": 13
  },
  {
   "outputs": [
    {
     "output_type": "execute_result",
     "data": {
      "text/plain": "compose(mcopy(\\mathbb{R},2),otimes(id(\\mathbb{R}),cos),*)",
      "text/latex": "$\\Delta_{\\mathbb{R},2} ; \\left(\\mathrm{id}_{\\mathbb{R}} \\otimes \\mathrm{cos}\\right) ; * : \\mathbb{R} \\to \\mathbb{R}$"
     },
     "metadata": {},
     "execution_count": 14
    }
   ],
   "cell_type": "code",
   "source": [
    "f = compose(mcopy(R), otimes(id(R),Hom(:cos,R,R)), Hom(:*,otimes(R,R),R))"
   ],
   "metadata": {},
   "execution_count": 14
  },
  {
   "outputs": [
    {
     "output_type": "execute_result",
     "data": {
      "text/plain": "Catlab.Graphics.TikZ.Document(Catlab.Graphics.TikZ.Picture(Catlab.Graphics.TikZ.Statement[Catlab.Graphics.TikZ.Node(\"root\", Catlab.Graphics.TikZ.Property[Catlab.Graphics.TikZ.Property(\"outer box\", nothing), Catlab.Graphics.TikZ.Property(\"minimum width\", \"14em\"), Catlab.Graphics.TikZ.Property(\"minimum height\", \"7em\")], Catlab.Graphics.TikZ.Coordinate(\"0\", \"0\"), \"\"), Catlab.Graphics.TikZ.Node(\"n3\", Catlab.Graphics.TikZ.Property[Catlab.Graphics.TikZ.Property(\"junction\", nothing), Catlab.Graphics.TikZ.Property(\"minimum size\", \"0.5em\")], Catlab.Graphics.TikZ.Coordinate(\"-4\", \"0\"), \"\"), Catlab.Graphics.TikZ.Node(\"n4\", Catlab.Graphics.TikZ.Property[Catlab.Graphics.TikZ.Property(\"box\", nothing), Catlab.Graphics.TikZ.Property(\"minimum size\", \"2em\")], Catlab.Graphics.TikZ.Coordinate(\"0\", \"-1.5\"), \"\\$\\\\mathrm{cos}\\$\"), Catlab.Graphics.TikZ.Node(\"n5\", Catlab.Graphics.TikZ.Property[Catlab.Graphics.TikZ.Property(\"box\", nothing), Catlab.Graphics.TikZ.Property(\"minimum width\", \"2em\"), Catlab.Graphics.TikZ.Property(\"minimum height\", \"5em\")], Catlab.Graphics.TikZ.Coordinate(\"4\", \"0\"), \"\\$*\\$\"), Catlab.Graphics.TikZ.Edge(Catlab.Graphics.TikZ.PathExpression[Catlab.Graphics.TikZ.NodeCoordinate(\"root.west\"), Catlab.Graphics.TikZ.PathOperation(\"to\", Catlab.Graphics.TikZ.Property[Catlab.Graphics.TikZ.Property(\"out\", \"0\"), Catlab.Graphics.TikZ.Property(\"in\", \"180\")]), Catlab.Graphics.TikZ.NodeCoordinate(\"n3.180\")], Catlab.Graphics.TikZ.Property[Catlab.Graphics.TikZ.Property(\"wire\", nothing)]), Catlab.Graphics.TikZ.Edge(Catlab.Graphics.TikZ.PathExpression[Catlab.Graphics.TikZ.NodeCoordinate(\"n3.-30\"), Catlab.Graphics.TikZ.PathOperation(\"to\", Catlab.Graphics.TikZ.Property[Catlab.Graphics.TikZ.Property(\"out\", \"-30\"), Catlab.Graphics.TikZ.Property(\"in\", \"-180\")]), Catlab.Graphics.TikZ.NodeCoordinate(\"n4.west\")], Catlab.Graphics.TikZ.Property[Catlab.Graphics.TikZ.Property(\"wire\", nothing)]), Catlab.Graphics.TikZ.Edge(Catlab.Graphics.TikZ.PathExpression[Catlab.Graphics.TikZ.NodeCoordinate(\"n3.30\"), Catlab.Graphics.TikZ.PathOperation(\"to\", Catlab.Graphics.TikZ.Property[Catlab.Graphics.TikZ.Property(\"out\", \"30\"), Catlab.Graphics.TikZ.Property(\"in\", \"180\")]), Catlab.Graphics.TikZ.Coordinate(\"0\", \"1.5\"), Catlab.Graphics.TikZ.PathOperation(\"to\", Catlab.Graphics.TikZ.Property[Catlab.Graphics.TikZ.Property(\"out\", \"0\"), Catlab.Graphics.TikZ.Property(\"in\", \"-180\")]), Catlab.Graphics.TikZ.NodeCoordinate(\"\\$(n5.west)+(0em,1.5em)\\$\")], Catlab.Graphics.TikZ.Property[Catlab.Graphics.TikZ.Property(\"wire\", nothing)]), Catlab.Graphics.TikZ.Edge(Catlab.Graphics.TikZ.PathExpression[Catlab.Graphics.TikZ.NodeCoordinate(\"n4.east\"), Catlab.Graphics.TikZ.PathOperation(\"to\", Catlab.Graphics.TikZ.Property[Catlab.Graphics.TikZ.Property(\"out\", \"0\"), Catlab.Graphics.TikZ.Property(\"in\", \"-180\")]), Catlab.Graphics.TikZ.NodeCoordinate(\"\\$(n5.west)+(0em,-1.5em)\\$\")], Catlab.Graphics.TikZ.Property[Catlab.Graphics.TikZ.Property(\"wire\", nothing)]), Catlab.Graphics.TikZ.Edge(Catlab.Graphics.TikZ.PathExpression[Catlab.Graphics.TikZ.NodeCoordinate(\"n5.east\"), Catlab.Graphics.TikZ.PathOperation(\"to\", Catlab.Graphics.TikZ.Property[Catlab.Graphics.TikZ.Property(\"out\", \"0\"), Catlab.Graphics.TikZ.Property(\"in\", \"180\")]), Catlab.Graphics.TikZ.NodeCoordinate(\"root.east\")], Catlab.Graphics.TikZ.Property[Catlab.Graphics.TikZ.Property(\"wire\", nothing)])], Catlab.Graphics.TikZ.Property[Catlab.Graphics.TikZ.Property(\"x\", \"1em\"), Catlab.Graphics.TikZ.Property(\"y\", \"1em\"), Catlab.Graphics.TikZ.Property(\"outer box/.style\", Catlab.Graphics.TikZ.Property[Catlab.Graphics.TikZ.Property(\"draw\", \"none\")]), Catlab.Graphics.TikZ.Property(\"box/.style\", Catlab.Graphics.TikZ.Property[Catlab.Graphics.TikZ.Property(\"rectangle\", nothing), Catlab.Graphics.TikZ.Property(\"draw\", nothing), Catlab.Graphics.TikZ.Property(\"solid\", nothing), Catlab.Graphics.TikZ.Property(\"rounded corners\", nothing)]), Catlab.Graphics.TikZ.Property(\"circular box/.style\", Catlab.Graphics.TikZ.Property[Catlab.Graphics.TikZ.Property(\"circle\", nothing), Catlab.Graphics.TikZ.Property(\"draw\", nothing), Catlab.Graphics.TikZ.Property(\"solid\", nothing)]), Catlab.Graphics.TikZ.Property(\"junction/.style\", Catlab.Graphics.TikZ.Property[Catlab.Graphics.TikZ.Property(\"circle\", nothing), Catlab.Graphics.TikZ.Property(\"draw\", nothing), Catlab.Graphics.TikZ.Property(\"fill\", nothing), Catlab.Graphics.TikZ.Property(\"inner sep\", \"0\")]), Catlab.Graphics.TikZ.Property(\"variant junction/.style\", Catlab.Graphics.TikZ.Property[Catlab.Graphics.TikZ.Property(\"circle\", nothing), Catlab.Graphics.TikZ.Property(\"draw\", nothing), Catlab.Graphics.TikZ.Property(\"solid\", nothing), Catlab.Graphics.TikZ.Property(\"inner sep\", \"0\")]), Catlab.Graphics.TikZ.Property(\"invisible/.style\", Catlab.Graphics.TikZ.Property[Catlab.Graphics.TikZ.Property(\"draw\", \"none\"), Catlab.Graphics.TikZ.Property(\"inner sep\", \"0\")]), Catlab.Graphics.TikZ.Property(\"wire/.style\", Catlab.Graphics.TikZ.Property[Catlab.Graphics.TikZ.Property(\"draw\", nothing)])]), [\"calc\"])",
      "image/svg+xml": [
       "<?xml version=\"1.0\" encoding=\"UTF-8\"?>\n",
       "<svg xmlns=\"http://www.w3.org/2000/svg\" xmlns:xlink=\"http://www.w3.org/1999/xlink\" width=\"140.274pt\" height=\"69.738pt\" viewBox=\"0 0 140.274 69.738\" version=\"1.1\">\n",
       "<defs>\n",
       "<g>\n",
       "<symbol overflow=\"visible\" id=\"glyph-1579380403673623-0-0\">\n",
       "<path style=\"stroke:none;\" d=\"\"/>\n",
       "</symbol>\n",
       "<symbol overflow=\"visible\" id=\"glyph-1579380403673623-0-1\">\n",
       "<path style=\"stroke:none;\" d=\"M 1.171875 -2.171875 C 1.171875 -3.796875 1.984375 -4.21875 2.515625 -4.21875 C 2.609375 -4.21875 3.234375 -4.203125 3.578125 -3.84375 C 3.171875 -3.8125 3.109375 -3.515625 3.109375 -3.390625 C 3.109375 -3.125 3.296875 -2.9375 3.5625 -2.9375 C 3.828125 -2.9375 4.03125 -3.09375 4.03125 -3.40625 C 4.03125 -4.078125 3.265625 -4.46875 2.5 -4.46875 C 1.25 -4.46875 0.34375 -3.390625 0.34375 -2.15625 C 0.34375 -0.875 1.328125 0.109375 2.484375 0.109375 C 3.8125 0.109375 4.140625 -1.09375 4.140625 -1.1875 C 4.140625 -1.28125 4.03125 -1.28125 4 -1.28125 C 3.921875 -1.28125 3.890625 -1.25 3.875 -1.1875 C 3.59375 -0.265625 2.9375 -0.140625 2.578125 -0.140625 C 2.046875 -0.140625 1.171875 -0.5625 1.171875 -2.171875 Z M 1.171875 -2.171875 \"/>\n",
       "</symbol>\n",
       "<symbol overflow=\"visible\" id=\"glyph-1579380403673623-0-2\">\n",
       "<path style=\"stroke:none;\" d=\"M 4.6875 -2.140625 C 4.6875 -3.40625 3.703125 -4.46875 2.5 -4.46875 C 1.25 -4.46875 0.28125 -3.375 0.28125 -2.140625 C 0.28125 -0.84375 1.3125 0.109375 2.484375 0.109375 C 3.6875 0.109375 4.6875 -0.875 4.6875 -2.140625 Z M 2.5 -0.140625 C 2.0625 -0.140625 1.625 -0.34375 1.359375 -0.8125 C 1.109375 -1.25 1.109375 -1.859375 1.109375 -2.21875 C 1.109375 -2.609375 1.109375 -3.140625 1.34375 -3.578125 C 1.609375 -4.03125 2.078125 -4.25 2.484375 -4.25 C 2.921875 -4.25 3.34375 -4.03125 3.609375 -3.59375 C 3.875 -3.171875 3.875 -2.59375 3.875 -2.21875 C 3.875 -1.859375 3.875 -1.3125 3.65625 -0.875 C 3.421875 -0.421875 2.984375 -0.140625 2.5 -0.140625 Z M 2.5 -0.140625 \"/>\n",
       "</symbol>\n",
       "<symbol overflow=\"visible\" id=\"glyph-1579380403673623-0-3\">\n",
       "<path style=\"stroke:none;\" d=\"M 2.078125 -1.9375 C 2.296875 -1.890625 3.109375 -1.734375 3.109375 -1.015625 C 3.109375 -0.515625 2.765625 -0.109375 1.984375 -0.109375 C 1.140625 -0.109375 0.78125 -0.671875 0.59375 -1.53125 C 0.5625 -1.65625 0.5625 -1.6875 0.453125 -1.6875 C 0.328125 -1.6875 0.328125 -1.625 0.328125 -1.453125 L 0.328125 -0.125 C 0.328125 0.046875 0.328125 0.109375 0.4375 0.109375 C 0.484375 0.109375 0.5 0.09375 0.6875 -0.09375 C 0.703125 -0.109375 0.703125 -0.125 0.890625 -0.3125 C 1.328125 0.09375 1.78125 0.109375 1.984375 0.109375 C 3.125 0.109375 3.59375 -0.5625 3.59375 -1.28125 C 3.59375 -1.796875 3.296875 -2.109375 3.171875 -2.21875 C 2.84375 -2.546875 2.453125 -2.625 2.03125 -2.703125 C 1.46875 -2.8125 0.8125 -2.9375 0.8125 -3.515625 C 0.8125 -3.875 1.0625 -4.28125 1.921875 -4.28125 C 3.015625 -4.28125 3.078125 -3.375 3.09375 -3.078125 C 3.09375 -2.984375 3.1875 -2.984375 3.203125 -2.984375 C 3.34375 -2.984375 3.34375 -3.03125 3.34375 -3.21875 L 3.34375 -4.234375 C 3.34375 -4.390625 3.34375 -4.46875 3.234375 -4.46875 C 3.1875 -4.46875 3.15625 -4.46875 3.03125 -4.34375 C 3 -4.3125 2.90625 -4.21875 2.859375 -4.1875 C 2.484375 -4.46875 2.078125 -4.46875 1.921875 -4.46875 C 0.703125 -4.46875 0.328125 -3.796875 0.328125 -3.234375 C 0.328125 -2.890625 0.484375 -2.609375 0.75 -2.390625 C 1.078125 -2.140625 1.359375 -2.078125 2.078125 -1.9375 Z M 2.078125 -1.9375 \"/>\n",
       "</symbol>\n",
       "<symbol overflow=\"visible\" id=\"glyph-1579380403673623-1-0\">\n",
       "<path style=\"stroke:none;\" d=\"\"/>\n",
       "</symbol>\n",
       "<symbol overflow=\"visible\" id=\"glyph-1579380403673623-1-1\">\n",
       "<path style=\"stroke:none;\" d=\"M 2.734375 -4.25 C 2.75 -4.390625 2.75 -4.640625 2.5 -4.640625 C 2.328125 -4.640625 2.203125 -4.5 2.234375 -4.375 L 2.234375 -4.25 L 2.375 -2.703125 L 1.09375 -3.625 C 1 -3.671875 0.984375 -3.703125 0.921875 -3.703125 C 0.78125 -3.703125 0.640625 -3.5625 0.640625 -3.421875 C 0.640625 -3.265625 0.75 -3.21875 0.84375 -3.171875 L 2.265625 -2.5 L 0.890625 -1.828125 C 0.734375 -1.75 0.640625 -1.703125 0.640625 -1.5625 C 0.640625 -1.40625 0.78125 -1.28125 0.921875 -1.28125 C 0.984375 -1.28125 1 -1.28125 1.25 -1.46875 L 2.375 -2.265625 L 2.21875 -0.59375 C 2.21875 -0.390625 2.40625 -0.34375 2.484375 -0.34375 C 2.609375 -0.34375 2.75 -0.40625 2.75 -0.59375 L 2.609375 -2.265625 L 3.875 -1.34375 C 3.96875 -1.296875 3.984375 -1.28125 4.0625 -1.28125 C 4.203125 -1.28125 4.328125 -1.421875 4.328125 -1.5625 C 4.328125 -1.703125 4.234375 -1.75 4.109375 -1.8125 C 3.515625 -2.109375 3.5 -2.109375 2.71875 -2.484375 L 4.09375 -3.15625 C 4.25 -3.234375 4.328125 -3.265625 4.328125 -3.421875 C 4.328125 -3.5625 4.203125 -3.703125 4.0625 -3.703125 C 3.984375 -3.703125 3.96875 -3.703125 3.71875 -3.515625 L 2.609375 -2.703125 Z M 2.734375 -4.25 \"/>\n",
       "</symbol>\n",
       "</g>\n",
       "<clipPath id=\"clip-1579380403673623-1\">\n",
       "  <path d=\"M 114 29 L 140.273438 29 L 140.273438 41 L 114 41 Z M 114 29 \"/>\n",
       "</clipPath>\n",
       "</defs>\n",
       "<g id=\"surface1\">\n",
       "<path style=\"fill-rule:nonzero;fill:rgb(0%,0%,0%);fill-opacity:1;stroke-width:0.3985;stroke-linecap:butt;stroke-linejoin:miter;stroke:rgb(0%,0%,0%);stroke-opacity:1;stroke-miterlimit:10;\" d=\"M -37.359656 0.0018125 C -37.359656 1.376812 -38.476844 2.490094 -39.851844 2.490094 C -41.226844 2.490094 -42.340125 1.376812 -42.340125 0.0018125 C -42.340125 -1.377094 -41.226844 -2.490375 -39.851844 -2.490375 C -38.476844 -2.490375 -37.359656 -1.377094 -37.359656 0.0018125 Z M -37.359656 0.0018125 \" transform=\"matrix(1,0,0,-1,70.137,34.869)\"/>\n",
       "<path style=\"fill:none;stroke-width:0.3985;stroke-linecap:butt;stroke-linejoin:miter;stroke:rgb(0%,0%,0%);stroke-opacity:1;stroke-miterlimit:10;\" d=\"M 6.003625 -4.982563 L -6.004188 -4.982563 C -8.207313 -4.982563 -9.988563 -6.763813 -9.988563 -8.966938 L -9.988563 -20.920063 C -9.988563 -23.123188 -8.207313 -24.908344 -6.004188 -24.908344 L 6.003625 -24.908344 C 8.20675 -24.908344 9.991906 -23.123188 9.991906 -20.920063 L 9.991906 -8.966938 C 9.991906 -6.763813 8.20675 -4.982563 6.003625 -4.982563 Z M 6.003625 -4.982563 \" transform=\"matrix(1,0,0,-1,70.137,34.869)\"/>\n",
       "<g style=\"fill:rgb(0%,0%,0%);fill-opacity:1;\">\n",
       "  <use xlink:href=\"#glyph-1579380403673623-0-1\" x=\"63.468\" y=\"51.957\"/>\n",
       "  <use xlink:href=\"#glyph-1579380403673623-0-2\" x=\"67.895397\" y=\"51.957\"/>\n",
       "  <use xlink:href=\"#glyph-1579380403673623-0-3\" x=\"72.876717\" y=\"51.957\"/>\n",
       "</g>\n",
       "<path style=\"fill:none;stroke-width:0.3985;stroke-linecap:butt;stroke-linejoin:miter;stroke:rgb(0%,0%,0%);stroke-opacity:1;stroke-miterlimit:10;\" d=\"M 45.827844 24.908062 L 33.874719 24.908062 C 31.671594 24.908062 29.886437 23.122906 29.886437 20.923687 L 29.886437 -20.920063 C 29.886437 -23.123188 31.671594 -24.908344 33.874719 -24.908344 L 45.827844 -24.908344 C 48.030969 -24.908344 49.812219 -23.123188 49.812219 -20.920063 L 49.812219 20.923687 C 49.812219 23.122906 48.030969 24.908062 45.827844 24.908062 Z M 45.827844 24.908062 \" transform=\"matrix(1,0,0,-1,70.137,34.869)\"/>\n",
       "<g style=\"fill:rgb(0%,0%,0%);fill-opacity:1;\">\n",
       "  <use xlink:href=\"#glyph-1579380403673623-1-1\" x=\"107.497\" y=\"37.186\"/>\n",
       "</g>\n",
       "<path style=\"fill:none;stroke-width:0.3985;stroke-linecap:butt;stroke-linejoin:miter;stroke:rgb(0%,0%,0%);stroke-opacity:1;stroke-miterlimit:10;\" d=\"M -69.937781 0.0018125 C -59.254188 0.0018125 -53.226844 0.0018125 -42.539344 0.0018125 \" transform=\"matrix(1,0,0,-1,70.137,34.869)\"/>\n",
       "<path style=\"fill:none;stroke-width:0.3985;stroke-linecap:butt;stroke-linejoin:miter;stroke:rgb(0%,0%,0%);stroke-opacity:1;stroke-miterlimit:10;\" d=\"M -37.515906 -1.34975 C -27.203406 -7.302875 -22.097938 -14.9435 -10.187781 -14.9435 \" transform=\"matrix(1,0,0,-1,70.137,34.869)\"/>\n",
       "<path style=\"fill:none;stroke-width:0.3985;stroke-linecap:butt;stroke-linejoin:miter;stroke:rgb(0%,0%,0%);stroke-opacity:1;stroke-miterlimit:10;\" d=\"M -37.515906 1.349469 C -24.004188 9.15025 -15.601844 14.943219 -0.00028125 14.943219 C 11.577844 14.943219 18.113 14.943219 29.687219 14.943219 \" transform=\"matrix(1,0,0,-1,70.137,34.869)\"/>\n",
       "<path style=\"fill:none;stroke-width:0.3985;stroke-linecap:butt;stroke-linejoin:miter;stroke:rgb(0%,0%,0%);stroke-opacity:1;stroke-miterlimit:10;\" d=\"M 10.191125 -14.9435 C 17.792687 -14.9435 22.085656 -14.9435 29.687219 -14.9435 \" transform=\"matrix(1,0,0,-1,70.137,34.869)\"/>\n",
       "<g clip-path=\"url(#clip-1579380403673623-1)\" clip-rule=\"nonzero\">\n",
       "<path style=\"fill:none;stroke-width:0.3985;stroke-linecap:butt;stroke-linejoin:miter;stroke:rgb(0%,0%,0%);stroke-opacity:1;stroke-miterlimit:10;\" d=\"M 50.011437 0.0018125 C 57.784875 0.0018125 62.167687 0.0018125 69.937219 0.0018125 \" transform=\"matrix(1,0,0,-1,70.137,34.869)\"/>\n",
       "</g>\n",
       "</g>\n",
       "</svg>\n",
       "\n"
      ]
     },
     "metadata": {},
     "execution_count": 15
    }
   ],
   "cell_type": "code",
   "source": [
    "to_tikz(f)"
   ],
   "metadata": {},
   "execution_count": 15
  },
  {
   "outputs": [
    {
     "output_type": "execute_result",
     "data": {
      "text/plain": "(:(function (x,)\n      v1 = cos.(x)\n      v2 = (*).(x, v1)\n      return v2\n  end), Symbol[])"
     },
     "metadata": {},
     "execution_count": 16
    }
   ],
   "cell_type": "code",
   "source": [
    "compile_expr(f; args=[:x])"
   ],
   "metadata": {},
   "execution_count": 16
  },
  {
   "outputs": [
    {
     "output_type": "execute_result",
     "data": {
      "text/plain": "Formula(:*, :x, Formula(:cos, :x))",
      "text/latex": "$x \\cos\\left(x\\right)$"
     },
     "metadata": {},
     "execution_count": 17
    }
   ],
   "cell_type": "code",
   "source": [
    "to_formula(f, [:x])"
   ],
   "metadata": {},
   "execution_count": 17
  }
 ],
 "nbformat_minor": 3,
 "metadata": {
  "language_info": {
   "file_extension": ".jl",
   "mimetype": "application/julia",
   "name": "julia",
   "version": "1.3.1"
  },
  "kernelspec": {
   "name": "julia-1.3",
   "display_name": "Julia 1.3.1",
   "language": "julia"
  }
 },
 "nbformat": 4
}
