{
 "cells": [
  {
   "outputs": [],
   "cell_type": "markdown",
   "source": [
    "# Algebraic networks"
   ],
   "metadata": {}
  },
  {
   "outputs": [],
   "cell_type": "code",
   "source": [
    "using Catlab.Programs\n",
    "\n",
    "import TikzPictures\n",
    "using Catlab.Graphics"
   ],
   "metadata": {},
   "execution_count": 1
  },
  {
   "outputs": [],
   "cell_type": "code",
   "source": [
    "R = Ob(AlgebraicNet, \"\\\\mathbb{R}\")\n",
    "f_sin = Hom(:sin, R, R)\n",
    "f_cos = Hom(:cos, R, R)\n",
    "display(f_sin)\n",
    "display(f_cos)"
   ],
   "metadata": {},
   "execution_count": 2
  },
  {
   "outputs": [
    {
     "output_type": "execute_result",
     "data": {
      "text/plain": "compose(mcopy(\\mathbb{R},2),otimes(sin,cos),mmerge(\\mathbb{R},2))",
      "text/latex": "$\\Delta_{\\mathbb{R},2} ; \\left(\\mathrm{sin} \\otimes \\mathrm{cos}\\right) ; \\nabla_{\\mathbb{R},2} : \\mathbb{R} \\to \\mathbb{R}$"
     },
     "metadata": {},
     "execution_count": 3
    }
   ],
   "cell_type": "code",
   "source": [
    "f = compose(mcopy(R),otimes(f_sin,f_cos),mmerge(R))"
   ],
   "metadata": {},
   "execution_count": 3
  },
  {
   "outputs": [
    {
     "output_type": "execute_result",
     "data": {
      "text/plain": "Catlab.Graphics.TikZ.Picture(Catlab.Graphics.TikZ.Statement[Catlab.Graphics.TikZ.Node(\"n\", Catlab.Graphics.TikZ.Property[Catlab.Graphics.TikZ.Property(\"container\", nothing)], nothing, Catlab.Graphics.TikZ.Picture(Catlab.Graphics.TikZ.Statement[Catlab.Graphics.TikZ.Node(\"n1\", Catlab.Graphics.TikZ.Property[Catlab.Graphics.TikZ.Property(\"minimum height\", \"2.0em\")], nothing, \"\"), Catlab.Graphics.TikZ.Node(\"n2\", Catlab.Graphics.TikZ.Property[Catlab.Graphics.TikZ.Property(\"container\", nothing), Catlab.Graphics.TikZ.Property(\"right=2em of n1)\", nothing)], nothing, Catlab.Graphics.TikZ.Picture(Catlab.Graphics.TikZ.Statement[Catlab.Graphics.TikZ.Node(\"n2 box\", Catlab.Graphics.TikZ.Property[Catlab.Graphics.TikZ.Property(\"minimum height\", \"4.5em\")], nothing, \"\"), Catlab.Graphics.TikZ.Node(\"n2 point\", Catlab.Graphics.TikZ.Property[Catlab.Graphics.TikZ.Property(\"draw\", nothing), Catlab.Graphics.TikZ.Property(\"solid\", nothing), Catlab.Graphics.TikZ.Property(\"circle\", nothing), Catlab.Graphics.TikZ.Property(\"minimum size\", \"0.333em\"), Catlab.Graphics.TikZ.Property(\"above\", \"0 of n2 box.center\"), Catlab.Graphics.TikZ.Property(\"anchor\", \"center\")], nothing, \"\")], Catlab.Graphics.TikZ.Property[])), Catlab.Graphics.TikZ.Edge(\"n1.center\", \"n2 point.180\", Catlab.Graphics.TikZ.PathOperation(\"to\", Catlab.Graphics.TikZ.Property[Catlab.Graphics.TikZ.Property(\"out\", \"0\"), Catlab.Graphics.TikZ.Property(\"in\", \"180\")]), Catlab.Graphics.TikZ.Property[], Catlab.Graphics.TikZ.EdgeNode(Catlab.Graphics.TikZ.Property[Catlab.Graphics.TikZ.Property(\"above\", \"0.25em\"), Catlab.Graphics.TikZ.Property(\"midway\", nothing)], \"\\\\mathbb{R}\")), Catlab.Graphics.TikZ.Node(\"n3\", Catlab.Graphics.TikZ.Property[Catlab.Graphics.TikZ.Property(\"container\", nothing), Catlab.Graphics.TikZ.Property(\"right=2em of n2)\", nothing)], nothing, Catlab.Graphics.TikZ.Picture(Catlab.Graphics.TikZ.Statement[Catlab.Graphics.TikZ.Node(\"n31\", Catlab.Graphics.TikZ.Property[Catlab.Graphics.TikZ.Property(\"draw\", nothing), Catlab.Graphics.TikZ.Property(\"solid\", nothing), Catlab.Graphics.TikZ.Property(\"inner sep\", \"0.333em\"), Catlab.Graphics.TikZ.Property(\"rectangle\", nothing), Catlab.Graphics.TikZ.Property(\"sharp corners\", nothing), Catlab.Graphics.TikZ.Property(\"minimum height\", \"2.0em\")], nothing, \"\\\\mathrm{sin}\"), Catlab.Graphics.TikZ.Node(\"n32\", Catlab.Graphics.TikZ.Property[Catlab.Graphics.TikZ.Property(\"draw\", nothing), Catlab.Graphics.TikZ.Property(\"solid\", nothing), Catlab.Graphics.TikZ.Property(\"inner sep\", \"0.333em\"), Catlab.Graphics.TikZ.Property(\"rectangle\", nothing), Catlab.Graphics.TikZ.Property(\"sharp corners\", nothing), Catlab.Graphics.TikZ.Property(\"minimum height\", \"2.0em\"), Catlab.Graphics.TikZ.Property(\"below=0.5em of n31\", nothing)], nothing, \"\\\\mathrm{cos}\")], Catlab.Graphics.TikZ.Property[])), Catlab.Graphics.TikZ.Edge(\"n2 point.30\", \"n31.west\", Catlab.Graphics.TikZ.PathOperation(\"to\", Catlab.Graphics.TikZ.Property[Catlab.Graphics.TikZ.Property(\"out\", \"30\"), Catlab.Graphics.TikZ.Property(\"in\", \"180\")]), Catlab.Graphics.TikZ.Property[], nothing), Catlab.Graphics.TikZ.Edge(\"n2 point.330\", \"n32.west\", Catlab.Graphics.TikZ.PathOperation(\"to\", Catlab.Graphics.TikZ.Property[Catlab.Graphics.TikZ.Property(\"out\", \"330\"), Catlab.Graphics.TikZ.Property(\"in\", \"180\")]), Catlab.Graphics.TikZ.Property[], nothing), Catlab.Graphics.TikZ.Node(\"n4\", Catlab.Graphics.TikZ.Property[Catlab.Graphics.TikZ.Property(\"container\", nothing), Catlab.Graphics.TikZ.Property(\"right=2em of n3)\", nothing)], nothing, Catlab.Graphics.TikZ.Picture(Catlab.Graphics.TikZ.Statement[Catlab.Graphics.TikZ.Node(\"n4 box\", Catlab.Graphics.TikZ.Property[Catlab.Graphics.TikZ.Property(\"minimum height\", \"4.5em\")], nothing, \"\"), Catlab.Graphics.TikZ.Node(\"n4 point\", Catlab.Graphics.TikZ.Property[Catlab.Graphics.TikZ.Property(\"draw\", nothing), Catlab.Graphics.TikZ.Property(\"fill\", nothing), Catlab.Graphics.TikZ.Property(\"circle\", nothing), Catlab.Graphics.TikZ.Property(\"minimum size\", \"0.333em\"), Catlab.Graphics.TikZ.Property(\"above\", \"0 of n4 box.center\"), Catlab.Graphics.TikZ.Property(\"anchor\", \"center\")], nothing, \"\")], Catlab.Graphics.TikZ.Property[])), Catlab.Graphics.TikZ.Edge(\"n31.east\", \"n4 point.150\", Catlab.Graphics.TikZ.PathOperation(\"to\", Catlab.Graphics.TikZ.Property[Catlab.Graphics.TikZ.Property(\"out\", \"0\"), Catlab.Graphics.TikZ.Property(\"in\", \"150\")]), Catlab.Graphics.TikZ.Property[], nothing), Catlab.Graphics.TikZ.Edge(\"n32.east\", \"n4 point.210\", Catlab.Graphics.TikZ.PathOperation(\"to\", Catlab.Graphics.TikZ.Property[Catlab.Graphics.TikZ.Property(\"out\", \"0\"), Catlab.Graphics.TikZ.Property(\"in\", \"210\")]), Catlab.Graphics.TikZ.Property[], nothing), Catlab.Graphics.TikZ.Node(\"n5\", Catlab.Graphics.TikZ.Property[Catlab.Graphics.TikZ.Property(\"minimum height\", \"2.0em\"), Catlab.Graphics.TikZ.Property(\"right=2em of n4)\", nothing)], nothing, \"\"), Catlab.Graphics.TikZ.Edge(\"n4 point.0\", \"n5.center\", Catlab.Graphics.TikZ.PathOperation(\"to\", Catlab.Graphics.TikZ.Property[Catlab.Graphics.TikZ.Property(\"out\", \"0\"), Catlab.Graphics.TikZ.Property(\"in\", \"180\")]), Catlab.Graphics.TikZ.Property[], Catlab.Graphics.TikZ.EdgeNode(Catlab.Graphics.TikZ.Property[Catlab.Graphics.TikZ.Property(\"above\", \"0.25em\"), Catlab.Graphics.TikZ.Property(\"midway\", nothing)], \"\\\\mathbb{R}\"))], Catlab.Graphics.TikZ.Property[]))], Catlab.Graphics.TikZ.Property[Catlab.Graphics.TikZ.Property(\"remember picture\", nothing), Catlab.Graphics.TikZ.Property(\"font\", \"{\\\\fontsize{12}{14.4}}\"), Catlab.Graphics.TikZ.Property(\"container/.style\", \"{inner sep=0}\"), Catlab.Graphics.TikZ.Property(\"every path/.style\", \"{solid, line width=0.4pt}\"), Catlab.Graphics.TikZ.Property(\"execute at begin node\", \"\\$\"), Catlab.Graphics.TikZ.Property(\"execute at end node\", \"\\$\")])",
      "image/svg+xml": [
       "<?xml version=\"1.0\" encoding=\"UTF-8\"?>\n",
       "<svg xmlns=\"http://www.w3.org/2000/svg\" xmlns:xlink=\"http://www.w3.org/1999/xlink\" width=\"129.695pt\" height=\"53.474pt\" viewBox=\"0 0 129.695 53.474\" version=\"1.1\">\n",
       "<defs>\n",
       "<g>\n",
       "<symbol overflow=\"visible\" id=\"glyph-1574382228198364-0-0\">\n",
       "<path style=\"stroke:none;\" d=\"\"/>\n",
       "</symbol>\n",
       "<symbol overflow=\"visible\" id=\"glyph-1574382228198364-0-1\">\n",
       "<path style=\"stroke:none;\" d=\"M 3.203125 -3.75 L 3.640625 -3.75 L 5.421875 -0.984375 C 5.546875 -0.78125 5.828125 -0.328125 5.96875 -0.140625 C 6.046875 0 6.078125 0 6.359375 0 L 8.015625 0 C 8.21875 0 8.40625 0 8.40625 -0.21875 C 8.40625 -0.3125 8.328125 -0.390625 8.21875 -0.421875 C 7.78125 -0.515625 7.203125 -1.296875 6.90625 -1.6875 C 6.828125 -1.8125 6.234375 -2.59375 5.421875 -3.890625 C 6.484375 -4.078125 7.515625 -4.53125 7.515625 -5.953125 C 7.515625 -7.609375 5.765625 -8.1875 4.34375 -8.1875 L 0.59375 -8.1875 C 0.375 -8.1875 0.1875 -8.1875 0.1875 -7.96875 C 0.1875 -7.765625 0.421875 -7.765625 0.515625 -7.765625 C 1.1875 -7.765625 1.25 -7.6875 1.25 -7.09375 L 1.25 -1.09375 C 1.25 -0.5 1.1875 -0.421875 0.515625 -0.421875 C 0.421875 -0.421875 0.1875 -0.421875 0.1875 -0.21875 C 0.1875 0 0.375 0 0.59375 0 L 3.875 0 C 4.09375 0 4.265625 0 4.265625 -0.21875 C 4.265625 -0.421875 4.0625 -0.421875 3.9375 -0.421875 C 3.25 -0.421875 3.203125 -0.515625 3.203125 -1.09375 Z M 5.515625 -4.34375 C 5.84375 -4.78125 5.875 -5.421875 5.875 -5.9375 C 5.875 -6.515625 5.8125 -7.140625 5.421875 -7.640625 C 5.921875 -7.53125 7.09375 -7.15625 7.09375 -5.953125 C 7.09375 -5.171875 6.734375 -4.5625 5.515625 -4.34375 Z M 3.203125 -7.125 C 3.203125 -7.375 3.203125 -7.765625 3.9375 -7.765625 C 4.953125 -7.765625 5.46875 -7.34375 5.46875 -5.9375 C 5.46875 -4.40625 5.09375 -4.171875 3.203125 -4.171875 Z M 1.578125 -0.421875 C 1.671875 -0.640625 1.671875 -0.96875 1.671875 -1.078125 L 1.671875 -7.109375 C 1.671875 -7.234375 1.671875 -7.546875 1.578125 -7.765625 L 2.9375 -7.765625 C 2.78125 -7.578125 2.78125 -7.34375 2.78125 -7.15625 L 2.78125 -1.078125 C 2.78125 -0.953125 2.78125 -0.640625 2.875 -0.421875 Z M 4.125 -3.75 C 4.203125 -3.765625 4.25 -3.78125 4.34375 -3.78125 C 4.53125 -3.78125 4.796875 -3.796875 4.96875 -3.828125 C 5.15625 -3.53125 6.4375 -1.40625 7.4375 -0.421875 L 6.28125 -0.421875 Z M 4.125 -3.75 \"/>\n",
       "</symbol>\n",
       "<symbol overflow=\"visible\" id=\"glyph-1574382228198364-1-0\">\n",
       "<path style=\"stroke:none;\" d=\"\"/>\n",
       "</symbol>\n",
       "<symbol overflow=\"visible\" id=\"glyph-1574382228198364-1-1\">\n",
       "<path style=\"stroke:none;\" d=\"M 3.921875 -5.0625 C 3.921875 -5.265625 3.921875 -5.328125 3.796875 -5.328125 C 3.703125 -5.328125 3.484375 -5.0625 3.390625 -4.953125 C 3.03125 -5.265625 2.65625 -5.328125 2.265625 -5.328125 C 0.828125 -5.328125 0.390625 -4.546875 0.390625 -3.890625 C 0.390625 -3.75 0.390625 -3.328125 0.84375 -2.921875 C 1.234375 -2.578125 1.640625 -2.5 2.1875 -2.390625 C 2.84375 -2.265625 3 -2.21875 3.296875 -1.984375 C 3.515625 -1.8125 3.671875 -1.546875 3.671875 -1.203125 C 3.671875 -0.6875 3.375 -0.125 2.3125 -0.125 C 1.53125 -0.125 0.953125 -0.578125 0.6875 -1.765625 C 0.640625 -1.984375 0.640625 -2 0.640625 -2.015625 C 0.609375 -2.0625 0.5625 -2.0625 0.53125 -2.0625 C 0.390625 -2.0625 0.390625 -2 0.390625 -1.78125 L 0.390625 -0.15625 C 0.390625 0.0625 0.390625 0.125 0.515625 0.125 C 0.578125 0.125 0.578125 0.109375 0.78125 -0.140625 C 0.84375 -0.234375 0.84375 -0.25 1.03125 -0.4375 C 1.484375 0.125 2.125 0.125 2.328125 0.125 C 3.578125 0.125 4.203125 -0.578125 4.203125 -1.515625 C 4.203125 -2.15625 3.8125 -2.546875 3.703125 -2.65625 C 3.28125 -3.03125 2.953125 -3.09375 2.15625 -3.234375 C 1.8125 -3.3125 0.9375 -3.484375 0.9375 -4.203125 C 0.9375 -4.5625 1.1875 -5.109375 2.265625 -5.109375 C 3.5625 -5.109375 3.640625 -4 3.65625 -3.640625 C 3.671875 -3.53125 3.75 -3.53125 3.796875 -3.53125 C 3.921875 -3.53125 3.921875 -3.59375 3.921875 -3.8125 Z M 3.921875 -5.0625 \"/>\n",
       "</symbol>\n",
       "<symbol overflow=\"visible\" id=\"glyph-1574382228198364-1-2\">\n",
       "<path style=\"stroke:none;\" d=\"M 2.078125 -7.359375 C 2.078125 -7.671875 1.828125 -7.953125 1.5 -7.953125 C 1.1875 -7.953125 0.921875 -7.703125 0.921875 -7.375 C 0.921875 -7.015625 1.203125 -6.796875 1.5 -6.796875 C 1.859375 -6.796875 2.078125 -7.09375 2.078125 -7.359375 Z M 0.4375 -5.140625 L 0.4375 -4.796875 C 1.1875 -4.796875 1.296875 -4.71875 1.296875 -4.140625 L 1.296875 -0.890625 C 1.296875 -0.34375 1.171875 -0.34375 0.390625 -0.34375 L 0.390625 0 C 0.734375 -0.03125 1.296875 -0.03125 1.65625 -0.03125 C 1.78125 -0.03125 2.46875 -0.03125 2.875 0 L 2.875 -0.34375 C 2.109375 -0.34375 2.0625 -0.40625 2.0625 -0.875 L 2.0625 -5.265625 Z M 0.4375 -5.140625 \"/>\n",
       "</symbol>\n",
       "<symbol overflow=\"visible\" id=\"glyph-1574382228198364-1-3\">\n",
       "<path style=\"stroke:none;\" d=\"M 5.3125 -2.90625 C 5.3125 -4.015625 5.3125 -4.34375 5.046875 -4.734375 C 4.703125 -5.203125 4.140625 -5.265625 3.734375 -5.265625 C 2.5625 -5.265625 2.109375 -4.28125 2.015625 -4.046875 L 2.015625 -5.265625 L 0.375 -5.140625 L 0.375 -4.796875 C 1.1875 -4.796875 1.296875 -4.703125 1.296875 -4.125 L 1.296875 -0.890625 C 1.296875 -0.34375 1.15625 -0.34375 0.375 -0.34375 L 0.375 0 C 0.6875 -0.03125 1.34375 -0.03125 1.671875 -0.03125 C 2.015625 -0.03125 2.671875 -0.03125 2.96875 0 L 2.96875 -0.34375 C 2.21875 -0.34375 2.0625 -0.34375 2.0625 -0.890625 L 2.0625 -3.109375 C 2.0625 -4.359375 2.890625 -5.03125 3.640625 -5.03125 C 4.375 -5.03125 4.546875 -4.421875 4.546875 -3.6875 L 4.546875 -0.890625 C 4.546875 -0.34375 4.40625 -0.34375 3.640625 -0.34375 L 3.640625 0 C 3.9375 -0.03125 4.59375 -0.03125 4.921875 -0.03125 C 5.265625 -0.03125 5.921875 -0.03125 6.234375 0 L 6.234375 -0.34375 C 5.625 -0.34375 5.328125 -0.34375 5.3125 -0.703125 Z M 5.3125 -2.90625 \"/>\n",
       "</symbol>\n",
       "<symbol overflow=\"visible\" id=\"glyph-1574382228198364-1-4\">\n",
       "<path style=\"stroke:none;\" d=\"M 4.328125 -4.421875 C 4.1875 -4.421875 3.734375 -4.421875 3.734375 -3.9375 C 3.734375 -3.640625 3.9375 -3.4375 4.234375 -3.4375 C 4.5 -3.4375 4.734375 -3.609375 4.734375 -3.953125 C 4.734375 -4.75 3.890625 -5.328125 2.921875 -5.328125 C 1.53125 -5.328125 0.421875 -4.09375 0.421875 -2.578125 C 0.421875 -1.046875 1.5625 0.125 2.921875 0.125 C 4.5 0.125 4.859375 -1.3125 4.859375 -1.421875 C 4.859375 -1.53125 4.765625 -1.53125 4.734375 -1.53125 C 4.625 -1.53125 4.609375 -1.5 4.578125 -1.34375 C 4.3125 -0.5 3.671875 -0.140625 3.03125 -0.140625 C 2.296875 -0.140625 1.328125 -0.78125 1.328125 -2.59375 C 1.328125 -4.578125 2.34375 -5.0625 2.9375 -5.0625 C 3.390625 -5.0625 4.046875 -4.890625 4.328125 -4.421875 Z M 4.328125 -4.421875 \"/>\n",
       "</symbol>\n",
       "<symbol overflow=\"visible\" id=\"glyph-1574382228198364-1-5\">\n",
       "<path style=\"stroke:none;\" d=\"M 5.484375 -2.5625 C 5.484375 -4.09375 4.3125 -5.328125 2.921875 -5.328125 C 1.5 -5.328125 0.359375 -4.0625 0.359375 -2.5625 C 0.359375 -1.03125 1.546875 0.125 2.921875 0.125 C 4.328125 0.125 5.484375 -1.046875 5.484375 -2.5625 Z M 2.921875 -0.140625 C 2.484375 -0.140625 1.953125 -0.328125 1.609375 -0.921875 C 1.28125 -1.453125 1.265625 -2.15625 1.265625 -2.671875 C 1.265625 -3.125 1.265625 -3.84375 1.640625 -4.390625 C 1.96875 -4.90625 2.5 -5.09375 2.921875 -5.09375 C 3.375 -5.09375 3.890625 -4.875 4.203125 -4.40625 C 4.578125 -3.859375 4.578125 -3.109375 4.578125 -2.671875 C 4.578125 -2.25 4.578125 -1.5 4.265625 -0.9375 C 3.9375 -0.375 3.375 -0.140625 2.921875 -0.140625 Z M 2.921875 -0.140625 \"/>\n",
       "</symbol>\n",
       "</g>\n",
       "<clipPath id=\"clip-1574382228198364-1\">\n",
       "  <path d=\"M 52 29 L 77 29 L 77 53.472656 L 52 53.472656 Z M 52 29 \"/>\n",
       "</clipPath>\n",
       "<clipPath id=\"clip-1574382228198364-2\">\n",
       "  <path d=\"M 99 21 L 129.695312 21 L 129.695312 33 L 99 33 Z M 99 21 \"/>\n",
       "</clipPath>\n",
       "</defs>\n",
       "<g id=\"surface1\">\n",
       "<path style=\"fill:none;stroke-width:0.3985;stroke-linecap:butt;stroke-linejoin:miter;stroke:rgb(0%,0%,0%);stroke-opacity:1;stroke-miterlimit:10;\" d=\"M 2.64825 -0.00128125 C 2.64825 1.076844 1.77325 1.947937 0.699031 1.947937 C -0.379094 1.947937 -1.250188 1.076844 -1.250188 -0.00128125 C -1.250188 -1.0755 -0.379094 -1.9505 0.699031 -1.9505 C 1.77325 -1.9505 2.64825 -1.0755 2.64825 -0.00128125 Z M 2.64825 -0.00128125 \" transform=\"matrix(1,0,0,-1,26.258,26.737)\"/>\n",
       "<path style=\"fill:none;stroke-width:0.3985;stroke-linecap:butt;stroke-linejoin:miter;stroke:rgb(0%,0%,0%);stroke-opacity:1;stroke-miterlimit:10;\" d=\"M -0.00190625 -0.00128125 C 9.478563 -0.00128125 14.830125 -0.00128125 24.310594 -0.00128125 \" transform=\"matrix(1,0,0,-1,0.498,26.737)\"/>\n",
       "<g style=\"fill:rgb(0%,0%,0%);fill-opacity:1;\">\n",
       "  <use xlink:href=\"#glyph-1574382228198364-0-1\" x=\"8.335\" y=\"23.611\"/>\n",
       "</g>\n",
       "<path style=\"fill:none;stroke-width:0.3985;stroke-linecap:butt;stroke-linejoin:miter;stroke:rgb(0%,0%,0%);stroke-opacity:1;stroke-miterlimit:10;\" d=\"M 0.197719 -11.704375 L 22.369594 -11.704375 L 22.369594 11.705781 L 0.197719 11.705781 Z M 0.197719 -11.704375 \" transform=\"matrix(1,0,0,-1,53.564,11.905)\"/>\n",
       "<g style=\"fill:rgb(0%,0%,0%);fill-opacity:1;\">\n",
       "  <use xlink:href=\"#glyph-1574382228198364-1-1\" x=\"57.661\" y=\"15.873\"/>\n",
       "  <use xlink:href=\"#glyph-1574382228198364-1-2\" x=\"62.278087\" y=\"15.873\"/>\n",
       "  <use xlink:href=\"#glyph-1574382228198364-1-3\" x=\"65.529893\" y=\"15.873\"/>\n",
       "</g>\n",
       "<g clip-path=\"url(#clip-1574382228198364-1)\" clip-rule=\"nonzero\">\n",
       "<path style=\"fill:none;stroke-width:0.3985;stroke-linecap:butt;stroke-linejoin:miter;stroke:rgb(0%,0%,0%);stroke-opacity:1;stroke-miterlimit:10;\" d=\"M -0.450719 -41.368438 L 23.018031 -41.368438 L 23.018031 -17.958281 L -0.450719 -17.958281 Z M -0.450719 -41.368438 \" transform=\"matrix(1,0,0,-1,53.564,11.905)\"/>\n",
       "</g>\n",
       "<g style=\"fill:rgb(0%,0%,0%);fill-opacity:1;\">\n",
       "  <use xlink:href=\"#glyph-1574382228198364-1-4\" x=\"57.011\" y=\"44.142\"/>\n",
       "  <use xlink:href=\"#glyph-1574382228198364-1-5\" x=\"62.21389\" y=\"44.142\"/>\n",
       "  <use xlink:href=\"#glyph-1574382228198364-1-1\" x=\"68.067141\" y=\"44.142\"/>\n",
       "</g>\n",
       "<path style=\"fill:none;stroke-width:0.3985;stroke-linecap:butt;stroke-linejoin:miter;stroke:rgb(0%,0%,0%);stroke-opacity:1;stroke-miterlimit:10;\" d=\"M 28.322312 1.076844 C 37.869188 6.588562 42.044969 14.83075 53.068406 14.83075 \" transform=\"matrix(1,0,0,-1,0.498,26.737)\"/>\n",
       "<path style=\"fill:none;stroke-width:0.3985;stroke-linecap:butt;stroke-linejoin:miter;stroke:rgb(0%,0%,0%);stroke-opacity:1;stroke-miterlimit:10;\" d=\"M 28.322312 -1.079406 C 37.701219 -6.489563 41.587938 -14.833313 52.416063 -14.833313 \" transform=\"matrix(1,0,0,-1,0.498,26.737)\"/>\n",
       "<path style=\"fill-rule:nonzero;fill:rgb(0%,0%,0%);fill-opacity:1;stroke-width:0.3985;stroke-linecap:butt;stroke-linejoin:miter;stroke:rgb(0%,0%,0%);stroke-opacity:1;stroke-miterlimit:10;\" d=\"M 2.6455 -0.00128125 C 2.6455 1.076844 1.774406 1.947937 0.696281 1.947937 C -0.377938 1.947937 -1.252938 1.076844 -1.252938 -0.00128125 C -1.252938 -1.0755 -0.377938 -1.9505 0.696281 -1.9505 C 1.774406 -1.9505 2.6455 -1.0755 2.6455 -0.00128125 Z M 2.6455 -0.00128125 \" transform=\"matrix(1,0,0,-1,102.042,26.737)\"/>\n",
       "<path style=\"fill:none;stroke-width:0.3985;stroke-linecap:butt;stroke-linejoin:miter;stroke:rgb(0%,0%,0%);stroke-opacity:1;stroke-miterlimit:10;\" d=\"M 75.634812 14.83075 C 86.654344 14.83075 90.830125 6.588562 100.377 1.076844 \" transform=\"matrix(1,0,0,-1,0.498,26.737)\"/>\n",
       "<path style=\"fill:none;stroke-width:0.3985;stroke-linecap:butt;stroke-linejoin:miter;stroke:rgb(0%,0%,0%);stroke-opacity:1;stroke-miterlimit:10;\" d=\"M 76.28325 -14.833313 C 87.111375 -14.833313 90.998094 -6.489563 100.377 -1.079406 \" transform=\"matrix(1,0,0,-1,0.498,26.737)\"/>\n",
       "<g clip-path=\"url(#clip-1574382228198364-2)\" clip-rule=\"nonzero\">\n",
       "<path style=\"fill:none;stroke-width:0.3985;stroke-linecap:butt;stroke-linejoin:miter;stroke:rgb(0%,0%,0%);stroke-opacity:1;stroke-miterlimit:10;\" d=\"M 104.392625 -0.00128125 C 113.869187 -0.00128125 119.22075 -0.00128125 128.701219 -0.00128125 \" transform=\"matrix(1,0,0,-1,0.498,26.737)\"/>\n",
       "</g>\n",
       "<g style=\"fill:rgb(0%,0%,0%);fill-opacity:1;\">\n",
       "  <use xlink:href=\"#glyph-1574382228198364-0-1\" x=\"112.725\" y=\"23.611\"/>\n",
       "</g>\n",
       "</g>\n",
       "</svg>\n",
       "\n"
      ]
     },
     "metadata": {},
     "execution_count": 4
    }
   ],
   "cell_type": "code",
   "source": [
    "to_tikz(f; labels=true)"
   ],
   "metadata": {},
   "execution_count": 4
  },
  {
   "outputs": [
    {
     "output_type": "execute_result",
     "data": {
      "text/plain": "(:(function (x,)\n      v1 = sin.(x)\n      v2 = cos.(x)\n      v3 = v1 .+ v2\n      return v3\n  end), Symbol[])"
     },
     "metadata": {},
     "execution_count": 5
    }
   ],
   "cell_type": "code",
   "source": [
    "compile_expr(f; args=[:x])"
   ],
   "metadata": {},
   "execution_count": 5
  },
  {
   "outputs": [
    {
     "output_type": "execute_result",
     "data": {
      "text/plain": "Formula(:+, Formula(:sin, :x), Formula(:cos, :x))",
      "text/latex": "$\\sin\\left(x\\right) + \\cos\\left(x\\right)$"
     },
     "metadata": {},
     "execution_count": 6
    }
   ],
   "cell_type": "code",
   "source": [
    "to_formula(f, [:x])"
   ],
   "metadata": {},
   "execution_count": 6
  },
  {
   "outputs": [
    {
     "output_type": "execute_result",
     "data": {
      "text/plain": "compose(mcopy(\\mathbb{R},3),otimes(sin,cos,sin))",
      "text/latex": "$\\Delta_{\\mathbb{R},3} ; \\left(\\mathrm{sin} \\otimes \\mathrm{cos} \\otimes \\mathrm{sin}\\right) : \\mathbb{R} \\to \\mathbb{R} \\otimes \\mathbb{R} \\otimes \\mathbb{R}$"
     },
     "metadata": {},
     "execution_count": 7
    }
   ],
   "cell_type": "code",
   "source": [
    "f = compose(mcopy(R,3), otimes(f_sin, f_cos, f_sin))"
   ],
   "metadata": {},
   "execution_count": 7
  },
  {
   "outputs": [
    {
     "output_type": "execute_result",
     "data": {
      "text/plain": "Catlab.Graphics.TikZ.Picture(Catlab.Graphics.TikZ.Statement[Catlab.Graphics.TikZ.Node(\"n\", Catlab.Graphics.TikZ.Property[Catlab.Graphics.TikZ.Property(\"container\", nothing)], nothing, Catlab.Graphics.TikZ.Picture(Catlab.Graphics.TikZ.Statement[Catlab.Graphics.TikZ.Node(\"n1\", Catlab.Graphics.TikZ.Property[Catlab.Graphics.TikZ.Property(\"minimum height\", \"2.0em\")], nothing, \"\"), Catlab.Graphics.TikZ.Node(\"n2\", Catlab.Graphics.TikZ.Property[Catlab.Graphics.TikZ.Property(\"container\", nothing), Catlab.Graphics.TikZ.Property(\"right=2em of n1)\", nothing)], nothing, Catlab.Graphics.TikZ.Picture(Catlab.Graphics.TikZ.Statement[Catlab.Graphics.TikZ.Node(\"n2 box\", Catlab.Graphics.TikZ.Property[Catlab.Graphics.TikZ.Property(\"minimum height\", \"7.0em\")], nothing, \"\"), Catlab.Graphics.TikZ.Node(\"n2 point\", Catlab.Graphics.TikZ.Property[Catlab.Graphics.TikZ.Property(\"draw\", nothing), Catlab.Graphics.TikZ.Property(\"solid\", nothing), Catlab.Graphics.TikZ.Property(\"circle\", nothing), Catlab.Graphics.TikZ.Property(\"minimum size\", \"0.333em\"), Catlab.Graphics.TikZ.Property(\"above\", \"0 of n2 box.center\"), Catlab.Graphics.TikZ.Property(\"anchor\", \"center\")], nothing, \"\")], Catlab.Graphics.TikZ.Property[])), Catlab.Graphics.TikZ.Edge(\"n1.center\", \"n2 point.180\", Catlab.Graphics.TikZ.PathOperation(\"to\", Catlab.Graphics.TikZ.Property[Catlab.Graphics.TikZ.Property(\"out\", \"0\"), Catlab.Graphics.TikZ.Property(\"in\", \"180\")]), Catlab.Graphics.TikZ.Property[], nothing), Catlab.Graphics.TikZ.Node(\"n3\", Catlab.Graphics.TikZ.Property[Catlab.Graphics.TikZ.Property(\"container\", nothing), Catlab.Graphics.TikZ.Property(\"right=2em of n2)\", nothing)], nothing, Catlab.Graphics.TikZ.Picture(Catlab.Graphics.TikZ.Statement[Catlab.Graphics.TikZ.Node(\"n31\", Catlab.Graphics.TikZ.Property[Catlab.Graphics.TikZ.Property(\"draw\", nothing), Catlab.Graphics.TikZ.Property(\"solid\", nothing), Catlab.Graphics.TikZ.Property(\"inner sep\", \"0.333em\"), Catlab.Graphics.TikZ.Property(\"rectangle\", nothing), Catlab.Graphics.TikZ.Property(\"sharp corners\", nothing), Catlab.Graphics.TikZ.Property(\"minimum height\", \"2.0em\")], nothing, \"\\\\mathrm{sin}\"), Catlab.Graphics.TikZ.Node(\"n32\", Catlab.Graphics.TikZ.Property[Catlab.Graphics.TikZ.Property(\"draw\", nothing), Catlab.Graphics.TikZ.Property(\"solid\", nothing), Catlab.Graphics.TikZ.Property(\"inner sep\", \"0.333em\"), Catlab.Graphics.TikZ.Property(\"rectangle\", nothing), Catlab.Graphics.TikZ.Property(\"sharp corners\", nothing), Catlab.Graphics.TikZ.Property(\"minimum height\", \"2.0em\"), Catlab.Graphics.TikZ.Property(\"below=0.5em of n31\", nothing)], nothing, \"\\\\mathrm{cos}\"), Catlab.Graphics.TikZ.Node(\"n33\", Catlab.Graphics.TikZ.Property[Catlab.Graphics.TikZ.Property(\"draw\", nothing), Catlab.Graphics.TikZ.Property(\"solid\", nothing), Catlab.Graphics.TikZ.Property(\"inner sep\", \"0.333em\"), Catlab.Graphics.TikZ.Property(\"rectangle\", nothing), Catlab.Graphics.TikZ.Property(\"sharp corners\", nothing), Catlab.Graphics.TikZ.Property(\"minimum height\", \"2.0em\"), Catlab.Graphics.TikZ.Property(\"below=0.5em of n32\", nothing)], nothing, \"\\\\mathrm{sin}\")], Catlab.Graphics.TikZ.Property[])), Catlab.Graphics.TikZ.Edge(\"n2 point.45\", \"n31.west\", Catlab.Graphics.TikZ.PathOperation(\"to\", Catlab.Graphics.TikZ.Property[Catlab.Graphics.TikZ.Property(\"out\", \"45\"), Catlab.Graphics.TikZ.Property(\"in\", \"180\")]), Catlab.Graphics.TikZ.Property[], nothing), Catlab.Graphics.TikZ.Edge(\"n2 point.0\", \"n32.west\", Catlab.Graphics.TikZ.PathOperation(\"to\", Catlab.Graphics.TikZ.Property[Catlab.Graphics.TikZ.Property(\"out\", \"0\"), Catlab.Graphics.TikZ.Property(\"in\", \"180\")]), Catlab.Graphics.TikZ.Property[], nothing), Catlab.Graphics.TikZ.Edge(\"n2 point.315\", \"n33.west\", Catlab.Graphics.TikZ.PathOperation(\"to\", Catlab.Graphics.TikZ.Property[Catlab.Graphics.TikZ.Property(\"out\", \"315\"), Catlab.Graphics.TikZ.Property(\"in\", \"180\")]), Catlab.Graphics.TikZ.Property[], nothing), Catlab.Graphics.TikZ.Node(\"n4\", Catlab.Graphics.TikZ.Property[Catlab.Graphics.TikZ.Property(\"minimum height\", \"7.0em\"), Catlab.Graphics.TikZ.Property(\"right=2em of n3)\", nothing)], nothing, \"\"), Catlab.Graphics.TikZ.Edge(\"n31.east\", \"\\$(n4.center)+(0,2.5em)\\$\", Catlab.Graphics.TikZ.PathOperation(\"to\", Catlab.Graphics.TikZ.Property[Catlab.Graphics.TikZ.Property(\"out\", \"0\"), Catlab.Graphics.TikZ.Property(\"in\", \"180\")]), Catlab.Graphics.TikZ.Property[], nothing), Catlab.Graphics.TikZ.Edge(\"n32.east\", \"\\$(n4.center)+(0,0.0em)\\$\", Catlab.Graphics.TikZ.PathOperation(\"to\", Catlab.Graphics.TikZ.Property[Catlab.Graphics.TikZ.Property(\"out\", \"0\"), Catlab.Graphics.TikZ.Property(\"in\", \"180\")]), Catlab.Graphics.TikZ.Property[], nothing), Catlab.Graphics.TikZ.Edge(\"n33.east\", \"\\$(n4.center)+(0,-2.5em)\\$\", Catlab.Graphics.TikZ.PathOperation(\"to\", Catlab.Graphics.TikZ.Property[Catlab.Graphics.TikZ.Property(\"out\", \"0\"), Catlab.Graphics.TikZ.Property(\"in\", \"180\")]), Catlab.Graphics.TikZ.Property[], nothing)], Catlab.Graphics.TikZ.Property[]))], Catlab.Graphics.TikZ.Property[Catlab.Graphics.TikZ.Property(\"remember picture\", nothing), Catlab.Graphics.TikZ.Property(\"font\", \"{\\\\fontsize{12}{14.4}}\"), Catlab.Graphics.TikZ.Property(\"container/.style\", \"{inner sep=0}\"), Catlab.Graphics.TikZ.Property(\"every path/.style\", \"{solid, line width=0.4pt}\"), Catlab.Graphics.TikZ.Property(\"execute at begin node\", \"\\$\"), Catlab.Graphics.TikZ.Property(\"execute at end node\", \"\\$\")])",
      "image/svg+xml": [
       "<?xml version=\"1.0\" encoding=\"UTF-8\"?>\n",
       "<svg xmlns=\"http://www.w3.org/2000/svg\" xmlns:xlink=\"http://www.w3.org/1999/xlink\" width=\"101.588pt\" height=\"83.137pt\" viewBox=\"0 0 101.588 83.137\" version=\"1.1\">\n",
       "<defs>\n",
       "<g>\n",
       "<symbol overflow=\"visible\" id=\"glyph-1574382228198365-0-0\">\n",
       "<path style=\"stroke:none;\" d=\"\"/>\n",
       "</symbol>\n",
       "<symbol overflow=\"visible\" id=\"glyph-1574382228198365-0-1\">\n",
       "<path style=\"stroke:none;\" d=\"M 3.921875 -5.0625 C 3.921875 -5.265625 3.921875 -5.328125 3.796875 -5.328125 C 3.703125 -5.328125 3.484375 -5.0625 3.390625 -4.953125 C 3.03125 -5.265625 2.65625 -5.328125 2.265625 -5.328125 C 0.828125 -5.328125 0.390625 -4.546875 0.390625 -3.890625 C 0.390625 -3.75 0.390625 -3.328125 0.84375 -2.921875 C 1.234375 -2.578125 1.640625 -2.5 2.1875 -2.390625 C 2.84375 -2.265625 3 -2.21875 3.296875 -1.984375 C 3.515625 -1.8125 3.671875 -1.546875 3.671875 -1.203125 C 3.671875 -0.6875 3.375 -0.125 2.3125 -0.125 C 1.53125 -0.125 0.953125 -0.578125 0.6875 -1.765625 C 0.640625 -1.984375 0.640625 -2 0.640625 -2.015625 C 0.609375 -2.0625 0.5625 -2.0625 0.53125 -2.0625 C 0.390625 -2.0625 0.390625 -2 0.390625 -1.78125 L 0.390625 -0.15625 C 0.390625 0.0625 0.390625 0.125 0.515625 0.125 C 0.578125 0.125 0.578125 0.109375 0.78125 -0.140625 C 0.84375 -0.234375 0.84375 -0.25 1.03125 -0.4375 C 1.484375 0.125 2.125 0.125 2.328125 0.125 C 3.578125 0.125 4.203125 -0.578125 4.203125 -1.515625 C 4.203125 -2.15625 3.8125 -2.546875 3.703125 -2.65625 C 3.28125 -3.03125 2.953125 -3.09375 2.15625 -3.234375 C 1.8125 -3.3125 0.9375 -3.484375 0.9375 -4.203125 C 0.9375 -4.5625 1.1875 -5.109375 2.265625 -5.109375 C 3.5625 -5.109375 3.640625 -4 3.65625 -3.640625 C 3.671875 -3.53125 3.75 -3.53125 3.796875 -3.53125 C 3.921875 -3.53125 3.921875 -3.59375 3.921875 -3.8125 Z M 3.921875 -5.0625 \"/>\n",
       "</symbol>\n",
       "<symbol overflow=\"visible\" id=\"glyph-1574382228198365-0-2\">\n",
       "<path style=\"stroke:none;\" d=\"M 2.078125 -7.359375 C 2.078125 -7.671875 1.828125 -7.953125 1.5 -7.953125 C 1.1875 -7.953125 0.921875 -7.703125 0.921875 -7.375 C 0.921875 -7.015625 1.203125 -6.796875 1.5 -6.796875 C 1.859375 -6.796875 2.078125 -7.09375 2.078125 -7.359375 Z M 0.4375 -5.140625 L 0.4375 -4.796875 C 1.1875 -4.796875 1.296875 -4.71875 1.296875 -4.140625 L 1.296875 -0.890625 C 1.296875 -0.34375 1.171875 -0.34375 0.390625 -0.34375 L 0.390625 0 C 0.734375 -0.03125 1.296875 -0.03125 1.65625 -0.03125 C 1.78125 -0.03125 2.46875 -0.03125 2.875 0 L 2.875 -0.34375 C 2.109375 -0.34375 2.0625 -0.40625 2.0625 -0.875 L 2.0625 -5.265625 Z M 0.4375 -5.140625 \"/>\n",
       "</symbol>\n",
       "<symbol overflow=\"visible\" id=\"glyph-1574382228198365-0-3\">\n",
       "<path style=\"stroke:none;\" d=\"M 5.3125 -2.90625 C 5.3125 -4.015625 5.3125 -4.34375 5.046875 -4.734375 C 4.703125 -5.203125 4.140625 -5.265625 3.734375 -5.265625 C 2.5625 -5.265625 2.109375 -4.28125 2.015625 -4.046875 L 2.015625 -5.265625 L 0.375 -5.140625 L 0.375 -4.796875 C 1.1875 -4.796875 1.296875 -4.703125 1.296875 -4.125 L 1.296875 -0.890625 C 1.296875 -0.34375 1.15625 -0.34375 0.375 -0.34375 L 0.375 0 C 0.6875 -0.03125 1.34375 -0.03125 1.671875 -0.03125 C 2.015625 -0.03125 2.671875 -0.03125 2.96875 0 L 2.96875 -0.34375 C 2.21875 -0.34375 2.0625 -0.34375 2.0625 -0.890625 L 2.0625 -3.109375 C 2.0625 -4.359375 2.890625 -5.03125 3.640625 -5.03125 C 4.375 -5.03125 4.546875 -4.421875 4.546875 -3.6875 L 4.546875 -0.890625 C 4.546875 -0.34375 4.40625 -0.34375 3.640625 -0.34375 L 3.640625 0 C 3.9375 -0.03125 4.59375 -0.03125 4.921875 -0.03125 C 5.265625 -0.03125 5.921875 -0.03125 6.234375 0 L 6.234375 -0.34375 C 5.625 -0.34375 5.328125 -0.34375 5.3125 -0.703125 Z M 5.3125 -2.90625 \"/>\n",
       "</symbol>\n",
       "<symbol overflow=\"visible\" id=\"glyph-1574382228198365-0-4\">\n",
       "<path style=\"stroke:none;\" d=\"M 4.328125 -4.421875 C 4.1875 -4.421875 3.734375 -4.421875 3.734375 -3.9375 C 3.734375 -3.640625 3.9375 -3.4375 4.234375 -3.4375 C 4.5 -3.4375 4.734375 -3.609375 4.734375 -3.953125 C 4.734375 -4.75 3.890625 -5.328125 2.921875 -5.328125 C 1.53125 -5.328125 0.421875 -4.09375 0.421875 -2.578125 C 0.421875 -1.046875 1.5625 0.125 2.921875 0.125 C 4.5 0.125 4.859375 -1.3125 4.859375 -1.421875 C 4.859375 -1.53125 4.765625 -1.53125 4.734375 -1.53125 C 4.625 -1.53125 4.609375 -1.5 4.578125 -1.34375 C 4.3125 -0.5 3.671875 -0.140625 3.03125 -0.140625 C 2.296875 -0.140625 1.328125 -0.78125 1.328125 -2.59375 C 1.328125 -4.578125 2.34375 -5.0625 2.9375 -5.0625 C 3.390625 -5.0625 4.046875 -4.890625 4.328125 -4.421875 Z M 4.328125 -4.421875 \"/>\n",
       "</symbol>\n",
       "<symbol overflow=\"visible\" id=\"glyph-1574382228198365-0-5\">\n",
       "<path style=\"stroke:none;\" d=\"M 5.484375 -2.5625 C 5.484375 -4.09375 4.3125 -5.328125 2.921875 -5.328125 C 1.5 -5.328125 0.359375 -4.0625 0.359375 -2.5625 C 0.359375 -1.03125 1.546875 0.125 2.921875 0.125 C 4.328125 0.125 5.484375 -1.046875 5.484375 -2.5625 Z M 2.921875 -0.140625 C 2.484375 -0.140625 1.953125 -0.328125 1.609375 -0.921875 C 1.28125 -1.453125 1.265625 -2.15625 1.265625 -2.671875 C 1.265625 -3.125 1.265625 -3.84375 1.640625 -4.390625 C 1.96875 -4.90625 2.5 -5.09375 2.921875 -5.09375 C 3.375 -5.09375 3.890625 -4.875 4.203125 -4.40625 C 4.578125 -3.859375 4.578125 -3.109375 4.578125 -2.671875 C 4.578125 -2.25 4.578125 -1.5 4.265625 -0.9375 C 3.9375 -0.375 3.375 -0.140625 2.921875 -0.140625 Z M 2.921875 -0.140625 \"/>\n",
       "</symbol>\n",
       "</g>\n",
       "<clipPath id=\"clip-1574382228198365-1\">\n",
       "  <path d=\"M 53 59 L 77 59 L 77 83.136719 L 53 83.136719 Z M 53 59 \"/>\n",
       "</clipPath>\n",
       "<clipPath id=\"clip-1574382228198365-2\">\n",
       "  <path d=\"M 70 6 L 101.589844 6 L 101.589844 18 L 70 18 Z M 70 6 \"/>\n",
       "</clipPath>\n",
       "<clipPath id=\"clip-1574382228198365-3\">\n",
       "  <path d=\"M 71 35 L 101.589844 35 L 101.589844 48 L 71 48 Z M 71 35 \"/>\n",
       "</clipPath>\n",
       "<clipPath id=\"clip-1574382228198365-4\">\n",
       "  <path d=\"M 70 65 L 101.589844 65 L 101.589844 77 L 70 77 Z M 70 65 \"/>\n",
       "</clipPath>\n",
       "</defs>\n",
       "<g id=\"surface1\">\n",
       "<path style=\"fill:none;stroke-width:0.3985;stroke-linecap:butt;stroke-linejoin:miter;stroke:rgb(0%,0%,0%);stroke-opacity:1;stroke-miterlimit:10;\" d=\"M 2.64825 0.00159375 C 2.64825 1.075812 1.77325 1.950812 0.699031 1.950812 C -0.379094 1.950812 -1.250188 1.075812 -1.250188 0.00159375 C -1.250188 -1.076531 -0.379094 -1.947625 0.699031 -1.947625 C 1.77325 -1.947625 2.64825 -1.076531 2.64825 0.00159375 Z M 2.64825 0.00159375 \" transform=\"matrix(1,0,0,-1,26.258,41.568)\"/>\n",
       "<path style=\"fill:none;stroke-width:0.3985;stroke-linecap:butt;stroke-linejoin:miter;stroke:rgb(0%,0%,0%);stroke-opacity:1;stroke-miterlimit:10;\" d=\"M -0.00190625 0.00159375 C 9.478563 0.00159375 14.830125 0.00159375 24.310594 0.00159375 \" transform=\"matrix(1,0,0,-1,0.498,41.568)\"/>\n",
       "<path style=\"fill:none;stroke-width:0.3985;stroke-linecap:butt;stroke-linejoin:miter;stroke:rgb(0%,0%,0%);stroke-opacity:1;stroke-miterlimit:10;\" d=\"M 0.197719 -11.704375 L 22.369594 -11.704375 L 22.369594 11.705781 L 0.197719 11.705781 Z M 0.197719 -11.704375 \" transform=\"matrix(1,0,0,-1,53.564,11.905)\"/>\n",
       "<g style=\"fill:rgb(0%,0%,0%);fill-opacity:1;\">\n",
       "  <use xlink:href=\"#glyph-1574382228198365-0-1\" x=\"57.661\" y=\"15.872\"/>\n",
       "  <use xlink:href=\"#glyph-1574382228198365-0-2\" x=\"62.278087\" y=\"15.872\"/>\n",
       "  <use xlink:href=\"#glyph-1574382228198365-0-3\" x=\"65.529893\" y=\"15.872\"/>\n",
       "</g>\n",
       "<path style=\"fill:none;stroke-width:0.3985;stroke-linecap:butt;stroke-linejoin:miter;stroke:rgb(0%,0%,0%);stroke-opacity:1;stroke-miterlimit:10;\" d=\"M -0.450719 -41.368437 L 23.018031 -41.368437 L 23.018031 -17.958281 L -0.450719 -17.958281 Z M -0.450719 -41.368437 \" transform=\"matrix(1,0,0,-1,53.564,11.905)\"/>\n",
       "<g style=\"fill:rgb(0%,0%,0%);fill-opacity:1;\">\n",
       "  <use xlink:href=\"#glyph-1574382228198365-0-4\" x=\"57.011\" y=\"44.142\"/>\n",
       "  <use xlink:href=\"#glyph-1574382228198365-0-5\" x=\"62.21389\" y=\"44.142\"/>\n",
       "  <use xlink:href=\"#glyph-1574382228198365-0-1\" x=\"68.067141\" y=\"44.142\"/>\n",
       "</g>\n",
       "<g clip-path=\"url(#clip-1574382228198365-1)\" clip-rule=\"nonzero\">\n",
       "<path style=\"fill:none;stroke-width:0.3985;stroke-linecap:butt;stroke-linejoin:miter;stroke:rgb(0%,0%,0%);stroke-opacity:1;stroke-miterlimit:10;\" d=\"M 0.197719 -71.0325 L 22.369594 -71.0325 L 22.369594 -47.622344 L 0.197719 -47.622344 Z M 0.197719 -71.0325 \" transform=\"matrix(1,0,0,-1,53.564,11.905)\"/>\n",
       "</g>\n",
       "<g style=\"fill:rgb(0%,0%,0%);fill-opacity:1;\">\n",
       "  <use xlink:href=\"#glyph-1574382228198365-0-1\" x=\"57.661\" y=\"75.199\"/>\n",
       "  <use xlink:href=\"#glyph-1574382228198365-0-2\" x=\"62.278087\" y=\"75.199\"/>\n",
       "  <use xlink:href=\"#glyph-1574382228198365-0-3\" x=\"65.529893\" y=\"75.199\"/>\n",
       "</g>\n",
       "<path style=\"fill:none;stroke-width:0.3985;stroke-linecap:butt;stroke-linejoin:miter;stroke:rgb(0%,0%,0%);stroke-opacity:1;stroke-miterlimit:10;\" d=\"M 27.974656 1.517219 C 38.419969 11.962531 38.298875 29.665656 53.068406 29.665656 \" transform=\"matrix(1,0,0,-1,0.498,41.568)\"/>\n",
       "<path style=\"fill:none;stroke-width:0.3985;stroke-linecap:butt;stroke-linejoin:miter;stroke:rgb(0%,0%,0%);stroke-opacity:1;stroke-miterlimit:10;\" d=\"M 28.603562 0.00159375 C 37.892625 0.00159375 43.130906 0.00159375 52.416063 0.00159375 \" transform=\"matrix(1,0,0,-1,0.498,41.568)\"/>\n",
       "<path style=\"fill:none;stroke-width:0.3985;stroke-linecap:butt;stroke-linejoin:miter;stroke:rgb(0%,0%,0%);stroke-opacity:1;stroke-miterlimit:10;\" d=\"M 27.974656 -1.517938 C 38.419969 -11.96325 38.298875 -29.662469 53.068406 -29.662469 \" transform=\"matrix(1,0,0,-1,0.498,41.568)\"/>\n",
       "<g clip-path=\"url(#clip-1574382228198365-2)\" clip-rule=\"nonzero\">\n",
       "<path style=\"fill:none;stroke-width:0.3985;stroke-linecap:butt;stroke-linejoin:miter;stroke:rgb(0%,0%,0%);stroke-opacity:1;stroke-miterlimit:10;\" d=\"M 75.634812 29.665656 C 85.404344 29.665656 90.822312 29.267219 100.591844 29.267219 \" transform=\"matrix(1,0,0,-1,0.498,41.568)\"/>\n",
       "</g>\n",
       "<g clip-path=\"url(#clip-1574382228198365-3)\" clip-rule=\"nonzero\">\n",
       "<path style=\"fill:none;stroke-width:0.3985;stroke-linecap:butt;stroke-linejoin:miter;stroke:rgb(0%,0%,0%);stroke-opacity:1;stroke-miterlimit:10;\" d=\"M 76.28325 0.00159375 C 85.763719 0.00159375 91.111375 0.00159375 100.591844 0.00159375 \" transform=\"matrix(1,0,0,-1,0.498,41.568)\"/>\n",
       "</g>\n",
       "<g clip-path=\"url(#clip-1574382228198365-4)\" clip-rule=\"nonzero\">\n",
       "<path style=\"fill:none;stroke-width:0.3985;stroke-linecap:butt;stroke-linejoin:miter;stroke:rgb(0%,0%,0%);stroke-opacity:1;stroke-miterlimit:10;\" d=\"M 75.634812 -29.662469 C 85.404344 -29.662469 90.822312 -29.264031 100.591844 -29.264031 \" transform=\"matrix(1,0,0,-1,0.498,41.568)\"/>\n",
       "</g>\n",
       "</g>\n",
       "</svg>\n",
       "\n"
      ]
     },
     "metadata": {},
     "execution_count": 8
    }
   ],
   "cell_type": "code",
   "source": [
    "to_tikz(f)"
   ],
   "metadata": {},
   "execution_count": 8
  },
  {
   "outputs": [
    {
     "output_type": "execute_result",
     "data": {
      "text/plain": "(:(function (x,)\n      v1 = sin.(x)\n      v2 = cos.(x)\n      v3 = sin.(x)\n      return (v1, v2, v3)\n  end), Symbol[])"
     },
     "metadata": {},
     "execution_count": 9
    }
   ],
   "cell_type": "code",
   "source": [
    "compile_expr(f; args=[:x])"
   ],
   "metadata": {},
   "execution_count": 9
  },
  {
   "outputs": [
    {
     "output_type": "execute_result",
     "data": {
      "text/plain": "compose(linear(2,\\mathbb{R},\\mathbb{R}),sin,linear(2,\\mathbb{R},\\mathbb{R}))",
      "text/latex": "$\\mathop{\\mathrm{linear}}\\left[2\\right] ; \\mathrm{sin} ; \\mathop{\\mathrm{linear}}\\left[2\\right] : \\mathbb{R} \\to \\mathbb{R}$"
     },
     "metadata": {},
     "execution_count": 10
    }
   ],
   "cell_type": "code",
   "source": [
    "f = compose(linear(2,R,R), f_sin, linear(2,R,R))"
   ],
   "metadata": {},
   "execution_count": 10
  },
  {
   "outputs": [
    {
     "output_type": "execute_result",
     "data": {
      "text/plain": "Catlab.Graphics.TikZ.Picture(Catlab.Graphics.TikZ.Statement[Catlab.Graphics.TikZ.Node(\"n\", Catlab.Graphics.TikZ.Property[Catlab.Graphics.TikZ.Property(\"container\", nothing)], nothing, Catlab.Graphics.TikZ.Picture(Catlab.Graphics.TikZ.Statement[Catlab.Graphics.TikZ.Node(\"n1\", Catlab.Graphics.TikZ.Property[Catlab.Graphics.TikZ.Property(\"minimum height\", \"2.0em\")], nothing, \"\"), Catlab.Graphics.TikZ.Node(\"n2\", Catlab.Graphics.TikZ.Property[Catlab.Graphics.TikZ.Property(\"draw\", nothing), Catlab.Graphics.TikZ.Property(\"solid\", nothing), Catlab.Graphics.TikZ.Property(\"inner sep\", \"0.333em\"), Catlab.Graphics.TikZ.Property(\"rectangle\", nothing), Catlab.Graphics.TikZ.Property(\"rounded corners\", nothing), Catlab.Graphics.TikZ.Property(\"minimum height\", \"2.0em\"), Catlab.Graphics.TikZ.Property(\"right=2em of n1)\", nothing)], nothing, \"2\"), Catlab.Graphics.TikZ.Edge(\"n1.center\", \"n2.west\", Catlab.Graphics.TikZ.PathOperation(\"to\", Catlab.Graphics.TikZ.Property[Catlab.Graphics.TikZ.Property(\"out\", \"0\"), Catlab.Graphics.TikZ.Property(\"in\", \"180\")]), Catlab.Graphics.TikZ.Property[], nothing), Catlab.Graphics.TikZ.Node(\"n3\", Catlab.Graphics.TikZ.Property[Catlab.Graphics.TikZ.Property(\"draw\", nothing), Catlab.Graphics.TikZ.Property(\"solid\", nothing), Catlab.Graphics.TikZ.Property(\"inner sep\", \"0.333em\"), Catlab.Graphics.TikZ.Property(\"rectangle\", nothing), Catlab.Graphics.TikZ.Property(\"sharp corners\", nothing), Catlab.Graphics.TikZ.Property(\"minimum height\", \"2.0em\"), Catlab.Graphics.TikZ.Property(\"right=2em of n2)\", nothing)], nothing, \"\\\\mathrm{sin}\"), Catlab.Graphics.TikZ.Edge(\"n2.east\", \"n3.west\", Catlab.Graphics.TikZ.PathOperation(\"to\", Catlab.Graphics.TikZ.Property[Catlab.Graphics.TikZ.Property(\"out\", \"0\"), Catlab.Graphics.TikZ.Property(\"in\", \"180\")]), Catlab.Graphics.TikZ.Property[], nothing), Catlab.Graphics.TikZ.Node(\"n4\", Catlab.Graphics.TikZ.Property[Catlab.Graphics.TikZ.Property(\"draw\", nothing), Catlab.Graphics.TikZ.Property(\"solid\", nothing), Catlab.Graphics.TikZ.Property(\"inner sep\", \"0.333em\"), Catlab.Graphics.TikZ.Property(\"rectangle\", nothing), Catlab.Graphics.TikZ.Property(\"rounded corners\", nothing), Catlab.Graphics.TikZ.Property(\"minimum height\", \"2.0em\"), Catlab.Graphics.TikZ.Property(\"right=2em of n3)\", nothing)], nothing, \"2\"), Catlab.Graphics.TikZ.Edge(\"n3.east\", \"n4.west\", Catlab.Graphics.TikZ.PathOperation(\"to\", Catlab.Graphics.TikZ.Property[Catlab.Graphics.TikZ.Property(\"out\", \"0\"), Catlab.Graphics.TikZ.Property(\"in\", \"180\")]), Catlab.Graphics.TikZ.Property[], nothing), Catlab.Graphics.TikZ.Node(\"n5\", Catlab.Graphics.TikZ.Property[Catlab.Graphics.TikZ.Property(\"minimum height\", \"2.0em\"), Catlab.Graphics.TikZ.Property(\"right=2em of n4)\", nothing)], nothing, \"\"), Catlab.Graphics.TikZ.Edge(\"n4.east\", \"n5.center\", Catlab.Graphics.TikZ.PathOperation(\"to\", Catlab.Graphics.TikZ.Property[Catlab.Graphics.TikZ.Property(\"out\", \"0\"), Catlab.Graphics.TikZ.Property(\"in\", \"180\")]), Catlab.Graphics.TikZ.Property[], nothing)], Catlab.Graphics.TikZ.Property[]))], Catlab.Graphics.TikZ.Property[Catlab.Graphics.TikZ.Property(\"remember picture\", nothing), Catlab.Graphics.TikZ.Property(\"font\", \"{\\\\fontsize{12}{14.4}}\"), Catlab.Graphics.TikZ.Property(\"container/.style\", \"{inner sep=0}\"), Catlab.Graphics.TikZ.Property(\"every path/.style\", \"{solid, line width=0.4pt}\"), Catlab.Graphics.TikZ.Property(\"execute at begin node\", \"\\$\"), Catlab.Graphics.TikZ.Property(\"execute at end node\", \"\\$\")])",
      "image/svg+xml": [
       "<?xml version=\"1.0\" encoding=\"UTF-8\"?>\n",
       "<svg xmlns=\"http://www.w3.org/2000/svg\" xmlns:xlink=\"http://www.w3.org/1999/xlink\" width=\"146.701pt\" height=\"23.81pt\" viewBox=\"0 0 146.701 23.81\" version=\"1.1\">\n",
       "<defs>\n",
       "<g>\n",
       "<symbol overflow=\"visible\" id=\"glyph-1574382228198366-0-0\">\n",
       "<path style=\"stroke:none;\" d=\"\"/>\n",
       "</symbol>\n",
       "<symbol overflow=\"visible\" id=\"glyph-1574382228198366-0-1\">\n",
       "<path style=\"stroke:none;\" d=\"M 5.265625 -2.015625 L 5 -2.015625 C 4.953125 -1.8125 4.859375 -1.140625 4.75 -0.953125 C 4.65625 -0.84375 3.984375 -0.84375 3.625 -0.84375 L 1.40625 -0.84375 C 1.734375 -1.125 2.46875 -1.890625 2.765625 -2.171875 C 4.59375 -3.84375 5.265625 -4.46875 5.265625 -5.65625 C 5.265625 -7.03125 4.171875 -7.953125 2.78125 -7.953125 C 1.40625 -7.953125 0.578125 -6.765625 0.578125 -5.734375 C 0.578125 -5.125 1.109375 -5.125 1.140625 -5.125 C 1.40625 -5.125 1.703125 -5.3125 1.703125 -5.6875 C 1.703125 -6.03125 1.484375 -6.25 1.140625 -6.25 C 1.046875 -6.25 1.015625 -6.25 0.984375 -6.234375 C 1.203125 -7.046875 1.859375 -7.609375 2.625 -7.609375 C 3.640625 -7.609375 4.265625 -6.75 4.265625 -5.65625 C 4.265625 -4.640625 3.6875 -3.75 3 -2.984375 L 0.578125 -0.28125 L 0.578125 0 L 4.953125 0 Z M 5.265625 -2.015625 \"/>\n",
       "</symbol>\n",
       "<symbol overflow=\"visible\" id=\"glyph-1574382228198366-0-2\">\n",
       "<path style=\"stroke:none;\" d=\"M 3.921875 -5.0625 C 3.921875 -5.265625 3.921875 -5.328125 3.796875 -5.328125 C 3.703125 -5.328125 3.484375 -5.0625 3.390625 -4.953125 C 3.03125 -5.265625 2.65625 -5.328125 2.265625 -5.328125 C 0.828125 -5.328125 0.390625 -4.546875 0.390625 -3.890625 C 0.390625 -3.75 0.390625 -3.328125 0.84375 -2.921875 C 1.234375 -2.578125 1.640625 -2.5 2.1875 -2.390625 C 2.84375 -2.265625 3 -2.21875 3.296875 -1.984375 C 3.515625 -1.8125 3.671875 -1.546875 3.671875 -1.203125 C 3.671875 -0.6875 3.375 -0.125 2.3125 -0.125 C 1.53125 -0.125 0.953125 -0.578125 0.6875 -1.765625 C 0.640625 -1.984375 0.640625 -2 0.640625 -2.015625 C 0.609375 -2.0625 0.5625 -2.0625 0.53125 -2.0625 C 0.390625 -2.0625 0.390625 -2 0.390625 -1.78125 L 0.390625 -0.15625 C 0.390625 0.0625 0.390625 0.125 0.515625 0.125 C 0.578125 0.125 0.578125 0.109375 0.78125 -0.140625 C 0.84375 -0.234375 0.84375 -0.25 1.03125 -0.4375 C 1.484375 0.125 2.125 0.125 2.328125 0.125 C 3.578125 0.125 4.203125 -0.578125 4.203125 -1.515625 C 4.203125 -2.15625 3.8125 -2.546875 3.703125 -2.65625 C 3.28125 -3.03125 2.953125 -3.09375 2.15625 -3.234375 C 1.8125 -3.3125 0.9375 -3.484375 0.9375 -4.203125 C 0.9375 -4.5625 1.1875 -5.109375 2.265625 -5.109375 C 3.5625 -5.109375 3.640625 -4 3.65625 -3.640625 C 3.671875 -3.53125 3.75 -3.53125 3.796875 -3.53125 C 3.921875 -3.53125 3.921875 -3.59375 3.921875 -3.8125 Z M 3.921875 -5.0625 \"/>\n",
       "</symbol>\n",
       "<symbol overflow=\"visible\" id=\"glyph-1574382228198366-0-3\">\n",
       "<path style=\"stroke:none;\" d=\"M 2.078125 -7.359375 C 2.078125 -7.671875 1.828125 -7.953125 1.5 -7.953125 C 1.1875 -7.953125 0.921875 -7.703125 0.921875 -7.375 C 0.921875 -7.015625 1.203125 -6.796875 1.5 -6.796875 C 1.859375 -6.796875 2.078125 -7.09375 2.078125 -7.359375 Z M 0.4375 -5.140625 L 0.4375 -4.796875 C 1.1875 -4.796875 1.296875 -4.71875 1.296875 -4.140625 L 1.296875 -0.890625 C 1.296875 -0.34375 1.171875 -0.34375 0.390625 -0.34375 L 0.390625 0 C 0.734375 -0.03125 1.296875 -0.03125 1.65625 -0.03125 C 1.78125 -0.03125 2.46875 -0.03125 2.875 0 L 2.875 -0.34375 C 2.109375 -0.34375 2.0625 -0.40625 2.0625 -0.875 L 2.0625 -5.265625 Z M 0.4375 -5.140625 \"/>\n",
       "</symbol>\n",
       "<symbol overflow=\"visible\" id=\"glyph-1574382228198366-0-4\">\n",
       "<path style=\"stroke:none;\" d=\"M 5.3125 -2.90625 C 5.3125 -4.015625 5.3125 -4.34375 5.046875 -4.734375 C 4.703125 -5.203125 4.140625 -5.265625 3.734375 -5.265625 C 2.5625 -5.265625 2.109375 -4.28125 2.015625 -4.046875 L 2.015625 -5.265625 L 0.375 -5.140625 L 0.375 -4.796875 C 1.1875 -4.796875 1.296875 -4.703125 1.296875 -4.125 L 1.296875 -0.890625 C 1.296875 -0.34375 1.15625 -0.34375 0.375 -0.34375 L 0.375 0 C 0.6875 -0.03125 1.34375 -0.03125 1.671875 -0.03125 C 2.015625 -0.03125 2.671875 -0.03125 2.96875 0 L 2.96875 -0.34375 C 2.21875 -0.34375 2.0625 -0.34375 2.0625 -0.890625 L 2.0625 -3.109375 C 2.0625 -4.359375 2.890625 -5.03125 3.640625 -5.03125 C 4.375 -5.03125 4.546875 -4.421875 4.546875 -3.6875 L 4.546875 -0.890625 C 4.546875 -0.34375 4.40625 -0.34375 3.640625 -0.34375 L 3.640625 0 C 3.9375 -0.03125 4.59375 -0.03125 4.921875 -0.03125 C 5.265625 -0.03125 5.921875 -0.03125 6.234375 0 L 6.234375 -0.34375 C 5.625 -0.34375 5.328125 -0.34375 5.3125 -0.703125 Z M 5.3125 -2.90625 \"/>\n",
       "</symbol>\n",
       "</g>\n",
       "<clipPath id=\"clip-1574382228198366-1\">\n",
       "  <path d=\"M 19 0 L 45 0 L 45 23.808594 L 19 23.808594 Z M 19 0 \"/>\n",
       "</clipPath>\n",
       "<clipPath id=\"clip-1574382228198366-2\">\n",
       "  <path d=\"M 62 0 L 85 0 L 85 23.808594 L 62 23.808594 Z M 62 0 \"/>\n",
       "</clipPath>\n",
       "<clipPath id=\"clip-1574382228198366-3\">\n",
       "  <path d=\"M 102 0 L 128 0 L 128 23.808594 L 102 23.808594 Z M 102 0 \"/>\n",
       "</clipPath>\n",
       "<clipPath id=\"clip-1574382228198366-4\">\n",
       "  <path d=\"M 116 6 L 146.699219 6 L 146.699219 18 L 116 18 Z M 116 6 \"/>\n",
       "</clipPath>\n",
       "</defs>\n",
       "<g id=\"surface1\">\n",
       "<g clip-path=\"url(#clip-1574382228198366-1)\" clip-rule=\"nonzero\">\n",
       "<path style=\"fill:none;stroke-width:0.3985;stroke-linecap:butt;stroke-linejoin:miter;stroke:rgb(0%,0%,0%);stroke-opacity:1;stroke-miterlimit:10;\" d=\"M 33.974656 11.705781 L 28.294969 11.705781 C 26.091844 11.705781 24.310594 9.920625 24.310594 7.721406 L 24.310594 -7.72 C 24.310594 -9.923125 26.091844 -11.704375 28.294969 -11.704375 L 33.974656 -11.704375 C 36.173875 -11.704375 37.959031 -9.923125 37.959031 -7.72 L 37.959031 7.721406 C 37.959031 9.920625 36.173875 11.705781 33.974656 11.705781 Z M 33.974656 11.705781 \" transform=\"matrix(1,0,0,-1,0.498,11.905)\"/>\n",
       "</g>\n",
       "<g style=\"fill:rgb(0%,0%,0%);fill-opacity:1;\">\n",
       "  <use xlink:href=\"#glyph-1574382228198366-0-1\" x=\"28.705\" y=\"15.757\"/>\n",
       "</g>\n",
       "<path style=\"fill:none;stroke-width:0.3985;stroke-linecap:butt;stroke-linejoin:miter;stroke:rgb(0%,0%,0%);stroke-opacity:1;stroke-miterlimit:10;\" d=\"M -0.00190625 -0.00125 C 9.400438 -0.00125 14.709031 -0.00125 24.111375 -0.00125 \" transform=\"matrix(1,0,0,-1,0.498,11.905)\"/>\n",
       "<g clip-path=\"url(#clip-1574382228198366-2)\" clip-rule=\"nonzero\">\n",
       "<path style=\"fill:none;stroke-width:0.3985;stroke-linecap:butt;stroke-linejoin:miter;stroke:rgb(0%,0%,0%);stroke-opacity:1;stroke-miterlimit:10;\" d=\"M 61.767625 -11.704375 L 83.935594 -11.704375 L 83.935594 11.705781 L 61.767625 11.705781 Z M 61.767625 -11.704375 \" transform=\"matrix(1,0,0,-1,0.498,11.905)\"/>\n",
       "</g>\n",
       "<g style=\"fill:rgb(0%,0%,0%);fill-opacity:1;\">\n",
       "  <use xlink:href=\"#glyph-1574382228198366-0-2\" x=\"66.164\" y=\"15.872\"/>\n",
       "  <use xlink:href=\"#glyph-1574382228198366-0-3\" x=\"70.781087\" y=\"15.872\"/>\n",
       "  <use xlink:href=\"#glyph-1574382228198366-0-4\" x=\"74.032893\" y=\"15.872\"/>\n",
       "</g>\n",
       "<path style=\"fill:none;stroke-width:0.3985;stroke-linecap:butt;stroke-linejoin:miter;stroke:rgb(0%,0%,0%);stroke-opacity:1;stroke-miterlimit:10;\" d=\"M 38.15825 -0.00125 C 47.287156 -0.00125 52.4395 -0.00125 61.568406 -0.00125 \" transform=\"matrix(1,0,0,-1,0.498,11.905)\"/>\n",
       "<g clip-path=\"url(#clip-1574382228198366-3)\" clip-rule=\"nonzero\">\n",
       "<path style=\"fill:none;stroke-width:0.3985;stroke-linecap:butt;stroke-linejoin:miter;stroke:rgb(0%,0%,0%);stroke-opacity:1;stroke-miterlimit:10;\" d=\"M 117.412156 11.705781 L 111.732469 11.705781 C 109.53325 11.705781 107.748094 9.920625 107.748094 7.721406 L 107.748094 -7.72 C 107.748094 -9.923125 109.53325 -11.704375 111.732469 -11.704375 L 117.412156 -11.704375 C 119.611375 -11.704375 121.396531 -9.923125 121.396531 -7.72 L 121.396531 7.721406 C 121.396531 9.920625 119.611375 11.705781 117.412156 11.705781 Z M 117.412156 11.705781 \" transform=\"matrix(1,0,0,-1,0.498,11.905)\"/>\n",
       "</g>\n",
       "<g style=\"fill:rgb(0%,0%,0%);fill-opacity:1;\">\n",
       "  <use xlink:href=\"#glyph-1574382228198366-0-1\" x=\"112.143\" y=\"15.757\"/>\n",
       "</g>\n",
       "<path style=\"fill:none;stroke-width:0.3985;stroke-linecap:butt;stroke-linejoin:miter;stroke:rgb(0%,0%,0%);stroke-opacity:1;stroke-miterlimit:10;\" d=\"M 84.134812 -0.00125 C 93.267625 -0.00125 98.419969 -0.00125 107.548875 -0.00125 \" transform=\"matrix(1,0,0,-1,0.498,11.905)\"/>\n",
       "<g clip-path=\"url(#clip-1574382228198366-4)\" clip-rule=\"nonzero\">\n",
       "<path style=\"fill:none;stroke-width:0.3985;stroke-linecap:butt;stroke-linejoin:miter;stroke:rgb(0%,0%,0%);stroke-opacity:1;stroke-miterlimit:10;\" d=\"M 121.59575 -0.00125 C 130.998094 -0.00125 136.302781 -0.00125 145.705125 -0.00125 \" transform=\"matrix(1,0,0,-1,0.498,11.905)\"/>\n",
       "</g>\n",
       "</g>\n",
       "</svg>\n",
       "\n"
      ]
     },
     "metadata": {},
     "execution_count": 11
    }
   ],
   "cell_type": "code",
   "source": [
    "to_tikz(f)"
   ],
   "metadata": {},
   "execution_count": 11
  },
  {
   "outputs": [
    {
     "output_type": "execute_result",
     "data": {
      "text/plain": "(:(function (x,)\n      v1 = 2x\n      v2 = sin.(v1)\n      v3 = 2v2\n      return v3\n  end), Symbol[])"
     },
     "metadata": {},
     "execution_count": 12
    }
   ],
   "cell_type": "code",
   "source": [
    "compile_expr(f; args=[:x])"
   ],
   "metadata": {},
   "execution_count": 12
  },
  {
   "outputs": [
    {
     "output_type": "execute_result",
     "data": {
      "text/plain": "Formula(:*, 2, Formula(:sin, Formula(:*, 2, :x)))",
      "text/latex": "$2 \\sin\\left(2 x\\right)$"
     },
     "metadata": {},
     "execution_count": 13
    }
   ],
   "cell_type": "code",
   "source": [
    "to_formula(f, [:x])"
   ],
   "metadata": {},
   "execution_count": 13
  },
  {
   "outputs": [
    {
     "output_type": "execute_result",
     "data": {
      "text/plain": "compose(mcopy(\\mathbb{R},2),otimes(id(\\mathbb{R}),cos),*)",
      "text/latex": "$\\Delta_{\\mathbb{R},2} ; \\left(\\mathrm{id}_{\\mathbb{R}} \\otimes \\mathrm{cos}\\right) ; * : \\mathbb{R} \\to \\mathbb{R}$"
     },
     "metadata": {},
     "execution_count": 14
    }
   ],
   "cell_type": "code",
   "source": [
    "f = compose(mcopy(R), otimes(id(R),Hom(:cos,R,R)), Hom(:*,otimes(R,R),R))"
   ],
   "metadata": {},
   "execution_count": 14
  },
  {
   "outputs": [
    {
     "output_type": "execute_result",
     "data": {
      "text/plain": "Catlab.Graphics.TikZ.Picture(Catlab.Graphics.TikZ.Statement[Catlab.Graphics.TikZ.Node(\"n\", Catlab.Graphics.TikZ.Property[Catlab.Graphics.TikZ.Property(\"container\", nothing)], nothing, Catlab.Graphics.TikZ.Picture(Catlab.Graphics.TikZ.Statement[Catlab.Graphics.TikZ.Node(\"n1\", Catlab.Graphics.TikZ.Property[Catlab.Graphics.TikZ.Property(\"minimum height\", \"2.0em\")], nothing, \"\"), Catlab.Graphics.TikZ.Node(\"n2\", Catlab.Graphics.TikZ.Property[Catlab.Graphics.TikZ.Property(\"container\", nothing), Catlab.Graphics.TikZ.Property(\"right=2em of n1)\", nothing)], nothing, Catlab.Graphics.TikZ.Picture(Catlab.Graphics.TikZ.Statement[Catlab.Graphics.TikZ.Node(\"n2 box\", Catlab.Graphics.TikZ.Property[Catlab.Graphics.TikZ.Property(\"minimum height\", \"4.5em\")], nothing, \"\"), Catlab.Graphics.TikZ.Node(\"n2 point\", Catlab.Graphics.TikZ.Property[Catlab.Graphics.TikZ.Property(\"draw\", nothing), Catlab.Graphics.TikZ.Property(\"solid\", nothing), Catlab.Graphics.TikZ.Property(\"circle\", nothing), Catlab.Graphics.TikZ.Property(\"minimum size\", \"0.333em\"), Catlab.Graphics.TikZ.Property(\"above\", \"0 of n2 box.center\"), Catlab.Graphics.TikZ.Property(\"anchor\", \"center\")], nothing, \"\")], Catlab.Graphics.TikZ.Property[])), Catlab.Graphics.TikZ.Edge(\"n1.center\", \"n2 point.180\", Catlab.Graphics.TikZ.PathOperation(\"to\", Catlab.Graphics.TikZ.Property[Catlab.Graphics.TikZ.Property(\"out\", \"0\"), Catlab.Graphics.TikZ.Property(\"in\", \"180\")]), Catlab.Graphics.TikZ.Property[], nothing), Catlab.Graphics.TikZ.Node(\"n3\", Catlab.Graphics.TikZ.Property[Catlab.Graphics.TikZ.Property(\"container\", nothing), Catlab.Graphics.TikZ.Property(\"right=2em of n2)\", nothing)], nothing, Catlab.Graphics.TikZ.Picture(Catlab.Graphics.TikZ.Statement[Catlab.Graphics.TikZ.Node(\"n31\", Catlab.Graphics.TikZ.Property[Catlab.Graphics.TikZ.Property(\"minimum height\", \"2.0em\")], nothing, \"\"), Catlab.Graphics.TikZ.Node(\"n32\", Catlab.Graphics.TikZ.Property[Catlab.Graphics.TikZ.Property(\"draw\", nothing), Catlab.Graphics.TikZ.Property(\"solid\", nothing), Catlab.Graphics.TikZ.Property(\"inner sep\", \"0.333em\"), Catlab.Graphics.TikZ.Property(\"rectangle\", nothing), Catlab.Graphics.TikZ.Property(\"sharp corners\", nothing), Catlab.Graphics.TikZ.Property(\"minimum height\", \"2.0em\"), Catlab.Graphics.TikZ.Property(\"below=0.5em of n31\", nothing)], nothing, \"\\\\mathrm{cos}\")], Catlab.Graphics.TikZ.Property[])), Catlab.Graphics.TikZ.Edge(\"n2 point.30\", \"n31.center\", Catlab.Graphics.TikZ.PathOperation(\"to\", Catlab.Graphics.TikZ.Property[Catlab.Graphics.TikZ.Property(\"out\", \"30\"), Catlab.Graphics.TikZ.Property(\"in\", \"180\")]), Catlab.Graphics.TikZ.Property[], nothing), Catlab.Graphics.TikZ.Edge(\"n2 point.330\", \"n32.west\", Catlab.Graphics.TikZ.PathOperation(\"to\", Catlab.Graphics.TikZ.Property[Catlab.Graphics.TikZ.Property(\"out\", \"330\"), Catlab.Graphics.TikZ.Property(\"in\", \"180\")]), Catlab.Graphics.TikZ.Property[], nothing), Catlab.Graphics.TikZ.Node(\"n4\", Catlab.Graphics.TikZ.Property[Catlab.Graphics.TikZ.Property(\"draw\", nothing), Catlab.Graphics.TikZ.Property(\"solid\", nothing), Catlab.Graphics.TikZ.Property(\"inner sep\", \"0.333em\"), Catlab.Graphics.TikZ.Property(\"rectangle\", nothing), Catlab.Graphics.TikZ.Property(\"sharp corners\", nothing), Catlab.Graphics.TikZ.Property(\"minimum height\", \"4.5em\"), Catlab.Graphics.TikZ.Property(\"right=2em of n3)\", nothing)], nothing, \"*\"), Catlab.Graphics.TikZ.Edge(\"n31.center\", \"\\$(n4.west)+(0,1.25em)\\$\", Catlab.Graphics.TikZ.PathOperation(\"to\", Catlab.Graphics.TikZ.Property[Catlab.Graphics.TikZ.Property(\"out\", \"0\"), Catlab.Graphics.TikZ.Property(\"in\", \"180\")]), Catlab.Graphics.TikZ.Property[], nothing), Catlab.Graphics.TikZ.Edge(\"n32.east\", \"\\$(n4.west)+(0,-1.25em)\\$\", Catlab.Graphics.TikZ.PathOperation(\"to\", Catlab.Graphics.TikZ.Property[Catlab.Graphics.TikZ.Property(\"out\", \"0\"), Catlab.Graphics.TikZ.Property(\"in\", \"180\")]), Catlab.Graphics.TikZ.Property[], nothing), Catlab.Graphics.TikZ.Node(\"n5\", Catlab.Graphics.TikZ.Property[Catlab.Graphics.TikZ.Property(\"minimum height\", \"2.0em\"), Catlab.Graphics.TikZ.Property(\"right=2em of n4)\", nothing)], nothing, \"\"), Catlab.Graphics.TikZ.Edge(\"n4.east\", \"n5.center\", Catlab.Graphics.TikZ.PathOperation(\"to\", Catlab.Graphics.TikZ.Property[Catlab.Graphics.TikZ.Property(\"out\", \"0\"), Catlab.Graphics.TikZ.Property(\"in\", \"180\")]), Catlab.Graphics.TikZ.Property[], nothing)], Catlab.Graphics.TikZ.Property[]))], Catlab.Graphics.TikZ.Property[Catlab.Graphics.TikZ.Property(\"remember picture\", nothing), Catlab.Graphics.TikZ.Property(\"font\", \"{\\\\fontsize{12}{14.4}}\"), Catlab.Graphics.TikZ.Property(\"container/.style\", \"{inner sep=0}\"), Catlab.Graphics.TikZ.Property(\"every path/.style\", \"{solid, line width=0.4pt}\"), Catlab.Graphics.TikZ.Property(\"execute at begin node\", \"\\$\"), Catlab.Graphics.TikZ.Property(\"execute at end node\", \"\\$\")])",
      "image/svg+xml": [
       "<?xml version=\"1.0\" encoding=\"UTF-8\"?>\n",
       "<svg xmlns=\"http://www.w3.org/2000/svg\" xmlns:xlink=\"http://www.w3.org/1999/xlink\" width=\"139.172pt\" height=\"53.275pt\" viewBox=\"0 0 139.172 53.275\" version=\"1.1\">\n",
       "<defs>\n",
       "<g>\n",
       "<symbol overflow=\"visible\" id=\"glyph-1574382228198367-0-0\">\n",
       "<path style=\"stroke:none;\" d=\"\"/>\n",
       "</symbol>\n",
       "<symbol overflow=\"visible\" id=\"glyph-1574382228198367-0-1\">\n",
       "<path style=\"stroke:none;\" d=\"M 4.328125 -4.421875 C 4.1875 -4.421875 3.734375 -4.421875 3.734375 -3.9375 C 3.734375 -3.640625 3.9375 -3.4375 4.234375 -3.4375 C 4.5 -3.4375 4.734375 -3.609375 4.734375 -3.953125 C 4.734375 -4.75 3.890625 -5.328125 2.921875 -5.328125 C 1.53125 -5.328125 0.421875 -4.09375 0.421875 -2.578125 C 0.421875 -1.046875 1.5625 0.125 2.921875 0.125 C 4.5 0.125 4.859375 -1.3125 4.859375 -1.421875 C 4.859375 -1.53125 4.765625 -1.53125 4.734375 -1.53125 C 4.625 -1.53125 4.609375 -1.5 4.578125 -1.34375 C 4.3125 -0.5 3.671875 -0.140625 3.03125 -0.140625 C 2.296875 -0.140625 1.328125 -0.78125 1.328125 -2.59375 C 1.328125 -4.578125 2.34375 -5.0625 2.9375 -5.0625 C 3.390625 -5.0625 4.046875 -4.890625 4.328125 -4.421875 Z M 4.328125 -4.421875 \"/>\n",
       "</symbol>\n",
       "<symbol overflow=\"visible\" id=\"glyph-1574382228198367-0-2\">\n",
       "<path style=\"stroke:none;\" d=\"M 5.484375 -2.5625 C 5.484375 -4.09375 4.3125 -5.328125 2.921875 -5.328125 C 1.5 -5.328125 0.359375 -4.0625 0.359375 -2.5625 C 0.359375 -1.03125 1.546875 0.125 2.921875 0.125 C 4.328125 0.125 5.484375 -1.046875 5.484375 -2.5625 Z M 2.921875 -0.140625 C 2.484375 -0.140625 1.953125 -0.328125 1.609375 -0.921875 C 1.28125 -1.453125 1.265625 -2.15625 1.265625 -2.671875 C 1.265625 -3.125 1.265625 -3.84375 1.640625 -4.390625 C 1.96875 -4.90625 2.5 -5.09375 2.921875 -5.09375 C 3.375 -5.09375 3.890625 -4.875 4.203125 -4.40625 C 4.578125 -3.859375 4.578125 -3.109375 4.578125 -2.671875 C 4.578125 -2.25 4.578125 -1.5 4.265625 -0.9375 C 3.9375 -0.375 3.375 -0.140625 2.921875 -0.140625 Z M 2.921875 -0.140625 \"/>\n",
       "</symbol>\n",
       "<symbol overflow=\"visible\" id=\"glyph-1574382228198367-0-3\">\n",
       "<path style=\"stroke:none;\" d=\"M 3.921875 -5.0625 C 3.921875 -5.265625 3.921875 -5.328125 3.796875 -5.328125 C 3.703125 -5.328125 3.484375 -5.0625 3.390625 -4.953125 C 3.03125 -5.265625 2.65625 -5.328125 2.265625 -5.328125 C 0.828125 -5.328125 0.390625 -4.546875 0.390625 -3.890625 C 0.390625 -3.75 0.390625 -3.328125 0.84375 -2.921875 C 1.234375 -2.578125 1.640625 -2.5 2.1875 -2.390625 C 2.84375 -2.265625 3 -2.21875 3.296875 -1.984375 C 3.515625 -1.8125 3.671875 -1.546875 3.671875 -1.203125 C 3.671875 -0.6875 3.375 -0.125 2.3125 -0.125 C 1.53125 -0.125 0.953125 -0.578125 0.6875 -1.765625 C 0.640625 -1.984375 0.640625 -2 0.640625 -2.015625 C 0.609375 -2.0625 0.5625 -2.0625 0.53125 -2.0625 C 0.390625 -2.0625 0.390625 -2 0.390625 -1.78125 L 0.390625 -0.15625 C 0.390625 0.0625 0.390625 0.125 0.515625 0.125 C 0.578125 0.125 0.578125 0.109375 0.78125 -0.140625 C 0.84375 -0.234375 0.84375 -0.25 1.03125 -0.4375 C 1.484375 0.125 2.125 0.125 2.328125 0.125 C 3.578125 0.125 4.203125 -0.578125 4.203125 -1.515625 C 4.203125 -2.15625 3.8125 -2.546875 3.703125 -2.65625 C 3.28125 -3.03125 2.953125 -3.09375 2.15625 -3.234375 C 1.8125 -3.3125 0.9375 -3.484375 0.9375 -4.203125 C 0.9375 -4.5625 1.1875 -5.109375 2.265625 -5.109375 C 3.5625 -5.109375 3.640625 -4 3.65625 -3.640625 C 3.671875 -3.53125 3.75 -3.53125 3.796875 -3.53125 C 3.921875 -3.53125 3.921875 -3.59375 3.921875 -3.8125 Z M 3.921875 -5.0625 \"/>\n",
       "</symbol>\n",
       "<symbol overflow=\"visible\" id=\"glyph-1574382228198367-1-0\">\n",
       "<path style=\"stroke:none;\" d=\"\"/>\n",
       "</symbol>\n",
       "<symbol overflow=\"visible\" id=\"glyph-1574382228198367-1-1\">\n",
       "<path style=\"stroke:none;\" d=\"M 3.28125 -5.109375 C 3.296875 -5.265625 3.296875 -5.5625 2.984375 -5.5625 C 2.796875 -5.5625 2.640625 -5.40625 2.671875 -5.25 L 2.671875 -5.09375 L 2.84375 -3.234375 L 1.3125 -4.34375 C 1.203125 -4.40625 1.1875 -4.4375 1.09375 -4.4375 C 0.9375 -4.4375 0.78125 -4.265625 0.78125 -4.09375 C 0.78125 -3.90625 0.890625 -3.859375 1.015625 -3.796875 L 2.71875 -2.984375 L 1.0625 -2.1875 C 0.875 -2.09375 0.78125 -2.046875 0.78125 -1.859375 C 0.78125 -1.6875 0.9375 -1.53125 1.09375 -1.53125 C 1.1875 -1.53125 1.203125 -1.53125 1.5 -1.75 L 2.84375 -2.71875 L 2.671875 -0.71875 C 2.671875 -0.46875 2.875 -0.40625 2.96875 -0.40625 C 3.125 -0.40625 3.296875 -0.484375 3.296875 -0.71875 L 3.125 -2.71875 L 4.65625 -1.609375 C 4.75 -1.546875 4.78125 -1.53125 4.859375 -1.53125 C 5.03125 -1.53125 5.1875 -1.703125 5.1875 -1.859375 C 5.1875 -2.046875 5.078125 -2.109375 4.9375 -2.171875 C 4.21875 -2.53125 4.203125 -2.53125 3.25 -2.96875 L 4.90625 -3.78125 C 5.09375 -3.875 5.1875 -3.921875 5.1875 -4.09375 C 5.1875 -4.28125 5.03125 -4.4375 4.859375 -4.4375 C 4.78125 -4.4375 4.75 -4.4375 4.453125 -4.203125 L 3.125 -3.234375 Z M 3.28125 -5.109375 \"/>\n",
       "</symbol>\n",
       "</g>\n",
       "<clipPath id=\"clip-1574382228198367-1\">\n",
       "  <path d=\"M 52 29 L 77 29 L 77 53.273438 L 52 53.273438 Z M 52 29 \"/>\n",
       "</clipPath>\n",
       "<clipPath id=\"clip-1574382228198367-2\">\n",
       "  <path d=\"M 100 0 L 115 0 L 115 53.273438 L 100 53.273438 Z M 100 0 \"/>\n",
       "</clipPath>\n",
       "<clipPath id=\"clip-1574382228198367-3\">\n",
       "  <path d=\"M 108 21 L 139.171875 21 L 139.171875 33 L 108 33 Z M 108 21 \"/>\n",
       "</clipPath>\n",
       "</defs>\n",
       "<g id=\"surface1\">\n",
       "<path style=\"fill:none;stroke-width:0.3985;stroke-linecap:butt;stroke-linejoin:miter;stroke:rgb(0%,0%,0%);stroke-opacity:1;stroke-miterlimit:10;\" d=\"M 2.64825 0.00128125 C 2.64825 1.0755 1.77325 1.9505 0.699031 1.9505 C -0.379094 1.9505 -1.250188 1.0755 -1.250188 0.00128125 C -1.250188 -1.076844 -0.379094 -1.947938 0.699031 -1.947938 C 1.77325 -1.947938 2.64825 -1.076844 2.64825 0.00128125 Z M 2.64825 0.00128125 \" transform=\"matrix(1,0,0,-1,26.258,26.638)\"/>\n",
       "<path style=\"fill:none;stroke-width:0.3985;stroke-linecap:butt;stroke-linejoin:miter;stroke:rgb(0%,0%,0%);stroke-opacity:1;stroke-miterlimit:10;\" d=\"M -0.00190625 0.00128125 C 9.478563 0.00128125 14.830125 0.00128125 24.310594 0.00128125 \" transform=\"matrix(1,0,0,-1,0.498,26.638)\"/>\n",
       "<g clip-path=\"url(#clip-1574382228198367-1)\" clip-rule=\"nonzero\">\n",
       "<path style=\"fill:none;stroke-width:0.3985;stroke-linecap:butt;stroke-linejoin:miter;stroke:rgb(0%,0%,0%);stroke-opacity:1;stroke-miterlimit:10;\" d=\"M -11.036719 -41.368219 L 12.432031 -41.368219 L 12.432031 -17.958062 L -11.036719 -17.958062 Z M -11.036719 -41.368219 \" transform=\"matrix(1,0,0,-1,64.15,11.706)\"/>\n",
       "</g>\n",
       "<g style=\"fill:rgb(0%,0%,0%);fill-opacity:1;\">\n",
       "  <use xlink:href=\"#glyph-1574382228198367-0-1\" x=\"57.011\" y=\"43.943\"/>\n",
       "  <use xlink:href=\"#glyph-1574382228198367-0-2\" x=\"62.21389\" y=\"43.943\"/>\n",
       "  <use xlink:href=\"#glyph-1574382228198367-0-3\" x=\"68.067141\" y=\"43.943\"/>\n",
       "</g>\n",
       "<path style=\"fill:none;stroke-width:0.3985;stroke-linecap:butt;stroke-linejoin:miter;stroke:rgb(0%,0%,0%);stroke-opacity:1;stroke-miterlimit:10;\" d=\"M 28.322312 1.079406 C 41.353563 8.598938 49.306688 14.930969 64.349656 14.930969 \" transform=\"matrix(1,0,0,-1,0.498,26.638)\"/>\n",
       "<path style=\"fill:none;stroke-width:0.3985;stroke-linecap:butt;stroke-linejoin:miter;stroke:rgb(0%,0%,0%);stroke-opacity:1;stroke-miterlimit:10;\" d=\"M 28.322312 -1.076844 C 37.65825 -6.467469 41.634813 -14.733094 52.416063 -14.733094 \" transform=\"matrix(1,0,0,-1,0.498,26.638)\"/>\n",
       "<g clip-path=\"url(#clip-1574382228198367-2)\" clip-rule=\"nonzero\">\n",
       "<path style=\"fill:none;stroke-width:0.3985;stroke-linecap:butt;stroke-linejoin:miter;stroke:rgb(0%,0%,0%);stroke-opacity:1;stroke-miterlimit:10;\" d=\"M 100.09575 -26.338562 L 113.869187 -26.338562 L 113.869187 26.337219 L 100.09575 26.337219 Z M 100.09575 -26.338562 \" transform=\"matrix(1,0,0,-1,0.498,26.638)\"/>\n",
       "</g>\n",
       "<g style=\"fill:rgb(0%,0%,0%);fill-opacity:1;\">\n",
       "  <use xlink:href=\"#glyph-1574382228198367-1-1\" x=\"104.49\" y=\"29.419\"/>\n",
       "</g>\n",
       "<path style=\"fill:none;stroke-width:0.3985;stroke-linecap:butt;stroke-linejoin:miter;stroke:rgb(0%,0%,0%);stroke-opacity:1;stroke-miterlimit:10;\" d=\"M 64.349656 14.930969 C 78.212937 14.930969 86.03325 14.634094 99.896531 14.634094 \" transform=\"matrix(1,0,0,-1,0.498,26.638)\"/>\n",
       "<path style=\"fill:none;stroke-width:0.3985;stroke-linecap:butt;stroke-linejoin:miter;stroke:rgb(0%,0%,0%);stroke-opacity:1;stroke-miterlimit:10;\" d=\"M 76.28325 -14.733094 C 85.490281 -14.733094 90.6895 -14.631531 99.896531 -14.631531 \" transform=\"matrix(1,0,0,-1,0.498,26.638)\"/>\n",
       "<g clip-path=\"url(#clip-1574382228198367-3)\" clip-rule=\"nonzero\">\n",
       "<path style=\"fill:none;stroke-width:0.3985;stroke-linecap:butt;stroke-linejoin:miter;stroke:rgb(0%,0%,0%);stroke-opacity:1;stroke-miterlimit:10;\" d=\"M 114.068406 0.00128125 C 123.47075 0.00128125 128.775438 0.00128125 138.177781 0.00128125 \" transform=\"matrix(1,0,0,-1,0.498,26.638)\"/>\n",
       "</g>\n",
       "</g>\n",
       "</svg>\n",
       "\n"
      ]
     },
     "metadata": {},
     "execution_count": 15
    }
   ],
   "cell_type": "code",
   "source": [
    "to_tikz(f)"
   ],
   "metadata": {},
   "execution_count": 15
  },
  {
   "outputs": [
    {
     "output_type": "execute_result",
     "data": {
      "text/plain": "(:(function (x,)\n      v1 = cos.(x)\n      v2 = (*).(x, v1)\n      return v2\n  end), Symbol[])"
     },
     "metadata": {},
     "execution_count": 16
    }
   ],
   "cell_type": "code",
   "source": [
    "compile_expr(f; args=[:x])"
   ],
   "metadata": {},
   "execution_count": 16
  },
  {
   "outputs": [
    {
     "output_type": "execute_result",
     "data": {
      "text/plain": "Formula(:*, :x, Formula(:cos, :x))",
      "text/latex": "$x \\cos\\left(x\\right)$"
     },
     "metadata": {},
     "execution_count": 17
    }
   ],
   "cell_type": "code",
   "source": [
    "to_formula(f, [:x])"
   ],
   "metadata": {},
   "execution_count": 17
  }
 ],
 "nbformat_minor": 3,
 "metadata": {
  "language_info": {
   "file_extension": ".jl",
   "mimetype": "application/julia",
   "name": "julia",
   "version": "1.2.0"
  },
  "kernelspec": {
   "name": "julia-1.2",
   "display_name": "Julia 1.2.0",
   "language": "julia"
  }
 },
 "nbformat": 4
}
