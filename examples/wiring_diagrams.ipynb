{
 "cells": [
  {
   "cell_type": "markdown",
   "metadata": {},
   "source": [
    "# Wiring diagrams"
   ]
  },
  {
   "cell_type": "code",
   "execution_count": 10,
   "metadata": {
    "collapsed": false
   },
   "outputs": [],
   "source": [
    "using CompCat.Syntax\n",
    "using CompCat.Diagram.Wiring\n",
    "using CompCat.Diagram.Interactive"
   ]
  },
  {
   "cell_type": "code",
   "execution_count": 2,
   "metadata": {
    "collapsed": false
   },
   "outputs": [],
   "source": [
    "A = ob_expr(:A)\n",
    "B = ob_expr(:B)\n",
    "f = mor_expr(:f, A, B)\n",
    "g = mor_expr(:g, B, A)\n",
    "h = mor_expr(:h, otimes(A,B), otimes(A,B))\n",
    "\n",
    "diagram(f; kwargs...) = diagram_tikz(f; wire_labels=false, kwargs...);"
   ]
  },
  {
   "cell_type": "code",
   "execution_count": 3,
   "metadata": {
    "collapsed": false
   },
   "outputs": [
    {
     "data": {
      "image/svg+xml": [
       "<?xml version=\"1.0\" encoding=\"UTF-8\"?>\n",
       "<svg xmlns=\"http://www.w3.org/2000/svg\" xmlns:xlink=\"http://www.w3.org/1999/xlink\" width=\"64.456pt\" height=\"23.81pt\" viewBox=\"0 0 64.456 23.81\" version=\"1.1\">\n",
       "<defs>\n",
       "<g>\n",
       "<symbol overflow=\"visible\" id=\"glyph-1486170282873630-0-0\">\n",
       "<path style=\"stroke:none;\" d=\"\"/>\n",
       "</symbol>\n",
       "<symbol overflow=\"visible\" id=\"glyph-1486170282873630-0-1\">\n",
       "<path style=\"stroke:none;\" d=\"M 5.328125 -4.8125 C 5.5625 -4.8125 5.671875 -4.8125 5.671875 -5.03125 C 5.671875 -5.15625 5.5625 -5.15625 5.359375 -5.15625 L 4.390625 -5.15625 C 4.609375 -6.390625 4.78125 -7.234375 4.875 -7.609375 C 4.953125 -7.90625 5.203125 -8.171875 5.515625 -8.171875 C 5.765625 -8.171875 6.015625 -8.0625 6.125 -7.953125 C 5.671875 -7.90625 5.515625 -7.5625 5.515625 -7.359375 C 5.515625 -7.125 5.703125 -6.984375 5.921875 -6.984375 C 6.171875 -6.984375 6.53125 -7.1875 6.53125 -7.640625 C 6.53125 -8.140625 6.03125 -8.421875 5.5 -8.421875 C 4.984375 -8.421875 4.484375 -8.03125 4.25 -7.5625 C 4.03125 -7.140625 3.90625 -6.71875 3.640625 -5.15625 L 2.828125 -5.15625 C 2.609375 -5.15625 2.484375 -5.15625 2.484375 -4.9375 C 2.484375 -4.8125 2.5625 -4.8125 2.796875 -4.8125 L 3.5625 -4.8125 C 3.34375 -3.6875 2.859375 -0.984375 2.578125 0.28125 C 2.375 1.328125 2.203125 2.203125 1.609375 2.203125 C 1.5625 2.203125 1.21875 2.203125 1 1.96875 C 1.609375 1.921875 1.609375 1.40625 1.609375 1.390625 C 1.609375 1.140625 1.4375 1 1.203125 1 C 0.96875 1 0.609375 1.203125 0.609375 1.65625 C 0.609375 2.171875 1.140625 2.4375 1.609375 2.4375 C 2.828125 2.4375 3.328125 0.25 3.453125 -0.34375 C 3.671875 -1.265625 4.25 -4.453125 4.3125 -4.8125 Z M 5.328125 -4.8125 \"/>\n",
       "</symbol>\n",
       "<symbol overflow=\"visible\" id=\"glyph-1486170282873630-0-2\">\n",
       "<path style=\"stroke:none;\" d=\"M 2.03125 -1.328125 C 1.609375 -0.625 1.203125 -0.375 0.640625 -0.34375 C 0.5 -0.328125 0.40625 -0.328125 0.40625 -0.125 C 0.40625 -0.046875 0.46875 0 0.546875 0 C 0.765625 0 1.296875 -0.03125 1.515625 -0.03125 C 1.859375 -0.03125 2.25 0 2.578125 0 C 2.65625 0 2.796875 0 2.796875 -0.234375 C 2.796875 -0.328125 2.703125 -0.34375 2.625 -0.34375 C 2.359375 -0.375 2.125 -0.46875 2.125 -0.75 C 2.125 -0.921875 2.203125 -1.046875 2.359375 -1.3125 L 3.265625 -2.828125 L 6.3125 -2.828125 C 6.328125 -2.71875 6.328125 -2.625 6.328125 -2.515625 C 6.375 -2.203125 6.515625 -0.953125 6.515625 -0.734375 C 6.515625 -0.375 5.90625 -0.34375 5.71875 -0.34375 C 5.578125 -0.34375 5.453125 -0.34375 5.453125 -0.125 C 5.453125 0 5.5625 0 5.625 0 C 5.828125 0 6.078125 -0.03125 6.28125 -0.03125 L 6.953125 -0.03125 C 7.6875 -0.03125 8.21875 0 8.21875 0 C 8.3125 0 8.4375 0 8.4375 -0.234375 C 8.4375 -0.34375 8.328125 -0.34375 8.15625 -0.34375 C 7.5 -0.34375 7.484375 -0.453125 7.453125 -0.8125 L 6.71875 -8.265625 C 6.6875 -8.515625 6.640625 -8.53125 6.515625 -8.53125 C 6.390625 -8.53125 6.328125 -8.515625 6.21875 -8.328125 Z M 3.46875 -3.171875 L 5.875 -7.1875 L 6.28125 -3.171875 Z M 3.46875 -3.171875 \"/>\n",
       "</symbol>\n",
       "<symbol overflow=\"visible\" id=\"glyph-1486170282873630-0-3\">\n",
       "<path style=\"stroke:none;\" d=\"M 4.375 -7.34375 C 4.484375 -7.796875 4.53125 -7.8125 5 -7.8125 L 6.546875 -7.8125 C 7.90625 -7.8125 7.90625 -6.671875 7.90625 -6.5625 C 7.90625 -5.59375 6.9375 -4.359375 5.359375 -4.359375 L 3.640625 -4.359375 Z M 6.390625 -4.265625 C 7.703125 -4.5 8.875 -5.421875 8.875 -6.515625 C 8.875 -7.453125 8.0625 -8.15625 6.703125 -8.15625 L 2.875 -8.15625 C 2.640625 -8.15625 2.53125 -8.15625 2.53125 -7.9375 C 2.53125 -7.8125 2.640625 -7.8125 2.828125 -7.8125 C 3.546875 -7.8125 3.546875 -7.71875 3.546875 -7.59375 C 3.546875 -7.5625 3.546875 -7.5 3.5 -7.3125 L 1.890625 -0.890625 C 1.78125 -0.46875 1.75 -0.34375 0.921875 -0.34375 C 0.6875 -0.34375 0.578125 -0.34375 0.578125 -0.125 C 0.578125 0 0.640625 0 0.890625 0 L 4.984375 0 C 6.8125 0 8.21875 -1.390625 8.21875 -2.59375 C 8.21875 -3.578125 7.359375 -4.171875 6.390625 -4.265625 Z M 4.703125 -0.34375 L 3.078125 -0.34375 C 2.921875 -0.34375 2.890625 -0.34375 2.828125 -0.359375 C 2.6875 -0.375 2.671875 -0.390625 2.671875 -0.484375 C 2.671875 -0.578125 2.703125 -0.640625 2.71875 -0.75 L 3.5625 -4.125 L 5.8125 -4.125 C 7.21875 -4.125 7.21875 -2.8125 7.21875 -2.71875 C 7.21875 -1.5625 6.1875 -0.34375 4.703125 -0.34375 Z M 4.703125 -0.34375 \"/>\n",
       "</symbol>\n",
       "</g>\n",
       "<clipPath id=\"clip-1486170282873630-1\">\n",
       "  <path d=\"M 19 0 L 46 0 L 46 23.808594 L 19 23.808594 Z M 19 0 \"/>\n",
       "</clipPath>\n",
       "<clipPath id=\"clip-1486170282873630-2\">\n",
       "  <path d=\"M 34 6 L 64.457031 6 L 64.457031 18 L 34 18 Z M 34 6 \"/>\n",
       "</clipPath>\n",
       "</defs>\n",
       "<g id=\"surface1\">\n",
       "<g clip-path=\"url(#clip-1486170282873630-1)\" clip-rule=\"nonzero\">\n",
       "<path style=\"fill:none;stroke-width:0.3985;stroke-linecap:butt;stroke-linejoin:miter;stroke:rgb(0%,0%,0%);stroke-opacity:1;stroke-miterlimit:10;\" d=\"M 35.166063 11.705781 L 28.294969 11.705781 C 26.091844 11.705781 24.310594 9.920625 24.310594 7.721406 L 24.310594 -7.72 C 24.310594 -9.923125 26.091844 -11.704375 28.294969 -11.704375 L 35.166063 -11.704375 C 37.369188 -11.704375 39.150438 -9.923125 39.150438 -7.72 L 39.150438 7.721406 C 39.150438 9.920625 37.369188 11.705781 35.166063 11.705781 Z M 35.166063 11.705781 \" transform=\"matrix(1,0,0,-1,0.498,11.905)\"/>\n",
       "</g>\n",
       "<g style=\"fill:rgb(0%,0%,0%);fill-opacity:1;\">\n",
       "  <use xlink:href=\"#glyph-1486170282873630-0-1\" x=\"28.705\" y=\"14.894\"/>\n",
       "</g>\n",
       "<path style=\"fill:none;stroke-width:0.3985;stroke-linecap:butt;stroke-linejoin:miter;stroke:rgb(0%,0%,0%);stroke-opacity:1;stroke-miterlimit:10;\" d=\"M -0.00190625 -0.00125 C 9.400438 -0.00125 14.709031 -0.00125 24.111375 -0.00125 \" transform=\"matrix(1,0,0,-1,0.498,11.905)\"/>\n",
       "<path style=\"fill-rule:nonzero;fill:rgb(0%,0%,0%);fill-opacity:1;stroke-width:0.3985;stroke-linecap:butt;stroke-linejoin:miter;stroke:rgb(0%,0%,0%);stroke-opacity:1;stroke-miterlimit:10;\" d=\"M 4.214055 -0.00125 L 0.643742 1.346406 L 1.819524 -0.00125 L 0.643742 -1.345 Z M 4.214055 -0.00125 \" transform=\"matrix(1,0,0,-1,7.77032,11.905)\"/>\n",
       "<g style=\"fill:rgb(0%,0%,0%);fill-opacity:1;\">\n",
       "  <use xlink:href=\"#glyph-1486170282873630-0-2\" x=\"8.165\" y=\"8.779\"/>\n",
       "</g>\n",
       "<g clip-path=\"url(#clip-1486170282873630-2)\" clip-rule=\"nonzero\">\n",
       "<path style=\"fill:none;stroke-width:0.3985;stroke-linecap:butt;stroke-linejoin:miter;stroke:rgb(0%,0%,0%);stroke-opacity:1;stroke-miterlimit:10;\" d=\"M 39.349656 -0.00125 C 48.752 -0.00125 54.056688 -0.00125 63.459031 -0.00125 \" transform=\"matrix(1,0,0,-1,0.498,11.905)\"/>\n",
       "</g>\n",
       "<path style=\"fill-rule:nonzero;fill:rgb(0%,0%,0%);fill-opacity:1;stroke-width:0.3985;stroke-linecap:butt;stroke-linejoin:miter;stroke:rgb(0%,0%,0%);stroke-opacity:1;stroke-miterlimit:10;\" d=\"M 4.214837 -0.00125 L 0.644525 1.346406 L 1.8164 -0.00125 L 0.644525 -1.345 Z M 4.214837 -0.00125 \" transform=\"matrix(1,0,0,-1,47.1211,11.905)\"/>\n",
       "<g style=\"fill:rgb(0%,0%,0%);fill-opacity:1;\">\n",
       "  <use xlink:href=\"#glyph-1486170282873630-0-3\" x=\"47.155\" y=\"8.779\"/>\n",
       "</g>\n",
       "</g>\n",
       "</svg>\n",
       "\n"
      ],
      "text/plain": [
       "CompCat.Diagram.TikZ.Picture(CompCat.Diagram.TikZ.Statement[CompCat.Diagram.TikZ.Node(\"n\",CompCat.Diagram.TikZ.Property[CompCat.Diagram.TikZ.Property(\"container\",#NULL)],#NULL,CompCat.Diagram.TikZ.Picture(CompCat.Diagram.TikZ.Statement[CompCat.Diagram.TikZ.Node(\"n1\",CompCat.Diagram.TikZ.Property[CompCat.Diagram.TikZ.Property(\"minimum height\",\"2.0em\")],#NULL,\"\"),CompCat.Diagram.TikZ.Node(\"n2\",CompCat.Diagram.TikZ.Property[CompCat.Diagram.TikZ.Property(\"generator\",#NULL),CompCat.Diagram.TikZ.Property(\"minimum height\",\"2.0em\"),CompCat.Diagram.TikZ.Property(\"right=2em of n1)\",#NULL)],#NULL,\"f\"),CompCat.Diagram.TikZ.Edge(\"n1.center\",\"n2.west\",CompCat.Diagram.TikZ.PathOperation(\"to\",CompCat.Diagram.TikZ.Property[]),CompCat.Diagram.TikZ.Property[CompCat.Diagram.TikZ.Property(\"postaction\",\"{decorate}\")],CompCat.Diagram.TikZ.EdgeNode(CompCat.Diagram.TikZ.Property[CompCat.Diagram.TikZ.Property(\"above\",\"0.25em\"),CompCat.Diagram.TikZ.Property(\"midway\",#NULL)],\"A\")),CompCat.Diagram.TikZ.Node(\"n3\",CompCat.Diagram.TikZ.Property[CompCat.Diagram.TikZ.Property(\"minimum height\",\"2.0em\"),CompCat.Diagram.TikZ.Property(\"right=2em of n2)\",#NULL)],#NULL,\"\"),CompCat.Diagram.TikZ.Edge(\"n2.east\",\"n3.center\",CompCat.Diagram.TikZ.PathOperation(\"to\",CompCat.Diagram.TikZ.Property[]),CompCat.Diagram.TikZ.Property[CompCat.Diagram.TikZ.Property(\"postaction\",\"{decorate}\")],CompCat.Diagram.TikZ.EdgeNode(CompCat.Diagram.TikZ.Property[CompCat.Diagram.TikZ.Property(\"above\",\"0.25em\"),CompCat.Diagram.TikZ.Property(\"midway\",#NULL)],\"B\"))],CompCat.Diagram.TikZ.Property[]))],CompCat.Diagram.TikZ.Property[CompCat.Diagram.TikZ.Property(\"remember picture\",#NULL),CompCat.Diagram.TikZ.Property(\"font\",\"{\\\\fontsize{12}{14.4}}\"),CompCat.Diagram.TikZ.Property(\"generator/.style\",\"{draw,solid,rounded corners,inner sep=0.333em}\"),CompCat.Diagram.TikZ.Property(\"container/.style\",\"{inner sep=0}\"),CompCat.Diagram.TikZ.Property(\"every path/.style\",\"{solid}\"),CompCat.Diagram.TikZ.Property(\"every to/.style\",\"{out=0,in=180}\"),CompCat.Diagram.TikZ.Property(\"decoration\",\"{markings, mark=at position 0.5 with {\\\\arrow{Stealth}}}\"),CompCat.Diagram.TikZ.Property(\"execute at begin node\",\"\\$\"),CompCat.Diagram.TikZ.Property(\"execute at end node\",\"\\$\")])"
      ]
     },
     "execution_count": 3,
     "metadata": {},
     "output_type": "execute_result"
    }
   ],
   "source": [
    "diagram(f; wire_labels=true)"
   ]
  },
  {
   "cell_type": "code",
   "execution_count": 4,
   "metadata": {
    "collapsed": false
   },
   "outputs": [
    {
     "data": {
      "image/svg+xml": [
       "<?xml version=\"1.0\" encoding=\"UTF-8\"?>\n",
       "<svg xmlns=\"http://www.w3.org/2000/svg\" xmlns:xlink=\"http://www.w3.org/1999/xlink\" width=\"102.097pt\" height=\"23.81pt\" viewBox=\"0 0 102.097 23.81\" version=\"1.1\">\n",
       "<defs>\n",
       "<g>\n",
       "<symbol overflow=\"visible\" id=\"glyph-1486170282873631-0-0\">\n",
       "<path style=\"stroke:none;\" d=\"\"/>\n",
       "</symbol>\n",
       "<symbol overflow=\"visible\" id=\"glyph-1486170282873631-0-1\">\n",
       "<path style=\"stroke:none;\" d=\"M 5.328125 -4.8125 C 5.5625 -4.8125 5.671875 -4.8125 5.671875 -5.03125 C 5.671875 -5.15625 5.5625 -5.15625 5.359375 -5.15625 L 4.390625 -5.15625 C 4.609375 -6.390625 4.78125 -7.234375 4.875 -7.609375 C 4.953125 -7.90625 5.203125 -8.171875 5.515625 -8.171875 C 5.765625 -8.171875 6.015625 -8.0625 6.125 -7.953125 C 5.671875 -7.90625 5.515625 -7.5625 5.515625 -7.359375 C 5.515625 -7.125 5.703125 -6.984375 5.921875 -6.984375 C 6.171875 -6.984375 6.53125 -7.1875 6.53125 -7.640625 C 6.53125 -8.140625 6.03125 -8.421875 5.5 -8.421875 C 4.984375 -8.421875 4.484375 -8.03125 4.25 -7.5625 C 4.03125 -7.140625 3.90625 -6.71875 3.640625 -5.15625 L 2.828125 -5.15625 C 2.609375 -5.15625 2.484375 -5.15625 2.484375 -4.9375 C 2.484375 -4.8125 2.5625 -4.8125 2.796875 -4.8125 L 3.5625 -4.8125 C 3.34375 -3.6875 2.859375 -0.984375 2.578125 0.28125 C 2.375 1.328125 2.203125 2.203125 1.609375 2.203125 C 1.5625 2.203125 1.21875 2.203125 1 1.96875 C 1.609375 1.921875 1.609375 1.40625 1.609375 1.390625 C 1.609375 1.140625 1.4375 1 1.203125 1 C 0.96875 1 0.609375 1.203125 0.609375 1.65625 C 0.609375 2.171875 1.140625 2.4375 1.609375 2.4375 C 2.828125 2.4375 3.328125 0.25 3.453125 -0.34375 C 3.671875 -1.265625 4.25 -4.453125 4.3125 -4.8125 Z M 5.328125 -4.8125 \"/>\n",
       "</symbol>\n",
       "<symbol overflow=\"visible\" id=\"glyph-1486170282873631-0-2\">\n",
       "<path style=\"stroke:none;\" d=\"M 2.03125 -1.328125 C 1.609375 -0.625 1.203125 -0.375 0.640625 -0.34375 C 0.5 -0.328125 0.40625 -0.328125 0.40625 -0.125 C 0.40625 -0.046875 0.46875 0 0.546875 0 C 0.765625 0 1.296875 -0.03125 1.515625 -0.03125 C 1.859375 -0.03125 2.25 0 2.578125 0 C 2.65625 0 2.796875 0 2.796875 -0.234375 C 2.796875 -0.328125 2.703125 -0.34375 2.625 -0.34375 C 2.359375 -0.375 2.125 -0.46875 2.125 -0.75 C 2.125 -0.921875 2.203125 -1.046875 2.359375 -1.3125 L 3.265625 -2.828125 L 6.3125 -2.828125 C 6.328125 -2.71875 6.328125 -2.625 6.328125 -2.515625 C 6.375 -2.203125 6.515625 -0.953125 6.515625 -0.734375 C 6.515625 -0.375 5.90625 -0.34375 5.71875 -0.34375 C 5.578125 -0.34375 5.453125 -0.34375 5.453125 -0.125 C 5.453125 0 5.5625 0 5.625 0 C 5.828125 0 6.078125 -0.03125 6.28125 -0.03125 L 6.953125 -0.03125 C 7.6875 -0.03125 8.21875 0 8.21875 0 C 8.3125 0 8.4375 0 8.4375 -0.234375 C 8.4375 -0.34375 8.328125 -0.34375 8.15625 -0.34375 C 7.5 -0.34375 7.484375 -0.453125 7.453125 -0.8125 L 6.71875 -8.265625 C 6.6875 -8.515625 6.640625 -8.53125 6.515625 -8.53125 C 6.390625 -8.53125 6.328125 -8.515625 6.21875 -8.328125 Z M 3.46875 -3.171875 L 5.875 -7.1875 L 6.28125 -3.171875 Z M 3.46875 -3.171875 \"/>\n",
       "</symbol>\n",
       "<symbol overflow=\"visible\" id=\"glyph-1486170282873631-0-3\">\n",
       "<path style=\"stroke:none;\" d=\"M 4.046875 -1.515625 C 4 -1.328125 3.96875 -1.28125 3.8125 -1.09375 C 3.328125 -0.46875 2.828125 -0.234375 2.453125 -0.234375 C 2.0625 -0.234375 1.6875 -0.546875 1.6875 -1.375 C 1.6875 -2.015625 2.046875 -3.34375 2.3125 -3.890625 C 2.65625 -4.546875 3.1875 -5.03125 3.6875 -5.03125 C 4.484375 -5.03125 4.640625 -4.046875 4.640625 -3.984375 L 4.609375 -3.8125 Z M 4.78125 -4.484375 C 4.625 -4.828125 4.296875 -5.265625 3.6875 -5.265625 C 2.390625 -5.265625 0.90625 -3.640625 0.90625 -1.859375 C 0.90625 -0.609375 1.65625 0 2.421875 0 C 3.0625 0 3.625 -0.5 3.84375 -0.734375 L 3.578125 0.328125 C 3.40625 0.984375 3.328125 1.296875 2.90625 1.703125 C 2.421875 2.203125 1.953125 2.203125 1.703125 2.203125 C 1.34375 2.203125 1.046875 2.171875 0.734375 2.078125 C 1.125 1.96875 1.21875 1.640625 1.21875 1.5 C 1.21875 1.3125 1.078125 1.125 0.8125 1.125 C 0.53125 1.125 0.21875 1.359375 0.21875 1.75 C 0.21875 2.25 0.703125 2.4375 1.71875 2.4375 C 3.265625 2.4375 4.0625 1.453125 4.21875 0.796875 L 5.546875 -4.546875 C 5.578125 -4.703125 5.578125 -4.71875 5.578125 -4.75 C 5.578125 -4.90625 5.453125 -5.046875 5.265625 -5.046875 C 4.984375 -5.046875 4.8125 -4.8125 4.78125 -4.484375 Z M 4.78125 -4.484375 \"/>\n",
       "</symbol>\n",
       "<symbol overflow=\"visible\" id=\"glyph-1486170282873631-0-4\">\n",
       "<path style=\"stroke:none;\" d=\"M 4.375 -7.34375 C 4.484375 -7.796875 4.53125 -7.8125 5 -7.8125 L 6.546875 -7.8125 C 7.90625 -7.8125 7.90625 -6.671875 7.90625 -6.5625 C 7.90625 -5.59375 6.9375 -4.359375 5.359375 -4.359375 L 3.640625 -4.359375 Z M 6.390625 -4.265625 C 7.703125 -4.5 8.875 -5.421875 8.875 -6.515625 C 8.875 -7.453125 8.0625 -8.15625 6.703125 -8.15625 L 2.875 -8.15625 C 2.640625 -8.15625 2.53125 -8.15625 2.53125 -7.9375 C 2.53125 -7.8125 2.640625 -7.8125 2.828125 -7.8125 C 3.546875 -7.8125 3.546875 -7.71875 3.546875 -7.59375 C 3.546875 -7.5625 3.546875 -7.5 3.5 -7.3125 L 1.890625 -0.890625 C 1.78125 -0.46875 1.75 -0.34375 0.921875 -0.34375 C 0.6875 -0.34375 0.578125 -0.34375 0.578125 -0.125 C 0.578125 0 0.640625 0 0.890625 0 L 4.984375 0 C 6.8125 0 8.21875 -1.390625 8.21875 -2.59375 C 8.21875 -3.578125 7.359375 -4.171875 6.390625 -4.265625 Z M 4.703125 -0.34375 L 3.078125 -0.34375 C 2.921875 -0.34375 2.890625 -0.34375 2.828125 -0.359375 C 2.6875 -0.375 2.671875 -0.390625 2.671875 -0.484375 C 2.671875 -0.578125 2.703125 -0.640625 2.71875 -0.75 L 3.5625 -4.125 L 5.8125 -4.125 C 7.21875 -4.125 7.21875 -2.8125 7.21875 -2.71875 C 7.21875 -1.5625 6.1875 -0.34375 4.703125 -0.34375 Z M 4.703125 -0.34375 \"/>\n",
       "</symbol>\n",
       "</g>\n",
       "<clipPath id=\"clip-1486170282873631-1\">\n",
       "  <path d=\"M 19 0 L 46 0 L 46 23.808594 L 19 23.808594 Z M 19 0 \"/>\n",
       "</clipPath>\n",
       "<clipPath id=\"clip-1486170282873631-2\">\n",
       "  <path d=\"M 57 0 L 83 0 L 83 23.808594 L 57 23.808594 Z M 57 0 \"/>\n",
       "</clipPath>\n",
       "<clipPath id=\"clip-1486170282873631-3\">\n",
       "  <path d=\"M 71 6 L 102.097656 6 L 102.097656 18 L 71 18 Z M 71 6 \"/>\n",
       "</clipPath>\n",
       "</defs>\n",
       "<g id=\"surface1\">\n",
       "<g clip-path=\"url(#clip-1486170282873631-1)\" clip-rule=\"nonzero\">\n",
       "<path style=\"fill:none;stroke-width:0.3985;stroke-linecap:butt;stroke-linejoin:miter;stroke:rgb(0%,0%,0%);stroke-opacity:1;stroke-miterlimit:10;\" d=\"M 35.166063 11.705781 L 28.294969 11.705781 C 26.091844 11.705781 24.310594 9.920625 24.310594 7.721406 L 24.310594 -7.72 C 24.310594 -9.923125 26.091844 -11.704375 28.294969 -11.704375 L 35.166063 -11.704375 C 37.369188 -11.704375 39.150438 -9.923125 39.150438 -7.72 L 39.150438 7.721406 C 39.150438 9.920625 37.369188 11.705781 35.166063 11.705781 Z M 35.166063 11.705781 \" transform=\"matrix(1,0,0,-1,0.498,11.905)\"/>\n",
       "</g>\n",
       "<g style=\"fill:rgb(0%,0%,0%);fill-opacity:1;\">\n",
       "  <use xlink:href=\"#glyph-1486170282873631-0-1\" x=\"28.705\" y=\"14.894\"/>\n",
       "</g>\n",
       "<path style=\"fill:none;stroke-width:0.3985;stroke-linecap:butt;stroke-linejoin:miter;stroke:rgb(0%,0%,0%);stroke-opacity:1;stroke-miterlimit:10;\" d=\"M -0.00190625 -0.00125 C 9.400438 -0.00125 14.709031 -0.00125 24.111375 -0.00125 \" transform=\"matrix(1,0,0,-1,0.498,11.905)\"/>\n",
       "<path style=\"fill-rule:nonzero;fill:rgb(0%,0%,0%);fill-opacity:1;stroke-width:0.3985;stroke-linecap:butt;stroke-linejoin:miter;stroke:rgb(0%,0%,0%);stroke-opacity:1;stroke-miterlimit:10;\" d=\"M 4.214055 -0.00125 L 0.643742 1.346406 L 1.819524 -0.00125 L 0.643742 -1.345 Z M 4.214055 -0.00125 \" transform=\"matrix(1,0,0,-1,7.77032,11.905)\"/>\n",
       "<g style=\"fill:rgb(0%,0%,0%);fill-opacity:1;\">\n",
       "  <use xlink:href=\"#glyph-1486170282873631-0-2\" x=\"8.165\" y=\"8.779\"/>\n",
       "</g>\n",
       "<g clip-path=\"url(#clip-1486170282873631-2)\" clip-rule=\"nonzero\">\n",
       "<path style=\"fill:none;stroke-width:0.3985;stroke-linecap:butt;stroke-linejoin:miter;stroke:rgb(0%,0%,0%);stroke-opacity:1;stroke-miterlimit:10;\" d=\"M 72.806687 11.705781 L 66.947312 11.705781 C 64.748094 11.705781 62.962938 9.920625 62.962938 7.721406 L 62.962938 -7.72 C 62.962938 -9.923125 64.748094 -11.704375 66.947312 -11.704375 L 72.806687 -11.704375 C 75.009812 -11.704375 76.791062 -9.923125 76.791062 -7.72 L 76.791062 7.721406 C 76.791062 9.920625 75.009812 11.705781 72.806687 11.705781 Z M 72.806687 11.705781 \" transform=\"matrix(1,0,0,-1,0.498,11.905)\"/>\n",
       "</g>\n",
       "<g style=\"fill:rgb(0%,0%,0%);fill-opacity:1;\">\n",
       "  <use xlink:href=\"#glyph-1486170282873631-0-3\" x=\"67.358\" y=\"13.316\"/>\n",
       "</g>\n",
       "<path style=\"fill:none;stroke-width:0.3985;stroke-linecap:butt;stroke-linejoin:miter;stroke:rgb(0%,0%,0%);stroke-opacity:1;stroke-miterlimit:10;\" d=\"M 39.349656 -0.00125 C 48.482469 -0.00125 53.634813 -0.00125 62.763719 -0.00125 \" transform=\"matrix(1,0,0,-1,0.498,11.905)\"/>\n",
       "<path style=\"fill-rule:nonzero;fill:rgb(0%,0%,0%);fill-opacity:1;stroke-width:0.3985;stroke-linecap:butt;stroke-linejoin:miter;stroke:rgb(0%,0%,0%);stroke-opacity:1;stroke-miterlimit:10;\" d=\"M 4.215871 -0.00125 L 0.641652 1.346406 L 1.817434 -0.00125 L 0.641652 -1.345 Z M 4.215871 -0.00125 \" transform=\"matrix(1,0,0,-1,46.77241,11.905)\"/>\n",
       "<g style=\"fill:rgb(0%,0%,0%);fill-opacity:1;\">\n",
       "  <use xlink:href=\"#glyph-1486170282873631-0-4\" x=\"46.806\" y=\"8.779\"/>\n",
       "</g>\n",
       "<g clip-path=\"url(#clip-1486170282873631-3)\" clip-rule=\"nonzero\">\n",
       "<path style=\"fill:none;stroke-width:0.3985;stroke-linecap:butt;stroke-linejoin:miter;stroke:rgb(0%,0%,0%);stroke-opacity:1;stroke-miterlimit:10;\" d=\"M 76.990281 -0.00125 C 86.392625 -0.00125 91.701219 -0.00125 101.103562 -0.00125 \" transform=\"matrix(1,0,0,-1,0.498,11.905)\"/>\n",
       "</g>\n",
       "<path style=\"fill-rule:nonzero;fill:rgb(0%,0%,0%);fill-opacity:1;stroke-width:0.3985;stroke-linecap:butt;stroke-linejoin:miter;stroke:rgb(0%,0%,0%);stroke-opacity:1;stroke-miterlimit:10;\" d=\"M 4.214282 -0.00125 L 0.64397 1.346406 L 1.819751 -0.00125 L 0.64397 -1.345 Z M 4.214282 -0.00125 \" transform=\"matrix(1,0,0,-1,84.76228,11.905)\"/>\n",
       "<g style=\"fill:rgb(0%,0%,0%);fill-opacity:1;\">\n",
       "  <use xlink:href=\"#glyph-1486170282873631-0-2\" x=\"85.156\" y=\"8.779\"/>\n",
       "</g>\n",
       "</g>\n",
       "</svg>\n",
       "\n"
      ],
      "text/plain": [
       "CompCat.Diagram.TikZ.Picture(CompCat.Diagram.TikZ.Statement[CompCat.Diagram.TikZ.Node(\"n\",CompCat.Diagram.TikZ.Property[CompCat.Diagram.TikZ.Property(\"container\",#NULL)],#NULL,CompCat.Diagram.TikZ.Picture(CompCat.Diagram.TikZ.Statement[CompCat.Diagram.TikZ.Node(\"n1\",CompCat.Diagram.TikZ.Property[CompCat.Diagram.TikZ.Property(\"minimum height\",\"2.0em\")],#NULL,\"\"),CompCat.Diagram.TikZ.Node(\"n2\",CompCat.Diagram.TikZ.Property[CompCat.Diagram.TikZ.Property(\"generator\",#NULL),CompCat.Diagram.TikZ.Property(\"minimum height\",\"2.0em\"),CompCat.Diagram.TikZ.Property(\"right=2em of n1)\",#NULL)],#NULL,\"f\"),CompCat.Diagram.TikZ.Edge(\"n1.center\",\"n2.west\",CompCat.Diagram.TikZ.PathOperation(\"to\",CompCat.Diagram.TikZ.Property[]),CompCat.Diagram.TikZ.Property[CompCat.Diagram.TikZ.Property(\"postaction\",\"{decorate}\")],CompCat.Diagram.TikZ.EdgeNode(CompCat.Diagram.TikZ.Property[CompCat.Diagram.TikZ.Property(\"above\",\"0.25em\"),CompCat.Diagram.TikZ.Property(\"midway\",#NULL)],\"A\")),CompCat.Diagram.TikZ.Node(\"n3\",CompCat.Diagram.TikZ.Property[CompCat.Diagram.TikZ.Property(\"generator\",#NULL),CompCat.Diagram.TikZ.Property(\"minimum height\",\"2.0em\"),CompCat.Diagram.TikZ.Property(\"right=2em of n2)\",#NULL)],#NULL,\"g\"),CompCat.Diagram.TikZ.Edge(\"n2.east\",\"n3.west\",CompCat.Diagram.TikZ.PathOperation(\"to\",CompCat.Diagram.TikZ.Property[]),CompCat.Diagram.TikZ.Property[CompCat.Diagram.TikZ.Property(\"postaction\",\"{decorate}\")],CompCat.Diagram.TikZ.EdgeNode(CompCat.Diagram.TikZ.Property[CompCat.Diagram.TikZ.Property(\"above\",\"0.25em\"),CompCat.Diagram.TikZ.Property(\"midway\",#NULL)],\"B\")),CompCat.Diagram.TikZ.Node(\"n4\",CompCat.Diagram.TikZ.Property[CompCat.Diagram.TikZ.Property(\"minimum height\",\"2.0em\"),CompCat.Diagram.TikZ.Property(\"right=2em of n3)\",#NULL)],#NULL,\"\"),CompCat.Diagram.TikZ.Edge(\"n3.east\",\"n4.center\",CompCat.Diagram.TikZ.PathOperation(\"to\",CompCat.Diagram.TikZ.Property[]),CompCat.Diagram.TikZ.Property[CompCat.Diagram.TikZ.Property(\"postaction\",\"{decorate}\")],CompCat.Diagram.TikZ.EdgeNode(CompCat.Diagram.TikZ.Property[CompCat.Diagram.TikZ.Property(\"above\",\"0.25em\"),CompCat.Diagram.TikZ.Property(\"midway\",#NULL)],\"A\"))],CompCat.Diagram.TikZ.Property[]))],CompCat.Diagram.TikZ.Property[CompCat.Diagram.TikZ.Property(\"remember picture\",#NULL),CompCat.Diagram.TikZ.Property(\"font\",\"{\\\\fontsize{12}{14.4}}\"),CompCat.Diagram.TikZ.Property(\"generator/.style\",\"{draw,solid,rounded corners,inner sep=0.333em}\"),CompCat.Diagram.TikZ.Property(\"container/.style\",\"{inner sep=0}\"),CompCat.Diagram.TikZ.Property(\"every path/.style\",\"{solid}\"),CompCat.Diagram.TikZ.Property(\"every to/.style\",\"{out=0,in=180}\"),CompCat.Diagram.TikZ.Property(\"decoration\",\"{markings, mark=at position 0.5 with {\\\\arrow{Stealth}}}\"),CompCat.Diagram.TikZ.Property(\"execute at begin node\",\"\\$\"),CompCat.Diagram.TikZ.Property(\"execute at end node\",\"\\$\")])"
      ]
     },
     "execution_count": 4,
     "metadata": {},
     "output_type": "execute_result"
    }
   ],
   "source": [
    "diagram(compose(f,g); wire_labels=true)"
   ]
  },
  {
   "cell_type": "code",
   "execution_count": 5,
   "metadata": {
    "collapsed": false
   },
   "outputs": [
    {
     "data": {
      "text/latex": [
       "$\\left(g \\otimes f\\right) h \\left(f \\otimes g\\right)$"
      ],
      "text/plain": [
       "CompCat.Syntax.MorExpr(:compose,CompCat.Syntax.MorExpr[CompCat.Syntax.MorExpr(:otimes,CompCat.Syntax.MorExpr[CompCat.Syntax.MorExpr(:gen,Any[:g,CompCat.Syntax.ObExpr(:gen,Symbol[:B]),CompCat.Syntax.ObExpr(:gen,Symbol[:A])]),CompCat.Syntax.MorExpr(:gen,Any[:f,CompCat.Syntax.ObExpr(:gen,Symbol[:A]),CompCat.Syntax.ObExpr(:gen,Symbol[:B])])]),CompCat.Syntax.MorExpr(:gen,Any[:h,CompCat.Syntax.ObExpr(:otimes,CompCat.Syntax.ObExpr[CompCat.Syntax.ObExpr(:gen,Symbol[:A]),CompCat.Syntax.ObExpr(:gen,Symbol[:B])]),CompCat.Syntax.ObExpr(:otimes,CompCat.Syntax.ObExpr[CompCat.Syntax.ObExpr(:gen,Symbol[:A]),CompCat.Syntax.ObExpr(:gen,Symbol[:B])])]),CompCat.Syntax.MorExpr(:otimes,CompCat.Syntax.MorExpr[CompCat.Syntax.MorExpr(:gen,Any[:f,CompCat.Syntax.ObExpr(:gen,Symbol[:A]),CompCat.Syntax.ObExpr(:gen,Symbol[:B])]),CompCat.Syntax.MorExpr(:gen,Any[:g,CompCat.Syntax.ObExpr(:gen,Symbol[:B]),CompCat.Syntax.ObExpr(:gen,Symbol[:A])])])])"
      ]
     },
     "execution_count": 5,
     "metadata": {},
     "output_type": "execute_result"
    }
   ],
   "source": [
    "comp1 = compose(otimes(g,f), h, otimes(f,g))"
   ]
  },
  {
   "cell_type": "code",
   "execution_count": 6,
   "metadata": {
    "collapsed": false
   },
   "outputs": [
    {
     "data": {
      "image/svg+xml": [
       "<?xml version=\"1.0\" encoding=\"UTF-8\"?>\n",
       "<svg xmlns=\"http://www.w3.org/2000/svg\" xmlns:xlink=\"http://www.w3.org/1999/xlink\" width=\"142.251pt\" height=\"53.474pt\" viewBox=\"0 0 142.251 53.474\" version=\"1.1\">\n",
       "<defs>\n",
       "<g>\n",
       "<symbol overflow=\"visible\" id=\"glyph-1486170282873632-0-0\">\n",
       "<path style=\"stroke:none;\" d=\"\"/>\n",
       "</symbol>\n",
       "<symbol overflow=\"visible\" id=\"glyph-1486170282873632-0-1\">\n",
       "<path style=\"stroke:none;\" d=\"M 4.046875 -1.515625 C 4 -1.328125 3.96875 -1.28125 3.8125 -1.09375 C 3.328125 -0.46875 2.828125 -0.234375 2.453125 -0.234375 C 2.0625 -0.234375 1.6875 -0.546875 1.6875 -1.375 C 1.6875 -2.015625 2.046875 -3.34375 2.3125 -3.890625 C 2.65625 -4.546875 3.1875 -5.03125 3.6875 -5.03125 C 4.484375 -5.03125 4.640625 -4.046875 4.640625 -3.984375 L 4.609375 -3.8125 Z M 4.78125 -4.484375 C 4.625 -4.828125 4.296875 -5.265625 3.6875 -5.265625 C 2.390625 -5.265625 0.90625 -3.640625 0.90625 -1.859375 C 0.90625 -0.609375 1.65625 0 2.421875 0 C 3.0625 0 3.625 -0.5 3.84375 -0.734375 L 3.578125 0.328125 C 3.40625 0.984375 3.328125 1.296875 2.90625 1.703125 C 2.421875 2.203125 1.953125 2.203125 1.703125 2.203125 C 1.34375 2.203125 1.046875 2.171875 0.734375 2.078125 C 1.125 1.96875 1.21875 1.640625 1.21875 1.5 C 1.21875 1.3125 1.078125 1.125 0.8125 1.125 C 0.53125 1.125 0.21875 1.359375 0.21875 1.75 C 0.21875 2.25 0.703125 2.4375 1.71875 2.4375 C 3.265625 2.4375 4.0625 1.453125 4.21875 0.796875 L 5.546875 -4.546875 C 5.578125 -4.703125 5.578125 -4.71875 5.578125 -4.75 C 5.578125 -4.90625 5.453125 -5.046875 5.265625 -5.046875 C 4.984375 -5.046875 4.8125 -4.8125 4.78125 -4.484375 Z M 4.78125 -4.484375 \"/>\n",
       "</symbol>\n",
       "<symbol overflow=\"visible\" id=\"glyph-1486170282873632-0-2\">\n",
       "<path style=\"stroke:none;\" d=\"M 5.328125 -4.8125 C 5.5625 -4.8125 5.671875 -4.8125 5.671875 -5.03125 C 5.671875 -5.15625 5.5625 -5.15625 5.359375 -5.15625 L 4.390625 -5.15625 C 4.609375 -6.390625 4.78125 -7.234375 4.875 -7.609375 C 4.953125 -7.90625 5.203125 -8.171875 5.515625 -8.171875 C 5.765625 -8.171875 6.015625 -8.0625 6.125 -7.953125 C 5.671875 -7.90625 5.515625 -7.5625 5.515625 -7.359375 C 5.515625 -7.125 5.703125 -6.984375 5.921875 -6.984375 C 6.171875 -6.984375 6.53125 -7.1875 6.53125 -7.640625 C 6.53125 -8.140625 6.03125 -8.421875 5.5 -8.421875 C 4.984375 -8.421875 4.484375 -8.03125 4.25 -7.5625 C 4.03125 -7.140625 3.90625 -6.71875 3.640625 -5.15625 L 2.828125 -5.15625 C 2.609375 -5.15625 2.484375 -5.15625 2.484375 -4.9375 C 2.484375 -4.8125 2.5625 -4.8125 2.796875 -4.8125 L 3.5625 -4.8125 C 3.34375 -3.6875 2.859375 -0.984375 2.578125 0.28125 C 2.375 1.328125 2.203125 2.203125 1.609375 2.203125 C 1.5625 2.203125 1.21875 2.203125 1 1.96875 C 1.609375 1.921875 1.609375 1.40625 1.609375 1.390625 C 1.609375 1.140625 1.4375 1 1.203125 1 C 0.96875 1 0.609375 1.203125 0.609375 1.65625 C 0.609375 2.171875 1.140625 2.4375 1.609375 2.4375 C 2.828125 2.4375 3.328125 0.25 3.453125 -0.34375 C 3.671875 -1.265625 4.25 -4.453125 4.3125 -4.8125 Z M 5.328125 -4.8125 \"/>\n",
       "</symbol>\n",
       "<symbol overflow=\"visible\" id=\"glyph-1486170282873632-0-3\">\n",
       "<path style=\"stroke:none;\" d=\"M 3.359375 -8 C 3.375 -8.046875 3.390625 -8.109375 3.390625 -8.171875 C 3.390625 -8.296875 3.28125 -8.296875 3.25 -8.296875 C 3.234375 -8.296875 2.65625 -8.25 2.59375 -8.234375 C 2.390625 -8.21875 2.21875 -8.203125 2 -8.1875 C 1.703125 -8.15625 1.609375 -8.15625 1.609375 -7.9375 C 1.609375 -7.8125 1.703125 -7.8125 1.875 -7.8125 C 2.46875 -7.8125 2.46875 -7.703125 2.46875 -7.59375 C 2.46875 -7.515625 2.453125 -7.421875 2.4375 -7.390625 L 0.703125 -0.46875 C 0.65625 -0.28125 0.65625 -0.265625 0.65625 -0.1875 C 0.65625 0.078125 0.859375 0.125 0.984375 0.125 C 1.1875 0.125 1.34375 -0.03125 1.40625 -0.171875 L 1.9375 -2.328125 C 2 -2.59375 2.0625 -2.84375 2.125 -3.109375 C 2.265625 -3.609375 2.265625 -3.625 2.484375 -3.96875 C 2.71875 -4.3125 3.25 -5.03125 4.171875 -5.03125 C 4.65625 -5.03125 4.8125 -4.671875 4.8125 -4.203125 C 4.8125 -3.53125 4.34375 -2.21875 4.09375 -1.5 C 3.984375 -1.21875 3.921875 -1.0625 3.921875 -0.84375 C 3.921875 -0.3125 4.296875 0.125 4.859375 0.125 C 5.96875 0.125 6.390625 -1.640625 6.390625 -1.703125 C 6.390625 -1.765625 6.34375 -1.8125 6.28125 -1.8125 C 6.171875 -1.8125 6.15625 -1.78125 6.09375 -1.578125 C 5.828125 -0.625 5.375 -0.125 4.90625 -0.125 C 4.78125 -0.125 4.59375 -0.125 4.59375 -0.515625 C 4.59375 -0.828125 4.734375 -1.203125 4.78125 -1.34375 C 5 -1.90625 5.53125 -3.328125 5.53125 -4.015625 C 5.53125 -4.734375 5.109375 -5.265625 4.203125 -5.265625 C 3.53125 -5.265625 2.921875 -4.953125 2.4375 -4.328125 Z M 3.359375 -8 \"/>\n",
       "</symbol>\n",
       "</g>\n",
       "<clipPath id=\"clip-1486170282873632-1\">\n",
       "  <path d=\"M 19 24 L 46 24 L 46 53.472656 L 19 53.472656 Z M 19 24 \"/>\n",
       "</clipPath>\n",
       "<clipPath id=\"clip-1486170282873632-2\">\n",
       "  <path d=\"M 58 0 L 85 0 L 85 53.472656 L 58 53.472656 Z M 58 0 \"/>\n",
       "</clipPath>\n",
       "<clipPath id=\"clip-1486170282873632-3\">\n",
       "  <path d=\"M 97 24 L 123 24 L 123 53.472656 L 97 53.472656 Z M 97 24 \"/>\n",
       "</clipPath>\n",
       "<clipPath id=\"clip-1486170282873632-4\">\n",
       "  <path d=\"M 111 6 L 142.25 6 L 142.25 18 L 111 18 Z M 111 6 \"/>\n",
       "</clipPath>\n",
       "<clipPath id=\"clip-1486170282873632-5\">\n",
       "  <path d=\"M 111 35 L 142.25 35 L 142.25 48 L 111 48 Z M 111 35 \"/>\n",
       "</clipPath>\n",
       "</defs>\n",
       "<g id=\"surface1\">\n",
       "<path style=\"fill:none;stroke-width:0.3985;stroke-linecap:butt;stroke-linejoin:miter;stroke:rgb(0%,0%,0%);stroke-opacity:1;stroke-miterlimit:10;\" d=\"M 10.046375 11.705781 L 4.183094 11.705781 C 1.983875 11.705781 0.198719 9.920625 0.198719 7.721406 L 0.198719 -7.72 C 0.198719 -9.923125 1.983875 -11.704375 4.183094 -11.704375 L 10.046375 -11.704375 C 12.245594 -11.704375 14.03075 -9.923125 14.03075 -7.72 L 14.03075 7.721406 C 14.03075 9.920625 12.245594 11.705781 10.046375 11.705781 Z M 10.046375 11.705781 \" transform=\"matrix(1,0,0,-1,25.313,11.905)\"/>\n",
       "<g style=\"fill:rgb(0%,0%,0%);fill-opacity:1;\">\n",
       "  <use xlink:href=\"#glyph-1486170282873632-0-1\" x=\"29.41\" y=\"13.317\"/>\n",
       "</g>\n",
       "<g clip-path=\"url(#clip-1486170282873632-1)\" clip-rule=\"nonzero\">\n",
       "<path style=\"fill:none;stroke-width:0.3985;stroke-linecap:butt;stroke-linejoin:miter;stroke:rgb(0%,0%,0%);stroke-opacity:1;stroke-miterlimit:10;\" d=\"M 10.550281 -17.958281 L 3.679187 -17.958281 C 1.476062 -17.958281 -0.305188 -19.743438 -0.305188 -21.942656 L -0.305188 -37.384063 C -0.305188 -39.587188 1.476062 -41.368438 3.679187 -41.368438 L 10.550281 -41.368438 C 12.753406 -41.368438 14.534656 -39.587188 14.534656 -37.384063 L 14.534656 -21.942656 C 14.534656 -19.743438 12.753406 -17.958281 10.550281 -17.958281 Z M 10.550281 -17.958281 \" transform=\"matrix(1,0,0,-1,25.313,11.905)\"/>\n",
       "</g>\n",
       "<g style=\"fill:rgb(0%,0%,0%);fill-opacity:1;\">\n",
       "  <use xlink:href=\"#glyph-1486170282873632-0-2\" x=\"28.904\" y=\"44.558\"/>\n",
       "</g>\n",
       "<path style=\"fill:none;stroke-width:0.3985;stroke-linecap:butt;stroke-linejoin:miter;stroke:rgb(0%,0%,0%);stroke-opacity:1;stroke-miterlimit:10;\" d=\"M -0.00190625 14.631531 C 9.677781 14.631531 15.138719 14.83075 24.8145 14.83075 \" transform=\"matrix(1,0,0,-1,0.498,26.737)\"/>\n",
       "<path style=\"fill-rule:nonzero;fill:rgb(0%,0%,0%);fill-opacity:1;stroke-width:0.3985;stroke-linecap:butt;stroke-linejoin:miter;stroke:rgb(0%,0%,0%);stroke-opacity:1;stroke-miterlimit:10;\" d=\"M 4.212925 0.000493445 L 0.644467 1.344325 L 1.818276 0.000709132 L 0.644256 -1.347213 Z M 4.212925 0.000493445 \" transform=\"matrix(0.99995,-0.01314,-0.01314,-0.99995,8.12323,12.06757)\"/>\n",
       "<path style=\"fill:none;stroke-width:0.3985;stroke-linecap:butt;stroke-linejoin:miter;stroke:rgb(0%,0%,0%);stroke-opacity:1;stroke-miterlimit:10;\" d=\"M -0.00190625 -14.634094 C 9.478563 -14.634094 14.830125 -14.833313 24.310594 -14.833313 \" transform=\"matrix(1,0,0,-1,0.498,26.737)\"/>\n",
       "<path style=\"fill-rule:nonzero;fill:rgb(0%,0%,0%);fill-opacity:1;stroke-width:0.3985;stroke-linecap:butt;stroke-linejoin:miter;stroke:rgb(0%,0%,0%);stroke-opacity:1;stroke-miterlimit:10;\" d=\"M 4.215959 0.000698544 L 0.643034 1.347384 L 1.817414 -0.000215992 L 0.643971 -1.344144 Z M 4.215959 0.000698544 \" transform=\"matrix(0.99995,0.01341,0.01341,-0.99995,7.87018,41.4051)\"/>\n",
       "<g clip-path=\"url(#clip-1486170282873632-2)\" clip-rule=\"nonzero\">\n",
       "<path style=\"fill:none;stroke-width:0.3985;stroke-linecap:butt;stroke-linejoin:miter;stroke:rgb(0%,0%,0%);stroke-opacity:1;stroke-miterlimit:10;\" d=\"M 73.912156 26.338562 L 67.34575 26.338562 C 65.146531 26.338562 63.361375 24.553406 63.361375 22.354187 L 63.361375 -22.352844 C 63.361375 -24.555969 65.146531 -26.337219 67.34575 -26.337219 L 73.912156 -26.337219 C 76.111375 -26.337219 77.896531 -24.555969 77.896531 -22.352844 L 77.896531 22.354187 C 77.896531 24.553406 76.111375 26.338562 73.912156 26.338562 Z M 73.912156 26.338562 \" transform=\"matrix(1,0,0,-1,0.498,26.737)\"/>\n",
       "</g>\n",
       "<g style=\"fill:rgb(0%,0%,0%);fill-opacity:1;\">\n",
       "  <use xlink:href=\"#glyph-1486170282873632-0-3\" x=\"67.756\" y=\"30.888\"/>\n",
       "</g>\n",
       "<path style=\"fill:none;stroke-width:0.3985;stroke-linecap:butt;stroke-linejoin:miter;stroke:rgb(0%,0%,0%);stroke-opacity:1;stroke-miterlimit:10;\" d=\"M 39.044969 14.83075 C 48.447313 14.83075 53.755906 14.631531 63.162156 14.631531 \" transform=\"matrix(1,0,0,-1,0.498,26.737)\"/>\n",
       "<path style=\"fill-rule:nonzero;fill:rgb(0%,0%,0%);fill-opacity:1;stroke-width:0.3985;stroke-linecap:butt;stroke-linejoin:miter;stroke:rgb(0%,0%,0%);stroke-opacity:1;stroke-miterlimit:10;\" d=\"M 4.212977 0.000985753 L 0.643815 1.347329 L 1.818342 -0.000139779 L 0.645048 -1.344195 Z M 4.212977 0.000985753 \" transform=\"matrix(0.99995,0.01352,0.01352,-0.99995,46.81847,11.94012)\"/>\n",
       "<path style=\"fill:none;stroke-width:0.3985;stroke-linecap:butt;stroke-linejoin:miter;stroke:rgb(0%,0%,0%);stroke-opacity:1;stroke-miterlimit:10;\" d=\"M 39.548875 -14.833313 C 48.755906 -14.833313 53.955125 -14.634094 63.162156 -14.634094 \" transform=\"matrix(1,0,0,-1,0.498,26.737)\"/>\n",
       "<path style=\"fill-rule:nonzero;fill:rgb(0%,0%,0%);fill-opacity:1;stroke-width:0.3985;stroke-linecap:butt;stroke-linejoin:miter;stroke:rgb(0%,0%,0%);stroke-opacity:1;stroke-miterlimit:10;\" d=\"M 4.213854 0.000494204 L 0.642423 1.346758 L 1.819174 -0.00159162 L 0.644315 -1.344809 Z M 4.213854 0.000494204 \" transform=\"matrix(0.99995,-0.01381,-0.01381,-0.99995,47.07152,41.53525)\"/>\n",
       "<path style=\"fill:none;stroke-width:0.3985;stroke-linecap:butt;stroke-linejoin:miter;stroke:rgb(0%,0%,0%);stroke-opacity:1;stroke-miterlimit:10;\" d=\"M 11.054812 11.705781 L 4.183719 11.705781 C 1.9845 11.705781 0.199344 9.920625 0.199344 7.721406 L 0.199344 -7.72 C 0.199344 -9.923125 1.9845 -11.704375 4.183719 -11.704375 L 11.054812 -11.704375 C 13.257937 -11.704375 15.043094 -9.923125 15.043094 -7.72 L 15.043094 7.721406 C 15.043094 9.920625 13.257937 11.705781 11.054812 11.705781 Z M 11.054812 11.705781 \" transform=\"matrix(1,0,0,-1,102.203,11.905)\"/>\n",
       "<g style=\"fill:rgb(0%,0%,0%);fill-opacity:1;\">\n",
       "  <use xlink:href=\"#glyph-1486170282873632-0-2\" x=\"106.3\" y=\"14.894\"/>\n",
       "</g>\n",
       "<g clip-path=\"url(#clip-1486170282873632-3)\" clip-rule=\"nonzero\">\n",
       "<path style=\"fill:none;stroke-width:0.3985;stroke-linecap:butt;stroke-linejoin:miter;stroke:rgb(0%,0%,0%);stroke-opacity:1;stroke-miterlimit:10;\" d=\"M 10.550906 -17.958281 L 4.691531 -17.958281 C 2.488406 -17.958281 0.707156 -19.743438 0.707156 -21.942656 L 0.707156 -37.384063 C 0.707156 -39.587188 2.488406 -41.368438 4.691531 -41.368438 L 10.550906 -41.368438 C 12.750125 -41.368438 14.535281 -39.587188 14.535281 -37.384063 L 14.535281 -21.942656 C 14.535281 -19.743438 12.750125 -17.958281 10.550906 -17.958281 Z M 10.550906 -17.958281 \" transform=\"matrix(1,0,0,-1,102.203,11.905)\"/>\n",
       "</g>\n",
       "<g style=\"fill:rgb(0%,0%,0%);fill-opacity:1;\">\n",
       "  <use xlink:href=\"#glyph-1486170282873632-0-1\" x=\"106.806\" y=\"42.98\"/>\n",
       "</g>\n",
       "<path style=\"fill:none;stroke-width:0.3985;stroke-linecap:butt;stroke-linejoin:miter;stroke:rgb(0%,0%,0%);stroke-opacity:1;stroke-miterlimit:10;\" d=\"M 78.09575 14.631531 C 87.302781 14.631531 92.498094 14.83075 101.705125 14.83075 \" transform=\"matrix(1,0,0,-1,0.498,26.737)\"/>\n",
       "<path style=\"fill-rule:nonzero;fill:rgb(0%,0%,0%);fill-opacity:1;stroke-width:0.3985;stroke-linecap:butt;stroke-linejoin:miter;stroke:rgb(0%,0%,0%);stroke-opacity:1;stroke-miterlimit:10;\" d=\"M 4.215983 0.000828559 L 0.644553 1.347092 L 1.817398 -0.00120333 L 0.642539 -1.344421 Z M 4.215983 0.000828559 \" transform=\"matrix(0.99995,-0.01381,-0.01381,-0.99995,85.61627,12.07077)\"/>\n",
       "<path style=\"fill:none;stroke-width:0.3985;stroke-linecap:butt;stroke-linejoin:miter;stroke:rgb(0%,0%,0%);stroke-opacity:1;stroke-miterlimit:10;\" d=\"M 78.09575 -14.634094 C 87.498094 -14.634094 92.806687 -14.833313 102.212937 -14.833313 \" transform=\"matrix(1,0,0,-1,0.498,26.737)\"/>\n",
       "<path style=\"fill-rule:nonzero;fill:rgb(0%,0%,0%);fill-opacity:1;stroke-width:0.3985;stroke-linecap:butt;stroke-linejoin:miter;stroke:rgb(0%,0%,0%);stroke-opacity:1;stroke-miterlimit:10;\" d=\"M 4.212933 0.000621392 L 0.643771 1.346965 L 1.818298 -0.00050414 L 0.645004 -1.344559 Z M 4.212933 0.000621392 \" transform=\"matrix(0.99995,0.01352,0.01352,-0.99995,85.8693,41.4046)\"/>\n",
       "<g clip-path=\"url(#clip-1486170282873632-4)\" clip-rule=\"nonzero\">\n",
       "<path style=\"fill:none;stroke-width:0.3985;stroke-linecap:butt;stroke-linejoin:miter;stroke:rgb(0%,0%,0%);stroke-opacity:1;stroke-miterlimit:10;\" d=\"M 116.947312 14.83075 C 126.427781 14.83075 131.775438 14.631531 141.255906 14.631531 \" transform=\"matrix(1,0,0,-1,0.498,26.737)\"/>\n",
       "</g>\n",
       "<path style=\"fill-rule:nonzero;fill:rgb(0%,0%,0%);fill-opacity:1;stroke-width:0.3985;stroke-linecap:butt;stroke-linejoin:miter;stroke:rgb(0%,0%,0%);stroke-opacity:1;stroke-miterlimit:10;\" d=\"M 4.213867 0.00104425 L 0.6449 1.343877 L 1.819227 0.000182097 L 0.641879 -1.343798 Z M 4.213867 0.00104425 \" transform=\"matrix(0.99995,0.01341,0.01341,-0.99995,124.81758,11.94063)\"/>\n",
       "<g clip-path=\"url(#clip-1486170282873632-5)\" clip-rule=\"nonzero\">\n",
       "<path style=\"fill:none;stroke-width:0.3985;stroke-linecap:butt;stroke-linejoin:miter;stroke:rgb(0%,0%,0%);stroke-opacity:1;stroke-miterlimit:10;\" d=\"M 116.4395 -14.833313 C 126.119187 -14.833313 131.580125 -14.634094 141.255906 -14.634094 \" transform=\"matrix(1,0,0,-1,0.498,26.737)\"/>\n",
       "</g>\n",
       "<path style=\"fill-rule:nonzero;fill:rgb(0%,0%,0%);fill-opacity:1;stroke-width:0.3985;stroke-linecap:butt;stroke-linejoin:miter;stroke:rgb(0%,0%,0%);stroke-opacity:1;stroke-miterlimit:10;\" d=\"M 4.213026 0.000118345 L 0.644568 1.34395 L 1.818378 0.000334032 L 0.644357 -1.347588 Z M 4.213026 0.000118345 \" transform=\"matrix(0.99995,-0.01314,-0.01314,-0.99995,124.56453,41.53204)\"/>\n",
       "</g>\n",
       "</svg>\n",
       "\n"
      ],
      "text/plain": [
       "CompCat.Diagram.TikZ.Picture(CompCat.Diagram.TikZ.Statement[CompCat.Diagram.TikZ.Node(\"n\",CompCat.Diagram.TikZ.Property[CompCat.Diagram.TikZ.Property(\"container\",#NULL)],#NULL,CompCat.Diagram.TikZ.Picture(CompCat.Diagram.TikZ.Statement[CompCat.Diagram.TikZ.Node(\"n1\",CompCat.Diagram.TikZ.Property[CompCat.Diagram.TikZ.Property(\"minimum height\",\"4.5em\")],#NULL,\"\"),CompCat.Diagram.TikZ.Node(\"n2\",CompCat.Diagram.TikZ.Property[CompCat.Diagram.TikZ.Property(\"container\",#NULL),CompCat.Diagram.TikZ.Property(\"right=2em of n1)\",#NULL)],#NULL,CompCat.Diagram.TikZ.Picture(CompCat.Diagram.TikZ.Statement[CompCat.Diagram.TikZ.Node(\"n21\",CompCat.Diagram.TikZ.Property[CompCat.Diagram.TikZ.Property(\"generator\",#NULL),CompCat.Diagram.TikZ.Property(\"minimum height\",\"2.0em\")],#NULL,\"g\"),CompCat.Diagram.TikZ.Node(\"n22\",CompCat.Diagram.TikZ.Property[CompCat.Diagram.TikZ.Property(\"generator\",#NULL),CompCat.Diagram.TikZ.Property(\"minimum height\",\"2.0em\"),CompCat.Diagram.TikZ.Property(\"below=0.5em of n21\",#NULL)],#NULL,\"f\")],CompCat.Diagram.TikZ.Property[])),CompCat.Diagram.TikZ.Edge(\"\\$(n1.center)+(0,1.25em)\\$\",\"n21.west\",CompCat.Diagram.TikZ.PathOperation(\"to\",CompCat.Diagram.TikZ.Property[]),CompCat.Diagram.TikZ.Property[CompCat.Diagram.TikZ.Property(\"postaction\",\"{decorate}\")],#NULL),CompCat.Diagram.TikZ.Edge(\"\\$(n1.center)+(0,-1.25em)\\$\",\"n22.west\",CompCat.Diagram.TikZ.PathOperation(\"to\",CompCat.Diagram.TikZ.Property[]),CompCat.Diagram.TikZ.Property[CompCat.Diagram.TikZ.Property(\"postaction\",\"{decorate}\")],#NULL),CompCat.Diagram.TikZ.Node(\"n3\",CompCat.Diagram.TikZ.Property[CompCat.Diagram.TikZ.Property(\"generator\",#NULL),CompCat.Diagram.TikZ.Property(\"minimum height\",\"4.5em\"),CompCat.Diagram.TikZ.Property(\"right=2em of n2)\",#NULL)],#NULL,\"h\"),CompCat.Diagram.TikZ.Edge(\"n21.east\",\"\\$(n3.west)+(0,1.25em)\\$\",CompCat.Diagram.TikZ.PathOperation(\"to\",CompCat.Diagram.TikZ.Property[]),CompCat.Diagram.TikZ.Property[CompCat.Diagram.TikZ.Property(\"postaction\",\"{decorate}\")],#NULL),CompCat.Diagram.TikZ.Edge(\"n22.east\",\"\\$(n3.west)+(0,-1.25em)\\$\",CompCat.Diagram.TikZ.PathOperation(\"to\",CompCat.Diagram.TikZ.Property[]),CompCat.Diagram.TikZ.Property[CompCat.Diagram.TikZ.Property(\"postaction\",\"{decorate}\")],#NULL),CompCat.Diagram.TikZ.Node(\"n4\",CompCat.Diagram.TikZ.Property[CompCat.Diagram.TikZ.Property(\"container\",#NULL),CompCat.Diagram.TikZ.Property(\"right=2em of n3)\",#NULL)],#NULL,CompCat.Diagram.TikZ.Picture(CompCat.Diagram.TikZ.Statement[CompCat.Diagram.TikZ.Node(\"n41\",CompCat.Diagram.TikZ.Property[CompCat.Diagram.TikZ.Property(\"generator\",#NULL),CompCat.Diagram.TikZ.Property(\"minimum height\",\"2.0em\")],#NULL,\"f\"),CompCat.Diagram.TikZ.Node(\"n42\",CompCat.Diagram.TikZ.Property[CompCat.Diagram.TikZ.Property(\"generator\",#NULL),CompCat.Diagram.TikZ.Property(\"minimum height\",\"2.0em\"),CompCat.Diagram.TikZ.Property(\"below=0.5em of n41\",#NULL)],#NULL,\"g\")],CompCat.Diagram.TikZ.Property[])),CompCat.Diagram.TikZ.Edge(\"\\$(n3.east)+(0,1.25em)\\$\",\"n41.west\",CompCat.Diagram.TikZ.PathOperation(\"to\",CompCat.Diagram.TikZ.Property[]),CompCat.Diagram.TikZ.Property[CompCat.Diagram.TikZ.Property(\"postaction\",\"{decorate}\")],#NULL),CompCat.Diagram.TikZ.Edge(\"\\$(n3.east)+(0,-1.25em)\\$\",\"n42.west\",CompCat.Diagram.TikZ.PathOperation(\"to\",CompCat.Diagram.TikZ.Property[]),CompCat.Diagram.TikZ.Property[CompCat.Diagram.TikZ.Property(\"postaction\",\"{decorate}\")],#NULL),CompCat.Diagram.TikZ.Node(\"n5\",CompCat.Diagram.TikZ.Property[CompCat.Diagram.TikZ.Property(\"minimum height\",\"4.5em\"),CompCat.Diagram.TikZ.Property(\"right=2em of n4)\",#NULL)],#NULL,\"\"),CompCat.Diagram.TikZ.Edge(\"n41.east\",\"\\$(n5.center)+(0,1.25em)\\$\",CompCat.Diagram.TikZ.PathOperation(\"to\",CompCat.Diagram.TikZ.Property[]),CompCat.Diagram.TikZ.Property[CompCat.Diagram.TikZ.Property(\"postaction\",\"{decorate}\")],#NULL),CompCat.Diagram.TikZ.Edge(\"n42.east\",\"\\$(n5.center)+(0,-1.25em)\\$\",CompCat.Diagram.TikZ.PathOperation(\"to\",CompCat.Diagram.TikZ.Property[]),CompCat.Diagram.TikZ.Property[CompCat.Diagram.TikZ.Property(\"postaction\",\"{decorate}\")],#NULL)],CompCat.Diagram.TikZ.Property[]))],CompCat.Diagram.TikZ.Property[CompCat.Diagram.TikZ.Property(\"remember picture\",#NULL),CompCat.Diagram.TikZ.Property(\"font\",\"{\\\\fontsize{12}{14.4}}\"),CompCat.Diagram.TikZ.Property(\"generator/.style\",\"{draw,solid,rounded corners,inner sep=0.333em}\"),CompCat.Diagram.TikZ.Property(\"container/.style\",\"{inner sep=0}\"),CompCat.Diagram.TikZ.Property(\"every path/.style\",\"{solid}\"),CompCat.Diagram.TikZ.Property(\"every to/.style\",\"{out=0,in=180}\"),CompCat.Diagram.TikZ.Property(\"decoration\",\"{markings, mark=at position 0.5 with {\\\\arrow{Stealth}}}\"),CompCat.Diagram.TikZ.Property(\"execute at begin node\",\"\\$\"),CompCat.Diagram.TikZ.Property(\"execute at end node\",\"\\$\")])"
      ]
     },
     "execution_count": 6,
     "metadata": {},
     "output_type": "execute_result"
    }
   ],
   "source": [
    "diagram(comp1)"
   ]
  },
  {
   "cell_type": "code",
   "execution_count": 7,
   "metadata": {
    "collapsed": false
   },
   "outputs": [
    {
     "data": {
      "text/latex": [
       "$\\left(\\mathrm{id}_{A} \\otimes f\\right) h \\left(\\mathrm{id}_{A} \\otimes g\\right)$"
      ],
      "text/plain": [
       "CompCat.Syntax.MorExpr(:compose,CompCat.Syntax.MorExpr[CompCat.Syntax.MorExpr(:otimes,CompCat.Syntax.MorExpr[CompCat.Syntax.MorExpr(:id,CompCat.Syntax.ObExpr[CompCat.Syntax.ObExpr(:gen,Symbol[:A])]),CompCat.Syntax.MorExpr(:gen,Any[:f,CompCat.Syntax.ObExpr(:gen,Symbol[:A]),CompCat.Syntax.ObExpr(:gen,Symbol[:B])])]),CompCat.Syntax.MorExpr(:gen,Any[:h,CompCat.Syntax.ObExpr(:otimes,CompCat.Syntax.ObExpr[CompCat.Syntax.ObExpr(:gen,Symbol[:A]),CompCat.Syntax.ObExpr(:gen,Symbol[:B])]),CompCat.Syntax.ObExpr(:otimes,CompCat.Syntax.ObExpr[CompCat.Syntax.ObExpr(:gen,Symbol[:A]),CompCat.Syntax.ObExpr(:gen,Symbol[:B])])]),CompCat.Syntax.MorExpr(:otimes,CompCat.Syntax.MorExpr[CompCat.Syntax.MorExpr(:id,CompCat.Syntax.ObExpr[CompCat.Syntax.ObExpr(:gen,Symbol[:A])]),CompCat.Syntax.MorExpr(:gen,Any[:g,CompCat.Syntax.ObExpr(:gen,Symbol[:B]),CompCat.Syntax.ObExpr(:gen,Symbol[:A])])])])"
      ]
     },
     "execution_count": 7,
     "metadata": {},
     "output_type": "execute_result"
    }
   ],
   "source": [
    "comp2 = compose(otimes(id(A),f), h, otimes(id(A),g))"
   ]
  },
  {
   "cell_type": "code",
   "execution_count": 8,
   "metadata": {
    "collapsed": false
   },
   "outputs": [
    {
     "data": {
      "image/svg+xml": [
       "<?xml version=\"1.0\" encoding=\"UTF-8\"?>\n",
       "<svg xmlns=\"http://www.w3.org/2000/svg\" xmlns:xlink=\"http://www.w3.org/1999/xlink\" width=\"141.239pt\" height=\"53.275pt\" viewBox=\"0 0 141.239 53.275\" version=\"1.1\">\n",
       "<defs>\n",
       "<g>\n",
       "<symbol overflow=\"visible\" id=\"glyph-1486170282873633-0-0\">\n",
       "<path style=\"stroke:none;\" d=\"\"/>\n",
       "</symbol>\n",
       "<symbol overflow=\"visible\" id=\"glyph-1486170282873633-0-1\">\n",
       "<path style=\"stroke:none;\" d=\"M 5.328125 -4.8125 C 5.5625 -4.8125 5.671875 -4.8125 5.671875 -5.03125 C 5.671875 -5.15625 5.5625 -5.15625 5.359375 -5.15625 L 4.390625 -5.15625 C 4.609375 -6.390625 4.78125 -7.234375 4.875 -7.609375 C 4.953125 -7.90625 5.203125 -8.171875 5.515625 -8.171875 C 5.765625 -8.171875 6.015625 -8.0625 6.125 -7.953125 C 5.671875 -7.90625 5.515625 -7.5625 5.515625 -7.359375 C 5.515625 -7.125 5.703125 -6.984375 5.921875 -6.984375 C 6.171875 -6.984375 6.53125 -7.1875 6.53125 -7.640625 C 6.53125 -8.140625 6.03125 -8.421875 5.5 -8.421875 C 4.984375 -8.421875 4.484375 -8.03125 4.25 -7.5625 C 4.03125 -7.140625 3.90625 -6.71875 3.640625 -5.15625 L 2.828125 -5.15625 C 2.609375 -5.15625 2.484375 -5.15625 2.484375 -4.9375 C 2.484375 -4.8125 2.5625 -4.8125 2.796875 -4.8125 L 3.5625 -4.8125 C 3.34375 -3.6875 2.859375 -0.984375 2.578125 0.28125 C 2.375 1.328125 2.203125 2.203125 1.609375 2.203125 C 1.5625 2.203125 1.21875 2.203125 1 1.96875 C 1.609375 1.921875 1.609375 1.40625 1.609375 1.390625 C 1.609375 1.140625 1.4375 1 1.203125 1 C 0.96875 1 0.609375 1.203125 0.609375 1.65625 C 0.609375 2.171875 1.140625 2.4375 1.609375 2.4375 C 2.828125 2.4375 3.328125 0.25 3.453125 -0.34375 C 3.671875 -1.265625 4.25 -4.453125 4.3125 -4.8125 Z M 5.328125 -4.8125 \"/>\n",
       "</symbol>\n",
       "<symbol overflow=\"visible\" id=\"glyph-1486170282873633-0-2\">\n",
       "<path style=\"stroke:none;\" d=\"M 3.359375 -8 C 3.375 -8.046875 3.390625 -8.109375 3.390625 -8.171875 C 3.390625 -8.296875 3.28125 -8.296875 3.25 -8.296875 C 3.234375 -8.296875 2.65625 -8.25 2.59375 -8.234375 C 2.390625 -8.21875 2.21875 -8.203125 2 -8.1875 C 1.703125 -8.15625 1.609375 -8.15625 1.609375 -7.9375 C 1.609375 -7.8125 1.703125 -7.8125 1.875 -7.8125 C 2.46875 -7.8125 2.46875 -7.703125 2.46875 -7.59375 C 2.46875 -7.515625 2.453125 -7.421875 2.4375 -7.390625 L 0.703125 -0.46875 C 0.65625 -0.28125 0.65625 -0.265625 0.65625 -0.1875 C 0.65625 0.078125 0.859375 0.125 0.984375 0.125 C 1.1875 0.125 1.34375 -0.03125 1.40625 -0.171875 L 1.9375 -2.328125 C 2 -2.59375 2.0625 -2.84375 2.125 -3.109375 C 2.265625 -3.609375 2.265625 -3.625 2.484375 -3.96875 C 2.71875 -4.3125 3.25 -5.03125 4.171875 -5.03125 C 4.65625 -5.03125 4.8125 -4.671875 4.8125 -4.203125 C 4.8125 -3.53125 4.34375 -2.21875 4.09375 -1.5 C 3.984375 -1.21875 3.921875 -1.0625 3.921875 -0.84375 C 3.921875 -0.3125 4.296875 0.125 4.859375 0.125 C 5.96875 0.125 6.390625 -1.640625 6.390625 -1.703125 C 6.390625 -1.765625 6.34375 -1.8125 6.28125 -1.8125 C 6.171875 -1.8125 6.15625 -1.78125 6.09375 -1.578125 C 5.828125 -0.625 5.375 -0.125 4.90625 -0.125 C 4.78125 -0.125 4.59375 -0.125 4.59375 -0.515625 C 4.59375 -0.828125 4.734375 -1.203125 4.78125 -1.34375 C 5 -1.90625 5.53125 -3.328125 5.53125 -4.015625 C 5.53125 -4.734375 5.109375 -5.265625 4.203125 -5.265625 C 3.53125 -5.265625 2.921875 -4.953125 2.4375 -4.328125 Z M 3.359375 -8 \"/>\n",
       "</symbol>\n",
       "<symbol overflow=\"visible\" id=\"glyph-1486170282873633-0-3\">\n",
       "<path style=\"stroke:none;\" d=\"M 4.046875 -1.515625 C 4 -1.328125 3.96875 -1.28125 3.8125 -1.09375 C 3.328125 -0.46875 2.828125 -0.234375 2.453125 -0.234375 C 2.0625 -0.234375 1.6875 -0.546875 1.6875 -1.375 C 1.6875 -2.015625 2.046875 -3.34375 2.3125 -3.890625 C 2.65625 -4.546875 3.1875 -5.03125 3.6875 -5.03125 C 4.484375 -5.03125 4.640625 -4.046875 4.640625 -3.984375 L 4.609375 -3.8125 Z M 4.78125 -4.484375 C 4.625 -4.828125 4.296875 -5.265625 3.6875 -5.265625 C 2.390625 -5.265625 0.90625 -3.640625 0.90625 -1.859375 C 0.90625 -0.609375 1.65625 0 2.421875 0 C 3.0625 0 3.625 -0.5 3.84375 -0.734375 L 3.578125 0.328125 C 3.40625 0.984375 3.328125 1.296875 2.90625 1.703125 C 2.421875 2.203125 1.953125 2.203125 1.703125 2.203125 C 1.34375 2.203125 1.046875 2.171875 0.734375 2.078125 C 1.125 1.96875 1.21875 1.640625 1.21875 1.5 C 1.21875 1.3125 1.078125 1.125 0.8125 1.125 C 0.53125 1.125 0.21875 1.359375 0.21875 1.75 C 0.21875 2.25 0.703125 2.4375 1.71875 2.4375 C 3.265625 2.4375 4.0625 1.453125 4.21875 0.796875 L 5.546875 -4.546875 C 5.578125 -4.703125 5.578125 -4.71875 5.578125 -4.75 C 5.578125 -4.90625 5.453125 -5.046875 5.265625 -5.046875 C 4.984375 -5.046875 4.8125 -4.8125 4.78125 -4.484375 Z M 4.78125 -4.484375 \"/>\n",
       "</symbol>\n",
       "</g>\n",
       "<clipPath id=\"clip-1486170282873633-1\">\n",
       "  <path d=\"M 19 24 L 46 24 L 46 53.273438 L 19 53.273438 Z M 19 24 \"/>\n",
       "</clipPath>\n",
       "<clipPath id=\"clip-1486170282873633-2\">\n",
       "  <path d=\"M 58 0 L 85 0 L 85 53.273438 L 58 53.273438 Z M 58 0 \"/>\n",
       "</clipPath>\n",
       "<clipPath id=\"clip-1486170282873633-3\">\n",
       "  <path d=\"M 96 24 L 122 24 L 122 53.273438 L 96 53.273438 Z M 96 24 \"/>\n",
       "</clipPath>\n",
       "<clipPath id=\"clip-1486170282873633-4\">\n",
       "  <path d=\"M 103 6 L 141.238281 6 L 141.238281 18 L 103 18 Z M 103 6 \"/>\n",
       "</clipPath>\n",
       "<clipPath id=\"clip-1486170282873633-5\">\n",
       "  <path d=\"M 110 35 L 141.238281 35 L 141.238281 48 L 110 48 Z M 110 35 \"/>\n",
       "</clipPath>\n",
       "</defs>\n",
       "<g id=\"surface1\">\n",
       "<g clip-path=\"url(#clip-1486170282873633-1)\" clip-rule=\"nonzero\">\n",
       "<path style=\"fill:none;stroke-width:0.3985;stroke-linecap:butt;stroke-linejoin:miter;stroke:rgb(0%,0%,0%);stroke-opacity:1;stroke-miterlimit:10;\" d=\"M 4.133281 -17.958062 L -2.737813 -17.958062 C -4.940938 -17.958062 -6.722188 -19.743219 -6.722188 -21.942437 L -6.722188 -37.383844 C -6.722188 -39.586969 -4.940938 -41.368219 -2.737813 -41.368219 L 4.133281 -41.368219 C 6.336406 -41.368219 8.117656 -39.586969 8.117656 -37.383844 L 8.117656 -21.942437 C 8.117656 -19.743219 6.336406 -17.958062 4.133281 -17.958062 Z M 4.133281 -17.958062 \" transform=\"matrix(1,0,0,-1,31.73,11.706)\"/>\n",
       "</g>\n",
       "<g style=\"fill:rgb(0%,0%,0%);fill-opacity:1;\">\n",
       "  <use xlink:href=\"#glyph-1486170282873633-0-1\" x=\"28.904\" y=\"44.359\"/>\n",
       "</g>\n",
       "<path style=\"fill:none;stroke-width:0.3985;stroke-linecap:butt;stroke-linejoin:miter;stroke:rgb(0%,0%,0%);stroke-opacity:1;stroke-miterlimit:10;\" d=\"M -0.00190625 14.634094 C 12.451219 14.634094 19.478562 14.930969 31.927781 14.930969 \" transform=\"matrix(1,0,0,-1,0.498,26.638)\"/>\n",
       "<path style=\"fill-rule:nonzero;fill:rgb(0%,0%,0%);fill-opacity:1;stroke-width:0.3985;stroke-linecap:butt;stroke-linejoin:miter;stroke:rgb(0%,0%,0%);stroke-opacity:1;stroke-miterlimit:10;\" d=\"M 4.214393 0.00135432 L 0.644958 1.345168 L 1.819705 -0.00102169 L 0.642786 -1.34634 Z M 4.214393 0.00135432 \" transform=\"matrix(0.99995,-0.01532,-0.01532,-0.99995,11.68037,11.9292)\"/>\n",
       "<path style=\"fill:none;stroke-width:0.3985;stroke-linecap:butt;stroke-linejoin:miter;stroke:rgb(0%,0%,0%);stroke-opacity:1;stroke-miterlimit:10;\" d=\"M -0.00190625 -14.631531 C 9.478563 -14.631531 14.830125 -14.733094 24.310594 -14.733094 \" transform=\"matrix(1,0,0,-1,0.498,26.638)\"/>\n",
       "<path style=\"fill-rule:nonzero;fill:rgb(0%,0%,0%);fill-opacity:1;stroke-width:0.3985;stroke-linecap:butt;stroke-linejoin:miter;stroke:rgb(0%,0%,0%);stroke-opacity:1;stroke-miterlimit:10;\" d=\"M 4.215626 0.0002406 L 0.644087 1.347369 L 1.817192 -0.000227895 L 0.642615 -1.344047 Z M 4.215626 0.0002406 \" transform=\"matrix(1,0.00671,0.00671,-1,7.87031,41.28836)\"/>\n",
       "<g clip-path=\"url(#clip-1486170282873633-2)\" clip-rule=\"nonzero\">\n",
       "<path style=\"fill:none;stroke-width:0.3985;stroke-linecap:butt;stroke-linejoin:miter;stroke:rgb(0%,0%,0%);stroke-opacity:1;stroke-miterlimit:10;\" d=\"M 73.912156 26.337219 L 67.34575 26.337219 C 65.146531 26.337219 63.361375 24.555969 63.361375 22.352844 L 63.361375 -22.354187 C 63.361375 -24.553406 65.146531 -26.338562 67.34575 -26.338562 L 73.912156 -26.338562 C 76.111375 -26.338562 77.896531 -24.553406 77.896531 -22.354187 L 77.896531 22.352844 C 77.896531 24.555969 76.111375 26.337219 73.912156 26.337219 Z M 73.912156 26.337219 \" transform=\"matrix(1,0,0,-1,0.498,26.638)\"/>\n",
       "</g>\n",
       "<g style=\"fill:rgb(0%,0%,0%);fill-opacity:1;\">\n",
       "  <use xlink:href=\"#glyph-1486170282873633-0-2\" x=\"67.756\" y=\"30.789\"/>\n",
       "</g>\n",
       "<path style=\"fill:none;stroke-width:0.3985;stroke-linecap:butt;stroke-linejoin:miter;stroke:rgb(0%,0%,0%);stroke-opacity:1;stroke-miterlimit:10;\" d=\"M 31.927781 14.930969 C 44.107469 14.930969 50.982469 14.634094 63.162156 14.634094 \" transform=\"matrix(1,0,0,-1,0.498,26.638)\"/>\n",
       "<path style=\"fill-rule:nonzero;fill:rgb(0%,0%,0%);fill-opacity:1;stroke-width:0.3985;stroke-linecap:butt;stroke-linejoin:miter;stroke:rgb(0%,0%,0%);stroke-opacity:1;stroke-miterlimit:10;\" d=\"M 4.215662 -0.000539014 L 0.643616 1.345934 L 1.817081 0.000961783 L 0.642797 -1.34562 Z M 4.215662 -0.000539014 \" transform=\"matrix(0.99995,0.01566,0.01566,-0.99995,43.26112,11.7811)\"/>\n",
       "<path style=\"fill:none;stroke-width:0.3985;stroke-linecap:butt;stroke-linejoin:miter;stroke:rgb(0%,0%,0%);stroke-opacity:1;stroke-miterlimit:10;\" d=\"M 39.548875 -14.733094 C 48.755906 -14.733094 53.955125 -14.631531 63.162156 -14.631531 \" transform=\"matrix(1,0,0,-1,0.498,26.638)\"/>\n",
       "<path style=\"fill-rule:nonzero;fill:rgb(0%,0%,0%);fill-opacity:1;stroke-width:0.3985;stroke-linecap:butt;stroke-linejoin:miter;stroke:rgb(0%,0%,0%);stroke-opacity:1;stroke-miterlimit:10;\" d=\"M 4.213867 0.000143427 L 0.645036 1.345117 L 1.819342 0.00106459 L 0.642064 -1.346269 Z M 4.213867 0.000143427 \" transform=\"matrix(1,-0.00691,-0.00691,-1,47.07129,41.35348)\"/>\n",
       "<g clip-path=\"url(#clip-1486170282873633-3)\" clip-rule=\"nonzero\">\n",
       "<path style=\"fill:none;stroke-width:0.3985;stroke-linecap:butt;stroke-linejoin:miter;stroke:rgb(0%,0%,0%);stroke-opacity:1;stroke-miterlimit:10;\" d=\"M 3.626094 -17.958062 L -2.233281 -17.958062 C -4.4325 -17.958062 -6.217656 -19.743219 -6.217656 -21.942437 L -6.217656 -37.383844 C -6.217656 -39.586969 -4.4325 -41.368219 -2.233281 -41.368219 L 3.626094 -41.368219 C 5.829219 -41.368219 7.614375 -39.586969 7.614375 -37.383844 L 7.614375 -21.942437 C 7.614375 -19.743219 5.829219 -17.958062 3.626094 -17.958062 Z M 3.626094 -17.958062 \" transform=\"matrix(1,0,0,-1,108.62,11.706)\"/>\n",
       "</g>\n",
       "<g style=\"fill:rgb(0%,0%,0%);fill-opacity:1;\">\n",
       "  <use xlink:href=\"#glyph-1486170282873633-0-3\" x=\"106.3\" y=\"42.781\"/>\n",
       "</g>\n",
       "<path style=\"fill:none;stroke-width:0.3985;stroke-linecap:butt;stroke-linejoin:miter;stroke:rgb(0%,0%,0%);stroke-opacity:1;stroke-miterlimit:10;\" d=\"M 78.09575 14.634094 C 90.076219 14.634094 96.837937 14.930969 108.822312 14.930969 \" transform=\"matrix(1,0,0,-1,0.498,26.638)\"/>\n",
       "<path style=\"fill-rule:nonzero;fill:rgb(0%,0%,0%);fill-opacity:1;stroke-width:0.3985;stroke-linecap:butt;stroke-linejoin:miter;stroke:rgb(0%,0%,0%);stroke-opacity:1;stroke-miterlimit:10;\" d=\"M 4.213557 0.00172115 L 0.644948 1.347628 L 1.818891 0.00075774 L 0.645094 -1.343916 Z M 4.213557 0.00172115 \" transform=\"matrix(0.99995,-0.01591,-0.01591,-0.99995,89.1734,11.93204)\"/>\n",
       "<path style=\"fill:none;stroke-width:0.3985;stroke-linecap:butt;stroke-linejoin:miter;stroke:rgb(0%,0%,0%);stroke-opacity:1;stroke-miterlimit:10;\" d=\"M 78.09575 -14.631531 C 87.302781 -14.631531 92.498094 -14.733094 101.705125 -14.733094 \" transform=\"matrix(1,0,0,-1,0.498,26.638)\"/>\n",
       "<path style=\"fill-rule:nonzero;fill:rgb(0%,0%,0%);fill-opacity:1;stroke-width:0.3985;stroke-linecap:butt;stroke-linejoin:miter;stroke:rgb(0%,0%,0%);stroke-opacity:1;stroke-miterlimit:10;\" d=\"M 4.215991 0.0000962449 L 0.644187 1.346509 L 1.81756 -0.000851913 L 0.643253 -1.344904 Z M 4.215991 0.0000962449 \" transform=\"matrix(1,0.00691,0.00691,-1,85.61604,41.28737)\"/>\n",
       "<g clip-path=\"url(#clip-1486170282873633-4)\" clip-rule=\"nonzero\">\n",
       "<path style=\"fill:none;stroke-width:0.3985;stroke-linecap:butt;stroke-linejoin:miter;stroke:rgb(0%,0%,0%);stroke-opacity:1;stroke-miterlimit:10;\" d=\"M 108.822312 14.930969 C 121.076219 14.930969 127.990281 14.634094 140.244188 14.634094 \" transform=\"matrix(1,0,0,-1,0.498,26.638)\"/>\n",
       "</g>\n",
       "<path style=\"fill-rule:nonzero;fill:rgb(0%,0%,0%);fill-opacity:1;stroke-width:0.3985;stroke-linecap:butt;stroke-linejoin:miter;stroke:rgb(0%,0%,0%);stroke-opacity:1;stroke-miterlimit:10;\" d=\"M 4.213077 -0.000560802 L 0.645066 1.346332 L 1.818398 0.00124058 L 0.643978 -1.345226 Z M 4.213077 -0.000560802 \" transform=\"matrix(0.99995,0.01556,0.01556,-0.99995,120.24808,11.78154)\"/>\n",
       "<g clip-path=\"url(#clip-1486170282873633-5)\" clip-rule=\"nonzero\">\n",
       "<path style=\"fill:none;stroke-width:0.3985;stroke-linecap:butt;stroke-linejoin:miter;stroke:rgb(0%,0%,0%);stroke-opacity:1;stroke-miterlimit:10;\" d=\"M 115.935594 -14.733094 C 125.416062 -14.733094 130.763719 -14.631531 140.244188 -14.631531 \" transform=\"matrix(1,0,0,-1,0.498,26.638)\"/>\n",
       "</g>\n",
       "<path style=\"fill-rule:nonzero;fill:rgb(0%,0%,0%);fill-opacity:1;stroke-width:0.3985;stroke-linecap:butt;stroke-linejoin:miter;stroke:rgb(0%,0%,0%);stroke-opacity:1;stroke-miterlimit:10;\" d=\"M 4.214002 0.0000552991 L 0.644897 1.344316 L 1.819473 0.000497584 L 0.642462 -1.347073 Z M 4.214002 0.0000552991 \" transform=\"matrix(1,-0.00671,-0.00671,-1,123.80553,41.35255)\"/>\n",
       "</g>\n",
       "</svg>\n",
       "\n"
      ],
      "text/plain": [
       "CompCat.Diagram.TikZ.Picture(CompCat.Diagram.TikZ.Statement[CompCat.Diagram.TikZ.Node(\"n\",CompCat.Diagram.TikZ.Property[CompCat.Diagram.TikZ.Property(\"container\",#NULL)],#NULL,CompCat.Diagram.TikZ.Picture(CompCat.Diagram.TikZ.Statement[CompCat.Diagram.TikZ.Node(\"n1\",CompCat.Diagram.TikZ.Property[CompCat.Diagram.TikZ.Property(\"minimum height\",\"4.5em\")],#NULL,\"\"),CompCat.Diagram.TikZ.Node(\"n2\",CompCat.Diagram.TikZ.Property[CompCat.Diagram.TikZ.Property(\"container\",#NULL),CompCat.Diagram.TikZ.Property(\"right=2em of n1)\",#NULL)],#NULL,CompCat.Diagram.TikZ.Picture(CompCat.Diagram.TikZ.Statement[CompCat.Diagram.TikZ.Node(\"n21\",CompCat.Diagram.TikZ.Property[CompCat.Diagram.TikZ.Property(\"minimum height\",\"2.0em\")],#NULL,\"\"),CompCat.Diagram.TikZ.Node(\"n22\",CompCat.Diagram.TikZ.Property[CompCat.Diagram.TikZ.Property(\"generator\",#NULL),CompCat.Diagram.TikZ.Property(\"minimum height\",\"2.0em\"),CompCat.Diagram.TikZ.Property(\"below=0.5em of n21\",#NULL)],#NULL,\"f\")],CompCat.Diagram.TikZ.Property[])),CompCat.Diagram.TikZ.Edge(\"\\$(n1.center)+(0,1.25em)\\$\",\"n21.center\",CompCat.Diagram.TikZ.PathOperation(\"to\",CompCat.Diagram.TikZ.Property[]),CompCat.Diagram.TikZ.Property[CompCat.Diagram.TikZ.Property(\"postaction\",\"{decorate}\")],#NULL),CompCat.Diagram.TikZ.Edge(\"\\$(n1.center)+(0,-1.25em)\\$\",\"n22.west\",CompCat.Diagram.TikZ.PathOperation(\"to\",CompCat.Diagram.TikZ.Property[]),CompCat.Diagram.TikZ.Property[CompCat.Diagram.TikZ.Property(\"postaction\",\"{decorate}\")],#NULL),CompCat.Diagram.TikZ.Node(\"n3\",CompCat.Diagram.TikZ.Property[CompCat.Diagram.TikZ.Property(\"generator\",#NULL),CompCat.Diagram.TikZ.Property(\"minimum height\",\"4.5em\"),CompCat.Diagram.TikZ.Property(\"right=2em of n2)\",#NULL)],#NULL,\"h\"),CompCat.Diagram.TikZ.Edge(\"n21.center\",\"\\$(n3.west)+(0,1.25em)\\$\",CompCat.Diagram.TikZ.PathOperation(\"to\",CompCat.Diagram.TikZ.Property[]),CompCat.Diagram.TikZ.Property[CompCat.Diagram.TikZ.Property(\"postaction\",\"{decorate}\")],#NULL),CompCat.Diagram.TikZ.Edge(\"n22.east\",\"\\$(n3.west)+(0,-1.25em)\\$\",CompCat.Diagram.TikZ.PathOperation(\"to\",CompCat.Diagram.TikZ.Property[]),CompCat.Diagram.TikZ.Property[CompCat.Diagram.TikZ.Property(\"postaction\",\"{decorate}\")],#NULL),CompCat.Diagram.TikZ.Node(\"n4\",CompCat.Diagram.TikZ.Property[CompCat.Diagram.TikZ.Property(\"container\",#NULL),CompCat.Diagram.TikZ.Property(\"right=2em of n3)\",#NULL)],#NULL,CompCat.Diagram.TikZ.Picture(CompCat.Diagram.TikZ.Statement[CompCat.Diagram.TikZ.Node(\"n41\",CompCat.Diagram.TikZ.Property[CompCat.Diagram.TikZ.Property(\"minimum height\",\"2.0em\")],#NULL,\"\"),CompCat.Diagram.TikZ.Node(\"n42\",CompCat.Diagram.TikZ.Property[CompCat.Diagram.TikZ.Property(\"generator\",#NULL),CompCat.Diagram.TikZ.Property(\"minimum height\",\"2.0em\"),CompCat.Diagram.TikZ.Property(\"below=0.5em of n41\",#NULL)],#NULL,\"g\")],CompCat.Diagram.TikZ.Property[])),CompCat.Diagram.TikZ.Edge(\"\\$(n3.east)+(0,1.25em)\\$\",\"n41.center\",CompCat.Diagram.TikZ.PathOperation(\"to\",CompCat.Diagram.TikZ.Property[]),CompCat.Diagram.TikZ.Property[CompCat.Diagram.TikZ.Property(\"postaction\",\"{decorate}\")],#NULL),CompCat.Diagram.TikZ.Edge(\"\\$(n3.east)+(0,-1.25em)\\$\",\"n42.west\",CompCat.Diagram.TikZ.PathOperation(\"to\",CompCat.Diagram.TikZ.Property[]),CompCat.Diagram.TikZ.Property[CompCat.Diagram.TikZ.Property(\"postaction\",\"{decorate}\")],#NULL),CompCat.Diagram.TikZ.Node(\"n5\",CompCat.Diagram.TikZ.Property[CompCat.Diagram.TikZ.Property(\"minimum height\",\"4.5em\"),CompCat.Diagram.TikZ.Property(\"right=2em of n4)\",#NULL)],#NULL,\"\"),CompCat.Diagram.TikZ.Edge(\"n41.center\",\"\\$(n5.center)+(0,1.25em)\\$\",CompCat.Diagram.TikZ.PathOperation(\"to\",CompCat.Diagram.TikZ.Property[]),CompCat.Diagram.TikZ.Property[CompCat.Diagram.TikZ.Property(\"postaction\",\"{decorate}\")],#NULL),CompCat.Diagram.TikZ.Edge(\"n42.east\",\"\\$(n5.center)+(0,-1.25em)\\$\",CompCat.Diagram.TikZ.PathOperation(\"to\",CompCat.Diagram.TikZ.Property[]),CompCat.Diagram.TikZ.Property[CompCat.Diagram.TikZ.Property(\"postaction\",\"{decorate}\")],#NULL)],CompCat.Diagram.TikZ.Property[]))],CompCat.Diagram.TikZ.Property[CompCat.Diagram.TikZ.Property(\"remember picture\",#NULL),CompCat.Diagram.TikZ.Property(\"font\",\"{\\\\fontsize{12}{14.4}}\"),CompCat.Diagram.TikZ.Property(\"generator/.style\",\"{draw,solid,rounded corners,inner sep=0.333em}\"),CompCat.Diagram.TikZ.Property(\"container/.style\",\"{inner sep=0}\"),CompCat.Diagram.TikZ.Property(\"every path/.style\",\"{solid}\"),CompCat.Diagram.TikZ.Property(\"every to/.style\",\"{out=0,in=180}\"),CompCat.Diagram.TikZ.Property(\"decoration\",\"{markings, mark=at position 0.5 with {\\\\arrow{Stealth}}}\"),CompCat.Diagram.TikZ.Property(\"execute at begin node\",\"\\$\"),CompCat.Diagram.TikZ.Property(\"execute at end node\",\"\\$\")])"
      ]
     },
     "execution_count": 8,
     "metadata": {},
     "output_type": "execute_result"
    }
   ],
   "source": [
    "diagram(comp2)"
   ]
  },
  {
   "cell_type": "code",
   "execution_count": 9,
   "metadata": {
    "collapsed": false,
    "scrolled": true
   },
   "outputs": [
    {
     "data": {
      "image/svg+xml": [
       "<?xml version=\"1.0\" encoding=\"UTF-8\"?>\n",
       "<svg xmlns=\"http://www.w3.org/2000/svg\" xmlns:xlink=\"http://www.w3.org/1999/xlink\" width=\"68.032pt\" height=\"82.34pt\" viewBox=\"0 0 68.032 82.34\" version=\"1.1\">\n",
       "<defs>\n",
       "<g>\n",
       "<symbol overflow=\"visible\" id=\"glyph-1486170282873634-0-0\">\n",
       "<path style=\"stroke:none;\" d=\"\"/>\n",
       "</symbol>\n",
       "<symbol overflow=\"visible\" id=\"glyph-1486170282873634-0-1\">\n",
       "<path style=\"stroke:none;\" d=\"M 8.9375 -7.296875 C 9.046875 -7.703125 9.078125 -7.8125 9.921875 -7.8125 C 10.140625 -7.8125 10.25 -7.8125 10.25 -8.03125 C 10.25 -8.15625 10.140625 -8.15625 10.078125 -8.15625 C 9.859375 -8.15625 9.609375 -8.140625 9.390625 -8.140625 L 7.96875 -8.140625 C 7.75 -8.140625 7.5 -8.15625 7.265625 -8.15625 C 7.1875 -8.15625 7.046875 -8.15625 7.046875 -7.9375 C 7.046875 -7.8125 7.125 -7.8125 7.34375 -7.8125 C 8.0625 -7.8125 8.0625 -7.71875 8.0625 -7.59375 C 8.0625 -7.5625 8.0625 -7.5 8.015625 -7.3125 L 7.296875 -4.421875 L 3.6875 -4.421875 L 4.40625 -7.296875 C 4.5 -7.703125 4.53125 -7.8125 5.375 -7.8125 C 5.59375 -7.8125 5.71875 -7.8125 5.71875 -8.03125 C 5.71875 -8.15625 5.609375 -8.15625 5.53125 -8.15625 C 5.3125 -8.15625 5.0625 -8.140625 4.84375 -8.140625 L 3.4375 -8.140625 C 3.203125 -8.140625 2.953125 -8.15625 2.71875 -8.15625 C 2.640625 -8.15625 2.5 -8.15625 2.5 -7.9375 C 2.5 -7.8125 2.578125 -7.8125 2.8125 -7.8125 C 3.53125 -7.8125 3.53125 -7.71875 3.53125 -7.59375 C 3.53125 -7.5625 3.53125 -7.5 3.484375 -7.3125 L 1.859375 -0.890625 C 1.75 -0.46875 1.734375 -0.34375 0.90625 -0.34375 C 0.640625 -0.34375 0.546875 -0.34375 0.546875 -0.125 C 0.546875 0 0.6875 0 0.71875 0 C 0.9375 0 1.1875 -0.03125 1.40625 -0.03125 L 2.828125 -0.03125 C 3.046875 -0.03125 3.296875 0 3.53125 0 C 3.625 0 3.75 0 3.75 -0.234375 C 3.75 -0.34375 3.640625 -0.34375 3.46875 -0.34375 C 2.734375 -0.34375 2.734375 -0.4375 2.734375 -0.5625 C 2.734375 -0.578125 2.734375 -0.65625 2.765625 -0.75 L 3.578125 -4.078125 L 7.203125 -4.078125 C 7 -3.28125 6.390625 -0.78125 6.375 -0.71875 C 6.234375 -0.359375 6.046875 -0.359375 5.34375 -0.34375 C 5.203125 -0.34375 5.09375 -0.34375 5.09375 -0.125 C 5.09375 0 5.21875 0 5.265625 0 C 5.46875 0 5.71875 -0.03125 5.953125 -0.03125 L 7.359375 -0.03125 C 7.59375 -0.03125 7.84375 0 8.0625 0 C 8.15625 0 8.296875 0 8.296875 -0.234375 C 8.296875 -0.34375 8.1875 -0.34375 8.015625 -0.34375 C 7.28125 -0.34375 7.28125 -0.4375 7.28125 -0.5625 C 7.28125 -0.578125 7.28125 -0.65625 7.296875 -0.75 Z M 8.9375 -7.296875 \"/>\n",
       "</symbol>\n",
       "</g>\n",
       "<clipPath id=\"clip-1486170282873634-1\">\n",
       "  <path d=\"M 19 0 L 49 0 L 49 82.339844 L 19 82.339844 Z M 19 0 \"/>\n",
       "</clipPath>\n",
       "<clipPath id=\"clip-1486170282873634-2\">\n",
       "  <path d=\"M 37 6 L 68.03125 6 L 68.03125 18 L 37 18 Z M 37 6 \"/>\n",
       "</clipPath>\n",
       "<clipPath id=\"clip-1486170282873634-3\">\n",
       "  <path d=\"M 37 35 L 68.03125 35 L 68.03125 47 L 37 47 Z M 37 35 \"/>\n",
       "</clipPath>\n",
       "<clipPath id=\"clip-1486170282873634-4\">\n",
       "  <path d=\"M 37 64 L 68.03125 64 L 68.03125 77 L 37 77 Z M 37 64 \"/>\n",
       "</clipPath>\n",
       "</defs>\n",
       "<g id=\"surface1\">\n",
       "<g clip-path=\"url(#clip-1486170282873634-1)\" clip-rule=\"nonzero\">\n",
       "<path style=\"fill:none;stroke-width:0.3985;stroke-linecap:butt;stroke-linejoin:miter;stroke:rgb(0%,0%,0%);stroke-opacity:1;stroke-miterlimit:10;\" d=\"M 38.744188 40.970781 L 28.294969 40.970781 C 26.091844 40.970781 24.310594 39.185625 24.310594 36.986406 L 24.310594 -36.98625 C 24.310594 -39.185469 26.091844 -40.970625 28.294969 -40.970625 L 38.744188 -40.970625 C 40.943406 -40.970625 42.728563 -39.185469 42.728563 -36.98625 L 42.728563 36.986406 C 42.728563 39.185625 40.943406 40.970781 38.744188 40.970781 Z M 38.744188 40.970781 \" transform=\"matrix(1,0,0,-1,0.498,41.17)\"/>\n",
       "</g>\n",
       "<g style=\"fill:rgb(0%,0%,0%);fill-opacity:1;\">\n",
       "  <use xlink:href=\"#glyph-1486170282873634-0-1\" x=\"28.705\" y=\"45.254\"/>\n",
       "</g>\n",
       "<path style=\"fill:none;stroke-width:0.3985;stroke-linecap:butt;stroke-linejoin:miter;stroke:rgb(0%,0%,0%);stroke-opacity:1;stroke-miterlimit:10;\" d=\"M -0.00190625 14.630938 C 9.400438 14.630938 14.709031 14.630938 24.111375 14.630938 \" transform=\"matrix(1,0,0,-1,0.498,41.17)\"/>\n",
       "<path style=\"fill-rule:nonzero;fill:rgb(0%,0%,0%);fill-opacity:1;stroke-width:0.3985;stroke-linecap:butt;stroke-linejoin:miter;stroke:rgb(0%,0%,0%);stroke-opacity:1;stroke-miterlimit:10;\" d=\"M 4.214055 -0.0016725 L 0.643742 1.345984 L 1.819524 -0.0016725 L 0.643742 -1.345422 Z M 4.214055 -0.0016725 \" transform=\"matrix(1,0,0,-1,7.77032,26.53739)\"/>\n",
       "<path style=\"fill:none;stroke-width:0.3985;stroke-linecap:butt;stroke-linejoin:miter;stroke:rgb(0%,0%,0%);stroke-opacity:1;stroke-miterlimit:10;\" d=\"M -0.00190625 -14.630781 C 9.400438 -14.630781 14.709031 -14.630781 24.111375 -14.630781 \" transform=\"matrix(1,0,0,-1,0.498,41.17)\"/>\n",
       "<path style=\"fill-rule:nonzero;fill:rgb(0%,0%,0%);fill-opacity:1;stroke-width:0.3985;stroke-linecap:butt;stroke-linejoin:miter;stroke:rgb(0%,0%,0%);stroke-opacity:1;stroke-miterlimit:10;\" d=\"M 4.214055 0.00182875 L 0.643742 1.345579 L 1.819524 0.00182875 L 0.643742 -1.345827 Z M 4.214055 0.00182875 \" transform=\"matrix(1,0,0,-1,7.77032,55.80261)\"/>\n",
       "<g clip-path=\"url(#clip-1486170282873634-2)\" clip-rule=\"nonzero\">\n",
       "<path style=\"fill:none;stroke-width:0.3985;stroke-linecap:butt;stroke-linejoin:miter;stroke:rgb(0%,0%,0%);stroke-opacity:1;stroke-miterlimit:10;\" d=\"M 42.927781 29.26375 C 52.330125 29.26375 57.634813 29.26375 67.037156 29.26375 \" transform=\"matrix(1,0,0,-1,0.498,41.17)\"/>\n",
       "</g>\n",
       "<path style=\"fill-rule:nonzero;fill:rgb(0%,0%,0%);fill-opacity:1;stroke-width:0.3985;stroke-linecap:butt;stroke-linejoin:miter;stroke:rgb(0%,0%,0%);stroke-opacity:1;stroke-miterlimit:10;\" d=\"M 4.212816 -0.00152 L 0.642504 1.346136 L 1.818285 -0.00152 L 0.642504 -1.34527 Z M 4.212816 -0.00152 \" transform=\"matrix(1,0,0,-1,50.69734,11.90473)\"/>\n",
       "<g clip-path=\"url(#clip-1486170282873634-3)\" clip-rule=\"nonzero\">\n",
       "<path style=\"fill:none;stroke-width:0.3985;stroke-linecap:butt;stroke-linejoin:miter;stroke:rgb(0%,0%,0%);stroke-opacity:1;stroke-miterlimit:10;\" d=\"M 42.927781 -0.001875 C 52.330125 -0.001875 57.634813 -0.001875 67.037156 -0.001875 \" transform=\"matrix(1,0,0,-1,0.498,41.17)\"/>\n",
       "</g>\n",
       "<path style=\"fill-rule:nonzero;fill:rgb(0%,0%,0%);fill-opacity:1;stroke-width:0.3985;stroke-linecap:butt;stroke-linejoin:miter;stroke:rgb(0%,0%,0%);stroke-opacity:1;stroke-miterlimit:10;\" d=\"M 4.212816 -0.001875 L 0.642504 1.345781 L 1.818285 -0.001875 L 0.642504 -1.345625 Z M 4.212816 -0.001875 \" transform=\"matrix(1,0,0,-1,50.69734,41.17)\"/>\n",
       "<g clip-path=\"url(#clip-1486170282873634-4)\" clip-rule=\"nonzero\">\n",
       "<path style=\"fill:none;stroke-width:0.3985;stroke-linecap:butt;stroke-linejoin:miter;stroke:rgb(0%,0%,0%);stroke-opacity:1;stroke-miterlimit:10;\" d=\"M 42.927781 -29.263594 C 52.330125 -29.263594 57.634813 -29.263594 67.037156 -29.263594 \" transform=\"matrix(1,0,0,-1,0.498,41.17)\"/>\n",
       "</g>\n",
       "<path style=\"fill-rule:nonzero;fill:rgb(0%,0%,0%);fill-opacity:1;stroke-width:0.3985;stroke-linecap:butt;stroke-linejoin:miter;stroke:rgb(0%,0%,0%);stroke-opacity:1;stroke-miterlimit:10;\" d=\"M 4.212816 0.00167625 L 0.642504 1.345426 L 1.818285 0.00167625 L 0.642504 -1.34598 Z M 4.212816 0.00167625 \" transform=\"matrix(1,0,0,-1,50.69734,70.43527)\"/>\n",
       "</g>\n",
       "</svg>\n",
       "\n"
      ],
      "text/plain": [
       "CompCat.Diagram.TikZ.Picture(CompCat.Diagram.TikZ.Statement[CompCat.Diagram.TikZ.Node(\"n\",CompCat.Diagram.TikZ.Property[CompCat.Diagram.TikZ.Property(\"container\",#NULL)],#NULL,CompCat.Diagram.TikZ.Picture(CompCat.Diagram.TikZ.Statement[CompCat.Diagram.TikZ.Node(\"n1\",CompCat.Diagram.TikZ.Property[CompCat.Diagram.TikZ.Property(\"minimum height\",\"4.5em\")],#NULL,\"\"),CompCat.Diagram.TikZ.Node(\"n2\",CompCat.Diagram.TikZ.Property[CompCat.Diagram.TikZ.Property(\"generator\",#NULL),CompCat.Diagram.TikZ.Property(\"minimum height\",\"7.0em\"),CompCat.Diagram.TikZ.Property(\"right=2em of n1)\",#NULL)],#NULL,\"H\"),CompCat.Diagram.TikZ.Edge(\"\\$(n1.center)+(0,1.25em)\\$\",\"\\$(n2.west)+(0,1.25em)\\$\",CompCat.Diagram.TikZ.PathOperation(\"to\",CompCat.Diagram.TikZ.Property[]),CompCat.Diagram.TikZ.Property[CompCat.Diagram.TikZ.Property(\"postaction\",\"{decorate}\")],#NULL),CompCat.Diagram.TikZ.Edge(\"\\$(n1.center)+(0,-1.25em)\\$\",\"\\$(n2.west)+(0,-1.25em)\\$\",CompCat.Diagram.TikZ.PathOperation(\"to\",CompCat.Diagram.TikZ.Property[]),CompCat.Diagram.TikZ.Property[CompCat.Diagram.TikZ.Property(\"postaction\",\"{decorate}\")],#NULL),CompCat.Diagram.TikZ.Node(\"n3\",CompCat.Diagram.TikZ.Property[CompCat.Diagram.TikZ.Property(\"minimum height\",\"7.0em\"),CompCat.Diagram.TikZ.Property(\"right=2em of n2)\",#NULL)],#NULL,\"\"),CompCat.Diagram.TikZ.Edge(\"\\$(n2.east)+(0,2.5em)\\$\",\"\\$(n3.center)+(0,2.5em)\\$\",CompCat.Diagram.TikZ.PathOperation(\"to\",CompCat.Diagram.TikZ.Property[]),CompCat.Diagram.TikZ.Property[CompCat.Diagram.TikZ.Property(\"postaction\",\"{decorate}\")],#NULL),CompCat.Diagram.TikZ.Edge(\"\\$(n2.east)+(0,0.0em)\\$\",\"\\$(n3.center)+(0,0.0em)\\$\",CompCat.Diagram.TikZ.PathOperation(\"to\",CompCat.Diagram.TikZ.Property[]),CompCat.Diagram.TikZ.Property[CompCat.Diagram.TikZ.Property(\"postaction\",\"{decorate}\")],#NULL),CompCat.Diagram.TikZ.Edge(\"\\$(n2.east)+(0,-2.5em)\\$\",\"\\$(n3.center)+(0,-2.5em)\\$\",CompCat.Diagram.TikZ.PathOperation(\"to\",CompCat.Diagram.TikZ.Property[]),CompCat.Diagram.TikZ.Property[CompCat.Diagram.TikZ.Property(\"postaction\",\"{decorate}\")],#NULL)],CompCat.Diagram.TikZ.Property[]))],CompCat.Diagram.TikZ.Property[CompCat.Diagram.TikZ.Property(\"remember picture\",#NULL),CompCat.Diagram.TikZ.Property(\"font\",\"{\\\\fontsize{12}{14.4}}\"),CompCat.Diagram.TikZ.Property(\"generator/.style\",\"{draw,solid,rounded corners,inner sep=0.333em}\"),CompCat.Diagram.TikZ.Property(\"container/.style\",\"{inner sep=0}\"),CompCat.Diagram.TikZ.Property(\"every path/.style\",\"{solid}\"),CompCat.Diagram.TikZ.Property(\"every to/.style\",\"{out=0,in=180}\"),CompCat.Diagram.TikZ.Property(\"decoration\",\"{markings, mark=at position 0.5 with {\\\\arrow{Stealth}}}\"),CompCat.Diagram.TikZ.Property(\"execute at begin node\",\"\\$\"),CompCat.Diagram.TikZ.Property(\"execute at end node\",\"\\$\")])"
      ]
     },
     "execution_count": 9,
     "metadata": {},
     "output_type": "execute_result"
    }
   ],
   "source": [
    "diagram(mor_expr(:H, otimes(A,A), otimes(B,B,B)))"
   ]
  }
 ],
 "metadata": {
  "kernelspec": {
   "display_name": "Julia 0.5.0",
   "language": "julia",
   "name": "julia-0.5"
  },
  "language_info": {
   "file_extension": ".jl",
   "mimetype": "application/julia",
   "name": "julia",
   "version": "0.5.0"
  }
 },
 "nbformat": 4,
 "nbformat_minor": 2
}
