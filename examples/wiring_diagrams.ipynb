{
 "cells": [
  {
   "cell_type": "markdown",
   "metadata": {},
   "source": [
    "# Wiring diagrams"
   ]
  },
  {
   "cell_type": "code",
   "execution_count": 10,
   "metadata": {
    "collapsed": false
   },
   "outputs": [],
   "source": [
    "using CompCat.Syntax\n",
    "using CompCat.Diagram.Wiring\n",
    "using CompCat.Diagram.Interactive"
   ]
  },
  {
   "cell_type": "code",
   "execution_count": 2,
   "metadata": {
    "collapsed": false
   },
   "outputs": [],
   "source": [
    "A = ob_expr(:A)\n",
    "B = ob_expr(:B)\n",
    "f = mor_expr(:f, A, B)\n",
    "g = mor_expr(:g, B, A)\n",
    "h = mor_expr(:h, otimes(A,B), otimes(A,B));"
   ]
  },
  {
   "cell_type": "code",
   "execution_count": 3,
   "metadata": {
    "collapsed": false
   },
   "outputs": [
    {
     "data": {
      "image/svg+xml": [
       "<?xml version=\"1.0\" encoding=\"UTF-8\"?>\n",
       "<svg xmlns=\"http://www.w3.org/2000/svg\" xmlns:xlink=\"http://www.w3.org/1999/xlink\" width=\"65.619pt\" height=\"24.309pt\" viewBox=\"0 0 65.619 24.309\" version=\"1.1\">\n",
       "<defs>\n",
       "<g>\n",
       "<symbol overflow=\"visible\" id=\"glyph-1486163522525924-0-0\">\n",
       "<path style=\"stroke:none;\" d=\"\"/>\n",
       "</symbol>\n",
       "<symbol overflow=\"visible\" id=\"glyph-1486163522525924-0-1\">\n",
       "<path style=\"stroke:none;\" d=\"M 5.328125 -4.8125 C 5.5625 -4.8125 5.671875 -4.8125 5.671875 -5.03125 C 5.671875 -5.15625 5.5625 -5.15625 5.359375 -5.15625 L 4.390625 -5.15625 C 4.609375 -6.390625 4.78125 -7.234375 4.875 -7.609375 C 4.953125 -7.90625 5.203125 -8.171875 5.515625 -8.171875 C 5.765625 -8.171875 6.015625 -8.0625 6.125 -7.953125 C 5.671875 -7.90625 5.515625 -7.5625 5.515625 -7.359375 C 5.515625 -7.125 5.703125 -6.984375 5.921875 -6.984375 C 6.171875 -6.984375 6.53125 -7.1875 6.53125 -7.640625 C 6.53125 -8.140625 6.03125 -8.421875 5.5 -8.421875 C 4.984375 -8.421875 4.484375 -8.03125 4.25 -7.5625 C 4.03125 -7.140625 3.90625 -6.71875 3.640625 -5.15625 L 2.828125 -5.15625 C 2.609375 -5.15625 2.484375 -5.15625 2.484375 -4.9375 C 2.484375 -4.8125 2.5625 -4.8125 2.796875 -4.8125 L 3.5625 -4.8125 C 3.34375 -3.6875 2.859375 -0.984375 2.578125 0.28125 C 2.375 1.328125 2.203125 2.203125 1.609375 2.203125 C 1.5625 2.203125 1.21875 2.203125 1 1.96875 C 1.609375 1.921875 1.609375 1.40625 1.609375 1.390625 C 1.609375 1.140625 1.4375 1 1.203125 1 C 0.96875 1 0.609375 1.203125 0.609375 1.65625 C 0.609375 2.171875 1.140625 2.4375 1.609375 2.4375 C 2.828125 2.4375 3.328125 0.25 3.453125 -0.34375 C 3.671875 -1.265625 4.25 -4.453125 4.3125 -4.8125 Z M 5.328125 -4.8125 \"/>\n",
       "</symbol>\n",
       "</g>\n",
       "<clipPath id=\"clip-1486163522525924-1\">\n",
       "  <path d=\"M 19 0 L 46 0 L 46 24.308594 L 19 24.308594 Z M 19 0 \"/>\n",
       "</clipPath>\n",
       "<clipPath id=\"clip-1486163522525924-2\">\n",
       "  <path d=\"M 34 6 L 65.617188 6 L 65.617188 18 L 34 18 Z M 34 6 \"/>\n",
       "</clipPath>\n",
       "</defs>\n",
       "<g id=\"surface1\">\n",
       "<g clip-path=\"url(#clip-1486163522525924-1)\" clip-rule=\"nonzero\">\n",
       "<path style=\"fill:none;stroke-width:0.3985;stroke-linecap:butt;stroke-linejoin:miter;stroke:rgb(0%,0%,0%);stroke-opacity:1;stroke-miterlimit:10;\" d=\"M 35.830125 11.955781 L 28.791062 11.955781 C 26.591844 11.955781 24.806687 10.170625 24.806687 7.971406 L 24.806687 -7.97 C 24.806687 -10.169219 26.591844 -11.954375 28.791062 -11.954375 L 35.830125 -11.954375 C 38.03325 -11.954375 39.8145 -10.169219 39.8145 -7.97 L 39.8145 7.971406 C 39.8145 10.170625 38.03325 11.955781 35.830125 11.955781 Z M 35.830125 11.955781 \" transform=\"matrix(1,0,0,-1,0.498,12.155)\"/>\n",
       "</g>\n",
       "<g style=\"fill:rgb(0%,0%,0%);fill-opacity:1;\">\n",
       "  <use xlink:href=\"#glyph-1486163522525924-0-1\" x=\"29.286\" y=\"15.143\"/>\n",
       "</g>\n",
       "<path style=\"fill:none;stroke-width:0.3985;stroke-linecap:butt;stroke-linejoin:miter;stroke:rgb(0%,0%,0%);stroke-opacity:1;stroke-miterlimit:10;\" d=\"M -0.00190625 -0.00125 C 9.59575 -0.00125 15.009813 -0.00125 24.607469 -0.00125 \" transform=\"matrix(1,0,0,-1,0.498,12.155)\"/>\n",
       "<path style=\" stroke:none;fill-rule:nonzero;fill:rgb(0%,0%,0%);fill-opacity:1;\" d=\"M 12.800781 12.15625 L 9.613281 10.5625 L 10.808594 12.15625 L 9.613281 13.75 \"/>\n",
       "<g clip-path=\"url(#clip-1486163522525924-2)\" clip-rule=\"nonzero\">\n",
       "<path style=\"fill:none;stroke-width:0.3985;stroke-linecap:butt;stroke-linejoin:miter;stroke:rgb(0%,0%,0%);stroke-opacity:1;stroke-miterlimit:10;\" d=\"M 40.013719 -0.00125 C 49.611375 -0.00125 55.025438 -0.00125 64.623094 -0.00125 \" transform=\"matrix(1,0,0,-1,0.498,12.155)\"/>\n",
       "</g>\n",
       "<path style=\" stroke:none;fill-rule:nonzero;fill:rgb(0%,0%,0%);fill-opacity:1;\" d=\"M 52.816406 12.15625 L 49.628906 10.5625 L 50.824219 12.15625 L 49.628906 13.75 \"/>\n",
       "</g>\n",
       "</svg>\n",
       "\n"
      ],
      "text/plain": [
       "CompCat.Diagram.TikZ.Picture(CompCat.Diagram.TikZ.Statement[CompCat.Diagram.TikZ.Node(\"n\",CompCat.Diagram.TikZ.Property[CompCat.Diagram.TikZ.Property(\"container\",#NULL)],#NULL,CompCat.Diagram.TikZ.Picture(CompCat.Diagram.TikZ.Statement[CompCat.Diagram.TikZ.Node(\"n1\",CompCat.Diagram.TikZ.Property[CompCat.Diagram.TikZ.Property(\"minimum height\",\"2.0em\")],#NULL,\"\"),CompCat.Diagram.TikZ.Node(\"n2\",CompCat.Diagram.TikZ.Property[CompCat.Diagram.TikZ.Property(\"generator\",#NULL),CompCat.Diagram.TikZ.Property(\"minimum height\",\"2.0em\"),CompCat.Diagram.TikZ.Property(\"right=2em of n1)\",#NULL)],#NULL,\"f\"),CompCat.Diagram.TikZ.Edge(\"n1.center\",\"n2.west\",CompCat.Diagram.TikZ.PathOperation(\"to\",CompCat.Diagram.TikZ.Property[]),CompCat.Diagram.TikZ.Property[CompCat.Diagram.TikZ.Property(\"postaction\",\"{decorate}\")],#NULL),CompCat.Diagram.TikZ.Node(\"n3\",CompCat.Diagram.TikZ.Property[CompCat.Diagram.TikZ.Property(\"minimum height\",\"2.0em\"),CompCat.Diagram.TikZ.Property(\"right=2em of n2)\",#NULL)],#NULL,\"\"),CompCat.Diagram.TikZ.Edge(\"n2.east\",\"n3.center\",CompCat.Diagram.TikZ.PathOperation(\"to\",CompCat.Diagram.TikZ.Property[]),CompCat.Diagram.TikZ.Property[CompCat.Diagram.TikZ.Property(\"postaction\",\"{decorate}\")],#NULL)],CompCat.Diagram.TikZ.Property[]))],CompCat.Diagram.TikZ.Property[CompCat.Diagram.TikZ.Property(\"remember picture\",#NULL),CompCat.Diagram.TikZ.Property(\"decoration\",\"{markings, mark=at position 0.5 with {\\\\arrow{stealth}}}\"),CompCat.Diagram.TikZ.Property(\"font\",\"{\\\\fontsize{12}{14.4}}\"),CompCat.Diagram.TikZ.Property(\"generator/.style\",\"{draw,solid,rounded corners,inner sep=0.333em}\"),CompCat.Diagram.TikZ.Property(\"container/.style\",\"{inner sep=0}\"),CompCat.Diagram.TikZ.Property(\"every path/.style\",\"{solid}\"),CompCat.Diagram.TikZ.Property(\"every to/.style\",\"{out=0,in=180}\"),CompCat.Diagram.TikZ.Property(\"execute at begin node\",\"\\$\"),CompCat.Diagram.TikZ.Property(\"execute at end node\",\"\\$\")])"
      ]
     },
     "execution_count": 3,
     "metadata": {},
     "output_type": "execute_result"
    }
   ],
   "source": [
    "diagram_tikz(f)"
   ]
  },
  {
   "cell_type": "code",
   "execution_count": 4,
   "metadata": {
    "collapsed": false
   },
   "outputs": [
    {
     "data": {
      "image/svg+xml": [
       "<?xml version=\"1.0\" encoding=\"UTF-8\"?>\n",
       "<svg xmlns=\"http://www.w3.org/2000/svg\" xmlns:xlink=\"http://www.w3.org/1999/xlink\" width=\"103.924pt\" height=\"24.309pt\" viewBox=\"0 0 103.924 24.309\" version=\"1.1\">\n",
       "<defs>\n",
       "<g>\n",
       "<symbol overflow=\"visible\" id=\"glyph-1486163522525925-0-0\">\n",
       "<path style=\"stroke:none;\" d=\"\"/>\n",
       "</symbol>\n",
       "<symbol overflow=\"visible\" id=\"glyph-1486163522525925-0-1\">\n",
       "<path style=\"stroke:none;\" d=\"M 5.328125 -4.8125 C 5.5625 -4.8125 5.671875 -4.8125 5.671875 -5.03125 C 5.671875 -5.15625 5.5625 -5.15625 5.359375 -5.15625 L 4.390625 -5.15625 C 4.609375 -6.390625 4.78125 -7.234375 4.875 -7.609375 C 4.953125 -7.90625 5.203125 -8.171875 5.515625 -8.171875 C 5.765625 -8.171875 6.015625 -8.0625 6.125 -7.953125 C 5.671875 -7.90625 5.515625 -7.5625 5.515625 -7.359375 C 5.515625 -7.125 5.703125 -6.984375 5.921875 -6.984375 C 6.171875 -6.984375 6.53125 -7.1875 6.53125 -7.640625 C 6.53125 -8.140625 6.03125 -8.421875 5.5 -8.421875 C 4.984375 -8.421875 4.484375 -8.03125 4.25 -7.5625 C 4.03125 -7.140625 3.90625 -6.71875 3.640625 -5.15625 L 2.828125 -5.15625 C 2.609375 -5.15625 2.484375 -5.15625 2.484375 -4.9375 C 2.484375 -4.8125 2.5625 -4.8125 2.796875 -4.8125 L 3.5625 -4.8125 C 3.34375 -3.6875 2.859375 -0.984375 2.578125 0.28125 C 2.375 1.328125 2.203125 2.203125 1.609375 2.203125 C 1.5625 2.203125 1.21875 2.203125 1 1.96875 C 1.609375 1.921875 1.609375 1.40625 1.609375 1.390625 C 1.609375 1.140625 1.4375 1 1.203125 1 C 0.96875 1 0.609375 1.203125 0.609375 1.65625 C 0.609375 2.171875 1.140625 2.4375 1.609375 2.4375 C 2.828125 2.4375 3.328125 0.25 3.453125 -0.34375 C 3.671875 -1.265625 4.25 -4.453125 4.3125 -4.8125 Z M 5.328125 -4.8125 \"/>\n",
       "</symbol>\n",
       "<symbol overflow=\"visible\" id=\"glyph-1486163522525925-0-2\">\n",
       "<path style=\"stroke:none;\" d=\"M 4.046875 -1.515625 C 4 -1.328125 3.96875 -1.28125 3.8125 -1.09375 C 3.328125 -0.46875 2.828125 -0.234375 2.453125 -0.234375 C 2.0625 -0.234375 1.6875 -0.546875 1.6875 -1.375 C 1.6875 -2.015625 2.046875 -3.34375 2.3125 -3.890625 C 2.65625 -4.546875 3.1875 -5.03125 3.6875 -5.03125 C 4.484375 -5.03125 4.640625 -4.046875 4.640625 -3.984375 L 4.609375 -3.8125 Z M 4.78125 -4.484375 C 4.625 -4.828125 4.296875 -5.265625 3.6875 -5.265625 C 2.390625 -5.265625 0.90625 -3.640625 0.90625 -1.859375 C 0.90625 -0.609375 1.65625 0 2.421875 0 C 3.0625 0 3.625 -0.5 3.84375 -0.734375 L 3.578125 0.328125 C 3.40625 0.984375 3.328125 1.296875 2.90625 1.703125 C 2.421875 2.203125 1.953125 2.203125 1.703125 2.203125 C 1.34375 2.203125 1.046875 2.171875 0.734375 2.078125 C 1.125 1.96875 1.21875 1.640625 1.21875 1.5 C 1.21875 1.3125 1.078125 1.125 0.8125 1.125 C 0.53125 1.125 0.21875 1.359375 0.21875 1.75 C 0.21875 2.25 0.703125 2.4375 1.71875 2.4375 C 3.265625 2.4375 4.0625 1.453125 4.21875 0.796875 L 5.546875 -4.546875 C 5.578125 -4.703125 5.578125 -4.71875 5.578125 -4.75 C 5.578125 -4.90625 5.453125 -5.046875 5.265625 -5.046875 C 4.984375 -5.046875 4.8125 -4.8125 4.78125 -4.484375 Z M 4.78125 -4.484375 \"/>\n",
       "</symbol>\n",
       "</g>\n",
       "<clipPath id=\"clip-1486163522525925-1\">\n",
       "  <path d=\"M 19 0 L 46 0 L 46 24.308594 L 19 24.308594 Z M 19 0 \"/>\n",
       "</clipPath>\n",
       "<clipPath id=\"clip-1486163522525925-2\">\n",
       "  <path d=\"M 58 0 L 85 0 L 85 24.308594 L 58 24.308594 Z M 58 0 \"/>\n",
       "</clipPath>\n",
       "<clipPath id=\"clip-1486163522525925-3\">\n",
       "  <path d=\"M 73 6 L 103.925781 6 L 103.925781 18 L 73 18 Z M 73 6 \"/>\n",
       "</clipPath>\n",
       "</defs>\n",
       "<g id=\"surface1\">\n",
       "<g clip-path=\"url(#clip-1486163522525925-1)\" clip-rule=\"nonzero\">\n",
       "<path style=\"fill:none;stroke-width:0.3985;stroke-linecap:butt;stroke-linejoin:miter;stroke:rgb(0%,0%,0%);stroke-opacity:1;stroke-miterlimit:10;\" d=\"M 35.830125 11.955781 L 28.791062 11.955781 C 26.591844 11.955781 24.806687 10.170625 24.806687 7.971406 L 24.806687 -7.97 C 24.806687 -10.169219 26.591844 -11.954375 28.791062 -11.954375 L 35.830125 -11.954375 C 38.03325 -11.954375 39.8145 -10.169219 39.8145 -7.97 L 39.8145 7.971406 C 39.8145 10.170625 38.03325 11.955781 35.830125 11.955781 Z M 35.830125 11.955781 \" transform=\"matrix(1,0,0,-1,0.498,12.155)\"/>\n",
       "</g>\n",
       "<g style=\"fill:rgb(0%,0%,0%);fill-opacity:1;\">\n",
       "  <use xlink:href=\"#glyph-1486163522525925-0-1\" x=\"29.286\" y=\"15.143\"/>\n",
       "</g>\n",
       "<path style=\"fill:none;stroke-width:0.3985;stroke-linecap:butt;stroke-linejoin:miter;stroke:rgb(0%,0%,0%);stroke-opacity:1;stroke-miterlimit:10;\" d=\"M -0.00190625 -0.00125 C 9.59575 -0.00125 15.009813 -0.00125 24.607469 -0.00125 \" transform=\"matrix(1,0,0,-1,0.498,12.155)\"/>\n",
       "<path style=\" stroke:none;fill-rule:nonzero;fill:rgb(0%,0%,0%);fill-opacity:1;\" d=\"M 12.800781 12.15625 L 9.613281 10.5625 L 10.808594 12.15625 L 9.613281 13.75 \"/>\n",
       "<g clip-path=\"url(#clip-1486163522525925-2)\" clip-rule=\"nonzero\">\n",
       "<path style=\"fill:none;stroke-width:0.3985;stroke-linecap:butt;stroke-linejoin:miter;stroke:rgb(0%,0%,0%);stroke-opacity:1;stroke-miterlimit:10;\" d=\"M 74.134812 11.955781 L 68.111375 11.955781 C 65.90825 11.955781 64.123094 10.170625 64.123094 7.971406 L 64.123094 -7.97 C 64.123094 -10.169219 65.90825 -11.954375 68.111375 -11.954375 L 74.134812 -11.954375 C 76.337937 -11.954375 78.123094 -10.169219 78.123094 -7.97 L 78.123094 7.971406 C 78.123094 10.170625 76.337937 11.955781 74.134812 11.955781 Z M 74.134812 11.955781 \" transform=\"matrix(1,0,0,-1,0.498,12.155)\"/>\n",
       "</g>\n",
       "<g style=\"fill:rgb(0%,0%,0%);fill-opacity:1;\">\n",
       "  <use xlink:href=\"#glyph-1486163522525925-0-2\" x=\"68.603\" y=\"13.566\"/>\n",
       "</g>\n",
       "<path style=\"fill:none;stroke-width:0.3985;stroke-linecap:butt;stroke-linejoin:miter;stroke:rgb(0%,0%,0%);stroke-opacity:1;stroke-miterlimit:10;\" d=\"M 40.013719 -0.00125 C 49.337938 -0.00125 54.599656 -0.00125 63.923875 -0.00125 \" transform=\"matrix(1,0,0,-1,0.498,12.155)\"/>\n",
       "<path style=\" stroke:none;fill-rule:nonzero;fill:rgb(0%,0%,0%);fill-opacity:1;\" d=\"M 52.46875 12.15625 L 49.28125 10.5625 L 50.476562 12.15625 L 49.28125 13.75 \"/>\n",
       "<g clip-path=\"url(#clip-1486163522525925-3)\" clip-rule=\"nonzero\">\n",
       "<path style=\"fill:none;stroke-width:0.3985;stroke-linecap:butt;stroke-linejoin:miter;stroke:rgb(0%,0%,0%);stroke-opacity:1;stroke-miterlimit:10;\" d=\"M 78.322312 -0.00125 C 87.916062 -0.00125 93.334031 -0.00125 102.927781 -0.00125 \" transform=\"matrix(1,0,0,-1,0.498,12.155)\"/>\n",
       "</g>\n",
       "<path style=\" stroke:none;fill-rule:nonzero;fill:rgb(0%,0%,0%);fill-opacity:1;\" d=\"M 91.121094 12.15625 L 87.933594 10.5625 L 89.128906 12.15625 L 87.933594 13.75 \"/>\n",
       "</g>\n",
       "</svg>\n",
       "\n"
      ],
      "text/plain": [
       "CompCat.Diagram.TikZ.Picture(CompCat.Diagram.TikZ.Statement[CompCat.Diagram.TikZ.Node(\"n\",CompCat.Diagram.TikZ.Property[CompCat.Diagram.TikZ.Property(\"container\",#NULL)],#NULL,CompCat.Diagram.TikZ.Picture(CompCat.Diagram.TikZ.Statement[CompCat.Diagram.TikZ.Node(\"n1\",CompCat.Diagram.TikZ.Property[CompCat.Diagram.TikZ.Property(\"minimum height\",\"2.0em\")],#NULL,\"\"),CompCat.Diagram.TikZ.Node(\"n2\",CompCat.Diagram.TikZ.Property[CompCat.Diagram.TikZ.Property(\"generator\",#NULL),CompCat.Diagram.TikZ.Property(\"minimum height\",\"2.0em\"),CompCat.Diagram.TikZ.Property(\"right=2em of n1)\",#NULL)],#NULL,\"f\"),CompCat.Diagram.TikZ.Edge(\"n1.center\",\"n2.west\",CompCat.Diagram.TikZ.PathOperation(\"to\",CompCat.Diagram.TikZ.Property[]),CompCat.Diagram.TikZ.Property[CompCat.Diagram.TikZ.Property(\"postaction\",\"{decorate}\")],#NULL),CompCat.Diagram.TikZ.Node(\"n3\",CompCat.Diagram.TikZ.Property[CompCat.Diagram.TikZ.Property(\"generator\",#NULL),CompCat.Diagram.TikZ.Property(\"minimum height\",\"2.0em\"),CompCat.Diagram.TikZ.Property(\"right=2em of n2)\",#NULL)],#NULL,\"g\"),CompCat.Diagram.TikZ.Edge(\"n2.east\",\"n3.west\",CompCat.Diagram.TikZ.PathOperation(\"to\",CompCat.Diagram.TikZ.Property[]),CompCat.Diagram.TikZ.Property[CompCat.Diagram.TikZ.Property(\"postaction\",\"{decorate}\")],#NULL),CompCat.Diagram.TikZ.Node(\"n4\",CompCat.Diagram.TikZ.Property[CompCat.Diagram.TikZ.Property(\"minimum height\",\"2.0em\"),CompCat.Diagram.TikZ.Property(\"right=2em of n3)\",#NULL)],#NULL,\"\"),CompCat.Diagram.TikZ.Edge(\"n3.east\",\"n4.center\",CompCat.Diagram.TikZ.PathOperation(\"to\",CompCat.Diagram.TikZ.Property[]),CompCat.Diagram.TikZ.Property[CompCat.Diagram.TikZ.Property(\"postaction\",\"{decorate}\")],#NULL)],CompCat.Diagram.TikZ.Property[]))],CompCat.Diagram.TikZ.Property[CompCat.Diagram.TikZ.Property(\"remember picture\",#NULL),CompCat.Diagram.TikZ.Property(\"decoration\",\"{markings, mark=at position 0.5 with {\\\\arrow{stealth}}}\"),CompCat.Diagram.TikZ.Property(\"font\",\"{\\\\fontsize{12}{14.4}}\"),CompCat.Diagram.TikZ.Property(\"generator/.style\",\"{draw,solid,rounded corners,inner sep=0.333em}\"),CompCat.Diagram.TikZ.Property(\"container/.style\",\"{inner sep=0}\"),CompCat.Diagram.TikZ.Property(\"every path/.style\",\"{solid}\"),CompCat.Diagram.TikZ.Property(\"every to/.style\",\"{out=0,in=180}\"),CompCat.Diagram.TikZ.Property(\"execute at begin node\",\"\\$\"),CompCat.Diagram.TikZ.Property(\"execute at end node\",\"\\$\")])"
      ]
     },
     "execution_count": 4,
     "metadata": {},
     "output_type": "execute_result"
    }
   ],
   "source": [
    "diagram_tikz(compose(f,g))"
   ]
  },
  {
   "cell_type": "code",
   "execution_count": 5,
   "metadata": {
    "collapsed": false
   },
   "outputs": [
    {
     "data": {
      "text/latex": [
       "$\\left(g \\otimes f\\right) h \\left(f \\otimes g\\right)$"
      ],
      "text/plain": [
       "CompCat.Syntax.MorExpr(:compose,CompCat.Syntax.MorExpr[CompCat.Syntax.MorExpr(:otimes,CompCat.Syntax.MorExpr[CompCat.Syntax.MorExpr(:gen,Any[:g,CompCat.Syntax.ObExpr(:gen,Symbol[:B]),CompCat.Syntax.ObExpr(:gen,Symbol[:A])]),CompCat.Syntax.MorExpr(:gen,Any[:f,CompCat.Syntax.ObExpr(:gen,Symbol[:A]),CompCat.Syntax.ObExpr(:gen,Symbol[:B])])]),CompCat.Syntax.MorExpr(:gen,Any[:h,CompCat.Syntax.ObExpr(:otimes,CompCat.Syntax.ObExpr[CompCat.Syntax.ObExpr(:gen,Symbol[:A]),CompCat.Syntax.ObExpr(:gen,Symbol[:B])]),CompCat.Syntax.ObExpr(:otimes,CompCat.Syntax.ObExpr[CompCat.Syntax.ObExpr(:gen,Symbol[:A]),CompCat.Syntax.ObExpr(:gen,Symbol[:B])])]),CompCat.Syntax.MorExpr(:otimes,CompCat.Syntax.MorExpr[CompCat.Syntax.MorExpr(:gen,Any[:f,CompCat.Syntax.ObExpr(:gen,Symbol[:A]),CompCat.Syntax.ObExpr(:gen,Symbol[:B])]),CompCat.Syntax.MorExpr(:gen,Any[:g,CompCat.Syntax.ObExpr(:gen,Symbol[:B]),CompCat.Syntax.ObExpr(:gen,Symbol[:A])])])])"
      ]
     },
     "execution_count": 5,
     "metadata": {},
     "output_type": "execute_result"
    }
   ],
   "source": [
    "comp1 = compose(otimes(g,f), h, otimes(f,g))"
   ]
  },
  {
   "cell_type": "code",
   "execution_count": 6,
   "metadata": {
    "collapsed": false
   },
   "outputs": [
    {
     "data": {
      "image/svg+xml": [
       "<?xml version=\"1.0\" encoding=\"UTF-8\"?>\n",
       "<svg xmlns=\"http://www.w3.org/2000/svg\" xmlns:xlink=\"http://www.w3.org/1999/xlink\" width=\"144.742pt\" height=\"54.595pt\" viewBox=\"0 0 144.742 54.595\" version=\"1.1\">\n",
       "<defs>\n",
       "<g>\n",
       "<symbol overflow=\"visible\" id=\"glyph-1486163522525926-0-0\">\n",
       "<path style=\"stroke:none;\" d=\"\"/>\n",
       "</symbol>\n",
       "<symbol overflow=\"visible\" id=\"glyph-1486163522525926-0-1\">\n",
       "<path style=\"stroke:none;\" d=\"M 4.046875 -1.515625 C 4 -1.328125 3.96875 -1.28125 3.8125 -1.09375 C 3.328125 -0.46875 2.828125 -0.234375 2.453125 -0.234375 C 2.0625 -0.234375 1.6875 -0.546875 1.6875 -1.375 C 1.6875 -2.015625 2.046875 -3.34375 2.3125 -3.890625 C 2.65625 -4.546875 3.1875 -5.03125 3.6875 -5.03125 C 4.484375 -5.03125 4.640625 -4.046875 4.640625 -3.984375 L 4.609375 -3.8125 Z M 4.78125 -4.484375 C 4.625 -4.828125 4.296875 -5.265625 3.6875 -5.265625 C 2.390625 -5.265625 0.90625 -3.640625 0.90625 -1.859375 C 0.90625 -0.609375 1.65625 0 2.421875 0 C 3.0625 0 3.625 -0.5 3.84375 -0.734375 L 3.578125 0.328125 C 3.40625 0.984375 3.328125 1.296875 2.90625 1.703125 C 2.421875 2.203125 1.953125 2.203125 1.703125 2.203125 C 1.34375 2.203125 1.046875 2.171875 0.734375 2.078125 C 1.125 1.96875 1.21875 1.640625 1.21875 1.5 C 1.21875 1.3125 1.078125 1.125 0.8125 1.125 C 0.53125 1.125 0.21875 1.359375 0.21875 1.75 C 0.21875 2.25 0.703125 2.4375 1.71875 2.4375 C 3.265625 2.4375 4.0625 1.453125 4.21875 0.796875 L 5.546875 -4.546875 C 5.578125 -4.703125 5.578125 -4.71875 5.578125 -4.75 C 5.578125 -4.90625 5.453125 -5.046875 5.265625 -5.046875 C 4.984375 -5.046875 4.8125 -4.8125 4.78125 -4.484375 Z M 4.78125 -4.484375 \"/>\n",
       "</symbol>\n",
       "<symbol overflow=\"visible\" id=\"glyph-1486163522525926-0-2\">\n",
       "<path style=\"stroke:none;\" d=\"M 5.328125 -4.8125 C 5.5625 -4.8125 5.671875 -4.8125 5.671875 -5.03125 C 5.671875 -5.15625 5.5625 -5.15625 5.359375 -5.15625 L 4.390625 -5.15625 C 4.609375 -6.390625 4.78125 -7.234375 4.875 -7.609375 C 4.953125 -7.90625 5.203125 -8.171875 5.515625 -8.171875 C 5.765625 -8.171875 6.015625 -8.0625 6.125 -7.953125 C 5.671875 -7.90625 5.515625 -7.5625 5.515625 -7.359375 C 5.515625 -7.125 5.703125 -6.984375 5.921875 -6.984375 C 6.171875 -6.984375 6.53125 -7.1875 6.53125 -7.640625 C 6.53125 -8.140625 6.03125 -8.421875 5.5 -8.421875 C 4.984375 -8.421875 4.484375 -8.03125 4.25 -7.5625 C 4.03125 -7.140625 3.90625 -6.71875 3.640625 -5.15625 L 2.828125 -5.15625 C 2.609375 -5.15625 2.484375 -5.15625 2.484375 -4.9375 C 2.484375 -4.8125 2.5625 -4.8125 2.796875 -4.8125 L 3.5625 -4.8125 C 3.34375 -3.6875 2.859375 -0.984375 2.578125 0.28125 C 2.375 1.328125 2.203125 2.203125 1.609375 2.203125 C 1.5625 2.203125 1.21875 2.203125 1 1.96875 C 1.609375 1.921875 1.609375 1.40625 1.609375 1.390625 C 1.609375 1.140625 1.4375 1 1.203125 1 C 0.96875 1 0.609375 1.203125 0.609375 1.65625 C 0.609375 2.171875 1.140625 2.4375 1.609375 2.4375 C 2.828125 2.4375 3.328125 0.25 3.453125 -0.34375 C 3.671875 -1.265625 4.25 -4.453125 4.3125 -4.8125 Z M 5.328125 -4.8125 \"/>\n",
       "</symbol>\n",
       "<symbol overflow=\"visible\" id=\"glyph-1486163522525926-0-3\">\n",
       "<path style=\"stroke:none;\" d=\"M 3.359375 -8 C 3.375 -8.046875 3.390625 -8.109375 3.390625 -8.171875 C 3.390625 -8.296875 3.28125 -8.296875 3.25 -8.296875 C 3.234375 -8.296875 2.65625 -8.25 2.59375 -8.234375 C 2.390625 -8.21875 2.21875 -8.203125 2 -8.1875 C 1.703125 -8.15625 1.609375 -8.15625 1.609375 -7.9375 C 1.609375 -7.8125 1.703125 -7.8125 1.875 -7.8125 C 2.46875 -7.8125 2.46875 -7.703125 2.46875 -7.59375 C 2.46875 -7.515625 2.453125 -7.421875 2.4375 -7.390625 L 0.703125 -0.46875 C 0.65625 -0.28125 0.65625 -0.265625 0.65625 -0.1875 C 0.65625 0.078125 0.859375 0.125 0.984375 0.125 C 1.1875 0.125 1.34375 -0.03125 1.40625 -0.171875 L 1.9375 -2.328125 C 2 -2.59375 2.0625 -2.84375 2.125 -3.109375 C 2.265625 -3.609375 2.265625 -3.625 2.484375 -3.96875 C 2.71875 -4.3125 3.25 -5.03125 4.171875 -5.03125 C 4.65625 -5.03125 4.8125 -4.671875 4.8125 -4.203125 C 4.8125 -3.53125 4.34375 -2.21875 4.09375 -1.5 C 3.984375 -1.21875 3.921875 -1.0625 3.921875 -0.84375 C 3.921875 -0.3125 4.296875 0.125 4.859375 0.125 C 5.96875 0.125 6.390625 -1.640625 6.390625 -1.703125 C 6.390625 -1.765625 6.34375 -1.8125 6.28125 -1.8125 C 6.171875 -1.8125 6.15625 -1.78125 6.09375 -1.578125 C 5.828125 -0.625 5.375 -0.125 4.90625 -0.125 C 4.78125 -0.125 4.59375 -0.125 4.59375 -0.515625 C 4.59375 -0.828125 4.734375 -1.203125 4.78125 -1.34375 C 5 -1.90625 5.53125 -3.328125 5.53125 -4.015625 C 5.53125 -4.734375 5.109375 -5.265625 4.203125 -5.265625 C 3.53125 -5.265625 2.921875 -4.953125 2.4375 -4.328125 Z M 3.359375 -8 \"/>\n",
       "</symbol>\n",
       "</g>\n",
       "<clipPath id=\"clip-1486163522525926-1\">\n",
       "  <path d=\"M 19 24 L 47 24 L 47 54.59375 L 19 54.59375 Z M 19 24 \"/>\n",
       "</clipPath>\n",
       "<clipPath id=\"clip-1486163522525926-2\">\n",
       "  <path d=\"M 59 0 L 86 0 L 86 54.59375 L 59 54.59375 Z M 59 0 \"/>\n",
       "</clipPath>\n",
       "<clipPath id=\"clip-1486163522525926-3\">\n",
       "  <path d=\"M 99 24 L 125 24 L 125 54.59375 L 99 54.59375 Z M 99 24 \"/>\n",
       "</clipPath>\n",
       "<clipPath id=\"clip-1486163522525926-4\">\n",
       "  <path d=\"M 113 6 L 144.742188 6 L 144.742188 18 L 113 18 Z M 113 6 \"/>\n",
       "</clipPath>\n",
       "<clipPath id=\"clip-1486163522525926-5\">\n",
       "  <path d=\"M 113 36 L 144.742188 36 L 144.742188 49 L 113 49 Z M 113 36 \"/>\n",
       "</clipPath>\n",
       "</defs>\n",
       "<g id=\"surface1\">\n",
       "<path style=\"fill:none;stroke-width:0.3985;stroke-linecap:butt;stroke-linejoin:miter;stroke:rgb(0%,0%,0%);stroke-opacity:1;stroke-miterlimit:10;\" d=\"M 10.212437 11.954781 L 4.185094 11.954781 C 1.981969 11.954781 0.200719 10.169625 0.200719 7.970406 L 0.200719 -7.971 C 0.200719 -10.170219 1.981969 -11.955375 4.185094 -11.955375 L 10.212437 -11.955375 C 12.411656 -11.955375 14.196812 -10.170219 14.196812 -7.971 L 14.196812 7.970406 C 14.196812 10.169625 12.411656 11.954781 10.212437 11.954781 Z M 10.212437 11.954781 \" transform=\"matrix(1,0,0,-1,25.811,12.154)\"/>\n",
       "<g style=\"fill:rgb(0%,0%,0%);fill-opacity:1;\">\n",
       "  <use xlink:href=\"#glyph-1486163522525926-0-1\" x=\"29.991\" y=\"13.566\"/>\n",
       "</g>\n",
       "<g clip-path=\"url(#clip-1486163522525926-1)\" clip-rule=\"nonzero\">\n",
       "<path style=\"fill:none;stroke-width:0.3985;stroke-linecap:butt;stroke-linejoin:miter;stroke:rgb(0%,0%,0%);stroke-opacity:1;stroke-miterlimit:10;\" d=\"M 10.716344 -18.330375 L 3.677281 -18.330375 C 1.478062 -18.330375 -0.307094 -20.115531 -0.307094 -22.31475 L -0.307094 -38.256156 C -0.307094 -40.459281 1.478062 -42.240531 3.677281 -42.240531 L 10.716344 -42.240531 C 12.919469 -42.240531 14.700719 -40.459281 14.700719 -38.256156 L 14.700719 -22.31475 C 14.700719 -20.115531 12.919469 -18.330375 10.716344 -18.330375 Z M 10.716344 -18.330375 \" transform=\"matrix(1,0,0,-1,25.811,12.154)\"/>\n",
       "</g>\n",
       "<g style=\"fill:rgb(0%,0%,0%);fill-opacity:1;\">\n",
       "  <use xlink:href=\"#glyph-1486163522525926-0-2\" x=\"29.485\" y=\"45.429\"/>\n",
       "</g>\n",
       "<path style=\"fill:none;stroke-width:0.3985;stroke-linecap:butt;stroke-linejoin:miter;stroke:rgb(0%,0%,0%);stroke-opacity:1;stroke-miterlimit:10;\" d=\"M -0.00190625 14.945438 C 9.873094 14.945438 15.443406 15.144656 25.3145 15.144656 \" transform=\"matrix(1,0,0,-1,0.498,27.297)\"/>\n",
       "<path style=\" stroke:none;fill-rule:nonzero;fill:rgb(0%,0%,0%);fill-opacity:1;\" d=\"M 13.152344 12.253906 L 9.945312 10.699219 L 11.160156 12.277344 L 9.988281 13.886719 \"/>\n",
       "<path style=\"fill:none;stroke-width:0.3985;stroke-linecap:butt;stroke-linejoin:miter;stroke:rgb(0%,0%,0%);stroke-opacity:1;stroke-miterlimit:10;\" d=\"M -0.00190625 -14.945187 C 9.673875 -14.945187 15.134813 -15.144406 24.806687 -15.144406 \" transform=\"matrix(1,0,0,-1,0.498,27.297)\"/>\n",
       "<path style=\" stroke:none;fill-rule:nonzero;fill:rgb(0%,0%,0%);fill-opacity:1;\" d=\"M 12.902344 42.339844 L 9.734375 40.703125 L 10.910156 42.316406 L 9.691406 43.894531 \"/>\n",
       "<g clip-path=\"url(#clip-1486163522525926-2)\" clip-rule=\"nonzero\">\n",
       "<path style=\"fill:none;stroke-width:0.3985;stroke-linecap:butt;stroke-linejoin:miter;stroke:rgb(0%,0%,0%);stroke-opacity:1;stroke-miterlimit:10;\" d=\"M 75.240281 26.898563 L 68.509812 26.898563 C 66.306687 26.898563 64.525437 25.113406 64.525437 22.914188 L 64.525437 -22.913937 C 64.525437 -25.117062 66.306687 -26.898312 68.509812 -26.898312 L 75.240281 -26.898312 C 77.4395 -26.898312 79.224656 -25.117062 79.224656 -22.913937 L 79.224656 22.914188 C 79.224656 25.113406 77.4395 26.898563 75.240281 26.898563 Z M 75.240281 26.898563 \" transform=\"matrix(1,0,0,-1,0.498,27.297)\"/>\n",
       "</g>\n",
       "<g style=\"fill:rgb(0%,0%,0%);fill-opacity:1;\">\n",
       "  <use xlink:href=\"#glyph-1486163522525926-0-3\" x=\"69.002\" y=\"31.448\"/>\n",
       "</g>\n",
       "<path style=\"fill:none;stroke-width:0.3985;stroke-linecap:butt;stroke-linejoin:miter;stroke:rgb(0%,0%,0%);stroke-opacity:1;stroke-miterlimit:10;\" d=\"M 39.709031 15.144656 C 49.306688 15.144656 54.724656 14.945438 64.322312 14.945438 \" transform=\"matrix(1,0,0,-1,0.498,27.297)\"/>\n",
       "<path style=\" stroke:none;fill-rule:nonzero;fill:rgb(0%,0%,0%);fill-opacity:1;\" d=\"M 52.515625 12.253906 L 49.347656 10.617188 L 50.519531 12.226562 L 49.304688 13.804688 \"/>\n",
       "<path style=\"fill:none;stroke-width:0.3985;stroke-linecap:butt;stroke-linejoin:miter;stroke:rgb(0%,0%,0%);stroke-opacity:1;stroke-miterlimit:10;\" d=\"M 40.212938 -15.144406 C 49.615281 -15.144406 54.923875 -14.945187 64.322312 -14.945187 \" transform=\"matrix(1,0,0,-1,0.498,27.297)\"/>\n",
       "<path style=\" stroke:none;fill-rule:nonzero;fill:rgb(0%,0%,0%);fill-opacity:1;\" d=\"M 52.765625 42.339844 L 49.558594 40.789062 L 50.773438 42.367188 L 49.601562 43.976562 \"/>\n",
       "<path style=\"fill:none;stroke-width:0.3985;stroke-linecap:butt;stroke-linejoin:miter;stroke:rgb(0%,0%,0%);stroke-opacity:1;stroke-miterlimit:10;\" d=\"M 11.223906 11.954781 L 4.184844 11.954781 C 1.981719 11.954781 0.200469 10.169625 0.200469 7.970406 L 0.200469 -7.971 C 0.200469 -10.170219 1.981719 -11.955375 4.184844 -11.955375 L 11.223906 -11.955375 C 13.423125 -11.955375 15.208281 -10.170219 15.208281 -7.971 L 15.208281 7.970406 C 15.208281 10.169625 13.423125 11.954781 11.223906 11.954781 Z M 11.223906 11.954781 \" transform=\"matrix(1,0,0,-1,104.03,12.154)\"/>\n",
       "<g style=\"fill:rgb(0%,0%,0%);fill-opacity:1;\">\n",
       "  <use xlink:href=\"#glyph-1486163522525926-0-2\" x=\"108.21\" y=\"15.143\"/>\n",
       "</g>\n",
       "<g clip-path=\"url(#clip-1486163522525926-3)\" clip-rule=\"nonzero\">\n",
       "<path style=\"fill:none;stroke-width:0.3985;stroke-linecap:butt;stroke-linejoin:miter;stroke:rgb(0%,0%,0%);stroke-opacity:1;stroke-miterlimit:10;\" d=\"M 10.716094 -18.330375 L 4.68875 -18.330375 C 2.489531 -18.330375 0.704375 -20.115531 0.704375 -22.31475 L 0.704375 -38.256156 C 0.704375 -40.459281 2.489531 -42.240531 4.68875 -42.240531 L 10.716094 -42.240531 C 12.919219 -42.240531 14.700469 -40.459281 14.700469 -38.256156 L 14.700469 -22.31475 C 14.700469 -20.115531 12.919219 -18.330375 10.716094 -18.330375 Z M 10.716094 -18.330375 \" transform=\"matrix(1,0,0,-1,104.03,12.154)\"/>\n",
       "</g>\n",
       "<g style=\"fill:rgb(0%,0%,0%);fill-opacity:1;\">\n",
       "  <use xlink:href=\"#glyph-1486163522525926-0-1\" x=\"108.716\" y=\"43.852\"/>\n",
       "</g>\n",
       "<path style=\"fill:none;stroke-width:0.3985;stroke-linecap:butt;stroke-linejoin:miter;stroke:rgb(0%,0%,0%);stroke-opacity:1;stroke-miterlimit:10;\" d=\"M 79.423875 14.945438 C 88.826219 14.945438 94.130906 15.144656 103.53325 15.144656 \" transform=\"matrix(1,0,0,-1,0.498,27.297)\"/>\n",
       "<path style=\" stroke:none;fill-rule:nonzero;fill:rgb(0%,0%,0%);fill-opacity:1;\" d=\"M 91.976562 12.253906 L 88.765625 10.703125 L 89.984375 12.28125 L 88.808594 13.890625 \"/>\n",
       "<path style=\"fill:none;stroke-width:0.3985;stroke-linecap:butt;stroke-linejoin:miter;stroke:rgb(0%,0%,0%);stroke-opacity:1;stroke-miterlimit:10;\" d=\"M 79.423875 -14.945187 C 89.021531 -14.945187 94.4395 -15.144406 104.041062 -15.144406 \" transform=\"matrix(1,0,0,-1,0.498,27.297)\"/>\n",
       "<path style=\" stroke:none;fill-rule:nonzero;fill:rgb(0%,0%,0%);fill-opacity:1;\" d=\"M 92.230469 42.339844 L 89.0625 40.703125 L 90.238281 42.3125 L 89.019531 43.890625 \"/>\n",
       "<g clip-path=\"url(#clip-1486163522525926-4)\" clip-rule=\"nonzero\">\n",
       "<path style=\"fill:none;stroke-width:0.3985;stroke-linecap:butt;stroke-linejoin:miter;stroke:rgb(0%,0%,0%);stroke-opacity:1;stroke-miterlimit:10;\" d=\"M 118.9395 15.144656 C 128.615281 15.144656 134.072313 14.945438 143.748094 14.945438 \" transform=\"matrix(1,0,0,-1,0.498,27.297)\"/>\n",
       "</g>\n",
       "<path style=\" stroke:none;fill-rule:nonzero;fill:rgb(0%,0%,0%);fill-opacity:1;\" d=\"M 131.839844 12.253906 L 128.675781 10.617188 L 129.847656 12.226562 L 128.632812 13.804688 \"/>\n",
       "<g clip-path=\"url(#clip-1486163522525926-5)\" clip-rule=\"nonzero\">\n",
       "<path style=\"fill:none;stroke-width:0.3985;stroke-linecap:butt;stroke-linejoin:miter;stroke:rgb(0%,0%,0%);stroke-opacity:1;stroke-miterlimit:10;\" d=\"M 118.435594 -15.144406 C 128.306688 -15.144406 133.877 -14.945187 143.748094 -14.945187 \" transform=\"matrix(1,0,0,-1,0.498,27.297)\"/>\n",
       "</g>\n",
       "<path style=\" stroke:none;fill-rule:nonzero;fill:rgb(0%,0%,0%);fill-opacity:1;\" d=\"M 131.589844 42.339844 L 128.378906 40.789062 L 129.597656 42.367188 L 128.421875 43.976562 \"/>\n",
       "</g>\n",
       "</svg>\n",
       "\n"
      ],
      "text/plain": [
       "CompCat.Diagram.TikZ.Picture(CompCat.Diagram.TikZ.Statement[CompCat.Diagram.TikZ.Node(\"n\",CompCat.Diagram.TikZ.Property[CompCat.Diagram.TikZ.Property(\"container\",#NULL)],#NULL,CompCat.Diagram.TikZ.Picture(CompCat.Diagram.TikZ.Statement[CompCat.Diagram.TikZ.Node(\"n1\",CompCat.Diagram.TikZ.Property[CompCat.Diagram.TikZ.Property(\"minimum height\",\"4.5em\")],#NULL,\"\"),CompCat.Diagram.TikZ.Node(\"n2\",CompCat.Diagram.TikZ.Property[CompCat.Diagram.TikZ.Property(\"container\",#NULL),CompCat.Diagram.TikZ.Property(\"right=2em of n1)\",#NULL)],#NULL,CompCat.Diagram.TikZ.Picture(CompCat.Diagram.TikZ.Statement[CompCat.Diagram.TikZ.Node(\"n21\",CompCat.Diagram.TikZ.Property[CompCat.Diagram.TikZ.Property(\"generator\",#NULL),CompCat.Diagram.TikZ.Property(\"minimum height\",\"2.0em\")],#NULL,\"g\"),CompCat.Diagram.TikZ.Node(\"n22\",CompCat.Diagram.TikZ.Property[CompCat.Diagram.TikZ.Property(\"generator\",#NULL),CompCat.Diagram.TikZ.Property(\"minimum height\",\"2.0em\"),CompCat.Diagram.TikZ.Property(\"below=0.5em of n21\",#NULL)],#NULL,\"f\")],CompCat.Diagram.TikZ.Property[])),CompCat.Diagram.TikZ.Edge(\"\\$(n1.center)+(0,1.25em)\\$\",\"n21.west\",CompCat.Diagram.TikZ.PathOperation(\"to\",CompCat.Diagram.TikZ.Property[]),CompCat.Diagram.TikZ.Property[CompCat.Diagram.TikZ.Property(\"postaction\",\"{decorate}\")],#NULL),CompCat.Diagram.TikZ.Edge(\"\\$(n1.center)+(0,-1.25em)\\$\",\"n22.west\",CompCat.Diagram.TikZ.PathOperation(\"to\",CompCat.Diagram.TikZ.Property[]),CompCat.Diagram.TikZ.Property[CompCat.Diagram.TikZ.Property(\"postaction\",\"{decorate}\")],#NULL),CompCat.Diagram.TikZ.Node(\"n3\",CompCat.Diagram.TikZ.Property[CompCat.Diagram.TikZ.Property(\"generator\",#NULL),CompCat.Diagram.TikZ.Property(\"minimum height\",\"4.5em\"),CompCat.Diagram.TikZ.Property(\"right=2em of n2)\",#NULL)],#NULL,\"h\"),CompCat.Diagram.TikZ.Edge(\"n21.east\",\"\\$(n3.west)+(0,1.25em)\\$\",CompCat.Diagram.TikZ.PathOperation(\"to\",CompCat.Diagram.TikZ.Property[]),CompCat.Diagram.TikZ.Property[CompCat.Diagram.TikZ.Property(\"postaction\",\"{decorate}\")],#NULL),CompCat.Diagram.TikZ.Edge(\"n22.east\",\"\\$(n3.west)+(0,-1.25em)\\$\",CompCat.Diagram.TikZ.PathOperation(\"to\",CompCat.Diagram.TikZ.Property[]),CompCat.Diagram.TikZ.Property[CompCat.Diagram.TikZ.Property(\"postaction\",\"{decorate}\")],#NULL),CompCat.Diagram.TikZ.Node(\"n4\",CompCat.Diagram.TikZ.Property[CompCat.Diagram.TikZ.Property(\"container\",#NULL),CompCat.Diagram.TikZ.Property(\"right=2em of n3)\",#NULL)],#NULL,CompCat.Diagram.TikZ.Picture(CompCat.Diagram.TikZ.Statement[CompCat.Diagram.TikZ.Node(\"n41\",CompCat.Diagram.TikZ.Property[CompCat.Diagram.TikZ.Property(\"generator\",#NULL),CompCat.Diagram.TikZ.Property(\"minimum height\",\"2.0em\")],#NULL,\"f\"),CompCat.Diagram.TikZ.Node(\"n42\",CompCat.Diagram.TikZ.Property[CompCat.Diagram.TikZ.Property(\"generator\",#NULL),CompCat.Diagram.TikZ.Property(\"minimum height\",\"2.0em\"),CompCat.Diagram.TikZ.Property(\"below=0.5em of n41\",#NULL)],#NULL,\"g\")],CompCat.Diagram.TikZ.Property[])),CompCat.Diagram.TikZ.Edge(\"\\$(n3.east)+(0,1.25em)\\$\",\"n41.west\",CompCat.Diagram.TikZ.PathOperation(\"to\",CompCat.Diagram.TikZ.Property[]),CompCat.Diagram.TikZ.Property[CompCat.Diagram.TikZ.Property(\"postaction\",\"{decorate}\")],#NULL),CompCat.Diagram.TikZ.Edge(\"\\$(n3.east)+(0,-1.25em)\\$\",\"n42.west\",CompCat.Diagram.TikZ.PathOperation(\"to\",CompCat.Diagram.TikZ.Property[]),CompCat.Diagram.TikZ.Property[CompCat.Diagram.TikZ.Property(\"postaction\",\"{decorate}\")],#NULL),CompCat.Diagram.TikZ.Node(\"n5\",CompCat.Diagram.TikZ.Property[CompCat.Diagram.TikZ.Property(\"minimum height\",\"4.5em\"),CompCat.Diagram.TikZ.Property(\"right=2em of n4)\",#NULL)],#NULL,\"\"),CompCat.Diagram.TikZ.Edge(\"n41.east\",\"\\$(n5.center)+(0,1.25em)\\$\",CompCat.Diagram.TikZ.PathOperation(\"to\",CompCat.Diagram.TikZ.Property[]),CompCat.Diagram.TikZ.Property[CompCat.Diagram.TikZ.Property(\"postaction\",\"{decorate}\")],#NULL),CompCat.Diagram.TikZ.Edge(\"n42.east\",\"\\$(n5.center)+(0,-1.25em)\\$\",CompCat.Diagram.TikZ.PathOperation(\"to\",CompCat.Diagram.TikZ.Property[]),CompCat.Diagram.TikZ.Property[CompCat.Diagram.TikZ.Property(\"postaction\",\"{decorate}\")],#NULL)],CompCat.Diagram.TikZ.Property[]))],CompCat.Diagram.TikZ.Property[CompCat.Diagram.TikZ.Property(\"remember picture\",#NULL),CompCat.Diagram.TikZ.Property(\"decoration\",\"{markings, mark=at position 0.5 with {\\\\arrow{stealth}}}\"),CompCat.Diagram.TikZ.Property(\"font\",\"{\\\\fontsize{12}{14.4}}\"),CompCat.Diagram.TikZ.Property(\"generator/.style\",\"{draw,solid,rounded corners,inner sep=0.333em}\"),CompCat.Diagram.TikZ.Property(\"container/.style\",\"{inner sep=0}\"),CompCat.Diagram.TikZ.Property(\"every path/.style\",\"{solid}\"),CompCat.Diagram.TikZ.Property(\"every to/.style\",\"{out=0,in=180}\"),CompCat.Diagram.TikZ.Property(\"execute at begin node\",\"\\$\"),CompCat.Diagram.TikZ.Property(\"execute at end node\",\"\\$\")])"
      ]
     },
     "execution_count": 6,
     "metadata": {},
     "output_type": "execute_result"
    }
   ],
   "source": [
    "diagram_tikz(comp1)"
   ]
  },
  {
   "cell_type": "code",
   "execution_count": 7,
   "metadata": {
    "collapsed": false
   },
   "outputs": [
    {
     "data": {
      "text/latex": [
       "$\\left(\\mathrm{id}_{A} \\otimes f\\right) h \\left(\\mathrm{id}_{A} \\otimes g\\right)$"
      ],
      "text/plain": [
       "CompCat.Syntax.MorExpr(:compose,CompCat.Syntax.MorExpr[CompCat.Syntax.MorExpr(:otimes,CompCat.Syntax.MorExpr[CompCat.Syntax.MorExpr(:id,CompCat.Syntax.ObExpr[CompCat.Syntax.ObExpr(:gen,Symbol[:A])]),CompCat.Syntax.MorExpr(:gen,Any[:f,CompCat.Syntax.ObExpr(:gen,Symbol[:A]),CompCat.Syntax.ObExpr(:gen,Symbol[:B])])]),CompCat.Syntax.MorExpr(:gen,Any[:h,CompCat.Syntax.ObExpr(:otimes,CompCat.Syntax.ObExpr[CompCat.Syntax.ObExpr(:gen,Symbol[:A]),CompCat.Syntax.ObExpr(:gen,Symbol[:B])]),CompCat.Syntax.ObExpr(:otimes,CompCat.Syntax.ObExpr[CompCat.Syntax.ObExpr(:gen,Symbol[:A]),CompCat.Syntax.ObExpr(:gen,Symbol[:B])])]),CompCat.Syntax.MorExpr(:otimes,CompCat.Syntax.MorExpr[CompCat.Syntax.MorExpr(:id,CompCat.Syntax.ObExpr[CompCat.Syntax.ObExpr(:gen,Symbol[:A])]),CompCat.Syntax.MorExpr(:gen,Any[:g,CompCat.Syntax.ObExpr(:gen,Symbol[:B]),CompCat.Syntax.ObExpr(:gen,Symbol[:A])])])])"
      ]
     },
     "execution_count": 7,
     "metadata": {},
     "output_type": "execute_result"
    }
   ],
   "source": [
    "comp2 = compose(otimes(id(A),f), h, otimes(id(A),g))"
   ]
  },
  {
   "cell_type": "code",
   "execution_count": 8,
   "metadata": {
    "collapsed": false
   },
   "outputs": [
    {
     "data": {
      "image/svg+xml": [
       "<?xml version=\"1.0\" encoding=\"UTF-8\"?>\n",
       "<svg xmlns=\"http://www.w3.org/2000/svg\" xmlns:xlink=\"http://www.w3.org/1999/xlink\" width=\"143.73pt\" height=\"54.396pt\" viewBox=\"0 0 143.73 54.396\" version=\"1.1\">\n",
       "<defs>\n",
       "<g>\n",
       "<symbol overflow=\"visible\" id=\"glyph-1486163522525927-0-0\">\n",
       "<path style=\"stroke:none;\" d=\"\"/>\n",
       "</symbol>\n",
       "<symbol overflow=\"visible\" id=\"glyph-1486163522525927-0-1\">\n",
       "<path style=\"stroke:none;\" d=\"M 5.328125 -4.8125 C 5.5625 -4.8125 5.671875 -4.8125 5.671875 -5.03125 C 5.671875 -5.15625 5.5625 -5.15625 5.359375 -5.15625 L 4.390625 -5.15625 C 4.609375 -6.390625 4.78125 -7.234375 4.875 -7.609375 C 4.953125 -7.90625 5.203125 -8.171875 5.515625 -8.171875 C 5.765625 -8.171875 6.015625 -8.0625 6.125 -7.953125 C 5.671875 -7.90625 5.515625 -7.5625 5.515625 -7.359375 C 5.515625 -7.125 5.703125 -6.984375 5.921875 -6.984375 C 6.171875 -6.984375 6.53125 -7.1875 6.53125 -7.640625 C 6.53125 -8.140625 6.03125 -8.421875 5.5 -8.421875 C 4.984375 -8.421875 4.484375 -8.03125 4.25 -7.5625 C 4.03125 -7.140625 3.90625 -6.71875 3.640625 -5.15625 L 2.828125 -5.15625 C 2.609375 -5.15625 2.484375 -5.15625 2.484375 -4.9375 C 2.484375 -4.8125 2.5625 -4.8125 2.796875 -4.8125 L 3.5625 -4.8125 C 3.34375 -3.6875 2.859375 -0.984375 2.578125 0.28125 C 2.375 1.328125 2.203125 2.203125 1.609375 2.203125 C 1.5625 2.203125 1.21875 2.203125 1 1.96875 C 1.609375 1.921875 1.609375 1.40625 1.609375 1.390625 C 1.609375 1.140625 1.4375 1 1.203125 1 C 0.96875 1 0.609375 1.203125 0.609375 1.65625 C 0.609375 2.171875 1.140625 2.4375 1.609375 2.4375 C 2.828125 2.4375 3.328125 0.25 3.453125 -0.34375 C 3.671875 -1.265625 4.25 -4.453125 4.3125 -4.8125 Z M 5.328125 -4.8125 \"/>\n",
       "</symbol>\n",
       "<symbol overflow=\"visible\" id=\"glyph-1486163522525927-0-2\">\n",
       "<path style=\"stroke:none;\" d=\"M 3.359375 -8 C 3.375 -8.046875 3.390625 -8.109375 3.390625 -8.171875 C 3.390625 -8.296875 3.28125 -8.296875 3.25 -8.296875 C 3.234375 -8.296875 2.65625 -8.25 2.59375 -8.234375 C 2.390625 -8.21875 2.21875 -8.203125 2 -8.1875 C 1.703125 -8.15625 1.609375 -8.15625 1.609375 -7.9375 C 1.609375 -7.8125 1.703125 -7.8125 1.875 -7.8125 C 2.46875 -7.8125 2.46875 -7.703125 2.46875 -7.59375 C 2.46875 -7.515625 2.453125 -7.421875 2.4375 -7.390625 L 0.703125 -0.46875 C 0.65625 -0.28125 0.65625 -0.265625 0.65625 -0.1875 C 0.65625 0.078125 0.859375 0.125 0.984375 0.125 C 1.1875 0.125 1.34375 -0.03125 1.40625 -0.171875 L 1.9375 -2.328125 C 2 -2.59375 2.0625 -2.84375 2.125 -3.109375 C 2.265625 -3.609375 2.265625 -3.625 2.484375 -3.96875 C 2.71875 -4.3125 3.25 -5.03125 4.171875 -5.03125 C 4.65625 -5.03125 4.8125 -4.671875 4.8125 -4.203125 C 4.8125 -3.53125 4.34375 -2.21875 4.09375 -1.5 C 3.984375 -1.21875 3.921875 -1.0625 3.921875 -0.84375 C 3.921875 -0.3125 4.296875 0.125 4.859375 0.125 C 5.96875 0.125 6.390625 -1.640625 6.390625 -1.703125 C 6.390625 -1.765625 6.34375 -1.8125 6.28125 -1.8125 C 6.171875 -1.8125 6.15625 -1.78125 6.09375 -1.578125 C 5.828125 -0.625 5.375 -0.125 4.90625 -0.125 C 4.78125 -0.125 4.59375 -0.125 4.59375 -0.515625 C 4.59375 -0.828125 4.734375 -1.203125 4.78125 -1.34375 C 5 -1.90625 5.53125 -3.328125 5.53125 -4.015625 C 5.53125 -4.734375 5.109375 -5.265625 4.203125 -5.265625 C 3.53125 -5.265625 2.921875 -4.953125 2.4375 -4.328125 Z M 3.359375 -8 \"/>\n",
       "</symbol>\n",
       "<symbol overflow=\"visible\" id=\"glyph-1486163522525927-0-3\">\n",
       "<path style=\"stroke:none;\" d=\"M 4.046875 -1.515625 C 4 -1.328125 3.96875 -1.28125 3.8125 -1.09375 C 3.328125 -0.46875 2.828125 -0.234375 2.453125 -0.234375 C 2.0625 -0.234375 1.6875 -0.546875 1.6875 -1.375 C 1.6875 -2.015625 2.046875 -3.34375 2.3125 -3.890625 C 2.65625 -4.546875 3.1875 -5.03125 3.6875 -5.03125 C 4.484375 -5.03125 4.640625 -4.046875 4.640625 -3.984375 L 4.609375 -3.8125 Z M 4.78125 -4.484375 C 4.625 -4.828125 4.296875 -5.265625 3.6875 -5.265625 C 2.390625 -5.265625 0.90625 -3.640625 0.90625 -1.859375 C 0.90625 -0.609375 1.65625 0 2.421875 0 C 3.0625 0 3.625 -0.5 3.84375 -0.734375 L 3.578125 0.328125 C 3.40625 0.984375 3.328125 1.296875 2.90625 1.703125 C 2.421875 2.203125 1.953125 2.203125 1.703125 2.203125 C 1.34375 2.203125 1.046875 2.171875 0.734375 2.078125 C 1.125 1.96875 1.21875 1.640625 1.21875 1.5 C 1.21875 1.3125 1.078125 1.125 0.8125 1.125 C 0.53125 1.125 0.21875 1.359375 0.21875 1.75 C 0.21875 2.25 0.703125 2.4375 1.71875 2.4375 C 3.265625 2.4375 4.0625 1.453125 4.21875 0.796875 L 5.546875 -4.546875 C 5.578125 -4.703125 5.578125 -4.71875 5.578125 -4.75 C 5.578125 -4.90625 5.453125 -5.046875 5.265625 -5.046875 C 4.984375 -5.046875 4.8125 -4.8125 4.78125 -4.484375 Z M 4.78125 -4.484375 \"/>\n",
       "</symbol>\n",
       "</g>\n",
       "<clipPath id=\"clip-1486163522525927-1\">\n",
       "  <path d=\"M 19 24 L 47 24 L 47 54.394531 L 19 54.394531 Z M 19 24 \"/>\n",
       "</clipPath>\n",
       "<clipPath id=\"clip-1486163522525927-2\">\n",
       "  <path d=\"M 59 0 L 86 0 L 86 54.394531 L 59 54.394531 Z M 59 0 \"/>\n",
       "</clipPath>\n",
       "<clipPath id=\"clip-1486163522525927-3\">\n",
       "  <path d=\"M 98 24 L 124 24 L 124 54.394531 L 98 54.394531 Z M 98 24 \"/>\n",
       "</clipPath>\n",
       "<clipPath id=\"clip-1486163522525927-4\">\n",
       "  <path d=\"M 105 6 L 143.730469 6 L 143.730469 18 L 105 18 Z M 105 6 \"/>\n",
       "</clipPath>\n",
       "<clipPath id=\"clip-1486163522525927-5\">\n",
       "  <path d=\"M 112 36 L 143.730469 36 L 143.730469 48 L 112 48 Z M 112 36 \"/>\n",
       "</clipPath>\n",
       "</defs>\n",
       "<g id=\"surface1\">\n",
       "<g clip-path=\"url(#clip-1486163522525927-1)\" clip-rule=\"nonzero\">\n",
       "<path style=\"fill:none;stroke-width:0.3985;stroke-linecap:butt;stroke-linejoin:miter;stroke:rgb(0%,0%,0%);stroke-opacity:1;stroke-miterlimit:10;\" d=\"M 4.216344 -18.330156 L -2.822719 -18.330156 C -5.021938 -18.330156 -6.807094 -20.115312 -6.807094 -22.318437 L -6.807094 -38.255937 C -6.807094 -40.459062 -5.021938 -42.240312 -2.822719 -42.240312 L 4.216344 -42.240312 C 6.415562 -42.240312 8.200719 -40.459062 8.200719 -38.255937 L 8.200719 -22.318437 C 8.200719 -20.115312 6.415562 -18.330156 4.216344 -18.330156 Z M 4.216344 -18.330156 \" transform=\"matrix(1,0,0,-1,32.311,11.955)\"/>\n",
       "</g>\n",
       "<g style=\"fill:rgb(0%,0%,0%);fill-opacity:1;\">\n",
       "  <use xlink:href=\"#glyph-1486163522525927-0-1\" x=\"29.485\" y=\"45.23\"/>\n",
       "</g>\n",
       "<path style=\"fill:none;stroke-width:0.3985;stroke-linecap:butt;stroke-linejoin:miter;stroke:rgb(0%,0%,0%);stroke-opacity:1;stroke-miterlimit:10;\" d=\"M -0.00190625 14.944094 C 12.677781 14.944094 19.834031 15.244875 32.509813 15.244875 \" transform=\"matrix(1,0,0,-1,0.498,27.198)\"/>\n",
       "<path style=\" stroke:none;fill-rule:nonzero;fill:rgb(0%,0%,0%);fill-opacity:1;\" d=\"M 16.753906 12.105469 L 13.542969 10.558594 L 14.761719 12.132812 L 13.589844 13.746094 \"/>\n",
       "<path style=\"fill:none;stroke-width:0.3985;stroke-linecap:butt;stroke-linejoin:miter;stroke:rgb(0%,0%,0%);stroke-opacity:1;stroke-miterlimit:10;\" d=\"M -0.00190625 -14.942625 C 9.673875 -14.942625 15.134813 -15.044187 24.806687 -15.044187 \" transform=\"matrix(1,0,0,-1,0.498,27.198)\"/>\n",
       "<path style=\" stroke:none;fill-rule:nonzero;fill:rgb(0%,0%,0%);fill-opacity:1;\" d=\"M 12.902344 42.191406 L 9.722656 40.578125 L 10.910156 42.179688 L 9.703125 43.765625 \"/>\n",
       "<g clip-path=\"url(#clip-1486163522525927-2)\" clip-rule=\"nonzero\">\n",
       "<path style=\"fill:none;stroke-width:0.3985;stroke-linecap:butt;stroke-linejoin:miter;stroke:rgb(0%,0%,0%);stroke-opacity:1;stroke-miterlimit:10;\" d=\"M 75.240281 26.901125 L 68.509812 26.901125 C 66.306687 26.901125 64.525437 25.115969 64.525437 22.912844 L 64.525437 -22.915281 C 64.525437 -25.1145 66.306687 -26.899656 68.509812 -26.899656 L 75.240281 -26.899656 C 77.4395 -26.899656 79.224656 -25.1145 79.224656 -22.915281 L 79.224656 22.912844 C 79.224656 25.115969 77.4395 26.901125 75.240281 26.901125 Z M 75.240281 26.901125 \" transform=\"matrix(1,0,0,-1,0.498,27.198)\"/>\n",
       "</g>\n",
       "<g style=\"fill:rgb(0%,0%,0%);fill-opacity:1;\">\n",
       "  <use xlink:href=\"#glyph-1486163522525927-0-2\" x=\"69.002\" y=\"31.349\"/>\n",
       "</g>\n",
       "<path style=\"fill:none;stroke-width:0.3985;stroke-linecap:butt;stroke-linejoin:miter;stroke:rgb(0%,0%,0%);stroke-opacity:1;stroke-miterlimit:10;\" d=\"M 32.509813 15.244875 C 44.916063 15.244875 51.916063 14.944094 64.322312 14.944094 \" transform=\"matrix(1,0,0,-1,0.498,27.198)\"/>\n",
       "<path style=\" stroke:none;fill-rule:nonzero;fill:rgb(0%,0%,0%);fill-opacity:1;\" d=\"M 48.914062 12.105469 L 45.75 10.460938 L 46.921875 12.074219 L 45.703125 13.648438 \"/>\n",
       "<path style=\"fill:none;stroke-width:0.3985;stroke-linecap:butt;stroke-linejoin:miter;stroke:rgb(0%,0%,0%);stroke-opacity:1;stroke-miterlimit:10;\" d=\"M 40.212938 -15.044187 C 49.615281 -15.044187 54.923875 -14.942625 64.322312 -14.942625 \" transform=\"matrix(1,0,0,-1,0.498,27.198)\"/>\n",
       "<path style=\" stroke:none;fill-rule:nonzero;fill:rgb(0%,0%,0%);fill-opacity:1;\" d=\"M 52.765625 42.191406 L 49.566406 40.621094 L 50.773438 42.207031 L 49.589844 43.808594 \"/>\n",
       "<g clip-path=\"url(#clip-1486163522525927-3)\" clip-rule=\"nonzero\">\n",
       "<path style=\"fill:none;stroke-width:0.3985;stroke-linecap:butt;stroke-linejoin:miter;stroke:rgb(0%,0%,0%);stroke-opacity:1;stroke-miterlimit:10;\" d=\"M 3.712187 -18.330156 L -2.315156 -18.330156 C -4.518281 -18.330156 -6.299531 -20.115312 -6.299531 -22.318437 L -6.299531 -38.255937 C -6.299531 -40.459062 -4.518281 -42.240312 -2.315156 -42.240312 L 3.712187 -42.240312 C 5.911406 -42.240312 7.696562 -40.459062 7.696562 -38.255937 L 7.696562 -22.318437 C 7.696562 -20.115312 5.911406 -18.330156 3.712187 -18.330156 Z M 3.712187 -18.330156 \" transform=\"matrix(1,0,0,-1,110.53,11.955)\"/>\n",
       "</g>\n",
       "<g style=\"fill:rgb(0%,0%,0%);fill-opacity:1;\">\n",
       "  <use xlink:href=\"#glyph-1486163522525927-0-3\" x=\"108.21\" y=\"43.653\"/>\n",
       "</g>\n",
       "<path style=\"fill:none;stroke-width:0.3985;stroke-linecap:butt;stroke-linejoin:miter;stroke:rgb(0%,0%,0%);stroke-opacity:1;stroke-miterlimit:10;\" d=\"M 79.423875 14.944094 C 91.630906 14.944094 98.521531 15.244875 110.732469 15.244875 \" transform=\"matrix(1,0,0,-1,0.498,27.198)\"/>\n",
       "<path style=\" stroke:none;fill-rule:nonzero;fill:rgb(0%,0%,0%);fill-opacity:1;\" d=\"M 95.574219 12.105469 L 92.363281 10.558594 L 93.582031 12.136719 L 92.410156 13.75 \"/>\n",
       "<path style=\"fill:none;stroke-width:0.3985;stroke-linecap:butt;stroke-linejoin:miter;stroke:rgb(0%,0%,0%);stroke-opacity:1;stroke-miterlimit:10;\" d=\"M 79.423875 -14.942625 C 88.826219 -14.942625 94.130906 -15.044187 103.53325 -15.044187 \" transform=\"matrix(1,0,0,-1,0.498,27.198)\"/>\n",
       "<path style=\" stroke:none;fill-rule:nonzero;fill:rgb(0%,0%,0%);fill-opacity:1;\" d=\"M 91.976562 42.191406 L 88.796875 40.578125 L 89.984375 42.179688 L 88.777344 43.765625 \"/>\n",
       "<g clip-path=\"url(#clip-1486163522525927-4)\" clip-rule=\"nonzero\">\n",
       "<path style=\"fill:none;stroke-width:0.3985;stroke-linecap:butt;stroke-linejoin:miter;stroke:rgb(0%,0%,0%);stroke-opacity:1;stroke-miterlimit:10;\" d=\"M 110.732469 15.244875 C 123.212937 15.244875 130.255906 14.944094 142.736375 14.944094 \" transform=\"matrix(1,0,0,-1,0.498,27.198)\"/>\n",
       "</g>\n",
       "<path style=\" stroke:none;fill-rule:nonzero;fill:rgb(0%,0%,0%);fill-opacity:1;\" d=\"M 127.230469 12.105469 L 124.066406 10.460938 L 125.238281 12.074219 L 124.019531 13.648438 \"/>\n",
       "<g clip-path=\"url(#clip-1486163522525927-5)\" clip-rule=\"nonzero\">\n",
       "<path style=\"fill:none;stroke-width:0.3985;stroke-linecap:butt;stroke-linejoin:miter;stroke:rgb(0%,0%,0%);stroke-opacity:1;stroke-miterlimit:10;\" d=\"M 117.927781 -15.044187 C 127.603562 -15.044187 133.060594 -14.942625 142.736375 -14.942625 \" transform=\"matrix(1,0,0,-1,0.498,27.198)\"/>\n",
       "</g>\n",
       "<path style=\" stroke:none;fill-rule:nonzero;fill:rgb(0%,0%,0%);fill-opacity:1;\" d=\"M 130.828125 42.191406 L 127.632812 40.617188 L 128.835938 42.203125 L 127.652344 43.808594 \"/>\n",
       "</g>\n",
       "</svg>\n",
       "\n"
      ],
      "text/plain": [
       "CompCat.Diagram.TikZ.Picture(CompCat.Diagram.TikZ.Statement[CompCat.Diagram.TikZ.Node(\"n\",CompCat.Diagram.TikZ.Property[CompCat.Diagram.TikZ.Property(\"container\",#NULL)],#NULL,CompCat.Diagram.TikZ.Picture(CompCat.Diagram.TikZ.Statement[CompCat.Diagram.TikZ.Node(\"n1\",CompCat.Diagram.TikZ.Property[CompCat.Diagram.TikZ.Property(\"minimum height\",\"4.5em\")],#NULL,\"\"),CompCat.Diagram.TikZ.Node(\"n2\",CompCat.Diagram.TikZ.Property[CompCat.Diagram.TikZ.Property(\"container\",#NULL),CompCat.Diagram.TikZ.Property(\"right=2em of n1)\",#NULL)],#NULL,CompCat.Diagram.TikZ.Picture(CompCat.Diagram.TikZ.Statement[CompCat.Diagram.TikZ.Node(\"n21\",CompCat.Diagram.TikZ.Property[CompCat.Diagram.TikZ.Property(\"minimum height\",\"2.0em\")],#NULL,\"\"),CompCat.Diagram.TikZ.Node(\"n22\",CompCat.Diagram.TikZ.Property[CompCat.Diagram.TikZ.Property(\"generator\",#NULL),CompCat.Diagram.TikZ.Property(\"minimum height\",\"2.0em\"),CompCat.Diagram.TikZ.Property(\"below=0.5em of n21\",#NULL)],#NULL,\"f\")],CompCat.Diagram.TikZ.Property[])),CompCat.Diagram.TikZ.Edge(\"\\$(n1.center)+(0,1.25em)\\$\",\"n21.center\",CompCat.Diagram.TikZ.PathOperation(\"to\",CompCat.Diagram.TikZ.Property[]),CompCat.Diagram.TikZ.Property[CompCat.Diagram.TikZ.Property(\"postaction\",\"{decorate}\")],#NULL),CompCat.Diagram.TikZ.Edge(\"\\$(n1.center)+(0,-1.25em)\\$\",\"n22.west\",CompCat.Diagram.TikZ.PathOperation(\"to\",CompCat.Diagram.TikZ.Property[]),CompCat.Diagram.TikZ.Property[CompCat.Diagram.TikZ.Property(\"postaction\",\"{decorate}\")],#NULL),CompCat.Diagram.TikZ.Node(\"n3\",CompCat.Diagram.TikZ.Property[CompCat.Diagram.TikZ.Property(\"generator\",#NULL),CompCat.Diagram.TikZ.Property(\"minimum height\",\"4.5em\"),CompCat.Diagram.TikZ.Property(\"right=2em of n2)\",#NULL)],#NULL,\"h\"),CompCat.Diagram.TikZ.Edge(\"n21.center\",\"\\$(n3.west)+(0,1.25em)\\$\",CompCat.Diagram.TikZ.PathOperation(\"to\",CompCat.Diagram.TikZ.Property[]),CompCat.Diagram.TikZ.Property[CompCat.Diagram.TikZ.Property(\"postaction\",\"{decorate}\")],#NULL),CompCat.Diagram.TikZ.Edge(\"n22.east\",\"\\$(n3.west)+(0,-1.25em)\\$\",CompCat.Diagram.TikZ.PathOperation(\"to\",CompCat.Diagram.TikZ.Property[]),CompCat.Diagram.TikZ.Property[CompCat.Diagram.TikZ.Property(\"postaction\",\"{decorate}\")],#NULL),CompCat.Diagram.TikZ.Node(\"n4\",CompCat.Diagram.TikZ.Property[CompCat.Diagram.TikZ.Property(\"container\",#NULL),CompCat.Diagram.TikZ.Property(\"right=2em of n3)\",#NULL)],#NULL,CompCat.Diagram.TikZ.Picture(CompCat.Diagram.TikZ.Statement[CompCat.Diagram.TikZ.Node(\"n41\",CompCat.Diagram.TikZ.Property[CompCat.Diagram.TikZ.Property(\"minimum height\",\"2.0em\")],#NULL,\"\"),CompCat.Diagram.TikZ.Node(\"n42\",CompCat.Diagram.TikZ.Property[CompCat.Diagram.TikZ.Property(\"generator\",#NULL),CompCat.Diagram.TikZ.Property(\"minimum height\",\"2.0em\"),CompCat.Diagram.TikZ.Property(\"below=0.5em of n41\",#NULL)],#NULL,\"g\")],CompCat.Diagram.TikZ.Property[])),CompCat.Diagram.TikZ.Edge(\"\\$(n3.east)+(0,1.25em)\\$\",\"n41.center\",CompCat.Diagram.TikZ.PathOperation(\"to\",CompCat.Diagram.TikZ.Property[]),CompCat.Diagram.TikZ.Property[CompCat.Diagram.TikZ.Property(\"postaction\",\"{decorate}\")],#NULL),CompCat.Diagram.TikZ.Edge(\"\\$(n3.east)+(0,-1.25em)\\$\",\"n42.west\",CompCat.Diagram.TikZ.PathOperation(\"to\",CompCat.Diagram.TikZ.Property[]),CompCat.Diagram.TikZ.Property[CompCat.Diagram.TikZ.Property(\"postaction\",\"{decorate}\")],#NULL),CompCat.Diagram.TikZ.Node(\"n5\",CompCat.Diagram.TikZ.Property[CompCat.Diagram.TikZ.Property(\"minimum height\",\"4.5em\"),CompCat.Diagram.TikZ.Property(\"right=2em of n4)\",#NULL)],#NULL,\"\"),CompCat.Diagram.TikZ.Edge(\"n41.center\",\"\\$(n5.center)+(0,1.25em)\\$\",CompCat.Diagram.TikZ.PathOperation(\"to\",CompCat.Diagram.TikZ.Property[]),CompCat.Diagram.TikZ.Property[CompCat.Diagram.TikZ.Property(\"postaction\",\"{decorate}\")],#NULL),CompCat.Diagram.TikZ.Edge(\"n42.east\",\"\\$(n5.center)+(0,-1.25em)\\$\",CompCat.Diagram.TikZ.PathOperation(\"to\",CompCat.Diagram.TikZ.Property[]),CompCat.Diagram.TikZ.Property[CompCat.Diagram.TikZ.Property(\"postaction\",\"{decorate}\")],#NULL)],CompCat.Diagram.TikZ.Property[]))],CompCat.Diagram.TikZ.Property[CompCat.Diagram.TikZ.Property(\"remember picture\",#NULL),CompCat.Diagram.TikZ.Property(\"decoration\",\"{markings, mark=at position 0.5 with {\\\\arrow{stealth}}}\"),CompCat.Diagram.TikZ.Property(\"font\",\"{\\\\fontsize{12}{14.4}}\"),CompCat.Diagram.TikZ.Property(\"generator/.style\",\"{draw,solid,rounded corners,inner sep=0.333em}\"),CompCat.Diagram.TikZ.Property(\"container/.style\",\"{inner sep=0}\"),CompCat.Diagram.TikZ.Property(\"every path/.style\",\"{solid}\"),CompCat.Diagram.TikZ.Property(\"every to/.style\",\"{out=0,in=180}\"),CompCat.Diagram.TikZ.Property(\"execute at begin node\",\"\\$\"),CompCat.Diagram.TikZ.Property(\"execute at end node\",\"\\$\")])"
      ]
     },
     "execution_count": 8,
     "metadata": {},
     "output_type": "execute_result"
    }
   ],
   "source": [
    "diagram_tikz(comp2)"
   ]
  },
  {
   "cell_type": "code",
   "execution_count": 9,
   "metadata": {
    "collapsed": false,
    "scrolled": true
   },
   "outputs": [
    {
     "data": {
      "image/svg+xml": [
       "<?xml version=\"1.0\" encoding=\"UTF-8\"?>\n",
       "<svg xmlns=\"http://www.w3.org/2000/svg\" xmlns:xlink=\"http://www.w3.org/1999/xlink\" width=\"69.195pt\" height=\"84.085pt\" viewBox=\"0 0 69.195 84.085\" version=\"1.1\">\n",
       "<defs>\n",
       "<g>\n",
       "<symbol overflow=\"visible\" id=\"glyph-1486163522525928-0-0\">\n",
       "<path style=\"stroke:none;\" d=\"\"/>\n",
       "</symbol>\n",
       "<symbol overflow=\"visible\" id=\"glyph-1486163522525928-0-1\">\n",
       "<path style=\"stroke:none;\" d=\"M 8.9375 -7.296875 C 9.046875 -7.703125 9.078125 -7.8125 9.921875 -7.8125 C 10.140625 -7.8125 10.25 -7.8125 10.25 -8.03125 C 10.25 -8.15625 10.140625 -8.15625 10.078125 -8.15625 C 9.859375 -8.15625 9.609375 -8.140625 9.390625 -8.140625 L 7.96875 -8.140625 C 7.75 -8.140625 7.5 -8.15625 7.265625 -8.15625 C 7.1875 -8.15625 7.046875 -8.15625 7.046875 -7.9375 C 7.046875 -7.8125 7.125 -7.8125 7.34375 -7.8125 C 8.0625 -7.8125 8.0625 -7.71875 8.0625 -7.59375 C 8.0625 -7.5625 8.0625 -7.5 8.015625 -7.3125 L 7.296875 -4.421875 L 3.6875 -4.421875 L 4.40625 -7.296875 C 4.5 -7.703125 4.53125 -7.8125 5.375 -7.8125 C 5.59375 -7.8125 5.71875 -7.8125 5.71875 -8.03125 C 5.71875 -8.15625 5.609375 -8.15625 5.53125 -8.15625 C 5.3125 -8.15625 5.0625 -8.140625 4.84375 -8.140625 L 3.4375 -8.140625 C 3.203125 -8.140625 2.953125 -8.15625 2.71875 -8.15625 C 2.640625 -8.15625 2.5 -8.15625 2.5 -7.9375 C 2.5 -7.8125 2.578125 -7.8125 2.8125 -7.8125 C 3.53125 -7.8125 3.53125 -7.71875 3.53125 -7.59375 C 3.53125 -7.5625 3.53125 -7.5 3.484375 -7.3125 L 1.859375 -0.890625 C 1.75 -0.46875 1.734375 -0.34375 0.90625 -0.34375 C 0.640625 -0.34375 0.546875 -0.34375 0.546875 -0.125 C 0.546875 0 0.6875 0 0.71875 0 C 0.9375 0 1.1875 -0.03125 1.40625 -0.03125 L 2.828125 -0.03125 C 3.046875 -0.03125 3.296875 0 3.53125 0 C 3.625 0 3.75 0 3.75 -0.234375 C 3.75 -0.34375 3.640625 -0.34375 3.46875 -0.34375 C 2.734375 -0.34375 2.734375 -0.4375 2.734375 -0.5625 C 2.734375 -0.578125 2.734375 -0.65625 2.765625 -0.75 L 3.578125 -4.078125 L 7.203125 -4.078125 C 7 -3.28125 6.390625 -0.78125 6.375 -0.71875 C 6.234375 -0.359375 6.046875 -0.359375 5.34375 -0.34375 C 5.203125 -0.34375 5.09375 -0.34375 5.09375 -0.125 C 5.09375 0 5.21875 0 5.265625 0 C 5.46875 0 5.71875 -0.03125 5.953125 -0.03125 L 7.359375 -0.03125 C 7.59375 -0.03125 7.84375 0 8.0625 0 C 8.15625 0 8.296875 0 8.296875 -0.234375 C 8.296875 -0.34375 8.1875 -0.34375 8.015625 -0.34375 C 7.28125 -0.34375 7.28125 -0.4375 7.28125 -0.5625 C 7.28125 -0.578125 7.28125 -0.65625 7.296875 -0.75 Z M 8.9375 -7.296875 \"/>\n",
       "</symbol>\n",
       "</g>\n",
       "<clipPath id=\"clip-1486163522525928-1\">\n",
       "  <path d=\"M 19 0 L 50 0 L 50 84.085938 L 19 84.085938 Z M 19 0 \"/>\n",
       "</clipPath>\n",
       "<clipPath id=\"clip-1486163522525928-2\">\n",
       "  <path d=\"M 38 6 L 69.195312 6 L 69.195312 18 L 38 18 Z M 38 6 \"/>\n",
       "</clipPath>\n",
       "<clipPath id=\"clip-1486163522525928-3\">\n",
       "  <path d=\"M 38 36 L 69.195312 36 L 69.195312 48 L 38 48 Z M 38 36 \"/>\n",
       "</clipPath>\n",
       "<clipPath id=\"clip-1486163522525928-4\">\n",
       "  <path d=\"M 38 66 L 69.195312 66 L 69.195312 78 L 38 78 Z M 38 66 \"/>\n",
       "</clipPath>\n",
       "</defs>\n",
       "<g id=\"surface1\">\n",
       "<g clip-path=\"url(#clip-1486163522525928-1)\" clip-rule=\"nonzero\">\n",
       "<path style=\"fill:none;stroke-width:0.3985;stroke-linecap:butt;stroke-linejoin:miter;stroke:rgb(0%,0%,0%);stroke-opacity:1;stroke-miterlimit:10;\" d=\"M 39.40825 41.843781 L 28.791062 41.843781 C 26.591844 41.843781 24.806687 40.058625 24.806687 37.859406 L 24.806687 -37.859344 C 24.806687 -40.058563 26.591844 -41.843719 28.791062 -41.843719 L 39.40825 -41.843719 C 41.607469 -41.843719 43.392625 -40.058563 43.392625 -37.859344 L 43.392625 37.859406 C 43.392625 40.058625 41.607469 41.843781 39.40825 41.843781 Z M 39.40825 41.843781 \" transform=\"matrix(1,0,0,-1,0.498,42.043)\"/>\n",
       "</g>\n",
       "<g style=\"fill:rgb(0%,0%,0%);fill-opacity:1;\">\n",
       "  <use xlink:href=\"#glyph-1486163522525928-0-1\" x=\"29.286\" y=\"46.127\"/>\n",
       "</g>\n",
       "<path style=\"fill:none;stroke-width:0.3985;stroke-linecap:butt;stroke-linejoin:miter;stroke:rgb(0%,0%,0%);stroke-opacity:1;stroke-miterlimit:10;\" d=\"M -0.00190625 14.945344 C 9.59575 14.945344 15.009813 14.945344 24.607469 14.945344 \" transform=\"matrix(1,0,0,-1,0.498,42.043)\"/>\n",
       "<path style=\" stroke:none;fill-rule:nonzero;fill:rgb(0%,0%,0%);fill-opacity:1;\" d=\"M 12.800781 27.097656 L 9.613281 25.503906 L 10.808594 27.097656 L 9.613281 28.691406 \"/>\n",
       "<path style=\"fill:none;stroke-width:0.3985;stroke-linecap:butt;stroke-linejoin:miter;stroke:rgb(0%,0%,0%);stroke-opacity:1;stroke-miterlimit:10;\" d=\"M -0.00190625 -14.945281 C 9.59575 -14.945281 15.009813 -14.945281 24.607469 -14.945281 \" transform=\"matrix(1,0,0,-1,0.498,42.043)\"/>\n",
       "<path style=\" stroke:none;fill-rule:nonzero;fill:rgb(0%,0%,0%);fill-opacity:1;\" d=\"M 12.800781 56.988281 L 9.613281 55.394531 L 10.808594 56.988281 L 9.613281 58.582031 \"/>\n",
       "<g clip-path=\"url(#clip-1486163522525928-2)\" clip-rule=\"nonzero\">\n",
       "<path style=\"fill:none;stroke-width:0.3985;stroke-linecap:butt;stroke-linejoin:miter;stroke:rgb(0%,0%,0%);stroke-opacity:1;stroke-miterlimit:10;\" d=\"M 43.591844 29.88675 C 53.1895 29.88675 58.603563 29.88675 68.201219 29.88675 \" transform=\"matrix(1,0,0,-1,0.498,42.043)\"/>\n",
       "</g>\n",
       "<path style=\" stroke:none;fill-rule:nonzero;fill:rgb(0%,0%,0%);fill-opacity:1;\" d=\"M 56.394531 12.15625 L 53.203125 10.5625 L 54.402344 12.15625 L 53.203125 13.75 \"/>\n",
       "<g clip-path=\"url(#clip-1486163522525928-3)\" clip-rule=\"nonzero\">\n",
       "<path style=\"fill:none;stroke-width:0.3985;stroke-linecap:butt;stroke-linejoin:miter;stroke:rgb(0%,0%,0%);stroke-opacity:1;stroke-miterlimit:10;\" d=\"M 43.591844 0.00003125 C 53.1895 0.00003125 58.603563 0.00003125 68.201219 0.00003125 \" transform=\"matrix(1,0,0,-1,0.498,42.043)\"/>\n",
       "</g>\n",
       "<path style=\" stroke:none;fill-rule:nonzero;fill:rgb(0%,0%,0%);fill-opacity:1;\" d=\"M 56.394531 42.042969 L 53.203125 40.449219 L 54.402344 42.042969 L 53.203125 43.636719 \"/>\n",
       "<g clip-path=\"url(#clip-1486163522525928-4)\" clip-rule=\"nonzero\">\n",
       "<path style=\"fill:none;stroke-width:0.3985;stroke-linecap:butt;stroke-linejoin:miter;stroke:rgb(0%,0%,0%);stroke-opacity:1;stroke-miterlimit:10;\" d=\"M 43.591844 -29.886688 C 53.1895 -29.886688 58.603563 -29.886688 68.201219 -29.886688 \" transform=\"matrix(1,0,0,-1,0.498,42.043)\"/>\n",
       "</g>\n",
       "<path style=\" stroke:none;fill-rule:nonzero;fill:rgb(0%,0%,0%);fill-opacity:1;\" d=\"M 56.394531 71.929688 L 53.203125 70.335938 L 54.402344 71.929688 L 53.203125 73.523438 \"/>\n",
       "</g>\n",
       "</svg>\n",
       "\n"
      ],
      "text/plain": [
       "CompCat.Diagram.TikZ.Picture(CompCat.Diagram.TikZ.Statement[CompCat.Diagram.TikZ.Node(\"n\",CompCat.Diagram.TikZ.Property[CompCat.Diagram.TikZ.Property(\"container\",#NULL)],#NULL,CompCat.Diagram.TikZ.Picture(CompCat.Diagram.TikZ.Statement[CompCat.Diagram.TikZ.Node(\"n1\",CompCat.Diagram.TikZ.Property[CompCat.Diagram.TikZ.Property(\"minimum height\",\"4.5em\")],#NULL,\"\"),CompCat.Diagram.TikZ.Node(\"n2\",CompCat.Diagram.TikZ.Property[CompCat.Diagram.TikZ.Property(\"generator\",#NULL),CompCat.Diagram.TikZ.Property(\"minimum height\",\"7.0em\"),CompCat.Diagram.TikZ.Property(\"right=2em of n1)\",#NULL)],#NULL,\"H\"),CompCat.Diagram.TikZ.Edge(\"\\$(n1.center)+(0,1.25em)\\$\",\"\\$(n2.west)+(0,1.25em)\\$\",CompCat.Diagram.TikZ.PathOperation(\"to\",CompCat.Diagram.TikZ.Property[]),CompCat.Diagram.TikZ.Property[CompCat.Diagram.TikZ.Property(\"postaction\",\"{decorate}\")],#NULL),CompCat.Diagram.TikZ.Edge(\"\\$(n1.center)+(0,-1.25em)\\$\",\"\\$(n2.west)+(0,-1.25em)\\$\",CompCat.Diagram.TikZ.PathOperation(\"to\",CompCat.Diagram.TikZ.Property[]),CompCat.Diagram.TikZ.Property[CompCat.Diagram.TikZ.Property(\"postaction\",\"{decorate}\")],#NULL),CompCat.Diagram.TikZ.Node(\"n3\",CompCat.Diagram.TikZ.Property[CompCat.Diagram.TikZ.Property(\"minimum height\",\"7.0em\"),CompCat.Diagram.TikZ.Property(\"right=2em of n2)\",#NULL)],#NULL,\"\"),CompCat.Diagram.TikZ.Edge(\"\\$(n2.east)+(0,2.5em)\\$\",\"\\$(n3.center)+(0,2.5em)\\$\",CompCat.Diagram.TikZ.PathOperation(\"to\",CompCat.Diagram.TikZ.Property[]),CompCat.Diagram.TikZ.Property[CompCat.Diagram.TikZ.Property(\"postaction\",\"{decorate}\")],#NULL),CompCat.Diagram.TikZ.Edge(\"\\$(n2.east)+(0,0.0em)\\$\",\"\\$(n3.center)+(0,0.0em)\\$\",CompCat.Diagram.TikZ.PathOperation(\"to\",CompCat.Diagram.TikZ.Property[]),CompCat.Diagram.TikZ.Property[CompCat.Diagram.TikZ.Property(\"postaction\",\"{decorate}\")],#NULL),CompCat.Diagram.TikZ.Edge(\"\\$(n2.east)+(0,-2.5em)\\$\",\"\\$(n3.center)+(0,-2.5em)\\$\",CompCat.Diagram.TikZ.PathOperation(\"to\",CompCat.Diagram.TikZ.Property[]),CompCat.Diagram.TikZ.Property[CompCat.Diagram.TikZ.Property(\"postaction\",\"{decorate}\")],#NULL)],CompCat.Diagram.TikZ.Property[]))],CompCat.Diagram.TikZ.Property[CompCat.Diagram.TikZ.Property(\"remember picture\",#NULL),CompCat.Diagram.TikZ.Property(\"decoration\",\"{markings, mark=at position 0.5 with {\\\\arrow{stealth}}}\"),CompCat.Diagram.TikZ.Property(\"font\",\"{\\\\fontsize{12}{14.4}}\"),CompCat.Diagram.TikZ.Property(\"generator/.style\",\"{draw,solid,rounded corners,inner sep=0.333em}\"),CompCat.Diagram.TikZ.Property(\"container/.style\",\"{inner sep=0}\"),CompCat.Diagram.TikZ.Property(\"every path/.style\",\"{solid}\"),CompCat.Diagram.TikZ.Property(\"every to/.style\",\"{out=0,in=180}\"),CompCat.Diagram.TikZ.Property(\"execute at begin node\",\"\\$\"),CompCat.Diagram.TikZ.Property(\"execute at end node\",\"\\$\")])"
      ]
     },
     "execution_count": 9,
     "metadata": {},
     "output_type": "execute_result"
    }
   ],
   "source": [
    "diagram_tikz(mor_expr(:H, otimes(A,A), otimes(B,B,B)))"
   ]
  }
 ],
 "metadata": {
  "kernelspec": {
   "display_name": "Julia 0.5.0",
   "language": "julia",
   "name": "julia-0.5"
  },
  "language_info": {
   "file_extension": ".jl",
   "mimetype": "application/julia",
   "name": "julia",
   "version": "0.5.0"
  }
 },
 "nbformat": 4,
 "nbformat_minor": 2
}
