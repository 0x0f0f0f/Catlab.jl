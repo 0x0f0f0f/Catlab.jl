{
 "cells": [
  {
   "cell_type": "markdown",
   "metadata": {},
   "source": [
    "# Wiring diagrams"
   ]
  },
  {
   "cell_type": "code",
   "execution_count": 22,
   "metadata": {
    "collapsed": false
   },
   "outputs": [],
   "source": [
    "using CompCat.Syntax\n",
    "using CompCat.Diagram.Wiring\n",
    "using CompCat.Diagram.Interactive"
   ]
  },
  {
   "cell_type": "code",
   "execution_count": 2,
   "metadata": {
    "collapsed": false
   },
   "outputs": [],
   "source": [
    "A = ob_expr(:A)\n",
    "B = ob_expr(:B)\n",
    "f = mor_expr(:f, A, B)\n",
    "g = mor_expr(:g, B, A)\n",
    "h = mor_expr(:h, otimes(A,B), otimes(A,B))\n",
    "\n",
    "diagram(f; kwargs...) = diagram_tikz(f; labels=false, kwargs...);"
   ]
  },
  {
   "cell_type": "markdown",
   "metadata": {},
   "source": [
    "## Category"
   ]
  },
  {
   "cell_type": "code",
   "execution_count": 3,
   "metadata": {
    "collapsed": false
   },
   "outputs": [
    {
     "data": {
      "image/svg+xml": [
       "<?xml version=\"1.0\" encoding=\"UTF-8\"?>\n",
       "<svg xmlns=\"http://www.w3.org/2000/svg\" xmlns:xlink=\"http://www.w3.org/1999/xlink\" width=\"66.017pt\" height=\"24.309pt\" viewBox=\"0 0 66.017 24.309\" version=\"1.1\">\n",
       "<defs>\n",
       "<g>\n",
       "<symbol overflow=\"visible\" id=\"glyph-1489542186913244-0-0\">\n",
       "<path style=\"stroke:none;\" d=\"\"/>\n",
       "</symbol>\n",
       "<symbol overflow=\"visible\" id=\"glyph-1489542186913244-0-1\">\n",
       "<path style=\"stroke:none;\" d=\"M 5.328125 -4.8125 C 5.5625 -4.8125 5.671875 -4.8125 5.671875 -5.03125 C 5.671875 -5.15625 5.5625 -5.15625 5.359375 -5.15625 L 4.390625 -5.15625 C 4.609375 -6.390625 4.78125 -7.234375 4.875 -7.609375 C 4.953125 -7.90625 5.203125 -8.171875 5.515625 -8.171875 C 5.765625 -8.171875 6.015625 -8.0625 6.125 -7.953125 C 5.671875 -7.90625 5.515625 -7.5625 5.515625 -7.359375 C 5.515625 -7.125 5.703125 -6.984375 5.921875 -6.984375 C 6.171875 -6.984375 6.53125 -7.1875 6.53125 -7.640625 C 6.53125 -8.140625 6.03125 -8.421875 5.5 -8.421875 C 4.984375 -8.421875 4.484375 -8.03125 4.25 -7.5625 C 4.03125 -7.140625 3.90625 -6.71875 3.640625 -5.15625 L 2.828125 -5.15625 C 2.609375 -5.15625 2.484375 -5.15625 2.484375 -4.9375 C 2.484375 -4.8125 2.5625 -4.8125 2.796875 -4.8125 L 3.5625 -4.8125 C 3.34375 -3.6875 2.859375 -0.984375 2.578125 0.28125 C 2.375 1.328125 2.203125 2.203125 1.609375 2.203125 C 1.5625 2.203125 1.21875 2.203125 1 1.96875 C 1.609375 1.921875 1.609375 1.40625 1.609375 1.390625 C 1.609375 1.140625 1.4375 1 1.203125 1 C 0.96875 1 0.609375 1.203125 0.609375 1.65625 C 0.609375 2.171875 1.140625 2.4375 1.609375 2.4375 C 2.828125 2.4375 3.328125 0.25 3.453125 -0.34375 C 3.671875 -1.265625 4.25 -4.453125 4.3125 -4.8125 Z M 5.328125 -4.8125 \"/>\n",
       "</symbol>\n",
       "<symbol overflow=\"visible\" id=\"glyph-1489542186913244-0-2\">\n",
       "<path style=\"stroke:none;\" d=\"M 2.03125 -1.328125 C 1.609375 -0.625 1.203125 -0.375 0.640625 -0.34375 C 0.5 -0.328125 0.40625 -0.328125 0.40625 -0.125 C 0.40625 -0.046875 0.46875 0 0.546875 0 C 0.765625 0 1.296875 -0.03125 1.515625 -0.03125 C 1.859375 -0.03125 2.25 0 2.578125 0 C 2.65625 0 2.796875 0 2.796875 -0.234375 C 2.796875 -0.328125 2.703125 -0.34375 2.625 -0.34375 C 2.359375 -0.375 2.125 -0.46875 2.125 -0.75 C 2.125 -0.921875 2.203125 -1.046875 2.359375 -1.3125 L 3.265625 -2.828125 L 6.3125 -2.828125 C 6.328125 -2.71875 6.328125 -2.625 6.328125 -2.515625 C 6.375 -2.203125 6.515625 -0.953125 6.515625 -0.734375 C 6.515625 -0.375 5.90625 -0.34375 5.71875 -0.34375 C 5.578125 -0.34375 5.453125 -0.34375 5.453125 -0.125 C 5.453125 0 5.5625 0 5.625 0 C 5.828125 0 6.078125 -0.03125 6.28125 -0.03125 L 6.953125 -0.03125 C 7.6875 -0.03125 8.21875 0 8.21875 0 C 8.3125 0 8.4375 0 8.4375 -0.234375 C 8.4375 -0.34375 8.328125 -0.34375 8.15625 -0.34375 C 7.5 -0.34375 7.484375 -0.453125 7.453125 -0.8125 L 6.71875 -8.265625 C 6.6875 -8.515625 6.640625 -8.53125 6.515625 -8.53125 C 6.390625 -8.53125 6.328125 -8.515625 6.21875 -8.328125 Z M 3.46875 -3.171875 L 5.875 -7.1875 L 6.28125 -3.171875 Z M 3.46875 -3.171875 \"/>\n",
       "</symbol>\n",
       "<symbol overflow=\"visible\" id=\"glyph-1489542186913244-0-3\">\n",
       "<path style=\"stroke:none;\" d=\"M 4.375 -7.34375 C 4.484375 -7.796875 4.53125 -7.8125 5 -7.8125 L 6.546875 -7.8125 C 7.90625 -7.8125 7.90625 -6.671875 7.90625 -6.5625 C 7.90625 -5.59375 6.9375 -4.359375 5.359375 -4.359375 L 3.640625 -4.359375 Z M 6.390625 -4.265625 C 7.703125 -4.5 8.875 -5.421875 8.875 -6.515625 C 8.875 -7.453125 8.0625 -8.15625 6.703125 -8.15625 L 2.875 -8.15625 C 2.640625 -8.15625 2.53125 -8.15625 2.53125 -7.9375 C 2.53125 -7.8125 2.640625 -7.8125 2.828125 -7.8125 C 3.546875 -7.8125 3.546875 -7.71875 3.546875 -7.59375 C 3.546875 -7.5625 3.546875 -7.5 3.5 -7.3125 L 1.890625 -0.890625 C 1.78125 -0.46875 1.75 -0.34375 0.921875 -0.34375 C 0.6875 -0.34375 0.578125 -0.34375 0.578125 -0.125 C 0.578125 0 0.640625 0 0.890625 0 L 4.984375 0 C 6.8125 0 8.21875 -1.390625 8.21875 -2.59375 C 8.21875 -3.578125 7.359375 -4.171875 6.390625 -4.265625 Z M 4.703125 -0.34375 L 3.078125 -0.34375 C 2.921875 -0.34375 2.890625 -0.34375 2.828125 -0.359375 C 2.6875 -0.375 2.671875 -0.390625 2.671875 -0.484375 C 2.671875 -0.578125 2.703125 -0.640625 2.71875 -0.75 L 3.5625 -4.125 L 5.8125 -4.125 C 7.21875 -4.125 7.21875 -2.8125 7.21875 -2.71875 C 7.21875 -1.5625 6.1875 -0.34375 4.703125 -0.34375 Z M 4.703125 -0.34375 \"/>\n",
       "</symbol>\n",
       "</g>\n",
       "<clipPath id=\"clip-1489542186913244-1\">\n",
       "  <path d=\"M 19 0 L 47 0 L 47 24.308594 L 19 24.308594 Z M 19 0 \"/>\n",
       "</clipPath>\n",
       "<clipPath id=\"clip-1489542186913244-2\">\n",
       "  <path d=\"M 35 6 L 66.015625 6 L 66.015625 18 L 35 18 Z M 35 6 \"/>\n",
       "</clipPath>\n",
       "</defs>\n",
       "<g id=\"surface1\">\n",
       "<g clip-path=\"url(#clip-1489542186913244-1)\" clip-rule=\"nonzero\">\n",
       "<path style=\"fill:none;stroke-width:0.3985;stroke-linecap:butt;stroke-linejoin:miter;stroke:rgb(0%,0%,0%);stroke-opacity:1;stroke-miterlimit:10;\" d=\"M 4.129594 11.263375 L 11.278031 10.001656 C 13.449906 9.618844 15.207719 7.525094 15.207719 5.321969 L 15.207719 -5.326469 C 15.207719 -7.525688 13.449906 -9.619438 11.278031 -10.00225 L 4.129594 -11.263969 C 1.957719 -11.646781 0.199906 -10.170219 0.199906 -7.971 L 0.199906 7.970406 C 0.199906 10.169625 1.957719 11.646187 4.129594 11.263375 Z M 4.129594 11.263375 \" transform=\"matrix(1,0,0,-1,25.304,12.154)\"/>\n",
       "</g>\n",
       "<g style=\"fill:rgb(0%,0%,0%);fill-opacity:1;\">\n",
       "  <use xlink:href=\"#glyph-1489542186913244-0-1\" x=\"29.485\" y=\"15.143\"/>\n",
       "</g>\n",
       "<path style=\"fill:none;stroke-width:0.3985;stroke-linecap:butt;stroke-linejoin:miter;stroke:rgb(0%,0%,0%);stroke-opacity:1;stroke-miterlimit:10;\" d=\"M -0.00190625 -0.00125 C 9.59575 -0.00125 15.009813 -0.00125 24.607469 -0.00125 \" transform=\"matrix(1,0,0,-1,0.498,12.155)\"/>\n",
       "<path style=\"fill-rule:nonzero;fill:rgb(0%,0%,0%);fill-opacity:1;stroke-width:0.3985;stroke-linecap:butt;stroke-linejoin:miter;stroke:rgb(0%,0%,0%);stroke-opacity:1;stroke-miterlimit:10;\" d=\"M 4.214865 -0.00125 L 0.644553 1.346406 L 1.816428 -0.00125 L 0.644553 -1.345 Z M 4.214865 -0.00125 \" transform=\"matrix(1,0,0,-1,8.01951,12.155)\"/>\n",
       "<g style=\"fill:rgb(0%,0%,0%);fill-opacity:1;\">\n",
       "  <use xlink:href=\"#glyph-1489542186913244-0-2\" x=\"8.414\" y=\"8.967\"/>\n",
       "</g>\n",
       "<g clip-path=\"url(#clip-1489542186913244-2)\" clip-rule=\"nonzero\">\n",
       "<path style=\"fill:none;stroke-width:0.3985;stroke-linecap:butt;stroke-linejoin:miter;stroke:rgb(0%,0%,0%);stroke-opacity:1;stroke-miterlimit:10;\" d=\"M 40.412156 -0.00125 C 50.009813 -0.00125 55.423875 -0.00125 65.021531 -0.00125 \" transform=\"matrix(1,0,0,-1,0.498,12.155)\"/>\n",
       "</g>\n",
       "<path style=\"fill-rule:nonzero;fill:rgb(0%,0%,0%);fill-opacity:1;stroke-width:0.3985;stroke-linecap:butt;stroke-linejoin:miter;stroke:rgb(0%,0%,0%);stroke-opacity:1;stroke-miterlimit:10;\" d=\"M 4.215287 -0.00125 L 0.644975 1.346406 L 1.81685 -0.00125 L 0.644975 -1.345 Z M 4.215287 -0.00125 \" transform=\"matrix(1,0,0,-1,48.43315,12.155)\"/>\n",
       "<g style=\"fill:rgb(0%,0%,0%);fill-opacity:1;\">\n",
       "  <use xlink:href=\"#glyph-1489542186913244-0-3\" x=\"48.467\" y=\"8.967\"/>\n",
       "</g>\n",
       "</g>\n",
       "</svg>\n",
       "\n"
      ],
      "text/plain": [
       "CompCat.Diagram.TikZ.Picture(CompCat.Diagram.TikZ.Statement[CompCat.Diagram.TikZ.Node(\"n\",CompCat.Diagram.TikZ.Property[CompCat.Diagram.TikZ.Property(\"container\",#NULL)],#NULL,CompCat.Diagram.TikZ.Picture(CompCat.Diagram.TikZ.Statement[CompCat.Diagram.TikZ.Node(\"n1\",CompCat.Diagram.TikZ.Property[CompCat.Diagram.TikZ.Property(\"minimum height\",\"2.0em\")],#NULL,\"\"),CompCat.Diagram.TikZ.Node(\"n2\",CompCat.Diagram.TikZ.Property[CompCat.Diagram.TikZ.Property(\"container\",#NULL),CompCat.Diagram.TikZ.Property(\"right=2em of n1)\",#NULL)],#NULL,CompCat.Diagram.TikZ.Picture(CompCat.Diagram.TikZ.Statement[CompCat.Diagram.TikZ.Node(\"n2 box\",CompCat.Diagram.TikZ.Property[CompCat.Diagram.TikZ.Property(\"morphism node\",#NULL),CompCat.Diagram.TikZ.Property(\"trapezium\",#NULL),CompCat.Diagram.TikZ.Property(\"trapezium angle\",\"80\"),CompCat.Diagram.TikZ.Property(\"trapezium stretches body\",#NULL),CompCat.Diagram.TikZ.Property(\"shape border rotate\",\"270\"),CompCat.Diagram.TikZ.Property(\"rounded corners\",#NULL),CompCat.Diagram.TikZ.Property(\"minimum width\",\"2.0em\")],#NULL,\"f\")],CompCat.Diagram.TikZ.Property[])),CompCat.Diagram.TikZ.Edge(\"n1.center\",\"n2.west\",CompCat.Diagram.TikZ.PathOperation(\"to\",CompCat.Diagram.TikZ.Property[CompCat.Diagram.TikZ.Property(\"out\",\"0\"),CompCat.Diagram.TikZ.Property(\"in\",\"180\")]),CompCat.Diagram.TikZ.Property[CompCat.Diagram.TikZ.Property(\"postaction\",\"{decorate}\")],CompCat.Diagram.TikZ.EdgeNode(CompCat.Diagram.TikZ.Property[CompCat.Diagram.TikZ.Property(\"above\",\"0.25em\"),CompCat.Diagram.TikZ.Property(\"midway\",#NULL)],\"A\")),CompCat.Diagram.TikZ.Node(\"n3\",CompCat.Diagram.TikZ.Property[CompCat.Diagram.TikZ.Property(\"minimum height\",\"2.0em\"),CompCat.Diagram.TikZ.Property(\"right=2em of n2)\",#NULL)],#NULL,\"\"),CompCat.Diagram.TikZ.Edge(\"n2.east\",\"n3.center\",CompCat.Diagram.TikZ.PathOperation(\"to\",CompCat.Diagram.TikZ.Property[CompCat.Diagram.TikZ.Property(\"out\",\"0\"),CompCat.Diagram.TikZ.Property(\"in\",\"180\")]),CompCat.Diagram.TikZ.Property[CompCat.Diagram.TikZ.Property(\"postaction\",\"{decorate}\")],CompCat.Diagram.TikZ.EdgeNode(CompCat.Diagram.TikZ.Property[CompCat.Diagram.TikZ.Property(\"above\",\"0.25em\"),CompCat.Diagram.TikZ.Property(\"midway\",#NULL)],\"B\"))],CompCat.Diagram.TikZ.Property[]))],CompCat.Diagram.TikZ.Property[CompCat.Diagram.TikZ.Property(\"remember picture\",#NULL),CompCat.Diagram.TikZ.Property(\"font\",\"{\\\\fontsize{12}{14.4}}\"),CompCat.Diagram.TikZ.Property(\"morphism node/.style\",\"{draw,solid,inner sep=0.333em}\"),CompCat.Diagram.TikZ.Property(\"monoid node/.style\",\"{draw,fill,circle,minimum size=0.333em}\"),CompCat.Diagram.TikZ.Property(\"container/.style\",\"{inner sep=0}\"),CompCat.Diagram.TikZ.Property(\"every path/.style\",\"{solid, line width=0.4pt}\"),CompCat.Diagram.TikZ.Property(\"decoration\",\"{markings, mark=at position 0.5 with {\\\\arrow{Stealth}}}\"),CompCat.Diagram.TikZ.Property(\"execute at begin node\",\"\\$\"),CompCat.Diagram.TikZ.Property(\"execute at end node\",\"\\$\")])"
      ]
     },
     "execution_count": 3,
     "metadata": {},
     "output_type": "execute_result"
    }
   ],
   "source": [
    "diagram(f; arrowtip=\"Stealth\", labels=true)"
   ]
  },
  {
   "cell_type": "code",
   "execution_count": 4,
   "metadata": {
    "collapsed": false
   },
   "outputs": [
    {
     "data": {
      "image/svg+xml": [
       "<?xml version=\"1.0\" encoding=\"UTF-8\"?>\n",
       "<svg xmlns=\"http://www.w3.org/2000/svg\" xmlns:xlink=\"http://www.w3.org/1999/xlink\" width=\"104.721pt\" height=\"24.309pt\" viewBox=\"0 0 104.721 24.309\" version=\"1.1\">\n",
       "<defs>\n",
       "<g>\n",
       "<symbol overflow=\"visible\" id=\"glyph-1489542186913245-0-0\">\n",
       "<path style=\"stroke:none;\" d=\"\"/>\n",
       "</symbol>\n",
       "<symbol overflow=\"visible\" id=\"glyph-1489542186913245-0-1\">\n",
       "<path style=\"stroke:none;\" d=\"M 5.328125 -4.8125 C 5.5625 -4.8125 5.671875 -4.8125 5.671875 -5.03125 C 5.671875 -5.15625 5.5625 -5.15625 5.359375 -5.15625 L 4.390625 -5.15625 C 4.609375 -6.390625 4.78125 -7.234375 4.875 -7.609375 C 4.953125 -7.90625 5.203125 -8.171875 5.515625 -8.171875 C 5.765625 -8.171875 6.015625 -8.0625 6.125 -7.953125 C 5.671875 -7.90625 5.515625 -7.5625 5.515625 -7.359375 C 5.515625 -7.125 5.703125 -6.984375 5.921875 -6.984375 C 6.171875 -6.984375 6.53125 -7.1875 6.53125 -7.640625 C 6.53125 -8.140625 6.03125 -8.421875 5.5 -8.421875 C 4.984375 -8.421875 4.484375 -8.03125 4.25 -7.5625 C 4.03125 -7.140625 3.90625 -6.71875 3.640625 -5.15625 L 2.828125 -5.15625 C 2.609375 -5.15625 2.484375 -5.15625 2.484375 -4.9375 C 2.484375 -4.8125 2.5625 -4.8125 2.796875 -4.8125 L 3.5625 -4.8125 C 3.34375 -3.6875 2.859375 -0.984375 2.578125 0.28125 C 2.375 1.328125 2.203125 2.203125 1.609375 2.203125 C 1.5625 2.203125 1.21875 2.203125 1 1.96875 C 1.609375 1.921875 1.609375 1.40625 1.609375 1.390625 C 1.609375 1.140625 1.4375 1 1.203125 1 C 0.96875 1 0.609375 1.203125 0.609375 1.65625 C 0.609375 2.171875 1.140625 2.4375 1.609375 2.4375 C 2.828125 2.4375 3.328125 0.25 3.453125 -0.34375 C 3.671875 -1.265625 4.25 -4.453125 4.3125 -4.8125 Z M 5.328125 -4.8125 \"/>\n",
       "</symbol>\n",
       "<symbol overflow=\"visible\" id=\"glyph-1489542186913245-0-2\">\n",
       "<path style=\"stroke:none;\" d=\"M 2.03125 -1.328125 C 1.609375 -0.625 1.203125 -0.375 0.640625 -0.34375 C 0.5 -0.328125 0.40625 -0.328125 0.40625 -0.125 C 0.40625 -0.046875 0.46875 0 0.546875 0 C 0.765625 0 1.296875 -0.03125 1.515625 -0.03125 C 1.859375 -0.03125 2.25 0 2.578125 0 C 2.65625 0 2.796875 0 2.796875 -0.234375 C 2.796875 -0.328125 2.703125 -0.34375 2.625 -0.34375 C 2.359375 -0.375 2.125 -0.46875 2.125 -0.75 C 2.125 -0.921875 2.203125 -1.046875 2.359375 -1.3125 L 3.265625 -2.828125 L 6.3125 -2.828125 C 6.328125 -2.71875 6.328125 -2.625 6.328125 -2.515625 C 6.375 -2.203125 6.515625 -0.953125 6.515625 -0.734375 C 6.515625 -0.375 5.90625 -0.34375 5.71875 -0.34375 C 5.578125 -0.34375 5.453125 -0.34375 5.453125 -0.125 C 5.453125 0 5.5625 0 5.625 0 C 5.828125 0 6.078125 -0.03125 6.28125 -0.03125 L 6.953125 -0.03125 C 7.6875 -0.03125 8.21875 0 8.21875 0 C 8.3125 0 8.4375 0 8.4375 -0.234375 C 8.4375 -0.34375 8.328125 -0.34375 8.15625 -0.34375 C 7.5 -0.34375 7.484375 -0.453125 7.453125 -0.8125 L 6.71875 -8.265625 C 6.6875 -8.515625 6.640625 -8.53125 6.515625 -8.53125 C 6.390625 -8.53125 6.328125 -8.515625 6.21875 -8.328125 Z M 3.46875 -3.171875 L 5.875 -7.1875 L 6.28125 -3.171875 Z M 3.46875 -3.171875 \"/>\n",
       "</symbol>\n",
       "<symbol overflow=\"visible\" id=\"glyph-1489542186913245-0-3\">\n",
       "<path style=\"stroke:none;\" d=\"M 4.046875 -1.515625 C 4 -1.328125 3.96875 -1.28125 3.8125 -1.09375 C 3.328125 -0.46875 2.828125 -0.234375 2.453125 -0.234375 C 2.0625 -0.234375 1.6875 -0.546875 1.6875 -1.375 C 1.6875 -2.015625 2.046875 -3.34375 2.3125 -3.890625 C 2.65625 -4.546875 3.1875 -5.03125 3.6875 -5.03125 C 4.484375 -5.03125 4.640625 -4.046875 4.640625 -3.984375 L 4.609375 -3.8125 Z M 4.78125 -4.484375 C 4.625 -4.828125 4.296875 -5.265625 3.6875 -5.265625 C 2.390625 -5.265625 0.90625 -3.640625 0.90625 -1.859375 C 0.90625 -0.609375 1.65625 0 2.421875 0 C 3.0625 0 3.625 -0.5 3.84375 -0.734375 L 3.578125 0.328125 C 3.40625 0.984375 3.328125 1.296875 2.90625 1.703125 C 2.421875 2.203125 1.953125 2.203125 1.703125 2.203125 C 1.34375 2.203125 1.046875 2.171875 0.734375 2.078125 C 1.125 1.96875 1.21875 1.640625 1.21875 1.5 C 1.21875 1.3125 1.078125 1.125 0.8125 1.125 C 0.53125 1.125 0.21875 1.359375 0.21875 1.75 C 0.21875 2.25 0.703125 2.4375 1.71875 2.4375 C 3.265625 2.4375 4.0625 1.453125 4.21875 0.796875 L 5.546875 -4.546875 C 5.578125 -4.703125 5.578125 -4.71875 5.578125 -4.75 C 5.578125 -4.90625 5.453125 -5.046875 5.265625 -5.046875 C 4.984375 -5.046875 4.8125 -4.8125 4.78125 -4.484375 Z M 4.78125 -4.484375 \"/>\n",
       "</symbol>\n",
       "<symbol overflow=\"visible\" id=\"glyph-1489542186913245-0-4\">\n",
       "<path style=\"stroke:none;\" d=\"M 4.375 -7.34375 C 4.484375 -7.796875 4.53125 -7.8125 5 -7.8125 L 6.546875 -7.8125 C 7.90625 -7.8125 7.90625 -6.671875 7.90625 -6.5625 C 7.90625 -5.59375 6.9375 -4.359375 5.359375 -4.359375 L 3.640625 -4.359375 Z M 6.390625 -4.265625 C 7.703125 -4.5 8.875 -5.421875 8.875 -6.515625 C 8.875 -7.453125 8.0625 -8.15625 6.703125 -8.15625 L 2.875 -8.15625 C 2.640625 -8.15625 2.53125 -8.15625 2.53125 -7.9375 C 2.53125 -7.8125 2.640625 -7.8125 2.828125 -7.8125 C 3.546875 -7.8125 3.546875 -7.71875 3.546875 -7.59375 C 3.546875 -7.5625 3.546875 -7.5 3.5 -7.3125 L 1.890625 -0.890625 C 1.78125 -0.46875 1.75 -0.34375 0.921875 -0.34375 C 0.6875 -0.34375 0.578125 -0.34375 0.578125 -0.125 C 0.578125 0 0.640625 0 0.890625 0 L 4.984375 0 C 6.8125 0 8.21875 -1.390625 8.21875 -2.59375 C 8.21875 -3.578125 7.359375 -4.171875 6.390625 -4.265625 Z M 4.703125 -0.34375 L 3.078125 -0.34375 C 2.921875 -0.34375 2.890625 -0.34375 2.828125 -0.359375 C 2.6875 -0.375 2.671875 -0.390625 2.671875 -0.484375 C 2.671875 -0.578125 2.703125 -0.640625 2.71875 -0.75 L 3.5625 -4.125 L 5.8125 -4.125 C 7.21875 -4.125 7.21875 -2.8125 7.21875 -2.71875 C 7.21875 -1.5625 6.1875 -0.34375 4.703125 -0.34375 Z M 4.703125 -0.34375 \"/>\n",
       "</symbol>\n",
       "</g>\n",
       "<clipPath id=\"clip-1489542186913245-1\">\n",
       "  <path d=\"M 19 0 L 47 0 L 47 24.308594 L 19 24.308594 Z M 19 0 \"/>\n",
       "</clipPath>\n",
       "<clipPath id=\"clip-1489542186913245-2\">\n",
       "  <path d=\"M 59 0 L 85 0 L 85 24.308594 L 59 24.308594 Z M 59 0 \"/>\n",
       "</clipPath>\n",
       "<clipPath id=\"clip-1489542186913245-3\">\n",
       "  <path d=\"M 73 6 L 104.722656 6 L 104.722656 18 L 73 18 Z M 73 6 \"/>\n",
       "</clipPath>\n",
       "</defs>\n",
       "<g id=\"surface1\">\n",
       "<g clip-path=\"url(#clip-1489542186913245-1)\" clip-rule=\"nonzero\">\n",
       "<path style=\"fill:none;stroke-width:0.3985;stroke-linecap:butt;stroke-linejoin:miter;stroke:rgb(0%,0%,0%);stroke-opacity:1;stroke-miterlimit:10;\" d=\"M 4.129594 11.263375 L 11.278031 10.001656 C 13.449906 9.618844 15.207719 7.525094 15.207719 5.321969 L 15.207719 -5.326469 C 15.207719 -7.525688 13.449906 -9.619438 11.278031 -10.00225 L 4.129594 -11.263969 C 1.957719 -11.646781 0.199906 -10.170219 0.199906 -7.971 L 0.199906 7.970406 C 0.199906 10.169625 1.957719 11.646187 4.129594 11.263375 Z M 4.129594 11.263375 \" transform=\"matrix(1,0,0,-1,25.304,12.154)\"/>\n",
       "</g>\n",
       "<g style=\"fill:rgb(0%,0%,0%);fill-opacity:1;\">\n",
       "  <use xlink:href=\"#glyph-1489542186913245-0-1\" x=\"29.485\" y=\"15.143\"/>\n",
       "</g>\n",
       "<path style=\"fill:none;stroke-width:0.3985;stroke-linecap:butt;stroke-linejoin:miter;stroke:rgb(0%,0%,0%);stroke-opacity:1;stroke-miterlimit:10;\" d=\"M -0.00190625 -0.00125 C 9.59575 -0.00125 15.009813 -0.00125 24.607469 -0.00125 \" transform=\"matrix(1,0,0,-1,0.498,12.155)\"/>\n",
       "<path style=\"fill-rule:nonzero;fill:rgb(0%,0%,0%);fill-opacity:1;stroke-width:0.3985;stroke-linecap:butt;stroke-linejoin:miter;stroke:rgb(0%,0%,0%);stroke-opacity:1;stroke-miterlimit:10;\" d=\"M 4.214865 -0.00125 L 0.644553 1.346406 L 1.816428 -0.00125 L 0.644553 -1.345 Z M 4.214865 -0.00125 \" transform=\"matrix(1,0,0,-1,8.01951,12.155)\"/>\n",
       "<g style=\"fill:rgb(0%,0%,0%);fill-opacity:1;\">\n",
       "  <use xlink:href=\"#glyph-1489542186913245-0-2\" x=\"8.414\" y=\"8.967\"/>\n",
       "</g>\n",
       "<g clip-path=\"url(#clip-1489542186913245-2)\" clip-rule=\"nonzero\">\n",
       "<path style=\"fill:none;stroke-width:0.3985;stroke-linecap:butt;stroke-linejoin:miter;stroke:rgb(0%,0%,0%);stroke-opacity:1;stroke-miterlimit:10;\" d=\"M 4.128438 11.263375 L 10.269063 10.181344 C 12.437031 9.798531 14.194844 7.704781 14.194844 5.501656 L 14.194844 -5.50225 C 14.194844 -7.705375 12.437031 -9.799125 10.269063 -10.181938 L 4.128438 -11.263969 C 1.960469 -11.646781 0.19875 -10.170219 0.19875 -7.971 L 0.19875 7.970406 C 0.19875 10.169625 1.960469 11.646187 4.128438 11.263375 Z M 4.128438 11.263375 \" transform=\"matrix(1,0,0,-1,65.02,12.154)\"/>\n",
       "</g>\n",
       "<g style=\"fill:rgb(0%,0%,0%);fill-opacity:1;\">\n",
       "  <use xlink:href=\"#glyph-1489542186913245-0-3\" x=\"69.201\" y=\"13.566\"/>\n",
       "</g>\n",
       "<path style=\"fill:none;stroke-width:0.3985;stroke-linecap:butt;stroke-linejoin:miter;stroke:rgb(0%,0%,0%);stroke-opacity:1;stroke-miterlimit:10;\" d=\"M 40.412156 -0.00125 C 49.736375 -0.00125 54.998094 -0.00125 64.322312 -0.00125 \" transform=\"matrix(1,0,0,-1,0.498,12.155)\"/>\n",
       "<path style=\"fill-rule:nonzero;fill:rgb(0%,0%,0%);fill-opacity:1;stroke-width:0.3985;stroke-linecap:butt;stroke-linejoin:miter;stroke:rgb(0%,0%,0%);stroke-opacity:1;stroke-miterlimit:10;\" d=\"M 4.216321 -0.00125 L 0.642103 1.346406 L 1.817884 -0.00125 L 0.642103 -1.345 Z M 4.216321 -0.00125 \" transform=\"matrix(1,0,0,-1,48.08446,12.155)\"/>\n",
       "<g style=\"fill:rgb(0%,0%,0%);fill-opacity:1;\">\n",
       "  <use xlink:href=\"#glyph-1489542186913245-0-4\" x=\"48.118\" y=\"8.967\"/>\n",
       "</g>\n",
       "<g clip-path=\"url(#clip-1489542186913245-3)\" clip-rule=\"nonzero\">\n",
       "<path style=\"fill:none;stroke-width:0.3985;stroke-linecap:butt;stroke-linejoin:miter;stroke:rgb(0%,0%,0%);stroke-opacity:1;stroke-miterlimit:10;\" d=\"M 79.119187 -0.00125 C 88.712937 -0.00125 94.130906 -0.00125 103.724656 -0.00125 \" transform=\"matrix(1,0,0,-1,0.498,12.155)\"/>\n",
       "</g>\n",
       "<path style=\"fill-rule:nonzero;fill:rgb(0%,0%,0%);fill-opacity:1;stroke-width:0.3985;stroke-linecap:butt;stroke-linejoin:miter;stroke:rgb(0%,0%,0%);stroke-opacity:1;stroke-miterlimit:10;\" d=\"M 4.214372 -0.00125 L 0.64406 1.346406 L 1.815935 -0.00125 L 0.64406 -1.345 Z M 4.214372 -0.00125 \" transform=\"matrix(1,0,0,-1,87.13719,12.155)\"/>\n",
       "<g style=\"fill:rgb(0%,0%,0%);fill-opacity:1;\">\n",
       "  <use xlink:href=\"#glyph-1489542186913245-0-2\" x=\"87.531\" y=\"8.967\"/>\n",
       "</g>\n",
       "</g>\n",
       "</svg>\n",
       "\n"
      ],
      "text/plain": [
       "CompCat.Diagram.TikZ.Picture(CompCat.Diagram.TikZ.Statement[CompCat.Diagram.TikZ.Node(\"n\",CompCat.Diagram.TikZ.Property[CompCat.Diagram.TikZ.Property(\"container\",#NULL)],#NULL,CompCat.Diagram.TikZ.Picture(CompCat.Diagram.TikZ.Statement[CompCat.Diagram.TikZ.Node(\"n1\",CompCat.Diagram.TikZ.Property[CompCat.Diagram.TikZ.Property(\"minimum height\",\"2.0em\")],#NULL,\"\"),CompCat.Diagram.TikZ.Node(\"n2\",CompCat.Diagram.TikZ.Property[CompCat.Diagram.TikZ.Property(\"container\",#NULL),CompCat.Diagram.TikZ.Property(\"right=2em of n1)\",#NULL)],#NULL,CompCat.Diagram.TikZ.Picture(CompCat.Diagram.TikZ.Statement[CompCat.Diagram.TikZ.Node(\"n2 box\",CompCat.Diagram.TikZ.Property[CompCat.Diagram.TikZ.Property(\"morphism node\",#NULL),CompCat.Diagram.TikZ.Property(\"trapezium\",#NULL),CompCat.Diagram.TikZ.Property(\"trapezium angle\",\"80\"),CompCat.Diagram.TikZ.Property(\"trapezium stretches body\",#NULL),CompCat.Diagram.TikZ.Property(\"shape border rotate\",\"270\"),CompCat.Diagram.TikZ.Property(\"rounded corners\",#NULL),CompCat.Diagram.TikZ.Property(\"minimum width\",\"2.0em\")],#NULL,\"f\")],CompCat.Diagram.TikZ.Property[])),CompCat.Diagram.TikZ.Edge(\"n1.center\",\"n2.west\",CompCat.Diagram.TikZ.PathOperation(\"to\",CompCat.Diagram.TikZ.Property[CompCat.Diagram.TikZ.Property(\"out\",\"0\"),CompCat.Diagram.TikZ.Property(\"in\",\"180\")]),CompCat.Diagram.TikZ.Property[CompCat.Diagram.TikZ.Property(\"postaction\",\"{decorate}\")],CompCat.Diagram.TikZ.EdgeNode(CompCat.Diagram.TikZ.Property[CompCat.Diagram.TikZ.Property(\"above\",\"0.25em\"),CompCat.Diagram.TikZ.Property(\"midway\",#NULL)],\"A\")),CompCat.Diagram.TikZ.Node(\"n3\",CompCat.Diagram.TikZ.Property[CompCat.Diagram.TikZ.Property(\"container\",#NULL),CompCat.Diagram.TikZ.Property(\"right=2em of n2)\",#NULL)],#NULL,CompCat.Diagram.TikZ.Picture(CompCat.Diagram.TikZ.Statement[CompCat.Diagram.TikZ.Node(\"n3 box\",CompCat.Diagram.TikZ.Property[CompCat.Diagram.TikZ.Property(\"morphism node\",#NULL),CompCat.Diagram.TikZ.Property(\"trapezium\",#NULL),CompCat.Diagram.TikZ.Property(\"trapezium angle\",\"80\"),CompCat.Diagram.TikZ.Property(\"trapezium stretches body\",#NULL),CompCat.Diagram.TikZ.Property(\"shape border rotate\",\"270\"),CompCat.Diagram.TikZ.Property(\"rounded corners\",#NULL),CompCat.Diagram.TikZ.Property(\"minimum width\",\"2.0em\")],#NULL,\"g\")],CompCat.Diagram.TikZ.Property[])),CompCat.Diagram.TikZ.Edge(\"n2.east\",\"n3.west\",CompCat.Diagram.TikZ.PathOperation(\"to\",CompCat.Diagram.TikZ.Property[CompCat.Diagram.TikZ.Property(\"out\",\"0\"),CompCat.Diagram.TikZ.Property(\"in\",\"180\")]),CompCat.Diagram.TikZ.Property[CompCat.Diagram.TikZ.Property(\"postaction\",\"{decorate}\")],CompCat.Diagram.TikZ.EdgeNode(CompCat.Diagram.TikZ.Property[CompCat.Diagram.TikZ.Property(\"above\",\"0.25em\"),CompCat.Diagram.TikZ.Property(\"midway\",#NULL)],\"B\")),CompCat.Diagram.TikZ.Node(\"n4\",CompCat.Diagram.TikZ.Property[CompCat.Diagram.TikZ.Property(\"minimum height\",\"2.0em\"),CompCat.Diagram.TikZ.Property(\"right=2em of n3)\",#NULL)],#NULL,\"\"),CompCat.Diagram.TikZ.Edge(\"n3.east\",\"n4.center\",CompCat.Diagram.TikZ.PathOperation(\"to\",CompCat.Diagram.TikZ.Property[CompCat.Diagram.TikZ.Property(\"out\",\"0\"),CompCat.Diagram.TikZ.Property(\"in\",\"180\")]),CompCat.Diagram.TikZ.Property[CompCat.Diagram.TikZ.Property(\"postaction\",\"{decorate}\")],CompCat.Diagram.TikZ.EdgeNode(CompCat.Diagram.TikZ.Property[CompCat.Diagram.TikZ.Property(\"above\",\"0.25em\"),CompCat.Diagram.TikZ.Property(\"midway\",#NULL)],\"A\"))],CompCat.Diagram.TikZ.Property[]))],CompCat.Diagram.TikZ.Property[CompCat.Diagram.TikZ.Property(\"remember picture\",#NULL),CompCat.Diagram.TikZ.Property(\"font\",\"{\\\\fontsize{12}{14.4}}\"),CompCat.Diagram.TikZ.Property(\"morphism node/.style\",\"{draw,solid,inner sep=0.333em}\"),CompCat.Diagram.TikZ.Property(\"monoid node/.style\",\"{draw,fill,circle,minimum size=0.333em}\"),CompCat.Diagram.TikZ.Property(\"container/.style\",\"{inner sep=0}\"),CompCat.Diagram.TikZ.Property(\"every path/.style\",\"{solid, line width=0.4pt}\"),CompCat.Diagram.TikZ.Property(\"decoration\",\"{markings, mark=at position 0.5 with {\\\\arrow{Stealth}}}\"),CompCat.Diagram.TikZ.Property(\"execute at begin node\",\"\\$\"),CompCat.Diagram.TikZ.Property(\"execute at end node\",\"\\$\")])"
      ]
     },
     "execution_count": 4,
     "metadata": {},
     "output_type": "execute_result"
    }
   ],
   "source": [
    "diagram(compose(f,g); arrowtip=\"Stealth\", labels=true)"
   ]
  },
  {
   "cell_type": "markdown",
   "metadata": {},
   "source": [
    "## Monoidal category"
   ]
  },
  {
   "cell_type": "code",
   "execution_count": 5,
   "metadata": {
    "collapsed": false
   },
   "outputs": [
    {
     "data": {
      "text/latex": [
       "$\\left(g \\otimes f\\right) h \\left(f \\otimes g\\right) : B \\otimes A \\to B \\otimes A$"
      ],
      "text/plain": [
       "CompCat.Syntax.MorExpr(:compose,CompCat.Syntax.MorExpr[CompCat.Syntax.MorExpr(:otimes,CompCat.Syntax.MorExpr[CompCat.Syntax.MorExpr(:gen,Any[:g,CompCat.Syntax.ObExpr(:gen,Symbol[:B]),CompCat.Syntax.ObExpr(:gen,Symbol[:A])]),CompCat.Syntax.MorExpr(:gen,Any[:f,CompCat.Syntax.ObExpr(:gen,Symbol[:A]),CompCat.Syntax.ObExpr(:gen,Symbol[:B])])]),CompCat.Syntax.MorExpr(:gen,Any[:h,CompCat.Syntax.ObExpr(:otimes,CompCat.Syntax.ObExpr[CompCat.Syntax.ObExpr(:gen,Symbol[:A]),CompCat.Syntax.ObExpr(:gen,Symbol[:B])]),CompCat.Syntax.ObExpr(:otimes,CompCat.Syntax.ObExpr[CompCat.Syntax.ObExpr(:gen,Symbol[:A]),CompCat.Syntax.ObExpr(:gen,Symbol[:B])])]),CompCat.Syntax.MorExpr(:otimes,CompCat.Syntax.MorExpr[CompCat.Syntax.MorExpr(:gen,Any[:f,CompCat.Syntax.ObExpr(:gen,Symbol[:A]),CompCat.Syntax.ObExpr(:gen,Symbol[:B])]),CompCat.Syntax.MorExpr(:gen,Any[:g,CompCat.Syntax.ObExpr(:gen,Symbol[:B]),CompCat.Syntax.ObExpr(:gen,Symbol[:A])])])])"
      ]
     },
     "execution_count": 5,
     "metadata": {},
     "output_type": "execute_result"
    }
   ],
   "source": [
    "comp1 = compose(otimes(g,f), h, otimes(f,g))"
   ]
  },
  {
   "cell_type": "code",
   "execution_count": 6,
   "metadata": {
    "collapsed": false
   },
   "outputs": [
    {
     "data": {
      "image/svg+xml": [
       "<?xml version=\"1.0\" encoding=\"UTF-8\"?>\n",
       "<svg xmlns=\"http://www.w3.org/2000/svg\" xmlns:xlink=\"http://www.w3.org/1999/xlink\" width=\"145.141pt\" height=\"54.994pt\" viewBox=\"0 0 145.141 54.994\" version=\"1.1\">\n",
       "<defs>\n",
       "<g>\n",
       "<symbol overflow=\"visible\" id=\"glyph-1489542186913246-0-0\">\n",
       "<path style=\"stroke:none;\" d=\"\"/>\n",
       "</symbol>\n",
       "<symbol overflow=\"visible\" id=\"glyph-1489542186913246-0-1\">\n",
       "<path style=\"stroke:none;\" d=\"M 4.046875 -1.515625 C 4 -1.328125 3.96875 -1.28125 3.8125 -1.09375 C 3.328125 -0.46875 2.828125 -0.234375 2.453125 -0.234375 C 2.0625 -0.234375 1.6875 -0.546875 1.6875 -1.375 C 1.6875 -2.015625 2.046875 -3.34375 2.3125 -3.890625 C 2.65625 -4.546875 3.1875 -5.03125 3.6875 -5.03125 C 4.484375 -5.03125 4.640625 -4.046875 4.640625 -3.984375 L 4.609375 -3.8125 Z M 4.78125 -4.484375 C 4.625 -4.828125 4.296875 -5.265625 3.6875 -5.265625 C 2.390625 -5.265625 0.90625 -3.640625 0.90625 -1.859375 C 0.90625 -0.609375 1.65625 0 2.421875 0 C 3.0625 0 3.625 -0.5 3.84375 -0.734375 L 3.578125 0.328125 C 3.40625 0.984375 3.328125 1.296875 2.90625 1.703125 C 2.421875 2.203125 1.953125 2.203125 1.703125 2.203125 C 1.34375 2.203125 1.046875 2.171875 0.734375 2.078125 C 1.125 1.96875 1.21875 1.640625 1.21875 1.5 C 1.21875 1.3125 1.078125 1.125 0.8125 1.125 C 0.53125 1.125 0.21875 1.359375 0.21875 1.75 C 0.21875 2.25 0.703125 2.4375 1.71875 2.4375 C 3.265625 2.4375 4.0625 1.453125 4.21875 0.796875 L 5.546875 -4.546875 C 5.578125 -4.703125 5.578125 -4.71875 5.578125 -4.75 C 5.578125 -4.90625 5.453125 -5.046875 5.265625 -5.046875 C 4.984375 -5.046875 4.8125 -4.8125 4.78125 -4.484375 Z M 4.78125 -4.484375 \"/>\n",
       "</symbol>\n",
       "<symbol overflow=\"visible\" id=\"glyph-1489542186913246-0-2\">\n",
       "<path style=\"stroke:none;\" d=\"M 5.328125 -4.8125 C 5.5625 -4.8125 5.671875 -4.8125 5.671875 -5.03125 C 5.671875 -5.15625 5.5625 -5.15625 5.359375 -5.15625 L 4.390625 -5.15625 C 4.609375 -6.390625 4.78125 -7.234375 4.875 -7.609375 C 4.953125 -7.90625 5.203125 -8.171875 5.515625 -8.171875 C 5.765625 -8.171875 6.015625 -8.0625 6.125 -7.953125 C 5.671875 -7.90625 5.515625 -7.5625 5.515625 -7.359375 C 5.515625 -7.125 5.703125 -6.984375 5.921875 -6.984375 C 6.171875 -6.984375 6.53125 -7.1875 6.53125 -7.640625 C 6.53125 -8.140625 6.03125 -8.421875 5.5 -8.421875 C 4.984375 -8.421875 4.484375 -8.03125 4.25 -7.5625 C 4.03125 -7.140625 3.90625 -6.71875 3.640625 -5.15625 L 2.828125 -5.15625 C 2.609375 -5.15625 2.484375 -5.15625 2.484375 -4.9375 C 2.484375 -4.8125 2.5625 -4.8125 2.796875 -4.8125 L 3.5625 -4.8125 C 3.34375 -3.6875 2.859375 -0.984375 2.578125 0.28125 C 2.375 1.328125 2.203125 2.203125 1.609375 2.203125 C 1.5625 2.203125 1.21875 2.203125 1 1.96875 C 1.609375 1.921875 1.609375 1.40625 1.609375 1.390625 C 1.609375 1.140625 1.4375 1 1.203125 1 C 0.96875 1 0.609375 1.203125 0.609375 1.65625 C 0.609375 2.171875 1.140625 2.4375 1.609375 2.4375 C 2.828125 2.4375 3.328125 0.25 3.453125 -0.34375 C 3.671875 -1.265625 4.25 -4.453125 4.3125 -4.8125 Z M 5.328125 -4.8125 \"/>\n",
       "</symbol>\n",
       "<symbol overflow=\"visible\" id=\"glyph-1489542186913246-0-3\">\n",
       "<path style=\"stroke:none;\" d=\"M 3.359375 -8 C 3.375 -8.046875 3.390625 -8.109375 3.390625 -8.171875 C 3.390625 -8.296875 3.28125 -8.296875 3.25 -8.296875 C 3.234375 -8.296875 2.65625 -8.25 2.59375 -8.234375 C 2.390625 -8.21875 2.21875 -8.203125 2 -8.1875 C 1.703125 -8.15625 1.609375 -8.15625 1.609375 -7.9375 C 1.609375 -7.8125 1.703125 -7.8125 1.875 -7.8125 C 2.46875 -7.8125 2.46875 -7.703125 2.46875 -7.59375 C 2.46875 -7.515625 2.453125 -7.421875 2.4375 -7.390625 L 0.703125 -0.46875 C 0.65625 -0.28125 0.65625 -0.265625 0.65625 -0.1875 C 0.65625 0.078125 0.859375 0.125 0.984375 0.125 C 1.1875 0.125 1.34375 -0.03125 1.40625 -0.171875 L 1.9375 -2.328125 C 2 -2.59375 2.0625 -2.84375 2.125 -3.109375 C 2.265625 -3.609375 2.265625 -3.625 2.484375 -3.96875 C 2.71875 -4.3125 3.25 -5.03125 4.171875 -5.03125 C 4.65625 -5.03125 4.8125 -4.671875 4.8125 -4.203125 C 4.8125 -3.53125 4.34375 -2.21875 4.09375 -1.5 C 3.984375 -1.21875 3.921875 -1.0625 3.921875 -0.84375 C 3.921875 -0.3125 4.296875 0.125 4.859375 0.125 C 5.96875 0.125 6.390625 -1.640625 6.390625 -1.703125 C 6.390625 -1.765625 6.34375 -1.8125 6.28125 -1.8125 C 6.171875 -1.8125 6.15625 -1.78125 6.09375 -1.578125 C 5.828125 -0.625 5.375 -0.125 4.90625 -0.125 C 4.78125 -0.125 4.59375 -0.125 4.59375 -0.515625 C 4.59375 -0.828125 4.734375 -1.203125 4.78125 -1.34375 C 5 -1.90625 5.53125 -3.328125 5.53125 -4.015625 C 5.53125 -4.734375 5.109375 -5.265625 4.203125 -5.265625 C 3.53125 -5.265625 2.921875 -4.953125 2.4375 -4.328125 Z M 3.359375 -8 \"/>\n",
       "</symbol>\n",
       "</g>\n",
       "<clipPath id=\"clip-1489542186913246-1\">\n",
       "  <path d=\"M 19 25 L 47 25 L 47 54.992188 L 19 54.992188 Z M 19 25 \"/>\n",
       "</clipPath>\n",
       "<clipPath id=\"clip-1489542186913246-2\">\n",
       "  <path d=\"M 59 0 L 86 0 L 86 54.992188 L 59 54.992188 Z M 59 0 \"/>\n",
       "</clipPath>\n",
       "<clipPath id=\"clip-1489542186913246-3\">\n",
       "  <path d=\"M 99 25 L 125 25 L 125 54.992188 L 99 54.992188 Z M 99 25 \"/>\n",
       "</clipPath>\n",
       "<clipPath id=\"clip-1489542186913246-4\">\n",
       "  <path d=\"M 114 6 L 145.140625 6 L 145.140625 19 L 114 19 Z M 114 6 \"/>\n",
       "</clipPath>\n",
       "<clipPath id=\"clip-1489542186913246-5\">\n",
       "  <path d=\"M 113 36 L 145.140625 36 L 145.140625 49 L 113 49 Z M 113 36 \"/>\n",
       "</clipPath>\n",
       "</defs>\n",
       "<g id=\"surface1\">\n",
       "<path style=\"fill:none;stroke-width:0.3985;stroke-linecap:butt;stroke-linejoin:miter;stroke:rgb(0%,0%,0%);stroke-opacity:1;stroke-miterlimit:10;\" d=\"M 4.1275 11.263375 L 10.268125 10.181344 C 12.436094 9.798531 14.197812 7.704781 14.197812 5.501656 L 14.197812 -5.50225 C 14.197812 -7.705375 12.436094 -9.799125 10.268125 -10.181938 L 4.1275 -11.263969 C 1.959531 -11.646781 0.201719 -10.170219 0.201719 -7.971 L 0.201719 7.970406 C 0.201719 10.169625 1.959531 11.646187 4.1275 11.263375 Z M 4.1275 11.263375 \" transform=\"matrix(1,0,0,-1,25.81,12.154)\"/>\n",
       "<g style=\"fill:rgb(0%,0%,0%);fill-opacity:1;\">\n",
       "  <use xlink:href=\"#glyph-1489542186913246-0-1\" x=\"29.991\" y=\"13.566\"/>\n",
       "</g>\n",
       "<g clip-path=\"url(#clip-1489542186913246-1)\" clip-rule=\"nonzero\">\n",
       "<path style=\"fill:none;stroke-width:0.3985;stroke-linecap:butt;stroke-linejoin:miter;stroke:rgb(0%,0%,0%);stroke-opacity:1;stroke-miterlimit:10;\" d=\"M -3.575406 0.426875 L 3.576937 -0.834844 C 5.744906 -1.21375 7.502719 -3.311406 7.502719 -5.510625 L 7.502719 -16.159062 C 7.502719 -18.358281 5.744906 -20.452031 3.576937 -20.834844 L -3.575406 -22.096562 C -5.747281 -22.479375 -7.505094 -21.006719 -7.505094 -18.803594 L -7.505094 -2.866094 C -7.505094 -0.662969 -5.747281 0.809688 -3.575406 0.426875 Z M -3.575406 0.426875 \" transform=\"matrix(1,0,0,-1,33.009,32.005)\"/>\n",
       "</g>\n",
       "<g style=\"fill:rgb(0%,0%,0%);fill-opacity:1;\">\n",
       "  <use xlink:href=\"#glyph-1489542186913246-0-2\" x=\"29.485\" y=\"45.828\"/>\n",
       "</g>\n",
       "<path style=\"fill:none;stroke-width:0.3985;stroke-linecap:butt;stroke-linejoin:miter;stroke:rgb(0%,0%,0%);stroke-opacity:1;stroke-miterlimit:10;\" d=\"M -0.00190625 14.942312 C 9.830125 14.942312 15.28325 15.34075 25.115281 15.34075 \" transform=\"matrix(1,0,0,-1,0.498,27.497)\"/>\n",
       "<path style=\"fill:none;stroke-width:0.3985;stroke-linecap:butt;stroke-linejoin:miter;stroke:rgb(0%,0%,0%);stroke-opacity:1;stroke-miterlimit:10;\" d=\"M -0.00190625 -14.944406 C 9.634813 -14.944406 14.974656 -15.342844 24.607469 -15.342844 \" transform=\"matrix(1,0,0,-1,0.498,27.497)\"/>\n",
       "<g clip-path=\"url(#clip-1489542186913246-2)\" clip-rule=\"nonzero\">\n",
       "<path style=\"fill:none;stroke-width:0.3985;stroke-linecap:butt;stroke-linejoin:miter;stroke:rgb(0%,0%,0%);stroke-opacity:1;stroke-miterlimit:10;\" d=\"M 4.128438 26.206937 L 10.972188 24.999906 C 13.140156 24.617094 14.901875 22.523344 14.901875 20.320219 L 14.901875 -20.324313 C 14.901875 -22.523531 13.140156 -24.617281 10.972188 -25.000094 L 4.128438 -26.207125 C 1.960469 -26.589938 0.19875 -25.117281 0.19875 -22.914156 L 0.19875 22.913969 C 0.19875 25.113187 1.960469 26.58975 4.128438 26.206937 Z M 4.128438 26.206937 \" transform=\"matrix(1,0,0,-1,65.02,27.496)\"/>\n",
       "</g>\n",
       "<g style=\"fill:rgb(0%,0%,0%);fill-opacity:1;\">\n",
       "  <use xlink:href=\"#glyph-1489542186913246-0-3\" x=\"69.201\" y=\"31.648\"/>\n",
       "</g>\n",
       "<path style=\"fill:none;stroke-width:0.3985;stroke-linecap:butt;stroke-linejoin:miter;stroke:rgb(0%,0%,0%);stroke-opacity:1;stroke-miterlimit:10;\" d=\"M 39.90825 15.34075 C 49.466844 15.34075 54.763719 14.942312 64.322312 14.942312 \" transform=\"matrix(1,0,0,-1,0.498,27.497)\"/>\n",
       "<path style=\"fill:none;stroke-width:0.3985;stroke-linecap:butt;stroke-linejoin:miter;stroke:rgb(0%,0%,0%);stroke-opacity:1;stroke-miterlimit:10;\" d=\"M 40.412156 -15.342844 C 49.775438 -15.342844 54.962938 -14.944406 64.322312 -14.944406 \" transform=\"matrix(1,0,0,-1,0.498,27.497)\"/>\n",
       "<path style=\"fill:none;stroke-width:0.3985;stroke-linecap:butt;stroke-linejoin:miter;stroke:rgb(0%,0%,0%);stroke-opacity:1;stroke-miterlimit:10;\" d=\"M 4.130594 11.263375 L 11.279031 10.001656 C 13.450906 9.618844 15.208719 7.525094 15.208719 5.321969 L 15.208719 -5.326469 C 15.208719 -7.525688 13.450906 -9.619438 11.279031 -10.00225 L 4.130594 -11.263969 C 1.958719 -11.646781 0.200906 -10.170219 0.200906 -7.971 L 0.200906 7.970406 C 0.200906 10.169625 1.958719 11.646187 4.130594 11.263375 Z M 4.130594 11.263375 \" transform=\"matrix(1,0,0,-1,104.428,12.154)\"/>\n",
       "<g style=\"fill:rgb(0%,0%,0%);fill-opacity:1;\">\n",
       "  <use xlink:href=\"#glyph-1489542186913246-0-2\" x=\"108.609\" y=\"15.143\"/>\n",
       "</g>\n",
       "<g clip-path=\"url(#clip-1489542186913246-3)\" clip-rule=\"nonzero\">\n",
       "<path style=\"fill:none;stroke-width:0.3985;stroke-linecap:butt;stroke-linejoin:miter;stroke:rgb(0%,0%,0%);stroke-opacity:1;stroke-miterlimit:10;\" d=\"M -3.0695 0.337875 L 3.071125 -0.744156 C 5.239094 -1.126969 6.996906 -3.220719 6.996906 -5.419937 L 6.996906 -16.42775 C 6.996906 -18.626969 5.239094 -20.720719 3.071125 -21.103531 L -3.0695 -22.185562 C -5.237469 -22.568375 -6.999188 -21.095719 -6.999188 -18.892594 L -6.999188 -2.955094 C -6.999188 -0.751969 -5.237469 0.720688 -3.0695 0.337875 Z M -3.0695 0.337875 \" transform=\"matrix(1,0,0,-1,112.132,31.916)\"/>\n",
       "</g>\n",
       "<g style=\"fill:rgb(0%,0%,0%);fill-opacity:1;\">\n",
       "  <use xlink:href=\"#glyph-1489542186913246-0-1\" x=\"109.115\" y=\"44.251\"/>\n",
       "</g>\n",
       "<path style=\"fill:none;stroke-width:0.3985;stroke-linecap:butt;stroke-linejoin:miter;stroke:rgb(0%,0%,0%);stroke-opacity:1;stroke-miterlimit:10;\" d=\"M 79.822312 14.942312 C 89.181687 14.942312 94.373094 15.34075 103.732469 15.34075 \" transform=\"matrix(1,0,0,-1,0.498,27.497)\"/>\n",
       "<path style=\"fill:none;stroke-width:0.3985;stroke-linecap:butt;stroke-linejoin:miter;stroke:rgb(0%,0%,0%);stroke-opacity:1;stroke-miterlimit:10;\" d=\"M 79.822312 -14.944406 C 89.380906 -14.944406 94.681687 -15.342844 104.240281 -15.342844 \" transform=\"matrix(1,0,0,-1,0.498,27.497)\"/>\n",
       "<g clip-path=\"url(#clip-1489542186913246-4)\" clip-rule=\"nonzero\">\n",
       "<path style=\"fill:none;stroke-width:0.3985;stroke-linecap:butt;stroke-linejoin:miter;stroke:rgb(0%,0%,0%);stroke-opacity:1;stroke-miterlimit:10;\" d=\"M 119.537156 15.34075 C 129.173875 15.34075 134.513719 14.942312 144.146531 14.942312 \" transform=\"matrix(1,0,0,-1,0.498,27.497)\"/>\n",
       "</g>\n",
       "<g clip-path=\"url(#clip-1489542186913246-5)\" clip-rule=\"nonzero\">\n",
       "<path style=\"fill:none;stroke-width:0.3985;stroke-linecap:butt;stroke-linejoin:miter;stroke:rgb(0%,0%,0%);stroke-opacity:1;stroke-miterlimit:10;\" d=\"M 119.03325 -15.342844 C 128.865281 -15.342844 134.3145 -14.944406 144.146531 -14.944406 \" transform=\"matrix(1,0,0,-1,0.498,27.497)\"/>\n",
       "</g>\n",
       "</g>\n",
       "</svg>\n",
       "\n"
      ],
      "text/plain": [
       "CompCat.Diagram.TikZ.Picture(CompCat.Diagram.TikZ.Statement[CompCat.Diagram.TikZ.Node(\"n\",CompCat.Diagram.TikZ.Property[CompCat.Diagram.TikZ.Property(\"container\",#NULL)],#NULL,CompCat.Diagram.TikZ.Picture(CompCat.Diagram.TikZ.Statement[CompCat.Diagram.TikZ.Node(\"n1\",CompCat.Diagram.TikZ.Property[CompCat.Diagram.TikZ.Property(\"minimum height\",\"4.5em\")],#NULL,\"\"),CompCat.Diagram.TikZ.Node(\"n2\",CompCat.Diagram.TikZ.Property[CompCat.Diagram.TikZ.Property(\"container\",#NULL),CompCat.Diagram.TikZ.Property(\"right=2em of n1)\",#NULL)],#NULL,CompCat.Diagram.TikZ.Picture(CompCat.Diagram.TikZ.Statement[CompCat.Diagram.TikZ.Node(\"n21\",CompCat.Diagram.TikZ.Property[CompCat.Diagram.TikZ.Property(\"container\",#NULL)],#NULL,CompCat.Diagram.TikZ.Picture(CompCat.Diagram.TikZ.Statement[CompCat.Diagram.TikZ.Node(\"n21 box\",CompCat.Diagram.TikZ.Property[CompCat.Diagram.TikZ.Property(\"morphism node\",#NULL),CompCat.Diagram.TikZ.Property(\"trapezium\",#NULL),CompCat.Diagram.TikZ.Property(\"trapezium angle\",\"80\"),CompCat.Diagram.TikZ.Property(\"trapezium stretches body\",#NULL),CompCat.Diagram.TikZ.Property(\"shape border rotate\",\"270\"),CompCat.Diagram.TikZ.Property(\"rounded corners\",#NULL),CompCat.Diagram.TikZ.Property(\"minimum width\",\"2.0em\")],#NULL,\"g\")],CompCat.Diagram.TikZ.Property[])),CompCat.Diagram.TikZ.Node(\"n22\",CompCat.Diagram.TikZ.Property[CompCat.Diagram.TikZ.Property(\"container\",#NULL),CompCat.Diagram.TikZ.Property(\"below=0.5em of n21\",#NULL)],#NULL,CompCat.Diagram.TikZ.Picture(CompCat.Diagram.TikZ.Statement[CompCat.Diagram.TikZ.Node(\"n22 box\",CompCat.Diagram.TikZ.Property[CompCat.Diagram.TikZ.Property(\"morphism node\",#NULL),CompCat.Diagram.TikZ.Property(\"trapezium\",#NULL),CompCat.Diagram.TikZ.Property(\"trapezium angle\",\"80\"),CompCat.Diagram.TikZ.Property(\"trapezium stretches body\",#NULL),CompCat.Diagram.TikZ.Property(\"shape border rotate\",\"270\"),CompCat.Diagram.TikZ.Property(\"rounded corners\",#NULL),CompCat.Diagram.TikZ.Property(\"minimum width\",\"2.0em\")],#NULL,\"f\")],CompCat.Diagram.TikZ.Property[]))],CompCat.Diagram.TikZ.Property[])),CompCat.Diagram.TikZ.Edge(\"\\$(n1.center)+(0,1.25em)\\$\",\"n21.west\",CompCat.Diagram.TikZ.PathOperation(\"to\",CompCat.Diagram.TikZ.Property[CompCat.Diagram.TikZ.Property(\"out\",\"0\"),CompCat.Diagram.TikZ.Property(\"in\",\"180\")]),CompCat.Diagram.TikZ.Property[],#NULL),CompCat.Diagram.TikZ.Edge(\"\\$(n1.center)+(0,-1.25em)\\$\",\"n22.west\",CompCat.Diagram.TikZ.PathOperation(\"to\",CompCat.Diagram.TikZ.Property[CompCat.Diagram.TikZ.Property(\"out\",\"0\"),CompCat.Diagram.TikZ.Property(\"in\",\"180\")]),CompCat.Diagram.TikZ.Property[],#NULL),CompCat.Diagram.TikZ.Node(\"n3\",CompCat.Diagram.TikZ.Property[CompCat.Diagram.TikZ.Property(\"container\",#NULL),CompCat.Diagram.TikZ.Property(\"right=2em of n2)\",#NULL)],#NULL,CompCat.Diagram.TikZ.Picture(CompCat.Diagram.TikZ.Statement[CompCat.Diagram.TikZ.Node(\"n3 box\",CompCat.Diagram.TikZ.Property[CompCat.Diagram.TikZ.Property(\"morphism node\",#NULL),CompCat.Diagram.TikZ.Property(\"trapezium\",#NULL),CompCat.Diagram.TikZ.Property(\"trapezium angle\",\"80\"),CompCat.Diagram.TikZ.Property(\"trapezium stretches body\",#NULL),CompCat.Diagram.TikZ.Property(\"shape border rotate\",\"270\"),CompCat.Diagram.TikZ.Property(\"rounded corners\",#NULL),CompCat.Diagram.TikZ.Property(\"minimum width\",\"4.5em\")],#NULL,\"h\")],CompCat.Diagram.TikZ.Property[])),CompCat.Diagram.TikZ.Edge(\"n21.east\",\"\\$(n3.west)+(0,1.25em)\\$\",CompCat.Diagram.TikZ.PathOperation(\"to\",CompCat.Diagram.TikZ.Property[CompCat.Diagram.TikZ.Property(\"out\",\"0\"),CompCat.Diagram.TikZ.Property(\"in\",\"180\")]),CompCat.Diagram.TikZ.Property[],#NULL),CompCat.Diagram.TikZ.Edge(\"n22.east\",\"\\$(n3.west)+(0,-1.25em)\\$\",CompCat.Diagram.TikZ.PathOperation(\"to\",CompCat.Diagram.TikZ.Property[CompCat.Diagram.TikZ.Property(\"out\",\"0\"),CompCat.Diagram.TikZ.Property(\"in\",\"180\")]),CompCat.Diagram.TikZ.Property[],#NULL),CompCat.Diagram.TikZ.Node(\"n4\",CompCat.Diagram.TikZ.Property[CompCat.Diagram.TikZ.Property(\"container\",#NULL),CompCat.Diagram.TikZ.Property(\"right=2em of n3)\",#NULL)],#NULL,CompCat.Diagram.TikZ.Picture(CompCat.Diagram.TikZ.Statement[CompCat.Diagram.TikZ.Node(\"n41\",CompCat.Diagram.TikZ.Property[CompCat.Diagram.TikZ.Property(\"container\",#NULL)],#NULL,CompCat.Diagram.TikZ.Picture(CompCat.Diagram.TikZ.Statement[CompCat.Diagram.TikZ.Node(\"n41 box\",CompCat.Diagram.TikZ.Property[CompCat.Diagram.TikZ.Property(\"morphism node\",#NULL),CompCat.Diagram.TikZ.Property(\"trapezium\",#NULL),CompCat.Diagram.TikZ.Property(\"trapezium angle\",\"80\"),CompCat.Diagram.TikZ.Property(\"trapezium stretches body\",#NULL),CompCat.Diagram.TikZ.Property(\"shape border rotate\",\"270\"),CompCat.Diagram.TikZ.Property(\"rounded corners\",#NULL),CompCat.Diagram.TikZ.Property(\"minimum width\",\"2.0em\")],#NULL,\"f\")],CompCat.Diagram.TikZ.Property[])),CompCat.Diagram.TikZ.Node(\"n42\",CompCat.Diagram.TikZ.Property[CompCat.Diagram.TikZ.Property(\"container\",#NULL),CompCat.Diagram.TikZ.Property(\"below=0.5em of n41\",#NULL)],#NULL,CompCat.Diagram.TikZ.Picture(CompCat.Diagram.TikZ.Statement[CompCat.Diagram.TikZ.Node(\"n42 box\",CompCat.Diagram.TikZ.Property[CompCat.Diagram.TikZ.Property(\"morphism node\",#NULL),CompCat.Diagram.TikZ.Property(\"trapezium\",#NULL),CompCat.Diagram.TikZ.Property(\"trapezium angle\",\"80\"),CompCat.Diagram.TikZ.Property(\"trapezium stretches body\",#NULL),CompCat.Diagram.TikZ.Property(\"shape border rotate\",\"270\"),CompCat.Diagram.TikZ.Property(\"rounded corners\",#NULL),CompCat.Diagram.TikZ.Property(\"minimum width\",\"2.0em\")],#NULL,\"g\")],CompCat.Diagram.TikZ.Property[]))],CompCat.Diagram.TikZ.Property[])),CompCat.Diagram.TikZ.Edge(\"\\$(n3.east)+(0,1.25em)\\$\",\"n41.west\",CompCat.Diagram.TikZ.PathOperation(\"to\",CompCat.Diagram.TikZ.Property[CompCat.Diagram.TikZ.Property(\"out\",\"0\"),CompCat.Diagram.TikZ.Property(\"in\",\"180\")]),CompCat.Diagram.TikZ.Property[],#NULL),CompCat.Diagram.TikZ.Edge(\"\\$(n3.east)+(0,-1.25em)\\$\",\"n42.west\",CompCat.Diagram.TikZ.PathOperation(\"to\",CompCat.Diagram.TikZ.Property[CompCat.Diagram.TikZ.Property(\"out\",\"0\"),CompCat.Diagram.TikZ.Property(\"in\",\"180\")]),CompCat.Diagram.TikZ.Property[],#NULL),CompCat.Diagram.TikZ.Node(\"n5\",CompCat.Diagram.TikZ.Property[CompCat.Diagram.TikZ.Property(\"minimum height\",\"4.5em\"),CompCat.Diagram.TikZ.Property(\"right=2em of n4)\",#NULL)],#NULL,\"\"),CompCat.Diagram.TikZ.Edge(\"n41.east\",\"\\$(n5.center)+(0,1.25em)\\$\",CompCat.Diagram.TikZ.PathOperation(\"to\",CompCat.Diagram.TikZ.Property[CompCat.Diagram.TikZ.Property(\"out\",\"0\"),CompCat.Diagram.TikZ.Property(\"in\",\"180\")]),CompCat.Diagram.TikZ.Property[],#NULL),CompCat.Diagram.TikZ.Edge(\"n42.east\",\"\\$(n5.center)+(0,-1.25em)\\$\",CompCat.Diagram.TikZ.PathOperation(\"to\",CompCat.Diagram.TikZ.Property[CompCat.Diagram.TikZ.Property(\"out\",\"0\"),CompCat.Diagram.TikZ.Property(\"in\",\"180\")]),CompCat.Diagram.TikZ.Property[],#NULL)],CompCat.Diagram.TikZ.Property[]))],CompCat.Diagram.TikZ.Property[CompCat.Diagram.TikZ.Property(\"remember picture\",#NULL),CompCat.Diagram.TikZ.Property(\"font\",\"{\\\\fontsize{12}{14.4}}\"),CompCat.Diagram.TikZ.Property(\"morphism node/.style\",\"{draw,solid,inner sep=0.333em}\"),CompCat.Diagram.TikZ.Property(\"monoid node/.style\",\"{draw,fill,circle,minimum size=0.333em}\"),CompCat.Diagram.TikZ.Property(\"container/.style\",\"{inner sep=0}\"),CompCat.Diagram.TikZ.Property(\"every path/.style\",\"{solid, line width=0.4pt}\"),CompCat.Diagram.TikZ.Property(\"execute at begin node\",\"\\$\"),CompCat.Diagram.TikZ.Property(\"execute at end node\",\"\\$\")])"
      ]
     },
     "execution_count": 6,
     "metadata": {},
     "output_type": "execute_result"
    }
   ],
   "source": [
    "diagram(comp1)"
   ]
  },
  {
   "cell_type": "code",
   "execution_count": 7,
   "metadata": {
    "collapsed": false
   },
   "outputs": [
    {
     "data": {
      "text/latex": [
       "$\\left(\\mathrm{id}_{A} \\otimes f\\right) h \\left(\\mathrm{id}_{A} \\otimes g\\right) : A \\otimes A \\to A \\otimes A$"
      ],
      "text/plain": [
       "CompCat.Syntax.MorExpr(:compose,CompCat.Syntax.MorExpr[CompCat.Syntax.MorExpr(:otimes,CompCat.Syntax.MorExpr[CompCat.Syntax.MorExpr(:id,CompCat.Syntax.ObExpr[CompCat.Syntax.ObExpr(:gen,Symbol[:A])]),CompCat.Syntax.MorExpr(:gen,Any[:f,CompCat.Syntax.ObExpr(:gen,Symbol[:A]),CompCat.Syntax.ObExpr(:gen,Symbol[:B])])]),CompCat.Syntax.MorExpr(:gen,Any[:h,CompCat.Syntax.ObExpr(:otimes,CompCat.Syntax.ObExpr[CompCat.Syntax.ObExpr(:gen,Symbol[:A]),CompCat.Syntax.ObExpr(:gen,Symbol[:B])]),CompCat.Syntax.ObExpr(:otimes,CompCat.Syntax.ObExpr[CompCat.Syntax.ObExpr(:gen,Symbol[:A]),CompCat.Syntax.ObExpr(:gen,Symbol[:B])])]),CompCat.Syntax.MorExpr(:otimes,CompCat.Syntax.MorExpr[CompCat.Syntax.MorExpr(:id,CompCat.Syntax.ObExpr[CompCat.Syntax.ObExpr(:gen,Symbol[:A])]),CompCat.Syntax.MorExpr(:gen,Any[:g,CompCat.Syntax.ObExpr(:gen,Symbol[:B]),CompCat.Syntax.ObExpr(:gen,Symbol[:A])])])])"
      ]
     },
     "execution_count": 7,
     "metadata": {},
     "output_type": "execute_result"
    }
   ],
   "source": [
    "comp2 = compose(otimes(id(A),f), h, otimes(id(A),g))"
   ]
  },
  {
   "cell_type": "code",
   "execution_count": 8,
   "metadata": {
    "collapsed": false
   },
   "outputs": [
    {
     "data": {
      "image/svg+xml": [
       "<?xml version=\"1.0\" encoding=\"UTF-8\"?>\n",
       "<svg xmlns=\"http://www.w3.org/2000/svg\" xmlns:xlink=\"http://www.w3.org/1999/xlink\" width=\"144.128pt\" height=\"54.595pt\" viewBox=\"0 0 144.128 54.595\" version=\"1.1\">\n",
       "<defs>\n",
       "<g>\n",
       "<symbol overflow=\"visible\" id=\"glyph-1489542186913247-0-0\">\n",
       "<path style=\"stroke:none;\" d=\"\"/>\n",
       "</symbol>\n",
       "<symbol overflow=\"visible\" id=\"glyph-1489542186913247-0-1\">\n",
       "<path style=\"stroke:none;\" d=\"M 5.328125 -4.8125 C 5.5625 -4.8125 5.671875 -4.8125 5.671875 -5.03125 C 5.671875 -5.15625 5.5625 -5.15625 5.359375 -5.15625 L 4.390625 -5.15625 C 4.609375 -6.390625 4.78125 -7.234375 4.875 -7.609375 C 4.953125 -7.90625 5.203125 -8.171875 5.515625 -8.171875 C 5.765625 -8.171875 6.015625 -8.0625 6.125 -7.953125 C 5.671875 -7.90625 5.515625 -7.5625 5.515625 -7.359375 C 5.515625 -7.125 5.703125 -6.984375 5.921875 -6.984375 C 6.171875 -6.984375 6.53125 -7.1875 6.53125 -7.640625 C 6.53125 -8.140625 6.03125 -8.421875 5.5 -8.421875 C 4.984375 -8.421875 4.484375 -8.03125 4.25 -7.5625 C 4.03125 -7.140625 3.90625 -6.71875 3.640625 -5.15625 L 2.828125 -5.15625 C 2.609375 -5.15625 2.484375 -5.15625 2.484375 -4.9375 C 2.484375 -4.8125 2.5625 -4.8125 2.796875 -4.8125 L 3.5625 -4.8125 C 3.34375 -3.6875 2.859375 -0.984375 2.578125 0.28125 C 2.375 1.328125 2.203125 2.203125 1.609375 2.203125 C 1.5625 2.203125 1.21875 2.203125 1 1.96875 C 1.609375 1.921875 1.609375 1.40625 1.609375 1.390625 C 1.609375 1.140625 1.4375 1 1.203125 1 C 0.96875 1 0.609375 1.203125 0.609375 1.65625 C 0.609375 2.171875 1.140625 2.4375 1.609375 2.4375 C 2.828125 2.4375 3.328125 0.25 3.453125 -0.34375 C 3.671875 -1.265625 4.25 -4.453125 4.3125 -4.8125 Z M 5.328125 -4.8125 \"/>\n",
       "</symbol>\n",
       "<symbol overflow=\"visible\" id=\"glyph-1489542186913247-0-2\">\n",
       "<path style=\"stroke:none;\" d=\"M 3.359375 -8 C 3.375 -8.046875 3.390625 -8.109375 3.390625 -8.171875 C 3.390625 -8.296875 3.28125 -8.296875 3.25 -8.296875 C 3.234375 -8.296875 2.65625 -8.25 2.59375 -8.234375 C 2.390625 -8.21875 2.21875 -8.203125 2 -8.1875 C 1.703125 -8.15625 1.609375 -8.15625 1.609375 -7.9375 C 1.609375 -7.8125 1.703125 -7.8125 1.875 -7.8125 C 2.46875 -7.8125 2.46875 -7.703125 2.46875 -7.59375 C 2.46875 -7.515625 2.453125 -7.421875 2.4375 -7.390625 L 0.703125 -0.46875 C 0.65625 -0.28125 0.65625 -0.265625 0.65625 -0.1875 C 0.65625 0.078125 0.859375 0.125 0.984375 0.125 C 1.1875 0.125 1.34375 -0.03125 1.40625 -0.171875 L 1.9375 -2.328125 C 2 -2.59375 2.0625 -2.84375 2.125 -3.109375 C 2.265625 -3.609375 2.265625 -3.625 2.484375 -3.96875 C 2.71875 -4.3125 3.25 -5.03125 4.171875 -5.03125 C 4.65625 -5.03125 4.8125 -4.671875 4.8125 -4.203125 C 4.8125 -3.53125 4.34375 -2.21875 4.09375 -1.5 C 3.984375 -1.21875 3.921875 -1.0625 3.921875 -0.84375 C 3.921875 -0.3125 4.296875 0.125 4.859375 0.125 C 5.96875 0.125 6.390625 -1.640625 6.390625 -1.703125 C 6.390625 -1.765625 6.34375 -1.8125 6.28125 -1.8125 C 6.171875 -1.8125 6.15625 -1.78125 6.09375 -1.578125 C 5.828125 -0.625 5.375 -0.125 4.90625 -0.125 C 4.78125 -0.125 4.59375 -0.125 4.59375 -0.515625 C 4.59375 -0.828125 4.734375 -1.203125 4.78125 -1.34375 C 5 -1.90625 5.53125 -3.328125 5.53125 -4.015625 C 5.53125 -4.734375 5.109375 -5.265625 4.203125 -5.265625 C 3.53125 -5.265625 2.921875 -4.953125 2.4375 -4.328125 Z M 3.359375 -8 \"/>\n",
       "</symbol>\n",
       "<symbol overflow=\"visible\" id=\"glyph-1489542186913247-0-3\">\n",
       "<path style=\"stroke:none;\" d=\"M 4.046875 -1.515625 C 4 -1.328125 3.96875 -1.28125 3.8125 -1.09375 C 3.328125 -0.46875 2.828125 -0.234375 2.453125 -0.234375 C 2.0625 -0.234375 1.6875 -0.546875 1.6875 -1.375 C 1.6875 -2.015625 2.046875 -3.34375 2.3125 -3.890625 C 2.65625 -4.546875 3.1875 -5.03125 3.6875 -5.03125 C 4.484375 -5.03125 4.640625 -4.046875 4.640625 -3.984375 L 4.609375 -3.8125 Z M 4.78125 -4.484375 C 4.625 -4.828125 4.296875 -5.265625 3.6875 -5.265625 C 2.390625 -5.265625 0.90625 -3.640625 0.90625 -1.859375 C 0.90625 -0.609375 1.65625 0 2.421875 0 C 3.0625 0 3.625 -0.5 3.84375 -0.734375 L 3.578125 0.328125 C 3.40625 0.984375 3.328125 1.296875 2.90625 1.703125 C 2.421875 2.203125 1.953125 2.203125 1.703125 2.203125 C 1.34375 2.203125 1.046875 2.171875 0.734375 2.078125 C 1.125 1.96875 1.21875 1.640625 1.21875 1.5 C 1.21875 1.3125 1.078125 1.125 0.8125 1.125 C 0.53125 1.125 0.21875 1.359375 0.21875 1.75 C 0.21875 2.25 0.703125 2.4375 1.71875 2.4375 C 3.265625 2.4375 4.0625 1.453125 4.21875 0.796875 L 5.546875 -4.546875 C 5.578125 -4.703125 5.578125 -4.71875 5.578125 -4.75 C 5.578125 -4.90625 5.453125 -5.046875 5.265625 -5.046875 C 4.984375 -5.046875 4.8125 -4.8125 4.78125 -4.484375 Z M 4.78125 -4.484375 \"/>\n",
       "</symbol>\n",
       "</g>\n",
       "<clipPath id=\"clip-1489542186913247-1\">\n",
       "  <path d=\"M 19 25 L 47 25 L 47 54.59375 L 19 54.59375 Z M 19 25 \"/>\n",
       "</clipPath>\n",
       "<clipPath id=\"clip-1489542186913247-2\">\n",
       "  <path d=\"M 59 0 L 86 0 L 86 54.59375 L 59 54.59375 Z M 59 0 \"/>\n",
       "</clipPath>\n",
       "<clipPath id=\"clip-1489542186913247-3\">\n",
       "  <path d=\"M 98 25 L 125 25 L 125 54.59375 L 98 54.59375 Z M 98 25 \"/>\n",
       "</clipPath>\n",
       "<clipPath id=\"clip-1489542186913247-4\">\n",
       "  <path d=\"M 105 6 L 144.128906 6 L 144.128906 18 L 105 18 Z M 105 6 \"/>\n",
       "</clipPath>\n",
       "<clipPath id=\"clip-1489542186913247-5\">\n",
       "  <path d=\"M 113 36 L 144.128906 36 L 144.128906 49 L 113 49 Z M 113 36 \"/>\n",
       "</clipPath>\n",
       "</defs>\n",
       "<g id=\"surface1\">\n",
       "<g clip-path=\"url(#clip-1489542186913247-1)\" clip-rule=\"nonzero\">\n",
       "<path style=\"fill:none;stroke-width:0.3985;stroke-linecap:butt;stroke-linejoin:miter;stroke:rgb(0%,0%,0%);stroke-opacity:1;stroke-miterlimit:10;\" d=\"M -3.575406 0.426313 L 3.576937 -0.8315 C 5.744906 -1.214312 7.502719 -3.308062 7.502719 -5.511187 L 7.502719 -16.159625 C 7.502719 -18.358844 5.744906 -20.452594 3.576937 -20.835406 L -3.575406 -22.097125 C -5.747281 -22.479937 -7.505094 -21.007281 -7.505094 -18.804156 L -7.505094 -2.86275 C -7.505094 -0.663531 -5.747281 0.809125 -3.575406 0.426313 Z M -3.575406 0.426313 \" transform=\"matrix(1,0,0,-1,33.009,31.606)\"/>\n",
       "</g>\n",
       "<g style=\"fill:rgb(0%,0%,0%);fill-opacity:1;\">\n",
       "  <use xlink:href=\"#glyph-1489542186913247-0-1\" x=\"29.485\" y=\"45.429\"/>\n",
       "</g>\n",
       "<path style=\"fill:none;stroke-width:0.3985;stroke-linecap:butt;stroke-linejoin:miter;stroke:rgb(0%,0%,0%);stroke-opacity:1;stroke-miterlimit:10;\" d=\"M -0.00190625 14.945438 C 12.728563 14.945438 19.78325 15.343875 32.509813 15.343875 \" transform=\"matrix(1,0,0,-1,0.498,27.297)\"/>\n",
       "<path style=\"fill:none;stroke-width:0.3985;stroke-linecap:butt;stroke-linejoin:miter;stroke:rgb(0%,0%,0%);stroke-opacity:1;stroke-miterlimit:10;\" d=\"M -0.00190625 -14.945187 C 9.59575 -14.945187 15.009813 -15.144406 24.607469 -15.144406 \" transform=\"matrix(1,0,0,-1,0.498,27.297)\"/>\n",
       "<g clip-path=\"url(#clip-1489542186913247-2)\" clip-rule=\"nonzero\">\n",
       "<path style=\"fill:none;stroke-width:0.3985;stroke-linecap:butt;stroke-linejoin:miter;stroke:rgb(0%,0%,0%);stroke-opacity:1;stroke-miterlimit:10;\" d=\"M 4.128438 26.206156 L 10.972188 24.999125 C 13.140156 24.616313 14.901875 22.522563 14.901875 20.323344 L 14.901875 -20.325094 C 14.901875 -22.524312 13.140156 -24.618062 10.972188 -25.000875 L 4.128438 -26.207906 C 1.960469 -26.590719 0.19875 -25.118062 0.19875 -22.914937 L 0.19875 22.913188 C 0.19875 25.116313 1.960469 26.588969 4.128438 26.206156 Z M 4.128438 26.206156 \" transform=\"matrix(1,0,0,-1,65.02,27.296)\"/>\n",
       "</g>\n",
       "<g style=\"fill:rgb(0%,0%,0%);fill-opacity:1;\">\n",
       "  <use xlink:href=\"#glyph-1489542186913247-0-2\" x=\"69.201\" y=\"31.448\"/>\n",
       "</g>\n",
       "<path style=\"fill:none;stroke-width:0.3985;stroke-linecap:butt;stroke-linejoin:miter;stroke:rgb(0%,0%,0%);stroke-opacity:1;stroke-miterlimit:10;\" d=\"M 32.509813 15.343875 C 44.966844 15.343875 51.869188 14.945438 64.322312 14.945438 \" transform=\"matrix(1,0,0,-1,0.498,27.297)\"/>\n",
       "<path style=\"fill:none;stroke-width:0.3985;stroke-linecap:butt;stroke-linejoin:miter;stroke:rgb(0%,0%,0%);stroke-opacity:1;stroke-miterlimit:10;\" d=\"M 40.412156 -15.144406 C 49.736375 -15.144406 54.998094 -14.945187 64.322312 -14.945187 \" transform=\"matrix(1,0,0,-1,0.498,27.297)\"/>\n",
       "<g clip-path=\"url(#clip-1489542186913247-3)\" clip-rule=\"nonzero\">\n",
       "<path style=\"fill:none;stroke-width:0.3985;stroke-linecap:butt;stroke-linejoin:miter;stroke:rgb(0%,0%,0%);stroke-opacity:1;stroke-miterlimit:10;\" d=\"M -3.071313 0.337313 L 3.069312 -0.744719 C 5.241187 -1.127531 6.999 -3.221281 6.999 -5.4205 L 6.999 -16.428312 C 6.999 -18.627531 5.241187 -20.721281 3.069312 -21.104094 L -3.071313 -22.186125 C -5.239281 -22.568937 -6.997094 -21.096281 -6.997094 -18.893156 L -6.997094 -2.955656 C -6.997094 -0.752531 -5.239281 0.720125 -3.071313 0.337313 Z M -3.071313 0.337313 \" transform=\"matrix(1,0,0,-1,111.626,31.517)\"/>\n",
       "</g>\n",
       "<g style=\"fill:rgb(0%,0%,0%);fill-opacity:1;\">\n",
       "  <use xlink:href=\"#glyph-1489542186913247-0-3\" x=\"108.609\" y=\"43.852\"/>\n",
       "</g>\n",
       "<path style=\"fill:none;stroke-width:0.3985;stroke-linecap:butt;stroke-linejoin:miter;stroke:rgb(0%,0%,0%);stroke-opacity:1;stroke-miterlimit:10;\" d=\"M 79.822312 14.945438 C 92.080125 14.945438 98.873094 15.343875 111.130906 15.343875 \" transform=\"matrix(1,0,0,-1,0.498,27.297)\"/>\n",
       "<path style=\"fill:none;stroke-width:0.3985;stroke-linecap:butt;stroke-linejoin:miter;stroke:rgb(0%,0%,0%);stroke-opacity:1;stroke-miterlimit:10;\" d=\"M 79.822312 -14.945187 C 89.146531 -14.945187 94.40825 -15.144406 103.732469 -15.144406 \" transform=\"matrix(1,0,0,-1,0.498,27.297)\"/>\n",
       "<g clip-path=\"url(#clip-1489542186913247-4)\" clip-rule=\"nonzero\">\n",
       "<path style=\"fill:none;stroke-width:0.3985;stroke-linecap:butt;stroke-linejoin:miter;stroke:rgb(0%,0%,0%);stroke-opacity:1;stroke-miterlimit:10;\" d=\"M 111.130906 15.343875 C 123.65825 15.343875 130.603563 14.945438 143.134813 14.945438 \" transform=\"matrix(1,0,0,-1,0.498,27.297)\"/>\n",
       "</g>\n",
       "<g clip-path=\"url(#clip-1489542186913247-5)\" clip-rule=\"nonzero\">\n",
       "<path style=\"fill:none;stroke-width:0.3985;stroke-linecap:butt;stroke-linejoin:miter;stroke:rgb(0%,0%,0%);stroke-opacity:1;stroke-miterlimit:10;\" d=\"M 118.525437 -15.144406 C 128.123094 -15.144406 133.537156 -14.945187 143.134813 -14.945187 \" transform=\"matrix(1,0,0,-1,0.498,27.297)\"/>\n",
       "</g>\n",
       "</g>\n",
       "</svg>\n",
       "\n"
      ],
      "text/plain": [
       "CompCat.Diagram.TikZ.Picture(CompCat.Diagram.TikZ.Statement[CompCat.Diagram.TikZ.Node(\"n\",CompCat.Diagram.TikZ.Property[CompCat.Diagram.TikZ.Property(\"container\",#NULL)],#NULL,CompCat.Diagram.TikZ.Picture(CompCat.Diagram.TikZ.Statement[CompCat.Diagram.TikZ.Node(\"n1\",CompCat.Diagram.TikZ.Property[CompCat.Diagram.TikZ.Property(\"minimum height\",\"4.5em\")],#NULL,\"\"),CompCat.Diagram.TikZ.Node(\"n2\",CompCat.Diagram.TikZ.Property[CompCat.Diagram.TikZ.Property(\"container\",#NULL),CompCat.Diagram.TikZ.Property(\"right=2em of n1)\",#NULL)],#NULL,CompCat.Diagram.TikZ.Picture(CompCat.Diagram.TikZ.Statement[CompCat.Diagram.TikZ.Node(\"n21\",CompCat.Diagram.TikZ.Property[CompCat.Diagram.TikZ.Property(\"minimum height\",\"2.0em\")],#NULL,\"\"),CompCat.Diagram.TikZ.Node(\"n22\",CompCat.Diagram.TikZ.Property[CompCat.Diagram.TikZ.Property(\"container\",#NULL),CompCat.Diagram.TikZ.Property(\"below=0.5em of n21\",#NULL)],#NULL,CompCat.Diagram.TikZ.Picture(CompCat.Diagram.TikZ.Statement[CompCat.Diagram.TikZ.Node(\"n22 box\",CompCat.Diagram.TikZ.Property[CompCat.Diagram.TikZ.Property(\"morphism node\",#NULL),CompCat.Diagram.TikZ.Property(\"trapezium\",#NULL),CompCat.Diagram.TikZ.Property(\"trapezium angle\",\"80\"),CompCat.Diagram.TikZ.Property(\"trapezium stretches body\",#NULL),CompCat.Diagram.TikZ.Property(\"shape border rotate\",\"270\"),CompCat.Diagram.TikZ.Property(\"rounded corners\",#NULL),CompCat.Diagram.TikZ.Property(\"minimum width\",\"2.0em\")],#NULL,\"f\")],CompCat.Diagram.TikZ.Property[]))],CompCat.Diagram.TikZ.Property[])),CompCat.Diagram.TikZ.Edge(\"\\$(n1.center)+(0,1.25em)\\$\",\"n21.center\",CompCat.Diagram.TikZ.PathOperation(\"to\",CompCat.Diagram.TikZ.Property[CompCat.Diagram.TikZ.Property(\"out\",\"0\"),CompCat.Diagram.TikZ.Property(\"in\",\"180\")]),CompCat.Diagram.TikZ.Property[],#NULL),CompCat.Diagram.TikZ.Edge(\"\\$(n1.center)+(0,-1.25em)\\$\",\"n22.west\",CompCat.Diagram.TikZ.PathOperation(\"to\",CompCat.Diagram.TikZ.Property[CompCat.Diagram.TikZ.Property(\"out\",\"0\"),CompCat.Diagram.TikZ.Property(\"in\",\"180\")]),CompCat.Diagram.TikZ.Property[],#NULL),CompCat.Diagram.TikZ.Node(\"n3\",CompCat.Diagram.TikZ.Property[CompCat.Diagram.TikZ.Property(\"container\",#NULL),CompCat.Diagram.TikZ.Property(\"right=2em of n2)\",#NULL)],#NULL,CompCat.Diagram.TikZ.Picture(CompCat.Diagram.TikZ.Statement[CompCat.Diagram.TikZ.Node(\"n3 box\",CompCat.Diagram.TikZ.Property[CompCat.Diagram.TikZ.Property(\"morphism node\",#NULL),CompCat.Diagram.TikZ.Property(\"trapezium\",#NULL),CompCat.Diagram.TikZ.Property(\"trapezium angle\",\"80\"),CompCat.Diagram.TikZ.Property(\"trapezium stretches body\",#NULL),CompCat.Diagram.TikZ.Property(\"shape border rotate\",\"270\"),CompCat.Diagram.TikZ.Property(\"rounded corners\",#NULL),CompCat.Diagram.TikZ.Property(\"minimum width\",\"4.5em\")],#NULL,\"h\")],CompCat.Diagram.TikZ.Property[])),CompCat.Diagram.TikZ.Edge(\"n21.center\",\"\\$(n3.west)+(0,1.25em)\\$\",CompCat.Diagram.TikZ.PathOperation(\"to\",CompCat.Diagram.TikZ.Property[CompCat.Diagram.TikZ.Property(\"out\",\"0\"),CompCat.Diagram.TikZ.Property(\"in\",\"180\")]),CompCat.Diagram.TikZ.Property[],#NULL),CompCat.Diagram.TikZ.Edge(\"n22.east\",\"\\$(n3.west)+(0,-1.25em)\\$\",CompCat.Diagram.TikZ.PathOperation(\"to\",CompCat.Diagram.TikZ.Property[CompCat.Diagram.TikZ.Property(\"out\",\"0\"),CompCat.Diagram.TikZ.Property(\"in\",\"180\")]),CompCat.Diagram.TikZ.Property[],#NULL),CompCat.Diagram.TikZ.Node(\"n4\",CompCat.Diagram.TikZ.Property[CompCat.Diagram.TikZ.Property(\"container\",#NULL),CompCat.Diagram.TikZ.Property(\"right=2em of n3)\",#NULL)],#NULL,CompCat.Diagram.TikZ.Picture(CompCat.Diagram.TikZ.Statement[CompCat.Diagram.TikZ.Node(\"n41\",CompCat.Diagram.TikZ.Property[CompCat.Diagram.TikZ.Property(\"minimum height\",\"2.0em\")],#NULL,\"\"),CompCat.Diagram.TikZ.Node(\"n42\",CompCat.Diagram.TikZ.Property[CompCat.Diagram.TikZ.Property(\"container\",#NULL),CompCat.Diagram.TikZ.Property(\"below=0.5em of n41\",#NULL)],#NULL,CompCat.Diagram.TikZ.Picture(CompCat.Diagram.TikZ.Statement[CompCat.Diagram.TikZ.Node(\"n42 box\",CompCat.Diagram.TikZ.Property[CompCat.Diagram.TikZ.Property(\"morphism node\",#NULL),CompCat.Diagram.TikZ.Property(\"trapezium\",#NULL),CompCat.Diagram.TikZ.Property(\"trapezium angle\",\"80\"),CompCat.Diagram.TikZ.Property(\"trapezium stretches body\",#NULL),CompCat.Diagram.TikZ.Property(\"shape border rotate\",\"270\"),CompCat.Diagram.TikZ.Property(\"rounded corners\",#NULL),CompCat.Diagram.TikZ.Property(\"minimum width\",\"2.0em\")],#NULL,\"g\")],CompCat.Diagram.TikZ.Property[]))],CompCat.Diagram.TikZ.Property[])),CompCat.Diagram.TikZ.Edge(\"\\$(n3.east)+(0,1.25em)\\$\",\"n41.center\",CompCat.Diagram.TikZ.PathOperation(\"to\",CompCat.Diagram.TikZ.Property[CompCat.Diagram.TikZ.Property(\"out\",\"0\"),CompCat.Diagram.TikZ.Property(\"in\",\"180\")]),CompCat.Diagram.TikZ.Property[],#NULL),CompCat.Diagram.TikZ.Edge(\"\\$(n3.east)+(0,-1.25em)\\$\",\"n42.west\",CompCat.Diagram.TikZ.PathOperation(\"to\",CompCat.Diagram.TikZ.Property[CompCat.Diagram.TikZ.Property(\"out\",\"0\"),CompCat.Diagram.TikZ.Property(\"in\",\"180\")]),CompCat.Diagram.TikZ.Property[],#NULL),CompCat.Diagram.TikZ.Node(\"n5\",CompCat.Diagram.TikZ.Property[CompCat.Diagram.TikZ.Property(\"minimum height\",\"4.5em\"),CompCat.Diagram.TikZ.Property(\"right=2em of n4)\",#NULL)],#NULL,\"\"),CompCat.Diagram.TikZ.Edge(\"n41.center\",\"\\$(n5.center)+(0,1.25em)\\$\",CompCat.Diagram.TikZ.PathOperation(\"to\",CompCat.Diagram.TikZ.Property[CompCat.Diagram.TikZ.Property(\"out\",\"0\"),CompCat.Diagram.TikZ.Property(\"in\",\"180\")]),CompCat.Diagram.TikZ.Property[],#NULL),CompCat.Diagram.TikZ.Edge(\"n42.east\",\"\\$(n5.center)+(0,-1.25em)\\$\",CompCat.Diagram.TikZ.PathOperation(\"to\",CompCat.Diagram.TikZ.Property[CompCat.Diagram.TikZ.Property(\"out\",\"0\"),CompCat.Diagram.TikZ.Property(\"in\",\"180\")]),CompCat.Diagram.TikZ.Property[],#NULL)],CompCat.Diagram.TikZ.Property[]))],CompCat.Diagram.TikZ.Property[CompCat.Diagram.TikZ.Property(\"remember picture\",#NULL),CompCat.Diagram.TikZ.Property(\"font\",\"{\\\\fontsize{12}{14.4}}\"),CompCat.Diagram.TikZ.Property(\"morphism node/.style\",\"{draw,solid,inner sep=0.333em}\"),CompCat.Diagram.TikZ.Property(\"monoid node/.style\",\"{draw,fill,circle,minimum size=0.333em}\"),CompCat.Diagram.TikZ.Property(\"container/.style\",\"{inner sep=0}\"),CompCat.Diagram.TikZ.Property(\"every path/.style\",\"{solid, line width=0.4pt}\"),CompCat.Diagram.TikZ.Property(\"execute at begin node\",\"\\$\"),CompCat.Diagram.TikZ.Property(\"execute at end node\",\"\\$\")])"
      ]
     },
     "execution_count": 8,
     "metadata": {},
     "output_type": "execute_result"
    }
   ],
   "source": [
    "diagram(comp2)"
   ]
  },
  {
   "cell_type": "code",
   "execution_count": 9,
   "metadata": {
    "collapsed": false,
    "scrolled": true
   },
   "outputs": [
    {
     "data": {
      "image/svg+xml": [
       "<?xml version=\"1.0\" encoding=\"UTF-8\"?>\n",
       "<svg xmlns=\"http://www.w3.org/2000/svg\" xmlns:xlink=\"http://www.w3.org/1999/xlink\" width=\"69.593pt\" height=\"84.085pt\" viewBox=\"0 0 69.593 84.085\" version=\"1.1\">\n",
       "<defs>\n",
       "<g>\n",
       "<symbol overflow=\"visible\" id=\"glyph-1489542186913248-0-0\">\n",
       "<path style=\"stroke:none;\" d=\"\"/>\n",
       "</symbol>\n",
       "<symbol overflow=\"visible\" id=\"glyph-1489542186913248-0-1\">\n",
       "<path style=\"stroke:none;\" d=\"M 8.9375 -7.296875 C 9.046875 -7.703125 9.078125 -7.8125 9.921875 -7.8125 C 10.140625 -7.8125 10.25 -7.8125 10.25 -8.03125 C 10.25 -8.15625 10.140625 -8.15625 10.078125 -8.15625 C 9.859375 -8.15625 9.609375 -8.140625 9.390625 -8.140625 L 7.96875 -8.140625 C 7.75 -8.140625 7.5 -8.15625 7.265625 -8.15625 C 7.1875 -8.15625 7.046875 -8.15625 7.046875 -7.9375 C 7.046875 -7.8125 7.125 -7.8125 7.34375 -7.8125 C 8.0625 -7.8125 8.0625 -7.71875 8.0625 -7.59375 C 8.0625 -7.5625 8.0625 -7.5 8.015625 -7.3125 L 7.296875 -4.421875 L 3.6875 -4.421875 L 4.40625 -7.296875 C 4.5 -7.703125 4.53125 -7.8125 5.375 -7.8125 C 5.59375 -7.8125 5.71875 -7.8125 5.71875 -8.03125 C 5.71875 -8.15625 5.609375 -8.15625 5.53125 -8.15625 C 5.3125 -8.15625 5.0625 -8.140625 4.84375 -8.140625 L 3.4375 -8.140625 C 3.203125 -8.140625 2.953125 -8.15625 2.71875 -8.15625 C 2.640625 -8.15625 2.5 -8.15625 2.5 -7.9375 C 2.5 -7.8125 2.578125 -7.8125 2.8125 -7.8125 C 3.53125 -7.8125 3.53125 -7.71875 3.53125 -7.59375 C 3.53125 -7.5625 3.53125 -7.5 3.484375 -7.3125 L 1.859375 -0.890625 C 1.75 -0.46875 1.734375 -0.34375 0.90625 -0.34375 C 0.640625 -0.34375 0.546875 -0.34375 0.546875 -0.125 C 0.546875 0 0.6875 0 0.71875 0 C 0.9375 0 1.1875 -0.03125 1.40625 -0.03125 L 2.828125 -0.03125 C 3.046875 -0.03125 3.296875 0 3.53125 0 C 3.625 0 3.75 0 3.75 -0.234375 C 3.75 -0.34375 3.640625 -0.34375 3.46875 -0.34375 C 2.734375 -0.34375 2.734375 -0.4375 2.734375 -0.5625 C 2.734375 -0.578125 2.734375 -0.65625 2.765625 -0.75 L 3.578125 -4.078125 L 7.203125 -4.078125 C 7 -3.28125 6.390625 -0.78125 6.375 -0.71875 C 6.234375 -0.359375 6.046875 -0.359375 5.34375 -0.34375 C 5.203125 -0.34375 5.09375 -0.34375 5.09375 -0.125 C 5.09375 0 5.21875 0 5.265625 0 C 5.46875 0 5.71875 -0.03125 5.953125 -0.03125 L 7.359375 -0.03125 C 7.59375 -0.03125 7.84375 0 8.0625 0 C 8.15625 0 8.296875 0 8.296875 -0.234375 C 8.296875 -0.34375 8.1875 -0.34375 8.015625 -0.34375 C 7.28125 -0.34375 7.28125 -0.4375 7.28125 -0.5625 C 7.28125 -0.578125 7.28125 -0.65625 7.296875 -0.75 Z M 8.9375 -7.296875 \"/>\n",
       "</symbol>\n",
       "</g>\n",
       "<clipPath id=\"clip-1489542186913248-1\">\n",
       "  <path d=\"M 19 0 L 50 0 L 50 84.085938 L 19 84.085938 Z M 19 0 \"/>\n",
       "</clipPath>\n",
       "<clipPath id=\"clip-1489542186913248-2\">\n",
       "  <path d=\"M 38 6 L 69.59375 6 L 69.59375 18 L 38 18 Z M 38 6 \"/>\n",
       "</clipPath>\n",
       "<clipPath id=\"clip-1489542186913248-3\">\n",
       "  <path d=\"M 38 36 L 69.59375 36 L 69.59375 48 L 38 48 Z M 38 36 \"/>\n",
       "</clipPath>\n",
       "<clipPath id=\"clip-1489542186913248-4\">\n",
       "  <path d=\"M 38 66 L 69.59375 66 L 69.59375 78 L 38 78 Z M 38 66 \"/>\n",
       "</clipPath>\n",
       "</defs>\n",
       "<g id=\"surface1\">\n",
       "<g clip-path=\"url(#clip-1489542186913248-1)\" clip-rule=\"nonzero\">\n",
       "<path style=\"fill:none;stroke-width:0.3985;stroke-linecap:butt;stroke-linejoin:miter;stroke:rgb(0%,0%,0%);stroke-opacity:1;stroke-miterlimit:10;\" d=\"M 4.129594 41.151375 L 14.856156 39.26075 C 17.024125 38.877937 18.785844 36.780281 18.785844 34.581062 L 18.785844 -34.583 C 18.785844 -36.782219 17.024125 -38.875969 14.856156 -39.258781 L 4.129594 -41.153313 C 1.957719 -41.532219 0.199906 -40.059563 0.199906 -37.860344 L 0.199906 37.858406 C 0.199906 40.057625 1.957719 41.534187 4.129594 41.151375 Z M 4.129594 41.151375 \" transform=\"matrix(1,0,0,-1,25.304,42.042)\"/>\n",
       "</g>\n",
       "<g style=\"fill:rgb(0%,0%,0%);fill-opacity:1;\">\n",
       "  <use xlink:href=\"#glyph-1489542186913248-0-1\" x=\"29.485\" y=\"46.127\"/>\n",
       "</g>\n",
       "<path style=\"fill:none;stroke-width:0.3985;stroke-linecap:butt;stroke-linejoin:miter;stroke:rgb(0%,0%,0%);stroke-opacity:1;stroke-miterlimit:10;\" d=\"M -0.00190625 14.945344 C 9.59575 14.945344 15.009813 14.945344 24.607469 14.945344 \" transform=\"matrix(1,0,0,-1,0.498,42.043)\"/>\n",
       "<path style=\"fill:none;stroke-width:0.3985;stroke-linecap:butt;stroke-linejoin:miter;stroke:rgb(0%,0%,0%);stroke-opacity:1;stroke-miterlimit:10;\" d=\"M -0.00190625 -14.945281 C 9.59575 -14.945281 15.009813 -14.945281 24.607469 -14.945281 \" transform=\"matrix(1,0,0,-1,0.498,42.043)\"/>\n",
       "<g clip-path=\"url(#clip-1489542186913248-2)\" clip-rule=\"nonzero\">\n",
       "<path style=\"fill:none;stroke-width:0.3985;stroke-linecap:butt;stroke-linejoin:miter;stroke:rgb(0%,0%,0%);stroke-opacity:1;stroke-miterlimit:10;\" d=\"M 43.990281 29.88675 C 53.587938 29.88675 59.002 29.88675 68.599656 29.88675 \" transform=\"matrix(1,0,0,-1,0.498,42.043)\"/>\n",
       "</g>\n",
       "<g clip-path=\"url(#clip-1489542186913248-3)\" clip-rule=\"nonzero\">\n",
       "<path style=\"fill:none;stroke-width:0.3985;stroke-linecap:butt;stroke-linejoin:miter;stroke:rgb(0%,0%,0%);stroke-opacity:1;stroke-miterlimit:10;\" d=\"M 43.990281 0.00003125 C 53.587938 0.00003125 59.002 0.00003125 68.599656 0.00003125 \" transform=\"matrix(1,0,0,-1,0.498,42.043)\"/>\n",
       "</g>\n",
       "<g clip-path=\"url(#clip-1489542186913248-4)\" clip-rule=\"nonzero\">\n",
       "<path style=\"fill:none;stroke-width:0.3985;stroke-linecap:butt;stroke-linejoin:miter;stroke:rgb(0%,0%,0%);stroke-opacity:1;stroke-miterlimit:10;\" d=\"M 43.990281 -29.886688 C 53.587938 -29.886688 59.002 -29.886688 68.599656 -29.886688 \" transform=\"matrix(1,0,0,-1,0.498,42.043)\"/>\n",
       "</g>\n",
       "</g>\n",
       "</svg>\n",
       "\n"
      ],
      "text/plain": [
       "CompCat.Diagram.TikZ.Picture(CompCat.Diagram.TikZ.Statement[CompCat.Diagram.TikZ.Node(\"n\",CompCat.Diagram.TikZ.Property[CompCat.Diagram.TikZ.Property(\"container\",#NULL)],#NULL,CompCat.Diagram.TikZ.Picture(CompCat.Diagram.TikZ.Statement[CompCat.Diagram.TikZ.Node(\"n1\",CompCat.Diagram.TikZ.Property[CompCat.Diagram.TikZ.Property(\"minimum height\",\"4.5em\")],#NULL,\"\"),CompCat.Diagram.TikZ.Node(\"n2\",CompCat.Diagram.TikZ.Property[CompCat.Diagram.TikZ.Property(\"container\",#NULL),CompCat.Diagram.TikZ.Property(\"right=2em of n1)\",#NULL)],#NULL,CompCat.Diagram.TikZ.Picture(CompCat.Diagram.TikZ.Statement[CompCat.Diagram.TikZ.Node(\"n2 box\",CompCat.Diagram.TikZ.Property[CompCat.Diagram.TikZ.Property(\"morphism node\",#NULL),CompCat.Diagram.TikZ.Property(\"trapezium\",#NULL),CompCat.Diagram.TikZ.Property(\"trapezium angle\",\"80\"),CompCat.Diagram.TikZ.Property(\"trapezium stretches body\",#NULL),CompCat.Diagram.TikZ.Property(\"shape border rotate\",\"270\"),CompCat.Diagram.TikZ.Property(\"rounded corners\",#NULL),CompCat.Diagram.TikZ.Property(\"minimum width\",\"7.0em\")],#NULL,\"H\")],CompCat.Diagram.TikZ.Property[])),CompCat.Diagram.TikZ.Edge(\"\\$(n1.center)+(0,1.25em)\\$\",\"\\$(n2.west)+(0,1.25em)\\$\",CompCat.Diagram.TikZ.PathOperation(\"to\",CompCat.Diagram.TikZ.Property[CompCat.Diagram.TikZ.Property(\"out\",\"0\"),CompCat.Diagram.TikZ.Property(\"in\",\"180\")]),CompCat.Diagram.TikZ.Property[],#NULL),CompCat.Diagram.TikZ.Edge(\"\\$(n1.center)+(0,-1.25em)\\$\",\"\\$(n2.west)+(0,-1.25em)\\$\",CompCat.Diagram.TikZ.PathOperation(\"to\",CompCat.Diagram.TikZ.Property[CompCat.Diagram.TikZ.Property(\"out\",\"0\"),CompCat.Diagram.TikZ.Property(\"in\",\"180\")]),CompCat.Diagram.TikZ.Property[],#NULL),CompCat.Diagram.TikZ.Node(\"n3\",CompCat.Diagram.TikZ.Property[CompCat.Diagram.TikZ.Property(\"minimum height\",\"7.0em\"),CompCat.Diagram.TikZ.Property(\"right=2em of n2)\",#NULL)],#NULL,\"\"),CompCat.Diagram.TikZ.Edge(\"\\$(n2.east)+(0,2.5em)\\$\",\"\\$(n3.center)+(0,2.5em)\\$\",CompCat.Diagram.TikZ.PathOperation(\"to\",CompCat.Diagram.TikZ.Property[CompCat.Diagram.TikZ.Property(\"out\",\"0\"),CompCat.Diagram.TikZ.Property(\"in\",\"180\")]),CompCat.Diagram.TikZ.Property[],#NULL),CompCat.Diagram.TikZ.Edge(\"\\$(n2.east)+(0,0.0em)\\$\",\"\\$(n3.center)+(0,0.0em)\\$\",CompCat.Diagram.TikZ.PathOperation(\"to\",CompCat.Diagram.TikZ.Property[CompCat.Diagram.TikZ.Property(\"out\",\"0\"),CompCat.Diagram.TikZ.Property(\"in\",\"180\")]),CompCat.Diagram.TikZ.Property[],#NULL),CompCat.Diagram.TikZ.Edge(\"\\$(n2.east)+(0,-2.5em)\\$\",\"\\$(n3.center)+(0,-2.5em)\\$\",CompCat.Diagram.TikZ.PathOperation(\"to\",CompCat.Diagram.TikZ.Property[CompCat.Diagram.TikZ.Property(\"out\",\"0\"),CompCat.Diagram.TikZ.Property(\"in\",\"180\")]),CompCat.Diagram.TikZ.Property[],#NULL)],CompCat.Diagram.TikZ.Property[]))],CompCat.Diagram.TikZ.Property[CompCat.Diagram.TikZ.Property(\"remember picture\",#NULL),CompCat.Diagram.TikZ.Property(\"font\",\"{\\\\fontsize{12}{14.4}}\"),CompCat.Diagram.TikZ.Property(\"morphism node/.style\",\"{draw,solid,inner sep=0.333em}\"),CompCat.Diagram.TikZ.Property(\"monoid node/.style\",\"{draw,fill,circle,minimum size=0.333em}\"),CompCat.Diagram.TikZ.Property(\"container/.style\",\"{inner sep=0}\"),CompCat.Diagram.TikZ.Property(\"every path/.style\",\"{solid, line width=0.4pt}\"),CompCat.Diagram.TikZ.Property(\"execute at begin node\",\"\\$\"),CompCat.Diagram.TikZ.Property(\"execute at end node\",\"\\$\")])"
      ]
     },
     "execution_count": 9,
     "metadata": {},
     "output_type": "execute_result"
    }
   ],
   "source": [
    "diagram(mor_expr(:H, otimes(A,A), otimes(B,B,B)))"
   ]
  },
  {
   "cell_type": "markdown",
   "metadata": {},
   "source": [
    "## Symmetric monoidal category"
   ]
  },
  {
   "cell_type": "code",
   "execution_count": 10,
   "metadata": {
    "collapsed": false
   },
   "outputs": [
    {
     "data": {
      "text/latex": [
       "$\\sigma_{A,A} \\left(f \\otimes f\\right) \\sigma_{B,B} : A \\otimes A \\to B \\otimes B$"
      ],
      "text/plain": [
       "CompCat.Syntax.MorExpr(:compose,CompCat.Syntax.MorExpr[CompCat.Syntax.MorExpr(:braid,CompCat.Syntax.ObExpr[CompCat.Syntax.ObExpr(:gen,Symbol[:A]),CompCat.Syntax.ObExpr(:gen,Symbol[:A])]),CompCat.Syntax.MorExpr(:otimes,CompCat.Syntax.MorExpr[CompCat.Syntax.MorExpr(:gen,Any[:f,CompCat.Syntax.ObExpr(:gen,Symbol[:A]),CompCat.Syntax.ObExpr(:gen,Symbol[:B])]),CompCat.Syntax.MorExpr(:gen,Any[:f,CompCat.Syntax.ObExpr(:gen,Symbol[:A]),CompCat.Syntax.ObExpr(:gen,Symbol[:B])])]),CompCat.Syntax.MorExpr(:braid,CompCat.Syntax.ObExpr[CompCat.Syntax.ObExpr(:gen,Symbol[:B]),CompCat.Syntax.ObExpr(:gen,Symbol[:B])])])"
      ]
     },
     "execution_count": 10,
     "metadata": {},
     "output_type": "execute_result"
    }
   ],
   "source": [
    "twist = compose(braid(A,A), otimes(f,f), braid(B,B))"
   ]
  },
  {
   "cell_type": "code",
   "execution_count": 11,
   "metadata": {
    "collapsed": false
   },
   "outputs": [
    {
     "data": {
      "image/svg+xml": [
       "<?xml version=\"1.0\" encoding=\"UTF-8\"?>\n",
       "<svg xmlns=\"http://www.w3.org/2000/svg\" xmlns:xlink=\"http://www.w3.org/1999/xlink\" width=\"116.627pt\" height=\"54.994pt\" viewBox=\"0 0 116.627 54.994\" version=\"1.1\">\n",
       "<defs>\n",
       "<g>\n",
       "<symbol overflow=\"visible\" id=\"glyph-1489542186913249-0-0\">\n",
       "<path style=\"stroke:none;\" d=\"\"/>\n",
       "</symbol>\n",
       "<symbol overflow=\"visible\" id=\"glyph-1489542186913249-0-1\">\n",
       "<path style=\"stroke:none;\" d=\"M 5.328125 -4.8125 C 5.5625 -4.8125 5.671875 -4.8125 5.671875 -5.03125 C 5.671875 -5.15625 5.5625 -5.15625 5.359375 -5.15625 L 4.390625 -5.15625 C 4.609375 -6.390625 4.78125 -7.234375 4.875 -7.609375 C 4.953125 -7.90625 5.203125 -8.171875 5.515625 -8.171875 C 5.765625 -8.171875 6.015625 -8.0625 6.125 -7.953125 C 5.671875 -7.90625 5.515625 -7.5625 5.515625 -7.359375 C 5.515625 -7.125 5.703125 -6.984375 5.921875 -6.984375 C 6.171875 -6.984375 6.53125 -7.1875 6.53125 -7.640625 C 6.53125 -8.140625 6.03125 -8.421875 5.5 -8.421875 C 4.984375 -8.421875 4.484375 -8.03125 4.25 -7.5625 C 4.03125 -7.140625 3.90625 -6.71875 3.640625 -5.15625 L 2.828125 -5.15625 C 2.609375 -5.15625 2.484375 -5.15625 2.484375 -4.9375 C 2.484375 -4.8125 2.5625 -4.8125 2.796875 -4.8125 L 3.5625 -4.8125 C 3.34375 -3.6875 2.859375 -0.984375 2.578125 0.28125 C 2.375 1.328125 2.203125 2.203125 1.609375 2.203125 C 1.5625 2.203125 1.21875 2.203125 1 1.96875 C 1.609375 1.921875 1.609375 1.40625 1.609375 1.390625 C 1.609375 1.140625 1.4375 1 1.203125 1 C 0.96875 1 0.609375 1.203125 0.609375 1.65625 C 0.609375 2.171875 1.140625 2.4375 1.609375 2.4375 C 2.828125 2.4375 3.328125 0.25 3.453125 -0.34375 C 3.671875 -1.265625 4.25 -4.453125 4.3125 -4.8125 Z M 5.328125 -4.8125 \"/>\n",
       "</symbol>\n",
       "</g>\n",
       "<clipPath id=\"clip-1489542186913249-1\">\n",
       "  <path d=\"M 45 25 L 72 25 L 72 54.992188 L 45 54.992188 Z M 45 25 \"/>\n",
       "</clipPath>\n",
       "<clipPath id=\"clip-1489542186913249-2\">\n",
       "  <path d=\"M 85 6 L 116.628906 6 L 116.628906 34 L 85 34 Z M 85 6 \"/>\n",
       "</clipPath>\n",
       "<clipPath id=\"clip-1489542186913249-3\">\n",
       "  <path d=\"M 85 21 L 116.628906 21 L 116.628906 49 L 85 49 Z M 85 21 \"/>\n",
       "</clipPath>\n",
       "</defs>\n",
       "<g id=\"surface1\">\n",
       "<path style=\"fill:none;stroke-width:0.3985;stroke-linecap:butt;stroke-linejoin:miter;stroke:rgb(0%,0%,0%);stroke-opacity:1;stroke-miterlimit:10;\" d=\"M -0.00190625 14.942312 C 11.474656 14.942312 17.1895 8.114187 25.306687 0.00090625 \" transform=\"matrix(1,0,0,-1,0.498,27.497)\"/>\n",
       "<path style=\"fill:none;stroke-width:0.3985;stroke-linecap:butt;stroke-linejoin:miter;stroke:rgb(0%,0%,0%);stroke-opacity:1;stroke-miterlimit:10;\" d=\"M -0.00190625 -14.944406 C 11.474656 -14.944406 17.1895 -8.116281 25.306687 0.00090625 \" transform=\"matrix(1,0,0,-1,0.498,27.497)\"/>\n",
       "<path style=\"fill:none;stroke-width:0.3985;stroke-linecap:butt;stroke-linejoin:miter;stroke:rgb(0%,0%,0%);stroke-opacity:1;stroke-miterlimit:10;\" d=\"M 4.129281 11.263375 L 11.281625 10.001656 C 13.449594 9.618844 15.207406 7.525094 15.207406 5.321969 L 15.207406 -5.326469 C 15.207406 -7.525688 13.449594 -9.619438 11.281625 -10.00225 L 4.129281 -11.263969 C 1.957406 -11.646781 0.199594 -10.170219 0.199594 -7.971 L 0.199594 7.970406 C 0.199594 10.169625 1.957406 11.646187 4.129281 11.263375 Z M 4.129281 11.263375 \" transform=\"matrix(1,0,0,-1,50.609,12.154)\"/>\n",
       "<g style=\"fill:rgb(0%,0%,0%);fill-opacity:1;\">\n",
       "  <use xlink:href=\"#glyph-1489542186913249-0-1\" x=\"54.79\" y=\"15.143\"/>\n",
       "</g>\n",
       "<g clip-path=\"url(#clip-1489542186913249-1)\" clip-rule=\"nonzero\">\n",
       "<path style=\"fill:none;stroke-width:0.3985;stroke-linecap:butt;stroke-linejoin:miter;stroke:rgb(0%,0%,0%);stroke-opacity:1;stroke-miterlimit:10;\" d=\"M -3.575719 0.426875 L 3.576625 -0.834844 C 5.744594 -1.21375 7.502406 -3.311406 7.502406 -5.510625 L 7.502406 -16.159062 C 7.502406 -18.358281 5.744594 -20.452031 3.576625 -20.834844 L -3.575719 -22.096562 C -5.743688 -22.479375 -7.505406 -21.006719 -7.505406 -18.803594 L -7.505406 -2.866094 C -7.505406 -0.662969 -5.743688 0.809688 -3.575719 0.426875 Z M -3.575719 0.426875 \" transform=\"matrix(1,0,0,-1,58.314,32.005)\"/>\n",
       "</g>\n",
       "<g style=\"fill:rgb(0%,0%,0%);fill-opacity:1;\">\n",
       "  <use xlink:href=\"#glyph-1489542186913249-0-1\" x=\"54.79\" y=\"45.828\"/>\n",
       "</g>\n",
       "<path style=\"fill:none;stroke-width:0.3985;stroke-linecap:butt;stroke-linejoin:miter;stroke:rgb(0%,0%,0%);stroke-opacity:1;stroke-miterlimit:10;\" d=\"M 25.306687 0.00090625 C 33.306688 8.000906 38.599656 15.34075 49.912156 15.34075 \" transform=\"matrix(1,0,0,-1,0.498,27.497)\"/>\n",
       "<path style=\"fill:none;stroke-width:0.3985;stroke-linecap:butt;stroke-linejoin:miter;stroke:rgb(0%,0%,0%);stroke-opacity:1;stroke-miterlimit:10;\" d=\"M 25.306687 0.00090625 C 33.306688 -7.999094 38.599656 -15.342844 49.912156 -15.342844 \" transform=\"matrix(1,0,0,-1,0.498,27.497)\"/>\n",
       "<path style=\"fill:none;stroke-width:0.3985;stroke-linecap:butt;stroke-linejoin:miter;stroke:rgb(0%,0%,0%);stroke-opacity:1;stroke-miterlimit:10;\" d=\"M 65.72075 15.34075 C 77.03325 15.34075 82.326219 8.000906 90.326219 0.00090625 \" transform=\"matrix(1,0,0,-1,0.498,27.497)\"/>\n",
       "<path style=\"fill:none;stroke-width:0.3985;stroke-linecap:butt;stroke-linejoin:miter;stroke:rgb(0%,0%,0%);stroke-opacity:1;stroke-miterlimit:10;\" d=\"M 65.72075 -15.342844 C 77.03325 -15.342844 82.326219 -7.999094 90.326219 0.00090625 \" transform=\"matrix(1,0,0,-1,0.498,27.497)\"/>\n",
       "<g clip-path=\"url(#clip-1489542186913249-2)\" clip-rule=\"nonzero\">\n",
       "<path style=\"fill:none;stroke-width:0.3985;stroke-linecap:butt;stroke-linejoin:miter;stroke:rgb(0%,0%,0%);stroke-opacity:1;stroke-miterlimit:10;\" d=\"M 90.326219 0.00090625 C 98.443406 8.114187 104.15825 14.942312 115.630906 14.942312 \" transform=\"matrix(1,0,0,-1,0.498,27.497)\"/>\n",
       "</g>\n",
       "<g clip-path=\"url(#clip-1489542186913249-3)\" clip-rule=\"nonzero\">\n",
       "<path style=\"fill:none;stroke-width:0.3985;stroke-linecap:butt;stroke-linejoin:miter;stroke:rgb(0%,0%,0%);stroke-opacity:1;stroke-miterlimit:10;\" d=\"M 90.326219 0.00090625 C 98.443406 -8.116281 104.15825 -14.944406 115.630906 -14.944406 \" transform=\"matrix(1,0,0,-1,0.498,27.497)\"/>\n",
       "</g>\n",
       "</g>\n",
       "</svg>\n",
       "\n"
      ],
      "text/plain": [
       "CompCat.Diagram.TikZ.Picture(CompCat.Diagram.TikZ.Statement[CompCat.Diagram.TikZ.Node(\"n\",CompCat.Diagram.TikZ.Property[CompCat.Diagram.TikZ.Property(\"container\",#NULL)],#NULL,CompCat.Diagram.TikZ.Picture(CompCat.Diagram.TikZ.Statement[CompCat.Diagram.TikZ.Node(\"n1\",CompCat.Diagram.TikZ.Property[CompCat.Diagram.TikZ.Property(\"minimum height\",\"4.5em\")],#NULL,\"\"),CompCat.Diagram.TikZ.Node(\"n2\",CompCat.Diagram.TikZ.Property[CompCat.Diagram.TikZ.Property(\"minimum height\",\"4.5em\"),CompCat.Diagram.TikZ.Property(\"right=2em of n1)\",#NULL)],#NULL,\"\"),CompCat.Diagram.TikZ.Edge(\"\\$(n1.center)+(0,1.25em)\\$\",\"n2.center\",CompCat.Diagram.TikZ.PathOperation(\"to\",CompCat.Diagram.TikZ.Property[CompCat.Diagram.TikZ.Property(\"out\",\"0\"),CompCat.Diagram.TikZ.Property(\"in\",\"135\")]),CompCat.Diagram.TikZ.Property[],#NULL),CompCat.Diagram.TikZ.Edge(\"\\$(n1.center)+(0,-1.25em)\\$\",\"n2.center\",CompCat.Diagram.TikZ.PathOperation(\"to\",CompCat.Diagram.TikZ.Property[CompCat.Diagram.TikZ.Property(\"out\",\"0\"),CompCat.Diagram.TikZ.Property(\"in\",\"225\")]),CompCat.Diagram.TikZ.Property[],#NULL),CompCat.Diagram.TikZ.Node(\"n3\",CompCat.Diagram.TikZ.Property[CompCat.Diagram.TikZ.Property(\"container\",#NULL),CompCat.Diagram.TikZ.Property(\"right=2em of n2)\",#NULL)],#NULL,CompCat.Diagram.TikZ.Picture(CompCat.Diagram.TikZ.Statement[CompCat.Diagram.TikZ.Node(\"n31\",CompCat.Diagram.TikZ.Property[CompCat.Diagram.TikZ.Property(\"container\",#NULL)],#NULL,CompCat.Diagram.TikZ.Picture(CompCat.Diagram.TikZ.Statement[CompCat.Diagram.TikZ.Node(\"n31 box\",CompCat.Diagram.TikZ.Property[CompCat.Diagram.TikZ.Property(\"morphism node\",#NULL),CompCat.Diagram.TikZ.Property(\"trapezium\",#NULL),CompCat.Diagram.TikZ.Property(\"trapezium angle\",\"80\"),CompCat.Diagram.TikZ.Property(\"trapezium stretches body\",#NULL),CompCat.Diagram.TikZ.Property(\"shape border rotate\",\"270\"),CompCat.Diagram.TikZ.Property(\"rounded corners\",#NULL),CompCat.Diagram.TikZ.Property(\"minimum width\",\"2.0em\")],#NULL,\"f\")],CompCat.Diagram.TikZ.Property[])),CompCat.Diagram.TikZ.Node(\"n32\",CompCat.Diagram.TikZ.Property[CompCat.Diagram.TikZ.Property(\"container\",#NULL),CompCat.Diagram.TikZ.Property(\"below=0.5em of n31\",#NULL)],#NULL,CompCat.Diagram.TikZ.Picture(CompCat.Diagram.TikZ.Statement[CompCat.Diagram.TikZ.Node(\"n32 box\",CompCat.Diagram.TikZ.Property[CompCat.Diagram.TikZ.Property(\"morphism node\",#NULL),CompCat.Diagram.TikZ.Property(\"trapezium\",#NULL),CompCat.Diagram.TikZ.Property(\"trapezium angle\",\"80\"),CompCat.Diagram.TikZ.Property(\"trapezium stretches body\",#NULL),CompCat.Diagram.TikZ.Property(\"shape border rotate\",\"270\"),CompCat.Diagram.TikZ.Property(\"rounded corners\",#NULL),CompCat.Diagram.TikZ.Property(\"minimum width\",\"2.0em\")],#NULL,\"f\")],CompCat.Diagram.TikZ.Property[]))],CompCat.Diagram.TikZ.Property[])),CompCat.Diagram.TikZ.Edge(\"n2.center\",\"n31.west\",CompCat.Diagram.TikZ.PathOperation(\"to\",CompCat.Diagram.TikZ.Property[CompCat.Diagram.TikZ.Property(\"out\",\"45\"),CompCat.Diagram.TikZ.Property(\"in\",\"180\")]),CompCat.Diagram.TikZ.Property[],#NULL),CompCat.Diagram.TikZ.Edge(\"n2.center\",\"n32.west\",CompCat.Diagram.TikZ.PathOperation(\"to\",CompCat.Diagram.TikZ.Property[CompCat.Diagram.TikZ.Property(\"out\",\"315\"),CompCat.Diagram.TikZ.Property(\"in\",\"180\")]),CompCat.Diagram.TikZ.Property[],#NULL),CompCat.Diagram.TikZ.Node(\"n4\",CompCat.Diagram.TikZ.Property[CompCat.Diagram.TikZ.Property(\"minimum height\",\"4.5em\"),CompCat.Diagram.TikZ.Property(\"right=2em of n3)\",#NULL)],#NULL,\"\"),CompCat.Diagram.TikZ.Edge(\"n31.east\",\"n4.center\",CompCat.Diagram.TikZ.PathOperation(\"to\",CompCat.Diagram.TikZ.Property[CompCat.Diagram.TikZ.Property(\"out\",\"0\"),CompCat.Diagram.TikZ.Property(\"in\",\"135\")]),CompCat.Diagram.TikZ.Property[],#NULL),CompCat.Diagram.TikZ.Edge(\"n32.east\",\"n4.center\",CompCat.Diagram.TikZ.PathOperation(\"to\",CompCat.Diagram.TikZ.Property[CompCat.Diagram.TikZ.Property(\"out\",\"0\"),CompCat.Diagram.TikZ.Property(\"in\",\"225\")]),CompCat.Diagram.TikZ.Property[],#NULL),CompCat.Diagram.TikZ.Node(\"n5\",CompCat.Diagram.TikZ.Property[CompCat.Diagram.TikZ.Property(\"minimum height\",\"4.5em\"),CompCat.Diagram.TikZ.Property(\"right=2em of n4)\",#NULL)],#NULL,\"\"),CompCat.Diagram.TikZ.Edge(\"n4.center\",\"\\$(n5.center)+(0,1.25em)\\$\",CompCat.Diagram.TikZ.PathOperation(\"to\",CompCat.Diagram.TikZ.Property[CompCat.Diagram.TikZ.Property(\"out\",\"45\"),CompCat.Diagram.TikZ.Property(\"in\",\"180\")]),CompCat.Diagram.TikZ.Property[],#NULL),CompCat.Diagram.TikZ.Edge(\"n4.center\",\"\\$(n5.center)+(0,-1.25em)\\$\",CompCat.Diagram.TikZ.PathOperation(\"to\",CompCat.Diagram.TikZ.Property[CompCat.Diagram.TikZ.Property(\"out\",\"315\"),CompCat.Diagram.TikZ.Property(\"in\",\"180\")]),CompCat.Diagram.TikZ.Property[],#NULL)],CompCat.Diagram.TikZ.Property[]))],CompCat.Diagram.TikZ.Property[CompCat.Diagram.TikZ.Property(\"remember picture\",#NULL),CompCat.Diagram.TikZ.Property(\"font\",\"{\\\\fontsize{12}{14.4}}\"),CompCat.Diagram.TikZ.Property(\"morphism node/.style\",\"{draw,solid,inner sep=0.333em}\"),CompCat.Diagram.TikZ.Property(\"monoid node/.style\",\"{draw,fill,circle,minimum size=0.333em}\"),CompCat.Diagram.TikZ.Property(\"container/.style\",\"{inner sep=0}\"),CompCat.Diagram.TikZ.Property(\"every path/.style\",\"{solid, line width=0.4pt}\"),CompCat.Diagram.TikZ.Property(\"execute at begin node\",\"\\$\"),CompCat.Diagram.TikZ.Property(\"execute at end node\",\"\\$\")])"
      ]
     },
     "execution_count": 11,
     "metadata": {},
     "output_type": "execute_result"
    }
   ],
   "source": [
    "diagram(twist)"
   ]
  },
  {
   "cell_type": "markdown",
   "metadata": {},
   "source": [
    "## Internal (co)monoid"
   ]
  },
  {
   "cell_type": "code",
   "execution_count": 12,
   "metadata": {
    "collapsed": false
   },
   "outputs": [
    {
     "data": {
      "text/latex": [
       "$\\Delta_{A} \\left(f \\otimes f\\right) : A \\to B \\otimes B$"
      ],
      "text/plain": [
       "CompCat.Syntax.MorExpr(:compose,CompCat.Syntax.MorExpr[CompCat.Syntax.MorExpr(:copy,CompCat.Syntax.ObExpr[CompCat.Syntax.ObExpr(:gen,Symbol[:A])]),CompCat.Syntax.MorExpr(:otimes,CompCat.Syntax.MorExpr[CompCat.Syntax.MorExpr(:gen,Any[:f,CompCat.Syntax.ObExpr(:gen,Symbol[:A]),CompCat.Syntax.ObExpr(:gen,Symbol[:B])]),CompCat.Syntax.MorExpr(:gen,Any[:f,CompCat.Syntax.ObExpr(:gen,Symbol[:A]),CompCat.Syntax.ObExpr(:gen,Symbol[:B])])])])"
      ]
     },
     "execution_count": 12,
     "metadata": {},
     "output_type": "execute_result"
    }
   ],
   "source": [
    "split = compose(mcopy(A), otimes(f,f))"
   ]
  },
  {
   "cell_type": "code",
   "execution_count": 13,
   "metadata": {
    "collapsed": false
   },
   "outputs": [
    {
     "data": {
      "image/svg+xml": [
       "<?xml version=\"1.0\" encoding=\"UTF-8\"?>\n",
       "<svg xmlns=\"http://www.w3.org/2000/svg\" xmlns:xlink=\"http://www.w3.org/1999/xlink\" width=\"94.307pt\" height=\"54.994pt\" viewBox=\"0 0 94.307 54.994\" version=\"1.1\">\n",
       "<defs>\n",
       "<g>\n",
       "<symbol overflow=\"visible\" id=\"glyph-1489542186913250-0-0\">\n",
       "<path style=\"stroke:none;\" d=\"\"/>\n",
       "</symbol>\n",
       "<symbol overflow=\"visible\" id=\"glyph-1489542186913250-0-1\">\n",
       "<path style=\"stroke:none;\" d=\"M 5.328125 -4.8125 C 5.5625 -4.8125 5.671875 -4.8125 5.671875 -5.03125 C 5.671875 -5.15625 5.5625 -5.15625 5.359375 -5.15625 L 4.390625 -5.15625 C 4.609375 -6.390625 4.78125 -7.234375 4.875 -7.609375 C 4.953125 -7.90625 5.203125 -8.171875 5.515625 -8.171875 C 5.765625 -8.171875 6.015625 -8.0625 6.125 -7.953125 C 5.671875 -7.90625 5.515625 -7.5625 5.515625 -7.359375 C 5.515625 -7.125 5.703125 -6.984375 5.921875 -6.984375 C 6.171875 -6.984375 6.53125 -7.1875 6.53125 -7.640625 C 6.53125 -8.140625 6.03125 -8.421875 5.5 -8.421875 C 4.984375 -8.421875 4.484375 -8.03125 4.25 -7.5625 C 4.03125 -7.140625 3.90625 -6.71875 3.640625 -5.15625 L 2.828125 -5.15625 C 2.609375 -5.15625 2.484375 -5.15625 2.484375 -4.9375 C 2.484375 -4.8125 2.5625 -4.8125 2.796875 -4.8125 L 3.5625 -4.8125 C 3.34375 -3.6875 2.859375 -0.984375 2.578125 0.28125 C 2.375 1.328125 2.203125 2.203125 1.609375 2.203125 C 1.5625 2.203125 1.21875 2.203125 1 1.96875 C 1.609375 1.921875 1.609375 1.40625 1.609375 1.390625 C 1.609375 1.140625 1.4375 1 1.203125 1 C 0.96875 1 0.609375 1.203125 0.609375 1.65625 C 0.609375 2.171875 1.140625 2.4375 1.609375 2.4375 C 2.828125 2.4375 3.328125 0.25 3.453125 -0.34375 C 3.671875 -1.265625 4.25 -4.453125 4.3125 -4.8125 Z M 5.328125 -4.8125 \"/>\n",
       "</symbol>\n",
       "</g>\n",
       "<clipPath id=\"clip-1489542186913250-1\">\n",
       "  <path d=\"M 48 25 L 75 25 L 75 54.992188 L 48 54.992188 Z M 48 25 \"/>\n",
       "</clipPath>\n",
       "<clipPath id=\"clip-1489542186913250-2\">\n",
       "  <path d=\"M 63 6 L 94.308594 6 L 94.308594 19 L 63 19 Z M 63 6 \"/>\n",
       "</clipPath>\n",
       "<clipPath id=\"clip-1489542186913250-3\">\n",
       "  <path d=\"M 63 36 L 94.308594 36 L 94.308594 49 L 63 49 Z M 63 36 \"/>\n",
       "</clipPath>\n",
       "</defs>\n",
       "<g id=\"surface1\">\n",
       "<path style=\"fill-rule:nonzero;fill:rgb(0%,0%,0%);fill-opacity:1;stroke-width:0.3985;stroke-linecap:butt;stroke-linejoin:miter;stroke:rgb(0%,0%,0%);stroke-opacity:1;stroke-miterlimit:10;\" d=\"M 28.787156 0.00090625 C 28.787156 1.098562 27.896531 1.989187 26.798875 1.989187 C 25.697312 1.989187 24.806687 1.098562 24.806687 0.00090625 C 24.806687 -1.100656 25.697312 -1.991281 26.798875 -1.991281 C 27.896531 -1.991281 28.787156 -1.100656 28.787156 0.00090625 Z M 28.787156 0.00090625 \" transform=\"matrix(1,0,0,-1,0.498,27.497)\"/>\n",
       "<path style=\"fill:none;stroke-width:0.3985;stroke-linecap:butt;stroke-linejoin:miter;stroke:rgb(0%,0%,0%);stroke-opacity:1;stroke-miterlimit:10;\" d=\"M -0.00190625 0.00090625 C 9.59575 0.00090625 15.009813 0.00090625 24.607469 0.00090625 \" transform=\"matrix(1,0,0,-1,0.498,27.497)\"/>\n",
       "<path style=\"fill:none;stroke-width:0.3985;stroke-linecap:butt;stroke-linejoin:miter;stroke:rgb(0%,0%,0%);stroke-opacity:1;stroke-miterlimit:10;\" d=\"M 4.128656 11.263375 L 11.281 10.001656 C 13.448969 9.618844 15.206781 7.525094 15.206781 5.321969 L 15.206781 -5.326469 C 15.206781 -7.525688 13.448969 -9.619438 11.281 -10.00225 L 4.128656 -11.263969 C 1.960687 -11.646781 0.198969 -10.170219 0.198969 -7.971 L 0.198969 7.970406 C 0.198969 10.169625 1.960687 11.646187 4.128656 11.263375 Z M 4.128656 11.263375 \" transform=\"matrix(1,0,0,-1,53.594,12.154)\"/>\n",
       "<g style=\"fill:rgb(0%,0%,0%);fill-opacity:1;\">\n",
       "  <use xlink:href=\"#glyph-1489542186913250-0-1\" x=\"57.775\" y=\"15.143\"/>\n",
       "</g>\n",
       "<g clip-path=\"url(#clip-1489542186913250-1)\" clip-rule=\"nonzero\">\n",
       "<path style=\"fill:none;stroke-width:0.3985;stroke-linecap:butt;stroke-linejoin:miter;stroke:rgb(0%,0%,0%);stroke-opacity:1;stroke-miterlimit:10;\" d=\"M -3.575344 0.426875 L 3.577 -0.834844 C 5.744969 -1.21375 7.502781 -3.311406 7.502781 -5.510625 L 7.502781 -16.159062 C 7.502781 -18.358281 5.744969 -20.452031 3.577 -20.834844 L -3.575344 -22.096562 C -5.747219 -22.479375 -7.505031 -21.006719 -7.505031 -18.803594 L -7.505031 -2.866094 C -7.505031 -0.662969 -5.747219 0.809688 -3.575344 0.426875 Z M -3.575344 0.426875 \" transform=\"matrix(1,0,0,-1,61.298,32.005)\"/>\n",
       "</g>\n",
       "<g style=\"fill:rgb(0%,0%,0%);fill-opacity:1;\">\n",
       "  <use xlink:href=\"#glyph-1489542186913250-0-1\" x=\"57.775\" y=\"45.828\"/>\n",
       "</g>\n",
       "<path style=\"fill:none;stroke-width:0.3985;stroke-linecap:butt;stroke-linejoin:miter;stroke:rgb(0%,0%,0%);stroke-opacity:1;stroke-miterlimit:10;\" d=\"M 26.798875 2.188406 C 26.798875 13.614187 41.474656 15.34075 52.896531 15.34075 \" transform=\"matrix(1,0,0,-1,0.498,27.497)\"/>\n",
       "<path style=\"fill:none;stroke-width:0.3985;stroke-linecap:butt;stroke-linejoin:miter;stroke:rgb(0%,0%,0%);stroke-opacity:1;stroke-miterlimit:10;\" d=\"M 26.798875 -2.1905 C 26.798875 -13.612375 41.474656 -15.342844 52.896531 -15.342844 \" transform=\"matrix(1,0,0,-1,0.498,27.497)\"/>\n",
       "<g clip-path=\"url(#clip-1489542186913250-2)\" clip-rule=\"nonzero\">\n",
       "<path style=\"fill:none;stroke-width:0.3985;stroke-linecap:butt;stroke-linejoin:miter;stroke:rgb(0%,0%,0%);stroke-opacity:1;stroke-miterlimit:10;\" d=\"M 68.705125 15.34075 C 78.337937 15.34075 83.677781 14.942312 93.310594 14.942312 \" transform=\"matrix(1,0,0,-1,0.498,27.497)\"/>\n",
       "</g>\n",
       "<g clip-path=\"url(#clip-1489542186913250-3)\" clip-rule=\"nonzero\">\n",
       "<path style=\"fill:none;stroke-width:0.3985;stroke-linecap:butt;stroke-linejoin:miter;stroke:rgb(0%,0%,0%);stroke-opacity:1;stroke-miterlimit:10;\" d=\"M 68.705125 -15.342844 C 78.337937 -15.342844 83.677781 -14.944406 93.310594 -14.944406 \" transform=\"matrix(1,0,0,-1,0.498,27.497)\"/>\n",
       "</g>\n",
       "</g>\n",
       "</svg>\n",
       "\n"
      ],
      "text/plain": [
       "CompCat.Diagram.TikZ.Picture(CompCat.Diagram.TikZ.Statement[CompCat.Diagram.TikZ.Node(\"n\",CompCat.Diagram.TikZ.Property[CompCat.Diagram.TikZ.Property(\"container\",#NULL)],#NULL,CompCat.Diagram.TikZ.Picture(CompCat.Diagram.TikZ.Statement[CompCat.Diagram.TikZ.Node(\"n1\",CompCat.Diagram.TikZ.Property[CompCat.Diagram.TikZ.Property(\"minimum height\",\"2.0em\")],#NULL,\"\"),CompCat.Diagram.TikZ.Node(\"n2\",CompCat.Diagram.TikZ.Property[CompCat.Diagram.TikZ.Property(\"monoid node\",#NULL),CompCat.Diagram.TikZ.Property(\"right=2em of n1)\",#NULL)],#NULL,\"\"),CompCat.Diagram.TikZ.Edge(\"n1.center\",\"n2.west\",CompCat.Diagram.TikZ.PathOperation(\"to\",CompCat.Diagram.TikZ.Property[CompCat.Diagram.TikZ.Property(\"out\",\"0\"),CompCat.Diagram.TikZ.Property(\"in\",\"180\")]),CompCat.Diagram.TikZ.Property[],#NULL),CompCat.Diagram.TikZ.Node(\"n3\",CompCat.Diagram.TikZ.Property[CompCat.Diagram.TikZ.Property(\"container\",#NULL),CompCat.Diagram.TikZ.Property(\"right=2em of n2)\",#NULL)],#NULL,CompCat.Diagram.TikZ.Picture(CompCat.Diagram.TikZ.Statement[CompCat.Diagram.TikZ.Node(\"n31\",CompCat.Diagram.TikZ.Property[CompCat.Diagram.TikZ.Property(\"container\",#NULL)],#NULL,CompCat.Diagram.TikZ.Picture(CompCat.Diagram.TikZ.Statement[CompCat.Diagram.TikZ.Node(\"n31 box\",CompCat.Diagram.TikZ.Property[CompCat.Diagram.TikZ.Property(\"morphism node\",#NULL),CompCat.Diagram.TikZ.Property(\"trapezium\",#NULL),CompCat.Diagram.TikZ.Property(\"trapezium angle\",\"80\"),CompCat.Diagram.TikZ.Property(\"trapezium stretches body\",#NULL),CompCat.Diagram.TikZ.Property(\"shape border rotate\",\"270\"),CompCat.Diagram.TikZ.Property(\"rounded corners\",#NULL),CompCat.Diagram.TikZ.Property(\"minimum width\",\"2.0em\")],#NULL,\"f\")],CompCat.Diagram.TikZ.Property[])),CompCat.Diagram.TikZ.Node(\"n32\",CompCat.Diagram.TikZ.Property[CompCat.Diagram.TikZ.Property(\"container\",#NULL),CompCat.Diagram.TikZ.Property(\"below=0.5em of n31\",#NULL)],#NULL,CompCat.Diagram.TikZ.Picture(CompCat.Diagram.TikZ.Statement[CompCat.Diagram.TikZ.Node(\"n32 box\",CompCat.Diagram.TikZ.Property[CompCat.Diagram.TikZ.Property(\"morphism node\",#NULL),CompCat.Diagram.TikZ.Property(\"trapezium\",#NULL),CompCat.Diagram.TikZ.Property(\"trapezium angle\",\"80\"),CompCat.Diagram.TikZ.Property(\"trapezium stretches body\",#NULL),CompCat.Diagram.TikZ.Property(\"shape border rotate\",\"270\"),CompCat.Diagram.TikZ.Property(\"rounded corners\",#NULL),CompCat.Diagram.TikZ.Property(\"minimum width\",\"2.0em\")],#NULL,\"f\")],CompCat.Diagram.TikZ.Property[]))],CompCat.Diagram.TikZ.Property[])),CompCat.Diagram.TikZ.Edge(\"n2.north\",\"n31.west\",CompCat.Diagram.TikZ.PathOperation(\"to\",CompCat.Diagram.TikZ.Property[CompCat.Diagram.TikZ.Property(\"out\",\"90\"),CompCat.Diagram.TikZ.Property(\"in\",\"180\")]),CompCat.Diagram.TikZ.Property[],#NULL),CompCat.Diagram.TikZ.Edge(\"n2.south\",\"n32.west\",CompCat.Diagram.TikZ.PathOperation(\"to\",CompCat.Diagram.TikZ.Property[CompCat.Diagram.TikZ.Property(\"out\",\"270\"),CompCat.Diagram.TikZ.Property(\"in\",\"180\")]),CompCat.Diagram.TikZ.Property[],#NULL),CompCat.Diagram.TikZ.Node(\"n4\",CompCat.Diagram.TikZ.Property[CompCat.Diagram.TikZ.Property(\"minimum height\",\"4.5em\"),CompCat.Diagram.TikZ.Property(\"right=2em of n3)\",#NULL)],#NULL,\"\"),CompCat.Diagram.TikZ.Edge(\"n31.east\",\"\\$(n4.center)+(0,1.25em)\\$\",CompCat.Diagram.TikZ.PathOperation(\"to\",CompCat.Diagram.TikZ.Property[CompCat.Diagram.TikZ.Property(\"out\",\"0\"),CompCat.Diagram.TikZ.Property(\"in\",\"180\")]),CompCat.Diagram.TikZ.Property[],#NULL),CompCat.Diagram.TikZ.Edge(\"n32.east\",\"\\$(n4.center)+(0,-1.25em)\\$\",CompCat.Diagram.TikZ.PathOperation(\"to\",CompCat.Diagram.TikZ.Property[CompCat.Diagram.TikZ.Property(\"out\",\"0\"),CompCat.Diagram.TikZ.Property(\"in\",\"180\")]),CompCat.Diagram.TikZ.Property[],#NULL)],CompCat.Diagram.TikZ.Property[]))],CompCat.Diagram.TikZ.Property[CompCat.Diagram.TikZ.Property(\"remember picture\",#NULL),CompCat.Diagram.TikZ.Property(\"font\",\"{\\\\fontsize{12}{14.4}}\"),CompCat.Diagram.TikZ.Property(\"morphism node/.style\",\"{draw,solid,inner sep=0.333em}\"),CompCat.Diagram.TikZ.Property(\"monoid node/.style\",\"{draw,fill,circle,minimum size=0.333em}\"),CompCat.Diagram.TikZ.Property(\"container/.style\",\"{inner sep=0}\"),CompCat.Diagram.TikZ.Property(\"every path/.style\",\"{solid, line width=0.4pt}\"),CompCat.Diagram.TikZ.Property(\"execute at begin node\",\"\\$\"),CompCat.Diagram.TikZ.Property(\"execute at end node\",\"\\$\")])"
      ]
     },
     "execution_count": 13,
     "metadata": {},
     "output_type": "execute_result"
    }
   ],
   "source": [
    "diagram(split)"
   ]
  },
  {
   "cell_type": "code",
   "execution_count": 14,
   "metadata": {
    "collapsed": false
   },
   "outputs": [
    {
     "data": {
      "text/latex": [
       "$\\Delta_{A} \\left(f \\otimes f\\right) \\nabla_{B} : A \\to B$"
      ],
      "text/plain": [
       "CompCat.Syntax.MorExpr(:compose,CompCat.Syntax.MorExpr[CompCat.Syntax.MorExpr(:copy,CompCat.Syntax.ObExpr[CompCat.Syntax.ObExpr(:gen,Symbol[:A])]),CompCat.Syntax.MorExpr(:otimes,CompCat.Syntax.MorExpr[CompCat.Syntax.MorExpr(:gen,Any[:f,CompCat.Syntax.ObExpr(:gen,Symbol[:A]),CompCat.Syntax.ObExpr(:gen,Symbol[:B])]),CompCat.Syntax.MorExpr(:gen,Any[:f,CompCat.Syntax.ObExpr(:gen,Symbol[:A]),CompCat.Syntax.ObExpr(:gen,Symbol[:B])])]),CompCat.Syntax.MorExpr(:merge,CompCat.Syntax.ObExpr[CompCat.Syntax.ObExpr(:gen,Symbol[:B])])])"
      ]
     },
     "execution_count": 14,
     "metadata": {},
     "output_type": "execute_result"
    }
   ],
   "source": [
    "combine = compose(split, mmerge(B))"
   ]
  },
  {
   "cell_type": "code",
   "execution_count": 15,
   "metadata": {
    "collapsed": false
   },
   "outputs": [
    {
     "data": {
      "image/svg+xml": [
       "<?xml version=\"1.0\" encoding=\"UTF-8\"?>\n",
       "<svg xmlns=\"http://www.w3.org/2000/svg\" xmlns:xlink=\"http://www.w3.org/1999/xlink\" width=\"122.597pt\" height=\"54.994pt\" viewBox=\"0 0 122.597 54.994\" version=\"1.1\">\n",
       "<defs>\n",
       "<g>\n",
       "<symbol overflow=\"visible\" id=\"glyph-1489542186913251-0-0\">\n",
       "<path style=\"stroke:none;\" d=\"\"/>\n",
       "</symbol>\n",
       "<symbol overflow=\"visible\" id=\"glyph-1489542186913251-0-1\">\n",
       "<path style=\"stroke:none;\" d=\"M 2.03125 -1.328125 C 1.609375 -0.625 1.203125 -0.375 0.640625 -0.34375 C 0.5 -0.328125 0.40625 -0.328125 0.40625 -0.125 C 0.40625 -0.046875 0.46875 0 0.546875 0 C 0.765625 0 1.296875 -0.03125 1.515625 -0.03125 C 1.859375 -0.03125 2.25 0 2.578125 0 C 2.65625 0 2.796875 0 2.796875 -0.234375 C 2.796875 -0.328125 2.703125 -0.34375 2.625 -0.34375 C 2.359375 -0.375 2.125 -0.46875 2.125 -0.75 C 2.125 -0.921875 2.203125 -1.046875 2.359375 -1.3125 L 3.265625 -2.828125 L 6.3125 -2.828125 C 6.328125 -2.71875 6.328125 -2.625 6.328125 -2.515625 C 6.375 -2.203125 6.515625 -0.953125 6.515625 -0.734375 C 6.515625 -0.375 5.90625 -0.34375 5.71875 -0.34375 C 5.578125 -0.34375 5.453125 -0.34375 5.453125 -0.125 C 5.453125 0 5.5625 0 5.625 0 C 5.828125 0 6.078125 -0.03125 6.28125 -0.03125 L 6.953125 -0.03125 C 7.6875 -0.03125 8.21875 0 8.21875 0 C 8.3125 0 8.4375 0 8.4375 -0.234375 C 8.4375 -0.34375 8.328125 -0.34375 8.15625 -0.34375 C 7.5 -0.34375 7.484375 -0.453125 7.453125 -0.8125 L 6.71875 -8.265625 C 6.6875 -8.515625 6.640625 -8.53125 6.515625 -8.53125 C 6.390625 -8.53125 6.328125 -8.515625 6.21875 -8.328125 Z M 3.46875 -3.171875 L 5.875 -7.1875 L 6.28125 -3.171875 Z M 3.46875 -3.171875 \"/>\n",
       "</symbol>\n",
       "<symbol overflow=\"visible\" id=\"glyph-1489542186913251-0-2\">\n",
       "<path style=\"stroke:none;\" d=\"M 5.328125 -4.8125 C 5.5625 -4.8125 5.671875 -4.8125 5.671875 -5.03125 C 5.671875 -5.15625 5.5625 -5.15625 5.359375 -5.15625 L 4.390625 -5.15625 C 4.609375 -6.390625 4.78125 -7.234375 4.875 -7.609375 C 4.953125 -7.90625 5.203125 -8.171875 5.515625 -8.171875 C 5.765625 -8.171875 6.015625 -8.0625 6.125 -7.953125 C 5.671875 -7.90625 5.515625 -7.5625 5.515625 -7.359375 C 5.515625 -7.125 5.703125 -6.984375 5.921875 -6.984375 C 6.171875 -6.984375 6.53125 -7.1875 6.53125 -7.640625 C 6.53125 -8.140625 6.03125 -8.421875 5.5 -8.421875 C 4.984375 -8.421875 4.484375 -8.03125 4.25 -7.5625 C 4.03125 -7.140625 3.90625 -6.71875 3.640625 -5.15625 L 2.828125 -5.15625 C 2.609375 -5.15625 2.484375 -5.15625 2.484375 -4.9375 C 2.484375 -4.8125 2.5625 -4.8125 2.796875 -4.8125 L 3.5625 -4.8125 C 3.34375 -3.6875 2.859375 -0.984375 2.578125 0.28125 C 2.375 1.328125 2.203125 2.203125 1.609375 2.203125 C 1.5625 2.203125 1.21875 2.203125 1 1.96875 C 1.609375 1.921875 1.609375 1.40625 1.609375 1.390625 C 1.609375 1.140625 1.4375 1 1.203125 1 C 0.96875 1 0.609375 1.203125 0.609375 1.65625 C 0.609375 2.171875 1.140625 2.4375 1.609375 2.4375 C 2.828125 2.4375 3.328125 0.25 3.453125 -0.34375 C 3.671875 -1.265625 4.25 -4.453125 4.3125 -4.8125 Z M 5.328125 -4.8125 \"/>\n",
       "</symbol>\n",
       "<symbol overflow=\"visible\" id=\"glyph-1489542186913251-0-3\">\n",
       "<path style=\"stroke:none;\" d=\"M 4.375 -7.34375 C 4.484375 -7.796875 4.53125 -7.8125 5 -7.8125 L 6.546875 -7.8125 C 7.90625 -7.8125 7.90625 -6.671875 7.90625 -6.5625 C 7.90625 -5.59375 6.9375 -4.359375 5.359375 -4.359375 L 3.640625 -4.359375 Z M 6.390625 -4.265625 C 7.703125 -4.5 8.875 -5.421875 8.875 -6.515625 C 8.875 -7.453125 8.0625 -8.15625 6.703125 -8.15625 L 2.875 -8.15625 C 2.640625 -8.15625 2.53125 -8.15625 2.53125 -7.9375 C 2.53125 -7.8125 2.640625 -7.8125 2.828125 -7.8125 C 3.546875 -7.8125 3.546875 -7.71875 3.546875 -7.59375 C 3.546875 -7.5625 3.546875 -7.5 3.5 -7.3125 L 1.890625 -0.890625 C 1.78125 -0.46875 1.75 -0.34375 0.921875 -0.34375 C 0.6875 -0.34375 0.578125 -0.34375 0.578125 -0.125 C 0.578125 0 0.640625 0 0.890625 0 L 4.984375 0 C 6.8125 0 8.21875 -1.390625 8.21875 -2.59375 C 8.21875 -3.578125 7.359375 -4.171875 6.390625 -4.265625 Z M 4.703125 -0.34375 L 3.078125 -0.34375 C 2.921875 -0.34375 2.890625 -0.34375 2.828125 -0.359375 C 2.6875 -0.375 2.671875 -0.390625 2.671875 -0.484375 C 2.671875 -0.578125 2.703125 -0.640625 2.71875 -0.75 L 3.5625 -4.125 L 5.8125 -4.125 C 7.21875 -4.125 7.21875 -2.8125 7.21875 -2.71875 C 7.21875 -1.5625 6.1875 -0.34375 4.703125 -0.34375 Z M 4.703125 -0.34375 \"/>\n",
       "</symbol>\n",
       "</g>\n",
       "<clipPath id=\"clip-1489542186913251-1\">\n",
       "  <path d=\"M 48 25 L 75 25 L 75 54.992188 L 48 54.992188 Z M 48 25 \"/>\n",
       "</clipPath>\n",
       "<clipPath id=\"clip-1489542186913251-2\">\n",
       "  <path d=\"M 91 21 L 122.597656 21 L 122.597656 34 L 91 34 Z M 91 21 \"/>\n",
       "</clipPath>\n",
       "</defs>\n",
       "<g id=\"surface1\">\n",
       "<path style=\"fill-rule:nonzero;fill:rgb(0%,0%,0%);fill-opacity:1;stroke-width:0.3985;stroke-linecap:butt;stroke-linejoin:miter;stroke:rgb(0%,0%,0%);stroke-opacity:1;stroke-miterlimit:10;\" d=\"M 28.787156 0.00090625 C 28.787156 1.098562 27.896531 1.989187 26.798875 1.989187 C 25.697312 1.989187 24.806687 1.098562 24.806687 0.00090625 C 24.806687 -1.100656 25.697312 -1.991281 26.798875 -1.991281 C 27.896531 -1.991281 28.787156 -1.100656 28.787156 0.00090625 Z M 28.787156 0.00090625 \" transform=\"matrix(1,0,0,-1,0.498,27.497)\"/>\n",
       "<path style=\"fill:none;stroke-width:0.3985;stroke-linecap:butt;stroke-linejoin:miter;stroke:rgb(0%,0%,0%);stroke-opacity:1;stroke-miterlimit:10;\" d=\"M -0.00190625 0.00090625 C 9.59575 0.00090625 15.009813 0.00090625 24.607469 0.00090625 \" transform=\"matrix(1,0,0,-1,0.498,27.497)\"/>\n",
       "<g style=\"fill:rgb(0%,0%,0%);fill-opacity:1;\">\n",
       "  <use xlink:href=\"#glyph-1489542186913251-0-1\" x=\"8.414\" y=\"24.309\"/>\n",
       "</g>\n",
       "<path style=\"fill:none;stroke-width:0.3985;stroke-linecap:butt;stroke-linejoin:miter;stroke:rgb(0%,0%,0%);stroke-opacity:1;stroke-miterlimit:10;\" d=\"M 4.128656 11.263375 L 11.281 10.001656 C 13.448969 9.618844 15.206781 7.525094 15.206781 5.321969 L 15.206781 -5.326469 C 15.206781 -7.525688 13.448969 -9.619438 11.281 -10.00225 L 4.128656 -11.263969 C 1.960687 -11.646781 0.198969 -10.170219 0.198969 -7.971 L 0.198969 7.970406 C 0.198969 10.169625 1.960687 11.646187 4.128656 11.263375 Z M 4.128656 11.263375 \" transform=\"matrix(1,0,0,-1,53.594,12.154)\"/>\n",
       "<g style=\"fill:rgb(0%,0%,0%);fill-opacity:1;\">\n",
       "  <use xlink:href=\"#glyph-1489542186913251-0-2\" x=\"57.775\" y=\"15.143\"/>\n",
       "</g>\n",
       "<g clip-path=\"url(#clip-1489542186913251-1)\" clip-rule=\"nonzero\">\n",
       "<path style=\"fill:none;stroke-width:0.3985;stroke-linecap:butt;stroke-linejoin:miter;stroke:rgb(0%,0%,0%);stroke-opacity:1;stroke-miterlimit:10;\" d=\"M -3.575344 0.426875 L 3.577 -0.834844 C 5.744969 -1.21375 7.502781 -3.311406 7.502781 -5.510625 L 7.502781 -16.159062 C 7.502781 -18.358281 5.744969 -20.452031 3.577 -20.834844 L -3.575344 -22.096562 C -5.747219 -22.479375 -7.505031 -21.006719 -7.505031 -18.803594 L -7.505031 -2.866094 C -7.505031 -0.662969 -5.747219 0.809688 -3.575344 0.426875 Z M -3.575344 0.426875 \" transform=\"matrix(1,0,0,-1,61.298,32.005)\"/>\n",
       "</g>\n",
       "<g style=\"fill:rgb(0%,0%,0%);fill-opacity:1;\">\n",
       "  <use xlink:href=\"#glyph-1489542186913251-0-2\" x=\"57.775\" y=\"45.828\"/>\n",
       "</g>\n",
       "<path style=\"fill:none;stroke-width:0.3985;stroke-linecap:butt;stroke-linejoin:miter;stroke:rgb(0%,0%,0%);stroke-opacity:1;stroke-miterlimit:10;\" d=\"M 26.798875 2.188406 C 26.798875 13.614187 41.474656 15.34075 52.896531 15.34075 \" transform=\"matrix(1,0,0,-1,0.498,27.497)\"/>\n",
       "<path style=\"fill:none;stroke-width:0.3985;stroke-linecap:butt;stroke-linejoin:miter;stroke:rgb(0%,0%,0%);stroke-opacity:1;stroke-miterlimit:10;\" d=\"M 26.798875 -2.1905 C 26.798875 -13.612375 41.474656 -15.342844 52.896531 -15.342844 \" transform=\"matrix(1,0,0,-1,0.498,27.497)\"/>\n",
       "<path style=\"fill-rule:nonzero;fill:rgb(0%,0%,0%);fill-opacity:1;stroke-width:0.3985;stroke-linecap:butt;stroke-linejoin:miter;stroke:rgb(0%,0%,0%);stroke-opacity:1;stroke-miterlimit:10;\" d=\"M 96.794969 0.00090625 C 96.794969 1.098562 95.904344 1.989187 94.802781 1.989187 C 93.705125 1.989187 92.8145 1.098562 92.8145 0.00090625 C 92.8145 -1.100656 93.705125 -1.991281 94.802781 -1.991281 C 95.904344 -1.991281 96.794969 -1.100656 96.794969 0.00090625 Z M 96.794969 0.00090625 \" transform=\"matrix(1,0,0,-1,0.498,27.497)\"/>\n",
       "<path style=\"fill:none;stroke-width:0.3985;stroke-linecap:butt;stroke-linejoin:miter;stroke:rgb(0%,0%,0%);stroke-opacity:1;stroke-miterlimit:10;\" d=\"M 68.705125 15.34075 C 80.127 15.34075 94.802781 13.614187 94.802781 2.188406 \" transform=\"matrix(1,0,0,-1,0.498,27.497)\"/>\n",
       "<path style=\"fill:none;stroke-width:0.3985;stroke-linecap:butt;stroke-linejoin:miter;stroke:rgb(0%,0%,0%);stroke-opacity:1;stroke-miterlimit:10;\" d=\"M 68.705125 -15.342844 C 80.127 -15.342844 94.802781 -13.612375 94.802781 -2.1905 \" transform=\"matrix(1,0,0,-1,0.498,27.497)\"/>\n",
       "<g clip-path=\"url(#clip-1489542186913251-2)\" clip-rule=\"nonzero\">\n",
       "<path style=\"fill:none;stroke-width:0.3985;stroke-linecap:butt;stroke-linejoin:miter;stroke:rgb(0%,0%,0%);stroke-opacity:1;stroke-miterlimit:10;\" d=\"M 96.994187 0.00090625 C 106.591844 0.00090625 112.005906 0.00090625 121.603562 0.00090625 \" transform=\"matrix(1,0,0,-1,0.498,27.497)\"/>\n",
       "</g>\n",
       "<g style=\"fill:rgb(0%,0%,0%);fill-opacity:1;\">\n",
       "  <use xlink:href=\"#glyph-1489542186913251-0-3\" x=\"105.047\" y=\"24.309\"/>\n",
       "</g>\n",
       "</g>\n",
       "</svg>\n",
       "\n"
      ],
      "text/plain": [
       "CompCat.Diagram.TikZ.Picture(CompCat.Diagram.TikZ.Statement[CompCat.Diagram.TikZ.Node(\"n\",CompCat.Diagram.TikZ.Property[CompCat.Diagram.TikZ.Property(\"container\",#NULL)],#NULL,CompCat.Diagram.TikZ.Picture(CompCat.Diagram.TikZ.Statement[CompCat.Diagram.TikZ.Node(\"n1\",CompCat.Diagram.TikZ.Property[CompCat.Diagram.TikZ.Property(\"minimum height\",\"2.0em\")],#NULL,\"\"),CompCat.Diagram.TikZ.Node(\"n2\",CompCat.Diagram.TikZ.Property[CompCat.Diagram.TikZ.Property(\"monoid node\",#NULL),CompCat.Diagram.TikZ.Property(\"right=2em of n1)\",#NULL)],#NULL,\"\"),CompCat.Diagram.TikZ.Edge(\"n1.center\",\"n2.west\",CompCat.Diagram.TikZ.PathOperation(\"to\",CompCat.Diagram.TikZ.Property[CompCat.Diagram.TikZ.Property(\"out\",\"0\"),CompCat.Diagram.TikZ.Property(\"in\",\"180\")]),CompCat.Diagram.TikZ.Property[],CompCat.Diagram.TikZ.EdgeNode(CompCat.Diagram.TikZ.Property[CompCat.Diagram.TikZ.Property(\"above\",\"0.25em\"),CompCat.Diagram.TikZ.Property(\"midway\",#NULL)],\"A\")),CompCat.Diagram.TikZ.Node(\"n3\",CompCat.Diagram.TikZ.Property[CompCat.Diagram.TikZ.Property(\"container\",#NULL),CompCat.Diagram.TikZ.Property(\"right=2em of n2)\",#NULL)],#NULL,CompCat.Diagram.TikZ.Picture(CompCat.Diagram.TikZ.Statement[CompCat.Diagram.TikZ.Node(\"n31\",CompCat.Diagram.TikZ.Property[CompCat.Diagram.TikZ.Property(\"container\",#NULL)],#NULL,CompCat.Diagram.TikZ.Picture(CompCat.Diagram.TikZ.Statement[CompCat.Diagram.TikZ.Node(\"n31 box\",CompCat.Diagram.TikZ.Property[CompCat.Diagram.TikZ.Property(\"morphism node\",#NULL),CompCat.Diagram.TikZ.Property(\"trapezium\",#NULL),CompCat.Diagram.TikZ.Property(\"trapezium angle\",\"80\"),CompCat.Diagram.TikZ.Property(\"trapezium stretches body\",#NULL),CompCat.Diagram.TikZ.Property(\"shape border rotate\",\"270\"),CompCat.Diagram.TikZ.Property(\"rounded corners\",#NULL),CompCat.Diagram.TikZ.Property(\"minimum width\",\"2.0em\")],#NULL,\"f\")],CompCat.Diagram.TikZ.Property[])),CompCat.Diagram.TikZ.Node(\"n32\",CompCat.Diagram.TikZ.Property[CompCat.Diagram.TikZ.Property(\"container\",#NULL),CompCat.Diagram.TikZ.Property(\"below=0.5em of n31\",#NULL)],#NULL,CompCat.Diagram.TikZ.Picture(CompCat.Diagram.TikZ.Statement[CompCat.Diagram.TikZ.Node(\"n32 box\",CompCat.Diagram.TikZ.Property[CompCat.Diagram.TikZ.Property(\"morphism node\",#NULL),CompCat.Diagram.TikZ.Property(\"trapezium\",#NULL),CompCat.Diagram.TikZ.Property(\"trapezium angle\",\"80\"),CompCat.Diagram.TikZ.Property(\"trapezium stretches body\",#NULL),CompCat.Diagram.TikZ.Property(\"shape border rotate\",\"270\"),CompCat.Diagram.TikZ.Property(\"rounded corners\",#NULL),CompCat.Diagram.TikZ.Property(\"minimum width\",\"2.0em\")],#NULL,\"f\")],CompCat.Diagram.TikZ.Property[]))],CompCat.Diagram.TikZ.Property[])),CompCat.Diagram.TikZ.Edge(\"n2.north\",\"n31.west\",CompCat.Diagram.TikZ.PathOperation(\"to\",CompCat.Diagram.TikZ.Property[CompCat.Diagram.TikZ.Property(\"out\",\"90\"),CompCat.Diagram.TikZ.Property(\"in\",\"180\")]),CompCat.Diagram.TikZ.Property[],#NULL),CompCat.Diagram.TikZ.Edge(\"n2.south\",\"n32.west\",CompCat.Diagram.TikZ.PathOperation(\"to\",CompCat.Diagram.TikZ.Property[CompCat.Diagram.TikZ.Property(\"out\",\"270\"),CompCat.Diagram.TikZ.Property(\"in\",\"180\")]),CompCat.Diagram.TikZ.Property[],#NULL),CompCat.Diagram.TikZ.Node(\"n4\",CompCat.Diagram.TikZ.Property[CompCat.Diagram.TikZ.Property(\"monoid node\",#NULL),CompCat.Diagram.TikZ.Property(\"right=2em of n3)\",#NULL)],#NULL,\"\"),CompCat.Diagram.TikZ.Edge(\"n31.east\",\"n4.north\",CompCat.Diagram.TikZ.PathOperation(\"to\",CompCat.Diagram.TikZ.Property[CompCat.Diagram.TikZ.Property(\"out\",\"0\"),CompCat.Diagram.TikZ.Property(\"in\",\"90\")]),CompCat.Diagram.TikZ.Property[],#NULL),CompCat.Diagram.TikZ.Edge(\"n32.east\",\"n4.south\",CompCat.Diagram.TikZ.PathOperation(\"to\",CompCat.Diagram.TikZ.Property[CompCat.Diagram.TikZ.Property(\"out\",\"0\"),CompCat.Diagram.TikZ.Property(\"in\",\"270\")]),CompCat.Diagram.TikZ.Property[],#NULL),CompCat.Diagram.TikZ.Node(\"n5\",CompCat.Diagram.TikZ.Property[CompCat.Diagram.TikZ.Property(\"minimum height\",\"2.0em\"),CompCat.Diagram.TikZ.Property(\"right=2em of n4)\",#NULL)],#NULL,\"\"),CompCat.Diagram.TikZ.Edge(\"n4.east\",\"n5.center\",CompCat.Diagram.TikZ.PathOperation(\"to\",CompCat.Diagram.TikZ.Property[CompCat.Diagram.TikZ.Property(\"out\",\"0\"),CompCat.Diagram.TikZ.Property(\"in\",\"180\")]),CompCat.Diagram.TikZ.Property[],CompCat.Diagram.TikZ.EdgeNode(CompCat.Diagram.TikZ.Property[CompCat.Diagram.TikZ.Property(\"above\",\"0.25em\"),CompCat.Diagram.TikZ.Property(\"midway\",#NULL)],\"B\"))],CompCat.Diagram.TikZ.Property[]))],CompCat.Diagram.TikZ.Property[CompCat.Diagram.TikZ.Property(\"remember picture\",#NULL),CompCat.Diagram.TikZ.Property(\"font\",\"{\\\\fontsize{12}{14.4}}\"),CompCat.Diagram.TikZ.Property(\"morphism node/.style\",\"{draw,solid,inner sep=0.333em}\"),CompCat.Diagram.TikZ.Property(\"monoid node/.style\",\"{draw,fill,circle,minimum size=0.333em}\"),CompCat.Diagram.TikZ.Property(\"container/.style\",\"{inner sep=0}\"),CompCat.Diagram.TikZ.Property(\"every path/.style\",\"{solid, line width=0.4pt}\"),CompCat.Diagram.TikZ.Property(\"execute at begin node\",\"\\$\"),CompCat.Diagram.TikZ.Property(\"execute at end node\",\"\\$\")])"
      ]
     },
     "execution_count": 15,
     "metadata": {},
     "output_type": "execute_result"
    }
   ],
   "source": [
    "diagram(combine, labels=true)"
   ]
  },
  {
   "cell_type": "code",
   "execution_count": 16,
   "metadata": {
    "collapsed": false,
    "scrolled": true
   },
   "outputs": [
    {
     "data": {
      "image/svg+xml": [
       "<?xml version=\"1.0\" encoding=\"UTF-8\"?>\n",
       "<svg xmlns=\"http://www.w3.org/2000/svg\" xmlns:xlink=\"http://www.w3.org/1999/xlink\" width=\"111.089pt\" height=\"24.309pt\" viewBox=\"0 0 111.089 24.309\" version=\"1.1\">\n",
       "<defs>\n",
       "<g>\n",
       "<symbol overflow=\"visible\" id=\"glyph-1489542186913252-0-0\">\n",
       "<path style=\"stroke:none;\" d=\"\"/>\n",
       "</symbol>\n",
       "<symbol overflow=\"visible\" id=\"glyph-1489542186913252-0-1\">\n",
       "<path style=\"stroke:none;\" d=\"M 5.328125 -4.8125 C 5.5625 -4.8125 5.671875 -4.8125 5.671875 -5.03125 C 5.671875 -5.15625 5.5625 -5.15625 5.359375 -5.15625 L 4.390625 -5.15625 C 4.609375 -6.390625 4.78125 -7.234375 4.875 -7.609375 C 4.953125 -7.90625 5.203125 -8.171875 5.515625 -8.171875 C 5.765625 -8.171875 6.015625 -8.0625 6.125 -7.953125 C 5.671875 -7.90625 5.515625 -7.5625 5.515625 -7.359375 C 5.515625 -7.125 5.703125 -6.984375 5.921875 -6.984375 C 6.171875 -6.984375 6.53125 -7.1875 6.53125 -7.640625 C 6.53125 -8.140625 6.03125 -8.421875 5.5 -8.421875 C 4.984375 -8.421875 4.484375 -8.03125 4.25 -7.5625 C 4.03125 -7.140625 3.90625 -6.71875 3.640625 -5.15625 L 2.828125 -5.15625 C 2.609375 -5.15625 2.484375 -5.15625 2.484375 -4.9375 C 2.484375 -4.8125 2.5625 -4.8125 2.796875 -4.8125 L 3.5625 -4.8125 C 3.34375 -3.6875 2.859375 -0.984375 2.578125 0.28125 C 2.375 1.328125 2.203125 2.203125 1.609375 2.203125 C 1.5625 2.203125 1.21875 2.203125 1 1.96875 C 1.609375 1.921875 1.609375 1.40625 1.609375 1.390625 C 1.609375 1.140625 1.4375 1 1.203125 1 C 0.96875 1 0.609375 1.203125 0.609375 1.65625 C 0.609375 2.171875 1.140625 2.4375 1.609375 2.4375 C 2.828125 2.4375 3.328125 0.25 3.453125 -0.34375 C 3.671875 -1.265625 4.25 -4.453125 4.3125 -4.8125 Z M 5.328125 -4.8125 \"/>\n",
       "</symbol>\n",
       "<symbol overflow=\"visible\" id=\"glyph-1489542186913252-0-2\">\n",
       "<path style=\"stroke:none;\" d=\"M 4.046875 -1.515625 C 4 -1.328125 3.96875 -1.28125 3.8125 -1.09375 C 3.328125 -0.46875 2.828125 -0.234375 2.453125 -0.234375 C 2.0625 -0.234375 1.6875 -0.546875 1.6875 -1.375 C 1.6875 -2.015625 2.046875 -3.34375 2.3125 -3.890625 C 2.65625 -4.546875 3.1875 -5.03125 3.6875 -5.03125 C 4.484375 -5.03125 4.640625 -4.046875 4.640625 -3.984375 L 4.609375 -3.8125 Z M 4.78125 -4.484375 C 4.625 -4.828125 4.296875 -5.265625 3.6875 -5.265625 C 2.390625 -5.265625 0.90625 -3.640625 0.90625 -1.859375 C 0.90625 -0.609375 1.65625 0 2.421875 0 C 3.0625 0 3.625 -0.5 3.84375 -0.734375 L 3.578125 0.328125 C 3.40625 0.984375 3.328125 1.296875 2.90625 1.703125 C 2.421875 2.203125 1.953125 2.203125 1.703125 2.203125 C 1.34375 2.203125 1.046875 2.171875 0.734375 2.078125 C 1.125 1.96875 1.21875 1.640625 1.21875 1.5 C 1.21875 1.3125 1.078125 1.125 0.8125 1.125 C 0.53125 1.125 0.21875 1.359375 0.21875 1.75 C 0.21875 2.25 0.703125 2.4375 1.71875 2.4375 C 3.265625 2.4375 4.0625 1.453125 4.21875 0.796875 L 5.546875 -4.546875 C 5.578125 -4.703125 5.578125 -4.71875 5.578125 -4.75 C 5.578125 -4.90625 5.453125 -5.046875 5.265625 -5.046875 C 4.984375 -5.046875 4.8125 -4.8125 4.78125 -4.484375 Z M 4.78125 -4.484375 \"/>\n",
       "</symbol>\n",
       "</g>\n",
       "<clipPath id=\"clip-1489542186913252-1\">\n",
       "  <path d=\"M 23 0 L 50 0 L 50 24.308594 L 23 24.308594 Z M 23 0 \"/>\n",
       "</clipPath>\n",
       "<clipPath id=\"clip-1489542186913252-2\">\n",
       "  <path d=\"M 62 0 L 89 0 L 89 24.308594 L 62 24.308594 Z M 62 0 \"/>\n",
       "</clipPath>\n",
       "<clipPath id=\"clip-1489542186913252-3\">\n",
       "  <path d=\"M 101 4 L 111.089844 4 L 111.089844 20 L 101 20 Z M 101 4 \"/>\n",
       "</clipPath>\n",
       "<clipPath id=\"clip-1489542186913252-4\">\n",
       "  <path d=\"M 77 6 L 111.089844 6 L 111.089844 18 L 77 18 Z M 77 6 \"/>\n",
       "</clipPath>\n",
       "</defs>\n",
       "<g id=\"surface1\">\n",
       "<path style=\"fill-rule:nonzero;fill:rgb(0%,0%,0%);fill-opacity:1;stroke-width:0.3985;stroke-linecap:butt;stroke-linejoin:miter;stroke:rgb(0%,0%,0%);stroke-opacity:1;stroke-miterlimit:10;\" d=\"M 1.989688 -0.00125 C 1.989688 1.100313 1.099063 1.990938 0.00140625 1.990938 C -1.100156 1.990938 -1.990781 1.100313 -1.990781 -0.00125 C -1.990781 -1.098906 -1.100156 -1.989531 0.00140625 -1.989531 C 1.099063 -1.989531 1.989688 -1.098906 1.989688 -0.00125 Z M 1.989688 -0.00125 \" transform=\"matrix(1,0,0,-1,2.19,12.155)\"/>\n",
       "<g clip-path=\"url(#clip-1489542186913252-1)\" clip-rule=\"nonzero\">\n",
       "<path style=\"fill:none;stroke-width:0.3985;stroke-linecap:butt;stroke-linejoin:miter;stroke:rgb(0%,0%,0%);stroke-opacity:1;stroke-miterlimit:10;\" d=\"M 4.129188 11.263375 L 11.281531 10.001656 C 13.4495 9.618844 15.207313 7.525094 15.207313 5.321969 L 15.207313 -5.326469 C 15.207313 -7.525688 13.4495 -9.619438 11.281531 -10.00225 L 4.129188 -11.263969 C 1.957313 -11.646781 0.1995 -10.170219 0.1995 -7.971 L 0.1995 7.970406 C 0.1995 10.169625 1.957313 11.646187 4.129188 11.263375 Z M 4.129188 11.263375 \" transform=\"matrix(1,0,0,-1,28.488,12.154)\"/>\n",
       "</g>\n",
       "<g style=\"fill:rgb(0%,0%,0%);fill-opacity:1;\">\n",
       "  <use xlink:href=\"#glyph-1489542186913252-0-1\" x=\"32.669\" y=\"15.143\"/>\n",
       "</g>\n",
       "<path style=\"fill:none;stroke-width:0.3985;stroke-linecap:butt;stroke-linejoin:miter;stroke:rgb(0%,0%,0%);stroke-opacity:1;stroke-miterlimit:10;\" d=\"M 2.188906 -0.00125 C 11.513125 -0.00125 16.774844 -0.00125 26.099062 -0.00125 \" transform=\"matrix(1,0,0,-1,2.19,12.155)\"/>\n",
       "<g clip-path=\"url(#clip-1489542186913252-2)\" clip-rule=\"nonzero\">\n",
       "<path style=\"fill:none;stroke-width:0.3985;stroke-linecap:butt;stroke-linejoin:miter;stroke:rgb(0%,0%,0%);stroke-opacity:1;stroke-miterlimit:10;\" d=\"M 4.128031 11.263375 L 10.268656 10.181344 C 12.436625 9.798531 14.194438 7.704781 14.194438 5.501656 L 14.194438 -5.50225 C 14.194438 -7.705375 12.436625 -9.799125 10.268656 -10.181938 L 4.128031 -11.263969 C 1.960063 -11.646781 0.198344 -10.170219 0.198344 -7.971 L 0.198344 7.970406 C 0.198344 10.169625 1.960063 11.646187 4.128031 11.263375 Z M 4.128031 11.263375 \" transform=\"matrix(1,0,0,-1,68.204,12.154)\"/>\n",
       "</g>\n",
       "<g style=\"fill:rgb(0%,0%,0%);fill-opacity:1;\">\n",
       "  <use xlink:href=\"#glyph-1489542186913252-0-2\" x=\"72.385\" y=\"13.566\"/>\n",
       "</g>\n",
       "<path style=\"fill:none;stroke-width:0.3985;stroke-linecap:butt;stroke-linejoin:miter;stroke:rgb(0%,0%,0%);stroke-opacity:1;stroke-miterlimit:10;\" d=\"M 41.907656 -0.00125 C 51.231875 -0.00125 56.493594 -0.00125 65.817813 -0.00125 \" transform=\"matrix(1,0,0,-1,2.19,12.155)\"/>\n",
       "<path style=\" stroke:none;fill-rule:nonzero;fill:rgb(0%,0%,0%);fill-opacity:1;\" d=\"M 110.890625 12.15625 C 110.890625 11.054688 110 10.164062 108.902344 10.164062 C 107.800781 10.164062 106.910156 11.054688 106.910156 12.15625 C 106.910156 13.253906 107.800781 14.144531 108.902344 14.144531 C 110 14.144531 110.890625 13.253906 110.890625 12.15625 Z M 110.890625 12.15625 \"/>\n",
       "<g clip-path=\"url(#clip-1489542186913252-3)\" clip-rule=\"nonzero\">\n",
       "<path style=\"fill:none;stroke-width:0.3985;stroke-linecap:butt;stroke-linejoin:miter;stroke:rgb(0%,0%,0%);stroke-opacity:1;stroke-miterlimit:10;\" d=\"M 108.700625 -0.00125 C 108.700625 1.100313 107.81 1.990938 106.712344 1.990938 C 105.610781 1.990938 104.720156 1.100313 104.720156 -0.00125 C 104.720156 -1.098906 105.610781 -1.989531 106.712344 -1.989531 C 107.81 -1.989531 108.700625 -1.098906 108.700625 -0.00125 Z M 108.700625 -0.00125 \" transform=\"matrix(1,0,0,-1,2.19,12.155)\"/>\n",
       "</g>\n",
       "<g clip-path=\"url(#clip-1489542186913252-4)\" clip-rule=\"nonzero\">\n",
       "<path style=\"fill:none;stroke-width:0.3985;stroke-linecap:butt;stroke-linejoin:miter;stroke:rgb(0%,0%,0%);stroke-opacity:1;stroke-miterlimit:10;\" d=\"M 80.610781 -0.00125 C 89.935 -0.00125 95.196719 -0.00125 104.520938 -0.00125 \" transform=\"matrix(1,0,0,-1,2.19,12.155)\"/>\n",
       "</g>\n",
       "</g>\n",
       "</svg>\n",
       "\n"
      ],
      "text/plain": [
       "CompCat.Diagram.TikZ.Picture(CompCat.Diagram.TikZ.Statement[CompCat.Diagram.TikZ.Node(\"n\",CompCat.Diagram.TikZ.Property[CompCat.Diagram.TikZ.Property(\"container\",#NULL)],#NULL,CompCat.Diagram.TikZ.Picture(CompCat.Diagram.TikZ.Statement[CompCat.Diagram.TikZ.Node(\"n1\",CompCat.Diagram.TikZ.Property[CompCat.Diagram.TikZ.Property(\"monoid node\",#NULL)],#NULL,\"\"),CompCat.Diagram.TikZ.Node(\"n2\",CompCat.Diagram.TikZ.Property[CompCat.Diagram.TikZ.Property(\"container\",#NULL),CompCat.Diagram.TikZ.Property(\"right=2em of n1)\",#NULL)],#NULL,CompCat.Diagram.TikZ.Picture(CompCat.Diagram.TikZ.Statement[CompCat.Diagram.TikZ.Node(\"n2 box\",CompCat.Diagram.TikZ.Property[CompCat.Diagram.TikZ.Property(\"morphism node\",#NULL),CompCat.Diagram.TikZ.Property(\"trapezium\",#NULL),CompCat.Diagram.TikZ.Property(\"trapezium angle\",\"80\"),CompCat.Diagram.TikZ.Property(\"trapezium stretches body\",#NULL),CompCat.Diagram.TikZ.Property(\"shape border rotate\",\"270\"),CompCat.Diagram.TikZ.Property(\"rounded corners\",#NULL),CompCat.Diagram.TikZ.Property(\"minimum width\",\"2.0em\")],#NULL,\"f\")],CompCat.Diagram.TikZ.Property[])),CompCat.Diagram.TikZ.Edge(\"n1.east\",\"n2.west\",CompCat.Diagram.TikZ.PathOperation(\"to\",CompCat.Diagram.TikZ.Property[CompCat.Diagram.TikZ.Property(\"out\",\"0\"),CompCat.Diagram.TikZ.Property(\"in\",\"180\")]),CompCat.Diagram.TikZ.Property[],#NULL),CompCat.Diagram.TikZ.Node(\"n3\",CompCat.Diagram.TikZ.Property[CompCat.Diagram.TikZ.Property(\"container\",#NULL),CompCat.Diagram.TikZ.Property(\"right=2em of n2)\",#NULL)],#NULL,CompCat.Diagram.TikZ.Picture(CompCat.Diagram.TikZ.Statement[CompCat.Diagram.TikZ.Node(\"n3 box\",CompCat.Diagram.TikZ.Property[CompCat.Diagram.TikZ.Property(\"morphism node\",#NULL),CompCat.Diagram.TikZ.Property(\"trapezium\",#NULL),CompCat.Diagram.TikZ.Property(\"trapezium angle\",\"80\"),CompCat.Diagram.TikZ.Property(\"trapezium stretches body\",#NULL),CompCat.Diagram.TikZ.Property(\"shape border rotate\",\"270\"),CompCat.Diagram.TikZ.Property(\"rounded corners\",#NULL),CompCat.Diagram.TikZ.Property(\"minimum width\",\"2.0em\")],#NULL,\"g\")],CompCat.Diagram.TikZ.Property[])),CompCat.Diagram.TikZ.Edge(\"n2.east\",\"n3.west\",CompCat.Diagram.TikZ.PathOperation(\"to\",CompCat.Diagram.TikZ.Property[CompCat.Diagram.TikZ.Property(\"out\",\"0\"),CompCat.Diagram.TikZ.Property(\"in\",\"180\")]),CompCat.Diagram.TikZ.Property[],#NULL),CompCat.Diagram.TikZ.Node(\"n4\",CompCat.Diagram.TikZ.Property[CompCat.Diagram.TikZ.Property(\"monoid node\",#NULL),CompCat.Diagram.TikZ.Property(\"right=2em of n3)\",#NULL)],#NULL,\"\"),CompCat.Diagram.TikZ.Edge(\"n3.east\",\"n4.west\",CompCat.Diagram.TikZ.PathOperation(\"to\",CompCat.Diagram.TikZ.Property[CompCat.Diagram.TikZ.Property(\"out\",\"0\"),CompCat.Diagram.TikZ.Property(\"in\",\"180\")]),CompCat.Diagram.TikZ.Property[],#NULL)],CompCat.Diagram.TikZ.Property[]))],CompCat.Diagram.TikZ.Property[CompCat.Diagram.TikZ.Property(\"remember picture\",#NULL),CompCat.Diagram.TikZ.Property(\"font\",\"{\\\\fontsize{12}{14.4}}\"),CompCat.Diagram.TikZ.Property(\"morphism node/.style\",\"{draw,solid,inner sep=0.333em}\"),CompCat.Diagram.TikZ.Property(\"monoid node/.style\",\"{draw,fill,circle,minimum size=0.333em}\"),CompCat.Diagram.TikZ.Property(\"container/.style\",\"{inner sep=0}\"),CompCat.Diagram.TikZ.Property(\"every path/.style\",\"{solid, line width=0.4pt}\"),CompCat.Diagram.TikZ.Property(\"execute at begin node\",\"\\$\"),CompCat.Diagram.TikZ.Property(\"execute at end node\",\"\\$\")])"
      ]
     },
     "execution_count": 16,
     "metadata": {},
     "output_type": "execute_result"
    }
   ],
   "source": [
    "diagram(compose(create(A), f, g, delete(A)))"
   ]
  },
  {
   "cell_type": "markdown",
   "metadata": {},
   "source": [
    "## Compact closed category "
   ]
  },
  {
   "cell_type": "code",
   "execution_count": 17,
   "metadata": {
    "collapsed": false
   },
   "outputs": [
    {
     "data": {
      "image/svg+xml": [
       "<?xml version=\"1.0\" encoding=\"UTF-8\"?>\n",
       "<svg xmlns=\"http://www.w3.org/2000/svg\" xmlns:xlink=\"http://www.w3.org/1999/xlink\" width=\"26.301pt\" height=\"53.798pt\" viewBox=\"0 0 26.301 53.798\" version=\"1.1\">\n",
       "<defs>\n",
       "<clipPath id=\"clip-1489542186913253-1\">\n",
       "  <path d=\"M 0 6 L 26.300781 6 L 26.300781 33 L 0 33 Z M 0 6 \"/>\n",
       "</clipPath>\n",
       "<clipPath id=\"clip-1489542186913253-2\">\n",
       "  <path d=\"M 0 21 L 26.300781 21 L 26.300781 48 L 0 48 Z M 0 21 \"/>\n",
       "</clipPath>\n",
       "</defs>\n",
       "<g id=\"surface1\">\n",
       "<g clip-path=\"url(#clip-1489542186913253-1)\" clip-rule=\"nonzero\">\n",
       "<path style=\"fill:none;stroke-width:0.3985;stroke-linecap:butt;stroke-linejoin:miter;stroke:rgb(0%,0%,0%);stroke-opacity:1;stroke-miterlimit:10;\" d=\"M -0.00190625 14.945875 C 11.474656 14.945875 25.306687 11.477125 25.306687 0.0005625 \" transform=\"matrix(1,0,0,-1,0.498,26.899)\"/>\n",
       "</g>\n",
       "<g clip-path=\"url(#clip-1489542186913253-2)\" clip-rule=\"nonzero\">\n",
       "<path style=\"fill:none;stroke-width:0.3985;stroke-linecap:butt;stroke-linejoin:miter;stroke:rgb(0%,0%,0%);stroke-opacity:1;stroke-miterlimit:10;\" d=\"M -0.00190625 -14.94475 C 11.474656 -14.94475 25.306687 -11.476 25.306687 0.0005625 \" transform=\"matrix(1,0,0,-1,0.498,26.899)\"/>\n",
       "</g>\n",
       "</g>\n",
       "</svg>\n",
       "\n"
      ],
      "text/plain": [
       "CompCat.Diagram.TikZ.Picture(CompCat.Diagram.TikZ.Statement[CompCat.Diagram.TikZ.Node(\"n\",CompCat.Diagram.TikZ.Property[CompCat.Diagram.TikZ.Property(\"container\",#NULL)],#NULL,CompCat.Diagram.TikZ.Picture(CompCat.Diagram.TikZ.Statement[CompCat.Diagram.TikZ.Node(\"n1\",CompCat.Diagram.TikZ.Property[CompCat.Diagram.TikZ.Property(\"minimum height\",\"4.5em\")],#NULL,\"\"),CompCat.Diagram.TikZ.Node(\"n2\",CompCat.Diagram.TikZ.Property[CompCat.Diagram.TikZ.Property(\"minimum height\",\"4.5em\"),CompCat.Diagram.TikZ.Property(\"right=2em of n1)\",#NULL)],#NULL,\"\"),CompCat.Diagram.TikZ.Edge(\"\\$(n1.center)+(0,1.25em)\\$\",\"n2.center\",CompCat.Diagram.TikZ.PathOperation(\"to\",CompCat.Diagram.TikZ.Property[CompCat.Diagram.TikZ.Property(\"out\",\"0\"),CompCat.Diagram.TikZ.Property(\"in\",\"90\")]),CompCat.Diagram.TikZ.Property[],#NULL),CompCat.Diagram.TikZ.Edge(\"\\$(n1.center)+(0,-1.25em)\\$\",\"n2.center\",CompCat.Diagram.TikZ.PathOperation(\"to\",CompCat.Diagram.TikZ.Property[CompCat.Diagram.TikZ.Property(\"out\",\"0\"),CompCat.Diagram.TikZ.Property(\"in\",\"270\")]),CompCat.Diagram.TikZ.Property[],#NULL)],CompCat.Diagram.TikZ.Property[]))],CompCat.Diagram.TikZ.Property[CompCat.Diagram.TikZ.Property(\"remember picture\",#NULL),CompCat.Diagram.TikZ.Property(\"font\",\"{\\\\fontsize{12}{14.4}}\"),CompCat.Diagram.TikZ.Property(\"morphism node/.style\",\"{draw,solid,inner sep=0.333em}\"),CompCat.Diagram.TikZ.Property(\"monoid node/.style\",\"{draw,fill,circle,minimum size=0.333em}\"),CompCat.Diagram.TikZ.Property(\"container/.style\",\"{inner sep=0}\"),CompCat.Diagram.TikZ.Property(\"every path/.style\",\"{solid, line width=0.4pt}\"),CompCat.Diagram.TikZ.Property(\"execute at begin node\",\"\\$\"),CompCat.Diagram.TikZ.Property(\"execute at end node\",\"\\$\")])"
      ]
     },
     "execution_count": 17,
     "metadata": {},
     "output_type": "execute_result"
    }
   ],
   "source": [
    "diagram(ev(A), labels=true)"
   ]
  },
  {
   "cell_type": "code",
   "execution_count": 18,
   "metadata": {
    "collapsed": false
   },
   "outputs": [
    {
     "data": {
      "image/svg+xml": [
       "<?xml version=\"1.0\" encoding=\"UTF-8\"?>\n",
       "<svg xmlns=\"http://www.w3.org/2000/svg\" xmlns:xlink=\"http://www.w3.org/1999/xlink\" width=\"26.301pt\" height=\"53.798pt\" viewBox=\"0 0 26.301 53.798\" version=\"1.1\">\n",
       "<defs>\n",
       "<clipPath id=\"clip-1489542186913254-1\">\n",
       "  <path d=\"M 0 6 L 26.300781 6 L 26.300781 33 L 0 33 Z M 0 6 \"/>\n",
       "</clipPath>\n",
       "<clipPath id=\"clip-1489542186913254-2\">\n",
       "  <path d=\"M 0 21 L 26.300781 21 L 26.300781 48 L 0 48 Z M 0 21 \"/>\n",
       "</clipPath>\n",
       "</defs>\n",
       "<g id=\"surface1\">\n",
       "<g clip-path=\"url(#clip-1489542186913254-1)\" clip-rule=\"nonzero\">\n",
       "<path style=\"fill:none;stroke-width:0.3985;stroke-linecap:butt;stroke-linejoin:miter;stroke:rgb(0%,0%,0%);stroke-opacity:1;stroke-miterlimit:10;\" d=\"M -0.00190625 0.0005625 C -0.00190625 11.477125 13.830125 14.945875 25.306687 14.945875 \" transform=\"matrix(1,0,0,-1,0.498,26.899)\"/>\n",
       "</g>\n",
       "<g clip-path=\"url(#clip-1489542186913254-2)\" clip-rule=\"nonzero\">\n",
       "<path style=\"fill:none;stroke-width:0.3985;stroke-linecap:butt;stroke-linejoin:miter;stroke:rgb(0%,0%,0%);stroke-opacity:1;stroke-miterlimit:10;\" d=\"M -0.00190625 0.0005625 C -0.00190625 -11.476 13.830125 -14.94475 25.306687 -14.94475 \" transform=\"matrix(1,0,0,-1,0.498,26.899)\"/>\n",
       "</g>\n",
       "</g>\n",
       "</svg>\n",
       "\n"
      ],
      "text/plain": [
       "CompCat.Diagram.TikZ.Picture(CompCat.Diagram.TikZ.Statement[CompCat.Diagram.TikZ.Node(\"n\",CompCat.Diagram.TikZ.Property[CompCat.Diagram.TikZ.Property(\"container\",#NULL)],#NULL,CompCat.Diagram.TikZ.Picture(CompCat.Diagram.TikZ.Statement[CompCat.Diagram.TikZ.Node(\"n1\",CompCat.Diagram.TikZ.Property[CompCat.Diagram.TikZ.Property(\"minimum height\",\"4.5em\")],#NULL,\"\"),CompCat.Diagram.TikZ.Node(\"n2\",CompCat.Diagram.TikZ.Property[CompCat.Diagram.TikZ.Property(\"minimum height\",\"4.5em\"),CompCat.Diagram.TikZ.Property(\"right=2em of n1)\",#NULL)],#NULL,\"\"),CompCat.Diagram.TikZ.Edge(\"n1.center\",\"\\$(n2.center)+(0,1.25em)\\$\",CompCat.Diagram.TikZ.PathOperation(\"to\",CompCat.Diagram.TikZ.Property[CompCat.Diagram.TikZ.Property(\"out\",\"90\"),CompCat.Diagram.TikZ.Property(\"in\",\"180\")]),CompCat.Diagram.TikZ.Property[],#NULL),CompCat.Diagram.TikZ.Edge(\"n1.center\",\"\\$(n2.center)+(0,-1.25em)\\$\",CompCat.Diagram.TikZ.PathOperation(\"to\",CompCat.Diagram.TikZ.Property[CompCat.Diagram.TikZ.Property(\"out\",\"270\"),CompCat.Diagram.TikZ.Property(\"in\",\"180\")]),CompCat.Diagram.TikZ.Property[],#NULL)],CompCat.Diagram.TikZ.Property[]))],CompCat.Diagram.TikZ.Property[CompCat.Diagram.TikZ.Property(\"remember picture\",#NULL),CompCat.Diagram.TikZ.Property(\"font\",\"{\\\\fontsize{12}{14.4}}\"),CompCat.Diagram.TikZ.Property(\"morphism node/.style\",\"{draw,solid,inner sep=0.333em}\"),CompCat.Diagram.TikZ.Property(\"monoid node/.style\",\"{draw,fill,circle,minimum size=0.333em}\"),CompCat.Diagram.TikZ.Property(\"container/.style\",\"{inner sep=0}\"),CompCat.Diagram.TikZ.Property(\"every path/.style\",\"{solid, line width=0.4pt}\"),CompCat.Diagram.TikZ.Property(\"execute at begin node\",\"\\$\"),CompCat.Diagram.TikZ.Property(\"execute at end node\",\"\\$\")])"
      ]
     },
     "execution_count": 18,
     "metadata": {},
     "output_type": "execute_result"
    }
   ],
   "source": [
    "diagram(coev(A), labels=true)"
   ]
  },
  {
   "cell_type": "code",
   "execution_count": 19,
   "metadata": {
    "collapsed": false
   },
   "outputs": [
    {
     "data": {
      "text/latex": [
       "$f \\left(\\mathrm{coev}_{A} \\otimes \\mathrm{id}_{B}\\right) \\left(\\mathrm{id}_{A^{*}} \\otimes h\\right) \\left(\\sigma_{A^{*},A} \\otimes \\mathrm{id}_{B}\\right) \\left(\\mathrm{ev}_{A} \\otimes \\mathrm{id}_{B}\\right) g : A \\to A$"
      ],
      "text/plain": [
       "CompCat.Syntax.MorExpr(:compose,CompCat.Syntax.MorExpr[CompCat.Syntax.MorExpr(:gen,Any[:f,CompCat.Syntax.ObExpr(:gen,Symbol[:A]),CompCat.Syntax.ObExpr(:gen,Symbol[:B])]),CompCat.Syntax.MorExpr(:otimes,CompCat.Syntax.MorExpr[CompCat.Syntax.MorExpr(:coeval,CompCat.Syntax.ObExpr[CompCat.Syntax.ObExpr(:gen,Symbol[:A])]),CompCat.Syntax.MorExpr(:id,CompCat.Syntax.ObExpr[CompCat.Syntax.ObExpr(:gen,Symbol[:B])])]),CompCat.Syntax.MorExpr(:otimes,CompCat.Syntax.MorExpr[CompCat.Syntax.MorExpr(:id,CompCat.Syntax.ObExpr[CompCat.Syntax.ObExpr(:dual,CompCat.Syntax.ObExpr[CompCat.Syntax.ObExpr(:gen,Symbol[:A])])]),CompCat.Syntax.MorExpr(:gen,Any[:h,CompCat.Syntax.ObExpr(:otimes,CompCat.Syntax.ObExpr[CompCat.Syntax.ObExpr(:gen,Symbol[:A]),CompCat.Syntax.ObExpr(:gen,Symbol[:B])]),CompCat.Syntax.ObExpr(:otimes,CompCat.Syntax.ObExpr[CompCat.Syntax.ObExpr(:gen,Symbol[:A]),CompCat.Syntax.ObExpr(:gen,Symbol[:B])])])]),CompCat.Syntax.MorExpr(:otimes,CompCat.Syntax.MorExpr[CompCat.Syntax.MorExpr(:braid,CompCat.Syntax.ObExpr[CompCat.Syntax.ObExpr(:dual,CompCat.Syntax.ObExpr[CompCat.Syntax.ObExpr(:gen,Symbol[:A])]),CompCat.Syntax.ObExpr(:gen,Symbol[:A])]),CompCat.Syntax.MorExpr(:id,CompCat.Syntax.ObExpr[CompCat.Syntax.ObExpr(:gen,Symbol[:B])])]),CompCat.Syntax.MorExpr(:otimes,CompCat.Syntax.MorExpr[CompCat.Syntax.MorExpr(:eval,CompCat.Syntax.ObExpr[CompCat.Syntax.ObExpr(:gen,Symbol[:A])]),CompCat.Syntax.MorExpr(:id,CompCat.Syntax.ObExpr[CompCat.Syntax.ObExpr(:gen,Symbol[:B])])]),CompCat.Syntax.MorExpr(:gen,Any[:g,CompCat.Syntax.ObExpr(:gen,Symbol[:B]),CompCat.Syntax.ObExpr(:gen,Symbol[:A])])])"
      ]
     },
     "execution_count": 19,
     "metadata": {},
     "output_type": "execute_result"
    }
   ],
   "source": [
    "trace = compose(\n",
    "    f,\n",
    "    otimes(coev(A), id(B)),\n",
    "    otimes(id(dual(A)), h),\n",
    "    otimes(braid(dual(A),A), id(B)),\n",
    "    otimes(ev(A), id(B)),\n",
    "    g\n",
    ")"
   ]
  },
  {
   "cell_type": "code",
   "execution_count": 20,
   "metadata": {
    "collapsed": false
   },
   "outputs": [
    {
     "data": {
      "image/svg+xml": [
       "<?xml version=\"1.0\" encoding=\"UTF-8\"?>\n",
       "<svg xmlns=\"http://www.w3.org/2000/svg\" xmlns:xlink=\"http://www.w3.org/1999/xlink\" width=\"220.044pt\" height=\"84.483pt\" viewBox=\"0 0 220.044 84.483\" version=\"1.1\">\n",
       "<defs>\n",
       "<g>\n",
       "<symbol overflow=\"visible\" id=\"glyph-1489542186913255-0-0\">\n",
       "<path style=\"stroke:none;\" d=\"\"/>\n",
       "</symbol>\n",
       "<symbol overflow=\"visible\" id=\"glyph-1489542186913255-0-1\">\n",
       "<path style=\"stroke:none;\" d=\"M 5.328125 -4.8125 C 5.5625 -4.8125 5.671875 -4.8125 5.671875 -5.03125 C 5.671875 -5.15625 5.5625 -5.15625 5.359375 -5.15625 L 4.390625 -5.15625 C 4.609375 -6.390625 4.78125 -7.234375 4.875 -7.609375 C 4.953125 -7.90625 5.203125 -8.171875 5.515625 -8.171875 C 5.765625 -8.171875 6.015625 -8.0625 6.125 -7.953125 C 5.671875 -7.90625 5.515625 -7.5625 5.515625 -7.359375 C 5.515625 -7.125 5.703125 -6.984375 5.921875 -6.984375 C 6.171875 -6.984375 6.53125 -7.1875 6.53125 -7.640625 C 6.53125 -8.140625 6.03125 -8.421875 5.5 -8.421875 C 4.984375 -8.421875 4.484375 -8.03125 4.25 -7.5625 C 4.03125 -7.140625 3.90625 -6.71875 3.640625 -5.15625 L 2.828125 -5.15625 C 2.609375 -5.15625 2.484375 -5.15625 2.484375 -4.9375 C 2.484375 -4.8125 2.5625 -4.8125 2.796875 -4.8125 L 3.5625 -4.8125 C 3.34375 -3.6875 2.859375 -0.984375 2.578125 0.28125 C 2.375 1.328125 2.203125 2.203125 1.609375 2.203125 C 1.5625 2.203125 1.21875 2.203125 1 1.96875 C 1.609375 1.921875 1.609375 1.40625 1.609375 1.390625 C 1.609375 1.140625 1.4375 1 1.203125 1 C 0.96875 1 0.609375 1.203125 0.609375 1.65625 C 0.609375 2.171875 1.140625 2.4375 1.609375 2.4375 C 2.828125 2.4375 3.328125 0.25 3.453125 -0.34375 C 3.671875 -1.265625 4.25 -4.453125 4.3125 -4.8125 Z M 5.328125 -4.8125 \"/>\n",
       "</symbol>\n",
       "<symbol overflow=\"visible\" id=\"glyph-1489542186913255-0-2\">\n",
       "<path style=\"stroke:none;\" d=\"M 3.359375 -8 C 3.375 -8.046875 3.390625 -8.109375 3.390625 -8.171875 C 3.390625 -8.296875 3.28125 -8.296875 3.25 -8.296875 C 3.234375 -8.296875 2.65625 -8.25 2.59375 -8.234375 C 2.390625 -8.21875 2.21875 -8.203125 2 -8.1875 C 1.703125 -8.15625 1.609375 -8.15625 1.609375 -7.9375 C 1.609375 -7.8125 1.703125 -7.8125 1.875 -7.8125 C 2.46875 -7.8125 2.46875 -7.703125 2.46875 -7.59375 C 2.46875 -7.515625 2.453125 -7.421875 2.4375 -7.390625 L 0.703125 -0.46875 C 0.65625 -0.28125 0.65625 -0.265625 0.65625 -0.1875 C 0.65625 0.078125 0.859375 0.125 0.984375 0.125 C 1.1875 0.125 1.34375 -0.03125 1.40625 -0.171875 L 1.9375 -2.328125 C 2 -2.59375 2.0625 -2.84375 2.125 -3.109375 C 2.265625 -3.609375 2.265625 -3.625 2.484375 -3.96875 C 2.71875 -4.3125 3.25 -5.03125 4.171875 -5.03125 C 4.65625 -5.03125 4.8125 -4.671875 4.8125 -4.203125 C 4.8125 -3.53125 4.34375 -2.21875 4.09375 -1.5 C 3.984375 -1.21875 3.921875 -1.0625 3.921875 -0.84375 C 3.921875 -0.3125 4.296875 0.125 4.859375 0.125 C 5.96875 0.125 6.390625 -1.640625 6.390625 -1.703125 C 6.390625 -1.765625 6.34375 -1.8125 6.28125 -1.8125 C 6.171875 -1.8125 6.15625 -1.78125 6.09375 -1.578125 C 5.828125 -0.625 5.375 -0.125 4.90625 -0.125 C 4.78125 -0.125 4.59375 -0.125 4.59375 -0.515625 C 4.59375 -0.828125 4.734375 -1.203125 4.78125 -1.34375 C 5 -1.90625 5.53125 -3.328125 5.53125 -4.015625 C 5.53125 -4.734375 5.109375 -5.265625 4.203125 -5.265625 C 3.53125 -5.265625 2.921875 -4.953125 2.4375 -4.328125 Z M 3.359375 -8 \"/>\n",
       "</symbol>\n",
       "<symbol overflow=\"visible\" id=\"glyph-1489542186913255-0-3\">\n",
       "<path style=\"stroke:none;\" d=\"M 4.046875 -1.515625 C 4 -1.328125 3.96875 -1.28125 3.8125 -1.09375 C 3.328125 -0.46875 2.828125 -0.234375 2.453125 -0.234375 C 2.0625 -0.234375 1.6875 -0.546875 1.6875 -1.375 C 1.6875 -2.015625 2.046875 -3.34375 2.3125 -3.890625 C 2.65625 -4.546875 3.1875 -5.03125 3.6875 -5.03125 C 4.484375 -5.03125 4.640625 -4.046875 4.640625 -3.984375 L 4.609375 -3.8125 Z M 4.78125 -4.484375 C 4.625 -4.828125 4.296875 -5.265625 3.6875 -5.265625 C 2.390625 -5.265625 0.90625 -3.640625 0.90625 -1.859375 C 0.90625 -0.609375 1.65625 0 2.421875 0 C 3.0625 0 3.625 -0.5 3.84375 -0.734375 L 3.578125 0.328125 C 3.40625 0.984375 3.328125 1.296875 2.90625 1.703125 C 2.421875 2.203125 1.953125 2.203125 1.703125 2.203125 C 1.34375 2.203125 1.046875 2.171875 0.734375 2.078125 C 1.125 1.96875 1.21875 1.640625 1.21875 1.5 C 1.21875 1.3125 1.078125 1.125 0.8125 1.125 C 0.53125 1.125 0.21875 1.359375 0.21875 1.75 C 0.21875 2.25 0.703125 2.4375 1.71875 2.4375 C 3.265625 2.4375 4.0625 1.453125 4.21875 0.796875 L 5.546875 -4.546875 C 5.578125 -4.703125 5.578125 -4.71875 5.578125 -4.75 C 5.578125 -4.90625 5.453125 -5.046875 5.265625 -5.046875 C 4.984375 -5.046875 4.8125 -4.8125 4.78125 -4.484375 Z M 4.78125 -4.484375 \"/>\n",
       "</symbol>\n",
       "</g>\n",
       "<clipPath id=\"clip-1489542186913255-1\">\n",
       "  <path d=\"M 84 25 L 111 25 L 111 84.484375 L 84 84.484375 Z M 84 25 \"/>\n",
       "</clipPath>\n",
       "<clipPath id=\"clip-1489542186913255-2\">\n",
       "  <path d=\"M 189 36 L 220.042969 36 L 220.042969 48 L 189 48 Z M 189 36 \"/>\n",
       "</clipPath>\n",
       "</defs>\n",
       "<g id=\"surface1\">\n",
       "<path style=\"fill:none;stroke-width:0.3985;stroke-linecap:butt;stroke-linejoin:miter;stroke:rgb(0%,0%,0%);stroke-opacity:1;stroke-miterlimit:10;\" d=\"M 4.129594 11.260531 L 11.278031 10.002719 C 13.449906 9.619906 15.207719 7.526156 15.207719 5.323031 L 15.207719 -5.325406 C 15.207719 -7.524625 13.449906 -9.618375 11.278031 -10.001188 L 4.129594 -11.262906 C 1.957719 -11.645719 0.199906 -10.173063 0.199906 -7.969938 L 0.199906 7.971469 C 0.199906 10.170687 1.957719 11.643344 4.129594 11.260531 Z M 4.129594 11.260531 \" transform=\"matrix(1,0,0,-1,25.304,42.241)\"/>\n",
       "<g style=\"fill:rgb(0%,0%,0%);fill-opacity:1;\">\n",
       "  <use xlink:href=\"#glyph-1489542186913255-0-1\" x=\"29.485\" y=\"45.23\"/>\n",
       "</g>\n",
       "<path style=\"fill:none;stroke-width:0.3985;stroke-linecap:butt;stroke-linejoin:miter;stroke:rgb(0%,0%,0%);stroke-opacity:1;stroke-miterlimit:10;\" d=\"M -0.00190625 -0.0011875 C 9.59575 -0.0011875 15.009813 -0.0011875 24.607469 -0.0011875 \" transform=\"matrix(1,0,0,-1,0.498,42.241)\"/>\n",
       "<path style=\"fill:none;stroke-width:0.3985;stroke-linecap:butt;stroke-linejoin:miter;stroke:rgb(0%,0%,0%);stroke-opacity:1;stroke-miterlimit:10;\" d=\"M 40.412156 -0.0011875 C 55.568406 -0.0011875 49.869188 -30.087125 65.021531 -30.087125 \" transform=\"matrix(1,0,0,-1,0.498,42.241)\"/>\n",
       "<g clip-path=\"url(#clip-1489542186913255-1)\" clip-rule=\"nonzero\">\n",
       "<path style=\"fill:none;stroke-width:0.3985;stroke-linecap:butt;stroke-linejoin:miter;stroke:rgb(0%,0%,0%);stroke-opacity:1;stroke-miterlimit:10;\" d=\"M -3.421875 0.400313 L 3.421875 -0.806719 C 5.589844 -1.189531 7.351562 -3.283281 7.351562 -5.4825 L 7.351562 -46.127031 C 7.351562 -48.330156 5.589844 -50.423906 3.421875 -50.806719 L -3.421875 -52.01375 C -5.589844 -52.392656 -7.351562 -50.92 -7.351562 -48.720781 L -7.351562 -2.892656 C -7.351562 -0.689531 -5.589844 0.783125 -3.421875 0.400313 Z M -3.421875 0.400313 \" transform=\"matrix(1,0,0,-1,97.875,31.58)\"/>\n",
       "</g>\n",
       "<g style=\"fill:rgb(0%,0%,0%);fill-opacity:1;\">\n",
       "  <use xlink:href=\"#glyph-1489542186913255-0-2\" x=\"94.506\" y=\"61.536\"/>\n",
       "</g>\n",
       "<path style=\"fill:none;stroke-width:0.3985;stroke-linecap:butt;stroke-linejoin:miter;stroke:rgb(0%,0%,0%);stroke-opacity:1;stroke-miterlimit:10;\" d=\"M 65.021531 15.143344 C 65.021531 29.061312 83.459031 30.287875 97.377 30.287875 \" transform=\"matrix(1,0,0,-1,0.498,42.241)\"/>\n",
       "<path style=\"fill:none;stroke-width:0.3985;stroke-linecap:butt;stroke-linejoin:miter;stroke:rgb(0%,0%,0%);stroke-opacity:1;stroke-miterlimit:10;\" d=\"M 65.021531 15.143344 C 65.021531 3.830844 78.318406 -0.200406 89.630906 -0.200406 \" transform=\"matrix(1,0,0,-1,0.498,42.241)\"/>\n",
       "<path style=\"fill:none;stroke-width:0.3985;stroke-linecap:butt;stroke-linejoin:miter;stroke:rgb(0%,0%,0%);stroke-opacity:1;stroke-miterlimit:10;\" d=\"M 65.021531 -30.087125 C 74.619187 -30.087125 80.03325 -30.087125 89.630906 -30.087125 \" transform=\"matrix(1,0,0,-1,0.498,42.241)\"/>\n",
       "<path style=\"fill:none;stroke-width:0.3985;stroke-linecap:butt;stroke-linejoin:miter;stroke:rgb(0%,0%,0%);stroke-opacity:1;stroke-miterlimit:10;\" d=\"M 97.377 30.287875 C 111.294969 30.287875 119.892625 24.983187 129.736375 15.143344 \" transform=\"matrix(1,0,0,-1,0.498,42.241)\"/>\n",
       "<path style=\"fill:none;stroke-width:0.3985;stroke-linecap:butt;stroke-linejoin:miter;stroke:rgb(0%,0%,0%);stroke-opacity:1;stroke-miterlimit:10;\" d=\"M 105.127 -0.200406 C 116.4395 -0.200406 121.736375 7.143344 129.736375 15.143344 \" transform=\"matrix(1,0,0,-1,0.498,42.241)\"/>\n",
       "<path style=\"fill:none;stroke-width:0.3985;stroke-linecap:butt;stroke-linejoin:miter;stroke:rgb(0%,0%,0%);stroke-opacity:1;stroke-miterlimit:10;\" d=\"M 105.127 -30.087125 C 114.724656 -30.087125 120.138719 -30.087125 129.736375 -30.087125 \" transform=\"matrix(1,0,0,-1,0.498,42.241)\"/>\n",
       "<path style=\"fill:none;stroke-width:0.3985;stroke-linecap:butt;stroke-linejoin:miter;stroke:rgb(0%,0%,0%);stroke-opacity:1;stroke-miterlimit:10;\" d=\"M 129.736375 15.143344 C 136.712938 22.119906 155.041063 25.010531 155.041063 15.143344 \" transform=\"matrix(1,0,0,-1,0.498,42.241)\"/>\n",
       "<path style=\"fill:none;stroke-width:0.3985;stroke-linecap:butt;stroke-linejoin:miter;stroke:rgb(0%,0%,0%);stroke-opacity:1;stroke-miterlimit:10;\" d=\"M 129.736375 15.143344 C 136.712938 8.166781 155.041063 5.276156 155.041063 15.143344 \" transform=\"matrix(1,0,0,-1,0.498,42.241)\"/>\n",
       "<path style=\"fill:none;stroke-width:0.3985;stroke-linecap:butt;stroke-linejoin:miter;stroke:rgb(0%,0%,0%);stroke-opacity:1;stroke-miterlimit:10;\" d=\"M 129.736375 -30.087125 C 139.603563 -30.087125 145.173875 -30.087125 155.041063 -30.087125 \" transform=\"matrix(1,0,0,-1,0.498,42.241)\"/>\n",
       "<path style=\"fill:none;stroke-width:0.3985;stroke-linecap:butt;stroke-linejoin:miter;stroke:rgb(0%,0%,0%);stroke-opacity:1;stroke-miterlimit:10;\" d=\"M 4.129656 11.260531 L 10.266375 10.1785 C 12.43825 9.795687 14.196063 7.701937 14.196063 5.502719 L 14.196063 -5.501188 C 14.196063 -7.704313 12.43825 -9.798063 10.266375 -10.180875 L 4.129656 -11.262906 C 1.957781 -11.645719 0.199969 -10.173063 0.199969 -7.969938 L 0.199969 7.971469 C 0.199969 10.170687 1.957781 11.643344 4.129656 11.260531 Z M 4.129656 11.260531 \" transform=\"matrix(1,0,0,-1,180.343,42.241)\"/>\n",
       "<g style=\"fill:rgb(0%,0%,0%);fill-opacity:1;\">\n",
       "  <use xlink:href=\"#glyph-1489542186913255-0-3\" x=\"184.524\" y=\"43.653\"/>\n",
       "</g>\n",
       "<path style=\"fill:none;stroke-width:0.3985;stroke-linecap:butt;stroke-linejoin:miter;stroke:rgb(0%,0%,0%);stroke-opacity:1;stroke-miterlimit:10;\" d=\"M 155.041063 -30.087125 C 170.193406 -30.087125 164.494188 -0.0011875 179.650438 -0.0011875 \" transform=\"matrix(1,0,0,-1,0.498,42.241)\"/>\n",
       "<g clip-path=\"url(#clip-1489542186913255-2)\" clip-rule=\"nonzero\">\n",
       "<path style=\"fill:none;stroke-width:0.3985;stroke-linecap:butt;stroke-linejoin:miter;stroke:rgb(0%,0%,0%);stroke-opacity:1;stroke-miterlimit:10;\" d=\"M 194.443406 -0.0011875 C 204.037156 -0.0011875 209.455125 -0.0011875 219.048875 -0.0011875 \" transform=\"matrix(1,0,0,-1,0.498,42.241)\"/>\n",
       "</g>\n",
       "</g>\n",
       "</svg>\n",
       "\n"
      ],
      "text/plain": [
       "CompCat.Diagram.TikZ.Picture(CompCat.Diagram.TikZ.Statement[CompCat.Diagram.TikZ.Node(\"n\",CompCat.Diagram.TikZ.Property[CompCat.Diagram.TikZ.Property(\"container\",#NULL)],#NULL,CompCat.Diagram.TikZ.Picture(CompCat.Diagram.TikZ.Statement[CompCat.Diagram.TikZ.Node(\"n1\",CompCat.Diagram.TikZ.Property[CompCat.Diagram.TikZ.Property(\"minimum height\",\"2.0em\")],#NULL,\"\"),CompCat.Diagram.TikZ.Node(\"n2\",CompCat.Diagram.TikZ.Property[CompCat.Diagram.TikZ.Property(\"container\",#NULL),CompCat.Diagram.TikZ.Property(\"right=2em of n1)\",#NULL)],#NULL,CompCat.Diagram.TikZ.Picture(CompCat.Diagram.TikZ.Statement[CompCat.Diagram.TikZ.Node(\"n2 box\",CompCat.Diagram.TikZ.Property[CompCat.Diagram.TikZ.Property(\"morphism node\",#NULL),CompCat.Diagram.TikZ.Property(\"trapezium\",#NULL),CompCat.Diagram.TikZ.Property(\"trapezium angle\",\"80\"),CompCat.Diagram.TikZ.Property(\"trapezium stretches body\",#NULL),CompCat.Diagram.TikZ.Property(\"shape border rotate\",\"270\"),CompCat.Diagram.TikZ.Property(\"rounded corners\",#NULL),CompCat.Diagram.TikZ.Property(\"minimum width\",\"2.0em\")],#NULL,\"f\")],CompCat.Diagram.TikZ.Property[])),CompCat.Diagram.TikZ.Edge(\"n1.center\",\"n2.west\",CompCat.Diagram.TikZ.PathOperation(\"to\",CompCat.Diagram.TikZ.Property[CompCat.Diagram.TikZ.Property(\"out\",\"0\"),CompCat.Diagram.TikZ.Property(\"in\",\"180\")]),CompCat.Diagram.TikZ.Property[],#NULL),CompCat.Diagram.TikZ.Node(\"n3\",CompCat.Diagram.TikZ.Property[CompCat.Diagram.TikZ.Property(\"container\",#NULL),CompCat.Diagram.TikZ.Property(\"right=2em of n2)\",#NULL)],#NULL,CompCat.Diagram.TikZ.Picture(CompCat.Diagram.TikZ.Statement[CompCat.Diagram.TikZ.Node(\"n31\",CompCat.Diagram.TikZ.Property[CompCat.Diagram.TikZ.Property(\"minimum height\",\"4.5em\")],#NULL,\"\"),CompCat.Diagram.TikZ.Node(\"n32\",CompCat.Diagram.TikZ.Property[CompCat.Diagram.TikZ.Property(\"minimum height\",\"2.0em\"),CompCat.Diagram.TikZ.Property(\"below=0.5em of n31\",#NULL)],#NULL,\"\")],CompCat.Diagram.TikZ.Property[])),CompCat.Diagram.TikZ.Edge(\"n2.east\",\"n32.center\",CompCat.Diagram.TikZ.PathOperation(\"to\",CompCat.Diagram.TikZ.Property[CompCat.Diagram.TikZ.Property(\"out\",\"0\"),CompCat.Diagram.TikZ.Property(\"in\",\"180\")]),CompCat.Diagram.TikZ.Property[],#NULL),CompCat.Diagram.TikZ.Node(\"n4\",CompCat.Diagram.TikZ.Property[CompCat.Diagram.TikZ.Property(\"container\",#NULL),CompCat.Diagram.TikZ.Property(\"right=2em of n3)\",#NULL)],#NULL,CompCat.Diagram.TikZ.Picture(CompCat.Diagram.TikZ.Statement[CompCat.Diagram.TikZ.Node(\"n41\",CompCat.Diagram.TikZ.Property[CompCat.Diagram.TikZ.Property(\"minimum height\",\"2.0em\")],#NULL,\"\"),CompCat.Diagram.TikZ.Node(\"n42\",CompCat.Diagram.TikZ.Property[CompCat.Diagram.TikZ.Property(\"container\",#NULL),CompCat.Diagram.TikZ.Property(\"below=0.5em of n41\",#NULL)],#NULL,CompCat.Diagram.TikZ.Picture(CompCat.Diagram.TikZ.Statement[CompCat.Diagram.TikZ.Node(\"n42 box\",CompCat.Diagram.TikZ.Property[CompCat.Diagram.TikZ.Property(\"morphism node\",#NULL),CompCat.Diagram.TikZ.Property(\"trapezium\",#NULL),CompCat.Diagram.TikZ.Property(\"trapezium angle\",\"80\"),CompCat.Diagram.TikZ.Property(\"trapezium stretches body\",#NULL),CompCat.Diagram.TikZ.Property(\"shape border rotate\",\"270\"),CompCat.Diagram.TikZ.Property(\"rounded corners\",#NULL),CompCat.Diagram.TikZ.Property(\"minimum width\",\"4.5em\")],#NULL,\"h\")],CompCat.Diagram.TikZ.Property[]))],CompCat.Diagram.TikZ.Property[])),CompCat.Diagram.TikZ.Edge(\"n31.center\",\"n41.center\",CompCat.Diagram.TikZ.PathOperation(\"to\",CompCat.Diagram.TikZ.Property[CompCat.Diagram.TikZ.Property(\"out\",\"90\"),CompCat.Diagram.TikZ.Property(\"in\",\"180\")]),CompCat.Diagram.TikZ.Property[],#NULL),CompCat.Diagram.TikZ.Edge(\"n31.center\",\"\\$(n42.west)+(0,1.25em)\\$\",CompCat.Diagram.TikZ.PathOperation(\"to\",CompCat.Diagram.TikZ.Property[CompCat.Diagram.TikZ.Property(\"out\",\"270\"),CompCat.Diagram.TikZ.Property(\"in\",\"180\")]),CompCat.Diagram.TikZ.Property[],#NULL),CompCat.Diagram.TikZ.Edge(\"n32.center\",\"\\$(n42.west)+(0,-1.25em)\\$\",CompCat.Diagram.TikZ.PathOperation(\"to\",CompCat.Diagram.TikZ.Property[CompCat.Diagram.TikZ.Property(\"out\",\"0\"),CompCat.Diagram.TikZ.Property(\"in\",\"180\")]),CompCat.Diagram.TikZ.Property[],#NULL),CompCat.Diagram.TikZ.Node(\"n5\",CompCat.Diagram.TikZ.Property[CompCat.Diagram.TikZ.Property(\"container\",#NULL),CompCat.Diagram.TikZ.Property(\"right=2em of n4)\",#NULL)],#NULL,CompCat.Diagram.TikZ.Picture(CompCat.Diagram.TikZ.Statement[CompCat.Diagram.TikZ.Node(\"n51\",CompCat.Diagram.TikZ.Property[CompCat.Diagram.TikZ.Property(\"minimum height\",\"4.5em\")],#NULL,\"\"),CompCat.Diagram.TikZ.Node(\"n52\",CompCat.Diagram.TikZ.Property[CompCat.Diagram.TikZ.Property(\"minimum height\",\"2.0em\"),CompCat.Diagram.TikZ.Property(\"below=0.5em of n51\",#NULL)],#NULL,\"\")],CompCat.Diagram.TikZ.Property[]))  …  CompCat.Diagram.TikZ.Edge(\"\\$(n42.east)+(0,1.25em)\\$\",\"n51.center\",CompCat.Diagram.TikZ.PathOperation(\"to\",CompCat.Diagram.TikZ.Property[CompCat.Diagram.TikZ.Property(\"out\",\"0\"),CompCat.Diagram.TikZ.Property(\"in\",\"225\")]),CompCat.Diagram.TikZ.Property[],#NULL),CompCat.Diagram.TikZ.Edge(\"\\$(n42.east)+(0,-1.25em)\\$\",\"n52.center\",CompCat.Diagram.TikZ.PathOperation(\"to\",CompCat.Diagram.TikZ.Property[CompCat.Diagram.TikZ.Property(\"out\",\"0\"),CompCat.Diagram.TikZ.Property(\"in\",\"180\")]),CompCat.Diagram.TikZ.Property[],#NULL),CompCat.Diagram.TikZ.Node(\"n6\",CompCat.Diagram.TikZ.Property[CompCat.Diagram.TikZ.Property(\"container\",#NULL),CompCat.Diagram.TikZ.Property(\"right=2em of n5)\",#NULL)],#NULL,CompCat.Diagram.TikZ.Picture(CompCat.Diagram.TikZ.Statement[CompCat.Diagram.TikZ.Node(\"n61\",CompCat.Diagram.TikZ.Property[CompCat.Diagram.TikZ.Property(\"minimum height\",\"4.5em\")],#NULL,\"\"),CompCat.Diagram.TikZ.Node(\"n62\",CompCat.Diagram.TikZ.Property[CompCat.Diagram.TikZ.Property(\"minimum height\",\"2.0em\"),CompCat.Diagram.TikZ.Property(\"below=0.5em of n61\",#NULL)],#NULL,\"\")],CompCat.Diagram.TikZ.Property[])),CompCat.Diagram.TikZ.Edge(\"n51.center\",\"n61.center\",CompCat.Diagram.TikZ.PathOperation(\"to\",CompCat.Diagram.TikZ.Property[CompCat.Diagram.TikZ.Property(\"out\",\"45\"),CompCat.Diagram.TikZ.Property(\"in\",\"90\")]),CompCat.Diagram.TikZ.Property[],#NULL),CompCat.Diagram.TikZ.Edge(\"n51.center\",\"n61.center\",CompCat.Diagram.TikZ.PathOperation(\"to\",CompCat.Diagram.TikZ.Property[CompCat.Diagram.TikZ.Property(\"out\",\"315\"),CompCat.Diagram.TikZ.Property(\"in\",\"270\")]),CompCat.Diagram.TikZ.Property[],#NULL),CompCat.Diagram.TikZ.Edge(\"n52.center\",\"n62.center\",CompCat.Diagram.TikZ.PathOperation(\"to\",CompCat.Diagram.TikZ.Property[CompCat.Diagram.TikZ.Property(\"out\",\"0\"),CompCat.Diagram.TikZ.Property(\"in\",\"180\")]),CompCat.Diagram.TikZ.Property[],#NULL),CompCat.Diagram.TikZ.Node(\"n7\",CompCat.Diagram.TikZ.Property[CompCat.Diagram.TikZ.Property(\"container\",#NULL),CompCat.Diagram.TikZ.Property(\"right=2em of n6)\",#NULL)],#NULL,CompCat.Diagram.TikZ.Picture(CompCat.Diagram.TikZ.Statement[CompCat.Diagram.TikZ.Node(\"n7 box\",CompCat.Diagram.TikZ.Property[CompCat.Diagram.TikZ.Property(\"morphism node\",#NULL),CompCat.Diagram.TikZ.Property(\"trapezium\",#NULL),CompCat.Diagram.TikZ.Property(\"trapezium angle\",\"80\"),CompCat.Diagram.TikZ.Property(\"trapezium stretches body\",#NULL),CompCat.Diagram.TikZ.Property(\"shape border rotate\",\"270\"),CompCat.Diagram.TikZ.Property(\"rounded corners\",#NULL),CompCat.Diagram.TikZ.Property(\"minimum width\",\"2.0em\")],#NULL,\"g\")],CompCat.Diagram.TikZ.Property[])),CompCat.Diagram.TikZ.Edge(\"n62.center\",\"n7.west\",CompCat.Diagram.TikZ.PathOperation(\"to\",CompCat.Diagram.TikZ.Property[CompCat.Diagram.TikZ.Property(\"out\",\"0\"),CompCat.Diagram.TikZ.Property(\"in\",\"180\")]),CompCat.Diagram.TikZ.Property[],#NULL),CompCat.Diagram.TikZ.Node(\"n8\",CompCat.Diagram.TikZ.Property[CompCat.Diagram.TikZ.Property(\"minimum height\",\"2.0em\"),CompCat.Diagram.TikZ.Property(\"right=2em of n7)\",#NULL)],#NULL,\"\"),CompCat.Diagram.TikZ.Edge(\"n7.east\",\"n8.center\",CompCat.Diagram.TikZ.PathOperation(\"to\",CompCat.Diagram.TikZ.Property[CompCat.Diagram.TikZ.Property(\"out\",\"0\"),CompCat.Diagram.TikZ.Property(\"in\",\"180\")]),CompCat.Diagram.TikZ.Property[],#NULL)],CompCat.Diagram.TikZ.Property[]))],CompCat.Diagram.TikZ.Property[CompCat.Diagram.TikZ.Property(\"remember picture\",#NULL),CompCat.Diagram.TikZ.Property(\"font\",\"{\\\\fontsize{12}{14.4}}\"),CompCat.Diagram.TikZ.Property(\"morphism node/.style\",\"{draw,solid,inner sep=0.333em}\"),CompCat.Diagram.TikZ.Property(\"monoid node/.style\",\"{draw,fill,circle,minimum size=0.333em}\"),CompCat.Diagram.TikZ.Property(\"container/.style\",\"{inner sep=0}\"),CompCat.Diagram.TikZ.Property(\"every path/.style\",\"{solid, line width=0.4pt}\"),CompCat.Diagram.TikZ.Property(\"execute at begin node\",\"\\$\"),CompCat.Diagram.TikZ.Property(\"execute at end node\",\"\\$\")])"
      ]
     },
     "execution_count": 20,
     "metadata": {},
     "output_type": "execute_result"
    }
   ],
   "source": [
    "diagram(trace)"
   ]
  },
  {
   "cell_type": "markdown",
   "metadata": {},
   "source": [
    "## Dagger category"
   ]
  },
  {
   "cell_type": "code",
   "execution_count": 21,
   "metadata": {
    "collapsed": false
   },
   "outputs": [
    {
     "data": {
      "image/svg+xml": [
       "<?xml version=\"1.0\" encoding=\"UTF-8\"?>\n",
       "<svg xmlns=\"http://www.w3.org/2000/svg\" xmlns:xlink=\"http://www.w3.org/1999/xlink\" width=\"66.017pt\" height=\"24.309pt\" viewBox=\"0 0 66.017 24.309\" version=\"1.1\">\n",
       "<defs>\n",
       "<g>\n",
       "<symbol overflow=\"visible\" id=\"glyph-1489542186913256-0-0\">\n",
       "<path style=\"stroke:none;\" d=\"\"/>\n",
       "</symbol>\n",
       "<symbol overflow=\"visible\" id=\"glyph-1489542186913256-0-1\">\n",
       "<path style=\"stroke:none;\" d=\"M 5.328125 -4.8125 C 5.5625 -4.8125 5.671875 -4.8125 5.671875 -5.03125 C 5.671875 -5.15625 5.5625 -5.15625 5.359375 -5.15625 L 4.390625 -5.15625 C 4.609375 -6.390625 4.78125 -7.234375 4.875 -7.609375 C 4.953125 -7.90625 5.203125 -8.171875 5.515625 -8.171875 C 5.765625 -8.171875 6.015625 -8.0625 6.125 -7.953125 C 5.671875 -7.90625 5.515625 -7.5625 5.515625 -7.359375 C 5.515625 -7.125 5.703125 -6.984375 5.921875 -6.984375 C 6.171875 -6.984375 6.53125 -7.1875 6.53125 -7.640625 C 6.53125 -8.140625 6.03125 -8.421875 5.5 -8.421875 C 4.984375 -8.421875 4.484375 -8.03125 4.25 -7.5625 C 4.03125 -7.140625 3.90625 -6.71875 3.640625 -5.15625 L 2.828125 -5.15625 C 2.609375 -5.15625 2.484375 -5.15625 2.484375 -4.9375 C 2.484375 -4.8125 2.5625 -4.8125 2.796875 -4.8125 L 3.5625 -4.8125 C 3.34375 -3.6875 2.859375 -0.984375 2.578125 0.28125 C 2.375 1.328125 2.203125 2.203125 1.609375 2.203125 C 1.5625 2.203125 1.21875 2.203125 1 1.96875 C 1.609375 1.921875 1.609375 1.40625 1.609375 1.390625 C 1.609375 1.140625 1.4375 1 1.203125 1 C 0.96875 1 0.609375 1.203125 0.609375 1.65625 C 0.609375 2.171875 1.140625 2.4375 1.609375 2.4375 C 2.828125 2.4375 3.328125 0.25 3.453125 -0.34375 C 3.671875 -1.265625 4.25 -4.453125 4.3125 -4.8125 Z M 5.328125 -4.8125 \"/>\n",
       "</symbol>\n",
       "<symbol overflow=\"visible\" id=\"glyph-1489542186913256-0-2\">\n",
       "<path style=\"stroke:none;\" d=\"M 2.03125 -1.328125 C 1.609375 -0.625 1.203125 -0.375 0.640625 -0.34375 C 0.5 -0.328125 0.40625 -0.328125 0.40625 -0.125 C 0.40625 -0.046875 0.46875 0 0.546875 0 C 0.765625 0 1.296875 -0.03125 1.515625 -0.03125 C 1.859375 -0.03125 2.25 0 2.578125 0 C 2.65625 0 2.796875 0 2.796875 -0.234375 C 2.796875 -0.328125 2.703125 -0.34375 2.625 -0.34375 C 2.359375 -0.375 2.125 -0.46875 2.125 -0.75 C 2.125 -0.921875 2.203125 -1.046875 2.359375 -1.3125 L 3.265625 -2.828125 L 6.3125 -2.828125 C 6.328125 -2.71875 6.328125 -2.625 6.328125 -2.515625 C 6.375 -2.203125 6.515625 -0.953125 6.515625 -0.734375 C 6.515625 -0.375 5.90625 -0.34375 5.71875 -0.34375 C 5.578125 -0.34375 5.453125 -0.34375 5.453125 -0.125 C 5.453125 0 5.5625 0 5.625 0 C 5.828125 0 6.078125 -0.03125 6.28125 -0.03125 L 6.953125 -0.03125 C 7.6875 -0.03125 8.21875 0 8.21875 0 C 8.3125 0 8.4375 0 8.4375 -0.234375 C 8.4375 -0.34375 8.328125 -0.34375 8.15625 -0.34375 C 7.5 -0.34375 7.484375 -0.453125 7.453125 -0.8125 L 6.71875 -8.265625 C 6.6875 -8.515625 6.640625 -8.53125 6.515625 -8.53125 C 6.390625 -8.53125 6.328125 -8.515625 6.21875 -8.328125 Z M 3.46875 -3.171875 L 5.875 -7.1875 L 6.28125 -3.171875 Z M 3.46875 -3.171875 \"/>\n",
       "</symbol>\n",
       "<symbol overflow=\"visible\" id=\"glyph-1489542186913256-0-3\">\n",
       "<path style=\"stroke:none;\" d=\"M 4.375 -7.34375 C 4.484375 -7.796875 4.53125 -7.8125 5 -7.8125 L 6.546875 -7.8125 C 7.90625 -7.8125 7.90625 -6.671875 7.90625 -6.5625 C 7.90625 -5.59375 6.9375 -4.359375 5.359375 -4.359375 L 3.640625 -4.359375 Z M 6.390625 -4.265625 C 7.703125 -4.5 8.875 -5.421875 8.875 -6.515625 C 8.875 -7.453125 8.0625 -8.15625 6.703125 -8.15625 L 2.875 -8.15625 C 2.640625 -8.15625 2.53125 -8.15625 2.53125 -7.9375 C 2.53125 -7.8125 2.640625 -7.8125 2.828125 -7.8125 C 3.546875 -7.8125 3.546875 -7.71875 3.546875 -7.59375 C 3.546875 -7.5625 3.546875 -7.5 3.5 -7.3125 L 1.890625 -0.890625 C 1.78125 -0.46875 1.75 -0.34375 0.921875 -0.34375 C 0.6875 -0.34375 0.578125 -0.34375 0.578125 -0.125 C 0.578125 0 0.640625 0 0.890625 0 L 4.984375 0 C 6.8125 0 8.21875 -1.390625 8.21875 -2.59375 C 8.21875 -3.578125 7.359375 -4.171875 6.390625 -4.265625 Z M 4.703125 -0.34375 L 3.078125 -0.34375 C 2.921875 -0.34375 2.890625 -0.34375 2.828125 -0.359375 C 2.6875 -0.375 2.671875 -0.390625 2.671875 -0.484375 C 2.671875 -0.578125 2.703125 -0.640625 2.71875 -0.75 L 3.5625 -4.125 L 5.8125 -4.125 C 7.21875 -4.125 7.21875 -2.8125 7.21875 -2.71875 C 7.21875 -1.5625 6.1875 -0.34375 4.703125 -0.34375 Z M 4.703125 -0.34375 \"/>\n",
       "</symbol>\n",
       "</g>\n",
       "<clipPath id=\"clip-1489542186913256-1\">\n",
       "  <path d=\"M 19 0 L 47 0 L 47 24.308594 L 19 24.308594 Z M 19 0 \"/>\n",
       "</clipPath>\n",
       "<clipPath id=\"clip-1489542186913256-2\">\n",
       "  <path d=\"M 35 6 L 66.015625 6 L 66.015625 18 L 35 18 Z M 35 6 \"/>\n",
       "</clipPath>\n",
       "</defs>\n",
       "<g id=\"surface1\">\n",
       "<g clip-path=\"url(#clip-1489542186913256-1)\" clip-rule=\"nonzero\">\n",
       "<path style=\"fill:none;stroke-width:0.3985;stroke-linecap:butt;stroke-linejoin:miter;stroke:rgb(0%,0%,0%);stroke-opacity:1;stroke-miterlimit:10;\" d=\"M 4.129594 11.263375 L 11.278031 10.001656 C 13.449906 9.618844 15.207719 7.525094 15.207719 5.321969 L 15.207719 -5.326469 C 15.207719 -7.525688 13.449906 -9.619438 11.278031 -10.00225 L 4.129594 -11.263969 C 1.957719 -11.646781 0.199906 -10.170219 0.199906 -7.971 L 0.199906 7.970406 C 0.199906 10.169625 1.957719 11.646187 4.129594 11.263375 Z M 4.129594 11.263375 \" transform=\"matrix(1,0,0,-1,25.304,12.154)\"/>\n",
       "</g>\n",
       "<g style=\"fill:rgb(0%,0%,0%);fill-opacity:1;\">\n",
       "  <use xlink:href=\"#glyph-1489542186913256-0-1\" x=\"29.485\" y=\"15.143\"/>\n",
       "</g>\n",
       "<path style=\"fill:none;stroke-width:0.3985;stroke-linecap:butt;stroke-linejoin:miter;stroke:rgb(0%,0%,0%);stroke-opacity:1;stroke-miterlimit:10;\" d=\"M -0.00190625 -0.00125 C 9.59575 -0.00125 15.009813 -0.00125 24.607469 -0.00125 \" transform=\"matrix(1,0,0,-1,0.498,12.155)\"/>\n",
       "<g style=\"fill:rgb(0%,0%,0%);fill-opacity:1;\">\n",
       "  <use xlink:href=\"#glyph-1489542186913256-0-2\" x=\"8.414\" y=\"8.967\"/>\n",
       "</g>\n",
       "<g clip-path=\"url(#clip-1489542186913256-2)\" clip-rule=\"nonzero\">\n",
       "<path style=\"fill:none;stroke-width:0.3985;stroke-linecap:butt;stroke-linejoin:miter;stroke:rgb(0%,0%,0%);stroke-opacity:1;stroke-miterlimit:10;\" d=\"M 40.412156 -0.00125 C 50.009813 -0.00125 55.423875 -0.00125 65.021531 -0.00125 \" transform=\"matrix(1,0,0,-1,0.498,12.155)\"/>\n",
       "</g>\n",
       "<g style=\"fill:rgb(0%,0%,0%);fill-opacity:1;\">\n",
       "  <use xlink:href=\"#glyph-1489542186913256-0-3\" x=\"48.467\" y=\"8.967\"/>\n",
       "</g>\n",
       "</g>\n",
       "</svg>\n",
       "\n"
      ],
      "text/plain": [
       "CompCat.Diagram.TikZ.Picture(CompCat.Diagram.TikZ.Statement[CompCat.Diagram.TikZ.Node(\"n\",CompCat.Diagram.TikZ.Property[CompCat.Diagram.TikZ.Property(\"container\",#NULL)],#NULL,CompCat.Diagram.TikZ.Picture(CompCat.Diagram.TikZ.Statement[CompCat.Diagram.TikZ.Node(\"n1\",CompCat.Diagram.TikZ.Property[CompCat.Diagram.TikZ.Property(\"minimum height\",\"2.0em\")],#NULL,\"\"),CompCat.Diagram.TikZ.Node(\"n2\",CompCat.Diagram.TikZ.Property[CompCat.Diagram.TikZ.Property(\"container\",#NULL),CompCat.Diagram.TikZ.Property(\"right=2em of n1)\",#NULL)],#NULL,CompCat.Diagram.TikZ.Picture(CompCat.Diagram.TikZ.Statement[CompCat.Diagram.TikZ.Node(\"n2 box\",CompCat.Diagram.TikZ.Property[CompCat.Diagram.TikZ.Property(\"morphism node\",#NULL),CompCat.Diagram.TikZ.Property(\"trapezium\",#NULL),CompCat.Diagram.TikZ.Property(\"trapezium angle\",\"80\"),CompCat.Diagram.TikZ.Property(\"trapezium stretches body\",#NULL),CompCat.Diagram.TikZ.Property(\"shape border rotate\",\"270\"),CompCat.Diagram.TikZ.Property(\"rounded corners\",#NULL),CompCat.Diagram.TikZ.Property(\"minimum width\",\"2.0em\")],#NULL,\"f\")],CompCat.Diagram.TikZ.Property[])),CompCat.Diagram.TikZ.Edge(\"n1.center\",\"n2.west\",CompCat.Diagram.TikZ.PathOperation(\"to\",CompCat.Diagram.TikZ.Property[CompCat.Diagram.TikZ.Property(\"out\",\"0\"),CompCat.Diagram.TikZ.Property(\"in\",\"180\")]),CompCat.Diagram.TikZ.Property[],CompCat.Diagram.TikZ.EdgeNode(CompCat.Diagram.TikZ.Property[CompCat.Diagram.TikZ.Property(\"above\",\"0.25em\"),CompCat.Diagram.TikZ.Property(\"midway\",#NULL)],\"A\")),CompCat.Diagram.TikZ.Node(\"n3\",CompCat.Diagram.TikZ.Property[CompCat.Diagram.TikZ.Property(\"minimum height\",\"2.0em\"),CompCat.Diagram.TikZ.Property(\"right=2em of n2)\",#NULL)],#NULL,\"\"),CompCat.Diagram.TikZ.Edge(\"n2.east\",\"n3.center\",CompCat.Diagram.TikZ.PathOperation(\"to\",CompCat.Diagram.TikZ.Property[CompCat.Diagram.TikZ.Property(\"out\",\"0\"),CompCat.Diagram.TikZ.Property(\"in\",\"180\")]),CompCat.Diagram.TikZ.Property[],CompCat.Diagram.TikZ.EdgeNode(CompCat.Diagram.TikZ.Property[CompCat.Diagram.TikZ.Property(\"above\",\"0.25em\"),CompCat.Diagram.TikZ.Property(\"midway\",#NULL)],\"B\"))],CompCat.Diagram.TikZ.Property[]))],CompCat.Diagram.TikZ.Property[CompCat.Diagram.TikZ.Property(\"remember picture\",#NULL),CompCat.Diagram.TikZ.Property(\"font\",\"{\\\\fontsize{12}{14.4}}\"),CompCat.Diagram.TikZ.Property(\"morphism node/.style\",\"{draw,solid,inner sep=0.333em}\"),CompCat.Diagram.TikZ.Property(\"monoid node/.style\",\"{draw,fill,circle,minimum size=0.333em}\"),CompCat.Diagram.TikZ.Property(\"container/.style\",\"{inner sep=0}\"),CompCat.Diagram.TikZ.Property(\"every path/.style\",\"{solid, line width=0.4pt}\"),CompCat.Diagram.TikZ.Property(\"execute at begin node\",\"\\$\"),CompCat.Diagram.TikZ.Property(\"execute at end node\",\"\\$\")])"
      ]
     },
     "metadata": {},
     "output_type": "display_data"
    },
    {
     "data": {
      "image/svg+xml": [
       "<?xml version=\"1.0\" encoding=\"UTF-8\"?>\n",
       "<svg xmlns=\"http://www.w3.org/2000/svg\" xmlns:xlink=\"http://www.w3.org/1999/xlink\" width=\"66.017pt\" height=\"24.309pt\" viewBox=\"0 0 66.017 24.309\" version=\"1.1\">\n",
       "<defs>\n",
       "<g>\n",
       "<symbol overflow=\"visible\" id=\"glyph-1489542186913257-0-0\">\n",
       "<path style=\"stroke:none;\" d=\"\"/>\n",
       "</symbol>\n",
       "<symbol overflow=\"visible\" id=\"glyph-1489542186913257-0-1\">\n",
       "<path style=\"stroke:none;\" d=\"M 5.328125 -4.8125 C 5.5625 -4.8125 5.671875 -4.8125 5.671875 -5.03125 C 5.671875 -5.15625 5.5625 -5.15625 5.359375 -5.15625 L 4.390625 -5.15625 C 4.609375 -6.390625 4.78125 -7.234375 4.875 -7.609375 C 4.953125 -7.90625 5.203125 -8.171875 5.515625 -8.171875 C 5.765625 -8.171875 6.015625 -8.0625 6.125 -7.953125 C 5.671875 -7.90625 5.515625 -7.5625 5.515625 -7.359375 C 5.515625 -7.125 5.703125 -6.984375 5.921875 -6.984375 C 6.171875 -6.984375 6.53125 -7.1875 6.53125 -7.640625 C 6.53125 -8.140625 6.03125 -8.421875 5.5 -8.421875 C 4.984375 -8.421875 4.484375 -8.03125 4.25 -7.5625 C 4.03125 -7.140625 3.90625 -6.71875 3.640625 -5.15625 L 2.828125 -5.15625 C 2.609375 -5.15625 2.484375 -5.15625 2.484375 -4.9375 C 2.484375 -4.8125 2.5625 -4.8125 2.796875 -4.8125 L 3.5625 -4.8125 C 3.34375 -3.6875 2.859375 -0.984375 2.578125 0.28125 C 2.375 1.328125 2.203125 2.203125 1.609375 2.203125 C 1.5625 2.203125 1.21875 2.203125 1 1.96875 C 1.609375 1.921875 1.609375 1.40625 1.609375 1.390625 C 1.609375 1.140625 1.4375 1 1.203125 1 C 0.96875 1 0.609375 1.203125 0.609375 1.65625 C 0.609375 2.171875 1.140625 2.4375 1.609375 2.4375 C 2.828125 2.4375 3.328125 0.25 3.453125 -0.34375 C 3.671875 -1.265625 4.25 -4.453125 4.3125 -4.8125 Z M 5.328125 -4.8125 \"/>\n",
       "</symbol>\n",
       "<symbol overflow=\"visible\" id=\"glyph-1489542186913257-0-2\">\n",
       "<path style=\"stroke:none;\" d=\"M 4.375 -7.34375 C 4.484375 -7.796875 4.53125 -7.8125 5 -7.8125 L 6.546875 -7.8125 C 7.90625 -7.8125 7.90625 -6.671875 7.90625 -6.5625 C 7.90625 -5.59375 6.9375 -4.359375 5.359375 -4.359375 L 3.640625 -4.359375 Z M 6.390625 -4.265625 C 7.703125 -4.5 8.875 -5.421875 8.875 -6.515625 C 8.875 -7.453125 8.0625 -8.15625 6.703125 -8.15625 L 2.875 -8.15625 C 2.640625 -8.15625 2.53125 -8.15625 2.53125 -7.9375 C 2.53125 -7.8125 2.640625 -7.8125 2.828125 -7.8125 C 3.546875 -7.8125 3.546875 -7.71875 3.546875 -7.59375 C 3.546875 -7.5625 3.546875 -7.5 3.5 -7.3125 L 1.890625 -0.890625 C 1.78125 -0.46875 1.75 -0.34375 0.921875 -0.34375 C 0.6875 -0.34375 0.578125 -0.34375 0.578125 -0.125 C 0.578125 0 0.640625 0 0.890625 0 L 4.984375 0 C 6.8125 0 8.21875 -1.390625 8.21875 -2.59375 C 8.21875 -3.578125 7.359375 -4.171875 6.390625 -4.265625 Z M 4.703125 -0.34375 L 3.078125 -0.34375 C 2.921875 -0.34375 2.890625 -0.34375 2.828125 -0.359375 C 2.6875 -0.375 2.671875 -0.390625 2.671875 -0.484375 C 2.671875 -0.578125 2.703125 -0.640625 2.71875 -0.75 L 3.5625 -4.125 L 5.8125 -4.125 C 7.21875 -4.125 7.21875 -2.8125 7.21875 -2.71875 C 7.21875 -1.5625 6.1875 -0.34375 4.703125 -0.34375 Z M 4.703125 -0.34375 \"/>\n",
       "</symbol>\n",
       "<symbol overflow=\"visible\" id=\"glyph-1489542186913257-0-3\">\n",
       "<path style=\"stroke:none;\" d=\"M 2.03125 -1.328125 C 1.609375 -0.625 1.203125 -0.375 0.640625 -0.34375 C 0.5 -0.328125 0.40625 -0.328125 0.40625 -0.125 C 0.40625 -0.046875 0.46875 0 0.546875 0 C 0.765625 0 1.296875 -0.03125 1.515625 -0.03125 C 1.859375 -0.03125 2.25 0 2.578125 0 C 2.65625 0 2.796875 0 2.796875 -0.234375 C 2.796875 -0.328125 2.703125 -0.34375 2.625 -0.34375 C 2.359375 -0.375 2.125 -0.46875 2.125 -0.75 C 2.125 -0.921875 2.203125 -1.046875 2.359375 -1.3125 L 3.265625 -2.828125 L 6.3125 -2.828125 C 6.328125 -2.71875 6.328125 -2.625 6.328125 -2.515625 C 6.375 -2.203125 6.515625 -0.953125 6.515625 -0.734375 C 6.515625 -0.375 5.90625 -0.34375 5.71875 -0.34375 C 5.578125 -0.34375 5.453125 -0.34375 5.453125 -0.125 C 5.453125 0 5.5625 0 5.625 0 C 5.828125 0 6.078125 -0.03125 6.28125 -0.03125 L 6.953125 -0.03125 C 7.6875 -0.03125 8.21875 0 8.21875 0 C 8.3125 0 8.4375 0 8.4375 -0.234375 C 8.4375 -0.34375 8.328125 -0.34375 8.15625 -0.34375 C 7.5 -0.34375 7.484375 -0.453125 7.453125 -0.8125 L 6.71875 -8.265625 C 6.6875 -8.515625 6.640625 -8.53125 6.515625 -8.53125 C 6.390625 -8.53125 6.328125 -8.515625 6.21875 -8.328125 Z M 3.46875 -3.171875 L 5.875 -7.1875 L 6.28125 -3.171875 Z M 3.46875 -3.171875 \"/>\n",
       "</symbol>\n",
       "</g>\n",
       "<clipPath id=\"clip-1489542186913257-1\">\n",
       "  <path d=\"M 19 0 L 47 0 L 47 24.308594 L 19 24.308594 Z M 19 0 \"/>\n",
       "</clipPath>\n",
       "<clipPath id=\"clip-1489542186913257-2\">\n",
       "  <path d=\"M 35 6 L 66.015625 6 L 66.015625 18 L 35 18 Z M 35 6 \"/>\n",
       "</clipPath>\n",
       "</defs>\n",
       "<g id=\"surface1\">\n",
       "<g clip-path=\"url(#clip-1489542186913257-1)\" clip-rule=\"nonzero\">\n",
       "<path style=\"fill:none;stroke-width:0.3985;stroke-linecap:butt;stroke-linejoin:miter;stroke:rgb(0%,0%,0%);stroke-opacity:1;stroke-miterlimit:10;\" d=\"M 11.281937 -11.263969 L 4.129594 -10.00225 C 1.957719 -9.619438 0.199906 -7.525688 0.199906 -5.326469 L 0.199906 5.321969 C 0.199906 7.525094 1.957719 9.618844 4.129594 10.001656 L 11.281937 11.263375 C 13.449906 11.646187 15.207719 10.169625 15.207719 7.970406 L 15.207719 -7.971 C 15.207719 -10.170219 13.449906 -11.646781 11.281937 -11.263969 Z M 11.281937 -11.263969 \" transform=\"matrix(1,0,0,-1,25.304,12.154)\"/>\n",
       "</g>\n",
       "<g style=\"fill:rgb(0%,0%,0%);fill-opacity:1;\">\n",
       "  <use xlink:href=\"#glyph-1489542186913257-0-1\" x=\"29.485\" y=\"15.143\"/>\n",
       "</g>\n",
       "<path style=\"fill:none;stroke-width:0.3985;stroke-linecap:butt;stroke-linejoin:miter;stroke:rgb(0%,0%,0%);stroke-opacity:1;stroke-miterlimit:10;\" d=\"M -0.00190625 -0.00125 C 9.59575 -0.00125 15.009813 -0.00125 24.607469 -0.00125 \" transform=\"matrix(1,0,0,-1,0.498,12.155)\"/>\n",
       "<g style=\"fill:rgb(0%,0%,0%);fill-opacity:1;\">\n",
       "  <use xlink:href=\"#glyph-1489542186913257-0-2\" x=\"8.054\" y=\"8.967\"/>\n",
       "</g>\n",
       "<g clip-path=\"url(#clip-1489542186913257-2)\" clip-rule=\"nonzero\">\n",
       "<path style=\"fill:none;stroke-width:0.3985;stroke-linecap:butt;stroke-linejoin:miter;stroke:rgb(0%,0%,0%);stroke-opacity:1;stroke-miterlimit:10;\" d=\"M 40.412156 -0.00125 C 50.009813 -0.00125 55.423875 -0.00125 65.021531 -0.00125 \" transform=\"matrix(1,0,0,-1,0.498,12.155)\"/>\n",
       "</g>\n",
       "<g style=\"fill:rgb(0%,0%,0%);fill-opacity:1;\">\n",
       "  <use xlink:href=\"#glyph-1489542186913257-0-3\" x=\"48.827\" y=\"8.967\"/>\n",
       "</g>\n",
       "</g>\n",
       "</svg>\n",
       "\n"
      ],
      "text/plain": [
       "CompCat.Diagram.TikZ.Picture(CompCat.Diagram.TikZ.Statement[CompCat.Diagram.TikZ.Node(\"n\",CompCat.Diagram.TikZ.Property[CompCat.Diagram.TikZ.Property(\"container\",#NULL)],#NULL,CompCat.Diagram.TikZ.Picture(CompCat.Diagram.TikZ.Statement[CompCat.Diagram.TikZ.Node(\"n1\",CompCat.Diagram.TikZ.Property[CompCat.Diagram.TikZ.Property(\"minimum height\",\"2.0em\")],#NULL,\"\"),CompCat.Diagram.TikZ.Node(\"n2\",CompCat.Diagram.TikZ.Property[CompCat.Diagram.TikZ.Property(\"container\",#NULL),CompCat.Diagram.TikZ.Property(\"right=2em of n1)\",#NULL)],#NULL,CompCat.Diagram.TikZ.Picture(CompCat.Diagram.TikZ.Statement[CompCat.Diagram.TikZ.Node(\"n2 box\",CompCat.Diagram.TikZ.Property[CompCat.Diagram.TikZ.Property(\"morphism node\",#NULL),CompCat.Diagram.TikZ.Property(\"trapezium\",#NULL),CompCat.Diagram.TikZ.Property(\"trapezium angle\",\"80\"),CompCat.Diagram.TikZ.Property(\"trapezium stretches body\",#NULL),CompCat.Diagram.TikZ.Property(\"shape border rotate\",\"90\"),CompCat.Diagram.TikZ.Property(\"rounded corners\",#NULL),CompCat.Diagram.TikZ.Property(\"minimum width\",\"2.0em\")],#NULL,\"f\")],CompCat.Diagram.TikZ.Property[])),CompCat.Diagram.TikZ.Edge(\"n1.center\",\"n2.west\",CompCat.Diagram.TikZ.PathOperation(\"to\",CompCat.Diagram.TikZ.Property[CompCat.Diagram.TikZ.Property(\"out\",\"0\"),CompCat.Diagram.TikZ.Property(\"in\",\"180\")]),CompCat.Diagram.TikZ.Property[],CompCat.Diagram.TikZ.EdgeNode(CompCat.Diagram.TikZ.Property[CompCat.Diagram.TikZ.Property(\"above\",\"0.25em\"),CompCat.Diagram.TikZ.Property(\"midway\",#NULL)],\"B\")),CompCat.Diagram.TikZ.Node(\"n3\",CompCat.Diagram.TikZ.Property[CompCat.Diagram.TikZ.Property(\"minimum height\",\"2.0em\"),CompCat.Diagram.TikZ.Property(\"right=2em of n2)\",#NULL)],#NULL,\"\"),CompCat.Diagram.TikZ.Edge(\"n2.east\",\"n3.center\",CompCat.Diagram.TikZ.PathOperation(\"to\",CompCat.Diagram.TikZ.Property[CompCat.Diagram.TikZ.Property(\"out\",\"0\"),CompCat.Diagram.TikZ.Property(\"in\",\"180\")]),CompCat.Diagram.TikZ.Property[],CompCat.Diagram.TikZ.EdgeNode(CompCat.Diagram.TikZ.Property[CompCat.Diagram.TikZ.Property(\"above\",\"0.25em\"),CompCat.Diagram.TikZ.Property(\"midway\",#NULL)],\"A\"))],CompCat.Diagram.TikZ.Property[]))],CompCat.Diagram.TikZ.Property[CompCat.Diagram.TikZ.Property(\"remember picture\",#NULL),CompCat.Diagram.TikZ.Property(\"font\",\"{\\\\fontsize{12}{14.4}}\"),CompCat.Diagram.TikZ.Property(\"morphism node/.style\",\"{draw,solid,inner sep=0.333em}\"),CompCat.Diagram.TikZ.Property(\"monoid node/.style\",\"{draw,fill,circle,minimum size=0.333em}\"),CompCat.Diagram.TikZ.Property(\"container/.style\",\"{inner sep=0}\"),CompCat.Diagram.TikZ.Property(\"every path/.style\",\"{solid, line width=0.4pt}\"),CompCat.Diagram.TikZ.Property(\"execute at begin node\",\"\\$\"),CompCat.Diagram.TikZ.Property(\"execute at end node\",\"\\$\")])"
      ]
     },
     "metadata": {},
     "output_type": "display_data"
    }
   ],
   "source": [
    "display(diagram(f; labels=true))\n",
    "display(diagram(dagger(f); labels=true))"
   ]
  }
 ],
 "metadata": {
  "kernelspec": {
   "display_name": "Julia 0.5.0",
   "language": "julia",
   "name": "julia-0.5"
  },
  "language_info": {
   "file_extension": ".jl",
   "mimetype": "application/julia",
   "name": "julia",
   "version": "0.5.0"
  }
 },
 "nbformat": 4,
 "nbformat_minor": 2
}
