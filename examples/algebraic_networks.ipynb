{
 "cells": [
  {
   "cell_type": "code",
   "execution_count": 1,
   "metadata": {
    "collapsed": true,
    "deletable": true,
    "editable": true
   },
   "outputs": [],
   "source": [
    "using CompCat.Algebra\n",
    "using CompCat.Diagram.TikZWiring\n",
    "using CompCat.Diagram.Interactive"
   ]
  },
  {
   "cell_type": "code",
   "execution_count": 2,
   "metadata": {
    "collapsed": false,
    "deletable": true,
    "editable": true
   },
   "outputs": [
    {
     "data": {
      "text/latex": [
       "$\\mathrm{sin} : \\mathbb{R} \\to \\mathbb{R}$"
      ],
      "text/plain": [
       "sin"
      ]
     },
     "metadata": {},
     "output_type": "display_data"
    },
    {
     "data": {
      "text/latex": [
       "$\\mathrm{cos} : \\mathbb{R} \\to \\mathbb{R}$"
      ],
      "text/plain": [
       "cos"
      ]
     },
     "metadata": {},
     "output_type": "display_data"
    }
   ],
   "source": [
    "R = ob(AlgNetworkExpr, \"\\\\mathbb{R}\")\n",
    "f_sin = hom(:sin, R, R)\n",
    "f_cos = hom(:cos, R, R)\n",
    "display(f_sin)\n",
    "display(f_cos)"
   ]
  },
  {
   "cell_type": "code",
   "execution_count": 3,
   "metadata": {
    "collapsed": false,
    "deletable": true,
    "editable": true
   },
   "outputs": [
    {
     "data": {
      "text/latex": [
       "$\\Delta_{\\mathbb{R},2} \\cdot \\left(\\mathrm{sin} \\otimes \\mathrm{cos}\\right) \\cdot \\nabla_{\\mathbb{R},2} : \\mathbb{R} \\to \\mathbb{R}$"
      ],
      "text/plain": [
       "compose(mcopy(\\mathbb{R},2),otimes(sin,cos),mmerge(\\mathbb{R},2))"
      ]
     },
     "execution_count": 3,
     "metadata": {},
     "output_type": "execute_result"
    }
   ],
   "source": [
    "f = compose(mcopy(R),otimes(f_sin,f_cos),mmerge(R))"
   ]
  },
  {
   "cell_type": "code",
   "execution_count": 4,
   "metadata": {
    "collapsed": false,
    "deletable": true,
    "editable": true
   },
   "outputs": [
    {
     "data": {
      "image/svg+xml": [
       "<?xml version=\"1.0\" encoding=\"UTF-8\"?>\n",
       "<svg xmlns=\"http://www.w3.org/2000/svg\" xmlns:xlink=\"http://www.w3.org/1999/xlink\" width=\"132.02pt\" height=\"54.595pt\" viewBox=\"0 0 132.02 54.595\" version=\"1.1\">\n",
       "<defs>\n",
       "<g>\n",
       "<symbol overflow=\"visible\" id=\"glyph-1492235020750331-0-0\">\n",
       "<path style=\"stroke:none;\" d=\"\"/>\n",
       "</symbol>\n",
       "<symbol overflow=\"visible\" id=\"glyph-1492235020750331-0-1\">\n",
       "<path style=\"stroke:none;\" d=\"M 3.203125 -3.75 L 3.640625 -3.75 L 5.421875 -0.984375 C 5.546875 -0.78125 5.828125 -0.328125 5.96875 -0.140625 C 6.046875 0 6.078125 0 6.359375 0 L 8.015625 0 C 8.21875 0 8.40625 0 8.40625 -0.21875 C 8.40625 -0.3125 8.328125 -0.390625 8.21875 -0.421875 C 7.78125 -0.515625 7.203125 -1.296875 6.90625 -1.6875 C 6.828125 -1.8125 6.234375 -2.59375 5.421875 -3.890625 C 6.484375 -4.078125 7.515625 -4.53125 7.515625 -5.953125 C 7.515625 -7.609375 5.765625 -8.1875 4.34375 -8.1875 L 0.59375 -8.1875 C 0.375 -8.1875 0.1875 -8.1875 0.1875 -7.96875 C 0.1875 -7.765625 0.421875 -7.765625 0.515625 -7.765625 C 1.1875 -7.765625 1.25 -7.6875 1.25 -7.09375 L 1.25 -1.09375 C 1.25 -0.5 1.1875 -0.421875 0.515625 -0.421875 C 0.421875 -0.421875 0.1875 -0.421875 0.1875 -0.21875 C 0.1875 0 0.375 0 0.59375 0 L 3.875 0 C 4.09375 0 4.265625 0 4.265625 -0.21875 C 4.265625 -0.421875 4.0625 -0.421875 3.9375 -0.421875 C 3.25 -0.421875 3.203125 -0.515625 3.203125 -1.09375 Z M 5.515625 -4.34375 C 5.84375 -4.78125 5.875 -5.421875 5.875 -5.9375 C 5.875 -6.515625 5.8125 -7.140625 5.421875 -7.640625 C 5.921875 -7.53125 7.09375 -7.15625 7.09375 -5.953125 C 7.09375 -5.171875 6.734375 -4.5625 5.515625 -4.34375 Z M 3.203125 -7.125 C 3.203125 -7.375 3.203125 -7.765625 3.9375 -7.765625 C 4.953125 -7.765625 5.46875 -7.34375 5.46875 -5.9375 C 5.46875 -4.40625 5.09375 -4.171875 3.203125 -4.171875 Z M 1.578125 -0.421875 C 1.671875 -0.640625 1.671875 -0.96875 1.671875 -1.078125 L 1.671875 -7.109375 C 1.671875 -7.234375 1.671875 -7.546875 1.578125 -7.765625 L 2.9375 -7.765625 C 2.78125 -7.578125 2.78125 -7.34375 2.78125 -7.15625 L 2.78125 -1.078125 C 2.78125 -0.953125 2.78125 -0.640625 2.875 -0.421875 Z M 4.125 -3.75 C 4.203125 -3.765625 4.25 -3.78125 4.34375 -3.78125 C 4.53125 -3.78125 4.796875 -3.796875 4.96875 -3.828125 C 5.15625 -3.53125 6.4375 -1.40625 7.4375 -0.421875 L 6.28125 -0.421875 Z M 4.125 -3.75 \"/>\n",
       "</symbol>\n",
       "<symbol overflow=\"visible\" id=\"glyph-1492235020750331-1-0\">\n",
       "<path style=\"stroke:none;\" d=\"\"/>\n",
       "</symbol>\n",
       "<symbol overflow=\"visible\" id=\"glyph-1492235020750331-1-1\">\n",
       "<path style=\"stroke:none;\" d=\"M 3.921875 -5.0625 C 3.921875 -5.265625 3.921875 -5.328125 3.796875 -5.328125 C 3.703125 -5.328125 3.484375 -5.0625 3.390625 -4.953125 C 3.03125 -5.265625 2.65625 -5.328125 2.265625 -5.328125 C 0.828125 -5.328125 0.390625 -4.546875 0.390625 -3.890625 C 0.390625 -3.75 0.390625 -3.328125 0.84375 -2.921875 C 1.234375 -2.578125 1.640625 -2.5 2.1875 -2.390625 C 2.84375 -2.265625 3 -2.21875 3.296875 -1.984375 C 3.515625 -1.8125 3.671875 -1.546875 3.671875 -1.203125 C 3.671875 -0.6875 3.375 -0.125 2.3125 -0.125 C 1.53125 -0.125 0.953125 -0.578125 0.6875 -1.765625 C 0.640625 -1.984375 0.640625 -2 0.640625 -2.015625 C 0.609375 -2.0625 0.5625 -2.0625 0.53125 -2.0625 C 0.390625 -2.0625 0.390625 -2 0.390625 -1.78125 L 0.390625 -0.15625 C 0.390625 0.0625 0.390625 0.125 0.515625 0.125 C 0.578125 0.125 0.578125 0.109375 0.78125 -0.140625 C 0.84375 -0.234375 0.84375 -0.25 1.03125 -0.4375 C 1.484375 0.125 2.125 0.125 2.328125 0.125 C 3.578125 0.125 4.203125 -0.578125 4.203125 -1.515625 C 4.203125 -2.15625 3.8125 -2.546875 3.703125 -2.65625 C 3.28125 -3.03125 2.953125 -3.09375 2.15625 -3.234375 C 1.8125 -3.3125 0.9375 -3.484375 0.9375 -4.203125 C 0.9375 -4.5625 1.1875 -5.109375 2.265625 -5.109375 C 3.5625 -5.109375 3.640625 -4 3.65625 -3.640625 C 3.671875 -3.53125 3.75 -3.53125 3.796875 -3.53125 C 3.921875 -3.53125 3.921875 -3.59375 3.921875 -3.8125 Z M 3.921875 -5.0625 \"/>\n",
       "</symbol>\n",
       "<symbol overflow=\"visible\" id=\"glyph-1492235020750331-1-2\">\n",
       "<path style=\"stroke:none;\" d=\"M 2.078125 -7.359375 C 2.078125 -7.671875 1.828125 -7.953125 1.5 -7.953125 C 1.1875 -7.953125 0.921875 -7.703125 0.921875 -7.375 C 0.921875 -7.015625 1.203125 -6.796875 1.5 -6.796875 C 1.859375 -6.796875 2.078125 -7.09375 2.078125 -7.359375 Z M 0.4375 -5.140625 L 0.4375 -4.796875 C 1.1875 -4.796875 1.296875 -4.71875 1.296875 -4.140625 L 1.296875 -0.890625 C 1.296875 -0.34375 1.171875 -0.34375 0.390625 -0.34375 L 0.390625 0 C 0.734375 -0.03125 1.296875 -0.03125 1.65625 -0.03125 C 1.78125 -0.03125 2.46875 -0.03125 2.875 0 L 2.875 -0.34375 C 2.109375 -0.34375 2.0625 -0.40625 2.0625 -0.875 L 2.0625 -5.265625 Z M 0.4375 -5.140625 \"/>\n",
       "</symbol>\n",
       "<symbol overflow=\"visible\" id=\"glyph-1492235020750331-1-3\">\n",
       "<path style=\"stroke:none;\" d=\"M 5.3125 -2.90625 C 5.3125 -4.015625 5.3125 -4.34375 5.046875 -4.734375 C 4.703125 -5.203125 4.140625 -5.265625 3.734375 -5.265625 C 2.5625 -5.265625 2.109375 -4.28125 2.015625 -4.046875 L 2.015625 -5.265625 L 0.375 -5.140625 L 0.375 -4.796875 C 1.1875 -4.796875 1.296875 -4.703125 1.296875 -4.125 L 1.296875 -0.890625 C 1.296875 -0.34375 1.15625 -0.34375 0.375 -0.34375 L 0.375 0 C 0.6875 -0.03125 1.34375 -0.03125 1.671875 -0.03125 C 2.015625 -0.03125 2.671875 -0.03125 2.96875 0 L 2.96875 -0.34375 C 2.21875 -0.34375 2.0625 -0.34375 2.0625 -0.890625 L 2.0625 -3.109375 C 2.0625 -4.359375 2.890625 -5.03125 3.640625 -5.03125 C 4.375 -5.03125 4.546875 -4.421875 4.546875 -3.6875 L 4.546875 -0.890625 C 4.546875 -0.34375 4.40625 -0.34375 3.640625 -0.34375 L 3.640625 0 C 3.9375 -0.03125 4.59375 -0.03125 4.921875 -0.03125 C 5.265625 -0.03125 5.921875 -0.03125 6.234375 0 L 6.234375 -0.34375 C 5.625 -0.34375 5.328125 -0.34375 5.3125 -0.703125 Z M 5.3125 -2.90625 \"/>\n",
       "</symbol>\n",
       "<symbol overflow=\"visible\" id=\"glyph-1492235020750331-1-4\">\n",
       "<path style=\"stroke:none;\" d=\"M 4.328125 -4.421875 C 4.1875 -4.421875 3.734375 -4.421875 3.734375 -3.9375 C 3.734375 -3.640625 3.9375 -3.4375 4.234375 -3.4375 C 4.5 -3.4375 4.734375 -3.609375 4.734375 -3.953125 C 4.734375 -4.75 3.890625 -5.328125 2.921875 -5.328125 C 1.53125 -5.328125 0.421875 -4.09375 0.421875 -2.578125 C 0.421875 -1.046875 1.5625 0.125 2.921875 0.125 C 4.5 0.125 4.859375 -1.3125 4.859375 -1.421875 C 4.859375 -1.53125 4.765625 -1.53125 4.734375 -1.53125 C 4.625 -1.53125 4.609375 -1.5 4.578125 -1.34375 C 4.3125 -0.5 3.671875 -0.140625 3.03125 -0.140625 C 2.296875 -0.140625 1.328125 -0.78125 1.328125 -2.59375 C 1.328125 -4.578125 2.34375 -5.0625 2.9375 -5.0625 C 3.390625 -5.0625 4.046875 -4.890625 4.328125 -4.421875 Z M 4.328125 -4.421875 \"/>\n",
       "</symbol>\n",
       "<symbol overflow=\"visible\" id=\"glyph-1492235020750331-1-5\">\n",
       "<path style=\"stroke:none;\" d=\"M 5.484375 -2.5625 C 5.484375 -4.09375 4.3125 -5.328125 2.921875 -5.328125 C 1.5 -5.328125 0.359375 -4.0625 0.359375 -2.5625 C 0.359375 -1.03125 1.546875 0.125 2.921875 0.125 C 4.328125 0.125 5.484375 -1.046875 5.484375 -2.5625 Z M 2.921875 -0.140625 C 2.484375 -0.140625 1.953125 -0.328125 1.609375 -0.921875 C 1.28125 -1.453125 1.265625 -2.15625 1.265625 -2.671875 C 1.265625 -3.125 1.265625 -3.84375 1.640625 -4.390625 C 1.96875 -4.90625 2.5 -5.09375 2.921875 -5.09375 C 3.375 -5.09375 3.890625 -4.875 4.203125 -4.40625 C 4.578125 -3.859375 4.578125 -3.109375 4.578125 -2.671875 C 4.578125 -2.25 4.578125 -1.5 4.265625 -0.9375 C 3.9375 -0.375 3.375 -0.140625 2.921875 -0.140625 Z M 2.921875 -0.140625 \"/>\n",
       "</symbol>\n",
       "</g>\n",
       "<clipPath id=\"clip-1492235020750331-1\">\n",
       "  <path d=\"M 53 30 L 79 30 L 79 54.59375 L 53 54.59375 Z M 53 30 \"/>\n",
       "</clipPath>\n",
       "<clipPath id=\"clip-1492235020750331-2\">\n",
       "  <path d=\"M 101 21 L 132.019531 21 L 132.019531 33 L 101 33 Z M 101 21 \"/>\n",
       "</clipPath>\n",
       "</defs>\n",
       "<g id=\"surface1\">\n",
       "<path style=\"fill:none;stroke-width:0.3985;stroke-linecap:butt;stroke-linejoin:miter;stroke:rgb(0%,0%,0%);stroke-opacity:1;stroke-miterlimit:10;\" d=\"M 2.687375 0.000125 C 2.687375 1.097781 1.79675 1.992313 0.699094 1.992313 C -0.402469 1.992313 -1.293094 1.097781 -1.293094 0.000125 C -1.293094 -1.097531 -0.402469 -1.992062 0.699094 -1.992062 C 1.79675 -1.992062 2.687375 -1.097531 2.687375 0.000125 Z M 2.687375 0.000125 \" transform=\"matrix(1,0,0,-1,26.797,27.297)\"/>\n",
       "<path style=\"fill:none;stroke-width:0.3985;stroke-linecap:butt;stroke-linejoin:miter;stroke:rgb(0%,0%,0%);stroke-opacity:1;stroke-miterlimit:10;\" d=\"M -0.00190625 0.000125 C 9.673875 0.000125 15.134813 0.000125 24.806687 0.000125 \" transform=\"matrix(1,0,0,-1,0.498,27.297)\"/>\n",
       "<g style=\"fill:rgb(0%,0%,0%);fill-opacity:1;\">\n",
       "  <use xlink:href=\"#glyph-1492235020750331-0-1\" x=\"8.584\" y=\"24.109\"/>\n",
       "</g>\n",
       "<path style=\"fill:none;stroke-width:0.3985;stroke-linecap:butt;stroke-linejoin:miter;stroke:rgb(0%,0%,0%);stroke-opacity:1;stroke-miterlimit:10;\" d=\"M 0.19975 -11.955375 L 22.535687 -11.955375 L 22.535687 11.954781 L 0.19975 11.954781 Z M 0.19975 -11.955375 \" transform=\"matrix(1,0,0,-1,54.644,12.154)\"/>\n",
       "<g style=\"fill:rgb(0%,0%,0%);fill-opacity:1;\">\n",
       "  <use xlink:href=\"#glyph-1492235020750331-1-1\" x=\"58.824\" y=\"16.121\"/>\n",
       "  <use xlink:href=\"#glyph-1492235020750331-1-2\" x=\"63.441087\" y=\"16.121\"/>\n",
       "  <use xlink:href=\"#glyph-1492235020750331-1-3\" x=\"66.692893\" y=\"16.121\"/>\n",
       "</g>\n",
       "<g clip-path=\"url(#clip-1492235020750331-1)\" clip-rule=\"nonzero\">\n",
       "<path style=\"fill:none;stroke-width:0.3985;stroke-linecap:butt;stroke-linejoin:miter;stroke:rgb(0%,0%,0%);stroke-opacity:1;stroke-miterlimit:10;\" d=\"M -0.452594 -42.240531 L 23.184125 -42.240531 L 23.184125 -18.330375 L -0.452594 -18.330375 Z M -0.452594 -42.240531 \" transform=\"matrix(1,0,0,-1,54.644,12.154)\"/>\n",
       "</g>\n",
       "<g style=\"fill:rgb(0%,0%,0%);fill-opacity:1;\">\n",
       "  <use xlink:href=\"#glyph-1492235020750331-1-4\" x=\"58.174\" y=\"45.014\"/>\n",
       "  <use xlink:href=\"#glyph-1492235020750331-1-5\" x=\"63.37689\" y=\"45.014\"/>\n",
       "  <use xlink:href=\"#glyph-1492235020750331-1-1\" x=\"69.230141\" y=\"45.014\"/>\n",
       "</g>\n",
       "<path style=\"fill:none;stroke-width:0.3985;stroke-linecap:butt;stroke-linejoin:miter;stroke:rgb(0%,0%,0%);stroke-opacity:1;stroke-miterlimit:10;\" d=\"M 28.900437 1.097781 C 38.638719 6.722781 42.900438 15.144656 54.146531 15.144656 \" transform=\"matrix(1,0,0,-1,0.498,27.297)\"/>\n",
       "<path style=\"fill:none;stroke-width:0.3985;stroke-linecap:butt;stroke-linejoin:miter;stroke:rgb(0%,0%,0%);stroke-opacity:1;stroke-miterlimit:10;\" d=\"M 28.900437 -1.097531 C 38.474656 -6.624875 42.443406 -15.144406 53.494188 -15.144406 \" transform=\"matrix(1,0,0,-1,0.498,27.297)\"/>\n",
       "<path style=\"fill-rule:nonzero;fill:rgb(0%,0%,0%);fill-opacity:1;stroke-width:0.3985;stroke-linecap:butt;stroke-linejoin:miter;stroke:rgb(0%,0%,0%);stroke-opacity:1;stroke-miterlimit:10;\" d=\"M 2.687625 0.000125 C 2.687625 1.097781 1.797 1.992313 0.695437 1.992313 C -0.402219 1.992313 -1.292844 1.097781 -1.292844 0.000125 C -1.292844 -1.097531 -0.402219 -1.992062 0.695437 -1.992062 C 1.797 -1.992062 2.687625 -1.097531 2.687625 0.000125 Z M 2.687625 0.000125 \" transform=\"matrix(1,0,0,-1,103.828,27.297)\"/>\n",
       "<path style=\"fill:none;stroke-width:0.3985;stroke-linecap:butt;stroke-linejoin:miter;stroke:rgb(0%,0%,0%);stroke-opacity:1;stroke-miterlimit:10;\" d=\"M 76.880906 15.144656 C 88.127 15.144656 92.388719 6.722781 102.127 1.097781 \" transform=\"matrix(1,0,0,-1,0.498,27.297)\"/>\n",
       "<path style=\"fill:none;stroke-width:0.3985;stroke-linecap:butt;stroke-linejoin:miter;stroke:rgb(0%,0%,0%);stroke-opacity:1;stroke-miterlimit:10;\" d=\"M 77.529344 -15.144406 C 88.584031 -15.144406 92.552781 -6.624875 102.127 -1.097531 \" transform=\"matrix(1,0,0,-1,0.498,27.297)\"/>\n",
       "<g clip-path=\"url(#clip-1492235020750331-2)\" clip-rule=\"nonzero\">\n",
       "<path style=\"fill:none;stroke-width:0.3985;stroke-linecap:butt;stroke-linejoin:miter;stroke:rgb(0%,0%,0%);stroke-opacity:1;stroke-miterlimit:10;\" d=\"M 106.216844 0.000125 C 115.892625 0.000125 121.353562 0.000125 131.025438 0.000125 \" transform=\"matrix(1,0,0,-1,0.498,27.297)\"/>\n",
       "</g>\n",
       "<g style=\"fill:rgb(0%,0%,0%);fill-opacity:1;\">\n",
       "  <use xlink:href=\"#glyph-1492235020750331-0-1\" x=\"114.801\" y=\"24.109\"/>\n",
       "</g>\n",
       "</g>\n",
       "</svg>\n",
       "\n"
      ],
      "text/plain": [
       "CompCat.Diagram.TikZ.Picture(CompCat.Diagram.TikZ.Statement[CompCat.Diagram.TikZ.Node(\"n\",CompCat.Diagram.TikZ.Property[CompCat.Diagram.TikZ.Property(\"container\",#NULL)],#NULL,CompCat.Diagram.TikZ.Picture(CompCat.Diagram.TikZ.Statement[CompCat.Diagram.TikZ.Node(\"n1\",CompCat.Diagram.TikZ.Property[CompCat.Diagram.TikZ.Property(\"minimum height\",\"2.0em\")],#NULL,\"\"),CompCat.Diagram.TikZ.Node(\"n2\",CompCat.Diagram.TikZ.Property[CompCat.Diagram.TikZ.Property(\"container\",#NULL),CompCat.Diagram.TikZ.Property(\"right=2em of n1)\",#NULL)],#NULL,CompCat.Diagram.TikZ.Picture(CompCat.Diagram.TikZ.Statement[CompCat.Diagram.TikZ.Node(\"n2 box\",CompCat.Diagram.TikZ.Property[CompCat.Diagram.TikZ.Property(\"minimum height\",\"4.5em\")],#NULL,\"\"),CompCat.Diagram.TikZ.Node(\"n2 point\",CompCat.Diagram.TikZ.Property[CompCat.Diagram.TikZ.Property(\"draw\",#NULL),CompCat.Diagram.TikZ.Property(\"solid\",#NULL),CompCat.Diagram.TikZ.Property(\"circle\",#NULL),CompCat.Diagram.TikZ.Property(\"minimum size\",\"0.333em\"),CompCat.Diagram.TikZ.Property(\"above\",\"0 of n2 box.center\"),CompCat.Diagram.TikZ.Property(\"anchor\",\"center\")],#NULL,\"\")],CompCat.Diagram.TikZ.Property[])),CompCat.Diagram.TikZ.Edge(\"n1.center\",\"n2 point.180\",CompCat.Diagram.TikZ.PathOperation(\"to\",CompCat.Diagram.TikZ.Property[CompCat.Diagram.TikZ.Property(\"out\",\"0\"),CompCat.Diagram.TikZ.Property(\"in\",\"180\")]),CompCat.Diagram.TikZ.Property[],CompCat.Diagram.TikZ.EdgeNode(CompCat.Diagram.TikZ.Property[CompCat.Diagram.TikZ.Property(\"above\",\"0.25em\"),CompCat.Diagram.TikZ.Property(\"midway\",#NULL)],\"\\\\mathbb{R}\")),CompCat.Diagram.TikZ.Node(\"n3\",CompCat.Diagram.TikZ.Property[CompCat.Diagram.TikZ.Property(\"container\",#NULL),CompCat.Diagram.TikZ.Property(\"right=2em of n2)\",#NULL)],#NULL,CompCat.Diagram.TikZ.Picture(CompCat.Diagram.TikZ.Statement[CompCat.Diagram.TikZ.Node(\"n31\",CompCat.Diagram.TikZ.Property[CompCat.Diagram.TikZ.Property(\"draw\",#NULL),CompCat.Diagram.TikZ.Property(\"solid\",#NULL),CompCat.Diagram.TikZ.Property(\"inner sep\",\"0.333em\"),CompCat.Diagram.TikZ.Property(\"rectangle\",#NULL),CompCat.Diagram.TikZ.Property(\"sharp corners\",#NULL),CompCat.Diagram.TikZ.Property(\"minimum height\",\"2.0em\")],#NULL,\"\\\\mathrm{sin}\"),CompCat.Diagram.TikZ.Node(\"n32\",CompCat.Diagram.TikZ.Property[CompCat.Diagram.TikZ.Property(\"draw\",#NULL),CompCat.Diagram.TikZ.Property(\"solid\",#NULL),CompCat.Diagram.TikZ.Property(\"inner sep\",\"0.333em\"),CompCat.Diagram.TikZ.Property(\"rectangle\",#NULL),CompCat.Diagram.TikZ.Property(\"sharp corners\",#NULL),CompCat.Diagram.TikZ.Property(\"minimum height\",\"2.0em\"),CompCat.Diagram.TikZ.Property(\"below=0.5em of n31\",#NULL)],#NULL,\"\\\\mathrm{cos}\")],CompCat.Diagram.TikZ.Property[])),CompCat.Diagram.TikZ.Edge(\"n2 point.30\",\"n31.west\",CompCat.Diagram.TikZ.PathOperation(\"to\",CompCat.Diagram.TikZ.Property[CompCat.Diagram.TikZ.Property(\"out\",\"30\"),CompCat.Diagram.TikZ.Property(\"in\",\"180\")]),CompCat.Diagram.TikZ.Property[],#NULL),CompCat.Diagram.TikZ.Edge(\"n2 point.330\",\"n32.west\",CompCat.Diagram.TikZ.PathOperation(\"to\",CompCat.Diagram.TikZ.Property[CompCat.Diagram.TikZ.Property(\"out\",\"330\"),CompCat.Diagram.TikZ.Property(\"in\",\"180\")]),CompCat.Diagram.TikZ.Property[],#NULL),CompCat.Diagram.TikZ.Node(\"n4\",CompCat.Diagram.TikZ.Property[CompCat.Diagram.TikZ.Property(\"container\",#NULL),CompCat.Diagram.TikZ.Property(\"right=2em of n3)\",#NULL)],#NULL,CompCat.Diagram.TikZ.Picture(CompCat.Diagram.TikZ.Statement[CompCat.Diagram.TikZ.Node(\"n4 box\",CompCat.Diagram.TikZ.Property[CompCat.Diagram.TikZ.Property(\"minimum height\",\"4.5em\")],#NULL,\"\"),CompCat.Diagram.TikZ.Node(\"n4 point\",CompCat.Diagram.TikZ.Property[CompCat.Diagram.TikZ.Property(\"draw\",#NULL),CompCat.Diagram.TikZ.Property(\"fill\",#NULL),CompCat.Diagram.TikZ.Property(\"circle\",#NULL),CompCat.Diagram.TikZ.Property(\"minimum size\",\"0.333em\"),CompCat.Diagram.TikZ.Property(\"above\",\"0 of n4 box.center\"),CompCat.Diagram.TikZ.Property(\"anchor\",\"center\")],#NULL,\"\")],CompCat.Diagram.TikZ.Property[])),CompCat.Diagram.TikZ.Edge(\"n31.east\",\"n4 point.150\",CompCat.Diagram.TikZ.PathOperation(\"to\",CompCat.Diagram.TikZ.Property[CompCat.Diagram.TikZ.Property(\"out\",\"0\"),CompCat.Diagram.TikZ.Property(\"in\",\"150\")]),CompCat.Diagram.TikZ.Property[],#NULL),CompCat.Diagram.TikZ.Edge(\"n32.east\",\"n4 point.210\",CompCat.Diagram.TikZ.PathOperation(\"to\",CompCat.Diagram.TikZ.Property[CompCat.Diagram.TikZ.Property(\"out\",\"0\"),CompCat.Diagram.TikZ.Property(\"in\",\"210\")]),CompCat.Diagram.TikZ.Property[],#NULL),CompCat.Diagram.TikZ.Node(\"n5\",CompCat.Diagram.TikZ.Property[CompCat.Diagram.TikZ.Property(\"minimum height\",\"2.0em\"),CompCat.Diagram.TikZ.Property(\"right=2em of n4)\",#NULL)],#NULL,\"\"),CompCat.Diagram.TikZ.Edge(\"n4 point.0\",\"n5.center\",CompCat.Diagram.TikZ.PathOperation(\"to\",CompCat.Diagram.TikZ.Property[CompCat.Diagram.TikZ.Property(\"out\",\"0\"),CompCat.Diagram.TikZ.Property(\"in\",\"180\")]),CompCat.Diagram.TikZ.Property[],CompCat.Diagram.TikZ.EdgeNode(CompCat.Diagram.TikZ.Property[CompCat.Diagram.TikZ.Property(\"above\",\"0.25em\"),CompCat.Diagram.TikZ.Property(\"midway\",#NULL)],\"\\\\mathbb{R}\"))],CompCat.Diagram.TikZ.Property[]))],CompCat.Diagram.TikZ.Property[CompCat.Diagram.TikZ.Property(\"remember picture\",#NULL),CompCat.Diagram.TikZ.Property(\"font\",\"{\\\\fontsize{12}{14.4}}\"),CompCat.Diagram.TikZ.Property(\"container/.style\",\"{inner sep=0}\"),CompCat.Diagram.TikZ.Property(\"every path/.style\",\"{solid, line width=0.4pt}\"),CompCat.Diagram.TikZ.Property(\"execute at begin node\",\"\\$\"),CompCat.Diagram.TikZ.Property(\"execute at end node\",\"\\$\")])"
      ]
     },
     "execution_count": 4,
     "metadata": {},
     "output_type": "execute_result"
    }
   ],
   "source": [
    "wiring_diagram(f)"
   ]
  },
  {
   "cell_type": "code",
   "execution_count": 5,
   "metadata": {
    "collapsed": false,
    "deletable": true,
    "editable": true
   },
   "outputs": [
    {
     "data": {
      "text/plain": [
       ":(function ##hom#460(##x#461)\n",
       "        ##462 = sin(##x#461)\n",
       "        ##463 = cos(##x#461)\n",
       "        ##464 = ##462 + ##463\n",
       "        return ##464\n",
       "    end)"
      ]
     },
     "execution_count": 5,
     "metadata": {},
     "output_type": "execute_result"
    }
   ],
   "source": [
    "compile_expr(f)"
   ]
  },
  {
   "cell_type": "code",
   "execution_count": 6,
   "metadata": {
    "collapsed": false
   },
   "outputs": [
    {
     "data": {
      "text/latex": [
       "$\\Delta_{\\mathbb{R},3} \\cdot \\left(\\mathrm{sin} \\otimes \\mathrm{cos} \\otimes \\mathrm{sin}\\right) : \\mathbb{R} \\to \\mathbb{R} \\otimes \\mathbb{R} \\otimes \\mathbb{R}$"
      ],
      "text/plain": [
       "compose(mcopy(\\mathbb{R},3),otimes(sin,cos,sin))"
      ]
     },
     "execution_count": 6,
     "metadata": {},
     "output_type": "execute_result"
    }
   ],
   "source": [
    "f = compose(mcopy(R,3), otimes(f_sin, f_cos, f_sin))"
   ]
  },
  {
   "cell_type": "code",
   "execution_count": 8,
   "metadata": {
    "collapsed": false
   },
   "outputs": [
    {
     "data": {
      "image/svg+xml": [
       "<?xml version=\"1.0\" encoding=\"UTF-8\"?>\n",
       "<svg xmlns=\"http://www.w3.org/2000/svg\" xmlns:xlink=\"http://www.w3.org/1999/xlink\" width=\"103.332pt\" height=\"84.882pt\" viewBox=\"0 0 103.332 84.882\" version=\"1.1\">\n",
       "<defs>\n",
       "<g>\n",
       "<symbol overflow=\"visible\" id=\"glyph-1492235020750333-0-0\">\n",
       "<path style=\"stroke:none;\" d=\"\"/>\n",
       "</symbol>\n",
       "<symbol overflow=\"visible\" id=\"glyph-1492235020750333-0-1\">\n",
       "<path style=\"stroke:none;\" d=\"M 3.921875 -5.0625 C 3.921875 -5.265625 3.921875 -5.328125 3.796875 -5.328125 C 3.703125 -5.328125 3.484375 -5.0625 3.390625 -4.953125 C 3.03125 -5.265625 2.65625 -5.328125 2.265625 -5.328125 C 0.828125 -5.328125 0.390625 -4.546875 0.390625 -3.890625 C 0.390625 -3.75 0.390625 -3.328125 0.84375 -2.921875 C 1.234375 -2.578125 1.640625 -2.5 2.1875 -2.390625 C 2.84375 -2.265625 3 -2.21875 3.296875 -1.984375 C 3.515625 -1.8125 3.671875 -1.546875 3.671875 -1.203125 C 3.671875 -0.6875 3.375 -0.125 2.3125 -0.125 C 1.53125 -0.125 0.953125 -0.578125 0.6875 -1.765625 C 0.640625 -1.984375 0.640625 -2 0.640625 -2.015625 C 0.609375 -2.0625 0.5625 -2.0625 0.53125 -2.0625 C 0.390625 -2.0625 0.390625 -2 0.390625 -1.78125 L 0.390625 -0.15625 C 0.390625 0.0625 0.390625 0.125 0.515625 0.125 C 0.578125 0.125 0.578125 0.109375 0.78125 -0.140625 C 0.84375 -0.234375 0.84375 -0.25 1.03125 -0.4375 C 1.484375 0.125 2.125 0.125 2.328125 0.125 C 3.578125 0.125 4.203125 -0.578125 4.203125 -1.515625 C 4.203125 -2.15625 3.8125 -2.546875 3.703125 -2.65625 C 3.28125 -3.03125 2.953125 -3.09375 2.15625 -3.234375 C 1.8125 -3.3125 0.9375 -3.484375 0.9375 -4.203125 C 0.9375 -4.5625 1.1875 -5.109375 2.265625 -5.109375 C 3.5625 -5.109375 3.640625 -4 3.65625 -3.640625 C 3.671875 -3.53125 3.75 -3.53125 3.796875 -3.53125 C 3.921875 -3.53125 3.921875 -3.59375 3.921875 -3.8125 Z M 3.921875 -5.0625 \"/>\n",
       "</symbol>\n",
       "<symbol overflow=\"visible\" id=\"glyph-1492235020750333-0-2\">\n",
       "<path style=\"stroke:none;\" d=\"M 2.078125 -7.359375 C 2.078125 -7.671875 1.828125 -7.953125 1.5 -7.953125 C 1.1875 -7.953125 0.921875 -7.703125 0.921875 -7.375 C 0.921875 -7.015625 1.203125 -6.796875 1.5 -6.796875 C 1.859375 -6.796875 2.078125 -7.09375 2.078125 -7.359375 Z M 0.4375 -5.140625 L 0.4375 -4.796875 C 1.1875 -4.796875 1.296875 -4.71875 1.296875 -4.140625 L 1.296875 -0.890625 C 1.296875 -0.34375 1.171875 -0.34375 0.390625 -0.34375 L 0.390625 0 C 0.734375 -0.03125 1.296875 -0.03125 1.65625 -0.03125 C 1.78125 -0.03125 2.46875 -0.03125 2.875 0 L 2.875 -0.34375 C 2.109375 -0.34375 2.0625 -0.40625 2.0625 -0.875 L 2.0625 -5.265625 Z M 0.4375 -5.140625 \"/>\n",
       "</symbol>\n",
       "<symbol overflow=\"visible\" id=\"glyph-1492235020750333-0-3\">\n",
       "<path style=\"stroke:none;\" d=\"M 5.3125 -2.90625 C 5.3125 -4.015625 5.3125 -4.34375 5.046875 -4.734375 C 4.703125 -5.203125 4.140625 -5.265625 3.734375 -5.265625 C 2.5625 -5.265625 2.109375 -4.28125 2.015625 -4.046875 L 2.015625 -5.265625 L 0.375 -5.140625 L 0.375 -4.796875 C 1.1875 -4.796875 1.296875 -4.703125 1.296875 -4.125 L 1.296875 -0.890625 C 1.296875 -0.34375 1.15625 -0.34375 0.375 -0.34375 L 0.375 0 C 0.6875 -0.03125 1.34375 -0.03125 1.671875 -0.03125 C 2.015625 -0.03125 2.671875 -0.03125 2.96875 0 L 2.96875 -0.34375 C 2.21875 -0.34375 2.0625 -0.34375 2.0625 -0.890625 L 2.0625 -3.109375 C 2.0625 -4.359375 2.890625 -5.03125 3.640625 -5.03125 C 4.375 -5.03125 4.546875 -4.421875 4.546875 -3.6875 L 4.546875 -0.890625 C 4.546875 -0.34375 4.40625 -0.34375 3.640625 -0.34375 L 3.640625 0 C 3.9375 -0.03125 4.59375 -0.03125 4.921875 -0.03125 C 5.265625 -0.03125 5.921875 -0.03125 6.234375 0 L 6.234375 -0.34375 C 5.625 -0.34375 5.328125 -0.34375 5.3125 -0.703125 Z M 5.3125 -2.90625 \"/>\n",
       "</symbol>\n",
       "<symbol overflow=\"visible\" id=\"glyph-1492235020750333-0-4\">\n",
       "<path style=\"stroke:none;\" d=\"M 4.328125 -4.421875 C 4.1875 -4.421875 3.734375 -4.421875 3.734375 -3.9375 C 3.734375 -3.640625 3.9375 -3.4375 4.234375 -3.4375 C 4.5 -3.4375 4.734375 -3.609375 4.734375 -3.953125 C 4.734375 -4.75 3.890625 -5.328125 2.921875 -5.328125 C 1.53125 -5.328125 0.421875 -4.09375 0.421875 -2.578125 C 0.421875 -1.046875 1.5625 0.125 2.921875 0.125 C 4.5 0.125 4.859375 -1.3125 4.859375 -1.421875 C 4.859375 -1.53125 4.765625 -1.53125 4.734375 -1.53125 C 4.625 -1.53125 4.609375 -1.5 4.578125 -1.34375 C 4.3125 -0.5 3.671875 -0.140625 3.03125 -0.140625 C 2.296875 -0.140625 1.328125 -0.78125 1.328125 -2.59375 C 1.328125 -4.578125 2.34375 -5.0625 2.9375 -5.0625 C 3.390625 -5.0625 4.046875 -4.890625 4.328125 -4.421875 Z M 4.328125 -4.421875 \"/>\n",
       "</symbol>\n",
       "<symbol overflow=\"visible\" id=\"glyph-1492235020750333-0-5\">\n",
       "<path style=\"stroke:none;\" d=\"M 5.484375 -2.5625 C 5.484375 -4.09375 4.3125 -5.328125 2.921875 -5.328125 C 1.5 -5.328125 0.359375 -4.0625 0.359375 -2.5625 C 0.359375 -1.03125 1.546875 0.125 2.921875 0.125 C 4.328125 0.125 5.484375 -1.046875 5.484375 -2.5625 Z M 2.921875 -0.140625 C 2.484375 -0.140625 1.953125 -0.328125 1.609375 -0.921875 C 1.28125 -1.453125 1.265625 -2.15625 1.265625 -2.671875 C 1.265625 -3.125 1.265625 -3.84375 1.640625 -4.390625 C 1.96875 -4.90625 2.5 -5.09375 2.921875 -5.09375 C 3.375 -5.09375 3.890625 -4.875 4.203125 -4.40625 C 4.578125 -3.859375 4.578125 -3.109375 4.578125 -2.671875 C 4.578125 -2.25 4.578125 -1.5 4.265625 -0.9375 C 3.9375 -0.375 3.375 -0.140625 2.921875 -0.140625 Z M 2.921875 -0.140625 \"/>\n",
       "</symbol>\n",
       "</g>\n",
       "<clipPath id=\"clip-1492235020750333-1\">\n",
       "  <path d=\"M 54 60 L 78 60 L 78 84.882812 L 54 84.882812 Z M 54 60 \"/>\n",
       "</clipPath>\n",
       "<clipPath id=\"clip-1492235020750333-2\">\n",
       "  <path d=\"M 71 6 L 103.332031 6 L 103.332031 19 L 71 19 Z M 71 6 \"/>\n",
       "</clipPath>\n",
       "<clipPath id=\"clip-1492235020750333-3\">\n",
       "  <path d=\"M 72 36 L 103.332031 36 L 103.332031 49 L 72 49 Z M 72 36 \"/>\n",
       "</clipPath>\n",
       "<clipPath id=\"clip-1492235020750333-4\">\n",
       "  <path d=\"M 71 66 L 103.332031 66 L 103.332031 79 L 71 79 Z M 71 66 \"/>\n",
       "</clipPath>\n",
       "</defs>\n",
       "<g id=\"surface1\">\n",
       "<path style=\"fill:none;stroke-width:0.3985;stroke-linecap:butt;stroke-linejoin:miter;stroke:rgb(0%,0%,0%);stroke-opacity:1;stroke-miterlimit:10;\" d=\"M 2.687375 -0.00040625 C 2.687375 1.101156 1.79675 1.991781 0.699094 1.991781 C -0.402469 1.991781 -1.293094 1.101156 -1.293094 -0.00040625 C -1.293094 -1.098063 -0.402469 -1.988688 0.699094 -1.988688 C 1.79675 -1.988688 2.687375 -1.098063 2.687375 -0.00040625 Z M 2.687375 -0.00040625 \" transform=\"matrix(1,0,0,-1,26.797,42.441)\"/>\n",
       "<path style=\"fill:none;stroke-width:0.3985;stroke-linecap:butt;stroke-linejoin:miter;stroke:rgb(0%,0%,0%);stroke-opacity:1;stroke-miterlimit:10;\" d=\"M -0.00190625 -0.00040625 C 9.673875 -0.00040625 15.134813 -0.00040625 24.806687 -0.00040625 \" transform=\"matrix(1,0,0,-1,0.498,42.441)\"/>\n",
       "<path style=\"fill:none;stroke-width:0.3985;stroke-linecap:butt;stroke-linejoin:miter;stroke:rgb(0%,0%,0%);stroke-opacity:1;stroke-miterlimit:10;\" d=\"M 0.19975 -11.954375 L 22.535687 -11.954375 L 22.535687 11.955781 L 0.19975 11.955781 Z M 0.19975 -11.954375 \" transform=\"matrix(1,0,0,-1,54.644,12.155)\"/>\n",
       "<g style=\"fill:rgb(0%,0%,0%);fill-opacity:1;\">\n",
       "  <use xlink:href=\"#glyph-1492235020750333-0-1\" x=\"58.824\" y=\"16.122\"/>\n",
       "  <use xlink:href=\"#glyph-1492235020750333-0-2\" x=\"63.441087\" y=\"16.122\"/>\n",
       "  <use xlink:href=\"#glyph-1492235020750333-0-3\" x=\"66.692893\" y=\"16.122\"/>\n",
       "</g>\n",
       "<path style=\"fill:none;stroke-width:0.3985;stroke-linecap:butt;stroke-linejoin:miter;stroke:rgb(0%,0%,0%);stroke-opacity:1;stroke-miterlimit:10;\" d=\"M -0.452594 -42.243438 L 23.184125 -42.243438 L 23.184125 -18.333281 L -0.452594 -18.333281 Z M -0.452594 -42.243438 \" transform=\"matrix(1,0,0,-1,54.644,12.155)\"/>\n",
       "<g style=\"fill:rgb(0%,0%,0%);fill-opacity:1;\">\n",
       "  <use xlink:href=\"#glyph-1492235020750333-0-4\" x=\"58.174\" y=\"45.015\"/>\n",
       "  <use xlink:href=\"#glyph-1492235020750333-0-5\" x=\"63.37689\" y=\"45.015\"/>\n",
       "  <use xlink:href=\"#glyph-1492235020750333-0-1\" x=\"69.230141\" y=\"45.015\"/>\n",
       "</g>\n",
       "<g clip-path=\"url(#clip-1492235020750333-1)\" clip-rule=\"nonzero\">\n",
       "<path style=\"fill:none;stroke-width:0.3985;stroke-linecap:butt;stroke-linejoin:miter;stroke:rgb(0%,0%,0%);stroke-opacity:1;stroke-miterlimit:10;\" d=\"M 0.19975 -72.528594 L 22.535687 -72.528594 L 22.535687 -48.618438 L 0.19975 -48.618438 Z M 0.19975 -72.528594 \" transform=\"matrix(1,0,0,-1,54.644,12.155)\"/>\n",
       "</g>\n",
       "<g style=\"fill:rgb(0%,0%,0%);fill-opacity:1;\">\n",
       "  <use xlink:href=\"#glyph-1492235020750333-0-1\" x=\"58.824\" y=\"76.695\"/>\n",
       "  <use xlink:href=\"#glyph-1492235020750333-0-2\" x=\"63.441087\" y=\"76.695\"/>\n",
       "  <use xlink:href=\"#glyph-1492235020750333-0-3\" x=\"66.692893\" y=\"76.695\"/>\n",
       "</g>\n",
       "<path style=\"fill:none;stroke-width:0.3985;stroke-linecap:butt;stroke-linejoin:miter;stroke:rgb(0%,0%,0%);stroke-opacity:1;stroke-miterlimit:10;\" d=\"M 28.544969 1.546469 C 39.209031 12.210531 39.068406 30.288656 54.146531 30.288656 \" transform=\"matrix(1,0,0,-1,0.498,42.441)\"/>\n",
       "<path style=\"fill:none;stroke-width:0.3985;stroke-linecap:butt;stroke-linejoin:miter;stroke:rgb(0%,0%,0%);stroke-opacity:1;stroke-miterlimit:10;\" d=\"M 29.185594 -0.00040625 C 38.666063 -0.00040625 44.017625 -0.00040625 53.494188 -0.00040625 \" transform=\"matrix(1,0,0,-1,0.498,42.441)\"/>\n",
       "<path style=\"fill:none;stroke-width:0.3985;stroke-linecap:butt;stroke-linejoin:miter;stroke:rgb(0%,0%,0%);stroke-opacity:1;stroke-miterlimit:10;\" d=\"M 28.544969 -1.547281 C 39.209031 -12.211344 39.068406 -30.285563 54.146531 -30.285563 \" transform=\"matrix(1,0,0,-1,0.498,42.441)\"/>\n",
       "<g clip-path=\"url(#clip-1492235020750333-2)\" clip-rule=\"nonzero\">\n",
       "<path style=\"fill:none;stroke-width:0.3985;stroke-linecap:butt;stroke-linejoin:miter;stroke:rgb(0%,0%,0%);stroke-opacity:1;stroke-miterlimit:10;\" d=\"M 76.880906 30.288656 C 86.84575 30.288656 92.369187 29.890219 102.337937 29.890219 \" transform=\"matrix(1,0,0,-1,0.498,42.441)\"/>\n",
       "</g>\n",
       "<g clip-path=\"url(#clip-1492235020750333-3)\" clip-rule=\"nonzero\">\n",
       "<path style=\"fill:none;stroke-width:0.3985;stroke-linecap:butt;stroke-linejoin:miter;stroke:rgb(0%,0%,0%);stroke-opacity:1;stroke-miterlimit:10;\" d=\"M 77.529344 -0.00040625 C 87.205125 -0.00040625 92.662156 -0.00040625 102.337937 -0.00040625 \" transform=\"matrix(1,0,0,-1,0.498,42.441)\"/>\n",
       "</g>\n",
       "<g clip-path=\"url(#clip-1492235020750333-4)\" clip-rule=\"nonzero\">\n",
       "<path style=\"fill:none;stroke-width:0.3985;stroke-linecap:butt;stroke-linejoin:miter;stroke:rgb(0%,0%,0%);stroke-opacity:1;stroke-miterlimit:10;\" d=\"M 76.880906 -30.285563 C 86.84575 -30.285563 92.369187 -29.887125 102.337937 -29.887125 \" transform=\"matrix(1,0,0,-1,0.498,42.441)\"/>\n",
       "</g>\n",
       "</g>\n",
       "</svg>\n",
       "\n"
      ],
      "text/plain": [
       "CompCat.Diagram.TikZ.Picture(CompCat.Diagram.TikZ.Statement[CompCat.Diagram.TikZ.Node(\"n\",CompCat.Diagram.TikZ.Property[CompCat.Diagram.TikZ.Property(\"container\",#NULL)],#NULL,CompCat.Diagram.TikZ.Picture(CompCat.Diagram.TikZ.Statement[CompCat.Diagram.TikZ.Node(\"n1\",CompCat.Diagram.TikZ.Property[CompCat.Diagram.TikZ.Property(\"minimum height\",\"2.0em\")],#NULL,\"\"),CompCat.Diagram.TikZ.Node(\"n2\",CompCat.Diagram.TikZ.Property[CompCat.Diagram.TikZ.Property(\"container\",#NULL),CompCat.Diagram.TikZ.Property(\"right=2em of n1)\",#NULL)],#NULL,CompCat.Diagram.TikZ.Picture(CompCat.Diagram.TikZ.Statement[CompCat.Diagram.TikZ.Node(\"n2 box\",CompCat.Diagram.TikZ.Property[CompCat.Diagram.TikZ.Property(\"minimum height\",\"7.0em\")],#NULL,\"\"),CompCat.Diagram.TikZ.Node(\"n2 point\",CompCat.Diagram.TikZ.Property[CompCat.Diagram.TikZ.Property(\"draw\",#NULL),CompCat.Diagram.TikZ.Property(\"solid\",#NULL),CompCat.Diagram.TikZ.Property(\"circle\",#NULL),CompCat.Diagram.TikZ.Property(\"minimum size\",\"0.333em\"),CompCat.Diagram.TikZ.Property(\"above\",\"0 of n2 box.center\"),CompCat.Diagram.TikZ.Property(\"anchor\",\"center\")],#NULL,\"\")],CompCat.Diagram.TikZ.Property[])),CompCat.Diagram.TikZ.Edge(\"n1.center\",\"n2 point.180\",CompCat.Diagram.TikZ.PathOperation(\"to\",CompCat.Diagram.TikZ.Property[CompCat.Diagram.TikZ.Property(\"out\",\"0\"),CompCat.Diagram.TikZ.Property(\"in\",\"180\")]),CompCat.Diagram.TikZ.Property[],#NULL),CompCat.Diagram.TikZ.Node(\"n3\",CompCat.Diagram.TikZ.Property[CompCat.Diagram.TikZ.Property(\"container\",#NULL),CompCat.Diagram.TikZ.Property(\"right=2em of n2)\",#NULL)],#NULL,CompCat.Diagram.TikZ.Picture(CompCat.Diagram.TikZ.Statement[CompCat.Diagram.TikZ.Node(\"n31\",CompCat.Diagram.TikZ.Property[CompCat.Diagram.TikZ.Property(\"draw\",#NULL),CompCat.Diagram.TikZ.Property(\"solid\",#NULL),CompCat.Diagram.TikZ.Property(\"inner sep\",\"0.333em\"),CompCat.Diagram.TikZ.Property(\"rectangle\",#NULL),CompCat.Diagram.TikZ.Property(\"sharp corners\",#NULL),CompCat.Diagram.TikZ.Property(\"minimum height\",\"2.0em\")],#NULL,\"\\\\mathrm{sin}\"),CompCat.Diagram.TikZ.Node(\"n32\",CompCat.Diagram.TikZ.Property[CompCat.Diagram.TikZ.Property(\"draw\",#NULL),CompCat.Diagram.TikZ.Property(\"solid\",#NULL),CompCat.Diagram.TikZ.Property(\"inner sep\",\"0.333em\"),CompCat.Diagram.TikZ.Property(\"rectangle\",#NULL),CompCat.Diagram.TikZ.Property(\"sharp corners\",#NULL),CompCat.Diagram.TikZ.Property(\"minimum height\",\"2.0em\"),CompCat.Diagram.TikZ.Property(\"below=0.5em of n31\",#NULL)],#NULL,\"\\\\mathrm{cos}\"),CompCat.Diagram.TikZ.Node(\"n33\",CompCat.Diagram.TikZ.Property[CompCat.Diagram.TikZ.Property(\"draw\",#NULL),CompCat.Diagram.TikZ.Property(\"solid\",#NULL),CompCat.Diagram.TikZ.Property(\"inner sep\",\"0.333em\"),CompCat.Diagram.TikZ.Property(\"rectangle\",#NULL),CompCat.Diagram.TikZ.Property(\"sharp corners\",#NULL),CompCat.Diagram.TikZ.Property(\"minimum height\",\"2.0em\"),CompCat.Diagram.TikZ.Property(\"below=0.5em of n32\",#NULL)],#NULL,\"\\\\mathrm{sin}\")],CompCat.Diagram.TikZ.Property[])),CompCat.Diagram.TikZ.Edge(\"n2 point.45\",\"n31.west\",CompCat.Diagram.TikZ.PathOperation(\"to\",CompCat.Diagram.TikZ.Property[CompCat.Diagram.TikZ.Property(\"out\",\"45\"),CompCat.Diagram.TikZ.Property(\"in\",\"180\")]),CompCat.Diagram.TikZ.Property[],#NULL),CompCat.Diagram.TikZ.Edge(\"n2 point.0\",\"n32.west\",CompCat.Diagram.TikZ.PathOperation(\"to\",CompCat.Diagram.TikZ.Property[CompCat.Diagram.TikZ.Property(\"out\",\"0\"),CompCat.Diagram.TikZ.Property(\"in\",\"180\")]),CompCat.Diagram.TikZ.Property[],#NULL),CompCat.Diagram.TikZ.Edge(\"n2 point.315\",\"n33.west\",CompCat.Diagram.TikZ.PathOperation(\"to\",CompCat.Diagram.TikZ.Property[CompCat.Diagram.TikZ.Property(\"out\",\"315\"),CompCat.Diagram.TikZ.Property(\"in\",\"180\")]),CompCat.Diagram.TikZ.Property[],#NULL),CompCat.Diagram.TikZ.Node(\"n4\",CompCat.Diagram.TikZ.Property[CompCat.Diagram.TikZ.Property(\"minimum height\",\"7.0em\"),CompCat.Diagram.TikZ.Property(\"right=2em of n3)\",#NULL)],#NULL,\"\"),CompCat.Diagram.TikZ.Edge(\"n31.east\",\"\\$(n4.center)+(0,2.5em)\\$\",CompCat.Diagram.TikZ.PathOperation(\"to\",CompCat.Diagram.TikZ.Property[CompCat.Diagram.TikZ.Property(\"out\",\"0\"),CompCat.Diagram.TikZ.Property(\"in\",\"180\")]),CompCat.Diagram.TikZ.Property[],#NULL),CompCat.Diagram.TikZ.Edge(\"n32.east\",\"\\$(n4.center)+(0,0.0em)\\$\",CompCat.Diagram.TikZ.PathOperation(\"to\",CompCat.Diagram.TikZ.Property[CompCat.Diagram.TikZ.Property(\"out\",\"0\"),CompCat.Diagram.TikZ.Property(\"in\",\"180\")]),CompCat.Diagram.TikZ.Property[],#NULL),CompCat.Diagram.TikZ.Edge(\"n33.east\",\"\\$(n4.center)+(0,-2.5em)\\$\",CompCat.Diagram.TikZ.PathOperation(\"to\",CompCat.Diagram.TikZ.Property[CompCat.Diagram.TikZ.Property(\"out\",\"0\"),CompCat.Diagram.TikZ.Property(\"in\",\"180\")]),CompCat.Diagram.TikZ.Property[],#NULL)],CompCat.Diagram.TikZ.Property[]))],CompCat.Diagram.TikZ.Property[CompCat.Diagram.TikZ.Property(\"remember picture\",#NULL),CompCat.Diagram.TikZ.Property(\"font\",\"{\\\\fontsize{12}{14.4}}\"),CompCat.Diagram.TikZ.Property(\"container/.style\",\"{inner sep=0}\"),CompCat.Diagram.TikZ.Property(\"every path/.style\",\"{solid, line width=0.4pt}\"),CompCat.Diagram.TikZ.Property(\"execute at begin node\",\"\\$\"),CompCat.Diagram.TikZ.Property(\"execute at end node\",\"\\$\")])"
      ]
     },
     "execution_count": 8,
     "metadata": {},
     "output_type": "execute_result"
    }
   ],
   "source": [
    "wiring_diagram(f; labels=false)"
   ]
  },
  {
   "cell_type": "code",
   "execution_count": 9,
   "metadata": {
    "collapsed": false
   },
   "outputs": [
    {
     "data": {
      "text/plain": [
       ":(function ##hom#465(##x#466)\n",
       "        ##467 = sin(##x#466)\n",
       "        ##468 = cos(##x#466)\n",
       "        ##469 = sin(##x#466)\n",
       "        return [##467 ##468 ##469]\n",
       "    end)"
      ]
     },
     "execution_count": 9,
     "metadata": {},
     "output_type": "execute_result"
    }
   ],
   "source": [
    "compile_expr(f)"
   ]
  }
 ],
 "metadata": {
  "kernelspec": {
   "display_name": "Julia 0.5.1",
   "language": "julia",
   "name": "julia-0.5"
  },
  "language_info": {
   "file_extension": ".jl",
   "mimetype": "application/julia",
   "name": "julia",
   "version": "0.5.1"
  }
 },
 "nbformat": 4,
 "nbformat_minor": 2
}
